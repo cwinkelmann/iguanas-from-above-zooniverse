{
 "cells": [
  {
   "cell_type": "markdown",
   "id": "306034533dcead43",
   "metadata": {},
   "source": [
    "# Using the Panoptes Aggregation Tool from Zooniverse\n",
    "https://aggregation-caesar.zooniverse.org/Scripts.html#scripts\n"
   ]
  },
  {
   "cell_type": "code",
   "execution_count": 1,
   "id": "145bce94f139f8ae",
   "metadata": {
    "ExecuteTime": {
     "end_time": "2024-04-12T07:33:41.136995Z",
     "start_time": "2024-04-12T07:33:41.132283Z"
    },
    "collapsed": false,
    "jupyter": {
     "outputs_hidden": false
    }
   },
   "outputs": [
    {
     "data": {
      "text/plain": [
       "{'annotations_source': PosixPath('/Users/christian/data/zooniverse/IguanasFromAbove/2023-10-15/iguanas-from-above-classifications.csv'),\n",
       " 'goldstandard_data': PosixPath('/Users/christian/data/zooniverse/Images/Zooniverse_Goldstandard_images/expert-GS-3rdphase_renamed.csv'),\n",
       " 'gold_standard_image_subset': PosixPath('/Users/christian/data/zooniverse/Images/Zooniverse_Goldstandard_images/3-T2-GS-results-5th-0s.csv'),\n",
       " 'image_source': None,\n",
       " 'yes_no_dataset': PosixPath('/Users/christian/data/zooniverse/2024_04_12_analysis/Iguanas 3rd launch/yes_no_dataset_Iguanas 3rd launch.csv'),\n",
       " 'flat_dataset': PosixPath('/Users/christian/data/zooniverse/2024_04_12_analysis/Iguanas 3rd launch/flat_dataset_Iguanas 3rd launch.csv'),\n",
       " 'flat_panoptes_points': PosixPath('/Users/christian/data/zooniverse/2024_04_12_analysis/Iguanas 3rd launch/flat_panoptes_points_Iguanas 3rd launch.csv'),\n",
       " 'panoptes_question': PosixPath('/Users/christian/data/zooniverse/2024_04_12_analysis/Iguanas 3rd launch/panoptes_question_Iguanas 3rd launch.csv'),\n",
       " 'merged_dataset': PosixPath('/Users/christian/data/zooniverse/2024_04_12_analysis/Iguanas 3rd launch/flat_dataset_filtered_Iguanas 3rd launch.csv'),\n",
       " 'gold_standard_and_expert_count': PosixPath('/Users/christian/data/zooniverse/2024_04_12_analysis/Iguanas 3rd launch/Iguanas 3rd launch_gold_standard_and_expert_count.csv'),\n",
       " 'comparison_dataset': PosixPath('/Users/christian/data/zooniverse/2024_04_12_analysis/Iguanas 3rd launch/Iguanas 3rd launch_method_comparison.csv'),\n",
       " 'comparison_dataset_expert': PosixPath('/Users/christian/data/zooniverse/2024_04_12_analysis/Iguanas 3rd launch/Iguanas 3rd launch_method_comparison_expert.csv'),\n",
       " 'comparison_dataset_yes_no': PosixPath('/Users/christian/data/zooniverse/2024_04_12_analysis/Iguanas 3rd launch/Iguanas 3rd launch_method_comparison_yes_no.csv'),\n",
       " 'method_sums': PosixPath('/Users/christian/data/zooniverse/2024_04_12_analysis/Iguanas 3rd launch/Iguanas 3rd launch_method_sums.csv'),\n",
       " 'rmse_errors': PosixPath('/Users/christian/data/zooniverse/2024_04_12_analysis/Iguanas 3rd launch/Iguanas 3rd launch_rmse_errors.csv'),\n",
       " 'dbscan_hyperparam_grid': PosixPath('/Users/christian/data/zooniverse/2024_04_12_analysis/Iguanas 3rd launch/Iguanas 3rd launch_hyperparam_grid.csv')}"
      ]
     },
     "execution_count": 1,
     "metadata": {},
     "output_type": "execute_result"
    }
   ],
   "source": [
    "from zooniverse.config import get_config\n",
    "import pandas as pd\n",
    "from pathlib import Path\n",
    "\n",
    "### use either the subset of the subset\n",
    "#phase_tag = \"Iguanas 1st launch\"\n",
    "#data_folder = \"./data/phase_1\"\n",
    "\n",
    "# phase_tag = \"Iguanas 2nd launch\"\n",
    "# data_folder = \"./data/phase_2\"\n",
    "\n",
    "phase_tag = \"Iguanas 3rd launch\"\n",
    "data_folder = \"./data/phase_3\"\n",
    "\n",
    "workflow_id_p1 = 14370.0\n",
    "workflow_id_p2 = 20600.0\n",
    "workflow_id_p3 = 22040.0\n",
    "\n",
    "input_path = Path(\"/Users/christian/data/zooniverse\")\n",
    "\n",
    "# use_gold_standard_subset = \"expert\" # Use the expert-GS-Xphase as the basis\n",
    "output_path = Path(\"/Users/christian/data/zooniverse/2024_04_12_analysis\").joinpath(phase_tag).resolve()\n",
    "\n",
    "output_plot_path = output_path.joinpath(\"plots\")\n",
    "output_plot_path.mkdir(parents=True, exist_ok=True)\n",
    "\n",
    "config = get_config(phase_tag=phase_tag, input_path=input_path, output_path=output_path)\n",
    "\n",
    "\n",
    "config\n"
   ]
  },
  {
   "cell_type": "markdown",
   "id": "a76dff5a62b44242",
   "metadata": {
    "collapsed": false,
    "jupyter": {
     "outputs_hidden": false
    }
   },
   "source": [
    "# Look into the subjects file\n",
    "This contains the mappings from the subject_id to the image file"
   ]
  },
  {
   "cell_type": "code",
   "execution_count": 2,
   "id": "ece7fc9bd3cf0a32",
   "metadata": {
    "ExecuteTime": {
     "end_time": "2024-04-12T07:33:41.504996Z",
     "start_time": "2024-04-12T07:33:41.249220Z"
    },
    "collapsed": false,
    "jupyter": {
     "outputs_hidden": false
    }
   },
   "outputs": [
    {
     "name": "stderr",
     "output_type": "stream",
     "text": [
      "/var/folders/2k/78nn7s4548986wsjh29rhj9w0000gn/T/ipykernel_15830/4174789115.py:2: DtypeWarning: Columns (7,8) have mixed types. Specify dtype option on import or set low_memory=False.\n",
      "  df_subjects = pd.read_csv(\"./data/zooniverse/iguanas-from-above-subjects.csv\", sep=\",\")\n"
     ]
    }
   ],
   "source": [
    "# read the original file\n",
    "df_subjects = pd.read_csv(\"./data/zooniverse/iguanas-from-above-subjects.csv\", sep=\",\")\n",
    "\n"
   ]
  },
  {
   "cell_type": "code",
   "execution_count": 3,
   "id": "53a025bc435647a6",
   "metadata": {
    "ExecuteTime": {
     "end_time": "2024-04-12T07:33:41.516456Z",
     "start_time": "2024-04-12T07:33:41.506096Z"
    },
    "collapsed": false,
    "jupyter": {
     "outputs_hidden": false
    }
   },
   "outputs": [],
   "source": [
    "# filter the subjects for only the images in the three phases\n",
    "\n",
    "df_subjects = df_subjects[df_subjects.workflow_id.isin([workflow_id_p1, workflow_id_p2, workflow_id_p3])]\n"
   ]
  },
  {
   "cell_type": "code",
   "execution_count": 4,
   "id": "dca9d371b7ae48d3",
   "metadata": {
    "ExecuteTime": {
     "end_time": "2024-04-12T07:33:41.593897Z",
     "start_time": "2024-04-12T07:33:41.517235Z"
    },
    "collapsed": false,
    "jupyter": {
     "outputs_hidden": false
    }
   },
   "outputs": [
    {
     "name": "stdout",
     "output_type": "stream",
     "text": [
      "{'0'}\n"
     ]
    }
   ],
   "source": [
    "# inspect the metadata\n",
    "import json\n",
    "def get_json_keys(json_str):\n",
    "    try:\n",
    "        json_obj = json.loads(json_str)\n",
    "        return list(json_obj.keys())\n",
    "    except json.JSONDecodeError:\n",
    "        return []\n",
    "\n",
    "# Apply the function to each row in the metadata column and collect all keys\n",
    "all_keys = df_subjects['locations'].apply(get_json_keys)\n",
    "\n",
    "# Flatten the list of lists and get unique keys\n",
    "unique_keys = set([key for sublist in all_keys for key in sublist])\n",
    "\n",
    "print(unique_keys)"
   ]
  },
  {
   "cell_type": "markdown",
   "id": "e7c8610ef9cd718c",
   "metadata": {
    "collapsed": false,
    "jupyter": {
     "outputs_hidden": false
    }
   },
   "source": [
    "Clean up the subjects file"
   ]
  },
  {
   "cell_type": "code",
   "execution_count": 5,
   "id": "fd85800727c6759b",
   "metadata": {
    "ExecuteTime": {
     "end_time": "2024-04-12T07:33:42.017759Z",
     "start_time": "2024-04-12T07:33:41.595312Z"
    },
    "collapsed": false,
    "jupyter": {
     "outputs_hidden": false
    }
   },
   "outputs": [],
   "source": [
    "df_subjects[\"image_name\"] = df_subjects['metadata'].apply(lambda x: json.loads(x).get('Image_name') \n",
    "                                        or json.loads(x).get('image_name') \n",
    "                                        or json.loads(x).get('Filename')).sort_values(ascending=True)\n",
    "\n",
    "# 'site', 'flight', 'Flight', 'Site', 'flight_code' depict the same\n",
    "df_subjects[\"flight_code\"] = df_subjects['metadata'].apply(lambda x: json.loads(x).get('flight_code') \n",
    "                                        or json.loads(x).get('site') \n",
    "                                        or json.loads(x).get('flight')\n",
    "                                        or json.loads(x).get('Flight')\n",
    "                                        or json.loads(x).get('Site')).sort_values(ascending=True)\n",
    "\n",
    "df_subjects[\"url\"] = df_subjects['locations'].apply(lambda x: json.loads(x)[\"0\"])\n",
    "df_subjects[\"filepath\"] = None"
   ]
  },
  {
   "cell_type": "code",
   "execution_count": 6,
   "id": "befdfc6395b89a03",
   "metadata": {
    "ExecuteTime": {
     "end_time": "2024-04-12T07:33:42.410214Z",
     "start_time": "2024-04-12T07:33:42.407389Z"
    },
    "collapsed": false,
    "jupyter": {
     "outputs_hidden": false
    }
   },
   "outputs": [
    {
     "name": "stderr",
     "output_type": "stream",
     "text": [
      "/Users/christian/PycharmProjects/iguanas-from-above-zooniverse/venv/lib/python3.9/site-packages/urllib3/__init__.py:34: NotOpenSSLWarning: urllib3 v2.0 only supports OpenSSL 1.1.1+, currently the 'ssl' module is compiled with 'LibreSSL 2.8.3'. See: https://github.com/urllib3/urllib3/issues/3020\n",
      "  warnings.warn(\n"
     ]
    }
   ],
   "source": [
    "from loguru import logger\n",
    "from time import sleep\n",
    "# helper function to download the images\n",
    "import requests\n",
    "\n",
    "def download_image(url, filename):\n",
    "    try:\n",
    "        response = requests.get(url)\n",
    "        if response.status_code == 200:\n",
    "            with open(filename, 'wb') as file:\n",
    "                file.write(response.content)\n",
    "            return True\n",
    "        else:\n",
    "            logger.warning(f\"Failed to download {url}\")\n",
    "            logger.error(response)\n",
    "            sleep(5)\n",
    "            return False\n",
    "    except Exception as e:\n",
    "        logger.error(e)\n",
    "        sleep(5)\n",
    "        return False"
   ]
  },
  {
   "cell_type": "markdown",
   "id": "b6577bcc8c9d6d2c",
   "metadata": {
    "collapsed": false,
    "jupyter": {
     "outputs_hidden": false
    }
   },
   "source": [
    "# Panoptes Data Extraction from Zooniverse\n",
    "## Panoptes config\n",
    "### Create the configuration files automatically\n",
    "The configurations were changed to custom workflow versions."
   ]
  },
  {
   "cell_type": "code",
   "execution_count": 7,
   "id": "80589cdde7999f5b",
   "metadata": {
    "ExecuteTime": {
     "end_time": "2024-04-12T07:33:42.648043Z",
     "start_time": "2024-04-12T07:33:42.646054Z"
    },
    "collapsed": false,
    "jupyter": {
     "outputs_hidden": false
    }
   },
   "outputs": [],
   "source": [
    "# create a configuration file from the workflow\n",
    "#!mkdir ./data/phase_1\n",
    "#! panoptes_aggregation config /Users/christian/data/zooniverse/IguanasFromAbove/2023-10-15/iguanas-from-above-workflows.csv 14370 --min_version 0 --max_version 142.245 -d ./data/phase_1\n",
    "# \n",
    "#!mkdir ./data/phase_2\n",
    "#! panoptes_aggregation config /Users/christian/data/zooniverse/IguanasFromAbove/2023-10-15/iguanas-from-above-workflows.csv 20600 --min_version 0 --max_version 94.166 -d ./data/phase_2\n",
    "# \n",
    "#!mkdir ./data/phase_3\n",
    "#! panoptes_aggregation config /Users/christian/data/zooniverse/IguanasFromAbove/2023-10-15/iguanas-from-above-workflows.csv 22040 --min_version 0 --max_version 9.63 -d ./data/phase_3"
   ]
  },
  {
   "cell_type": "markdown",
   "id": "3926c1b2ca3745ea",
   "metadata": {
    "collapsed": false,
    "jupyter": {
     "outputs_hidden": false
    }
   },
   "source": [
    "## Extract the data"
   ]
  },
  {
   "cell_type": "code",
   "execution_count": 8,
   "id": "d76485d137c3687",
   "metadata": {
    "ExecuteTime": {
     "end_time": "2024-04-12T07:37:19.794494Z",
     "start_time": "2024-04-12T07:33:42.648745Z"
    },
    "collapsed": false,
    "jupyter": {
     "outputs_hidden": false
    }
   },
   "outputs": [],
   "source": [
    "# phase 1\n",
    "if data_folder == \"./data/phase_1\":\n",
    "    !mkdir ./data/phase_1/V121.144\n",
    "    !mkdir ./data/phase_1/V134.236\n",
    "    \n",
    "    !panoptes_aggregation extract /Users/christian/data/zooniverse/IguanasFromAbove/2023-10-15/iguanas-from-above-classifications.csv -d ./data/phase_1/V121.144 ./data/phase_1/Extractor_config_workflow_14370_V121.144.yaml\n",
    "    \n",
    "    !panoptes_aggregation extract /Users/christian/data/zooniverse/IguanasFromAbove/2023-10-15/iguanas-from-above-classifications.csv -d ./data/phase_1/V134.236 ./data/phase_1/Extractor_config_workflow_14370_V134.236-1.yaml\n"
   ]
  },
  {
   "cell_type": "code",
   "execution_count": 9,
   "id": "7ab6b02efc27fd3e",
   "metadata": {
    "ExecuteTime": {
     "end_time": "2024-04-12T07:37:19.809051Z",
     "start_time": "2024-04-12T07:37:19.799508Z"
    },
    "collapsed": false,
    "jupyter": {
     "outputs_hidden": false
    }
   },
   "outputs": [],
   "source": [
    "if data_folder == \"./data/phase_2\":\n",
    "    # phase 2\n",
    "    \n",
    "    !mkdir ./data/phase_2/V89.162\n",
    "    !mkdir ./data/phase_2/V93.166\n",
    "    !mkdir ./data/phase_2/V94.166 \n",
    "    \n",
    "    !panoptes_aggregation extract /Users/christian/data/zooniverse/IguanasFromAbove/2023-10-15/iguanas-from-above-classifications.csv -d ./data/phase_2/V89.162 ./data/phase_2/Extractor_config_workflow_20600_V89.162.yaml\n",
    "    !panoptes_aggregation extract /Users/christian/data/zooniverse/IguanasFromAbove/2023-10-15/iguanas-from-above-classifications.csv -d ./data/phase_2/V93.166 ./data/phase_2/Extractor_config_workflow_20600_V93.166.yaml\n",
    "    !panoptes_aggregation extract /Users/christian/data/zooniverse/IguanasFromAbove/2023-10-15/iguanas-from-above-classifications.csv -d ./data/phase_2/V94.166 ./data/phase_2/Extractor_config_workflow_20600_V94.166.yaml\n",
    "\n"
   ]
  },
  {
   "cell_type": "code",
   "execution_count": null,
   "id": "aa74703ed0c24bc5",
   "metadata": {
    "ExecuteTime": {
     "end_time": "2024-04-12T07:37:19.814932Z",
     "start_time": "2024-04-12T07:37:19.809792Z"
    },
    "collapsed": false,
    "jupyter": {
     "outputs_hidden": false
    }
   },
   "outputs": [
    {
     "name": "stdout",
     "output_type": "stream",
     "text": [
      "mkdir: ./data/phase_3/V7.63: File exists\n",
      "mkdir: ./data/phase_3/V9.63: File exists\n",
      "/Users/christian/PycharmProjects/iguanas-from-above-zooniverse/venv/lib/python3.9/site-packages/panoptes_aggregation/scripts/extract_panoptes_csv.py:68: DtypeWarning: Columns (8,9) have mixed types. Specify dtype option on import or set low_memory=False.\n",
      "  classifications = pandas.read_csv(classification_csv_in, encoding='utf-8', dtype={'workflow_version': str})\n",
      "Extracting: 100% |#############################################| Time:  0:00:02\n",
      "/Users/christian/PycharmProjects/iguanas-from-above-zooniverse/venv/lib/python3.9/site-packages/panoptes_aggregation/scripts/extract_panoptes_csv.py:68: DtypeWarning: Columns (8,9) have mixed types. Specify dtype option on import or set low_memory=False.\n",
      "  classifications = pandas.read_csv(classification_csv_in, encoding='utf-8', dtype={'workflow_version': str})\n",
      "Extracting:  66% |#############################                | ETA:   0:01:15"
     ]
    }
   ],
   "source": [
    "if data_folder == \"./data/phase_3\":\n",
    "    !mkdir ./data/phase_3/V7.63\n",
    "    !mkdir ./data/phase_3/V9.63\n",
    "    \n",
    "    !panoptes_aggregation extract /Users/christian/data/zooniverse/IguanasFromAbove/2023-10-15/iguanas-from-above-classifications.csv -d ./data/phase_3/V7.63 ./data/phase_3/Extractor_config_workflow_22040_V7.63.yaml\n",
    "    !panoptes_aggregation extract /Users/christian/data/zooniverse/IguanasFromAbove/2023-10-15/iguanas-from-above-classifications.csv -d ./data/phase_3/V9.63 ./data/phase_3/Extractor_config_workflow_22040_V9.63.yaml"
   ]
  },
  {
   "cell_type": "markdown",
   "id": "af3dbedc1768b0ed",
   "metadata": {
    "collapsed": false,
    "jupyter": {
     "outputs_hidden": false
    }
   },
   "source": [
    "\n",
    "\n"
   ]
  },
  {
   "cell_type": "markdown",
   "id": "627dcf3904529cee",
   "metadata": {
    "collapsed": false,
    "jupyter": {
     "outputs_hidden": false
    }
   },
   "source": [
    "### Merge the single point and questions extractions"
   ]
  },
  {
   "cell_type": "code",
   "execution_count": null,
   "id": "d8ea83ced96e1e6f",
   "metadata": {
    "ExecuteTime": {
     "end_time": "2024-04-12T07:37:22.262552Z",
     "start_time": "2024-04-12T07:37:19.817718Z"
    },
    "collapsed": false,
    "jupyter": {
     "outputs_hidden": false
    }
   },
   "outputs": [],
   "source": [
    "# phase 1\n",
    "if data_folder == \"./data/phase_1\":\n",
    "    df_panoptes_point_extractor_1 = pd.read_csv(f\"./data/phase_1/V121.144/point_extractor_by_frame_extractions.csv\", sep=\",\")\n",
    "    df_panoptes_point_extractor_2 = pd.read_csv(f\"./data/phase_1/V134.236/point_extractor_by_frame_extractions.csv\", sep=\",\")\n",
    "    df_panoptes_point_extractor_1[\"workflow_version\"] = \"121.144\"\n",
    "    df_panoptes_point_extractor_2[\"workflow_version\"] = \"134.236\"\n",
    "    \n",
    "    df_panoptes_question_1 = pd.read_csv(f\"{data_folder}/V121.144/question_extractor_extractions.csv\", sep=\",\")\n",
    "    df_panoptes_question_2 = pd.read_csv(f\"{data_folder}/V134.236/question_extractor_extractions.csv\", sep=\",\")\n",
    "    \n",
    "    df_panoptes_point_extractor = pd.concat([df_panoptes_point_extractor_1, df_panoptes_point_extractor_2], axis=0)\n",
    "    df_panoptes_question = pd.concat([df_panoptes_question_1, df_panoptes_question_2], axis=0)\n",
    "    \n",
    "    df_panoptes_point_extractor"
   ]
  },
  {
   "cell_type": "code",
   "execution_count": null,
   "id": "84f01a4d5c7f0334",
   "metadata": {
    "ExecuteTime": {
     "end_time": "2024-04-12T07:37:22.266504Z",
     "start_time": "2024-04-12T07:37:22.263295Z"
    },
    "collapsed": false,
    "jupyter": {
     "outputs_hidden": false
    }
   },
   "outputs": [],
   "source": [
    "# # phase 2\n",
    "if data_folder == \"./data/phase_2\":\n",
    "    # read the rectangles annotations too there\n",
    "    df_panotes_rectangle_extractor_1 = pd.read_csv(f\"{data_folder}/V89.162/shape_extractor_rectangle_extractions.csv\", sep=\",\")\n",
    "    \n",
    "    df_panoptes_point_extractor_1 = pd.read_csv(f\"{data_folder}/V89.162/point_extractor_by_frame_extractions.csv\", sep=\",\")\n",
    "    df_panoptes_point_extractor_2 = pd.read_csv(f\"{data_folder}/V93.166/point_extractor_by_frame_extractions.csv\", sep=\",\")\n",
    "    df_panoptes_point_extractor_3 = pd.read_csv(f\"{data_folder}/V94.166/point_extractor_by_frame_extractions.csv\", sep=\",\")\n",
    "    \n",
    "    df_panoptes_point_extractor_1[\"workflow_version\"] = \"89.162\"\n",
    "    df_panoptes_point_extractor_2[\"workflow_version\"] = \"93.166\"\n",
    "    df_panoptes_point_extractor_3[\"workflow_version\"] = \"94.166\"\n",
    "    \n",
    "    df_panoptes_question_1 = pd.read_csv(f\"{data_folder}/V89.162/question_extractor_extractions.csv\", sep=\",\")\n",
    "    df_panoptes_question_2 = pd.read_csv(f\"{data_folder}/V93.166/question_extractor_extractions.csv\", sep=\",\")\n",
    "    df_panoptes_question_3 = pd.read_csv(f\"{data_folder}/V94.166/question_extractor_extractions.csv\", sep=\",\")\n",
    "    \n",
    "    \n",
    "    df_panoptes_point_extractor = pd.concat([df_panoptes_point_extractor_1, df_panoptes_point_extractor_2, df_panoptes_point_extractor_2], axis=0)\n",
    "    df_panoptes_question = pd.concat([df_panoptes_question_1, df_panoptes_question_2, df_panoptes_question_3], axis=0)\n",
    "\n",
    "    df_panotes_rectangle_extractor_1"
   ]
  },
  {
   "cell_type": "code",
   "execution_count": null,
   "id": "290588b8d957e42e",
   "metadata": {
    "ExecuteTime": {
     "end_time": "2024-04-12T07:37:22.270215Z",
     "start_time": "2024-04-12T07:37:22.267233Z"
    },
    "collapsed": false,
    "jupyter": {
     "outputs_hidden": false
    }
   },
   "outputs": [],
   "source": [
    "if data_folder == \"./data/phase_3\":\n",
    "    df_panoptes_point_extractor_1 = pd.read_csv(f\"{data_folder}/V7.63/point_extractor_by_frame_extractions.csv\", sep=\",\")\n",
    "    df_panoptes_point_extractor_2 = pd.read_csv(f\"{data_folder}/V9.63/point_extractor_by_frame_extractions.csv\", sep=\",\")\n",
    "    df_panoptes_point_extractor_1[\"workflow_version\"] = \"7.63\"\n",
    "    df_panoptes_point_extractor_2[\"workflow_version\"] = \"9.63\"\n",
    "\n",
    "    df_panoptes_question_1 = pd.read_csv(f\"{data_folder}/V7.63/question_extractor_extractions.csv\", sep=\",\")\n",
    "    df_panoptes_question_2 = pd.read_csv(f\"{data_folder}/V9.63/question_extractor_extractions.csv\", sep=\",\")\n",
    "\n",
    "    df_panoptes_point_extractor = pd.concat([df_panoptes_point_extractor_1, df_panoptes_point_extractor_2], axis=0)\n",
    "    df_panoptes_question = pd.concat([df_panoptes_question_1, df_panoptes_question_2], axis=0)\n"
   ]
  },
  {
   "cell_type": "code",
   "execution_count": null,
   "id": "425530a8a9acdc49",
   "metadata": {
    "ExecuteTime": {
     "end_time": "2024-04-12T07:37:23.066835Z",
     "start_time": "2024-04-12T07:37:22.270915Z"
    },
    "collapsed": false,
    "jupyter": {
     "outputs_hidden": false
    }
   },
   "outputs": [],
   "source": [
    "df_panoptes_point_extractor"
   ]
  },
  {
   "cell_type": "code",
   "execution_count": null,
   "id": "a1e2e015fdba1cb",
   "metadata": {
    "ExecuteTime": {
     "end_time": "2024-04-12T07:37:24.739491Z",
     "start_time": "2024-04-12T07:37:23.069451Z"
    },
    "collapsed": false,
    "jupyter": {
     "outputs_hidden": false
    }
   },
   "outputs": [],
   "source": [
    "# join the image name from the subjects file\n",
    "df_panoptes_point_extractor = df_panoptes_point_extractor.merge(df_subjects[[\"subject_id\", \"image_name\"]], left_on=\"subject_id\", right_on=\"subject_id\")\n",
    "df_panoptes_point_extractor = df_panoptes_point_extractor[df_panoptes_point_extractor.subject_id.isin(df_subjects.subject_id)]\n",
    "\n",
    "df_panoptes_point_extractor"
   ]
  },
  {
   "cell_type": "markdown",
   "id": "98655d7df058a64d",
   "metadata": {
    "collapsed": false,
    "jupyter": {
     "outputs_hidden": false
    }
   },
   "source": [
    "## Anonymise the data"
   ]
  },
  {
   "cell_type": "code",
   "execution_count": null,
   "id": "7053c0a8476989c3",
   "metadata": {
    "ExecuteTime": {
     "end_time": "2024-04-12T07:37:26.485436Z",
     "start_time": "2024-04-12T07:37:24.740252Z"
    },
    "collapsed": false,
    "jupyter": {
     "outputs_hidden": false
    }
   },
   "outputs": [],
   "source": [
    "from hashlib import blake2b\n",
    "\n",
    "df_panoptes_point_extractor[\"user_id\"] = df_panoptes_point_extractor['user_id'].apply(lambda x: blake2b(str(x).encode(), digest_size=16).hexdigest() if not pd.isnull(x) else x)\n",
    "# Anonymize 'user_name' by hashing\n",
    "df_panoptes_point_extractor['user_name'] = df_panoptes_point_extractor['user_name'].apply(lambda x: blake2b(x.encode(), digest_size=16).hexdigest() if isinstance(x, str) else x)\n",
    "\n",
    "df_panoptes_question[\"user_id\"] = df_panoptes_question['user_id'].apply(lambda x: blake2b(str(x).encode(), digest_size=16).hexdigest() if not pd.isnull(x) else x)\n",
    "# Anonymize 'user_name' by hashing\n",
    "df_panoptes_question['user_name'] = df_panoptes_question['user_name'].apply(lambda x: blake2b(x.encode(), digest_size=16).hexdigest() if isinstance(x, str) else x)"
   ]
  },
  {
   "cell_type": "code",
   "execution_count": null,
   "id": "672c51cc23c3b710",
   "metadata": {
    "ExecuteTime": {
     "end_time": "2024-04-12T07:37:27.408690Z",
     "start_time": "2024-04-12T07:37:26.486244Z"
    },
    "collapsed": false,
    "jupyter": {
     "outputs_hidden": false
    }
   },
   "outputs": [],
   "source": [
    "df_panoptes_point_extractor"
   ]
  },
  {
   "cell_type": "markdown",
   "id": "87cd528b792893ae",
   "metadata": {
    "collapsed": false,
    "jupyter": {
     "outputs_hidden": false
    }
   },
   "source": [
    "## Determine the amount of yes Answers for \"Is there an Iguana\""
   ]
  },
  {
   "cell_type": "code",
   "execution_count": null,
   "id": "f06344cdbad0cb10",
   "metadata": {
    "ExecuteTime": {
     "end_time": "2024-04-12T07:37:27.416743Z",
     "start_time": "2024-04-12T07:37:27.409475Z"
    },
    "collapsed": false,
    "jupyter": {
     "outputs_hidden": false
    }
   },
   "outputs": [],
   "source": [
    "df_panoptes_question"
   ]
  },
  {
   "cell_type": "code",
   "execution_count": null,
   "id": "9974ba73721e5802",
   "metadata": {
    "ExecuteTime": {
     "end_time": "2024-04-12T07:37:27.519668Z",
     "start_time": "2024-04-12T07:37:27.417370Z"
    },
    "collapsed": false,
    "jupyter": {
     "outputs_hidden": false
    }
   },
   "outputs": [],
   "source": [
    "df_panoptes_question_r = df_panoptes_question[df_panoptes_question.task == \"T0\"][[\"subject_id\", \"data.no\", \"data.yes\"]].groupby(\"subject_id\").sum()\n",
    "\n",
    "df_panoptes_question_r = df_panoptes_question_r.reset_index()\n",
    "df_panoptes_question_r = df_panoptes_question_r[df_panoptes_question_r.subject_id.isin(df_subjects.subject_id)]\n",
    "df_panoptes_question_r"
   ]
  },
  {
   "cell_type": "code",
   "execution_count": null,
   "id": "1751baa417c614c9",
   "metadata": {
    "ExecuteTime": {
     "end_time": "2024-04-12T07:37:27.546209Z",
     "start_time": "2024-04-12T07:37:27.521166Z"
    },
    "collapsed": false,
    "jupyter": {
     "outputs_hidden": false
    }
   },
   "outputs": [],
   "source": [
    "df_panoptes_question_r.to_csv(output_path / config[\"panoptes_question\"], index = False)"
   ]
  },
  {
   "cell_type": "markdown",
   "id": "b88625d141e60114",
   "metadata": {
    "collapsed": false,
    "jupyter": {
     "outputs_hidden": false
    }
   },
   "source": [
    "## Get the Point Marks Analysis Ready"
   ]
  },
  {
   "cell_type": "markdown",
   "id": "4a3f1b8c5f2596bb",
   "metadata": {
    "collapsed": false,
    "jupyter": {
     "outputs_hidden": false
    }
   },
   "source": [
    "Filter for T2 only"
   ]
  },
  {
   "cell_type": "code",
   "execution_count": null,
   "id": "3ed3cb8b4acbfa4f",
   "metadata": {
    "ExecuteTime": {
     "end_time": "2024-04-12T07:37:27.699500Z",
     "start_time": "2024-04-12T07:37:27.546967Z"
    },
    "collapsed": false,
    "jupyter": {
     "outputs_hidden": false
    }
   },
   "outputs": [],
   "source": [
    "df_panoptes_point_extractor_r = df_panoptes_point_extractor[\n",
    "    (df_panoptes_point_extractor.task == \"T2\")\n",
    "]\n",
    "df_panoptes_point_extractor_r.columns"
   ]
  },
  {
   "cell_type": "markdown",
   "id": "1904d722c784ea8d",
   "metadata": {
    "collapsed": false,
    "jupyter": {
     "outputs_hidden": false
    }
   },
   "source": [
    "### Which tool is which now?\n",
    "| Tool Name               | Classification                               |\n",
    "|-------------------------|----------------------------------------------|\n",
    "| data.frame0.T2_tool0_x  | Adult Male in a lek                          |\n",
    "| data.frame0.T2_tool1_x  | Adult Male alone                             |\n",
    "| data.frame0.T2_tool2_x  | Others (females, young males, juveniles)     |\n",
    "| data.frame0.T2_tool3_x  | Partial iguana                               |\n",
    "| data.frame0.T2_tool4_x  | Could be an iguana, not sure                 |\n",
    "\n",
    "Is \"Could be an iguana, not sure\" and \"Partial Iguana\" are omitted.\n"
   ]
  },
  {
   "cell_type": "code",
   "execution_count": null,
   "id": "895d1e319dc99c4a",
   "metadata": {
    "ExecuteTime": {
     "end_time": "2024-04-12T07:37:30.116699Z",
     "start_time": "2024-04-12T07:37:27.700302Z"
    },
    "collapsed": false,
    "jupyter": {
     "outputs_hidden": false
    }
   },
   "outputs": [],
   "source": [
    "# create a flat structure from the nested marks over multiple columns from that.\n",
    "from ast import literal_eval\n",
    "\n",
    "columns_keep_x = ['data.frame0.T2_tool0_x', 'data.frame0.T2_tool1_x', 'data.frame0.T2_tool2_x']\n",
    "columns_keep_y = ['data.frame0.T2_tool0_y', 'data.frame0.T2_tool1_y', 'data.frame0.T2_tool2_y']\n",
    "\n",
    "for col in columns_keep_x + columns_keep_y:\n",
    "    df_panoptes_point_extractor_r[col] = df_panoptes_point_extractor_r[col].apply(lambda x: literal_eval(x) if pd.notnull(x) else [])\n",
    "\n",
    "# Merge the lists in 'x' and 'y' coordinates\n",
    "df_panoptes_point_extractor_r['x'] = df_panoptes_point_extractor_r[columns_keep_x].values.tolist()\n",
    "df_panoptes_point_extractor_r['y'] = df_panoptes_point_extractor_r[columns_keep_y].values.tolist()\n",
    "\n",
    "# Flatten the lists in each row for 'x' and 'y'\n",
    "df_panoptes_point_extractor_r['x'] = df_panoptes_point_extractor_r['x'].apply(lambda x: [item for sublist in x for item in sublist])\n",
    "df_panoptes_point_extractor_r['y'] = df_panoptes_point_extractor_r['y'].apply(lambda x: [item for sublist in x for item in sublist])\n",
    "\n",
    "# Explode the DataFrame to separate rows for each x, y pair\n",
    "# Note: This requires pandas >= 0.25 for simultaneous explode\n",
    "# df_panoptes_point_extractor_r_exploded = df_panoptes_point_extractor_r.apply(pd.Series.explode)\n",
    "\n",
    "# Explode the DataFrame based on these columns to get separate rows for each list element\n",
    "# Make sure to perform the explode operation on both columns simultaneously to keep the x and y coordinates paired\n",
    "df_panoptes_point_extractor_r"
   ]
  },
  {
   "cell_type": "code",
   "execution_count": null,
   "id": "d1dd3d9da30dac12",
   "metadata": {
    "ExecuteTime": {
     "end_time": "2024-04-12T07:37:30.265813Z",
     "start_time": "2024-04-12T07:37:30.117491Z"
    },
    "collapsed": false,
    "jupyter": {
     "outputs_hidden": false
    }
   },
   "outputs": [],
   "source": [
    "df_panoptes_point_extractor_r = df_panoptes_point_extractor_r[\n",
    "    ['classification_id', 'user_name', 'user_id', 'workflow_id', 'task',\n",
    "     'created_at', 'subject_id', \"image_name\",\n",
    "     'x', 'y'\n",
    "     ]].reset_index(drop=True)\n",
    "\n",
    "df_panoptes_point_extractor_r"
   ]
  },
  {
   "cell_type": "code",
   "execution_count": null,
   "id": "b84d1fb085664060",
   "metadata": {
    "ExecuteTime": {
     "end_time": "2024-04-12T07:37:30.483687Z",
     "start_time": "2024-04-12T07:37:30.266657Z"
    },
    "collapsed": false,
    "jupyter": {
     "outputs_hidden": false
    }
   },
   "outputs": [],
   "source": [
    "# explode the lists of marks per user into one row per mark\n",
    "df_panoptes_point_extractor_r_ex = df_panoptes_point_extractor_r.apply(lambda x: x.explode() if x.name in ['x', 'y'] else x)"
   ]
  },
  {
   "cell_type": "code",
   "execution_count": null,
   "id": "7f88cb7f25c52568",
   "metadata": {
    "ExecuteTime": {
     "end_time": "2024-04-12T07:37:30.526876Z",
     "start_time": "2024-04-12T07:37:30.488128Z"
    },
    "collapsed": false,
    "jupyter": {
     "outputs_hidden": false
    }
   },
   "outputs": [],
   "source": [
    "# images with no marks have NaN values in the 'merged_x' and 'merged_y' columns\n",
    "df_panoptes_point_extractor_r_ex_dropped = df_panoptes_point_extractor_r_ex.dropna(subset=['x', 'y'], how='all').sort_values(by=['user_id', 'subject_id', 'task', 'created_at'])\n",
    "df_panoptes_point_extractor_r_ex_dropped"
   ]
  },
  {
   "cell_type": "code",
   "execution_count": null,
   "id": "b3a0beb695d8f28e",
   "metadata": {
    "ExecuteTime": {
     "end_time": "2024-04-12T07:37:30.536313Z",
     "start_time": "2024-04-12T07:37:30.527620Z"
    },
    "collapsed": false,
    "jupyter": {
     "outputs_hidden": false
    }
   },
   "outputs": [],
   "source": [
    "# cast x and y to int\n",
    "df_panoptes_point_extractor_r_ex_dropped = df_panoptes_point_extractor_r_ex_dropped.astype({'x': 'int32', 'y': 'int32'})\n",
    "df_panoptes_point_extractor_r_ex_dropped"
   ]
  },
  {
   "cell_type": "code",
   "execution_count": null,
   "id": "6852db7c1077de6",
   "metadata": {
    "ExecuteTime": {
     "end_time": "2024-04-12T07:37:30.599415Z",
     "start_time": "2024-04-12T07:37:30.536984Z"
    },
    "collapsed": false,
    "jupyter": {
     "outputs_hidden": false
    }
   },
   "outputs": [],
   "source": [
    "df_panoptes_point_extractor_r_ex_dropped.to_csv(config[\"flat_panoptes_points\"], sep=\",\", index = False)"
   ]
  },
  {
   "cell_type": "markdown",
   "id": "18a9d6b4d094619e",
   "metadata": {
    "collapsed": false,
    "jupyter": {
     "outputs_hidden": false
    }
   },
   "source": [
    "## Inspecting the results\n",
    "Check the numbers for a single subject_id"
   ]
  },
  {
   "cell_type": "code",
   "execution_count": null,
   "id": "71db8866ca74ff92",
   "metadata": {
    "ExecuteTime": {
     "end_time": "2024-04-12T07:37:30.607739Z",
     "start_time": "2024-04-12T07:37:30.600296Z"
    },
    "collapsed": false,
    "jupyter": {
     "outputs_hidden": false
    }
   },
   "outputs": [],
   "source": [
    "### Looks the images in question\n",
    "\n",
    "subject_id_1 = 47968423\n",
    "subject_id_2 = 47969478\n",
    "df_panoptes_point_extractor_r_ex_dropped[(df_panoptes_point_extractor_r_ex_dropped.subject_id == subject_id_2)]"
   ]
  },
  {
   "cell_type": "markdown",
   "id": "e61c47399cf2cc3c",
   "metadata": {
    "collapsed": false,
    "jupyter": {
     "outputs_hidden": false
    }
   },
   "source": [
    "## Download images\n",
    "iguanas-from-above-subjects_with_url.csv will be used to track which url was already downlaoded."
   ]
  },
  {
   "cell_type": "code",
   "execution_count": null,
   "id": "b9279ce089ee45da",
   "metadata": {
    "collapsed": false,
    "jupyter": {
     "outputs_hidden": false
    }
   },
   "outputs": [],
   "source": [
    "## save the file the extra columns we need for downloading.\n",
    "df_subjects.to_csv(output_path / \"iguanas-from-above-subjects_with_url.csv\")\n",
    "\n",
    "\n",
    "# read the modified csv\n",
    "df_subjects = pd.read_csv(output_path / \"iguanas-from-above-subjects_with_url.csv\")\n",
    "df_subjects"
   ]
  },
  {
   "cell_type": "code",
   "execution_count": null,
   "id": "520289e3dd31ca98",
   "metadata": {
    "ExecuteTime": {
     "end_time": "2024-04-12T07:39:25.996019Z",
     "start_time": "2024-04-12T07:37:30.608681Z"
    },
    "collapsed": false,
    "jupyter": {
     "outputs_hidden": false
    }
   },
   "outputs": [],
   "source": [
    "# df_subjects = pd.read_csv(output_path / \"iguanas-from-above-subjects_with_url.csv\")\n",
    "\n",
    "# downoaded_images_path = Path(\"./data/downloaded_images\")\n",
    "# downoaded_images_path.mkdir(exist_ok=True, parents=True)\n",
    "# return_val = True\n",
    "# # df = df_subjects[df_subjects.subject_id.isin([44660616, 47968406])]\n",
    "# # df = df_subjects[df_subjects.subject_id.isin([44660616, 47968406])]\n",
    "# for index, row in df_subjects[df_subjects.workflow_id.isin([workflow_id_p1])].iterrows():\n",
    "#     # Only download if necessary\n",
    "#     if pd.isna(row.get(\"filepath\")) or not row.get(\"filepath\", False):\n",
    "#         flight_code = row['flight_code']\n",
    "#         url = row['url']\n",
    "#         image_name = Path(row['image_name']).name\n",
    "#         # Extract the filename from the URL and create a unique name using index\n",
    "#         filename = downoaded_images_path.joinpath(f\"{image_name}_{row['subject_id']}_{flight_code}.jpeg\")\n",
    "#         df_subjects.loc[index, 'filepath'] = filename\n",
    "#         # Download the image\n",
    "#         return_val = download_image(url, filename)\n",
    "# \n",
    "#         # print(f\"Downloaded {filename}\")\n",
    "#     if return_val == False:\n",
    "#         print(\"there was a problem\")\n",
    "#         # break\n",
    "        "
   ]
  },
  {
   "cell_type": "code",
   "execution_count": null,
   "id": "42eddb1202ccbbe2",
   "metadata": {
    "collapsed": false,
    "jupyter": {
     "outputs_hidden": false
    }
   },
   "outputs": [],
   "source": [
    "df_subjects.to_csv(output_path / \"iguanas-from-above-subjects_with_url.csv\")"
   ]
  }
 ],
 "metadata": {
  "kernelspec": {
   "display_name": "Python 3 (ipykernel)",
   "language": "python",
   "name": "python3"
  },
  "language_info": {
   "codemirror_mode": {
    "name": "ipython",
    "version": 3
   },
   "file_extension": ".py",
   "mimetype": "text/x-python",
   "name": "python",
   "nbconvert_exporter": "python",
   "pygments_lexer": "ipython3",
   "version": "3.9.6"
  }
 },
 "nbformat": 4,
 "nbformat_minor": 5
}
