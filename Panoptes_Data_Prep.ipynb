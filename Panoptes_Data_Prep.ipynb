{
 "cells": [
  {
   "cell_type": "markdown",
   "id": "306034533dcead43",
   "metadata": {},
   "source": [
    "# Using the Panoptes Aggregation Tool from Zooniverse\n",
    "https://aggregation-caesar.zooniverse.org/Scripts.html#scripts\n",
    "\n",
    "This notebook combines the aggregation steps from the raw classification from zooniverse.\n",
    "Installed from github.\n"
   ]
  },
  {
   "cell_type": "code",
   "execution_count": 61,
   "id": "145bce94f139f8ae",
   "metadata": {
    "collapsed": false,
    "ExecuteTime": {
     "end_time": "2024-08-08T10:15:01.512012Z",
     "start_time": "2024-08-08T10:15:01.506346Z"
    }
   },
   "outputs": [
    {
     "data": {
      "text/plain": "{'annotations_source': PosixPath('/Users/christian/data/zooniverse/IguanasFromAbove/2023-10-15/iguanas-from-above-classifications.csv'),\n 'goldstandard_data': PosixPath('/Users/christian/data/zooniverse/Images/Zooniverse_Goldstandard_images/expert-GS-3rdphase_renamed.csv'),\n 'gold_standard_image_subset': PosixPath('/Users/christian/data/zooniverse/Images/Zooniverse_Goldstandard_images/3-T2-GS-results-5th-0s.csv'),\n 'image_source': None,\n 'yes_no_dataset': PosixPath('/Users/christian/data/zooniverse/2024_08_25_analysis/Iguanas 3rd launch/yes_no_dataset_Iguanas 3rd launch.csv'),\n 'flat_dataset': PosixPath('/Users/christian/data/zooniverse/2024_08_25_analysis/Iguanas 3rd launch/flat_dataset_Iguanas 3rd launch.csv'),\n 'flat_panoptes_points': PosixPath('/Users/christian/data/zooniverse/2024_08_25_analysis/Iguanas 3rd launch/flat_panoptes_points_Iguanas 3rd launch.csv'),\n 'panoptes_question': PosixPath('/Users/christian/data/zooniverse/2024_08_25_analysis/Iguanas 3rd launch/panoptes_question_Iguanas 3rd launch.csv'),\n 'merged_dataset': PosixPath('/Users/christian/data/zooniverse/2024_08_25_analysis/Iguanas 3rd launch/flat_dataset_filtered_Iguanas 3rd launch.csv'),\n 'gold_standard_and_expert_count': PosixPath('/Users/christian/data/zooniverse/2024_08_25_analysis/Iguanas 3rd launch/Iguanas 3rd launch_gold_standard_and_expert_count.csv'),\n 'comparison_dataset': PosixPath('/Users/christian/data/zooniverse/2024_08_25_analysis/Iguanas 3rd launch/Iguanas 3rd launch_method_comparison.csv'),\n 'comparison_dataset_expert': PosixPath('/Users/christian/data/zooniverse/2024_08_25_analysis/Iguanas 3rd launch/Iguanas 3rd launch_method_comparison_expert.csv'),\n 'comparison_dataset_yes_no': PosixPath('/Users/christian/data/zooniverse/2024_08_25_analysis/Iguanas 3rd launch/Iguanas 3rd launch_method_comparison_yes_no.csv'),\n 'method_sums': PosixPath('/Users/christian/data/zooniverse/2024_08_25_analysis/Iguanas 3rd launch/Iguanas 3rd launch_method_sums.csv'),\n 'rmse_errors': PosixPath('/Users/christian/data/zooniverse/2024_08_25_analysis/Iguanas 3rd launch/Iguanas 3rd launch_rmse_errors.csv'),\n 'dbscan_hyperparam_grid': PosixPath('/Users/christian/data/zooniverse/2024_08_25_analysis/Iguanas 3rd launch/Iguanas 3rd launch_hyperparam_grid.csv')}"
     },
     "execution_count": 61,
     "metadata": {},
     "output_type": "execute_result"
    }
   ],
   "source": [
    "from zooniverse.config import get_config\n",
    "import pandas as pd\n",
    "from pathlib import Path\n",
    "\n",
    "### use either the subset of the subset\n",
    "#phase_tag = \"Iguanas 1st launch\"\n",
    "#data_folder = \"./data/phase_1\"\n",
    "## \n",
    "\n",
    "# phase_tag = \"Iguanas 2nd launch\"\n",
    "# data_folder = \"./data/phase_2\"\n",
    "\n",
    "phase_tag = \"Iguanas 3rd launch\"\n",
    "data_folder = \"./data/phase_3\"\n",
    "\n",
    "input_path = Path(\"/Users/christian/data/zooniverse\")\n",
    "# use_gold_standard_subset = \"expert\" # Use the expert-GS-Xphase as the basis\n",
    "output_path = Path(\"/Users/christian/data/zooniverse/2024_08_25_analysis\").joinpath(phase_tag).resolve()\n",
    "\n",
    "workflow_id_p1 = 14370.0\n",
    "workflow_id_p2 = 20600.0\n",
    "workflow_id_p3 = 22040.0\n",
    "\n",
    "output_plot_path = output_path.joinpath(\"plots\")\n",
    "output_plot_path.mkdir(parents=True, exist_ok=True)\n",
    "\n",
    "reprocess = False\n",
    "\n",
    "config = get_config(phase_tag=phase_tag, input_path=input_path, output_path=output_path)\n",
    "config\n"
   ]
  },
  {
   "cell_type": "markdown",
   "id": "a76dff5a62b44242",
   "metadata": {
    "collapsed": false
   },
   "source": [
    "# Look into the subjects file\n",
    "This contains the mappings from the subject_id to the image file"
   ]
  },
  {
   "cell_type": "code",
   "execution_count": 62,
   "id": "ece7fc9bd3cf0a32",
   "metadata": {
    "collapsed": false,
    "ExecuteTime": {
     "end_time": "2024-08-08T10:15:01.835795Z",
     "start_time": "2024-08-08T10:15:01.597808Z"
    }
   },
   "outputs": [],
   "source": [
    "# read the original file\n",
    "df_subjects = pd.read_csv(\"./data/zooniverse/iguanas-from-above-subjects.csv\", sep=\",\")\n"
   ]
  },
  {
   "cell_type": "code",
   "execution_count": 63,
   "id": "53a025bc435647a6",
   "metadata": {
    "collapsed": false,
    "ExecuteTime": {
     "end_time": "2024-08-08T10:15:01.848456Z",
     "start_time": "2024-08-08T10:15:01.836795Z"
    }
   },
   "outputs": [],
   "source": [
    "# filter the subjects for only the images in the three phases\n",
    "\n",
    "df_subjects = df_subjects[df_subjects.workflow_id.isin([workflow_id_p1, workflow_id_p2, workflow_id_p3])]\n"
   ]
  },
  {
   "cell_type": "code",
   "execution_count": 64,
   "id": "dca9d371b7ae48d3",
   "metadata": {
    "collapsed": false,
    "ExecuteTime": {
     "end_time": "2024-08-08T10:15:01.926368Z",
     "start_time": "2024-08-08T10:15:01.849397Z"
    }
   },
   "outputs": [
    {
     "name": "stdout",
     "output_type": "stream",
     "text": [
      "{'0'}\n"
     ]
    }
   ],
   "source": [
    "# inspect the metadata\n",
    "import json\n",
    "def get_json_keys(json_str):\n",
    "    try:\n",
    "        json_obj = json.loads(json_str)\n",
    "        return list(json_obj.keys())\n",
    "    except json.JSONDecodeError:\n",
    "        return []\n",
    "\n",
    "# Apply the function to each row in the metadata column and collect all keys\n",
    "all_keys = df_subjects['locations'].apply(get_json_keys)\n",
    "\n",
    "# Flatten the list of lists and get unique keys\n",
    "unique_keys = set([key for sublist in all_keys for key in sublist])\n",
    "\n",
    "print(unique_keys)"
   ]
  },
  {
   "cell_type": "markdown",
   "id": "e7c8610ef9cd718c",
   "metadata": {
    "collapsed": false
   },
   "source": [
    "Clean up the subjects file for inconsistent naming."
   ]
  },
  {
   "cell_type": "code",
   "execution_count": 65,
   "id": "fd85800727c6759b",
   "metadata": {
    "collapsed": false,
    "ExecuteTime": {
     "end_time": "2024-08-08T10:15:02.427717Z",
     "start_time": "2024-08-08T10:15:01.927719Z"
    }
   },
   "outputs": [],
   "source": [
    "df_subjects[\"image_name\"] = df_subjects['metadata'].apply(lambda x: json.loads(x).get('Image_name') \n",
    "                                        or json.loads(x).get('image_name') \n",
    "                                        or json.loads(x).get('Filename')).sort_values(ascending=True)\n",
    "\n",
    "# 'site', 'flight', 'Flight', 'Site', 'flight_code' depict the same\n",
    "df_subjects[\"flight_code\"] = df_subjects['metadata'].apply(lambda x: json.loads(x).get('flight_code') \n",
    "                                        or json.loads(x).get('site') \n",
    "                                        or json.loads(x).get('flight')\n",
    "                                        or json.loads(x).get('Flight')\n",
    "                                        or json.loads(x).get('Site')).sort_values(ascending=True)\n",
    "\n",
    "df_subjects[\"url\"] = df_subjects['locations'].apply(lambda x: json.loads(x)[\"0\"])\n",
    "df_subjects[\"filepath\"] = None"
   ]
  },
  {
   "cell_type": "code",
   "outputs": [
    {
     "data": {
      "text/plain": "       subject_id  project_id  workflow_id  subject_set_id  \\\n190      47967468       11905      14370.0           86008   \n191      47967469       11905      14370.0           86008   \n192      47967470       11905      14370.0           86008   \n193      47967471       11905      14370.0           86008   \n194      47967472       11905      14370.0           86008   \n...           ...         ...          ...             ...   \n58027    78965182       11905      22040.0          106640   \n58028    78965183       11905      22040.0          106640   \n58029    78965184       11905      22040.0          106640   \n58030    78965185       11905      22040.0          106640   \n58031    78965186       11905      22040.0          106640   \n\n                                                metadata  \\\n190    {\"site\":\"SFB\",\"image_name\":\"SFB01-3_08.jpg\",\"s...   \n191    {\"site\":\"SFB\",\"image_name\":\"SFB01-3_15.jpg\",\"s...   \n192    {\"site\":\"SFB\",\"image_name\":\"SFB01-3_27.jpg\",\"s...   \n193    {\"site\":\"SFB\",\"image_name\":\"SFB01-3_28.jpg\",\"s...   \n194    {\"site\":\"SFB\",\"image_name\":\"SFB01-3_34.jpg\",\"s...   \n...                                                  ...   \n58027  {\"id\":\"476\",\"set\":\"SouthCoastH\",\"site\":\"SouthC...   \n58028  {\"id\":\"477\",\"set\":\"SouthCoastH\",\"site\":\"SouthC...   \n58029  {\"id\":\"478\",\"set\":\"SouthCoastH\",\"site\":\"SouthC...   \n58030  {\"id\":\"479\",\"set\":\"SouthCoastH\",\"site\":\"SouthC...   \n58031  {\"id\":\"480\",\"set\":\"SouthCoastH\",\"site\":\"SouthC...   \n\n                                               locations  \\\n190    {\"0\":\"https://panoptes-uploads.zooniverse.org/...   \n191    {\"0\":\"https://panoptes-uploads.zooniverse.org/...   \n192    {\"0\":\"https://panoptes-uploads.zooniverse.org/...   \n193    {\"0\":\"https://panoptes-uploads.zooniverse.org/...   \n194    {\"0\":\"https://panoptes-uploads.zooniverse.org/...   \n...                                                  ...   \n58027  {\"0\":\"https://panoptes-uploads.zooniverse.org/...   \n58028  {\"0\":\"https://panoptes-uploads.zooniverse.org/...   \n58029  {\"0\":\"https://panoptes-uploads.zooniverse.org/...   \n58030  {\"0\":\"https://panoptes-uploads.zooniverse.org/...   \n58031  {\"0\":\"https://panoptes-uploads.zooniverse.org/...   \n\n       classifications_count               retired_at     retirement_reason  \\\n190                       20  2020-11-15 19:06:16 UTC  classification_count   \n191                       20  2020-10-28 19:25:18 UTC  classification_count   \n192                       20  2020-11-14 10:07:19 UTC  classification_count   \n193                       20  2020-11-09 10:36:02 UTC  classification_count   \n194                       20  2020-11-18 20:44:36 UTC  classification_count   \n...                      ...                      ...                   ...   \n58027                     30  2023-06-04 20:04:00 UTC  classification_count   \n58028                     24  2023-08-30 16:43:06 UTC  classification_count   \n58029                     30  2023-07-14 13:55:55 UTC  classification_count   \n58030                     30  2023-07-20 04:37:58 UTC  classification_count   \n58031                     22  2023-09-11 22:46:23 UTC  classification_count   \n\n                    created_at               updated_at       image_name  \\\n190    2020-07-18 20:38:14 UTC  2020-07-18 20:38:14 UTC   SFB01-3_08.jpg   \n191    2020-07-18 20:38:17 UTC  2020-07-18 20:38:17 UTC   SFB01-3_15.jpg   \n192    2020-07-18 20:38:18 UTC  2020-07-18 20:38:18 UTC   SFB01-3_27.jpg   \n193    2020-07-18 20:38:20 UTC  2020-07-18 20:38:20 UTC   SFB01-3_28.jpg   \n194    2020-07-18 20:38:22 UTC  2020-07-18 20:38:22 UTC   SFB01-3_34.jpg   \n...                        ...                      ...              ...   \n58027  2022-07-24 11:23:51 UTC  2022-07-24 11:23:51 UTC  ESCH02-2_80.jpg   \n58028  2022-07-24 11:23:51 UTC  2023-07-28 07:13:45 UTC  ESCH02-2_81.jpg   \n58029  2022-07-24 11:23:52 UTC  2022-07-24 11:23:52 UTC  ESCH02-2_91.jpg   \n58030  2022-07-24 11:23:53 UTC  2022-07-24 11:23:53 UTC  ESCH02-2_92.jpg   \n58031  2022-07-24 11:23:53 UTC  2023-07-28 07:09:48 UTC  ESCH02-2_99.jpg   \n\n       flight_code                                                url filepath  \n190            SFB  https://panoptes-uploads.zooniverse.org/subjec...     None  \n191            SFB  https://panoptes-uploads.zooniverse.org/subjec...     None  \n192            SFB  https://panoptes-uploads.zooniverse.org/subjec...     None  \n193            SFB  https://panoptes-uploads.zooniverse.org/subjec...     None  \n194            SFB  https://panoptes-uploads.zooniverse.org/subjec...     None  \n...            ...                                                ...      ...  \n58027  SouthCoastH  https://panoptes-uploads.zooniverse.org/subjec...     None  \n58028  SouthCoastH  https://panoptes-uploads.zooniverse.org/subjec...     None  \n58029  SouthCoastH  https://panoptes-uploads.zooniverse.org/subjec...     None  \n58030  SouthCoastH  https://panoptes-uploads.zooniverse.org/subjec...     None  \n58031  SouthCoastH  https://panoptes-uploads.zooniverse.org/subjec...     None  \n\n[57838 rows x 15 columns]",
      "text/html": "<div>\n<style scoped>\n    .dataframe tbody tr th:only-of-type {\n        vertical-align: middle;\n    }\n\n    .dataframe tbody tr th {\n        vertical-align: top;\n    }\n\n    .dataframe thead th {\n        text-align: right;\n    }\n</style>\n<table border=\"1\" class=\"dataframe\">\n  <thead>\n    <tr style=\"text-align: right;\">\n      <th></th>\n      <th>subject_id</th>\n      <th>project_id</th>\n      <th>workflow_id</th>\n      <th>subject_set_id</th>\n      <th>metadata</th>\n      <th>locations</th>\n      <th>classifications_count</th>\n      <th>retired_at</th>\n      <th>retirement_reason</th>\n      <th>created_at</th>\n      <th>updated_at</th>\n      <th>image_name</th>\n      <th>flight_code</th>\n      <th>url</th>\n      <th>filepath</th>\n    </tr>\n  </thead>\n  <tbody>\n    <tr>\n      <th>190</th>\n      <td>47967468</td>\n      <td>11905</td>\n      <td>14370.0</td>\n      <td>86008</td>\n      <td>{\"site\":\"SFB\",\"image_name\":\"SFB01-3_08.jpg\",\"s...</td>\n      <td>{\"0\":\"https://panoptes-uploads.zooniverse.org/...</td>\n      <td>20</td>\n      <td>2020-11-15 19:06:16 UTC</td>\n      <td>classification_count</td>\n      <td>2020-07-18 20:38:14 UTC</td>\n      <td>2020-07-18 20:38:14 UTC</td>\n      <td>SFB01-3_08.jpg</td>\n      <td>SFB</td>\n      <td>https://panoptes-uploads.zooniverse.org/subjec...</td>\n      <td>None</td>\n    </tr>\n    <tr>\n      <th>191</th>\n      <td>47967469</td>\n      <td>11905</td>\n      <td>14370.0</td>\n      <td>86008</td>\n      <td>{\"site\":\"SFB\",\"image_name\":\"SFB01-3_15.jpg\",\"s...</td>\n      <td>{\"0\":\"https://panoptes-uploads.zooniverse.org/...</td>\n      <td>20</td>\n      <td>2020-10-28 19:25:18 UTC</td>\n      <td>classification_count</td>\n      <td>2020-07-18 20:38:17 UTC</td>\n      <td>2020-07-18 20:38:17 UTC</td>\n      <td>SFB01-3_15.jpg</td>\n      <td>SFB</td>\n      <td>https://panoptes-uploads.zooniverse.org/subjec...</td>\n      <td>None</td>\n    </tr>\n    <tr>\n      <th>192</th>\n      <td>47967470</td>\n      <td>11905</td>\n      <td>14370.0</td>\n      <td>86008</td>\n      <td>{\"site\":\"SFB\",\"image_name\":\"SFB01-3_27.jpg\",\"s...</td>\n      <td>{\"0\":\"https://panoptes-uploads.zooniverse.org/...</td>\n      <td>20</td>\n      <td>2020-11-14 10:07:19 UTC</td>\n      <td>classification_count</td>\n      <td>2020-07-18 20:38:18 UTC</td>\n      <td>2020-07-18 20:38:18 UTC</td>\n      <td>SFB01-3_27.jpg</td>\n      <td>SFB</td>\n      <td>https://panoptes-uploads.zooniverse.org/subjec...</td>\n      <td>None</td>\n    </tr>\n    <tr>\n      <th>193</th>\n      <td>47967471</td>\n      <td>11905</td>\n      <td>14370.0</td>\n      <td>86008</td>\n      <td>{\"site\":\"SFB\",\"image_name\":\"SFB01-3_28.jpg\",\"s...</td>\n      <td>{\"0\":\"https://panoptes-uploads.zooniverse.org/...</td>\n      <td>20</td>\n      <td>2020-11-09 10:36:02 UTC</td>\n      <td>classification_count</td>\n      <td>2020-07-18 20:38:20 UTC</td>\n      <td>2020-07-18 20:38:20 UTC</td>\n      <td>SFB01-3_28.jpg</td>\n      <td>SFB</td>\n      <td>https://panoptes-uploads.zooniverse.org/subjec...</td>\n      <td>None</td>\n    </tr>\n    <tr>\n      <th>194</th>\n      <td>47967472</td>\n      <td>11905</td>\n      <td>14370.0</td>\n      <td>86008</td>\n      <td>{\"site\":\"SFB\",\"image_name\":\"SFB01-3_34.jpg\",\"s...</td>\n      <td>{\"0\":\"https://panoptes-uploads.zooniverse.org/...</td>\n      <td>20</td>\n      <td>2020-11-18 20:44:36 UTC</td>\n      <td>classification_count</td>\n      <td>2020-07-18 20:38:22 UTC</td>\n      <td>2020-07-18 20:38:22 UTC</td>\n      <td>SFB01-3_34.jpg</td>\n      <td>SFB</td>\n      <td>https://panoptes-uploads.zooniverse.org/subjec...</td>\n      <td>None</td>\n    </tr>\n    <tr>\n      <th>...</th>\n      <td>...</td>\n      <td>...</td>\n      <td>...</td>\n      <td>...</td>\n      <td>...</td>\n      <td>...</td>\n      <td>...</td>\n      <td>...</td>\n      <td>...</td>\n      <td>...</td>\n      <td>...</td>\n      <td>...</td>\n      <td>...</td>\n      <td>...</td>\n      <td>...</td>\n    </tr>\n    <tr>\n      <th>58027</th>\n      <td>78965182</td>\n      <td>11905</td>\n      <td>22040.0</td>\n      <td>106640</td>\n      <td>{\"id\":\"476\",\"set\":\"SouthCoastH\",\"site\":\"SouthC...</td>\n      <td>{\"0\":\"https://panoptes-uploads.zooniverse.org/...</td>\n      <td>30</td>\n      <td>2023-06-04 20:04:00 UTC</td>\n      <td>classification_count</td>\n      <td>2022-07-24 11:23:51 UTC</td>\n      <td>2022-07-24 11:23:51 UTC</td>\n      <td>ESCH02-2_80.jpg</td>\n      <td>SouthCoastH</td>\n      <td>https://panoptes-uploads.zooniverse.org/subjec...</td>\n      <td>None</td>\n    </tr>\n    <tr>\n      <th>58028</th>\n      <td>78965183</td>\n      <td>11905</td>\n      <td>22040.0</td>\n      <td>106640</td>\n      <td>{\"id\":\"477\",\"set\":\"SouthCoastH\",\"site\":\"SouthC...</td>\n      <td>{\"0\":\"https://panoptes-uploads.zooniverse.org/...</td>\n      <td>24</td>\n      <td>2023-08-30 16:43:06 UTC</td>\n      <td>classification_count</td>\n      <td>2022-07-24 11:23:51 UTC</td>\n      <td>2023-07-28 07:13:45 UTC</td>\n      <td>ESCH02-2_81.jpg</td>\n      <td>SouthCoastH</td>\n      <td>https://panoptes-uploads.zooniverse.org/subjec...</td>\n      <td>None</td>\n    </tr>\n    <tr>\n      <th>58029</th>\n      <td>78965184</td>\n      <td>11905</td>\n      <td>22040.0</td>\n      <td>106640</td>\n      <td>{\"id\":\"478\",\"set\":\"SouthCoastH\",\"site\":\"SouthC...</td>\n      <td>{\"0\":\"https://panoptes-uploads.zooniverse.org/...</td>\n      <td>30</td>\n      <td>2023-07-14 13:55:55 UTC</td>\n      <td>classification_count</td>\n      <td>2022-07-24 11:23:52 UTC</td>\n      <td>2022-07-24 11:23:52 UTC</td>\n      <td>ESCH02-2_91.jpg</td>\n      <td>SouthCoastH</td>\n      <td>https://panoptes-uploads.zooniverse.org/subjec...</td>\n      <td>None</td>\n    </tr>\n    <tr>\n      <th>58030</th>\n      <td>78965185</td>\n      <td>11905</td>\n      <td>22040.0</td>\n      <td>106640</td>\n      <td>{\"id\":\"479\",\"set\":\"SouthCoastH\",\"site\":\"SouthC...</td>\n      <td>{\"0\":\"https://panoptes-uploads.zooniverse.org/...</td>\n      <td>30</td>\n      <td>2023-07-20 04:37:58 UTC</td>\n      <td>classification_count</td>\n      <td>2022-07-24 11:23:53 UTC</td>\n      <td>2022-07-24 11:23:53 UTC</td>\n      <td>ESCH02-2_92.jpg</td>\n      <td>SouthCoastH</td>\n      <td>https://panoptes-uploads.zooniverse.org/subjec...</td>\n      <td>None</td>\n    </tr>\n    <tr>\n      <th>58031</th>\n      <td>78965186</td>\n      <td>11905</td>\n      <td>22040.0</td>\n      <td>106640</td>\n      <td>{\"id\":\"480\",\"set\":\"SouthCoastH\",\"site\":\"SouthC...</td>\n      <td>{\"0\":\"https://panoptes-uploads.zooniverse.org/...</td>\n      <td>22</td>\n      <td>2023-09-11 22:46:23 UTC</td>\n      <td>classification_count</td>\n      <td>2022-07-24 11:23:53 UTC</td>\n      <td>2023-07-28 07:09:48 UTC</td>\n      <td>ESCH02-2_99.jpg</td>\n      <td>SouthCoastH</td>\n      <td>https://panoptes-uploads.zooniverse.org/subjec...</td>\n      <td>None</td>\n    </tr>\n  </tbody>\n</table>\n<p>57838 rows × 15 columns</p>\n</div>"
     },
     "execution_count": 66,
     "metadata": {},
     "output_type": "execute_result"
    }
   ],
   "source": [
    "df_subjects"
   ],
   "metadata": {
    "collapsed": false,
    "ExecuteTime": {
     "end_time": "2024-08-08T10:15:02.444886Z",
     "start_time": "2024-08-08T10:15:02.430375Z"
    }
   },
   "id": "6bf26649c5e5b9b7",
   "execution_count": 66
  },
  {
   "cell_type": "markdown",
   "source": [
    "helper function to download the images using the urls in the subjects file"
   ],
   "metadata": {
    "collapsed": false
   },
   "id": "7acf7e3a9e264a7b"
  },
  {
   "cell_type": "code",
   "execution_count": 67,
   "id": "befdfc6395b89a03",
   "metadata": {
    "collapsed": false,
    "ExecuteTime": {
     "end_time": "2024-08-08T10:15:02.452298Z",
     "start_time": "2024-08-08T10:15:02.446618Z"
    }
   },
   "outputs": [],
   "source": [
    "from loguru import logger\n",
    "from time import sleep\n",
    "\n",
    "import requests\n",
    "\n",
    "def download_image(url, filename):\n",
    "    \"\"\"Download an image from a URL and save it to a file.\"\"\"\n",
    "    try:\n",
    "        response = requests.get(url)\n",
    "        if response.status_code == 200:\n",
    "            with open(filename, 'wb') as file:\n",
    "                file.write(response.content)\n",
    "            return True\n",
    "        else:\n",
    "            logger.warning(f\"Failed to download {url}\")\n",
    "            logger.error(response)\n",
    "            sleep(5)\n",
    "            return False\n",
    "    except Exception as e:\n",
    "        logger.error(e)\n",
    "        sleep(5)\n",
    "        return False"
   ]
  },
  {
   "cell_type": "markdown",
   "id": "b6577bcc8c9d6d2c",
   "metadata": {
    "collapsed": false
   },
   "source": [
    "# Panoptes Data Extraction from Zooniverse\n",
    "## Panoptes config\n",
    "### Create the configuration files automatically\n",
    "The configurations were changed to custom workflow versions."
   ]
  },
  {
   "cell_type": "code",
   "execution_count": 68,
   "id": "80589cdde7999f5b",
   "metadata": {
    "collapsed": false,
    "ExecuteTime": {
     "end_time": "2024-08-08T10:15:02.457230Z",
     "start_time": "2024-08-08T10:15:02.454226Z"
    }
   },
   "outputs": [],
   "source": [
    "# create a configuration file from the workflow\n",
    "#!mkdir ./data/phase_1\n",
    "#! panoptes_aggregation config /Users/christian/data/zooniverse/IguanasFromAbove/2023-10-15/iguanas-from-above-workflows.csv 14370 --min_version 0 --max_version 142.245 -d ./data/phase_1\n",
    "# \n",
    "#!mkdir ./data/phase_2\n",
    "#! panoptes_aggregation config /Users/christian/data/zooniverse/IguanasFromAbove/2023-10-15/iguanas-from-above-workflows.csv 20600 --min_version 0 --max_version 94.166 -d ./data/phase_2\n",
    "# \n",
    "#!mkdir ./data/phase_3\n",
    "#! panoptes_aggregation config /Users/christian/data/zooniverse/IguanasFromAbove/2023-10-15/iguanas-from-above-workflows.csv 22040 --min_version 0 --max_version 9.63 -d ./data/phase_3"
   ]
  },
  {
   "cell_type": "markdown",
   "id": "3926c1b2ca3745ea",
   "metadata": {
    "collapsed": false
   },
   "source": [
    "## Extract the data"
   ]
  },
  {
   "cell_type": "code",
   "execution_count": 69,
   "id": "d76485d137c3687",
   "metadata": {
    "collapsed": false,
    "ExecuteTime": {
     "end_time": "2024-08-08T10:15:02.464231Z",
     "start_time": "2024-08-08T10:15:02.458600Z"
    }
   },
   "outputs": [
    {
     "name": "stdout",
     "output_type": "stream",
     "text": [
      "No data to process because of the data_folder: ./data/phase_3\n"
     ]
    }
   ],
   "source": [
    "# phase 1\n",
    "if data_folder == \"./data/phase_1\":\n",
    "    !mkdir ./data/phase_1/V121.144\n",
    "    !mkdir ./data/phase_1/V134.236\n",
    "    \n",
    "    !panoptes_aggregation extract /Users/christian/data/zooniverse/IguanasFromAbove/2023-10-15/iguanas-from-above-classifications.csv -d ./data/phase_1/V121.144 ./data/phase_1/Extractor_config_workflow_14370_V121.144.yaml\n",
    "    \n",
    "    !panoptes_aggregation extract /Users/christian/data/zooniverse/IguanasFromAbove/2023-10-15/iguanas-from-above-classifications.csv -d ./data/phase_1/V134.236 ./data/phase_1/Extractor_config_workflow_14370_V134.236-1.yaml\n",
    "    \n",
    "else:\n",
    "    print(f\"No data to process because of the data_folder: {data_folder}\")\n"
   ]
  },
  {
   "cell_type": "code",
   "execution_count": 70,
   "id": "7ab6b02efc27fd3e",
   "metadata": {
    "collapsed": false,
    "ExecuteTime": {
     "end_time": "2024-08-08T10:15:02.477165Z",
     "start_time": "2024-08-08T10:15:02.465868Z"
    }
   },
   "outputs": [
    {
     "name": "stdout",
     "output_type": "stream",
     "text": [
      "No data to process because of the data_folder: ./data/phase_3\n"
     ]
    }
   ],
   "source": [
    "if data_folder == \"./data/phase_2\" and reprocess == True:\n",
    "    # phase 2\n",
    "    \n",
    "    !mkdir ./data/phase_2/V89.162\n",
    "    !mkdir ./data/phase_2/V93.166\n",
    "    !mkdir ./data/phase_2/V94.166 \n",
    "    \n",
    "    !panoptes_aggregation extract /Users/christian/data/zooniverse/IguanasFromAbove/2023-10-15/iguanas-from-above-classifications.csv -d ./data/phase_2/V89.162 ./data/phase_2/Extractor_config_workflow_20600_V89.162.yaml\n",
    "    !panoptes_aggregation extract /Users/christian/data/zooniverse/IguanasFromAbove/2023-10-15/iguanas-from-above-classifications.csv -d ./data/phase_2/V93.166 ./data/phase_2/Extractor_config_workflow_20600_V93.166.yaml\n",
    "    !panoptes_aggregation extract /Users/christian/data/zooniverse/IguanasFromAbove/2023-10-15/iguanas-from-above-classifications.csv -d ./data/phase_2/V94.166 ./data/phase_2/Extractor_config_workflow_20600_V94.166.yaml\n",
    "\n",
    "else:\n",
    "    print(f\"No data to process because of the data_folder: {data_folder}\")"
   ]
  },
  {
   "cell_type": "code",
   "execution_count": 71,
   "id": "aa74703ed0c24bc5",
   "metadata": {
    "collapsed": false,
    "ExecuteTime": {
     "end_time": "2024-08-08T10:20:26.180664Z",
     "start_time": "2024-08-08T10:15:02.481507Z"
    }
   },
   "outputs": [
    {
     "name": "stdout",
     "output_type": "stream",
     "text": [
      "/Users/christian/PycharmProjects/iguanas-from-above-zooniverse/venv/lib/python3.9/site-packages/panoptes_aggregation/scripts/extract_panoptes_csv.py:68: DtypeWarning: Columns (8,9) have mixed types. Specify dtype option on import or set low_memory=False.\r\n",
      "  classifications = pandas.read_csv(classification_csv_in, encoding='utf-8', dtype={'workflow_version': str})\r\n",
      "Extracting: 100% |#############################################| Time:  0:00:02\r\n",
      "/Users/christian/PycharmProjects/iguanas-from-above-zooniverse/venv/lib/python3.9/site-packages/panoptes_aggregation/scripts/extract_panoptes_csv.py:68: DtypeWarning: Columns (8,9) have mixed types. Specify dtype option on import or set low_memory=False.\r\n",
      "  classifications = pandas.read_csv(classification_csv_in, encoding='utf-8', dtype={'workflow_version': str})\r\n",
      "Extracting: 100% |#############################################| Time:  0:03:42\r\n"
     ]
    }
   ],
   "source": [
    "if data_folder == \"./data/phase_3\":\n",
    "    !mkdir ./data/phase_3/V7.63\n",
    "    !mkdir ./data/phase_3/V9.63\n",
    "    \n",
    "    !panoptes_aggregation extract /Users/christian/data/zooniverse/IguanasFromAbove/2024-08-08/iguanas-from-above-classifications.csv -d ./data/phase_3/V7.63 ./data/phase_3/Extractor_config_workflow_22040_V7.63.yaml\n",
    "    !panoptes_aggregation extract /Users/christian/data/zooniverse/IguanasFromAbove/2024-08-08/iguanas-from-above-classifications.csv -d ./data/phase_3/V9.63 ./data/phase_3/Extractor_config_workflow_22040_V9.63.yaml\n",
    "    \n",
    "else:\n",
    "    print(f\"No data to process because of the data_folder: {data_folder}\")"
   ]
  },
  {
   "cell_type": "markdown",
   "id": "af3dbedc1768b0ed",
   "metadata": {
    "collapsed": false
   },
   "source": [
    "\n",
    "\n"
   ]
  },
  {
   "cell_type": "markdown",
   "id": "627dcf3904529cee",
   "metadata": {
    "collapsed": false
   },
   "source": [
    "### Merge the single point and questions extractions"
   ]
  },
  {
   "cell_type": "code",
   "execution_count": 72,
   "id": "d8ea83ced96e1e6f",
   "metadata": {
    "collapsed": false,
    "ExecuteTime": {
     "end_time": "2024-08-08T10:20:26.189711Z",
     "start_time": "2024-08-08T10:20:26.182659Z"
    }
   },
   "outputs": [
    {
     "name": "stdout",
     "output_type": "stream",
     "text": [
      "No data to process because of the data_folder: ./data/phase_3\n"
     ]
    }
   ],
   "source": [
    "# phase 1\n",
    "if data_folder == \"./data/phase_1\":\n",
    "    df_panoptes_point_extractor_1 = pd.read_csv(f\"./data/phase_1/V121.144/point_extractor_by_frame_extractions.csv\", sep=\",\")\n",
    "    df_panoptes_point_extractor_2 = pd.read_csv(f\"./data/phase_1/V134.236/point_extractor_by_frame_extractions.csv\", sep=\",\")\n",
    "    df_panoptes_point_extractor_1[\"workflow_version\"] = \"121.144\"\n",
    "    df_panoptes_point_extractor_2[\"workflow_version\"] = \"134.236\"\n",
    "    \n",
    "    df_panoptes_question_1 = pd.read_csv(f\"{data_folder}/V121.144/question_extractor_extractions.csv\", sep=\",\")\n",
    "    df_panoptes_question_2 = pd.read_csv(f\"{data_folder}/V134.236/question_extractor_extractions.csv\", sep=\",\")\n",
    "    \n",
    "    df_panoptes_point_extractor = pd.concat([df_panoptes_point_extractor_1, df_panoptes_point_extractor_2], axis=0)\n",
    "    df_panoptes_question = pd.concat([df_panoptes_question_1, df_panoptes_question_2], axis=0)\n",
    "    \n",
    "    df_panoptes_point_extractor\n",
    "    \n",
    "else:\n",
    "    print(f\"No data to process because of the data_folder: {data_folder}\")"
   ]
  },
  {
   "cell_type": "code",
   "execution_count": 73,
   "id": "84f01a4d5c7f0334",
   "metadata": {
    "collapsed": false,
    "ExecuteTime": {
     "end_time": "2024-08-08T10:20:26.195422Z",
     "start_time": "2024-08-08T10:20:26.190683Z"
    }
   },
   "outputs": [
    {
     "name": "stdout",
     "output_type": "stream",
     "text": [
      "No data to process because of the data_folder: ./data/phase_3\n"
     ]
    }
   ],
   "source": [
    "# # phase 2\n",
    "if data_folder == \"./data/phase_2\":\n",
    "    # read the rectangles annotations too there\n",
    "    df_panotes_rectangle_extractor_1 = pd.read_csv(f\"{data_folder}/V89.162/shape_extractor_rectangle_extractions.csv\", sep=\",\")\n",
    "    \n",
    "    df_panoptes_point_extractor_1 = pd.read_csv(f\"{data_folder}/V89.162/point_extractor_by_frame_extractions.csv\", sep=\",\")\n",
    "    df_panoptes_point_extractor_2 = pd.read_csv(f\"{data_folder}/V93.166/point_extractor_by_frame_extractions.csv\", sep=\",\")\n",
    "    df_panoptes_point_extractor_3 = pd.read_csv(f\"{data_folder}/V94.166/point_extractor_by_frame_extractions.csv\", sep=\",\")\n",
    "    \n",
    "    df_panoptes_point_extractor_1[\"workflow_version\"] = \"89.162\"\n",
    "    df_panoptes_point_extractor_2[\"workflow_version\"] = \"93.166\"\n",
    "    df_panoptes_point_extractor_3[\"workflow_version\"] = \"94.166\"\n",
    "    \n",
    "    df_panoptes_question_1 = pd.read_csv(f\"{data_folder}/V89.162/question_extractor_extractions.csv\", sep=\",\")\n",
    "    df_panoptes_question_2 = pd.read_csv(f\"{data_folder}/V93.166/question_extractor_extractions.csv\", sep=\",\")\n",
    "    df_panoptes_question_3 = pd.read_csv(f\"{data_folder}/V94.166/question_extractor_extractions.csv\", sep=\",\")\n",
    "    \n",
    "    df_panoptes_point_extractor = pd.concat([df_panoptes_point_extractor_1, df_panoptes_point_extractor_2, df_panoptes_point_extractor_3], axis=0)\n",
    "    df_panoptes_question = pd.concat([df_panoptes_question_1, df_panoptes_question_2, df_panoptes_question_3], axis=0)\n",
    "\n",
    "    df_panotes_rectangle_extractor_1\n",
    "    \n",
    "else:\n",
    "    print(f\"No data to process because of the data_folder: {data_folder}\")"
   ]
  },
  {
   "cell_type": "code",
   "execution_count": 74,
   "id": "290588b8d957e42e",
   "metadata": {
    "collapsed": false,
    "ExecuteTime": {
     "end_time": "2024-08-08T10:20:29.553665Z",
     "start_time": "2024-08-08T10:20:26.196123Z"
    }
   },
   "outputs": [],
   "source": [
    "if data_folder == \"./data/phase_3\":\n",
    "    df_panoptes_point_extractor_1 = pd.read_csv(f\"{data_folder}/V7.63/point_extractor_by_frame_extractions.csv\", sep=\",\")\n",
    "    df_panoptes_point_extractor_2 = pd.read_csv(f\"{data_folder}/V9.63/point_extractor_by_frame_extractions.csv\", sep=\",\")\n",
    "    df_panoptes_point_extractor_1[\"workflow_version\"] = \"7.63\"\n",
    "    df_panoptes_point_extractor_2[\"workflow_version\"] = \"9.63\"\n",
    "\n",
    "    df_panoptes_question_1 = pd.read_csv(f\"{data_folder}/V7.63/question_extractor_extractions.csv\", sep=\",\")\n",
    "    df_panoptes_question_2 = pd.read_csv(f\"{data_folder}/V9.63/question_extractor_extractions.csv\", sep=\",\")\n",
    "\n",
    "    df_panoptes_point_extractor = pd.concat([df_panoptes_point_extractor_1, df_panoptes_point_extractor_2], axis=0)\n",
    "    df_panoptes_question = pd.concat([df_panoptes_question_1, df_panoptes_question_2], axis=0)\n",
    "    \n",
    "else:\n",
    "    print(f\"No data to process because of the data_folder: {data_folder}\")\n"
   ]
  },
  {
   "cell_type": "code",
   "execution_count": 75,
   "id": "425530a8a9acdc49",
   "metadata": {
    "collapsed": false,
    "ExecuteTime": {
     "end_time": "2024-08-08T10:20:31.072659Z",
     "start_time": "2024-08-08T10:20:29.554851Z"
    }
   },
   "outputs": [
    {
     "data": {
      "text/plain": "         classification_id  workflow_id task               created_at  \\\n0                428441443        22040   T2  2022-07-22 14:32:53 UTC   \n1                428441443        22040   T4  2022-07-22 14:32:53 UTC   \n2                428463469        22040   T2  2022-07-22 16:29:00 UTC   \n3                428463469        22040   T4  2022-07-22 16:29:00 UTC   \n4                428803453        22040   T2  2022-07-25 08:44:40 UTC   \n...                    ...          ...  ...                      ...   \n1425245          511354219        22040   T4  2023-09-16 23:41:43 UTC   \n1425246          535140531        22040   T2  2024-01-17 23:23:35 UTC   \n1425247          535140531        22040   T4  2024-01-17 23:23:35 UTC   \n1425248          535140532        22040   T2  2024-01-17 23:23:35 UTC   \n1425249          535140532        22040   T4  2024-01-17 23:23:35 UTC   \n\n         subject_id                 extractor data.aggregation_version  \\\n0          78861918  point_extractor_by_frame                    4.1.0   \n1          78861918  point_extractor_by_frame                    4.1.0   \n2          78861913  point_extractor_by_frame                    4.1.0   \n3          78861913  point_extractor_by_frame                    4.1.0   \n4          78961556  point_extractor_by_frame                    4.1.0   \n...             ...                       ...                      ...   \n1425245    78922611  point_extractor_by_frame                    4.1.0   \n1425246    78922650  point_extractor_by_frame                    4.1.0   \n1425247    78922650  point_extractor_by_frame                    4.1.0   \n1425248    78922599  point_extractor_by_frame                    4.1.0   \n1425249    78922599  point_extractor_by_frame                    4.1.0   \n\n        data.frame0.T2_tool1_x data.frame0.T2_tool1_y  \\\n0          [557.1560668945312]    [920.5582885742188]   \n1                          NaN                    NaN   \n2                          NaN                    NaN   \n3                          NaN                    NaN   \n4                          NaN                    NaN   \n...                        ...                    ...   \n1425245                    NaN                    NaN   \n1425246                    NaN                    NaN   \n1425247                    NaN                    NaN   \n1425248                    NaN                    NaN   \n1425249                    NaN                    NaN   \n\n                                    data.frame0.T4_tool0_x  ...  \\\n0                                                      NaN  ...   \n1        [1035.0341796875, 623.5692138671875, 497.99880...  ...   \n2                                                      NaN  ...   \n3                                                      NaN  ...   \n4                                                      NaN  ...   \n...                                                    ...  ...   \n1425245                                                NaN  ...   \n1425246                                                NaN  ...   \n1425247                               [388.39166259765625]  ...   \n1425248                                                NaN  ...   \n1425249                                                NaN  ...   \n\n        data.frame0.T4_tool7_y data.frame0.T2_tool3_x data.frame0.T2_tool3_y  \\\n0                          NaN                    NaN                    NaN   \n1                          NaN                    NaN                    NaN   \n2                          NaN                    NaN                    NaN   \n3                          NaN                    NaN                    NaN   \n4                          NaN                    NaN                    NaN   \n...                        ...                    ...                    ...   \n1425245                    NaN                    NaN                    NaN   \n1425246                    NaN                    NaN                    NaN   \n1425247                    NaN                    NaN                    NaN   \n1425248                    NaN                    NaN                    NaN   \n1425249                    NaN                    NaN                    NaN   \n\n        data.frame0.T4_tool5_x data.frame0.T4_tool5_y data.frame0.T4_tool6_x  \\\n0                          NaN                    NaN                    NaN   \n1                          NaN                    NaN                    NaN   \n2                          NaN                    NaN                    NaN   \n3                          NaN                    NaN                    NaN   \n4                          NaN                    NaN                    NaN   \n...                        ...                    ...                    ...   \n1425245                    NaN                    NaN                    NaN   \n1425246                    NaN                    NaN                    NaN   \n1425247                    NaN                    NaN                    NaN   \n1425248                    NaN                    NaN                    NaN   \n1425249                    NaN                    NaN                    NaN   \n\n        data.frame0.T4_tool6_y data.frame0.T4_tool4_x data.frame0.T4_tool4_y  \\\n0                          NaN                    NaN                    NaN   \n1                          NaN                    NaN                    NaN   \n2                          NaN                    NaN                    NaN   \n3                          NaN                    NaN                    NaN   \n4                          NaN                    NaN                    NaN   \n...                        ...                    ...                    ...   \n1425245                    NaN                    NaN                    NaN   \n1425246                    NaN                    NaN                    NaN   \n1425247                    NaN                    NaN                    NaN   \n1425248                    NaN                    NaN                    NaN   \n1425249                    NaN                    NaN                    NaN   \n\n        workflow_version  \n0                   7.63  \n1                   7.63  \n2                   7.63  \n3                   7.63  \n4                   7.63  \n...                  ...  \n1425245             9.63  \n1425246             9.63  \n1425247             9.63  \n1425248             9.63  \n1425249             9.63  \n\n[1440578 rows x 32 columns]",
      "text/html": "<div>\n<style scoped>\n    .dataframe tbody tr th:only-of-type {\n        vertical-align: middle;\n    }\n\n    .dataframe tbody tr th {\n        vertical-align: top;\n    }\n\n    .dataframe thead th {\n        text-align: right;\n    }\n</style>\n<table border=\"1\" class=\"dataframe\">\n  <thead>\n    <tr style=\"text-align: right;\">\n      <th></th>\n      <th>classification_id</th>\n      <th>workflow_id</th>\n      <th>task</th>\n      <th>created_at</th>\n      <th>subject_id</th>\n      <th>extractor</th>\n      <th>data.aggregation_version</th>\n      <th>data.frame0.T2_tool1_x</th>\n      <th>data.frame0.T2_tool1_y</th>\n      <th>data.frame0.T4_tool0_x</th>\n      <th>...</th>\n      <th>data.frame0.T4_tool7_y</th>\n      <th>data.frame0.T2_tool3_x</th>\n      <th>data.frame0.T2_tool3_y</th>\n      <th>data.frame0.T4_tool5_x</th>\n      <th>data.frame0.T4_tool5_y</th>\n      <th>data.frame0.T4_tool6_x</th>\n      <th>data.frame0.T4_tool6_y</th>\n      <th>data.frame0.T4_tool4_x</th>\n      <th>data.frame0.T4_tool4_y</th>\n      <th>workflow_version</th>\n    </tr>\n  </thead>\n  <tbody>\n    <tr>\n      <th>0</th>\n      <td>428441443</td>\n      <td>22040</td>\n      <td>T2</td>\n      <td>2022-07-22 14:32:53 UTC</td>\n      <td>78861918</td>\n      <td>point_extractor_by_frame</td>\n      <td>4.1.0</td>\n      <td>[557.1560668945312]</td>\n      <td>[920.5582885742188]</td>\n      <td>NaN</td>\n      <td>...</td>\n      <td>NaN</td>\n      <td>NaN</td>\n      <td>NaN</td>\n      <td>NaN</td>\n      <td>NaN</td>\n      <td>NaN</td>\n      <td>NaN</td>\n      <td>NaN</td>\n      <td>NaN</td>\n      <td>7.63</td>\n    </tr>\n    <tr>\n      <th>1</th>\n      <td>428441443</td>\n      <td>22040</td>\n      <td>T4</td>\n      <td>2022-07-22 14:32:53 UTC</td>\n      <td>78861918</td>\n      <td>point_extractor_by_frame</td>\n      <td>4.1.0</td>\n      <td>NaN</td>\n      <td>NaN</td>\n      <td>[1035.0341796875, 623.5692138671875, 497.99880...</td>\n      <td>...</td>\n      <td>NaN</td>\n      <td>NaN</td>\n      <td>NaN</td>\n      <td>NaN</td>\n      <td>NaN</td>\n      <td>NaN</td>\n      <td>NaN</td>\n      <td>NaN</td>\n      <td>NaN</td>\n      <td>7.63</td>\n    </tr>\n    <tr>\n      <th>2</th>\n      <td>428463469</td>\n      <td>22040</td>\n      <td>T2</td>\n      <td>2022-07-22 16:29:00 UTC</td>\n      <td>78861913</td>\n      <td>point_extractor_by_frame</td>\n      <td>4.1.0</td>\n      <td>NaN</td>\n      <td>NaN</td>\n      <td>NaN</td>\n      <td>...</td>\n      <td>NaN</td>\n      <td>NaN</td>\n      <td>NaN</td>\n      <td>NaN</td>\n      <td>NaN</td>\n      <td>NaN</td>\n      <td>NaN</td>\n      <td>NaN</td>\n      <td>NaN</td>\n      <td>7.63</td>\n    </tr>\n    <tr>\n      <th>3</th>\n      <td>428463469</td>\n      <td>22040</td>\n      <td>T4</td>\n      <td>2022-07-22 16:29:00 UTC</td>\n      <td>78861913</td>\n      <td>point_extractor_by_frame</td>\n      <td>4.1.0</td>\n      <td>NaN</td>\n      <td>NaN</td>\n      <td>NaN</td>\n      <td>...</td>\n      <td>NaN</td>\n      <td>NaN</td>\n      <td>NaN</td>\n      <td>NaN</td>\n      <td>NaN</td>\n      <td>NaN</td>\n      <td>NaN</td>\n      <td>NaN</td>\n      <td>NaN</td>\n      <td>7.63</td>\n    </tr>\n    <tr>\n      <th>4</th>\n      <td>428803453</td>\n      <td>22040</td>\n      <td>T2</td>\n      <td>2022-07-25 08:44:40 UTC</td>\n      <td>78961556</td>\n      <td>point_extractor_by_frame</td>\n      <td>4.1.0</td>\n      <td>NaN</td>\n      <td>NaN</td>\n      <td>NaN</td>\n      <td>...</td>\n      <td>NaN</td>\n      <td>NaN</td>\n      <td>NaN</td>\n      <td>NaN</td>\n      <td>NaN</td>\n      <td>NaN</td>\n      <td>NaN</td>\n      <td>NaN</td>\n      <td>NaN</td>\n      <td>7.63</td>\n    </tr>\n    <tr>\n      <th>...</th>\n      <td>...</td>\n      <td>...</td>\n      <td>...</td>\n      <td>...</td>\n      <td>...</td>\n      <td>...</td>\n      <td>...</td>\n      <td>...</td>\n      <td>...</td>\n      <td>...</td>\n      <td>...</td>\n      <td>...</td>\n      <td>...</td>\n      <td>...</td>\n      <td>...</td>\n      <td>...</td>\n      <td>...</td>\n      <td>...</td>\n      <td>...</td>\n      <td>...</td>\n      <td>...</td>\n    </tr>\n    <tr>\n      <th>1425245</th>\n      <td>511354219</td>\n      <td>22040</td>\n      <td>T4</td>\n      <td>2023-09-16 23:41:43 UTC</td>\n      <td>78922611</td>\n      <td>point_extractor_by_frame</td>\n      <td>4.1.0</td>\n      <td>NaN</td>\n      <td>NaN</td>\n      <td>NaN</td>\n      <td>...</td>\n      <td>NaN</td>\n      <td>NaN</td>\n      <td>NaN</td>\n      <td>NaN</td>\n      <td>NaN</td>\n      <td>NaN</td>\n      <td>NaN</td>\n      <td>NaN</td>\n      <td>NaN</td>\n      <td>9.63</td>\n    </tr>\n    <tr>\n      <th>1425246</th>\n      <td>535140531</td>\n      <td>22040</td>\n      <td>T2</td>\n      <td>2024-01-17 23:23:35 UTC</td>\n      <td>78922650</td>\n      <td>point_extractor_by_frame</td>\n      <td>4.1.0</td>\n      <td>NaN</td>\n      <td>NaN</td>\n      <td>NaN</td>\n      <td>...</td>\n      <td>NaN</td>\n      <td>NaN</td>\n      <td>NaN</td>\n      <td>NaN</td>\n      <td>NaN</td>\n      <td>NaN</td>\n      <td>NaN</td>\n      <td>NaN</td>\n      <td>NaN</td>\n      <td>9.63</td>\n    </tr>\n    <tr>\n      <th>1425247</th>\n      <td>535140531</td>\n      <td>22040</td>\n      <td>T4</td>\n      <td>2024-01-17 23:23:35 UTC</td>\n      <td>78922650</td>\n      <td>point_extractor_by_frame</td>\n      <td>4.1.0</td>\n      <td>NaN</td>\n      <td>NaN</td>\n      <td>[388.39166259765625]</td>\n      <td>...</td>\n      <td>NaN</td>\n      <td>NaN</td>\n      <td>NaN</td>\n      <td>NaN</td>\n      <td>NaN</td>\n      <td>NaN</td>\n      <td>NaN</td>\n      <td>NaN</td>\n      <td>NaN</td>\n      <td>9.63</td>\n    </tr>\n    <tr>\n      <th>1425248</th>\n      <td>535140532</td>\n      <td>22040</td>\n      <td>T2</td>\n      <td>2024-01-17 23:23:35 UTC</td>\n      <td>78922599</td>\n      <td>point_extractor_by_frame</td>\n      <td>4.1.0</td>\n      <td>NaN</td>\n      <td>NaN</td>\n      <td>NaN</td>\n      <td>...</td>\n      <td>NaN</td>\n      <td>NaN</td>\n      <td>NaN</td>\n      <td>NaN</td>\n      <td>NaN</td>\n      <td>NaN</td>\n      <td>NaN</td>\n      <td>NaN</td>\n      <td>NaN</td>\n      <td>9.63</td>\n    </tr>\n    <tr>\n      <th>1425249</th>\n      <td>535140532</td>\n      <td>22040</td>\n      <td>T4</td>\n      <td>2024-01-17 23:23:35 UTC</td>\n      <td>78922599</td>\n      <td>point_extractor_by_frame</td>\n      <td>4.1.0</td>\n      <td>NaN</td>\n      <td>NaN</td>\n      <td>NaN</td>\n      <td>...</td>\n      <td>NaN</td>\n      <td>NaN</td>\n      <td>NaN</td>\n      <td>NaN</td>\n      <td>NaN</td>\n      <td>NaN</td>\n      <td>NaN</td>\n      <td>NaN</td>\n      <td>NaN</td>\n      <td>9.63</td>\n    </tr>\n  </tbody>\n</table>\n<p>1440578 rows × 32 columns</p>\n</div>"
     },
     "execution_count": 75,
     "metadata": {},
     "output_type": "execute_result"
    }
   ],
   "source": [
    "df_panoptes_point_extractor.drop(columns=[\"user_name\", \"user_id\"], inplace=False)"
   ]
  },
  {
   "cell_type": "markdown",
   "source": [
    "## Merge the subjects file with the point extractor file to get the image name\n",
    "This is necessary to get the image name for the points."
   ],
   "metadata": {
    "collapsed": false
   },
   "id": "fdb09a42323ffee9"
  },
  {
   "cell_type": "code",
   "execution_count": 76,
   "id": "a1e2e015fdba1cb",
   "metadata": {
    "collapsed": false,
    "ExecuteTime": {
     "end_time": "2024-08-08T10:20:34.106313Z",
     "start_time": "2024-08-08T10:20:31.073559Z"
    }
   },
   "outputs": [
    {
     "data": {
      "text/plain": "         classification_id                           user_name    user_id  \\\n0                428803453                        Nomad_Purple  1312868.0   \n1                428803453                        Nomad_Purple  1312868.0   \n2                430711757             kmorrisseyukyahoo.co.uk  1325881.0   \n3                430711757             kmorrisseyukyahoo.co.uk  1325881.0   \n4                432408154                               Barti  2497726.0   \n...                    ...                                 ...        ...   \n1440569          506596846  not-logged-in-f6350ed5e6689ab653e7        NaN   \n1440570          506724429  not-logged-in-31ddcc1d99963e7c9960        NaN   \n1440571          506724429  not-logged-in-31ddcc1d99963e7c9960        NaN   \n1440572          506829613  not-logged-in-97b85c50671be4f91baa        NaN   \n1440573          506829613  not-logged-in-97b85c50671be4f91baa        NaN   \n\n         workflow_id task               created_at  subject_id  \\\n0              22040   T2  2022-07-25 08:44:40 UTC    78961556   \n1              22040   T4  2022-07-25 08:44:40 UTC    78961556   \n2              22040   T2  2022-08-04 14:48:04 UTC    78961556   \n3              22040   T4  2022-08-04 14:48:04 UTC    78961556   \n4              22040   T2  2022-08-13 20:33:37 UTC    78961556   \n...              ...  ...                      ...         ...   \n1440569        22040   T4  2023-08-16 17:59:50 UTC    78923883   \n1440570        22040   T2  2023-08-17 13:41:27 UTC    78923883   \n1440571        22040   T4  2023-08-17 13:41:27 UTC    78923883   \n1440572        22040   T2  2023-08-18 03:50:13 UTC    78923883   \n1440573        22040   T4  2023-08-18 03:50:13 UTC    78923883   \n\n                        extractor data.aggregation_version  \\\n0        point_extractor_by_frame                    4.1.0   \n1        point_extractor_by_frame                    4.1.0   \n2        point_extractor_by_frame                    4.1.0   \n3        point_extractor_by_frame                    4.1.0   \n4        point_extractor_by_frame                    4.1.0   \n...                           ...                      ...   \n1440569  point_extractor_by_frame                    4.1.0   \n1440570  point_extractor_by_frame                    4.1.0   \n1440571  point_extractor_by_frame                    4.1.0   \n1440572  point_extractor_by_frame                    4.1.0   \n1440573  point_extractor_by_frame                    4.1.0   \n\n        data.frame0.T2_tool1_x  ... data.frame0.T2_tool3_x  \\\n0                          NaN  ...                    NaN   \n1                          NaN  ...                    NaN   \n2                          NaN  ...                    NaN   \n3                          NaN  ...                    NaN   \n4                          NaN  ...                    NaN   \n...                        ...  ...                    ...   \n1440569                    NaN  ...                    NaN   \n1440570                    NaN  ...                    NaN   \n1440571                    NaN  ...                    NaN   \n1440572                    NaN  ...                    NaN   \n1440573                    NaN  ...                    NaN   \n\n        data.frame0.T2_tool3_y data.frame0.T4_tool5_x data.frame0.T4_tool5_y  \\\n0                          NaN                    NaN                    NaN   \n1                          NaN                    NaN                    NaN   \n2                          NaN                    NaN                    NaN   \n3                          NaN                    NaN                    NaN   \n4                          NaN                    NaN                    NaN   \n...                        ...                    ...                    ...   \n1440569                    NaN                    NaN                    NaN   \n1440570                    NaN                    NaN                    NaN   \n1440571                    NaN                    NaN                    NaN   \n1440572                    NaN                    NaN                    NaN   \n1440573                    NaN                    NaN                    NaN   \n\n        data.frame0.T4_tool6_x data.frame0.T4_tool6_y data.frame0.T4_tool4_x  \\\n0                          NaN                    NaN                    NaN   \n1                          NaN                    NaN                    NaN   \n2                          NaN                    NaN                    NaN   \n3                          NaN                    NaN                    NaN   \n4                          NaN                    NaN                    NaN   \n...                        ...                    ...                    ...   \n1440569                    NaN                    NaN                    NaN   \n1440570                    NaN                    NaN                    NaN   \n1440571                    NaN                    NaN                    NaN   \n1440572                    NaN                    NaN                    NaN   \n1440573                    NaN                    NaN                    NaN   \n\n        data.frame0.T4_tool4_y workflow_version         image_name  \n0                          NaN             7.63  PCIE13-2-2_83.jpg  \n1                          NaN             7.63  PCIE13-2-2_83.jpg  \n2                          NaN             9.63  PCIE13-2-2_83.jpg  \n3                          NaN             9.63  PCIE13-2-2_83.jpg  \n4                          NaN             9.63  PCIE13-2-2_83.jpg  \n...                        ...              ...                ...  \n1440569                    NaN             9.63    GWA01-1_180.jpg  \n1440570                    NaN             9.63    GWA01-1_180.jpg  \n1440571                    NaN             9.63    GWA01-1_180.jpg  \n1440572                    NaN             9.63    GWA01-1_180.jpg  \n1440573                    NaN             9.63    GWA01-1_180.jpg  \n\n[1440574 rows x 35 columns]",
      "text/html": "<div>\n<style scoped>\n    .dataframe tbody tr th:only-of-type {\n        vertical-align: middle;\n    }\n\n    .dataframe tbody tr th {\n        vertical-align: top;\n    }\n\n    .dataframe thead th {\n        text-align: right;\n    }\n</style>\n<table border=\"1\" class=\"dataframe\">\n  <thead>\n    <tr style=\"text-align: right;\">\n      <th></th>\n      <th>classification_id</th>\n      <th>user_name</th>\n      <th>user_id</th>\n      <th>workflow_id</th>\n      <th>task</th>\n      <th>created_at</th>\n      <th>subject_id</th>\n      <th>extractor</th>\n      <th>data.aggregation_version</th>\n      <th>data.frame0.T2_tool1_x</th>\n      <th>...</th>\n      <th>data.frame0.T2_tool3_x</th>\n      <th>data.frame0.T2_tool3_y</th>\n      <th>data.frame0.T4_tool5_x</th>\n      <th>data.frame0.T4_tool5_y</th>\n      <th>data.frame0.T4_tool6_x</th>\n      <th>data.frame0.T4_tool6_y</th>\n      <th>data.frame0.T4_tool4_x</th>\n      <th>data.frame0.T4_tool4_y</th>\n      <th>workflow_version</th>\n      <th>image_name</th>\n    </tr>\n  </thead>\n  <tbody>\n    <tr>\n      <th>0</th>\n      <td>428803453</td>\n      <td>Nomad_Purple</td>\n      <td>1312868.0</td>\n      <td>22040</td>\n      <td>T2</td>\n      <td>2022-07-25 08:44:40 UTC</td>\n      <td>78961556</td>\n      <td>point_extractor_by_frame</td>\n      <td>4.1.0</td>\n      <td>NaN</td>\n      <td>...</td>\n      <td>NaN</td>\n      <td>NaN</td>\n      <td>NaN</td>\n      <td>NaN</td>\n      <td>NaN</td>\n      <td>NaN</td>\n      <td>NaN</td>\n      <td>NaN</td>\n      <td>7.63</td>\n      <td>PCIE13-2-2_83.jpg</td>\n    </tr>\n    <tr>\n      <th>1</th>\n      <td>428803453</td>\n      <td>Nomad_Purple</td>\n      <td>1312868.0</td>\n      <td>22040</td>\n      <td>T4</td>\n      <td>2022-07-25 08:44:40 UTC</td>\n      <td>78961556</td>\n      <td>point_extractor_by_frame</td>\n      <td>4.1.0</td>\n      <td>NaN</td>\n      <td>...</td>\n      <td>NaN</td>\n      <td>NaN</td>\n      <td>NaN</td>\n      <td>NaN</td>\n      <td>NaN</td>\n      <td>NaN</td>\n      <td>NaN</td>\n      <td>NaN</td>\n      <td>7.63</td>\n      <td>PCIE13-2-2_83.jpg</td>\n    </tr>\n    <tr>\n      <th>2</th>\n      <td>430711757</td>\n      <td>kmorrisseyukyahoo.co.uk</td>\n      <td>1325881.0</td>\n      <td>22040</td>\n      <td>T2</td>\n      <td>2022-08-04 14:48:04 UTC</td>\n      <td>78961556</td>\n      <td>point_extractor_by_frame</td>\n      <td>4.1.0</td>\n      <td>NaN</td>\n      <td>...</td>\n      <td>NaN</td>\n      <td>NaN</td>\n      <td>NaN</td>\n      <td>NaN</td>\n      <td>NaN</td>\n      <td>NaN</td>\n      <td>NaN</td>\n      <td>NaN</td>\n      <td>9.63</td>\n      <td>PCIE13-2-2_83.jpg</td>\n    </tr>\n    <tr>\n      <th>3</th>\n      <td>430711757</td>\n      <td>kmorrisseyukyahoo.co.uk</td>\n      <td>1325881.0</td>\n      <td>22040</td>\n      <td>T4</td>\n      <td>2022-08-04 14:48:04 UTC</td>\n      <td>78961556</td>\n      <td>point_extractor_by_frame</td>\n      <td>4.1.0</td>\n      <td>NaN</td>\n      <td>...</td>\n      <td>NaN</td>\n      <td>NaN</td>\n      <td>NaN</td>\n      <td>NaN</td>\n      <td>NaN</td>\n      <td>NaN</td>\n      <td>NaN</td>\n      <td>NaN</td>\n      <td>9.63</td>\n      <td>PCIE13-2-2_83.jpg</td>\n    </tr>\n    <tr>\n      <th>4</th>\n      <td>432408154</td>\n      <td>Barti</td>\n      <td>2497726.0</td>\n      <td>22040</td>\n      <td>T2</td>\n      <td>2022-08-13 20:33:37 UTC</td>\n      <td>78961556</td>\n      <td>point_extractor_by_frame</td>\n      <td>4.1.0</td>\n      <td>NaN</td>\n      <td>...</td>\n      <td>NaN</td>\n      <td>NaN</td>\n      <td>NaN</td>\n      <td>NaN</td>\n      <td>NaN</td>\n      <td>NaN</td>\n      <td>NaN</td>\n      <td>NaN</td>\n      <td>9.63</td>\n      <td>PCIE13-2-2_83.jpg</td>\n    </tr>\n    <tr>\n      <th>...</th>\n      <td>...</td>\n      <td>...</td>\n      <td>...</td>\n      <td>...</td>\n      <td>...</td>\n      <td>...</td>\n      <td>...</td>\n      <td>...</td>\n      <td>...</td>\n      <td>...</td>\n      <td>...</td>\n      <td>...</td>\n      <td>...</td>\n      <td>...</td>\n      <td>...</td>\n      <td>...</td>\n      <td>...</td>\n      <td>...</td>\n      <td>...</td>\n      <td>...</td>\n      <td>...</td>\n    </tr>\n    <tr>\n      <th>1440569</th>\n      <td>506596846</td>\n      <td>not-logged-in-f6350ed5e6689ab653e7</td>\n      <td>NaN</td>\n      <td>22040</td>\n      <td>T4</td>\n      <td>2023-08-16 17:59:50 UTC</td>\n      <td>78923883</td>\n      <td>point_extractor_by_frame</td>\n      <td>4.1.0</td>\n      <td>NaN</td>\n      <td>...</td>\n      <td>NaN</td>\n      <td>NaN</td>\n      <td>NaN</td>\n      <td>NaN</td>\n      <td>NaN</td>\n      <td>NaN</td>\n      <td>NaN</td>\n      <td>NaN</td>\n      <td>9.63</td>\n      <td>GWA01-1_180.jpg</td>\n    </tr>\n    <tr>\n      <th>1440570</th>\n      <td>506724429</td>\n      <td>not-logged-in-31ddcc1d99963e7c9960</td>\n      <td>NaN</td>\n      <td>22040</td>\n      <td>T2</td>\n      <td>2023-08-17 13:41:27 UTC</td>\n      <td>78923883</td>\n      <td>point_extractor_by_frame</td>\n      <td>4.1.0</td>\n      <td>NaN</td>\n      <td>...</td>\n      <td>NaN</td>\n      <td>NaN</td>\n      <td>NaN</td>\n      <td>NaN</td>\n      <td>NaN</td>\n      <td>NaN</td>\n      <td>NaN</td>\n      <td>NaN</td>\n      <td>9.63</td>\n      <td>GWA01-1_180.jpg</td>\n    </tr>\n    <tr>\n      <th>1440571</th>\n      <td>506724429</td>\n      <td>not-logged-in-31ddcc1d99963e7c9960</td>\n      <td>NaN</td>\n      <td>22040</td>\n      <td>T4</td>\n      <td>2023-08-17 13:41:27 UTC</td>\n      <td>78923883</td>\n      <td>point_extractor_by_frame</td>\n      <td>4.1.0</td>\n      <td>NaN</td>\n      <td>...</td>\n      <td>NaN</td>\n      <td>NaN</td>\n      <td>NaN</td>\n      <td>NaN</td>\n      <td>NaN</td>\n      <td>NaN</td>\n      <td>NaN</td>\n      <td>NaN</td>\n      <td>9.63</td>\n      <td>GWA01-1_180.jpg</td>\n    </tr>\n    <tr>\n      <th>1440572</th>\n      <td>506829613</td>\n      <td>not-logged-in-97b85c50671be4f91baa</td>\n      <td>NaN</td>\n      <td>22040</td>\n      <td>T2</td>\n      <td>2023-08-18 03:50:13 UTC</td>\n      <td>78923883</td>\n      <td>point_extractor_by_frame</td>\n      <td>4.1.0</td>\n      <td>NaN</td>\n      <td>...</td>\n      <td>NaN</td>\n      <td>NaN</td>\n      <td>NaN</td>\n      <td>NaN</td>\n      <td>NaN</td>\n      <td>NaN</td>\n      <td>NaN</td>\n      <td>NaN</td>\n      <td>9.63</td>\n      <td>GWA01-1_180.jpg</td>\n    </tr>\n    <tr>\n      <th>1440573</th>\n      <td>506829613</td>\n      <td>not-logged-in-97b85c50671be4f91baa</td>\n      <td>NaN</td>\n      <td>22040</td>\n      <td>T4</td>\n      <td>2023-08-18 03:50:13 UTC</td>\n      <td>78923883</td>\n      <td>point_extractor_by_frame</td>\n      <td>4.1.0</td>\n      <td>NaN</td>\n      <td>...</td>\n      <td>NaN</td>\n      <td>NaN</td>\n      <td>NaN</td>\n      <td>NaN</td>\n      <td>NaN</td>\n      <td>NaN</td>\n      <td>NaN</td>\n      <td>NaN</td>\n      <td>9.63</td>\n      <td>GWA01-1_180.jpg</td>\n    </tr>\n  </tbody>\n</table>\n<p>1440574 rows × 35 columns</p>\n</div>"
     },
     "execution_count": 76,
     "metadata": {},
     "output_type": "execute_result"
    }
   ],
   "source": [
    "# join the image name from the subjects file\n",
    "df_panoptes_point_extractor = df_panoptes_point_extractor.merge(df_subjects[[\"subject_id\", \"image_name\"]], left_on=\"subject_id\", right_on=\"subject_id\")\n",
    "df_panoptes_point_extractor = df_panoptes_point_extractor[df_panoptes_point_extractor.subject_id.isin(df_subjects.subject_id)]\n",
    "\n",
    "df_panoptes_point_extractor"
   ]
  },
  {
   "cell_type": "markdown",
   "id": "98655d7df058a64d",
   "metadata": {
    "collapsed": false
   },
   "source": [
    "## Anonymise the data"
   ]
  },
  {
   "cell_type": "code",
   "execution_count": 77,
   "id": "7053c0a8476989c3",
   "metadata": {
    "collapsed": false,
    "ExecuteTime": {
     "end_time": "2024-08-08T10:20:36.493496Z",
     "start_time": "2024-08-08T10:20:34.107179Z"
    }
   },
   "outputs": [],
   "source": [
    "from hashlib import blake2b\n",
    "\n",
    "df_panoptes_point_extractor[\"user_id\"] = df_panoptes_point_extractor['user_id'].apply(lambda x: blake2b(str(x).encode(), digest_size=16).hexdigest() if not pd.isnull(x) else x)\n",
    "# Anonymize 'user_name' by hashing\n",
    "df_panoptes_point_extractor['user_name'] = df_panoptes_point_extractor['user_name'].apply(lambda x: blake2b(x.encode(), digest_size=16).hexdigest() if isinstance(x, str) else x)\n",
    "\n",
    "df_panoptes_question[\"user_id\"] = df_panoptes_question['user_id'].apply(lambda x: blake2b(str(x).encode(), digest_size=16).hexdigest() if not pd.isnull(x) else x)\n",
    "# Anonymize 'user_name' by hashing\n",
    "df_panoptes_question['user_name'] = df_panoptes_question['user_name'].apply(lambda x: blake2b(x.encode(), digest_size=16).hexdigest() if isinstance(x, str) else x)"
   ]
  },
  {
   "cell_type": "code",
   "outputs": [
    {
     "data": {
      "text/plain": "subject_id\n78964280    31\n78925099    31\n78964277    31\n78964722    31\n78964794    31\n            ..\n78933830     1\n78933831     1\n78933836     1\n78933837     1\n78965186     1\nLength: 12029, dtype: int64"
     },
     "execution_count": 78,
     "metadata": {},
     "output_type": "execute_result"
    }
   ],
   "source": [
    "df_panoptes_question[df_panoptes_question[\"data.yes\"] == 1.0].groupby(\"subject_id\").size().sort_values(ascending=False)"
   ],
   "metadata": {
    "collapsed": false,
    "ExecuteTime": {
     "end_time": "2024-08-08T10:20:36.506642Z",
     "start_time": "2024-08-08T10:20:36.494239Z"
    }
   },
   "id": "c288fda1be55cfd2",
   "execution_count": 78
  },
  {
   "cell_type": "markdown",
   "id": "87cd528b792893ae",
   "metadata": {
    "collapsed": false
   },
   "source": [
    "## Determine the amount of yes Answers for \"Is there an Iguana\""
   ]
  },
  {
   "cell_type": "code",
   "execution_count": 79,
   "id": "f06344cdbad0cb10",
   "metadata": {
    "collapsed": false,
    "ExecuteTime": {
     "end_time": "2024-08-08T10:20:36.514116Z",
     "start_time": "2024-08-08T10:20:36.507429Z"
    }
   },
   "outputs": [
    {
     "data": {
      "text/plain": "        classification_id                         user_name  \\\n0               428441443  386fc0ec047b7e259744e72e8e64b9f9   \n1               428463469  386fc0ec047b7e259744e72e8e64b9f9   \n2               428803453  6d90c675de24df885cc880eab99a0cbe   \n3               428804329  d881a54ceca557c3fcd4c41a779bdc79   \n4               428830592  3e3f36ae551c3d0c2d21da11947419ac   \n...                   ...                               ...   \n712620          511354194  5db78ccea92857b77aeb4228f75e2030   \n712621          511354201  5db78ccea92857b77aeb4228f75e2030   \n712622          511354219  5db78ccea92857b77aeb4228f75e2030   \n712623          535140531  e0501775db3f1dc29d7773ccbd5b4083   \n712624          535140532  e0501775db3f1dc29d7773ccbd5b4083   \n\n                                 user_id  workflow_id task  \\\n0       ea57b1088a10fa7fef30ed0b344e2ca3        22040   T0   \n1       ea57b1088a10fa7fef30ed0b344e2ca3        22040   T0   \n2       5c78309a3a0e2fb4505af64d71e7a83d        22040   T0   \n3       8824af3b56d4acd5574a1a5e239d0348        22040   T0   \n4       fb780c1c46af055b562fae4f15c7207d        22040   T0   \n...                                  ...          ...  ...   \n712620  e2b4fd6b6d39bebba0a2185fbc78edba        22040   T0   \n712621  e2b4fd6b6d39bebba0a2185fbc78edba        22040   T0   \n712622  e2b4fd6b6d39bebba0a2185fbc78edba        22040   T0   \n712623                               NaN        22040   T0   \n712624                               NaN        22040   T0   \n\n                     created_at  subject_id           extractor  data.yes  \\\n0       2022-07-22 14:32:53 UTC    78861918  question_extractor       1.0   \n1       2022-07-22 16:29:00 UTC    78861913  question_extractor       1.0   \n2       2022-07-25 08:44:40 UTC    78961556  question_extractor       NaN   \n3       2022-07-25 08:57:30 UTC    78939084  question_extractor       NaN   \n4       2022-07-25 13:30:14 UTC    78957387  question_extractor       NaN   \n...                         ...         ...                 ...       ...   \n712620  2023-09-16 23:41:20 UTC    78922610  question_extractor       NaN   \n712621  2023-09-16 23:41:27 UTC    78922599  question_extractor       NaN   \n712622  2023-09-16 23:41:43 UTC    78922611  question_extractor       NaN   \n712623  2024-01-17 23:23:35 UTC    78922650  question_extractor       NaN   \n712624  2024-01-17 23:23:35 UTC    78922599  question_extractor       NaN   \n\n       data.aggregation_version  data.no  \n0                         4.1.0      NaN  \n1                         4.1.0      NaN  \n2                         4.1.0      1.0  \n3                         4.1.0      1.0  \n4                         4.1.0      1.0  \n...                         ...      ...  \n712620                    4.1.0      1.0  \n712621                    4.1.0      1.0  \n712622                    4.1.0      1.0  \n712623                    4.1.0      1.0  \n712624                    4.1.0      1.0  \n\n[720289 rows x 11 columns]",
      "text/html": "<div>\n<style scoped>\n    .dataframe tbody tr th:only-of-type {\n        vertical-align: middle;\n    }\n\n    .dataframe tbody tr th {\n        vertical-align: top;\n    }\n\n    .dataframe thead th {\n        text-align: right;\n    }\n</style>\n<table border=\"1\" class=\"dataframe\">\n  <thead>\n    <tr style=\"text-align: right;\">\n      <th></th>\n      <th>classification_id</th>\n      <th>user_name</th>\n      <th>user_id</th>\n      <th>workflow_id</th>\n      <th>task</th>\n      <th>created_at</th>\n      <th>subject_id</th>\n      <th>extractor</th>\n      <th>data.yes</th>\n      <th>data.aggregation_version</th>\n      <th>data.no</th>\n    </tr>\n  </thead>\n  <tbody>\n    <tr>\n      <th>0</th>\n      <td>428441443</td>\n      <td>386fc0ec047b7e259744e72e8e64b9f9</td>\n      <td>ea57b1088a10fa7fef30ed0b344e2ca3</td>\n      <td>22040</td>\n      <td>T0</td>\n      <td>2022-07-22 14:32:53 UTC</td>\n      <td>78861918</td>\n      <td>question_extractor</td>\n      <td>1.0</td>\n      <td>4.1.0</td>\n      <td>NaN</td>\n    </tr>\n    <tr>\n      <th>1</th>\n      <td>428463469</td>\n      <td>386fc0ec047b7e259744e72e8e64b9f9</td>\n      <td>ea57b1088a10fa7fef30ed0b344e2ca3</td>\n      <td>22040</td>\n      <td>T0</td>\n      <td>2022-07-22 16:29:00 UTC</td>\n      <td>78861913</td>\n      <td>question_extractor</td>\n      <td>1.0</td>\n      <td>4.1.0</td>\n      <td>NaN</td>\n    </tr>\n    <tr>\n      <th>2</th>\n      <td>428803453</td>\n      <td>6d90c675de24df885cc880eab99a0cbe</td>\n      <td>5c78309a3a0e2fb4505af64d71e7a83d</td>\n      <td>22040</td>\n      <td>T0</td>\n      <td>2022-07-25 08:44:40 UTC</td>\n      <td>78961556</td>\n      <td>question_extractor</td>\n      <td>NaN</td>\n      <td>4.1.0</td>\n      <td>1.0</td>\n    </tr>\n    <tr>\n      <th>3</th>\n      <td>428804329</td>\n      <td>d881a54ceca557c3fcd4c41a779bdc79</td>\n      <td>8824af3b56d4acd5574a1a5e239d0348</td>\n      <td>22040</td>\n      <td>T0</td>\n      <td>2022-07-25 08:57:30 UTC</td>\n      <td>78939084</td>\n      <td>question_extractor</td>\n      <td>NaN</td>\n      <td>4.1.0</td>\n      <td>1.0</td>\n    </tr>\n    <tr>\n      <th>4</th>\n      <td>428830592</td>\n      <td>3e3f36ae551c3d0c2d21da11947419ac</td>\n      <td>fb780c1c46af055b562fae4f15c7207d</td>\n      <td>22040</td>\n      <td>T0</td>\n      <td>2022-07-25 13:30:14 UTC</td>\n      <td>78957387</td>\n      <td>question_extractor</td>\n      <td>NaN</td>\n      <td>4.1.0</td>\n      <td>1.0</td>\n    </tr>\n    <tr>\n      <th>...</th>\n      <td>...</td>\n      <td>...</td>\n      <td>...</td>\n      <td>...</td>\n      <td>...</td>\n      <td>...</td>\n      <td>...</td>\n      <td>...</td>\n      <td>...</td>\n      <td>...</td>\n      <td>...</td>\n    </tr>\n    <tr>\n      <th>712620</th>\n      <td>511354194</td>\n      <td>5db78ccea92857b77aeb4228f75e2030</td>\n      <td>e2b4fd6b6d39bebba0a2185fbc78edba</td>\n      <td>22040</td>\n      <td>T0</td>\n      <td>2023-09-16 23:41:20 UTC</td>\n      <td>78922610</td>\n      <td>question_extractor</td>\n      <td>NaN</td>\n      <td>4.1.0</td>\n      <td>1.0</td>\n    </tr>\n    <tr>\n      <th>712621</th>\n      <td>511354201</td>\n      <td>5db78ccea92857b77aeb4228f75e2030</td>\n      <td>e2b4fd6b6d39bebba0a2185fbc78edba</td>\n      <td>22040</td>\n      <td>T0</td>\n      <td>2023-09-16 23:41:27 UTC</td>\n      <td>78922599</td>\n      <td>question_extractor</td>\n      <td>NaN</td>\n      <td>4.1.0</td>\n      <td>1.0</td>\n    </tr>\n    <tr>\n      <th>712622</th>\n      <td>511354219</td>\n      <td>5db78ccea92857b77aeb4228f75e2030</td>\n      <td>e2b4fd6b6d39bebba0a2185fbc78edba</td>\n      <td>22040</td>\n      <td>T0</td>\n      <td>2023-09-16 23:41:43 UTC</td>\n      <td>78922611</td>\n      <td>question_extractor</td>\n      <td>NaN</td>\n      <td>4.1.0</td>\n      <td>1.0</td>\n    </tr>\n    <tr>\n      <th>712623</th>\n      <td>535140531</td>\n      <td>e0501775db3f1dc29d7773ccbd5b4083</td>\n      <td>NaN</td>\n      <td>22040</td>\n      <td>T0</td>\n      <td>2024-01-17 23:23:35 UTC</td>\n      <td>78922650</td>\n      <td>question_extractor</td>\n      <td>NaN</td>\n      <td>4.1.0</td>\n      <td>1.0</td>\n    </tr>\n    <tr>\n      <th>712624</th>\n      <td>535140532</td>\n      <td>e0501775db3f1dc29d7773ccbd5b4083</td>\n      <td>NaN</td>\n      <td>22040</td>\n      <td>T0</td>\n      <td>2024-01-17 23:23:35 UTC</td>\n      <td>78922599</td>\n      <td>question_extractor</td>\n      <td>NaN</td>\n      <td>4.1.0</td>\n      <td>1.0</td>\n    </tr>\n  </tbody>\n</table>\n<p>720289 rows × 11 columns</p>\n</div>"
     },
     "execution_count": 79,
     "metadata": {},
     "output_type": "execute_result"
    }
   ],
   "source": [
    "df_panoptes_question"
   ]
  },
  {
   "cell_type": "code",
   "execution_count": 80,
   "id": "9974ba73721e5802",
   "metadata": {
    "collapsed": false,
    "ExecuteTime": {
     "end_time": "2024-08-08T10:20:36.659905Z",
     "start_time": "2024-08-08T10:20:36.514930Z"
    }
   },
   "outputs": [
    {
     "data": {
      "text/plain": "       subject_id  data.no  data.yes\n2        78921848     24.0       0.0\n3        78921849     31.0       0.0\n4        78921850     29.0       2.0\n5        78921851     30.0       1.0\n6        78921852     31.0       0.0\n...           ...      ...       ...\n24365    78965182     28.0       3.0\n24366    78965183      5.0      20.0\n24367    78965184     30.0       1.0\n24368    78965185     13.0      18.0\n24369    78965186     22.0       1.0\n\n[24368 rows x 3 columns]",
      "text/html": "<div>\n<style scoped>\n    .dataframe tbody tr th:only-of-type {\n        vertical-align: middle;\n    }\n\n    .dataframe tbody tr th {\n        vertical-align: top;\n    }\n\n    .dataframe thead th {\n        text-align: right;\n    }\n</style>\n<table border=\"1\" class=\"dataframe\">\n  <thead>\n    <tr style=\"text-align: right;\">\n      <th></th>\n      <th>subject_id</th>\n      <th>data.no</th>\n      <th>data.yes</th>\n    </tr>\n  </thead>\n  <tbody>\n    <tr>\n      <th>2</th>\n      <td>78921848</td>\n      <td>24.0</td>\n      <td>0.0</td>\n    </tr>\n    <tr>\n      <th>3</th>\n      <td>78921849</td>\n      <td>31.0</td>\n      <td>0.0</td>\n    </tr>\n    <tr>\n      <th>4</th>\n      <td>78921850</td>\n      <td>29.0</td>\n      <td>2.0</td>\n    </tr>\n    <tr>\n      <th>5</th>\n      <td>78921851</td>\n      <td>30.0</td>\n      <td>1.0</td>\n    </tr>\n    <tr>\n      <th>6</th>\n      <td>78921852</td>\n      <td>31.0</td>\n      <td>0.0</td>\n    </tr>\n    <tr>\n      <th>...</th>\n      <td>...</td>\n      <td>...</td>\n      <td>...</td>\n    </tr>\n    <tr>\n      <th>24365</th>\n      <td>78965182</td>\n      <td>28.0</td>\n      <td>3.0</td>\n    </tr>\n    <tr>\n      <th>24366</th>\n      <td>78965183</td>\n      <td>5.0</td>\n      <td>20.0</td>\n    </tr>\n    <tr>\n      <th>24367</th>\n      <td>78965184</td>\n      <td>30.0</td>\n      <td>1.0</td>\n    </tr>\n    <tr>\n      <th>24368</th>\n      <td>78965185</td>\n      <td>13.0</td>\n      <td>18.0</td>\n    </tr>\n    <tr>\n      <th>24369</th>\n      <td>78965186</td>\n      <td>22.0</td>\n      <td>1.0</td>\n    </tr>\n  </tbody>\n</table>\n<p>24368 rows × 3 columns</p>\n</div>"
     },
     "execution_count": 80,
     "metadata": {},
     "output_type": "execute_result"
    }
   ],
   "source": [
    "df_panoptes_question_r = df_panoptes_question[df_panoptes_question.task == \"T0\"][[\"subject_id\", \"data.no\", \"data.yes\"]].groupby(\"subject_id\").sum()\n",
    "\n",
    "df_panoptes_question_r = df_panoptes_question_r.reset_index()\n",
    "df_panoptes_question_r = df_panoptes_question_r[df_panoptes_question_r.subject_id.isin(df_subjects.subject_id)]\n",
    "df_panoptes_question_r"
   ]
  },
  {
   "cell_type": "code",
   "execution_count": 81,
   "id": "1751baa417c614c9",
   "metadata": {
    "collapsed": false,
    "ExecuteTime": {
     "end_time": "2024-08-08T10:20:36.683426Z",
     "start_time": "2024-08-08T10:20:36.660690Z"
    }
   },
   "outputs": [],
   "source": [
    "df_panoptes_question_r.to_csv(output_path / config[\"panoptes_question\"], index = False)"
   ]
  },
  {
   "cell_type": "markdown",
   "id": "b88625d141e60114",
   "metadata": {
    "collapsed": false
   },
   "source": [
    "## Get the Point Marks Analysis Ready"
   ]
  },
  {
   "cell_type": "markdown",
   "id": "4a3f1b8c5f2596bb",
   "metadata": {
    "collapsed": false
   },
   "source": [
    "Filter for T2 only"
   ]
  },
  {
   "cell_type": "code",
   "execution_count": 82,
   "id": "3ed3cb8b4acbfa4f",
   "metadata": {
    "collapsed": false,
    "ExecuteTime": {
     "end_time": "2024-08-08T10:20:36.961251Z",
     "start_time": "2024-08-08T10:20:36.684439Z"
    }
   },
   "outputs": [
    {
     "data": {
      "text/plain": "Index(['classification_id', 'user_name', 'user_id', 'workflow_id', 'task',\n       'created_at', 'subject_id', 'extractor', 'data.aggregation_version',\n       'data.frame0.T2_tool1_x', 'data.frame0.T2_tool1_y',\n       'data.frame0.T4_tool0_x', 'data.frame0.T4_tool0_y',\n       'data.frame0.T2_tool0_x', 'data.frame0.T2_tool0_y',\n       'data.frame0.T2_tool2_x', 'data.frame0.T2_tool2_y',\n       'data.frame0.T4_tool3_x', 'data.frame0.T4_tool3_y',\n       'data.frame0.T4_tool2_x', 'data.frame0.T4_tool2_y',\n       'data.frame0.T4_tool1_x', 'data.frame0.T4_tool1_y',\n       'data.frame0.T4_tool7_x', 'data.frame0.T4_tool7_y',\n       'data.frame0.T2_tool3_x', 'data.frame0.T2_tool3_y',\n       'data.frame0.T4_tool5_x', 'data.frame0.T4_tool5_y',\n       'data.frame0.T4_tool6_x', 'data.frame0.T4_tool6_y',\n       'data.frame0.T4_tool4_x', 'data.frame0.T4_tool4_y', 'workflow_version',\n       'image_name'],\n      dtype='object')"
     },
     "execution_count": 82,
     "metadata": {},
     "output_type": "execute_result"
    }
   ],
   "source": [
    "df_panoptes_point_extractor_r = df_panoptes_point_extractor[\n",
    "    (df_panoptes_point_extractor.task == \"T2\")\n",
    "]\n",
    "df_panoptes_point_extractor_r.columns"
   ]
  },
  {
   "cell_type": "markdown",
   "id": "1904d722c784ea8d",
   "metadata": {
    "collapsed": false
   },
   "source": [
    "### Which tool is which now?\n",
    "| Tool Name               | Classification                               |\n",
    "|-------------------------|----------------------------------------------|\n",
    "| data.frame0.T2_tool0_x  | Adult Male in a lek                          |\n",
    "| data.frame0.T2_tool1_x  | Adult Male alone                             |\n",
    "| data.frame0.T2_tool2_x  | Others (females, young males, juveniles)     |\n",
    "| data.frame0.T2_tool3_x  | Partial iguana                               |\n",
    "| data.frame0.T2_tool4_x  | Could be an iguana, not sure                 |\n",
    "\n",
    "Is \"Could be an iguana, not sure\" and \"Partial Iguana\" are omitted.\n"
   ]
  },
  {
   "cell_type": "code",
   "outputs": [
    {
     "data": {
      "text/plain": "         classification_id                         user_name  \\\n0                428803453  6d90c675de24df885cc880eab99a0cbe   \n2                430711757  c46159a74cc1f058c9cee2575138ae99   \n4                432408154  070b22b65ade1189e49fdd4074ffd19e   \n6                438063583  6be90f7c5906d966fa46278cab681c33   \n8                444573170  0814d5106f0eb5e30bef5e461b5bc509   \n...                    ...                               ...   \n1440564          504670840  edf0fdcbbabe07f3ed93abf632c2e0c0   \n1440566          505765122  4c7fe317496db725f9f7f44a9e7960fc   \n1440568          506596846  d8546b9840ce61c9f9825d0c16e0ccf1   \n1440570          506724429  5bee34ea2e62307313e81fed9dc59e89   \n1440572          506829613  efeb0c854aa7e8166ef679a9c598606b   \n\n                                  user_id  workflow_id task  \\\n0        5c78309a3a0e2fb4505af64d71e7a83d        22040   T2   \n2        2b43a5981ef5e0c9345e32317105e429        22040   T2   \n4        c902c528ae34dd70036e12f944e8dd28        22040   T2   \n6        b88ed174577219f7bc20ed439b5b8349        22040   T2   \n8        56a1977f012ec126a5e97415b0e8b7c1        22040   T2   \n...                                   ...          ...  ...   \n1440564  b59d03b689c8f933eed4ace8f7931639        22040   T2   \n1440566  a9f82bdcd6b06c824928a4102a669c06        22040   T2   \n1440568                               NaN        22040   T2   \n1440570                               NaN        22040   T2   \n1440572                               NaN        22040   T2   \n\n                      created_at  subject_id                 extractor  \\\n0        2022-07-25 08:44:40 UTC    78961556  point_extractor_by_frame   \n2        2022-08-04 14:48:04 UTC    78961556  point_extractor_by_frame   \n4        2022-08-13 20:33:37 UTC    78961556  point_extractor_by_frame   \n6        2022-09-12 14:23:10 UTC    78961556  point_extractor_by_frame   \n8        2022-10-14 23:11:19 UTC    78961556  point_extractor_by_frame   \n...                          ...         ...                       ...   \n1440564  2023-08-04 14:32:45 UTC    78923883  point_extractor_by_frame   \n1440566  2023-08-11 02:32:51 UTC    78923883  point_extractor_by_frame   \n1440568  2023-08-16 17:59:50 UTC    78923883  point_extractor_by_frame   \n1440570  2023-08-17 13:41:27 UTC    78923883  point_extractor_by_frame   \n1440572  2023-08-18 03:50:13 UTC    78923883  point_extractor_by_frame   \n\n        data.aggregation_version data.frame0.T2_tool1_x  ...  \\\n0                          4.1.0                    NaN  ...   \n2                          4.1.0                    NaN  ...   \n4                          4.1.0                    NaN  ...   \n6                          4.1.0                    NaN  ...   \n8                          4.1.0                    NaN  ...   \n...                          ...                    ...  ...   \n1440564                    4.1.0                    NaN  ...   \n1440566                    4.1.0                    NaN  ...   \n1440568                    4.1.0                    NaN  ...   \n1440570                    4.1.0                    NaN  ...   \n1440572                    4.1.0                    NaN  ...   \n\n        data.frame0.T2_tool3_x data.frame0.T2_tool3_y data.frame0.T4_tool5_x  \\\n0                          NaN                    NaN                    NaN   \n2                          NaN                    NaN                    NaN   \n4                          NaN                    NaN                    NaN   \n6                          NaN                    NaN                    NaN   \n8                          NaN                    NaN                    NaN   \n...                        ...                    ...                    ...   \n1440564                    NaN                    NaN                    NaN   \n1440566                    NaN                    NaN                    NaN   \n1440568                    NaN                    NaN                    NaN   \n1440570                    NaN                    NaN                    NaN   \n1440572                    NaN                    NaN                    NaN   \n\n        data.frame0.T4_tool5_y data.frame0.T4_tool6_x data.frame0.T4_tool6_y  \\\n0                          NaN                    NaN                    NaN   \n2                          NaN                    NaN                    NaN   \n4                          NaN                    NaN                    NaN   \n6                          NaN                    NaN                    NaN   \n8                          NaN                    NaN                    NaN   \n...                        ...                    ...                    ...   \n1440564                    NaN                    NaN                    NaN   \n1440566                    NaN                    NaN                    NaN   \n1440568                    NaN                    NaN                    NaN   \n1440570                    NaN                    NaN                    NaN   \n1440572                    NaN                    NaN                    NaN   \n\n        data.frame0.T4_tool4_x data.frame0.T4_tool4_y workflow_version  \\\n0                          NaN                    NaN             7.63   \n2                          NaN                    NaN             9.63   \n4                          NaN                    NaN             9.63   \n6                          NaN                    NaN             9.63   \n8                          NaN                    NaN             9.63   \n...                        ...                    ...              ...   \n1440564                    NaN                    NaN             9.63   \n1440566                    NaN                    NaN             9.63   \n1440568                    NaN                    NaN             9.63   \n1440570                    NaN                    NaN             9.63   \n1440572                    NaN                    NaN             9.63   \n\n                image_name  \n0        PCIE13-2-2_83.jpg  \n2        PCIE13-2-2_83.jpg  \n4        PCIE13-2-2_83.jpg  \n6        PCIE13-2-2_83.jpg  \n8        PCIE13-2-2_83.jpg  \n...                    ...  \n1440564    GWA01-1_180.jpg  \n1440566    GWA01-1_180.jpg  \n1440568    GWA01-1_180.jpg  \n1440570    GWA01-1_180.jpg  \n1440572    GWA01-1_180.jpg  \n\n[720287 rows x 35 columns]",
      "text/html": "<div>\n<style scoped>\n    .dataframe tbody tr th:only-of-type {\n        vertical-align: middle;\n    }\n\n    .dataframe tbody tr th {\n        vertical-align: top;\n    }\n\n    .dataframe thead th {\n        text-align: right;\n    }\n</style>\n<table border=\"1\" class=\"dataframe\">\n  <thead>\n    <tr style=\"text-align: right;\">\n      <th></th>\n      <th>classification_id</th>\n      <th>user_name</th>\n      <th>user_id</th>\n      <th>workflow_id</th>\n      <th>task</th>\n      <th>created_at</th>\n      <th>subject_id</th>\n      <th>extractor</th>\n      <th>data.aggregation_version</th>\n      <th>data.frame0.T2_tool1_x</th>\n      <th>...</th>\n      <th>data.frame0.T2_tool3_x</th>\n      <th>data.frame0.T2_tool3_y</th>\n      <th>data.frame0.T4_tool5_x</th>\n      <th>data.frame0.T4_tool5_y</th>\n      <th>data.frame0.T4_tool6_x</th>\n      <th>data.frame0.T4_tool6_y</th>\n      <th>data.frame0.T4_tool4_x</th>\n      <th>data.frame0.T4_tool4_y</th>\n      <th>workflow_version</th>\n      <th>image_name</th>\n    </tr>\n  </thead>\n  <tbody>\n    <tr>\n      <th>0</th>\n      <td>428803453</td>\n      <td>6d90c675de24df885cc880eab99a0cbe</td>\n      <td>5c78309a3a0e2fb4505af64d71e7a83d</td>\n      <td>22040</td>\n      <td>T2</td>\n      <td>2022-07-25 08:44:40 UTC</td>\n      <td>78961556</td>\n      <td>point_extractor_by_frame</td>\n      <td>4.1.0</td>\n      <td>NaN</td>\n      <td>...</td>\n      <td>NaN</td>\n      <td>NaN</td>\n      <td>NaN</td>\n      <td>NaN</td>\n      <td>NaN</td>\n      <td>NaN</td>\n      <td>NaN</td>\n      <td>NaN</td>\n      <td>7.63</td>\n      <td>PCIE13-2-2_83.jpg</td>\n    </tr>\n    <tr>\n      <th>2</th>\n      <td>430711757</td>\n      <td>c46159a74cc1f058c9cee2575138ae99</td>\n      <td>2b43a5981ef5e0c9345e32317105e429</td>\n      <td>22040</td>\n      <td>T2</td>\n      <td>2022-08-04 14:48:04 UTC</td>\n      <td>78961556</td>\n      <td>point_extractor_by_frame</td>\n      <td>4.1.0</td>\n      <td>NaN</td>\n      <td>...</td>\n      <td>NaN</td>\n      <td>NaN</td>\n      <td>NaN</td>\n      <td>NaN</td>\n      <td>NaN</td>\n      <td>NaN</td>\n      <td>NaN</td>\n      <td>NaN</td>\n      <td>9.63</td>\n      <td>PCIE13-2-2_83.jpg</td>\n    </tr>\n    <tr>\n      <th>4</th>\n      <td>432408154</td>\n      <td>070b22b65ade1189e49fdd4074ffd19e</td>\n      <td>c902c528ae34dd70036e12f944e8dd28</td>\n      <td>22040</td>\n      <td>T2</td>\n      <td>2022-08-13 20:33:37 UTC</td>\n      <td>78961556</td>\n      <td>point_extractor_by_frame</td>\n      <td>4.1.0</td>\n      <td>NaN</td>\n      <td>...</td>\n      <td>NaN</td>\n      <td>NaN</td>\n      <td>NaN</td>\n      <td>NaN</td>\n      <td>NaN</td>\n      <td>NaN</td>\n      <td>NaN</td>\n      <td>NaN</td>\n      <td>9.63</td>\n      <td>PCIE13-2-2_83.jpg</td>\n    </tr>\n    <tr>\n      <th>6</th>\n      <td>438063583</td>\n      <td>6be90f7c5906d966fa46278cab681c33</td>\n      <td>b88ed174577219f7bc20ed439b5b8349</td>\n      <td>22040</td>\n      <td>T2</td>\n      <td>2022-09-12 14:23:10 UTC</td>\n      <td>78961556</td>\n      <td>point_extractor_by_frame</td>\n      <td>4.1.0</td>\n      <td>NaN</td>\n      <td>...</td>\n      <td>NaN</td>\n      <td>NaN</td>\n      <td>NaN</td>\n      <td>NaN</td>\n      <td>NaN</td>\n      <td>NaN</td>\n      <td>NaN</td>\n      <td>NaN</td>\n      <td>9.63</td>\n      <td>PCIE13-2-2_83.jpg</td>\n    </tr>\n    <tr>\n      <th>8</th>\n      <td>444573170</td>\n      <td>0814d5106f0eb5e30bef5e461b5bc509</td>\n      <td>56a1977f012ec126a5e97415b0e8b7c1</td>\n      <td>22040</td>\n      <td>T2</td>\n      <td>2022-10-14 23:11:19 UTC</td>\n      <td>78961556</td>\n      <td>point_extractor_by_frame</td>\n      <td>4.1.0</td>\n      <td>NaN</td>\n      <td>...</td>\n      <td>NaN</td>\n      <td>NaN</td>\n      <td>NaN</td>\n      <td>NaN</td>\n      <td>NaN</td>\n      <td>NaN</td>\n      <td>NaN</td>\n      <td>NaN</td>\n      <td>9.63</td>\n      <td>PCIE13-2-2_83.jpg</td>\n    </tr>\n    <tr>\n      <th>...</th>\n      <td>...</td>\n      <td>...</td>\n      <td>...</td>\n      <td>...</td>\n      <td>...</td>\n      <td>...</td>\n      <td>...</td>\n      <td>...</td>\n      <td>...</td>\n      <td>...</td>\n      <td>...</td>\n      <td>...</td>\n      <td>...</td>\n      <td>...</td>\n      <td>...</td>\n      <td>...</td>\n      <td>...</td>\n      <td>...</td>\n      <td>...</td>\n      <td>...</td>\n      <td>...</td>\n    </tr>\n    <tr>\n      <th>1440564</th>\n      <td>504670840</td>\n      <td>edf0fdcbbabe07f3ed93abf632c2e0c0</td>\n      <td>b59d03b689c8f933eed4ace8f7931639</td>\n      <td>22040</td>\n      <td>T2</td>\n      <td>2023-08-04 14:32:45 UTC</td>\n      <td>78923883</td>\n      <td>point_extractor_by_frame</td>\n      <td>4.1.0</td>\n      <td>NaN</td>\n      <td>...</td>\n      <td>NaN</td>\n      <td>NaN</td>\n      <td>NaN</td>\n      <td>NaN</td>\n      <td>NaN</td>\n      <td>NaN</td>\n      <td>NaN</td>\n      <td>NaN</td>\n      <td>9.63</td>\n      <td>GWA01-1_180.jpg</td>\n    </tr>\n    <tr>\n      <th>1440566</th>\n      <td>505765122</td>\n      <td>4c7fe317496db725f9f7f44a9e7960fc</td>\n      <td>a9f82bdcd6b06c824928a4102a669c06</td>\n      <td>22040</td>\n      <td>T2</td>\n      <td>2023-08-11 02:32:51 UTC</td>\n      <td>78923883</td>\n      <td>point_extractor_by_frame</td>\n      <td>4.1.0</td>\n      <td>NaN</td>\n      <td>...</td>\n      <td>NaN</td>\n      <td>NaN</td>\n      <td>NaN</td>\n      <td>NaN</td>\n      <td>NaN</td>\n      <td>NaN</td>\n      <td>NaN</td>\n      <td>NaN</td>\n      <td>9.63</td>\n      <td>GWA01-1_180.jpg</td>\n    </tr>\n    <tr>\n      <th>1440568</th>\n      <td>506596846</td>\n      <td>d8546b9840ce61c9f9825d0c16e0ccf1</td>\n      <td>NaN</td>\n      <td>22040</td>\n      <td>T2</td>\n      <td>2023-08-16 17:59:50 UTC</td>\n      <td>78923883</td>\n      <td>point_extractor_by_frame</td>\n      <td>4.1.0</td>\n      <td>NaN</td>\n      <td>...</td>\n      <td>NaN</td>\n      <td>NaN</td>\n      <td>NaN</td>\n      <td>NaN</td>\n      <td>NaN</td>\n      <td>NaN</td>\n      <td>NaN</td>\n      <td>NaN</td>\n      <td>9.63</td>\n      <td>GWA01-1_180.jpg</td>\n    </tr>\n    <tr>\n      <th>1440570</th>\n      <td>506724429</td>\n      <td>5bee34ea2e62307313e81fed9dc59e89</td>\n      <td>NaN</td>\n      <td>22040</td>\n      <td>T2</td>\n      <td>2023-08-17 13:41:27 UTC</td>\n      <td>78923883</td>\n      <td>point_extractor_by_frame</td>\n      <td>4.1.0</td>\n      <td>NaN</td>\n      <td>...</td>\n      <td>NaN</td>\n      <td>NaN</td>\n      <td>NaN</td>\n      <td>NaN</td>\n      <td>NaN</td>\n      <td>NaN</td>\n      <td>NaN</td>\n      <td>NaN</td>\n      <td>9.63</td>\n      <td>GWA01-1_180.jpg</td>\n    </tr>\n    <tr>\n      <th>1440572</th>\n      <td>506829613</td>\n      <td>efeb0c854aa7e8166ef679a9c598606b</td>\n      <td>NaN</td>\n      <td>22040</td>\n      <td>T2</td>\n      <td>2023-08-18 03:50:13 UTC</td>\n      <td>78923883</td>\n      <td>point_extractor_by_frame</td>\n      <td>4.1.0</td>\n      <td>NaN</td>\n      <td>...</td>\n      <td>NaN</td>\n      <td>NaN</td>\n      <td>NaN</td>\n      <td>NaN</td>\n      <td>NaN</td>\n      <td>NaN</td>\n      <td>NaN</td>\n      <td>NaN</td>\n      <td>9.63</td>\n      <td>GWA01-1_180.jpg</td>\n    </tr>\n  </tbody>\n</table>\n<p>720287 rows × 35 columns</p>\n</div>"
     },
     "execution_count": 83,
     "metadata": {},
     "output_type": "execute_result"
    }
   ],
   "source": [
    "df_panoptes_point_extractor_r"
   ],
   "metadata": {
    "collapsed": false,
    "ExecuteTime": {
     "end_time": "2024-08-08T10:20:37.558397Z",
     "start_time": "2024-08-08T10:20:36.962515Z"
    }
   },
   "id": "b33bf0d52cb61e5f",
   "execution_count": 83
  },
  {
   "cell_type": "code",
   "execution_count": 85,
   "id": "895d1e319dc99c4a",
   "metadata": {
    "collapsed": false,
    "ExecuteTime": {
     "end_time": "2024-08-08T10:24:15.966486Z",
     "start_time": "2024-08-08T10:24:15.712903Z"
    }
   },
   "outputs": [
    {
     "name": "stderr",
     "output_type": "stream",
     "text": [
      "/var/folders/2k/78nn7s4548986wsjh29rhj9w0000gn/T/ipykernel_14577/4096397096.py:11: DeprecationWarning: The truth value of an empty array is ambiguous. Returning False, but in future this will result in an error. Use `array.size > 0` to check that an array is not empty.\n",
      "  df_panoptes_point_extractor_r[col] = df_panoptes_point_extractor_r[col].apply(lambda x: literal_eval(x) if pd.notnull(x) else [])\n"
     ]
    },
    {
     "ename": "ValueError",
     "evalue": "The truth value of an array with more than one element is ambiguous. Use a.any() or a.all()",
     "output_type": "error",
     "traceback": [
      "\u001B[0;31m---------------------------------------------------------------------------\u001B[0m",
      "\u001B[0;31mValueError\u001B[0m                                Traceback (most recent call last)",
      "Cell \u001B[0;32mIn[85], line 11\u001B[0m\n\u001B[1;32m      8\u001B[0m     columns_keep_y \u001B[38;5;241m=\u001B[39m [\u001B[38;5;124m'\u001B[39m\u001B[38;5;124mdata.frame0.T2_tool0_y\u001B[39m\u001B[38;5;124m'\u001B[39m, \u001B[38;5;124m'\u001B[39m\u001B[38;5;124mdata.frame0.T2_tool1_y\u001B[39m\u001B[38;5;124m'\u001B[39m, \u001B[38;5;124m'\u001B[39m\u001B[38;5;124mdata.frame0.T2_tool2_y\u001B[39m\u001B[38;5;124m'\u001B[39m, \u001B[38;5;124m'\u001B[39m\u001B[38;5;124mdata.frame0.T2_tool4_y\u001B[39m\u001B[38;5;124m'\u001B[39m]\n\u001B[1;32m     10\u001B[0m \u001B[38;5;28;01mfor\u001B[39;00m col \u001B[38;5;129;01min\u001B[39;00m columns_keep_x \u001B[38;5;241m+\u001B[39m columns_keep_y:\n\u001B[0;32m---> 11\u001B[0m     df_panoptes_point_extractor_r[col] \u001B[38;5;241m=\u001B[39m \u001B[43mdf_panoptes_point_extractor_r\u001B[49m\u001B[43m[\u001B[49m\u001B[43mcol\u001B[49m\u001B[43m]\u001B[49m\u001B[38;5;241;43m.\u001B[39;49m\u001B[43mapply\u001B[49m\u001B[43m(\u001B[49m\u001B[38;5;28;43;01mlambda\u001B[39;49;00m\u001B[43m \u001B[49m\u001B[43mx\u001B[49m\u001B[43m:\u001B[49m\u001B[43m \u001B[49m\u001B[43mliteral_eval\u001B[49m\u001B[43m(\u001B[49m\u001B[43mx\u001B[49m\u001B[43m)\u001B[49m\u001B[43m \u001B[49m\u001B[38;5;28;43;01mif\u001B[39;49;00m\u001B[43m \u001B[49m\u001B[43mpd\u001B[49m\u001B[38;5;241;43m.\u001B[39;49m\u001B[43mnotnull\u001B[49m\u001B[43m(\u001B[49m\u001B[43mx\u001B[49m\u001B[43m)\u001B[49m\u001B[43m \u001B[49m\u001B[38;5;28;43;01melse\u001B[39;49;00m\u001B[43m \u001B[49m\u001B[43m[\u001B[49m\u001B[43m]\u001B[49m\u001B[43m)\u001B[49m\n\u001B[1;32m     13\u001B[0m \u001B[38;5;66;03m# Merge the lists in 'x' and 'y' coordinates\u001B[39;00m\n\u001B[1;32m     14\u001B[0m df_panoptes_point_extractor_r[\u001B[38;5;124m'\u001B[39m\u001B[38;5;124mx\u001B[39m\u001B[38;5;124m'\u001B[39m] \u001B[38;5;241m=\u001B[39m df_panoptes_point_extractor_r[columns_keep_x]\u001B[38;5;241m.\u001B[39mvalues\u001B[38;5;241m.\u001B[39mtolist()\n",
      "File \u001B[0;32m~/PycharmProjects/iguanas-from-above-zooniverse/venv/lib/python3.9/site-packages/pandas/core/series.py:4753\u001B[0m, in \u001B[0;36mSeries.apply\u001B[0;34m(self, func, convert_dtype, args, by_row, **kwargs)\u001B[0m\n\u001B[1;32m   4625\u001B[0m \u001B[38;5;28;01mdef\u001B[39;00m \u001B[38;5;21mapply\u001B[39m(\n\u001B[1;32m   4626\u001B[0m     \u001B[38;5;28mself\u001B[39m,\n\u001B[1;32m   4627\u001B[0m     func: AggFuncType,\n\u001B[0;32m   (...)\u001B[0m\n\u001B[1;32m   4632\u001B[0m     \u001B[38;5;241m*\u001B[39m\u001B[38;5;241m*\u001B[39mkwargs,\n\u001B[1;32m   4633\u001B[0m ) \u001B[38;5;241m-\u001B[39m\u001B[38;5;241m>\u001B[39m DataFrame \u001B[38;5;241m|\u001B[39m Series:\n\u001B[1;32m   4634\u001B[0m \u001B[38;5;250m    \u001B[39m\u001B[38;5;124;03m\"\"\"\u001B[39;00m\n\u001B[1;32m   4635\u001B[0m \u001B[38;5;124;03m    Invoke function on values of Series.\u001B[39;00m\n\u001B[1;32m   4636\u001B[0m \n\u001B[0;32m   (...)\u001B[0m\n\u001B[1;32m   4751\u001B[0m \u001B[38;5;124;03m    dtype: float64\u001B[39;00m\n\u001B[1;32m   4752\u001B[0m \u001B[38;5;124;03m    \"\"\"\u001B[39;00m\n\u001B[0;32m-> 4753\u001B[0m     \u001B[38;5;28;01mreturn\u001B[39;00m \u001B[43mSeriesApply\u001B[49m\u001B[43m(\u001B[49m\n\u001B[1;32m   4754\u001B[0m \u001B[43m        \u001B[49m\u001B[38;5;28;43mself\u001B[39;49m\u001B[43m,\u001B[49m\n\u001B[1;32m   4755\u001B[0m \u001B[43m        \u001B[49m\u001B[43mfunc\u001B[49m\u001B[43m,\u001B[49m\n\u001B[1;32m   4756\u001B[0m \u001B[43m        \u001B[49m\u001B[43mconvert_dtype\u001B[49m\u001B[38;5;241;43m=\u001B[39;49m\u001B[43mconvert_dtype\u001B[49m\u001B[43m,\u001B[49m\n\u001B[1;32m   4757\u001B[0m \u001B[43m        \u001B[49m\u001B[43mby_row\u001B[49m\u001B[38;5;241;43m=\u001B[39;49m\u001B[43mby_row\u001B[49m\u001B[43m,\u001B[49m\n\u001B[1;32m   4758\u001B[0m \u001B[43m        \u001B[49m\u001B[43margs\u001B[49m\u001B[38;5;241;43m=\u001B[39;49m\u001B[43margs\u001B[49m\u001B[43m,\u001B[49m\n\u001B[1;32m   4759\u001B[0m \u001B[43m        \u001B[49m\u001B[43mkwargs\u001B[49m\u001B[38;5;241;43m=\u001B[39;49m\u001B[43mkwargs\u001B[49m\u001B[43m,\u001B[49m\n\u001B[1;32m   4760\u001B[0m \u001B[43m    \u001B[49m\u001B[43m)\u001B[49m\u001B[38;5;241;43m.\u001B[39;49m\u001B[43mapply\u001B[49m\u001B[43m(\u001B[49m\u001B[43m)\u001B[49m\n",
      "File \u001B[0;32m~/PycharmProjects/iguanas-from-above-zooniverse/venv/lib/python3.9/site-packages/pandas/core/apply.py:1207\u001B[0m, in \u001B[0;36mSeriesApply.apply\u001B[0;34m(self)\u001B[0m\n\u001B[1;32m   1204\u001B[0m     \u001B[38;5;28;01mreturn\u001B[39;00m \u001B[38;5;28mself\u001B[39m\u001B[38;5;241m.\u001B[39mapply_compat()\n\u001B[1;32m   1206\u001B[0m \u001B[38;5;66;03m# self.func is Callable\u001B[39;00m\n\u001B[0;32m-> 1207\u001B[0m \u001B[38;5;28;01mreturn\u001B[39;00m \u001B[38;5;28;43mself\u001B[39;49m\u001B[38;5;241;43m.\u001B[39;49m\u001B[43mapply_standard\u001B[49m\u001B[43m(\u001B[49m\u001B[43m)\u001B[49m\n",
      "File \u001B[0;32m~/PycharmProjects/iguanas-from-above-zooniverse/venv/lib/python3.9/site-packages/pandas/core/apply.py:1287\u001B[0m, in \u001B[0;36mSeriesApply.apply_standard\u001B[0;34m(self)\u001B[0m\n\u001B[1;32m   1281\u001B[0m \u001B[38;5;66;03m# row-wise access\u001B[39;00m\n\u001B[1;32m   1282\u001B[0m \u001B[38;5;66;03m# apply doesn't have a `na_action` keyword and for backward compat reasons\u001B[39;00m\n\u001B[1;32m   1283\u001B[0m \u001B[38;5;66;03m# we need to give `na_action=\"ignore\"` for categorical data.\u001B[39;00m\n\u001B[1;32m   1284\u001B[0m \u001B[38;5;66;03m# TODO: remove the `na_action=\"ignore\"` when that default has been changed in\u001B[39;00m\n\u001B[1;32m   1285\u001B[0m \u001B[38;5;66;03m#  Categorical (GH51645).\u001B[39;00m\n\u001B[1;32m   1286\u001B[0m action \u001B[38;5;241m=\u001B[39m \u001B[38;5;124m\"\u001B[39m\u001B[38;5;124mignore\u001B[39m\u001B[38;5;124m\"\u001B[39m \u001B[38;5;28;01mif\u001B[39;00m \u001B[38;5;28misinstance\u001B[39m(obj\u001B[38;5;241m.\u001B[39mdtype, CategoricalDtype) \u001B[38;5;28;01melse\u001B[39;00m \u001B[38;5;28;01mNone\u001B[39;00m\n\u001B[0;32m-> 1287\u001B[0m mapped \u001B[38;5;241m=\u001B[39m \u001B[43mobj\u001B[49m\u001B[38;5;241;43m.\u001B[39;49m\u001B[43m_map_values\u001B[49m\u001B[43m(\u001B[49m\n\u001B[1;32m   1288\u001B[0m \u001B[43m    \u001B[49m\u001B[43mmapper\u001B[49m\u001B[38;5;241;43m=\u001B[39;49m\u001B[43mcurried\u001B[49m\u001B[43m,\u001B[49m\u001B[43m \u001B[49m\u001B[43mna_action\u001B[49m\u001B[38;5;241;43m=\u001B[39;49m\u001B[43maction\u001B[49m\u001B[43m,\u001B[49m\u001B[43m \u001B[49m\u001B[43mconvert\u001B[49m\u001B[38;5;241;43m=\u001B[39;49m\u001B[38;5;28;43mself\u001B[39;49m\u001B[38;5;241;43m.\u001B[39;49m\u001B[43mconvert_dtype\u001B[49m\n\u001B[1;32m   1289\u001B[0m \u001B[43m\u001B[49m\u001B[43m)\u001B[49m\n\u001B[1;32m   1291\u001B[0m \u001B[38;5;28;01mif\u001B[39;00m \u001B[38;5;28mlen\u001B[39m(mapped) \u001B[38;5;129;01mand\u001B[39;00m \u001B[38;5;28misinstance\u001B[39m(mapped[\u001B[38;5;241m0\u001B[39m], ABCSeries):\n\u001B[1;32m   1292\u001B[0m     \u001B[38;5;66;03m# GH#43986 Need to do list(mapped) in order to get treated as nested\u001B[39;00m\n\u001B[1;32m   1293\u001B[0m     \u001B[38;5;66;03m#  See also GH#25959 regarding EA support\u001B[39;00m\n\u001B[1;32m   1294\u001B[0m     \u001B[38;5;28;01mreturn\u001B[39;00m obj\u001B[38;5;241m.\u001B[39m_constructor_expanddim(\u001B[38;5;28mlist\u001B[39m(mapped), index\u001B[38;5;241m=\u001B[39mobj\u001B[38;5;241m.\u001B[39mindex)\n",
      "File \u001B[0;32m~/PycharmProjects/iguanas-from-above-zooniverse/venv/lib/python3.9/site-packages/pandas/core/base.py:921\u001B[0m, in \u001B[0;36mIndexOpsMixin._map_values\u001B[0;34m(self, mapper, na_action, convert)\u001B[0m\n\u001B[1;32m    918\u001B[0m \u001B[38;5;28;01mif\u001B[39;00m \u001B[38;5;28misinstance\u001B[39m(arr, ExtensionArray):\n\u001B[1;32m    919\u001B[0m     \u001B[38;5;28;01mreturn\u001B[39;00m arr\u001B[38;5;241m.\u001B[39mmap(mapper, na_action\u001B[38;5;241m=\u001B[39mna_action)\n\u001B[0;32m--> 921\u001B[0m \u001B[38;5;28;01mreturn\u001B[39;00m \u001B[43malgorithms\u001B[49m\u001B[38;5;241;43m.\u001B[39;49m\u001B[43mmap_array\u001B[49m\u001B[43m(\u001B[49m\u001B[43marr\u001B[49m\u001B[43m,\u001B[49m\u001B[43m \u001B[49m\u001B[43mmapper\u001B[49m\u001B[43m,\u001B[49m\u001B[43m \u001B[49m\u001B[43mna_action\u001B[49m\u001B[38;5;241;43m=\u001B[39;49m\u001B[43mna_action\u001B[49m\u001B[43m,\u001B[49m\u001B[43m \u001B[49m\u001B[43mconvert\u001B[49m\u001B[38;5;241;43m=\u001B[39;49m\u001B[43mconvert\u001B[49m\u001B[43m)\u001B[49m\n",
      "File \u001B[0;32m~/PycharmProjects/iguanas-from-above-zooniverse/venv/lib/python3.9/site-packages/pandas/core/algorithms.py:1814\u001B[0m, in \u001B[0;36mmap_array\u001B[0;34m(arr, mapper, na_action, convert)\u001B[0m\n\u001B[1;32m   1812\u001B[0m values \u001B[38;5;241m=\u001B[39m arr\u001B[38;5;241m.\u001B[39mastype(\u001B[38;5;28mobject\u001B[39m, copy\u001B[38;5;241m=\u001B[39m\u001B[38;5;28;01mFalse\u001B[39;00m)\n\u001B[1;32m   1813\u001B[0m \u001B[38;5;28;01mif\u001B[39;00m na_action \u001B[38;5;129;01mis\u001B[39;00m \u001B[38;5;28;01mNone\u001B[39;00m:\n\u001B[0;32m-> 1814\u001B[0m     \u001B[38;5;28;01mreturn\u001B[39;00m \u001B[43mlib\u001B[49m\u001B[38;5;241;43m.\u001B[39;49m\u001B[43mmap_infer\u001B[49m\u001B[43m(\u001B[49m\u001B[43mvalues\u001B[49m\u001B[43m,\u001B[49m\u001B[43m \u001B[49m\u001B[43mmapper\u001B[49m\u001B[43m,\u001B[49m\u001B[43m \u001B[49m\u001B[43mconvert\u001B[49m\u001B[38;5;241;43m=\u001B[39;49m\u001B[43mconvert\u001B[49m\u001B[43m)\u001B[49m\n\u001B[1;32m   1815\u001B[0m \u001B[38;5;28;01melse\u001B[39;00m:\n\u001B[1;32m   1816\u001B[0m     \u001B[38;5;28;01mreturn\u001B[39;00m lib\u001B[38;5;241m.\u001B[39mmap_infer_mask(\n\u001B[1;32m   1817\u001B[0m         values, mapper, mask\u001B[38;5;241m=\u001B[39misna(values)\u001B[38;5;241m.\u001B[39mview(np\u001B[38;5;241m.\u001B[39muint8), convert\u001B[38;5;241m=\u001B[39mconvert\n\u001B[1;32m   1818\u001B[0m     )\n",
      "File \u001B[0;32mlib.pyx:2920\u001B[0m, in \u001B[0;36mpandas._libs.lib.map_infer\u001B[0;34m()\u001B[0m\n",
      "Cell \u001B[0;32mIn[85], line 11\u001B[0m, in \u001B[0;36m<lambda>\u001B[0;34m(x)\u001B[0m\n\u001B[1;32m      8\u001B[0m     columns_keep_y \u001B[38;5;241m=\u001B[39m [\u001B[38;5;124m'\u001B[39m\u001B[38;5;124mdata.frame0.T2_tool0_y\u001B[39m\u001B[38;5;124m'\u001B[39m, \u001B[38;5;124m'\u001B[39m\u001B[38;5;124mdata.frame0.T2_tool1_y\u001B[39m\u001B[38;5;124m'\u001B[39m, \u001B[38;5;124m'\u001B[39m\u001B[38;5;124mdata.frame0.T2_tool2_y\u001B[39m\u001B[38;5;124m'\u001B[39m, \u001B[38;5;124m'\u001B[39m\u001B[38;5;124mdata.frame0.T2_tool4_y\u001B[39m\u001B[38;5;124m'\u001B[39m]\n\u001B[1;32m     10\u001B[0m \u001B[38;5;28;01mfor\u001B[39;00m col \u001B[38;5;129;01min\u001B[39;00m columns_keep_x \u001B[38;5;241m+\u001B[39m columns_keep_y:\n\u001B[0;32m---> 11\u001B[0m     df_panoptes_point_extractor_r[col] \u001B[38;5;241m=\u001B[39m df_panoptes_point_extractor_r[col]\u001B[38;5;241m.\u001B[39mapply(\u001B[38;5;28;01mlambda\u001B[39;00m x: literal_eval(x) \u001B[38;5;28;01mif\u001B[39;00m pd\u001B[38;5;241m.\u001B[39mnotnull(x) \u001B[38;5;28;01melse\u001B[39;00m [])\n\u001B[1;32m     13\u001B[0m \u001B[38;5;66;03m# Merge the lists in 'x' and 'y' coordinates\u001B[39;00m\n\u001B[1;32m     14\u001B[0m df_panoptes_point_extractor_r[\u001B[38;5;124m'\u001B[39m\u001B[38;5;124mx\u001B[39m\u001B[38;5;124m'\u001B[39m] \u001B[38;5;241m=\u001B[39m df_panoptes_point_extractor_r[columns_keep_x]\u001B[38;5;241m.\u001B[39mvalues\u001B[38;5;241m.\u001B[39mtolist()\n",
      "\u001B[0;31mValueError\u001B[0m: The truth value of an array with more than one element is ambiguous. Use a.any() or a.all()"
     ]
    }
   ],
   "source": [
    "# create a flat structure from the nested marks over multiple columns from that.\n",
    "from ast import literal_eval\n",
    "\n",
    "\n",
    "if data_folder == \"./data/phase_3\": \n",
    "    columns_keep_x = ['data.frame0.T2_tool0_x', 'data.frame0.T2_tool1_x', 'data.frame0.T2_tool2_x']\n",
    "    columns_keep_y = ['data.frame0.T2_tool0_y', 'data.frame0.T2_tool1_y', 'data.frame0.T2_tool2_y']\n",
    "else:\n",
    "    columns_keep_x = ['data.frame0.T2_tool0_x', 'data.frame0.T2_tool1_x', 'data.frame0.T2_tool2_x', 'data.frame0.T2_tool4_x']\n",
    "    columns_keep_y = ['data.frame0.T2_tool0_y', 'data.frame0.T2_tool1_y', 'data.frame0.T2_tool2_y', 'data.frame0.T2_tool4_y']\n",
    "\n",
    "for col in columns_keep_x + columns_keep_y:\n",
    "    df_panoptes_point_extractor_r[col] = df_panoptes_point_extractor_r[col].apply(lambda x: literal_eval(x) if pd.notnull(x) else [])\n",
    "\n",
    "# Merge the lists in 'x' and 'y' coordinates\n",
    "df_panoptes_point_extractor_r['x'] = df_panoptes_point_extractor_r[columns_keep_x].values.tolist()\n",
    "df_panoptes_point_extractor_r['y'] = df_panoptes_point_extractor_r[columns_keep_y].values.tolist()\n",
    "\n",
    "# Flatten the lists in each row for 'x' and 'y'\n",
    "df_panoptes_point_extractor_r['x'] = df_panoptes_point_extractor_r['x'].apply(lambda x: [item for sublist in x for item in sublist])\n",
    "df_panoptes_point_extractor_r['y'] = df_panoptes_point_extractor_r['y'].apply(lambda x: [item for sublist in x for item in sublist])\n",
    "\n",
    "# Explode the DataFrame to separate rows for each x, y pair\n",
    "# Explode the DataFrame based on these columns to get separate rows for each list element\n",
    "df_panoptes_point_extractor_r"
   ]
  },
  {
   "cell_type": "code",
   "execution_count": null,
   "id": "d1dd3d9da30dac12",
   "metadata": {
    "collapsed": false
   },
   "outputs": [],
   "source": [
    "df_panoptes_point_extractor_r = df_panoptes_point_extractor_r[\n",
    "    ['classification_id', 'user_name', 'user_id', 'workflow_id',  'workflow_version', 'task',\n",
    "     'created_at', 'subject_id', \"image_name\",\n",
    "     'x', 'y'\n",
    "     ]].reset_index(drop=True)\n",
    "\n",
    "df_panoptes_point_extractor_r"
   ]
  },
  {
   "cell_type": "code",
   "execution_count": null,
   "id": "b84d1fb085664060",
   "metadata": {
    "collapsed": false
   },
   "outputs": [],
   "source": [
    "# explode the lists of marks per user into one row per mark\n",
    "df_panoptes_point_extractor_r_ex = df_panoptes_point_extractor_r.apply(lambda x: x.explode() if x.name in ['x', 'y'] else x)"
   ]
  },
  {
   "cell_type": "code",
   "execution_count": null,
   "id": "7f88cb7f25c52568",
   "metadata": {
    "collapsed": false
   },
   "outputs": [],
   "source": [
    "# images with no marks have NaN values in the 'merged_x' and 'merged_y' columns\n",
    "df_panoptes_point_extractor_r_ex_dropped = df_panoptes_point_extractor_r_ex.dropna(subset=['x', 'y'], how='all').sort_values(by=['user_id', 'subject_id', 'task', 'created_at'])\n",
    "df_panoptes_point_extractor_r_ex_dropped"
   ]
  },
  {
   "cell_type": "code",
   "execution_count": null,
   "id": "b3a0beb695d8f28e",
   "metadata": {
    "collapsed": false
   },
   "outputs": [],
   "source": [
    "# cast x and y to int\n",
    "df_panoptes_point_extractor_r_ex_dropped = df_panoptes_point_extractor_r_ex_dropped.astype({'x': 'int32', 'y': 'int32'})\n",
    "df_panoptes_point_extractor_r_ex_dropped"
   ]
  },
  {
   "cell_type": "code",
   "execution_count": null,
   "id": "6852db7c1077de6",
   "metadata": {
    "collapsed": false
   },
   "outputs": [],
   "source": [
    "df_panoptes_point_extractor_r_ex_dropped.to_csv(config[\"flat_panoptes_points\"], sep=\",\", index = False)"
   ]
  },
  {
   "cell_type": "markdown",
   "id": "18a9d6b4d094619e",
   "metadata": {
    "collapsed": false
   },
   "source": [
    "## Inspecting the results\n",
    "Check the numbers for a single subject_id"
   ]
  },
  {
   "cell_type": "code",
   "execution_count": null,
   "id": "71db8866ca74ff92",
   "metadata": {
    "collapsed": false
   },
   "outputs": [],
   "source": [
    "### Looks the images in question\n",
    "\n",
    "subject_id_2 = 72373250 \n",
    "df_debug = df_panoptes_point_extractor_r_ex_dropped[(df_panoptes_point_extractor_r_ex_dropped.subject_id == subject_id_2)]\n",
    "df_debug"
   ]
  },
  {
   "cell_type": "code",
   "outputs": [],
   "source": [
    "df_debug.groupby('user_name').size()\n"
   ],
   "metadata": {
    "collapsed": false
   },
   "id": "5e3cbd752bce3b90",
   "execution_count": null
  },
  {
   "cell_type": "code",
   "outputs": [],
   "source": [
    "df_debug[df_debug.user_name == \"CallieSanDiego\"]"
   ],
   "metadata": {
    "collapsed": false
   },
   "id": "7ff365a48909310b",
   "execution_count": null
  },
  {
   "cell_type": "markdown",
   "id": "e61c47399cf2cc3c",
   "metadata": {
    "collapsed": false
   },
   "source": [
    "## Download images\n",
    "iguanas-from-above-subjects_with_url.csv will be used to track which url was already downlaoded."
   ]
  },
  {
   "cell_type": "code",
   "execution_count": null,
   "id": "b9279ce089ee45da",
   "metadata": {
    "collapsed": false
   },
   "outputs": [],
   "source": [
    "## save the file the extra columns we need for downloading.\n",
    "df_subjects.to_csv(output_path / \"iguanas-from-above-subjects_with_url.csv\")\n",
    "\n",
    "\n",
    "# read the modified csv\n",
    "df_subjects = pd.read_csv(output_path / \"iguanas-from-above-subjects_with_url.csv\")\n"
   ]
  },
  {
   "cell_type": "code",
   "execution_count": null,
   "id": "520289e3dd31ca98",
   "metadata": {
    "collapsed": false
   },
   "outputs": [],
   "source": [
    "# df_subjects = pd.read_csv(output_path / \"iguanas-from-above-subjects_with_url.csv\")\n",
    "\n",
    "# downoaded_images_path = Path(\"./data/downloaded_images\")\n",
    "# downoaded_images_path.mkdir(exist_ok=True, parents=True)\n",
    "# return_val = True\n",
    "# # df = df_subjects[df_subjects.subject_id.isin([44660616, 47968406])]\n",
    "# # df = df_subjects[df_subjects.subject_id.isin([44660616, 47968406])]\n",
    "# for index, row in df_subjects[df_subjects.workflow_id.isin([workflow_id_p1])].iterrows():\n",
    "#     # Only download if necessary\n",
    "#     if pd.isna(row.get(\"filepath\")) or not row.get(\"filepath\", False):\n",
    "#         flight_code = row['flight_code']\n",
    "#         url = row['url']\n",
    "#         image_name = Path(row['image_name']).name\n",
    "#         # Extract the filename from the URL and create a unique name using index\n",
    "#         filename = downoaded_images_path.joinpath(f\"{image_name}_{row['subject_id']}_{flight_code}.jpeg\")\n",
    "#         df_subjects.loc[index, 'filepath'] = filename\n",
    "#         # Download the image\n",
    "#         return_val = download_image(url, filename)\n",
    "# \n",
    "#         # print(f\"Downloaded {filename}\")\n",
    "#     if return_val == False:\n",
    "#         print(\"there was a problem\")\n",
    "#         # break\n",
    "        "
   ]
  },
  {
   "cell_type": "code",
   "execution_count": null,
   "id": "42eddb1202ccbbe2",
   "metadata": {
    "collapsed": false
   },
   "outputs": [],
   "source": [
    "df_subjects.to_csv(output_path / \"iguanas-from-above-subjects_with_url.csv\")"
   ]
  }
 ],
 "metadata": {
  "kernelspec": {
   "display_name": "Python 3 (ipykernel)",
   "language": "python",
   "name": "python3"
  },
  "language_info": {
   "codemirror_mode": {
    "name": "ipython",
    "version": 3
   },
   "file_extension": ".py",
   "mimetype": "text/x-python",
   "name": "python",
   "nbconvert_exporter": "python",
   "pygments_lexer": "ipython3",
   "version": "3.9.6"
  }
 },
 "nbformat": 4,
 "nbformat_minor": 5
}
