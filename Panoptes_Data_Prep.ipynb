{
 "cells": [
  {
   "cell_type": "markdown",
   "id": "306034533dcead43",
   "metadata": {},
   "source": [
    "# Using the Panoptes Aggregation Tool from Zooniverse\n",
    "https://aggregation-caesar.zooniverse.org/Scripts.html#scripts\n"
   ]
  },
  {
   "cell_type": "code",
   "execution_count": 28,
   "id": "145bce94f139f8ae",
   "metadata": {
    "collapsed": false,
    "ExecuteTime": {
     "end_time": "2024-04-10T19:38:54.018815Z",
     "start_time": "2024-04-10T19:38:54.011915Z"
    }
   },
   "outputs": [
    {
     "data": {
      "text/plain": "{'annotations_source': PosixPath('/Users/christian/data/zooniverse/IguanasFromAbove/2023-10-15/iguanas-from-above-classifications.csv'),\n 'goldstandard_data': PosixPath('/Users/christian/data/zooniverse/Images/Zooniverse_Goldstandard_images/expert-GS-1stphase.csv'),\n 'gold_standard_image_subset': PosixPath('/Users/christian/data/zooniverse/Images/Zooniverse_Goldstandard_images/1-T2-GS-results-5th-0s.csv'),\n 'image_source': PosixPath('/Users/christian/data/zooniverse/Images/Zooniverse_Goldstandard_images/1st launch'),\n 'yes_no_dataset': PosixPath('/Users/christian/data/zooniverse/2024_04_10_analysis/Iguanas 1st launch/yes_no_dataset_Iguanas 1st launch.csv'),\n 'flat_dataset': PosixPath('/Users/christian/data/zooniverse/2024_04_10_analysis/Iguanas 1st launch/flat_dataset_Iguanas 1st launch.csv'),\n 'flat_panoptes_points': PosixPath('/Users/christian/data/zooniverse/2024_04_10_analysis/Iguanas 1st launch/flat_panoptes_points_Iguanas 1st launch.csv'),\n 'merged_dataset': PosixPath('/Users/christian/data/zooniverse/2024_04_10_analysis/Iguanas 1st launch/flat_dataset_filtered_Iguanas 1st launch.csv'),\n 'gold_standard_and_expert_count': PosixPath('/Users/christian/data/zooniverse/2024_04_10_analysis/Iguanas 1st launch/Iguanas 1st launch_gold_standard_and_expert_count.csv'),\n 'comparison_dataset': PosixPath('/Users/christian/data/zooniverse/2024_04_10_analysis/Iguanas 1st launch/Iguanas 1st launch_method_comparison.csv'),\n 'method_sums': PosixPath('/Users/christian/data/zooniverse/2024_04_10_analysis/Iguanas 1st launch/Iguanas 1st launch_method_sums.csv'),\n 'rmse_errors': PosixPath('/Users/christian/data/zooniverse/2024_04_10_analysis/Iguanas 1st launch/Iguanas 1st launch_rmse_errors.csv'),\n 'dbscan_hyperparam_grid': PosixPath('/Users/christian/data/zooniverse/2024_04_10_analysis/Iguanas 1st launch/Iguanas 1st launch_hyperparam_grid.csv')}"
     },
     "execution_count": 28,
     "metadata": {},
     "output_type": "execute_result"
    }
   ],
   "source": [
    "from zooniverse.config import get_config\n",
    "import pandas as pd\n",
    "from pathlib import Path\n",
    "\n",
    "### use either the subset of the subset\n",
    "phase_tag = \"Iguanas 1st launch\"\n",
    "data_folder = \"./data/phase_1\"\n",
    "\n",
    "# phase_tag = \"Iguanas 2nd launch\"\n",
    "# phase_tag = \"Iguanas 3rd launch\"\n",
    "input_path = Path(\"/Users/christian/data/zooniverse\")\n",
    "\n",
    "# use_gold_standard_subset = \"expert\" # Use the expert-GS-Xphase as the basis\n",
    "output_path = Path(\"/Users/christian/data/zooniverse/2024_04_10_analysis\").joinpath(phase_tag).resolve()\n",
    "\n",
    "output_plot_path = output_path.joinpath(\"plots\")\n",
    "output_plot_path.mkdir(parents=True, exist_ok=True)\n",
    "\n",
    "config = get_config(phase_tag=phase_tag, input_path=input_path, output_path=output_path)\n",
    "\n",
    "\n",
    "config\n"
   ]
  },
  {
   "cell_type": "markdown",
   "source": [
    "# Look into the subjects file\n",
    "This contains the mappings from the subject_id to the image file"
   ],
   "metadata": {
    "collapsed": false
   },
   "id": "a76dff5a62b44242"
  },
  {
   "cell_type": "code",
   "outputs": [
    {
     "name": "stderr",
     "output_type": "stream",
     "text": [
      "/var/folders/2k/78nn7s4548986wsjh29rhj9w0000gn/T/ipykernel_29517/3635367931.py:1: DtypeWarning: Columns (7,8) have mixed types. Specify dtype option on import or set low_memory=False.\n",
      "  df_subjects = pd.read_csv(\"./data/zooniverse/iguanas-from-above-subjects.csv\", sep=\",\")\n"
     ]
    },
    {
     "data": {
      "text/plain": "       subject_id  project_id  workflow_id  subject_set_id  \\\n0        44660549       11905          NaN           83766   \n1        44660550       11905          NaN           83766   \n2        44660551       11905          NaN           83766   \n3        44660552       11905          NaN           83766   \n4        44660553       11905          NaN           83766   \n...           ...         ...          ...             ...   \n68155    92469731       11905      25351.0          116619   \n68156    92469733       11905      25351.0          116619   \n68157    92469734       11905      25351.0          116619   \n68158    92469735       11905      25351.0          116619   \n68159    92469736       11905      25351.0          116619   \n\n                                                metadata  \\\n0      {\"image_name\":\"SMF02-1-2-2_740.jpg\",\"subject_i...   \n1      {\"image_name\":\"SRIL03-2-1_153.jpg\",\"subject_id...   \n2      {\"image_name\":\"SRIL03-2-2_90.jpg\",\"subject_id\"...   \n3      {\"image_name\":\"SRIL03-2-2_127.jpg\",\"subject_id...   \n4      {\"image_name\":\"SRIL03-2-2_133.jpg\",\"subject_id...   \n...                                                  ...   \n68155  {\"Site\":\"Puerto Villamil\",\"Island\":\"Isabela\",\"...   \n68156  {\"Site\":\"Puerto Villamil\",\"Island\":\"Isabela\",\"...   \n68157  {\"Site\":\"Puerto Villamil\",\"Island\":\"Isabela\",\"...   \n68158  {\"Site\":\"Puerto Villamil\",\"Island\":\"Isabela\",\"...   \n68159  {\"Site\":\"Puerto Villamil\",\"Island\":\"Isabela\",\"...   \n\n                                               locations  \\\n0      {\"0\":\"https://panoptes-uploads.zooniverse.org/...   \n1      {\"0\":\"https://panoptes-uploads.zooniverse.org/...   \n2      {\"0\":\"https://panoptes-uploads.zooniverse.org/...   \n3      {\"0\":\"https://panoptes-uploads.zooniverse.org/...   \n4      {\"0\":\"https://panoptes-uploads.zooniverse.org/...   \n...                                                  ...   \n68155  {\"0\":\"https://panoptes-uploads.zooniverse.org/...   \n68156  {\"0\":\"https://panoptes-uploads.zooniverse.org/...   \n68157  {\"0\":\"https://panoptes-uploads.zooniverse.org/...   \n68158  {\"0\":\"https://panoptes-uploads.zooniverse.org/...   \n68159  {\"0\":\"https://panoptes-uploads.zooniverse.org/...   \n\n       classifications_count retired_at retirement_reason  \\\n0                          0        NaN               NaN   \n1                          0        NaN               NaN   \n2                          0        NaN               NaN   \n3                          0        NaN               NaN   \n4                          0        NaN               NaN   \n...                      ...        ...               ...   \n68155                      2        NaN               NaN   \n68156                      3        NaN               NaN   \n68157                      6        NaN               NaN   \n68158                      1        NaN               NaN   \n68159                      4        NaN               NaN   \n\n                    created_at               updated_at  \n0      2020-05-12 11:01:33 UTC  2020-05-12 11:01:33 UTC  \n1      2020-05-12 11:01:39 UTC  2020-05-12 11:01:39 UTC  \n2      2020-05-12 11:01:45 UTC  2020-05-12 11:01:45 UTC  \n3      2020-05-12 11:01:49 UTC  2020-05-12 11:01:49 UTC  \n4      2020-05-12 11:01:53 UTC  2020-05-12 11:01:53 UTC  \n...                        ...                      ...  \n68155  2023-10-12 16:28:45 UTC  2023-10-12 16:28:45 UTC  \n68156  2023-10-12 16:28:46 UTC  2023-10-12 16:28:46 UTC  \n68157  2023-10-12 16:28:46 UTC  2023-10-12 16:28:46 UTC  \n68158  2023-10-12 16:28:46 UTC  2023-10-12 16:28:46 UTC  \n68159  2023-10-12 16:28:47 UTC  2023-10-12 16:28:47 UTC  \n\n[68160 rows x 11 columns]",
      "text/html": "<div>\n<style scoped>\n    .dataframe tbody tr th:only-of-type {\n        vertical-align: middle;\n    }\n\n    .dataframe tbody tr th {\n        vertical-align: top;\n    }\n\n    .dataframe thead th {\n        text-align: right;\n    }\n</style>\n<table border=\"1\" class=\"dataframe\">\n  <thead>\n    <tr style=\"text-align: right;\">\n      <th></th>\n      <th>subject_id</th>\n      <th>project_id</th>\n      <th>workflow_id</th>\n      <th>subject_set_id</th>\n      <th>metadata</th>\n      <th>locations</th>\n      <th>classifications_count</th>\n      <th>retired_at</th>\n      <th>retirement_reason</th>\n      <th>created_at</th>\n      <th>updated_at</th>\n    </tr>\n  </thead>\n  <tbody>\n    <tr>\n      <th>0</th>\n      <td>44660549</td>\n      <td>11905</td>\n      <td>NaN</td>\n      <td>83766</td>\n      <td>{\"image_name\":\"SMF02-1-2-2_740.jpg\",\"subject_i...</td>\n      <td>{\"0\":\"https://panoptes-uploads.zooniverse.org/...</td>\n      <td>0</td>\n      <td>NaN</td>\n      <td>NaN</td>\n      <td>2020-05-12 11:01:33 UTC</td>\n      <td>2020-05-12 11:01:33 UTC</td>\n    </tr>\n    <tr>\n      <th>1</th>\n      <td>44660550</td>\n      <td>11905</td>\n      <td>NaN</td>\n      <td>83766</td>\n      <td>{\"image_name\":\"SRIL03-2-1_153.jpg\",\"subject_id...</td>\n      <td>{\"0\":\"https://panoptes-uploads.zooniverse.org/...</td>\n      <td>0</td>\n      <td>NaN</td>\n      <td>NaN</td>\n      <td>2020-05-12 11:01:39 UTC</td>\n      <td>2020-05-12 11:01:39 UTC</td>\n    </tr>\n    <tr>\n      <th>2</th>\n      <td>44660551</td>\n      <td>11905</td>\n      <td>NaN</td>\n      <td>83766</td>\n      <td>{\"image_name\":\"SRIL03-2-2_90.jpg\",\"subject_id\"...</td>\n      <td>{\"0\":\"https://panoptes-uploads.zooniverse.org/...</td>\n      <td>0</td>\n      <td>NaN</td>\n      <td>NaN</td>\n      <td>2020-05-12 11:01:45 UTC</td>\n      <td>2020-05-12 11:01:45 UTC</td>\n    </tr>\n    <tr>\n      <th>3</th>\n      <td>44660552</td>\n      <td>11905</td>\n      <td>NaN</td>\n      <td>83766</td>\n      <td>{\"image_name\":\"SRIL03-2-2_127.jpg\",\"subject_id...</td>\n      <td>{\"0\":\"https://panoptes-uploads.zooniverse.org/...</td>\n      <td>0</td>\n      <td>NaN</td>\n      <td>NaN</td>\n      <td>2020-05-12 11:01:49 UTC</td>\n      <td>2020-05-12 11:01:49 UTC</td>\n    </tr>\n    <tr>\n      <th>4</th>\n      <td>44660553</td>\n      <td>11905</td>\n      <td>NaN</td>\n      <td>83766</td>\n      <td>{\"image_name\":\"SRIL03-2-2_133.jpg\",\"subject_id...</td>\n      <td>{\"0\":\"https://panoptes-uploads.zooniverse.org/...</td>\n      <td>0</td>\n      <td>NaN</td>\n      <td>NaN</td>\n      <td>2020-05-12 11:01:53 UTC</td>\n      <td>2020-05-12 11:01:53 UTC</td>\n    </tr>\n    <tr>\n      <th>...</th>\n      <td>...</td>\n      <td>...</td>\n      <td>...</td>\n      <td>...</td>\n      <td>...</td>\n      <td>...</td>\n      <td>...</td>\n      <td>...</td>\n      <td>...</td>\n      <td>...</td>\n      <td>...</td>\n    </tr>\n    <tr>\n      <th>68155</th>\n      <td>92469731</td>\n      <td>11905</td>\n      <td>25351.0</td>\n      <td>116619</td>\n      <td>{\"Site\":\"Puerto Villamil\",\"Island\":\"Isabela\",\"...</td>\n      <td>{\"0\":\"https://panoptes-uploads.zooniverse.org/...</td>\n      <td>2</td>\n      <td>NaN</td>\n      <td>NaN</td>\n      <td>2023-10-12 16:28:45 UTC</td>\n      <td>2023-10-12 16:28:45 UTC</td>\n    </tr>\n    <tr>\n      <th>68156</th>\n      <td>92469733</td>\n      <td>11905</td>\n      <td>25351.0</td>\n      <td>116619</td>\n      <td>{\"Site\":\"Puerto Villamil\",\"Island\":\"Isabela\",\"...</td>\n      <td>{\"0\":\"https://panoptes-uploads.zooniverse.org/...</td>\n      <td>3</td>\n      <td>NaN</td>\n      <td>NaN</td>\n      <td>2023-10-12 16:28:46 UTC</td>\n      <td>2023-10-12 16:28:46 UTC</td>\n    </tr>\n    <tr>\n      <th>68157</th>\n      <td>92469734</td>\n      <td>11905</td>\n      <td>25351.0</td>\n      <td>116619</td>\n      <td>{\"Site\":\"Puerto Villamil\",\"Island\":\"Isabela\",\"...</td>\n      <td>{\"0\":\"https://panoptes-uploads.zooniverse.org/...</td>\n      <td>6</td>\n      <td>NaN</td>\n      <td>NaN</td>\n      <td>2023-10-12 16:28:46 UTC</td>\n      <td>2023-10-12 16:28:46 UTC</td>\n    </tr>\n    <tr>\n      <th>68158</th>\n      <td>92469735</td>\n      <td>11905</td>\n      <td>25351.0</td>\n      <td>116619</td>\n      <td>{\"Site\":\"Puerto Villamil\",\"Island\":\"Isabela\",\"...</td>\n      <td>{\"0\":\"https://panoptes-uploads.zooniverse.org/...</td>\n      <td>1</td>\n      <td>NaN</td>\n      <td>NaN</td>\n      <td>2023-10-12 16:28:46 UTC</td>\n      <td>2023-10-12 16:28:46 UTC</td>\n    </tr>\n    <tr>\n      <th>68159</th>\n      <td>92469736</td>\n      <td>11905</td>\n      <td>25351.0</td>\n      <td>116619</td>\n      <td>{\"Site\":\"Puerto Villamil\",\"Island\":\"Isabela\",\"...</td>\n      <td>{\"0\":\"https://panoptes-uploads.zooniverse.org/...</td>\n      <td>4</td>\n      <td>NaN</td>\n      <td>NaN</td>\n      <td>2023-10-12 16:28:47 UTC</td>\n      <td>2023-10-12 16:28:47 UTC</td>\n    </tr>\n  </tbody>\n</table>\n<p>68160 rows × 11 columns</p>\n</div>"
     },
     "execution_count": 3,
     "metadata": {},
     "output_type": "execute_result"
    }
   ],
   "source": [
    "df_subjects = pd.read_csv(\"./data/zooniverse/iguanas-from-above-subjects.csv\", sep=\",\")\n",
    "df_subjects"
   ],
   "metadata": {
    "collapsed": false,
    "ExecuteTime": {
     "end_time": "2024-04-10T18:26:11.807587Z",
     "start_time": "2024-04-10T18:26:11.489615Z"
    }
   },
   "id": "ece7fc9bd3cf0a32",
   "execution_count": 3
  },
  {
   "cell_type": "code",
   "outputs": [
    {
     "data": {
      "text/plain": "            subspecies         island                  site_name  \\\n0     A. c. trillmichi       Santa Fe                   El Miedo   \n1     A. c. trillmichi       Santa Fe                   El Miedo   \n2     A. c. trillmichi       Santa Fe                   El Miedo   \n3     A. c. trillmichi       Santa Fe                   El Miedo   \n4     A. c. trillmichi       Santa Fe                   El Miedo   \n...                ...            ...                        ...   \n2728    A. c. godzilla  San Cristobal  Playa Blanca (Punta Pitt)   \n2729    A. c. godzilla  San Cristobal  Playa Blanca (Punta Pitt)   \n2730    A. c. godzilla  San Cristobal  Playa Blanca (Punta Pitt)   \n2731    A. c. godzilla  San Cristobal  Playa Blanca (Punta Pitt)   \n2732    A. c. godzilla  San Cristobal  Playa Blanca (Punta Pitt)   \n\n     subject_group           image_name  subject_id presence_absence  \\\n0             SFM1  SFM01-2-2-2_282.jpg    47969795                Y   \n1             SFM1  SFM01-2-2-1_344.jpg    47969531                Y   \n2             SFM1  SFM01-2-2-2_270.jpg    47969760                Y   \n3             SFM1  SFM01-2-2-2_289.jpg    47969815                Y   \n4             SFM1  SFM01-2-2-2_291.jpg    47969821                Y   \n...            ...                  ...         ...              ...   \n2728         SRPB1    SRPB02-2-3_95.jpg    47990261                N   \n2729         SRPB1    SRPB02-2-3_96.jpg    47990268                N   \n2730         SRPB1    SRPB02-2-3_97.jpg    47990280                N   \n2731         SRPB1    SRPB02-2-3_98.jpg    47990285                N   \n2732         SRPB1    SRPB02-2-3_99.jpg    47990290                N   \n\n      count_male-lek  count_male-no-lek  count_others  count_partial  \\\n0                  0                  2             0              2   \n1                  0                  2             2              1   \n2                  0                  0             0              1   \n3                  0                  0             0              1   \n4                  0                  0             0              1   \n...              ...                ...           ...            ...   \n2728               0                  0             0              0   \n2729               0                  0             0              0   \n2730               0                  0             0              0   \n2731               0                  0             0              0   \n2732               0                  0             0              0   \n\n      count_total quality condition                                    comment  \n0               2    Good      Hard                                        NaN  \n1               4    Good      Hard  not consider number 4 marked in the image  \n2               0    Good      Hard                                        NaN  \n3               0    Good   Visible                                        NaN  \n4               0    Good      Hard                                        NaN  \n...           ...     ...       ...                                        ...  \n2728            0     NaN       NaN                                        NaN  \n2729            0     NaN       NaN                                        NaN  \n2730            0     NaN       NaN                                        NaN  \n2731            0     NaN       NaN                                        NaN  \n2732            0     NaN       NaN                                        NaN  \n\n[2733 rows x 15 columns]",
      "text/html": "<div>\n<style scoped>\n    .dataframe tbody tr th:only-of-type {\n        vertical-align: middle;\n    }\n\n    .dataframe tbody tr th {\n        vertical-align: top;\n    }\n\n    .dataframe thead th {\n        text-align: right;\n    }\n</style>\n<table border=\"1\" class=\"dataframe\">\n  <thead>\n    <tr style=\"text-align: right;\">\n      <th></th>\n      <th>subspecies</th>\n      <th>island</th>\n      <th>site_name</th>\n      <th>subject_group</th>\n      <th>image_name</th>\n      <th>subject_id</th>\n      <th>presence_absence</th>\n      <th>count_male-lek</th>\n      <th>count_male-no-lek</th>\n      <th>count_others</th>\n      <th>count_partial</th>\n      <th>count_total</th>\n      <th>quality</th>\n      <th>condition</th>\n      <th>comment</th>\n    </tr>\n  </thead>\n  <tbody>\n    <tr>\n      <th>0</th>\n      <td>A. c. trillmichi</td>\n      <td>Santa Fe</td>\n      <td>El Miedo</td>\n      <td>SFM1</td>\n      <td>SFM01-2-2-2_282.jpg</td>\n      <td>47969795</td>\n      <td>Y</td>\n      <td>0</td>\n      <td>2</td>\n      <td>0</td>\n      <td>2</td>\n      <td>2</td>\n      <td>Good</td>\n      <td>Hard</td>\n      <td>NaN</td>\n    </tr>\n    <tr>\n      <th>1</th>\n      <td>A. c. trillmichi</td>\n      <td>Santa Fe</td>\n      <td>El Miedo</td>\n      <td>SFM1</td>\n      <td>SFM01-2-2-1_344.jpg</td>\n      <td>47969531</td>\n      <td>Y</td>\n      <td>0</td>\n      <td>2</td>\n      <td>2</td>\n      <td>1</td>\n      <td>4</td>\n      <td>Good</td>\n      <td>Hard</td>\n      <td>not consider number 4 marked in the image</td>\n    </tr>\n    <tr>\n      <th>2</th>\n      <td>A. c. trillmichi</td>\n      <td>Santa Fe</td>\n      <td>El Miedo</td>\n      <td>SFM1</td>\n      <td>SFM01-2-2-2_270.jpg</td>\n      <td>47969760</td>\n      <td>Y</td>\n      <td>0</td>\n      <td>0</td>\n      <td>0</td>\n      <td>1</td>\n      <td>0</td>\n      <td>Good</td>\n      <td>Hard</td>\n      <td>NaN</td>\n    </tr>\n    <tr>\n      <th>3</th>\n      <td>A. c. trillmichi</td>\n      <td>Santa Fe</td>\n      <td>El Miedo</td>\n      <td>SFM1</td>\n      <td>SFM01-2-2-2_289.jpg</td>\n      <td>47969815</td>\n      <td>Y</td>\n      <td>0</td>\n      <td>0</td>\n      <td>0</td>\n      <td>1</td>\n      <td>0</td>\n      <td>Good</td>\n      <td>Visible</td>\n      <td>NaN</td>\n    </tr>\n    <tr>\n      <th>4</th>\n      <td>A. c. trillmichi</td>\n      <td>Santa Fe</td>\n      <td>El Miedo</td>\n      <td>SFM1</td>\n      <td>SFM01-2-2-2_291.jpg</td>\n      <td>47969821</td>\n      <td>Y</td>\n      <td>0</td>\n      <td>0</td>\n      <td>0</td>\n      <td>1</td>\n      <td>0</td>\n      <td>Good</td>\n      <td>Hard</td>\n      <td>NaN</td>\n    </tr>\n    <tr>\n      <th>...</th>\n      <td>...</td>\n      <td>...</td>\n      <td>...</td>\n      <td>...</td>\n      <td>...</td>\n      <td>...</td>\n      <td>...</td>\n      <td>...</td>\n      <td>...</td>\n      <td>...</td>\n      <td>...</td>\n      <td>...</td>\n      <td>...</td>\n      <td>...</td>\n      <td>...</td>\n    </tr>\n    <tr>\n      <th>2728</th>\n      <td>A. c. godzilla</td>\n      <td>San Cristobal</td>\n      <td>Playa Blanca (Punta Pitt)</td>\n      <td>SRPB1</td>\n      <td>SRPB02-2-3_95.jpg</td>\n      <td>47990261</td>\n      <td>N</td>\n      <td>0</td>\n      <td>0</td>\n      <td>0</td>\n      <td>0</td>\n      <td>0</td>\n      <td>NaN</td>\n      <td>NaN</td>\n      <td>NaN</td>\n    </tr>\n    <tr>\n      <th>2729</th>\n      <td>A. c. godzilla</td>\n      <td>San Cristobal</td>\n      <td>Playa Blanca (Punta Pitt)</td>\n      <td>SRPB1</td>\n      <td>SRPB02-2-3_96.jpg</td>\n      <td>47990268</td>\n      <td>N</td>\n      <td>0</td>\n      <td>0</td>\n      <td>0</td>\n      <td>0</td>\n      <td>0</td>\n      <td>NaN</td>\n      <td>NaN</td>\n      <td>NaN</td>\n    </tr>\n    <tr>\n      <th>2730</th>\n      <td>A. c. godzilla</td>\n      <td>San Cristobal</td>\n      <td>Playa Blanca (Punta Pitt)</td>\n      <td>SRPB1</td>\n      <td>SRPB02-2-3_97.jpg</td>\n      <td>47990280</td>\n      <td>N</td>\n      <td>0</td>\n      <td>0</td>\n      <td>0</td>\n      <td>0</td>\n      <td>0</td>\n      <td>NaN</td>\n      <td>NaN</td>\n      <td>NaN</td>\n    </tr>\n    <tr>\n      <th>2731</th>\n      <td>A. c. godzilla</td>\n      <td>San Cristobal</td>\n      <td>Playa Blanca (Punta Pitt)</td>\n      <td>SRPB1</td>\n      <td>SRPB02-2-3_98.jpg</td>\n      <td>47990285</td>\n      <td>N</td>\n      <td>0</td>\n      <td>0</td>\n      <td>0</td>\n      <td>0</td>\n      <td>0</td>\n      <td>NaN</td>\n      <td>NaN</td>\n      <td>NaN</td>\n    </tr>\n    <tr>\n      <th>2732</th>\n      <td>A. c. godzilla</td>\n      <td>San Cristobal</td>\n      <td>Playa Blanca (Punta Pitt)</td>\n      <td>SRPB1</td>\n      <td>SRPB02-2-3_99.jpg</td>\n      <td>47990290</td>\n      <td>N</td>\n      <td>0</td>\n      <td>0</td>\n      <td>0</td>\n      <td>0</td>\n      <td>0</td>\n      <td>NaN</td>\n      <td>NaN</td>\n      <td>NaN</td>\n    </tr>\n  </tbody>\n</table>\n<p>2733 rows × 15 columns</p>\n</div>"
     },
     "execution_count": 4,
     "metadata": {},
     "output_type": "execute_result"
    }
   ],
   "source": [
    "gold_standard_path = config[\"goldstandard_data\"]\n",
    "df_gold_standard = pd.read_csv(gold_standard_path, sep=\";\")\n",
    "df_gold_standard"
   ],
   "metadata": {
    "collapsed": false,
    "ExecuteTime": {
     "end_time": "2024-04-10T18:26:12.623488Z",
     "start_time": "2024-04-10T18:26:12.595403Z"
    }
   },
   "id": "dbefb3d8985c2a9b",
   "execution_count": 4
  },
  {
   "cell_type": "markdown",
   "source": [
    "# Panoptes Data Extraction from Zooniverse"
   ],
   "metadata": {
    "collapsed": false
   },
   "id": "10d30088553ee9a8"
  },
  {
   "cell_type": "markdown",
   "id": "b6577bcc8c9d6d2c",
   "metadata": {
    "collapsed": false
   },
   "source": [
    "## Panoptes config\n",
    "\n",
    "\n"
   ]
  },
  {
   "cell_type": "markdown",
   "source": [
    "### Create the configuration files automatically"
   ],
   "metadata": {
    "collapsed": false
   },
   "id": "625f9e10eced0041"
  },
  {
   "cell_type": "code",
   "outputs": [],
   "source": [
    "# create a configuration file from the workflow\n",
    "#!mkdir ./data/phase_1\n",
    "#! panoptes_aggregation config /Users/christian/data/zooniverse/IguanasFromAbove/2023-10-15/iguanas-from-above-workflows.csv 14370 --min_version 0 --max_version 142.245 -d ./data/phase_1\n",
    "# \n",
    "#!mkdir ./data/phase_2\n",
    "#! panoptes_aggregation config /Users/christian/data/zooniverse/IguanasFromAbove/2023-10-15/iguanas-from-above-workflows.csv 20600 --min_version 0 --max_version 94.166 -d ./data/phase_2\n",
    "# \n",
    "#!mkdir ./data/phase_3\n",
    "#! panoptes_aggregation config /Users/christian/data/zooniverse/IguanasFromAbove/2023-10-15/iguanas-from-above-workflows.csv 22040 --min_version 0 --max_version 9.63 -d ./data/phase_3"
   ],
   "metadata": {
    "collapsed": false
   },
   "id": "80589cdde7999f5b",
   "execution_count": null
  },
  {
   "cell_type": "markdown",
   "source": [
    "## Extract the data"
   ],
   "metadata": {
    "collapsed": false
   },
   "id": "3926c1b2ca3745ea"
  },
  {
   "cell_type": "code",
   "outputs": [
    {
     "name": "stdout",
     "output_type": "stream",
     "text": [
      "mkdir: ./data/phase_1/V121.144: File exists\r\n",
      "mkdir: ./data/phase_1/V134.236: File exists\r\n",
      "/Users/christian/PycharmProjects/iguanas-from-above-zooniverse/venv/lib/python3.9/site-packages/panoptes_aggregation/scripts/extract_panoptes_csv.py:68: DtypeWarning: Columns (8,9) have mixed types. Specify dtype option on import or set low_memory=False.\r\n",
      "  classifications = pandas.read_csv(classification_csv_in, encoding='utf-8', dtype={'workflow_version': str})\r\n",
      "Extracting: 100% |#############################################| Time:  0:00:05\r\n",
      "/Users/christian/PycharmProjects/iguanas-from-above-zooniverse/venv/lib/python3.9/site-packages/panoptes_aggregation/scripts/extract_panoptes_csv.py:68: DtypeWarning: Columns (8,9) have mixed types. Specify dtype option on import or set low_memory=False.\r\n",
      "  classifications = pandas.read_csv(classification_csv_in, encoding='utf-8', dtype={'workflow_version': str})\r\n",
      "Extracting: 100% |#############################################| Time:  0:03:51\r\n"
     ]
    }
   ],
   "source": [
    "## phase 1\n",
    "\n",
    "!mkdir ./data/phase_1/V121.144\n",
    "!mkdir ./data/phase_1/V134.236\n",
    "\n",
    "!panoptes_aggregation extract /Users/christian/data/zooniverse/IguanasFromAbove/2023-10-15/iguanas-from-above-classifications.csv -d ./data/phase_1/V121.144 ./data/phase_1/Extractor_config_workflow_14370_V121.144.yaml\n",
    "\n",
    "!panoptes_aggregation extract /Users/christian/data/zooniverse/IguanasFromAbove/2023-10-15/iguanas-from-above-classifications.csv -d ./data/phase_1/V134.236 ./data/phase_1/Extractor_config_workflow_14370_V134.236-1.yaml\n"
   ],
   "metadata": {
    "collapsed": false,
    "ExecuteTime": {
     "end_time": "2024-04-10T18:32:37.613055Z",
     "start_time": "2024-04-10T18:26:39.595868Z"
    }
   },
   "id": "d76485d137c3687",
   "execution_count": 5
  },
  {
   "cell_type": "code",
   "outputs": [],
   "source": [
    "# # phase 2\n",
    "# \n",
    "# !mkdir ./data/phase_2/V89.162\n",
    "# !mkdir ./data/phase_2/V93.166\n",
    "# !mkdir ./data/phase_2/V94.166 \n",
    "# \n",
    "# !panoptes_aggregation extract /Users/christian/data/zooniverse/IguanasFromAbove/2023-10-15/iguanas-from-above-classifications.csv -d ./data/phase_2/V89.162 ./data/phase_2/Extractor_config_workflow_20600_V89.162.yaml\n",
    "# !panoptes_aggregation extract /Users/christian/data/zooniverse/IguanasFromAbove/2023-10-15/iguanas-from-above-classifications.csv -d ./data/phase_2/V93.166 ./data/phase_2/Extractor_config_workflow_20600_V93.166.yaml\n",
    "# !panoptes_aggregation extract /Users/christian/data/zooniverse/IguanasFromAbove/2023-10-15/iguanas-from-above-classifications.csv -d ./data/phase_2/V94.166 ./data/phase_2/Extractor_config_workflow_20600_V94.166.yaml\n",
    "# \n"
   ],
   "metadata": {
    "collapsed": false
   },
   "id": "7ab6b02efc27fd3e",
   "execution_count": null
  },
  {
   "cell_type": "code",
   "outputs": [],
   "source": [
    "# # phase 3\n",
    "# !mkdir ./data/phase_3/V7.63\n",
    "# !mkdir ./data/phase_3/V9.63\n",
    "# \n",
    "# !panoptes_aggregation extract /Users/christian/data/zooniverse/IguanasFromAbove/2023-10-15/iguanas-from-above-classifications.csv -d ./data/phase_3/V7.63 ./data/phase_3/Extractor_config_workflow_22040_V7.63.yaml\n",
    "# !panoptes_aggregation extract /Users/christian/data/zooniverse/IguanasFromAbove/2023-10-15/iguanas-from-above-classifications.csv -d ./data/phase_3/V9.63 ./data/phase_3/Extractor_config_workflow_22040_V9.63.yaml"
   ],
   "metadata": {
    "collapsed": false
   },
   "id": "aa74703ed0c24bc5",
   "execution_count": null
  },
  {
   "cell_type": "markdown",
   "source": [
    "\n",
    "\n"
   ],
   "metadata": {
    "collapsed": false
   },
   "id": "af3dbedc1768b0ed"
  },
  {
   "cell_type": "code",
   "outputs": [],
   "source": [],
   "metadata": {
    "collapsed": false
   },
   "id": "9fd404ec525777e3",
   "execution_count": null
  },
  {
   "cell_type": "markdown",
   "source": [
    "### Merge the single point and questions extractions"
   ],
   "metadata": {
    "collapsed": false
   },
   "id": "627dcf3904529cee"
  },
  {
   "cell_type": "code",
   "execution_count": 7,
   "id": "d8ea83ced96e1e6f",
   "metadata": {
    "collapsed": false,
    "ExecuteTime": {
     "end_time": "2024-04-10T18:47:05.740217Z",
     "start_time": "2024-04-10T18:47:01.289039Z"
    }
   },
   "outputs": [
    {
     "name": "stderr",
     "output_type": "stream",
     "text": [
      "/var/folders/2k/78nn7s4548986wsjh29rhj9w0000gn/T/ipykernel_29517/214722966.py:4: DtypeWarning: Columns (27,28,29,30,31,32) have mixed types. Specify dtype option on import or set low_memory=False.\n",
      "  df_panotes_point_extractor_2 = pd.read_csv(f\"./data/phase_1/V134.236/point_extractor_by_frame_extractions.csv\", sep=\",\")\n"
     ]
    }
   ],
   "source": [
    "# phase 1\n",
    "if data_folder == \"./data/phase_1\":\n",
    "    df_panotes_point_extractor_1 = pd.read_csv(f\"./data/phase_1/V121.144/point_extractor_by_frame_extractions.csv\", sep=\",\")\n",
    "    df_panotes_point_extractor_2 = pd.read_csv(f\"./data/phase_1/V134.236/point_extractor_by_frame_extractions.csv\", sep=\",\")\n",
    "    df_panotes_point_extractor_1[\"workflow_version\"] = \"121.144\"\n",
    "    df_panotes_point_extractor_2[\"workflow_version\"] = \"134.236\"\n",
    "    \n",
    "    df_panotes_question_1 = pd.read_csv(f\"{data_folder}/V121.144/question_extractor_extractions.csv\", sep=\",\")\n",
    "    df_panotes_question_2 = pd.read_csv(f\"{data_folder}/V134.236/question_extractor_extractions.csv\", sep=\",\")\n",
    "    \n",
    "    df_panotes_point_extractor = pd.concat([df_panotes_point_extractor_1, df_panotes_point_extractor_2], axis=0)\n",
    "    df_panotes_question = pd.concat([df_panotes_question_1, df_panotes_question_2], axis=0)\n",
    "    \n",
    "    df_panotes_point_extractor"
   ]
  },
  {
   "cell_type": "code",
   "outputs": [],
   "source": [
    "# # phase 2\n",
    "if data_folder == \"./data/phase_2\":\n",
    "    # read the rectangles annotations too there\n",
    "    df_panotes_rectangle_extractor_1 = pd.read_csv(f\"{data_folder}/V89.162/shape_extractor_rectangle_extractions.csv\", sep=\",\")\n",
    "    \n",
    "    df_panotes_point_extractor_1 = pd.read_csv(f\"{data_folder}/V89.162/point_extractor_by_frame_extractions.csv\", sep=\",\")\n",
    "    df_panotes_point_extractor_2 = pd.read_csv(f\"{data_folder}/V93.166/point_extractor_by_frame_extractions.csv\", sep=\",\")\n",
    "    df_panotes_point_extractor_3 = pd.read_csv(f\"{data_folder}/V94.166/point_extractor_by_frame_extractions.csv\", sep=\",\")\n",
    "    \n",
    "    df_panotes_point_extractor_1[\"workflow_version\"] = \"89.162\"\n",
    "    df_panotes_point_extractor_2[\"workflow_version\"] = \"93.166\"\n",
    "    df_panotes_point_extractor_3[\"workflow_version\"] = \"94.166\"\n",
    "    \n",
    "    df_panotes_question_1 = pd.read_csv(f\"{data_folder}/V89.162/question_extractor_extractions.csv\", sep=\",\")\n",
    "    df_panotes_question_2 = pd.read_csv(f\"{data_folder}/V93.166/question_extractor_extractions.csv\", sep=\",\")\n",
    "    df_panotes_question_3 = pd.read_csv(f\"{data_folder}/V94.166/question_extractor_extractions.csv\", sep=\",\")\n",
    "    \n",
    "    \n",
    "    df_panotes_point_extractor = pd.concat([df_panotes_point_extractor_1, df_panotes_point_extractor_2, df_panotes_point_extractor_2], axis=0)\n",
    "    df_panotes_question = pd.concat([df_panotes_question_1, df_panotes_question_2, df_panotes_question_3], axis=0)\n",
    "\n",
    "    df_panotes_rectangle_extractor_1"
   ],
   "metadata": {
    "collapsed": false,
    "ExecuteTime": {
     "end_time": "2024-04-10T18:47:05.744227Z",
     "start_time": "2024-04-10T18:47:05.741701Z"
    }
   },
   "id": "84f01a4d5c7f0334",
   "execution_count": 8
  },
  {
   "cell_type": "code",
   "outputs": [],
   "source": [
    "# not a single subject_id is of the gold standard is in the rectangle data\n",
    "# df_panotes_rectangle_extractor_1[df_panotes_rectangle_extractor_1.subject_id.isin(df_gold_standard.subject_id)]"
   ],
   "metadata": {
    "collapsed": false,
    "ExecuteTime": {
     "end_time": "2024-04-10T18:47:05.747342Z",
     "start_time": "2024-04-10T18:47:05.745587Z"
    }
   },
   "id": "41f8cb153ef52abe",
   "execution_count": 9
  },
  {
   "cell_type": "code",
   "outputs": [],
   "source": [
    "if data_folder == \"./data/phase_3\":\n",
    "    df_panotes_point_extractor_1 = pd.read_csv(f\"{data_folder}/V7.63/point_extractor_by_frame_extractions.csv\", sep=\",\")\n",
    "    df_panotes_point_extractor_2 = pd.read_csv(f\"{data_folder}/V9.63/point_extractor_by_frame_extractions.csv\", sep=\",\")\n",
    "    df_panotes_point_extractor_1[\"workflow_version\"] = \"7.63\"\n",
    "    df_panotes_point_extractor_2[\"workflow_version\"] = \"9.63\"\n",
    "\n",
    "    df_panotes_question_1 = pd.read_csv(f\"{data_folder}/V7.63/question_extractor_extractions.csv\", sep=\",\")\n",
    "    df_panotes_question_2 = pd.read_csv(f\"{data_folder}/V9.63/question_extractor_extractions.csv\", sep=\",\")\n",
    "\n",
    "    df_panotes_point_extractor = pd.concat([df_panotes_point_extractor_1, df_panotes_point_extractor_2], axis=0)\n",
    "    df_panotes_question = pd.concat([df_panotes_question_1, df_panotes_question_2], axis=0)\n"
   ],
   "metadata": {
    "collapsed": false,
    "ExecuteTime": {
     "end_time": "2024-04-10T18:47:05.750864Z",
     "start_time": "2024-04-10T18:47:05.748802Z"
    }
   },
   "id": "290588b8d957e42e",
   "execution_count": 10
  },
  {
   "cell_type": "code",
   "outputs": [
    {
     "data": {
      "text/plain": "         classification_id                           user_name    user_id  \\\n0                256866778                      ANDREAVARELA89  1983945.0   \n1                256866778                      ANDREAVARELA89  1983945.0   \n2                256866835                      ANDREAVARELA89  1983945.0   \n3                256866835                      ANDREAVARELA89  1983945.0   \n4                256866880                      ANDREAVARELA89  1983945.0   \n...                    ...                                 ...        ...   \n1000385          383293740                              DofEJK  2158981.0   \n1000386          389328206  not-logged-in-d2bbfbed958ba73b4084        NaN   \n1000387          389328206  not-logged-in-d2bbfbed958ba73b4084        NaN   \n1000388          389328326  not-logged-in-d2bbfbed958ba73b4084        NaN   \n1000389          389328326  not-logged-in-d2bbfbed958ba73b4084        NaN   \n\n         workflow_id task               created_at  subject_id  \\\n0              14370   T2  2020-07-01 10:24:23 UTC    44660635   \n1              14370   T4  2020-07-01 10:24:23 UTC    44660635   \n2              14370   T2  2020-07-01 10:24:40 UTC    44660558   \n3              14370   T4  2020-07-01 10:24:40 UTC    44660558   \n4              14370   T2  2020-07-01 10:24:52 UTC    44660712   \n...              ...  ...                      ...         ...   \n1000385        14370   T4  2021-12-14 19:51:54 UTC    47970069   \n1000386        14370   T2  2022-01-13 14:13:01 UTC    47970037   \n1000387        14370   T4  2022-01-13 14:13:01 UTC    47970037   \n1000388        14370   T2  2022-01-13 14:13:18 UTC    47969950   \n1000389        14370   T4  2022-01-13 14:13:18 UTC    47969950   \n\n                        extractor data.aggregation_version  \\\n0        point_extractor_by_frame                    4.1.0   \n1        point_extractor_by_frame                    4.1.0   \n2        point_extractor_by_frame                    4.1.0   \n3        point_extractor_by_frame                    4.1.0   \n4        point_extractor_by_frame                    4.1.0   \n...                           ...                      ...   \n1000385  point_extractor_by_frame                    4.1.0   \n1000386  point_extractor_by_frame                    4.1.0   \n1000387  point_extractor_by_frame                    4.1.0   \n1000388  point_extractor_by_frame                    4.1.0   \n1000389  point_extractor_by_frame                    4.1.0   \n\n                          data.frame0.T4_tool5_x  ... data.frame0.T4_tool0_x  \\\n0                                            NaN  ...                    NaN   \n1                                            NaN  ...                    NaN   \n2                                            NaN  ...                    NaN   \n3        [370.5579833984375, 295.52032470703125]  ...                    NaN   \n4                                            NaN  ...                    NaN   \n...                                          ...  ...                    ...   \n1000385                                      NaN  ...                    NaN   \n1000386                                      NaN  ...                    NaN   \n1000387                                      NaN  ...                    NaN   \n1000388                                      NaN  ...                    NaN   \n1000389                                      NaN  ...                    NaN   \n\n        data.frame0.T4_tool0_y data.frame0.T2_tool1_x data.frame0.T2_tool1_y  \\\n0                          NaN                    NaN                    NaN   \n1                          NaN                    NaN                    NaN   \n2                          NaN                    NaN                    NaN   \n3                          NaN                    NaN                    NaN   \n4                          NaN                    NaN                    NaN   \n...                        ...                    ...                    ...   \n1000385                    NaN                    NaN                    NaN   \n1000386                    NaN                    NaN                    NaN   \n1000387                    NaN                    NaN                    NaN   \n1000388                    NaN                    NaN                    NaN   \n1000389                    NaN                    NaN                    NaN   \n\n        data.frame0.T4_tool1_x data.frame0.T4_tool1_y data.frame0.T4_tool2_x  \\\n0                          NaN                    NaN                    NaN   \n1                          NaN                    NaN                    NaN   \n2                          NaN                    NaN                    NaN   \n3                          NaN                    NaN                    NaN   \n4                          NaN                    NaN                    NaN   \n...                        ...                    ...                    ...   \n1000385                    NaN                    NaN                    NaN   \n1000386                    NaN                    NaN                    NaN   \n1000387                    NaN                    NaN                    NaN   \n1000388                    NaN                    NaN                    NaN   \n1000389                    NaN                    NaN                    NaN   \n\n        data.frame0.T4_tool2_y data.frame0.T4_tool6_x data.frame0.T4_tool6_y  \n0                          NaN                    NaN                    NaN  \n1                          NaN                    NaN                    NaN  \n2                          NaN                    NaN                    NaN  \n3                          NaN                    NaN                    NaN  \n4                          NaN                    NaN                    NaN  \n...                        ...                    ...                    ...  \n1000385                    NaN                    NaN                    NaN  \n1000386                    NaN                    NaN                    NaN  \n1000387                    NaN                    NaN                    NaN  \n1000388                    NaN                    NaN                    NaN  \n1000389                    NaN                    NaN                    NaN  \n\n[1019796 rows x 33 columns]",
      "text/html": "<div>\n<style scoped>\n    .dataframe tbody tr th:only-of-type {\n        vertical-align: middle;\n    }\n\n    .dataframe tbody tr th {\n        vertical-align: top;\n    }\n\n    .dataframe thead th {\n        text-align: right;\n    }\n</style>\n<table border=\"1\" class=\"dataframe\">\n  <thead>\n    <tr style=\"text-align: right;\">\n      <th></th>\n      <th>classification_id</th>\n      <th>user_name</th>\n      <th>user_id</th>\n      <th>workflow_id</th>\n      <th>task</th>\n      <th>created_at</th>\n      <th>subject_id</th>\n      <th>extractor</th>\n      <th>data.aggregation_version</th>\n      <th>data.frame0.T4_tool5_x</th>\n      <th>...</th>\n      <th>data.frame0.T4_tool0_x</th>\n      <th>data.frame0.T4_tool0_y</th>\n      <th>data.frame0.T2_tool1_x</th>\n      <th>data.frame0.T2_tool1_y</th>\n      <th>data.frame0.T4_tool1_x</th>\n      <th>data.frame0.T4_tool1_y</th>\n      <th>data.frame0.T4_tool2_x</th>\n      <th>data.frame0.T4_tool2_y</th>\n      <th>data.frame0.T4_tool6_x</th>\n      <th>data.frame0.T4_tool6_y</th>\n    </tr>\n  </thead>\n  <tbody>\n    <tr>\n      <th>0</th>\n      <td>256866778</td>\n      <td>ANDREAVARELA89</td>\n      <td>1983945.0</td>\n      <td>14370</td>\n      <td>T2</td>\n      <td>2020-07-01 10:24:23 UTC</td>\n      <td>44660635</td>\n      <td>point_extractor_by_frame</td>\n      <td>4.1.0</td>\n      <td>NaN</td>\n      <td>...</td>\n      <td>NaN</td>\n      <td>NaN</td>\n      <td>NaN</td>\n      <td>NaN</td>\n      <td>NaN</td>\n      <td>NaN</td>\n      <td>NaN</td>\n      <td>NaN</td>\n      <td>NaN</td>\n      <td>NaN</td>\n    </tr>\n    <tr>\n      <th>1</th>\n      <td>256866778</td>\n      <td>ANDREAVARELA89</td>\n      <td>1983945.0</td>\n      <td>14370</td>\n      <td>T4</td>\n      <td>2020-07-01 10:24:23 UTC</td>\n      <td>44660635</td>\n      <td>point_extractor_by_frame</td>\n      <td>4.1.0</td>\n      <td>NaN</td>\n      <td>...</td>\n      <td>NaN</td>\n      <td>NaN</td>\n      <td>NaN</td>\n      <td>NaN</td>\n      <td>NaN</td>\n      <td>NaN</td>\n      <td>NaN</td>\n      <td>NaN</td>\n      <td>NaN</td>\n      <td>NaN</td>\n    </tr>\n    <tr>\n      <th>2</th>\n      <td>256866835</td>\n      <td>ANDREAVARELA89</td>\n      <td>1983945.0</td>\n      <td>14370</td>\n      <td>T2</td>\n      <td>2020-07-01 10:24:40 UTC</td>\n      <td>44660558</td>\n      <td>point_extractor_by_frame</td>\n      <td>4.1.0</td>\n      <td>NaN</td>\n      <td>...</td>\n      <td>NaN</td>\n      <td>NaN</td>\n      <td>NaN</td>\n      <td>NaN</td>\n      <td>NaN</td>\n      <td>NaN</td>\n      <td>NaN</td>\n      <td>NaN</td>\n      <td>NaN</td>\n      <td>NaN</td>\n    </tr>\n    <tr>\n      <th>3</th>\n      <td>256866835</td>\n      <td>ANDREAVARELA89</td>\n      <td>1983945.0</td>\n      <td>14370</td>\n      <td>T4</td>\n      <td>2020-07-01 10:24:40 UTC</td>\n      <td>44660558</td>\n      <td>point_extractor_by_frame</td>\n      <td>4.1.0</td>\n      <td>[370.5579833984375, 295.52032470703125]</td>\n      <td>...</td>\n      <td>NaN</td>\n      <td>NaN</td>\n      <td>NaN</td>\n      <td>NaN</td>\n      <td>NaN</td>\n      <td>NaN</td>\n      <td>NaN</td>\n      <td>NaN</td>\n      <td>NaN</td>\n      <td>NaN</td>\n    </tr>\n    <tr>\n      <th>4</th>\n      <td>256866880</td>\n      <td>ANDREAVARELA89</td>\n      <td>1983945.0</td>\n      <td>14370</td>\n      <td>T2</td>\n      <td>2020-07-01 10:24:52 UTC</td>\n      <td>44660712</td>\n      <td>point_extractor_by_frame</td>\n      <td>4.1.0</td>\n      <td>NaN</td>\n      <td>...</td>\n      <td>NaN</td>\n      <td>NaN</td>\n      <td>NaN</td>\n      <td>NaN</td>\n      <td>NaN</td>\n      <td>NaN</td>\n      <td>NaN</td>\n      <td>NaN</td>\n      <td>NaN</td>\n      <td>NaN</td>\n    </tr>\n    <tr>\n      <th>...</th>\n      <td>...</td>\n      <td>...</td>\n      <td>...</td>\n      <td>...</td>\n      <td>...</td>\n      <td>...</td>\n      <td>...</td>\n      <td>...</td>\n      <td>...</td>\n      <td>...</td>\n      <td>...</td>\n      <td>...</td>\n      <td>...</td>\n      <td>...</td>\n      <td>...</td>\n      <td>...</td>\n      <td>...</td>\n      <td>...</td>\n      <td>...</td>\n      <td>...</td>\n      <td>...</td>\n    </tr>\n    <tr>\n      <th>1000385</th>\n      <td>383293740</td>\n      <td>DofEJK</td>\n      <td>2158981.0</td>\n      <td>14370</td>\n      <td>T4</td>\n      <td>2021-12-14 19:51:54 UTC</td>\n      <td>47970069</td>\n      <td>point_extractor_by_frame</td>\n      <td>4.1.0</td>\n      <td>NaN</td>\n      <td>...</td>\n      <td>NaN</td>\n      <td>NaN</td>\n      <td>NaN</td>\n      <td>NaN</td>\n      <td>NaN</td>\n      <td>NaN</td>\n      <td>NaN</td>\n      <td>NaN</td>\n      <td>NaN</td>\n      <td>NaN</td>\n    </tr>\n    <tr>\n      <th>1000386</th>\n      <td>389328206</td>\n      <td>not-logged-in-d2bbfbed958ba73b4084</td>\n      <td>NaN</td>\n      <td>14370</td>\n      <td>T2</td>\n      <td>2022-01-13 14:13:01 UTC</td>\n      <td>47970037</td>\n      <td>point_extractor_by_frame</td>\n      <td>4.1.0</td>\n      <td>NaN</td>\n      <td>...</td>\n      <td>NaN</td>\n      <td>NaN</td>\n      <td>NaN</td>\n      <td>NaN</td>\n      <td>NaN</td>\n      <td>NaN</td>\n      <td>NaN</td>\n      <td>NaN</td>\n      <td>NaN</td>\n      <td>NaN</td>\n    </tr>\n    <tr>\n      <th>1000387</th>\n      <td>389328206</td>\n      <td>not-logged-in-d2bbfbed958ba73b4084</td>\n      <td>NaN</td>\n      <td>14370</td>\n      <td>T4</td>\n      <td>2022-01-13 14:13:01 UTC</td>\n      <td>47970037</td>\n      <td>point_extractor_by_frame</td>\n      <td>4.1.0</td>\n      <td>NaN</td>\n      <td>...</td>\n      <td>NaN</td>\n      <td>NaN</td>\n      <td>NaN</td>\n      <td>NaN</td>\n      <td>NaN</td>\n      <td>NaN</td>\n      <td>NaN</td>\n      <td>NaN</td>\n      <td>NaN</td>\n      <td>NaN</td>\n    </tr>\n    <tr>\n      <th>1000388</th>\n      <td>389328326</td>\n      <td>not-logged-in-d2bbfbed958ba73b4084</td>\n      <td>NaN</td>\n      <td>14370</td>\n      <td>T2</td>\n      <td>2022-01-13 14:13:18 UTC</td>\n      <td>47969950</td>\n      <td>point_extractor_by_frame</td>\n      <td>4.1.0</td>\n      <td>NaN</td>\n      <td>...</td>\n      <td>NaN</td>\n      <td>NaN</td>\n      <td>NaN</td>\n      <td>NaN</td>\n      <td>NaN</td>\n      <td>NaN</td>\n      <td>NaN</td>\n      <td>NaN</td>\n      <td>NaN</td>\n      <td>NaN</td>\n    </tr>\n    <tr>\n      <th>1000389</th>\n      <td>389328326</td>\n      <td>not-logged-in-d2bbfbed958ba73b4084</td>\n      <td>NaN</td>\n      <td>14370</td>\n      <td>T4</td>\n      <td>2022-01-13 14:13:18 UTC</td>\n      <td>47969950</td>\n      <td>point_extractor_by_frame</td>\n      <td>4.1.0</td>\n      <td>NaN</td>\n      <td>...</td>\n      <td>NaN</td>\n      <td>NaN</td>\n      <td>NaN</td>\n      <td>NaN</td>\n      <td>NaN</td>\n      <td>NaN</td>\n      <td>NaN</td>\n      <td>NaN</td>\n      <td>NaN</td>\n      <td>NaN</td>\n    </tr>\n  </tbody>\n</table>\n<p>1019796 rows × 33 columns</p>\n</div>"
     },
     "execution_count": 11,
     "metadata": {},
     "output_type": "execute_result"
    }
   ],
   "source": [
    "df_panotes_point_extractor"
   ],
   "metadata": {
    "collapsed": false,
    "ExecuteTime": {
     "end_time": "2024-04-10T18:47:07.184705Z",
     "start_time": "2024-04-10T18:47:05.751640Z"
    }
   },
   "id": "425530a8a9acdc49",
   "execution_count": 11
  },
  {
   "cell_type": "markdown",
   "source": [
    "\n"
   ],
   "metadata": {
    "collapsed": false
   },
   "id": "f31247211061c5fe"
  },
  {
   "cell_type": "code",
   "outputs": [
    {
     "data": {
      "text/plain": "        classification_id                           user_name    user_id  \\\n0               256866778                      ANDREAVARELA89  1983945.0   \n1               256866835                      ANDREAVARELA89  1983945.0   \n2               256866880                      ANDREAVARELA89  1983945.0   \n3               256867624                      ANDREAVARELA89  1983945.0   \n4               256867676                      ANDREAVARELA89  1983945.0   \n...                   ...                                 ...        ...   \n500190          383293694                              DofEJK  2158981.0   \n500191          383293720                              DofEJK  2158981.0   \n500192          383293740                              DofEJK  2158981.0   \n500193          389328206  not-logged-in-d2bbfbed958ba73b4084        NaN   \n500194          389328326  not-logged-in-d2bbfbed958ba73b4084        NaN   \n\n        workflow_id task               created_at  subject_id  \\\n0             14370   T0  2020-07-01 10:24:23 UTC    44660635   \n1             14370   T0  2020-07-01 10:24:40 UTC    44660558   \n2             14370   T0  2020-07-01 10:24:52 UTC    44660712   \n3             14370   T0  2020-07-01 10:29:11 UTC    44660654   \n4             14370   T0  2020-07-01 10:29:26 UTC    44660552   \n...             ...  ...                      ...         ...   \n500190        14370   T0  2021-12-14 19:51:44 UTC    47970089   \n500191        14370   T0  2021-12-14 19:51:50 UTC    47970146   \n500192        14370   T0  2021-12-14 19:51:54 UTC    47970069   \n500193        14370   T0  2022-01-13 14:13:01 UTC    47970037   \n500194        14370   T0  2022-01-13 14:13:18 UTC    47969950   \n\n                 extractor  data.no data.aggregation_version  \\\n0       question_extractor      1.0                    4.1.0   \n1       question_extractor      1.0                    4.1.0   \n2       question_extractor      1.0                    4.1.0   \n3       question_extractor      1.0                    4.1.0   \n4       question_extractor      1.0                    4.1.0   \n...                    ...      ...                      ...   \n500190  question_extractor      1.0                    4.1.0   \n500191  question_extractor      1.0                    4.1.0   \n500192  question_extractor      1.0                    4.1.0   \n500193  question_extractor      1.0                    4.1.0   \n500194  question_extractor      1.0                    4.1.0   \n\n        data.photo-too-blurry-or-dark  data.yes  \n0                                 NaN       NaN  \n1                                 NaN       NaN  \n2                                 NaN       NaN  \n3                                 NaN       NaN  \n4                                 NaN       NaN  \n...                               ...       ...  \n500190                            NaN       NaN  \n500191                            NaN       NaN  \n500192                            NaN       NaN  \n500193                            NaN       NaN  \n500194                            NaN       NaN  \n\n[509898 rows x 12 columns]",
      "text/html": "<div>\n<style scoped>\n    .dataframe tbody tr th:only-of-type {\n        vertical-align: middle;\n    }\n\n    .dataframe tbody tr th {\n        vertical-align: top;\n    }\n\n    .dataframe thead th {\n        text-align: right;\n    }\n</style>\n<table border=\"1\" class=\"dataframe\">\n  <thead>\n    <tr style=\"text-align: right;\">\n      <th></th>\n      <th>classification_id</th>\n      <th>user_name</th>\n      <th>user_id</th>\n      <th>workflow_id</th>\n      <th>task</th>\n      <th>created_at</th>\n      <th>subject_id</th>\n      <th>extractor</th>\n      <th>data.no</th>\n      <th>data.aggregation_version</th>\n      <th>data.photo-too-blurry-or-dark</th>\n      <th>data.yes</th>\n    </tr>\n  </thead>\n  <tbody>\n    <tr>\n      <th>0</th>\n      <td>256866778</td>\n      <td>ANDREAVARELA89</td>\n      <td>1983945.0</td>\n      <td>14370</td>\n      <td>T0</td>\n      <td>2020-07-01 10:24:23 UTC</td>\n      <td>44660635</td>\n      <td>question_extractor</td>\n      <td>1.0</td>\n      <td>4.1.0</td>\n      <td>NaN</td>\n      <td>NaN</td>\n    </tr>\n    <tr>\n      <th>1</th>\n      <td>256866835</td>\n      <td>ANDREAVARELA89</td>\n      <td>1983945.0</td>\n      <td>14370</td>\n      <td>T0</td>\n      <td>2020-07-01 10:24:40 UTC</td>\n      <td>44660558</td>\n      <td>question_extractor</td>\n      <td>1.0</td>\n      <td>4.1.0</td>\n      <td>NaN</td>\n      <td>NaN</td>\n    </tr>\n    <tr>\n      <th>2</th>\n      <td>256866880</td>\n      <td>ANDREAVARELA89</td>\n      <td>1983945.0</td>\n      <td>14370</td>\n      <td>T0</td>\n      <td>2020-07-01 10:24:52 UTC</td>\n      <td>44660712</td>\n      <td>question_extractor</td>\n      <td>1.0</td>\n      <td>4.1.0</td>\n      <td>NaN</td>\n      <td>NaN</td>\n    </tr>\n    <tr>\n      <th>3</th>\n      <td>256867624</td>\n      <td>ANDREAVARELA89</td>\n      <td>1983945.0</td>\n      <td>14370</td>\n      <td>T0</td>\n      <td>2020-07-01 10:29:11 UTC</td>\n      <td>44660654</td>\n      <td>question_extractor</td>\n      <td>1.0</td>\n      <td>4.1.0</td>\n      <td>NaN</td>\n      <td>NaN</td>\n    </tr>\n    <tr>\n      <th>4</th>\n      <td>256867676</td>\n      <td>ANDREAVARELA89</td>\n      <td>1983945.0</td>\n      <td>14370</td>\n      <td>T0</td>\n      <td>2020-07-01 10:29:26 UTC</td>\n      <td>44660552</td>\n      <td>question_extractor</td>\n      <td>1.0</td>\n      <td>4.1.0</td>\n      <td>NaN</td>\n      <td>NaN</td>\n    </tr>\n    <tr>\n      <th>...</th>\n      <td>...</td>\n      <td>...</td>\n      <td>...</td>\n      <td>...</td>\n      <td>...</td>\n      <td>...</td>\n      <td>...</td>\n      <td>...</td>\n      <td>...</td>\n      <td>...</td>\n      <td>...</td>\n      <td>...</td>\n    </tr>\n    <tr>\n      <th>500190</th>\n      <td>383293694</td>\n      <td>DofEJK</td>\n      <td>2158981.0</td>\n      <td>14370</td>\n      <td>T0</td>\n      <td>2021-12-14 19:51:44 UTC</td>\n      <td>47970089</td>\n      <td>question_extractor</td>\n      <td>1.0</td>\n      <td>4.1.0</td>\n      <td>NaN</td>\n      <td>NaN</td>\n    </tr>\n    <tr>\n      <th>500191</th>\n      <td>383293720</td>\n      <td>DofEJK</td>\n      <td>2158981.0</td>\n      <td>14370</td>\n      <td>T0</td>\n      <td>2021-12-14 19:51:50 UTC</td>\n      <td>47970146</td>\n      <td>question_extractor</td>\n      <td>1.0</td>\n      <td>4.1.0</td>\n      <td>NaN</td>\n      <td>NaN</td>\n    </tr>\n    <tr>\n      <th>500192</th>\n      <td>383293740</td>\n      <td>DofEJK</td>\n      <td>2158981.0</td>\n      <td>14370</td>\n      <td>T0</td>\n      <td>2021-12-14 19:51:54 UTC</td>\n      <td>47970069</td>\n      <td>question_extractor</td>\n      <td>1.0</td>\n      <td>4.1.0</td>\n      <td>NaN</td>\n      <td>NaN</td>\n    </tr>\n    <tr>\n      <th>500193</th>\n      <td>389328206</td>\n      <td>not-logged-in-d2bbfbed958ba73b4084</td>\n      <td>NaN</td>\n      <td>14370</td>\n      <td>T0</td>\n      <td>2022-01-13 14:13:01 UTC</td>\n      <td>47970037</td>\n      <td>question_extractor</td>\n      <td>1.0</td>\n      <td>4.1.0</td>\n      <td>NaN</td>\n      <td>NaN</td>\n    </tr>\n    <tr>\n      <th>500194</th>\n      <td>389328326</td>\n      <td>not-logged-in-d2bbfbed958ba73b4084</td>\n      <td>NaN</td>\n      <td>14370</td>\n      <td>T0</td>\n      <td>2022-01-13 14:13:18 UTC</td>\n      <td>47969950</td>\n      <td>question_extractor</td>\n      <td>1.0</td>\n      <td>4.1.0</td>\n      <td>NaN</td>\n      <td>NaN</td>\n    </tr>\n  </tbody>\n</table>\n<p>509898 rows × 12 columns</p>\n</div>"
     },
     "execution_count": 12,
     "metadata": {},
     "output_type": "execute_result"
    }
   ],
   "source": [
    "df_panotes_question"
   ],
   "metadata": {
    "collapsed": false,
    "ExecuteTime": {
     "end_time": "2024-04-10T19:28:47.571680Z",
     "start_time": "2024-04-10T19:28:47.560511Z"
    }
   },
   "id": "3c4ae981e64efbc7",
   "execution_count": 12
  },
  {
   "cell_type": "code",
   "outputs": [
    {
     "name": "stdout",
     "output_type": "stream",
     "text": [
      "{'site', 'flight', 'Flight', 'Site', 'flight_code', 'Island', 'id', 'workflow', 'subject_id', 'type', 'name', '#target_count', 'image_name', 'Image_name', 'Subset', 'set', 'Subject_id', 'Filename', 'Set'}\n"
     ]
    }
   ],
   "source": [
    "import json\n",
    "def get_json_keys(json_str):\n",
    "    try:\n",
    "        json_obj = json.loads(json_str)\n",
    "        return list(json_obj.keys())\n",
    "    except json.JSONDecodeError:\n",
    "        return []\n",
    "\n",
    "# Apply the function to each row in the metadata column and collect all keys\n",
    "all_keys = df_subjects['metadata'].apply(get_json_keys)\n",
    "\n",
    "# Flatten the list of lists and get unique keys\n",
    "unique_keys = set([key for sublist in all_keys for key in sublist])\n",
    "\n",
    "print(unique_keys)"
   ],
   "metadata": {
    "collapsed": false,
    "ExecuteTime": {
     "end_time": "2024-04-10T19:28:49.947527Z",
     "start_time": "2024-04-10T19:28:49.719194Z"
    }
   },
   "id": "94063673f589d472",
   "execution_count": 13
  },
  {
   "cell_type": "code",
   "outputs": [
    {
     "data": {
      "text/plain": "       subject_id  project_id  workflow_id  subject_set_id  \\\n0        44660549       11905          NaN           83766   \n1        44660550       11905          NaN           83766   \n2        44660551       11905          NaN           83766   \n3        44660552       11905          NaN           83766   \n4        44660553       11905          NaN           83766   \n...           ...         ...          ...             ...   \n68155    92469731       11905      25351.0          116619   \n68156    92469733       11905      25351.0          116619   \n68157    92469734       11905      25351.0          116619   \n68158    92469735       11905      25351.0          116619   \n68159    92469736       11905      25351.0          116619   \n\n                                                metadata  \\\n0      {\"image_name\":\"SMF02-1-2-2_740.jpg\",\"subject_i...   \n1      {\"image_name\":\"SRIL03-2-1_153.jpg\",\"subject_id...   \n2      {\"image_name\":\"SRIL03-2-2_90.jpg\",\"subject_id\"...   \n3      {\"image_name\":\"SRIL03-2-2_127.jpg\",\"subject_id...   \n4      {\"image_name\":\"SRIL03-2-2_133.jpg\",\"subject_id...   \n...                                                  ...   \n68155  {\"Site\":\"Puerto Villamil\",\"Island\":\"Isabela\",\"...   \n68156  {\"Site\":\"Puerto Villamil\",\"Island\":\"Isabela\",\"...   \n68157  {\"Site\":\"Puerto Villamil\",\"Island\":\"Isabela\",\"...   \n68158  {\"Site\":\"Puerto Villamil\",\"Island\":\"Isabela\",\"...   \n68159  {\"Site\":\"Puerto Villamil\",\"Island\":\"Isabela\",\"...   \n\n                                               locations  \\\n0      {\"0\":\"https://panoptes-uploads.zooniverse.org/...   \n1      {\"0\":\"https://panoptes-uploads.zooniverse.org/...   \n2      {\"0\":\"https://panoptes-uploads.zooniverse.org/...   \n3      {\"0\":\"https://panoptes-uploads.zooniverse.org/...   \n4      {\"0\":\"https://panoptes-uploads.zooniverse.org/...   \n...                                                  ...   \n68155  {\"0\":\"https://panoptes-uploads.zooniverse.org/...   \n68156  {\"0\":\"https://panoptes-uploads.zooniverse.org/...   \n68157  {\"0\":\"https://panoptes-uploads.zooniverse.org/...   \n68158  {\"0\":\"https://panoptes-uploads.zooniverse.org/...   \n68159  {\"0\":\"https://panoptes-uploads.zooniverse.org/...   \n\n       classifications_count retired_at retirement_reason  \\\n0                          0        NaN               NaN   \n1                          0        NaN               NaN   \n2                          0        NaN               NaN   \n3                          0        NaN               NaN   \n4                          0        NaN               NaN   \n...                      ...        ...               ...   \n68155                      2        NaN               NaN   \n68156                      3        NaN               NaN   \n68157                      6        NaN               NaN   \n68158                      1        NaN               NaN   \n68159                      4        NaN               NaN   \n\n                    created_at               updated_at  \\\n0      2020-05-12 11:01:33 UTC  2020-05-12 11:01:33 UTC   \n1      2020-05-12 11:01:39 UTC  2020-05-12 11:01:39 UTC   \n2      2020-05-12 11:01:45 UTC  2020-05-12 11:01:45 UTC   \n3      2020-05-12 11:01:49 UTC  2020-05-12 11:01:49 UTC   \n4      2020-05-12 11:01:53 UTC  2020-05-12 11:01:53 UTC   \n...                        ...                      ...   \n68155  2023-10-12 16:28:45 UTC  2023-10-12 16:28:45 UTC   \n68156  2023-10-12 16:28:46 UTC  2023-10-12 16:28:46 UTC   \n68157  2023-10-12 16:28:46 UTC  2023-10-12 16:28:46 UTC   \n68158  2023-10-12 16:28:46 UTC  2023-10-12 16:28:46 UTC   \n68159  2023-10-12 16:28:47 UTC  2023-10-12 16:28:47 UTC   \n\n                          image_name  \n0                SMF02-1-2-2_740.jpg  \n1                 SRIL03-2-1_153.jpg  \n2                  SRIL03-2-2_90.jpg  \n3                 SRIL03-2-2_127.jpg  \n4                 SRIL03-2-2_133.jpg  \n...                              ...  \n68155    Isa_ISVB02_27012023_155.jpg  \n68156  Isa_ISVB01_27012023_75_36.jpg  \n68157  Isa_ISVB01_27012023_27_16.jpg  \n68158  Isa_ISVB03_77012023_28_17.jpg  \n68159  Isa_ISVB01_27012023_51_37.jpg  \n\n[68160 rows x 12 columns]",
      "text/html": "<div>\n<style scoped>\n    .dataframe tbody tr th:only-of-type {\n        vertical-align: middle;\n    }\n\n    .dataframe tbody tr th {\n        vertical-align: top;\n    }\n\n    .dataframe thead th {\n        text-align: right;\n    }\n</style>\n<table border=\"1\" class=\"dataframe\">\n  <thead>\n    <tr style=\"text-align: right;\">\n      <th></th>\n      <th>subject_id</th>\n      <th>project_id</th>\n      <th>workflow_id</th>\n      <th>subject_set_id</th>\n      <th>metadata</th>\n      <th>locations</th>\n      <th>classifications_count</th>\n      <th>retired_at</th>\n      <th>retirement_reason</th>\n      <th>created_at</th>\n      <th>updated_at</th>\n      <th>image_name</th>\n    </tr>\n  </thead>\n  <tbody>\n    <tr>\n      <th>0</th>\n      <td>44660549</td>\n      <td>11905</td>\n      <td>NaN</td>\n      <td>83766</td>\n      <td>{\"image_name\":\"SMF02-1-2-2_740.jpg\",\"subject_i...</td>\n      <td>{\"0\":\"https://panoptes-uploads.zooniverse.org/...</td>\n      <td>0</td>\n      <td>NaN</td>\n      <td>NaN</td>\n      <td>2020-05-12 11:01:33 UTC</td>\n      <td>2020-05-12 11:01:33 UTC</td>\n      <td>SMF02-1-2-2_740.jpg</td>\n    </tr>\n    <tr>\n      <th>1</th>\n      <td>44660550</td>\n      <td>11905</td>\n      <td>NaN</td>\n      <td>83766</td>\n      <td>{\"image_name\":\"SRIL03-2-1_153.jpg\",\"subject_id...</td>\n      <td>{\"0\":\"https://panoptes-uploads.zooniverse.org/...</td>\n      <td>0</td>\n      <td>NaN</td>\n      <td>NaN</td>\n      <td>2020-05-12 11:01:39 UTC</td>\n      <td>2020-05-12 11:01:39 UTC</td>\n      <td>SRIL03-2-1_153.jpg</td>\n    </tr>\n    <tr>\n      <th>2</th>\n      <td>44660551</td>\n      <td>11905</td>\n      <td>NaN</td>\n      <td>83766</td>\n      <td>{\"image_name\":\"SRIL03-2-2_90.jpg\",\"subject_id\"...</td>\n      <td>{\"0\":\"https://panoptes-uploads.zooniverse.org/...</td>\n      <td>0</td>\n      <td>NaN</td>\n      <td>NaN</td>\n      <td>2020-05-12 11:01:45 UTC</td>\n      <td>2020-05-12 11:01:45 UTC</td>\n      <td>SRIL03-2-2_90.jpg</td>\n    </tr>\n    <tr>\n      <th>3</th>\n      <td>44660552</td>\n      <td>11905</td>\n      <td>NaN</td>\n      <td>83766</td>\n      <td>{\"image_name\":\"SRIL03-2-2_127.jpg\",\"subject_id...</td>\n      <td>{\"0\":\"https://panoptes-uploads.zooniverse.org/...</td>\n      <td>0</td>\n      <td>NaN</td>\n      <td>NaN</td>\n      <td>2020-05-12 11:01:49 UTC</td>\n      <td>2020-05-12 11:01:49 UTC</td>\n      <td>SRIL03-2-2_127.jpg</td>\n    </tr>\n    <tr>\n      <th>4</th>\n      <td>44660553</td>\n      <td>11905</td>\n      <td>NaN</td>\n      <td>83766</td>\n      <td>{\"image_name\":\"SRIL03-2-2_133.jpg\",\"subject_id...</td>\n      <td>{\"0\":\"https://panoptes-uploads.zooniverse.org/...</td>\n      <td>0</td>\n      <td>NaN</td>\n      <td>NaN</td>\n      <td>2020-05-12 11:01:53 UTC</td>\n      <td>2020-05-12 11:01:53 UTC</td>\n      <td>SRIL03-2-2_133.jpg</td>\n    </tr>\n    <tr>\n      <th>...</th>\n      <td>...</td>\n      <td>...</td>\n      <td>...</td>\n      <td>...</td>\n      <td>...</td>\n      <td>...</td>\n      <td>...</td>\n      <td>...</td>\n      <td>...</td>\n      <td>...</td>\n      <td>...</td>\n      <td>...</td>\n    </tr>\n    <tr>\n      <th>68155</th>\n      <td>92469731</td>\n      <td>11905</td>\n      <td>25351.0</td>\n      <td>116619</td>\n      <td>{\"Site\":\"Puerto Villamil\",\"Island\":\"Isabela\",\"...</td>\n      <td>{\"0\":\"https://panoptes-uploads.zooniverse.org/...</td>\n      <td>2</td>\n      <td>NaN</td>\n      <td>NaN</td>\n      <td>2023-10-12 16:28:45 UTC</td>\n      <td>2023-10-12 16:28:45 UTC</td>\n      <td>Isa_ISVB02_27012023_155.jpg</td>\n    </tr>\n    <tr>\n      <th>68156</th>\n      <td>92469733</td>\n      <td>11905</td>\n      <td>25351.0</td>\n      <td>116619</td>\n      <td>{\"Site\":\"Puerto Villamil\",\"Island\":\"Isabela\",\"...</td>\n      <td>{\"0\":\"https://panoptes-uploads.zooniverse.org/...</td>\n      <td>3</td>\n      <td>NaN</td>\n      <td>NaN</td>\n      <td>2023-10-12 16:28:46 UTC</td>\n      <td>2023-10-12 16:28:46 UTC</td>\n      <td>Isa_ISVB01_27012023_75_36.jpg</td>\n    </tr>\n    <tr>\n      <th>68157</th>\n      <td>92469734</td>\n      <td>11905</td>\n      <td>25351.0</td>\n      <td>116619</td>\n      <td>{\"Site\":\"Puerto Villamil\",\"Island\":\"Isabela\",\"...</td>\n      <td>{\"0\":\"https://panoptes-uploads.zooniverse.org/...</td>\n      <td>6</td>\n      <td>NaN</td>\n      <td>NaN</td>\n      <td>2023-10-12 16:28:46 UTC</td>\n      <td>2023-10-12 16:28:46 UTC</td>\n      <td>Isa_ISVB01_27012023_27_16.jpg</td>\n    </tr>\n    <tr>\n      <th>68158</th>\n      <td>92469735</td>\n      <td>11905</td>\n      <td>25351.0</td>\n      <td>116619</td>\n      <td>{\"Site\":\"Puerto Villamil\",\"Island\":\"Isabela\",\"...</td>\n      <td>{\"0\":\"https://panoptes-uploads.zooniverse.org/...</td>\n      <td>1</td>\n      <td>NaN</td>\n      <td>NaN</td>\n      <td>2023-10-12 16:28:46 UTC</td>\n      <td>2023-10-12 16:28:46 UTC</td>\n      <td>Isa_ISVB03_77012023_28_17.jpg</td>\n    </tr>\n    <tr>\n      <th>68159</th>\n      <td>92469736</td>\n      <td>11905</td>\n      <td>25351.0</td>\n      <td>116619</td>\n      <td>{\"Site\":\"Puerto Villamil\",\"Island\":\"Isabela\",\"...</td>\n      <td>{\"0\":\"https://panoptes-uploads.zooniverse.org/...</td>\n      <td>4</td>\n      <td>NaN</td>\n      <td>NaN</td>\n      <td>2023-10-12 16:28:47 UTC</td>\n      <td>2023-10-12 16:28:47 UTC</td>\n      <td>Isa_ISVB01_27012023_51_37.jpg</td>\n    </tr>\n  </tbody>\n</table>\n<p>68160 rows × 12 columns</p>\n</div>"
     },
     "execution_count": 14,
     "metadata": {},
     "output_type": "execute_result"
    }
   ],
   "source": [
    "\n",
    "df_subjects[[\"subject_id\", \"metadata\"]]\n",
    "\n",
    "df_subjects[\"image_name\"] = df_subjects['metadata'].apply(lambda x: json.loads(x).get('Image_name') \n",
    "                                        or json.loads(x).get('image_name') \n",
    "                                        or json.loads(x).get('Filename')).sort_values(ascending=True)\n",
    "df_subjects"
   ],
   "metadata": {
    "collapsed": false,
    "ExecuteTime": {
     "end_time": "2024-04-10T19:28:51.517673Z",
     "start_time": "2024-04-10T19:28:51.175001Z"
    }
   },
   "id": "b16f1620c103a531",
   "execution_count": 14
  },
  {
   "cell_type": "code",
   "outputs": [
    {
     "data": {
      "text/plain": "         classification_id        user_name    user_id  workflow_id task  \\\n0                256866778   ANDREAVARELA89  1983945.0        14370   T2   \n1                256866778   ANDREAVARELA89  1983945.0        14370   T4   \n2                257485360        cryder406  1992086.0        14370   T2   \n3                257485360        cryder406  1992086.0        14370   T4   \n4                257492065             Mchi  1988084.0        14370   T2   \n...                    ...              ...        ...          ...  ...   \n1019791          288127706           acolom  2118412.0        14370   T4   \n1019792          288168438  FelipeCirqueira  2191241.0        14370   T2   \n1019793          288168438  FelipeCirqueira  2191241.0        14370   T4   \n1019794          288198132   LittleUsername  2148294.0        14370   T2   \n1019795          288198132   LittleUsername  2148294.0        14370   T4   \n\n                      created_at  subject_id                 extractor  \\\n0        2020-07-01 10:24:23 UTC    44660635  point_extractor_by_frame   \n1        2020-07-01 10:24:23 UTC    44660635  point_extractor_by_frame   \n2        2020-07-03 15:55:19 UTC    44660635  point_extractor_by_frame   \n3        2020-07-03 15:55:19 UTC    44660635  point_extractor_by_frame   \n4        2020-07-03 16:23:23 UTC    44660635  point_extractor_by_frame   \n...                          ...         ...                       ...   \n1019791  2020-11-18 21:32:33 UTC    47970949  point_extractor_by_frame   \n1019792  2020-11-19 01:03:05 UTC    47970949  point_extractor_by_frame   \n1019793  2020-11-19 01:03:05 UTC    47970949  point_extractor_by_frame   \n1019794  2020-11-19 03:57:28 UTC    47970949  point_extractor_by_frame   \n1019795  2020-11-19 03:57:28 UTC    47970949  point_extractor_by_frame   \n\n        data.aggregation_version data.frame0.T4_tool5_x  ...  \\\n0                          4.1.0                    NaN  ...   \n1                          4.1.0                    NaN  ...   \n2                          4.1.0                    NaN  ...   \n3                          4.1.0                    NaN  ...   \n4                          4.1.0                    NaN  ...   \n...                          ...                    ...  ...   \n1019791                    4.1.0                    NaN  ...   \n1019792                    4.1.0                    NaN  ...   \n1019793                    4.1.0                    NaN  ...   \n1019794                    4.1.0                    NaN  ...   \n1019795                    4.1.0                    NaN  ...   \n\n        data.frame0.T4_tool0_y data.frame0.T2_tool1_x data.frame0.T2_tool1_y  \\\n0                          NaN                    NaN                    NaN   \n1                          NaN                    NaN                    NaN   \n2                          NaN                    NaN                    NaN   \n3                          NaN                    NaN                    NaN   \n4                          NaN                    NaN                    NaN   \n...                        ...                    ...                    ...   \n1019791                    NaN                    NaN                    NaN   \n1019792                    NaN                    NaN                    NaN   \n1019793                    NaN                    NaN                    NaN   \n1019794                    NaN                    NaN                    NaN   \n1019795                    NaN                    NaN                    NaN   \n\n        data.frame0.T4_tool1_x data.frame0.T4_tool1_y data.frame0.T4_tool2_x  \\\n0                          NaN                    NaN                    NaN   \n1                          NaN                    NaN                    NaN   \n2                          NaN                    NaN                    NaN   \n3                          NaN                    NaN                    NaN   \n4                          NaN                    NaN                    NaN   \n...                        ...                    ...                    ...   \n1019791                    NaN                    NaN                    NaN   \n1019792                    NaN                    NaN                    NaN   \n1019793                    NaN                    NaN                    NaN   \n1019794                    NaN                    NaN                    NaN   \n1019795                    NaN                    NaN                    NaN   \n\n        data.frame0.T4_tool2_y data.frame0.T4_tool6_x data.frame0.T4_tool6_y  \\\n0                          NaN                    NaN                    NaN   \n1                          NaN                    NaN                    NaN   \n2                          NaN                    NaN                    NaN   \n3                          NaN                    NaN                    NaN   \n4                          NaN                    NaN                    NaN   \n...                        ...                    ...                    ...   \n1019791                    NaN                    NaN                    NaN   \n1019792                    NaN                    NaN                    NaN   \n1019793                    NaN                    NaN                    NaN   \n1019794                    NaN                    NaN                    NaN   \n1019795                    NaN                    NaN                    NaN   \n\n                 image_name  \n0        SRIL03-2-2_154.jpg  \n1        SRIL03-2-2_154.jpg  \n2        SRIL03-2-2_154.jpg  \n3        SRIL03-2-2_154.jpg  \n4        SRIL03-2-2_154.jpg  \n...                     ...  \n1019791   SFM04-1-1_369.jpg  \n1019792   SFM04-1-1_369.jpg  \n1019793   SFM04-1-1_369.jpg  \n1019794   SFM04-1-1_369.jpg  \n1019795   SFM04-1-1_369.jpg  \n\n[1019796 rows x 34 columns]",
      "text/html": "<div>\n<style scoped>\n    .dataframe tbody tr th:only-of-type {\n        vertical-align: middle;\n    }\n\n    .dataframe tbody tr th {\n        vertical-align: top;\n    }\n\n    .dataframe thead th {\n        text-align: right;\n    }\n</style>\n<table border=\"1\" class=\"dataframe\">\n  <thead>\n    <tr style=\"text-align: right;\">\n      <th></th>\n      <th>classification_id</th>\n      <th>user_name</th>\n      <th>user_id</th>\n      <th>workflow_id</th>\n      <th>task</th>\n      <th>created_at</th>\n      <th>subject_id</th>\n      <th>extractor</th>\n      <th>data.aggregation_version</th>\n      <th>data.frame0.T4_tool5_x</th>\n      <th>...</th>\n      <th>data.frame0.T4_tool0_y</th>\n      <th>data.frame0.T2_tool1_x</th>\n      <th>data.frame0.T2_tool1_y</th>\n      <th>data.frame0.T4_tool1_x</th>\n      <th>data.frame0.T4_tool1_y</th>\n      <th>data.frame0.T4_tool2_x</th>\n      <th>data.frame0.T4_tool2_y</th>\n      <th>data.frame0.T4_tool6_x</th>\n      <th>data.frame0.T4_tool6_y</th>\n      <th>image_name</th>\n    </tr>\n  </thead>\n  <tbody>\n    <tr>\n      <th>0</th>\n      <td>256866778</td>\n      <td>ANDREAVARELA89</td>\n      <td>1983945.0</td>\n      <td>14370</td>\n      <td>T2</td>\n      <td>2020-07-01 10:24:23 UTC</td>\n      <td>44660635</td>\n      <td>point_extractor_by_frame</td>\n      <td>4.1.0</td>\n      <td>NaN</td>\n      <td>...</td>\n      <td>NaN</td>\n      <td>NaN</td>\n      <td>NaN</td>\n      <td>NaN</td>\n      <td>NaN</td>\n      <td>NaN</td>\n      <td>NaN</td>\n      <td>NaN</td>\n      <td>NaN</td>\n      <td>SRIL03-2-2_154.jpg</td>\n    </tr>\n    <tr>\n      <th>1</th>\n      <td>256866778</td>\n      <td>ANDREAVARELA89</td>\n      <td>1983945.0</td>\n      <td>14370</td>\n      <td>T4</td>\n      <td>2020-07-01 10:24:23 UTC</td>\n      <td>44660635</td>\n      <td>point_extractor_by_frame</td>\n      <td>4.1.0</td>\n      <td>NaN</td>\n      <td>...</td>\n      <td>NaN</td>\n      <td>NaN</td>\n      <td>NaN</td>\n      <td>NaN</td>\n      <td>NaN</td>\n      <td>NaN</td>\n      <td>NaN</td>\n      <td>NaN</td>\n      <td>NaN</td>\n      <td>SRIL03-2-2_154.jpg</td>\n    </tr>\n    <tr>\n      <th>2</th>\n      <td>257485360</td>\n      <td>cryder406</td>\n      <td>1992086.0</td>\n      <td>14370</td>\n      <td>T2</td>\n      <td>2020-07-03 15:55:19 UTC</td>\n      <td>44660635</td>\n      <td>point_extractor_by_frame</td>\n      <td>4.1.0</td>\n      <td>NaN</td>\n      <td>...</td>\n      <td>NaN</td>\n      <td>NaN</td>\n      <td>NaN</td>\n      <td>NaN</td>\n      <td>NaN</td>\n      <td>NaN</td>\n      <td>NaN</td>\n      <td>NaN</td>\n      <td>NaN</td>\n      <td>SRIL03-2-2_154.jpg</td>\n    </tr>\n    <tr>\n      <th>3</th>\n      <td>257485360</td>\n      <td>cryder406</td>\n      <td>1992086.0</td>\n      <td>14370</td>\n      <td>T4</td>\n      <td>2020-07-03 15:55:19 UTC</td>\n      <td>44660635</td>\n      <td>point_extractor_by_frame</td>\n      <td>4.1.0</td>\n      <td>NaN</td>\n      <td>...</td>\n      <td>NaN</td>\n      <td>NaN</td>\n      <td>NaN</td>\n      <td>NaN</td>\n      <td>NaN</td>\n      <td>NaN</td>\n      <td>NaN</td>\n      <td>NaN</td>\n      <td>NaN</td>\n      <td>SRIL03-2-2_154.jpg</td>\n    </tr>\n    <tr>\n      <th>4</th>\n      <td>257492065</td>\n      <td>Mchi</td>\n      <td>1988084.0</td>\n      <td>14370</td>\n      <td>T2</td>\n      <td>2020-07-03 16:23:23 UTC</td>\n      <td>44660635</td>\n      <td>point_extractor_by_frame</td>\n      <td>4.1.0</td>\n      <td>NaN</td>\n      <td>...</td>\n      <td>NaN</td>\n      <td>NaN</td>\n      <td>NaN</td>\n      <td>NaN</td>\n      <td>NaN</td>\n      <td>NaN</td>\n      <td>NaN</td>\n      <td>NaN</td>\n      <td>NaN</td>\n      <td>SRIL03-2-2_154.jpg</td>\n    </tr>\n    <tr>\n      <th>...</th>\n      <td>...</td>\n      <td>...</td>\n      <td>...</td>\n      <td>...</td>\n      <td>...</td>\n      <td>...</td>\n      <td>...</td>\n      <td>...</td>\n      <td>...</td>\n      <td>...</td>\n      <td>...</td>\n      <td>...</td>\n      <td>...</td>\n      <td>...</td>\n      <td>...</td>\n      <td>...</td>\n      <td>...</td>\n      <td>...</td>\n      <td>...</td>\n      <td>...</td>\n      <td>...</td>\n    </tr>\n    <tr>\n      <th>1019791</th>\n      <td>288127706</td>\n      <td>acolom</td>\n      <td>2118412.0</td>\n      <td>14370</td>\n      <td>T4</td>\n      <td>2020-11-18 21:32:33 UTC</td>\n      <td>47970949</td>\n      <td>point_extractor_by_frame</td>\n      <td>4.1.0</td>\n      <td>NaN</td>\n      <td>...</td>\n      <td>NaN</td>\n      <td>NaN</td>\n      <td>NaN</td>\n      <td>NaN</td>\n      <td>NaN</td>\n      <td>NaN</td>\n      <td>NaN</td>\n      <td>NaN</td>\n      <td>NaN</td>\n      <td>SFM04-1-1_369.jpg</td>\n    </tr>\n    <tr>\n      <th>1019792</th>\n      <td>288168438</td>\n      <td>FelipeCirqueira</td>\n      <td>2191241.0</td>\n      <td>14370</td>\n      <td>T2</td>\n      <td>2020-11-19 01:03:05 UTC</td>\n      <td>47970949</td>\n      <td>point_extractor_by_frame</td>\n      <td>4.1.0</td>\n      <td>NaN</td>\n      <td>...</td>\n      <td>NaN</td>\n      <td>NaN</td>\n      <td>NaN</td>\n      <td>NaN</td>\n      <td>NaN</td>\n      <td>NaN</td>\n      <td>NaN</td>\n      <td>NaN</td>\n      <td>NaN</td>\n      <td>SFM04-1-1_369.jpg</td>\n    </tr>\n    <tr>\n      <th>1019793</th>\n      <td>288168438</td>\n      <td>FelipeCirqueira</td>\n      <td>2191241.0</td>\n      <td>14370</td>\n      <td>T4</td>\n      <td>2020-11-19 01:03:05 UTC</td>\n      <td>47970949</td>\n      <td>point_extractor_by_frame</td>\n      <td>4.1.0</td>\n      <td>NaN</td>\n      <td>...</td>\n      <td>NaN</td>\n      <td>NaN</td>\n      <td>NaN</td>\n      <td>NaN</td>\n      <td>NaN</td>\n      <td>NaN</td>\n      <td>NaN</td>\n      <td>NaN</td>\n      <td>NaN</td>\n      <td>SFM04-1-1_369.jpg</td>\n    </tr>\n    <tr>\n      <th>1019794</th>\n      <td>288198132</td>\n      <td>LittleUsername</td>\n      <td>2148294.0</td>\n      <td>14370</td>\n      <td>T2</td>\n      <td>2020-11-19 03:57:28 UTC</td>\n      <td>47970949</td>\n      <td>point_extractor_by_frame</td>\n      <td>4.1.0</td>\n      <td>NaN</td>\n      <td>...</td>\n      <td>NaN</td>\n      <td>NaN</td>\n      <td>NaN</td>\n      <td>NaN</td>\n      <td>NaN</td>\n      <td>NaN</td>\n      <td>NaN</td>\n      <td>NaN</td>\n      <td>NaN</td>\n      <td>SFM04-1-1_369.jpg</td>\n    </tr>\n    <tr>\n      <th>1019795</th>\n      <td>288198132</td>\n      <td>LittleUsername</td>\n      <td>2148294.0</td>\n      <td>14370</td>\n      <td>T4</td>\n      <td>2020-11-19 03:57:28 UTC</td>\n      <td>47970949</td>\n      <td>point_extractor_by_frame</td>\n      <td>4.1.0</td>\n      <td>NaN</td>\n      <td>...</td>\n      <td>NaN</td>\n      <td>NaN</td>\n      <td>NaN</td>\n      <td>NaN</td>\n      <td>NaN</td>\n      <td>NaN</td>\n      <td>NaN</td>\n      <td>NaN</td>\n      <td>NaN</td>\n      <td>SFM04-1-1_369.jpg</td>\n    </tr>\n  </tbody>\n</table>\n<p>1019796 rows × 34 columns</p>\n</div>"
     },
     "execution_count": 15,
     "metadata": {},
     "output_type": "execute_result"
    }
   ],
   "source": [
    "df_panotes_point_extractor = df_panotes_point_extractor.merge(df_subjects[[\"subject_id\", \"image_name\"]], left_on=\"subject_id\", right_on=\"subject_id\")\n",
    "df_panotes_point_extractor"
   ],
   "metadata": {
    "collapsed": false,
    "ExecuteTime": {
     "end_time": "2024-04-10T19:29:07.417528Z",
     "start_time": "2024-04-10T19:29:04.766893Z"
    }
   },
   "id": "a1e2e015fdba1cb",
   "execution_count": 15
  },
  {
   "cell_type": "code",
   "outputs": [],
   "source": [
    "## Anonymise the data"
   ],
   "metadata": {
    "collapsed": false,
    "ExecuteTime": {
     "end_time": "2024-04-10T19:29:20.440186Z",
     "start_time": "2024-04-10T19:29:20.437435Z"
    }
   },
   "id": "3124edcb4cb91425",
   "execution_count": 16
  },
  {
   "cell_type": "code",
   "outputs": [],
   "source": [
    "from hashlib import blake2b\n",
    "\n",
    "df_panotes_point_extractor[\"user_id\"] = df_panotes_point_extractor['user_id'].apply(lambda x: blake2b(str(x).encode(), digest_size=16).hexdigest() if not pd.isnull(x) else x)\n",
    "# Anonymize 'user_name' by hashing\n",
    "df_panotes_point_extractor['user_name'] = df_panotes_point_extractor['user_name'].apply(lambda x: blake2b(x.encode(), digest_size=16).hexdigest() if isinstance(x, str) else x)\n",
    "\n",
    "df_panotes_question[\"user_id\"] = df_panotes_question['user_id'].apply(lambda x: blake2b(str(x).encode(), digest_size=16).hexdigest() if not pd.isnull(x) else x)\n",
    "# Anonymize 'user_name' by hashing\n",
    "df_panotes_question['user_name'] = df_panotes_question['user_name'].apply(lambda x: blake2b(x.encode(), digest_size=16).hexdigest() if isinstance(x, str) else x)"
   ],
   "metadata": {
    "collapsed": false,
    "ExecuteTime": {
     "end_time": "2024-04-10T19:29:24.401382Z",
     "start_time": "2024-04-10T19:29:21.533247Z"
    }
   },
   "id": "7053c0a8476989c3",
   "execution_count": 17
  },
  {
   "cell_type": "code",
   "outputs": [
    {
     "data": {
      "text/plain": "         classification_id                         user_name  \\\n0                256866778  386fc0ec047b7e259744e72e8e64b9f9   \n1                256866778  386fc0ec047b7e259744e72e8e64b9f9   \n2                257485360  14597090a1ca2ae233ec4ccbaf00de67   \n3                257485360  14597090a1ca2ae233ec4ccbaf00de67   \n4                257492065  a722416d3feacb9ff4086b4ae25e9a20   \n...                    ...                               ...   \n1019791          288127706  7e82ef4b88b037461f90958b2716c1b8   \n1019792          288168438  9e15149b8e8ef01f93697b4dfd952d33   \n1019793          288168438  9e15149b8e8ef01f93697b4dfd952d33   \n1019794          288198132  69b80c6be0af6a1f2fdfc07ee22e8ced   \n1019795          288198132  69b80c6be0af6a1f2fdfc07ee22e8ced   \n\n                                  user_id  workflow_id task  \\\n0        ea57b1088a10fa7fef30ed0b344e2ca3        14370   T2   \n1        ea57b1088a10fa7fef30ed0b344e2ca3        14370   T4   \n2        da0196ebab87e82a7f2e5b6bee065aa3        14370   T2   \n3        da0196ebab87e82a7f2e5b6bee065aa3        14370   T4   \n4        bb473ceabce84d8efa64e0e56265456e        14370   T2   \n...                                   ...          ...  ...   \n1019791  2a7bf97c8666cf6289378831707942a2        14370   T4   \n1019792  f0e8db7c9aee1017a2699e2483bc4238        14370   T2   \n1019793  f0e8db7c9aee1017a2699e2483bc4238        14370   T4   \n1019794  b7670915fc691ba3cf8b50ea56b3d6e1        14370   T2   \n1019795  b7670915fc691ba3cf8b50ea56b3d6e1        14370   T4   \n\n                      created_at  subject_id                 extractor  \\\n0        2020-07-01 10:24:23 UTC    44660635  point_extractor_by_frame   \n1        2020-07-01 10:24:23 UTC    44660635  point_extractor_by_frame   \n2        2020-07-03 15:55:19 UTC    44660635  point_extractor_by_frame   \n3        2020-07-03 15:55:19 UTC    44660635  point_extractor_by_frame   \n4        2020-07-03 16:23:23 UTC    44660635  point_extractor_by_frame   \n...                          ...         ...                       ...   \n1019791  2020-11-18 21:32:33 UTC    47970949  point_extractor_by_frame   \n1019792  2020-11-19 01:03:05 UTC    47970949  point_extractor_by_frame   \n1019793  2020-11-19 01:03:05 UTC    47970949  point_extractor_by_frame   \n1019794  2020-11-19 03:57:28 UTC    47970949  point_extractor_by_frame   \n1019795  2020-11-19 03:57:28 UTC    47970949  point_extractor_by_frame   \n\n        data.aggregation_version data.frame0.T4_tool5_x  ...  \\\n0                          4.1.0                    NaN  ...   \n1                          4.1.0                    NaN  ...   \n2                          4.1.0                    NaN  ...   \n3                          4.1.0                    NaN  ...   \n4                          4.1.0                    NaN  ...   \n...                          ...                    ...  ...   \n1019791                    4.1.0                    NaN  ...   \n1019792                    4.1.0                    NaN  ...   \n1019793                    4.1.0                    NaN  ...   \n1019794                    4.1.0                    NaN  ...   \n1019795                    4.1.0                    NaN  ...   \n\n        data.frame0.T4_tool0_y data.frame0.T2_tool1_x data.frame0.T2_tool1_y  \\\n0                          NaN                    NaN                    NaN   \n1                          NaN                    NaN                    NaN   \n2                          NaN                    NaN                    NaN   \n3                          NaN                    NaN                    NaN   \n4                          NaN                    NaN                    NaN   \n...                        ...                    ...                    ...   \n1019791                    NaN                    NaN                    NaN   \n1019792                    NaN                    NaN                    NaN   \n1019793                    NaN                    NaN                    NaN   \n1019794                    NaN                    NaN                    NaN   \n1019795                    NaN                    NaN                    NaN   \n\n        data.frame0.T4_tool1_x data.frame0.T4_tool1_y data.frame0.T4_tool2_x  \\\n0                          NaN                    NaN                    NaN   \n1                          NaN                    NaN                    NaN   \n2                          NaN                    NaN                    NaN   \n3                          NaN                    NaN                    NaN   \n4                          NaN                    NaN                    NaN   \n...                        ...                    ...                    ...   \n1019791                    NaN                    NaN                    NaN   \n1019792                    NaN                    NaN                    NaN   \n1019793                    NaN                    NaN                    NaN   \n1019794                    NaN                    NaN                    NaN   \n1019795                    NaN                    NaN                    NaN   \n\n        data.frame0.T4_tool2_y data.frame0.T4_tool6_x data.frame0.T4_tool6_y  \\\n0                          NaN                    NaN                    NaN   \n1                          NaN                    NaN                    NaN   \n2                          NaN                    NaN                    NaN   \n3                          NaN                    NaN                    NaN   \n4                          NaN                    NaN                    NaN   \n...                        ...                    ...                    ...   \n1019791                    NaN                    NaN                    NaN   \n1019792                    NaN                    NaN                    NaN   \n1019793                    NaN                    NaN                    NaN   \n1019794                    NaN                    NaN                    NaN   \n1019795                    NaN                    NaN                    NaN   \n\n                 image_name  \n0        SRIL03-2-2_154.jpg  \n1        SRIL03-2-2_154.jpg  \n2        SRIL03-2-2_154.jpg  \n3        SRIL03-2-2_154.jpg  \n4        SRIL03-2-2_154.jpg  \n...                     ...  \n1019791   SFM04-1-1_369.jpg  \n1019792   SFM04-1-1_369.jpg  \n1019793   SFM04-1-1_369.jpg  \n1019794   SFM04-1-1_369.jpg  \n1019795   SFM04-1-1_369.jpg  \n\n[1019796 rows x 34 columns]",
      "text/html": "<div>\n<style scoped>\n    .dataframe tbody tr th:only-of-type {\n        vertical-align: middle;\n    }\n\n    .dataframe tbody tr th {\n        vertical-align: top;\n    }\n\n    .dataframe thead th {\n        text-align: right;\n    }\n</style>\n<table border=\"1\" class=\"dataframe\">\n  <thead>\n    <tr style=\"text-align: right;\">\n      <th></th>\n      <th>classification_id</th>\n      <th>user_name</th>\n      <th>user_id</th>\n      <th>workflow_id</th>\n      <th>task</th>\n      <th>created_at</th>\n      <th>subject_id</th>\n      <th>extractor</th>\n      <th>data.aggregation_version</th>\n      <th>data.frame0.T4_tool5_x</th>\n      <th>...</th>\n      <th>data.frame0.T4_tool0_y</th>\n      <th>data.frame0.T2_tool1_x</th>\n      <th>data.frame0.T2_tool1_y</th>\n      <th>data.frame0.T4_tool1_x</th>\n      <th>data.frame0.T4_tool1_y</th>\n      <th>data.frame0.T4_tool2_x</th>\n      <th>data.frame0.T4_tool2_y</th>\n      <th>data.frame0.T4_tool6_x</th>\n      <th>data.frame0.T4_tool6_y</th>\n      <th>image_name</th>\n    </tr>\n  </thead>\n  <tbody>\n    <tr>\n      <th>0</th>\n      <td>256866778</td>\n      <td>386fc0ec047b7e259744e72e8e64b9f9</td>\n      <td>ea57b1088a10fa7fef30ed0b344e2ca3</td>\n      <td>14370</td>\n      <td>T2</td>\n      <td>2020-07-01 10:24:23 UTC</td>\n      <td>44660635</td>\n      <td>point_extractor_by_frame</td>\n      <td>4.1.0</td>\n      <td>NaN</td>\n      <td>...</td>\n      <td>NaN</td>\n      <td>NaN</td>\n      <td>NaN</td>\n      <td>NaN</td>\n      <td>NaN</td>\n      <td>NaN</td>\n      <td>NaN</td>\n      <td>NaN</td>\n      <td>NaN</td>\n      <td>SRIL03-2-2_154.jpg</td>\n    </tr>\n    <tr>\n      <th>1</th>\n      <td>256866778</td>\n      <td>386fc0ec047b7e259744e72e8e64b9f9</td>\n      <td>ea57b1088a10fa7fef30ed0b344e2ca3</td>\n      <td>14370</td>\n      <td>T4</td>\n      <td>2020-07-01 10:24:23 UTC</td>\n      <td>44660635</td>\n      <td>point_extractor_by_frame</td>\n      <td>4.1.0</td>\n      <td>NaN</td>\n      <td>...</td>\n      <td>NaN</td>\n      <td>NaN</td>\n      <td>NaN</td>\n      <td>NaN</td>\n      <td>NaN</td>\n      <td>NaN</td>\n      <td>NaN</td>\n      <td>NaN</td>\n      <td>NaN</td>\n      <td>SRIL03-2-2_154.jpg</td>\n    </tr>\n    <tr>\n      <th>2</th>\n      <td>257485360</td>\n      <td>14597090a1ca2ae233ec4ccbaf00de67</td>\n      <td>da0196ebab87e82a7f2e5b6bee065aa3</td>\n      <td>14370</td>\n      <td>T2</td>\n      <td>2020-07-03 15:55:19 UTC</td>\n      <td>44660635</td>\n      <td>point_extractor_by_frame</td>\n      <td>4.1.0</td>\n      <td>NaN</td>\n      <td>...</td>\n      <td>NaN</td>\n      <td>NaN</td>\n      <td>NaN</td>\n      <td>NaN</td>\n      <td>NaN</td>\n      <td>NaN</td>\n      <td>NaN</td>\n      <td>NaN</td>\n      <td>NaN</td>\n      <td>SRIL03-2-2_154.jpg</td>\n    </tr>\n    <tr>\n      <th>3</th>\n      <td>257485360</td>\n      <td>14597090a1ca2ae233ec4ccbaf00de67</td>\n      <td>da0196ebab87e82a7f2e5b6bee065aa3</td>\n      <td>14370</td>\n      <td>T4</td>\n      <td>2020-07-03 15:55:19 UTC</td>\n      <td>44660635</td>\n      <td>point_extractor_by_frame</td>\n      <td>4.1.0</td>\n      <td>NaN</td>\n      <td>...</td>\n      <td>NaN</td>\n      <td>NaN</td>\n      <td>NaN</td>\n      <td>NaN</td>\n      <td>NaN</td>\n      <td>NaN</td>\n      <td>NaN</td>\n      <td>NaN</td>\n      <td>NaN</td>\n      <td>SRIL03-2-2_154.jpg</td>\n    </tr>\n    <tr>\n      <th>4</th>\n      <td>257492065</td>\n      <td>a722416d3feacb9ff4086b4ae25e9a20</td>\n      <td>bb473ceabce84d8efa64e0e56265456e</td>\n      <td>14370</td>\n      <td>T2</td>\n      <td>2020-07-03 16:23:23 UTC</td>\n      <td>44660635</td>\n      <td>point_extractor_by_frame</td>\n      <td>4.1.0</td>\n      <td>NaN</td>\n      <td>...</td>\n      <td>NaN</td>\n      <td>NaN</td>\n      <td>NaN</td>\n      <td>NaN</td>\n      <td>NaN</td>\n      <td>NaN</td>\n      <td>NaN</td>\n      <td>NaN</td>\n      <td>NaN</td>\n      <td>SRIL03-2-2_154.jpg</td>\n    </tr>\n    <tr>\n      <th>...</th>\n      <td>...</td>\n      <td>...</td>\n      <td>...</td>\n      <td>...</td>\n      <td>...</td>\n      <td>...</td>\n      <td>...</td>\n      <td>...</td>\n      <td>...</td>\n      <td>...</td>\n      <td>...</td>\n      <td>...</td>\n      <td>...</td>\n      <td>...</td>\n      <td>...</td>\n      <td>...</td>\n      <td>...</td>\n      <td>...</td>\n      <td>...</td>\n      <td>...</td>\n      <td>...</td>\n    </tr>\n    <tr>\n      <th>1019791</th>\n      <td>288127706</td>\n      <td>7e82ef4b88b037461f90958b2716c1b8</td>\n      <td>2a7bf97c8666cf6289378831707942a2</td>\n      <td>14370</td>\n      <td>T4</td>\n      <td>2020-11-18 21:32:33 UTC</td>\n      <td>47970949</td>\n      <td>point_extractor_by_frame</td>\n      <td>4.1.0</td>\n      <td>NaN</td>\n      <td>...</td>\n      <td>NaN</td>\n      <td>NaN</td>\n      <td>NaN</td>\n      <td>NaN</td>\n      <td>NaN</td>\n      <td>NaN</td>\n      <td>NaN</td>\n      <td>NaN</td>\n      <td>NaN</td>\n      <td>SFM04-1-1_369.jpg</td>\n    </tr>\n    <tr>\n      <th>1019792</th>\n      <td>288168438</td>\n      <td>9e15149b8e8ef01f93697b4dfd952d33</td>\n      <td>f0e8db7c9aee1017a2699e2483bc4238</td>\n      <td>14370</td>\n      <td>T2</td>\n      <td>2020-11-19 01:03:05 UTC</td>\n      <td>47970949</td>\n      <td>point_extractor_by_frame</td>\n      <td>4.1.0</td>\n      <td>NaN</td>\n      <td>...</td>\n      <td>NaN</td>\n      <td>NaN</td>\n      <td>NaN</td>\n      <td>NaN</td>\n      <td>NaN</td>\n      <td>NaN</td>\n      <td>NaN</td>\n      <td>NaN</td>\n      <td>NaN</td>\n      <td>SFM04-1-1_369.jpg</td>\n    </tr>\n    <tr>\n      <th>1019793</th>\n      <td>288168438</td>\n      <td>9e15149b8e8ef01f93697b4dfd952d33</td>\n      <td>f0e8db7c9aee1017a2699e2483bc4238</td>\n      <td>14370</td>\n      <td>T4</td>\n      <td>2020-11-19 01:03:05 UTC</td>\n      <td>47970949</td>\n      <td>point_extractor_by_frame</td>\n      <td>4.1.0</td>\n      <td>NaN</td>\n      <td>...</td>\n      <td>NaN</td>\n      <td>NaN</td>\n      <td>NaN</td>\n      <td>NaN</td>\n      <td>NaN</td>\n      <td>NaN</td>\n      <td>NaN</td>\n      <td>NaN</td>\n      <td>NaN</td>\n      <td>SFM04-1-1_369.jpg</td>\n    </tr>\n    <tr>\n      <th>1019794</th>\n      <td>288198132</td>\n      <td>69b80c6be0af6a1f2fdfc07ee22e8ced</td>\n      <td>b7670915fc691ba3cf8b50ea56b3d6e1</td>\n      <td>14370</td>\n      <td>T2</td>\n      <td>2020-11-19 03:57:28 UTC</td>\n      <td>47970949</td>\n      <td>point_extractor_by_frame</td>\n      <td>4.1.0</td>\n      <td>NaN</td>\n      <td>...</td>\n      <td>NaN</td>\n      <td>NaN</td>\n      <td>NaN</td>\n      <td>NaN</td>\n      <td>NaN</td>\n      <td>NaN</td>\n      <td>NaN</td>\n      <td>NaN</td>\n      <td>NaN</td>\n      <td>SFM04-1-1_369.jpg</td>\n    </tr>\n    <tr>\n      <th>1019795</th>\n      <td>288198132</td>\n      <td>69b80c6be0af6a1f2fdfc07ee22e8ced</td>\n      <td>b7670915fc691ba3cf8b50ea56b3d6e1</td>\n      <td>14370</td>\n      <td>T4</td>\n      <td>2020-11-19 03:57:28 UTC</td>\n      <td>47970949</td>\n      <td>point_extractor_by_frame</td>\n      <td>4.1.0</td>\n      <td>NaN</td>\n      <td>...</td>\n      <td>NaN</td>\n      <td>NaN</td>\n      <td>NaN</td>\n      <td>NaN</td>\n      <td>NaN</td>\n      <td>NaN</td>\n      <td>NaN</td>\n      <td>NaN</td>\n      <td>NaN</td>\n      <td>SFM04-1-1_369.jpg</td>\n    </tr>\n  </tbody>\n</table>\n<p>1019796 rows × 34 columns</p>\n</div>"
     },
     "execution_count": 18,
     "metadata": {},
     "output_type": "execute_result"
    }
   ],
   "source": [
    "df_panotes_point_extractor"
   ],
   "metadata": {
    "collapsed": false,
    "ExecuteTime": {
     "end_time": "2024-04-10T19:29:27.545716Z",
     "start_time": "2024-04-10T19:29:26.100989Z"
    }
   },
   "id": "672c51cc23c3b710",
   "execution_count": 18
  },
  {
   "cell_type": "code",
   "execution_count": 19,
   "id": "51a67a69fc8b084",
   "metadata": {
    "collapsed": false,
    "ExecuteTime": {
     "end_time": "2024-04-10T19:29:27.556976Z",
     "start_time": "2024-04-10T19:29:27.547078Z"
    }
   },
   "outputs": [
    {
     "data": {
      "text/plain": "        classification_id                         user_name  \\\n0               256866778  386fc0ec047b7e259744e72e8e64b9f9   \n1               256866835  386fc0ec047b7e259744e72e8e64b9f9   \n2               256866880  386fc0ec047b7e259744e72e8e64b9f9   \n3               256867624  386fc0ec047b7e259744e72e8e64b9f9   \n4               256867676  386fc0ec047b7e259744e72e8e64b9f9   \n...                   ...                               ...   \n500190          383293694  cfbf6573c2dcd1386dfce451d9f6be93   \n500191          383293720  cfbf6573c2dcd1386dfce451d9f6be93   \n500192          383293740  cfbf6573c2dcd1386dfce451d9f6be93   \n500193          389328206  aa5f2961151e502de5ff29fb40337fe5   \n500194          389328326  aa5f2961151e502de5ff29fb40337fe5   \n\n                                 user_id  workflow_id task  \\\n0       ea57b1088a10fa7fef30ed0b344e2ca3        14370   T0   \n1       ea57b1088a10fa7fef30ed0b344e2ca3        14370   T0   \n2       ea57b1088a10fa7fef30ed0b344e2ca3        14370   T0   \n3       ea57b1088a10fa7fef30ed0b344e2ca3        14370   T0   \n4       ea57b1088a10fa7fef30ed0b344e2ca3        14370   T0   \n...                                  ...          ...  ...   \n500190  945fed5a4ee1a07cb3b13647e3c1f8e9        14370   T0   \n500191  945fed5a4ee1a07cb3b13647e3c1f8e9        14370   T0   \n500192  945fed5a4ee1a07cb3b13647e3c1f8e9        14370   T0   \n500193                               NaN        14370   T0   \n500194                               NaN        14370   T0   \n\n                     created_at  subject_id           extractor  data.no  \\\n0       2020-07-01 10:24:23 UTC    44660635  question_extractor      1.0   \n1       2020-07-01 10:24:40 UTC    44660558  question_extractor      1.0   \n2       2020-07-01 10:24:52 UTC    44660712  question_extractor      1.0   \n3       2020-07-01 10:29:11 UTC    44660654  question_extractor      1.0   \n4       2020-07-01 10:29:26 UTC    44660552  question_extractor      1.0   \n...                         ...         ...                 ...      ...   \n500190  2021-12-14 19:51:44 UTC    47970089  question_extractor      1.0   \n500191  2021-12-14 19:51:50 UTC    47970146  question_extractor      1.0   \n500192  2021-12-14 19:51:54 UTC    47970069  question_extractor      1.0   \n500193  2022-01-13 14:13:01 UTC    47970037  question_extractor      1.0   \n500194  2022-01-13 14:13:18 UTC    47969950  question_extractor      1.0   \n\n       data.aggregation_version  data.photo-too-blurry-or-dark  data.yes  \n0                         4.1.0                            NaN       NaN  \n1                         4.1.0                            NaN       NaN  \n2                         4.1.0                            NaN       NaN  \n3                         4.1.0                            NaN       NaN  \n4                         4.1.0                            NaN       NaN  \n...                         ...                            ...       ...  \n500190                    4.1.0                            NaN       NaN  \n500191                    4.1.0                            NaN       NaN  \n500192                    4.1.0                            NaN       NaN  \n500193                    4.1.0                            NaN       NaN  \n500194                    4.1.0                            NaN       NaN  \n\n[509898 rows x 12 columns]",
      "text/html": "<div>\n<style scoped>\n    .dataframe tbody tr th:only-of-type {\n        vertical-align: middle;\n    }\n\n    .dataframe tbody tr th {\n        vertical-align: top;\n    }\n\n    .dataframe thead th {\n        text-align: right;\n    }\n</style>\n<table border=\"1\" class=\"dataframe\">\n  <thead>\n    <tr style=\"text-align: right;\">\n      <th></th>\n      <th>classification_id</th>\n      <th>user_name</th>\n      <th>user_id</th>\n      <th>workflow_id</th>\n      <th>task</th>\n      <th>created_at</th>\n      <th>subject_id</th>\n      <th>extractor</th>\n      <th>data.no</th>\n      <th>data.aggregation_version</th>\n      <th>data.photo-too-blurry-or-dark</th>\n      <th>data.yes</th>\n    </tr>\n  </thead>\n  <tbody>\n    <tr>\n      <th>0</th>\n      <td>256866778</td>\n      <td>386fc0ec047b7e259744e72e8e64b9f9</td>\n      <td>ea57b1088a10fa7fef30ed0b344e2ca3</td>\n      <td>14370</td>\n      <td>T0</td>\n      <td>2020-07-01 10:24:23 UTC</td>\n      <td>44660635</td>\n      <td>question_extractor</td>\n      <td>1.0</td>\n      <td>4.1.0</td>\n      <td>NaN</td>\n      <td>NaN</td>\n    </tr>\n    <tr>\n      <th>1</th>\n      <td>256866835</td>\n      <td>386fc0ec047b7e259744e72e8e64b9f9</td>\n      <td>ea57b1088a10fa7fef30ed0b344e2ca3</td>\n      <td>14370</td>\n      <td>T0</td>\n      <td>2020-07-01 10:24:40 UTC</td>\n      <td>44660558</td>\n      <td>question_extractor</td>\n      <td>1.0</td>\n      <td>4.1.0</td>\n      <td>NaN</td>\n      <td>NaN</td>\n    </tr>\n    <tr>\n      <th>2</th>\n      <td>256866880</td>\n      <td>386fc0ec047b7e259744e72e8e64b9f9</td>\n      <td>ea57b1088a10fa7fef30ed0b344e2ca3</td>\n      <td>14370</td>\n      <td>T0</td>\n      <td>2020-07-01 10:24:52 UTC</td>\n      <td>44660712</td>\n      <td>question_extractor</td>\n      <td>1.0</td>\n      <td>4.1.0</td>\n      <td>NaN</td>\n      <td>NaN</td>\n    </tr>\n    <tr>\n      <th>3</th>\n      <td>256867624</td>\n      <td>386fc0ec047b7e259744e72e8e64b9f9</td>\n      <td>ea57b1088a10fa7fef30ed0b344e2ca3</td>\n      <td>14370</td>\n      <td>T0</td>\n      <td>2020-07-01 10:29:11 UTC</td>\n      <td>44660654</td>\n      <td>question_extractor</td>\n      <td>1.0</td>\n      <td>4.1.0</td>\n      <td>NaN</td>\n      <td>NaN</td>\n    </tr>\n    <tr>\n      <th>4</th>\n      <td>256867676</td>\n      <td>386fc0ec047b7e259744e72e8e64b9f9</td>\n      <td>ea57b1088a10fa7fef30ed0b344e2ca3</td>\n      <td>14370</td>\n      <td>T0</td>\n      <td>2020-07-01 10:29:26 UTC</td>\n      <td>44660552</td>\n      <td>question_extractor</td>\n      <td>1.0</td>\n      <td>4.1.0</td>\n      <td>NaN</td>\n      <td>NaN</td>\n    </tr>\n    <tr>\n      <th>...</th>\n      <td>...</td>\n      <td>...</td>\n      <td>...</td>\n      <td>...</td>\n      <td>...</td>\n      <td>...</td>\n      <td>...</td>\n      <td>...</td>\n      <td>...</td>\n      <td>...</td>\n      <td>...</td>\n      <td>...</td>\n    </tr>\n    <tr>\n      <th>500190</th>\n      <td>383293694</td>\n      <td>cfbf6573c2dcd1386dfce451d9f6be93</td>\n      <td>945fed5a4ee1a07cb3b13647e3c1f8e9</td>\n      <td>14370</td>\n      <td>T0</td>\n      <td>2021-12-14 19:51:44 UTC</td>\n      <td>47970089</td>\n      <td>question_extractor</td>\n      <td>1.0</td>\n      <td>4.1.0</td>\n      <td>NaN</td>\n      <td>NaN</td>\n    </tr>\n    <tr>\n      <th>500191</th>\n      <td>383293720</td>\n      <td>cfbf6573c2dcd1386dfce451d9f6be93</td>\n      <td>945fed5a4ee1a07cb3b13647e3c1f8e9</td>\n      <td>14370</td>\n      <td>T0</td>\n      <td>2021-12-14 19:51:50 UTC</td>\n      <td>47970146</td>\n      <td>question_extractor</td>\n      <td>1.0</td>\n      <td>4.1.0</td>\n      <td>NaN</td>\n      <td>NaN</td>\n    </tr>\n    <tr>\n      <th>500192</th>\n      <td>383293740</td>\n      <td>cfbf6573c2dcd1386dfce451d9f6be93</td>\n      <td>945fed5a4ee1a07cb3b13647e3c1f8e9</td>\n      <td>14370</td>\n      <td>T0</td>\n      <td>2021-12-14 19:51:54 UTC</td>\n      <td>47970069</td>\n      <td>question_extractor</td>\n      <td>1.0</td>\n      <td>4.1.0</td>\n      <td>NaN</td>\n      <td>NaN</td>\n    </tr>\n    <tr>\n      <th>500193</th>\n      <td>389328206</td>\n      <td>aa5f2961151e502de5ff29fb40337fe5</td>\n      <td>NaN</td>\n      <td>14370</td>\n      <td>T0</td>\n      <td>2022-01-13 14:13:01 UTC</td>\n      <td>47970037</td>\n      <td>question_extractor</td>\n      <td>1.0</td>\n      <td>4.1.0</td>\n      <td>NaN</td>\n      <td>NaN</td>\n    </tr>\n    <tr>\n      <th>500194</th>\n      <td>389328326</td>\n      <td>aa5f2961151e502de5ff29fb40337fe5</td>\n      <td>NaN</td>\n      <td>14370</td>\n      <td>T0</td>\n      <td>2022-01-13 14:13:18 UTC</td>\n      <td>47969950</td>\n      <td>question_extractor</td>\n      <td>1.0</td>\n      <td>4.1.0</td>\n      <td>NaN</td>\n      <td>NaN</td>\n    </tr>\n  </tbody>\n</table>\n<p>509898 rows × 12 columns</p>\n</div>"
     },
     "execution_count": 19,
     "metadata": {},
     "output_type": "execute_result"
    }
   ],
   "source": [
    "df_panotes_question"
   ]
  },
  {
   "cell_type": "markdown",
   "source": [
    "Filter for T2 only"
   ],
   "metadata": {
    "collapsed": false
   },
   "id": "4a3f1b8c5f2596bb"
  },
  {
   "cell_type": "code",
   "execution_count": 20,
   "id": "3ed3cb8b4acbfa4f",
   "metadata": {
    "collapsed": false,
    "ExecuteTime": {
     "end_time": "2024-04-10T19:29:49.311527Z",
     "start_time": "2024-04-10T19:29:49.080921Z"
    }
   },
   "outputs": [
    {
     "data": {
      "text/plain": "Index(['classification_id', 'user_name', 'user_id', 'workflow_id', 'task',\n       'created_at', 'subject_id', 'extractor', 'data.aggregation_version',\n       'data.frame0.T4_tool5_x', 'data.frame0.T4_tool5_y',\n       'data.frame0.T4_tool3_x', 'data.frame0.T4_tool3_y',\n       'data.frame0.T2_tool3_x', 'data.frame0.T2_tool3_y',\n       'data.frame0.T4_tool4_x', 'data.frame0.T4_tool4_y',\n       'data.frame0.T2_tool0_x', 'data.frame0.T2_tool0_y',\n       'data.frame0.T2_tool2_x', 'data.frame0.T2_tool2_y',\n       'data.frame0.T2_tool4_x', 'data.frame0.T2_tool4_y',\n       'data.frame0.T4_tool0_x', 'data.frame0.T4_tool0_y',\n       'data.frame0.T2_tool1_x', 'data.frame0.T2_tool1_y',\n       'data.frame0.T4_tool1_x', 'data.frame0.T4_tool1_y',\n       'data.frame0.T4_tool2_x', 'data.frame0.T4_tool2_y',\n       'data.frame0.T4_tool6_x', 'data.frame0.T4_tool6_y', 'image_name'],\n      dtype='object')"
     },
     "execution_count": 20,
     "metadata": {},
     "output_type": "execute_result"
    }
   ],
   "source": [
    "df_panotes_point_extractor_r = df_panotes_point_extractor[\n",
    "    # (df_panotes_point_extractor.subject_id == subject_id_2) &  # filter for this subject_id only\n",
    "    (df_panotes_point_extractor.task == \"T2\")\n",
    "    # & (df_panotes_point_extractor.user_name == \"jickjack\")\n",
    "]\n",
    "df_panotes_point_extractor_r.columns"
   ]
  },
  {
   "cell_type": "markdown",
   "id": "1904d722c784ea8d",
   "metadata": {
    "collapsed": false
   },
   "source": [
    "### Which tool is which now?\n",
    "| Tool Name               | Classification                               |\n",
    "|-------------------------|----------------------------------------------|\n",
    "| data.frame0.T2_tool0_x  | Adult Male in a lek                          |\n",
    "| data.frame0.T2_tool1_x  | Adult Male alone                             |\n",
    "| data.frame0.T2_tool2_x  | Others (females, young males, juveniles)     |\n",
    "| data.frame0.T2_tool3_x  | Partial iguana                               |\n",
    "| data.frame0.T2_tool4_x  | Could be an iguana, not sure                 |\n",
    "\n",
    "Is \"Could be an iguana, not sure\" and \"Partial Iguana\" are omitted.\n"
   ]
  },
  {
   "cell_type": "code",
   "execution_count": 21,
   "id": "895d1e319dc99c4a",
   "metadata": {
    "collapsed": false,
    "ExecuteTime": {
     "end_time": "2024-04-10T19:34:25.964828Z",
     "start_time": "2024-04-10T19:34:21.523533Z"
    }
   },
   "outputs": [
    {
     "name": "stderr",
     "output_type": "stream",
     "text": [
      "/var/folders/2k/78nn7s4548986wsjh29rhj9w0000gn/T/ipykernel_29517/3640237693.py:8: SettingWithCopyWarning: \n",
      "A value is trying to be set on a copy of a slice from a DataFrame.\n",
      "Try using .loc[row_indexer,col_indexer] = value instead\n",
      "\n",
      "See the caveats in the documentation: https://pandas.pydata.org/pandas-docs/stable/user_guide/indexing.html#returning-a-view-versus-a-copy\n",
      "  df_panotes_point_extractor_r[col] = df_panotes_point_extractor_r[col].apply(lambda x: literal_eval(x) if pd.notnull(x) else [])\n",
      "/var/folders/2k/78nn7s4548986wsjh29rhj9w0000gn/T/ipykernel_29517/3640237693.py:11: SettingWithCopyWarning: \n",
      "A value is trying to be set on a copy of a slice from a DataFrame.\n",
      "Try using .loc[row_indexer,col_indexer] = value instead\n",
      "\n",
      "See the caveats in the documentation: https://pandas.pydata.org/pandas-docs/stable/user_guide/indexing.html#returning-a-view-versus-a-copy\n",
      "  df_panotes_point_extractor_r['x'] = df_panotes_point_extractor_r[columns_keep_x].values.tolist()\n",
      "/var/folders/2k/78nn7s4548986wsjh29rhj9w0000gn/T/ipykernel_29517/3640237693.py:12: SettingWithCopyWarning: \n",
      "A value is trying to be set on a copy of a slice from a DataFrame.\n",
      "Try using .loc[row_indexer,col_indexer] = value instead\n",
      "\n",
      "See the caveats in the documentation: https://pandas.pydata.org/pandas-docs/stable/user_guide/indexing.html#returning-a-view-versus-a-copy\n",
      "  df_panotes_point_extractor_r['y'] = df_panotes_point_extractor_r[columns_keep_y].values.tolist()\n",
      "/var/folders/2k/78nn7s4548986wsjh29rhj9w0000gn/T/ipykernel_29517/3640237693.py:15: SettingWithCopyWarning: \n",
      "A value is trying to be set on a copy of a slice from a DataFrame.\n",
      "Try using .loc[row_indexer,col_indexer] = value instead\n",
      "\n",
      "See the caveats in the documentation: https://pandas.pydata.org/pandas-docs/stable/user_guide/indexing.html#returning-a-view-versus-a-copy\n",
      "  df_panotes_point_extractor_r['x'] = df_panotes_point_extractor_r['x'].apply(lambda x: [item for sublist in x for item in sublist])\n",
      "/var/folders/2k/78nn7s4548986wsjh29rhj9w0000gn/T/ipykernel_29517/3640237693.py:16: SettingWithCopyWarning: \n",
      "A value is trying to be set on a copy of a slice from a DataFrame.\n",
      "Try using .loc[row_indexer,col_indexer] = value instead\n",
      "\n",
      "See the caveats in the documentation: https://pandas.pydata.org/pandas-docs/stable/user_guide/indexing.html#returning-a-view-versus-a-copy\n",
      "  df_panotes_point_extractor_r['y'] = df_panotes_point_extractor_r['y'].apply(lambda x: [item for sublist in x for item in sublist])\n"
     ]
    },
    {
     "data": {
      "text/plain": "         classification_id                         user_name  \\\n0                256866778  386fc0ec047b7e259744e72e8e64b9f9   \n2                257485360  14597090a1ca2ae233ec4ccbaf00de67   \n4                257492065  a722416d3feacb9ff4086b4ae25e9a20   \n6                257492850  dacf811c3f9785e954e5eff762c31229   \n8                257498961  dc48dacf4a7d070ce8d2189d087adb8d   \n...                    ...                               ...   \n1019786          287939566  a7c38b9d4c0f563d6c452d4db06db678   \n1019788          288102487  58fa6a1c297b9ff1d6f96fa93f112c48   \n1019790          288127706  7e82ef4b88b037461f90958b2716c1b8   \n1019792          288168438  9e15149b8e8ef01f93697b4dfd952d33   \n1019794          288198132  69b80c6be0af6a1f2fdfc07ee22e8ced   \n\n                                  user_id  workflow_id task  \\\n0        ea57b1088a10fa7fef30ed0b344e2ca3        14370   T2   \n2        da0196ebab87e82a7f2e5b6bee065aa3        14370   T2   \n4        bb473ceabce84d8efa64e0e56265456e        14370   T2   \n6                                     NaN        14370   T2   \n8        b53ddd25763b7daeadccf74f0ad5e67d        14370   T2   \n...                                   ...          ...  ...   \n1019786  e410233db1e818f51a48a0d47fa4fa92        14370   T2   \n1019788  8f92f55991060f2111a7a0fab2e453ad        14370   T2   \n1019790  2a7bf97c8666cf6289378831707942a2        14370   T2   \n1019792  f0e8db7c9aee1017a2699e2483bc4238        14370   T2   \n1019794  b7670915fc691ba3cf8b50ea56b3d6e1        14370   T2   \n\n                      created_at  subject_id                 extractor  \\\n0        2020-07-01 10:24:23 UTC    44660635  point_extractor_by_frame   \n2        2020-07-03 15:55:19 UTC    44660635  point_extractor_by_frame   \n4        2020-07-03 16:23:23 UTC    44660635  point_extractor_by_frame   \n6        2020-07-03 16:26:53 UTC    44660635  point_extractor_by_frame   \n8        2020-07-03 16:52:22 UTC    44660635  point_extractor_by_frame   \n...                          ...         ...                       ...   \n1019786  2020-11-18 04:32:48 UTC    47970949  point_extractor_by_frame   \n1019788  2020-11-18 19:47:25 UTC    47970949  point_extractor_by_frame   \n1019790  2020-11-18 21:32:33 UTC    47970949  point_extractor_by_frame   \n1019792  2020-11-19 01:03:05 UTC    47970949  point_extractor_by_frame   \n1019794  2020-11-19 03:57:28 UTC    47970949  point_extractor_by_frame   \n\n        data.aggregation_version data.frame0.T4_tool5_x  ...  \\\n0                          4.1.0                    NaN  ...   \n2                          4.1.0                    NaN  ...   \n4                          4.1.0                    NaN  ...   \n6                          4.1.0                    NaN  ...   \n8                          4.1.0                    NaN  ...   \n...                          ...                    ...  ...   \n1019786                    4.1.0                    NaN  ...   \n1019788                    4.1.0                    NaN  ...   \n1019790                    4.1.0                    NaN  ...   \n1019792                    4.1.0                    NaN  ...   \n1019794                    4.1.0                    NaN  ...   \n\n        data.frame0.T2_tool1_y data.frame0.T4_tool1_x data.frame0.T4_tool1_y  \\\n0                           []                    NaN                    NaN   \n2                           []                    NaN                    NaN   \n4                           []                    NaN                    NaN   \n6                           []                    NaN                    NaN   \n8                           []                    NaN                    NaN   \n...                        ...                    ...                    ...   \n1019786                     []                    NaN                    NaN   \n1019788                     []                    NaN                    NaN   \n1019790                     []                    NaN                    NaN   \n1019792                     []                    NaN                    NaN   \n1019794                     []                    NaN                    NaN   \n\n        data.frame0.T4_tool2_x data.frame0.T4_tool2_y data.frame0.T4_tool6_x  \\\n0                          NaN                    NaN                    NaN   \n2                          NaN                    NaN                    NaN   \n4                          NaN                    NaN                    NaN   \n6                          NaN                    NaN                    NaN   \n8                          NaN                    NaN                    NaN   \n...                        ...                    ...                    ...   \n1019786                    NaN                    NaN                    NaN   \n1019788                    NaN                    NaN                    NaN   \n1019790                    NaN                    NaN                    NaN   \n1019792                    NaN                    NaN                    NaN   \n1019794                    NaN                    NaN                    NaN   \n\n        data.frame0.T4_tool6_y          image_name   x   y  \n0                          NaN  SRIL03-2-2_154.jpg  []  []  \n2                          NaN  SRIL03-2-2_154.jpg  []  []  \n4                          NaN  SRIL03-2-2_154.jpg  []  []  \n6                          NaN  SRIL03-2-2_154.jpg  []  []  \n8                          NaN  SRIL03-2-2_154.jpg  []  []  \n...                        ...                 ...  ..  ..  \n1019786                    NaN   SFM04-1-1_369.jpg  []  []  \n1019788                    NaN   SFM04-1-1_369.jpg  []  []  \n1019790                    NaN   SFM04-1-1_369.jpg  []  []  \n1019792                    NaN   SFM04-1-1_369.jpg  []  []  \n1019794                    NaN   SFM04-1-1_369.jpg  []  []  \n\n[509898 rows x 36 columns]",
      "text/html": "<div>\n<style scoped>\n    .dataframe tbody tr th:only-of-type {\n        vertical-align: middle;\n    }\n\n    .dataframe tbody tr th {\n        vertical-align: top;\n    }\n\n    .dataframe thead th {\n        text-align: right;\n    }\n</style>\n<table border=\"1\" class=\"dataframe\">\n  <thead>\n    <tr style=\"text-align: right;\">\n      <th></th>\n      <th>classification_id</th>\n      <th>user_name</th>\n      <th>user_id</th>\n      <th>workflow_id</th>\n      <th>task</th>\n      <th>created_at</th>\n      <th>subject_id</th>\n      <th>extractor</th>\n      <th>data.aggregation_version</th>\n      <th>data.frame0.T4_tool5_x</th>\n      <th>...</th>\n      <th>data.frame0.T2_tool1_y</th>\n      <th>data.frame0.T4_tool1_x</th>\n      <th>data.frame0.T4_tool1_y</th>\n      <th>data.frame0.T4_tool2_x</th>\n      <th>data.frame0.T4_tool2_y</th>\n      <th>data.frame0.T4_tool6_x</th>\n      <th>data.frame0.T4_tool6_y</th>\n      <th>image_name</th>\n      <th>x</th>\n      <th>y</th>\n    </tr>\n  </thead>\n  <tbody>\n    <tr>\n      <th>0</th>\n      <td>256866778</td>\n      <td>386fc0ec047b7e259744e72e8e64b9f9</td>\n      <td>ea57b1088a10fa7fef30ed0b344e2ca3</td>\n      <td>14370</td>\n      <td>T2</td>\n      <td>2020-07-01 10:24:23 UTC</td>\n      <td>44660635</td>\n      <td>point_extractor_by_frame</td>\n      <td>4.1.0</td>\n      <td>NaN</td>\n      <td>...</td>\n      <td>[]</td>\n      <td>NaN</td>\n      <td>NaN</td>\n      <td>NaN</td>\n      <td>NaN</td>\n      <td>NaN</td>\n      <td>NaN</td>\n      <td>SRIL03-2-2_154.jpg</td>\n      <td>[]</td>\n      <td>[]</td>\n    </tr>\n    <tr>\n      <th>2</th>\n      <td>257485360</td>\n      <td>14597090a1ca2ae233ec4ccbaf00de67</td>\n      <td>da0196ebab87e82a7f2e5b6bee065aa3</td>\n      <td>14370</td>\n      <td>T2</td>\n      <td>2020-07-03 15:55:19 UTC</td>\n      <td>44660635</td>\n      <td>point_extractor_by_frame</td>\n      <td>4.1.0</td>\n      <td>NaN</td>\n      <td>...</td>\n      <td>[]</td>\n      <td>NaN</td>\n      <td>NaN</td>\n      <td>NaN</td>\n      <td>NaN</td>\n      <td>NaN</td>\n      <td>NaN</td>\n      <td>SRIL03-2-2_154.jpg</td>\n      <td>[]</td>\n      <td>[]</td>\n    </tr>\n    <tr>\n      <th>4</th>\n      <td>257492065</td>\n      <td>a722416d3feacb9ff4086b4ae25e9a20</td>\n      <td>bb473ceabce84d8efa64e0e56265456e</td>\n      <td>14370</td>\n      <td>T2</td>\n      <td>2020-07-03 16:23:23 UTC</td>\n      <td>44660635</td>\n      <td>point_extractor_by_frame</td>\n      <td>4.1.0</td>\n      <td>NaN</td>\n      <td>...</td>\n      <td>[]</td>\n      <td>NaN</td>\n      <td>NaN</td>\n      <td>NaN</td>\n      <td>NaN</td>\n      <td>NaN</td>\n      <td>NaN</td>\n      <td>SRIL03-2-2_154.jpg</td>\n      <td>[]</td>\n      <td>[]</td>\n    </tr>\n    <tr>\n      <th>6</th>\n      <td>257492850</td>\n      <td>dacf811c3f9785e954e5eff762c31229</td>\n      <td>NaN</td>\n      <td>14370</td>\n      <td>T2</td>\n      <td>2020-07-03 16:26:53 UTC</td>\n      <td>44660635</td>\n      <td>point_extractor_by_frame</td>\n      <td>4.1.0</td>\n      <td>NaN</td>\n      <td>...</td>\n      <td>[]</td>\n      <td>NaN</td>\n      <td>NaN</td>\n      <td>NaN</td>\n      <td>NaN</td>\n      <td>NaN</td>\n      <td>NaN</td>\n      <td>SRIL03-2-2_154.jpg</td>\n      <td>[]</td>\n      <td>[]</td>\n    </tr>\n    <tr>\n      <th>8</th>\n      <td>257498961</td>\n      <td>dc48dacf4a7d070ce8d2189d087adb8d</td>\n      <td>b53ddd25763b7daeadccf74f0ad5e67d</td>\n      <td>14370</td>\n      <td>T2</td>\n      <td>2020-07-03 16:52:22 UTC</td>\n      <td>44660635</td>\n      <td>point_extractor_by_frame</td>\n      <td>4.1.0</td>\n      <td>NaN</td>\n      <td>...</td>\n      <td>[]</td>\n      <td>NaN</td>\n      <td>NaN</td>\n      <td>NaN</td>\n      <td>NaN</td>\n      <td>NaN</td>\n      <td>NaN</td>\n      <td>SRIL03-2-2_154.jpg</td>\n      <td>[]</td>\n      <td>[]</td>\n    </tr>\n    <tr>\n      <th>...</th>\n      <td>...</td>\n      <td>...</td>\n      <td>...</td>\n      <td>...</td>\n      <td>...</td>\n      <td>...</td>\n      <td>...</td>\n      <td>...</td>\n      <td>...</td>\n      <td>...</td>\n      <td>...</td>\n      <td>...</td>\n      <td>...</td>\n      <td>...</td>\n      <td>...</td>\n      <td>...</td>\n      <td>...</td>\n      <td>...</td>\n      <td>...</td>\n      <td>...</td>\n      <td>...</td>\n    </tr>\n    <tr>\n      <th>1019786</th>\n      <td>287939566</td>\n      <td>a7c38b9d4c0f563d6c452d4db06db678</td>\n      <td>e410233db1e818f51a48a0d47fa4fa92</td>\n      <td>14370</td>\n      <td>T2</td>\n      <td>2020-11-18 04:32:48 UTC</td>\n      <td>47970949</td>\n      <td>point_extractor_by_frame</td>\n      <td>4.1.0</td>\n      <td>NaN</td>\n      <td>...</td>\n      <td>[]</td>\n      <td>NaN</td>\n      <td>NaN</td>\n      <td>NaN</td>\n      <td>NaN</td>\n      <td>NaN</td>\n      <td>NaN</td>\n      <td>SFM04-1-1_369.jpg</td>\n      <td>[]</td>\n      <td>[]</td>\n    </tr>\n    <tr>\n      <th>1019788</th>\n      <td>288102487</td>\n      <td>58fa6a1c297b9ff1d6f96fa93f112c48</td>\n      <td>8f92f55991060f2111a7a0fab2e453ad</td>\n      <td>14370</td>\n      <td>T2</td>\n      <td>2020-11-18 19:47:25 UTC</td>\n      <td>47970949</td>\n      <td>point_extractor_by_frame</td>\n      <td>4.1.0</td>\n      <td>NaN</td>\n      <td>...</td>\n      <td>[]</td>\n      <td>NaN</td>\n      <td>NaN</td>\n      <td>NaN</td>\n      <td>NaN</td>\n      <td>NaN</td>\n      <td>NaN</td>\n      <td>SFM04-1-1_369.jpg</td>\n      <td>[]</td>\n      <td>[]</td>\n    </tr>\n    <tr>\n      <th>1019790</th>\n      <td>288127706</td>\n      <td>7e82ef4b88b037461f90958b2716c1b8</td>\n      <td>2a7bf97c8666cf6289378831707942a2</td>\n      <td>14370</td>\n      <td>T2</td>\n      <td>2020-11-18 21:32:33 UTC</td>\n      <td>47970949</td>\n      <td>point_extractor_by_frame</td>\n      <td>4.1.0</td>\n      <td>NaN</td>\n      <td>...</td>\n      <td>[]</td>\n      <td>NaN</td>\n      <td>NaN</td>\n      <td>NaN</td>\n      <td>NaN</td>\n      <td>NaN</td>\n      <td>NaN</td>\n      <td>SFM04-1-1_369.jpg</td>\n      <td>[]</td>\n      <td>[]</td>\n    </tr>\n    <tr>\n      <th>1019792</th>\n      <td>288168438</td>\n      <td>9e15149b8e8ef01f93697b4dfd952d33</td>\n      <td>f0e8db7c9aee1017a2699e2483bc4238</td>\n      <td>14370</td>\n      <td>T2</td>\n      <td>2020-11-19 01:03:05 UTC</td>\n      <td>47970949</td>\n      <td>point_extractor_by_frame</td>\n      <td>4.1.0</td>\n      <td>NaN</td>\n      <td>...</td>\n      <td>[]</td>\n      <td>NaN</td>\n      <td>NaN</td>\n      <td>NaN</td>\n      <td>NaN</td>\n      <td>NaN</td>\n      <td>NaN</td>\n      <td>SFM04-1-1_369.jpg</td>\n      <td>[]</td>\n      <td>[]</td>\n    </tr>\n    <tr>\n      <th>1019794</th>\n      <td>288198132</td>\n      <td>69b80c6be0af6a1f2fdfc07ee22e8ced</td>\n      <td>b7670915fc691ba3cf8b50ea56b3d6e1</td>\n      <td>14370</td>\n      <td>T2</td>\n      <td>2020-11-19 03:57:28 UTC</td>\n      <td>47970949</td>\n      <td>point_extractor_by_frame</td>\n      <td>4.1.0</td>\n      <td>NaN</td>\n      <td>...</td>\n      <td>[]</td>\n      <td>NaN</td>\n      <td>NaN</td>\n      <td>NaN</td>\n      <td>NaN</td>\n      <td>NaN</td>\n      <td>NaN</td>\n      <td>SFM04-1-1_369.jpg</td>\n      <td>[]</td>\n      <td>[]</td>\n    </tr>\n  </tbody>\n</table>\n<p>509898 rows × 36 columns</p>\n</div>"
     },
     "execution_count": 21,
     "metadata": {},
     "output_type": "execute_result"
    }
   ],
   "source": [
    "# create a flat structure from the nested marks over multiple columns from that.\n",
    "from ast import literal_eval\n",
    "\n",
    "columns_keep_x = ['data.frame0.T2_tool0_x', 'data.frame0.T2_tool1_x', 'data.frame0.T2_tool2_x']\n",
    "columns_keep_y = ['data.frame0.T2_tool0_y', 'data.frame0.T2_tool1_y', 'data.frame0.T2_tool2_y']\n",
    "\n",
    "for col in columns_keep_x + columns_keep_y:\n",
    "    df_panotes_point_extractor_r[col] = df_panotes_point_extractor_r[col].apply(lambda x: literal_eval(x) if pd.notnull(x) else [])\n",
    "\n",
    "# Merge the lists in 'x' and 'y' coordinates\n",
    "df_panotes_point_extractor_r['x'] = df_panotes_point_extractor_r[columns_keep_x].values.tolist()\n",
    "df_panotes_point_extractor_r['y'] = df_panotes_point_extractor_r[columns_keep_y].values.tolist()\n",
    "\n",
    "# Flatten the lists in each row for 'x' and 'y'\n",
    "df_panotes_point_extractor_r['x'] = df_panotes_point_extractor_r['x'].apply(lambda x: [item for sublist in x for item in sublist])\n",
    "df_panotes_point_extractor_r['y'] = df_panotes_point_extractor_r['y'].apply(lambda x: [item for sublist in x for item in sublist])\n",
    "\n",
    "# Explode the DataFrame to separate rows for each x, y pair\n",
    "# Note: This requires pandas >= 0.25 for simultaneous explode\n",
    "# df_panotes_point_extractor_r_exploded = df_panotes_point_extractor_r.apply(pd.Series.explode)\n",
    "\n",
    "# Explode the DataFrame based on these columns to get separate rows for each list element\n",
    "# Make sure to perform the explode operation on both columns simultaneously to keep the x and y coordinates paired\n",
    "df_panotes_point_extractor_r"
   ]
  },
  {
   "cell_type": "code",
   "execution_count": 22,
   "id": "d1dd3d9da30dac12",
   "metadata": {
    "collapsed": false,
    "ExecuteTime": {
     "end_time": "2024-04-10T19:34:26.200723Z",
     "start_time": "2024-04-10T19:34:25.966839Z"
    }
   },
   "outputs": [
    {
     "data": {
      "text/plain": "        classification_id                         user_name  \\\n0               256866778  386fc0ec047b7e259744e72e8e64b9f9   \n1               257485360  14597090a1ca2ae233ec4ccbaf00de67   \n2               257492065  a722416d3feacb9ff4086b4ae25e9a20   \n3               257492850  dacf811c3f9785e954e5eff762c31229   \n4               257498961  dc48dacf4a7d070ce8d2189d087adb8d   \n...                   ...                               ...   \n509893          287939566  a7c38b9d4c0f563d6c452d4db06db678   \n509894          288102487  58fa6a1c297b9ff1d6f96fa93f112c48   \n509895          288127706  7e82ef4b88b037461f90958b2716c1b8   \n509896          288168438  9e15149b8e8ef01f93697b4dfd952d33   \n509897          288198132  69b80c6be0af6a1f2fdfc07ee22e8ced   \n\n                                 user_id  workflow_id task  \\\n0       ea57b1088a10fa7fef30ed0b344e2ca3        14370   T2   \n1       da0196ebab87e82a7f2e5b6bee065aa3        14370   T2   \n2       bb473ceabce84d8efa64e0e56265456e        14370   T2   \n3                                    NaN        14370   T2   \n4       b53ddd25763b7daeadccf74f0ad5e67d        14370   T2   \n...                                  ...          ...  ...   \n509893  e410233db1e818f51a48a0d47fa4fa92        14370   T2   \n509894  8f92f55991060f2111a7a0fab2e453ad        14370   T2   \n509895  2a7bf97c8666cf6289378831707942a2        14370   T2   \n509896  f0e8db7c9aee1017a2699e2483bc4238        14370   T2   \n509897  b7670915fc691ba3cf8b50ea56b3d6e1        14370   T2   \n\n                     created_at  subject_id          image_name   x   y  \n0       2020-07-01 10:24:23 UTC    44660635  SRIL03-2-2_154.jpg  []  []  \n1       2020-07-03 15:55:19 UTC    44660635  SRIL03-2-2_154.jpg  []  []  \n2       2020-07-03 16:23:23 UTC    44660635  SRIL03-2-2_154.jpg  []  []  \n3       2020-07-03 16:26:53 UTC    44660635  SRIL03-2-2_154.jpg  []  []  \n4       2020-07-03 16:52:22 UTC    44660635  SRIL03-2-2_154.jpg  []  []  \n...                         ...         ...                 ...  ..  ..  \n509893  2020-11-18 04:32:48 UTC    47970949   SFM04-1-1_369.jpg  []  []  \n509894  2020-11-18 19:47:25 UTC    47970949   SFM04-1-1_369.jpg  []  []  \n509895  2020-11-18 21:32:33 UTC    47970949   SFM04-1-1_369.jpg  []  []  \n509896  2020-11-19 01:03:05 UTC    47970949   SFM04-1-1_369.jpg  []  []  \n509897  2020-11-19 03:57:28 UTC    47970949   SFM04-1-1_369.jpg  []  []  \n\n[509898 rows x 10 columns]",
      "text/html": "<div>\n<style scoped>\n    .dataframe tbody tr th:only-of-type {\n        vertical-align: middle;\n    }\n\n    .dataframe tbody tr th {\n        vertical-align: top;\n    }\n\n    .dataframe thead th {\n        text-align: right;\n    }\n</style>\n<table border=\"1\" class=\"dataframe\">\n  <thead>\n    <tr style=\"text-align: right;\">\n      <th></th>\n      <th>classification_id</th>\n      <th>user_name</th>\n      <th>user_id</th>\n      <th>workflow_id</th>\n      <th>task</th>\n      <th>created_at</th>\n      <th>subject_id</th>\n      <th>image_name</th>\n      <th>x</th>\n      <th>y</th>\n    </tr>\n  </thead>\n  <tbody>\n    <tr>\n      <th>0</th>\n      <td>256866778</td>\n      <td>386fc0ec047b7e259744e72e8e64b9f9</td>\n      <td>ea57b1088a10fa7fef30ed0b344e2ca3</td>\n      <td>14370</td>\n      <td>T2</td>\n      <td>2020-07-01 10:24:23 UTC</td>\n      <td>44660635</td>\n      <td>SRIL03-2-2_154.jpg</td>\n      <td>[]</td>\n      <td>[]</td>\n    </tr>\n    <tr>\n      <th>1</th>\n      <td>257485360</td>\n      <td>14597090a1ca2ae233ec4ccbaf00de67</td>\n      <td>da0196ebab87e82a7f2e5b6bee065aa3</td>\n      <td>14370</td>\n      <td>T2</td>\n      <td>2020-07-03 15:55:19 UTC</td>\n      <td>44660635</td>\n      <td>SRIL03-2-2_154.jpg</td>\n      <td>[]</td>\n      <td>[]</td>\n    </tr>\n    <tr>\n      <th>2</th>\n      <td>257492065</td>\n      <td>a722416d3feacb9ff4086b4ae25e9a20</td>\n      <td>bb473ceabce84d8efa64e0e56265456e</td>\n      <td>14370</td>\n      <td>T2</td>\n      <td>2020-07-03 16:23:23 UTC</td>\n      <td>44660635</td>\n      <td>SRIL03-2-2_154.jpg</td>\n      <td>[]</td>\n      <td>[]</td>\n    </tr>\n    <tr>\n      <th>3</th>\n      <td>257492850</td>\n      <td>dacf811c3f9785e954e5eff762c31229</td>\n      <td>NaN</td>\n      <td>14370</td>\n      <td>T2</td>\n      <td>2020-07-03 16:26:53 UTC</td>\n      <td>44660635</td>\n      <td>SRIL03-2-2_154.jpg</td>\n      <td>[]</td>\n      <td>[]</td>\n    </tr>\n    <tr>\n      <th>4</th>\n      <td>257498961</td>\n      <td>dc48dacf4a7d070ce8d2189d087adb8d</td>\n      <td>b53ddd25763b7daeadccf74f0ad5e67d</td>\n      <td>14370</td>\n      <td>T2</td>\n      <td>2020-07-03 16:52:22 UTC</td>\n      <td>44660635</td>\n      <td>SRIL03-2-2_154.jpg</td>\n      <td>[]</td>\n      <td>[]</td>\n    </tr>\n    <tr>\n      <th>...</th>\n      <td>...</td>\n      <td>...</td>\n      <td>...</td>\n      <td>...</td>\n      <td>...</td>\n      <td>...</td>\n      <td>...</td>\n      <td>...</td>\n      <td>...</td>\n      <td>...</td>\n    </tr>\n    <tr>\n      <th>509893</th>\n      <td>287939566</td>\n      <td>a7c38b9d4c0f563d6c452d4db06db678</td>\n      <td>e410233db1e818f51a48a0d47fa4fa92</td>\n      <td>14370</td>\n      <td>T2</td>\n      <td>2020-11-18 04:32:48 UTC</td>\n      <td>47970949</td>\n      <td>SFM04-1-1_369.jpg</td>\n      <td>[]</td>\n      <td>[]</td>\n    </tr>\n    <tr>\n      <th>509894</th>\n      <td>288102487</td>\n      <td>58fa6a1c297b9ff1d6f96fa93f112c48</td>\n      <td>8f92f55991060f2111a7a0fab2e453ad</td>\n      <td>14370</td>\n      <td>T2</td>\n      <td>2020-11-18 19:47:25 UTC</td>\n      <td>47970949</td>\n      <td>SFM04-1-1_369.jpg</td>\n      <td>[]</td>\n      <td>[]</td>\n    </tr>\n    <tr>\n      <th>509895</th>\n      <td>288127706</td>\n      <td>7e82ef4b88b037461f90958b2716c1b8</td>\n      <td>2a7bf97c8666cf6289378831707942a2</td>\n      <td>14370</td>\n      <td>T2</td>\n      <td>2020-11-18 21:32:33 UTC</td>\n      <td>47970949</td>\n      <td>SFM04-1-1_369.jpg</td>\n      <td>[]</td>\n      <td>[]</td>\n    </tr>\n    <tr>\n      <th>509896</th>\n      <td>288168438</td>\n      <td>9e15149b8e8ef01f93697b4dfd952d33</td>\n      <td>f0e8db7c9aee1017a2699e2483bc4238</td>\n      <td>14370</td>\n      <td>T2</td>\n      <td>2020-11-19 01:03:05 UTC</td>\n      <td>47970949</td>\n      <td>SFM04-1-1_369.jpg</td>\n      <td>[]</td>\n      <td>[]</td>\n    </tr>\n    <tr>\n      <th>509897</th>\n      <td>288198132</td>\n      <td>69b80c6be0af6a1f2fdfc07ee22e8ced</td>\n      <td>b7670915fc691ba3cf8b50ea56b3d6e1</td>\n      <td>14370</td>\n      <td>T2</td>\n      <td>2020-11-19 03:57:28 UTC</td>\n      <td>47970949</td>\n      <td>SFM04-1-1_369.jpg</td>\n      <td>[]</td>\n      <td>[]</td>\n    </tr>\n  </tbody>\n</table>\n<p>509898 rows × 10 columns</p>\n</div>"
     },
     "execution_count": 22,
     "metadata": {},
     "output_type": "execute_result"
    }
   ],
   "source": [
    "df_panotes_point_extractor_r = df_panotes_point_extractor_r[\n",
    "    ['classification_id', 'user_name', 'user_id', 'workflow_id', 'task',\n",
    "     'created_at', 'subject_id', \"image_name\",\n",
    "     'x', 'y'\n",
    "     ]].reset_index(drop=True)\n",
    "\n",
    "df_panotes_point_extractor_r"
   ]
  },
  {
   "cell_type": "code",
   "execution_count": 23,
   "id": "b84d1fb085664060",
   "metadata": {
    "collapsed": false,
    "ExecuteTime": {
     "end_time": "2024-04-10T19:36:10.970485Z",
     "start_time": "2024-04-10T19:36:10.727420Z"
    }
   },
   "outputs": [],
   "source": [
    "# explode the lists of marks per user into one row per mark\n",
    "df_panotes_point_extractor_r_ex = df_panotes_point_extractor_r.apply(lambda x: x.explode() if x.name in ['x', 'y'] else x)"
   ]
  },
  {
   "cell_type": "code",
   "execution_count": 24,
   "id": "7f88cb7f25c52568",
   "metadata": {
    "collapsed": false,
    "ExecuteTime": {
     "end_time": "2024-04-10T19:36:18.208419Z",
     "start_time": "2024-04-10T19:36:18.141783Z"
    }
   },
   "outputs": [
    {
     "data": {
      "text/plain": "        classification_id                         user_name  \\\n230846          283007416  77dd9c009b5200eea39788f7f15862f0   \n372187          271011060  fcbbe951169dc1df0b1f803a199f0995   \n502904          286621582  59e4feed8a3a84fb6bfdc5f29a1713b4   \n502904          286621582  59e4feed8a3a84fb6bfdc5f29a1713b4   \n502904          286621582  59e4feed8a3a84fb6bfdc5f29a1713b4   \n...                   ...                               ...   \n251731          282327563  abc5cb03709e2f07494e3e603b1ba8eb   \n251731          282327563  abc5cb03709e2f07494e3e603b1ba8eb   \n251731          282327563  abc5cb03709e2f07494e3e603b1ba8eb   \n251731          282327563  abc5cb03709e2f07494e3e603b1ba8eb   \n202870          281038044  f81b032a8ed514458a88f8c508dff561   \n\n                                 user_id  workflow_id task  \\\n230846  003abe9e6bb90e03c50377a33f1137a5        14370   T2   \n372187  004eb4442ae5c85fcb6b5c78ed902f41        14370   T2   \n502904  006c16c227f4152ffff80d195fca443b        14370   T2   \n502904  006c16c227f4152ffff80d195fca443b        14370   T2   \n502904  006c16c227f4152ffff80d195fca443b        14370   T2   \n...                                  ...          ...  ...   \n251731                               NaN        14370   T2   \n251731                               NaN        14370   T2   \n251731                               NaN        14370   T2   \n251731                               NaN        14370   T2   \n202870                               NaN        14370   T2   \n\n                     created_at  subject_id           image_name            x  \\\n230846  2020-10-26 09:28:46 UTC    47974351  SMF02-1-2-2_570.jpg   186.475037   \n372187  2020-08-30 16:22:33 UTC    47978494    SFP01_06-2_59.jpg   272.292664   \n502904  2020-11-12 11:08:10 UTC    47980877      SRL04-1_348.jpg     358.3125   \n502904  2020-11-12 11:08:10 UTC    47980877      SRL04-1_348.jpg     485.3125   \n502904  2020-11-12 11:08:10 UTC    47980877      SRL04-1_348.jpg     458.3125   \n...                         ...         ...                  ...          ...   \n251731  2020-10-22 19:32:52 UTC    48034447      SRBS03-4_25.jpg   441.922241   \n251731  2020-10-22 19:32:52 UTC    48034447      SRBS03-4_25.jpg   136.863983   \n251731  2020-10-22 19:32:52 UTC    48034447      SRBS03-4_25.jpg  1674.010132   \n251731  2020-10-22 19:32:52 UTC    48034447      SRBS03-4_25.jpg   1306.06897   \n202870  2020-10-17 00:47:51 UTC    48034467      SRBS03-4_63.jpg   895.856628   \n\n                  y  \n230846   310.925049  \n372187   265.212067  \n502904          194  \n502904          106  \n502904          205  \n...             ...  \n251731   879.096191  \n251731  1013.773438  \n251731   811.722473  \n251731   852.808899  \n202870  1032.248169  \n\n[24248 rows x 10 columns]",
      "text/html": "<div>\n<style scoped>\n    .dataframe tbody tr th:only-of-type {\n        vertical-align: middle;\n    }\n\n    .dataframe tbody tr th {\n        vertical-align: top;\n    }\n\n    .dataframe thead th {\n        text-align: right;\n    }\n</style>\n<table border=\"1\" class=\"dataframe\">\n  <thead>\n    <tr style=\"text-align: right;\">\n      <th></th>\n      <th>classification_id</th>\n      <th>user_name</th>\n      <th>user_id</th>\n      <th>workflow_id</th>\n      <th>task</th>\n      <th>created_at</th>\n      <th>subject_id</th>\n      <th>image_name</th>\n      <th>x</th>\n      <th>y</th>\n    </tr>\n  </thead>\n  <tbody>\n    <tr>\n      <th>230846</th>\n      <td>283007416</td>\n      <td>77dd9c009b5200eea39788f7f15862f0</td>\n      <td>003abe9e6bb90e03c50377a33f1137a5</td>\n      <td>14370</td>\n      <td>T2</td>\n      <td>2020-10-26 09:28:46 UTC</td>\n      <td>47974351</td>\n      <td>SMF02-1-2-2_570.jpg</td>\n      <td>186.475037</td>\n      <td>310.925049</td>\n    </tr>\n    <tr>\n      <th>372187</th>\n      <td>271011060</td>\n      <td>fcbbe951169dc1df0b1f803a199f0995</td>\n      <td>004eb4442ae5c85fcb6b5c78ed902f41</td>\n      <td>14370</td>\n      <td>T2</td>\n      <td>2020-08-30 16:22:33 UTC</td>\n      <td>47978494</td>\n      <td>SFP01_06-2_59.jpg</td>\n      <td>272.292664</td>\n      <td>265.212067</td>\n    </tr>\n    <tr>\n      <th>502904</th>\n      <td>286621582</td>\n      <td>59e4feed8a3a84fb6bfdc5f29a1713b4</td>\n      <td>006c16c227f4152ffff80d195fca443b</td>\n      <td>14370</td>\n      <td>T2</td>\n      <td>2020-11-12 11:08:10 UTC</td>\n      <td>47980877</td>\n      <td>SRL04-1_348.jpg</td>\n      <td>358.3125</td>\n      <td>194</td>\n    </tr>\n    <tr>\n      <th>502904</th>\n      <td>286621582</td>\n      <td>59e4feed8a3a84fb6bfdc5f29a1713b4</td>\n      <td>006c16c227f4152ffff80d195fca443b</td>\n      <td>14370</td>\n      <td>T2</td>\n      <td>2020-11-12 11:08:10 UTC</td>\n      <td>47980877</td>\n      <td>SRL04-1_348.jpg</td>\n      <td>485.3125</td>\n      <td>106</td>\n    </tr>\n    <tr>\n      <th>502904</th>\n      <td>286621582</td>\n      <td>59e4feed8a3a84fb6bfdc5f29a1713b4</td>\n      <td>006c16c227f4152ffff80d195fca443b</td>\n      <td>14370</td>\n      <td>T2</td>\n      <td>2020-11-12 11:08:10 UTC</td>\n      <td>47980877</td>\n      <td>SRL04-1_348.jpg</td>\n      <td>458.3125</td>\n      <td>205</td>\n    </tr>\n    <tr>\n      <th>...</th>\n      <td>...</td>\n      <td>...</td>\n      <td>...</td>\n      <td>...</td>\n      <td>...</td>\n      <td>...</td>\n      <td>...</td>\n      <td>...</td>\n      <td>...</td>\n      <td>...</td>\n    </tr>\n    <tr>\n      <th>251731</th>\n      <td>282327563</td>\n      <td>abc5cb03709e2f07494e3e603b1ba8eb</td>\n      <td>NaN</td>\n      <td>14370</td>\n      <td>T2</td>\n      <td>2020-10-22 19:32:52 UTC</td>\n      <td>48034447</td>\n      <td>SRBS03-4_25.jpg</td>\n      <td>441.922241</td>\n      <td>879.096191</td>\n    </tr>\n    <tr>\n      <th>251731</th>\n      <td>282327563</td>\n      <td>abc5cb03709e2f07494e3e603b1ba8eb</td>\n      <td>NaN</td>\n      <td>14370</td>\n      <td>T2</td>\n      <td>2020-10-22 19:32:52 UTC</td>\n      <td>48034447</td>\n      <td>SRBS03-4_25.jpg</td>\n      <td>136.863983</td>\n      <td>1013.773438</td>\n    </tr>\n    <tr>\n      <th>251731</th>\n      <td>282327563</td>\n      <td>abc5cb03709e2f07494e3e603b1ba8eb</td>\n      <td>NaN</td>\n      <td>14370</td>\n      <td>T2</td>\n      <td>2020-10-22 19:32:52 UTC</td>\n      <td>48034447</td>\n      <td>SRBS03-4_25.jpg</td>\n      <td>1674.010132</td>\n      <td>811.722473</td>\n    </tr>\n    <tr>\n      <th>251731</th>\n      <td>282327563</td>\n      <td>abc5cb03709e2f07494e3e603b1ba8eb</td>\n      <td>NaN</td>\n      <td>14370</td>\n      <td>T2</td>\n      <td>2020-10-22 19:32:52 UTC</td>\n      <td>48034447</td>\n      <td>SRBS03-4_25.jpg</td>\n      <td>1306.06897</td>\n      <td>852.808899</td>\n    </tr>\n    <tr>\n      <th>202870</th>\n      <td>281038044</td>\n      <td>f81b032a8ed514458a88f8c508dff561</td>\n      <td>NaN</td>\n      <td>14370</td>\n      <td>T2</td>\n      <td>2020-10-17 00:47:51 UTC</td>\n      <td>48034467</td>\n      <td>SRBS03-4_63.jpg</td>\n      <td>895.856628</td>\n      <td>1032.248169</td>\n    </tr>\n  </tbody>\n</table>\n<p>24248 rows × 10 columns</p>\n</div>"
     },
     "execution_count": 24,
     "metadata": {},
     "output_type": "execute_result"
    }
   ],
   "source": [
    "# images with no marks have NaN values in the 'merged_x' and 'merged_y' columns\n",
    "df_panotes_point_extractor_r_ex_dropped = df_panotes_point_extractor_r_ex.dropna(subset=['x', 'y'], how='all').sort_values(by=['user_id', 'subject_id', 'task', 'created_at'])\n",
    "df_panotes_point_extractor_r_ex_dropped"
   ]
  },
  {
   "cell_type": "code",
   "outputs": [
    {
     "data": {
      "text/plain": "        classification_id                         user_name  \\\n230846          283007416  77dd9c009b5200eea39788f7f15862f0   \n372187          271011060  fcbbe951169dc1df0b1f803a199f0995   \n502904          286621582  59e4feed8a3a84fb6bfdc5f29a1713b4   \n502904          286621582  59e4feed8a3a84fb6bfdc5f29a1713b4   \n502904          286621582  59e4feed8a3a84fb6bfdc5f29a1713b4   \n...                   ...                               ...   \n251731          282327563  abc5cb03709e2f07494e3e603b1ba8eb   \n251731          282327563  abc5cb03709e2f07494e3e603b1ba8eb   \n251731          282327563  abc5cb03709e2f07494e3e603b1ba8eb   \n251731          282327563  abc5cb03709e2f07494e3e603b1ba8eb   \n202870          281038044  f81b032a8ed514458a88f8c508dff561   \n\n                                 user_id  workflow_id task  \\\n230846  003abe9e6bb90e03c50377a33f1137a5        14370   T2   \n372187  004eb4442ae5c85fcb6b5c78ed902f41        14370   T2   \n502904  006c16c227f4152ffff80d195fca443b        14370   T2   \n502904  006c16c227f4152ffff80d195fca443b        14370   T2   \n502904  006c16c227f4152ffff80d195fca443b        14370   T2   \n...                                  ...          ...  ...   \n251731                               NaN        14370   T2   \n251731                               NaN        14370   T2   \n251731                               NaN        14370   T2   \n251731                               NaN        14370   T2   \n202870                               NaN        14370   T2   \n\n                     created_at  subject_id           image_name     x     y  \n230846  2020-10-26 09:28:46 UTC    47974351  SMF02-1-2-2_570.jpg   186   310  \n372187  2020-08-30 16:22:33 UTC    47978494    SFP01_06-2_59.jpg   272   265  \n502904  2020-11-12 11:08:10 UTC    47980877      SRL04-1_348.jpg   358   194  \n502904  2020-11-12 11:08:10 UTC    47980877      SRL04-1_348.jpg   485   106  \n502904  2020-11-12 11:08:10 UTC    47980877      SRL04-1_348.jpg   458   205  \n...                         ...         ...                  ...   ...   ...  \n251731  2020-10-22 19:32:52 UTC    48034447      SRBS03-4_25.jpg   441   879  \n251731  2020-10-22 19:32:52 UTC    48034447      SRBS03-4_25.jpg   136  1013  \n251731  2020-10-22 19:32:52 UTC    48034447      SRBS03-4_25.jpg  1674   811  \n251731  2020-10-22 19:32:52 UTC    48034447      SRBS03-4_25.jpg  1306   852  \n202870  2020-10-17 00:47:51 UTC    48034467      SRBS03-4_63.jpg   895  1032  \n\n[24248 rows x 10 columns]",
      "text/html": "<div>\n<style scoped>\n    .dataframe tbody tr th:only-of-type {\n        vertical-align: middle;\n    }\n\n    .dataframe tbody tr th {\n        vertical-align: top;\n    }\n\n    .dataframe thead th {\n        text-align: right;\n    }\n</style>\n<table border=\"1\" class=\"dataframe\">\n  <thead>\n    <tr style=\"text-align: right;\">\n      <th></th>\n      <th>classification_id</th>\n      <th>user_name</th>\n      <th>user_id</th>\n      <th>workflow_id</th>\n      <th>task</th>\n      <th>created_at</th>\n      <th>subject_id</th>\n      <th>image_name</th>\n      <th>x</th>\n      <th>y</th>\n    </tr>\n  </thead>\n  <tbody>\n    <tr>\n      <th>230846</th>\n      <td>283007416</td>\n      <td>77dd9c009b5200eea39788f7f15862f0</td>\n      <td>003abe9e6bb90e03c50377a33f1137a5</td>\n      <td>14370</td>\n      <td>T2</td>\n      <td>2020-10-26 09:28:46 UTC</td>\n      <td>47974351</td>\n      <td>SMF02-1-2-2_570.jpg</td>\n      <td>186</td>\n      <td>310</td>\n    </tr>\n    <tr>\n      <th>372187</th>\n      <td>271011060</td>\n      <td>fcbbe951169dc1df0b1f803a199f0995</td>\n      <td>004eb4442ae5c85fcb6b5c78ed902f41</td>\n      <td>14370</td>\n      <td>T2</td>\n      <td>2020-08-30 16:22:33 UTC</td>\n      <td>47978494</td>\n      <td>SFP01_06-2_59.jpg</td>\n      <td>272</td>\n      <td>265</td>\n    </tr>\n    <tr>\n      <th>502904</th>\n      <td>286621582</td>\n      <td>59e4feed8a3a84fb6bfdc5f29a1713b4</td>\n      <td>006c16c227f4152ffff80d195fca443b</td>\n      <td>14370</td>\n      <td>T2</td>\n      <td>2020-11-12 11:08:10 UTC</td>\n      <td>47980877</td>\n      <td>SRL04-1_348.jpg</td>\n      <td>358</td>\n      <td>194</td>\n    </tr>\n    <tr>\n      <th>502904</th>\n      <td>286621582</td>\n      <td>59e4feed8a3a84fb6bfdc5f29a1713b4</td>\n      <td>006c16c227f4152ffff80d195fca443b</td>\n      <td>14370</td>\n      <td>T2</td>\n      <td>2020-11-12 11:08:10 UTC</td>\n      <td>47980877</td>\n      <td>SRL04-1_348.jpg</td>\n      <td>485</td>\n      <td>106</td>\n    </tr>\n    <tr>\n      <th>502904</th>\n      <td>286621582</td>\n      <td>59e4feed8a3a84fb6bfdc5f29a1713b4</td>\n      <td>006c16c227f4152ffff80d195fca443b</td>\n      <td>14370</td>\n      <td>T2</td>\n      <td>2020-11-12 11:08:10 UTC</td>\n      <td>47980877</td>\n      <td>SRL04-1_348.jpg</td>\n      <td>458</td>\n      <td>205</td>\n    </tr>\n    <tr>\n      <th>...</th>\n      <td>...</td>\n      <td>...</td>\n      <td>...</td>\n      <td>...</td>\n      <td>...</td>\n      <td>...</td>\n      <td>...</td>\n      <td>...</td>\n      <td>...</td>\n      <td>...</td>\n    </tr>\n    <tr>\n      <th>251731</th>\n      <td>282327563</td>\n      <td>abc5cb03709e2f07494e3e603b1ba8eb</td>\n      <td>NaN</td>\n      <td>14370</td>\n      <td>T2</td>\n      <td>2020-10-22 19:32:52 UTC</td>\n      <td>48034447</td>\n      <td>SRBS03-4_25.jpg</td>\n      <td>441</td>\n      <td>879</td>\n    </tr>\n    <tr>\n      <th>251731</th>\n      <td>282327563</td>\n      <td>abc5cb03709e2f07494e3e603b1ba8eb</td>\n      <td>NaN</td>\n      <td>14370</td>\n      <td>T2</td>\n      <td>2020-10-22 19:32:52 UTC</td>\n      <td>48034447</td>\n      <td>SRBS03-4_25.jpg</td>\n      <td>136</td>\n      <td>1013</td>\n    </tr>\n    <tr>\n      <th>251731</th>\n      <td>282327563</td>\n      <td>abc5cb03709e2f07494e3e603b1ba8eb</td>\n      <td>NaN</td>\n      <td>14370</td>\n      <td>T2</td>\n      <td>2020-10-22 19:32:52 UTC</td>\n      <td>48034447</td>\n      <td>SRBS03-4_25.jpg</td>\n      <td>1674</td>\n      <td>811</td>\n    </tr>\n    <tr>\n      <th>251731</th>\n      <td>282327563</td>\n      <td>abc5cb03709e2f07494e3e603b1ba8eb</td>\n      <td>NaN</td>\n      <td>14370</td>\n      <td>T2</td>\n      <td>2020-10-22 19:32:52 UTC</td>\n      <td>48034447</td>\n      <td>SRBS03-4_25.jpg</td>\n      <td>1306</td>\n      <td>852</td>\n    </tr>\n    <tr>\n      <th>202870</th>\n      <td>281038044</td>\n      <td>f81b032a8ed514458a88f8c508dff561</td>\n      <td>NaN</td>\n      <td>14370</td>\n      <td>T2</td>\n      <td>2020-10-17 00:47:51 UTC</td>\n      <td>48034467</td>\n      <td>SRBS03-4_63.jpg</td>\n      <td>895</td>\n      <td>1032</td>\n    </tr>\n  </tbody>\n</table>\n<p>24248 rows × 10 columns</p>\n</div>"
     },
     "execution_count": 25,
     "metadata": {},
     "output_type": "execute_result"
    }
   ],
   "source": [
    "# cast x and y to int\n",
    "df_panotes_point_extractor_r_ex_dropped = df_panotes_point_extractor_r_ex_dropped.astype({'x': 'int32', 'y': 'int32'})\n",
    "df_panotes_point_extractor_r_ex_dropped"
   ],
   "metadata": {
    "collapsed": false,
    "ExecuteTime": {
     "end_time": "2024-04-10T19:36:27.892664Z",
     "start_time": "2024-04-10T19:36:27.878449Z"
    }
   },
   "id": "b3a0beb695d8f28e",
   "execution_count": 25
  },
  {
   "cell_type": "code",
   "outputs": [],
   "source": [
    "df_panotes_point_extractor_r_ex_dropped.to_csv(config[\"flat_panoptes_points\"], sep=\",\")"
   ],
   "metadata": {
    "collapsed": false,
    "ExecuteTime": {
     "end_time": "2024-04-10T19:36:32.377427Z",
     "start_time": "2024-04-10T19:36:32.266202Z"
    }
   },
   "id": "6852db7c1077de6",
   "execution_count": 26
  },
  {
   "cell_type": "code",
   "outputs": [],
   "source": [],
   "metadata": {
    "collapsed": false,
    "ExecuteTime": {
     "end_time": "2024-04-10T19:36:47.881714Z",
     "start_time": "2024-04-10T19:36:47.879306Z"
    }
   },
   "id": "75bd85fa3f091c83",
   "execution_count": 26
  },
  {
   "cell_type": "markdown",
   "source": [
    "## Check the numbers for a single subject_id"
   ],
   "metadata": {
    "collapsed": false
   },
   "id": "18a9d6b4d094619e"
  },
  {
   "cell_type": "code",
   "outputs": [
    {
     "data": {
      "text/plain": "        classification_id                         user_name  \\\n261444          277523792  36b2040ae4dd151b163da8d682e46cf7   \n261444          277523792  36b2040ae4dd151b163da8d682e46cf7   \n261444          277523792  36b2040ae4dd151b163da8d682e46cf7   \n261444          277523792  36b2040ae4dd151b163da8d682e46cf7   \n261444          277523792  36b2040ae4dd151b163da8d682e46cf7   \n261444          277523792  36b2040ae4dd151b163da8d682e46cf7   \n261444          277523792  36b2040ae4dd151b163da8d682e46cf7   \n261444          277523792  36b2040ae4dd151b163da8d682e46cf7   \n261444          277523792  36b2040ae4dd151b163da8d682e46cf7   \n261447          281167948  b0f5fa7789909ee79b0264f924b28554   \n261447          281167948  b0f5fa7789909ee79b0264f924b28554   \n261447          281167948  b0f5fa7789909ee79b0264f924b28554   \n261447          281167948  b0f5fa7789909ee79b0264f924b28554   \n261447          281167948  b0f5fa7789909ee79b0264f924b28554   \n261447          281167948  b0f5fa7789909ee79b0264f924b28554   \n\n                                 user_id  workflow_id task  \\\n261444  073346196f12bd1b43f022c341e41b15        14370   T2   \n261444  073346196f12bd1b43f022c341e41b15        14370   T2   \n261444  073346196f12bd1b43f022c341e41b15        14370   T2   \n261444  073346196f12bd1b43f022c341e41b15        14370   T2   \n261444  073346196f12bd1b43f022c341e41b15        14370   T2   \n261444  073346196f12bd1b43f022c341e41b15        14370   T2   \n261444  073346196f12bd1b43f022c341e41b15        14370   T2   \n261444  073346196f12bd1b43f022c341e41b15        14370   T2   \n261444  073346196f12bd1b43f022c341e41b15        14370   T2   \n261447  a81ed872b140906f0464087b41a3df2b        14370   T2   \n261447  a81ed872b140906f0464087b41a3df2b        14370   T2   \n261447  a81ed872b140906f0464087b41a3df2b        14370   T2   \n261447  a81ed872b140906f0464087b41a3df2b        14370   T2   \n261447  a81ed872b140906f0464087b41a3df2b        14370   T2   \n261447  a81ed872b140906f0464087b41a3df2b        14370   T2   \n\n                     created_at  subject_id           image_name    x    y  \n261444  2020-10-02 20:51:26 UTC    47969478  SFM01-2-2-1_293.jpg  385  314  \n261444  2020-10-02 20:51:26 UTC    47969478  SFM01-2-2-1_293.jpg  297  333  \n261444  2020-10-02 20:51:26 UTC    47969478  SFM01-2-2-1_293.jpg  308  372  \n261444  2020-10-02 20:51:26 UTC    47969478  SFM01-2-2-1_293.jpg  357  391  \n261444  2020-10-02 20:51:26 UTC    47969478  SFM01-2-2-1_293.jpg  385  358  \n261444  2020-10-02 20:51:26 UTC    47969478  SFM01-2-2-1_293.jpg  334  335  \n261444  2020-10-02 20:51:26 UTC    47969478  SFM01-2-2-1_293.jpg  271  160  \n261444  2020-10-02 20:51:26 UTC    47969478  SFM01-2-2-1_293.jpg  247  172  \n261444  2020-10-02 20:51:26 UTC    47969478  SFM01-2-2-1_293.jpg  266  180  \n261447  2020-10-17 19:56:26 UTC    47969478  SFM01-2-2-1_293.jpg  372  398  \n261447  2020-10-17 19:56:26 UTC    47969478  SFM01-2-2-1_293.jpg  323  385  \n261447  2020-10-17 19:56:26 UTC    47969478  SFM01-2-2-1_293.jpg  396  315  \n261447  2020-10-17 19:56:26 UTC    47969478  SFM01-2-2-1_293.jpg  330  334  \n261447  2020-10-17 19:56:26 UTC    47969478  SFM01-2-2-1_293.jpg  291  317  \n261447  2020-10-17 19:56:26 UTC    47969478  SFM01-2-2-1_293.jpg  397  351  ",
      "text/html": "<div>\n<style scoped>\n    .dataframe tbody tr th:only-of-type {\n        vertical-align: middle;\n    }\n\n    .dataframe tbody tr th {\n        vertical-align: top;\n    }\n\n    .dataframe thead th {\n        text-align: right;\n    }\n</style>\n<table border=\"1\" class=\"dataframe\">\n  <thead>\n    <tr style=\"text-align: right;\">\n      <th></th>\n      <th>classification_id</th>\n      <th>user_name</th>\n      <th>user_id</th>\n      <th>workflow_id</th>\n      <th>task</th>\n      <th>created_at</th>\n      <th>subject_id</th>\n      <th>image_name</th>\n      <th>x</th>\n      <th>y</th>\n    </tr>\n  </thead>\n  <tbody>\n    <tr>\n      <th>261444</th>\n      <td>277523792</td>\n      <td>36b2040ae4dd151b163da8d682e46cf7</td>\n      <td>073346196f12bd1b43f022c341e41b15</td>\n      <td>14370</td>\n      <td>T2</td>\n      <td>2020-10-02 20:51:26 UTC</td>\n      <td>47969478</td>\n      <td>SFM01-2-2-1_293.jpg</td>\n      <td>385</td>\n      <td>314</td>\n    </tr>\n    <tr>\n      <th>261444</th>\n      <td>277523792</td>\n      <td>36b2040ae4dd151b163da8d682e46cf7</td>\n      <td>073346196f12bd1b43f022c341e41b15</td>\n      <td>14370</td>\n      <td>T2</td>\n      <td>2020-10-02 20:51:26 UTC</td>\n      <td>47969478</td>\n      <td>SFM01-2-2-1_293.jpg</td>\n      <td>297</td>\n      <td>333</td>\n    </tr>\n    <tr>\n      <th>261444</th>\n      <td>277523792</td>\n      <td>36b2040ae4dd151b163da8d682e46cf7</td>\n      <td>073346196f12bd1b43f022c341e41b15</td>\n      <td>14370</td>\n      <td>T2</td>\n      <td>2020-10-02 20:51:26 UTC</td>\n      <td>47969478</td>\n      <td>SFM01-2-2-1_293.jpg</td>\n      <td>308</td>\n      <td>372</td>\n    </tr>\n    <tr>\n      <th>261444</th>\n      <td>277523792</td>\n      <td>36b2040ae4dd151b163da8d682e46cf7</td>\n      <td>073346196f12bd1b43f022c341e41b15</td>\n      <td>14370</td>\n      <td>T2</td>\n      <td>2020-10-02 20:51:26 UTC</td>\n      <td>47969478</td>\n      <td>SFM01-2-2-1_293.jpg</td>\n      <td>357</td>\n      <td>391</td>\n    </tr>\n    <tr>\n      <th>261444</th>\n      <td>277523792</td>\n      <td>36b2040ae4dd151b163da8d682e46cf7</td>\n      <td>073346196f12bd1b43f022c341e41b15</td>\n      <td>14370</td>\n      <td>T2</td>\n      <td>2020-10-02 20:51:26 UTC</td>\n      <td>47969478</td>\n      <td>SFM01-2-2-1_293.jpg</td>\n      <td>385</td>\n      <td>358</td>\n    </tr>\n    <tr>\n      <th>261444</th>\n      <td>277523792</td>\n      <td>36b2040ae4dd151b163da8d682e46cf7</td>\n      <td>073346196f12bd1b43f022c341e41b15</td>\n      <td>14370</td>\n      <td>T2</td>\n      <td>2020-10-02 20:51:26 UTC</td>\n      <td>47969478</td>\n      <td>SFM01-2-2-1_293.jpg</td>\n      <td>334</td>\n      <td>335</td>\n    </tr>\n    <tr>\n      <th>261444</th>\n      <td>277523792</td>\n      <td>36b2040ae4dd151b163da8d682e46cf7</td>\n      <td>073346196f12bd1b43f022c341e41b15</td>\n      <td>14370</td>\n      <td>T2</td>\n      <td>2020-10-02 20:51:26 UTC</td>\n      <td>47969478</td>\n      <td>SFM01-2-2-1_293.jpg</td>\n      <td>271</td>\n      <td>160</td>\n    </tr>\n    <tr>\n      <th>261444</th>\n      <td>277523792</td>\n      <td>36b2040ae4dd151b163da8d682e46cf7</td>\n      <td>073346196f12bd1b43f022c341e41b15</td>\n      <td>14370</td>\n      <td>T2</td>\n      <td>2020-10-02 20:51:26 UTC</td>\n      <td>47969478</td>\n      <td>SFM01-2-2-1_293.jpg</td>\n      <td>247</td>\n      <td>172</td>\n    </tr>\n    <tr>\n      <th>261444</th>\n      <td>277523792</td>\n      <td>36b2040ae4dd151b163da8d682e46cf7</td>\n      <td>073346196f12bd1b43f022c341e41b15</td>\n      <td>14370</td>\n      <td>T2</td>\n      <td>2020-10-02 20:51:26 UTC</td>\n      <td>47969478</td>\n      <td>SFM01-2-2-1_293.jpg</td>\n      <td>266</td>\n      <td>180</td>\n    </tr>\n    <tr>\n      <th>261447</th>\n      <td>281167948</td>\n      <td>b0f5fa7789909ee79b0264f924b28554</td>\n      <td>a81ed872b140906f0464087b41a3df2b</td>\n      <td>14370</td>\n      <td>T2</td>\n      <td>2020-10-17 19:56:26 UTC</td>\n      <td>47969478</td>\n      <td>SFM01-2-2-1_293.jpg</td>\n      <td>372</td>\n      <td>398</td>\n    </tr>\n    <tr>\n      <th>261447</th>\n      <td>281167948</td>\n      <td>b0f5fa7789909ee79b0264f924b28554</td>\n      <td>a81ed872b140906f0464087b41a3df2b</td>\n      <td>14370</td>\n      <td>T2</td>\n      <td>2020-10-17 19:56:26 UTC</td>\n      <td>47969478</td>\n      <td>SFM01-2-2-1_293.jpg</td>\n      <td>323</td>\n      <td>385</td>\n    </tr>\n    <tr>\n      <th>261447</th>\n      <td>281167948</td>\n      <td>b0f5fa7789909ee79b0264f924b28554</td>\n      <td>a81ed872b140906f0464087b41a3df2b</td>\n      <td>14370</td>\n      <td>T2</td>\n      <td>2020-10-17 19:56:26 UTC</td>\n      <td>47969478</td>\n      <td>SFM01-2-2-1_293.jpg</td>\n      <td>396</td>\n      <td>315</td>\n    </tr>\n    <tr>\n      <th>261447</th>\n      <td>281167948</td>\n      <td>b0f5fa7789909ee79b0264f924b28554</td>\n      <td>a81ed872b140906f0464087b41a3df2b</td>\n      <td>14370</td>\n      <td>T2</td>\n      <td>2020-10-17 19:56:26 UTC</td>\n      <td>47969478</td>\n      <td>SFM01-2-2-1_293.jpg</td>\n      <td>330</td>\n      <td>334</td>\n    </tr>\n    <tr>\n      <th>261447</th>\n      <td>281167948</td>\n      <td>b0f5fa7789909ee79b0264f924b28554</td>\n      <td>a81ed872b140906f0464087b41a3df2b</td>\n      <td>14370</td>\n      <td>T2</td>\n      <td>2020-10-17 19:56:26 UTC</td>\n      <td>47969478</td>\n      <td>SFM01-2-2-1_293.jpg</td>\n      <td>291</td>\n      <td>317</td>\n    </tr>\n    <tr>\n      <th>261447</th>\n      <td>281167948</td>\n      <td>b0f5fa7789909ee79b0264f924b28554</td>\n      <td>a81ed872b140906f0464087b41a3df2b</td>\n      <td>14370</td>\n      <td>T2</td>\n      <td>2020-10-17 19:56:26 UTC</td>\n      <td>47969478</td>\n      <td>SFM01-2-2-1_293.jpg</td>\n      <td>397</td>\n      <td>351</td>\n    </tr>\n  </tbody>\n</table>\n</div>"
     },
     "execution_count": 27,
     "metadata": {},
     "output_type": "execute_result"
    }
   ],
   "source": [
    "### Looks the images in question\n",
    "\n",
    "subject_id_1 = 47968423 # median and mode 11, 11\n",
    "subject_id_2 = 47969478 # median and mode 4.5, 2\n",
    "df_panotes_point_extractor_r_ex_dropped[(df_panotes_point_extractor_r_ex_dropped.subject_id == subject_id_2)]"
   ],
   "metadata": {
    "collapsed": false,
    "ExecuteTime": {
     "end_time": "2024-04-10T19:36:50.019932Z",
     "start_time": "2024-04-10T19:36:50.011330Z"
    }
   },
   "id": "71db8866ca74ff92",
   "execution_count": 27
  },
  {
   "cell_type": "markdown",
   "id": "7ebc57977e1a1863",
   "metadata": {
    "collapsed": false
   },
   "source": [
    "## Analysing the differences between panotes extract and the custom data_prep method\n",
    "I get [2, 2, 7, 9] for the SFM01-2-2-1_293.jpg - 47969478 with my dataprep\n",
    "here I have [2, 7, 9] for the same image by only remove \"partial iguana\" but leaving \"could be an iguana, not sure\" in there"
   ]
  },
  {
   "cell_type": "markdown",
   "source": [
    "## Filter for the expert gold standard"
   ],
   "metadata": {
    "collapsed": false
   },
   "id": "d36f863bd853cfb5"
  },
  {
   "cell_type": "code",
   "execution_count": null,
   "id": "f4b295839f0b3c14",
   "metadata": {
    "collapsed": false
   },
   "outputs": [],
   "source": [
    "from zooniverse.utils.data_format import data_prep\n",
    "use_gold_standard_subset = \"expert_goldstandard\"\n",
    "ds_stats = data_prep(phase_tag=phase_tag, \n",
    "                         output_path=output_path, \n",
    "                         input_path=input_path,\n",
    "                         filter_combination=use_gold_standard_subset, \n",
    "                         config=config)\n",
    "\n",
    "ds_stats"
   ]
  },
  {
   "cell_type": "code",
   "execution_count": null,
   "id": "def0d8a0a3f902a0",
   "metadata": {
    "collapsed": false
   },
   "outputs": [],
   "source": [
    "df_flat_data_prep = pd.read_csv(config[\"flat_dataset\"], sep=\",\", index_col=0)\n",
    "df_flat_data_prep[df_flat_data_prep.subject_id == subject_id_2]"
   ]
  },
  {
   "cell_type": "code",
   "execution_count": null,
   "id": "b7488330cdad0437",
   "metadata": {
    "collapsed": false
   },
   "outputs": [],
   "source": [
    "df_merged_data_prep = pd.read_csv(config[\"merged_dataset\"], sep=\",\", index_col=0)\n",
    "df_merged_data_prep[df_merged_data_prep.subject_id == subject_id_2]"
   ]
  },
  {
   "cell_type": "code",
   "execution_count": null,
   "id": "2c06fa3faca35b31",
   "metadata": {
    "collapsed": false
   },
   "outputs": [],
   "source": [
    "sorted([int(x) for x in list(df_merged_data_prep[df_merged_data_prep.subject_id == subject_id_2].x)])"
   ]
  },
  {
   "cell_type": "code",
   "execution_count": null,
   "id": "61dff7b574279617",
   "metadata": {
    "collapsed": false
   },
   "outputs": [],
   "source": [
    "sorted([int(x) for x in list(df_panotes_point_extractor_r_ex_dropped.merged_x)])"
   ]
  },
  {
   "cell_type": "code",
   "execution_count": null,
   "id": "1ae990675a702f34",
   "metadata": {
    "collapsed": false
   },
   "outputs": [],
   "source": [
    "## both methods yield the same coordinate lists\n",
    "assert sorted([int(x) for x in list(df_merged_data_prep[df_merged_data_prep.subject_id == subject_id_2].x)]) == sorted([int(x) for x in list(df_panotes_point_extractor_r_ex_droped.merged_x)]), \"The x coordinates are not the same\""
   ]
  },
  {
   "cell_type": "code",
   "execution_count": null,
   "id": "696c2de0248282ff",
   "metadata": {
    "collapsed": false
   },
   "outputs": [],
   "source": []
  }
 ],
 "metadata": {
  "kernelspec": {
   "display_name": "Python 3 (ipykernel)",
   "language": "python",
   "name": "python3"
  },
  "language_info": {
   "codemirror_mode": {
    "name": "ipython",
    "version": 3
   },
   "file_extension": ".py",
   "mimetype": "text/x-python",
   "name": "python",
   "nbconvert_exporter": "python",
   "pygments_lexer": "ipython3",
   "version": "3.9.6"
  }
 },
 "nbformat": 4,
 "nbformat_minor": 5
}
