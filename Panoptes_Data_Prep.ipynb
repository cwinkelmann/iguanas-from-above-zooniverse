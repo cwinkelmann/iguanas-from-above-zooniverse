{
 "cells": [
  {
   "cell_type": "markdown",
   "id": "306034533dcead43",
   "metadata": {},
   "source": [
    "# Using the Panoptes Aggregation Tool from Zooniverse\n",
    "https://aggregation-caesar.zooniverse.org/Scripts.html#scripts\n",
    "\n",
    "This notebook combines the aggregation steps from the raw classification from zooniverse.\n",
    "Installed from github.\n"
   ]
  },
  {
   "cell_type": "code",
   "execution_count": 1,
   "id": "145bce94f139f8ae",
   "metadata": {
    "collapsed": false,
    "ExecuteTime": {
     "end_time": "2024-06-04T10:22:17.132253Z",
     "start_time": "2024-06-04T10:22:15.530090Z"
    }
   },
   "outputs": [
    {
     "data": {
      "text/plain": "{'annotations_source': PosixPath('/Users/christian/data/zooniverse/IguanasFromAbove/2023-10-15/iguanas-from-above-classifications.csv'),\n 'goldstandard_data': PosixPath('/Users/christian/data/zooniverse/Images/Zooniverse_Goldstandard_images/expert-GS-1stphase.csv'),\n 'gold_standard_image_subset': PosixPath('/Users/christian/data/zooniverse/Images/Zooniverse_Goldstandard_images/1-T2-GS-results-5th-0s.csv'),\n 'image_source': PosixPath('/Users/christian/data/zooniverse/Images/Zooniverse_Goldstandard_images/1st launch'),\n 'yes_no_dataset': PosixPath('/Users/christian/data/zooniverse/2024_04_24_analysis/Iguanas 1st launch/yes_no_dataset_Iguanas 1st launch.csv'),\n 'flat_dataset': PosixPath('/Users/christian/data/zooniverse/2024_04_24_analysis/Iguanas 1st launch/flat_dataset_Iguanas 1st launch.csv'),\n 'flat_panoptes_points': PosixPath('/Users/christian/data/zooniverse/2024_04_24_analysis/Iguanas 1st launch/flat_panoptes_points_Iguanas 1st launch.csv'),\n 'panoptes_question': PosixPath('/Users/christian/data/zooniverse/2024_04_24_analysis/Iguanas 1st launch/panoptes_question_Iguanas 1st launch.csv'),\n 'merged_dataset': PosixPath('/Users/christian/data/zooniverse/2024_04_24_analysis/Iguanas 1st launch/flat_dataset_filtered_Iguanas 1st launch.csv'),\n 'gold_standard_and_expert_count': PosixPath('/Users/christian/data/zooniverse/2024_04_24_analysis/Iguanas 1st launch/Iguanas 1st launch_gold_standard_and_expert_count.csv'),\n 'comparison_dataset': PosixPath('/Users/christian/data/zooniverse/2024_04_24_analysis/Iguanas 1st launch/Iguanas 1st launch_method_comparison.csv'),\n 'comparison_dataset_expert': PosixPath('/Users/christian/data/zooniverse/2024_04_24_analysis/Iguanas 1st launch/Iguanas 1st launch_method_comparison_expert.csv'),\n 'comparison_dataset_yes_no': PosixPath('/Users/christian/data/zooniverse/2024_04_24_analysis/Iguanas 1st launch/Iguanas 1st launch_method_comparison_yes_no.csv'),\n 'method_sums': PosixPath('/Users/christian/data/zooniverse/2024_04_24_analysis/Iguanas 1st launch/Iguanas 1st launch_method_sums.csv'),\n 'rmse_errors': PosixPath('/Users/christian/data/zooniverse/2024_04_24_analysis/Iguanas 1st launch/Iguanas 1st launch_rmse_errors.csv'),\n 'dbscan_hyperparam_grid': PosixPath('/Users/christian/data/zooniverse/2024_04_24_analysis/Iguanas 1st launch/Iguanas 1st launch_hyperparam_grid.csv')}"
     },
     "execution_count": 1,
     "metadata": {},
     "output_type": "execute_result"
    }
   ],
   "source": [
    "from zooniverse.config import get_config\n",
    "import pandas as pd\n",
    "from pathlib import Path\n",
    "\n",
    "### use either the subset of the subset\n",
    "phase_tag = \"Iguanas 1st launch\"\n",
    "data_folder = \"./data/phase_1\"\n",
    "\n",
    "# phase_tag = \"Iguanas 2nd launch\"\n",
    "# data_folder = \"./data/phase_2\"\n",
    "\n",
    "#phase_tag = \"Iguanas 3rd launch\"\n",
    "#data_folder = \"./data/phase_3\"\n",
    "\n",
    "input_path = Path(\"/Users/christian/data/zooniverse\")\n",
    "# use_gold_standard_subset = \"expert\" # Use the expert-GS-Xphase as the basis\n",
    "output_path = Path(\"/Users/christian/data/zooniverse/2024_04_24_analysis\").joinpath(phase_tag).resolve()\n",
    "\n",
    "workflow_id_p1 = 14370.0\n",
    "workflow_id_p2 = 20600.0\n",
    "workflow_id_p3 = 22040.0\n",
    "\n",
    "output_plot_path = output_path.joinpath(\"plots\")\n",
    "output_plot_path.mkdir(parents=True, exist_ok=True)\n",
    "\n",
    "reprocess = False\n",
    "\n",
    "config = get_config(phase_tag=phase_tag, input_path=input_path, output_path=output_path)\n",
    "config\n"
   ]
  },
  {
   "cell_type": "markdown",
   "id": "a76dff5a62b44242",
   "metadata": {
    "collapsed": false
   },
   "source": [
    "# Look into the subjects file\n",
    "This contains the mappings from the subject_id to the image file"
   ]
  },
  {
   "cell_type": "code",
   "execution_count": 2,
   "id": "ece7fc9bd3cf0a32",
   "metadata": {
    "collapsed": false,
    "ExecuteTime": {
     "end_time": "2024-06-04T10:22:17.350798Z",
     "start_time": "2024-06-04T10:22:17.133315Z"
    }
   },
   "outputs": [
    {
     "name": "stderr",
     "output_type": "stream",
     "text": [
      "/var/folders/2k/78nn7s4548986wsjh29rhj9w0000gn/T/ipykernel_84609/4174789115.py:2: DtypeWarning: Columns (7,8) have mixed types. Specify dtype option on import or set low_memory=False.\n",
      "  df_subjects = pd.read_csv(\"./data/zooniverse/iguanas-from-above-subjects.csv\", sep=\",\")\n"
     ]
    }
   ],
   "source": [
    "# read the original file\n",
    "df_subjects = pd.read_csv(\"./data/zooniverse/iguanas-from-above-subjects.csv\", sep=\",\")\n"
   ]
  },
  {
   "cell_type": "code",
   "execution_count": 3,
   "id": "53a025bc435647a6",
   "metadata": {
    "collapsed": false,
    "ExecuteTime": {
     "end_time": "2024-06-04T10:22:17.363280Z",
     "start_time": "2024-06-04T10:22:17.351867Z"
    }
   },
   "outputs": [],
   "source": [
    "# filter the subjects for only the images in the three phases\n",
    "\n",
    "df_subjects = df_subjects[df_subjects.workflow_id.isin([workflow_id_p1, workflow_id_p2, workflow_id_p3])]\n"
   ]
  },
  {
   "cell_type": "code",
   "execution_count": 4,
   "id": "dca9d371b7ae48d3",
   "metadata": {
    "collapsed": false,
    "ExecuteTime": {
     "end_time": "2024-06-04T10:22:17.437832Z",
     "start_time": "2024-06-04T10:22:17.364123Z"
    }
   },
   "outputs": [
    {
     "name": "stdout",
     "output_type": "stream",
     "text": [
      "{'0'}\n"
     ]
    }
   ],
   "source": [
    "# inspect the metadata\n",
    "import json\n",
    "def get_json_keys(json_str):\n",
    "    try:\n",
    "        json_obj = json.loads(json_str)\n",
    "        return list(json_obj.keys())\n",
    "    except json.JSONDecodeError:\n",
    "        return []\n",
    "\n",
    "# Apply the function to each row in the metadata column and collect all keys\n",
    "all_keys = df_subjects['locations'].apply(get_json_keys)\n",
    "\n",
    "# Flatten the list of lists and get unique keys\n",
    "unique_keys = set([key for sublist in all_keys for key in sublist])\n",
    "\n",
    "print(unique_keys)"
   ]
  },
  {
   "cell_type": "markdown",
   "id": "e7c8610ef9cd718c",
   "metadata": {
    "collapsed": false
   },
   "source": [
    "Clean up the subjects file for inconsistent naming."
   ]
  },
  {
   "cell_type": "code",
   "execution_count": 5,
   "id": "fd85800727c6759b",
   "metadata": {
    "collapsed": false,
    "ExecuteTime": {
     "end_time": "2024-06-04T10:22:17.885629Z",
     "start_time": "2024-06-04T10:22:17.439810Z"
    }
   },
   "outputs": [],
   "source": [
    "df_subjects[\"image_name\"] = df_subjects['metadata'].apply(lambda x: json.loads(x).get('Image_name') \n",
    "                                        or json.loads(x).get('image_name') \n",
    "                                        or json.loads(x).get('Filename')).sort_values(ascending=True)\n",
    "\n",
    "# 'site', 'flight', 'Flight', 'Site', 'flight_code' depict the same\n",
    "df_subjects[\"flight_code\"] = df_subjects['metadata'].apply(lambda x: json.loads(x).get('flight_code') \n",
    "                                        or json.loads(x).get('site') \n",
    "                                        or json.loads(x).get('flight')\n",
    "                                        or json.loads(x).get('Flight')\n",
    "                                        or json.loads(x).get('Site')).sort_values(ascending=True)\n",
    "\n",
    "df_subjects[\"url\"] = df_subjects['locations'].apply(lambda x: json.loads(x)[\"0\"])\n",
    "df_subjects[\"filepath\"] = None"
   ]
  },
  {
   "cell_type": "markdown",
   "source": [
    "helper function to download the images using the urls in the subjects file"
   ],
   "metadata": {
    "collapsed": false
   },
   "id": "7acf7e3a9e264a7b"
  },
  {
   "cell_type": "code",
   "execution_count": 6,
   "id": "befdfc6395b89a03",
   "metadata": {
    "collapsed": false,
    "ExecuteTime": {
     "end_time": "2024-06-04T10:22:17.964Z",
     "start_time": "2024-06-04T10:22:17.886322Z"
    }
   },
   "outputs": [
    {
     "name": "stderr",
     "output_type": "stream",
     "text": [
      "/Users/christian/PycharmProjects/iguanas-from-above-zooniverse/venv/lib/python3.9/site-packages/urllib3/__init__.py:34: NotOpenSSLWarning: urllib3 v2.0 only supports OpenSSL 1.1.1+, currently the 'ssl' module is compiled with 'LibreSSL 2.8.3'. See: https://github.com/urllib3/urllib3/issues/3020\n",
      "  warnings.warn(\n"
     ]
    }
   ],
   "source": [
    "from loguru import logger\n",
    "from time import sleep\n",
    "\n",
    "import requests\n",
    "\n",
    "def download_image(url, filename):\n",
    "    try:\n",
    "        response = requests.get(url)\n",
    "        if response.status_code == 200:\n",
    "            with open(filename, 'wb') as file:\n",
    "                file.write(response.content)\n",
    "            return True\n",
    "        else:\n",
    "            logger.warning(f\"Failed to download {url}\")\n",
    "            logger.error(response)\n",
    "            sleep(5)\n",
    "            return False\n",
    "    except Exception as e:\n",
    "        logger.error(e)\n",
    "        sleep(5)\n",
    "        return False"
   ]
  },
  {
   "cell_type": "markdown",
   "id": "b6577bcc8c9d6d2c",
   "metadata": {
    "collapsed": false
   },
   "source": [
    "# Panoptes Data Extraction from Zooniverse\n",
    "## Panoptes config\n",
    "### Create the configuration files automatically\n",
    "The configurations were changed to custom workflow versions."
   ]
  },
  {
   "cell_type": "code",
   "execution_count": 7,
   "id": "80589cdde7999f5b",
   "metadata": {
    "collapsed": false,
    "ExecuteTime": {
     "end_time": "2024-06-04T10:22:17.968067Z",
     "start_time": "2024-06-04T10:22:17.964929Z"
    }
   },
   "outputs": [],
   "source": [
    "# create a configuration file from the workflow\n",
    "#!mkdir ./data/phase_1\n",
    "#! panoptes_aggregation config /Users/christian/data/zooniverse/IguanasFromAbove/2023-10-15/iguanas-from-above-workflows.csv 14370 --min_version 0 --max_version 142.245 -d ./data/phase_1\n",
    "# \n",
    "#!mkdir ./data/phase_2\n",
    "#! panoptes_aggregation config /Users/christian/data/zooniverse/IguanasFromAbove/2023-10-15/iguanas-from-above-workflows.csv 20600 --min_version 0 --max_version 94.166 -d ./data/phase_2\n",
    "# \n",
    "#!mkdir ./data/phase_3\n",
    "#! panoptes_aggregation config /Users/christian/data/zooniverse/IguanasFromAbove/2023-10-15/iguanas-from-above-workflows.csv 22040 --min_version 0 --max_version 9.63 -d ./data/phase_3"
   ]
  },
  {
   "cell_type": "markdown",
   "id": "3926c1b2ca3745ea",
   "metadata": {
    "collapsed": false
   },
   "source": [
    "## Extract the data"
   ]
  },
  {
   "cell_type": "code",
   "execution_count": 8,
   "id": "d76485d137c3687",
   "metadata": {
    "collapsed": false,
    "ExecuteTime": {
     "end_time": "2024-06-04T10:26:25.538889Z",
     "start_time": "2024-06-04T10:22:17.969945Z"
    }
   },
   "outputs": [
    {
     "name": "stdout",
     "output_type": "stream",
     "text": [
      "mkdir: ./data/phase_1/V121.144: File exists\r\n",
      "mkdir: ./data/phase_1/V134.236: File exists\r\n",
      "/Users/christian/PycharmProjects/iguanas-from-above-zooniverse/venv/lib/python3.9/site-packages/panoptes_aggregation/scripts/extract_panoptes_csv.py:68: DtypeWarning: Columns (8,9) have mixed types. Specify dtype option on import or set low_memory=False.\r\n",
      "  classifications = pandas.read_csv(classification_csv_in, encoding='utf-8', dtype={'workflow_version': str})\r\n",
      "Extracting: 100% |#############################################| Time:  0:00:02\r\n",
      "/Users/christian/PycharmProjects/iguanas-from-above-zooniverse/venv/lib/python3.9/site-packages/panoptes_aggregation/scripts/extract_panoptes_csv.py:68: DtypeWarning: Columns (8,9) have mixed types. Specify dtype option on import or set low_memory=False.\r\n",
      "  classifications = pandas.read_csv(classification_csv_in, encoding='utf-8', dtype={'workflow_version': str})\r\n",
      "Extracting: 100% |#############################################| Time:  0:02:29\r\n"
     ]
    }
   ],
   "source": [
    "# phase 1\n",
    "if data_folder == \"./data/phase_1\":\n",
    "    !mkdir ./data/phase_1/V121.144\n",
    "    !mkdir ./data/phase_1/V134.236\n",
    "    \n",
    "    !panoptes_aggregation extract /Users/christian/data/zooniverse/IguanasFromAbove/2023-10-15/iguanas-from-above-classifications.csv -d ./data/phase_1/V121.144 ./data/phase_1/Extractor_config_workflow_14370_V121.144.yaml\n",
    "    \n",
    "    !panoptes_aggregation extract /Users/christian/data/zooniverse/IguanasFromAbove/2023-10-15/iguanas-from-above-classifications.csv -d ./data/phase_1/V134.236 ./data/phase_1/Extractor_config_workflow_14370_V134.236-1.yaml\n"
   ]
  },
  {
   "cell_type": "code",
   "execution_count": 9,
   "id": "7ab6b02efc27fd3e",
   "metadata": {
    "collapsed": false,
    "ExecuteTime": {
     "end_time": "2024-06-04T10:26:25.550439Z",
     "start_time": "2024-06-04T10:26:25.540839Z"
    }
   },
   "outputs": [],
   "source": [
    "if data_folder == \"./data/phase_2\" and reprocess == True:\n",
    "    # phase 2\n",
    "    \n",
    "    !mkdir ./data/phase_2/V89.162\n",
    "    !mkdir ./data/phase_2/V93.166\n",
    "    !mkdir ./data/phase_2/V94.166 \n",
    "    \n",
    "    !panoptes_aggregation extract /Users/christian/data/zooniverse/IguanasFromAbove/2023-10-15/iguanas-from-above-classifications.csv -d ./data/phase_2/V89.162 ./data/phase_2/Extractor_config_workflow_20600_V89.162.yaml\n",
    "    !panoptes_aggregation extract /Users/christian/data/zooniverse/IguanasFromAbove/2023-10-15/iguanas-from-above-classifications.csv -d ./data/phase_2/V93.166 ./data/phase_2/Extractor_config_workflow_20600_V93.166.yaml\n",
    "    !panoptes_aggregation extract /Users/christian/data/zooniverse/IguanasFromAbove/2023-10-15/iguanas-from-above-classifications.csv -d ./data/phase_2/V94.166 ./data/phase_2/Extractor_config_workflow_20600_V94.166.yaml\n",
    "\n"
   ]
  },
  {
   "cell_type": "code",
   "execution_count": 10,
   "id": "aa74703ed0c24bc5",
   "metadata": {
    "collapsed": false,
    "ExecuteTime": {
     "end_time": "2024-06-04T10:26:25.556160Z",
     "start_time": "2024-06-04T10:26:25.551324Z"
    }
   },
   "outputs": [],
   "source": [
    "if data_folder == \"./data/phase_3\":\n",
    "    !mkdir ./data/phase_3/V7.63\n",
    "    !mkdir ./data/phase_3/V9.63\n",
    "    \n",
    "    !panoptes_aggregation extract /Users/christian/data/zooniverse/IguanasFromAbove/2023-10-15/iguanas-from-above-classifications.csv -d ./data/phase_3/V7.63 ./data/phase_3/Extractor_config_workflow_22040_V7.63.yaml\n",
    "    !panoptes_aggregation extract /Users/christian/data/zooniverse/IguanasFromAbove/2023-10-15/iguanas-from-above-classifications.csv -d ./data/phase_3/V9.63 ./data/phase_3/Extractor_config_workflow_22040_V9.63.yaml"
   ]
  },
  {
   "cell_type": "markdown",
   "id": "af3dbedc1768b0ed",
   "metadata": {
    "collapsed": false
   },
   "source": [
    "\n",
    "\n"
   ]
  },
  {
   "cell_type": "markdown",
   "id": "627dcf3904529cee",
   "metadata": {
    "collapsed": false
   },
   "source": [
    "### Merge the single point and questions extractions"
   ]
  },
  {
   "cell_type": "code",
   "execution_count": 11,
   "id": "d8ea83ced96e1e6f",
   "metadata": {
    "collapsed": false,
    "ExecuteTime": {
     "end_time": "2024-06-04T10:26:29.381108Z",
     "start_time": "2024-06-04T10:26:25.556891Z"
    }
   },
   "outputs": [
    {
     "name": "stderr",
     "output_type": "stream",
     "text": [
      "/var/folders/2k/78nn7s4548986wsjh29rhj9w0000gn/T/ipykernel_84609/33411823.py:4: DtypeWarning: Columns (27,28,29,30,31,32) have mixed types. Specify dtype option on import or set low_memory=False.\n",
      "  df_panoptes_point_extractor_2 = pd.read_csv(f\"./data/phase_1/V134.236/point_extractor_by_frame_extractions.csv\", sep=\",\")\n"
     ]
    }
   ],
   "source": [
    "# phase 1\n",
    "if data_folder == \"./data/phase_1\":\n",
    "    df_panoptes_point_extractor_1 = pd.read_csv(f\"./data/phase_1/V121.144/point_extractor_by_frame_extractions.csv\", sep=\",\")\n",
    "    df_panoptes_point_extractor_2 = pd.read_csv(f\"./data/phase_1/V134.236/point_extractor_by_frame_extractions.csv\", sep=\",\")\n",
    "    df_panoptes_point_extractor_1[\"workflow_version\"] = \"121.144\"\n",
    "    df_panoptes_point_extractor_2[\"workflow_version\"] = \"134.236\"\n",
    "    \n",
    "    df_panoptes_question_1 = pd.read_csv(f\"{data_folder}/V121.144/question_extractor_extractions.csv\", sep=\",\")\n",
    "    df_panoptes_question_2 = pd.read_csv(f\"{data_folder}/V134.236/question_extractor_extractions.csv\", sep=\",\")\n",
    "    \n",
    "    df_panoptes_point_extractor = pd.concat([df_panoptes_point_extractor_1, df_panoptes_point_extractor_2], axis=0)\n",
    "    df_panoptes_question = pd.concat([df_panoptes_question_1, df_panoptes_question_2], axis=0)\n",
    "    \n",
    "    df_panoptes_point_extractor"
   ]
  },
  {
   "cell_type": "code",
   "execution_count": 12,
   "id": "84f01a4d5c7f0334",
   "metadata": {
    "collapsed": false,
    "ExecuteTime": {
     "end_time": "2024-06-04T10:26:29.386632Z",
     "start_time": "2024-06-04T10:26:29.382032Z"
    }
   },
   "outputs": [],
   "source": [
    "# # phase 2\n",
    "if data_folder == \"./data/phase_2\":\n",
    "    # read the rectangles annotations too there\n",
    "    df_panotes_rectangle_extractor_1 = pd.read_csv(f\"{data_folder}/V89.162/shape_extractor_rectangle_extractions.csv\", sep=\",\")\n",
    "    \n",
    "    df_panoptes_point_extractor_1 = pd.read_csv(f\"{data_folder}/V89.162/point_extractor_by_frame_extractions.csv\", sep=\",\")\n",
    "    df_panoptes_point_extractor_2 = pd.read_csv(f\"{data_folder}/V93.166/point_extractor_by_frame_extractions.csv\", sep=\",\")\n",
    "    df_panoptes_point_extractor_3 = pd.read_csv(f\"{data_folder}/V94.166/point_extractor_by_frame_extractions.csv\", sep=\",\")\n",
    "    \n",
    "    df_panoptes_point_extractor_1[\"workflow_version\"] = \"89.162\"\n",
    "    df_panoptes_point_extractor_2[\"workflow_version\"] = \"93.166\"\n",
    "    df_panoptes_point_extractor_3[\"workflow_version\"] = \"94.166\"\n",
    "    \n",
    "    df_panoptes_question_1 = pd.read_csv(f\"{data_folder}/V89.162/question_extractor_extractions.csv\", sep=\",\")\n",
    "    df_panoptes_question_2 = pd.read_csv(f\"{data_folder}/V93.166/question_extractor_extractions.csv\", sep=\",\")\n",
    "    df_panoptes_question_3 = pd.read_csv(f\"{data_folder}/V94.166/question_extractor_extractions.csv\", sep=\",\")\n",
    "    \n",
    "    df_panoptes_point_extractor = pd.concat([df_panoptes_point_extractor_1, df_panoptes_point_extractor_2, df_panoptes_point_extractor_3], axis=0)\n",
    "    df_panoptes_question = pd.concat([df_panoptes_question_1, df_panoptes_question_2, df_panoptes_question_3], axis=0)\n",
    "\n",
    "    df_panotes_rectangle_extractor_1"
   ]
  },
  {
   "cell_type": "code",
   "execution_count": 13,
   "id": "290588b8d957e42e",
   "metadata": {
    "collapsed": false,
    "ExecuteTime": {
     "end_time": "2024-06-04T10:26:29.390682Z",
     "start_time": "2024-06-04T10:26:29.387706Z"
    }
   },
   "outputs": [],
   "source": [
    "if data_folder == \"./data/phase_3\":\n",
    "    df_panoptes_point_extractor_1 = pd.read_csv(f\"{data_folder}/V7.63/point_extractor_by_frame_extractions.csv\", sep=\",\")\n",
    "    df_panoptes_point_extractor_2 = pd.read_csv(f\"{data_folder}/V9.63/point_extractor_by_frame_extractions.csv\", sep=\",\")\n",
    "    df_panoptes_point_extractor_1[\"workflow_version\"] = \"7.63\"\n",
    "    df_panoptes_point_extractor_2[\"workflow_version\"] = \"9.63\"\n",
    "\n",
    "    df_panoptes_question_1 = pd.read_csv(f\"{data_folder}/V7.63/question_extractor_extractions.csv\", sep=\",\")\n",
    "    df_panoptes_question_2 = pd.read_csv(f\"{data_folder}/V9.63/question_extractor_extractions.csv\", sep=\",\")\n",
    "\n",
    "    df_panoptes_point_extractor = pd.concat([df_panoptes_point_extractor_1, df_panoptes_point_extractor_2], axis=0)\n",
    "    df_panoptes_question = pd.concat([df_panoptes_question_1, df_panoptes_question_2], axis=0)\n"
   ]
  },
  {
   "cell_type": "code",
   "execution_count": 14,
   "id": "425530a8a9acdc49",
   "metadata": {
    "collapsed": false,
    "ExecuteTime": {
     "end_time": "2024-06-04T10:26:30.793997Z",
     "start_time": "2024-06-04T10:26:29.393931Z"
    }
   },
   "outputs": [
    {
     "data": {
      "text/plain": "         classification_id  workflow_id task               created_at  \\\n0                256866778        14370   T2  2020-07-01 10:24:23 UTC   \n1                256866778        14370   T4  2020-07-01 10:24:23 UTC   \n2                256866835        14370   T2  2020-07-01 10:24:40 UTC   \n3                256866835        14370   T4  2020-07-01 10:24:40 UTC   \n4                256866880        14370   T2  2020-07-01 10:24:52 UTC   \n...                    ...          ...  ...                      ...   \n1000385          383293740        14370   T4  2021-12-14 19:51:54 UTC   \n1000386          389328206        14370   T2  2022-01-13 14:13:01 UTC   \n1000387          389328206        14370   T4  2022-01-13 14:13:01 UTC   \n1000388          389328326        14370   T2  2022-01-13 14:13:18 UTC   \n1000389          389328326        14370   T4  2022-01-13 14:13:18 UTC   \n\n         subject_id                 extractor data.aggregation_version  \\\n0          44660635  point_extractor_by_frame                    4.1.0   \n1          44660635  point_extractor_by_frame                    4.1.0   \n2          44660558  point_extractor_by_frame                    4.1.0   \n3          44660558  point_extractor_by_frame                    4.1.0   \n4          44660712  point_extractor_by_frame                    4.1.0   \n...             ...                       ...                      ...   \n1000385    47970069  point_extractor_by_frame                    4.1.0   \n1000386    47970037  point_extractor_by_frame                    4.1.0   \n1000387    47970037  point_extractor_by_frame                    4.1.0   \n1000388    47969950  point_extractor_by_frame                    4.1.0   \n1000389    47969950  point_extractor_by_frame                    4.1.0   \n\n                          data.frame0.T4_tool5_x  \\\n0                                            NaN   \n1                                            NaN   \n2                                            NaN   \n3        [370.5579833984375, 295.52032470703125]   \n4                                            NaN   \n...                                          ...   \n1000385                                      NaN   \n1000386                                      NaN   \n1000387                                      NaN   \n1000388                                      NaN   \n1000389                                      NaN   \n\n                         data.frame0.T4_tool5_y data.frame0.T4_tool3_x  ...  \\\n0                                           NaN                    NaN  ...   \n1                                           NaN                    NaN  ...   \n2                                           NaN                    NaN  ...   \n3        [186.3606414794922, 54.69659423828125]                    NaN  ...   \n4                                           NaN                    NaN  ...   \n...                                         ...                    ...  ...   \n1000385                                     NaN                    NaN  ...   \n1000386                                     NaN                    NaN  ...   \n1000387                                     NaN                    NaN  ...   \n1000388                                     NaN                    NaN  ...   \n1000389                                     NaN                    NaN  ...   \n\n        data.frame0.T4_tool0_y data.frame0.T2_tool1_x data.frame0.T2_tool1_y  \\\n0                          NaN                    NaN                    NaN   \n1                          NaN                    NaN                    NaN   \n2                          NaN                    NaN                    NaN   \n3                          NaN                    NaN                    NaN   \n4                          NaN                    NaN                    NaN   \n...                        ...                    ...                    ...   \n1000385                    NaN                    NaN                    NaN   \n1000386                    NaN                    NaN                    NaN   \n1000387                    NaN                    NaN                    NaN   \n1000388                    NaN                    NaN                    NaN   \n1000389                    NaN                    NaN                    NaN   \n\n        data.frame0.T4_tool1_x data.frame0.T4_tool1_y data.frame0.T4_tool2_x  \\\n0                          NaN                    NaN                    NaN   \n1                          NaN                    NaN                    NaN   \n2                          NaN                    NaN                    NaN   \n3                          NaN                    NaN                    NaN   \n4                          NaN                    NaN                    NaN   \n...                        ...                    ...                    ...   \n1000385                    NaN                    NaN                    NaN   \n1000386                    NaN                    NaN                    NaN   \n1000387                    NaN                    NaN                    NaN   \n1000388                    NaN                    NaN                    NaN   \n1000389                    NaN                    NaN                    NaN   \n\n        data.frame0.T4_tool2_y workflow_version data.frame0.T4_tool6_x  \\\n0                          NaN          121.144                    NaN   \n1                          NaN          121.144                    NaN   \n2                          NaN          121.144                    NaN   \n3                          NaN          121.144                    NaN   \n4                          NaN          121.144                    NaN   \n...                        ...              ...                    ...   \n1000385                    NaN          134.236                    NaN   \n1000386                    NaN          134.236                    NaN   \n1000387                    NaN          134.236                    NaN   \n1000388                    NaN          134.236                    NaN   \n1000389                    NaN          134.236                    NaN   \n\n        data.frame0.T4_tool6_y  \n0                          NaN  \n1                          NaN  \n2                          NaN  \n3                          NaN  \n4                          NaN  \n...                        ...  \n1000385                    NaN  \n1000386                    NaN  \n1000387                    NaN  \n1000388                    NaN  \n1000389                    NaN  \n\n[1019796 rows x 32 columns]",
      "text/html": "<div>\n<style scoped>\n    .dataframe tbody tr th:only-of-type {\n        vertical-align: middle;\n    }\n\n    .dataframe tbody tr th {\n        vertical-align: top;\n    }\n\n    .dataframe thead th {\n        text-align: right;\n    }\n</style>\n<table border=\"1\" class=\"dataframe\">\n  <thead>\n    <tr style=\"text-align: right;\">\n      <th></th>\n      <th>classification_id</th>\n      <th>workflow_id</th>\n      <th>task</th>\n      <th>created_at</th>\n      <th>subject_id</th>\n      <th>extractor</th>\n      <th>data.aggregation_version</th>\n      <th>data.frame0.T4_tool5_x</th>\n      <th>data.frame0.T4_tool5_y</th>\n      <th>data.frame0.T4_tool3_x</th>\n      <th>...</th>\n      <th>data.frame0.T4_tool0_y</th>\n      <th>data.frame0.T2_tool1_x</th>\n      <th>data.frame0.T2_tool1_y</th>\n      <th>data.frame0.T4_tool1_x</th>\n      <th>data.frame0.T4_tool1_y</th>\n      <th>data.frame0.T4_tool2_x</th>\n      <th>data.frame0.T4_tool2_y</th>\n      <th>workflow_version</th>\n      <th>data.frame0.T4_tool6_x</th>\n      <th>data.frame0.T4_tool6_y</th>\n    </tr>\n  </thead>\n  <tbody>\n    <tr>\n      <th>0</th>\n      <td>256866778</td>\n      <td>14370</td>\n      <td>T2</td>\n      <td>2020-07-01 10:24:23 UTC</td>\n      <td>44660635</td>\n      <td>point_extractor_by_frame</td>\n      <td>4.1.0</td>\n      <td>NaN</td>\n      <td>NaN</td>\n      <td>NaN</td>\n      <td>...</td>\n      <td>NaN</td>\n      <td>NaN</td>\n      <td>NaN</td>\n      <td>NaN</td>\n      <td>NaN</td>\n      <td>NaN</td>\n      <td>NaN</td>\n      <td>121.144</td>\n      <td>NaN</td>\n      <td>NaN</td>\n    </tr>\n    <tr>\n      <th>1</th>\n      <td>256866778</td>\n      <td>14370</td>\n      <td>T4</td>\n      <td>2020-07-01 10:24:23 UTC</td>\n      <td>44660635</td>\n      <td>point_extractor_by_frame</td>\n      <td>4.1.0</td>\n      <td>NaN</td>\n      <td>NaN</td>\n      <td>NaN</td>\n      <td>...</td>\n      <td>NaN</td>\n      <td>NaN</td>\n      <td>NaN</td>\n      <td>NaN</td>\n      <td>NaN</td>\n      <td>NaN</td>\n      <td>NaN</td>\n      <td>121.144</td>\n      <td>NaN</td>\n      <td>NaN</td>\n    </tr>\n    <tr>\n      <th>2</th>\n      <td>256866835</td>\n      <td>14370</td>\n      <td>T2</td>\n      <td>2020-07-01 10:24:40 UTC</td>\n      <td>44660558</td>\n      <td>point_extractor_by_frame</td>\n      <td>4.1.0</td>\n      <td>NaN</td>\n      <td>NaN</td>\n      <td>NaN</td>\n      <td>...</td>\n      <td>NaN</td>\n      <td>NaN</td>\n      <td>NaN</td>\n      <td>NaN</td>\n      <td>NaN</td>\n      <td>NaN</td>\n      <td>NaN</td>\n      <td>121.144</td>\n      <td>NaN</td>\n      <td>NaN</td>\n    </tr>\n    <tr>\n      <th>3</th>\n      <td>256866835</td>\n      <td>14370</td>\n      <td>T4</td>\n      <td>2020-07-01 10:24:40 UTC</td>\n      <td>44660558</td>\n      <td>point_extractor_by_frame</td>\n      <td>4.1.0</td>\n      <td>[370.5579833984375, 295.52032470703125]</td>\n      <td>[186.3606414794922, 54.69659423828125]</td>\n      <td>NaN</td>\n      <td>...</td>\n      <td>NaN</td>\n      <td>NaN</td>\n      <td>NaN</td>\n      <td>NaN</td>\n      <td>NaN</td>\n      <td>NaN</td>\n      <td>NaN</td>\n      <td>121.144</td>\n      <td>NaN</td>\n      <td>NaN</td>\n    </tr>\n    <tr>\n      <th>4</th>\n      <td>256866880</td>\n      <td>14370</td>\n      <td>T2</td>\n      <td>2020-07-01 10:24:52 UTC</td>\n      <td>44660712</td>\n      <td>point_extractor_by_frame</td>\n      <td>4.1.0</td>\n      <td>NaN</td>\n      <td>NaN</td>\n      <td>NaN</td>\n      <td>...</td>\n      <td>NaN</td>\n      <td>NaN</td>\n      <td>NaN</td>\n      <td>NaN</td>\n      <td>NaN</td>\n      <td>NaN</td>\n      <td>NaN</td>\n      <td>121.144</td>\n      <td>NaN</td>\n      <td>NaN</td>\n    </tr>\n    <tr>\n      <th>...</th>\n      <td>...</td>\n      <td>...</td>\n      <td>...</td>\n      <td>...</td>\n      <td>...</td>\n      <td>...</td>\n      <td>...</td>\n      <td>...</td>\n      <td>...</td>\n      <td>...</td>\n      <td>...</td>\n      <td>...</td>\n      <td>...</td>\n      <td>...</td>\n      <td>...</td>\n      <td>...</td>\n      <td>...</td>\n      <td>...</td>\n      <td>...</td>\n      <td>...</td>\n      <td>...</td>\n    </tr>\n    <tr>\n      <th>1000385</th>\n      <td>383293740</td>\n      <td>14370</td>\n      <td>T4</td>\n      <td>2021-12-14 19:51:54 UTC</td>\n      <td>47970069</td>\n      <td>point_extractor_by_frame</td>\n      <td>4.1.0</td>\n      <td>NaN</td>\n      <td>NaN</td>\n      <td>NaN</td>\n      <td>...</td>\n      <td>NaN</td>\n      <td>NaN</td>\n      <td>NaN</td>\n      <td>NaN</td>\n      <td>NaN</td>\n      <td>NaN</td>\n      <td>NaN</td>\n      <td>134.236</td>\n      <td>NaN</td>\n      <td>NaN</td>\n    </tr>\n    <tr>\n      <th>1000386</th>\n      <td>389328206</td>\n      <td>14370</td>\n      <td>T2</td>\n      <td>2022-01-13 14:13:01 UTC</td>\n      <td>47970037</td>\n      <td>point_extractor_by_frame</td>\n      <td>4.1.0</td>\n      <td>NaN</td>\n      <td>NaN</td>\n      <td>NaN</td>\n      <td>...</td>\n      <td>NaN</td>\n      <td>NaN</td>\n      <td>NaN</td>\n      <td>NaN</td>\n      <td>NaN</td>\n      <td>NaN</td>\n      <td>NaN</td>\n      <td>134.236</td>\n      <td>NaN</td>\n      <td>NaN</td>\n    </tr>\n    <tr>\n      <th>1000387</th>\n      <td>389328206</td>\n      <td>14370</td>\n      <td>T4</td>\n      <td>2022-01-13 14:13:01 UTC</td>\n      <td>47970037</td>\n      <td>point_extractor_by_frame</td>\n      <td>4.1.0</td>\n      <td>NaN</td>\n      <td>NaN</td>\n      <td>NaN</td>\n      <td>...</td>\n      <td>NaN</td>\n      <td>NaN</td>\n      <td>NaN</td>\n      <td>NaN</td>\n      <td>NaN</td>\n      <td>NaN</td>\n      <td>NaN</td>\n      <td>134.236</td>\n      <td>NaN</td>\n      <td>NaN</td>\n    </tr>\n    <tr>\n      <th>1000388</th>\n      <td>389328326</td>\n      <td>14370</td>\n      <td>T2</td>\n      <td>2022-01-13 14:13:18 UTC</td>\n      <td>47969950</td>\n      <td>point_extractor_by_frame</td>\n      <td>4.1.0</td>\n      <td>NaN</td>\n      <td>NaN</td>\n      <td>NaN</td>\n      <td>...</td>\n      <td>NaN</td>\n      <td>NaN</td>\n      <td>NaN</td>\n      <td>NaN</td>\n      <td>NaN</td>\n      <td>NaN</td>\n      <td>NaN</td>\n      <td>134.236</td>\n      <td>NaN</td>\n      <td>NaN</td>\n    </tr>\n    <tr>\n      <th>1000389</th>\n      <td>389328326</td>\n      <td>14370</td>\n      <td>T4</td>\n      <td>2022-01-13 14:13:18 UTC</td>\n      <td>47969950</td>\n      <td>point_extractor_by_frame</td>\n      <td>4.1.0</td>\n      <td>NaN</td>\n      <td>NaN</td>\n      <td>NaN</td>\n      <td>...</td>\n      <td>NaN</td>\n      <td>NaN</td>\n      <td>NaN</td>\n      <td>NaN</td>\n      <td>NaN</td>\n      <td>NaN</td>\n      <td>NaN</td>\n      <td>134.236</td>\n      <td>NaN</td>\n      <td>NaN</td>\n    </tr>\n  </tbody>\n</table>\n<p>1019796 rows × 32 columns</p>\n</div>"
     },
     "execution_count": 14,
     "metadata": {},
     "output_type": "execute_result"
    }
   ],
   "source": [
    "df_panoptes_point_extractor.drop(columns=[\"user_name\", \"user_id\"], inplace=False)"
   ]
  },
  {
   "cell_type": "code",
   "outputs": [],
   "source": [],
   "metadata": {
    "collapsed": false,
    "ExecuteTime": {
     "end_time": "2024-06-04T10:26:30.796301Z",
     "start_time": "2024-06-04T10:26:30.794840Z"
    }
   },
   "id": "511daaaa9cf60448",
   "execution_count": 14
  },
  {
   "cell_type": "code",
   "execution_count": 15,
   "id": "a1e2e015fdba1cb",
   "metadata": {
    "collapsed": false,
    "ExecuteTime": {
     "end_time": "2024-06-04T10:26:32.981864Z",
     "start_time": "2024-06-04T10:26:30.796990Z"
    }
   },
   "outputs": [],
   "source": [
    "# join the image name from the subjects file\n",
    "df_panoptes_point_extractor = df_panoptes_point_extractor.merge(df_subjects[[\"subject_id\", \"image_name\"]], left_on=\"subject_id\", right_on=\"subject_id\")\n",
    "df_panoptes_point_extractor = df_panoptes_point_extractor[df_panoptes_point_extractor.subject_id.isin(df_subjects.subject_id)]\n",
    "\n"
   ]
  },
  {
   "cell_type": "markdown",
   "id": "98655d7df058a64d",
   "metadata": {
    "collapsed": false
   },
   "source": [
    "## Anonymise the data"
   ]
  },
  {
   "cell_type": "code",
   "execution_count": 16,
   "id": "7053c0a8476989c3",
   "metadata": {
    "collapsed": false,
    "ExecuteTime": {
     "end_time": "2024-06-04T10:26:41.454908Z",
     "start_time": "2024-06-04T10:26:32.983718Z"
    }
   },
   "outputs": [],
   "source": [
    "from hashlib import blake2b\n",
    "\n",
    "df_panoptes_point_extractor[\"user_id\"] = df_panoptes_point_extractor['user_id'].apply(lambda x: blake2b(str(x).encode(), digest_size=16).hexdigest() if not pd.isnull(x) else x)\n",
    "# Anonymize 'user_name' by hashing\n",
    "df_panoptes_point_extractor['user_name'] = df_panoptes_point_extractor['user_name'].apply(lambda x: blake2b(x.encode(), digest_size=16).hexdigest() if isinstance(x, str) else x)\n",
    "\n",
    "df_panoptes_question[\"user_id\"] = df_panoptes_question['user_id'].apply(lambda x: blake2b(str(x).encode(), digest_size=16).hexdigest() if not pd.isnull(x) else x)\n",
    "# Anonymize 'user_name' by hashing\n",
    "df_panoptes_question['user_name'] = df_panoptes_question['user_name'].apply(lambda x: blake2b(x.encode(), digest_size=16).hexdigest() if isinstance(x, str) else x)"
   ]
  },
  {
   "cell_type": "code",
   "outputs": [
    {
     "data": {
      "text/plain": "subject_id\n47970166    81\n44660571    64\n44660669    58\n44660650    57\n44660617    56\n            ..\n47971722     1\n47980697     1\n47980695     1\n47980691     1\n47980069     1\nLength: 9873, dtype: int64"
     },
     "execution_count": 17,
     "metadata": {},
     "output_type": "execute_result"
    }
   ],
   "source": [
    "df_panoptes_question[df_panoptes_question[\"data.yes\"] == 1.0].groupby(\"subject_id\").size().sort_values(ascending=False)"
   ],
   "metadata": {
    "collapsed": false,
    "ExecuteTime": {
     "end_time": "2024-06-04T10:26:41.486370Z",
     "start_time": "2024-06-04T10:26:41.457296Z"
    }
   },
   "id": "c288fda1be55cfd2",
   "execution_count": 17
  },
  {
   "cell_type": "markdown",
   "id": "87cd528b792893ae",
   "metadata": {
    "collapsed": false
   },
   "source": [
    "## Determine the amount of yes Answers for \"Is there an Iguana\""
   ]
  },
  {
   "cell_type": "code",
   "execution_count": 18,
   "id": "f06344cdbad0cb10",
   "metadata": {
    "collapsed": false,
    "ExecuteTime": {
     "end_time": "2024-06-04T10:26:41.512859Z",
     "start_time": "2024-06-04T10:26:41.488796Z"
    }
   },
   "outputs": [
    {
     "data": {
      "text/plain": "        classification_id                         user_name  \\\n0               256866778  386fc0ec047b7e259744e72e8e64b9f9   \n1               256866835  386fc0ec047b7e259744e72e8e64b9f9   \n2               256866880  386fc0ec047b7e259744e72e8e64b9f9   \n3               256867624  386fc0ec047b7e259744e72e8e64b9f9   \n4               256867676  386fc0ec047b7e259744e72e8e64b9f9   \n...                   ...                               ...   \n500190          383293694  cfbf6573c2dcd1386dfce451d9f6be93   \n500191          383293720  cfbf6573c2dcd1386dfce451d9f6be93   \n500192          383293740  cfbf6573c2dcd1386dfce451d9f6be93   \n500193          389328206  aa5f2961151e502de5ff29fb40337fe5   \n500194          389328326  aa5f2961151e502de5ff29fb40337fe5   \n\n                                 user_id  workflow_id task  \\\n0       ea57b1088a10fa7fef30ed0b344e2ca3        14370   T0   \n1       ea57b1088a10fa7fef30ed0b344e2ca3        14370   T0   \n2       ea57b1088a10fa7fef30ed0b344e2ca3        14370   T0   \n3       ea57b1088a10fa7fef30ed0b344e2ca3        14370   T0   \n4       ea57b1088a10fa7fef30ed0b344e2ca3        14370   T0   \n...                                  ...          ...  ...   \n500190  945fed5a4ee1a07cb3b13647e3c1f8e9        14370   T0   \n500191  945fed5a4ee1a07cb3b13647e3c1f8e9        14370   T0   \n500192  945fed5a4ee1a07cb3b13647e3c1f8e9        14370   T0   \n500193                               NaN        14370   T0   \n500194                               NaN        14370   T0   \n\n                     created_at  subject_id           extractor  data.no  \\\n0       2020-07-01 10:24:23 UTC    44660635  question_extractor      1.0   \n1       2020-07-01 10:24:40 UTC    44660558  question_extractor      1.0   \n2       2020-07-01 10:24:52 UTC    44660712  question_extractor      1.0   \n3       2020-07-01 10:29:11 UTC    44660654  question_extractor      1.0   \n4       2020-07-01 10:29:26 UTC    44660552  question_extractor      1.0   \n...                         ...         ...                 ...      ...   \n500190  2021-12-14 19:51:44 UTC    47970089  question_extractor      1.0   \n500191  2021-12-14 19:51:50 UTC    47970146  question_extractor      1.0   \n500192  2021-12-14 19:51:54 UTC    47970069  question_extractor      1.0   \n500193  2022-01-13 14:13:01 UTC    47970037  question_extractor      1.0   \n500194  2022-01-13 14:13:18 UTC    47969950  question_extractor      1.0   \n\n       data.aggregation_version  data.photo-too-blurry-or-dark  data.yes  \n0                         4.1.0                            NaN       NaN  \n1                         4.1.0                            NaN       NaN  \n2                         4.1.0                            NaN       NaN  \n3                         4.1.0                            NaN       NaN  \n4                         4.1.0                            NaN       NaN  \n...                         ...                            ...       ...  \n500190                    4.1.0                            NaN       NaN  \n500191                    4.1.0                            NaN       NaN  \n500192                    4.1.0                            NaN       NaN  \n500193                    4.1.0                            NaN       NaN  \n500194                    4.1.0                            NaN       NaN  \n\n[509898 rows x 12 columns]",
      "text/html": "<div>\n<style scoped>\n    .dataframe tbody tr th:only-of-type {\n        vertical-align: middle;\n    }\n\n    .dataframe tbody tr th {\n        vertical-align: top;\n    }\n\n    .dataframe thead th {\n        text-align: right;\n    }\n</style>\n<table border=\"1\" class=\"dataframe\">\n  <thead>\n    <tr style=\"text-align: right;\">\n      <th></th>\n      <th>classification_id</th>\n      <th>user_name</th>\n      <th>user_id</th>\n      <th>workflow_id</th>\n      <th>task</th>\n      <th>created_at</th>\n      <th>subject_id</th>\n      <th>extractor</th>\n      <th>data.no</th>\n      <th>data.aggregation_version</th>\n      <th>data.photo-too-blurry-or-dark</th>\n      <th>data.yes</th>\n    </tr>\n  </thead>\n  <tbody>\n    <tr>\n      <th>0</th>\n      <td>256866778</td>\n      <td>386fc0ec047b7e259744e72e8e64b9f9</td>\n      <td>ea57b1088a10fa7fef30ed0b344e2ca3</td>\n      <td>14370</td>\n      <td>T0</td>\n      <td>2020-07-01 10:24:23 UTC</td>\n      <td>44660635</td>\n      <td>question_extractor</td>\n      <td>1.0</td>\n      <td>4.1.0</td>\n      <td>NaN</td>\n      <td>NaN</td>\n    </tr>\n    <tr>\n      <th>1</th>\n      <td>256866835</td>\n      <td>386fc0ec047b7e259744e72e8e64b9f9</td>\n      <td>ea57b1088a10fa7fef30ed0b344e2ca3</td>\n      <td>14370</td>\n      <td>T0</td>\n      <td>2020-07-01 10:24:40 UTC</td>\n      <td>44660558</td>\n      <td>question_extractor</td>\n      <td>1.0</td>\n      <td>4.1.0</td>\n      <td>NaN</td>\n      <td>NaN</td>\n    </tr>\n    <tr>\n      <th>2</th>\n      <td>256866880</td>\n      <td>386fc0ec047b7e259744e72e8e64b9f9</td>\n      <td>ea57b1088a10fa7fef30ed0b344e2ca3</td>\n      <td>14370</td>\n      <td>T0</td>\n      <td>2020-07-01 10:24:52 UTC</td>\n      <td>44660712</td>\n      <td>question_extractor</td>\n      <td>1.0</td>\n      <td>4.1.0</td>\n      <td>NaN</td>\n      <td>NaN</td>\n    </tr>\n    <tr>\n      <th>3</th>\n      <td>256867624</td>\n      <td>386fc0ec047b7e259744e72e8e64b9f9</td>\n      <td>ea57b1088a10fa7fef30ed0b344e2ca3</td>\n      <td>14370</td>\n      <td>T0</td>\n      <td>2020-07-01 10:29:11 UTC</td>\n      <td>44660654</td>\n      <td>question_extractor</td>\n      <td>1.0</td>\n      <td>4.1.0</td>\n      <td>NaN</td>\n      <td>NaN</td>\n    </tr>\n    <tr>\n      <th>4</th>\n      <td>256867676</td>\n      <td>386fc0ec047b7e259744e72e8e64b9f9</td>\n      <td>ea57b1088a10fa7fef30ed0b344e2ca3</td>\n      <td>14370</td>\n      <td>T0</td>\n      <td>2020-07-01 10:29:26 UTC</td>\n      <td>44660552</td>\n      <td>question_extractor</td>\n      <td>1.0</td>\n      <td>4.1.0</td>\n      <td>NaN</td>\n      <td>NaN</td>\n    </tr>\n    <tr>\n      <th>...</th>\n      <td>...</td>\n      <td>...</td>\n      <td>...</td>\n      <td>...</td>\n      <td>...</td>\n      <td>...</td>\n      <td>...</td>\n      <td>...</td>\n      <td>...</td>\n      <td>...</td>\n      <td>...</td>\n      <td>...</td>\n    </tr>\n    <tr>\n      <th>500190</th>\n      <td>383293694</td>\n      <td>cfbf6573c2dcd1386dfce451d9f6be93</td>\n      <td>945fed5a4ee1a07cb3b13647e3c1f8e9</td>\n      <td>14370</td>\n      <td>T0</td>\n      <td>2021-12-14 19:51:44 UTC</td>\n      <td>47970089</td>\n      <td>question_extractor</td>\n      <td>1.0</td>\n      <td>4.1.0</td>\n      <td>NaN</td>\n      <td>NaN</td>\n    </tr>\n    <tr>\n      <th>500191</th>\n      <td>383293720</td>\n      <td>cfbf6573c2dcd1386dfce451d9f6be93</td>\n      <td>945fed5a4ee1a07cb3b13647e3c1f8e9</td>\n      <td>14370</td>\n      <td>T0</td>\n      <td>2021-12-14 19:51:50 UTC</td>\n      <td>47970146</td>\n      <td>question_extractor</td>\n      <td>1.0</td>\n      <td>4.1.0</td>\n      <td>NaN</td>\n      <td>NaN</td>\n    </tr>\n    <tr>\n      <th>500192</th>\n      <td>383293740</td>\n      <td>cfbf6573c2dcd1386dfce451d9f6be93</td>\n      <td>945fed5a4ee1a07cb3b13647e3c1f8e9</td>\n      <td>14370</td>\n      <td>T0</td>\n      <td>2021-12-14 19:51:54 UTC</td>\n      <td>47970069</td>\n      <td>question_extractor</td>\n      <td>1.0</td>\n      <td>4.1.0</td>\n      <td>NaN</td>\n      <td>NaN</td>\n    </tr>\n    <tr>\n      <th>500193</th>\n      <td>389328206</td>\n      <td>aa5f2961151e502de5ff29fb40337fe5</td>\n      <td>NaN</td>\n      <td>14370</td>\n      <td>T0</td>\n      <td>2022-01-13 14:13:01 UTC</td>\n      <td>47970037</td>\n      <td>question_extractor</td>\n      <td>1.0</td>\n      <td>4.1.0</td>\n      <td>NaN</td>\n      <td>NaN</td>\n    </tr>\n    <tr>\n      <th>500194</th>\n      <td>389328326</td>\n      <td>aa5f2961151e502de5ff29fb40337fe5</td>\n      <td>NaN</td>\n      <td>14370</td>\n      <td>T0</td>\n      <td>2022-01-13 14:13:18 UTC</td>\n      <td>47969950</td>\n      <td>question_extractor</td>\n      <td>1.0</td>\n      <td>4.1.0</td>\n      <td>NaN</td>\n      <td>NaN</td>\n    </tr>\n  </tbody>\n</table>\n<p>509898 rows × 12 columns</p>\n</div>"
     },
     "execution_count": 18,
     "metadata": {},
     "output_type": "execute_result"
    }
   ],
   "source": [
    "df_panoptes_question"
   ]
  },
  {
   "cell_type": "code",
   "execution_count": 19,
   "id": "9974ba73721e5802",
   "metadata": {
    "collapsed": false,
    "ExecuteTime": {
     "end_time": "2024-06-04T10:26:41.751057Z",
     "start_time": "2024-06-04T10:26:41.514893Z"
    }
   },
   "outputs": [
    {
     "data": {
      "text/plain": "       subject_id  data.no  data.yes\n190      47967468     18.0       2.0\n191      47967469     19.0       0.0\n192      47967470     20.0       0.0\n193      47967471     20.0       0.0\n194      47967472     18.0       0.0\n...           ...      ...       ...\n24558    48034473     20.0       0.0\n24559    48034474     18.0       0.0\n24560    48034475     18.0       0.0\n24561    48034476     18.0       0.0\n24562    48034477     17.0       0.0\n\n[24373 rows x 3 columns]",
      "text/html": "<div>\n<style scoped>\n    .dataframe tbody tr th:only-of-type {\n        vertical-align: middle;\n    }\n\n    .dataframe tbody tr th {\n        vertical-align: top;\n    }\n\n    .dataframe thead th {\n        text-align: right;\n    }\n</style>\n<table border=\"1\" class=\"dataframe\">\n  <thead>\n    <tr style=\"text-align: right;\">\n      <th></th>\n      <th>subject_id</th>\n      <th>data.no</th>\n      <th>data.yes</th>\n    </tr>\n  </thead>\n  <tbody>\n    <tr>\n      <th>190</th>\n      <td>47967468</td>\n      <td>18.0</td>\n      <td>2.0</td>\n    </tr>\n    <tr>\n      <th>191</th>\n      <td>47967469</td>\n      <td>19.0</td>\n      <td>0.0</td>\n    </tr>\n    <tr>\n      <th>192</th>\n      <td>47967470</td>\n      <td>20.0</td>\n      <td>0.0</td>\n    </tr>\n    <tr>\n      <th>193</th>\n      <td>47967471</td>\n      <td>20.0</td>\n      <td>0.0</td>\n    </tr>\n    <tr>\n      <th>194</th>\n      <td>47967472</td>\n      <td>18.0</td>\n      <td>0.0</td>\n    </tr>\n    <tr>\n      <th>...</th>\n      <td>...</td>\n      <td>...</td>\n      <td>...</td>\n    </tr>\n    <tr>\n      <th>24558</th>\n      <td>48034473</td>\n      <td>20.0</td>\n      <td>0.0</td>\n    </tr>\n    <tr>\n      <th>24559</th>\n      <td>48034474</td>\n      <td>18.0</td>\n      <td>0.0</td>\n    </tr>\n    <tr>\n      <th>24560</th>\n      <td>48034475</td>\n      <td>18.0</td>\n      <td>0.0</td>\n    </tr>\n    <tr>\n      <th>24561</th>\n      <td>48034476</td>\n      <td>18.0</td>\n      <td>0.0</td>\n    </tr>\n    <tr>\n      <th>24562</th>\n      <td>48034477</td>\n      <td>17.0</td>\n      <td>0.0</td>\n    </tr>\n  </tbody>\n</table>\n<p>24373 rows × 3 columns</p>\n</div>"
     },
     "execution_count": 19,
     "metadata": {},
     "output_type": "execute_result"
    }
   ],
   "source": [
    "df_panoptes_question_r = df_panoptes_question[df_panoptes_question.task == \"T0\"][[\"subject_id\", \"data.no\", \"data.yes\"]].groupby(\"subject_id\").sum()\n",
    "\n",
    "df_panoptes_question_r = df_panoptes_question_r.reset_index()\n",
    "df_panoptes_question_r = df_panoptes_question_r[df_panoptes_question_r.subject_id.isin(df_subjects.subject_id)]\n",
    "df_panoptes_question_r"
   ]
  },
  {
   "cell_type": "code",
   "execution_count": 20,
   "id": "1751baa417c614c9",
   "metadata": {
    "collapsed": false,
    "ExecuteTime": {
     "end_time": "2024-06-04T10:26:41.816404Z",
     "start_time": "2024-06-04T10:26:41.754030Z"
    }
   },
   "outputs": [],
   "source": [
    "df_panoptes_question_r.to_csv(output_path / config[\"panoptes_question\"], index = False)"
   ]
  },
  {
   "cell_type": "markdown",
   "id": "b88625d141e60114",
   "metadata": {
    "collapsed": false
   },
   "source": [
    "## Get the Point Marks Analysis Ready"
   ]
  },
  {
   "cell_type": "markdown",
   "id": "4a3f1b8c5f2596bb",
   "metadata": {
    "collapsed": false
   },
   "source": [
    "Filter for T2 only"
   ]
  },
  {
   "cell_type": "code",
   "execution_count": 21,
   "id": "3ed3cb8b4acbfa4f",
   "metadata": {
    "collapsed": false,
    "ExecuteTime": {
     "end_time": "2024-06-04T10:26:42.200099Z",
     "start_time": "2024-06-04T10:26:41.818631Z"
    }
   },
   "outputs": [
    {
     "data": {
      "text/plain": "Index(['classification_id', 'user_name', 'user_id', 'workflow_id', 'task',\n       'created_at', 'subject_id', 'extractor', 'data.aggregation_version',\n       'data.frame0.T4_tool5_x', 'data.frame0.T4_tool5_y',\n       'data.frame0.T4_tool3_x', 'data.frame0.T4_tool3_y',\n       'data.frame0.T2_tool3_x', 'data.frame0.T2_tool3_y',\n       'data.frame0.T4_tool4_x', 'data.frame0.T4_tool4_y',\n       'data.frame0.T2_tool0_x', 'data.frame0.T2_tool0_y',\n       'data.frame0.T2_tool2_x', 'data.frame0.T2_tool2_y',\n       'data.frame0.T2_tool4_x', 'data.frame0.T2_tool4_y',\n       'data.frame0.T4_tool0_x', 'data.frame0.T4_tool0_y',\n       'data.frame0.T2_tool1_x', 'data.frame0.T2_tool1_y',\n       'data.frame0.T4_tool1_x', 'data.frame0.T4_tool1_y',\n       'data.frame0.T4_tool2_x', 'data.frame0.T4_tool2_y', 'workflow_version',\n       'data.frame0.T4_tool6_x', 'data.frame0.T4_tool6_y', 'image_name'],\n      dtype='object')"
     },
     "execution_count": 21,
     "metadata": {},
     "output_type": "execute_result"
    }
   ],
   "source": [
    "df_panoptes_point_extractor_r = df_panoptes_point_extractor[\n",
    "    (df_panoptes_point_extractor.task == \"T2\")\n",
    "]\n",
    "df_panoptes_point_extractor_r.columns"
   ]
  },
  {
   "cell_type": "markdown",
   "id": "1904d722c784ea8d",
   "metadata": {
    "collapsed": false
   },
   "source": [
    "### Which tool is which now?\n",
    "| Tool Name               | Classification                               |\n",
    "|-------------------------|----------------------------------------------|\n",
    "| data.frame0.T2_tool0_x  | Adult Male in a lek                          |\n",
    "| data.frame0.T2_tool1_x  | Adult Male alone                             |\n",
    "| data.frame0.T2_tool2_x  | Others (females, young males, juveniles)     |\n",
    "| data.frame0.T2_tool3_x  | Partial iguana                               |\n",
    "| data.frame0.T2_tool4_x  | Could be an iguana, not sure                 |\n",
    "\n",
    "Is \"Could be an iguana, not sure\" and \"Partial Iguana\" are omitted.\n"
   ]
  },
  {
   "cell_type": "code",
   "execution_count": 22,
   "id": "895d1e319dc99c4a",
   "metadata": {
    "collapsed": false,
    "ExecuteTime": {
     "end_time": "2024-06-04T10:26:46.896907Z",
     "start_time": "2024-06-04T10:26:42.202428Z"
    }
   },
   "outputs": [
    {
     "name": "stderr",
     "output_type": "stream",
     "text": [
      "/var/folders/2k/78nn7s4548986wsjh29rhj9w0000gn/T/ipykernel_84609/4171456644.py:8: SettingWithCopyWarning: \n",
      "A value is trying to be set on a copy of a slice from a DataFrame.\n",
      "Try using .loc[row_indexer,col_indexer] = value instead\n",
      "\n",
      "See the caveats in the documentation: https://pandas.pydata.org/pandas-docs/stable/user_guide/indexing.html#returning-a-view-versus-a-copy\n",
      "  df_panoptes_point_extractor_r[col] = df_panoptes_point_extractor_r[col].apply(lambda x: literal_eval(x) if pd.notnull(x) else [])\n",
      "/var/folders/2k/78nn7s4548986wsjh29rhj9w0000gn/T/ipykernel_84609/4171456644.py:11: SettingWithCopyWarning: \n",
      "A value is trying to be set on a copy of a slice from a DataFrame.\n",
      "Try using .loc[row_indexer,col_indexer] = value instead\n",
      "\n",
      "See the caveats in the documentation: https://pandas.pydata.org/pandas-docs/stable/user_guide/indexing.html#returning-a-view-versus-a-copy\n",
      "  df_panoptes_point_extractor_r['x'] = df_panoptes_point_extractor_r[columns_keep_x].values.tolist()\n",
      "/var/folders/2k/78nn7s4548986wsjh29rhj9w0000gn/T/ipykernel_84609/4171456644.py:12: SettingWithCopyWarning: \n",
      "A value is trying to be set on a copy of a slice from a DataFrame.\n",
      "Try using .loc[row_indexer,col_indexer] = value instead\n",
      "\n",
      "See the caveats in the documentation: https://pandas.pydata.org/pandas-docs/stable/user_guide/indexing.html#returning-a-view-versus-a-copy\n",
      "  df_panoptes_point_extractor_r['y'] = df_panoptes_point_extractor_r[columns_keep_y].values.tolist()\n",
      "/var/folders/2k/78nn7s4548986wsjh29rhj9w0000gn/T/ipykernel_84609/4171456644.py:15: SettingWithCopyWarning: \n",
      "A value is trying to be set on a copy of a slice from a DataFrame.\n",
      "Try using .loc[row_indexer,col_indexer] = value instead\n",
      "\n",
      "See the caveats in the documentation: https://pandas.pydata.org/pandas-docs/stable/user_guide/indexing.html#returning-a-view-versus-a-copy\n",
      "  df_panoptes_point_extractor_r['x'] = df_panoptes_point_extractor_r['x'].apply(lambda x: [item for sublist in x for item in sublist])\n",
      "/var/folders/2k/78nn7s4548986wsjh29rhj9w0000gn/T/ipykernel_84609/4171456644.py:16: SettingWithCopyWarning: \n",
      "A value is trying to be set on a copy of a slice from a DataFrame.\n",
      "Try using .loc[row_indexer,col_indexer] = value instead\n",
      "\n",
      "See the caveats in the documentation: https://pandas.pydata.org/pandas-docs/stable/user_guide/indexing.html#returning-a-view-versus-a-copy\n",
      "  df_panoptes_point_extractor_r['y'] = df_panoptes_point_extractor_r['y'].apply(lambda x: [item for sublist in x for item in sublist])\n"
     ]
    },
    {
     "data": {
      "text/plain": "        classification_id                         user_name  \\\n0               262324331  dd741bfe7c2eabd0265422e728bd1738   \n2               267990486  98de0c7d6fadb9a441e4fd03bee2713d   \n4               268033101  ec17f4ab6a51fee747c3f1e5f0a004c5   \n6               268168511  6bac281943e323a47c309cf3b7845f2b   \n8               269118003  152ad9dcd6135dd625a8051f0efdbb72   \n...                   ...                               ...   \n998422          287939566  a7c38b9d4c0f563d6c452d4db06db678   \n998424          288102487  58fa6a1c297b9ff1d6f96fa93f112c48   \n998426          288127706  7e82ef4b88b037461f90958b2716c1b8   \n998428          288168438  9e15149b8e8ef01f93697b4dfd952d33   \n998430          288198132  69b80c6be0af6a1f2fdfc07ee22e8ced   \n\n                                 user_id  workflow_id task  \\\n0       08cbd51d46cf6d3d7af3f5d1d4f909b6        14370   T2   \n2       1f3b77093f4b8b5a02710c611d6d5761        14370   T2   \n4                                    NaN        14370   T2   \n6       b265ba70f80676717aadafcf2031feec        14370   T2   \n8       3f5a5ac90682c77736c2eacbf774c521        14370   T2   \n...                                  ...          ...  ...   \n998422  e410233db1e818f51a48a0d47fa4fa92        14370   T2   \n998424  8f92f55991060f2111a7a0fab2e453ad        14370   T2   \n998426  2a7bf97c8666cf6289378831707942a2        14370   T2   \n998428  f0e8db7c9aee1017a2699e2483bc4238        14370   T2   \n998430  b7670915fc691ba3cf8b50ea56b3d6e1        14370   T2   \n\n                     created_at  subject_id                 extractor  \\\n0       2020-07-20 17:19:21 UTC    47982231  point_extractor_by_frame   \n2       2020-08-13 22:56:56 UTC    47982231  point_extractor_by_frame   \n4       2020-08-14 05:47:06 UTC    47982231  point_extractor_by_frame   \n6       2020-08-14 21:36:53 UTC    47982231  point_extractor_by_frame   \n8       2020-08-20 04:59:18 UTC    47982231  point_extractor_by_frame   \n...                         ...         ...                       ...   \n998422  2020-11-18 04:32:48 UTC    47970949  point_extractor_by_frame   \n998424  2020-11-18 19:47:25 UTC    47970949  point_extractor_by_frame   \n998426  2020-11-18 21:32:33 UTC    47970949  point_extractor_by_frame   \n998428  2020-11-19 01:03:05 UTC    47970949  point_extractor_by_frame   \n998430  2020-11-19 03:57:28 UTC    47970949  point_extractor_by_frame   \n\n       data.aggregation_version data.frame0.T4_tool5_x  ...  \\\n0                         4.1.0                    NaN  ...   \n2                         4.1.0                    NaN  ...   \n4                         4.1.0                    NaN  ...   \n6                         4.1.0                    NaN  ...   \n8                         4.1.0                    NaN  ...   \n...                         ...                    ...  ...   \n998422                    4.1.0                    NaN  ...   \n998424                    4.1.0                    NaN  ...   \n998426                    4.1.0                    NaN  ...   \n998428                    4.1.0                    NaN  ...   \n998430                    4.1.0                    NaN  ...   \n\n       data.frame0.T4_tool1_x data.frame0.T4_tool1_y data.frame0.T4_tool2_x  \\\n0                         NaN                    NaN                    NaN   \n2                         NaN                    NaN                    NaN   \n4                         NaN                    NaN                    NaN   \n6                         NaN                    NaN                    NaN   \n8                         NaN                    NaN                    NaN   \n...                       ...                    ...                    ...   \n998422                    NaN                    NaN                    NaN   \n998424                    NaN                    NaN                    NaN   \n998426                    NaN                    NaN                    NaN   \n998428                    NaN                    NaN                    NaN   \n998430                    NaN                    NaN                    NaN   \n\n       data.frame0.T4_tool2_y workflow_version data.frame0.T4_tool6_x  \\\n0                         NaN          134.236                    NaN   \n2                         NaN          134.236                    NaN   \n4                         NaN          134.236                    NaN   \n6                         NaN          134.236                    NaN   \n8                         NaN          134.236                    NaN   \n...                       ...              ...                    ...   \n998422                    NaN          134.236                    NaN   \n998424                    NaN          134.236                    NaN   \n998426                    NaN          134.236                    NaN   \n998428                    NaN          134.236                    NaN   \n998430                    NaN          134.236                    NaN   \n\n       data.frame0.T4_tool6_y         image_name                    x  \\\n0                         NaN   SRIL05-4_171.jpg                   []   \n2                         NaN   SRIL05-4_171.jpg                   []   \n4                         NaN   SRIL05-4_171.jpg                   []   \n6                         NaN   SRIL05-4_171.jpg                   []   \n8                         NaN   SRIL05-4_171.jpg  [406.6333312988281]   \n...                       ...                ...                  ...   \n998422                    NaN  SFM04-1-1_369.jpg                   []   \n998424                    NaN  SFM04-1-1_369.jpg                   []   \n998426                    NaN  SFM04-1-1_369.jpg                   []   \n998428                    NaN  SFM04-1-1_369.jpg                   []   \n998430                    NaN  SFM04-1-1_369.jpg                   []   \n\n                          y  \n0                        []  \n2                        []  \n4                        []  \n6                        []  \n8       [265.9666748046875]  \n...                     ...  \n998422                   []  \n998424                   []  \n998426                   []  \n998428                   []  \n998430                   []  \n\n[499216 rows x 37 columns]",
      "text/html": "<div>\n<style scoped>\n    .dataframe tbody tr th:only-of-type {\n        vertical-align: middle;\n    }\n\n    .dataframe tbody tr th {\n        vertical-align: top;\n    }\n\n    .dataframe thead th {\n        text-align: right;\n    }\n</style>\n<table border=\"1\" class=\"dataframe\">\n  <thead>\n    <tr style=\"text-align: right;\">\n      <th></th>\n      <th>classification_id</th>\n      <th>user_name</th>\n      <th>user_id</th>\n      <th>workflow_id</th>\n      <th>task</th>\n      <th>created_at</th>\n      <th>subject_id</th>\n      <th>extractor</th>\n      <th>data.aggregation_version</th>\n      <th>data.frame0.T4_tool5_x</th>\n      <th>...</th>\n      <th>data.frame0.T4_tool1_x</th>\n      <th>data.frame0.T4_tool1_y</th>\n      <th>data.frame0.T4_tool2_x</th>\n      <th>data.frame0.T4_tool2_y</th>\n      <th>workflow_version</th>\n      <th>data.frame0.T4_tool6_x</th>\n      <th>data.frame0.T4_tool6_y</th>\n      <th>image_name</th>\n      <th>x</th>\n      <th>y</th>\n    </tr>\n  </thead>\n  <tbody>\n    <tr>\n      <th>0</th>\n      <td>262324331</td>\n      <td>dd741bfe7c2eabd0265422e728bd1738</td>\n      <td>08cbd51d46cf6d3d7af3f5d1d4f909b6</td>\n      <td>14370</td>\n      <td>T2</td>\n      <td>2020-07-20 17:19:21 UTC</td>\n      <td>47982231</td>\n      <td>point_extractor_by_frame</td>\n      <td>4.1.0</td>\n      <td>NaN</td>\n      <td>...</td>\n      <td>NaN</td>\n      <td>NaN</td>\n      <td>NaN</td>\n      <td>NaN</td>\n      <td>134.236</td>\n      <td>NaN</td>\n      <td>NaN</td>\n      <td>SRIL05-4_171.jpg</td>\n      <td>[]</td>\n      <td>[]</td>\n    </tr>\n    <tr>\n      <th>2</th>\n      <td>267990486</td>\n      <td>98de0c7d6fadb9a441e4fd03bee2713d</td>\n      <td>1f3b77093f4b8b5a02710c611d6d5761</td>\n      <td>14370</td>\n      <td>T2</td>\n      <td>2020-08-13 22:56:56 UTC</td>\n      <td>47982231</td>\n      <td>point_extractor_by_frame</td>\n      <td>4.1.0</td>\n      <td>NaN</td>\n      <td>...</td>\n      <td>NaN</td>\n      <td>NaN</td>\n      <td>NaN</td>\n      <td>NaN</td>\n      <td>134.236</td>\n      <td>NaN</td>\n      <td>NaN</td>\n      <td>SRIL05-4_171.jpg</td>\n      <td>[]</td>\n      <td>[]</td>\n    </tr>\n    <tr>\n      <th>4</th>\n      <td>268033101</td>\n      <td>ec17f4ab6a51fee747c3f1e5f0a004c5</td>\n      <td>NaN</td>\n      <td>14370</td>\n      <td>T2</td>\n      <td>2020-08-14 05:47:06 UTC</td>\n      <td>47982231</td>\n      <td>point_extractor_by_frame</td>\n      <td>4.1.0</td>\n      <td>NaN</td>\n      <td>...</td>\n      <td>NaN</td>\n      <td>NaN</td>\n      <td>NaN</td>\n      <td>NaN</td>\n      <td>134.236</td>\n      <td>NaN</td>\n      <td>NaN</td>\n      <td>SRIL05-4_171.jpg</td>\n      <td>[]</td>\n      <td>[]</td>\n    </tr>\n    <tr>\n      <th>6</th>\n      <td>268168511</td>\n      <td>6bac281943e323a47c309cf3b7845f2b</td>\n      <td>b265ba70f80676717aadafcf2031feec</td>\n      <td>14370</td>\n      <td>T2</td>\n      <td>2020-08-14 21:36:53 UTC</td>\n      <td>47982231</td>\n      <td>point_extractor_by_frame</td>\n      <td>4.1.0</td>\n      <td>NaN</td>\n      <td>...</td>\n      <td>NaN</td>\n      <td>NaN</td>\n      <td>NaN</td>\n      <td>NaN</td>\n      <td>134.236</td>\n      <td>NaN</td>\n      <td>NaN</td>\n      <td>SRIL05-4_171.jpg</td>\n      <td>[]</td>\n      <td>[]</td>\n    </tr>\n    <tr>\n      <th>8</th>\n      <td>269118003</td>\n      <td>152ad9dcd6135dd625a8051f0efdbb72</td>\n      <td>3f5a5ac90682c77736c2eacbf774c521</td>\n      <td>14370</td>\n      <td>T2</td>\n      <td>2020-08-20 04:59:18 UTC</td>\n      <td>47982231</td>\n      <td>point_extractor_by_frame</td>\n      <td>4.1.0</td>\n      <td>NaN</td>\n      <td>...</td>\n      <td>NaN</td>\n      <td>NaN</td>\n      <td>NaN</td>\n      <td>NaN</td>\n      <td>134.236</td>\n      <td>NaN</td>\n      <td>NaN</td>\n      <td>SRIL05-4_171.jpg</td>\n      <td>[406.6333312988281]</td>\n      <td>[265.9666748046875]</td>\n    </tr>\n    <tr>\n      <th>...</th>\n      <td>...</td>\n      <td>...</td>\n      <td>...</td>\n      <td>...</td>\n      <td>...</td>\n      <td>...</td>\n      <td>...</td>\n      <td>...</td>\n      <td>...</td>\n      <td>...</td>\n      <td>...</td>\n      <td>...</td>\n      <td>...</td>\n      <td>...</td>\n      <td>...</td>\n      <td>...</td>\n      <td>...</td>\n      <td>...</td>\n      <td>...</td>\n      <td>...</td>\n      <td>...</td>\n    </tr>\n    <tr>\n      <th>998422</th>\n      <td>287939566</td>\n      <td>a7c38b9d4c0f563d6c452d4db06db678</td>\n      <td>e410233db1e818f51a48a0d47fa4fa92</td>\n      <td>14370</td>\n      <td>T2</td>\n      <td>2020-11-18 04:32:48 UTC</td>\n      <td>47970949</td>\n      <td>point_extractor_by_frame</td>\n      <td>4.1.0</td>\n      <td>NaN</td>\n      <td>...</td>\n      <td>NaN</td>\n      <td>NaN</td>\n      <td>NaN</td>\n      <td>NaN</td>\n      <td>134.236</td>\n      <td>NaN</td>\n      <td>NaN</td>\n      <td>SFM04-1-1_369.jpg</td>\n      <td>[]</td>\n      <td>[]</td>\n    </tr>\n    <tr>\n      <th>998424</th>\n      <td>288102487</td>\n      <td>58fa6a1c297b9ff1d6f96fa93f112c48</td>\n      <td>8f92f55991060f2111a7a0fab2e453ad</td>\n      <td>14370</td>\n      <td>T2</td>\n      <td>2020-11-18 19:47:25 UTC</td>\n      <td>47970949</td>\n      <td>point_extractor_by_frame</td>\n      <td>4.1.0</td>\n      <td>NaN</td>\n      <td>...</td>\n      <td>NaN</td>\n      <td>NaN</td>\n      <td>NaN</td>\n      <td>NaN</td>\n      <td>134.236</td>\n      <td>NaN</td>\n      <td>NaN</td>\n      <td>SFM04-1-1_369.jpg</td>\n      <td>[]</td>\n      <td>[]</td>\n    </tr>\n    <tr>\n      <th>998426</th>\n      <td>288127706</td>\n      <td>7e82ef4b88b037461f90958b2716c1b8</td>\n      <td>2a7bf97c8666cf6289378831707942a2</td>\n      <td>14370</td>\n      <td>T2</td>\n      <td>2020-11-18 21:32:33 UTC</td>\n      <td>47970949</td>\n      <td>point_extractor_by_frame</td>\n      <td>4.1.0</td>\n      <td>NaN</td>\n      <td>...</td>\n      <td>NaN</td>\n      <td>NaN</td>\n      <td>NaN</td>\n      <td>NaN</td>\n      <td>134.236</td>\n      <td>NaN</td>\n      <td>NaN</td>\n      <td>SFM04-1-1_369.jpg</td>\n      <td>[]</td>\n      <td>[]</td>\n    </tr>\n    <tr>\n      <th>998428</th>\n      <td>288168438</td>\n      <td>9e15149b8e8ef01f93697b4dfd952d33</td>\n      <td>f0e8db7c9aee1017a2699e2483bc4238</td>\n      <td>14370</td>\n      <td>T2</td>\n      <td>2020-11-19 01:03:05 UTC</td>\n      <td>47970949</td>\n      <td>point_extractor_by_frame</td>\n      <td>4.1.0</td>\n      <td>NaN</td>\n      <td>...</td>\n      <td>NaN</td>\n      <td>NaN</td>\n      <td>NaN</td>\n      <td>NaN</td>\n      <td>134.236</td>\n      <td>NaN</td>\n      <td>NaN</td>\n      <td>SFM04-1-1_369.jpg</td>\n      <td>[]</td>\n      <td>[]</td>\n    </tr>\n    <tr>\n      <th>998430</th>\n      <td>288198132</td>\n      <td>69b80c6be0af6a1f2fdfc07ee22e8ced</td>\n      <td>b7670915fc691ba3cf8b50ea56b3d6e1</td>\n      <td>14370</td>\n      <td>T2</td>\n      <td>2020-11-19 03:57:28 UTC</td>\n      <td>47970949</td>\n      <td>point_extractor_by_frame</td>\n      <td>4.1.0</td>\n      <td>NaN</td>\n      <td>...</td>\n      <td>NaN</td>\n      <td>NaN</td>\n      <td>NaN</td>\n      <td>NaN</td>\n      <td>134.236</td>\n      <td>NaN</td>\n      <td>NaN</td>\n      <td>SFM04-1-1_369.jpg</td>\n      <td>[]</td>\n      <td>[]</td>\n    </tr>\n  </tbody>\n</table>\n<p>499216 rows × 37 columns</p>\n</div>"
     },
     "execution_count": 22,
     "metadata": {},
     "output_type": "execute_result"
    }
   ],
   "source": [
    "# create a flat structure from the nested marks over multiple columns from that.\n",
    "from ast import literal_eval\n",
    "\n",
    "columns_keep_x = ['data.frame0.T2_tool0_x', 'data.frame0.T2_tool1_x', 'data.frame0.T2_tool2_x', 'data.frame0.T2_tool4_x']\n",
    "columns_keep_y = ['data.frame0.T2_tool0_y', 'data.frame0.T2_tool1_y', 'data.frame0.T2_tool2_y', 'data.frame0.T2_tool4_y']\n",
    "\n",
    "for col in columns_keep_x + columns_keep_y:\n",
    "    df_panoptes_point_extractor_r[col] = df_panoptes_point_extractor_r[col].apply(lambda x: literal_eval(x) if pd.notnull(x) else [])\n",
    "\n",
    "# Merge the lists in 'x' and 'y' coordinates\n",
    "df_panoptes_point_extractor_r['x'] = df_panoptes_point_extractor_r[columns_keep_x].values.tolist()\n",
    "df_panoptes_point_extractor_r['y'] = df_panoptes_point_extractor_r[columns_keep_y].values.tolist()\n",
    "\n",
    "# Flatten the lists in each row for 'x' and 'y'\n",
    "df_panoptes_point_extractor_r['x'] = df_panoptes_point_extractor_r['x'].apply(lambda x: [item for sublist in x for item in sublist])\n",
    "df_panoptes_point_extractor_r['y'] = df_panoptes_point_extractor_r['y'].apply(lambda x: [item for sublist in x for item in sublist])\n",
    "\n",
    "# Explode the DataFrame to separate rows for each x, y pair\n",
    "# Explode the DataFrame based on these columns to get separate rows for each list element\n",
    "df_panoptes_point_extractor_r"
   ]
  },
  {
   "cell_type": "code",
   "execution_count": 23,
   "id": "d1dd3d9da30dac12",
   "metadata": {
    "collapsed": false,
    "ExecuteTime": {
     "end_time": "2024-06-04T10:26:47.091302Z",
     "start_time": "2024-06-04T10:26:46.897890Z"
    }
   },
   "outputs": [
    {
     "data": {
      "text/plain": "        classification_id                         user_name  \\\n0               262324331  dd741bfe7c2eabd0265422e728bd1738   \n1               267990486  98de0c7d6fadb9a441e4fd03bee2713d   \n2               268033101  ec17f4ab6a51fee747c3f1e5f0a004c5   \n3               268168511  6bac281943e323a47c309cf3b7845f2b   \n4               269118003  152ad9dcd6135dd625a8051f0efdbb72   \n...                   ...                               ...   \n499211          287939566  a7c38b9d4c0f563d6c452d4db06db678   \n499212          288102487  58fa6a1c297b9ff1d6f96fa93f112c48   \n499213          288127706  7e82ef4b88b037461f90958b2716c1b8   \n499214          288168438  9e15149b8e8ef01f93697b4dfd952d33   \n499215          288198132  69b80c6be0af6a1f2fdfc07ee22e8ced   \n\n                                 user_id  workflow_id workflow_version task  \\\n0       08cbd51d46cf6d3d7af3f5d1d4f909b6        14370          134.236   T2   \n1       1f3b77093f4b8b5a02710c611d6d5761        14370          134.236   T2   \n2                                    NaN        14370          134.236   T2   \n3       b265ba70f80676717aadafcf2031feec        14370          134.236   T2   \n4       3f5a5ac90682c77736c2eacbf774c521        14370          134.236   T2   \n...                                  ...          ...              ...  ...   \n499211  e410233db1e818f51a48a0d47fa4fa92        14370          134.236   T2   \n499212  8f92f55991060f2111a7a0fab2e453ad        14370          134.236   T2   \n499213  2a7bf97c8666cf6289378831707942a2        14370          134.236   T2   \n499214  f0e8db7c9aee1017a2699e2483bc4238        14370          134.236   T2   \n499215  b7670915fc691ba3cf8b50ea56b3d6e1        14370          134.236   T2   \n\n                     created_at  subject_id         image_name  \\\n0       2020-07-20 17:19:21 UTC    47982231   SRIL05-4_171.jpg   \n1       2020-08-13 22:56:56 UTC    47982231   SRIL05-4_171.jpg   \n2       2020-08-14 05:47:06 UTC    47982231   SRIL05-4_171.jpg   \n3       2020-08-14 21:36:53 UTC    47982231   SRIL05-4_171.jpg   \n4       2020-08-20 04:59:18 UTC    47982231   SRIL05-4_171.jpg   \n...                         ...         ...                ...   \n499211  2020-11-18 04:32:48 UTC    47970949  SFM04-1-1_369.jpg   \n499212  2020-11-18 19:47:25 UTC    47970949  SFM04-1-1_369.jpg   \n499213  2020-11-18 21:32:33 UTC    47970949  SFM04-1-1_369.jpg   \n499214  2020-11-19 01:03:05 UTC    47970949  SFM04-1-1_369.jpg   \n499215  2020-11-19 03:57:28 UTC    47970949  SFM04-1-1_369.jpg   \n\n                          x                    y  \n0                        []                   []  \n1                        []                   []  \n2                        []                   []  \n3                        []                   []  \n4       [406.6333312988281]  [265.9666748046875]  \n...                     ...                  ...  \n499211                   []                   []  \n499212                   []                   []  \n499213                   []                   []  \n499214                   []                   []  \n499215                   []                   []  \n\n[499216 rows x 11 columns]",
      "text/html": "<div>\n<style scoped>\n    .dataframe tbody tr th:only-of-type {\n        vertical-align: middle;\n    }\n\n    .dataframe tbody tr th {\n        vertical-align: top;\n    }\n\n    .dataframe thead th {\n        text-align: right;\n    }\n</style>\n<table border=\"1\" class=\"dataframe\">\n  <thead>\n    <tr style=\"text-align: right;\">\n      <th></th>\n      <th>classification_id</th>\n      <th>user_name</th>\n      <th>user_id</th>\n      <th>workflow_id</th>\n      <th>workflow_version</th>\n      <th>task</th>\n      <th>created_at</th>\n      <th>subject_id</th>\n      <th>image_name</th>\n      <th>x</th>\n      <th>y</th>\n    </tr>\n  </thead>\n  <tbody>\n    <tr>\n      <th>0</th>\n      <td>262324331</td>\n      <td>dd741bfe7c2eabd0265422e728bd1738</td>\n      <td>08cbd51d46cf6d3d7af3f5d1d4f909b6</td>\n      <td>14370</td>\n      <td>134.236</td>\n      <td>T2</td>\n      <td>2020-07-20 17:19:21 UTC</td>\n      <td>47982231</td>\n      <td>SRIL05-4_171.jpg</td>\n      <td>[]</td>\n      <td>[]</td>\n    </tr>\n    <tr>\n      <th>1</th>\n      <td>267990486</td>\n      <td>98de0c7d6fadb9a441e4fd03bee2713d</td>\n      <td>1f3b77093f4b8b5a02710c611d6d5761</td>\n      <td>14370</td>\n      <td>134.236</td>\n      <td>T2</td>\n      <td>2020-08-13 22:56:56 UTC</td>\n      <td>47982231</td>\n      <td>SRIL05-4_171.jpg</td>\n      <td>[]</td>\n      <td>[]</td>\n    </tr>\n    <tr>\n      <th>2</th>\n      <td>268033101</td>\n      <td>ec17f4ab6a51fee747c3f1e5f0a004c5</td>\n      <td>NaN</td>\n      <td>14370</td>\n      <td>134.236</td>\n      <td>T2</td>\n      <td>2020-08-14 05:47:06 UTC</td>\n      <td>47982231</td>\n      <td>SRIL05-4_171.jpg</td>\n      <td>[]</td>\n      <td>[]</td>\n    </tr>\n    <tr>\n      <th>3</th>\n      <td>268168511</td>\n      <td>6bac281943e323a47c309cf3b7845f2b</td>\n      <td>b265ba70f80676717aadafcf2031feec</td>\n      <td>14370</td>\n      <td>134.236</td>\n      <td>T2</td>\n      <td>2020-08-14 21:36:53 UTC</td>\n      <td>47982231</td>\n      <td>SRIL05-4_171.jpg</td>\n      <td>[]</td>\n      <td>[]</td>\n    </tr>\n    <tr>\n      <th>4</th>\n      <td>269118003</td>\n      <td>152ad9dcd6135dd625a8051f0efdbb72</td>\n      <td>3f5a5ac90682c77736c2eacbf774c521</td>\n      <td>14370</td>\n      <td>134.236</td>\n      <td>T2</td>\n      <td>2020-08-20 04:59:18 UTC</td>\n      <td>47982231</td>\n      <td>SRIL05-4_171.jpg</td>\n      <td>[406.6333312988281]</td>\n      <td>[265.9666748046875]</td>\n    </tr>\n    <tr>\n      <th>...</th>\n      <td>...</td>\n      <td>...</td>\n      <td>...</td>\n      <td>...</td>\n      <td>...</td>\n      <td>...</td>\n      <td>...</td>\n      <td>...</td>\n      <td>...</td>\n      <td>...</td>\n      <td>...</td>\n    </tr>\n    <tr>\n      <th>499211</th>\n      <td>287939566</td>\n      <td>a7c38b9d4c0f563d6c452d4db06db678</td>\n      <td>e410233db1e818f51a48a0d47fa4fa92</td>\n      <td>14370</td>\n      <td>134.236</td>\n      <td>T2</td>\n      <td>2020-11-18 04:32:48 UTC</td>\n      <td>47970949</td>\n      <td>SFM04-1-1_369.jpg</td>\n      <td>[]</td>\n      <td>[]</td>\n    </tr>\n    <tr>\n      <th>499212</th>\n      <td>288102487</td>\n      <td>58fa6a1c297b9ff1d6f96fa93f112c48</td>\n      <td>8f92f55991060f2111a7a0fab2e453ad</td>\n      <td>14370</td>\n      <td>134.236</td>\n      <td>T2</td>\n      <td>2020-11-18 19:47:25 UTC</td>\n      <td>47970949</td>\n      <td>SFM04-1-1_369.jpg</td>\n      <td>[]</td>\n      <td>[]</td>\n    </tr>\n    <tr>\n      <th>499213</th>\n      <td>288127706</td>\n      <td>7e82ef4b88b037461f90958b2716c1b8</td>\n      <td>2a7bf97c8666cf6289378831707942a2</td>\n      <td>14370</td>\n      <td>134.236</td>\n      <td>T2</td>\n      <td>2020-11-18 21:32:33 UTC</td>\n      <td>47970949</td>\n      <td>SFM04-1-1_369.jpg</td>\n      <td>[]</td>\n      <td>[]</td>\n    </tr>\n    <tr>\n      <th>499214</th>\n      <td>288168438</td>\n      <td>9e15149b8e8ef01f93697b4dfd952d33</td>\n      <td>f0e8db7c9aee1017a2699e2483bc4238</td>\n      <td>14370</td>\n      <td>134.236</td>\n      <td>T2</td>\n      <td>2020-11-19 01:03:05 UTC</td>\n      <td>47970949</td>\n      <td>SFM04-1-1_369.jpg</td>\n      <td>[]</td>\n      <td>[]</td>\n    </tr>\n    <tr>\n      <th>499215</th>\n      <td>288198132</td>\n      <td>69b80c6be0af6a1f2fdfc07ee22e8ced</td>\n      <td>b7670915fc691ba3cf8b50ea56b3d6e1</td>\n      <td>14370</td>\n      <td>134.236</td>\n      <td>T2</td>\n      <td>2020-11-19 03:57:28 UTC</td>\n      <td>47970949</td>\n      <td>SFM04-1-1_369.jpg</td>\n      <td>[]</td>\n      <td>[]</td>\n    </tr>\n  </tbody>\n</table>\n<p>499216 rows × 11 columns</p>\n</div>"
     },
     "execution_count": 23,
     "metadata": {},
     "output_type": "execute_result"
    }
   ],
   "source": [
    "df_panoptes_point_extractor_r = df_panoptes_point_extractor_r[\n",
    "    ['classification_id', 'user_name', 'user_id', 'workflow_id',  'workflow_version', 'task',\n",
    "     'created_at', 'subject_id', \"image_name\",\n",
    "     'x', 'y'\n",
    "     ]].reset_index(drop=True)\n",
    "\n",
    "df_panoptes_point_extractor_r"
   ]
  },
  {
   "cell_type": "code",
   "execution_count": 24,
   "id": "b84d1fb085664060",
   "metadata": {
    "collapsed": false,
    "ExecuteTime": {
     "end_time": "2024-06-04T10:26:47.353426Z",
     "start_time": "2024-06-04T10:26:47.098429Z"
    }
   },
   "outputs": [],
   "source": [
    "# explode the lists of marks per user into one row per mark\n",
    "df_panoptes_point_extractor_r_ex = df_panoptes_point_extractor_r.apply(lambda x: x.explode() if x.name in ['x', 'y'] else x)"
   ]
  },
  {
   "cell_type": "code",
   "execution_count": 25,
   "id": "7f88cb7f25c52568",
   "metadata": {
    "collapsed": false,
    "ExecuteTime": {
     "end_time": "2024-06-04T10:26:47.431386Z",
     "start_time": "2024-06-04T10:26:47.354377Z"
    }
   },
   "outputs": [
    {
     "data": {
      "text/plain": "        classification_id                         user_name  \\\n220164          283007416  77dd9c009b5200eea39788f7f15862f0   \n361505          271011060  fcbbe951169dc1df0b1f803a199f0995   \n492222          286621582  59e4feed8a3a84fb6bfdc5f29a1713b4   \n492222          286621582  59e4feed8a3a84fb6bfdc5f29a1713b4   \n492222          286621582  59e4feed8a3a84fb6bfdc5f29a1713b4   \n...                   ...                               ...   \n466862          269965841  46c1b35e9e7a99fe391c096e87a43677   \n307560          278911094  ec6e6d9157dc272dae21504deaa63687   \n307563          280834231  28e1c957b094499b9178b64aadab669e   \n331694          283374116  b35f4fa3408911f68c9c80ba68b8611f   \n192188          281038044  f81b032a8ed514458a88f8c508dff561   \n\n                                 user_id  workflow_id workflow_version task  \\\n220164  003abe9e6bb90e03c50377a33f1137a5        14370          134.236   T2   \n361505  004eb4442ae5c85fcb6b5c78ed902f41        14370          134.236   T2   \n492222  006c16c227f4152ffff80d195fca443b        14370          134.236   T2   \n492222  006c16c227f4152ffff80d195fca443b        14370          134.236   T2   \n492222  006c16c227f4152ffff80d195fca443b        14370          134.236   T2   \n...                                  ...          ...              ...  ...   \n466862                               NaN        14370          134.236   T2   \n307560                               NaN        14370          134.236   T2   \n307563                               NaN        14370          134.236   T2   \n331694                               NaN        14370          134.236   T2   \n192188                               NaN        14370          134.236   T2   \n\n                     created_at  subject_id           image_name            x  \\\n220164  2020-10-26 09:28:46 UTC    47974351  SMF02-1-2-2_570.jpg   186.475037   \n361505  2020-08-30 16:22:33 UTC    47978494    SFP01_06-2_59.jpg   272.292664   \n492222  2020-11-12 11:08:10 UTC    47980877      SRL04-1_348.jpg     358.3125   \n492222  2020-11-12 11:08:10 UTC    47980877      SRL04-1_348.jpg     485.3125   \n492222  2020-11-12 11:08:10 UTC    47980877      SRL04-1_348.jpg     458.3125   \n...                         ...         ...                  ...          ...   \n466862  2020-08-24 15:39:55 UTC    48034453      SRBS03-4_40.jpg   484.661652   \n307560  2020-10-08 15:07:18 UTC    48034455      SRBS03-4_43.jpg   742.105591   \n307563  2020-10-16 07:02:12 UTC    48034455      SRBS03-4_43.jpg  1412.728516   \n331694  2020-10-27 21:11:40 UTC    48034465      SRBS03-4_61.jpg  1458.386841   \n192188  2020-10-17 00:47:51 UTC    48034467      SRBS03-4_63.jpg   895.856628   \n\n                  y  \n220164   310.925049  \n361505   265.212067  \n492222          194  \n492222          106  \n492222          205  \n...             ...  \n466862   550.373962  \n307560   531.119507  \n307563  1483.689331  \n331694  1283.980591  \n192188  1032.248169  \n\n[34545 rows x 11 columns]",
      "text/html": "<div>\n<style scoped>\n    .dataframe tbody tr th:only-of-type {\n        vertical-align: middle;\n    }\n\n    .dataframe tbody tr th {\n        vertical-align: top;\n    }\n\n    .dataframe thead th {\n        text-align: right;\n    }\n</style>\n<table border=\"1\" class=\"dataframe\">\n  <thead>\n    <tr style=\"text-align: right;\">\n      <th></th>\n      <th>classification_id</th>\n      <th>user_name</th>\n      <th>user_id</th>\n      <th>workflow_id</th>\n      <th>workflow_version</th>\n      <th>task</th>\n      <th>created_at</th>\n      <th>subject_id</th>\n      <th>image_name</th>\n      <th>x</th>\n      <th>y</th>\n    </tr>\n  </thead>\n  <tbody>\n    <tr>\n      <th>220164</th>\n      <td>283007416</td>\n      <td>77dd9c009b5200eea39788f7f15862f0</td>\n      <td>003abe9e6bb90e03c50377a33f1137a5</td>\n      <td>14370</td>\n      <td>134.236</td>\n      <td>T2</td>\n      <td>2020-10-26 09:28:46 UTC</td>\n      <td>47974351</td>\n      <td>SMF02-1-2-2_570.jpg</td>\n      <td>186.475037</td>\n      <td>310.925049</td>\n    </tr>\n    <tr>\n      <th>361505</th>\n      <td>271011060</td>\n      <td>fcbbe951169dc1df0b1f803a199f0995</td>\n      <td>004eb4442ae5c85fcb6b5c78ed902f41</td>\n      <td>14370</td>\n      <td>134.236</td>\n      <td>T2</td>\n      <td>2020-08-30 16:22:33 UTC</td>\n      <td>47978494</td>\n      <td>SFP01_06-2_59.jpg</td>\n      <td>272.292664</td>\n      <td>265.212067</td>\n    </tr>\n    <tr>\n      <th>492222</th>\n      <td>286621582</td>\n      <td>59e4feed8a3a84fb6bfdc5f29a1713b4</td>\n      <td>006c16c227f4152ffff80d195fca443b</td>\n      <td>14370</td>\n      <td>134.236</td>\n      <td>T2</td>\n      <td>2020-11-12 11:08:10 UTC</td>\n      <td>47980877</td>\n      <td>SRL04-1_348.jpg</td>\n      <td>358.3125</td>\n      <td>194</td>\n    </tr>\n    <tr>\n      <th>492222</th>\n      <td>286621582</td>\n      <td>59e4feed8a3a84fb6bfdc5f29a1713b4</td>\n      <td>006c16c227f4152ffff80d195fca443b</td>\n      <td>14370</td>\n      <td>134.236</td>\n      <td>T2</td>\n      <td>2020-11-12 11:08:10 UTC</td>\n      <td>47980877</td>\n      <td>SRL04-1_348.jpg</td>\n      <td>485.3125</td>\n      <td>106</td>\n    </tr>\n    <tr>\n      <th>492222</th>\n      <td>286621582</td>\n      <td>59e4feed8a3a84fb6bfdc5f29a1713b4</td>\n      <td>006c16c227f4152ffff80d195fca443b</td>\n      <td>14370</td>\n      <td>134.236</td>\n      <td>T2</td>\n      <td>2020-11-12 11:08:10 UTC</td>\n      <td>47980877</td>\n      <td>SRL04-1_348.jpg</td>\n      <td>458.3125</td>\n      <td>205</td>\n    </tr>\n    <tr>\n      <th>...</th>\n      <td>...</td>\n      <td>...</td>\n      <td>...</td>\n      <td>...</td>\n      <td>...</td>\n      <td>...</td>\n      <td>...</td>\n      <td>...</td>\n      <td>...</td>\n      <td>...</td>\n      <td>...</td>\n    </tr>\n    <tr>\n      <th>466862</th>\n      <td>269965841</td>\n      <td>46c1b35e9e7a99fe391c096e87a43677</td>\n      <td>NaN</td>\n      <td>14370</td>\n      <td>134.236</td>\n      <td>T2</td>\n      <td>2020-08-24 15:39:55 UTC</td>\n      <td>48034453</td>\n      <td>SRBS03-4_40.jpg</td>\n      <td>484.661652</td>\n      <td>550.373962</td>\n    </tr>\n    <tr>\n      <th>307560</th>\n      <td>278911094</td>\n      <td>ec6e6d9157dc272dae21504deaa63687</td>\n      <td>NaN</td>\n      <td>14370</td>\n      <td>134.236</td>\n      <td>T2</td>\n      <td>2020-10-08 15:07:18 UTC</td>\n      <td>48034455</td>\n      <td>SRBS03-4_43.jpg</td>\n      <td>742.105591</td>\n      <td>531.119507</td>\n    </tr>\n    <tr>\n      <th>307563</th>\n      <td>280834231</td>\n      <td>28e1c957b094499b9178b64aadab669e</td>\n      <td>NaN</td>\n      <td>14370</td>\n      <td>134.236</td>\n      <td>T2</td>\n      <td>2020-10-16 07:02:12 UTC</td>\n      <td>48034455</td>\n      <td>SRBS03-4_43.jpg</td>\n      <td>1412.728516</td>\n      <td>1483.689331</td>\n    </tr>\n    <tr>\n      <th>331694</th>\n      <td>283374116</td>\n      <td>b35f4fa3408911f68c9c80ba68b8611f</td>\n      <td>NaN</td>\n      <td>14370</td>\n      <td>134.236</td>\n      <td>T2</td>\n      <td>2020-10-27 21:11:40 UTC</td>\n      <td>48034465</td>\n      <td>SRBS03-4_61.jpg</td>\n      <td>1458.386841</td>\n      <td>1283.980591</td>\n    </tr>\n    <tr>\n      <th>192188</th>\n      <td>281038044</td>\n      <td>f81b032a8ed514458a88f8c508dff561</td>\n      <td>NaN</td>\n      <td>14370</td>\n      <td>134.236</td>\n      <td>T2</td>\n      <td>2020-10-17 00:47:51 UTC</td>\n      <td>48034467</td>\n      <td>SRBS03-4_63.jpg</td>\n      <td>895.856628</td>\n      <td>1032.248169</td>\n    </tr>\n  </tbody>\n</table>\n<p>34545 rows × 11 columns</p>\n</div>"
     },
     "execution_count": 25,
     "metadata": {},
     "output_type": "execute_result"
    }
   ],
   "source": [
    "# images with no marks have NaN values in the 'merged_x' and 'merged_y' columns\n",
    "df_panoptes_point_extractor_r_ex_dropped = df_panoptes_point_extractor_r_ex.dropna(subset=['x', 'y'], how='all').sort_values(by=['user_id', 'subject_id', 'task', 'created_at'])\n",
    "df_panoptes_point_extractor_r_ex_dropped"
   ]
  },
  {
   "cell_type": "code",
   "execution_count": 26,
   "id": "b3a0beb695d8f28e",
   "metadata": {
    "collapsed": false,
    "ExecuteTime": {
     "end_time": "2024-06-04T10:26:47.447848Z",
     "start_time": "2024-06-04T10:26:47.432410Z"
    }
   },
   "outputs": [
    {
     "data": {
      "text/plain": "        classification_id                         user_name  \\\n220164          283007416  77dd9c009b5200eea39788f7f15862f0   \n361505          271011060  fcbbe951169dc1df0b1f803a199f0995   \n492222          286621582  59e4feed8a3a84fb6bfdc5f29a1713b4   \n492222          286621582  59e4feed8a3a84fb6bfdc5f29a1713b4   \n492222          286621582  59e4feed8a3a84fb6bfdc5f29a1713b4   \n...                   ...                               ...   \n466862          269965841  46c1b35e9e7a99fe391c096e87a43677   \n307560          278911094  ec6e6d9157dc272dae21504deaa63687   \n307563          280834231  28e1c957b094499b9178b64aadab669e   \n331694          283374116  b35f4fa3408911f68c9c80ba68b8611f   \n192188          281038044  f81b032a8ed514458a88f8c508dff561   \n\n                                 user_id  workflow_id workflow_version task  \\\n220164  003abe9e6bb90e03c50377a33f1137a5        14370          134.236   T2   \n361505  004eb4442ae5c85fcb6b5c78ed902f41        14370          134.236   T2   \n492222  006c16c227f4152ffff80d195fca443b        14370          134.236   T2   \n492222  006c16c227f4152ffff80d195fca443b        14370          134.236   T2   \n492222  006c16c227f4152ffff80d195fca443b        14370          134.236   T2   \n...                                  ...          ...              ...  ...   \n466862                               NaN        14370          134.236   T2   \n307560                               NaN        14370          134.236   T2   \n307563                               NaN        14370          134.236   T2   \n331694                               NaN        14370          134.236   T2   \n192188                               NaN        14370          134.236   T2   \n\n                     created_at  subject_id           image_name     x     y  \n220164  2020-10-26 09:28:46 UTC    47974351  SMF02-1-2-2_570.jpg   186   310  \n361505  2020-08-30 16:22:33 UTC    47978494    SFP01_06-2_59.jpg   272   265  \n492222  2020-11-12 11:08:10 UTC    47980877      SRL04-1_348.jpg   358   194  \n492222  2020-11-12 11:08:10 UTC    47980877      SRL04-1_348.jpg   485   106  \n492222  2020-11-12 11:08:10 UTC    47980877      SRL04-1_348.jpg   458   205  \n...                         ...         ...                  ...   ...   ...  \n466862  2020-08-24 15:39:55 UTC    48034453      SRBS03-4_40.jpg   484   550  \n307560  2020-10-08 15:07:18 UTC    48034455      SRBS03-4_43.jpg   742   531  \n307563  2020-10-16 07:02:12 UTC    48034455      SRBS03-4_43.jpg  1412  1483  \n331694  2020-10-27 21:11:40 UTC    48034465      SRBS03-4_61.jpg  1458  1283  \n192188  2020-10-17 00:47:51 UTC    48034467      SRBS03-4_63.jpg   895  1032  \n\n[34545 rows x 11 columns]",
      "text/html": "<div>\n<style scoped>\n    .dataframe tbody tr th:only-of-type {\n        vertical-align: middle;\n    }\n\n    .dataframe tbody tr th {\n        vertical-align: top;\n    }\n\n    .dataframe thead th {\n        text-align: right;\n    }\n</style>\n<table border=\"1\" class=\"dataframe\">\n  <thead>\n    <tr style=\"text-align: right;\">\n      <th></th>\n      <th>classification_id</th>\n      <th>user_name</th>\n      <th>user_id</th>\n      <th>workflow_id</th>\n      <th>workflow_version</th>\n      <th>task</th>\n      <th>created_at</th>\n      <th>subject_id</th>\n      <th>image_name</th>\n      <th>x</th>\n      <th>y</th>\n    </tr>\n  </thead>\n  <tbody>\n    <tr>\n      <th>220164</th>\n      <td>283007416</td>\n      <td>77dd9c009b5200eea39788f7f15862f0</td>\n      <td>003abe9e6bb90e03c50377a33f1137a5</td>\n      <td>14370</td>\n      <td>134.236</td>\n      <td>T2</td>\n      <td>2020-10-26 09:28:46 UTC</td>\n      <td>47974351</td>\n      <td>SMF02-1-2-2_570.jpg</td>\n      <td>186</td>\n      <td>310</td>\n    </tr>\n    <tr>\n      <th>361505</th>\n      <td>271011060</td>\n      <td>fcbbe951169dc1df0b1f803a199f0995</td>\n      <td>004eb4442ae5c85fcb6b5c78ed902f41</td>\n      <td>14370</td>\n      <td>134.236</td>\n      <td>T2</td>\n      <td>2020-08-30 16:22:33 UTC</td>\n      <td>47978494</td>\n      <td>SFP01_06-2_59.jpg</td>\n      <td>272</td>\n      <td>265</td>\n    </tr>\n    <tr>\n      <th>492222</th>\n      <td>286621582</td>\n      <td>59e4feed8a3a84fb6bfdc5f29a1713b4</td>\n      <td>006c16c227f4152ffff80d195fca443b</td>\n      <td>14370</td>\n      <td>134.236</td>\n      <td>T2</td>\n      <td>2020-11-12 11:08:10 UTC</td>\n      <td>47980877</td>\n      <td>SRL04-1_348.jpg</td>\n      <td>358</td>\n      <td>194</td>\n    </tr>\n    <tr>\n      <th>492222</th>\n      <td>286621582</td>\n      <td>59e4feed8a3a84fb6bfdc5f29a1713b4</td>\n      <td>006c16c227f4152ffff80d195fca443b</td>\n      <td>14370</td>\n      <td>134.236</td>\n      <td>T2</td>\n      <td>2020-11-12 11:08:10 UTC</td>\n      <td>47980877</td>\n      <td>SRL04-1_348.jpg</td>\n      <td>485</td>\n      <td>106</td>\n    </tr>\n    <tr>\n      <th>492222</th>\n      <td>286621582</td>\n      <td>59e4feed8a3a84fb6bfdc5f29a1713b4</td>\n      <td>006c16c227f4152ffff80d195fca443b</td>\n      <td>14370</td>\n      <td>134.236</td>\n      <td>T2</td>\n      <td>2020-11-12 11:08:10 UTC</td>\n      <td>47980877</td>\n      <td>SRL04-1_348.jpg</td>\n      <td>458</td>\n      <td>205</td>\n    </tr>\n    <tr>\n      <th>...</th>\n      <td>...</td>\n      <td>...</td>\n      <td>...</td>\n      <td>...</td>\n      <td>...</td>\n      <td>...</td>\n      <td>...</td>\n      <td>...</td>\n      <td>...</td>\n      <td>...</td>\n      <td>...</td>\n    </tr>\n    <tr>\n      <th>466862</th>\n      <td>269965841</td>\n      <td>46c1b35e9e7a99fe391c096e87a43677</td>\n      <td>NaN</td>\n      <td>14370</td>\n      <td>134.236</td>\n      <td>T2</td>\n      <td>2020-08-24 15:39:55 UTC</td>\n      <td>48034453</td>\n      <td>SRBS03-4_40.jpg</td>\n      <td>484</td>\n      <td>550</td>\n    </tr>\n    <tr>\n      <th>307560</th>\n      <td>278911094</td>\n      <td>ec6e6d9157dc272dae21504deaa63687</td>\n      <td>NaN</td>\n      <td>14370</td>\n      <td>134.236</td>\n      <td>T2</td>\n      <td>2020-10-08 15:07:18 UTC</td>\n      <td>48034455</td>\n      <td>SRBS03-4_43.jpg</td>\n      <td>742</td>\n      <td>531</td>\n    </tr>\n    <tr>\n      <th>307563</th>\n      <td>280834231</td>\n      <td>28e1c957b094499b9178b64aadab669e</td>\n      <td>NaN</td>\n      <td>14370</td>\n      <td>134.236</td>\n      <td>T2</td>\n      <td>2020-10-16 07:02:12 UTC</td>\n      <td>48034455</td>\n      <td>SRBS03-4_43.jpg</td>\n      <td>1412</td>\n      <td>1483</td>\n    </tr>\n    <tr>\n      <th>331694</th>\n      <td>283374116</td>\n      <td>b35f4fa3408911f68c9c80ba68b8611f</td>\n      <td>NaN</td>\n      <td>14370</td>\n      <td>134.236</td>\n      <td>T2</td>\n      <td>2020-10-27 21:11:40 UTC</td>\n      <td>48034465</td>\n      <td>SRBS03-4_61.jpg</td>\n      <td>1458</td>\n      <td>1283</td>\n    </tr>\n    <tr>\n      <th>192188</th>\n      <td>281038044</td>\n      <td>f81b032a8ed514458a88f8c508dff561</td>\n      <td>NaN</td>\n      <td>14370</td>\n      <td>134.236</td>\n      <td>T2</td>\n      <td>2020-10-17 00:47:51 UTC</td>\n      <td>48034467</td>\n      <td>SRBS03-4_63.jpg</td>\n      <td>895</td>\n      <td>1032</td>\n    </tr>\n  </tbody>\n</table>\n<p>34545 rows × 11 columns</p>\n</div>"
     },
     "execution_count": 26,
     "metadata": {},
     "output_type": "execute_result"
    }
   ],
   "source": [
    "# cast x and y to int\n",
    "df_panoptes_point_extractor_r_ex_dropped = df_panoptes_point_extractor_r_ex_dropped.astype({'x': 'int32', 'y': 'int32'})\n",
    "df_panoptes_point_extractor_r_ex_dropped"
   ]
  },
  {
   "cell_type": "code",
   "execution_count": 27,
   "id": "6852db7c1077de6",
   "metadata": {
    "collapsed": false,
    "ExecuteTime": {
     "end_time": "2024-06-04T10:26:47.587065Z",
     "start_time": "2024-06-04T10:26:47.449460Z"
    }
   },
   "outputs": [],
   "source": [
    "df_panoptes_point_extractor_r_ex_dropped.to_csv(config[\"flat_panoptes_points\"], sep=\",\", index = False)"
   ]
  },
  {
   "cell_type": "markdown",
   "id": "18a9d6b4d094619e",
   "metadata": {
    "collapsed": false
   },
   "source": [
    "## Inspecting the results\n",
    "Check the numbers for a single subject_id"
   ]
  },
  {
   "cell_type": "code",
   "execution_count": 28,
   "id": "71db8866ca74ff92",
   "metadata": {
    "collapsed": false,
    "ExecuteTime": {
     "end_time": "2024-06-04T10:26:47.594781Z",
     "start_time": "2024-06-04T10:26:47.588044Z"
    }
   },
   "outputs": [
    {
     "data": {
      "text/plain": "Empty DataFrame\nColumns: [classification_id, user_name, user_id, workflow_id, workflow_version, task, created_at, subject_id, image_name, x, y]\nIndex: []",
      "text/html": "<div>\n<style scoped>\n    .dataframe tbody tr th:only-of-type {\n        vertical-align: middle;\n    }\n\n    .dataframe tbody tr th {\n        vertical-align: top;\n    }\n\n    .dataframe thead th {\n        text-align: right;\n    }\n</style>\n<table border=\"1\" class=\"dataframe\">\n  <thead>\n    <tr style=\"text-align: right;\">\n      <th></th>\n      <th>classification_id</th>\n      <th>user_name</th>\n      <th>user_id</th>\n      <th>workflow_id</th>\n      <th>workflow_version</th>\n      <th>task</th>\n      <th>created_at</th>\n      <th>subject_id</th>\n      <th>image_name</th>\n      <th>x</th>\n      <th>y</th>\n    </tr>\n  </thead>\n  <tbody>\n  </tbody>\n</table>\n</div>"
     },
     "execution_count": 28,
     "metadata": {},
     "output_type": "execute_result"
    }
   ],
   "source": [
    "### Looks the images in question\n",
    "\n",
    "subject_id_2 = 72373250 \n",
    "df_debug = df_panoptes_point_extractor_r_ex_dropped[(df_panoptes_point_extractor_r_ex_dropped.subject_id == subject_id_2)]\n",
    "df_debug"
   ]
  },
  {
   "cell_type": "code",
   "outputs": [
    {
     "data": {
      "text/plain": "Series([], dtype: int64)"
     },
     "execution_count": 29,
     "metadata": {},
     "output_type": "execute_result"
    }
   ],
   "source": [
    "df_debug.groupby('user_name').size()\n"
   ],
   "metadata": {
    "collapsed": false,
    "ExecuteTime": {
     "end_time": "2024-06-04T10:26:47.599476Z",
     "start_time": "2024-06-04T10:26:47.595659Z"
    }
   },
   "id": "5e3cbd752bce3b90",
   "execution_count": 29
  },
  {
   "cell_type": "code",
   "outputs": [
    {
     "data": {
      "text/plain": "Empty DataFrame\nColumns: [classification_id, user_name, user_id, workflow_id, workflow_version, task, created_at, subject_id, image_name, x, y]\nIndex: []",
      "text/html": "<div>\n<style scoped>\n    .dataframe tbody tr th:only-of-type {\n        vertical-align: middle;\n    }\n\n    .dataframe tbody tr th {\n        vertical-align: top;\n    }\n\n    .dataframe thead th {\n        text-align: right;\n    }\n</style>\n<table border=\"1\" class=\"dataframe\">\n  <thead>\n    <tr style=\"text-align: right;\">\n      <th></th>\n      <th>classification_id</th>\n      <th>user_name</th>\n      <th>user_id</th>\n      <th>workflow_id</th>\n      <th>workflow_version</th>\n      <th>task</th>\n      <th>created_at</th>\n      <th>subject_id</th>\n      <th>image_name</th>\n      <th>x</th>\n      <th>y</th>\n    </tr>\n  </thead>\n  <tbody>\n  </tbody>\n</table>\n</div>"
     },
     "execution_count": 30,
     "metadata": {},
     "output_type": "execute_result"
    }
   ],
   "source": [
    "df_debug[df_debug.user_name == \"CallieSanDiego\"]"
   ],
   "metadata": {
    "collapsed": false,
    "ExecuteTime": {
     "end_time": "2024-06-04T10:26:47.606051Z",
     "start_time": "2024-06-04T10:26:47.600450Z"
    }
   },
   "id": "7ff365a48909310b",
   "execution_count": 30
  },
  {
   "cell_type": "markdown",
   "id": "e61c47399cf2cc3c",
   "metadata": {
    "collapsed": false
   },
   "source": [
    "## Download images\n",
    "iguanas-from-above-subjects_with_url.csv will be used to track which url was already downlaoded."
   ]
  },
  {
   "cell_type": "code",
   "execution_count": 31,
   "id": "b9279ce089ee45da",
   "metadata": {
    "collapsed": false,
    "ExecuteTime": {
     "end_time": "2024-06-04T10:26:48.746577Z",
     "start_time": "2024-06-04T10:26:47.606958Z"
    }
   },
   "outputs": [],
   "source": [
    "## save the file the extra columns we need for downloading.\n",
    "df_subjects.to_csv(output_path / \"iguanas-from-above-subjects_with_url.csv\")\n",
    "\n",
    "\n",
    "# read the modified csv\n",
    "df_subjects = pd.read_csv(output_path / \"iguanas-from-above-subjects_with_url.csv\")\n"
   ]
  },
  {
   "cell_type": "code",
   "execution_count": 32,
   "id": "520289e3dd31ca98",
   "metadata": {
    "collapsed": false,
    "ExecuteTime": {
     "end_time": "2024-06-04T10:26:48.751781Z",
     "start_time": "2024-06-04T10:26:48.747759Z"
    }
   },
   "outputs": [],
   "source": [
    "# df_subjects = pd.read_csv(output_path / \"iguanas-from-above-subjects_with_url.csv\")\n",
    "\n",
    "# downoaded_images_path = Path(\"./data/downloaded_images\")\n",
    "# downoaded_images_path.mkdir(exist_ok=True, parents=True)\n",
    "# return_val = True\n",
    "# # df = df_subjects[df_subjects.subject_id.isin([44660616, 47968406])]\n",
    "# # df = df_subjects[df_subjects.subject_id.isin([44660616, 47968406])]\n",
    "# for index, row in df_subjects[df_subjects.workflow_id.isin([workflow_id_p1])].iterrows():\n",
    "#     # Only download if necessary\n",
    "#     if pd.isna(row.get(\"filepath\")) or not row.get(\"filepath\", False):\n",
    "#         flight_code = row['flight_code']\n",
    "#         url = row['url']\n",
    "#         image_name = Path(row['image_name']).name\n",
    "#         # Extract the filename from the URL and create a unique name using index\n",
    "#         filename = downoaded_images_path.joinpath(f\"{image_name}_{row['subject_id']}_{flight_code}.jpeg\")\n",
    "#         df_subjects.loc[index, 'filepath'] = filename\n",
    "#         # Download the image\n",
    "#         return_val = download_image(url, filename)\n",
    "# \n",
    "#         # print(f\"Downloaded {filename}\")\n",
    "#     if return_val == False:\n",
    "#         print(\"there was a problem\")\n",
    "#         # break\n",
    "        "
   ]
  },
  {
   "cell_type": "code",
   "execution_count": 33,
   "id": "42eddb1202ccbbe2",
   "metadata": {
    "collapsed": false,
    "ExecuteTime": {
     "end_time": "2024-06-04T10:26:49.487801Z",
     "start_time": "2024-06-04T10:26:48.753526Z"
    }
   },
   "outputs": [],
   "source": [
    "df_subjects.to_csv(output_path / \"iguanas-from-above-subjects_with_url.csv\")"
   ]
  }
 ],
 "metadata": {
  "kernelspec": {
   "display_name": "Python 3 (ipykernel)",
   "language": "python",
   "name": "python3"
  },
  "language_info": {
   "codemirror_mode": {
    "name": "ipython",
    "version": 3
   },
   "file_extension": ".py",
   "mimetype": "text/x-python",
   "name": "python",
   "nbconvert_exporter": "python",
   "pygments_lexer": "ipython3",
   "version": "3.9.6"
  }
 },
 "nbformat": 4,
 "nbformat_minor": 5
}
