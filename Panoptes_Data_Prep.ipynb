{
 "cells": [
  {
   "cell_type": "markdown",
   "id": "306034533dcead43",
   "metadata": {},
   "source": [
    "# Using the Panoptes Aggregation Tool from Zooniverse\n",
    "https://aggregation-caesar.zooniverse.org/Scripts.html#scripts\n"
   ]
  },
  {
   "cell_type": "code",
   "execution_count": 2,
   "id": "145bce94f139f8ae",
   "metadata": {
    "collapsed": false,
    "ExecuteTime": {
     "end_time": "2024-04-16T09:45:49.524527Z",
     "start_time": "2024-04-16T09:45:49.161074Z"
    }
   },
   "outputs": [
    {
     "data": {
      "text/plain": "{'annotations_source': PosixPath('/Users/christian/data/zooniverse/IguanasFromAbove/2023-10-15/iguanas-from-above-classifications.csv'),\n 'goldstandard_data': PosixPath('/Users/christian/data/zooniverse/Images/Zooniverse_Goldstandard_images/expert-GS-2ndphase.csv'),\n 'gold_standard_image_subset': PosixPath('/Users/christian/data/zooniverse/Images/Zooniverse_Goldstandard_images/2-T2-GS-results-5th-0s.csv'),\n 'image_source': PosixPath('/Users/christian/data/zooniverse/Images/Zooniverse_Goldstandard_images/2nd launch_without_prefix'),\n 'yes_no_dataset': PosixPath('/Users/christian/data/zooniverse/2024_04_16_analysis/Iguanas 2nd launch/yes_no_dataset_Iguanas 2nd launch.csv'),\n 'flat_dataset': PosixPath('/Users/christian/data/zooniverse/2024_04_16_analysis/Iguanas 2nd launch/flat_dataset_Iguanas 2nd launch.csv'),\n 'flat_panoptes_points': PosixPath('/Users/christian/data/zooniverse/2024_04_16_analysis/Iguanas 2nd launch/flat_panoptes_points_Iguanas 2nd launch.csv'),\n 'panoptes_question': PosixPath('/Users/christian/data/zooniverse/2024_04_16_analysis/Iguanas 2nd launch/panoptes_question_Iguanas 2nd launch.csv'),\n 'merged_dataset': PosixPath('/Users/christian/data/zooniverse/2024_04_16_analysis/Iguanas 2nd launch/flat_dataset_filtered_Iguanas 2nd launch.csv'),\n 'gold_standard_and_expert_count': PosixPath('/Users/christian/data/zooniverse/2024_04_16_analysis/Iguanas 2nd launch/Iguanas 2nd launch_gold_standard_and_expert_count.csv'),\n 'comparison_dataset': PosixPath('/Users/christian/data/zooniverse/2024_04_16_analysis/Iguanas 2nd launch/Iguanas 2nd launch_method_comparison.csv'),\n 'comparison_dataset_expert': PosixPath('/Users/christian/data/zooniverse/2024_04_16_analysis/Iguanas 2nd launch/Iguanas 2nd launch_method_comparison_expert.csv'),\n 'comparison_dataset_yes_no': PosixPath('/Users/christian/data/zooniverse/2024_04_16_analysis/Iguanas 2nd launch/Iguanas 2nd launch_method_comparison_yes_no.csv'),\n 'method_sums': PosixPath('/Users/christian/data/zooniverse/2024_04_16_analysis/Iguanas 2nd launch/Iguanas 2nd launch_method_sums.csv'),\n 'rmse_errors': PosixPath('/Users/christian/data/zooniverse/2024_04_16_analysis/Iguanas 2nd launch/Iguanas 2nd launch_rmse_errors.csv'),\n 'dbscan_hyperparam_grid': PosixPath('/Users/christian/data/zooniverse/2024_04_16_analysis/Iguanas 2nd launch/Iguanas 2nd launch_hyperparam_grid.csv')}"
     },
     "execution_count": 2,
     "metadata": {},
     "output_type": "execute_result"
    }
   ],
   "source": [
    "from zooniverse.config import get_config\n",
    "import pandas as pd\n",
    "from pathlib import Path\n",
    "\n",
    "### use either the subset of the subset\n",
    "#phase_tag = \"Iguanas 1st launch\"\n",
    "#data_folder = \"./data/phase_1\"\n",
    "\n",
    "phase_tag = \"Iguanas 2nd launch\"\n",
    "data_folder = \"./data/phase_2\"\n",
    "\n",
    "#phase_tag = \"Iguanas 3rd launch\"\n",
    "#data_folder = \"./data/phase_3\"\n",
    "\n",
    "workflow_id_p1 = 14370.0\n",
    "workflow_id_p2 = 20600.0\n",
    "workflow_id_p3 = 22040.0\n",
    "\n",
    "input_path = Path(\"/Users/christian/data/zooniverse\")\n",
    "\n",
    "# use_gold_standard_subset = \"expert\" # Use the expert-GS-Xphase as the basis\n",
    "output_path = Path(\"/Users/christian/data/zooniverse/2024_04_16_analysis\").joinpath(phase_tag).resolve()\n",
    "\n",
    "output_plot_path = output_path.joinpath(\"plots\")\n",
    "output_plot_path.mkdir(parents=True, exist_ok=True)\n",
    "\n",
    "reprocess = False\n",
    "\n",
    "config = get_config(phase_tag=phase_tag, input_path=input_path, output_path=output_path)\n",
    "config\n"
   ]
  },
  {
   "cell_type": "markdown",
   "id": "a76dff5a62b44242",
   "metadata": {
    "collapsed": false
   },
   "source": [
    "# Look into the subjects file\n",
    "This contains the mappings from the subject_id to the image file"
   ]
  },
  {
   "cell_type": "code",
   "execution_count": 3,
   "id": "ece7fc9bd3cf0a32",
   "metadata": {
    "collapsed": false,
    "ExecuteTime": {
     "end_time": "2024-04-16T09:45:49.883827Z",
     "start_time": "2024-04-16T09:45:49.526599Z"
    }
   },
   "outputs": [
    {
     "name": "stderr",
     "output_type": "stream",
     "text": [
      "/var/folders/2k/78nn7s4548986wsjh29rhj9w0000gn/T/ipykernel_48224/3062261204.py:2: DtypeWarning: Columns (7,8) have mixed types. Specify dtype option on import or set low_memory=False.\n",
      "  df_subjects = pd.read_csv(\"./data/zooniverse/iguanas-from-above-subjects.csv\", sep=\",\")\n"
     ]
    }
   ],
   "source": [
    "# read the original file\n",
    "df_subjects = pd.read_csv(\"./data/zooniverse/iguanas-from-above-subjects.csv\", sep=\",\")\n",
    "\n"
   ]
  },
  {
   "cell_type": "code",
   "execution_count": 4,
   "id": "53a025bc435647a6",
   "metadata": {
    "collapsed": false,
    "ExecuteTime": {
     "end_time": "2024-04-16T09:45:49.899363Z",
     "start_time": "2024-04-16T09:45:49.885504Z"
    }
   },
   "outputs": [],
   "source": [
    "# filter the subjects for only the images in the three phases\n",
    "\n",
    "df_subjects = df_subjects[df_subjects.workflow_id.isin([workflow_id_p1, workflow_id_p2, workflow_id_p3])]\n"
   ]
  },
  {
   "cell_type": "code",
   "execution_count": 5,
   "id": "dca9d371b7ae48d3",
   "metadata": {
    "collapsed": false,
    "ExecuteTime": {
     "end_time": "2024-04-16T09:45:50.054985Z",
     "start_time": "2024-04-16T09:45:49.902421Z"
    }
   },
   "outputs": [
    {
     "name": "stdout",
     "output_type": "stream",
     "text": [
      "{'0'}\n"
     ]
    }
   ],
   "source": [
    "# inspect the metadata\n",
    "import json\n",
    "def get_json_keys(json_str):\n",
    "    try:\n",
    "        json_obj = json.loads(json_str)\n",
    "        return list(json_obj.keys())\n",
    "    except json.JSONDecodeError:\n",
    "        return []\n",
    "\n",
    "# Apply the function to each row in the metadata column and collect all keys\n",
    "all_keys = df_subjects['locations'].apply(get_json_keys)\n",
    "\n",
    "# Flatten the list of lists and get unique keys\n",
    "unique_keys = set([key for sublist in all_keys for key in sublist])\n",
    "\n",
    "print(unique_keys)"
   ]
  },
  {
   "cell_type": "markdown",
   "id": "e7c8610ef9cd718c",
   "metadata": {
    "collapsed": false
   },
   "source": [
    "Clean up the subjects file"
   ]
  },
  {
   "cell_type": "code",
   "execution_count": 6,
   "id": "fd85800727c6759b",
   "metadata": {
    "collapsed": false,
    "ExecuteTime": {
     "end_time": "2024-04-16T09:45:51.287Z",
     "start_time": "2024-04-16T09:45:50.056187Z"
    }
   },
   "outputs": [],
   "source": [
    "df_subjects[\"image_name\"] = df_subjects['metadata'].apply(lambda x: json.loads(x).get('Image_name') \n",
    "                                        or json.loads(x).get('image_name') \n",
    "                                        or json.loads(x).get('Filename')).sort_values(ascending=True)\n",
    "\n",
    "# 'site', 'flight', 'Flight', 'Site', 'flight_code' depict the same\n",
    "df_subjects[\"flight_code\"] = df_subjects['metadata'].apply(lambda x: json.loads(x).get('flight_code') \n",
    "                                        or json.loads(x).get('site') \n",
    "                                        or json.loads(x).get('flight')\n",
    "                                        or json.loads(x).get('Flight')\n",
    "                                        or json.loads(x).get('Site')).sort_values(ascending=True)\n",
    "\n",
    "df_subjects[\"url\"] = df_subjects['locations'].apply(lambda x: json.loads(x)[\"0\"])\n",
    "df_subjects[\"filepath\"] = None"
   ]
  },
  {
   "cell_type": "code",
   "execution_count": 7,
   "id": "befdfc6395b89a03",
   "metadata": {
    "collapsed": false,
    "ExecuteTime": {
     "end_time": "2024-04-16T09:45:51.452113Z",
     "start_time": "2024-04-16T09:45:51.289436Z"
    }
   },
   "outputs": [
    {
     "name": "stderr",
     "output_type": "stream",
     "text": [
      "/Users/christian/PycharmProjects/iguanas-from-above-zooniverse/venv/lib/python3.9/site-packages/urllib3/__init__.py:34: NotOpenSSLWarning: urllib3 v2.0 only supports OpenSSL 1.1.1+, currently the 'ssl' module is compiled with 'LibreSSL 2.8.3'. See: https://github.com/urllib3/urllib3/issues/3020\n",
      "  warnings.warn(\n"
     ]
    }
   ],
   "source": [
    "from loguru import logger\n",
    "from time import sleep\n",
    "# helper function to download the images\n",
    "import requests\n",
    "\n",
    "def download_image(url, filename):\n",
    "    try:\n",
    "        response = requests.get(url)\n",
    "        if response.status_code == 200:\n",
    "            with open(filename, 'wb') as file:\n",
    "                file.write(response.content)\n",
    "            return True\n",
    "        else:\n",
    "            logger.warning(f\"Failed to download {url}\")\n",
    "            logger.error(response)\n",
    "            sleep(5)\n",
    "            return False\n",
    "    except Exception as e:\n",
    "        logger.error(e)\n",
    "        sleep(5)\n",
    "        return False"
   ]
  },
  {
   "cell_type": "markdown",
   "id": "b6577bcc8c9d6d2c",
   "metadata": {
    "collapsed": false
   },
   "source": [
    "# Panoptes Data Extraction from Zooniverse\n",
    "## Panoptes config\n",
    "### Create the configuration files automatically\n",
    "The configurations were changed to custom workflow versions."
   ]
  },
  {
   "cell_type": "code",
   "execution_count": 8,
   "id": "80589cdde7999f5b",
   "metadata": {
    "collapsed": false,
    "ExecuteTime": {
     "end_time": "2024-04-16T09:45:51.460393Z",
     "start_time": "2024-04-16T09:45:51.454781Z"
    }
   },
   "outputs": [],
   "source": [
    "# create a configuration file from the workflow\n",
    "#!mkdir ./data/phase_1\n",
    "#! panoptes_aggregation config /Users/christian/data/zooniverse/IguanasFromAbove/2023-10-15/iguanas-from-above-workflows.csv 14370 --min_version 0 --max_version 142.245 -d ./data/phase_1\n",
    "# \n",
    "#!mkdir ./data/phase_2\n",
    "#! panoptes_aggregation config /Users/christian/data/zooniverse/IguanasFromAbove/2023-10-15/iguanas-from-above-workflows.csv 20600 --min_version 0 --max_version 94.166 -d ./data/phase_2\n",
    "# \n",
    "#!mkdir ./data/phase_3\n",
    "#! panoptes_aggregation config /Users/christian/data/zooniverse/IguanasFromAbove/2023-10-15/iguanas-from-above-workflows.csv 22040 --min_version 0 --max_version 9.63 -d ./data/phase_3"
   ]
  },
  {
   "cell_type": "markdown",
   "id": "3926c1b2ca3745ea",
   "metadata": {
    "collapsed": false
   },
   "source": [
    "## Extract the data"
   ]
  },
  {
   "cell_type": "code",
   "execution_count": 9,
   "id": "d76485d137c3687",
   "metadata": {
    "collapsed": false,
    "ExecuteTime": {
     "end_time": "2024-04-16T09:45:51.474309Z",
     "start_time": "2024-04-16T09:45:51.462619Z"
    }
   },
   "outputs": [],
   "source": [
    "# phase 1\n",
    "if data_folder == \"./data/phase_1\":\n",
    "    !mkdir ./data/phase_1/V121.144\n",
    "    !mkdir ./data/phase_1/V134.236\n",
    "    \n",
    "    !panoptes_aggregation extract /Users/christian/data/zooniverse/IguanasFromAbove/2023-10-15/iguanas-from-above-classifications.csv -d ./data/phase_1/V121.144 ./data/phase_1/Extractor_config_workflow_14370_V121.144.yaml\n",
    "    \n",
    "    !panoptes_aggregation extract /Users/christian/data/zooniverse/IguanasFromAbove/2023-10-15/iguanas-from-above-classifications.csv -d ./data/phase_1/V134.236 ./data/phase_1/Extractor_config_workflow_14370_V134.236-1.yaml\n"
   ]
  },
  {
   "cell_type": "code",
   "execution_count": 10,
   "id": "7ab6b02efc27fd3e",
   "metadata": {
    "collapsed": false,
    "ExecuteTime": {
     "end_time": "2024-04-16T09:45:51.498368Z",
     "start_time": "2024-04-16T09:45:51.476508Z"
    }
   },
   "outputs": [],
   "source": [
    "if data_folder == \"./data/phase_2\" and reprocess == True:\n",
    "    # phase 2\n",
    "    \n",
    "    !mkdir ./data/phase_2/V89.162\n",
    "    !mkdir ./data/phase_2/V93.166\n",
    "    !mkdir ./data/phase_2/V94.166 \n",
    "    \n",
    "    !panoptes_aggregation extract /Users/christian/data/zooniverse/IguanasFromAbove/2023-10-15/iguanas-from-above-classifications.csv -d ./data/phase_2/V89.162 ./data/phase_2/Extractor_config_workflow_20600_V89.162.yaml\n",
    "    !panoptes_aggregation extract /Users/christian/data/zooniverse/IguanasFromAbove/2023-10-15/iguanas-from-above-classifications.csv -d ./data/phase_2/V93.166 ./data/phase_2/Extractor_config_workflow_20600_V93.166.yaml\n",
    "    !panoptes_aggregation extract /Users/christian/data/zooniverse/IguanasFromAbove/2023-10-15/iguanas-from-above-classifications.csv -d ./data/phase_2/V94.166 ./data/phase_2/Extractor_config_workflow_20600_V94.166.yaml\n",
    "\n"
   ]
  },
  {
   "cell_type": "code",
   "execution_count": 11,
   "id": "aa74703ed0c24bc5",
   "metadata": {
    "collapsed": false,
    "ExecuteTime": {
     "end_time": "2024-04-16T09:45:51.528816Z",
     "start_time": "2024-04-16T09:45:51.507406Z"
    }
   },
   "outputs": [],
   "source": [
    "if data_folder == \"./data/phase_3\":\n",
    "    !mkdir ./data/phase_3/V7.63\n",
    "    !mkdir ./data/phase_3/V9.63\n",
    "    \n",
    "    !panoptes_aggregation extract /Users/christian/data/zooniverse/IguanasFromAbove/2023-10-15/iguanas-from-above-classifications.csv -d ./data/phase_3/V7.63 ./data/phase_3/Extractor_config_workflow_22040_V7.63.yaml\n",
    "    !panoptes_aggregation extract /Users/christian/data/zooniverse/IguanasFromAbove/2023-10-15/iguanas-from-above-classifications.csv -d ./data/phase_3/V9.63 ./data/phase_3/Extractor_config_workflow_22040_V9.63.yaml"
   ]
  },
  {
   "cell_type": "markdown",
   "id": "af3dbedc1768b0ed",
   "metadata": {
    "collapsed": false
   },
   "source": [
    "\n",
    "\n"
   ]
  },
  {
   "cell_type": "markdown",
   "id": "627dcf3904529cee",
   "metadata": {
    "collapsed": false
   },
   "source": [
    "### Merge the single point and questions extractions"
   ]
  },
  {
   "cell_type": "code",
   "execution_count": 12,
   "id": "d8ea83ced96e1e6f",
   "metadata": {
    "collapsed": false,
    "ExecuteTime": {
     "end_time": "2024-04-16T09:45:51.537885Z",
     "start_time": "2024-04-16T09:45:51.530520Z"
    }
   },
   "outputs": [],
   "source": [
    "# phase 1\n",
    "if data_folder == \"./data/phase_1\":\n",
    "    df_panoptes_point_extractor_1 = pd.read_csv(f\"./data/phase_1/V121.144/point_extractor_by_frame_extractions.csv\", sep=\",\")\n",
    "    df_panoptes_point_extractor_2 = pd.read_csv(f\"./data/phase_1/V134.236/point_extractor_by_frame_extractions.csv\", sep=\",\")\n",
    "    df_panoptes_point_extractor_1[\"workflow_version\"] = \"121.144\"\n",
    "    df_panoptes_point_extractor_2[\"workflow_version\"] = \"134.236\"\n",
    "    \n",
    "    df_panoptes_question_1 = pd.read_csv(f\"{data_folder}/V121.144/question_extractor_extractions.csv\", sep=\",\")\n",
    "    df_panoptes_question_2 = pd.read_csv(f\"{data_folder}/V134.236/question_extractor_extractions.csv\", sep=\",\")\n",
    "    \n",
    "    df_panoptes_point_extractor = pd.concat([df_panoptes_point_extractor_1, df_panoptes_point_extractor_2], axis=0)\n",
    "    df_panoptes_question = pd.concat([df_panoptes_question_1, df_panoptes_question_2], axis=0)\n",
    "    \n",
    "    df_panoptes_point_extractor"
   ]
  },
  {
   "cell_type": "code",
   "execution_count": null,
   "id": "84f01a4d5c7f0334",
   "metadata": {
    "collapsed": false,
    "is_executing": true
   },
   "outputs": [],
   "source": [
    "# # phase 2\n",
    "if data_folder == \"./data/phase_2\":\n",
    "    # read the rectangles annotations too there\n",
    "    df_panotes_rectangle_extractor_1 = pd.read_csv(f\"{data_folder}/V89.162/shape_extractor_rectangle_extractions.csv\", sep=\",\")\n",
    "    \n",
    "    df_panoptes_point_extractor_1 = pd.read_csv(f\"{data_folder}/V89.162/point_extractor_by_frame_extractions.csv\", sep=\",\")\n",
    "    df_panoptes_point_extractor_2 = pd.read_csv(f\"{data_folder}/V93.166/point_extractor_by_frame_extractions.csv\", sep=\",\")\n",
    "    df_panoptes_point_extractor_3 = pd.read_csv(f\"{data_folder}/V94.166/point_extractor_by_frame_extractions.csv\", sep=\",\")\n",
    "    \n",
    "    df_panoptes_point_extractor_1[\"workflow_version\"] = \"89.162\"\n",
    "    df_panoptes_point_extractor_2[\"workflow_version\"] = \"93.166\"\n",
    "    df_panoptes_point_extractor_3[\"workflow_version\"] = \"94.166\"\n",
    "    \n",
    "    df_panoptes_question_1 = pd.read_csv(f\"{data_folder}/V89.162/question_extractor_extractions.csv\", sep=\",\")\n",
    "    df_panoptes_question_2 = pd.read_csv(f\"{data_folder}/V93.166/question_extractor_extractions.csv\", sep=\",\")\n",
    "    df_panoptes_question_3 = pd.read_csv(f\"{data_folder}/V94.166/question_extractor_extractions.csv\", sep=\",\")\n",
    "    \n",
    "    df_panoptes_point_extractor = pd.concat([df_panoptes_point_extractor_1, df_panoptes_point_extractor_2, df_panoptes_point_extractor_3], axis=0)\n",
    "    df_panoptes_question = pd.concat([df_panoptes_question_1, df_panoptes_question_2, df_panoptes_question_3], axis=0)\n",
    "\n",
    "    df_panotes_rectangle_extractor_1"
   ]
  },
  {
   "cell_type": "code",
   "execution_count": 14,
   "id": "290588b8d957e42e",
   "metadata": {
    "collapsed": false,
    "ExecuteTime": {
     "end_time": "2024-04-16T09:45:53.364401Z",
     "start_time": "2024-04-16T09:45:53.360554Z"
    }
   },
   "outputs": [],
   "source": [
    "if data_folder == \"./data/phase_3\":\n",
    "    df_panoptes_point_extractor_1 = pd.read_csv(f\"{data_folder}/V7.63/point_extractor_by_frame_extractions.csv\", sep=\",\")\n",
    "    df_panoptes_point_extractor_2 = pd.read_csv(f\"{data_folder}/V9.63/point_extractor_by_frame_extractions.csv\", sep=\",\")\n",
    "    df_panoptes_point_extractor_1[\"workflow_version\"] = \"7.63\"\n",
    "    df_panoptes_point_extractor_2[\"workflow_version\"] = \"9.63\"\n",
    "\n",
    "    df_panoptes_question_1 = pd.read_csv(f\"{data_folder}/V7.63/question_extractor_extractions.csv\", sep=\",\")\n",
    "    df_panoptes_question_2 = pd.read_csv(f\"{data_folder}/V9.63/question_extractor_extractions.csv\", sep=\",\")\n",
    "\n",
    "    df_panoptes_point_extractor = pd.concat([df_panoptes_point_extractor_1, df_panoptes_point_extractor_2], axis=0)\n",
    "    df_panoptes_question = pd.concat([df_panoptes_question_1, df_panoptes_question_2], axis=0)\n"
   ]
  },
  {
   "cell_type": "code",
   "execution_count": 15,
   "id": "425530a8a9acdc49",
   "metadata": {
    "collapsed": false,
    "ExecuteTime": {
     "end_time": "2024-04-16T09:45:53.884551Z",
     "start_time": "2024-04-16T09:45:53.365408Z"
    }
   },
   "outputs": [
    {
     "data": {
      "text/plain": "        classification_id                           user_name    user_id  \\\n0               393742576                          AmyMacLeod  1443210.0   \n1               393742638                          AmyMacLeod  1443210.0   \n2               393742678                          AmyMacLeod  1443210.0   \n3               393743049                          AmyMacLeod  1443210.0   \n4               393768668  not-logged-in-b0c587027139fe5e6549        NaN   \n...                   ...                                 ...        ...   \n176631          412711830                             Melisss  1369932.0   \n176632          412712258                             Melisss  1369932.0   \n176633          412712258                             Melisss  1369932.0   \n176634          456473615                             edengbn  2462144.0   \n176635          456473615                             edengbn  2462144.0   \n\n        workflow_id task               created_at  subject_id  \\\n0             20600   T4  2022-02-01 00:09:54 UTC    72335168   \n1             20600   T4  2022-02-01 00:10:20 UTC    72334984   \n2             20600   T4  2022-02-01 00:10:33 UTC    72340244   \n3             20600   T4  2022-02-01 00:12:15 UTC    72336318   \n4             20600   T4  2022-02-01 03:12:48 UTC    72372999   \n...             ...  ...                      ...         ...   \n176631        20600   T4  2022-05-03 07:08:50 UTC    72333494   \n176632        20600   T2  2022-05-03 07:12:18 UTC    72333471   \n176633        20600   T4  2022-05-03 07:12:18 UTC    72333471   \n176634        20600   T2  2022-12-13 01:27:15 UTC    72341496   \n176635        20600   T4  2022-12-13 01:27:15 UTC    72341496   \n\n                       extractor data.aggregation_version  \\\n0       point_extractor_by_frame                    4.1.0   \n1       point_extractor_by_frame                    4.1.0   \n2       point_extractor_by_frame                    4.1.0   \n3       point_extractor_by_frame                    4.1.0   \n4       point_extractor_by_frame                    4.1.0   \n...                          ...                      ...   \n176631  point_extractor_by_frame                    4.1.0   \n176632  point_extractor_by_frame                    4.1.0   \n176633  point_extractor_by_frame                    4.1.0   \n176634  point_extractor_by_frame                    4.1.0   \n176635  point_extractor_by_frame                    4.1.0   \n\n                                   data.frame0.T4_tool0_x  ...  \\\n0       [1481.24658203125, 64.83441925048828, 152.1798...  ...   \n1                                                     NaN  ...   \n2                                                     NaN  ...   \n3                                                     NaN  ...   \n4                                                     NaN  ...   \n...                                                   ...  ...   \n176631            [944.7937622070312, 1230.0899658203125]  ...   \n176632                                                NaN  ...   \n176633                                [1212.106201171875]  ...   \n176634                                                NaN  ...   \n176635                                                NaN  ...   \n\n       data.frame0.T4_tool6_y workflow_version data.frame0.T2_tool1_x  \\\n0                         NaN           89.162                    NaN   \n1                         NaN           89.162                    NaN   \n2                         NaN           89.162                    NaN   \n3                         NaN           89.162                    NaN   \n4                         NaN           89.162                    NaN   \n...                       ...              ...                    ...   \n176631                    NaN           94.166                    NaN   \n176632                    NaN           94.166                    NaN   \n176633                    NaN           94.166                    NaN   \n176634                    NaN           94.166                    NaN   \n176635                    NaN           94.166                    NaN   \n\n       data.frame0.T2_tool1_y data.frame0.T2_tool0_x data.frame0.T2_tool0_y  \\\n0                         NaN                    NaN                    NaN   \n1                         NaN                    NaN                    NaN   \n2                         NaN                    NaN                    NaN   \n3                         NaN                    NaN                    NaN   \n4                         NaN                    NaN                    NaN   \n...                       ...                    ...                    ...   \n176631                    NaN                    NaN                    NaN   \n176632                    NaN                    NaN                    NaN   \n176633                    NaN                    NaN                    NaN   \n176634                    NaN                    NaN                    NaN   \n176635                    NaN                    NaN                    NaN   \n\n       data.frame0.T2_tool2_x data.frame0.T2_tool2_y data.frame0.T2_tool3_x  \\\n0                         NaN                    NaN                    NaN   \n1                         NaN                    NaN                    NaN   \n2                         NaN                    NaN                    NaN   \n3                         NaN                    NaN                    NaN   \n4                         NaN                    NaN                    NaN   \n...                       ...                    ...                    ...   \n176631                    NaN                    NaN                    NaN   \n176632                    NaN                    NaN                    NaN   \n176633                    NaN                    NaN                    NaN   \n176634                    NaN                    NaN                    NaN   \n176635                    NaN                    NaN                    NaN   \n\n       data.frame0.T2_tool3_y  \n0                         NaN  \n1                         NaN  \n2                         NaN  \n3                         NaN  \n4                         NaN  \n...                       ...  \n176631                    NaN  \n176632                    NaN  \n176633                    NaN  \n176634                    NaN  \n176635                    NaN  \n\n[392787 rows x 34 columns]",
      "text/html": "<div>\n<style scoped>\n    .dataframe tbody tr th:only-of-type {\n        vertical-align: middle;\n    }\n\n    .dataframe tbody tr th {\n        vertical-align: top;\n    }\n\n    .dataframe thead th {\n        text-align: right;\n    }\n</style>\n<table border=\"1\" class=\"dataframe\">\n  <thead>\n    <tr style=\"text-align: right;\">\n      <th></th>\n      <th>classification_id</th>\n      <th>user_name</th>\n      <th>user_id</th>\n      <th>workflow_id</th>\n      <th>task</th>\n      <th>created_at</th>\n      <th>subject_id</th>\n      <th>extractor</th>\n      <th>data.aggregation_version</th>\n      <th>data.frame0.T4_tool0_x</th>\n      <th>...</th>\n      <th>data.frame0.T4_tool6_y</th>\n      <th>workflow_version</th>\n      <th>data.frame0.T2_tool1_x</th>\n      <th>data.frame0.T2_tool1_y</th>\n      <th>data.frame0.T2_tool0_x</th>\n      <th>data.frame0.T2_tool0_y</th>\n      <th>data.frame0.T2_tool2_x</th>\n      <th>data.frame0.T2_tool2_y</th>\n      <th>data.frame0.T2_tool3_x</th>\n      <th>data.frame0.T2_tool3_y</th>\n    </tr>\n  </thead>\n  <tbody>\n    <tr>\n      <th>0</th>\n      <td>393742576</td>\n      <td>AmyMacLeod</td>\n      <td>1443210.0</td>\n      <td>20600</td>\n      <td>T4</td>\n      <td>2022-02-01 00:09:54 UTC</td>\n      <td>72335168</td>\n      <td>point_extractor_by_frame</td>\n      <td>4.1.0</td>\n      <td>[1481.24658203125, 64.83441925048828, 152.1798...</td>\n      <td>...</td>\n      <td>NaN</td>\n      <td>89.162</td>\n      <td>NaN</td>\n      <td>NaN</td>\n      <td>NaN</td>\n      <td>NaN</td>\n      <td>NaN</td>\n      <td>NaN</td>\n      <td>NaN</td>\n      <td>NaN</td>\n    </tr>\n    <tr>\n      <th>1</th>\n      <td>393742638</td>\n      <td>AmyMacLeod</td>\n      <td>1443210.0</td>\n      <td>20600</td>\n      <td>T4</td>\n      <td>2022-02-01 00:10:20 UTC</td>\n      <td>72334984</td>\n      <td>point_extractor_by_frame</td>\n      <td>4.1.0</td>\n      <td>NaN</td>\n      <td>...</td>\n      <td>NaN</td>\n      <td>89.162</td>\n      <td>NaN</td>\n      <td>NaN</td>\n      <td>NaN</td>\n      <td>NaN</td>\n      <td>NaN</td>\n      <td>NaN</td>\n      <td>NaN</td>\n      <td>NaN</td>\n    </tr>\n    <tr>\n      <th>2</th>\n      <td>393742678</td>\n      <td>AmyMacLeod</td>\n      <td>1443210.0</td>\n      <td>20600</td>\n      <td>T4</td>\n      <td>2022-02-01 00:10:33 UTC</td>\n      <td>72340244</td>\n      <td>point_extractor_by_frame</td>\n      <td>4.1.0</td>\n      <td>NaN</td>\n      <td>...</td>\n      <td>NaN</td>\n      <td>89.162</td>\n      <td>NaN</td>\n      <td>NaN</td>\n      <td>NaN</td>\n      <td>NaN</td>\n      <td>NaN</td>\n      <td>NaN</td>\n      <td>NaN</td>\n      <td>NaN</td>\n    </tr>\n    <tr>\n      <th>3</th>\n      <td>393743049</td>\n      <td>AmyMacLeod</td>\n      <td>1443210.0</td>\n      <td>20600</td>\n      <td>T4</td>\n      <td>2022-02-01 00:12:15 UTC</td>\n      <td>72336318</td>\n      <td>point_extractor_by_frame</td>\n      <td>4.1.0</td>\n      <td>NaN</td>\n      <td>...</td>\n      <td>NaN</td>\n      <td>89.162</td>\n      <td>NaN</td>\n      <td>NaN</td>\n      <td>NaN</td>\n      <td>NaN</td>\n      <td>NaN</td>\n      <td>NaN</td>\n      <td>NaN</td>\n      <td>NaN</td>\n    </tr>\n    <tr>\n      <th>4</th>\n      <td>393768668</td>\n      <td>not-logged-in-b0c587027139fe5e6549</td>\n      <td>NaN</td>\n      <td>20600</td>\n      <td>T4</td>\n      <td>2022-02-01 03:12:48 UTC</td>\n      <td>72372999</td>\n      <td>point_extractor_by_frame</td>\n      <td>4.1.0</td>\n      <td>NaN</td>\n      <td>...</td>\n      <td>NaN</td>\n      <td>89.162</td>\n      <td>NaN</td>\n      <td>NaN</td>\n      <td>NaN</td>\n      <td>NaN</td>\n      <td>NaN</td>\n      <td>NaN</td>\n      <td>NaN</td>\n      <td>NaN</td>\n    </tr>\n    <tr>\n      <th>...</th>\n      <td>...</td>\n      <td>...</td>\n      <td>...</td>\n      <td>...</td>\n      <td>...</td>\n      <td>...</td>\n      <td>...</td>\n      <td>...</td>\n      <td>...</td>\n      <td>...</td>\n      <td>...</td>\n      <td>...</td>\n      <td>...</td>\n      <td>...</td>\n      <td>...</td>\n      <td>...</td>\n      <td>...</td>\n      <td>...</td>\n      <td>...</td>\n      <td>...</td>\n      <td>...</td>\n    </tr>\n    <tr>\n      <th>176631</th>\n      <td>412711830</td>\n      <td>Melisss</td>\n      <td>1369932.0</td>\n      <td>20600</td>\n      <td>T4</td>\n      <td>2022-05-03 07:08:50 UTC</td>\n      <td>72333494</td>\n      <td>point_extractor_by_frame</td>\n      <td>4.1.0</td>\n      <td>[944.7937622070312, 1230.0899658203125]</td>\n      <td>...</td>\n      <td>NaN</td>\n      <td>94.166</td>\n      <td>NaN</td>\n      <td>NaN</td>\n      <td>NaN</td>\n      <td>NaN</td>\n      <td>NaN</td>\n      <td>NaN</td>\n      <td>NaN</td>\n      <td>NaN</td>\n    </tr>\n    <tr>\n      <th>176632</th>\n      <td>412712258</td>\n      <td>Melisss</td>\n      <td>1369932.0</td>\n      <td>20600</td>\n      <td>T2</td>\n      <td>2022-05-03 07:12:18 UTC</td>\n      <td>72333471</td>\n      <td>point_extractor_by_frame</td>\n      <td>4.1.0</td>\n      <td>NaN</td>\n      <td>...</td>\n      <td>NaN</td>\n      <td>94.166</td>\n      <td>NaN</td>\n      <td>NaN</td>\n      <td>NaN</td>\n      <td>NaN</td>\n      <td>NaN</td>\n      <td>NaN</td>\n      <td>NaN</td>\n      <td>NaN</td>\n    </tr>\n    <tr>\n      <th>176633</th>\n      <td>412712258</td>\n      <td>Melisss</td>\n      <td>1369932.0</td>\n      <td>20600</td>\n      <td>T4</td>\n      <td>2022-05-03 07:12:18 UTC</td>\n      <td>72333471</td>\n      <td>point_extractor_by_frame</td>\n      <td>4.1.0</td>\n      <td>[1212.106201171875]</td>\n      <td>...</td>\n      <td>NaN</td>\n      <td>94.166</td>\n      <td>NaN</td>\n      <td>NaN</td>\n      <td>NaN</td>\n      <td>NaN</td>\n      <td>NaN</td>\n      <td>NaN</td>\n      <td>NaN</td>\n      <td>NaN</td>\n    </tr>\n    <tr>\n      <th>176634</th>\n      <td>456473615</td>\n      <td>edengbn</td>\n      <td>2462144.0</td>\n      <td>20600</td>\n      <td>T2</td>\n      <td>2022-12-13 01:27:15 UTC</td>\n      <td>72341496</td>\n      <td>point_extractor_by_frame</td>\n      <td>4.1.0</td>\n      <td>NaN</td>\n      <td>...</td>\n      <td>NaN</td>\n      <td>94.166</td>\n      <td>NaN</td>\n      <td>NaN</td>\n      <td>NaN</td>\n      <td>NaN</td>\n      <td>NaN</td>\n      <td>NaN</td>\n      <td>NaN</td>\n      <td>NaN</td>\n    </tr>\n    <tr>\n      <th>176635</th>\n      <td>456473615</td>\n      <td>edengbn</td>\n      <td>2462144.0</td>\n      <td>20600</td>\n      <td>T4</td>\n      <td>2022-12-13 01:27:15 UTC</td>\n      <td>72341496</td>\n      <td>point_extractor_by_frame</td>\n      <td>4.1.0</td>\n      <td>NaN</td>\n      <td>...</td>\n      <td>NaN</td>\n      <td>94.166</td>\n      <td>NaN</td>\n      <td>NaN</td>\n      <td>NaN</td>\n      <td>NaN</td>\n      <td>NaN</td>\n      <td>NaN</td>\n      <td>NaN</td>\n      <td>NaN</td>\n    </tr>\n  </tbody>\n</table>\n<p>392787 rows × 34 columns</p>\n</div>"
     },
     "execution_count": 15,
     "metadata": {},
     "output_type": "execute_result"
    }
   ],
   "source": [
    "df_panoptes_point_extractor"
   ]
  },
  {
   "cell_type": "code",
   "execution_count": 16,
   "id": "a1e2e015fdba1cb",
   "metadata": {
    "collapsed": false,
    "ExecuteTime": {
     "end_time": "2024-04-16T09:45:55.199069Z",
     "start_time": "2024-04-16T09:45:53.885763Z"
    }
   },
   "outputs": [
    {
     "data": {
      "text/plain": "        classification_id       user_name    user_id  workflow_id task  \\\n0               393742576      AmyMacLeod  1443210.0        20600   T4   \n1               394132937         laswett  2309767.0        20600   T2   \n2               394132937         laswett  2309767.0        20600   T4   \n3               394221102    colarsoledad  2360454.0        20600   T2   \n4               394221102    colarsoledad  2360454.0        20600   T4   \n...                   ...             ...        ...          ...  ...   \n392782          411516154        roserz12  2463318.0        20600   T4   \n392783          411521759        Jubumwun  2440846.0        20600   T2   \n392784          411521759        Jubumwun  2440846.0        20600   T4   \n392785          411540463  CallieSanDiego  1989263.0        20600   T2   \n392786          411540463  CallieSanDiego  1989263.0        20600   T4   \n\n                     created_at  subject_id                 extractor  \\\n0       2022-02-01 00:09:54 UTC    72335168  point_extractor_by_frame   \n1       2022-02-02 19:19:04 UTC    72335168  point_extractor_by_frame   \n2       2022-02-02 19:19:04 UTC    72335168  point_extractor_by_frame   \n3       2022-02-03 03:24:54 UTC    72335168  point_extractor_by_frame   \n4       2022-02-03 03:24:54 UTC    72335168  point_extractor_by_frame   \n...                         ...         ...                       ...   \n392782  2022-04-26 22:17:47 UTC    72339681  point_extractor_by_frame   \n392783  2022-04-26 22:55:30 UTC    72339681  point_extractor_by_frame   \n392784  2022-04-26 22:55:30 UTC    72339681  point_extractor_by_frame   \n392785  2022-04-27 01:13:51 UTC    72339681  point_extractor_by_frame   \n392786  2022-04-27 01:13:51 UTC    72339681  point_extractor_by_frame   \n\n       data.aggregation_version  \\\n0                         4.1.0   \n1                         4.1.0   \n2                         4.1.0   \n3                         4.1.0   \n4                         4.1.0   \n...                         ...   \n392782                    4.1.0   \n392783                    4.1.0   \n392784                    4.1.0   \n392785                    4.1.0   \n392786                    4.1.0   \n\n                                   data.frame0.T4_tool0_x  ...  \\\n0       [1481.24658203125, 64.83441925048828, 152.1798...  ...   \n1                                                     NaN  ...   \n2       [1474.2442626953125, 144.0193634033203, 12.096...  ...   \n3                                                     NaN  ...   \n4       [1474.424560546875, 146.7071990966797, 12.0523...  ...   \n...                                                   ...  ...   \n392782                                                NaN  ...   \n392783                                                NaN  ...   \n392784                                                NaN  ...   \n392785                                                NaN  ...   \n392786                                                NaN  ...   \n\n       workflow_version data.frame0.T2_tool1_x data.frame0.T2_tool1_y  \\\n0                89.162                    NaN                    NaN   \n1                93.166                    NaN                    NaN   \n2                93.166                    NaN                    NaN   \n3                93.166                    NaN                    NaN   \n4                93.166                    NaN                    NaN   \n...                 ...                    ...                    ...   \n392782           94.166                    NaN                    NaN   \n392783           94.166                    NaN                    NaN   \n392784           94.166                    NaN                    NaN   \n392785           94.166                    NaN                    NaN   \n392786           94.166                    NaN                    NaN   \n\n       data.frame0.T2_tool0_x data.frame0.T2_tool0_y data.frame0.T2_tool2_x  \\\n0                         NaN                    NaN                    NaN   \n1                         NaN                    NaN                    NaN   \n2                         NaN                    NaN                    NaN   \n3                         NaN                    NaN                    NaN   \n4                         NaN                    NaN                    NaN   \n...                       ...                    ...                    ...   \n392782                    NaN                    NaN                    NaN   \n392783                    NaN                    NaN                    NaN   \n392784                    NaN                    NaN                    NaN   \n392785                    NaN                    NaN                    NaN   \n392786                    NaN                    NaN                    NaN   \n\n       data.frame0.T2_tool2_y data.frame0.T2_tool3_x data.frame0.T2_tool3_y  \\\n0                         NaN                    NaN                    NaN   \n1                         NaN                    NaN                    NaN   \n2                         NaN                    NaN                    NaN   \n3                         NaN                    NaN                    NaN   \n4                         NaN                    NaN                    NaN   \n...                       ...                    ...                    ...   \n392782                    NaN                    NaN                    NaN   \n392783                    NaN                    NaN                    NaN   \n392784                    NaN                    NaN                    NaN   \n392785                    NaN                    NaN                    NaN   \n392786                    NaN                    NaN                    NaN   \n\n            image_name  \n0       EIG05-2_55.jpg  \n1       EIG05-2_55.jpg  \n2       EIG05-2_55.jpg  \n3       EIG05-2_55.jpg  \n4       EIG05-2_55.jpg  \n...                ...  \n392782    FPA04_31.jpg  \n392783    FPA04_31.jpg  \n392784    FPA04_31.jpg  \n392785    FPA04_31.jpg  \n392786    FPA04_31.jpg  \n\n[392787 rows x 35 columns]",
      "text/html": "<div>\n<style scoped>\n    .dataframe tbody tr th:only-of-type {\n        vertical-align: middle;\n    }\n\n    .dataframe tbody tr th {\n        vertical-align: top;\n    }\n\n    .dataframe thead th {\n        text-align: right;\n    }\n</style>\n<table border=\"1\" class=\"dataframe\">\n  <thead>\n    <tr style=\"text-align: right;\">\n      <th></th>\n      <th>classification_id</th>\n      <th>user_name</th>\n      <th>user_id</th>\n      <th>workflow_id</th>\n      <th>task</th>\n      <th>created_at</th>\n      <th>subject_id</th>\n      <th>extractor</th>\n      <th>data.aggregation_version</th>\n      <th>data.frame0.T4_tool0_x</th>\n      <th>...</th>\n      <th>workflow_version</th>\n      <th>data.frame0.T2_tool1_x</th>\n      <th>data.frame0.T2_tool1_y</th>\n      <th>data.frame0.T2_tool0_x</th>\n      <th>data.frame0.T2_tool0_y</th>\n      <th>data.frame0.T2_tool2_x</th>\n      <th>data.frame0.T2_tool2_y</th>\n      <th>data.frame0.T2_tool3_x</th>\n      <th>data.frame0.T2_tool3_y</th>\n      <th>image_name</th>\n    </tr>\n  </thead>\n  <tbody>\n    <tr>\n      <th>0</th>\n      <td>393742576</td>\n      <td>AmyMacLeod</td>\n      <td>1443210.0</td>\n      <td>20600</td>\n      <td>T4</td>\n      <td>2022-02-01 00:09:54 UTC</td>\n      <td>72335168</td>\n      <td>point_extractor_by_frame</td>\n      <td>4.1.0</td>\n      <td>[1481.24658203125, 64.83441925048828, 152.1798...</td>\n      <td>...</td>\n      <td>89.162</td>\n      <td>NaN</td>\n      <td>NaN</td>\n      <td>NaN</td>\n      <td>NaN</td>\n      <td>NaN</td>\n      <td>NaN</td>\n      <td>NaN</td>\n      <td>NaN</td>\n      <td>EIG05-2_55.jpg</td>\n    </tr>\n    <tr>\n      <th>1</th>\n      <td>394132937</td>\n      <td>laswett</td>\n      <td>2309767.0</td>\n      <td>20600</td>\n      <td>T2</td>\n      <td>2022-02-02 19:19:04 UTC</td>\n      <td>72335168</td>\n      <td>point_extractor_by_frame</td>\n      <td>4.1.0</td>\n      <td>NaN</td>\n      <td>...</td>\n      <td>93.166</td>\n      <td>NaN</td>\n      <td>NaN</td>\n      <td>NaN</td>\n      <td>NaN</td>\n      <td>NaN</td>\n      <td>NaN</td>\n      <td>NaN</td>\n      <td>NaN</td>\n      <td>EIG05-2_55.jpg</td>\n    </tr>\n    <tr>\n      <th>2</th>\n      <td>394132937</td>\n      <td>laswett</td>\n      <td>2309767.0</td>\n      <td>20600</td>\n      <td>T4</td>\n      <td>2022-02-02 19:19:04 UTC</td>\n      <td>72335168</td>\n      <td>point_extractor_by_frame</td>\n      <td>4.1.0</td>\n      <td>[1474.2442626953125, 144.0193634033203, 12.096...</td>\n      <td>...</td>\n      <td>93.166</td>\n      <td>NaN</td>\n      <td>NaN</td>\n      <td>NaN</td>\n      <td>NaN</td>\n      <td>NaN</td>\n      <td>NaN</td>\n      <td>NaN</td>\n      <td>NaN</td>\n      <td>EIG05-2_55.jpg</td>\n    </tr>\n    <tr>\n      <th>3</th>\n      <td>394221102</td>\n      <td>colarsoledad</td>\n      <td>2360454.0</td>\n      <td>20600</td>\n      <td>T2</td>\n      <td>2022-02-03 03:24:54 UTC</td>\n      <td>72335168</td>\n      <td>point_extractor_by_frame</td>\n      <td>4.1.0</td>\n      <td>NaN</td>\n      <td>...</td>\n      <td>93.166</td>\n      <td>NaN</td>\n      <td>NaN</td>\n      <td>NaN</td>\n      <td>NaN</td>\n      <td>NaN</td>\n      <td>NaN</td>\n      <td>NaN</td>\n      <td>NaN</td>\n      <td>EIG05-2_55.jpg</td>\n    </tr>\n    <tr>\n      <th>4</th>\n      <td>394221102</td>\n      <td>colarsoledad</td>\n      <td>2360454.0</td>\n      <td>20600</td>\n      <td>T4</td>\n      <td>2022-02-03 03:24:54 UTC</td>\n      <td>72335168</td>\n      <td>point_extractor_by_frame</td>\n      <td>4.1.0</td>\n      <td>[1474.424560546875, 146.7071990966797, 12.0523...</td>\n      <td>...</td>\n      <td>93.166</td>\n      <td>NaN</td>\n      <td>NaN</td>\n      <td>NaN</td>\n      <td>NaN</td>\n      <td>NaN</td>\n      <td>NaN</td>\n      <td>NaN</td>\n      <td>NaN</td>\n      <td>EIG05-2_55.jpg</td>\n    </tr>\n    <tr>\n      <th>...</th>\n      <td>...</td>\n      <td>...</td>\n      <td>...</td>\n      <td>...</td>\n      <td>...</td>\n      <td>...</td>\n      <td>...</td>\n      <td>...</td>\n      <td>...</td>\n      <td>...</td>\n      <td>...</td>\n      <td>...</td>\n      <td>...</td>\n      <td>...</td>\n      <td>...</td>\n      <td>...</td>\n      <td>...</td>\n      <td>...</td>\n      <td>...</td>\n      <td>...</td>\n      <td>...</td>\n    </tr>\n    <tr>\n      <th>392782</th>\n      <td>411516154</td>\n      <td>roserz12</td>\n      <td>2463318.0</td>\n      <td>20600</td>\n      <td>T4</td>\n      <td>2022-04-26 22:17:47 UTC</td>\n      <td>72339681</td>\n      <td>point_extractor_by_frame</td>\n      <td>4.1.0</td>\n      <td>NaN</td>\n      <td>...</td>\n      <td>94.166</td>\n      <td>NaN</td>\n      <td>NaN</td>\n      <td>NaN</td>\n      <td>NaN</td>\n      <td>NaN</td>\n      <td>NaN</td>\n      <td>NaN</td>\n      <td>NaN</td>\n      <td>FPA04_31.jpg</td>\n    </tr>\n    <tr>\n      <th>392783</th>\n      <td>411521759</td>\n      <td>Jubumwun</td>\n      <td>2440846.0</td>\n      <td>20600</td>\n      <td>T2</td>\n      <td>2022-04-26 22:55:30 UTC</td>\n      <td>72339681</td>\n      <td>point_extractor_by_frame</td>\n      <td>4.1.0</td>\n      <td>NaN</td>\n      <td>...</td>\n      <td>94.166</td>\n      <td>NaN</td>\n      <td>NaN</td>\n      <td>NaN</td>\n      <td>NaN</td>\n      <td>NaN</td>\n      <td>NaN</td>\n      <td>NaN</td>\n      <td>NaN</td>\n      <td>FPA04_31.jpg</td>\n    </tr>\n    <tr>\n      <th>392784</th>\n      <td>411521759</td>\n      <td>Jubumwun</td>\n      <td>2440846.0</td>\n      <td>20600</td>\n      <td>T4</td>\n      <td>2022-04-26 22:55:30 UTC</td>\n      <td>72339681</td>\n      <td>point_extractor_by_frame</td>\n      <td>4.1.0</td>\n      <td>NaN</td>\n      <td>...</td>\n      <td>94.166</td>\n      <td>NaN</td>\n      <td>NaN</td>\n      <td>NaN</td>\n      <td>NaN</td>\n      <td>NaN</td>\n      <td>NaN</td>\n      <td>NaN</td>\n      <td>NaN</td>\n      <td>FPA04_31.jpg</td>\n    </tr>\n    <tr>\n      <th>392785</th>\n      <td>411540463</td>\n      <td>CallieSanDiego</td>\n      <td>1989263.0</td>\n      <td>20600</td>\n      <td>T2</td>\n      <td>2022-04-27 01:13:51 UTC</td>\n      <td>72339681</td>\n      <td>point_extractor_by_frame</td>\n      <td>4.1.0</td>\n      <td>NaN</td>\n      <td>...</td>\n      <td>94.166</td>\n      <td>NaN</td>\n      <td>NaN</td>\n      <td>NaN</td>\n      <td>NaN</td>\n      <td>NaN</td>\n      <td>NaN</td>\n      <td>NaN</td>\n      <td>NaN</td>\n      <td>FPA04_31.jpg</td>\n    </tr>\n    <tr>\n      <th>392786</th>\n      <td>411540463</td>\n      <td>CallieSanDiego</td>\n      <td>1989263.0</td>\n      <td>20600</td>\n      <td>T4</td>\n      <td>2022-04-27 01:13:51 UTC</td>\n      <td>72339681</td>\n      <td>point_extractor_by_frame</td>\n      <td>4.1.0</td>\n      <td>NaN</td>\n      <td>...</td>\n      <td>94.166</td>\n      <td>NaN</td>\n      <td>NaN</td>\n      <td>NaN</td>\n      <td>NaN</td>\n      <td>NaN</td>\n      <td>NaN</td>\n      <td>NaN</td>\n      <td>NaN</td>\n      <td>FPA04_31.jpg</td>\n    </tr>\n  </tbody>\n</table>\n<p>392787 rows × 35 columns</p>\n</div>"
     },
     "execution_count": 16,
     "metadata": {},
     "output_type": "execute_result"
    }
   ],
   "source": [
    "# join the image name from the subjects file\n",
    "df_panoptes_point_extractor = df_panoptes_point_extractor.merge(df_subjects[[\"subject_id\", \"image_name\"]], left_on=\"subject_id\", right_on=\"subject_id\")\n",
    "df_panoptes_point_extractor = df_panoptes_point_extractor[df_panoptes_point_extractor.subject_id.isin(df_subjects.subject_id)]\n",
    "\n",
    "df_panoptes_point_extractor"
   ]
  },
  {
   "cell_type": "markdown",
   "id": "98655d7df058a64d",
   "metadata": {
    "collapsed": false
   },
   "source": [
    "## Anonymise the data"
   ]
  },
  {
   "cell_type": "code",
   "execution_count": 17,
   "id": "7053c0a8476989c3",
   "metadata": {
    "collapsed": false,
    "ExecuteTime": {
     "end_time": "2024-04-16T09:45:57.472789Z",
     "start_time": "2024-04-16T09:45:55.200071Z"
    }
   },
   "outputs": [],
   "source": [
    "from hashlib import blake2b\n",
    "\n",
    "df_panoptes_point_extractor[\"user_id\"] = df_panoptes_point_extractor['user_id'].apply(lambda x: blake2b(str(x).encode(), digest_size=16).hexdigest() if not pd.isnull(x) else x)\n",
    "# Anonymize 'user_name' by hashing\n",
    "df_panoptes_point_extractor['user_name'] = df_panoptes_point_extractor['user_name'].apply(lambda x: blake2b(x.encode(), digest_size=16).hexdigest() if isinstance(x, str) else x)\n",
    "\n",
    "df_panoptes_question[\"user_id\"] = df_panoptes_question['user_id'].apply(lambda x: blake2b(str(x).encode(), digest_size=16).hexdigest() if not pd.isnull(x) else x)\n",
    "# Anonymize 'user_name' by hashing\n",
    "df_panoptes_question['user_name'] = df_panoptes_question['user_name'].apply(lambda x: blake2b(x.encode(), digest_size=16).hexdigest() if isinstance(x, str) else x)"
   ]
  },
  {
   "cell_type": "code",
   "execution_count": 18,
   "id": "672c51cc23c3b710",
   "metadata": {
    "collapsed": false,
    "ExecuteTime": {
     "end_time": "2024-04-16T09:45:57.963968Z",
     "start_time": "2024-04-16T09:45:57.474231Z"
    }
   },
   "outputs": [
    {
     "data": {
      "text/plain": "        classification_id                         user_name  \\\n0               393742576  19835766ecbb50ec6fbe68caa85e4c63   \n1               394132937  691500ccebe2131f83809524df652f87   \n2               394132937  691500ccebe2131f83809524df652f87   \n3               394221102  07452636222fb135e92fd5bedbecd18c   \n4               394221102  07452636222fb135e92fd5bedbecd18c   \n...                   ...                               ...   \n392782          411516154  9ab0dec08676f4d8147dc2795c832b1c   \n392783          411521759  21f1cdf48bb3a0f13deeb1de0cfe194a   \n392784          411521759  21f1cdf48bb3a0f13deeb1de0cfe194a   \n392785          411540463  14d24a5c9234b322cb10145547ea5222   \n392786          411540463  14d24a5c9234b322cb10145547ea5222   \n\n                                 user_id  workflow_id task  \\\n0       8bfe78a8dc879fc7aabe1ff94a42d74f        20600   T4   \n1       c11a32c827347926881e5e1db75cb701        20600   T2   \n2       c11a32c827347926881e5e1db75cb701        20600   T4   \n3       1dcb5107d19f3fa3d0d40eb4fa5a32ac        20600   T2   \n4       1dcb5107d19f3fa3d0d40eb4fa5a32ac        20600   T4   \n...                                  ...          ...  ...   \n392782  9ca59dc6cdb395496bace4f9b9bb887b        20600   T4   \n392783  db20ef8c2ff775170aa11a62f2a288da        20600   T2   \n392784  db20ef8c2ff775170aa11a62f2a288da        20600   T4   \n392785  aa43b1f9c4c4b98e2457b3c5bc1690c8        20600   T2   \n392786  aa43b1f9c4c4b98e2457b3c5bc1690c8        20600   T4   \n\n                     created_at  subject_id                 extractor  \\\n0       2022-02-01 00:09:54 UTC    72335168  point_extractor_by_frame   \n1       2022-02-02 19:19:04 UTC    72335168  point_extractor_by_frame   \n2       2022-02-02 19:19:04 UTC    72335168  point_extractor_by_frame   \n3       2022-02-03 03:24:54 UTC    72335168  point_extractor_by_frame   \n4       2022-02-03 03:24:54 UTC    72335168  point_extractor_by_frame   \n...                         ...         ...                       ...   \n392782  2022-04-26 22:17:47 UTC    72339681  point_extractor_by_frame   \n392783  2022-04-26 22:55:30 UTC    72339681  point_extractor_by_frame   \n392784  2022-04-26 22:55:30 UTC    72339681  point_extractor_by_frame   \n392785  2022-04-27 01:13:51 UTC    72339681  point_extractor_by_frame   \n392786  2022-04-27 01:13:51 UTC    72339681  point_extractor_by_frame   \n\n       data.aggregation_version  \\\n0                         4.1.0   \n1                         4.1.0   \n2                         4.1.0   \n3                         4.1.0   \n4                         4.1.0   \n...                         ...   \n392782                    4.1.0   \n392783                    4.1.0   \n392784                    4.1.0   \n392785                    4.1.0   \n392786                    4.1.0   \n\n                                   data.frame0.T4_tool0_x  ...  \\\n0       [1481.24658203125, 64.83441925048828, 152.1798...  ...   \n1                                                     NaN  ...   \n2       [1474.2442626953125, 144.0193634033203, 12.096...  ...   \n3                                                     NaN  ...   \n4       [1474.424560546875, 146.7071990966797, 12.0523...  ...   \n...                                                   ...  ...   \n392782                                                NaN  ...   \n392783                                                NaN  ...   \n392784                                                NaN  ...   \n392785                                                NaN  ...   \n392786                                                NaN  ...   \n\n       workflow_version data.frame0.T2_tool1_x data.frame0.T2_tool1_y  \\\n0                89.162                    NaN                    NaN   \n1                93.166                    NaN                    NaN   \n2                93.166                    NaN                    NaN   \n3                93.166                    NaN                    NaN   \n4                93.166                    NaN                    NaN   \n...                 ...                    ...                    ...   \n392782           94.166                    NaN                    NaN   \n392783           94.166                    NaN                    NaN   \n392784           94.166                    NaN                    NaN   \n392785           94.166                    NaN                    NaN   \n392786           94.166                    NaN                    NaN   \n\n       data.frame0.T2_tool0_x data.frame0.T2_tool0_y data.frame0.T2_tool2_x  \\\n0                         NaN                    NaN                    NaN   \n1                         NaN                    NaN                    NaN   \n2                         NaN                    NaN                    NaN   \n3                         NaN                    NaN                    NaN   \n4                         NaN                    NaN                    NaN   \n...                       ...                    ...                    ...   \n392782                    NaN                    NaN                    NaN   \n392783                    NaN                    NaN                    NaN   \n392784                    NaN                    NaN                    NaN   \n392785                    NaN                    NaN                    NaN   \n392786                    NaN                    NaN                    NaN   \n\n       data.frame0.T2_tool2_y data.frame0.T2_tool3_x data.frame0.T2_tool3_y  \\\n0                         NaN                    NaN                    NaN   \n1                         NaN                    NaN                    NaN   \n2                         NaN                    NaN                    NaN   \n3                         NaN                    NaN                    NaN   \n4                         NaN                    NaN                    NaN   \n...                       ...                    ...                    ...   \n392782                    NaN                    NaN                    NaN   \n392783                    NaN                    NaN                    NaN   \n392784                    NaN                    NaN                    NaN   \n392785                    NaN                    NaN                    NaN   \n392786                    NaN                    NaN                    NaN   \n\n            image_name  \n0       EIG05-2_55.jpg  \n1       EIG05-2_55.jpg  \n2       EIG05-2_55.jpg  \n3       EIG05-2_55.jpg  \n4       EIG05-2_55.jpg  \n...                ...  \n392782    FPA04_31.jpg  \n392783    FPA04_31.jpg  \n392784    FPA04_31.jpg  \n392785    FPA04_31.jpg  \n392786    FPA04_31.jpg  \n\n[392787 rows x 35 columns]",
      "text/html": "<div>\n<style scoped>\n    .dataframe tbody tr th:only-of-type {\n        vertical-align: middle;\n    }\n\n    .dataframe tbody tr th {\n        vertical-align: top;\n    }\n\n    .dataframe thead th {\n        text-align: right;\n    }\n</style>\n<table border=\"1\" class=\"dataframe\">\n  <thead>\n    <tr style=\"text-align: right;\">\n      <th></th>\n      <th>classification_id</th>\n      <th>user_name</th>\n      <th>user_id</th>\n      <th>workflow_id</th>\n      <th>task</th>\n      <th>created_at</th>\n      <th>subject_id</th>\n      <th>extractor</th>\n      <th>data.aggregation_version</th>\n      <th>data.frame0.T4_tool0_x</th>\n      <th>...</th>\n      <th>workflow_version</th>\n      <th>data.frame0.T2_tool1_x</th>\n      <th>data.frame0.T2_tool1_y</th>\n      <th>data.frame0.T2_tool0_x</th>\n      <th>data.frame0.T2_tool0_y</th>\n      <th>data.frame0.T2_tool2_x</th>\n      <th>data.frame0.T2_tool2_y</th>\n      <th>data.frame0.T2_tool3_x</th>\n      <th>data.frame0.T2_tool3_y</th>\n      <th>image_name</th>\n    </tr>\n  </thead>\n  <tbody>\n    <tr>\n      <th>0</th>\n      <td>393742576</td>\n      <td>19835766ecbb50ec6fbe68caa85e4c63</td>\n      <td>8bfe78a8dc879fc7aabe1ff94a42d74f</td>\n      <td>20600</td>\n      <td>T4</td>\n      <td>2022-02-01 00:09:54 UTC</td>\n      <td>72335168</td>\n      <td>point_extractor_by_frame</td>\n      <td>4.1.0</td>\n      <td>[1481.24658203125, 64.83441925048828, 152.1798...</td>\n      <td>...</td>\n      <td>89.162</td>\n      <td>NaN</td>\n      <td>NaN</td>\n      <td>NaN</td>\n      <td>NaN</td>\n      <td>NaN</td>\n      <td>NaN</td>\n      <td>NaN</td>\n      <td>NaN</td>\n      <td>EIG05-2_55.jpg</td>\n    </tr>\n    <tr>\n      <th>1</th>\n      <td>394132937</td>\n      <td>691500ccebe2131f83809524df652f87</td>\n      <td>c11a32c827347926881e5e1db75cb701</td>\n      <td>20600</td>\n      <td>T2</td>\n      <td>2022-02-02 19:19:04 UTC</td>\n      <td>72335168</td>\n      <td>point_extractor_by_frame</td>\n      <td>4.1.0</td>\n      <td>NaN</td>\n      <td>...</td>\n      <td>93.166</td>\n      <td>NaN</td>\n      <td>NaN</td>\n      <td>NaN</td>\n      <td>NaN</td>\n      <td>NaN</td>\n      <td>NaN</td>\n      <td>NaN</td>\n      <td>NaN</td>\n      <td>EIG05-2_55.jpg</td>\n    </tr>\n    <tr>\n      <th>2</th>\n      <td>394132937</td>\n      <td>691500ccebe2131f83809524df652f87</td>\n      <td>c11a32c827347926881e5e1db75cb701</td>\n      <td>20600</td>\n      <td>T4</td>\n      <td>2022-02-02 19:19:04 UTC</td>\n      <td>72335168</td>\n      <td>point_extractor_by_frame</td>\n      <td>4.1.0</td>\n      <td>[1474.2442626953125, 144.0193634033203, 12.096...</td>\n      <td>...</td>\n      <td>93.166</td>\n      <td>NaN</td>\n      <td>NaN</td>\n      <td>NaN</td>\n      <td>NaN</td>\n      <td>NaN</td>\n      <td>NaN</td>\n      <td>NaN</td>\n      <td>NaN</td>\n      <td>EIG05-2_55.jpg</td>\n    </tr>\n    <tr>\n      <th>3</th>\n      <td>394221102</td>\n      <td>07452636222fb135e92fd5bedbecd18c</td>\n      <td>1dcb5107d19f3fa3d0d40eb4fa5a32ac</td>\n      <td>20600</td>\n      <td>T2</td>\n      <td>2022-02-03 03:24:54 UTC</td>\n      <td>72335168</td>\n      <td>point_extractor_by_frame</td>\n      <td>4.1.0</td>\n      <td>NaN</td>\n      <td>...</td>\n      <td>93.166</td>\n      <td>NaN</td>\n      <td>NaN</td>\n      <td>NaN</td>\n      <td>NaN</td>\n      <td>NaN</td>\n      <td>NaN</td>\n      <td>NaN</td>\n      <td>NaN</td>\n      <td>EIG05-2_55.jpg</td>\n    </tr>\n    <tr>\n      <th>4</th>\n      <td>394221102</td>\n      <td>07452636222fb135e92fd5bedbecd18c</td>\n      <td>1dcb5107d19f3fa3d0d40eb4fa5a32ac</td>\n      <td>20600</td>\n      <td>T4</td>\n      <td>2022-02-03 03:24:54 UTC</td>\n      <td>72335168</td>\n      <td>point_extractor_by_frame</td>\n      <td>4.1.0</td>\n      <td>[1474.424560546875, 146.7071990966797, 12.0523...</td>\n      <td>...</td>\n      <td>93.166</td>\n      <td>NaN</td>\n      <td>NaN</td>\n      <td>NaN</td>\n      <td>NaN</td>\n      <td>NaN</td>\n      <td>NaN</td>\n      <td>NaN</td>\n      <td>NaN</td>\n      <td>EIG05-2_55.jpg</td>\n    </tr>\n    <tr>\n      <th>...</th>\n      <td>...</td>\n      <td>...</td>\n      <td>...</td>\n      <td>...</td>\n      <td>...</td>\n      <td>...</td>\n      <td>...</td>\n      <td>...</td>\n      <td>...</td>\n      <td>...</td>\n      <td>...</td>\n      <td>...</td>\n      <td>...</td>\n      <td>...</td>\n      <td>...</td>\n      <td>...</td>\n      <td>...</td>\n      <td>...</td>\n      <td>...</td>\n      <td>...</td>\n      <td>...</td>\n    </tr>\n    <tr>\n      <th>392782</th>\n      <td>411516154</td>\n      <td>9ab0dec08676f4d8147dc2795c832b1c</td>\n      <td>9ca59dc6cdb395496bace4f9b9bb887b</td>\n      <td>20600</td>\n      <td>T4</td>\n      <td>2022-04-26 22:17:47 UTC</td>\n      <td>72339681</td>\n      <td>point_extractor_by_frame</td>\n      <td>4.1.0</td>\n      <td>NaN</td>\n      <td>...</td>\n      <td>94.166</td>\n      <td>NaN</td>\n      <td>NaN</td>\n      <td>NaN</td>\n      <td>NaN</td>\n      <td>NaN</td>\n      <td>NaN</td>\n      <td>NaN</td>\n      <td>NaN</td>\n      <td>FPA04_31.jpg</td>\n    </tr>\n    <tr>\n      <th>392783</th>\n      <td>411521759</td>\n      <td>21f1cdf48bb3a0f13deeb1de0cfe194a</td>\n      <td>db20ef8c2ff775170aa11a62f2a288da</td>\n      <td>20600</td>\n      <td>T2</td>\n      <td>2022-04-26 22:55:30 UTC</td>\n      <td>72339681</td>\n      <td>point_extractor_by_frame</td>\n      <td>4.1.0</td>\n      <td>NaN</td>\n      <td>...</td>\n      <td>94.166</td>\n      <td>NaN</td>\n      <td>NaN</td>\n      <td>NaN</td>\n      <td>NaN</td>\n      <td>NaN</td>\n      <td>NaN</td>\n      <td>NaN</td>\n      <td>NaN</td>\n      <td>FPA04_31.jpg</td>\n    </tr>\n    <tr>\n      <th>392784</th>\n      <td>411521759</td>\n      <td>21f1cdf48bb3a0f13deeb1de0cfe194a</td>\n      <td>db20ef8c2ff775170aa11a62f2a288da</td>\n      <td>20600</td>\n      <td>T4</td>\n      <td>2022-04-26 22:55:30 UTC</td>\n      <td>72339681</td>\n      <td>point_extractor_by_frame</td>\n      <td>4.1.0</td>\n      <td>NaN</td>\n      <td>...</td>\n      <td>94.166</td>\n      <td>NaN</td>\n      <td>NaN</td>\n      <td>NaN</td>\n      <td>NaN</td>\n      <td>NaN</td>\n      <td>NaN</td>\n      <td>NaN</td>\n      <td>NaN</td>\n      <td>FPA04_31.jpg</td>\n    </tr>\n    <tr>\n      <th>392785</th>\n      <td>411540463</td>\n      <td>14d24a5c9234b322cb10145547ea5222</td>\n      <td>aa43b1f9c4c4b98e2457b3c5bc1690c8</td>\n      <td>20600</td>\n      <td>T2</td>\n      <td>2022-04-27 01:13:51 UTC</td>\n      <td>72339681</td>\n      <td>point_extractor_by_frame</td>\n      <td>4.1.0</td>\n      <td>NaN</td>\n      <td>...</td>\n      <td>94.166</td>\n      <td>NaN</td>\n      <td>NaN</td>\n      <td>NaN</td>\n      <td>NaN</td>\n      <td>NaN</td>\n      <td>NaN</td>\n      <td>NaN</td>\n      <td>NaN</td>\n      <td>FPA04_31.jpg</td>\n    </tr>\n    <tr>\n      <th>392786</th>\n      <td>411540463</td>\n      <td>14d24a5c9234b322cb10145547ea5222</td>\n      <td>aa43b1f9c4c4b98e2457b3c5bc1690c8</td>\n      <td>20600</td>\n      <td>T4</td>\n      <td>2022-04-27 01:13:51 UTC</td>\n      <td>72339681</td>\n      <td>point_extractor_by_frame</td>\n      <td>4.1.0</td>\n      <td>NaN</td>\n      <td>...</td>\n      <td>94.166</td>\n      <td>NaN</td>\n      <td>NaN</td>\n      <td>NaN</td>\n      <td>NaN</td>\n      <td>NaN</td>\n      <td>NaN</td>\n      <td>NaN</td>\n      <td>NaN</td>\n      <td>FPA04_31.jpg</td>\n    </tr>\n  </tbody>\n</table>\n<p>392787 rows × 35 columns</p>\n</div>"
     },
     "execution_count": 18,
     "metadata": {},
     "output_type": "execute_result"
    }
   ],
   "source": [
    "df_panoptes_point_extractor"
   ]
  },
  {
   "cell_type": "markdown",
   "id": "87cd528b792893ae",
   "metadata": {
    "collapsed": false
   },
   "source": [
    "## Determine the amount of yes Answers for \"Is there an Iguana\""
   ]
  },
  {
   "cell_type": "code",
   "execution_count": 19,
   "id": "f06344cdbad0cb10",
   "metadata": {
    "collapsed": false,
    "ExecuteTime": {
     "end_time": "2024-04-16T09:45:57.976045Z",
     "start_time": "2024-04-16T09:45:57.965173Z"
    }
   },
   "outputs": [
    {
     "data": {
      "text/plain": "       classification_id                         user_name  \\\n0              393742576  19835766ecbb50ec6fbe68caa85e4c63   \n1              393742638  19835766ecbb50ec6fbe68caa85e4c63   \n2              393742678  19835766ecbb50ec6fbe68caa85e4c63   \n3              393743049  19835766ecbb50ec6fbe68caa85e4c63   \n4              393768668  dc0ea5c32da0e322969ff6e6aa76ca5f   \n...                  ...                               ...   \n88313          412711106  d607a725449d5e3a2deaba5014fce17d   \n88314          412711577  d607a725449d5e3a2deaba5014fce17d   \n88315          412711830  d607a725449d5e3a2deaba5014fce17d   \n88316          412712258  d607a725449d5e3a2deaba5014fce17d   \n88317          456473615  593e39ba4a91fa148be4e9266517e294   \n\n                                user_id  workflow_id task  \\\n0      8bfe78a8dc879fc7aabe1ff94a42d74f        20600   T0   \n1      8bfe78a8dc879fc7aabe1ff94a42d74f        20600   T0   \n2      8bfe78a8dc879fc7aabe1ff94a42d74f        20600   T0   \n3      8bfe78a8dc879fc7aabe1ff94a42d74f        20600   T0   \n4                                   NaN        20600   T0   \n...                                 ...          ...  ...   \n88313  dabdbb41b2897bd5fdef6dc4ca74584b        20600   T0   \n88314  dabdbb41b2897bd5fdef6dc4ca74584b        20600   T0   \n88315  dabdbb41b2897bd5fdef6dc4ca74584b        20600   T0   \n88316  dabdbb41b2897bd5fdef6dc4ca74584b        20600   T0   \n88317  8a13edc73fdcc9b95c7216e7e8e75463        20600   T0   \n\n                    created_at  subject_id           extractor  data.no  \\\n0      2022-02-01 00:09:54 UTC    72335168  question_extractor      1.0   \n1      2022-02-01 00:10:20 UTC    72334984  question_extractor      1.0   \n2      2022-02-01 00:10:33 UTC    72340244  question_extractor      1.0   \n3      2022-02-01 00:12:15 UTC    72336318  question_extractor      NaN   \n4      2022-02-01 03:12:48 UTC    72372999  question_extractor      NaN   \n...                        ...         ...                 ...      ...   \n88313  2022-05-03 07:02:18 UTC    72333409  question_extractor      1.0   \n88314  2022-05-03 07:06:48 UTC    72333423  question_extractor      1.0   \n88315  2022-05-03 07:08:50 UTC    72333494  question_extractor      1.0   \n88316  2022-05-03 07:12:18 UTC    72333471  question_extractor      1.0   \n88317  2022-12-13 01:27:15 UTC    72341496  question_extractor      1.0   \n\n      data.aggregation_version  data.yes  \n0                        4.1.0       NaN  \n1                        4.1.0       NaN  \n2                        4.1.0       NaN  \n3                        4.1.0       1.0  \n4                        4.1.0       1.0  \n...                        ...       ...  \n88313                    4.1.0       NaN  \n88314                    4.1.0       NaN  \n88315                    4.1.0       NaN  \n88316                    4.1.0       NaN  \n88317                    4.1.0       NaN  \n\n[196657 rows x 11 columns]",
      "text/html": "<div>\n<style scoped>\n    .dataframe tbody tr th:only-of-type {\n        vertical-align: middle;\n    }\n\n    .dataframe tbody tr th {\n        vertical-align: top;\n    }\n\n    .dataframe thead th {\n        text-align: right;\n    }\n</style>\n<table border=\"1\" class=\"dataframe\">\n  <thead>\n    <tr style=\"text-align: right;\">\n      <th></th>\n      <th>classification_id</th>\n      <th>user_name</th>\n      <th>user_id</th>\n      <th>workflow_id</th>\n      <th>task</th>\n      <th>created_at</th>\n      <th>subject_id</th>\n      <th>extractor</th>\n      <th>data.no</th>\n      <th>data.aggregation_version</th>\n      <th>data.yes</th>\n    </tr>\n  </thead>\n  <tbody>\n    <tr>\n      <th>0</th>\n      <td>393742576</td>\n      <td>19835766ecbb50ec6fbe68caa85e4c63</td>\n      <td>8bfe78a8dc879fc7aabe1ff94a42d74f</td>\n      <td>20600</td>\n      <td>T0</td>\n      <td>2022-02-01 00:09:54 UTC</td>\n      <td>72335168</td>\n      <td>question_extractor</td>\n      <td>1.0</td>\n      <td>4.1.0</td>\n      <td>NaN</td>\n    </tr>\n    <tr>\n      <th>1</th>\n      <td>393742638</td>\n      <td>19835766ecbb50ec6fbe68caa85e4c63</td>\n      <td>8bfe78a8dc879fc7aabe1ff94a42d74f</td>\n      <td>20600</td>\n      <td>T0</td>\n      <td>2022-02-01 00:10:20 UTC</td>\n      <td>72334984</td>\n      <td>question_extractor</td>\n      <td>1.0</td>\n      <td>4.1.0</td>\n      <td>NaN</td>\n    </tr>\n    <tr>\n      <th>2</th>\n      <td>393742678</td>\n      <td>19835766ecbb50ec6fbe68caa85e4c63</td>\n      <td>8bfe78a8dc879fc7aabe1ff94a42d74f</td>\n      <td>20600</td>\n      <td>T0</td>\n      <td>2022-02-01 00:10:33 UTC</td>\n      <td>72340244</td>\n      <td>question_extractor</td>\n      <td>1.0</td>\n      <td>4.1.0</td>\n      <td>NaN</td>\n    </tr>\n    <tr>\n      <th>3</th>\n      <td>393743049</td>\n      <td>19835766ecbb50ec6fbe68caa85e4c63</td>\n      <td>8bfe78a8dc879fc7aabe1ff94a42d74f</td>\n      <td>20600</td>\n      <td>T0</td>\n      <td>2022-02-01 00:12:15 UTC</td>\n      <td>72336318</td>\n      <td>question_extractor</td>\n      <td>NaN</td>\n      <td>4.1.0</td>\n      <td>1.0</td>\n    </tr>\n    <tr>\n      <th>4</th>\n      <td>393768668</td>\n      <td>dc0ea5c32da0e322969ff6e6aa76ca5f</td>\n      <td>NaN</td>\n      <td>20600</td>\n      <td>T0</td>\n      <td>2022-02-01 03:12:48 UTC</td>\n      <td>72372999</td>\n      <td>question_extractor</td>\n      <td>NaN</td>\n      <td>4.1.0</td>\n      <td>1.0</td>\n    </tr>\n    <tr>\n      <th>...</th>\n      <td>...</td>\n      <td>...</td>\n      <td>...</td>\n      <td>...</td>\n      <td>...</td>\n      <td>...</td>\n      <td>...</td>\n      <td>...</td>\n      <td>...</td>\n      <td>...</td>\n      <td>...</td>\n    </tr>\n    <tr>\n      <th>88313</th>\n      <td>412711106</td>\n      <td>d607a725449d5e3a2deaba5014fce17d</td>\n      <td>dabdbb41b2897bd5fdef6dc4ca74584b</td>\n      <td>20600</td>\n      <td>T0</td>\n      <td>2022-05-03 07:02:18 UTC</td>\n      <td>72333409</td>\n      <td>question_extractor</td>\n      <td>1.0</td>\n      <td>4.1.0</td>\n      <td>NaN</td>\n    </tr>\n    <tr>\n      <th>88314</th>\n      <td>412711577</td>\n      <td>d607a725449d5e3a2deaba5014fce17d</td>\n      <td>dabdbb41b2897bd5fdef6dc4ca74584b</td>\n      <td>20600</td>\n      <td>T0</td>\n      <td>2022-05-03 07:06:48 UTC</td>\n      <td>72333423</td>\n      <td>question_extractor</td>\n      <td>1.0</td>\n      <td>4.1.0</td>\n      <td>NaN</td>\n    </tr>\n    <tr>\n      <th>88315</th>\n      <td>412711830</td>\n      <td>d607a725449d5e3a2deaba5014fce17d</td>\n      <td>dabdbb41b2897bd5fdef6dc4ca74584b</td>\n      <td>20600</td>\n      <td>T0</td>\n      <td>2022-05-03 07:08:50 UTC</td>\n      <td>72333494</td>\n      <td>question_extractor</td>\n      <td>1.0</td>\n      <td>4.1.0</td>\n      <td>NaN</td>\n    </tr>\n    <tr>\n      <th>88316</th>\n      <td>412712258</td>\n      <td>d607a725449d5e3a2deaba5014fce17d</td>\n      <td>dabdbb41b2897bd5fdef6dc4ca74584b</td>\n      <td>20600</td>\n      <td>T0</td>\n      <td>2022-05-03 07:12:18 UTC</td>\n      <td>72333471</td>\n      <td>question_extractor</td>\n      <td>1.0</td>\n      <td>4.1.0</td>\n      <td>NaN</td>\n    </tr>\n    <tr>\n      <th>88317</th>\n      <td>456473615</td>\n      <td>593e39ba4a91fa148be4e9266517e294</td>\n      <td>8a13edc73fdcc9b95c7216e7e8e75463</td>\n      <td>20600</td>\n      <td>T0</td>\n      <td>2022-12-13 01:27:15 UTC</td>\n      <td>72341496</td>\n      <td>question_extractor</td>\n      <td>1.0</td>\n      <td>4.1.0</td>\n      <td>NaN</td>\n    </tr>\n  </tbody>\n</table>\n<p>196657 rows × 11 columns</p>\n</div>"
     },
     "execution_count": 19,
     "metadata": {},
     "output_type": "execute_result"
    }
   ],
   "source": [
    "df_panoptes_question"
   ]
  },
  {
   "cell_type": "code",
   "execution_count": 20,
   "id": "9974ba73721e5802",
   "metadata": {
    "collapsed": false,
    "ExecuteTime": {
     "end_time": "2024-04-16T09:45:58.046715Z",
     "start_time": "2024-04-16T09:45:57.977412Z"
    }
   },
   "outputs": [
    {
     "data": {
      "text/plain": "      subject_id  data.no  data.yes\n0       72332768     22.0       0.0\n1       72332769     21.0       0.0\n2       72332770     21.0       0.0\n3       72332771     20.0       1.0\n4       72332772     21.0       2.0\n...          ...      ...       ...\n9092    72373345     19.0       2.0\n9093    72373347     18.0       4.0\n9094    72373348      5.0      16.0\n9095    72373350      6.0      15.0\n9096    72373351      4.0      18.0\n\n[9097 rows x 3 columns]",
      "text/html": "<div>\n<style scoped>\n    .dataframe tbody tr th:only-of-type {\n        vertical-align: middle;\n    }\n\n    .dataframe tbody tr th {\n        vertical-align: top;\n    }\n\n    .dataframe thead th {\n        text-align: right;\n    }\n</style>\n<table border=\"1\" class=\"dataframe\">\n  <thead>\n    <tr style=\"text-align: right;\">\n      <th></th>\n      <th>subject_id</th>\n      <th>data.no</th>\n      <th>data.yes</th>\n    </tr>\n  </thead>\n  <tbody>\n    <tr>\n      <th>0</th>\n      <td>72332768</td>\n      <td>22.0</td>\n      <td>0.0</td>\n    </tr>\n    <tr>\n      <th>1</th>\n      <td>72332769</td>\n      <td>21.0</td>\n      <td>0.0</td>\n    </tr>\n    <tr>\n      <th>2</th>\n      <td>72332770</td>\n      <td>21.0</td>\n      <td>0.0</td>\n    </tr>\n    <tr>\n      <th>3</th>\n      <td>72332771</td>\n      <td>20.0</td>\n      <td>1.0</td>\n    </tr>\n    <tr>\n      <th>4</th>\n      <td>72332772</td>\n      <td>21.0</td>\n      <td>2.0</td>\n    </tr>\n    <tr>\n      <th>...</th>\n      <td>...</td>\n      <td>...</td>\n      <td>...</td>\n    </tr>\n    <tr>\n      <th>9092</th>\n      <td>72373345</td>\n      <td>19.0</td>\n      <td>2.0</td>\n    </tr>\n    <tr>\n      <th>9093</th>\n      <td>72373347</td>\n      <td>18.0</td>\n      <td>4.0</td>\n    </tr>\n    <tr>\n      <th>9094</th>\n      <td>72373348</td>\n      <td>5.0</td>\n      <td>16.0</td>\n    </tr>\n    <tr>\n      <th>9095</th>\n      <td>72373350</td>\n      <td>6.0</td>\n      <td>15.0</td>\n    </tr>\n    <tr>\n      <th>9096</th>\n      <td>72373351</td>\n      <td>4.0</td>\n      <td>18.0</td>\n    </tr>\n  </tbody>\n</table>\n<p>9097 rows × 3 columns</p>\n</div>"
     },
     "execution_count": 20,
     "metadata": {},
     "output_type": "execute_result"
    }
   ],
   "source": [
    "df_panoptes_question_r = df_panoptes_question[df_panoptes_question.task == \"T0\"][[\"subject_id\", \"data.no\", \"data.yes\"]].groupby(\"subject_id\").sum()\n",
    "\n",
    "df_panoptes_question_r = df_panoptes_question_r.reset_index()\n",
    "df_panoptes_question_r = df_panoptes_question_r[df_panoptes_question_r.subject_id.isin(df_subjects.subject_id)]\n",
    "df_panoptes_question_r"
   ]
  },
  {
   "cell_type": "code",
   "execution_count": 21,
   "id": "1751baa417c614c9",
   "metadata": {
    "collapsed": false,
    "ExecuteTime": {
     "end_time": "2024-04-16T09:45:58.069956Z",
     "start_time": "2024-04-16T09:45:58.048487Z"
    }
   },
   "outputs": [],
   "source": [
    "df_panoptes_question_r.to_csv(output_path / config[\"panoptes_question\"], index = False)"
   ]
  },
  {
   "cell_type": "markdown",
   "id": "b88625d141e60114",
   "metadata": {
    "collapsed": false
   },
   "source": [
    "## Get the Point Marks Analysis Ready"
   ]
  },
  {
   "cell_type": "markdown",
   "id": "4a3f1b8c5f2596bb",
   "metadata": {
    "collapsed": false
   },
   "source": [
    "Filter for T2 only"
   ]
  },
  {
   "cell_type": "code",
   "execution_count": 22,
   "id": "3ed3cb8b4acbfa4f",
   "metadata": {
    "collapsed": false,
    "ExecuteTime": {
     "end_time": "2024-04-16T09:45:58.181565Z",
     "start_time": "2024-04-16T09:45:58.071259Z"
    }
   },
   "outputs": [
    {
     "data": {
      "text/plain": "Index(['classification_id', 'user_name', 'user_id', 'workflow_id', 'task',\n       'created_at', 'subject_id', 'extractor', 'data.aggregation_version',\n       'data.frame0.T4_tool0_x', 'data.frame0.T4_tool0_y',\n       'data.frame0.T4_tool2_x', 'data.frame0.T4_tool2_y',\n       'data.frame0.T4_tool3_x', 'data.frame0.T4_tool3_y',\n       'data.frame0.T4_tool1_x', 'data.frame0.T4_tool1_y',\n       'data.frame0.T4_tool4_x', 'data.frame0.T4_tool4_y',\n       'data.frame0.T4_tool5_x', 'data.frame0.T4_tool5_y',\n       'data.frame0.T4_tool7_x', 'data.frame0.T4_tool7_y',\n       'data.frame0.T4_tool6_x', 'data.frame0.T4_tool6_y', 'workflow_version',\n       'data.frame0.T2_tool1_x', 'data.frame0.T2_tool1_y',\n       'data.frame0.T2_tool0_x', 'data.frame0.T2_tool0_y',\n       'data.frame0.T2_tool2_x', 'data.frame0.T2_tool2_y',\n       'data.frame0.T2_tool3_x', 'data.frame0.T2_tool3_y', 'image_name'],\n      dtype='object')"
     },
     "execution_count": 22,
     "metadata": {},
     "output_type": "execute_result"
    }
   ],
   "source": [
    "df_panoptes_point_extractor_r = df_panoptes_point_extractor[\n",
    "    (df_panoptes_point_extractor.task == \"T2\")\n",
    "]\n",
    "df_panoptes_point_extractor_r.columns"
   ]
  },
  {
   "cell_type": "markdown",
   "id": "1904d722c784ea8d",
   "metadata": {
    "collapsed": false
   },
   "source": [
    "### Which tool is which now?\n",
    "| Tool Name               | Classification                               |\n",
    "|-------------------------|----------------------------------------------|\n",
    "| data.frame0.T2_tool0_x  | Adult Male in a lek                          |\n",
    "| data.frame0.T2_tool1_x  | Adult Male alone                             |\n",
    "| data.frame0.T2_tool2_x  | Others (females, young males, juveniles)     |\n",
    "| data.frame0.T2_tool3_x  | Partial iguana                               |\n",
    "| data.frame0.T2_tool4_x  | Could be an iguana, not sure                 |\n",
    "\n",
    "Is \"Could be an iguana, not sure\" and \"Partial Iguana\" are omitted.\n"
   ]
  },
  {
   "cell_type": "code",
   "execution_count": 23,
   "id": "895d1e319dc99c4a",
   "metadata": {
    "collapsed": false,
    "ExecuteTime": {
     "end_time": "2024-04-16T09:46:02.070261Z",
     "start_time": "2024-04-16T09:45:58.183783Z"
    }
   },
   "outputs": [
    {
     "name": "stderr",
     "output_type": "stream",
     "text": [
      "/var/folders/2k/78nn7s4548986wsjh29rhj9w0000gn/T/ipykernel_48224/2729049416.py:8: SettingWithCopyWarning: \n",
      "A value is trying to be set on a copy of a slice from a DataFrame.\n",
      "Try using .loc[row_indexer,col_indexer] = value instead\n",
      "\n",
      "See the caveats in the documentation: https://pandas.pydata.org/pandas-docs/stable/user_guide/indexing.html#returning-a-view-versus-a-copy\n",
      "  df_panoptes_point_extractor_r[col] = df_panoptes_point_extractor_r[col].apply(lambda x: literal_eval(x) if pd.notnull(x) else [])\n",
      "/var/folders/2k/78nn7s4548986wsjh29rhj9w0000gn/T/ipykernel_48224/2729049416.py:11: SettingWithCopyWarning: \n",
      "A value is trying to be set on a copy of a slice from a DataFrame.\n",
      "Try using .loc[row_indexer,col_indexer] = value instead\n",
      "\n",
      "See the caveats in the documentation: https://pandas.pydata.org/pandas-docs/stable/user_guide/indexing.html#returning-a-view-versus-a-copy\n",
      "  df_panoptes_point_extractor_r['x'] = df_panoptes_point_extractor_r[columns_keep_x].values.tolist()\n",
      "/var/folders/2k/78nn7s4548986wsjh29rhj9w0000gn/T/ipykernel_48224/2729049416.py:12: SettingWithCopyWarning: \n",
      "A value is trying to be set on a copy of a slice from a DataFrame.\n",
      "Try using .loc[row_indexer,col_indexer] = value instead\n",
      "\n",
      "See the caveats in the documentation: https://pandas.pydata.org/pandas-docs/stable/user_guide/indexing.html#returning-a-view-versus-a-copy\n",
      "  df_panoptes_point_extractor_r['y'] = df_panoptes_point_extractor_r[columns_keep_y].values.tolist()\n",
      "/var/folders/2k/78nn7s4548986wsjh29rhj9w0000gn/T/ipykernel_48224/2729049416.py:15: SettingWithCopyWarning: \n",
      "A value is trying to be set on a copy of a slice from a DataFrame.\n",
      "Try using .loc[row_indexer,col_indexer] = value instead\n",
      "\n",
      "See the caveats in the documentation: https://pandas.pydata.org/pandas-docs/stable/user_guide/indexing.html#returning-a-view-versus-a-copy\n",
      "  df_panoptes_point_extractor_r['x'] = df_panoptes_point_extractor_r['x'].apply(lambda x: [item for sublist in x for item in sublist])\n",
      "/var/folders/2k/78nn7s4548986wsjh29rhj9w0000gn/T/ipykernel_48224/2729049416.py:16: SettingWithCopyWarning: \n",
      "A value is trying to be set on a copy of a slice from a DataFrame.\n",
      "Try using .loc[row_indexer,col_indexer] = value instead\n",
      "\n",
      "See the caveats in the documentation: https://pandas.pydata.org/pandas-docs/stable/user_guide/indexing.html#returning-a-view-versus-a-copy\n",
      "  df_panoptes_point_extractor_r['y'] = df_panoptes_point_extractor_r['y'].apply(lambda x: [item for sublist in x for item in sublist])\n"
     ]
    },
    {
     "data": {
      "text/plain": "        classification_id                         user_name  \\\n1               394132937  691500ccebe2131f83809524df652f87   \n3               394221102  07452636222fb135e92fd5bedbecd18c   \n5               394417706  51ff8f6bdcfbc629ee64b0f03456f9be   \n7               394681993  1f1fbd60a47a8f619cab23b0367b305c   \n9               394699098  b9dfe23678c9bbf754d04706a6e36269   \n...                   ...                               ...   \n392777          411445399  c78b539934f9c55f492e674b69e237c0   \n392779          411502672  097fcaf77e79d9ac515e3638cdf35ccd   \n392781          411516154  9ab0dec08676f4d8147dc2795c832b1c   \n392783          411521759  21f1cdf48bb3a0f13deeb1de0cfe194a   \n392785          411540463  14d24a5c9234b322cb10145547ea5222   \n\n                                 user_id  workflow_id task  \\\n1       c11a32c827347926881e5e1db75cb701        20600   T2   \n3       1dcb5107d19f3fa3d0d40eb4fa5a32ac        20600   T2   \n5       73e55824a8121ac5c7e625d8644450fc        20600   T2   \n7       a0763c2de16d5ffb4cca7e97cfdba769        20600   T2   \n9       a2f79791c7443eb1b6fec361a61f896e        20600   T2   \n...                                  ...          ...  ...   \n392777                               NaN        20600   T2   \n392779  c776f96dfe44a1bb1bf2f6e137ea40ea        20600   T2   \n392781  9ca59dc6cdb395496bace4f9b9bb887b        20600   T2   \n392783  db20ef8c2ff775170aa11a62f2a288da        20600   T2   \n392785  aa43b1f9c4c4b98e2457b3c5bc1690c8        20600   T2   \n\n                     created_at  subject_id                 extractor  \\\n1       2022-02-02 19:19:04 UTC    72335168  point_extractor_by_frame   \n3       2022-02-03 03:24:54 UTC    72335168  point_extractor_by_frame   \n5       2022-02-03 22:37:12 UTC    72335168  point_extractor_by_frame   \n7       2022-02-05 00:53:57 UTC    72335168  point_extractor_by_frame   \n9       2022-02-05 03:46:10 UTC    72335168  point_extractor_by_frame   \n...                         ...         ...                       ...   \n392777  2022-04-26 17:54:00 UTC    72339681  point_extractor_by_frame   \n392779  2022-04-26 21:09:05 UTC    72339681  point_extractor_by_frame   \n392781  2022-04-26 22:17:47 UTC    72339681  point_extractor_by_frame   \n392783  2022-04-26 22:55:30 UTC    72339681  point_extractor_by_frame   \n392785  2022-04-27 01:13:51 UTC    72339681  point_extractor_by_frame   \n\n       data.aggregation_version data.frame0.T4_tool0_x  ...  \\\n1                         4.1.0                    NaN  ...   \n3                         4.1.0                    NaN  ...   \n5                         4.1.0                    NaN  ...   \n7                         4.1.0                    NaN  ...   \n9                         4.1.0                    NaN  ...   \n...                         ...                    ...  ...   \n392777                    4.1.0                    NaN  ...   \n392779                    4.1.0                    NaN  ...   \n392781                    4.1.0                    NaN  ...   \n392783                    4.1.0                    NaN  ...   \n392785                    4.1.0                    NaN  ...   \n\n       data.frame0.T2_tool1_y data.frame0.T2_tool0_x data.frame0.T2_tool0_y  \\\n1                          []                     []                     []   \n3                          []                     []                     []   \n5                          []                     []                     []   \n7                          []                     []                     []   \n9                          []                     []                     []   \n...                       ...                    ...                    ...   \n392777                     []                     []                     []   \n392779                     []                     []                     []   \n392781                     []                     []                     []   \n392783                     []                     []                     []   \n392785                     []                     []                     []   \n\n       data.frame0.T2_tool2_x data.frame0.T2_tool2_y data.frame0.T2_tool3_x  \\\n1                          []                     []                    NaN   \n3                          []                     []                    NaN   \n5                          []                     []                    NaN   \n7                          []                     []                    NaN   \n9                          []                     []                    NaN   \n...                       ...                    ...                    ...   \n392777                     []                     []                    NaN   \n392779                     []                     []                    NaN   \n392781                     []                     []                    NaN   \n392783                     []                     []                    NaN   \n392785                     []                     []                    NaN   \n\n       data.frame0.T2_tool3_y      image_name   x   y  \n1                         NaN  EIG05-2_55.jpg  []  []  \n3                         NaN  EIG05-2_55.jpg  []  []  \n5                         NaN  EIG05-2_55.jpg  []  []  \n7                         NaN  EIG05-2_55.jpg  []  []  \n9                         NaN  EIG05-2_55.jpg  []  []  \n...                       ...             ...  ..  ..  \n392777                    NaN    FPA04_31.jpg  []  []  \n392779                    NaN    FPA04_31.jpg  []  []  \n392781                    NaN    FPA04_31.jpg  []  []  \n392783                    NaN    FPA04_31.jpg  []  []  \n392785                    NaN    FPA04_31.jpg  []  []  \n\n[196130 rows x 37 columns]",
      "text/html": "<div>\n<style scoped>\n    .dataframe tbody tr th:only-of-type {\n        vertical-align: middle;\n    }\n\n    .dataframe tbody tr th {\n        vertical-align: top;\n    }\n\n    .dataframe thead th {\n        text-align: right;\n    }\n</style>\n<table border=\"1\" class=\"dataframe\">\n  <thead>\n    <tr style=\"text-align: right;\">\n      <th></th>\n      <th>classification_id</th>\n      <th>user_name</th>\n      <th>user_id</th>\n      <th>workflow_id</th>\n      <th>task</th>\n      <th>created_at</th>\n      <th>subject_id</th>\n      <th>extractor</th>\n      <th>data.aggregation_version</th>\n      <th>data.frame0.T4_tool0_x</th>\n      <th>...</th>\n      <th>data.frame0.T2_tool1_y</th>\n      <th>data.frame0.T2_tool0_x</th>\n      <th>data.frame0.T2_tool0_y</th>\n      <th>data.frame0.T2_tool2_x</th>\n      <th>data.frame0.T2_tool2_y</th>\n      <th>data.frame0.T2_tool3_x</th>\n      <th>data.frame0.T2_tool3_y</th>\n      <th>image_name</th>\n      <th>x</th>\n      <th>y</th>\n    </tr>\n  </thead>\n  <tbody>\n    <tr>\n      <th>1</th>\n      <td>394132937</td>\n      <td>691500ccebe2131f83809524df652f87</td>\n      <td>c11a32c827347926881e5e1db75cb701</td>\n      <td>20600</td>\n      <td>T2</td>\n      <td>2022-02-02 19:19:04 UTC</td>\n      <td>72335168</td>\n      <td>point_extractor_by_frame</td>\n      <td>4.1.0</td>\n      <td>NaN</td>\n      <td>...</td>\n      <td>[]</td>\n      <td>[]</td>\n      <td>[]</td>\n      <td>[]</td>\n      <td>[]</td>\n      <td>NaN</td>\n      <td>NaN</td>\n      <td>EIG05-2_55.jpg</td>\n      <td>[]</td>\n      <td>[]</td>\n    </tr>\n    <tr>\n      <th>3</th>\n      <td>394221102</td>\n      <td>07452636222fb135e92fd5bedbecd18c</td>\n      <td>1dcb5107d19f3fa3d0d40eb4fa5a32ac</td>\n      <td>20600</td>\n      <td>T2</td>\n      <td>2022-02-03 03:24:54 UTC</td>\n      <td>72335168</td>\n      <td>point_extractor_by_frame</td>\n      <td>4.1.0</td>\n      <td>NaN</td>\n      <td>...</td>\n      <td>[]</td>\n      <td>[]</td>\n      <td>[]</td>\n      <td>[]</td>\n      <td>[]</td>\n      <td>NaN</td>\n      <td>NaN</td>\n      <td>EIG05-2_55.jpg</td>\n      <td>[]</td>\n      <td>[]</td>\n    </tr>\n    <tr>\n      <th>5</th>\n      <td>394417706</td>\n      <td>51ff8f6bdcfbc629ee64b0f03456f9be</td>\n      <td>73e55824a8121ac5c7e625d8644450fc</td>\n      <td>20600</td>\n      <td>T2</td>\n      <td>2022-02-03 22:37:12 UTC</td>\n      <td>72335168</td>\n      <td>point_extractor_by_frame</td>\n      <td>4.1.0</td>\n      <td>NaN</td>\n      <td>...</td>\n      <td>[]</td>\n      <td>[]</td>\n      <td>[]</td>\n      <td>[]</td>\n      <td>[]</td>\n      <td>NaN</td>\n      <td>NaN</td>\n      <td>EIG05-2_55.jpg</td>\n      <td>[]</td>\n      <td>[]</td>\n    </tr>\n    <tr>\n      <th>7</th>\n      <td>394681993</td>\n      <td>1f1fbd60a47a8f619cab23b0367b305c</td>\n      <td>a0763c2de16d5ffb4cca7e97cfdba769</td>\n      <td>20600</td>\n      <td>T2</td>\n      <td>2022-02-05 00:53:57 UTC</td>\n      <td>72335168</td>\n      <td>point_extractor_by_frame</td>\n      <td>4.1.0</td>\n      <td>NaN</td>\n      <td>...</td>\n      <td>[]</td>\n      <td>[]</td>\n      <td>[]</td>\n      <td>[]</td>\n      <td>[]</td>\n      <td>NaN</td>\n      <td>NaN</td>\n      <td>EIG05-2_55.jpg</td>\n      <td>[]</td>\n      <td>[]</td>\n    </tr>\n    <tr>\n      <th>9</th>\n      <td>394699098</td>\n      <td>b9dfe23678c9bbf754d04706a6e36269</td>\n      <td>a2f79791c7443eb1b6fec361a61f896e</td>\n      <td>20600</td>\n      <td>T2</td>\n      <td>2022-02-05 03:46:10 UTC</td>\n      <td>72335168</td>\n      <td>point_extractor_by_frame</td>\n      <td>4.1.0</td>\n      <td>NaN</td>\n      <td>...</td>\n      <td>[]</td>\n      <td>[]</td>\n      <td>[]</td>\n      <td>[]</td>\n      <td>[]</td>\n      <td>NaN</td>\n      <td>NaN</td>\n      <td>EIG05-2_55.jpg</td>\n      <td>[]</td>\n      <td>[]</td>\n    </tr>\n    <tr>\n      <th>...</th>\n      <td>...</td>\n      <td>...</td>\n      <td>...</td>\n      <td>...</td>\n      <td>...</td>\n      <td>...</td>\n      <td>...</td>\n      <td>...</td>\n      <td>...</td>\n      <td>...</td>\n      <td>...</td>\n      <td>...</td>\n      <td>...</td>\n      <td>...</td>\n      <td>...</td>\n      <td>...</td>\n      <td>...</td>\n      <td>...</td>\n      <td>...</td>\n      <td>...</td>\n      <td>...</td>\n    </tr>\n    <tr>\n      <th>392777</th>\n      <td>411445399</td>\n      <td>c78b539934f9c55f492e674b69e237c0</td>\n      <td>NaN</td>\n      <td>20600</td>\n      <td>T2</td>\n      <td>2022-04-26 17:54:00 UTC</td>\n      <td>72339681</td>\n      <td>point_extractor_by_frame</td>\n      <td>4.1.0</td>\n      <td>NaN</td>\n      <td>...</td>\n      <td>[]</td>\n      <td>[]</td>\n      <td>[]</td>\n      <td>[]</td>\n      <td>[]</td>\n      <td>NaN</td>\n      <td>NaN</td>\n      <td>FPA04_31.jpg</td>\n      <td>[]</td>\n      <td>[]</td>\n    </tr>\n    <tr>\n      <th>392779</th>\n      <td>411502672</td>\n      <td>097fcaf77e79d9ac515e3638cdf35ccd</td>\n      <td>c776f96dfe44a1bb1bf2f6e137ea40ea</td>\n      <td>20600</td>\n      <td>T2</td>\n      <td>2022-04-26 21:09:05 UTC</td>\n      <td>72339681</td>\n      <td>point_extractor_by_frame</td>\n      <td>4.1.0</td>\n      <td>NaN</td>\n      <td>...</td>\n      <td>[]</td>\n      <td>[]</td>\n      <td>[]</td>\n      <td>[]</td>\n      <td>[]</td>\n      <td>NaN</td>\n      <td>NaN</td>\n      <td>FPA04_31.jpg</td>\n      <td>[]</td>\n      <td>[]</td>\n    </tr>\n    <tr>\n      <th>392781</th>\n      <td>411516154</td>\n      <td>9ab0dec08676f4d8147dc2795c832b1c</td>\n      <td>9ca59dc6cdb395496bace4f9b9bb887b</td>\n      <td>20600</td>\n      <td>T2</td>\n      <td>2022-04-26 22:17:47 UTC</td>\n      <td>72339681</td>\n      <td>point_extractor_by_frame</td>\n      <td>4.1.0</td>\n      <td>NaN</td>\n      <td>...</td>\n      <td>[]</td>\n      <td>[]</td>\n      <td>[]</td>\n      <td>[]</td>\n      <td>[]</td>\n      <td>NaN</td>\n      <td>NaN</td>\n      <td>FPA04_31.jpg</td>\n      <td>[]</td>\n      <td>[]</td>\n    </tr>\n    <tr>\n      <th>392783</th>\n      <td>411521759</td>\n      <td>21f1cdf48bb3a0f13deeb1de0cfe194a</td>\n      <td>db20ef8c2ff775170aa11a62f2a288da</td>\n      <td>20600</td>\n      <td>T2</td>\n      <td>2022-04-26 22:55:30 UTC</td>\n      <td>72339681</td>\n      <td>point_extractor_by_frame</td>\n      <td>4.1.0</td>\n      <td>NaN</td>\n      <td>...</td>\n      <td>[]</td>\n      <td>[]</td>\n      <td>[]</td>\n      <td>[]</td>\n      <td>[]</td>\n      <td>NaN</td>\n      <td>NaN</td>\n      <td>FPA04_31.jpg</td>\n      <td>[]</td>\n      <td>[]</td>\n    </tr>\n    <tr>\n      <th>392785</th>\n      <td>411540463</td>\n      <td>14d24a5c9234b322cb10145547ea5222</td>\n      <td>aa43b1f9c4c4b98e2457b3c5bc1690c8</td>\n      <td>20600</td>\n      <td>T2</td>\n      <td>2022-04-27 01:13:51 UTC</td>\n      <td>72339681</td>\n      <td>point_extractor_by_frame</td>\n      <td>4.1.0</td>\n      <td>NaN</td>\n      <td>...</td>\n      <td>[]</td>\n      <td>[]</td>\n      <td>[]</td>\n      <td>[]</td>\n      <td>[]</td>\n      <td>NaN</td>\n      <td>NaN</td>\n      <td>FPA04_31.jpg</td>\n      <td>[]</td>\n      <td>[]</td>\n    </tr>\n  </tbody>\n</table>\n<p>196130 rows × 37 columns</p>\n</div>"
     },
     "execution_count": 23,
     "metadata": {},
     "output_type": "execute_result"
    }
   ],
   "source": [
    "# create a flat structure from the nested marks over multiple columns from that.\n",
    "from ast import literal_eval\n",
    "\n",
    "columns_keep_x = ['data.frame0.T2_tool0_x', 'data.frame0.T2_tool1_x', 'data.frame0.T2_tool2_x']\n",
    "columns_keep_y = ['data.frame0.T2_tool0_y', 'data.frame0.T2_tool1_y', 'data.frame0.T2_tool2_y']\n",
    "\n",
    "for col in columns_keep_x + columns_keep_y:\n",
    "    df_panoptes_point_extractor_r[col] = df_panoptes_point_extractor_r[col].apply(lambda x: literal_eval(x) if pd.notnull(x) else [])\n",
    "\n",
    "# Merge the lists in 'x' and 'y' coordinates\n",
    "df_panoptes_point_extractor_r['x'] = df_panoptes_point_extractor_r[columns_keep_x].values.tolist()\n",
    "df_panoptes_point_extractor_r['y'] = df_panoptes_point_extractor_r[columns_keep_y].values.tolist()\n",
    "\n",
    "# Flatten the lists in each row for 'x' and 'y'\n",
    "df_panoptes_point_extractor_r['x'] = df_panoptes_point_extractor_r['x'].apply(lambda x: [item for sublist in x for item in sublist])\n",
    "df_panoptes_point_extractor_r['y'] = df_panoptes_point_extractor_r['y'].apply(lambda x: [item for sublist in x for item in sublist])\n",
    "\n",
    "# Explode the DataFrame to separate rows for each x, y pair\n",
    "# Note: This requires pandas >= 0.25 for simultaneous explode\n",
    "# df_panoptes_point_extractor_r_exploded = df_panoptes_point_extractor_r.apply(pd.Series.explode)\n",
    "\n",
    "# Explode the DataFrame based on these columns to get separate rows for each list element\n",
    "# Make sure to perform the explode operation on both columns simultaneously to keep the x and y coordinates paired\n",
    "df_panoptes_point_extractor_r"
   ]
  },
  {
   "cell_type": "code",
   "execution_count": 24,
   "id": "d1dd3d9da30dac12",
   "metadata": {
    "collapsed": false,
    "ExecuteTime": {
     "end_time": "2024-04-16T09:46:02.158214Z",
     "start_time": "2024-04-16T09:46:02.071372Z"
    }
   },
   "outputs": [
    {
     "data": {
      "text/plain": "        classification_id                         user_name  \\\n0               394132937  691500ccebe2131f83809524df652f87   \n1               394221102  07452636222fb135e92fd5bedbecd18c   \n2               394417706  51ff8f6bdcfbc629ee64b0f03456f9be   \n3               394681993  1f1fbd60a47a8f619cab23b0367b305c   \n4               394699098  b9dfe23678c9bbf754d04706a6e36269   \n...                   ...                               ...   \n196125          411445399  c78b539934f9c55f492e674b69e237c0   \n196126          411502672  097fcaf77e79d9ac515e3638cdf35ccd   \n196127          411516154  9ab0dec08676f4d8147dc2795c832b1c   \n196128          411521759  21f1cdf48bb3a0f13deeb1de0cfe194a   \n196129          411540463  14d24a5c9234b322cb10145547ea5222   \n\n                                 user_id  workflow_id workflow_version task  \\\n0       c11a32c827347926881e5e1db75cb701        20600           93.166   T2   \n1       1dcb5107d19f3fa3d0d40eb4fa5a32ac        20600           93.166   T2   \n2       73e55824a8121ac5c7e625d8644450fc        20600           93.166   T2   \n3       a0763c2de16d5ffb4cca7e97cfdba769        20600           93.166   T2   \n4       a2f79791c7443eb1b6fec361a61f896e        20600           93.166   T2   \n...                                  ...          ...              ...  ...   \n196125                               NaN        20600           94.166   T2   \n196126  c776f96dfe44a1bb1bf2f6e137ea40ea        20600           94.166   T2   \n196127  9ca59dc6cdb395496bace4f9b9bb887b        20600           94.166   T2   \n196128  db20ef8c2ff775170aa11a62f2a288da        20600           94.166   T2   \n196129  aa43b1f9c4c4b98e2457b3c5bc1690c8        20600           94.166   T2   \n\n                     created_at  subject_id      image_name   x   y  \n0       2022-02-02 19:19:04 UTC    72335168  EIG05-2_55.jpg  []  []  \n1       2022-02-03 03:24:54 UTC    72335168  EIG05-2_55.jpg  []  []  \n2       2022-02-03 22:37:12 UTC    72335168  EIG05-2_55.jpg  []  []  \n3       2022-02-05 00:53:57 UTC    72335168  EIG05-2_55.jpg  []  []  \n4       2022-02-05 03:46:10 UTC    72335168  EIG05-2_55.jpg  []  []  \n...                         ...         ...             ...  ..  ..  \n196125  2022-04-26 17:54:00 UTC    72339681    FPA04_31.jpg  []  []  \n196126  2022-04-26 21:09:05 UTC    72339681    FPA04_31.jpg  []  []  \n196127  2022-04-26 22:17:47 UTC    72339681    FPA04_31.jpg  []  []  \n196128  2022-04-26 22:55:30 UTC    72339681    FPA04_31.jpg  []  []  \n196129  2022-04-27 01:13:51 UTC    72339681    FPA04_31.jpg  []  []  \n\n[196130 rows x 11 columns]",
      "text/html": "<div>\n<style scoped>\n    .dataframe tbody tr th:only-of-type {\n        vertical-align: middle;\n    }\n\n    .dataframe tbody tr th {\n        vertical-align: top;\n    }\n\n    .dataframe thead th {\n        text-align: right;\n    }\n</style>\n<table border=\"1\" class=\"dataframe\">\n  <thead>\n    <tr style=\"text-align: right;\">\n      <th></th>\n      <th>classification_id</th>\n      <th>user_name</th>\n      <th>user_id</th>\n      <th>workflow_id</th>\n      <th>workflow_version</th>\n      <th>task</th>\n      <th>created_at</th>\n      <th>subject_id</th>\n      <th>image_name</th>\n      <th>x</th>\n      <th>y</th>\n    </tr>\n  </thead>\n  <tbody>\n    <tr>\n      <th>0</th>\n      <td>394132937</td>\n      <td>691500ccebe2131f83809524df652f87</td>\n      <td>c11a32c827347926881e5e1db75cb701</td>\n      <td>20600</td>\n      <td>93.166</td>\n      <td>T2</td>\n      <td>2022-02-02 19:19:04 UTC</td>\n      <td>72335168</td>\n      <td>EIG05-2_55.jpg</td>\n      <td>[]</td>\n      <td>[]</td>\n    </tr>\n    <tr>\n      <th>1</th>\n      <td>394221102</td>\n      <td>07452636222fb135e92fd5bedbecd18c</td>\n      <td>1dcb5107d19f3fa3d0d40eb4fa5a32ac</td>\n      <td>20600</td>\n      <td>93.166</td>\n      <td>T2</td>\n      <td>2022-02-03 03:24:54 UTC</td>\n      <td>72335168</td>\n      <td>EIG05-2_55.jpg</td>\n      <td>[]</td>\n      <td>[]</td>\n    </tr>\n    <tr>\n      <th>2</th>\n      <td>394417706</td>\n      <td>51ff8f6bdcfbc629ee64b0f03456f9be</td>\n      <td>73e55824a8121ac5c7e625d8644450fc</td>\n      <td>20600</td>\n      <td>93.166</td>\n      <td>T2</td>\n      <td>2022-02-03 22:37:12 UTC</td>\n      <td>72335168</td>\n      <td>EIG05-2_55.jpg</td>\n      <td>[]</td>\n      <td>[]</td>\n    </tr>\n    <tr>\n      <th>3</th>\n      <td>394681993</td>\n      <td>1f1fbd60a47a8f619cab23b0367b305c</td>\n      <td>a0763c2de16d5ffb4cca7e97cfdba769</td>\n      <td>20600</td>\n      <td>93.166</td>\n      <td>T2</td>\n      <td>2022-02-05 00:53:57 UTC</td>\n      <td>72335168</td>\n      <td>EIG05-2_55.jpg</td>\n      <td>[]</td>\n      <td>[]</td>\n    </tr>\n    <tr>\n      <th>4</th>\n      <td>394699098</td>\n      <td>b9dfe23678c9bbf754d04706a6e36269</td>\n      <td>a2f79791c7443eb1b6fec361a61f896e</td>\n      <td>20600</td>\n      <td>93.166</td>\n      <td>T2</td>\n      <td>2022-02-05 03:46:10 UTC</td>\n      <td>72335168</td>\n      <td>EIG05-2_55.jpg</td>\n      <td>[]</td>\n      <td>[]</td>\n    </tr>\n    <tr>\n      <th>...</th>\n      <td>...</td>\n      <td>...</td>\n      <td>...</td>\n      <td>...</td>\n      <td>...</td>\n      <td>...</td>\n      <td>...</td>\n      <td>...</td>\n      <td>...</td>\n      <td>...</td>\n      <td>...</td>\n    </tr>\n    <tr>\n      <th>196125</th>\n      <td>411445399</td>\n      <td>c78b539934f9c55f492e674b69e237c0</td>\n      <td>NaN</td>\n      <td>20600</td>\n      <td>94.166</td>\n      <td>T2</td>\n      <td>2022-04-26 17:54:00 UTC</td>\n      <td>72339681</td>\n      <td>FPA04_31.jpg</td>\n      <td>[]</td>\n      <td>[]</td>\n    </tr>\n    <tr>\n      <th>196126</th>\n      <td>411502672</td>\n      <td>097fcaf77e79d9ac515e3638cdf35ccd</td>\n      <td>c776f96dfe44a1bb1bf2f6e137ea40ea</td>\n      <td>20600</td>\n      <td>94.166</td>\n      <td>T2</td>\n      <td>2022-04-26 21:09:05 UTC</td>\n      <td>72339681</td>\n      <td>FPA04_31.jpg</td>\n      <td>[]</td>\n      <td>[]</td>\n    </tr>\n    <tr>\n      <th>196127</th>\n      <td>411516154</td>\n      <td>9ab0dec08676f4d8147dc2795c832b1c</td>\n      <td>9ca59dc6cdb395496bace4f9b9bb887b</td>\n      <td>20600</td>\n      <td>94.166</td>\n      <td>T2</td>\n      <td>2022-04-26 22:17:47 UTC</td>\n      <td>72339681</td>\n      <td>FPA04_31.jpg</td>\n      <td>[]</td>\n      <td>[]</td>\n    </tr>\n    <tr>\n      <th>196128</th>\n      <td>411521759</td>\n      <td>21f1cdf48bb3a0f13deeb1de0cfe194a</td>\n      <td>db20ef8c2ff775170aa11a62f2a288da</td>\n      <td>20600</td>\n      <td>94.166</td>\n      <td>T2</td>\n      <td>2022-04-26 22:55:30 UTC</td>\n      <td>72339681</td>\n      <td>FPA04_31.jpg</td>\n      <td>[]</td>\n      <td>[]</td>\n    </tr>\n    <tr>\n      <th>196129</th>\n      <td>411540463</td>\n      <td>14d24a5c9234b322cb10145547ea5222</td>\n      <td>aa43b1f9c4c4b98e2457b3c5bc1690c8</td>\n      <td>20600</td>\n      <td>94.166</td>\n      <td>T2</td>\n      <td>2022-04-27 01:13:51 UTC</td>\n      <td>72339681</td>\n      <td>FPA04_31.jpg</td>\n      <td>[]</td>\n      <td>[]</td>\n    </tr>\n  </tbody>\n</table>\n<p>196130 rows × 11 columns</p>\n</div>"
     },
     "execution_count": 24,
     "metadata": {},
     "output_type": "execute_result"
    }
   ],
   "source": [
    "df_panoptes_point_extractor_r = df_panoptes_point_extractor_r[\n",
    "    ['classification_id', 'user_name', 'user_id', 'workflow_id',  'workflow_version', 'task',\n",
    "     'created_at', 'subject_id', \"image_name\",\n",
    "     'x', 'y'\n",
    "     ]].reset_index(drop=True)\n",
    "\n",
    "df_panoptes_point_extractor_r"
   ]
  },
  {
   "cell_type": "code",
   "execution_count": 25,
   "id": "b84d1fb085664060",
   "metadata": {
    "collapsed": false,
    "ExecuteTime": {
     "end_time": "2024-04-16T09:46:02.351766Z",
     "start_time": "2024-04-16T09:46:02.159598Z"
    }
   },
   "outputs": [],
   "source": [
    "# explode the lists of marks per user into one row per mark\n",
    "df_panoptes_point_extractor_r_ex = df_panoptes_point_extractor_r.apply(lambda x: x.explode() if x.name in ['x', 'y'] else x)"
   ]
  },
  {
   "cell_type": "code",
   "execution_count": 26,
   "id": "7f88cb7f25c52568",
   "metadata": {
    "collapsed": false,
    "ExecuteTime": {
     "end_time": "2024-04-16T09:46:02.701017Z",
     "start_time": "2024-04-16T09:46:02.353960Z"
    }
   },
   "outputs": [
    {
     "data": {
      "text/plain": "        classification_id                         user_name  \\\n131510          406989334  da233c785cfd7c42279d2f2b632bbc4f   \n131510          406989334  da233c785cfd7c42279d2f2b632bbc4f   \n131510          406989334  da233c785cfd7c42279d2f2b632bbc4f   \n180711          406983766  da233c785cfd7c42279d2f2b632bbc4f   \n180711          406983766  da233c785cfd7c42279d2f2b632bbc4f   \n...                   ...                               ...   \n94553           397662853  9432ca625cbcee771e54db4c895908d3   \n94553           397662853  9432ca625cbcee771e54db4c895908d3   \n94553           397662853  9432ca625cbcee771e54db4c895908d3   \n94553           397662853  9432ca625cbcee771e54db4c895908d3   \n94553           397662853  9432ca625cbcee771e54db4c895908d3   \n\n                                 user_id  workflow_id workflow_version task  \\\n131510  001d00e0739694888f7dc3471fc76e5c        20600           94.166   T2   \n131510  001d00e0739694888f7dc3471fc76e5c        20600           94.166   T2   \n131510  001d00e0739694888f7dc3471fc76e5c        20600           94.166   T2   \n180711  001d00e0739694888f7dc3471fc76e5c        20600           94.166   T2   \n180711  001d00e0739694888f7dc3471fc76e5c        20600           94.166   T2   \n...                                  ...          ...              ...  ...   \n94553                                NaN        20600           93.166   T2   \n94553                                NaN        20600           93.166   T2   \n94553                                NaN        20600           93.166   T2   \n94553                                NaN        20600           93.166   T2   \n94553                                NaN        20600           93.166   T2   \n\n                     created_at  subject_id       image_name            x  \\\n131510  2022-04-04 00:07:09 UTC    72335718   EPS04-1_50.jpg   557.795471   \n131510  2022-04-04 00:07:09 UTC    72335718   EPS04-1_50.jpg   604.893799   \n131510  2022-04-04 00:07:09 UTC    72335718   EPS04-1_50.jpg  1068.740234   \n180711  2022-04-03 23:26:39 UTC    72335747   EPS04-1_87.jpg   116.374191   \n180711  2022-04-03 23:26:39 UTC    72335747   EPS04-1_87.jpg   173.308746   \n...                         ...         ...              ...          ...   \n94553   2022-02-18 12:38:57 UTC    72373351  ESCG02-2_65.jpg    97.770393   \n94553   2022-02-18 12:38:57 UTC    72373351  ESCG02-2_65.jpg   113.634987   \n94553   2022-02-18 12:38:57 UTC    72373351  ESCG02-2_65.jpg    87.571724   \n94553   2022-02-18 12:38:57 UTC    72373351  ESCG02-2_65.jpg   443.786987   \n94553   2022-02-18 12:38:57 UTC    72373351  ESCG02-2_65.jpg   188.932449   \n\n                 y  \n131510  529.253357  \n131510  472.164551  \n131510  917.457214  \n180711  815.917847  \n180711  850.901733  \n...            ...  \n94553   117.218422  \n94553   186.909332  \n94553   167.078568  \n94553   124.978645  \n94553   337.325684  \n\n[147423 rows x 11 columns]",
      "text/html": "<div>\n<style scoped>\n    .dataframe tbody tr th:only-of-type {\n        vertical-align: middle;\n    }\n\n    .dataframe tbody tr th {\n        vertical-align: top;\n    }\n\n    .dataframe thead th {\n        text-align: right;\n    }\n</style>\n<table border=\"1\" class=\"dataframe\">\n  <thead>\n    <tr style=\"text-align: right;\">\n      <th></th>\n      <th>classification_id</th>\n      <th>user_name</th>\n      <th>user_id</th>\n      <th>workflow_id</th>\n      <th>workflow_version</th>\n      <th>task</th>\n      <th>created_at</th>\n      <th>subject_id</th>\n      <th>image_name</th>\n      <th>x</th>\n      <th>y</th>\n    </tr>\n  </thead>\n  <tbody>\n    <tr>\n      <th>131510</th>\n      <td>406989334</td>\n      <td>da233c785cfd7c42279d2f2b632bbc4f</td>\n      <td>001d00e0739694888f7dc3471fc76e5c</td>\n      <td>20600</td>\n      <td>94.166</td>\n      <td>T2</td>\n      <td>2022-04-04 00:07:09 UTC</td>\n      <td>72335718</td>\n      <td>EPS04-1_50.jpg</td>\n      <td>557.795471</td>\n      <td>529.253357</td>\n    </tr>\n    <tr>\n      <th>131510</th>\n      <td>406989334</td>\n      <td>da233c785cfd7c42279d2f2b632bbc4f</td>\n      <td>001d00e0739694888f7dc3471fc76e5c</td>\n      <td>20600</td>\n      <td>94.166</td>\n      <td>T2</td>\n      <td>2022-04-04 00:07:09 UTC</td>\n      <td>72335718</td>\n      <td>EPS04-1_50.jpg</td>\n      <td>604.893799</td>\n      <td>472.164551</td>\n    </tr>\n    <tr>\n      <th>131510</th>\n      <td>406989334</td>\n      <td>da233c785cfd7c42279d2f2b632bbc4f</td>\n      <td>001d00e0739694888f7dc3471fc76e5c</td>\n      <td>20600</td>\n      <td>94.166</td>\n      <td>T2</td>\n      <td>2022-04-04 00:07:09 UTC</td>\n      <td>72335718</td>\n      <td>EPS04-1_50.jpg</td>\n      <td>1068.740234</td>\n      <td>917.457214</td>\n    </tr>\n    <tr>\n      <th>180711</th>\n      <td>406983766</td>\n      <td>da233c785cfd7c42279d2f2b632bbc4f</td>\n      <td>001d00e0739694888f7dc3471fc76e5c</td>\n      <td>20600</td>\n      <td>94.166</td>\n      <td>T2</td>\n      <td>2022-04-03 23:26:39 UTC</td>\n      <td>72335747</td>\n      <td>EPS04-1_87.jpg</td>\n      <td>116.374191</td>\n      <td>815.917847</td>\n    </tr>\n    <tr>\n      <th>180711</th>\n      <td>406983766</td>\n      <td>da233c785cfd7c42279d2f2b632bbc4f</td>\n      <td>001d00e0739694888f7dc3471fc76e5c</td>\n      <td>20600</td>\n      <td>94.166</td>\n      <td>T2</td>\n      <td>2022-04-03 23:26:39 UTC</td>\n      <td>72335747</td>\n      <td>EPS04-1_87.jpg</td>\n      <td>173.308746</td>\n      <td>850.901733</td>\n    </tr>\n    <tr>\n      <th>...</th>\n      <td>...</td>\n      <td>...</td>\n      <td>...</td>\n      <td>...</td>\n      <td>...</td>\n      <td>...</td>\n      <td>...</td>\n      <td>...</td>\n      <td>...</td>\n      <td>...</td>\n      <td>...</td>\n    </tr>\n    <tr>\n      <th>94553</th>\n      <td>397662853</td>\n      <td>9432ca625cbcee771e54db4c895908d3</td>\n      <td>NaN</td>\n      <td>20600</td>\n      <td>93.166</td>\n      <td>T2</td>\n      <td>2022-02-18 12:38:57 UTC</td>\n      <td>72373351</td>\n      <td>ESCG02-2_65.jpg</td>\n      <td>97.770393</td>\n      <td>117.218422</td>\n    </tr>\n    <tr>\n      <th>94553</th>\n      <td>397662853</td>\n      <td>9432ca625cbcee771e54db4c895908d3</td>\n      <td>NaN</td>\n      <td>20600</td>\n      <td>93.166</td>\n      <td>T2</td>\n      <td>2022-02-18 12:38:57 UTC</td>\n      <td>72373351</td>\n      <td>ESCG02-2_65.jpg</td>\n      <td>113.634987</td>\n      <td>186.909332</td>\n    </tr>\n    <tr>\n      <th>94553</th>\n      <td>397662853</td>\n      <td>9432ca625cbcee771e54db4c895908d3</td>\n      <td>NaN</td>\n      <td>20600</td>\n      <td>93.166</td>\n      <td>T2</td>\n      <td>2022-02-18 12:38:57 UTC</td>\n      <td>72373351</td>\n      <td>ESCG02-2_65.jpg</td>\n      <td>87.571724</td>\n      <td>167.078568</td>\n    </tr>\n    <tr>\n      <th>94553</th>\n      <td>397662853</td>\n      <td>9432ca625cbcee771e54db4c895908d3</td>\n      <td>NaN</td>\n      <td>20600</td>\n      <td>93.166</td>\n      <td>T2</td>\n      <td>2022-02-18 12:38:57 UTC</td>\n      <td>72373351</td>\n      <td>ESCG02-2_65.jpg</td>\n      <td>443.786987</td>\n      <td>124.978645</td>\n    </tr>\n    <tr>\n      <th>94553</th>\n      <td>397662853</td>\n      <td>9432ca625cbcee771e54db4c895908d3</td>\n      <td>NaN</td>\n      <td>20600</td>\n      <td>93.166</td>\n      <td>T2</td>\n      <td>2022-02-18 12:38:57 UTC</td>\n      <td>72373351</td>\n      <td>ESCG02-2_65.jpg</td>\n      <td>188.932449</td>\n      <td>337.325684</td>\n    </tr>\n  </tbody>\n</table>\n<p>147423 rows × 11 columns</p>\n</div>"
     },
     "execution_count": 26,
     "metadata": {},
     "output_type": "execute_result"
    }
   ],
   "source": [
    "# images with no marks have NaN values in the 'merged_x' and 'merged_y' columns\n",
    "df_panoptes_point_extractor_r_ex_dropped = df_panoptes_point_extractor_r_ex.dropna(subset=['x', 'y'], how='all').sort_values(by=['user_id', 'subject_id', 'task', 'created_at'])\n",
    "df_panoptes_point_extractor_r_ex_dropped"
   ]
  },
  {
   "cell_type": "code",
   "execution_count": 27,
   "id": "b3a0beb695d8f28e",
   "metadata": {
    "collapsed": false,
    "ExecuteTime": {
     "end_time": "2024-04-16T09:46:02.754855Z",
     "start_time": "2024-04-16T09:46:02.703586Z"
    }
   },
   "outputs": [
    {
     "data": {
      "text/plain": "        classification_id                         user_name  \\\n131510          406989334  da233c785cfd7c42279d2f2b632bbc4f   \n131510          406989334  da233c785cfd7c42279d2f2b632bbc4f   \n131510          406989334  da233c785cfd7c42279d2f2b632bbc4f   \n180711          406983766  da233c785cfd7c42279d2f2b632bbc4f   \n180711          406983766  da233c785cfd7c42279d2f2b632bbc4f   \n...                   ...                               ...   \n94553           397662853  9432ca625cbcee771e54db4c895908d3   \n94553           397662853  9432ca625cbcee771e54db4c895908d3   \n94553           397662853  9432ca625cbcee771e54db4c895908d3   \n94553           397662853  9432ca625cbcee771e54db4c895908d3   \n94553           397662853  9432ca625cbcee771e54db4c895908d3   \n\n                                 user_id  workflow_id workflow_version task  \\\n131510  001d00e0739694888f7dc3471fc76e5c        20600           94.166   T2   \n131510  001d00e0739694888f7dc3471fc76e5c        20600           94.166   T2   \n131510  001d00e0739694888f7dc3471fc76e5c        20600           94.166   T2   \n180711  001d00e0739694888f7dc3471fc76e5c        20600           94.166   T2   \n180711  001d00e0739694888f7dc3471fc76e5c        20600           94.166   T2   \n...                                  ...          ...              ...  ...   \n94553                                NaN        20600           93.166   T2   \n94553                                NaN        20600           93.166   T2   \n94553                                NaN        20600           93.166   T2   \n94553                                NaN        20600           93.166   T2   \n94553                                NaN        20600           93.166   T2   \n\n                     created_at  subject_id       image_name     x    y  \n131510  2022-04-04 00:07:09 UTC    72335718   EPS04-1_50.jpg   557  529  \n131510  2022-04-04 00:07:09 UTC    72335718   EPS04-1_50.jpg   604  472  \n131510  2022-04-04 00:07:09 UTC    72335718   EPS04-1_50.jpg  1068  917  \n180711  2022-04-03 23:26:39 UTC    72335747   EPS04-1_87.jpg   116  815  \n180711  2022-04-03 23:26:39 UTC    72335747   EPS04-1_87.jpg   173  850  \n...                         ...         ...              ...   ...  ...  \n94553   2022-02-18 12:38:57 UTC    72373351  ESCG02-2_65.jpg    97  117  \n94553   2022-02-18 12:38:57 UTC    72373351  ESCG02-2_65.jpg   113  186  \n94553   2022-02-18 12:38:57 UTC    72373351  ESCG02-2_65.jpg    87  167  \n94553   2022-02-18 12:38:57 UTC    72373351  ESCG02-2_65.jpg   443  124  \n94553   2022-02-18 12:38:57 UTC    72373351  ESCG02-2_65.jpg   188  337  \n\n[147423 rows x 11 columns]",
      "text/html": "<div>\n<style scoped>\n    .dataframe tbody tr th:only-of-type {\n        vertical-align: middle;\n    }\n\n    .dataframe tbody tr th {\n        vertical-align: top;\n    }\n\n    .dataframe thead th {\n        text-align: right;\n    }\n</style>\n<table border=\"1\" class=\"dataframe\">\n  <thead>\n    <tr style=\"text-align: right;\">\n      <th></th>\n      <th>classification_id</th>\n      <th>user_name</th>\n      <th>user_id</th>\n      <th>workflow_id</th>\n      <th>workflow_version</th>\n      <th>task</th>\n      <th>created_at</th>\n      <th>subject_id</th>\n      <th>image_name</th>\n      <th>x</th>\n      <th>y</th>\n    </tr>\n  </thead>\n  <tbody>\n    <tr>\n      <th>131510</th>\n      <td>406989334</td>\n      <td>da233c785cfd7c42279d2f2b632bbc4f</td>\n      <td>001d00e0739694888f7dc3471fc76e5c</td>\n      <td>20600</td>\n      <td>94.166</td>\n      <td>T2</td>\n      <td>2022-04-04 00:07:09 UTC</td>\n      <td>72335718</td>\n      <td>EPS04-1_50.jpg</td>\n      <td>557</td>\n      <td>529</td>\n    </tr>\n    <tr>\n      <th>131510</th>\n      <td>406989334</td>\n      <td>da233c785cfd7c42279d2f2b632bbc4f</td>\n      <td>001d00e0739694888f7dc3471fc76e5c</td>\n      <td>20600</td>\n      <td>94.166</td>\n      <td>T2</td>\n      <td>2022-04-04 00:07:09 UTC</td>\n      <td>72335718</td>\n      <td>EPS04-1_50.jpg</td>\n      <td>604</td>\n      <td>472</td>\n    </tr>\n    <tr>\n      <th>131510</th>\n      <td>406989334</td>\n      <td>da233c785cfd7c42279d2f2b632bbc4f</td>\n      <td>001d00e0739694888f7dc3471fc76e5c</td>\n      <td>20600</td>\n      <td>94.166</td>\n      <td>T2</td>\n      <td>2022-04-04 00:07:09 UTC</td>\n      <td>72335718</td>\n      <td>EPS04-1_50.jpg</td>\n      <td>1068</td>\n      <td>917</td>\n    </tr>\n    <tr>\n      <th>180711</th>\n      <td>406983766</td>\n      <td>da233c785cfd7c42279d2f2b632bbc4f</td>\n      <td>001d00e0739694888f7dc3471fc76e5c</td>\n      <td>20600</td>\n      <td>94.166</td>\n      <td>T2</td>\n      <td>2022-04-03 23:26:39 UTC</td>\n      <td>72335747</td>\n      <td>EPS04-1_87.jpg</td>\n      <td>116</td>\n      <td>815</td>\n    </tr>\n    <tr>\n      <th>180711</th>\n      <td>406983766</td>\n      <td>da233c785cfd7c42279d2f2b632bbc4f</td>\n      <td>001d00e0739694888f7dc3471fc76e5c</td>\n      <td>20600</td>\n      <td>94.166</td>\n      <td>T2</td>\n      <td>2022-04-03 23:26:39 UTC</td>\n      <td>72335747</td>\n      <td>EPS04-1_87.jpg</td>\n      <td>173</td>\n      <td>850</td>\n    </tr>\n    <tr>\n      <th>...</th>\n      <td>...</td>\n      <td>...</td>\n      <td>...</td>\n      <td>...</td>\n      <td>...</td>\n      <td>...</td>\n      <td>...</td>\n      <td>...</td>\n      <td>...</td>\n      <td>...</td>\n      <td>...</td>\n    </tr>\n    <tr>\n      <th>94553</th>\n      <td>397662853</td>\n      <td>9432ca625cbcee771e54db4c895908d3</td>\n      <td>NaN</td>\n      <td>20600</td>\n      <td>93.166</td>\n      <td>T2</td>\n      <td>2022-02-18 12:38:57 UTC</td>\n      <td>72373351</td>\n      <td>ESCG02-2_65.jpg</td>\n      <td>97</td>\n      <td>117</td>\n    </tr>\n    <tr>\n      <th>94553</th>\n      <td>397662853</td>\n      <td>9432ca625cbcee771e54db4c895908d3</td>\n      <td>NaN</td>\n      <td>20600</td>\n      <td>93.166</td>\n      <td>T2</td>\n      <td>2022-02-18 12:38:57 UTC</td>\n      <td>72373351</td>\n      <td>ESCG02-2_65.jpg</td>\n      <td>113</td>\n      <td>186</td>\n    </tr>\n    <tr>\n      <th>94553</th>\n      <td>397662853</td>\n      <td>9432ca625cbcee771e54db4c895908d3</td>\n      <td>NaN</td>\n      <td>20600</td>\n      <td>93.166</td>\n      <td>T2</td>\n      <td>2022-02-18 12:38:57 UTC</td>\n      <td>72373351</td>\n      <td>ESCG02-2_65.jpg</td>\n      <td>87</td>\n      <td>167</td>\n    </tr>\n    <tr>\n      <th>94553</th>\n      <td>397662853</td>\n      <td>9432ca625cbcee771e54db4c895908d3</td>\n      <td>NaN</td>\n      <td>20600</td>\n      <td>93.166</td>\n      <td>T2</td>\n      <td>2022-02-18 12:38:57 UTC</td>\n      <td>72373351</td>\n      <td>ESCG02-2_65.jpg</td>\n      <td>443</td>\n      <td>124</td>\n    </tr>\n    <tr>\n      <th>94553</th>\n      <td>397662853</td>\n      <td>9432ca625cbcee771e54db4c895908d3</td>\n      <td>NaN</td>\n      <td>20600</td>\n      <td>93.166</td>\n      <td>T2</td>\n      <td>2022-02-18 12:38:57 UTC</td>\n      <td>72373351</td>\n      <td>ESCG02-2_65.jpg</td>\n      <td>188</td>\n      <td>337</td>\n    </tr>\n  </tbody>\n</table>\n<p>147423 rows × 11 columns</p>\n</div>"
     },
     "execution_count": 27,
     "metadata": {},
     "output_type": "execute_result"
    }
   ],
   "source": [
    "# cast x and y to int\n",
    "df_panoptes_point_extractor_r_ex_dropped = df_panoptes_point_extractor_r_ex_dropped.astype({'x': 'int32', 'y': 'int32'})\n",
    "df_panoptes_point_extractor_r_ex_dropped"
   ]
  },
  {
   "cell_type": "code",
   "execution_count": 28,
   "id": "6852db7c1077de6",
   "metadata": {
    "collapsed": false,
    "ExecuteTime": {
     "end_time": "2024-04-16T09:46:04.149356Z",
     "start_time": "2024-04-16T09:46:02.757102Z"
    }
   },
   "outputs": [],
   "source": [
    "df_panoptes_point_extractor_r_ex_dropped.to_csv(config[\"flat_panoptes_points\"], sep=\",\", index = False)"
   ]
  },
  {
   "cell_type": "markdown",
   "id": "18a9d6b4d094619e",
   "metadata": {
    "collapsed": false
   },
   "source": [
    "## Inspecting the results\n",
    "Check the numbers for a single subject_id"
   ]
  },
  {
   "cell_type": "code",
   "execution_count": 29,
   "id": "71db8866ca74ff92",
   "metadata": {
    "collapsed": false,
    "ExecuteTime": {
     "end_time": "2024-04-16T09:46:04.229597Z",
     "start_time": "2024-04-16T09:46:04.211707Z"
    }
   },
   "outputs": [
    {
     "data": {
      "text/plain": "       classification_id                         user_name  \\\n55082          408899097  dcaeb0f97c49f8f7fd4bd7778a65161b   \n55082          408899097  dcaeb0f97c49f8f7fd4bd7778a65161b   \n55082          408899097  dcaeb0f97c49f8f7fd4bd7778a65161b   \n55082          408899097  dcaeb0f97c49f8f7fd4bd7778a65161b   \n55082          408899097  dcaeb0f97c49f8f7fd4bd7778a65161b   \n...                  ...                               ...   \n55084          409860945  c6d66b18814c9df1833d0a281e272323   \n55084          409860945  c6d66b18814c9df1833d0a281e272323   \n55084          409860945  c6d66b18814c9df1833d0a281e272323   \n55084          409860945  c6d66b18814c9df1833d0a281e272323   \n55084          409860945  c6d66b18814c9df1833d0a281e272323   \n\n                                user_id  workflow_id workflow_version task  \\\n55082  0156eebf62383fedf03616142d065d39        20600           94.166   T2   \n55082  0156eebf62383fedf03616142d065d39        20600           94.166   T2   \n55082  0156eebf62383fedf03616142d065d39        20600           94.166   T2   \n55082  0156eebf62383fedf03616142d065d39        20600           94.166   T2   \n55082  0156eebf62383fedf03616142d065d39        20600           94.166   T2   \n...                                 ...          ...              ...  ...   \n55084                               NaN        20600           94.166   T2   \n55084                               NaN        20600           94.166   T2   \n55084                               NaN        20600           94.166   T2   \n55084                               NaN        20600           94.166   T2   \n55084                               NaN        20600           94.166   T2   \n\n                    created_at  subject_id       image_name    x    y  \n55082  2022-04-13 12:30:08 UTC    72373250  ESCG02-1_19.jpg  136  503  \n55082  2022-04-13 12:30:08 UTC    72373250  ESCG02-1_19.jpg  271  339  \n55082  2022-04-13 12:30:08 UTC    72373250  ESCG02-1_19.jpg  577  305  \n55082  2022-04-13 12:30:08 UTC    72373250  ESCG02-1_19.jpg  624  463  \n55082  2022-04-13 12:30:08 UTC    72373250  ESCG02-1_19.jpg   94  671  \n...                        ...         ...              ...  ...  ...  \n55084  2022-04-18 23:19:43 UTC    72373250  ESCG02-1_19.jpg  193  295  \n55084  2022-04-18 23:19:43 UTC    72373250  ESCG02-1_19.jpg  199  127  \n55084  2022-04-18 23:19:43 UTC    72373250  ESCG02-1_19.jpg  193  148  \n55084  2022-04-18 23:19:43 UTC    72373250  ESCG02-1_19.jpg  427  995  \n55084  2022-04-18 23:19:43 UTC    72373250  ESCG02-1_19.jpg  455  995  \n\n[598 rows x 11 columns]",
      "text/html": "<div>\n<style scoped>\n    .dataframe tbody tr th:only-of-type {\n        vertical-align: middle;\n    }\n\n    .dataframe tbody tr th {\n        vertical-align: top;\n    }\n\n    .dataframe thead th {\n        text-align: right;\n    }\n</style>\n<table border=\"1\" class=\"dataframe\">\n  <thead>\n    <tr style=\"text-align: right;\">\n      <th></th>\n      <th>classification_id</th>\n      <th>user_name</th>\n      <th>user_id</th>\n      <th>workflow_id</th>\n      <th>workflow_version</th>\n      <th>task</th>\n      <th>created_at</th>\n      <th>subject_id</th>\n      <th>image_name</th>\n      <th>x</th>\n      <th>y</th>\n    </tr>\n  </thead>\n  <tbody>\n    <tr>\n      <th>55082</th>\n      <td>408899097</td>\n      <td>dcaeb0f97c49f8f7fd4bd7778a65161b</td>\n      <td>0156eebf62383fedf03616142d065d39</td>\n      <td>20600</td>\n      <td>94.166</td>\n      <td>T2</td>\n      <td>2022-04-13 12:30:08 UTC</td>\n      <td>72373250</td>\n      <td>ESCG02-1_19.jpg</td>\n      <td>136</td>\n      <td>503</td>\n    </tr>\n    <tr>\n      <th>55082</th>\n      <td>408899097</td>\n      <td>dcaeb0f97c49f8f7fd4bd7778a65161b</td>\n      <td>0156eebf62383fedf03616142d065d39</td>\n      <td>20600</td>\n      <td>94.166</td>\n      <td>T2</td>\n      <td>2022-04-13 12:30:08 UTC</td>\n      <td>72373250</td>\n      <td>ESCG02-1_19.jpg</td>\n      <td>271</td>\n      <td>339</td>\n    </tr>\n    <tr>\n      <th>55082</th>\n      <td>408899097</td>\n      <td>dcaeb0f97c49f8f7fd4bd7778a65161b</td>\n      <td>0156eebf62383fedf03616142d065d39</td>\n      <td>20600</td>\n      <td>94.166</td>\n      <td>T2</td>\n      <td>2022-04-13 12:30:08 UTC</td>\n      <td>72373250</td>\n      <td>ESCG02-1_19.jpg</td>\n      <td>577</td>\n      <td>305</td>\n    </tr>\n    <tr>\n      <th>55082</th>\n      <td>408899097</td>\n      <td>dcaeb0f97c49f8f7fd4bd7778a65161b</td>\n      <td>0156eebf62383fedf03616142d065d39</td>\n      <td>20600</td>\n      <td>94.166</td>\n      <td>T2</td>\n      <td>2022-04-13 12:30:08 UTC</td>\n      <td>72373250</td>\n      <td>ESCG02-1_19.jpg</td>\n      <td>624</td>\n      <td>463</td>\n    </tr>\n    <tr>\n      <th>55082</th>\n      <td>408899097</td>\n      <td>dcaeb0f97c49f8f7fd4bd7778a65161b</td>\n      <td>0156eebf62383fedf03616142d065d39</td>\n      <td>20600</td>\n      <td>94.166</td>\n      <td>T2</td>\n      <td>2022-04-13 12:30:08 UTC</td>\n      <td>72373250</td>\n      <td>ESCG02-1_19.jpg</td>\n      <td>94</td>\n      <td>671</td>\n    </tr>\n    <tr>\n      <th>...</th>\n      <td>...</td>\n      <td>...</td>\n      <td>...</td>\n      <td>...</td>\n      <td>...</td>\n      <td>...</td>\n      <td>...</td>\n      <td>...</td>\n      <td>...</td>\n      <td>...</td>\n      <td>...</td>\n    </tr>\n    <tr>\n      <th>55084</th>\n      <td>409860945</td>\n      <td>c6d66b18814c9df1833d0a281e272323</td>\n      <td>NaN</td>\n      <td>20600</td>\n      <td>94.166</td>\n      <td>T2</td>\n      <td>2022-04-18 23:19:43 UTC</td>\n      <td>72373250</td>\n      <td>ESCG02-1_19.jpg</td>\n      <td>193</td>\n      <td>295</td>\n    </tr>\n    <tr>\n      <th>55084</th>\n      <td>409860945</td>\n      <td>c6d66b18814c9df1833d0a281e272323</td>\n      <td>NaN</td>\n      <td>20600</td>\n      <td>94.166</td>\n      <td>T2</td>\n      <td>2022-04-18 23:19:43 UTC</td>\n      <td>72373250</td>\n      <td>ESCG02-1_19.jpg</td>\n      <td>199</td>\n      <td>127</td>\n    </tr>\n    <tr>\n      <th>55084</th>\n      <td>409860945</td>\n      <td>c6d66b18814c9df1833d0a281e272323</td>\n      <td>NaN</td>\n      <td>20600</td>\n      <td>94.166</td>\n      <td>T2</td>\n      <td>2022-04-18 23:19:43 UTC</td>\n      <td>72373250</td>\n      <td>ESCG02-1_19.jpg</td>\n      <td>193</td>\n      <td>148</td>\n    </tr>\n    <tr>\n      <th>55084</th>\n      <td>409860945</td>\n      <td>c6d66b18814c9df1833d0a281e272323</td>\n      <td>NaN</td>\n      <td>20600</td>\n      <td>94.166</td>\n      <td>T2</td>\n      <td>2022-04-18 23:19:43 UTC</td>\n      <td>72373250</td>\n      <td>ESCG02-1_19.jpg</td>\n      <td>427</td>\n      <td>995</td>\n    </tr>\n    <tr>\n      <th>55084</th>\n      <td>409860945</td>\n      <td>c6d66b18814c9df1833d0a281e272323</td>\n      <td>NaN</td>\n      <td>20600</td>\n      <td>94.166</td>\n      <td>T2</td>\n      <td>2022-04-18 23:19:43 UTC</td>\n      <td>72373250</td>\n      <td>ESCG02-1_19.jpg</td>\n      <td>455</td>\n      <td>995</td>\n    </tr>\n  </tbody>\n</table>\n<p>598 rows × 11 columns</p>\n</div>"
     },
     "execution_count": 29,
     "metadata": {},
     "output_type": "execute_result"
    }
   ],
   "source": [
    "### Looks the images in question\n",
    "\n",
    "subject_id_2 = 72373250 \n",
    "df_debug = df_panoptes_point_extractor_r_ex_dropped[(df_panoptes_point_extractor_r_ex_dropped.subject_id == subject_id_2)]\n",
    "df_debug"
   ]
  },
  {
   "cell_type": "code",
   "outputs": [
    {
     "data": {
      "text/plain": "user_name\n02e6f61e89e91b8725718f54a1ee7c56    42\n14d24a5c9234b322cb10145547ea5222    35\n1fdecb6e31d379d15525c6962dda8af1    32\n41415b12a7025ce6d450c1ee1c175909    31\n46232f4fb2d15df64b9156e591ccda6a    26\n565038ede52e5fce582e210f6b806ff9    30\n691500ccebe2131f83809524df652f87    36\n77fedf9ed047493cad21f45b5bccbe83    29\n7da528cc567b4f5ceec05c6a0de72a04    29\n8405b5369ddfd9c86ad032a0bc48dcbc    35\n8e05b15d5b3df382ab3b7ef725032979    28\nadaaf6f43b5a95c1f5831f0462f369f5    37\nb0f5fa7789909ee79b0264f924b28554    49\nb351d9ed4d01ea5b3109e04ff020552d    31\nb9fe6f3e7007b28548521cfc5a325cb3    21\nc6d66b18814c9df1833d0a281e272323    23\nd4be5c8ad02f70ce96e5daab37f25419    14\nd4db022c6b48b830d8f92d5c737d6364     1\ndcaeb0f97c49f8f7fd4bd7778a65161b    30\nfb791d53c56a36e057a53ee561f2664e    39\ndtype: int64"
     },
     "execution_count": 30,
     "metadata": {},
     "output_type": "execute_result"
    }
   ],
   "source": [
    "df_debug.groupby('user_name').size()\n"
   ],
   "metadata": {
    "collapsed": false,
    "ExecuteTime": {
     "end_time": "2024-04-16T09:46:04.239528Z",
     "start_time": "2024-04-16T09:46:04.231731Z"
    }
   },
   "id": "5e3cbd752bce3b90",
   "execution_count": 30
  },
  {
   "cell_type": "code",
   "outputs": [
    {
     "data": {
      "text/plain": "Empty DataFrame\nColumns: [classification_id, user_name, user_id, workflow_id, workflow_version, task, created_at, subject_id, image_name, x, y]\nIndex: []",
      "text/html": "<div>\n<style scoped>\n    .dataframe tbody tr th:only-of-type {\n        vertical-align: middle;\n    }\n\n    .dataframe tbody tr th {\n        vertical-align: top;\n    }\n\n    .dataframe thead th {\n        text-align: right;\n    }\n</style>\n<table border=\"1\" class=\"dataframe\">\n  <thead>\n    <tr style=\"text-align: right;\">\n      <th></th>\n      <th>classification_id</th>\n      <th>user_name</th>\n      <th>user_id</th>\n      <th>workflow_id</th>\n      <th>workflow_version</th>\n      <th>task</th>\n      <th>created_at</th>\n      <th>subject_id</th>\n      <th>image_name</th>\n      <th>x</th>\n      <th>y</th>\n    </tr>\n  </thead>\n  <tbody>\n  </tbody>\n</table>\n</div>"
     },
     "execution_count": 31,
     "metadata": {},
     "output_type": "execute_result"
    }
   ],
   "source": [
    "df_debug[df_debug.user_name == \"CallieSanDiego\"]"
   ],
   "metadata": {
    "collapsed": false,
    "ExecuteTime": {
     "end_time": "2024-04-16T09:46:04.252506Z",
     "start_time": "2024-04-16T09:46:04.241705Z"
    }
   },
   "id": "7ff365a48909310b",
   "execution_count": 31
  },
  {
   "cell_type": "markdown",
   "id": "e61c47399cf2cc3c",
   "metadata": {
    "collapsed": false
   },
   "source": [
    "## Download images\n",
    "iguanas-from-above-subjects_with_url.csv will be used to track which url was already downlaoded."
   ]
  },
  {
   "cell_type": "code",
   "execution_count": 32,
   "id": "b9279ce089ee45da",
   "metadata": {
    "collapsed": false,
    "ExecuteTime": {
     "end_time": "2024-04-16T09:46:06.334723Z",
     "start_time": "2024-04-16T09:46:04.254574Z"
    }
   },
   "outputs": [
    {
     "data": {
      "text/plain": "       Unnamed: 0  subject_id  project_id  workflow_id  subject_set_id  \\\n0             190    47967468       11905      14370.0           86008   \n1             191    47967469       11905      14370.0           86008   \n2             192    47967470       11905      14370.0           86008   \n3             193    47967471       11905      14370.0           86008   \n4             194    47967472       11905      14370.0           86008   \n...           ...         ...         ...          ...             ...   \n57833       58027    78965182       11905      22040.0          106640   \n57834       58028    78965183       11905      22040.0          106640   \n57835       58029    78965184       11905      22040.0          106640   \n57836       58030    78965185       11905      22040.0          106640   \n57837       58031    78965186       11905      22040.0          106640   \n\n                                                metadata  \\\n0      {\"site\":\"SFB\",\"image_name\":\"SFB01-3_08.jpg\",\"s...   \n1      {\"site\":\"SFB\",\"image_name\":\"SFB01-3_15.jpg\",\"s...   \n2      {\"site\":\"SFB\",\"image_name\":\"SFB01-3_27.jpg\",\"s...   \n3      {\"site\":\"SFB\",\"image_name\":\"SFB01-3_28.jpg\",\"s...   \n4      {\"site\":\"SFB\",\"image_name\":\"SFB01-3_34.jpg\",\"s...   \n...                                                  ...   \n57833  {\"id\":\"476\",\"set\":\"SouthCoastH\",\"site\":\"SouthC...   \n57834  {\"id\":\"477\",\"set\":\"SouthCoastH\",\"site\":\"SouthC...   \n57835  {\"id\":\"478\",\"set\":\"SouthCoastH\",\"site\":\"SouthC...   \n57836  {\"id\":\"479\",\"set\":\"SouthCoastH\",\"site\":\"SouthC...   \n57837  {\"id\":\"480\",\"set\":\"SouthCoastH\",\"site\":\"SouthC...   \n\n                                               locations  \\\n0      {\"0\":\"https://panoptes-uploads.zooniverse.org/...   \n1      {\"0\":\"https://panoptes-uploads.zooniverse.org/...   \n2      {\"0\":\"https://panoptes-uploads.zooniverse.org/...   \n3      {\"0\":\"https://panoptes-uploads.zooniverse.org/...   \n4      {\"0\":\"https://panoptes-uploads.zooniverse.org/...   \n...                                                  ...   \n57833  {\"0\":\"https://panoptes-uploads.zooniverse.org/...   \n57834  {\"0\":\"https://panoptes-uploads.zooniverse.org/...   \n57835  {\"0\":\"https://panoptes-uploads.zooniverse.org/...   \n57836  {\"0\":\"https://panoptes-uploads.zooniverse.org/...   \n57837  {\"0\":\"https://panoptes-uploads.zooniverse.org/...   \n\n       classifications_count               retired_at     retirement_reason  \\\n0                         20  2020-11-15 19:06:16 UTC  classification_count   \n1                         20  2020-10-28 19:25:18 UTC  classification_count   \n2                         20  2020-11-14 10:07:19 UTC  classification_count   \n3                         20  2020-11-09 10:36:02 UTC  classification_count   \n4                         20  2020-11-18 20:44:36 UTC  classification_count   \n...                      ...                      ...                   ...   \n57833                     30  2023-06-04 20:04:00 UTC  classification_count   \n57834                     24  2023-08-30 16:43:06 UTC  classification_count   \n57835                     30  2023-07-14 13:55:55 UTC  classification_count   \n57836                     30  2023-07-20 04:37:58 UTC  classification_count   \n57837                     22  2023-09-11 22:46:23 UTC  classification_count   \n\n                    created_at               updated_at       image_name  \\\n0      2020-07-18 20:38:14 UTC  2020-07-18 20:38:14 UTC   SFB01-3_08.jpg   \n1      2020-07-18 20:38:17 UTC  2020-07-18 20:38:17 UTC   SFB01-3_15.jpg   \n2      2020-07-18 20:38:18 UTC  2020-07-18 20:38:18 UTC   SFB01-3_27.jpg   \n3      2020-07-18 20:38:20 UTC  2020-07-18 20:38:20 UTC   SFB01-3_28.jpg   \n4      2020-07-18 20:38:22 UTC  2020-07-18 20:38:22 UTC   SFB01-3_34.jpg   \n...                        ...                      ...              ...   \n57833  2022-07-24 11:23:51 UTC  2022-07-24 11:23:51 UTC  ESCH02-2_80.jpg   \n57834  2022-07-24 11:23:51 UTC  2023-07-28 07:13:45 UTC  ESCH02-2_81.jpg   \n57835  2022-07-24 11:23:52 UTC  2022-07-24 11:23:52 UTC  ESCH02-2_91.jpg   \n57836  2022-07-24 11:23:53 UTC  2022-07-24 11:23:53 UTC  ESCH02-2_92.jpg   \n57837  2022-07-24 11:23:53 UTC  2023-07-28 07:09:48 UTC  ESCH02-2_99.jpg   \n\n       flight_code                                                url  \\\n0              SFB  https://panoptes-uploads.zooniverse.org/subjec...   \n1              SFB  https://panoptes-uploads.zooniverse.org/subjec...   \n2              SFB  https://panoptes-uploads.zooniverse.org/subjec...   \n3              SFB  https://panoptes-uploads.zooniverse.org/subjec...   \n4              SFB  https://panoptes-uploads.zooniverse.org/subjec...   \n...            ...                                                ...   \n57833  SouthCoastH  https://panoptes-uploads.zooniverse.org/subjec...   \n57834  SouthCoastH  https://panoptes-uploads.zooniverse.org/subjec...   \n57835  SouthCoastH  https://panoptes-uploads.zooniverse.org/subjec...   \n57836  SouthCoastH  https://panoptes-uploads.zooniverse.org/subjec...   \n57837  SouthCoastH  https://panoptes-uploads.zooniverse.org/subjec...   \n\n       filepath  \n0           NaN  \n1           NaN  \n2           NaN  \n3           NaN  \n4           NaN  \n...         ...  \n57833       NaN  \n57834       NaN  \n57835       NaN  \n57836       NaN  \n57837       NaN  \n\n[57838 rows x 16 columns]",
      "text/html": "<div>\n<style scoped>\n    .dataframe tbody tr th:only-of-type {\n        vertical-align: middle;\n    }\n\n    .dataframe tbody tr th {\n        vertical-align: top;\n    }\n\n    .dataframe thead th {\n        text-align: right;\n    }\n</style>\n<table border=\"1\" class=\"dataframe\">\n  <thead>\n    <tr style=\"text-align: right;\">\n      <th></th>\n      <th>Unnamed: 0</th>\n      <th>subject_id</th>\n      <th>project_id</th>\n      <th>workflow_id</th>\n      <th>subject_set_id</th>\n      <th>metadata</th>\n      <th>locations</th>\n      <th>classifications_count</th>\n      <th>retired_at</th>\n      <th>retirement_reason</th>\n      <th>created_at</th>\n      <th>updated_at</th>\n      <th>image_name</th>\n      <th>flight_code</th>\n      <th>url</th>\n      <th>filepath</th>\n    </tr>\n  </thead>\n  <tbody>\n    <tr>\n      <th>0</th>\n      <td>190</td>\n      <td>47967468</td>\n      <td>11905</td>\n      <td>14370.0</td>\n      <td>86008</td>\n      <td>{\"site\":\"SFB\",\"image_name\":\"SFB01-3_08.jpg\",\"s...</td>\n      <td>{\"0\":\"https://panoptes-uploads.zooniverse.org/...</td>\n      <td>20</td>\n      <td>2020-11-15 19:06:16 UTC</td>\n      <td>classification_count</td>\n      <td>2020-07-18 20:38:14 UTC</td>\n      <td>2020-07-18 20:38:14 UTC</td>\n      <td>SFB01-3_08.jpg</td>\n      <td>SFB</td>\n      <td>https://panoptes-uploads.zooniverse.org/subjec...</td>\n      <td>NaN</td>\n    </tr>\n    <tr>\n      <th>1</th>\n      <td>191</td>\n      <td>47967469</td>\n      <td>11905</td>\n      <td>14370.0</td>\n      <td>86008</td>\n      <td>{\"site\":\"SFB\",\"image_name\":\"SFB01-3_15.jpg\",\"s...</td>\n      <td>{\"0\":\"https://panoptes-uploads.zooniverse.org/...</td>\n      <td>20</td>\n      <td>2020-10-28 19:25:18 UTC</td>\n      <td>classification_count</td>\n      <td>2020-07-18 20:38:17 UTC</td>\n      <td>2020-07-18 20:38:17 UTC</td>\n      <td>SFB01-3_15.jpg</td>\n      <td>SFB</td>\n      <td>https://panoptes-uploads.zooniverse.org/subjec...</td>\n      <td>NaN</td>\n    </tr>\n    <tr>\n      <th>2</th>\n      <td>192</td>\n      <td>47967470</td>\n      <td>11905</td>\n      <td>14370.0</td>\n      <td>86008</td>\n      <td>{\"site\":\"SFB\",\"image_name\":\"SFB01-3_27.jpg\",\"s...</td>\n      <td>{\"0\":\"https://panoptes-uploads.zooniverse.org/...</td>\n      <td>20</td>\n      <td>2020-11-14 10:07:19 UTC</td>\n      <td>classification_count</td>\n      <td>2020-07-18 20:38:18 UTC</td>\n      <td>2020-07-18 20:38:18 UTC</td>\n      <td>SFB01-3_27.jpg</td>\n      <td>SFB</td>\n      <td>https://panoptes-uploads.zooniverse.org/subjec...</td>\n      <td>NaN</td>\n    </tr>\n    <tr>\n      <th>3</th>\n      <td>193</td>\n      <td>47967471</td>\n      <td>11905</td>\n      <td>14370.0</td>\n      <td>86008</td>\n      <td>{\"site\":\"SFB\",\"image_name\":\"SFB01-3_28.jpg\",\"s...</td>\n      <td>{\"0\":\"https://panoptes-uploads.zooniverse.org/...</td>\n      <td>20</td>\n      <td>2020-11-09 10:36:02 UTC</td>\n      <td>classification_count</td>\n      <td>2020-07-18 20:38:20 UTC</td>\n      <td>2020-07-18 20:38:20 UTC</td>\n      <td>SFB01-3_28.jpg</td>\n      <td>SFB</td>\n      <td>https://panoptes-uploads.zooniverse.org/subjec...</td>\n      <td>NaN</td>\n    </tr>\n    <tr>\n      <th>4</th>\n      <td>194</td>\n      <td>47967472</td>\n      <td>11905</td>\n      <td>14370.0</td>\n      <td>86008</td>\n      <td>{\"site\":\"SFB\",\"image_name\":\"SFB01-3_34.jpg\",\"s...</td>\n      <td>{\"0\":\"https://panoptes-uploads.zooniverse.org/...</td>\n      <td>20</td>\n      <td>2020-11-18 20:44:36 UTC</td>\n      <td>classification_count</td>\n      <td>2020-07-18 20:38:22 UTC</td>\n      <td>2020-07-18 20:38:22 UTC</td>\n      <td>SFB01-3_34.jpg</td>\n      <td>SFB</td>\n      <td>https://panoptes-uploads.zooniverse.org/subjec...</td>\n      <td>NaN</td>\n    </tr>\n    <tr>\n      <th>...</th>\n      <td>...</td>\n      <td>...</td>\n      <td>...</td>\n      <td>...</td>\n      <td>...</td>\n      <td>...</td>\n      <td>...</td>\n      <td>...</td>\n      <td>...</td>\n      <td>...</td>\n      <td>...</td>\n      <td>...</td>\n      <td>...</td>\n      <td>...</td>\n      <td>...</td>\n      <td>...</td>\n    </tr>\n    <tr>\n      <th>57833</th>\n      <td>58027</td>\n      <td>78965182</td>\n      <td>11905</td>\n      <td>22040.0</td>\n      <td>106640</td>\n      <td>{\"id\":\"476\",\"set\":\"SouthCoastH\",\"site\":\"SouthC...</td>\n      <td>{\"0\":\"https://panoptes-uploads.zooniverse.org/...</td>\n      <td>30</td>\n      <td>2023-06-04 20:04:00 UTC</td>\n      <td>classification_count</td>\n      <td>2022-07-24 11:23:51 UTC</td>\n      <td>2022-07-24 11:23:51 UTC</td>\n      <td>ESCH02-2_80.jpg</td>\n      <td>SouthCoastH</td>\n      <td>https://panoptes-uploads.zooniverse.org/subjec...</td>\n      <td>NaN</td>\n    </tr>\n    <tr>\n      <th>57834</th>\n      <td>58028</td>\n      <td>78965183</td>\n      <td>11905</td>\n      <td>22040.0</td>\n      <td>106640</td>\n      <td>{\"id\":\"477\",\"set\":\"SouthCoastH\",\"site\":\"SouthC...</td>\n      <td>{\"0\":\"https://panoptes-uploads.zooniverse.org/...</td>\n      <td>24</td>\n      <td>2023-08-30 16:43:06 UTC</td>\n      <td>classification_count</td>\n      <td>2022-07-24 11:23:51 UTC</td>\n      <td>2023-07-28 07:13:45 UTC</td>\n      <td>ESCH02-2_81.jpg</td>\n      <td>SouthCoastH</td>\n      <td>https://panoptes-uploads.zooniverse.org/subjec...</td>\n      <td>NaN</td>\n    </tr>\n    <tr>\n      <th>57835</th>\n      <td>58029</td>\n      <td>78965184</td>\n      <td>11905</td>\n      <td>22040.0</td>\n      <td>106640</td>\n      <td>{\"id\":\"478\",\"set\":\"SouthCoastH\",\"site\":\"SouthC...</td>\n      <td>{\"0\":\"https://panoptes-uploads.zooniverse.org/...</td>\n      <td>30</td>\n      <td>2023-07-14 13:55:55 UTC</td>\n      <td>classification_count</td>\n      <td>2022-07-24 11:23:52 UTC</td>\n      <td>2022-07-24 11:23:52 UTC</td>\n      <td>ESCH02-2_91.jpg</td>\n      <td>SouthCoastH</td>\n      <td>https://panoptes-uploads.zooniverse.org/subjec...</td>\n      <td>NaN</td>\n    </tr>\n    <tr>\n      <th>57836</th>\n      <td>58030</td>\n      <td>78965185</td>\n      <td>11905</td>\n      <td>22040.0</td>\n      <td>106640</td>\n      <td>{\"id\":\"479\",\"set\":\"SouthCoastH\",\"site\":\"SouthC...</td>\n      <td>{\"0\":\"https://panoptes-uploads.zooniverse.org/...</td>\n      <td>30</td>\n      <td>2023-07-20 04:37:58 UTC</td>\n      <td>classification_count</td>\n      <td>2022-07-24 11:23:53 UTC</td>\n      <td>2022-07-24 11:23:53 UTC</td>\n      <td>ESCH02-2_92.jpg</td>\n      <td>SouthCoastH</td>\n      <td>https://panoptes-uploads.zooniverse.org/subjec...</td>\n      <td>NaN</td>\n    </tr>\n    <tr>\n      <th>57837</th>\n      <td>58031</td>\n      <td>78965186</td>\n      <td>11905</td>\n      <td>22040.0</td>\n      <td>106640</td>\n      <td>{\"id\":\"480\",\"set\":\"SouthCoastH\",\"site\":\"SouthC...</td>\n      <td>{\"0\":\"https://panoptes-uploads.zooniverse.org/...</td>\n      <td>22</td>\n      <td>2023-09-11 22:46:23 UTC</td>\n      <td>classification_count</td>\n      <td>2022-07-24 11:23:53 UTC</td>\n      <td>2023-07-28 07:09:48 UTC</td>\n      <td>ESCH02-2_99.jpg</td>\n      <td>SouthCoastH</td>\n      <td>https://panoptes-uploads.zooniverse.org/subjec...</td>\n      <td>NaN</td>\n    </tr>\n  </tbody>\n</table>\n<p>57838 rows × 16 columns</p>\n</div>"
     },
     "execution_count": 32,
     "metadata": {},
     "output_type": "execute_result"
    }
   ],
   "source": [
    "## save the file the extra columns we need for downloading.\n",
    "df_subjects.to_csv(output_path / \"iguanas-from-above-subjects_with_url.csv\")\n",
    "\n",
    "\n",
    "# read the modified csv\n",
    "df_subjects = pd.read_csv(output_path / \"iguanas-from-above-subjects_with_url.csv\")\n",
    "df_subjects"
   ]
  },
  {
   "cell_type": "code",
   "execution_count": 33,
   "id": "520289e3dd31ca98",
   "metadata": {
    "collapsed": false,
    "ExecuteTime": {
     "end_time": "2024-04-16T09:46:06.339032Z",
     "start_time": "2024-04-16T09:46:06.335805Z"
    }
   },
   "outputs": [],
   "source": [
    "# df_subjects = pd.read_csv(output_path / \"iguanas-from-above-subjects_with_url.csv\")\n",
    "\n",
    "# downoaded_images_path = Path(\"./data/downloaded_images\")\n",
    "# downoaded_images_path.mkdir(exist_ok=True, parents=True)\n",
    "# return_val = True\n",
    "# # df = df_subjects[df_subjects.subject_id.isin([44660616, 47968406])]\n",
    "# # df = df_subjects[df_subjects.subject_id.isin([44660616, 47968406])]\n",
    "# for index, row in df_subjects[df_subjects.workflow_id.isin([workflow_id_p1])].iterrows():\n",
    "#     # Only download if necessary\n",
    "#     if pd.isna(row.get(\"filepath\")) or not row.get(\"filepath\", False):\n",
    "#         flight_code = row['flight_code']\n",
    "#         url = row['url']\n",
    "#         image_name = Path(row['image_name']).name\n",
    "#         # Extract the filename from the URL and create a unique name using index\n",
    "#         filename = downoaded_images_path.joinpath(f\"{image_name}_{row['subject_id']}_{flight_code}.jpeg\")\n",
    "#         df_subjects.loc[index, 'filepath'] = filename\n",
    "#         # Download the image\n",
    "#         return_val = download_image(url, filename)\n",
    "# \n",
    "#         # print(f\"Downloaded {filename}\")\n",
    "#     if return_val == False:\n",
    "#         print(\"there was a problem\")\n",
    "#         # break\n",
    "        "
   ]
  },
  {
   "cell_type": "code",
   "execution_count": 34,
   "id": "42eddb1202ccbbe2",
   "metadata": {
    "collapsed": false,
    "ExecuteTime": {
     "end_time": "2024-04-16T09:46:07.812650Z",
     "start_time": "2024-04-16T09:46:06.340188Z"
    }
   },
   "outputs": [],
   "source": [
    "df_subjects.to_csv(output_path / \"iguanas-from-above-subjects_with_url.csv\")"
   ]
  }
 ],
 "metadata": {
  "kernelspec": {
   "display_name": "Python 3 (ipykernel)",
   "language": "python",
   "name": "python3"
  },
  "language_info": {
   "codemirror_mode": {
    "name": "ipython",
    "version": 3
   },
   "file_extension": ".py",
   "mimetype": "text/x-python",
   "name": "python",
   "nbconvert_exporter": "python",
   "pygments_lexer": "ipython3",
   "version": "3.9.6"
  }
 },
 "nbformat": 4,
 "nbformat_minor": 5
}
