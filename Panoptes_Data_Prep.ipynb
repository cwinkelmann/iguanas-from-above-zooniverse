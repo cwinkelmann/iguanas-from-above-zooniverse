{
 "cells": [
  {
   "cell_type": "markdown",
   "id": "306034533dcead43",
   "metadata": {},
   "source": [
    "# Using the Panoptes Aggregation Tool from Zooniverse\n",
    "https://aggregation-caesar.zooniverse.org/Scripts.html#scripts\n"
   ]
  },
  {
   "cell_type": "code",
   "execution_count": 1,
   "id": "145bce94f139f8ae",
   "metadata": {
    "collapsed": false,
    "ExecuteTime": {
     "end_time": "2024-04-10T12:44:45.012977Z",
     "start_time": "2024-04-10T12:44:44.764855Z"
    }
   },
   "outputs": [
    {
     "data": {
      "text/plain": "{'annotations_source': PosixPath('/Users/christian/data/zooniverse/IguanasFromAbove/2023-10-15/iguanas-from-above-classifications.csv'),\n 'goldstandard_data': PosixPath('/Users/christian/data/zooniverse/Images/Zooniverse_Goldstandard_images/expert-GS-1stphase.csv'),\n 'gold_standard_image_subset': PosixPath('/Users/christian/data/zooniverse/Images/Zooniverse_Goldstandard_images/1-T2-GS-results-5th-0s.csv'),\n 'image_source': PosixPath('/Users/christian/data/zooniverse/Images/Zooniverse_Goldstandard_images/1st launch'),\n 'yes_no_dataset': PosixPath('/Users/christian/data/zooniverse/2024_04_10_analysis/Iguanas 1st launch/yes_no_dataset_Iguanas 1st launch.csv'),\n 'flat_dataset': PosixPath('/Users/christian/data/zooniverse/2024_04_10_analysis/Iguanas 1st launch/flat_dataset_Iguanas 1st launch.csv'),\n 'merged_dataset': PosixPath('/Users/christian/data/zooniverse/2024_04_10_analysis/Iguanas 1st launch/flat_dataset_filtered_Iguanas 1st launch.csv'),\n 'gold_standard_and_expert_count': PosixPath('/Users/christian/data/zooniverse/2024_04_10_analysis/Iguanas 1st launch/Iguanas 1st launch_gold_standard_and_expert_count.csv'),\n 'comparison_dataset': PosixPath('/Users/christian/data/zooniverse/2024_04_10_analysis/Iguanas 1st launch/Iguanas 1st launch_method_comparison.csv'),\n 'method_sums': PosixPath('/Users/christian/data/zooniverse/2024_04_10_analysis/Iguanas 1st launch/Iguanas 1st launch_method_sums.csv'),\n 'rmse_errors': PosixPath('/Users/christian/data/zooniverse/2024_04_10_analysis/Iguanas 1st launch/Iguanas 1st launch_rmse_errors.csv'),\n 'dbscan_hyperparam_grid': PosixPath('/Users/christian/data/zooniverse/2024_04_10_analysis/Iguanas 1st launch/Iguanas 1st launch_hyperparam_grid.csv')}"
     },
     "execution_count": 1,
     "metadata": {},
     "output_type": "execute_result"
    }
   ],
   "source": [
    "from zooniverse.config import get_config\n",
    "import pandas as pd\n",
    "from pathlib import Path\n",
    "\n",
    "### use either the subset of the subset\n",
    "phase_tag = \"Iguanas 1st launch\"\n",
    "# phase_tag = \"Iguanas 2nd launch\"\n",
    "# phase_tag = \"Iguanas 3rd launch\"\n",
    "input_path = Path(\"/Users/christian/data/zooniverse\")\n",
    "\n",
    "# use_gold_standard_subset = \"expert\" # Use the expert-GS-Xphase as the basis\n",
    "output_path = Path(\"/Users/christian/data/zooniverse/2024_04_10_analysis\").joinpath(phase_tag).resolve()\n",
    "\n",
    "output_plot_path = output_path.joinpath(\"plots\")\n",
    "output_plot_path.mkdir(parents=True, exist_ok=True)\n",
    "\n",
    "config = get_config(phase_tag=phase_tag, input_path=input_path, output_path=output_path)\n",
    "\n",
    "data_folder = \"./data/phase_2\"\n",
    "\n",
    "config\n"
   ]
  },
  {
   "cell_type": "markdown",
   "source": [
    "# Look into the subjects file\n",
    "This contains the mappings from the subject_id to the image file"
   ],
   "metadata": {
    "collapsed": false
   },
   "id": "a76dff5a62b44242"
  },
  {
   "cell_type": "code",
   "outputs": [
    {
     "name": "stderr",
     "output_type": "stream",
     "text": [
      "/var/folders/2k/78nn7s4548986wsjh29rhj9w0000gn/T/ipykernel_24529/3635367931.py:1: DtypeWarning: Columns (7,8) have mixed types. Specify dtype option on import or set low_memory=False.\n",
      "  df_subjects = pd.read_csv(\"./data/zooniverse/iguanas-from-above-subjects.csv\", sep=\",\")\n"
     ]
    },
    {
     "data": {
      "text/plain": "       subject_id  project_id  workflow_id  subject_set_id  \\\n0        44660549       11905          NaN           83766   \n1        44660550       11905          NaN           83766   \n2        44660551       11905          NaN           83766   \n3        44660552       11905          NaN           83766   \n4        44660553       11905          NaN           83766   \n...           ...         ...          ...             ...   \n68155    92469731       11905      25351.0          116619   \n68156    92469733       11905      25351.0          116619   \n68157    92469734       11905      25351.0          116619   \n68158    92469735       11905      25351.0          116619   \n68159    92469736       11905      25351.0          116619   \n\n                                                metadata  \\\n0      {\"image_name\":\"SMF02-1-2-2_740.jpg\",\"subject_i...   \n1      {\"image_name\":\"SRIL03-2-1_153.jpg\",\"subject_id...   \n2      {\"image_name\":\"SRIL03-2-2_90.jpg\",\"subject_id\"...   \n3      {\"image_name\":\"SRIL03-2-2_127.jpg\",\"subject_id...   \n4      {\"image_name\":\"SRIL03-2-2_133.jpg\",\"subject_id...   \n...                                                  ...   \n68155  {\"Site\":\"Puerto Villamil\",\"Island\":\"Isabela\",\"...   \n68156  {\"Site\":\"Puerto Villamil\",\"Island\":\"Isabela\",\"...   \n68157  {\"Site\":\"Puerto Villamil\",\"Island\":\"Isabela\",\"...   \n68158  {\"Site\":\"Puerto Villamil\",\"Island\":\"Isabela\",\"...   \n68159  {\"Site\":\"Puerto Villamil\",\"Island\":\"Isabela\",\"...   \n\n                                               locations  \\\n0      {\"0\":\"https://panoptes-uploads.zooniverse.org/...   \n1      {\"0\":\"https://panoptes-uploads.zooniverse.org/...   \n2      {\"0\":\"https://panoptes-uploads.zooniverse.org/...   \n3      {\"0\":\"https://panoptes-uploads.zooniverse.org/...   \n4      {\"0\":\"https://panoptes-uploads.zooniverse.org/...   \n...                                                  ...   \n68155  {\"0\":\"https://panoptes-uploads.zooniverse.org/...   \n68156  {\"0\":\"https://panoptes-uploads.zooniverse.org/...   \n68157  {\"0\":\"https://panoptes-uploads.zooniverse.org/...   \n68158  {\"0\":\"https://panoptes-uploads.zooniverse.org/...   \n68159  {\"0\":\"https://panoptes-uploads.zooniverse.org/...   \n\n       classifications_count retired_at retirement_reason  \\\n0                          0        NaN               NaN   \n1                          0        NaN               NaN   \n2                          0        NaN               NaN   \n3                          0        NaN               NaN   \n4                          0        NaN               NaN   \n...                      ...        ...               ...   \n68155                      2        NaN               NaN   \n68156                      3        NaN               NaN   \n68157                      6        NaN               NaN   \n68158                      1        NaN               NaN   \n68159                      4        NaN               NaN   \n\n                    created_at               updated_at  \n0      2020-05-12 11:01:33 UTC  2020-05-12 11:01:33 UTC  \n1      2020-05-12 11:01:39 UTC  2020-05-12 11:01:39 UTC  \n2      2020-05-12 11:01:45 UTC  2020-05-12 11:01:45 UTC  \n3      2020-05-12 11:01:49 UTC  2020-05-12 11:01:49 UTC  \n4      2020-05-12 11:01:53 UTC  2020-05-12 11:01:53 UTC  \n...                        ...                      ...  \n68155  2023-10-12 16:28:45 UTC  2023-10-12 16:28:45 UTC  \n68156  2023-10-12 16:28:46 UTC  2023-10-12 16:28:46 UTC  \n68157  2023-10-12 16:28:46 UTC  2023-10-12 16:28:46 UTC  \n68158  2023-10-12 16:28:46 UTC  2023-10-12 16:28:46 UTC  \n68159  2023-10-12 16:28:47 UTC  2023-10-12 16:28:47 UTC  \n\n[68160 rows x 11 columns]",
      "text/html": "<div>\n<style scoped>\n    .dataframe tbody tr th:only-of-type {\n        vertical-align: middle;\n    }\n\n    .dataframe tbody tr th {\n        vertical-align: top;\n    }\n\n    .dataframe thead th {\n        text-align: right;\n    }\n</style>\n<table border=\"1\" class=\"dataframe\">\n  <thead>\n    <tr style=\"text-align: right;\">\n      <th></th>\n      <th>subject_id</th>\n      <th>project_id</th>\n      <th>workflow_id</th>\n      <th>subject_set_id</th>\n      <th>metadata</th>\n      <th>locations</th>\n      <th>classifications_count</th>\n      <th>retired_at</th>\n      <th>retirement_reason</th>\n      <th>created_at</th>\n      <th>updated_at</th>\n    </tr>\n  </thead>\n  <tbody>\n    <tr>\n      <th>0</th>\n      <td>44660549</td>\n      <td>11905</td>\n      <td>NaN</td>\n      <td>83766</td>\n      <td>{\"image_name\":\"SMF02-1-2-2_740.jpg\",\"subject_i...</td>\n      <td>{\"0\":\"https://panoptes-uploads.zooniverse.org/...</td>\n      <td>0</td>\n      <td>NaN</td>\n      <td>NaN</td>\n      <td>2020-05-12 11:01:33 UTC</td>\n      <td>2020-05-12 11:01:33 UTC</td>\n    </tr>\n    <tr>\n      <th>1</th>\n      <td>44660550</td>\n      <td>11905</td>\n      <td>NaN</td>\n      <td>83766</td>\n      <td>{\"image_name\":\"SRIL03-2-1_153.jpg\",\"subject_id...</td>\n      <td>{\"0\":\"https://panoptes-uploads.zooniverse.org/...</td>\n      <td>0</td>\n      <td>NaN</td>\n      <td>NaN</td>\n      <td>2020-05-12 11:01:39 UTC</td>\n      <td>2020-05-12 11:01:39 UTC</td>\n    </tr>\n    <tr>\n      <th>2</th>\n      <td>44660551</td>\n      <td>11905</td>\n      <td>NaN</td>\n      <td>83766</td>\n      <td>{\"image_name\":\"SRIL03-2-2_90.jpg\",\"subject_id\"...</td>\n      <td>{\"0\":\"https://panoptes-uploads.zooniverse.org/...</td>\n      <td>0</td>\n      <td>NaN</td>\n      <td>NaN</td>\n      <td>2020-05-12 11:01:45 UTC</td>\n      <td>2020-05-12 11:01:45 UTC</td>\n    </tr>\n    <tr>\n      <th>3</th>\n      <td>44660552</td>\n      <td>11905</td>\n      <td>NaN</td>\n      <td>83766</td>\n      <td>{\"image_name\":\"SRIL03-2-2_127.jpg\",\"subject_id...</td>\n      <td>{\"0\":\"https://panoptes-uploads.zooniverse.org/...</td>\n      <td>0</td>\n      <td>NaN</td>\n      <td>NaN</td>\n      <td>2020-05-12 11:01:49 UTC</td>\n      <td>2020-05-12 11:01:49 UTC</td>\n    </tr>\n    <tr>\n      <th>4</th>\n      <td>44660553</td>\n      <td>11905</td>\n      <td>NaN</td>\n      <td>83766</td>\n      <td>{\"image_name\":\"SRIL03-2-2_133.jpg\",\"subject_id...</td>\n      <td>{\"0\":\"https://panoptes-uploads.zooniverse.org/...</td>\n      <td>0</td>\n      <td>NaN</td>\n      <td>NaN</td>\n      <td>2020-05-12 11:01:53 UTC</td>\n      <td>2020-05-12 11:01:53 UTC</td>\n    </tr>\n    <tr>\n      <th>...</th>\n      <td>...</td>\n      <td>...</td>\n      <td>...</td>\n      <td>...</td>\n      <td>...</td>\n      <td>...</td>\n      <td>...</td>\n      <td>...</td>\n      <td>...</td>\n      <td>...</td>\n      <td>...</td>\n    </tr>\n    <tr>\n      <th>68155</th>\n      <td>92469731</td>\n      <td>11905</td>\n      <td>25351.0</td>\n      <td>116619</td>\n      <td>{\"Site\":\"Puerto Villamil\",\"Island\":\"Isabela\",\"...</td>\n      <td>{\"0\":\"https://panoptes-uploads.zooniverse.org/...</td>\n      <td>2</td>\n      <td>NaN</td>\n      <td>NaN</td>\n      <td>2023-10-12 16:28:45 UTC</td>\n      <td>2023-10-12 16:28:45 UTC</td>\n    </tr>\n    <tr>\n      <th>68156</th>\n      <td>92469733</td>\n      <td>11905</td>\n      <td>25351.0</td>\n      <td>116619</td>\n      <td>{\"Site\":\"Puerto Villamil\",\"Island\":\"Isabela\",\"...</td>\n      <td>{\"0\":\"https://panoptes-uploads.zooniverse.org/...</td>\n      <td>3</td>\n      <td>NaN</td>\n      <td>NaN</td>\n      <td>2023-10-12 16:28:46 UTC</td>\n      <td>2023-10-12 16:28:46 UTC</td>\n    </tr>\n    <tr>\n      <th>68157</th>\n      <td>92469734</td>\n      <td>11905</td>\n      <td>25351.0</td>\n      <td>116619</td>\n      <td>{\"Site\":\"Puerto Villamil\",\"Island\":\"Isabela\",\"...</td>\n      <td>{\"0\":\"https://panoptes-uploads.zooniverse.org/...</td>\n      <td>6</td>\n      <td>NaN</td>\n      <td>NaN</td>\n      <td>2023-10-12 16:28:46 UTC</td>\n      <td>2023-10-12 16:28:46 UTC</td>\n    </tr>\n    <tr>\n      <th>68158</th>\n      <td>92469735</td>\n      <td>11905</td>\n      <td>25351.0</td>\n      <td>116619</td>\n      <td>{\"Site\":\"Puerto Villamil\",\"Island\":\"Isabela\",\"...</td>\n      <td>{\"0\":\"https://panoptes-uploads.zooniverse.org/...</td>\n      <td>1</td>\n      <td>NaN</td>\n      <td>NaN</td>\n      <td>2023-10-12 16:28:46 UTC</td>\n      <td>2023-10-12 16:28:46 UTC</td>\n    </tr>\n    <tr>\n      <th>68159</th>\n      <td>92469736</td>\n      <td>11905</td>\n      <td>25351.0</td>\n      <td>116619</td>\n      <td>{\"Site\":\"Puerto Villamil\",\"Island\":\"Isabela\",\"...</td>\n      <td>{\"0\":\"https://panoptes-uploads.zooniverse.org/...</td>\n      <td>4</td>\n      <td>NaN</td>\n      <td>NaN</td>\n      <td>2023-10-12 16:28:47 UTC</td>\n      <td>2023-10-12 16:28:47 UTC</td>\n    </tr>\n  </tbody>\n</table>\n<p>68160 rows × 11 columns</p>\n</div>"
     },
     "execution_count": 2,
     "metadata": {},
     "output_type": "execute_result"
    }
   ],
   "source": [
    "df_subjects = pd.read_csv(\"./data/zooniverse/iguanas-from-above-subjects.csv\", sep=\",\")\n",
    "df_subjects"
   ],
   "metadata": {
    "collapsed": false,
    "ExecuteTime": {
     "end_time": "2024-04-10T12:44:48.219356Z",
     "start_time": "2024-04-10T12:44:48.020992Z"
    }
   },
   "id": "ece7fc9bd3cf0a32",
   "execution_count": 2
  },
  {
   "cell_type": "code",
   "outputs": [
    {
     "data": {
      "text/plain": "            subspecies         island                  site_name  \\\n0     A. c. trillmichi       Santa Fe                   El Miedo   \n1     A. c. trillmichi       Santa Fe                   El Miedo   \n2     A. c. trillmichi       Santa Fe                   El Miedo   \n3     A. c. trillmichi       Santa Fe                   El Miedo   \n4     A. c. trillmichi       Santa Fe                   El Miedo   \n...                ...            ...                        ...   \n2728    A. c. godzilla  San Cristobal  Playa Blanca (Punta Pitt)   \n2729    A. c. godzilla  San Cristobal  Playa Blanca (Punta Pitt)   \n2730    A. c. godzilla  San Cristobal  Playa Blanca (Punta Pitt)   \n2731    A. c. godzilla  San Cristobal  Playa Blanca (Punta Pitt)   \n2732    A. c. godzilla  San Cristobal  Playa Blanca (Punta Pitt)   \n\n     subject_group           image_name  subject_id presence_absence  \\\n0             SFM1  SFM01-2-2-2_282.jpg    47969795                Y   \n1             SFM1  SFM01-2-2-1_344.jpg    47969531                Y   \n2             SFM1  SFM01-2-2-2_270.jpg    47969760                Y   \n3             SFM1  SFM01-2-2-2_289.jpg    47969815                Y   \n4             SFM1  SFM01-2-2-2_291.jpg    47969821                Y   \n...            ...                  ...         ...              ...   \n2728         SRPB1    SRPB02-2-3_95.jpg    47990261                N   \n2729         SRPB1    SRPB02-2-3_96.jpg    47990268                N   \n2730         SRPB1    SRPB02-2-3_97.jpg    47990280                N   \n2731         SRPB1    SRPB02-2-3_98.jpg    47990285                N   \n2732         SRPB1    SRPB02-2-3_99.jpg    47990290                N   \n\n      count_male-lek  count_male-no-lek  count_others  count_partial  \\\n0                  0                  2             0              2   \n1                  0                  2             2              1   \n2                  0                  0             0              1   \n3                  0                  0             0              1   \n4                  0                  0             0              1   \n...              ...                ...           ...            ...   \n2728               0                  0             0              0   \n2729               0                  0             0              0   \n2730               0                  0             0              0   \n2731               0                  0             0              0   \n2732               0                  0             0              0   \n\n      count_total quality condition                                    comment  \n0               2    Good      Hard                                        NaN  \n1               4    Good      Hard  not consider number 4 marked in the image  \n2               0    Good      Hard                                        NaN  \n3               0    Good   Visible                                        NaN  \n4               0    Good      Hard                                        NaN  \n...           ...     ...       ...                                        ...  \n2728            0     NaN       NaN                                        NaN  \n2729            0     NaN       NaN                                        NaN  \n2730            0     NaN       NaN                                        NaN  \n2731            0     NaN       NaN                                        NaN  \n2732            0     NaN       NaN                                        NaN  \n\n[2733 rows x 15 columns]",
      "text/html": "<div>\n<style scoped>\n    .dataframe tbody tr th:only-of-type {\n        vertical-align: middle;\n    }\n\n    .dataframe tbody tr th {\n        vertical-align: top;\n    }\n\n    .dataframe thead th {\n        text-align: right;\n    }\n</style>\n<table border=\"1\" class=\"dataframe\">\n  <thead>\n    <tr style=\"text-align: right;\">\n      <th></th>\n      <th>subspecies</th>\n      <th>island</th>\n      <th>site_name</th>\n      <th>subject_group</th>\n      <th>image_name</th>\n      <th>subject_id</th>\n      <th>presence_absence</th>\n      <th>count_male-lek</th>\n      <th>count_male-no-lek</th>\n      <th>count_others</th>\n      <th>count_partial</th>\n      <th>count_total</th>\n      <th>quality</th>\n      <th>condition</th>\n      <th>comment</th>\n    </tr>\n  </thead>\n  <tbody>\n    <tr>\n      <th>0</th>\n      <td>A. c. trillmichi</td>\n      <td>Santa Fe</td>\n      <td>El Miedo</td>\n      <td>SFM1</td>\n      <td>SFM01-2-2-2_282.jpg</td>\n      <td>47969795</td>\n      <td>Y</td>\n      <td>0</td>\n      <td>2</td>\n      <td>0</td>\n      <td>2</td>\n      <td>2</td>\n      <td>Good</td>\n      <td>Hard</td>\n      <td>NaN</td>\n    </tr>\n    <tr>\n      <th>1</th>\n      <td>A. c. trillmichi</td>\n      <td>Santa Fe</td>\n      <td>El Miedo</td>\n      <td>SFM1</td>\n      <td>SFM01-2-2-1_344.jpg</td>\n      <td>47969531</td>\n      <td>Y</td>\n      <td>0</td>\n      <td>2</td>\n      <td>2</td>\n      <td>1</td>\n      <td>4</td>\n      <td>Good</td>\n      <td>Hard</td>\n      <td>not consider number 4 marked in the image</td>\n    </tr>\n    <tr>\n      <th>2</th>\n      <td>A. c. trillmichi</td>\n      <td>Santa Fe</td>\n      <td>El Miedo</td>\n      <td>SFM1</td>\n      <td>SFM01-2-2-2_270.jpg</td>\n      <td>47969760</td>\n      <td>Y</td>\n      <td>0</td>\n      <td>0</td>\n      <td>0</td>\n      <td>1</td>\n      <td>0</td>\n      <td>Good</td>\n      <td>Hard</td>\n      <td>NaN</td>\n    </tr>\n    <tr>\n      <th>3</th>\n      <td>A. c. trillmichi</td>\n      <td>Santa Fe</td>\n      <td>El Miedo</td>\n      <td>SFM1</td>\n      <td>SFM01-2-2-2_289.jpg</td>\n      <td>47969815</td>\n      <td>Y</td>\n      <td>0</td>\n      <td>0</td>\n      <td>0</td>\n      <td>1</td>\n      <td>0</td>\n      <td>Good</td>\n      <td>Visible</td>\n      <td>NaN</td>\n    </tr>\n    <tr>\n      <th>4</th>\n      <td>A. c. trillmichi</td>\n      <td>Santa Fe</td>\n      <td>El Miedo</td>\n      <td>SFM1</td>\n      <td>SFM01-2-2-2_291.jpg</td>\n      <td>47969821</td>\n      <td>Y</td>\n      <td>0</td>\n      <td>0</td>\n      <td>0</td>\n      <td>1</td>\n      <td>0</td>\n      <td>Good</td>\n      <td>Hard</td>\n      <td>NaN</td>\n    </tr>\n    <tr>\n      <th>...</th>\n      <td>...</td>\n      <td>...</td>\n      <td>...</td>\n      <td>...</td>\n      <td>...</td>\n      <td>...</td>\n      <td>...</td>\n      <td>...</td>\n      <td>...</td>\n      <td>...</td>\n      <td>...</td>\n      <td>...</td>\n      <td>...</td>\n      <td>...</td>\n      <td>...</td>\n    </tr>\n    <tr>\n      <th>2728</th>\n      <td>A. c. godzilla</td>\n      <td>San Cristobal</td>\n      <td>Playa Blanca (Punta Pitt)</td>\n      <td>SRPB1</td>\n      <td>SRPB02-2-3_95.jpg</td>\n      <td>47990261</td>\n      <td>N</td>\n      <td>0</td>\n      <td>0</td>\n      <td>0</td>\n      <td>0</td>\n      <td>0</td>\n      <td>NaN</td>\n      <td>NaN</td>\n      <td>NaN</td>\n    </tr>\n    <tr>\n      <th>2729</th>\n      <td>A. c. godzilla</td>\n      <td>San Cristobal</td>\n      <td>Playa Blanca (Punta Pitt)</td>\n      <td>SRPB1</td>\n      <td>SRPB02-2-3_96.jpg</td>\n      <td>47990268</td>\n      <td>N</td>\n      <td>0</td>\n      <td>0</td>\n      <td>0</td>\n      <td>0</td>\n      <td>0</td>\n      <td>NaN</td>\n      <td>NaN</td>\n      <td>NaN</td>\n    </tr>\n    <tr>\n      <th>2730</th>\n      <td>A. c. godzilla</td>\n      <td>San Cristobal</td>\n      <td>Playa Blanca (Punta Pitt)</td>\n      <td>SRPB1</td>\n      <td>SRPB02-2-3_97.jpg</td>\n      <td>47990280</td>\n      <td>N</td>\n      <td>0</td>\n      <td>0</td>\n      <td>0</td>\n      <td>0</td>\n      <td>0</td>\n      <td>NaN</td>\n      <td>NaN</td>\n      <td>NaN</td>\n    </tr>\n    <tr>\n      <th>2731</th>\n      <td>A. c. godzilla</td>\n      <td>San Cristobal</td>\n      <td>Playa Blanca (Punta Pitt)</td>\n      <td>SRPB1</td>\n      <td>SRPB02-2-3_98.jpg</td>\n      <td>47990285</td>\n      <td>N</td>\n      <td>0</td>\n      <td>0</td>\n      <td>0</td>\n      <td>0</td>\n      <td>0</td>\n      <td>NaN</td>\n      <td>NaN</td>\n      <td>NaN</td>\n    </tr>\n    <tr>\n      <th>2732</th>\n      <td>A. c. godzilla</td>\n      <td>San Cristobal</td>\n      <td>Playa Blanca (Punta Pitt)</td>\n      <td>SRPB1</td>\n      <td>SRPB02-2-3_99.jpg</td>\n      <td>47990290</td>\n      <td>N</td>\n      <td>0</td>\n      <td>0</td>\n      <td>0</td>\n      <td>0</td>\n      <td>0</td>\n      <td>NaN</td>\n      <td>NaN</td>\n      <td>NaN</td>\n    </tr>\n  </tbody>\n</table>\n<p>2733 rows × 15 columns</p>\n</div>"
     },
     "execution_count": 3,
     "metadata": {},
     "output_type": "execute_result"
    }
   ],
   "source": [
    "gold_standard_path = config[\"goldstandard_data\"]\n",
    "df_gold_standard = pd.read_csv(gold_standard_path, sep=\";\")\n",
    "df_gold_standard"
   ],
   "metadata": {
    "collapsed": false,
    "ExecuteTime": {
     "end_time": "2024-04-10T12:44:49.181305Z",
     "start_time": "2024-04-10T12:44:49.168515Z"
    }
   },
   "id": "dbefb3d8985c2a9b",
   "execution_count": 3
  },
  {
   "cell_type": "markdown",
   "source": [
    "# Panoptes Data Extraction from Zooniverse"
   ],
   "metadata": {
    "collapsed": false
   },
   "id": "10d30088553ee9a8"
  },
  {
   "cell_type": "markdown",
   "id": "b6577bcc8c9d6d2c",
   "metadata": {
    "collapsed": false
   },
   "source": [
    "## Panoptes config\n",
    "\n",
    "\n"
   ]
  },
  {
   "cell_type": "markdown",
   "source": [
    "### Create the configuration files automatically"
   ],
   "metadata": {
    "collapsed": false
   },
   "id": "625f9e10eced0041"
  },
  {
   "cell_type": "code",
   "outputs": [],
   "source": [
    "# create a configuration file from the workflow\n",
    "#!mkdir ./data/phase_1\n",
    "#! panoptes_aggregation config /Users/christian/data/zooniverse/IguanasFromAbove/2023-10-15/iguanas-from-above-workflows.csv 14370 --min_version 0 --max_version 142.245 -d ./data/phase_1\n",
    "# \n",
    "#!mkdir ./data/phase_2\n",
    "#! panoptes_aggregation config /Users/christian/data/zooniverse/IguanasFromAbove/2023-10-15/iguanas-from-above-workflows.csv 20600 --min_version 0 --max_version 94.166 -d ./data/phase_2\n",
    "# \n",
    "#!mkdir ./data/phase_3\n",
    "#! panoptes_aggregation config /Users/christian/data/zooniverse/IguanasFromAbove/2023-10-15/iguanas-from-above-workflows.csv 22040 --min_version 0 --max_version 9.63 -d ./data/phase_3"
   ],
   "metadata": {
    "collapsed": false
   },
   "id": "80589cdde7999f5b",
   "execution_count": null
  },
  {
   "cell_type": "markdown",
   "source": [
    "## Extract the data"
   ],
   "metadata": {
    "collapsed": false
   },
   "id": "3926c1b2ca3745ea"
  },
  {
   "cell_type": "code",
   "outputs": [
    {
     "name": "stdout",
     "output_type": "stream",
     "text": [
      "mkdir: ./data/phase_1/V121.144: File exists\r\n",
      "mkdir: ./data/phase_1/V134.236: File exists\r\n",
      "/Users/christian/PycharmProjects/iguanas-from-above-zooniverse/venv/lib/python3.9/site-packages/panoptes_aggregation/scripts/extract_panoptes_csv.py:68: DtypeWarning: Columns (8,9) have mixed types. Specify dtype option on import or set low_memory=False.\r\n",
      "  classifications = pandas.read_csv(classification_csv_in, encoding='utf-8', dtype={'workflow_version': str})\r\n",
      "Extracting: 100% |#############################################| Time:  0:00:02\r\n",
      "/Users/christian/PycharmProjects/iguanas-from-above-zooniverse/venv/lib/python3.9/site-packages/panoptes_aggregation/scripts/extract_panoptes_csv.py:68: DtypeWarning: Columns (8,9) have mixed types. Specify dtype option on import or set low_memory=False.\r\n",
      "  classifications = pandas.read_csv(classification_csv_in, encoding='utf-8', dtype={'workflow_version': str})\r\n",
      "Extracting: 100% |#############################################| Time:  0:02:21\r\n"
     ]
    }
   ],
   "source": [
    "## phase 1\n",
    "\n",
    "!mkdir ./data/phase_1/V121.144\n",
    "!mkdir ./data/phase_1/V134.236\n",
    "\n",
    "!panoptes_aggregation extract /Users/christian/data/zooniverse/IguanasFromAbove/2023-10-15/iguanas-from-above-classifications.csv -d ./data/phase_1/V121.144 ./data/phase_1/Extractor_config_workflow_14370_V121.144.yaml\n",
    "\n",
    "!panoptes_aggregation extract /Users/christian/data/zooniverse/IguanasFromAbove/2023-10-15/iguanas-from-above-classifications.csv -d ./data/phase_1/V134.236 ./data/phase_1/Extractor_config_workflow_14370_V134.236-1.yaml\n"
   ],
   "metadata": {
    "collapsed": false,
    "ExecuteTime": {
     "end_time": "2024-04-10T13:01:09.570844Z",
     "start_time": "2024-04-10T12:57:31.227199Z"
    }
   },
   "id": "d76485d137c3687",
   "execution_count": 4
  },
  {
   "cell_type": "code",
   "outputs": [],
   "source": [
    "# phase 2\n",
    "\n",
    "!mkdir ./data/phase_2/V89.162\n",
    "!mkdir ./data/phase_2/V93.166\n",
    "!mkdir ./data/phase_2/V94.166 \n",
    "\n",
    "!panoptes_aggregation extract /Users/christian/data/zooniverse/IguanasFromAbove/2023-10-15/iguanas-from-above-classifications.csv -d ./data/phase_2/V89.162 ./data/phase_2/Extractor_config_workflow_20600_V89.162.yaml\n",
    "!panoptes_aggregation extract /Users/christian/data/zooniverse/IguanasFromAbove/2023-10-15/iguanas-from-above-classifications.csv -d ./data/phase_2/V93.166 ./data/phase_2/Extractor_config_workflow_20600_V93.166.yaml\n",
    "!panoptes_aggregation extract /Users/christian/data/zooniverse/IguanasFromAbove/2023-10-15/iguanas-from-above-classifications.csv -d ./data/phase_2/V94.166 ./data/phase_2/Extractor_config_workflow_20600_V94.166.yaml\n",
    "\n"
   ],
   "metadata": {
    "collapsed": false
   },
   "id": "7ab6b02efc27fd3e",
   "execution_count": null
  },
  {
   "cell_type": "code",
   "outputs": [],
   "source": [
    "# phase 3\n",
    "!mkdir ./data/phase_3/V7.63\n",
    "!mkdir ./data/phase_3/V9.63\n",
    "\n",
    "!panoptes_aggregation extract /Users/christian/data/zooniverse/IguanasFromAbove/2023-10-15/iguanas-from-above-classifications.csv -d ./data/phase_3/V7.63 ./data/phase_3/Extractor_config_workflow_22040_V7.63.yaml\n",
    "!panoptes_aggregation extract /Users/christian/data/zooniverse/IguanasFromAbove/2023-10-15/iguanas-from-above-classifications.csv -d ./data/phase_3/V9.63 ./data/phase_3/Extractor_config_workflow_22040_V9.63.yaml"
   ],
   "metadata": {
    "collapsed": false
   },
   "id": "aa74703ed0c24bc5",
   "execution_count": null
  },
  {
   "cell_type": "code",
   "outputs": [],
   "source": [],
   "metadata": {
    "collapsed": false
   },
   "id": "86a5a0f5ca48d531"
  },
  {
   "cell_type": "markdown",
   "source": [
    "\n",
    "\n"
   ],
   "metadata": {
    "collapsed": false
   },
   "id": "af3dbedc1768b0ed"
  },
  {
   "cell_type": "code",
   "outputs": [],
   "source": [],
   "metadata": {
    "collapsed": false
   },
   "id": "9fd404ec525777e3",
   "execution_count": null
  },
  {
   "cell_type": "markdown",
   "source": [],
   "metadata": {
    "collapsed": false
   },
   "id": "627dcf3904529cee"
  },
  {
   "cell_type": "code",
   "execution_count": null,
   "id": "d8ea83ced96e1e6f",
   "metadata": {
    "collapsed": false
   },
   "outputs": [],
   "source": [
    "# # phase 1\n",
    "# df_panotes_point_extractor_1 = pd.read_csv(f\"./data/phase_1/V121.144/point_extractor_by_frame_extractions.csv\", sep=\",\")\n",
    "# df_panotes_point_extractor_2 = pd.read_csv(f\"./data/phase_1/V134.236/point_extractor_by_frame_extractions.csv\", sep=\",\")\n",
    "# \n",
    "# df_panotes_question_1 = pd.read_csv(f\"{data_folder}/V121.144/question_extractor_extractions.csv\", sep=\",\")\n",
    "# df_panotes_question_2 = pd.read_csv(f\"{data_folder}/V134.236/question_extractor_extractions.csv\", sep=\",\")\n",
    "# \n",
    "# df_panotes_point_extractor = pd.concat([df_panotes_point_extractor_1, df_panotes_point_extractor_2], axis=0)\n",
    "# df_panotes_question = pd.concat([df_panotes_question_1, df_panotes_question_2], axis=0)"
   ]
  },
  {
   "cell_type": "code",
   "outputs": [
    {
     "data": {
      "text/plain": "      classification_id                           user_name    user_id  \\\n0             393742576                          AmyMacLeod  1443210.0   \n1             393742576                          AmyMacLeod  1443210.0   \n2             393742638                          AmyMacLeod  1443210.0   \n3             393742638                          AmyMacLeod  1443210.0   \n4             393742678                          AmyMacLeod  1443210.0   \n...                 ...                                 ...        ...   \n1049          394044885  not-logged-in-74436a8874db7b682463        NaN   \n1050          394044921  not-logged-in-74436a8874db7b682463        NaN   \n1051          394044921  not-logged-in-74436a8874db7b682463        NaN   \n1052          394045028  not-logged-in-74436a8874db7b682463        NaN   \n1053          394045028  not-logged-in-74436a8874db7b682463        NaN   \n\n      workflow_id task               created_at  subject_id  \\\n0           20600   T2  2022-02-01 00:09:54 UTC    72335168   \n1           20600   T4  2022-02-01 00:09:54 UTC    72335168   \n2           20600   T2  2022-02-01 00:10:20 UTC    72334984   \n3           20600   T4  2022-02-01 00:10:20 UTC    72334984   \n4           20600   T2  2022-02-01 00:10:33 UTC    72340244   \n...           ...  ...                      ...         ...   \n1049        20600   T4  2022-02-02 12:53:46 UTC    72338736   \n1050        20600   T2  2022-02-02 12:54:07 UTC    72341061   \n1051        20600   T4  2022-02-02 12:54:07 UTC    72341061   \n1052        20600   T2  2022-02-02 12:55:09 UTC    72336979   \n1053        20600   T4  2022-02-02 12:55:09 UTC    72336979   \n\n                      extractor data.aggregation_version  \\\n0     shape_extractor_rectangle                    4.1.0   \n1     shape_extractor_rectangle                    4.1.0   \n2     shape_extractor_rectangle                    4.1.0   \n3     shape_extractor_rectangle                    4.1.0   \n4     shape_extractor_rectangle                    4.1.0   \n...                         ...                      ...   \n1049  shape_extractor_rectangle                    4.1.0   \n1050  shape_extractor_rectangle                    4.1.0   \n1051  shape_extractor_rectangle                    4.1.0   \n1052  shape_extractor_rectangle                    4.1.0   \n1053  shape_extractor_rectangle                    4.1.0   \n\n     data.frame0.T2_tool0_x  ...  \\\n0                       NaN  ...   \n1                       NaN  ...   \n2                       NaN  ...   \n3                       NaN  ...   \n4                       NaN  ...   \n...                     ...  ...   \n1049                    NaN  ...   \n1050                    NaN  ...   \n1051                    NaN  ...   \n1052    [233.2384033203125]  ...   \n1053                    NaN  ...   \n\n                             data.frame0.T2_tool2_width  \\\n0                                                   NaN   \n1                                                   NaN   \n2                                                   NaN   \n3                                                   NaN   \n4                                                   NaN   \n...                                                 ...   \n1049                                                NaN   \n1050                                                NaN   \n1051                                                NaN   \n1052  [70.02042770385742, 20.88330078125, 24.5686035...   \n1053                                                NaN   \n\n                            data.frame0.T2_tool2_height  \\\n0                                                   NaN   \n1                                                   NaN   \n2                                                   NaN   \n3                                                   NaN   \n4                                                   NaN   \n...                                                 ...   \n1049                                                NaN   \n1050                                                NaN   \n1051                                                NaN   \n1052  [34.378662109375, 27.0118408203125, 51.5680541...   \n1053                                                NaN   \n\n     data.frame0.T2_tool3_x data.frame0.T2_tool3_y data.frame0.T2_tool3_width  \\\n0                       NaN                    NaN                        NaN   \n1                       NaN                    NaN                        NaN   \n2                       NaN                    NaN                        NaN   \n3                       NaN                    NaN                        NaN   \n4                       NaN                    NaN                        NaN   \n...                     ...                    ...                        ...   \n1049                    NaN                    NaN                        NaN   \n1050                    NaN                    NaN                        NaN   \n1051                    NaN                    NaN                        NaN   \n1052                    NaN                    NaN                        NaN   \n1053                    NaN                    NaN                        NaN   \n\n     data.frame0.T2_tool3_height data.frame0.T4_tool8_x  \\\n0                            NaN                    NaN   \n1                            NaN                    NaN   \n2                            NaN                    NaN   \n3                            NaN                    NaN   \n4                            NaN                    NaN   \n...                          ...                    ...   \n1049                         NaN                    NaN   \n1050                         NaN                    NaN   \n1051                         NaN                    NaN   \n1052                         NaN                    NaN   \n1053                         NaN                    NaN   \n\n     data.frame0.T4_tool8_y data.frame0.T4_tool8_width  \\\n0                       NaN                        NaN   \n1                       NaN                        NaN   \n2                       NaN                        NaN   \n3                       NaN                        NaN   \n4                       NaN                        NaN   \n...                     ...                        ...   \n1049                    NaN                        NaN   \n1050                    NaN                        NaN   \n1051                    NaN                        NaN   \n1052                    NaN                        NaN   \n1053                    NaN                        NaN   \n\n     data.frame0.T4_tool8_height  \n0                            NaN  \n1                            NaN  \n2                            NaN  \n3                            NaN  \n4                            NaN  \n...                          ...  \n1049                         NaN  \n1050                         NaN  \n1051                         NaN  \n1052                         NaN  \n1053                         NaN  \n\n[1054 rows x 29 columns]",
      "text/html": "<div>\n<style scoped>\n    .dataframe tbody tr th:only-of-type {\n        vertical-align: middle;\n    }\n\n    .dataframe tbody tr th {\n        vertical-align: top;\n    }\n\n    .dataframe thead th {\n        text-align: right;\n    }\n</style>\n<table border=\"1\" class=\"dataframe\">\n  <thead>\n    <tr style=\"text-align: right;\">\n      <th></th>\n      <th>classification_id</th>\n      <th>user_name</th>\n      <th>user_id</th>\n      <th>workflow_id</th>\n      <th>task</th>\n      <th>created_at</th>\n      <th>subject_id</th>\n      <th>extractor</th>\n      <th>data.aggregation_version</th>\n      <th>data.frame0.T2_tool0_x</th>\n      <th>...</th>\n      <th>data.frame0.T2_tool2_width</th>\n      <th>data.frame0.T2_tool2_height</th>\n      <th>data.frame0.T2_tool3_x</th>\n      <th>data.frame0.T2_tool3_y</th>\n      <th>data.frame0.T2_tool3_width</th>\n      <th>data.frame0.T2_tool3_height</th>\n      <th>data.frame0.T4_tool8_x</th>\n      <th>data.frame0.T4_tool8_y</th>\n      <th>data.frame0.T4_tool8_width</th>\n      <th>data.frame0.T4_tool8_height</th>\n    </tr>\n  </thead>\n  <tbody>\n    <tr>\n      <th>0</th>\n      <td>393742576</td>\n      <td>AmyMacLeod</td>\n      <td>1443210.0</td>\n      <td>20600</td>\n      <td>T2</td>\n      <td>2022-02-01 00:09:54 UTC</td>\n      <td>72335168</td>\n      <td>shape_extractor_rectangle</td>\n      <td>4.1.0</td>\n      <td>NaN</td>\n      <td>...</td>\n      <td>NaN</td>\n      <td>NaN</td>\n      <td>NaN</td>\n      <td>NaN</td>\n      <td>NaN</td>\n      <td>NaN</td>\n      <td>NaN</td>\n      <td>NaN</td>\n      <td>NaN</td>\n      <td>NaN</td>\n    </tr>\n    <tr>\n      <th>1</th>\n      <td>393742576</td>\n      <td>AmyMacLeod</td>\n      <td>1443210.0</td>\n      <td>20600</td>\n      <td>T4</td>\n      <td>2022-02-01 00:09:54 UTC</td>\n      <td>72335168</td>\n      <td>shape_extractor_rectangle</td>\n      <td>4.1.0</td>\n      <td>NaN</td>\n      <td>...</td>\n      <td>NaN</td>\n      <td>NaN</td>\n      <td>NaN</td>\n      <td>NaN</td>\n      <td>NaN</td>\n      <td>NaN</td>\n      <td>NaN</td>\n      <td>NaN</td>\n      <td>NaN</td>\n      <td>NaN</td>\n    </tr>\n    <tr>\n      <th>2</th>\n      <td>393742638</td>\n      <td>AmyMacLeod</td>\n      <td>1443210.0</td>\n      <td>20600</td>\n      <td>T2</td>\n      <td>2022-02-01 00:10:20 UTC</td>\n      <td>72334984</td>\n      <td>shape_extractor_rectangle</td>\n      <td>4.1.0</td>\n      <td>NaN</td>\n      <td>...</td>\n      <td>NaN</td>\n      <td>NaN</td>\n      <td>NaN</td>\n      <td>NaN</td>\n      <td>NaN</td>\n      <td>NaN</td>\n      <td>NaN</td>\n      <td>NaN</td>\n      <td>NaN</td>\n      <td>NaN</td>\n    </tr>\n    <tr>\n      <th>3</th>\n      <td>393742638</td>\n      <td>AmyMacLeod</td>\n      <td>1443210.0</td>\n      <td>20600</td>\n      <td>T4</td>\n      <td>2022-02-01 00:10:20 UTC</td>\n      <td>72334984</td>\n      <td>shape_extractor_rectangle</td>\n      <td>4.1.0</td>\n      <td>NaN</td>\n      <td>...</td>\n      <td>NaN</td>\n      <td>NaN</td>\n      <td>NaN</td>\n      <td>NaN</td>\n      <td>NaN</td>\n      <td>NaN</td>\n      <td>NaN</td>\n      <td>NaN</td>\n      <td>NaN</td>\n      <td>NaN</td>\n    </tr>\n    <tr>\n      <th>4</th>\n      <td>393742678</td>\n      <td>AmyMacLeod</td>\n      <td>1443210.0</td>\n      <td>20600</td>\n      <td>T2</td>\n      <td>2022-02-01 00:10:33 UTC</td>\n      <td>72340244</td>\n      <td>shape_extractor_rectangle</td>\n      <td>4.1.0</td>\n      <td>NaN</td>\n      <td>...</td>\n      <td>NaN</td>\n      <td>NaN</td>\n      <td>NaN</td>\n      <td>NaN</td>\n      <td>NaN</td>\n      <td>NaN</td>\n      <td>NaN</td>\n      <td>NaN</td>\n      <td>NaN</td>\n      <td>NaN</td>\n    </tr>\n    <tr>\n      <th>...</th>\n      <td>...</td>\n      <td>...</td>\n      <td>...</td>\n      <td>...</td>\n      <td>...</td>\n      <td>...</td>\n      <td>...</td>\n      <td>...</td>\n      <td>...</td>\n      <td>...</td>\n      <td>...</td>\n      <td>...</td>\n      <td>...</td>\n      <td>...</td>\n      <td>...</td>\n      <td>...</td>\n      <td>...</td>\n      <td>...</td>\n      <td>...</td>\n      <td>...</td>\n      <td>...</td>\n    </tr>\n    <tr>\n      <th>1049</th>\n      <td>394044885</td>\n      <td>not-logged-in-74436a8874db7b682463</td>\n      <td>NaN</td>\n      <td>20600</td>\n      <td>T4</td>\n      <td>2022-02-02 12:53:46 UTC</td>\n      <td>72338736</td>\n      <td>shape_extractor_rectangle</td>\n      <td>4.1.0</td>\n      <td>NaN</td>\n      <td>...</td>\n      <td>NaN</td>\n      <td>NaN</td>\n      <td>NaN</td>\n      <td>NaN</td>\n      <td>NaN</td>\n      <td>NaN</td>\n      <td>NaN</td>\n      <td>NaN</td>\n      <td>NaN</td>\n      <td>NaN</td>\n    </tr>\n    <tr>\n      <th>1050</th>\n      <td>394044921</td>\n      <td>not-logged-in-74436a8874db7b682463</td>\n      <td>NaN</td>\n      <td>20600</td>\n      <td>T2</td>\n      <td>2022-02-02 12:54:07 UTC</td>\n      <td>72341061</td>\n      <td>shape_extractor_rectangle</td>\n      <td>4.1.0</td>\n      <td>NaN</td>\n      <td>...</td>\n      <td>NaN</td>\n      <td>NaN</td>\n      <td>NaN</td>\n      <td>NaN</td>\n      <td>NaN</td>\n      <td>NaN</td>\n      <td>NaN</td>\n      <td>NaN</td>\n      <td>NaN</td>\n      <td>NaN</td>\n    </tr>\n    <tr>\n      <th>1051</th>\n      <td>394044921</td>\n      <td>not-logged-in-74436a8874db7b682463</td>\n      <td>NaN</td>\n      <td>20600</td>\n      <td>T4</td>\n      <td>2022-02-02 12:54:07 UTC</td>\n      <td>72341061</td>\n      <td>shape_extractor_rectangle</td>\n      <td>4.1.0</td>\n      <td>NaN</td>\n      <td>...</td>\n      <td>NaN</td>\n      <td>NaN</td>\n      <td>NaN</td>\n      <td>NaN</td>\n      <td>NaN</td>\n      <td>NaN</td>\n      <td>NaN</td>\n      <td>NaN</td>\n      <td>NaN</td>\n      <td>NaN</td>\n    </tr>\n    <tr>\n      <th>1052</th>\n      <td>394045028</td>\n      <td>not-logged-in-74436a8874db7b682463</td>\n      <td>NaN</td>\n      <td>20600</td>\n      <td>T2</td>\n      <td>2022-02-02 12:55:09 UTC</td>\n      <td>72336979</td>\n      <td>shape_extractor_rectangle</td>\n      <td>4.1.0</td>\n      <td>[233.2384033203125]</td>\n      <td>...</td>\n      <td>[70.02042770385742, 20.88330078125, 24.5686035...</td>\n      <td>[34.378662109375, 27.0118408203125, 51.5680541...</td>\n      <td>NaN</td>\n      <td>NaN</td>\n      <td>NaN</td>\n      <td>NaN</td>\n      <td>NaN</td>\n      <td>NaN</td>\n      <td>NaN</td>\n      <td>NaN</td>\n    </tr>\n    <tr>\n      <th>1053</th>\n      <td>394045028</td>\n      <td>not-logged-in-74436a8874db7b682463</td>\n      <td>NaN</td>\n      <td>20600</td>\n      <td>T4</td>\n      <td>2022-02-02 12:55:09 UTC</td>\n      <td>72336979</td>\n      <td>shape_extractor_rectangle</td>\n      <td>4.1.0</td>\n      <td>NaN</td>\n      <td>...</td>\n      <td>NaN</td>\n      <td>NaN</td>\n      <td>NaN</td>\n      <td>NaN</td>\n      <td>NaN</td>\n      <td>NaN</td>\n      <td>NaN</td>\n      <td>NaN</td>\n      <td>NaN</td>\n      <td>NaN</td>\n    </tr>\n  </tbody>\n</table>\n<p>1054 rows × 29 columns</p>\n</div>"
     },
     "execution_count": 14,
     "metadata": {},
     "output_type": "execute_result"
    }
   ],
   "source": [
    "# phase 2\n",
    "data_folder = \"./data/phase_2\"\n",
    "# read the rectangles annotations too there\n",
    "df_panotes_rectangle_extractor_1 = pd.read_csv(f\"{data_folder}/V89.162/shape_extractor_rectangle_extractions.csv\", sep=\",\")\n",
    "\n",
    "df_panotes_point_extractor_1 = pd.read_csv(f\"{data_folder}/V89.162/point_extractor_by_frame_extractions.csv\", sep=\",\")\n",
    "df_panotes_point_extractor_2 = pd.read_csv(f\"{data_folder}/V93.166/point_extractor_by_frame_extractions.csv\", sep=\",\")\n",
    "df_panotes_point_extractor_3 = pd.read_csv(f\"{data_folder}/V94.166/point_extractor_by_frame_extractions.csv\", sep=\",\")\n",
    "\n",
    "\n",
    "df_panotes_question_1 = pd.read_csv(f\"{data_folder}/V89.162/question_extractor_extractions.csv\", sep=\",\")\n",
    "df_panotes_question_2 = pd.read_csv(f\"{data_folder}/V93.166/question_extractor_extractions.csv\", sep=\",\")\n",
    "df_panotes_question_3 = pd.read_csv(f\"{data_folder}/V94.166/question_extractor_extractions.csv\", sep=\",\")\n",
    "\n",
    "\n",
    "df_panotes_point_extractor = pd.concat([df_panotes_point_extractor_1, df_panotes_point_extractor_2, df_panotes_point_extractor_2], axis=0)\n",
    "df_panotes_question = pd.concat([df_panotes_question_1, df_panotes_question_2, df_panotes_question_3], axis=0)\n",
    "\n",
    "df_panotes_rectangle_extractor_1"
   ],
   "metadata": {
    "collapsed": false,
    "ExecuteTime": {
     "end_time": "2024-04-10T13:06:18.082949Z",
     "start_time": "2024-04-10T13:06:16.779218Z"
    }
   },
   "id": "84f01a4d5c7f0334",
   "execution_count": 14
  },
  {
   "cell_type": "code",
   "outputs": [
    {
     "data": {
      "text/plain": "Empty DataFrame\nColumns: [classification_id, user_name, user_id, workflow_id, task, created_at, subject_id, extractor, data.aggregation_version, data.frame0.T2_tool0_x, data.frame0.T2_tool0_y, data.frame0.T2_tool0_width, data.frame0.T2_tool0_height, data.frame0.T2_tool1_x, data.frame0.T2_tool1_y, data.frame0.T2_tool1_width, data.frame0.T2_tool1_height, data.frame0.T2_tool2_x, data.frame0.T2_tool2_y, data.frame0.T2_tool2_width, data.frame0.T2_tool2_height, data.frame0.T2_tool3_x, data.frame0.T2_tool3_y, data.frame0.T2_tool3_width, data.frame0.T2_tool3_height, data.frame0.T4_tool8_x, data.frame0.T4_tool8_y, data.frame0.T4_tool8_width, data.frame0.T4_tool8_height]\nIndex: []\n\n[0 rows x 29 columns]",
      "text/html": "<div>\n<style scoped>\n    .dataframe tbody tr th:only-of-type {\n        vertical-align: middle;\n    }\n\n    .dataframe tbody tr th {\n        vertical-align: top;\n    }\n\n    .dataframe thead th {\n        text-align: right;\n    }\n</style>\n<table border=\"1\" class=\"dataframe\">\n  <thead>\n    <tr style=\"text-align: right;\">\n      <th></th>\n      <th>classification_id</th>\n      <th>user_name</th>\n      <th>user_id</th>\n      <th>workflow_id</th>\n      <th>task</th>\n      <th>created_at</th>\n      <th>subject_id</th>\n      <th>extractor</th>\n      <th>data.aggregation_version</th>\n      <th>data.frame0.T2_tool0_x</th>\n      <th>...</th>\n      <th>data.frame0.T2_tool2_width</th>\n      <th>data.frame0.T2_tool2_height</th>\n      <th>data.frame0.T2_tool3_x</th>\n      <th>data.frame0.T2_tool3_y</th>\n      <th>data.frame0.T2_tool3_width</th>\n      <th>data.frame0.T2_tool3_height</th>\n      <th>data.frame0.T4_tool8_x</th>\n      <th>data.frame0.T4_tool8_y</th>\n      <th>data.frame0.T4_tool8_width</th>\n      <th>data.frame0.T4_tool8_height</th>\n    </tr>\n  </thead>\n  <tbody>\n  </tbody>\n</table>\n<p>0 rows × 29 columns</p>\n</div>"
     },
     "execution_count": 15,
     "metadata": {},
     "output_type": "execute_result"
    }
   ],
   "source": [
    "# not a single subject_id is of the gold standard is in the rectangle data\n",
    "df_panotes_rectangle_extractor_1[df_panotes_rectangle_extractor_1.subject_id.isin(df_gold_standard.subject_id)]"
   ],
   "metadata": {
    "collapsed": false,
    "ExecuteTime": {
     "end_time": "2024-04-10T13:06:18.091331Z",
     "start_time": "2024-04-10T13:06:18.084965Z"
    }
   },
   "id": "41f8cb153ef52abe",
   "execution_count": 15
  },
  {
   "cell_type": "code",
   "outputs": [],
   "source": [
    "# data_folder = \"./data/phase_3\"\n",
    "# df_panotes_point_extractor_1 = pd.read_csv(f\"{data_folder}/V7.63/point_extractor_by_frame_extractions.csv\", sep=\",\")\n",
    "# df_panotes_point_extractor_2 = pd.read_csv(f\"{data_folder}/V9.63/point_extractor_by_frame_extractions.csv\", sep=\",\")\n",
    "# \n",
    "# \n",
    "# df_panotes_question_1 = pd.read_csv(f\"{data_folder}/V7.63/question_extractor_extractions.csv\", sep=\",\")\n",
    "# df_panotes_question_2 = pd.read_csv(f\"{data_folder}/V9.63/question_extractor_extractions.csv\", sep=\",\")\n",
    "# \n",
    "# df_panotes_point_extractor = pd.concat([df_panotes_point_extractor_1, df_panotes_point_extractor_2], axis=0)\n",
    "# df_panotes_question = pd.concat([df_panotes_question_1, df_panotes_question_2], axis=0)\n"
   ],
   "metadata": {
    "collapsed": false,
    "ExecuteTime": {
     "end_time": "2024-04-10T13:06:18.095512Z",
     "start_time": "2024-04-10T13:06:18.093149Z"
    }
   },
   "id": "290588b8d957e42e",
   "execution_count": 16
  },
  {
   "cell_type": "code",
   "outputs": [
    {
     "data": {
      "text/plain": "        classification_id                           user_name    user_id  \\\n0               393742576                          AmyMacLeod  1443210.0   \n1               393742638                          AmyMacLeod  1443210.0   \n2               393742678                          AmyMacLeod  1443210.0   \n3               393743049                          AmyMacLeod  1443210.0   \n4               393768668  not-logged-in-b0c587027139fe5e6549        NaN   \n...                   ...                                 ...        ...   \n215619          406113768                              Lenoxx  2434025.0   \n215620          406113907                              Lenoxx  2434025.0   \n215621          406113907                              Lenoxx  2434025.0   \n215622          406113995                              Lenoxx  2434025.0   \n215623          406113995                              Lenoxx  2434025.0   \n\n        workflow_id task               created_at  subject_id  \\\n0             20600   T4  2022-02-01 00:09:54 UTC    72335168   \n1             20600   T4  2022-02-01 00:10:20 UTC    72334984   \n2             20600   T4  2022-02-01 00:10:33 UTC    72340244   \n3             20600   T4  2022-02-01 00:12:15 UTC    72336318   \n4             20600   T4  2022-02-01 03:12:48 UTC    72372999   \n...             ...  ...                      ...         ...   \n215619        20600   T4  2022-03-30 19:24:33 UTC    72335929   \n215620        20600   T2  2022-03-30 19:25:09 UTC    72334672   \n215621        20600   T4  2022-03-30 19:25:09 UTC    72334672   \n215622        20600   T2  2022-03-30 19:25:30 UTC    72338881   \n215623        20600   T4  2022-03-30 19:25:30 UTC    72338881   \n\n                       extractor data.aggregation_version  \\\n0       point_extractor_by_frame                    4.1.0   \n1       point_extractor_by_frame                    4.1.0   \n2       point_extractor_by_frame                    4.1.0   \n3       point_extractor_by_frame                    4.1.0   \n4       point_extractor_by_frame                    4.1.0   \n...                          ...                      ...   \n215619  point_extractor_by_frame                    4.1.0   \n215620  point_extractor_by_frame                    4.1.0   \n215621  point_extractor_by_frame                    4.1.0   \n215622  point_extractor_by_frame                    4.1.0   \n215623  point_extractor_by_frame                    4.1.0   \n\n                                   data.frame0.T4_tool0_x  ...  \\\n0       [1481.24658203125, 64.83441925048828, 152.1798...  ...   \n1                                                     NaN  ...   \n2                                                     NaN  ...   \n3                                                     NaN  ...   \n4                                                     NaN  ...   \n...                                                   ...  ...   \n215619                                                NaN  ...   \n215620                                                NaN  ...   \n215621                                                NaN  ...   \n215622                                                NaN  ...   \n215623                                                NaN  ...   \n\n       data.frame0.T4_tool6_x data.frame0.T4_tool6_y data.frame0.T2_tool1_x  \\\n0                         NaN                    NaN                    NaN   \n1                         NaN                    NaN                    NaN   \n2                         NaN                    NaN                    NaN   \n3                         NaN                    NaN                    NaN   \n4                         NaN                    NaN                    NaN   \n...                       ...                    ...                    ...   \n215619                    NaN                    NaN                    NaN   \n215620                    NaN                    NaN                    NaN   \n215621                    NaN                    NaN                    NaN   \n215622                    NaN                    NaN                    NaN   \n215623                    NaN                    NaN                    NaN   \n\n       data.frame0.T2_tool1_y data.frame0.T2_tool0_x data.frame0.T2_tool0_y  \\\n0                         NaN                    NaN                    NaN   \n1                         NaN                    NaN                    NaN   \n2                         NaN                    NaN                    NaN   \n3                         NaN                    NaN                    NaN   \n4                         NaN                    NaN                    NaN   \n...                       ...                    ...                    ...   \n215619                    NaN                    NaN                    NaN   \n215620                    NaN                    NaN                    NaN   \n215621                    NaN                    NaN                    NaN   \n215622                    NaN                    NaN                    NaN   \n215623                    NaN                    NaN                    NaN   \n\n       data.frame0.T2_tool2_x data.frame0.T2_tool2_y data.frame0.T2_tool3_x  \\\n0                         NaN                    NaN                    NaN   \n1                         NaN                    NaN                    NaN   \n2                         NaN                    NaN                    NaN   \n3                         NaN                    NaN                    NaN   \n4                         NaN                    NaN                    NaN   \n...                       ...                    ...                    ...   \n215619                    NaN                    NaN                    NaN   \n215620                    NaN                    NaN                    NaN   \n215621                    NaN                    NaN                    NaN   \n215622                    NaN                    NaN                    NaN   \n215623                    NaN                    NaN                    NaN   \n\n       data.frame0.T2_tool3_y  \n0                         NaN  \n1                         NaN  \n2                         NaN  \n3                         NaN  \n4                         NaN  \n...                       ...  \n215619                    NaN  \n215620                    NaN  \n215621                    NaN  \n215622                    NaN  \n215623                    NaN  \n\n[431775 rows x 33 columns]",
      "text/html": "<div>\n<style scoped>\n    .dataframe tbody tr th:only-of-type {\n        vertical-align: middle;\n    }\n\n    .dataframe tbody tr th {\n        vertical-align: top;\n    }\n\n    .dataframe thead th {\n        text-align: right;\n    }\n</style>\n<table border=\"1\" class=\"dataframe\">\n  <thead>\n    <tr style=\"text-align: right;\">\n      <th></th>\n      <th>classification_id</th>\n      <th>user_name</th>\n      <th>user_id</th>\n      <th>workflow_id</th>\n      <th>task</th>\n      <th>created_at</th>\n      <th>subject_id</th>\n      <th>extractor</th>\n      <th>data.aggregation_version</th>\n      <th>data.frame0.T4_tool0_x</th>\n      <th>...</th>\n      <th>data.frame0.T4_tool6_x</th>\n      <th>data.frame0.T4_tool6_y</th>\n      <th>data.frame0.T2_tool1_x</th>\n      <th>data.frame0.T2_tool1_y</th>\n      <th>data.frame0.T2_tool0_x</th>\n      <th>data.frame0.T2_tool0_y</th>\n      <th>data.frame0.T2_tool2_x</th>\n      <th>data.frame0.T2_tool2_y</th>\n      <th>data.frame0.T2_tool3_x</th>\n      <th>data.frame0.T2_tool3_y</th>\n    </tr>\n  </thead>\n  <tbody>\n    <tr>\n      <th>0</th>\n      <td>393742576</td>\n      <td>AmyMacLeod</td>\n      <td>1443210.0</td>\n      <td>20600</td>\n      <td>T4</td>\n      <td>2022-02-01 00:09:54 UTC</td>\n      <td>72335168</td>\n      <td>point_extractor_by_frame</td>\n      <td>4.1.0</td>\n      <td>[1481.24658203125, 64.83441925048828, 152.1798...</td>\n      <td>...</td>\n      <td>NaN</td>\n      <td>NaN</td>\n      <td>NaN</td>\n      <td>NaN</td>\n      <td>NaN</td>\n      <td>NaN</td>\n      <td>NaN</td>\n      <td>NaN</td>\n      <td>NaN</td>\n      <td>NaN</td>\n    </tr>\n    <tr>\n      <th>1</th>\n      <td>393742638</td>\n      <td>AmyMacLeod</td>\n      <td>1443210.0</td>\n      <td>20600</td>\n      <td>T4</td>\n      <td>2022-02-01 00:10:20 UTC</td>\n      <td>72334984</td>\n      <td>point_extractor_by_frame</td>\n      <td>4.1.0</td>\n      <td>NaN</td>\n      <td>...</td>\n      <td>NaN</td>\n      <td>NaN</td>\n      <td>NaN</td>\n      <td>NaN</td>\n      <td>NaN</td>\n      <td>NaN</td>\n      <td>NaN</td>\n      <td>NaN</td>\n      <td>NaN</td>\n      <td>NaN</td>\n    </tr>\n    <tr>\n      <th>2</th>\n      <td>393742678</td>\n      <td>AmyMacLeod</td>\n      <td>1443210.0</td>\n      <td>20600</td>\n      <td>T4</td>\n      <td>2022-02-01 00:10:33 UTC</td>\n      <td>72340244</td>\n      <td>point_extractor_by_frame</td>\n      <td>4.1.0</td>\n      <td>NaN</td>\n      <td>...</td>\n      <td>NaN</td>\n      <td>NaN</td>\n      <td>NaN</td>\n      <td>NaN</td>\n      <td>NaN</td>\n      <td>NaN</td>\n      <td>NaN</td>\n      <td>NaN</td>\n      <td>NaN</td>\n      <td>NaN</td>\n    </tr>\n    <tr>\n      <th>3</th>\n      <td>393743049</td>\n      <td>AmyMacLeod</td>\n      <td>1443210.0</td>\n      <td>20600</td>\n      <td>T4</td>\n      <td>2022-02-01 00:12:15 UTC</td>\n      <td>72336318</td>\n      <td>point_extractor_by_frame</td>\n      <td>4.1.0</td>\n      <td>NaN</td>\n      <td>...</td>\n      <td>NaN</td>\n      <td>NaN</td>\n      <td>NaN</td>\n      <td>NaN</td>\n      <td>NaN</td>\n      <td>NaN</td>\n      <td>NaN</td>\n      <td>NaN</td>\n      <td>NaN</td>\n      <td>NaN</td>\n    </tr>\n    <tr>\n      <th>4</th>\n      <td>393768668</td>\n      <td>not-logged-in-b0c587027139fe5e6549</td>\n      <td>NaN</td>\n      <td>20600</td>\n      <td>T4</td>\n      <td>2022-02-01 03:12:48 UTC</td>\n      <td>72372999</td>\n      <td>point_extractor_by_frame</td>\n      <td>4.1.0</td>\n      <td>NaN</td>\n      <td>...</td>\n      <td>NaN</td>\n      <td>NaN</td>\n      <td>NaN</td>\n      <td>NaN</td>\n      <td>NaN</td>\n      <td>NaN</td>\n      <td>NaN</td>\n      <td>NaN</td>\n      <td>NaN</td>\n      <td>NaN</td>\n    </tr>\n    <tr>\n      <th>...</th>\n      <td>...</td>\n      <td>...</td>\n      <td>...</td>\n      <td>...</td>\n      <td>...</td>\n      <td>...</td>\n      <td>...</td>\n      <td>...</td>\n      <td>...</td>\n      <td>...</td>\n      <td>...</td>\n      <td>...</td>\n      <td>...</td>\n      <td>...</td>\n      <td>...</td>\n      <td>...</td>\n      <td>...</td>\n      <td>...</td>\n      <td>...</td>\n      <td>...</td>\n      <td>...</td>\n    </tr>\n    <tr>\n      <th>215619</th>\n      <td>406113768</td>\n      <td>Lenoxx</td>\n      <td>2434025.0</td>\n      <td>20600</td>\n      <td>T4</td>\n      <td>2022-03-30 19:24:33 UTC</td>\n      <td>72335929</td>\n      <td>point_extractor_by_frame</td>\n      <td>4.1.0</td>\n      <td>NaN</td>\n      <td>...</td>\n      <td>NaN</td>\n      <td>NaN</td>\n      <td>NaN</td>\n      <td>NaN</td>\n      <td>NaN</td>\n      <td>NaN</td>\n      <td>NaN</td>\n      <td>NaN</td>\n      <td>NaN</td>\n      <td>NaN</td>\n    </tr>\n    <tr>\n      <th>215620</th>\n      <td>406113907</td>\n      <td>Lenoxx</td>\n      <td>2434025.0</td>\n      <td>20600</td>\n      <td>T2</td>\n      <td>2022-03-30 19:25:09 UTC</td>\n      <td>72334672</td>\n      <td>point_extractor_by_frame</td>\n      <td>4.1.0</td>\n      <td>NaN</td>\n      <td>...</td>\n      <td>NaN</td>\n      <td>NaN</td>\n      <td>NaN</td>\n      <td>NaN</td>\n      <td>NaN</td>\n      <td>NaN</td>\n      <td>NaN</td>\n      <td>NaN</td>\n      <td>NaN</td>\n      <td>NaN</td>\n    </tr>\n    <tr>\n      <th>215621</th>\n      <td>406113907</td>\n      <td>Lenoxx</td>\n      <td>2434025.0</td>\n      <td>20600</td>\n      <td>T4</td>\n      <td>2022-03-30 19:25:09 UTC</td>\n      <td>72334672</td>\n      <td>point_extractor_by_frame</td>\n      <td>4.1.0</td>\n      <td>NaN</td>\n      <td>...</td>\n      <td>NaN</td>\n      <td>NaN</td>\n      <td>NaN</td>\n      <td>NaN</td>\n      <td>NaN</td>\n      <td>NaN</td>\n      <td>NaN</td>\n      <td>NaN</td>\n      <td>NaN</td>\n      <td>NaN</td>\n    </tr>\n    <tr>\n      <th>215622</th>\n      <td>406113995</td>\n      <td>Lenoxx</td>\n      <td>2434025.0</td>\n      <td>20600</td>\n      <td>T2</td>\n      <td>2022-03-30 19:25:30 UTC</td>\n      <td>72338881</td>\n      <td>point_extractor_by_frame</td>\n      <td>4.1.0</td>\n      <td>NaN</td>\n      <td>...</td>\n      <td>NaN</td>\n      <td>NaN</td>\n      <td>NaN</td>\n      <td>NaN</td>\n      <td>NaN</td>\n      <td>NaN</td>\n      <td>NaN</td>\n      <td>NaN</td>\n      <td>NaN</td>\n      <td>NaN</td>\n    </tr>\n    <tr>\n      <th>215623</th>\n      <td>406113995</td>\n      <td>Lenoxx</td>\n      <td>2434025.0</td>\n      <td>20600</td>\n      <td>T4</td>\n      <td>2022-03-30 19:25:30 UTC</td>\n      <td>72338881</td>\n      <td>point_extractor_by_frame</td>\n      <td>4.1.0</td>\n      <td>NaN</td>\n      <td>...</td>\n      <td>NaN</td>\n      <td>NaN</td>\n      <td>NaN</td>\n      <td>NaN</td>\n      <td>NaN</td>\n      <td>NaN</td>\n      <td>NaN</td>\n      <td>NaN</td>\n      <td>NaN</td>\n      <td>NaN</td>\n    </tr>\n  </tbody>\n</table>\n<p>431775 rows × 33 columns</p>\n</div>"
     },
     "execution_count": 17,
     "metadata": {},
     "output_type": "execute_result"
    }
   ],
   "source": [
    "df_panotes_point_extractor"
   ],
   "metadata": {
    "collapsed": false,
    "ExecuteTime": {
     "end_time": "2024-04-10T13:06:19.014396Z",
     "start_time": "2024-04-10T13:06:18.604585Z"
    }
   },
   "id": "425530a8a9acdc49",
   "execution_count": 17
  },
  {
   "cell_type": "markdown",
   "source": [
    "\n"
   ],
   "metadata": {
    "collapsed": false
   },
   "id": "f31247211061c5fe"
  },
  {
   "cell_type": "code",
   "outputs": [
    {
     "data": {
      "text/plain": "       classification_id                           user_name    user_id  \\\n0              393742576                          AmyMacLeod  1443210.0   \n1              393742638                          AmyMacLeod  1443210.0   \n2              393742678                          AmyMacLeod  1443210.0   \n3              393743049                          AmyMacLeod  1443210.0   \n4              393768668  not-logged-in-b0c587027139fe5e6549        NaN   \n...                  ...                                 ...        ...   \n88313          412711106                             Melisss  1369932.0   \n88314          412711577                             Melisss  1369932.0   \n88315          412711830                             Melisss  1369932.0   \n88316          412712258                             Melisss  1369932.0   \n88317          456473615                             edengbn  2462144.0   \n\n       workflow_id task               created_at  subject_id  \\\n0            20600   T0  2022-02-01 00:09:54 UTC    72335168   \n1            20600   T0  2022-02-01 00:10:20 UTC    72334984   \n2            20600   T0  2022-02-01 00:10:33 UTC    72340244   \n3            20600   T0  2022-02-01 00:12:15 UTC    72336318   \n4            20600   T0  2022-02-01 03:12:48 UTC    72372999   \n...            ...  ...                      ...         ...   \n88313        20600   T0  2022-05-03 07:02:18 UTC    72333409   \n88314        20600   T0  2022-05-03 07:06:48 UTC    72333423   \n88315        20600   T0  2022-05-03 07:08:50 UTC    72333494   \n88316        20600   T0  2022-05-03 07:12:18 UTC    72333471   \n88317        20600   T0  2022-12-13 01:27:15 UTC    72341496   \n\n                extractor  data.no data.aggregation_version  data.yes  \n0      question_extractor      1.0                    4.1.0       NaN  \n1      question_extractor      1.0                    4.1.0       NaN  \n2      question_extractor      1.0                    4.1.0       NaN  \n3      question_extractor      NaN                    4.1.0       1.0  \n4      question_extractor      NaN                    4.1.0       1.0  \n...                   ...      ...                      ...       ...  \n88313  question_extractor      1.0                    4.1.0       NaN  \n88314  question_extractor      1.0                    4.1.0       NaN  \n88315  question_extractor      1.0                    4.1.0       NaN  \n88316  question_extractor      1.0                    4.1.0       NaN  \n88317  question_extractor      1.0                    4.1.0       NaN  \n\n[196657 rows x 11 columns]",
      "text/html": "<div>\n<style scoped>\n    .dataframe tbody tr th:only-of-type {\n        vertical-align: middle;\n    }\n\n    .dataframe tbody tr th {\n        vertical-align: top;\n    }\n\n    .dataframe thead th {\n        text-align: right;\n    }\n</style>\n<table border=\"1\" class=\"dataframe\">\n  <thead>\n    <tr style=\"text-align: right;\">\n      <th></th>\n      <th>classification_id</th>\n      <th>user_name</th>\n      <th>user_id</th>\n      <th>workflow_id</th>\n      <th>task</th>\n      <th>created_at</th>\n      <th>subject_id</th>\n      <th>extractor</th>\n      <th>data.no</th>\n      <th>data.aggregation_version</th>\n      <th>data.yes</th>\n    </tr>\n  </thead>\n  <tbody>\n    <tr>\n      <th>0</th>\n      <td>393742576</td>\n      <td>AmyMacLeod</td>\n      <td>1443210.0</td>\n      <td>20600</td>\n      <td>T0</td>\n      <td>2022-02-01 00:09:54 UTC</td>\n      <td>72335168</td>\n      <td>question_extractor</td>\n      <td>1.0</td>\n      <td>4.1.0</td>\n      <td>NaN</td>\n    </tr>\n    <tr>\n      <th>1</th>\n      <td>393742638</td>\n      <td>AmyMacLeod</td>\n      <td>1443210.0</td>\n      <td>20600</td>\n      <td>T0</td>\n      <td>2022-02-01 00:10:20 UTC</td>\n      <td>72334984</td>\n      <td>question_extractor</td>\n      <td>1.0</td>\n      <td>4.1.0</td>\n      <td>NaN</td>\n    </tr>\n    <tr>\n      <th>2</th>\n      <td>393742678</td>\n      <td>AmyMacLeod</td>\n      <td>1443210.0</td>\n      <td>20600</td>\n      <td>T0</td>\n      <td>2022-02-01 00:10:33 UTC</td>\n      <td>72340244</td>\n      <td>question_extractor</td>\n      <td>1.0</td>\n      <td>4.1.0</td>\n      <td>NaN</td>\n    </tr>\n    <tr>\n      <th>3</th>\n      <td>393743049</td>\n      <td>AmyMacLeod</td>\n      <td>1443210.0</td>\n      <td>20600</td>\n      <td>T0</td>\n      <td>2022-02-01 00:12:15 UTC</td>\n      <td>72336318</td>\n      <td>question_extractor</td>\n      <td>NaN</td>\n      <td>4.1.0</td>\n      <td>1.0</td>\n    </tr>\n    <tr>\n      <th>4</th>\n      <td>393768668</td>\n      <td>not-logged-in-b0c587027139fe5e6549</td>\n      <td>NaN</td>\n      <td>20600</td>\n      <td>T0</td>\n      <td>2022-02-01 03:12:48 UTC</td>\n      <td>72372999</td>\n      <td>question_extractor</td>\n      <td>NaN</td>\n      <td>4.1.0</td>\n      <td>1.0</td>\n    </tr>\n    <tr>\n      <th>...</th>\n      <td>...</td>\n      <td>...</td>\n      <td>...</td>\n      <td>...</td>\n      <td>...</td>\n      <td>...</td>\n      <td>...</td>\n      <td>...</td>\n      <td>...</td>\n      <td>...</td>\n      <td>...</td>\n    </tr>\n    <tr>\n      <th>88313</th>\n      <td>412711106</td>\n      <td>Melisss</td>\n      <td>1369932.0</td>\n      <td>20600</td>\n      <td>T0</td>\n      <td>2022-05-03 07:02:18 UTC</td>\n      <td>72333409</td>\n      <td>question_extractor</td>\n      <td>1.0</td>\n      <td>4.1.0</td>\n      <td>NaN</td>\n    </tr>\n    <tr>\n      <th>88314</th>\n      <td>412711577</td>\n      <td>Melisss</td>\n      <td>1369932.0</td>\n      <td>20600</td>\n      <td>T0</td>\n      <td>2022-05-03 07:06:48 UTC</td>\n      <td>72333423</td>\n      <td>question_extractor</td>\n      <td>1.0</td>\n      <td>4.1.0</td>\n      <td>NaN</td>\n    </tr>\n    <tr>\n      <th>88315</th>\n      <td>412711830</td>\n      <td>Melisss</td>\n      <td>1369932.0</td>\n      <td>20600</td>\n      <td>T0</td>\n      <td>2022-05-03 07:08:50 UTC</td>\n      <td>72333494</td>\n      <td>question_extractor</td>\n      <td>1.0</td>\n      <td>4.1.0</td>\n      <td>NaN</td>\n    </tr>\n    <tr>\n      <th>88316</th>\n      <td>412712258</td>\n      <td>Melisss</td>\n      <td>1369932.0</td>\n      <td>20600</td>\n      <td>T0</td>\n      <td>2022-05-03 07:12:18 UTC</td>\n      <td>72333471</td>\n      <td>question_extractor</td>\n      <td>1.0</td>\n      <td>4.1.0</td>\n      <td>NaN</td>\n    </tr>\n    <tr>\n      <th>88317</th>\n      <td>456473615</td>\n      <td>edengbn</td>\n      <td>2462144.0</td>\n      <td>20600</td>\n      <td>T0</td>\n      <td>2022-12-13 01:27:15 UTC</td>\n      <td>72341496</td>\n      <td>question_extractor</td>\n      <td>1.0</td>\n      <td>4.1.0</td>\n      <td>NaN</td>\n    </tr>\n  </tbody>\n</table>\n<p>196657 rows × 11 columns</p>\n</div>"
     },
     "execution_count": 18,
     "metadata": {},
     "output_type": "execute_result"
    }
   ],
   "source": [
    "df_panotes_question"
   ],
   "metadata": {
    "collapsed": false,
    "ExecuteTime": {
     "end_time": "2024-04-10T13:06:20.568711Z",
     "start_time": "2024-04-10T13:06:20.561618Z"
    }
   },
   "id": "3c4ae981e64efbc7",
   "execution_count": 18
  },
  {
   "cell_type": "code",
   "outputs": [
    {
     "name": "stdout",
     "output_type": "stream",
     "text": [
      "{'name', 'type', '#target_count', 'id', 'Filename', 'workflow', 'image_name', 'flight_code', 'Set', 'site', 'Flight', 'flight', 'Subset', 'set', 'Subject_id', 'Image_name', 'subject_id', 'Site', 'Island'}\n"
     ]
    }
   ],
   "source": [
    "import json\n",
    "def get_json_keys(json_str):\n",
    "    try:\n",
    "        json_obj = json.loads(json_str)\n",
    "        return list(json_obj.keys())\n",
    "    except json.JSONDecodeError:\n",
    "        return []\n",
    "\n",
    "# Apply the function to each row in the metadata column and collect all keys\n",
    "all_keys = df_subjects['metadata'].apply(get_json_keys)\n",
    "\n",
    "# Flatten the list of lists and get unique keys\n",
    "unique_keys = set([key for sublist in all_keys for key in sublist])\n",
    "\n",
    "print(unique_keys)"
   ],
   "metadata": {
    "collapsed": false,
    "ExecuteTime": {
     "end_time": "2024-04-10T13:06:20.748524Z",
     "start_time": "2024-04-10T13:06:20.570609Z"
    }
   },
   "id": "94063673f589d472",
   "execution_count": 19
  },
  {
   "cell_type": "code",
   "outputs": [
    {
     "data": {
      "text/plain": "       subject_id  project_id  workflow_id  subject_set_id  \\\n0        44660549       11905          NaN           83766   \n1        44660550       11905          NaN           83766   \n2        44660551       11905          NaN           83766   \n3        44660552       11905          NaN           83766   \n4        44660553       11905          NaN           83766   \n...           ...         ...          ...             ...   \n68155    92469731       11905      25351.0          116619   \n68156    92469733       11905      25351.0          116619   \n68157    92469734       11905      25351.0          116619   \n68158    92469735       11905      25351.0          116619   \n68159    92469736       11905      25351.0          116619   \n\n                                                metadata  \\\n0      {\"image_name\":\"SMF02-1-2-2_740.jpg\",\"subject_i...   \n1      {\"image_name\":\"SRIL03-2-1_153.jpg\",\"subject_id...   \n2      {\"image_name\":\"SRIL03-2-2_90.jpg\",\"subject_id\"...   \n3      {\"image_name\":\"SRIL03-2-2_127.jpg\",\"subject_id...   \n4      {\"image_name\":\"SRIL03-2-2_133.jpg\",\"subject_id...   \n...                                                  ...   \n68155  {\"Site\":\"Puerto Villamil\",\"Island\":\"Isabela\",\"...   \n68156  {\"Site\":\"Puerto Villamil\",\"Island\":\"Isabela\",\"...   \n68157  {\"Site\":\"Puerto Villamil\",\"Island\":\"Isabela\",\"...   \n68158  {\"Site\":\"Puerto Villamil\",\"Island\":\"Isabela\",\"...   \n68159  {\"Site\":\"Puerto Villamil\",\"Island\":\"Isabela\",\"...   \n\n                                               locations  \\\n0      {\"0\":\"https://panoptes-uploads.zooniverse.org/...   \n1      {\"0\":\"https://panoptes-uploads.zooniverse.org/...   \n2      {\"0\":\"https://panoptes-uploads.zooniverse.org/...   \n3      {\"0\":\"https://panoptes-uploads.zooniverse.org/...   \n4      {\"0\":\"https://panoptes-uploads.zooniverse.org/...   \n...                                                  ...   \n68155  {\"0\":\"https://panoptes-uploads.zooniverse.org/...   \n68156  {\"0\":\"https://panoptes-uploads.zooniverse.org/...   \n68157  {\"0\":\"https://panoptes-uploads.zooniverse.org/...   \n68158  {\"0\":\"https://panoptes-uploads.zooniverse.org/...   \n68159  {\"0\":\"https://panoptes-uploads.zooniverse.org/...   \n\n       classifications_count retired_at retirement_reason  \\\n0                          0        NaN               NaN   \n1                          0        NaN               NaN   \n2                          0        NaN               NaN   \n3                          0        NaN               NaN   \n4                          0        NaN               NaN   \n...                      ...        ...               ...   \n68155                      2        NaN               NaN   \n68156                      3        NaN               NaN   \n68157                      6        NaN               NaN   \n68158                      1        NaN               NaN   \n68159                      4        NaN               NaN   \n\n                    created_at               updated_at  \\\n0      2020-05-12 11:01:33 UTC  2020-05-12 11:01:33 UTC   \n1      2020-05-12 11:01:39 UTC  2020-05-12 11:01:39 UTC   \n2      2020-05-12 11:01:45 UTC  2020-05-12 11:01:45 UTC   \n3      2020-05-12 11:01:49 UTC  2020-05-12 11:01:49 UTC   \n4      2020-05-12 11:01:53 UTC  2020-05-12 11:01:53 UTC   \n...                        ...                      ...   \n68155  2023-10-12 16:28:45 UTC  2023-10-12 16:28:45 UTC   \n68156  2023-10-12 16:28:46 UTC  2023-10-12 16:28:46 UTC   \n68157  2023-10-12 16:28:46 UTC  2023-10-12 16:28:46 UTC   \n68158  2023-10-12 16:28:46 UTC  2023-10-12 16:28:46 UTC   \n68159  2023-10-12 16:28:47 UTC  2023-10-12 16:28:47 UTC   \n\n                          image_name  \n0                SMF02-1-2-2_740.jpg  \n1                 SRIL03-2-1_153.jpg  \n2                  SRIL03-2-2_90.jpg  \n3                 SRIL03-2-2_127.jpg  \n4                 SRIL03-2-2_133.jpg  \n...                              ...  \n68155    Isa_ISVB02_27012023_155.jpg  \n68156  Isa_ISVB01_27012023_75_36.jpg  \n68157  Isa_ISVB01_27012023_27_16.jpg  \n68158  Isa_ISVB03_77012023_28_17.jpg  \n68159  Isa_ISVB01_27012023_51_37.jpg  \n\n[68160 rows x 12 columns]",
      "text/html": "<div>\n<style scoped>\n    .dataframe tbody tr th:only-of-type {\n        vertical-align: middle;\n    }\n\n    .dataframe tbody tr th {\n        vertical-align: top;\n    }\n\n    .dataframe thead th {\n        text-align: right;\n    }\n</style>\n<table border=\"1\" class=\"dataframe\">\n  <thead>\n    <tr style=\"text-align: right;\">\n      <th></th>\n      <th>subject_id</th>\n      <th>project_id</th>\n      <th>workflow_id</th>\n      <th>subject_set_id</th>\n      <th>metadata</th>\n      <th>locations</th>\n      <th>classifications_count</th>\n      <th>retired_at</th>\n      <th>retirement_reason</th>\n      <th>created_at</th>\n      <th>updated_at</th>\n      <th>image_name</th>\n    </tr>\n  </thead>\n  <tbody>\n    <tr>\n      <th>0</th>\n      <td>44660549</td>\n      <td>11905</td>\n      <td>NaN</td>\n      <td>83766</td>\n      <td>{\"image_name\":\"SMF02-1-2-2_740.jpg\",\"subject_i...</td>\n      <td>{\"0\":\"https://panoptes-uploads.zooniverse.org/...</td>\n      <td>0</td>\n      <td>NaN</td>\n      <td>NaN</td>\n      <td>2020-05-12 11:01:33 UTC</td>\n      <td>2020-05-12 11:01:33 UTC</td>\n      <td>SMF02-1-2-2_740.jpg</td>\n    </tr>\n    <tr>\n      <th>1</th>\n      <td>44660550</td>\n      <td>11905</td>\n      <td>NaN</td>\n      <td>83766</td>\n      <td>{\"image_name\":\"SRIL03-2-1_153.jpg\",\"subject_id...</td>\n      <td>{\"0\":\"https://panoptes-uploads.zooniverse.org/...</td>\n      <td>0</td>\n      <td>NaN</td>\n      <td>NaN</td>\n      <td>2020-05-12 11:01:39 UTC</td>\n      <td>2020-05-12 11:01:39 UTC</td>\n      <td>SRIL03-2-1_153.jpg</td>\n    </tr>\n    <tr>\n      <th>2</th>\n      <td>44660551</td>\n      <td>11905</td>\n      <td>NaN</td>\n      <td>83766</td>\n      <td>{\"image_name\":\"SRIL03-2-2_90.jpg\",\"subject_id\"...</td>\n      <td>{\"0\":\"https://panoptes-uploads.zooniverse.org/...</td>\n      <td>0</td>\n      <td>NaN</td>\n      <td>NaN</td>\n      <td>2020-05-12 11:01:45 UTC</td>\n      <td>2020-05-12 11:01:45 UTC</td>\n      <td>SRIL03-2-2_90.jpg</td>\n    </tr>\n    <tr>\n      <th>3</th>\n      <td>44660552</td>\n      <td>11905</td>\n      <td>NaN</td>\n      <td>83766</td>\n      <td>{\"image_name\":\"SRIL03-2-2_127.jpg\",\"subject_id...</td>\n      <td>{\"0\":\"https://panoptes-uploads.zooniverse.org/...</td>\n      <td>0</td>\n      <td>NaN</td>\n      <td>NaN</td>\n      <td>2020-05-12 11:01:49 UTC</td>\n      <td>2020-05-12 11:01:49 UTC</td>\n      <td>SRIL03-2-2_127.jpg</td>\n    </tr>\n    <tr>\n      <th>4</th>\n      <td>44660553</td>\n      <td>11905</td>\n      <td>NaN</td>\n      <td>83766</td>\n      <td>{\"image_name\":\"SRIL03-2-2_133.jpg\",\"subject_id...</td>\n      <td>{\"0\":\"https://panoptes-uploads.zooniverse.org/...</td>\n      <td>0</td>\n      <td>NaN</td>\n      <td>NaN</td>\n      <td>2020-05-12 11:01:53 UTC</td>\n      <td>2020-05-12 11:01:53 UTC</td>\n      <td>SRIL03-2-2_133.jpg</td>\n    </tr>\n    <tr>\n      <th>...</th>\n      <td>...</td>\n      <td>...</td>\n      <td>...</td>\n      <td>...</td>\n      <td>...</td>\n      <td>...</td>\n      <td>...</td>\n      <td>...</td>\n      <td>...</td>\n      <td>...</td>\n      <td>...</td>\n      <td>...</td>\n    </tr>\n    <tr>\n      <th>68155</th>\n      <td>92469731</td>\n      <td>11905</td>\n      <td>25351.0</td>\n      <td>116619</td>\n      <td>{\"Site\":\"Puerto Villamil\",\"Island\":\"Isabela\",\"...</td>\n      <td>{\"0\":\"https://panoptes-uploads.zooniverse.org/...</td>\n      <td>2</td>\n      <td>NaN</td>\n      <td>NaN</td>\n      <td>2023-10-12 16:28:45 UTC</td>\n      <td>2023-10-12 16:28:45 UTC</td>\n      <td>Isa_ISVB02_27012023_155.jpg</td>\n    </tr>\n    <tr>\n      <th>68156</th>\n      <td>92469733</td>\n      <td>11905</td>\n      <td>25351.0</td>\n      <td>116619</td>\n      <td>{\"Site\":\"Puerto Villamil\",\"Island\":\"Isabela\",\"...</td>\n      <td>{\"0\":\"https://panoptes-uploads.zooniverse.org/...</td>\n      <td>3</td>\n      <td>NaN</td>\n      <td>NaN</td>\n      <td>2023-10-12 16:28:46 UTC</td>\n      <td>2023-10-12 16:28:46 UTC</td>\n      <td>Isa_ISVB01_27012023_75_36.jpg</td>\n    </tr>\n    <tr>\n      <th>68157</th>\n      <td>92469734</td>\n      <td>11905</td>\n      <td>25351.0</td>\n      <td>116619</td>\n      <td>{\"Site\":\"Puerto Villamil\",\"Island\":\"Isabela\",\"...</td>\n      <td>{\"0\":\"https://panoptes-uploads.zooniverse.org/...</td>\n      <td>6</td>\n      <td>NaN</td>\n      <td>NaN</td>\n      <td>2023-10-12 16:28:46 UTC</td>\n      <td>2023-10-12 16:28:46 UTC</td>\n      <td>Isa_ISVB01_27012023_27_16.jpg</td>\n    </tr>\n    <tr>\n      <th>68158</th>\n      <td>92469735</td>\n      <td>11905</td>\n      <td>25351.0</td>\n      <td>116619</td>\n      <td>{\"Site\":\"Puerto Villamil\",\"Island\":\"Isabela\",\"...</td>\n      <td>{\"0\":\"https://panoptes-uploads.zooniverse.org/...</td>\n      <td>1</td>\n      <td>NaN</td>\n      <td>NaN</td>\n      <td>2023-10-12 16:28:46 UTC</td>\n      <td>2023-10-12 16:28:46 UTC</td>\n      <td>Isa_ISVB03_77012023_28_17.jpg</td>\n    </tr>\n    <tr>\n      <th>68159</th>\n      <td>92469736</td>\n      <td>11905</td>\n      <td>25351.0</td>\n      <td>116619</td>\n      <td>{\"Site\":\"Puerto Villamil\",\"Island\":\"Isabela\",\"...</td>\n      <td>{\"0\":\"https://panoptes-uploads.zooniverse.org/...</td>\n      <td>4</td>\n      <td>NaN</td>\n      <td>NaN</td>\n      <td>2023-10-12 16:28:47 UTC</td>\n      <td>2023-10-12 16:28:47 UTC</td>\n      <td>Isa_ISVB01_27012023_51_37.jpg</td>\n    </tr>\n  </tbody>\n</table>\n<p>68160 rows × 12 columns</p>\n</div>"
     },
     "execution_count": 20,
     "metadata": {},
     "output_type": "execute_result"
    }
   ],
   "source": [
    "\n",
    "df_subjects[[\"subject_id\", \"metadata\"]]\n",
    "\n",
    "df_subjects[\"image_name\"] = df_subjects['metadata'].apply(lambda x: json.loads(x).get('Image_name') \n",
    "                                        or json.loads(x).get('image_name') \n",
    "                                        or json.loads(x).get('Filename')).sort_values(ascending=True)\n",
    "df_subjects"
   ],
   "metadata": {
    "collapsed": false,
    "ExecuteTime": {
     "end_time": "2024-04-10T13:06:20.944001Z",
     "start_time": "2024-04-10T13:06:20.749189Z"
    }
   },
   "id": "b16f1620c103a531",
   "execution_count": 20
  },
  {
   "cell_type": "code",
   "outputs": [
    {
     "data": {
      "text/plain": "        classification_id     user_name    user_id  workflow_id task  \\\n0               393742576    AmyMacLeod  1443210.0        20600   T4   \n1               394132937       laswett  2309767.0        20600   T2   \n2               394132937       laswett  2309767.0        20600   T4   \n3               394221102  colarsoledad  2360454.0        20600   T2   \n4               394221102  colarsoledad  2360454.0        20600   T4   \n...                   ...           ...        ...          ...  ...   \n431770          403414441   Fire_seeker  2439780.0        20600   T4   \n431771          403489002      Mary1863  1760559.0        20600   T2   \n431772          403489002      Mary1863  1760559.0        20600   T4   \n431773          403749038    databanana  1682891.0        20600   T2   \n431774          403749038    databanana  1682891.0        20600   T4   \n\n                     created_at  subject_id                 extractor  \\\n0       2022-02-01 00:09:54 UTC    72335168  point_extractor_by_frame   \n1       2022-02-02 19:19:04 UTC    72335168  point_extractor_by_frame   \n2       2022-02-02 19:19:04 UTC    72335168  point_extractor_by_frame   \n3       2022-02-03 03:24:54 UTC    72335168  point_extractor_by_frame   \n4       2022-02-03 03:24:54 UTC    72335168  point_extractor_by_frame   \n...                         ...         ...                       ...   \n431770  2022-03-18 13:15:20 UTC    72339681  point_extractor_by_frame   \n431771  2022-03-18 20:13:31 UTC    72339681  point_extractor_by_frame   \n431772  2022-03-18 20:13:31 UTC    72339681  point_extractor_by_frame   \n431773  2022-03-20 11:31:17 UTC    72339681  point_extractor_by_frame   \n431774  2022-03-20 11:31:17 UTC    72339681  point_extractor_by_frame   \n\n       data.aggregation_version  \\\n0                         4.1.0   \n1                         4.1.0   \n2                         4.1.0   \n3                         4.1.0   \n4                         4.1.0   \n...                         ...   \n431770                    4.1.0   \n431771                    4.1.0   \n431772                    4.1.0   \n431773                    4.1.0   \n431774                    4.1.0   \n\n                                   data.frame0.T4_tool0_x  ...  \\\n0       [1481.24658203125, 64.83441925048828, 152.1798...  ...   \n1                                                     NaN  ...   \n2       [1474.2442626953125, 144.0193634033203, 12.096...  ...   \n3                                                     NaN  ...   \n4       [1474.424560546875, 146.7071990966797, 12.0523...  ...   \n...                                                   ...  ...   \n431770                                                NaN  ...   \n431771                                                NaN  ...   \n431772                                                NaN  ...   \n431773                                                NaN  ...   \n431774                                                NaN  ...   \n\n       data.frame0.T4_tool6_y data.frame0.T2_tool1_x data.frame0.T2_tool1_y  \\\n0                         NaN                    NaN                    NaN   \n1                         NaN                    NaN                    NaN   \n2                         NaN                    NaN                    NaN   \n3                         NaN                    NaN                    NaN   \n4                         NaN                    NaN                    NaN   \n...                       ...                    ...                    ...   \n431770                    NaN                    NaN                    NaN   \n431771                    NaN                    NaN                    NaN   \n431772                    NaN                    NaN                    NaN   \n431773                    NaN                    NaN                    NaN   \n431774                    NaN                    NaN                    NaN   \n\n       data.frame0.T2_tool0_x data.frame0.T2_tool0_y data.frame0.T2_tool2_x  \\\n0                         NaN                    NaN                    NaN   \n1                         NaN                    NaN                    NaN   \n2                         NaN                    NaN                    NaN   \n3                         NaN                    NaN                    NaN   \n4                         NaN                    NaN                    NaN   \n...                       ...                    ...                    ...   \n431770                    NaN                    NaN                    NaN   \n431771                    NaN                    NaN                    NaN   \n431772                    NaN                    NaN                    NaN   \n431773                    NaN                    NaN                    NaN   \n431774                    NaN                    NaN                    NaN   \n\n       data.frame0.T2_tool2_y data.frame0.T2_tool3_x data.frame0.T2_tool3_y  \\\n0                         NaN                    NaN                    NaN   \n1                         NaN                    NaN                    NaN   \n2                         NaN                    NaN                    NaN   \n3                         NaN                    NaN                    NaN   \n4                         NaN                    NaN                    NaN   \n...                       ...                    ...                    ...   \n431770                    NaN                    NaN                    NaN   \n431771                    NaN                    NaN                    NaN   \n431772                    NaN                    NaN                    NaN   \n431773                    NaN                    NaN                    NaN   \n431774                    NaN                    NaN                    NaN   \n\n            image_name  \n0       EIG05-2_55.jpg  \n1       EIG05-2_55.jpg  \n2       EIG05-2_55.jpg  \n3       EIG05-2_55.jpg  \n4       EIG05-2_55.jpg  \n...                ...  \n431770    FPA04_31.jpg  \n431771    FPA04_31.jpg  \n431772    FPA04_31.jpg  \n431773    FPA04_31.jpg  \n431774    FPA04_31.jpg  \n\n[431775 rows x 34 columns]",
      "text/html": "<div>\n<style scoped>\n    .dataframe tbody tr th:only-of-type {\n        vertical-align: middle;\n    }\n\n    .dataframe tbody tr th {\n        vertical-align: top;\n    }\n\n    .dataframe thead th {\n        text-align: right;\n    }\n</style>\n<table border=\"1\" class=\"dataframe\">\n  <thead>\n    <tr style=\"text-align: right;\">\n      <th></th>\n      <th>classification_id</th>\n      <th>user_name</th>\n      <th>user_id</th>\n      <th>workflow_id</th>\n      <th>task</th>\n      <th>created_at</th>\n      <th>subject_id</th>\n      <th>extractor</th>\n      <th>data.aggregation_version</th>\n      <th>data.frame0.T4_tool0_x</th>\n      <th>...</th>\n      <th>data.frame0.T4_tool6_y</th>\n      <th>data.frame0.T2_tool1_x</th>\n      <th>data.frame0.T2_tool1_y</th>\n      <th>data.frame0.T2_tool0_x</th>\n      <th>data.frame0.T2_tool0_y</th>\n      <th>data.frame0.T2_tool2_x</th>\n      <th>data.frame0.T2_tool2_y</th>\n      <th>data.frame0.T2_tool3_x</th>\n      <th>data.frame0.T2_tool3_y</th>\n      <th>image_name</th>\n    </tr>\n  </thead>\n  <tbody>\n    <tr>\n      <th>0</th>\n      <td>393742576</td>\n      <td>AmyMacLeod</td>\n      <td>1443210.0</td>\n      <td>20600</td>\n      <td>T4</td>\n      <td>2022-02-01 00:09:54 UTC</td>\n      <td>72335168</td>\n      <td>point_extractor_by_frame</td>\n      <td>4.1.0</td>\n      <td>[1481.24658203125, 64.83441925048828, 152.1798...</td>\n      <td>...</td>\n      <td>NaN</td>\n      <td>NaN</td>\n      <td>NaN</td>\n      <td>NaN</td>\n      <td>NaN</td>\n      <td>NaN</td>\n      <td>NaN</td>\n      <td>NaN</td>\n      <td>NaN</td>\n      <td>EIG05-2_55.jpg</td>\n    </tr>\n    <tr>\n      <th>1</th>\n      <td>394132937</td>\n      <td>laswett</td>\n      <td>2309767.0</td>\n      <td>20600</td>\n      <td>T2</td>\n      <td>2022-02-02 19:19:04 UTC</td>\n      <td>72335168</td>\n      <td>point_extractor_by_frame</td>\n      <td>4.1.0</td>\n      <td>NaN</td>\n      <td>...</td>\n      <td>NaN</td>\n      <td>NaN</td>\n      <td>NaN</td>\n      <td>NaN</td>\n      <td>NaN</td>\n      <td>NaN</td>\n      <td>NaN</td>\n      <td>NaN</td>\n      <td>NaN</td>\n      <td>EIG05-2_55.jpg</td>\n    </tr>\n    <tr>\n      <th>2</th>\n      <td>394132937</td>\n      <td>laswett</td>\n      <td>2309767.0</td>\n      <td>20600</td>\n      <td>T4</td>\n      <td>2022-02-02 19:19:04 UTC</td>\n      <td>72335168</td>\n      <td>point_extractor_by_frame</td>\n      <td>4.1.0</td>\n      <td>[1474.2442626953125, 144.0193634033203, 12.096...</td>\n      <td>...</td>\n      <td>NaN</td>\n      <td>NaN</td>\n      <td>NaN</td>\n      <td>NaN</td>\n      <td>NaN</td>\n      <td>NaN</td>\n      <td>NaN</td>\n      <td>NaN</td>\n      <td>NaN</td>\n      <td>EIG05-2_55.jpg</td>\n    </tr>\n    <tr>\n      <th>3</th>\n      <td>394221102</td>\n      <td>colarsoledad</td>\n      <td>2360454.0</td>\n      <td>20600</td>\n      <td>T2</td>\n      <td>2022-02-03 03:24:54 UTC</td>\n      <td>72335168</td>\n      <td>point_extractor_by_frame</td>\n      <td>4.1.0</td>\n      <td>NaN</td>\n      <td>...</td>\n      <td>NaN</td>\n      <td>NaN</td>\n      <td>NaN</td>\n      <td>NaN</td>\n      <td>NaN</td>\n      <td>NaN</td>\n      <td>NaN</td>\n      <td>NaN</td>\n      <td>NaN</td>\n      <td>EIG05-2_55.jpg</td>\n    </tr>\n    <tr>\n      <th>4</th>\n      <td>394221102</td>\n      <td>colarsoledad</td>\n      <td>2360454.0</td>\n      <td>20600</td>\n      <td>T4</td>\n      <td>2022-02-03 03:24:54 UTC</td>\n      <td>72335168</td>\n      <td>point_extractor_by_frame</td>\n      <td>4.1.0</td>\n      <td>[1474.424560546875, 146.7071990966797, 12.0523...</td>\n      <td>...</td>\n      <td>NaN</td>\n      <td>NaN</td>\n      <td>NaN</td>\n      <td>NaN</td>\n      <td>NaN</td>\n      <td>NaN</td>\n      <td>NaN</td>\n      <td>NaN</td>\n      <td>NaN</td>\n      <td>EIG05-2_55.jpg</td>\n    </tr>\n    <tr>\n      <th>...</th>\n      <td>...</td>\n      <td>...</td>\n      <td>...</td>\n      <td>...</td>\n      <td>...</td>\n      <td>...</td>\n      <td>...</td>\n      <td>...</td>\n      <td>...</td>\n      <td>...</td>\n      <td>...</td>\n      <td>...</td>\n      <td>...</td>\n      <td>...</td>\n      <td>...</td>\n      <td>...</td>\n      <td>...</td>\n      <td>...</td>\n      <td>...</td>\n      <td>...</td>\n      <td>...</td>\n    </tr>\n    <tr>\n      <th>431770</th>\n      <td>403414441</td>\n      <td>Fire_seeker</td>\n      <td>2439780.0</td>\n      <td>20600</td>\n      <td>T4</td>\n      <td>2022-03-18 13:15:20 UTC</td>\n      <td>72339681</td>\n      <td>point_extractor_by_frame</td>\n      <td>4.1.0</td>\n      <td>NaN</td>\n      <td>...</td>\n      <td>NaN</td>\n      <td>NaN</td>\n      <td>NaN</td>\n      <td>NaN</td>\n      <td>NaN</td>\n      <td>NaN</td>\n      <td>NaN</td>\n      <td>NaN</td>\n      <td>NaN</td>\n      <td>FPA04_31.jpg</td>\n    </tr>\n    <tr>\n      <th>431771</th>\n      <td>403489002</td>\n      <td>Mary1863</td>\n      <td>1760559.0</td>\n      <td>20600</td>\n      <td>T2</td>\n      <td>2022-03-18 20:13:31 UTC</td>\n      <td>72339681</td>\n      <td>point_extractor_by_frame</td>\n      <td>4.1.0</td>\n      <td>NaN</td>\n      <td>...</td>\n      <td>NaN</td>\n      <td>NaN</td>\n      <td>NaN</td>\n      <td>NaN</td>\n      <td>NaN</td>\n      <td>NaN</td>\n      <td>NaN</td>\n      <td>NaN</td>\n      <td>NaN</td>\n      <td>FPA04_31.jpg</td>\n    </tr>\n    <tr>\n      <th>431772</th>\n      <td>403489002</td>\n      <td>Mary1863</td>\n      <td>1760559.0</td>\n      <td>20600</td>\n      <td>T4</td>\n      <td>2022-03-18 20:13:31 UTC</td>\n      <td>72339681</td>\n      <td>point_extractor_by_frame</td>\n      <td>4.1.0</td>\n      <td>NaN</td>\n      <td>...</td>\n      <td>NaN</td>\n      <td>NaN</td>\n      <td>NaN</td>\n      <td>NaN</td>\n      <td>NaN</td>\n      <td>NaN</td>\n      <td>NaN</td>\n      <td>NaN</td>\n      <td>NaN</td>\n      <td>FPA04_31.jpg</td>\n    </tr>\n    <tr>\n      <th>431773</th>\n      <td>403749038</td>\n      <td>databanana</td>\n      <td>1682891.0</td>\n      <td>20600</td>\n      <td>T2</td>\n      <td>2022-03-20 11:31:17 UTC</td>\n      <td>72339681</td>\n      <td>point_extractor_by_frame</td>\n      <td>4.1.0</td>\n      <td>NaN</td>\n      <td>...</td>\n      <td>NaN</td>\n      <td>NaN</td>\n      <td>NaN</td>\n      <td>NaN</td>\n      <td>NaN</td>\n      <td>NaN</td>\n      <td>NaN</td>\n      <td>NaN</td>\n      <td>NaN</td>\n      <td>FPA04_31.jpg</td>\n    </tr>\n    <tr>\n      <th>431774</th>\n      <td>403749038</td>\n      <td>databanana</td>\n      <td>1682891.0</td>\n      <td>20600</td>\n      <td>T4</td>\n      <td>2022-03-20 11:31:17 UTC</td>\n      <td>72339681</td>\n      <td>point_extractor_by_frame</td>\n      <td>4.1.0</td>\n      <td>NaN</td>\n      <td>...</td>\n      <td>NaN</td>\n      <td>NaN</td>\n      <td>NaN</td>\n      <td>NaN</td>\n      <td>NaN</td>\n      <td>NaN</td>\n      <td>NaN</td>\n      <td>NaN</td>\n      <td>NaN</td>\n      <td>FPA04_31.jpg</td>\n    </tr>\n  </tbody>\n</table>\n<p>431775 rows × 34 columns</p>\n</div>"
     },
     "execution_count": 21,
     "metadata": {},
     "output_type": "execute_result"
    }
   ],
   "source": [
    "df_panotes_point_extractor = df_panotes_point_extractor.merge(df_subjects[[\"subject_id\", \"image_name\"]], left_on=\"subject_id\", right_on=\"subject_id\")\n",
    "df_panotes_point_extractor"
   ],
   "metadata": {
    "collapsed": false,
    "ExecuteTime": {
     "end_time": "2024-04-10T13:06:21.695818Z",
     "start_time": "2024-04-10T13:06:20.945188Z"
    }
   },
   "id": "a1e2e015fdba1cb",
   "execution_count": 21
  },
  {
   "cell_type": "code",
   "outputs": [],
   "source": [
    "## Anonymise the data"
   ],
   "metadata": {
    "collapsed": false,
    "ExecuteTime": {
     "end_time": "2024-04-10T13:06:22.374048Z",
     "start_time": "2024-04-10T13:06:22.371830Z"
    }
   },
   "id": "3124edcb4cb91425",
   "execution_count": 22
  },
  {
   "cell_type": "code",
   "outputs": [],
   "source": [
    "from hashlib import blake2b\n",
    "\n",
    "df_panotes_point_extractor[\"user_id\"] = df_panotes_point_extractor['user_id'].apply(lambda x: blake2b(str(x).encode(), digest_size=16).hexdigest() if not pd.isnull(x) else x)\n",
    "# Anonymize 'user_name' by hashing\n",
    "df_panotes_point_extractor['user_name'] = df_panotes_point_extractor['user_name'].apply(lambda x: blake2b(x.encode(), digest_size=16).hexdigest() if isinstance(x, str) else x)\n",
    "\n",
    "df_panotes_question[\"user_id\"] = df_panotes_question['user_id'].apply(lambda x: blake2b(str(x).encode(), digest_size=16).hexdigest() if not pd.isnull(x) else x)\n",
    "# Anonymize 'user_name' by hashing\n",
    "df_panotes_question['user_name'] = df_panotes_question['user_name'].apply(lambda x: blake2b(x.encode(), digest_size=16).hexdigest() if isinstance(x, str) else x)"
   ],
   "metadata": {
    "collapsed": false,
    "ExecuteTime": {
     "end_time": "2024-04-10T13:06:24.693689Z",
     "start_time": "2024-04-10T13:06:23.855362Z"
    }
   },
   "id": "7053c0a8476989c3",
   "execution_count": 23
  },
  {
   "cell_type": "code",
   "outputs": [
    {
     "data": {
      "text/plain": "        classification_id                         user_name  \\\n0               393742576  19835766ecbb50ec6fbe68caa85e4c63   \n1               394132937  691500ccebe2131f83809524df652f87   \n2               394132937  691500ccebe2131f83809524df652f87   \n3               394221102  07452636222fb135e92fd5bedbecd18c   \n4               394221102  07452636222fb135e92fd5bedbecd18c   \n...                   ...                               ...   \n431770          403414441  54ae6fcd86ece9f2ddceb66b12764b08   \n431771          403489002  0a044a95880379be03b7f5800b7716b9   \n431772          403489002  0a044a95880379be03b7f5800b7716b9   \n431773          403749038  74a407ea10c24ff0e2c30672740b06d1   \n431774          403749038  74a407ea10c24ff0e2c30672740b06d1   \n\n                                 user_id  workflow_id task  \\\n0       8bfe78a8dc879fc7aabe1ff94a42d74f        20600   T4   \n1       c11a32c827347926881e5e1db75cb701        20600   T2   \n2       c11a32c827347926881e5e1db75cb701        20600   T4   \n3       1dcb5107d19f3fa3d0d40eb4fa5a32ac        20600   T2   \n4       1dcb5107d19f3fa3d0d40eb4fa5a32ac        20600   T4   \n...                                  ...          ...  ...   \n431770  181ab00d3414bff0e41fbdb9379795e1        20600   T4   \n431771  1fd5c346537644c93a0b7d87c436545b        20600   T2   \n431772  1fd5c346537644c93a0b7d87c436545b        20600   T4   \n431773  e420d35a1ea646006eea5b67a80ae4c4        20600   T2   \n431774  e420d35a1ea646006eea5b67a80ae4c4        20600   T4   \n\n                     created_at  subject_id                 extractor  \\\n0       2022-02-01 00:09:54 UTC    72335168  point_extractor_by_frame   \n1       2022-02-02 19:19:04 UTC    72335168  point_extractor_by_frame   \n2       2022-02-02 19:19:04 UTC    72335168  point_extractor_by_frame   \n3       2022-02-03 03:24:54 UTC    72335168  point_extractor_by_frame   \n4       2022-02-03 03:24:54 UTC    72335168  point_extractor_by_frame   \n...                         ...         ...                       ...   \n431770  2022-03-18 13:15:20 UTC    72339681  point_extractor_by_frame   \n431771  2022-03-18 20:13:31 UTC    72339681  point_extractor_by_frame   \n431772  2022-03-18 20:13:31 UTC    72339681  point_extractor_by_frame   \n431773  2022-03-20 11:31:17 UTC    72339681  point_extractor_by_frame   \n431774  2022-03-20 11:31:17 UTC    72339681  point_extractor_by_frame   \n\n       data.aggregation_version  \\\n0                         4.1.0   \n1                         4.1.0   \n2                         4.1.0   \n3                         4.1.0   \n4                         4.1.0   \n...                         ...   \n431770                    4.1.0   \n431771                    4.1.0   \n431772                    4.1.0   \n431773                    4.1.0   \n431774                    4.1.0   \n\n                                   data.frame0.T4_tool0_x  ...  \\\n0       [1481.24658203125, 64.83441925048828, 152.1798...  ...   \n1                                                     NaN  ...   \n2       [1474.2442626953125, 144.0193634033203, 12.096...  ...   \n3                                                     NaN  ...   \n4       [1474.424560546875, 146.7071990966797, 12.0523...  ...   \n...                                                   ...  ...   \n431770                                                NaN  ...   \n431771                                                NaN  ...   \n431772                                                NaN  ...   \n431773                                                NaN  ...   \n431774                                                NaN  ...   \n\n       data.frame0.T4_tool6_y data.frame0.T2_tool1_x data.frame0.T2_tool1_y  \\\n0                         NaN                    NaN                    NaN   \n1                         NaN                    NaN                    NaN   \n2                         NaN                    NaN                    NaN   \n3                         NaN                    NaN                    NaN   \n4                         NaN                    NaN                    NaN   \n...                       ...                    ...                    ...   \n431770                    NaN                    NaN                    NaN   \n431771                    NaN                    NaN                    NaN   \n431772                    NaN                    NaN                    NaN   \n431773                    NaN                    NaN                    NaN   \n431774                    NaN                    NaN                    NaN   \n\n       data.frame0.T2_tool0_x data.frame0.T2_tool0_y data.frame0.T2_tool2_x  \\\n0                         NaN                    NaN                    NaN   \n1                         NaN                    NaN                    NaN   \n2                         NaN                    NaN                    NaN   \n3                         NaN                    NaN                    NaN   \n4                         NaN                    NaN                    NaN   \n...                       ...                    ...                    ...   \n431770                    NaN                    NaN                    NaN   \n431771                    NaN                    NaN                    NaN   \n431772                    NaN                    NaN                    NaN   \n431773                    NaN                    NaN                    NaN   \n431774                    NaN                    NaN                    NaN   \n\n       data.frame0.T2_tool2_y data.frame0.T2_tool3_x data.frame0.T2_tool3_y  \\\n0                         NaN                    NaN                    NaN   \n1                         NaN                    NaN                    NaN   \n2                         NaN                    NaN                    NaN   \n3                         NaN                    NaN                    NaN   \n4                         NaN                    NaN                    NaN   \n...                       ...                    ...                    ...   \n431770                    NaN                    NaN                    NaN   \n431771                    NaN                    NaN                    NaN   \n431772                    NaN                    NaN                    NaN   \n431773                    NaN                    NaN                    NaN   \n431774                    NaN                    NaN                    NaN   \n\n            image_name  \n0       EIG05-2_55.jpg  \n1       EIG05-2_55.jpg  \n2       EIG05-2_55.jpg  \n3       EIG05-2_55.jpg  \n4       EIG05-2_55.jpg  \n...                ...  \n431770    FPA04_31.jpg  \n431771    FPA04_31.jpg  \n431772    FPA04_31.jpg  \n431773    FPA04_31.jpg  \n431774    FPA04_31.jpg  \n\n[431775 rows x 34 columns]",
      "text/html": "<div>\n<style scoped>\n    .dataframe tbody tr th:only-of-type {\n        vertical-align: middle;\n    }\n\n    .dataframe tbody tr th {\n        vertical-align: top;\n    }\n\n    .dataframe thead th {\n        text-align: right;\n    }\n</style>\n<table border=\"1\" class=\"dataframe\">\n  <thead>\n    <tr style=\"text-align: right;\">\n      <th></th>\n      <th>classification_id</th>\n      <th>user_name</th>\n      <th>user_id</th>\n      <th>workflow_id</th>\n      <th>task</th>\n      <th>created_at</th>\n      <th>subject_id</th>\n      <th>extractor</th>\n      <th>data.aggregation_version</th>\n      <th>data.frame0.T4_tool0_x</th>\n      <th>...</th>\n      <th>data.frame0.T4_tool6_y</th>\n      <th>data.frame0.T2_tool1_x</th>\n      <th>data.frame0.T2_tool1_y</th>\n      <th>data.frame0.T2_tool0_x</th>\n      <th>data.frame0.T2_tool0_y</th>\n      <th>data.frame0.T2_tool2_x</th>\n      <th>data.frame0.T2_tool2_y</th>\n      <th>data.frame0.T2_tool3_x</th>\n      <th>data.frame0.T2_tool3_y</th>\n      <th>image_name</th>\n    </tr>\n  </thead>\n  <tbody>\n    <tr>\n      <th>0</th>\n      <td>393742576</td>\n      <td>19835766ecbb50ec6fbe68caa85e4c63</td>\n      <td>8bfe78a8dc879fc7aabe1ff94a42d74f</td>\n      <td>20600</td>\n      <td>T4</td>\n      <td>2022-02-01 00:09:54 UTC</td>\n      <td>72335168</td>\n      <td>point_extractor_by_frame</td>\n      <td>4.1.0</td>\n      <td>[1481.24658203125, 64.83441925048828, 152.1798...</td>\n      <td>...</td>\n      <td>NaN</td>\n      <td>NaN</td>\n      <td>NaN</td>\n      <td>NaN</td>\n      <td>NaN</td>\n      <td>NaN</td>\n      <td>NaN</td>\n      <td>NaN</td>\n      <td>NaN</td>\n      <td>EIG05-2_55.jpg</td>\n    </tr>\n    <tr>\n      <th>1</th>\n      <td>394132937</td>\n      <td>691500ccebe2131f83809524df652f87</td>\n      <td>c11a32c827347926881e5e1db75cb701</td>\n      <td>20600</td>\n      <td>T2</td>\n      <td>2022-02-02 19:19:04 UTC</td>\n      <td>72335168</td>\n      <td>point_extractor_by_frame</td>\n      <td>4.1.0</td>\n      <td>NaN</td>\n      <td>...</td>\n      <td>NaN</td>\n      <td>NaN</td>\n      <td>NaN</td>\n      <td>NaN</td>\n      <td>NaN</td>\n      <td>NaN</td>\n      <td>NaN</td>\n      <td>NaN</td>\n      <td>NaN</td>\n      <td>EIG05-2_55.jpg</td>\n    </tr>\n    <tr>\n      <th>2</th>\n      <td>394132937</td>\n      <td>691500ccebe2131f83809524df652f87</td>\n      <td>c11a32c827347926881e5e1db75cb701</td>\n      <td>20600</td>\n      <td>T4</td>\n      <td>2022-02-02 19:19:04 UTC</td>\n      <td>72335168</td>\n      <td>point_extractor_by_frame</td>\n      <td>4.1.0</td>\n      <td>[1474.2442626953125, 144.0193634033203, 12.096...</td>\n      <td>...</td>\n      <td>NaN</td>\n      <td>NaN</td>\n      <td>NaN</td>\n      <td>NaN</td>\n      <td>NaN</td>\n      <td>NaN</td>\n      <td>NaN</td>\n      <td>NaN</td>\n      <td>NaN</td>\n      <td>EIG05-2_55.jpg</td>\n    </tr>\n    <tr>\n      <th>3</th>\n      <td>394221102</td>\n      <td>07452636222fb135e92fd5bedbecd18c</td>\n      <td>1dcb5107d19f3fa3d0d40eb4fa5a32ac</td>\n      <td>20600</td>\n      <td>T2</td>\n      <td>2022-02-03 03:24:54 UTC</td>\n      <td>72335168</td>\n      <td>point_extractor_by_frame</td>\n      <td>4.1.0</td>\n      <td>NaN</td>\n      <td>...</td>\n      <td>NaN</td>\n      <td>NaN</td>\n      <td>NaN</td>\n      <td>NaN</td>\n      <td>NaN</td>\n      <td>NaN</td>\n      <td>NaN</td>\n      <td>NaN</td>\n      <td>NaN</td>\n      <td>EIG05-2_55.jpg</td>\n    </tr>\n    <tr>\n      <th>4</th>\n      <td>394221102</td>\n      <td>07452636222fb135e92fd5bedbecd18c</td>\n      <td>1dcb5107d19f3fa3d0d40eb4fa5a32ac</td>\n      <td>20600</td>\n      <td>T4</td>\n      <td>2022-02-03 03:24:54 UTC</td>\n      <td>72335168</td>\n      <td>point_extractor_by_frame</td>\n      <td>4.1.0</td>\n      <td>[1474.424560546875, 146.7071990966797, 12.0523...</td>\n      <td>...</td>\n      <td>NaN</td>\n      <td>NaN</td>\n      <td>NaN</td>\n      <td>NaN</td>\n      <td>NaN</td>\n      <td>NaN</td>\n      <td>NaN</td>\n      <td>NaN</td>\n      <td>NaN</td>\n      <td>EIG05-2_55.jpg</td>\n    </tr>\n    <tr>\n      <th>...</th>\n      <td>...</td>\n      <td>...</td>\n      <td>...</td>\n      <td>...</td>\n      <td>...</td>\n      <td>...</td>\n      <td>...</td>\n      <td>...</td>\n      <td>...</td>\n      <td>...</td>\n      <td>...</td>\n      <td>...</td>\n      <td>...</td>\n      <td>...</td>\n      <td>...</td>\n      <td>...</td>\n      <td>...</td>\n      <td>...</td>\n      <td>...</td>\n      <td>...</td>\n      <td>...</td>\n    </tr>\n    <tr>\n      <th>431770</th>\n      <td>403414441</td>\n      <td>54ae6fcd86ece9f2ddceb66b12764b08</td>\n      <td>181ab00d3414bff0e41fbdb9379795e1</td>\n      <td>20600</td>\n      <td>T4</td>\n      <td>2022-03-18 13:15:20 UTC</td>\n      <td>72339681</td>\n      <td>point_extractor_by_frame</td>\n      <td>4.1.0</td>\n      <td>NaN</td>\n      <td>...</td>\n      <td>NaN</td>\n      <td>NaN</td>\n      <td>NaN</td>\n      <td>NaN</td>\n      <td>NaN</td>\n      <td>NaN</td>\n      <td>NaN</td>\n      <td>NaN</td>\n      <td>NaN</td>\n      <td>FPA04_31.jpg</td>\n    </tr>\n    <tr>\n      <th>431771</th>\n      <td>403489002</td>\n      <td>0a044a95880379be03b7f5800b7716b9</td>\n      <td>1fd5c346537644c93a0b7d87c436545b</td>\n      <td>20600</td>\n      <td>T2</td>\n      <td>2022-03-18 20:13:31 UTC</td>\n      <td>72339681</td>\n      <td>point_extractor_by_frame</td>\n      <td>4.1.0</td>\n      <td>NaN</td>\n      <td>...</td>\n      <td>NaN</td>\n      <td>NaN</td>\n      <td>NaN</td>\n      <td>NaN</td>\n      <td>NaN</td>\n      <td>NaN</td>\n      <td>NaN</td>\n      <td>NaN</td>\n      <td>NaN</td>\n      <td>FPA04_31.jpg</td>\n    </tr>\n    <tr>\n      <th>431772</th>\n      <td>403489002</td>\n      <td>0a044a95880379be03b7f5800b7716b9</td>\n      <td>1fd5c346537644c93a0b7d87c436545b</td>\n      <td>20600</td>\n      <td>T4</td>\n      <td>2022-03-18 20:13:31 UTC</td>\n      <td>72339681</td>\n      <td>point_extractor_by_frame</td>\n      <td>4.1.0</td>\n      <td>NaN</td>\n      <td>...</td>\n      <td>NaN</td>\n      <td>NaN</td>\n      <td>NaN</td>\n      <td>NaN</td>\n      <td>NaN</td>\n      <td>NaN</td>\n      <td>NaN</td>\n      <td>NaN</td>\n      <td>NaN</td>\n      <td>FPA04_31.jpg</td>\n    </tr>\n    <tr>\n      <th>431773</th>\n      <td>403749038</td>\n      <td>74a407ea10c24ff0e2c30672740b06d1</td>\n      <td>e420d35a1ea646006eea5b67a80ae4c4</td>\n      <td>20600</td>\n      <td>T2</td>\n      <td>2022-03-20 11:31:17 UTC</td>\n      <td>72339681</td>\n      <td>point_extractor_by_frame</td>\n      <td>4.1.0</td>\n      <td>NaN</td>\n      <td>...</td>\n      <td>NaN</td>\n      <td>NaN</td>\n      <td>NaN</td>\n      <td>NaN</td>\n      <td>NaN</td>\n      <td>NaN</td>\n      <td>NaN</td>\n      <td>NaN</td>\n      <td>NaN</td>\n      <td>FPA04_31.jpg</td>\n    </tr>\n    <tr>\n      <th>431774</th>\n      <td>403749038</td>\n      <td>74a407ea10c24ff0e2c30672740b06d1</td>\n      <td>e420d35a1ea646006eea5b67a80ae4c4</td>\n      <td>20600</td>\n      <td>T4</td>\n      <td>2022-03-20 11:31:17 UTC</td>\n      <td>72339681</td>\n      <td>point_extractor_by_frame</td>\n      <td>4.1.0</td>\n      <td>NaN</td>\n      <td>...</td>\n      <td>NaN</td>\n      <td>NaN</td>\n      <td>NaN</td>\n      <td>NaN</td>\n      <td>NaN</td>\n      <td>NaN</td>\n      <td>NaN</td>\n      <td>NaN</td>\n      <td>NaN</td>\n      <td>FPA04_31.jpg</td>\n    </tr>\n  </tbody>\n</table>\n<p>431775 rows × 34 columns</p>\n</div>"
     },
     "execution_count": 24,
     "metadata": {},
     "output_type": "execute_result"
    }
   ],
   "source": [
    "# TODO check if that doesn ruin the data\n",
    "df_panotes_point_extractor"
   ],
   "metadata": {
    "collapsed": false,
    "ExecuteTime": {
     "end_time": "2024-04-10T13:06:25.207562Z",
     "start_time": "2024-04-10T13:06:24.695111Z"
    }
   },
   "id": "672c51cc23c3b710",
   "execution_count": 24
  },
  {
   "cell_type": "code",
   "execution_count": 25,
   "id": "51a67a69fc8b084",
   "metadata": {
    "collapsed": false,
    "ExecuteTime": {
     "end_time": "2024-04-10T13:06:25.217125Z",
     "start_time": "2024-04-10T13:06:25.209160Z"
    }
   },
   "outputs": [
    {
     "data": {
      "text/plain": "       classification_id                         user_name  \\\n0              393742576  19835766ecbb50ec6fbe68caa85e4c63   \n1              393742638  19835766ecbb50ec6fbe68caa85e4c63   \n2              393742678  19835766ecbb50ec6fbe68caa85e4c63   \n3              393743049  19835766ecbb50ec6fbe68caa85e4c63   \n4              393768668  dc0ea5c32da0e322969ff6e6aa76ca5f   \n...                  ...                               ...   \n88313          412711106  d607a725449d5e3a2deaba5014fce17d   \n88314          412711577  d607a725449d5e3a2deaba5014fce17d   \n88315          412711830  d607a725449d5e3a2deaba5014fce17d   \n88316          412712258  d607a725449d5e3a2deaba5014fce17d   \n88317          456473615  593e39ba4a91fa148be4e9266517e294   \n\n                                user_id  workflow_id task  \\\n0      8bfe78a8dc879fc7aabe1ff94a42d74f        20600   T0   \n1      8bfe78a8dc879fc7aabe1ff94a42d74f        20600   T0   \n2      8bfe78a8dc879fc7aabe1ff94a42d74f        20600   T0   \n3      8bfe78a8dc879fc7aabe1ff94a42d74f        20600   T0   \n4                                   NaN        20600   T0   \n...                                 ...          ...  ...   \n88313  dabdbb41b2897bd5fdef6dc4ca74584b        20600   T0   \n88314  dabdbb41b2897bd5fdef6dc4ca74584b        20600   T0   \n88315  dabdbb41b2897bd5fdef6dc4ca74584b        20600   T0   \n88316  dabdbb41b2897bd5fdef6dc4ca74584b        20600   T0   \n88317  8a13edc73fdcc9b95c7216e7e8e75463        20600   T0   \n\n                    created_at  subject_id           extractor  data.no  \\\n0      2022-02-01 00:09:54 UTC    72335168  question_extractor      1.0   \n1      2022-02-01 00:10:20 UTC    72334984  question_extractor      1.0   \n2      2022-02-01 00:10:33 UTC    72340244  question_extractor      1.0   \n3      2022-02-01 00:12:15 UTC    72336318  question_extractor      NaN   \n4      2022-02-01 03:12:48 UTC    72372999  question_extractor      NaN   \n...                        ...         ...                 ...      ...   \n88313  2022-05-03 07:02:18 UTC    72333409  question_extractor      1.0   \n88314  2022-05-03 07:06:48 UTC    72333423  question_extractor      1.0   \n88315  2022-05-03 07:08:50 UTC    72333494  question_extractor      1.0   \n88316  2022-05-03 07:12:18 UTC    72333471  question_extractor      1.0   \n88317  2022-12-13 01:27:15 UTC    72341496  question_extractor      1.0   \n\n      data.aggregation_version  data.yes  \n0                        4.1.0       NaN  \n1                        4.1.0       NaN  \n2                        4.1.0       NaN  \n3                        4.1.0       1.0  \n4                        4.1.0       1.0  \n...                        ...       ...  \n88313                    4.1.0       NaN  \n88314                    4.1.0       NaN  \n88315                    4.1.0       NaN  \n88316                    4.1.0       NaN  \n88317                    4.1.0       NaN  \n\n[196657 rows x 11 columns]",
      "text/html": "<div>\n<style scoped>\n    .dataframe tbody tr th:only-of-type {\n        vertical-align: middle;\n    }\n\n    .dataframe tbody tr th {\n        vertical-align: top;\n    }\n\n    .dataframe thead th {\n        text-align: right;\n    }\n</style>\n<table border=\"1\" class=\"dataframe\">\n  <thead>\n    <tr style=\"text-align: right;\">\n      <th></th>\n      <th>classification_id</th>\n      <th>user_name</th>\n      <th>user_id</th>\n      <th>workflow_id</th>\n      <th>task</th>\n      <th>created_at</th>\n      <th>subject_id</th>\n      <th>extractor</th>\n      <th>data.no</th>\n      <th>data.aggregation_version</th>\n      <th>data.yes</th>\n    </tr>\n  </thead>\n  <tbody>\n    <tr>\n      <th>0</th>\n      <td>393742576</td>\n      <td>19835766ecbb50ec6fbe68caa85e4c63</td>\n      <td>8bfe78a8dc879fc7aabe1ff94a42d74f</td>\n      <td>20600</td>\n      <td>T0</td>\n      <td>2022-02-01 00:09:54 UTC</td>\n      <td>72335168</td>\n      <td>question_extractor</td>\n      <td>1.0</td>\n      <td>4.1.0</td>\n      <td>NaN</td>\n    </tr>\n    <tr>\n      <th>1</th>\n      <td>393742638</td>\n      <td>19835766ecbb50ec6fbe68caa85e4c63</td>\n      <td>8bfe78a8dc879fc7aabe1ff94a42d74f</td>\n      <td>20600</td>\n      <td>T0</td>\n      <td>2022-02-01 00:10:20 UTC</td>\n      <td>72334984</td>\n      <td>question_extractor</td>\n      <td>1.0</td>\n      <td>4.1.0</td>\n      <td>NaN</td>\n    </tr>\n    <tr>\n      <th>2</th>\n      <td>393742678</td>\n      <td>19835766ecbb50ec6fbe68caa85e4c63</td>\n      <td>8bfe78a8dc879fc7aabe1ff94a42d74f</td>\n      <td>20600</td>\n      <td>T0</td>\n      <td>2022-02-01 00:10:33 UTC</td>\n      <td>72340244</td>\n      <td>question_extractor</td>\n      <td>1.0</td>\n      <td>4.1.0</td>\n      <td>NaN</td>\n    </tr>\n    <tr>\n      <th>3</th>\n      <td>393743049</td>\n      <td>19835766ecbb50ec6fbe68caa85e4c63</td>\n      <td>8bfe78a8dc879fc7aabe1ff94a42d74f</td>\n      <td>20600</td>\n      <td>T0</td>\n      <td>2022-02-01 00:12:15 UTC</td>\n      <td>72336318</td>\n      <td>question_extractor</td>\n      <td>NaN</td>\n      <td>4.1.0</td>\n      <td>1.0</td>\n    </tr>\n    <tr>\n      <th>4</th>\n      <td>393768668</td>\n      <td>dc0ea5c32da0e322969ff6e6aa76ca5f</td>\n      <td>NaN</td>\n      <td>20600</td>\n      <td>T0</td>\n      <td>2022-02-01 03:12:48 UTC</td>\n      <td>72372999</td>\n      <td>question_extractor</td>\n      <td>NaN</td>\n      <td>4.1.0</td>\n      <td>1.0</td>\n    </tr>\n    <tr>\n      <th>...</th>\n      <td>...</td>\n      <td>...</td>\n      <td>...</td>\n      <td>...</td>\n      <td>...</td>\n      <td>...</td>\n      <td>...</td>\n      <td>...</td>\n      <td>...</td>\n      <td>...</td>\n      <td>...</td>\n    </tr>\n    <tr>\n      <th>88313</th>\n      <td>412711106</td>\n      <td>d607a725449d5e3a2deaba5014fce17d</td>\n      <td>dabdbb41b2897bd5fdef6dc4ca74584b</td>\n      <td>20600</td>\n      <td>T0</td>\n      <td>2022-05-03 07:02:18 UTC</td>\n      <td>72333409</td>\n      <td>question_extractor</td>\n      <td>1.0</td>\n      <td>4.1.0</td>\n      <td>NaN</td>\n    </tr>\n    <tr>\n      <th>88314</th>\n      <td>412711577</td>\n      <td>d607a725449d5e3a2deaba5014fce17d</td>\n      <td>dabdbb41b2897bd5fdef6dc4ca74584b</td>\n      <td>20600</td>\n      <td>T0</td>\n      <td>2022-05-03 07:06:48 UTC</td>\n      <td>72333423</td>\n      <td>question_extractor</td>\n      <td>1.0</td>\n      <td>4.1.0</td>\n      <td>NaN</td>\n    </tr>\n    <tr>\n      <th>88315</th>\n      <td>412711830</td>\n      <td>d607a725449d5e3a2deaba5014fce17d</td>\n      <td>dabdbb41b2897bd5fdef6dc4ca74584b</td>\n      <td>20600</td>\n      <td>T0</td>\n      <td>2022-05-03 07:08:50 UTC</td>\n      <td>72333494</td>\n      <td>question_extractor</td>\n      <td>1.0</td>\n      <td>4.1.0</td>\n      <td>NaN</td>\n    </tr>\n    <tr>\n      <th>88316</th>\n      <td>412712258</td>\n      <td>d607a725449d5e3a2deaba5014fce17d</td>\n      <td>dabdbb41b2897bd5fdef6dc4ca74584b</td>\n      <td>20600</td>\n      <td>T0</td>\n      <td>2022-05-03 07:12:18 UTC</td>\n      <td>72333471</td>\n      <td>question_extractor</td>\n      <td>1.0</td>\n      <td>4.1.0</td>\n      <td>NaN</td>\n    </tr>\n    <tr>\n      <th>88317</th>\n      <td>456473615</td>\n      <td>593e39ba4a91fa148be4e9266517e294</td>\n      <td>8a13edc73fdcc9b95c7216e7e8e75463</td>\n      <td>20600</td>\n      <td>T0</td>\n      <td>2022-12-13 01:27:15 UTC</td>\n      <td>72341496</td>\n      <td>question_extractor</td>\n      <td>1.0</td>\n      <td>4.1.0</td>\n      <td>NaN</td>\n    </tr>\n  </tbody>\n</table>\n<p>196657 rows × 11 columns</p>\n</div>"
     },
     "execution_count": 25,
     "metadata": {},
     "output_type": "execute_result"
    }
   ],
   "source": [
    "df_panotes_question"
   ]
  },
  {
   "cell_type": "code",
   "outputs": [],
   "source": [],
   "metadata": {
    "collapsed": false
   },
   "id": "eb0278706c18a98b",
   "execution_count": null
  },
  {
   "cell_type": "markdown",
   "source": [
    "# Debugging"
   ],
   "metadata": {
    "collapsed": false
   },
   "id": "9e8a51f65d5a984f"
  },
  {
   "cell_type": "code",
   "execution_count": null,
   "id": "37777b38694b06ae",
   "metadata": {
    "collapsed": false
   },
   "outputs": [],
   "source": [
    "### Looks the images in question\n",
    "\n",
    "subject_id_1 = 47968423 # median and mode 11, 11\n",
    "subject_id_2 = 47969478 # median and mode 4.5, 2\n",
    "df_panotes_point_extractor[(df_panotes_point_extractor.subject_id == subject_id_2)]"
   ]
  },
  {
   "cell_type": "code",
   "execution_count": null,
   "id": "d59534aeb8b8bdab",
   "metadata": {
    "collapsed": false
   },
   "outputs": [],
   "source": []
  },
  {
   "cell_type": "code",
   "execution_count": 26,
   "id": "3ed3cb8b4acbfa4f",
   "metadata": {
    "collapsed": false,
    "ExecuteTime": {
     "end_time": "2024-04-10T13:10:09.454223Z",
     "start_time": "2024-04-10T13:10:09.375024Z"
    }
   },
   "outputs": [
    {
     "data": {
      "text/plain": "Index(['classification_id', 'user_name', 'user_id', 'workflow_id', 'task',\n       'created_at', 'subject_id', 'extractor', 'data.aggregation_version',\n       'data.frame0.T4_tool0_x', 'data.frame0.T4_tool0_y',\n       'data.frame0.T4_tool2_x', 'data.frame0.T4_tool2_y',\n       'data.frame0.T4_tool3_x', 'data.frame0.T4_tool3_y',\n       'data.frame0.T4_tool1_x', 'data.frame0.T4_tool1_y',\n       'data.frame0.T4_tool4_x', 'data.frame0.T4_tool4_y',\n       'data.frame0.T4_tool5_x', 'data.frame0.T4_tool5_y',\n       'data.frame0.T4_tool7_x', 'data.frame0.T4_tool7_y',\n       'data.frame0.T4_tool6_x', 'data.frame0.T4_tool6_y',\n       'data.frame0.T2_tool1_x', 'data.frame0.T2_tool1_y',\n       'data.frame0.T2_tool0_x', 'data.frame0.T2_tool0_y',\n       'data.frame0.T2_tool2_x', 'data.frame0.T2_tool2_y',\n       'data.frame0.T2_tool3_x', 'data.frame0.T2_tool3_y', 'image_name'],\n      dtype='object')"
     },
     "execution_count": 26,
     "metadata": {},
     "output_type": "execute_result"
    }
   ],
   "source": [
    "df_panotes_point_extractor_r = df_panotes_point_extractor[\n",
    "    # (df_panotes_point_extractor.subject_id == subject_id_2) &  # filter for this subject_id only\n",
    "    (df_panotes_point_extractor.task == \"T2\")\n",
    "    # & (df_panotes_point_extractor.user_name == \"jickjack\")\n",
    "]\n",
    "df_panotes_point_extractor_r.columns"
   ]
  },
  {
   "cell_type": "markdown",
   "id": "1904d722c784ea8d",
   "metadata": {
    "collapsed": false
   },
   "source": [
    "### Which is tool is which now??\n",
    "There these tools \n",
    "- data.frame0.T2_tool0_x \n",
    "- data.frame0.T2_tool1_x \n",
    "- data.frame0.T2_tool2_x\n",
    "- data.frame0.T2_tool3_x\n",
    "- data.frame0.T2_tool4_x\n",
    "\n",
    "Those reflect the tools in the point_extractor_by_frame Extractor_config_workflow_14370_V134.236.yaml\n",
    "and probably belong to the classification (in that order, from the lab page) \n",
    "- Adult Male in a lek\n",
    "- Adult Male alone\n",
    "- Others (females, young males, juveniles)\n",
    "- Partial iguana\n",
    "- Could be an iguana, not sure\n",
    "\n",
    "Is \"Could be an iguana, not sure\" included in the study?\n"
   ]
  },
  {
   "cell_type": "code",
   "execution_count": 27,
   "id": "895d1e319dc99c4a",
   "metadata": {
    "collapsed": false,
    "ExecuteTime": {
     "end_time": "2024-04-10T13:10:45.191731Z",
     "start_time": "2024-04-10T13:10:43.707354Z"
    }
   },
   "outputs": [
    {
     "name": "stderr",
     "output_type": "stream",
     "text": [
      "/var/folders/2k/78nn7s4548986wsjh29rhj9w0000gn/T/ipykernel_24529/190879302.py:11: SettingWithCopyWarning: \n",
      "A value is trying to be set on a copy of a slice from a DataFrame.\n",
      "Try using .loc[row_indexer,col_indexer] = value instead\n",
      "\n",
      "See the caveats in the documentation: https://pandas.pydata.org/pandas-docs/stable/user_guide/indexing.html#returning-a-view-versus-a-copy\n",
      "  df_panotes_point_extractor_r[col] = df_panotes_point_extractor_r[col].apply(lambda x: literal_eval(x) if pd.notnull(x) else [])\n"
     ]
    },
    {
     "ename": "KeyError",
     "evalue": "'data.frame0.T2_tool4_x'",
     "output_type": "error",
     "traceback": [
      "\u001B[0;31m---------------------------------------------------------------------------\u001B[0m",
      "\u001B[0;31mKeyError\u001B[0m                                  Traceback (most recent call last)",
      "File \u001B[0;32m~/PycharmProjects/iguanas-from-above-zooniverse/venv/lib/python3.9/site-packages/pandas/core/indexes/base.py:3790\u001B[0m, in \u001B[0;36mIndex.get_loc\u001B[0;34m(self, key)\u001B[0m\n\u001B[1;32m   3789\u001B[0m \u001B[38;5;28;01mtry\u001B[39;00m:\n\u001B[0;32m-> 3790\u001B[0m     \u001B[38;5;28;01mreturn\u001B[39;00m \u001B[38;5;28;43mself\u001B[39;49m\u001B[38;5;241;43m.\u001B[39;49m\u001B[43m_engine\u001B[49m\u001B[38;5;241;43m.\u001B[39;49m\u001B[43mget_loc\u001B[49m\u001B[43m(\u001B[49m\u001B[43mcasted_key\u001B[49m\u001B[43m)\u001B[49m\n\u001B[1;32m   3791\u001B[0m \u001B[38;5;28;01mexcept\u001B[39;00m \u001B[38;5;167;01mKeyError\u001B[39;00m \u001B[38;5;28;01mas\u001B[39;00m err:\n",
      "File \u001B[0;32mindex.pyx:152\u001B[0m, in \u001B[0;36mpandas._libs.index.IndexEngine.get_loc\u001B[0;34m()\u001B[0m\n",
      "File \u001B[0;32mindex.pyx:181\u001B[0m, in \u001B[0;36mpandas._libs.index.IndexEngine.get_loc\u001B[0;34m()\u001B[0m\n",
      "File \u001B[0;32mpandas/_libs/hashtable_class_helper.pxi:7080\u001B[0m, in \u001B[0;36mpandas._libs.hashtable.PyObjectHashTable.get_item\u001B[0;34m()\u001B[0m\n",
      "File \u001B[0;32mpandas/_libs/hashtable_class_helper.pxi:7088\u001B[0m, in \u001B[0;36mpandas._libs.hashtable.PyObjectHashTable.get_item\u001B[0;34m()\u001B[0m\n",
      "\u001B[0;31mKeyError\u001B[0m: 'data.frame0.T2_tool4_x'",
      "\nThe above exception was the direct cause of the following exception:\n",
      "\u001B[0;31mKeyError\u001B[0m                                  Traceback (most recent call last)",
      "Cell \u001B[0;32mIn[27], line 11\u001B[0m\n\u001B[1;32m      7\u001B[0m \u001B[38;5;66;03m# for col in ['data.frame0.T2_tool0_x', 'data.frame0.T2_tool1_x', 'data.frame0.T2_tool2_x', 'data.frame0.T2_tool4_x',\u001B[39;00m\n\u001B[1;32m      8\u001B[0m \u001B[38;5;66;03m#             'data.frame0.T2_tool0_y', 'data.frame0.T2_tool1_y', 'data.frame0.T2_tool2_y', 'data.frame0.T2_tool4_y']:\u001B[39;00m\n\u001B[1;32m     10\u001B[0m \u001B[38;5;28;01mfor\u001B[39;00m col \u001B[38;5;129;01min\u001B[39;00m columns_keep_x \u001B[38;5;241m+\u001B[39m columns_keep_y:\n\u001B[0;32m---> 11\u001B[0m     df_panotes_point_extractor_r[col] \u001B[38;5;241m=\u001B[39m \u001B[43mdf_panotes_point_extractor_r\u001B[49m\u001B[43m[\u001B[49m\u001B[43mcol\u001B[49m\u001B[43m]\u001B[49m\u001B[38;5;241m.\u001B[39mapply(\u001B[38;5;28;01mlambda\u001B[39;00m x: literal_eval(x) \u001B[38;5;28;01mif\u001B[39;00m pd\u001B[38;5;241m.\u001B[39mnotnull(x) \u001B[38;5;28;01melse\u001B[39;00m [])\n\u001B[1;32m     13\u001B[0m \u001B[38;5;66;03m# Merge the lists in 'x' and 'y' coordinates\u001B[39;00m\n\u001B[1;32m     14\u001B[0m df_panotes_point_extractor_r[\u001B[38;5;124m'\u001B[39m\u001B[38;5;124mx\u001B[39m\u001B[38;5;124m'\u001B[39m] \u001B[38;5;241m=\u001B[39m df_panotes_point_extractor_r[columns_keep_x]\u001B[38;5;241m.\u001B[39mvalues\u001B[38;5;241m.\u001B[39mtolist()\n",
      "File \u001B[0;32m~/PycharmProjects/iguanas-from-above-zooniverse/venv/lib/python3.9/site-packages/pandas/core/frame.py:3893\u001B[0m, in \u001B[0;36mDataFrame.__getitem__\u001B[0;34m(self, key)\u001B[0m\n\u001B[1;32m   3891\u001B[0m \u001B[38;5;28;01mif\u001B[39;00m \u001B[38;5;28mself\u001B[39m\u001B[38;5;241m.\u001B[39mcolumns\u001B[38;5;241m.\u001B[39mnlevels \u001B[38;5;241m>\u001B[39m \u001B[38;5;241m1\u001B[39m:\n\u001B[1;32m   3892\u001B[0m     \u001B[38;5;28;01mreturn\u001B[39;00m \u001B[38;5;28mself\u001B[39m\u001B[38;5;241m.\u001B[39m_getitem_multilevel(key)\n\u001B[0;32m-> 3893\u001B[0m indexer \u001B[38;5;241m=\u001B[39m \u001B[38;5;28;43mself\u001B[39;49m\u001B[38;5;241;43m.\u001B[39;49m\u001B[43mcolumns\u001B[49m\u001B[38;5;241;43m.\u001B[39;49m\u001B[43mget_loc\u001B[49m\u001B[43m(\u001B[49m\u001B[43mkey\u001B[49m\u001B[43m)\u001B[49m\n\u001B[1;32m   3894\u001B[0m \u001B[38;5;28;01mif\u001B[39;00m is_integer(indexer):\n\u001B[1;32m   3895\u001B[0m     indexer \u001B[38;5;241m=\u001B[39m [indexer]\n",
      "File \u001B[0;32m~/PycharmProjects/iguanas-from-above-zooniverse/venv/lib/python3.9/site-packages/pandas/core/indexes/base.py:3797\u001B[0m, in \u001B[0;36mIndex.get_loc\u001B[0;34m(self, key)\u001B[0m\n\u001B[1;32m   3792\u001B[0m     \u001B[38;5;28;01mif\u001B[39;00m \u001B[38;5;28misinstance\u001B[39m(casted_key, \u001B[38;5;28mslice\u001B[39m) \u001B[38;5;129;01mor\u001B[39;00m (\n\u001B[1;32m   3793\u001B[0m         \u001B[38;5;28misinstance\u001B[39m(casted_key, abc\u001B[38;5;241m.\u001B[39mIterable)\n\u001B[1;32m   3794\u001B[0m         \u001B[38;5;129;01mand\u001B[39;00m \u001B[38;5;28many\u001B[39m(\u001B[38;5;28misinstance\u001B[39m(x, \u001B[38;5;28mslice\u001B[39m) \u001B[38;5;28;01mfor\u001B[39;00m x \u001B[38;5;129;01min\u001B[39;00m casted_key)\n\u001B[1;32m   3795\u001B[0m     ):\n\u001B[1;32m   3796\u001B[0m         \u001B[38;5;28;01mraise\u001B[39;00m InvalidIndexError(key)\n\u001B[0;32m-> 3797\u001B[0m     \u001B[38;5;28;01mraise\u001B[39;00m \u001B[38;5;167;01mKeyError\u001B[39;00m(key) \u001B[38;5;28;01mfrom\u001B[39;00m \u001B[38;5;21;01merr\u001B[39;00m\n\u001B[1;32m   3798\u001B[0m \u001B[38;5;28;01mexcept\u001B[39;00m \u001B[38;5;167;01mTypeError\u001B[39;00m:\n\u001B[1;32m   3799\u001B[0m     \u001B[38;5;66;03m# If we have a listlike key, _check_indexing_error will raise\u001B[39;00m\n\u001B[1;32m   3800\u001B[0m     \u001B[38;5;66;03m#  InvalidIndexError. Otherwise we fall through and re-raise\u001B[39;00m\n\u001B[1;32m   3801\u001B[0m     \u001B[38;5;66;03m#  the TypeError.\u001B[39;00m\n\u001B[1;32m   3802\u001B[0m     \u001B[38;5;28mself\u001B[39m\u001B[38;5;241m.\u001B[39m_check_indexing_error(key)\n",
      "\u001B[0;31mKeyError\u001B[0m: 'data.frame0.T2_tool4_x'"
     ]
    }
   ],
   "source": [
    "# create a flat structure from the nested marks over multiple columns from that.\n",
    "from ast import literal_eval\n",
    "\n",
    "columns_keep_x = ['data.frame0.T2_tool0_x', 'data.frame0.T2_tool1_x', 'data.frame0.T2_tool2_x']\n",
    "columns_keep_y = ['data.frame0.T2_tool0_y', 'data.frame0.T2_tool1_y', 'data.frame0.T2_tool2_y']\n",
    "\n",
    "# for col in ['data.frame0.T2_tool0_x', 'data.frame0.T2_tool1_x', 'data.frame0.T2_tool2_x', 'data.frame0.T2_tool4_x',\n",
    "#             'data.frame0.T2_tool0_y', 'data.frame0.T2_tool1_y', 'data.frame0.T2_tool2_y', 'data.frame0.T2_tool4_y']:\n",
    "\n",
    "for col in columns_keep_x + columns_keep_y:\n",
    "    df_panotes_point_extractor_r[col] = df_panotes_point_extractor_r[col].apply(lambda x: literal_eval(x) if pd.notnull(x) else [])\n",
    "\n",
    "# Merge the lists in 'x' and 'y' coordinates\n",
    "df_panotes_point_extractor_r['x'] = df_panotes_point_extractor_r[columns_keep_x].values.tolist()\n",
    "df_panotes_point_extractor_r['y'] = df_panotes_point_extractor_r[columns_keep_y].values.tolist()\n",
    "\n",
    "# Flatten the lists in each row for 'x' and 'y'\n",
    "df_panotes_point_extractor_r['x'] = df_panotes_point_extractor_r['x'].apply(lambda x: [item for sublist in x for item in sublist])\n",
    "df_panotes_point_extractor_r['y'] = df_panotes_point_extractor_r['y'].apply(lambda x: [item for sublist in x for item in sublist])\n",
    "\n",
    "# Explode the DataFrame to separate rows for each x, y pair\n",
    "# Note: This requires pandas >= 0.25 for simultaneous explode\n",
    "# df_panotes_point_extractor_r_exploded = df_panotes_point_extractor_r.apply(pd.Series.explode)\n",
    "\n",
    "# Explode the DataFrame based on these columns to get separate rows for each list element\n",
    "# Make sure to perform the explode operation on both columns simultaneously to keep the x and y coordinates paired\n",
    "df_panotes_point_extractor_r"
   ]
  },
  {
   "cell_type": "code",
   "execution_count": null,
   "id": "d1dd3d9da30dac12",
   "metadata": {
    "collapsed": false
   },
   "outputs": [],
   "source": [
    "df_panotes_point_extractor_r = df_panotes_point_extractor_r[\n",
    "    ['classification_id', 'user_name', 'user_id', 'workflow_id', 'task',\n",
    "     'created_at', 'subject_id', \"image_name\",\n",
    "     'x', 'y'\n",
    "     ]].reset_index(drop=True)\n",
    "\n",
    "df_panotes_point_extractor_r"
   ]
  },
  {
   "cell_type": "code",
   "execution_count": null,
   "id": "b84d1fb085664060",
   "metadata": {
    "collapsed": false
   },
   "outputs": [],
   "source": [
    "df_panotes_point_extractor_r_ex = df_panotes_point_extractor_r.apply(lambda x: x.explode() if x.name in ['x', 'y'] else x)"
   ]
  },
  {
   "cell_type": "code",
   "execution_count": null,
   "id": "ea7bbbb70dfc0df0",
   "metadata": {
    "collapsed": false
   },
   "outputs": [],
   "source": []
  },
  {
   "cell_type": "code",
   "execution_count": null,
   "id": "7f88cb7f25c52568",
   "metadata": {
    "collapsed": false
   },
   "outputs": [],
   "source": [
    "# images with no marks have NaN values in the 'merged_x' and 'merged_y' columns\n",
    "df_panotes_point_extractor_r_ex_dropped = df_panotes_point_extractor_r_ex.dropna(subset=['x', 'y'], how='all').sort_values(by=['user_id', 'subject_id', 'task', 'created_at'])\n",
    "df_panotes_point_extractor_r_ex_dropped"
   ]
  },
  {
   "cell_type": "code",
   "outputs": [],
   "source": [
    "# cast x and y to int\n",
    "df_panotes_point_extractor_r_ex_dropped = df_panotes_point_extractor_r_ex_dropped.astype({'x': 'int32', 'y': 'int32'})\n",
    "df_panotes_point_extractor_r_ex_dropped"
   ],
   "metadata": {
    "collapsed": false
   },
   "id": "b3a0beb695d8f28e",
   "execution_count": null
  },
  {
   "cell_type": "code",
   "outputs": [],
   "source": [],
   "metadata": {
    "collapsed": false
   },
   "id": "6852db7c1077de6"
  },
  {
   "cell_type": "code",
   "outputs": [],
   "source": [],
   "metadata": {
    "collapsed": false
   },
   "id": "75bd85fa3f091c83"
  },
  {
   "cell_type": "markdown",
   "source": [
    "## Check the numbers for a single subject_id"
   ],
   "metadata": {
    "collapsed": false
   },
   "id": "18a9d6b4d094619e"
  },
  {
   "cell_type": "markdown",
   "id": "7ebc57977e1a1863",
   "metadata": {
    "collapsed": false
   },
   "source": [
    "## Analysing the differences between panotes extract and the custom data_prep method\n",
    "I get [2, 2, 7, 9] for the SFM01-2-2-1_293.jpg - 47969478 with my dataprep\n",
    "here I have [2, 7, 9] for the same image by only remove \"partial iguana\" but leaving \"could be an iguana, not sure\" in there"
   ]
  },
  {
   "cell_type": "markdown",
   "source": [
    "## Filter for the expert gold standard"
   ],
   "metadata": {
    "collapsed": false
   },
   "id": "d36f863bd853cfb5"
  },
  {
   "cell_type": "code",
   "execution_count": null,
   "id": "f4b295839f0b3c14",
   "metadata": {
    "collapsed": false
   },
   "outputs": [],
   "source": [
    "from zooniverse.utils.data_format import data_prep\n",
    "use_gold_standard_subset = \"expert_goldstandard\"\n",
    "ds_stats = data_prep(phase_tag=phase_tag, \n",
    "                         output_path=output_path, \n",
    "                         input_path=input_path,\n",
    "                         filter_combination=use_gold_standard_subset, \n",
    "                         config=config)\n",
    "\n",
    "ds_stats"
   ]
  },
  {
   "cell_type": "code",
   "execution_count": null,
   "id": "def0d8a0a3f902a0",
   "metadata": {
    "collapsed": false
   },
   "outputs": [],
   "source": [
    "df_flat_data_prep = pd.read_csv(config[\"flat_dataset\"], sep=\",\", index_col=0)\n",
    "df_flat_data_prep[df_flat_data_prep.subject_id == subject_id_2]"
   ]
  },
  {
   "cell_type": "code",
   "execution_count": null,
   "id": "b7488330cdad0437",
   "metadata": {
    "collapsed": false
   },
   "outputs": [],
   "source": [
    "df_merged_data_prep = pd.read_csv(config[\"merged_dataset\"], sep=\",\", index_col=0)\n",
    "df_merged_data_prep[df_merged_data_prep.subject_id == subject_id_2]"
   ]
  },
  {
   "cell_type": "code",
   "execution_count": null,
   "id": "2c06fa3faca35b31",
   "metadata": {
    "collapsed": false
   },
   "outputs": [],
   "source": [
    "sorted([int(x) for x in list(df_merged_data_prep[df_merged_data_prep.subject_id == subject_id_2].x)])"
   ]
  },
  {
   "cell_type": "code",
   "execution_count": null,
   "id": "61dff7b574279617",
   "metadata": {
    "collapsed": false
   },
   "outputs": [],
   "source": [
    "sorted([int(x) for x in list(df_panotes_point_extractor_r_ex_dropped.merged_x)])"
   ]
  },
  {
   "cell_type": "code",
   "execution_count": null,
   "id": "1ae990675a702f34",
   "metadata": {
    "collapsed": false
   },
   "outputs": [],
   "source": [
    "## both methods yield the same coordinate lists\n",
    "assert sorted([int(x) for x in list(df_merged_data_prep[df_merged_data_prep.subject_id == subject_id_2].x)]) == sorted([int(x) for x in list(df_panotes_point_extractor_r_ex_droped.merged_x)]), \"The x coordinates are not the same\""
   ]
  },
  {
   "cell_type": "code",
   "execution_count": null,
   "id": "696c2de0248282ff",
   "metadata": {
    "collapsed": false
   },
   "outputs": [],
   "source": []
  }
 ],
 "metadata": {
  "kernelspec": {
   "display_name": "Python 3 (ipykernel)",
   "language": "python",
   "name": "python3"
  },
  "language_info": {
   "codemirror_mode": {
    "name": "ipython",
    "version": 3
   },
   "file_extension": ".py",
   "mimetype": "text/x-python",
   "name": "python",
   "nbconvert_exporter": "python",
   "pygments_lexer": "ipython3",
   "version": "3.9.6"
  }
 },
 "nbformat": 4,
 "nbformat_minor": 5
}
