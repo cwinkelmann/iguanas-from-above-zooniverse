{
 "cells": [
  {
   "cell_type": "code",
   "execution_count": 10,
   "id": "initial_id",
   "metadata": {
    "collapsed": true,
    "ExecuteTime": {
     "end_time": "2024-06-05T16:19:40.890873Z",
     "start_time": "2024-06-05T16:19:02.029302Z"
    }
   },
   "outputs": [
    {
     "name": "stdout",
     "output_type": "stream",
     "text": [
      "Chunk 1\n",
      "Chunk 2\n",
      "Chunk 3\n",
      "Chunk 4\n",
      "Chunk 5\n",
      "Chunk 6\n",
      "Chunk 7\n",
      "Chunk 8\n",
      "Chunk 9\n",
      "Chunk 10\n",
      "Chunk 11\n"
     ]
    },
    {
     "name": "stderr",
     "output_type": "stream",
     "text": [
      "/var/folders/2k/78nn7s4548986wsjh29rhj9w0000gn/T/ipykernel_11657/1742301249.py:27: DtypeWarning: Columns (8,9) have mixed types. Specify dtype option on import or set low_memory=False.\n",
      "  for i, df in enumerate(csv_iterator):\n"
     ]
    },
    {
     "name": "stdout",
     "output_type": "stream",
     "text": [
      "Chunk 12\n"
     ]
    },
    {
     "name": "stderr",
     "output_type": "stream",
     "text": [
      "/var/folders/2k/78nn7s4548986wsjh29rhj9w0000gn/T/ipykernel_11657/1742301249.py:27: DtypeWarning: Columns (8) have mixed types. Specify dtype option on import or set low_memory=False.\n",
      "  for i, df in enumerate(csv_iterator):\n"
     ]
    },
    {
     "name": "stdout",
     "output_type": "stream",
     "text": [
      "Chunk 13\n",
      "Chunk 14\n",
      "Chunk 15\n"
     ]
    }
   ],
   "source": [
    "import pandas as pd\n",
    "from hashlib import blake2b\n",
    "\n",
    "classification_file = \"/Users/christian/data/zooniverse/IguanasFromAbove/2023-10-15/iguanas-from-above-classifications.csv\"\n",
    "\n",
    "subject_id_filter_p1 = \"/Users/christian/data/zooniverse/Images/Zooniverse_Goldstandard_images/expert-GS-1stphase.csv\"\n",
    "subject_id_filter_p2 = \"/Users/christian/data/zooniverse/Images/Zooniverse_Goldstandard_images/expert-GS-2ndphase.csv\"\n",
    "subject_id_filter_p3 = \"/Users/christian/data/zooniverse/Images/Zooniverse_Goldstandard_images/expert-GS-3rdphase.csv\"\n",
    "\n",
    "df_subject_p1 = pd.read_csv(subject_id_filter_p1, sep=';')\n",
    "df_subject_p2 = pd.read_csv(subject_id_filter_p2, sep=';')\n",
    "df_subject_p3 = pd.read_csv(subject_id_filter_p3, sep=';')\n",
    "\n",
    "df_subject = pd.concat([df_subject_p1, df_subject_p2, df_subject_p3], axis=0)\n",
    "\n",
    "# Open a new file to write the modified chunks\n",
    "output_file_path = 'data/iguanas-from-above-classifications_anonymized_GS.csv'\n",
    "\n",
    "\n",
    "# Define the chunk size\n",
    "chunk_size = 100000\n",
    "\n",
    "# Create an iterator for the CSV file\n",
    "csv_iterator = pd.read_csv(classification_file, chunksize=chunk_size)\n",
    "\n",
    "# Process each chunk\n",
    "for i, df in enumerate(csv_iterator):\n",
    "    print(f\"Chunk {i + 1}\")\n",
    "    #print(chunk)\n",
    "    df = df[df.subject_ids.isin(df_subject.subject_id)]\n",
    "    \n",
    "    df.loc[:, 'user_id'] = df['user_id'].apply(lambda x: blake2b(str(x).encode(), digest_size=16).hexdigest() if not pd.isnull(x) else x)\n",
    "\n",
    "    # Anonymize 'user_name' by hashing\n",
    "    df.loc[:, 'user_name'] = df['user_name'].apply(lambda x: blake2b(x.encode(), digest_size=16).hexdigest() if isinstance(x, str) else x)\n",
    "    \n",
    "    \n",
    "    # Write the modified chunk to the new file\n",
    "    df.to_csv(output_file_path, mode='a', index=False, header=(i == 0))\n",
    "    \n",
    "    "
   ]
  },
  {
   "cell_type": "code",
   "outputs": [
    {
     "data": {
      "text/plain": "(100515, 14)"
     },
     "execution_count": 19,
     "metadata": {},
     "output_type": "execute_result"
    }
   ],
   "source": [
    "df_C = pd.read_csv(output_file_path)\n",
    "\n",
    "df_C.shape"
   ],
   "metadata": {
    "collapsed": false,
    "ExecuteTime": {
     "end_time": "2024-06-05T16:22:44.867534Z",
     "start_time": "2024-06-05T16:22:42.379802Z"
    }
   },
   "id": "9674d1147acbcc89",
   "execution_count": 19
  },
  {
   "cell_type": "code",
   "outputs": [
    {
     "data": {
      "text/plain": "(100483, 15)"
     },
     "execution_count": 20,
     "metadata": {},
     "output_type": "execute_result"
    }
   ],
   "source": [
    "output_file_path_andrea_1 = \"/Users/christian/PycharmProjects/iguanas-from-above-zooniverse/data/iguanas-from-above-classifications-GS.csv\"\n",
    "\n",
    "df_A1 = pd.read_csv(output_file_path_andrea_1)\n",
    "df_A1.shape"
   ],
   "metadata": {
    "collapsed": false,
    "ExecuteTime": {
     "end_time": "2024-06-05T16:25:09.803423Z",
     "start_time": "2024-06-05T16:25:07.309435Z"
    }
   },
   "id": "b2f7f6a3eaafea2a",
   "execution_count": 20
  },
  {
   "cell_type": "code",
   "outputs": [
    {
     "data": {
      "text/plain": "(100515, 10)"
     },
     "execution_count": 13,
     "metadata": {},
     "output_type": "execute_result"
    }
   ],
   "source": [
    "output_file_path_andrea_2 = \"/Users/christian/PycharmProjects/iguanas-from-above-zooniverse/data/iguanas-from-above-classifications-GoldStandard.csv\"\n",
    "\n",
    "df_A_2 = pd.read_csv(output_file_path_andrea_2)\n",
    "df_A_2.shape"
   ],
   "metadata": {
    "collapsed": false,
    "ExecuteTime": {
     "end_time": "2024-06-05T16:19:48.608912Z",
     "start_time": "2024-06-05T16:19:45.724475Z"
    }
   },
   "id": "75ffe57c8644ad4d",
   "execution_count": 13
  },
  {
   "cell_type": "code",
   "outputs": [
    {
     "data": {
      "text/plain": "        classification_id  workflow_id       workflow_name  workflow_version  \\\n0               262327774        14370  Iguanas 1st launch           134.236   \n1               262328317        14370  Iguanas 1st launch           134.236   \n2               262337957        14370  Iguanas 1st launch           134.236   \n3               262393415        14370  Iguanas 1st launch           134.236   \n4               262394522        14370  Iguanas 1st launch           134.236   \n...                   ...          ...                 ...               ...   \n100510          511059428        22040  Iguanas 3rd launch             9.630   \n100511          511159826        22040  Iguanas 3rd launch             9.630   \n100512          511171731        22040  Iguanas 3rd launch             9.630   \n100513          511349810        22040  Iguanas 3rd launch             9.630   \n100514          511354076        22040  Iguanas 3rd launch             9.630   \n\n                     created_at  \\\n0       2020-07-20 17:27:20 UTC   \n1       2020-07-20 17:28:36 UTC   \n2       2020-07-20 17:49:40 UTC   \n3       2020-07-20 19:43:51 UTC   \n4       2020-07-20 19:45:55 UTC   \n...                         ...   \n100510  2023-09-14 23:34:28 UTC   \n100511  2023-09-15 16:04:33 UTC   \n100512  2023-09-15 17:23:14 UTC   \n100513  2023-09-16 22:56:04 UTC   \n100514  2023-09-16 23:40:13 UTC   \n\n                                                 metadata  \\\n0       {\"source\":\"api\",\"session\":\"c06622ef692041b2d0e...   \n1       {\"source\":\"api\",\"session\":\"c06622ef692041b2d0e...   \n2       {\"source\":\"api\",\"session\":\"c06622ef692041b2d0e...   \n3       {\"source\":\"api\",\"session\":\"0211b2351f7e5a1c95a...   \n4       {\"source\":\"api\",\"session\":\"0211b2351f7e5a1c95a...   \n...                                                   ...   \n100510  {\"source\":\"api\",\"session\":\"1b9f6b5ed223bdb14fa...   \n100511  {\"source\":\"api\",\"session\":\"0ab084911f920ad95b5...   \n100512  {\"source\":\"api\",\"session\":\"0ab084911f920ad95b5...   \n100513  {\"source\":\"api\",\"session\":\"207e7382699acaa3063...   \n100514  {\"source\":\"api\",\"session\":\"207e7382699acaa3063...   \n\n                                              annotations  \\\n0       [{\"task\":\"T0\",\"task_label\":\"Do you see any **M...   \n1       [{\"task\":\"T0\",\"task_label\":\"Do you see any **M...   \n2       [{\"task\":\"T0\",\"task_label\":\"Do you see any **M...   \n3       [{\"task\":\"T0\",\"task_label\":\"Do you see any **M...   \n4       [{\"task\":\"T0\",\"task_label\":\"Do you see any **M...   \n...                                                   ...   \n100510  [{\"task\":\"T0\",\"task_label\":\"Do you see any **M...   \n100511  [{\"task\":\"T0\",\"task_label\":\"Do you see any **M...   \n100512  [{\"task\":\"T0\",\"task_label\":\"Do you see any **M...   \n100513  [{\"task\":\"T0\",\"task_label\":\"Do you see any **M...   \n100514  [{\"task\":\"T0\",\"task_label\":\"Do you see any **M...   \n\n                                             subject_data  subject_ids  \\\n0       {\"47979290\":{\"retired\":{\"id\":67610680,\"workflo...     47979290   \n1       {\"47970534\":{\"retired\":{\"id\":67627516,\"workflo...     47970534   \n2       {\"47987595\":{\"retired\":{\"id\":67605167,\"workflo...     47987595   \n3       {\"47968991\":{\"retired\":{\"id\":67623024,\"workflo...     47968991   \n4       {\"47970508\":{\"retired\":{\"id\":67610551,\"workflo...     47970508   \n...                                                   ...          ...   \n100510  {\"78922625\":{\"retired\":{\"id\":105927200,\"workfl...     78922625   \n100511  {\"78922632\":{\"retired\":{\"id\":105913462,\"workfl...     78922632   \n100512  {\"78922613\":{\"retired\":{\"id\":105924667,\"workfl...     78922613   \n100513  {\"78922625\":{\"retired\":{\"id\":105927200,\"workfl...     78922625   \n100514  {\"78922632\":{\"retired\":{\"id\":105913462,\"workfl...     78922632   \n\n                      anonymized_user_id  \n0       79dbfdb604cd19cab0309b05e1a1a7fe  \n1       79dbfdb604cd19cab0309b05e1a1a7fe  \n2       79dbfdb604cd19cab0309b05e1a1a7fe  \n3       79dbfdb604cd19cab0309b05e1a1a7fe  \n4       79dbfdb604cd19cab0309b05e1a1a7fe  \n...                                  ...  \n100510  d3f7ee0fa9f3edd2b20e083d858662f6  \n100511  785c7059801a15ef1aab6439941b1e8d  \n100512  001fc754df90fda372d1dc680c8d109e  \n100513  57aacacca90d8049578c1c01db8441f2  \n100514  0bd1e199d20e2a5500a9499686ca4a97  \n\n[100515 rows x 10 columns]",
      "text/html": "<div>\n<style scoped>\n    .dataframe tbody tr th:only-of-type {\n        vertical-align: middle;\n    }\n\n    .dataframe tbody tr th {\n        vertical-align: top;\n    }\n\n    .dataframe thead th {\n        text-align: right;\n    }\n</style>\n<table border=\"1\" class=\"dataframe\">\n  <thead>\n    <tr style=\"text-align: right;\">\n      <th></th>\n      <th>classification_id</th>\n      <th>workflow_id</th>\n      <th>workflow_name</th>\n      <th>workflow_version</th>\n      <th>created_at</th>\n      <th>metadata</th>\n      <th>annotations</th>\n      <th>subject_data</th>\n      <th>subject_ids</th>\n      <th>anonymized_user_id</th>\n    </tr>\n  </thead>\n  <tbody>\n    <tr>\n      <th>0</th>\n      <td>262327774</td>\n      <td>14370</td>\n      <td>Iguanas 1st launch</td>\n      <td>134.236</td>\n      <td>2020-07-20 17:27:20 UTC</td>\n      <td>{\"source\":\"api\",\"session\":\"c06622ef692041b2d0e...</td>\n      <td>[{\"task\":\"T0\",\"task_label\":\"Do you see any **M...</td>\n      <td>{\"47979290\":{\"retired\":{\"id\":67610680,\"workflo...</td>\n      <td>47979290</td>\n      <td>79dbfdb604cd19cab0309b05e1a1a7fe</td>\n    </tr>\n    <tr>\n      <th>1</th>\n      <td>262328317</td>\n      <td>14370</td>\n      <td>Iguanas 1st launch</td>\n      <td>134.236</td>\n      <td>2020-07-20 17:28:36 UTC</td>\n      <td>{\"source\":\"api\",\"session\":\"c06622ef692041b2d0e...</td>\n      <td>[{\"task\":\"T0\",\"task_label\":\"Do you see any **M...</td>\n      <td>{\"47970534\":{\"retired\":{\"id\":67627516,\"workflo...</td>\n      <td>47970534</td>\n      <td>79dbfdb604cd19cab0309b05e1a1a7fe</td>\n    </tr>\n    <tr>\n      <th>2</th>\n      <td>262337957</td>\n      <td>14370</td>\n      <td>Iguanas 1st launch</td>\n      <td>134.236</td>\n      <td>2020-07-20 17:49:40 UTC</td>\n      <td>{\"source\":\"api\",\"session\":\"c06622ef692041b2d0e...</td>\n      <td>[{\"task\":\"T0\",\"task_label\":\"Do you see any **M...</td>\n      <td>{\"47987595\":{\"retired\":{\"id\":67605167,\"workflo...</td>\n      <td>47987595</td>\n      <td>79dbfdb604cd19cab0309b05e1a1a7fe</td>\n    </tr>\n    <tr>\n      <th>3</th>\n      <td>262393415</td>\n      <td>14370</td>\n      <td>Iguanas 1st launch</td>\n      <td>134.236</td>\n      <td>2020-07-20 19:43:51 UTC</td>\n      <td>{\"source\":\"api\",\"session\":\"0211b2351f7e5a1c95a...</td>\n      <td>[{\"task\":\"T0\",\"task_label\":\"Do you see any **M...</td>\n      <td>{\"47968991\":{\"retired\":{\"id\":67623024,\"workflo...</td>\n      <td>47968991</td>\n      <td>79dbfdb604cd19cab0309b05e1a1a7fe</td>\n    </tr>\n    <tr>\n      <th>4</th>\n      <td>262394522</td>\n      <td>14370</td>\n      <td>Iguanas 1st launch</td>\n      <td>134.236</td>\n      <td>2020-07-20 19:45:55 UTC</td>\n      <td>{\"source\":\"api\",\"session\":\"0211b2351f7e5a1c95a...</td>\n      <td>[{\"task\":\"T0\",\"task_label\":\"Do you see any **M...</td>\n      <td>{\"47970508\":{\"retired\":{\"id\":67610551,\"workflo...</td>\n      <td>47970508</td>\n      <td>79dbfdb604cd19cab0309b05e1a1a7fe</td>\n    </tr>\n    <tr>\n      <th>...</th>\n      <td>...</td>\n      <td>...</td>\n      <td>...</td>\n      <td>...</td>\n      <td>...</td>\n      <td>...</td>\n      <td>...</td>\n      <td>...</td>\n      <td>...</td>\n      <td>...</td>\n    </tr>\n    <tr>\n      <th>100510</th>\n      <td>511059428</td>\n      <td>22040</td>\n      <td>Iguanas 3rd launch</td>\n      <td>9.630</td>\n      <td>2023-09-14 23:34:28 UTC</td>\n      <td>{\"source\":\"api\",\"session\":\"1b9f6b5ed223bdb14fa...</td>\n      <td>[{\"task\":\"T0\",\"task_label\":\"Do you see any **M...</td>\n      <td>{\"78922625\":{\"retired\":{\"id\":105927200,\"workfl...</td>\n      <td>78922625</td>\n      <td>d3f7ee0fa9f3edd2b20e083d858662f6</td>\n    </tr>\n    <tr>\n      <th>100511</th>\n      <td>511159826</td>\n      <td>22040</td>\n      <td>Iguanas 3rd launch</td>\n      <td>9.630</td>\n      <td>2023-09-15 16:04:33 UTC</td>\n      <td>{\"source\":\"api\",\"session\":\"0ab084911f920ad95b5...</td>\n      <td>[{\"task\":\"T0\",\"task_label\":\"Do you see any **M...</td>\n      <td>{\"78922632\":{\"retired\":{\"id\":105913462,\"workfl...</td>\n      <td>78922632</td>\n      <td>785c7059801a15ef1aab6439941b1e8d</td>\n    </tr>\n    <tr>\n      <th>100512</th>\n      <td>511171731</td>\n      <td>22040</td>\n      <td>Iguanas 3rd launch</td>\n      <td>9.630</td>\n      <td>2023-09-15 17:23:14 UTC</td>\n      <td>{\"source\":\"api\",\"session\":\"0ab084911f920ad95b5...</td>\n      <td>[{\"task\":\"T0\",\"task_label\":\"Do you see any **M...</td>\n      <td>{\"78922613\":{\"retired\":{\"id\":105924667,\"workfl...</td>\n      <td>78922613</td>\n      <td>001fc754df90fda372d1dc680c8d109e</td>\n    </tr>\n    <tr>\n      <th>100513</th>\n      <td>511349810</td>\n      <td>22040</td>\n      <td>Iguanas 3rd launch</td>\n      <td>9.630</td>\n      <td>2023-09-16 22:56:04 UTC</td>\n      <td>{\"source\":\"api\",\"session\":\"207e7382699acaa3063...</td>\n      <td>[{\"task\":\"T0\",\"task_label\":\"Do you see any **M...</td>\n      <td>{\"78922625\":{\"retired\":{\"id\":105927200,\"workfl...</td>\n      <td>78922625</td>\n      <td>57aacacca90d8049578c1c01db8441f2</td>\n    </tr>\n    <tr>\n      <th>100514</th>\n      <td>511354076</td>\n      <td>22040</td>\n      <td>Iguanas 3rd launch</td>\n      <td>9.630</td>\n      <td>2023-09-16 23:40:13 UTC</td>\n      <td>{\"source\":\"api\",\"session\":\"207e7382699acaa3063...</td>\n      <td>[{\"task\":\"T0\",\"task_label\":\"Do you see any **M...</td>\n      <td>{\"78922632\":{\"retired\":{\"id\":105913462,\"workfl...</td>\n      <td>78922632</td>\n      <td>0bd1e199d20e2a5500a9499686ca4a97</td>\n    </tr>\n  </tbody>\n</table>\n<p>100515 rows × 10 columns</p>\n</div>"
     },
     "execution_count": 14,
     "metadata": {},
     "output_type": "execute_result"
    }
   ],
   "source": [
    "df_A_2"
   ],
   "metadata": {
    "collapsed": false,
    "ExecuteTime": {
     "end_time": "2024-06-05T16:19:48.620053Z",
     "start_time": "2024-06-05T16:19:48.610151Z"
    }
   },
   "id": "f0b7292008399af2",
   "execution_count": 14
  },
  {
   "cell_type": "code",
   "outputs": [
    {
     "data": {
      "text/plain": "        classification_id                         user_name  \\\n0               262327774  dd741bfe7c2eabd0265422e728bd1738   \n1               262328317  dd741bfe7c2eabd0265422e728bd1738   \n2               262337957  dd741bfe7c2eabd0265422e728bd1738   \n3               262393415  dd741bfe7c2eabd0265422e728bd1738   \n4               262394522  dd741bfe7c2eabd0265422e728bd1738   \n...                   ...                               ...   \n100510          511059428  b5dd00492abed0932dee745a2ef255bd   \n100511          511159826  94c60cb03a82b8456f673029e0f4fe02   \n100512          511171731  54d5e8f0591f9fd8e583e963f2188a7d   \n100513          511349810  132764123b0e3c0dbdb07bd2e1cdaaaf   \n100514          511354076  5db78ccea92857b77aeb4228f75e2030   \n\n                                 user_id               user_ip  workflow_id  \\\n0       08cbd51d46cf6d3d7af3f5d1d4f909b6  33bc5b21c88460dbfea6        14370   \n1       08cbd51d46cf6d3d7af3f5d1d4f909b6  33bc5b21c88460dbfea6        14370   \n2       08cbd51d46cf6d3d7af3f5d1d4f909b6  33bc5b21c88460dbfea6        14370   \n3       08cbd51d46cf6d3d7af3f5d1d4f909b6  33bc5b21c88460dbfea6        14370   \n4       08cbd51d46cf6d3d7af3f5d1d4f909b6  33bc5b21c88460dbfea6        14370   \n...                                  ...                   ...          ...   \n100510                               NaN  9fe421fff053a486b442        22040   \n100511                               NaN  e4306eba15c5f315c384        22040   \n100512                               NaN  d4a679e8dd9339688be1        22040   \n100513                               NaN  b55876b8596ff960dbb0        22040   \n100514  e2b4fd6b6d39bebba0a2185fbc78edba  e2331eb590c8908e8005        22040   \n\n             workflow_name  workflow_version               created_at  \\\n0       Iguanas 1st launch           134.236  2020-07-20 17:27:20 UTC   \n1       Iguanas 1st launch           134.236  2020-07-20 17:28:36 UTC   \n2       Iguanas 1st launch           134.236  2020-07-20 17:49:40 UTC   \n3       Iguanas 1st launch           134.236  2020-07-20 19:43:51 UTC   \n4       Iguanas 1st launch           134.236  2020-07-20 19:45:55 UTC   \n...                    ...               ...                      ...   \n100510  Iguanas 3rd launch             9.630  2023-09-14 23:34:28 UTC   \n100511  Iguanas 3rd launch             9.630  2023-09-15 16:04:33 UTC   \n100512  Iguanas 3rd launch             9.630  2023-09-15 17:23:14 UTC   \n100513  Iguanas 3rd launch             9.630  2023-09-16 22:56:04 UTC   \n100514  Iguanas 3rd launch             9.630  2023-09-16 23:40:13 UTC   \n\n       gold_standard expert  \\\n0                NaN    NaN   \n1                NaN    NaN   \n2                NaN    NaN   \n3                NaN    NaN   \n4                NaN    NaN   \n...              ...    ...   \n100510           NaN    NaN   \n100511           NaN    NaN   \n100512           NaN    NaN   \n100513           NaN    NaN   \n100514           NaN    NaN   \n\n                                                 metadata  \\\n0       {\"source\":\"api\",\"session\":\"c06622ef692041b2d0e...   \n1       {\"source\":\"api\",\"session\":\"c06622ef692041b2d0e...   \n2       {\"source\":\"api\",\"session\":\"c06622ef692041b2d0e...   \n3       {\"source\":\"api\",\"session\":\"0211b2351f7e5a1c95a...   \n4       {\"source\":\"api\",\"session\":\"0211b2351f7e5a1c95a...   \n...                                                   ...   \n100510  {\"source\":\"api\",\"session\":\"1b9f6b5ed223bdb14fa...   \n100511  {\"source\":\"api\",\"session\":\"0ab084911f920ad95b5...   \n100512  {\"source\":\"api\",\"session\":\"0ab084911f920ad95b5...   \n100513  {\"source\":\"api\",\"session\":\"207e7382699acaa3063...   \n100514  {\"source\":\"api\",\"session\":\"207e7382699acaa3063...   \n\n                                              annotations  \\\n0       [{\"task\":\"T0\",\"task_label\":\"Do you see any **M...   \n1       [{\"task\":\"T0\",\"task_label\":\"Do you see any **M...   \n2       [{\"task\":\"T0\",\"task_label\":\"Do you see any **M...   \n3       [{\"task\":\"T0\",\"task_label\":\"Do you see any **M...   \n4       [{\"task\":\"T0\",\"task_label\":\"Do you see any **M...   \n...                                                   ...   \n100510  [{\"task\":\"T0\",\"task_label\":\"Do you see any **M...   \n100511  [{\"task\":\"T0\",\"task_label\":\"Do you see any **M...   \n100512  [{\"task\":\"T0\",\"task_label\":\"Do you see any **M...   \n100513  [{\"task\":\"T0\",\"task_label\":\"Do you see any **M...   \n100514  [{\"task\":\"T0\",\"task_label\":\"Do you see any **M...   \n\n                                             subject_data  subject_ids  \n0       {\"47979290\":{\"retired\":{\"id\":67610680,\"workflo...     47979290  \n1       {\"47970534\":{\"retired\":{\"id\":67627516,\"workflo...     47970534  \n2       {\"47987595\":{\"retired\":{\"id\":67605167,\"workflo...     47987595  \n3       {\"47968991\":{\"retired\":{\"id\":67623024,\"workflo...     47968991  \n4       {\"47970508\":{\"retired\":{\"id\":67610551,\"workflo...     47970508  \n...                                                   ...          ...  \n100510  {\"78922625\":{\"retired\":{\"id\":105927200,\"workfl...     78922625  \n100511  {\"78922632\":{\"retired\":{\"id\":105913462,\"workfl...     78922632  \n100512  {\"78922613\":{\"retired\":{\"id\":105924667,\"workfl...     78922613  \n100513  {\"78922625\":{\"retired\":{\"id\":105927200,\"workfl...     78922625  \n100514  {\"78922632\":{\"retired\":{\"id\":105913462,\"workfl...     78922632  \n\n[100515 rows x 14 columns]",
      "text/html": "<div>\n<style scoped>\n    .dataframe tbody tr th:only-of-type {\n        vertical-align: middle;\n    }\n\n    .dataframe tbody tr th {\n        vertical-align: top;\n    }\n\n    .dataframe thead th {\n        text-align: right;\n    }\n</style>\n<table border=\"1\" class=\"dataframe\">\n  <thead>\n    <tr style=\"text-align: right;\">\n      <th></th>\n      <th>classification_id</th>\n      <th>user_name</th>\n      <th>user_id</th>\n      <th>user_ip</th>\n      <th>workflow_id</th>\n      <th>workflow_name</th>\n      <th>workflow_version</th>\n      <th>created_at</th>\n      <th>gold_standard</th>\n      <th>expert</th>\n      <th>metadata</th>\n      <th>annotations</th>\n      <th>subject_data</th>\n      <th>subject_ids</th>\n    </tr>\n  </thead>\n  <tbody>\n    <tr>\n      <th>0</th>\n      <td>262327774</td>\n      <td>dd741bfe7c2eabd0265422e728bd1738</td>\n      <td>08cbd51d46cf6d3d7af3f5d1d4f909b6</td>\n      <td>33bc5b21c88460dbfea6</td>\n      <td>14370</td>\n      <td>Iguanas 1st launch</td>\n      <td>134.236</td>\n      <td>2020-07-20 17:27:20 UTC</td>\n      <td>NaN</td>\n      <td>NaN</td>\n      <td>{\"source\":\"api\",\"session\":\"c06622ef692041b2d0e...</td>\n      <td>[{\"task\":\"T0\",\"task_label\":\"Do you see any **M...</td>\n      <td>{\"47979290\":{\"retired\":{\"id\":67610680,\"workflo...</td>\n      <td>47979290</td>\n    </tr>\n    <tr>\n      <th>1</th>\n      <td>262328317</td>\n      <td>dd741bfe7c2eabd0265422e728bd1738</td>\n      <td>08cbd51d46cf6d3d7af3f5d1d4f909b6</td>\n      <td>33bc5b21c88460dbfea6</td>\n      <td>14370</td>\n      <td>Iguanas 1st launch</td>\n      <td>134.236</td>\n      <td>2020-07-20 17:28:36 UTC</td>\n      <td>NaN</td>\n      <td>NaN</td>\n      <td>{\"source\":\"api\",\"session\":\"c06622ef692041b2d0e...</td>\n      <td>[{\"task\":\"T0\",\"task_label\":\"Do you see any **M...</td>\n      <td>{\"47970534\":{\"retired\":{\"id\":67627516,\"workflo...</td>\n      <td>47970534</td>\n    </tr>\n    <tr>\n      <th>2</th>\n      <td>262337957</td>\n      <td>dd741bfe7c2eabd0265422e728bd1738</td>\n      <td>08cbd51d46cf6d3d7af3f5d1d4f909b6</td>\n      <td>33bc5b21c88460dbfea6</td>\n      <td>14370</td>\n      <td>Iguanas 1st launch</td>\n      <td>134.236</td>\n      <td>2020-07-20 17:49:40 UTC</td>\n      <td>NaN</td>\n      <td>NaN</td>\n      <td>{\"source\":\"api\",\"session\":\"c06622ef692041b2d0e...</td>\n      <td>[{\"task\":\"T0\",\"task_label\":\"Do you see any **M...</td>\n      <td>{\"47987595\":{\"retired\":{\"id\":67605167,\"workflo...</td>\n      <td>47987595</td>\n    </tr>\n    <tr>\n      <th>3</th>\n      <td>262393415</td>\n      <td>dd741bfe7c2eabd0265422e728bd1738</td>\n      <td>08cbd51d46cf6d3d7af3f5d1d4f909b6</td>\n      <td>33bc5b21c88460dbfea6</td>\n      <td>14370</td>\n      <td>Iguanas 1st launch</td>\n      <td>134.236</td>\n      <td>2020-07-20 19:43:51 UTC</td>\n      <td>NaN</td>\n      <td>NaN</td>\n      <td>{\"source\":\"api\",\"session\":\"0211b2351f7e5a1c95a...</td>\n      <td>[{\"task\":\"T0\",\"task_label\":\"Do you see any **M...</td>\n      <td>{\"47968991\":{\"retired\":{\"id\":67623024,\"workflo...</td>\n      <td>47968991</td>\n    </tr>\n    <tr>\n      <th>4</th>\n      <td>262394522</td>\n      <td>dd741bfe7c2eabd0265422e728bd1738</td>\n      <td>08cbd51d46cf6d3d7af3f5d1d4f909b6</td>\n      <td>33bc5b21c88460dbfea6</td>\n      <td>14370</td>\n      <td>Iguanas 1st launch</td>\n      <td>134.236</td>\n      <td>2020-07-20 19:45:55 UTC</td>\n      <td>NaN</td>\n      <td>NaN</td>\n      <td>{\"source\":\"api\",\"session\":\"0211b2351f7e5a1c95a...</td>\n      <td>[{\"task\":\"T0\",\"task_label\":\"Do you see any **M...</td>\n      <td>{\"47970508\":{\"retired\":{\"id\":67610551,\"workflo...</td>\n      <td>47970508</td>\n    </tr>\n    <tr>\n      <th>...</th>\n      <td>...</td>\n      <td>...</td>\n      <td>...</td>\n      <td>...</td>\n      <td>...</td>\n      <td>...</td>\n      <td>...</td>\n      <td>...</td>\n      <td>...</td>\n      <td>...</td>\n      <td>...</td>\n      <td>...</td>\n      <td>...</td>\n      <td>...</td>\n    </tr>\n    <tr>\n      <th>100510</th>\n      <td>511059428</td>\n      <td>b5dd00492abed0932dee745a2ef255bd</td>\n      <td>NaN</td>\n      <td>9fe421fff053a486b442</td>\n      <td>22040</td>\n      <td>Iguanas 3rd launch</td>\n      <td>9.630</td>\n      <td>2023-09-14 23:34:28 UTC</td>\n      <td>NaN</td>\n      <td>NaN</td>\n      <td>{\"source\":\"api\",\"session\":\"1b9f6b5ed223bdb14fa...</td>\n      <td>[{\"task\":\"T0\",\"task_label\":\"Do you see any **M...</td>\n      <td>{\"78922625\":{\"retired\":{\"id\":105927200,\"workfl...</td>\n      <td>78922625</td>\n    </tr>\n    <tr>\n      <th>100511</th>\n      <td>511159826</td>\n      <td>94c60cb03a82b8456f673029e0f4fe02</td>\n      <td>NaN</td>\n      <td>e4306eba15c5f315c384</td>\n      <td>22040</td>\n      <td>Iguanas 3rd launch</td>\n      <td>9.630</td>\n      <td>2023-09-15 16:04:33 UTC</td>\n      <td>NaN</td>\n      <td>NaN</td>\n      <td>{\"source\":\"api\",\"session\":\"0ab084911f920ad95b5...</td>\n      <td>[{\"task\":\"T0\",\"task_label\":\"Do you see any **M...</td>\n      <td>{\"78922632\":{\"retired\":{\"id\":105913462,\"workfl...</td>\n      <td>78922632</td>\n    </tr>\n    <tr>\n      <th>100512</th>\n      <td>511171731</td>\n      <td>54d5e8f0591f9fd8e583e963f2188a7d</td>\n      <td>NaN</td>\n      <td>d4a679e8dd9339688be1</td>\n      <td>22040</td>\n      <td>Iguanas 3rd launch</td>\n      <td>9.630</td>\n      <td>2023-09-15 17:23:14 UTC</td>\n      <td>NaN</td>\n      <td>NaN</td>\n      <td>{\"source\":\"api\",\"session\":\"0ab084911f920ad95b5...</td>\n      <td>[{\"task\":\"T0\",\"task_label\":\"Do you see any **M...</td>\n      <td>{\"78922613\":{\"retired\":{\"id\":105924667,\"workfl...</td>\n      <td>78922613</td>\n    </tr>\n    <tr>\n      <th>100513</th>\n      <td>511349810</td>\n      <td>132764123b0e3c0dbdb07bd2e1cdaaaf</td>\n      <td>NaN</td>\n      <td>b55876b8596ff960dbb0</td>\n      <td>22040</td>\n      <td>Iguanas 3rd launch</td>\n      <td>9.630</td>\n      <td>2023-09-16 22:56:04 UTC</td>\n      <td>NaN</td>\n      <td>NaN</td>\n      <td>{\"source\":\"api\",\"session\":\"207e7382699acaa3063...</td>\n      <td>[{\"task\":\"T0\",\"task_label\":\"Do you see any **M...</td>\n      <td>{\"78922625\":{\"retired\":{\"id\":105927200,\"workfl...</td>\n      <td>78922625</td>\n    </tr>\n    <tr>\n      <th>100514</th>\n      <td>511354076</td>\n      <td>5db78ccea92857b77aeb4228f75e2030</td>\n      <td>e2b4fd6b6d39bebba0a2185fbc78edba</td>\n      <td>e2331eb590c8908e8005</td>\n      <td>22040</td>\n      <td>Iguanas 3rd launch</td>\n      <td>9.630</td>\n      <td>2023-09-16 23:40:13 UTC</td>\n      <td>NaN</td>\n      <td>NaN</td>\n      <td>{\"source\":\"api\",\"session\":\"207e7382699acaa3063...</td>\n      <td>[{\"task\":\"T0\",\"task_label\":\"Do you see any **M...</td>\n      <td>{\"78922632\":{\"retired\":{\"id\":105913462,\"workfl...</td>\n      <td>78922632</td>\n    </tr>\n  </tbody>\n</table>\n<p>100515 rows × 14 columns</p>\n</div>"
     },
     "execution_count": 15,
     "metadata": {},
     "output_type": "execute_result"
    }
   ],
   "source": [
    "df_C"
   ],
   "metadata": {
    "collapsed": false,
    "ExecuteTime": {
     "end_time": "2024-06-05T16:19:48.631613Z",
     "start_time": "2024-06-05T16:19:48.621237Z"
    }
   },
   "id": "78a80be1362685c9",
   "execution_count": 15
  },
  {
   "cell_type": "markdown",
   "source": [],
   "metadata": {
    "collapsed": false
   },
   "id": "a6fb51bf34f0ff22"
  },
  {
   "cell_type": "code",
   "outputs": [
    {
     "data": {
      "text/plain": "        classification_id                         user_name  \\\n0               262327774  dd741bfe7c2eabd0265422e728bd1738   \n1               262328317  dd741bfe7c2eabd0265422e728bd1738   \n2               262337957  dd741bfe7c2eabd0265422e728bd1738   \n3               262393415  dd741bfe7c2eabd0265422e728bd1738   \n4               262394522  dd741bfe7c2eabd0265422e728bd1738   \n...                   ...                               ...   \n100510          511059428  b5dd00492abed0932dee745a2ef255bd   \n100511          511159826  94c60cb03a82b8456f673029e0f4fe02   \n100512          511171731  54d5e8f0591f9fd8e583e963f2188a7d   \n100513          511349810  132764123b0e3c0dbdb07bd2e1cdaaaf   \n100514          511354076  5db78ccea92857b77aeb4228f75e2030   \n\n                                 user_id               user_ip  workflow_id  \\\n0       08cbd51d46cf6d3d7af3f5d1d4f909b6  33bc5b21c88460dbfea6        14370   \n1       08cbd51d46cf6d3d7af3f5d1d4f909b6  33bc5b21c88460dbfea6        14370   \n2       08cbd51d46cf6d3d7af3f5d1d4f909b6  33bc5b21c88460dbfea6        14370   \n3       08cbd51d46cf6d3d7af3f5d1d4f909b6  33bc5b21c88460dbfea6        14370   \n4       08cbd51d46cf6d3d7af3f5d1d4f909b6  33bc5b21c88460dbfea6        14370   \n...                                  ...                   ...          ...   \n100510                               NaN  9fe421fff053a486b442        22040   \n100511                               NaN  e4306eba15c5f315c384        22040   \n100512                               NaN  d4a679e8dd9339688be1        22040   \n100513                               NaN  b55876b8596ff960dbb0        22040   \n100514  e2b4fd6b6d39bebba0a2185fbc78edba  e2331eb590c8908e8005        22040   \n\n             workflow_name  workflow_version               created_at  \\\n0       Iguanas 1st launch           134.236  2020-07-20 17:27:20 UTC   \n1       Iguanas 1st launch           134.236  2020-07-20 17:28:36 UTC   \n2       Iguanas 1st launch           134.236  2020-07-20 17:49:40 UTC   \n3       Iguanas 1st launch           134.236  2020-07-20 19:43:51 UTC   \n4       Iguanas 1st launch           134.236  2020-07-20 19:45:55 UTC   \n...                    ...               ...                      ...   \n100510  Iguanas 3rd launch             9.630  2023-09-14 23:34:28 UTC   \n100511  Iguanas 3rd launch             9.630  2023-09-15 16:04:33 UTC   \n100512  Iguanas 3rd launch             9.630  2023-09-15 17:23:14 UTC   \n100513  Iguanas 3rd launch             9.630  2023-09-16 22:56:04 UTC   \n100514  Iguanas 3rd launch             9.630  2023-09-16 23:40:13 UTC   \n\n       gold_standard expert  \\\n0                NaN    NaN   \n1                NaN    NaN   \n2                NaN    NaN   \n3                NaN    NaN   \n4                NaN    NaN   \n...              ...    ...   \n100510           NaN    NaN   \n100511           NaN    NaN   \n100512           NaN    NaN   \n100513           NaN    NaN   \n100514           NaN    NaN   \n\n                                                 metadata  \\\n0       {\"source\":\"api\",\"session\":\"c06622ef692041b2d0e...   \n1       {\"source\":\"api\",\"session\":\"c06622ef692041b2d0e...   \n2       {\"source\":\"api\",\"session\":\"c06622ef692041b2d0e...   \n3       {\"source\":\"api\",\"session\":\"0211b2351f7e5a1c95a...   \n4       {\"source\":\"api\",\"session\":\"0211b2351f7e5a1c95a...   \n...                                                   ...   \n100510  {\"source\":\"api\",\"session\":\"1b9f6b5ed223bdb14fa...   \n100511  {\"source\":\"api\",\"session\":\"0ab084911f920ad95b5...   \n100512  {\"source\":\"api\",\"session\":\"0ab084911f920ad95b5...   \n100513  {\"source\":\"api\",\"session\":\"207e7382699acaa3063...   \n100514  {\"source\":\"api\",\"session\":\"207e7382699acaa3063...   \n\n                                              annotations  \\\n0       [{\"task\":\"T0\",\"task_label\":\"Do you see any **M...   \n1       [{\"task\":\"T0\",\"task_label\":\"Do you see any **M...   \n2       [{\"task\":\"T0\",\"task_label\":\"Do you see any **M...   \n3       [{\"task\":\"T0\",\"task_label\":\"Do you see any **M...   \n4       [{\"task\":\"T0\",\"task_label\":\"Do you see any **M...   \n...                                                   ...   \n100510  [{\"task\":\"T0\",\"task_label\":\"Do you see any **M...   \n100511  [{\"task\":\"T0\",\"task_label\":\"Do you see any **M...   \n100512  [{\"task\":\"T0\",\"task_label\":\"Do you see any **M...   \n100513  [{\"task\":\"T0\",\"task_label\":\"Do you see any **M...   \n100514  [{\"task\":\"T0\",\"task_label\":\"Do you see any **M...   \n\n                                             subject_data  subject_ids  \n0       {\"47979290\":{\"retired\":{\"id\":67610680,\"workflo...     47979290  \n1       {\"47970534\":{\"retired\":{\"id\":67627516,\"workflo...     47970534  \n2       {\"47987595\":{\"retired\":{\"id\":67605167,\"workflo...     47987595  \n3       {\"47968991\":{\"retired\":{\"id\":67623024,\"workflo...     47968991  \n4       {\"47970508\":{\"retired\":{\"id\":67610551,\"workflo...     47970508  \n...                                                   ...          ...  \n100510  {\"78922625\":{\"retired\":{\"id\":105927200,\"workfl...     78922625  \n100511  {\"78922632\":{\"retired\":{\"id\":105913462,\"workfl...     78922632  \n100512  {\"78922613\":{\"retired\":{\"id\":105924667,\"workfl...     78922613  \n100513  {\"78922625\":{\"retired\":{\"id\":105927200,\"workfl...     78922625  \n100514  {\"78922632\":{\"retired\":{\"id\":105913462,\"workfl...     78922632  \n\n[98745 rows x 14 columns]",
      "text/html": "<div>\n<style scoped>\n    .dataframe tbody tr th:only-of-type {\n        vertical-align: middle;\n    }\n\n    .dataframe tbody tr th {\n        vertical-align: top;\n    }\n\n    .dataframe thead th {\n        text-align: right;\n    }\n</style>\n<table border=\"1\" class=\"dataframe\">\n  <thead>\n    <tr style=\"text-align: right;\">\n      <th></th>\n      <th>classification_id</th>\n      <th>user_name</th>\n      <th>user_id</th>\n      <th>user_ip</th>\n      <th>workflow_id</th>\n      <th>workflow_name</th>\n      <th>workflow_version</th>\n      <th>created_at</th>\n      <th>gold_standard</th>\n      <th>expert</th>\n      <th>metadata</th>\n      <th>annotations</th>\n      <th>subject_data</th>\n      <th>subject_ids</th>\n    </tr>\n  </thead>\n  <tbody>\n    <tr>\n      <th>0</th>\n      <td>262327774</td>\n      <td>dd741bfe7c2eabd0265422e728bd1738</td>\n      <td>08cbd51d46cf6d3d7af3f5d1d4f909b6</td>\n      <td>33bc5b21c88460dbfea6</td>\n      <td>14370</td>\n      <td>Iguanas 1st launch</td>\n      <td>134.236</td>\n      <td>2020-07-20 17:27:20 UTC</td>\n      <td>NaN</td>\n      <td>NaN</td>\n      <td>{\"source\":\"api\",\"session\":\"c06622ef692041b2d0e...</td>\n      <td>[{\"task\":\"T0\",\"task_label\":\"Do you see any **M...</td>\n      <td>{\"47979290\":{\"retired\":{\"id\":67610680,\"workflo...</td>\n      <td>47979290</td>\n    </tr>\n    <tr>\n      <th>1</th>\n      <td>262328317</td>\n      <td>dd741bfe7c2eabd0265422e728bd1738</td>\n      <td>08cbd51d46cf6d3d7af3f5d1d4f909b6</td>\n      <td>33bc5b21c88460dbfea6</td>\n      <td>14370</td>\n      <td>Iguanas 1st launch</td>\n      <td>134.236</td>\n      <td>2020-07-20 17:28:36 UTC</td>\n      <td>NaN</td>\n      <td>NaN</td>\n      <td>{\"source\":\"api\",\"session\":\"c06622ef692041b2d0e...</td>\n      <td>[{\"task\":\"T0\",\"task_label\":\"Do you see any **M...</td>\n      <td>{\"47970534\":{\"retired\":{\"id\":67627516,\"workflo...</td>\n      <td>47970534</td>\n    </tr>\n    <tr>\n      <th>2</th>\n      <td>262337957</td>\n      <td>dd741bfe7c2eabd0265422e728bd1738</td>\n      <td>08cbd51d46cf6d3d7af3f5d1d4f909b6</td>\n      <td>33bc5b21c88460dbfea6</td>\n      <td>14370</td>\n      <td>Iguanas 1st launch</td>\n      <td>134.236</td>\n      <td>2020-07-20 17:49:40 UTC</td>\n      <td>NaN</td>\n      <td>NaN</td>\n      <td>{\"source\":\"api\",\"session\":\"c06622ef692041b2d0e...</td>\n      <td>[{\"task\":\"T0\",\"task_label\":\"Do you see any **M...</td>\n      <td>{\"47987595\":{\"retired\":{\"id\":67605167,\"workflo...</td>\n      <td>47987595</td>\n    </tr>\n    <tr>\n      <th>3</th>\n      <td>262393415</td>\n      <td>dd741bfe7c2eabd0265422e728bd1738</td>\n      <td>08cbd51d46cf6d3d7af3f5d1d4f909b6</td>\n      <td>33bc5b21c88460dbfea6</td>\n      <td>14370</td>\n      <td>Iguanas 1st launch</td>\n      <td>134.236</td>\n      <td>2020-07-20 19:43:51 UTC</td>\n      <td>NaN</td>\n      <td>NaN</td>\n      <td>{\"source\":\"api\",\"session\":\"0211b2351f7e5a1c95a...</td>\n      <td>[{\"task\":\"T0\",\"task_label\":\"Do you see any **M...</td>\n      <td>{\"47968991\":{\"retired\":{\"id\":67623024,\"workflo...</td>\n      <td>47968991</td>\n    </tr>\n    <tr>\n      <th>4</th>\n      <td>262394522</td>\n      <td>dd741bfe7c2eabd0265422e728bd1738</td>\n      <td>08cbd51d46cf6d3d7af3f5d1d4f909b6</td>\n      <td>33bc5b21c88460dbfea6</td>\n      <td>14370</td>\n      <td>Iguanas 1st launch</td>\n      <td>134.236</td>\n      <td>2020-07-20 19:45:55 UTC</td>\n      <td>NaN</td>\n      <td>NaN</td>\n      <td>{\"source\":\"api\",\"session\":\"0211b2351f7e5a1c95a...</td>\n      <td>[{\"task\":\"T0\",\"task_label\":\"Do you see any **M...</td>\n      <td>{\"47970508\":{\"retired\":{\"id\":67610551,\"workflo...</td>\n      <td>47970508</td>\n    </tr>\n    <tr>\n      <th>...</th>\n      <td>...</td>\n      <td>...</td>\n      <td>...</td>\n      <td>...</td>\n      <td>...</td>\n      <td>...</td>\n      <td>...</td>\n      <td>...</td>\n      <td>...</td>\n      <td>...</td>\n      <td>...</td>\n      <td>...</td>\n      <td>...</td>\n      <td>...</td>\n    </tr>\n    <tr>\n      <th>100510</th>\n      <td>511059428</td>\n      <td>b5dd00492abed0932dee745a2ef255bd</td>\n      <td>NaN</td>\n      <td>9fe421fff053a486b442</td>\n      <td>22040</td>\n      <td>Iguanas 3rd launch</td>\n      <td>9.630</td>\n      <td>2023-09-14 23:34:28 UTC</td>\n      <td>NaN</td>\n      <td>NaN</td>\n      <td>{\"source\":\"api\",\"session\":\"1b9f6b5ed223bdb14fa...</td>\n      <td>[{\"task\":\"T0\",\"task_label\":\"Do you see any **M...</td>\n      <td>{\"78922625\":{\"retired\":{\"id\":105927200,\"workfl...</td>\n      <td>78922625</td>\n    </tr>\n    <tr>\n      <th>100511</th>\n      <td>511159826</td>\n      <td>94c60cb03a82b8456f673029e0f4fe02</td>\n      <td>NaN</td>\n      <td>e4306eba15c5f315c384</td>\n      <td>22040</td>\n      <td>Iguanas 3rd launch</td>\n      <td>9.630</td>\n      <td>2023-09-15 16:04:33 UTC</td>\n      <td>NaN</td>\n      <td>NaN</td>\n      <td>{\"source\":\"api\",\"session\":\"0ab084911f920ad95b5...</td>\n      <td>[{\"task\":\"T0\",\"task_label\":\"Do you see any **M...</td>\n      <td>{\"78922632\":{\"retired\":{\"id\":105913462,\"workfl...</td>\n      <td>78922632</td>\n    </tr>\n    <tr>\n      <th>100512</th>\n      <td>511171731</td>\n      <td>54d5e8f0591f9fd8e583e963f2188a7d</td>\n      <td>NaN</td>\n      <td>d4a679e8dd9339688be1</td>\n      <td>22040</td>\n      <td>Iguanas 3rd launch</td>\n      <td>9.630</td>\n      <td>2023-09-15 17:23:14 UTC</td>\n      <td>NaN</td>\n      <td>NaN</td>\n      <td>{\"source\":\"api\",\"session\":\"0ab084911f920ad95b5...</td>\n      <td>[{\"task\":\"T0\",\"task_label\":\"Do you see any **M...</td>\n      <td>{\"78922613\":{\"retired\":{\"id\":105924667,\"workfl...</td>\n      <td>78922613</td>\n    </tr>\n    <tr>\n      <th>100513</th>\n      <td>511349810</td>\n      <td>132764123b0e3c0dbdb07bd2e1cdaaaf</td>\n      <td>NaN</td>\n      <td>b55876b8596ff960dbb0</td>\n      <td>22040</td>\n      <td>Iguanas 3rd launch</td>\n      <td>9.630</td>\n      <td>2023-09-16 22:56:04 UTC</td>\n      <td>NaN</td>\n      <td>NaN</td>\n      <td>{\"source\":\"api\",\"session\":\"207e7382699acaa3063...</td>\n      <td>[{\"task\":\"T0\",\"task_label\":\"Do you see any **M...</td>\n      <td>{\"78922625\":{\"retired\":{\"id\":105927200,\"workfl...</td>\n      <td>78922625</td>\n    </tr>\n    <tr>\n      <th>100514</th>\n      <td>511354076</td>\n      <td>5db78ccea92857b77aeb4228f75e2030</td>\n      <td>e2b4fd6b6d39bebba0a2185fbc78edba</td>\n      <td>e2331eb590c8908e8005</td>\n      <td>22040</td>\n      <td>Iguanas 3rd launch</td>\n      <td>9.630</td>\n      <td>2023-09-16 23:40:13 UTC</td>\n      <td>NaN</td>\n      <td>NaN</td>\n      <td>{\"source\":\"api\",\"session\":\"207e7382699acaa3063...</td>\n      <td>[{\"task\":\"T0\",\"task_label\":\"Do you see any **M...</td>\n      <td>{\"78922632\":{\"retired\":{\"id\":105913462,\"workfl...</td>\n      <td>78922632</td>\n    </tr>\n  </tbody>\n</table>\n<p>98745 rows × 14 columns</p>\n</div>"
     },
     "execution_count": 18,
     "metadata": {},
     "output_type": "execute_result"
    }
   ],
   "source": [
    "df_C[df_C.expert != \"expert\"]"
   ],
   "metadata": {
    "collapsed": false,
    "ExecuteTime": {
     "end_time": "2024-06-05T16:21:59.910037Z",
     "start_time": "2024-06-05T16:21:59.884436Z"
    }
   },
   "id": "6ce93b43a8cb8a31",
   "execution_count": 18
  },
  {
   "cell_type": "code",
   "outputs": [],
   "source": [],
   "metadata": {
    "collapsed": false
   },
   "id": "c465fc3a1f4854d3"
  }
 ],
 "metadata": {
  "kernelspec": {
   "display_name": "Python 3",
   "language": "python",
   "name": "python3"
  },
  "language_info": {
   "codemirror_mode": {
    "name": "ipython",
    "version": 2
   },
   "file_extension": ".py",
   "mimetype": "text/x-python",
   "name": "python",
   "nbconvert_exporter": "python",
   "pygments_lexer": "ipython2",
   "version": "2.7.6"
  }
 },
 "nbformat": 4,
 "nbformat_minor": 5
}
