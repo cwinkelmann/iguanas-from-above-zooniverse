{
 "cells": [
  {
   "cell_type": "markdown",
   "id": "708022ad72146e6d",
   "metadata": {},
   "source": [
    "# Clustering Zooniverse Marks to count Iguanas\n",
    "Count all the iguanas in the images by clustering the marks from the zooniverse volunteers.\n",
    "This does not compare the results to the gold standard and requires only a single file, the flattened zooniverse data export."
   ]
  },
  {
   "cell_type": "code",
   "execution_count": 1,
   "id": "d59fc4434d71491c",
   "metadata": {
    "collapsed": false,
    "tags": [],
    "ExecuteTime": {
     "end_time": "2024-03-22T19:53:23.385037Z",
     "start_time": "2024-03-22T19:53:23.366525Z"
    }
   },
   "outputs": [],
   "source": [
    "%load_ext autoreload\n",
    "%autoreload 2\n",
    "\n",
    "import sys\n",
    "\n",
    "sys.path.append(\"./\")\n",
    "sys.path.append(\"./zooniverse\")"
   ]
  },
  {
   "cell_type": "markdown",
   "id": "731716bd21e99cbe",
   "metadata": {
    "collapsed": false
   },
   "source": [
    "## Intro\n",
    "### Retrieve a Classification report from Zooniverse\n",
    "This notebook is used to cluster the marks from the zooniverse volunteers to count the iguanas in the images saved in results/<phase_tag>/flat_dataset_filtered_Iguanas 3rd launch.csv\n",
    "\n",
    "Used Methods are:\n",
    "\n",
    "### DBSCAN \n",
    "It does not require the number of clusters to be specified. It is used here because, but has min_samples and eps as hyperparameters which need to be found. [Link](https://scikit-learn.org/stable/auto_examples/cluster/plot_dbscan.html)\n",
    "For finding eps and min_sample a simple **grid search** is used.\n",
    "Additionally, DBSCAN not assume a specific shape for the clusters (K-means assumes clusters are gaussian in shape) even though we should assume that points around an iguana is gaussian shaped.\n",
    "\n",
    "### HDBSCAN\n",
    "It is an extension of DBSCAN which is more robust to hyperparameter settings as it finds epsilon and min_samples automatically. [Link](https://scikit-learn.org/stable/modules/generated/sklearn.cluster.HDBSCAN.html)"
   ]
  },
  {
   "cell_type": "markdown",
   "id": "e261acba86137ddd",
   "metadata": {
    "collapsed": false
   },
   "source": [
    "## Load the data"
   ]
  },
  {
   "cell_type": "code",
   "execution_count": 2,
   "id": "823d8c3234e4a1de",
   "metadata": {
    "collapsed": false,
    "tags": [],
    "ExecuteTime": {
     "end_time": "2024-03-22T19:53:24.568828Z",
     "start_time": "2024-03-22T19:53:23.387154Z"
    }
   },
   "outputs": [],
   "source": [
    "from pathlib import Path\n",
    "\n",
    "import pandas as pd\n",
    "from zooniverse.analysis import get_annotation_count_stats\n",
    "from zooniverse.utils.filters import filter_df_user_threshold\n",
    "\n",
    "\n",
    "\n",
    "# Phase Selection\n",
    "# phase_tag = \"Iguanas 1st launch\"\n",
    "# phase_tag = \"Iguanas 2nd launch\"\n",
    "phase_tag = \"Iguanas 3rd launch\"\n",
    "\n",
    "\n",
    "debug = False # debugging with a smaller dataset\n",
    "plot_diagrams = False # plot the diagrams to disk for the clustering methods\n",
    "show_plots = False # show the plots in the notebook\n",
    "\n",
    "user_threshold = 3 # None or a number, filter records which have less than these user interactions.\n",
    "\n",
    "use_gold_standard_subset = None # Use no filtering\n",
    "\n",
    "\n",
    "\n",
    "## Input Path of all the data\n",
    "# input_path =Path(\"/Users/christian/data/zooniverse\")\n",
    "input_path = Path(\"results/\")\n",
    "# Location for the analysis Results\n",
    "# output_path = Path(input_path.joinpath(f\"2024_03_19_analysis\").joinpath(phase_tag))\n",
    "output_path = Path(input_path.joinpath(phase_tag))\n",
    "output_path.mkdir(exist_ok=True, parents=True)\n",
    "reprocess = False # if True, the raw classification data is reprocessed. If False, the data is loaded from disk\n",
    "\n",
    "# Location for plots\n",
    "output_plot_path = output_path.joinpath(\"plots\")\n",
    "output_plot_path.mkdir(parents=True, exist_ok=True)\n"
   ]
  },
  {
   "cell_type": "markdown",
   "id": "593bea9e98df4db0",
   "metadata": {
    "collapsed": false
   },
   "source": [
    "## Look into the config\n",
    "This Config points to all files necessary for the analysis + the result files"
   ]
  },
  {
   "cell_type": "code",
   "execution_count": 3,
   "id": "674da03e20316ae5",
   "metadata": {
    "collapsed": false,
    "ExecuteTime": {
     "end_time": "2024-03-22T19:53:24.613647Z",
     "start_time": "2024-03-22T19:53:24.571349Z"
    }
   },
   "outputs": [
    {
     "data": {
      "text/plain": "{'annotations_source': PosixPath('results/IguanasFromAbove/2023-10-15/iguanas-from-above-classifications.csv'),\n 'goldstandard_data': None,\n 'gold_standard_image_subset': None,\n 'image_source': None,\n 'yes_no_dataset': PosixPath('results/Iguanas 3rd launch/yes_no_dataset_Iguanas 3rd launch.csv'),\n 'flat_dataset': PosixPath('results/Iguanas 3rd launch/flat_dataset_Iguanas 3rd launch.csv'),\n 'merged_dataset': PosixPath('results/Iguanas 3rd launch/flat_dataset_filtered_Iguanas 3rd launch.csv'),\n 'comparison_dataset': PosixPath('results/Iguanas 3rd launch/Iguanas 3rd launch_method_comparison.csv'),\n 'method_sums': PosixPath('results/Iguanas 3rd launch/Iguanas 3rd launch_method_sums.csv'),\n 'dbscan_hyperparam_grid': PosixPath('results/Iguanas 3rd launch/Iguanas 3rd launch_hyperparam_grid.csv')}"
     },
     "execution_count": 3,
     "metadata": {},
     "output_type": "execute_result"
    }
   ],
   "source": [
    "from zooniverse.config import get_config_all\n",
    "\n",
    "config = get_config_all(phase_tag=phase_tag, input_path=input_path, output_path=output_path)\n",
    "config"
   ]
  },
  {
   "cell_type": "code",
   "execution_count": 4,
   "id": "ee63e05f12a7f36b",
   "metadata": {
    "collapsed": false,
    "ExecuteTime": {
     "end_time": "2024-03-22T19:53:24.670202Z",
     "start_time": "2024-03-22T19:53:24.615740Z"
    }
   },
   "outputs": [],
   "source": [
    "from zooniverse.utils.anonymize import UserAnonymizer\n",
    "from zooniverse.utils.data_format import data_prep_all\n",
    "\n",
    "if reprocess:\n",
    "    ds_stats = data_prep_all(phase_tag=phase_tag, \n",
    "                         output_path=output_path, \n",
    "                         input_path=input_path, \n",
    "                         config=config)\n",
    "    print(ds_stats)\n",
    "\n",
    "    # Anomymise the data to prevent usernames and user_ids to become public\n",
    "    anonymizer = UserAnonymizer(config[\"flat_dataset\"])\n",
    "    anonymizer.anonymize_data()\n",
    "    anonymizer.save_anonymized_data(config[\"flat_dataset\"])\n",
    "    \n",
    "    anonymizer = UserAnonymizer(config[\"merged_dataset\"])\n",
    "    anonymizer.anonymize_data()\n",
    "    anonymizer.save_anonymized_data(config[\"merged_dataset\"])"
   ]
  },
  {
   "cell_type": "code",
   "execution_count": 5,
   "id": "bc2fa0f92651d9da",
   "metadata": {
    "collapsed": false,
    "ExecuteTime": {
     "end_time": "2024-03-22T19:53:24.717709Z",
     "start_time": "2024-03-22T19:53:24.680316Z"
    }
   },
   "outputs": [],
   "source": [
    "if plot_diagrams == False:\n",
    "    output_plot_path = None\n",
    "\n",
    "# the flattened, filtered marks from zooniverse.\n",
    "df_merged_dataset = pd.read_csv(config[\"merged_dataset\"])\n",
    "\n"
   ]
  },
  {
   "cell_type": "markdown",
   "id": "bf09c7260aa5e8ed",
   "metadata": {
    "collapsed": false
   },
   "source": [
    "## Look at the data\n"
   ]
  },
  {
   "cell_type": "code",
   "execution_count": 6,
   "id": "6e814289feb967ec",
   "metadata": {
    "collapsed": false,
    "ExecuteTime": {
     "end_time": "2024-03-22T19:53:24.773608Z",
     "start_time": "2024-03-22T19:53:24.720065Z"
    }
   },
   "outputs": [
    {
     "data": {
      "text/plain": "      Unnamed: 0 flight_site_code        image_name  subject_id           x  \\\n0             57   CaboIbebetsonS   PCIS01-5_67.jpg    78961972  301.422882   \n1             58   CaboIbebetsonS   PCIS01-5_67.jpg    78961972   35.903500   \n2             70       WestCoastB   GWB01-3_152.jpg    78925551  728.559448   \n3             71       WestCoastB   GWB01-3_152.jpg    78925551  601.206055   \n4            125      SouthCoastH  ESCH02-1_323.jpg    78965007  247.383331   \n...          ...              ...               ...         ...         ...   \n7396      104634      SouthCoastH  ESCH02-1_174.jpg    78964907  688.849609   \n7397      113862            GEB02   GEB02-3_197.jpg    78922625  496.962006   \n7398      113863            GEB02   GEB02-3_197.jpg    78922625  496.542480   \n7399      113866            GEB02   GEB02-3_197.jpg    78922625  502.057251   \n7400      113870            GEB02   GEB02-3_197.jpg    78922625  485.176636   \n\n               y                                tool_label  \\\n0      51.112278  Others (females, young males, juveniles)   \n1     468.096375  Others (females, young males, juveniles)   \n2     181.467453  Others (females, young males, juveniles)   \n3     277.385895  Others (females, young males, juveniles)   \n4      56.599998                   Adult Male not in a lek   \n...          ...                                       ...   \n7396  135.619003                     Adult Male with a lek   \n7397  433.519104                   Adult Male not in a lek   \n7398  416.344574                   Adult Male not in a lek   \n7399  430.122284  Others (females, young males, juveniles)   \n7400  426.866882  Others (females, young males, juveniles)   \n\n               phase_tag                           user_id  \\\n0     Iguanas 3rd launch  bbe0564f6fa09817cda58d4c1027735e   \n1     Iguanas 3rd launch  bbe0564f6fa09817cda58d4c1027735e   \n2     Iguanas 3rd launch                               NaN   \n3     Iguanas 3rd launch                               NaN   \n4     Iguanas 3rd launch  59ab2166efbc163b3edd511475247309   \n...                  ...                               ...   \n7396  Iguanas 3rd launch  c17e059e2c3b375b261e417e5a65091d   \n7397  Iguanas 3rd launch                               NaN   \n7398  Iguanas 3rd launch                               NaN   \n7399  Iguanas 3rd launch  68a0c0b65edf786c52bd62d8fbdf8c12   \n7400  Iguanas 3rd launch                               NaN   \n\n                             user_name  \n0     01bc9deeac290307915eb93166e02a6b  \n1     01bc9deeac290307915eb93166e02a6b  \n2     a73c4349e66510b82334d70f668ea617  \n3     a73c4349e66510b82334d70f668ea617  \n4     ef54f61bd82b88e105449d751a3391b2  \n...                                ...  \n7396  ae406cf22cbb563674f4b697272a6171  \n7397  25a9604d96ff47b78fa4644b9814a422  \n7398  91a41fd7793b3ec859725897e31e3a5a  \n7399  0919e52eb9dbee91efcc356faf04d3e6  \n7400  b5dd00492abed0932dee745a2ef255bd  \n\n[7401 rows x 10 columns]",
      "text/html": "<div>\n<style scoped>\n    .dataframe tbody tr th:only-of-type {\n        vertical-align: middle;\n    }\n\n    .dataframe tbody tr th {\n        vertical-align: top;\n    }\n\n    .dataframe thead th {\n        text-align: right;\n    }\n</style>\n<table border=\"1\" class=\"dataframe\">\n  <thead>\n    <tr style=\"text-align: right;\">\n      <th></th>\n      <th>Unnamed: 0</th>\n      <th>flight_site_code</th>\n      <th>image_name</th>\n      <th>subject_id</th>\n      <th>x</th>\n      <th>y</th>\n      <th>tool_label</th>\n      <th>phase_tag</th>\n      <th>user_id</th>\n      <th>user_name</th>\n    </tr>\n  </thead>\n  <tbody>\n    <tr>\n      <th>0</th>\n      <td>57</td>\n      <td>CaboIbebetsonS</td>\n      <td>PCIS01-5_67.jpg</td>\n      <td>78961972</td>\n      <td>301.422882</td>\n      <td>51.112278</td>\n      <td>Others (females, young males, juveniles)</td>\n      <td>Iguanas 3rd launch</td>\n      <td>bbe0564f6fa09817cda58d4c1027735e</td>\n      <td>01bc9deeac290307915eb93166e02a6b</td>\n    </tr>\n    <tr>\n      <th>1</th>\n      <td>58</td>\n      <td>CaboIbebetsonS</td>\n      <td>PCIS01-5_67.jpg</td>\n      <td>78961972</td>\n      <td>35.903500</td>\n      <td>468.096375</td>\n      <td>Others (females, young males, juveniles)</td>\n      <td>Iguanas 3rd launch</td>\n      <td>bbe0564f6fa09817cda58d4c1027735e</td>\n      <td>01bc9deeac290307915eb93166e02a6b</td>\n    </tr>\n    <tr>\n      <th>2</th>\n      <td>70</td>\n      <td>WestCoastB</td>\n      <td>GWB01-3_152.jpg</td>\n      <td>78925551</td>\n      <td>728.559448</td>\n      <td>181.467453</td>\n      <td>Others (females, young males, juveniles)</td>\n      <td>Iguanas 3rd launch</td>\n      <td>NaN</td>\n      <td>a73c4349e66510b82334d70f668ea617</td>\n    </tr>\n    <tr>\n      <th>3</th>\n      <td>71</td>\n      <td>WestCoastB</td>\n      <td>GWB01-3_152.jpg</td>\n      <td>78925551</td>\n      <td>601.206055</td>\n      <td>277.385895</td>\n      <td>Others (females, young males, juveniles)</td>\n      <td>Iguanas 3rd launch</td>\n      <td>NaN</td>\n      <td>a73c4349e66510b82334d70f668ea617</td>\n    </tr>\n    <tr>\n      <th>4</th>\n      <td>125</td>\n      <td>SouthCoastH</td>\n      <td>ESCH02-1_323.jpg</td>\n      <td>78965007</td>\n      <td>247.383331</td>\n      <td>56.599998</td>\n      <td>Adult Male not in a lek</td>\n      <td>Iguanas 3rd launch</td>\n      <td>59ab2166efbc163b3edd511475247309</td>\n      <td>ef54f61bd82b88e105449d751a3391b2</td>\n    </tr>\n    <tr>\n      <th>...</th>\n      <td>...</td>\n      <td>...</td>\n      <td>...</td>\n      <td>...</td>\n      <td>...</td>\n      <td>...</td>\n      <td>...</td>\n      <td>...</td>\n      <td>...</td>\n      <td>...</td>\n    </tr>\n    <tr>\n      <th>7396</th>\n      <td>104634</td>\n      <td>SouthCoastH</td>\n      <td>ESCH02-1_174.jpg</td>\n      <td>78964907</td>\n      <td>688.849609</td>\n      <td>135.619003</td>\n      <td>Adult Male with a lek</td>\n      <td>Iguanas 3rd launch</td>\n      <td>c17e059e2c3b375b261e417e5a65091d</td>\n      <td>ae406cf22cbb563674f4b697272a6171</td>\n    </tr>\n    <tr>\n      <th>7397</th>\n      <td>113862</td>\n      <td>GEB02</td>\n      <td>GEB02-3_197.jpg</td>\n      <td>78922625</td>\n      <td>496.962006</td>\n      <td>433.519104</td>\n      <td>Adult Male not in a lek</td>\n      <td>Iguanas 3rd launch</td>\n      <td>NaN</td>\n      <td>25a9604d96ff47b78fa4644b9814a422</td>\n    </tr>\n    <tr>\n      <th>7398</th>\n      <td>113863</td>\n      <td>GEB02</td>\n      <td>GEB02-3_197.jpg</td>\n      <td>78922625</td>\n      <td>496.542480</td>\n      <td>416.344574</td>\n      <td>Adult Male not in a lek</td>\n      <td>Iguanas 3rd launch</td>\n      <td>NaN</td>\n      <td>91a41fd7793b3ec859725897e31e3a5a</td>\n    </tr>\n    <tr>\n      <th>7399</th>\n      <td>113866</td>\n      <td>GEB02</td>\n      <td>GEB02-3_197.jpg</td>\n      <td>78922625</td>\n      <td>502.057251</td>\n      <td>430.122284</td>\n      <td>Others (females, young males, juveniles)</td>\n      <td>Iguanas 3rd launch</td>\n      <td>68a0c0b65edf786c52bd62d8fbdf8c12</td>\n      <td>0919e52eb9dbee91efcc356faf04d3e6</td>\n    </tr>\n    <tr>\n      <th>7400</th>\n      <td>113870</td>\n      <td>GEB02</td>\n      <td>GEB02-3_197.jpg</td>\n      <td>78922625</td>\n      <td>485.176636</td>\n      <td>426.866882</td>\n      <td>Others (females, young males, juveniles)</td>\n      <td>Iguanas 3rd launch</td>\n      <td>NaN</td>\n      <td>b5dd00492abed0932dee745a2ef255bd</td>\n    </tr>\n  </tbody>\n</table>\n<p>7401 rows × 10 columns</p>\n</div>"
     },
     "execution_count": 6,
     "metadata": {},
     "output_type": "execute_result"
    }
   ],
   "source": [
    "## Look at the data\n",
    "df_merged_dataset\n"
   ]
  },
  {
   "cell_type": "markdown",
   "id": "da7bed90d6d10d89",
   "metadata": {
    "collapsed": false
   },
   "source": [
    "### Filter User if necessary and Marks\n"
   ]
  },
  {
   "cell_type": "code",
   "execution_count": 7,
   "id": "b84daa777a0903cf",
   "metadata": {
    "collapsed": false,
    "ExecuteTime": {
     "end_time": "2024-03-22T19:53:24.886504Z",
     "start_time": "2024-03-22T19:53:24.775593Z"
    }
   },
   "outputs": [
    {
     "name": "stderr",
     "output_type": "stream",
     "text": [
      "\u001B[32m2024-03-22 20:53:24.809\u001B[0m | \u001B[33m\u001B[1mWARNING \u001B[0m | \u001B[36mzooniverse.utils.filters\u001B[0m:\u001B[36mfilter_df_user_threshold\u001B[0m:\u001B[36m22\u001B[0m - \u001B[33m\u001B[1mThe image ESCH02-1_258.jpg has only 1 users, which is less than the threshold of 3\u001B[0m\n",
      "\u001B[32m2024-03-22 20:53:24.855\u001B[0m | \u001B[33m\u001B[1mWARNING \u001B[0m | \u001B[36mzooniverse.utils.filters\u001B[0m:\u001B[36mfilter_df_user_threshold\u001B[0m:\u001B[36m25\u001B[0m - \u001B[33m\u001B[1mfiltered out 1 images\u001B[0m\n",
      "\u001B[32m2024-03-22 20:53:24.864\u001B[0m | \u001B[33m\u001B[1mWARNING \u001B[0m | \u001B[36mzooniverse.utils.filters\u001B[0m:\u001B[36mfilter_remove_marks\u001B[0m:\u001B[36m38\u001B[0m - \u001B[33m\u001B[1mremoved 0 partial marks\u001B[0m\n",
      "\u001B[32m2024-03-22 20:53:24.866\u001B[0m | \u001B[33m\u001B[1mWARNING \u001B[0m | \u001B[36mzooniverse.utils.filters\u001B[0m:\u001B[36mfilter_remove_marks\u001B[0m:\u001B[36m39\u001B[0m - \u001B[33m\u001B[1mAfter filter_func 86 images are left\u001B[0m\n"
     ]
    },
    {
     "name": "stdout",
     "output_type": "stream",
     "text": [
      "Before filtering: 87\n",
      "filtering records which have less than 3 interactions.\n"
     ]
    }
   ],
   "source": [
    "print(f\"Before filtering: {df_merged_dataset.subject_id.nunique()}\")\n",
    "# There images in which some people said there are iguanas, but then didn't mark them. Clustering with fewer than 3 dots doesn't make sense\n",
    "if user_threshold is not None:\n",
    "    print(f\"filtering records which have less than {user_threshold} interactions.\")\n",
    "    df_merged_dataset = filter_df_user_threshold(df_merged_dataset, user_threshold=user_threshold)\n",
    "    \n",
    "    \n",
    "from zooniverse.utils.filters import filter_remove_marks\n",
    "# Check if partials are still in the data. There shouldn't be any\n",
    "df_merged_dataset = filter_remove_marks(df_merged_dataset)\n"
   ]
  },
  {
   "cell_type": "markdown",
   "id": "d479e39e24f570b0",
   "metadata": {
    "collapsed": false
   },
   "source": [
    "### Are there anonymous users in the data?\n",
    "There should be some."
   ]
  },
  {
   "cell_type": "code",
   "execution_count": 8,
   "id": "9936072d8a7b7602",
   "metadata": {
    "collapsed": false,
    "ExecuteTime": {
     "end_time": "2024-03-22T19:53:24.923587Z",
     "start_time": "2024-03-22T19:53:24.891318Z"
    }
   },
   "outputs": [
    {
     "data": {
      "text/plain": "      Unnamed: 0 flight_site_code        image_name  subject_id           x  \\\n1804       20416      SouthCoastH   ESCH01-1_13.jpg    78964714  842.693787   \n1805       20417      SouthCoastH   ESCH01-1_13.jpg    78964714  890.732117   \n1806       20418      SouthCoastH   ESCH01-1_13.jpg    78964714  792.876221   \n1807       20419      SouthCoastH   ESCH01-1_13.jpg    78964714  796.434631   \n1808       20420      SouthCoastH   ESCH01-1_13.jpg    78964714  816.005798   \n...          ...              ...               ...         ...         ...   \n1077       11744        WestCoast  PWC03-2-1_42.jpg    78963297  468.903534   \n1479       15812        WestCoast  PWC03-2-1_42.jpg    78963297  431.552338   \n1480       15813        WestCoast  PWC03-2-1_42.jpg    78963297  465.189301   \n1481       15814        WestCoast  PWC03-2-1_42.jpg    78963297  365.623840   \n1482       15815        WestCoast  PWC03-2-1_42.jpg    78963297  470.571198   \n\n               y                                tool_label  \\\n1804  272.662140                     Adult Male with a lek   \n1805  242.415756                     Adult Male with a lek   \n1806  124.988678                     Adult Male with a lek   \n1807  290.454102  Others (females, young males, juveniles)   \n1808  235.298965  Others (females, young males, juveniles)   \n...          ...                                       ...   \n1077  196.045349  Others (females, young males, juveniles)   \n1479   42.428822                     Adult Male with a lek   \n1480  190.431534  Others (females, young males, juveniles)   \n1481  152.758118  Others (females, young males, juveniles)   \n1482   12.828279  Others (females, young males, juveniles)   \n\n               phase_tag user_id                         user_name  \n1804  Iguanas 3rd launch     NaN  adc99ea22219d2baff677763af1cd90f  \n1805  Iguanas 3rd launch     NaN  adc99ea22219d2baff677763af1cd90f  \n1806  Iguanas 3rd launch     NaN  adc99ea22219d2baff677763af1cd90f  \n1807  Iguanas 3rd launch     NaN  adc99ea22219d2baff677763af1cd90f  \n1808  Iguanas 3rd launch     NaN  adc99ea22219d2baff677763af1cd90f  \n...                  ...     ...                               ...  \n1077  Iguanas 3rd launch     NaN  3952ec0af313d58d488dc97beb19c4cb  \n1479  Iguanas 3rd launch     NaN  d51caf2b0d8a68548a70de2a954d48dd  \n1480  Iguanas 3rd launch     NaN  d51caf2b0d8a68548a70de2a954d48dd  \n1481  Iguanas 3rd launch     NaN  d51caf2b0d8a68548a70de2a954d48dd  \n1482  Iguanas 3rd launch     NaN  d51caf2b0d8a68548a70de2a954d48dd  \n\n[895 rows x 10 columns]",
      "text/html": "<div>\n<style scoped>\n    .dataframe tbody tr th:only-of-type {\n        vertical-align: middle;\n    }\n\n    .dataframe tbody tr th {\n        vertical-align: top;\n    }\n\n    .dataframe thead th {\n        text-align: right;\n    }\n</style>\n<table border=\"1\" class=\"dataframe\">\n  <thead>\n    <tr style=\"text-align: right;\">\n      <th></th>\n      <th>Unnamed: 0</th>\n      <th>flight_site_code</th>\n      <th>image_name</th>\n      <th>subject_id</th>\n      <th>x</th>\n      <th>y</th>\n      <th>tool_label</th>\n      <th>phase_tag</th>\n      <th>user_id</th>\n      <th>user_name</th>\n    </tr>\n  </thead>\n  <tbody>\n    <tr>\n      <th>1804</th>\n      <td>20416</td>\n      <td>SouthCoastH</td>\n      <td>ESCH01-1_13.jpg</td>\n      <td>78964714</td>\n      <td>842.693787</td>\n      <td>272.662140</td>\n      <td>Adult Male with a lek</td>\n      <td>Iguanas 3rd launch</td>\n      <td>NaN</td>\n      <td>adc99ea22219d2baff677763af1cd90f</td>\n    </tr>\n    <tr>\n      <th>1805</th>\n      <td>20417</td>\n      <td>SouthCoastH</td>\n      <td>ESCH01-1_13.jpg</td>\n      <td>78964714</td>\n      <td>890.732117</td>\n      <td>242.415756</td>\n      <td>Adult Male with a lek</td>\n      <td>Iguanas 3rd launch</td>\n      <td>NaN</td>\n      <td>adc99ea22219d2baff677763af1cd90f</td>\n    </tr>\n    <tr>\n      <th>1806</th>\n      <td>20418</td>\n      <td>SouthCoastH</td>\n      <td>ESCH01-1_13.jpg</td>\n      <td>78964714</td>\n      <td>792.876221</td>\n      <td>124.988678</td>\n      <td>Adult Male with a lek</td>\n      <td>Iguanas 3rd launch</td>\n      <td>NaN</td>\n      <td>adc99ea22219d2baff677763af1cd90f</td>\n    </tr>\n    <tr>\n      <th>1807</th>\n      <td>20419</td>\n      <td>SouthCoastH</td>\n      <td>ESCH01-1_13.jpg</td>\n      <td>78964714</td>\n      <td>796.434631</td>\n      <td>290.454102</td>\n      <td>Others (females, young males, juveniles)</td>\n      <td>Iguanas 3rd launch</td>\n      <td>NaN</td>\n      <td>adc99ea22219d2baff677763af1cd90f</td>\n    </tr>\n    <tr>\n      <th>1808</th>\n      <td>20420</td>\n      <td>SouthCoastH</td>\n      <td>ESCH01-1_13.jpg</td>\n      <td>78964714</td>\n      <td>816.005798</td>\n      <td>235.298965</td>\n      <td>Others (females, young males, juveniles)</td>\n      <td>Iguanas 3rd launch</td>\n      <td>NaN</td>\n      <td>adc99ea22219d2baff677763af1cd90f</td>\n    </tr>\n    <tr>\n      <th>...</th>\n      <td>...</td>\n      <td>...</td>\n      <td>...</td>\n      <td>...</td>\n      <td>...</td>\n      <td>...</td>\n      <td>...</td>\n      <td>...</td>\n      <td>...</td>\n      <td>...</td>\n    </tr>\n    <tr>\n      <th>1077</th>\n      <td>11744</td>\n      <td>WestCoast</td>\n      <td>PWC03-2-1_42.jpg</td>\n      <td>78963297</td>\n      <td>468.903534</td>\n      <td>196.045349</td>\n      <td>Others (females, young males, juveniles)</td>\n      <td>Iguanas 3rd launch</td>\n      <td>NaN</td>\n      <td>3952ec0af313d58d488dc97beb19c4cb</td>\n    </tr>\n    <tr>\n      <th>1479</th>\n      <td>15812</td>\n      <td>WestCoast</td>\n      <td>PWC03-2-1_42.jpg</td>\n      <td>78963297</td>\n      <td>431.552338</td>\n      <td>42.428822</td>\n      <td>Adult Male with a lek</td>\n      <td>Iguanas 3rd launch</td>\n      <td>NaN</td>\n      <td>d51caf2b0d8a68548a70de2a954d48dd</td>\n    </tr>\n    <tr>\n      <th>1480</th>\n      <td>15813</td>\n      <td>WestCoast</td>\n      <td>PWC03-2-1_42.jpg</td>\n      <td>78963297</td>\n      <td>465.189301</td>\n      <td>190.431534</td>\n      <td>Others (females, young males, juveniles)</td>\n      <td>Iguanas 3rd launch</td>\n      <td>NaN</td>\n      <td>d51caf2b0d8a68548a70de2a954d48dd</td>\n    </tr>\n    <tr>\n      <th>1481</th>\n      <td>15814</td>\n      <td>WestCoast</td>\n      <td>PWC03-2-1_42.jpg</td>\n      <td>78963297</td>\n      <td>365.623840</td>\n      <td>152.758118</td>\n      <td>Others (females, young males, juveniles)</td>\n      <td>Iguanas 3rd launch</td>\n      <td>NaN</td>\n      <td>d51caf2b0d8a68548a70de2a954d48dd</td>\n    </tr>\n    <tr>\n      <th>1482</th>\n      <td>15815</td>\n      <td>WestCoast</td>\n      <td>PWC03-2-1_42.jpg</td>\n      <td>78963297</td>\n      <td>470.571198</td>\n      <td>12.828279</td>\n      <td>Others (females, young males, juveniles)</td>\n      <td>Iguanas 3rd launch</td>\n      <td>NaN</td>\n      <td>d51caf2b0d8a68548a70de2a954d48dd</td>\n    </tr>\n  </tbody>\n</table>\n<p>895 rows × 10 columns</p>\n</div>"
     },
     "execution_count": 8,
     "metadata": {},
     "output_type": "execute_result"
    }
   ],
   "source": [
    "df_merged_dataset[df_merged_dataset.user_id.isnull().values]"
   ]
  },
  {
   "cell_type": "code",
   "execution_count": 9,
   "id": "9258d161c25ae7d3",
   "metadata": {
    "collapsed": false,
    "ExecuteTime": {
     "end_time": "2024-03-22T19:53:24.953403Z",
     "start_time": "2024-03-22T19:53:24.925315Z"
    }
   },
   "outputs": [
    {
     "data": {
      "text/plain": "86"
     },
     "execution_count": 9,
     "metadata": {},
     "output_type": "execute_result"
    }
   ],
   "source": [
    "# Amount of images\n",
    "df_merged_dataset[\"subject_id\"].nunique()"
   ]
  },
  {
   "cell_type": "code",
   "execution_count": 10,
   "id": "6caad5d554d586db",
   "metadata": {
    "collapsed": false,
    "ExecuteTime": {
     "end_time": "2024-03-22T19:53:24.982926Z",
     "start_time": "2024-03-22T19:53:24.955111Z"
    }
   },
   "outputs": [
    {
     "data": {
      "text/plain": "      Unnamed: 0 flight_site_code        image_name  subject_id           x  \\\n408         4658      SouthCoastH   ESCH01-1_13.jpg    78964714  764.540100   \n409         4659      SouthCoastH   ESCH01-1_13.jpg    78964714  767.268921   \n410         4660      SouthCoastH   ESCH01-1_13.jpg    78964714  769.088196   \n411         4661      SouthCoastH   ESCH01-1_13.jpg    78964714  754.079529   \n412         4662      SouthCoastH   ESCH01-1_13.jpg    78964714  808.201660   \n...          ...              ...               ...         ...         ...   \n5019       64823        WestCoast  PWC03-2-1_42.jpg    78963297  475.094360   \n5724       73986        WestCoast  PWC03-2-1_42.jpg    78963297  466.367310   \n5725       73987        WestCoast  PWC03-2-1_42.jpg    78963297  356.656067   \n5726       73988        WestCoast  PWC03-2-1_42.jpg    78963297  421.485443   \n5727       73989        WestCoast  PWC03-2-1_42.jpg    78963297  473.847626   \n\n               y                                tool_label  \\\n408   361.271637                     Adult Male with a lek   \n409   334.892792  Others (females, young males, juveniles)   \n410   310.787964  Others (females, young males, juveniles)   \n411   277.132202  Others (females, young males, juveniles)   \n412   272.584106  Others (females, young males, juveniles)   \n...          ...                                       ...   \n5019  192.540146  Others (females, young males, juveniles)   \n5724  195.423187  Others (females, young males, juveniles)   \n5725  149.294586  Others (females, young males, juveniles)   \n5726   44.570198  Others (females, young males, juveniles)   \n5727   15.895665  Others (females, young males, juveniles)   \n\n               phase_tag                           user_id  \\\n408   Iguanas 3rd launch  823e0c8bf213199beae68750e41a837a   \n409   Iguanas 3rd launch  823e0c8bf213199beae68750e41a837a   \n410   Iguanas 3rd launch  823e0c8bf213199beae68750e41a837a   \n411   Iguanas 3rd launch  823e0c8bf213199beae68750e41a837a   \n412   Iguanas 3rd launch  823e0c8bf213199beae68750e41a837a   \n...                  ...                               ...   \n5019  Iguanas 3rd launch  3fc49e9436026f5e3c1361265a845d75   \n5724  Iguanas 3rd launch  c11a32c827347926881e5e1db75cb701   \n5725  Iguanas 3rd launch  c11a32c827347926881e5e1db75cb701   \n5726  Iguanas 3rd launch  c11a32c827347926881e5e1db75cb701   \n5727  Iguanas 3rd launch  c11a32c827347926881e5e1db75cb701   \n\n                             user_name  \n408   4253d1b3d5ae39006bb949e6cf2f144e  \n409   4253d1b3d5ae39006bb949e6cf2f144e  \n410   4253d1b3d5ae39006bb949e6cf2f144e  \n411   4253d1b3d5ae39006bb949e6cf2f144e  \n412   4253d1b3d5ae39006bb949e6cf2f144e  \n...                                ...  \n5019  a1b06094359d2185d0bcee38da83928a  \n5724  691500ccebe2131f83809524df652f87  \n5725  691500ccebe2131f83809524df652f87  \n5726  691500ccebe2131f83809524df652f87  \n5727  691500ccebe2131f83809524df652f87  \n\n[7400 rows x 10 columns]",
      "text/html": "<div>\n<style scoped>\n    .dataframe tbody tr th:only-of-type {\n        vertical-align: middle;\n    }\n\n    .dataframe tbody tr th {\n        vertical-align: top;\n    }\n\n    .dataframe thead th {\n        text-align: right;\n    }\n</style>\n<table border=\"1\" class=\"dataframe\">\n  <thead>\n    <tr style=\"text-align: right;\">\n      <th></th>\n      <th>Unnamed: 0</th>\n      <th>flight_site_code</th>\n      <th>image_name</th>\n      <th>subject_id</th>\n      <th>x</th>\n      <th>y</th>\n      <th>tool_label</th>\n      <th>phase_tag</th>\n      <th>user_id</th>\n      <th>user_name</th>\n    </tr>\n  </thead>\n  <tbody>\n    <tr>\n      <th>408</th>\n      <td>4658</td>\n      <td>SouthCoastH</td>\n      <td>ESCH01-1_13.jpg</td>\n      <td>78964714</td>\n      <td>764.540100</td>\n      <td>361.271637</td>\n      <td>Adult Male with a lek</td>\n      <td>Iguanas 3rd launch</td>\n      <td>823e0c8bf213199beae68750e41a837a</td>\n      <td>4253d1b3d5ae39006bb949e6cf2f144e</td>\n    </tr>\n    <tr>\n      <th>409</th>\n      <td>4659</td>\n      <td>SouthCoastH</td>\n      <td>ESCH01-1_13.jpg</td>\n      <td>78964714</td>\n      <td>767.268921</td>\n      <td>334.892792</td>\n      <td>Others (females, young males, juveniles)</td>\n      <td>Iguanas 3rd launch</td>\n      <td>823e0c8bf213199beae68750e41a837a</td>\n      <td>4253d1b3d5ae39006bb949e6cf2f144e</td>\n    </tr>\n    <tr>\n      <th>410</th>\n      <td>4660</td>\n      <td>SouthCoastH</td>\n      <td>ESCH01-1_13.jpg</td>\n      <td>78964714</td>\n      <td>769.088196</td>\n      <td>310.787964</td>\n      <td>Others (females, young males, juveniles)</td>\n      <td>Iguanas 3rd launch</td>\n      <td>823e0c8bf213199beae68750e41a837a</td>\n      <td>4253d1b3d5ae39006bb949e6cf2f144e</td>\n    </tr>\n    <tr>\n      <th>411</th>\n      <td>4661</td>\n      <td>SouthCoastH</td>\n      <td>ESCH01-1_13.jpg</td>\n      <td>78964714</td>\n      <td>754.079529</td>\n      <td>277.132202</td>\n      <td>Others (females, young males, juveniles)</td>\n      <td>Iguanas 3rd launch</td>\n      <td>823e0c8bf213199beae68750e41a837a</td>\n      <td>4253d1b3d5ae39006bb949e6cf2f144e</td>\n    </tr>\n    <tr>\n      <th>412</th>\n      <td>4662</td>\n      <td>SouthCoastH</td>\n      <td>ESCH01-1_13.jpg</td>\n      <td>78964714</td>\n      <td>808.201660</td>\n      <td>272.584106</td>\n      <td>Others (females, young males, juveniles)</td>\n      <td>Iguanas 3rd launch</td>\n      <td>823e0c8bf213199beae68750e41a837a</td>\n      <td>4253d1b3d5ae39006bb949e6cf2f144e</td>\n    </tr>\n    <tr>\n      <th>...</th>\n      <td>...</td>\n      <td>...</td>\n      <td>...</td>\n      <td>...</td>\n      <td>...</td>\n      <td>...</td>\n      <td>...</td>\n      <td>...</td>\n      <td>...</td>\n      <td>...</td>\n    </tr>\n    <tr>\n      <th>5019</th>\n      <td>64823</td>\n      <td>WestCoast</td>\n      <td>PWC03-2-1_42.jpg</td>\n      <td>78963297</td>\n      <td>475.094360</td>\n      <td>192.540146</td>\n      <td>Others (females, young males, juveniles)</td>\n      <td>Iguanas 3rd launch</td>\n      <td>3fc49e9436026f5e3c1361265a845d75</td>\n      <td>a1b06094359d2185d0bcee38da83928a</td>\n    </tr>\n    <tr>\n      <th>5724</th>\n      <td>73986</td>\n      <td>WestCoast</td>\n      <td>PWC03-2-1_42.jpg</td>\n      <td>78963297</td>\n      <td>466.367310</td>\n      <td>195.423187</td>\n      <td>Others (females, young males, juveniles)</td>\n      <td>Iguanas 3rd launch</td>\n      <td>c11a32c827347926881e5e1db75cb701</td>\n      <td>691500ccebe2131f83809524df652f87</td>\n    </tr>\n    <tr>\n      <th>5725</th>\n      <td>73987</td>\n      <td>WestCoast</td>\n      <td>PWC03-2-1_42.jpg</td>\n      <td>78963297</td>\n      <td>356.656067</td>\n      <td>149.294586</td>\n      <td>Others (females, young males, juveniles)</td>\n      <td>Iguanas 3rd launch</td>\n      <td>c11a32c827347926881e5e1db75cb701</td>\n      <td>691500ccebe2131f83809524df652f87</td>\n    </tr>\n    <tr>\n      <th>5726</th>\n      <td>73988</td>\n      <td>WestCoast</td>\n      <td>PWC03-2-1_42.jpg</td>\n      <td>78963297</td>\n      <td>421.485443</td>\n      <td>44.570198</td>\n      <td>Others (females, young males, juveniles)</td>\n      <td>Iguanas 3rd launch</td>\n      <td>c11a32c827347926881e5e1db75cb701</td>\n      <td>691500ccebe2131f83809524df652f87</td>\n    </tr>\n    <tr>\n      <th>5727</th>\n      <td>73989</td>\n      <td>WestCoast</td>\n      <td>PWC03-2-1_42.jpg</td>\n      <td>78963297</td>\n      <td>473.847626</td>\n      <td>15.895665</td>\n      <td>Others (females, young males, juveniles)</td>\n      <td>Iguanas 3rd launch</td>\n      <td>c11a32c827347926881e5e1db75cb701</td>\n      <td>691500ccebe2131f83809524df652f87</td>\n    </tr>\n  </tbody>\n</table>\n<p>7400 rows × 10 columns</p>\n</div>"
     },
     "execution_count": 10,
     "metadata": {},
     "output_type": "execute_result"
    }
   ],
   "source": [
    "## After filtering there\n",
    "df_merged_dataset"
   ]
  },
  {
   "cell_type": "code",
   "execution_count": 11,
   "id": "e1fcc8d02df55119",
   "metadata": {
    "collapsed": false,
    "ExecuteTime": {
     "end_time": "2024-03-22T19:53:25.016799Z",
     "start_time": "2024-03-22T19:53:24.985102Z"
    }
   },
   "outputs": [
    {
     "data": {
      "text/plain": "                                    x\nuser_id                              \n013cb4b55188fc660b8fd7f8dbb9bb8f    9\n0156eebf62383fedf03616142d065d39  131\n01671783e7cd4124074ed5fc29647828   13\n01f32084acb4138c447e1404d765d7b4    2\n023383cf6fd2b03c328c2e8054d2ccea    1",
      "text/html": "<div>\n<style scoped>\n    .dataframe tbody tr th:only-of-type {\n        vertical-align: middle;\n    }\n\n    .dataframe tbody tr th {\n        vertical-align: top;\n    }\n\n    .dataframe thead th {\n        text-align: right;\n    }\n</style>\n<table border=\"1\" class=\"dataframe\">\n  <thead>\n    <tr style=\"text-align: right;\">\n      <th></th>\n      <th>x</th>\n    </tr>\n    <tr>\n      <th>user_id</th>\n      <th></th>\n    </tr>\n  </thead>\n  <tbody>\n    <tr>\n      <th>013cb4b55188fc660b8fd7f8dbb9bb8f</th>\n      <td>9</td>\n    </tr>\n    <tr>\n      <th>0156eebf62383fedf03616142d065d39</th>\n      <td>131</td>\n    </tr>\n    <tr>\n      <th>01671783e7cd4124074ed5fc29647828</th>\n      <td>13</td>\n    </tr>\n    <tr>\n      <th>01f32084acb4138c447e1404d765d7b4</th>\n      <td>2</td>\n    </tr>\n    <tr>\n      <th>023383cf6fd2b03c328c2e8054d2ccea</th>\n      <td>1</td>\n    </tr>\n  </tbody>\n</table>\n</div>"
     },
     "execution_count": 11,
     "metadata": {},
     "output_type": "execute_result"
    }
   ],
   "source": [
    "# how many marks per user\n",
    "df_merged_dataset[[\"user_id\", \"x\"]].groupby(\"user_id\").count().head()"
   ]
  },
  {
   "cell_type": "markdown",
   "id": "727513d12334665b",
   "metadata": {
    "collapsed": false
   },
   "source": []
  },
  {
   "cell_type": "code",
   "execution_count": 12,
   "id": "a32dd3d78eb25d4a",
   "metadata": {
    "collapsed": false,
    "ExecuteTime": {
     "end_time": "2024-03-22T19:53:25.041045Z",
     "start_time": "2024-03-22T19:53:25.018899Z"
    }
   },
   "outputs": [
    {
     "data": {
      "text/plain": "86"
     },
     "execution_count": 12,
     "metadata": {},
     "output_type": "execute_result"
    }
   ],
   "source": [
    "# How many images are left in the zooniverse dataset?\n",
    "df_merged_dataset[\"subject_id\"].nunique()"
   ]
  },
  {
   "cell_type": "markdown",
   "id": "42c2737f2c06741d",
   "metadata": {
    "collapsed": false
   },
   "source": [
    "## Clustering"
   ]
  },
  {
   "cell_type": "markdown",
   "id": "beefdd1511daad4",
   "metadata": {
    "collapsed": false
   },
   "source": [
    "### Basic Statics like mean, median, mode"
   ]
  },
  {
   "cell_type": "code",
   "execution_count": 13,
   "id": "998d62019f01a2ec",
   "metadata": {
    "collapsed": false,
    "ExecuteTime": {
     "end_time": "2024-03-22T19:53:25.085352Z",
     "start_time": "2024-03-22T19:53:25.043641Z"
    }
   },
   "outputs": [],
   "source": [
    "from zooniverse.analysis import get_mark_overview\n",
    "\n",
    "basic_stats = []\n",
    "\n",
    "for image_name, df_image_name in df_merged_dataset.groupby(\"image_name\"):\n",
    "    annotations_count = get_mark_overview(df_image_name)\n",
    "\n",
    "    annotations_count_stats = get_annotation_count_stats(annotations_count=annotations_count,\n",
    "                                                         image_name=df_image_name.iloc[0][\"image_name\"])\n",
    "\n",
    "    ### basic statistics like mean, median\n",
    "    basic_stats.append(annotations_count_stats)\n",
    "    \n",
    "\n",
    "df_basic_stats = pd.DataFrame(basic_stats)    \n",
    "df_comparison = df_basic_stats\n"
   ]
  },
  {
   "cell_type": "code",
   "execution_count": 14,
   "id": "dd1f05f18807f3b4",
   "metadata": {
    "collapsed": false,
    "ExecuteTime": {
     "end_time": "2024-03-22T19:53:25.124770Z",
     "start_time": "2024-03-22T19:53:25.091915Z"
    }
   },
   "outputs": [
    {
     "data": {
      "text/plain": "          image_name  median_count  mean_count  mode_count  users  \\\n0    ESCH01-1_13.jpg          18.0       16.46          19     24   \n1    ESCH01-1_19.jpg           6.5        6.39           7     18   \n2    ESCH01-1_21.jpg           6.5        5.96           2     28   \n3    ESCH01-1_22.jpg           4.0        3.89           5     27   \n4    ESCH01-1_23.jpg           2.0        2.11           2     27   \n..               ...           ...         ...         ...    ...   \n81    PWC01-1_61.jpg          14.0       13.25          14     24   \n82    PWC01-1_62.jpg          12.0       11.94          13     16   \n83   PWC01-4_231.jpg           3.0        2.88           1      8   \n84    PWC01-5_34.jpg           1.0        1.46           1     13   \n85  PWC03-2-1_42.jpg           3.5        3.33           4     12   \n\n    sum_annotations_count                                  annotations_count  \n0                     395  [3, 8, 11, 15, 15, 15, 15, 16, 17, 17, 18, 18,...  \n1                     115  [3, 3, 3, 3, 4, 5, 5, 6, 6, 7, 7, 7, 7, 8, 8, ...  \n2                     167  [2, 2, 2, 2, 2, 2, 3, 3, 5, 5, 5, 6, 6, 6, 7, ...  \n3                     105  [1, 1, 1, 1, 3, 3, 3, 3, 4, 4, 4, 4, 4, 4, 4, ...  \n4                      57  [2, 2, 2, 2, 2, 2, 2, 2, 2, 2, 2, 2, 2, 2, 2, ...  \n..                    ...                                                ...  \n81                    318  [2, 7, 9, 9, 11, 12, 13, 13, 13, 14, 14, 14, 1...  \n82                    191  [10, 10, 10, 11, 11, 11, 12, 12, 12, 13, 13, 1...  \n83                     23                           [1, 1, 1, 3, 3, 4, 5, 5]  \n84                     19            [1, 1, 1, 1, 1, 1, 1, 1, 1, 2, 2, 3, 3]  \n85                     40               [2, 2, 3, 3, 3, 3, 4, 4, 4, 4, 4, 4]  \n\n[86 rows x 7 columns]",
      "text/html": "<div>\n<style scoped>\n    .dataframe tbody tr th:only-of-type {\n        vertical-align: middle;\n    }\n\n    .dataframe tbody tr th {\n        vertical-align: top;\n    }\n\n    .dataframe thead th {\n        text-align: right;\n    }\n</style>\n<table border=\"1\" class=\"dataframe\">\n  <thead>\n    <tr style=\"text-align: right;\">\n      <th></th>\n      <th>image_name</th>\n      <th>median_count</th>\n      <th>mean_count</th>\n      <th>mode_count</th>\n      <th>users</th>\n      <th>sum_annotations_count</th>\n      <th>annotations_count</th>\n    </tr>\n  </thead>\n  <tbody>\n    <tr>\n      <th>0</th>\n      <td>ESCH01-1_13.jpg</td>\n      <td>18.0</td>\n      <td>16.46</td>\n      <td>19</td>\n      <td>24</td>\n      <td>395</td>\n      <td>[3, 8, 11, 15, 15, 15, 15, 16, 17, 17, 18, 18,...</td>\n    </tr>\n    <tr>\n      <th>1</th>\n      <td>ESCH01-1_19.jpg</td>\n      <td>6.5</td>\n      <td>6.39</td>\n      <td>7</td>\n      <td>18</td>\n      <td>115</td>\n      <td>[3, 3, 3, 3, 4, 5, 5, 6, 6, 7, 7, 7, 7, 8, 8, ...</td>\n    </tr>\n    <tr>\n      <th>2</th>\n      <td>ESCH01-1_21.jpg</td>\n      <td>6.5</td>\n      <td>5.96</td>\n      <td>2</td>\n      <td>28</td>\n      <td>167</td>\n      <td>[2, 2, 2, 2, 2, 2, 3, 3, 5, 5, 5, 6, 6, 6, 7, ...</td>\n    </tr>\n    <tr>\n      <th>3</th>\n      <td>ESCH01-1_22.jpg</td>\n      <td>4.0</td>\n      <td>3.89</td>\n      <td>5</td>\n      <td>27</td>\n      <td>105</td>\n      <td>[1, 1, 1, 1, 3, 3, 3, 3, 4, 4, 4, 4, 4, 4, 4, ...</td>\n    </tr>\n    <tr>\n      <th>4</th>\n      <td>ESCH01-1_23.jpg</td>\n      <td>2.0</td>\n      <td>2.11</td>\n      <td>2</td>\n      <td>27</td>\n      <td>57</td>\n      <td>[2, 2, 2, 2, 2, 2, 2, 2, 2, 2, 2, 2, 2, 2, 2, ...</td>\n    </tr>\n    <tr>\n      <th>...</th>\n      <td>...</td>\n      <td>...</td>\n      <td>...</td>\n      <td>...</td>\n      <td>...</td>\n      <td>...</td>\n      <td>...</td>\n    </tr>\n    <tr>\n      <th>81</th>\n      <td>PWC01-1_61.jpg</td>\n      <td>14.0</td>\n      <td>13.25</td>\n      <td>14</td>\n      <td>24</td>\n      <td>318</td>\n      <td>[2, 7, 9, 9, 11, 12, 13, 13, 13, 14, 14, 14, 1...</td>\n    </tr>\n    <tr>\n      <th>82</th>\n      <td>PWC01-1_62.jpg</td>\n      <td>12.0</td>\n      <td>11.94</td>\n      <td>13</td>\n      <td>16</td>\n      <td>191</td>\n      <td>[10, 10, 10, 11, 11, 11, 12, 12, 12, 13, 13, 1...</td>\n    </tr>\n    <tr>\n      <th>83</th>\n      <td>PWC01-4_231.jpg</td>\n      <td>3.0</td>\n      <td>2.88</td>\n      <td>1</td>\n      <td>8</td>\n      <td>23</td>\n      <td>[1, 1, 1, 3, 3, 4, 5, 5]</td>\n    </tr>\n    <tr>\n      <th>84</th>\n      <td>PWC01-5_34.jpg</td>\n      <td>1.0</td>\n      <td>1.46</td>\n      <td>1</td>\n      <td>13</td>\n      <td>19</td>\n      <td>[1, 1, 1, 1, 1, 1, 1, 1, 1, 2, 2, 3, 3]</td>\n    </tr>\n    <tr>\n      <th>85</th>\n      <td>PWC03-2-1_42.jpg</td>\n      <td>3.5</td>\n      <td>3.33</td>\n      <td>4</td>\n      <td>12</td>\n      <td>40</td>\n      <td>[2, 2, 3, 3, 3, 3, 4, 4, 4, 4, 4, 4]</td>\n    </tr>\n  </tbody>\n</table>\n<p>86 rows × 7 columns</p>\n</div>"
     },
     "execution_count": 14,
     "metadata": {},
     "output_type": "execute_result"
    }
   ],
   "source": [
    "df_basic_stats"
   ]
  },
  {
   "cell_type": "code",
   "execution_count": 15,
   "id": "d3dc86009d813ff0",
   "metadata": {
    "collapsed": false,
    "ExecuteTime": {
     "end_time": "2024-03-22T19:53:25.149830Z",
     "start_time": "2024-03-22T19:53:25.126384Z"
    }
   },
   "outputs": [
    {
     "data": {
      "text/plain": "Empty DataFrame\nColumns: [image_name, median_count, mean_count, mode_count, users, sum_annotations_count, annotations_count]\nIndex: []",
      "text/html": "<div>\n<style scoped>\n    .dataframe tbody tr th:only-of-type {\n        vertical-align: middle;\n    }\n\n    .dataframe tbody tr th {\n        vertical-align: top;\n    }\n\n    .dataframe thead th {\n        text-align: right;\n    }\n</style>\n<table border=\"1\" class=\"dataframe\">\n  <thead>\n    <tr style=\"text-align: right;\">\n      <th></th>\n      <th>image_name</th>\n      <th>median_count</th>\n      <th>mean_count</th>\n      <th>mode_count</th>\n      <th>users</th>\n      <th>sum_annotations_count</th>\n      <th>annotations_count</th>\n    </tr>\n  </thead>\n  <tbody>\n  </tbody>\n</table>\n</div>"
     },
     "execution_count": 15,
     "metadata": {},
     "output_type": "execute_result"
    }
   ],
   "source": [
    "# There might be records with too few annotations if they were not removed before\n",
    "df_comparison[(df_comparison.sum_annotations_count < 5)].sort_values(by=\"users\", ascending=False)"
   ]
  },
  {
   "cell_type": "code",
   "execution_count": 16,
   "id": "50596f5c07d7bd7c",
   "metadata": {
    "collapsed": false,
    "ExecuteTime": {
     "end_time": "2024-03-22T19:53:25.176723Z",
     "start_time": "2024-03-22T19:53:25.151502Z"
    }
   },
   "outputs": [],
   "source": [
    "# Fill NaN values with 0 because the errors can't be calculated otherwise\n",
    "df_comparison.fillna(0, inplace=True)\n"
   ]
  },
  {
   "cell_type": "code",
   "execution_count": 17,
   "id": "d0b61f01-8db0-48a6-8a4e-5ff80e6f86e4",
   "metadata": {
    "ExecuteTime": {
     "end_time": "2024-03-22T19:53:25.211674Z",
     "start_time": "2024-03-22T19:53:25.178099Z"
    }
   },
   "outputs": [
    {
     "data": {
      "text/plain": "          image_name  median_count  mean_count  mode_count  users  \\\n0    ESCH01-1_13.jpg          18.0       16.46          19     24   \n1    ESCH01-1_19.jpg           6.5        6.39           7     18   \n2    ESCH01-1_21.jpg           6.5        5.96           2     28   \n3    ESCH01-1_22.jpg           4.0        3.89           5     27   \n4    ESCH01-1_23.jpg           2.0        2.11           2     27   \n..               ...           ...         ...         ...    ...   \n81    PWC01-1_61.jpg          14.0       13.25          14     24   \n82    PWC01-1_62.jpg          12.0       11.94          13     16   \n83   PWC01-4_231.jpg           3.0        2.88           1      8   \n84    PWC01-5_34.jpg           1.0        1.46           1     13   \n85  PWC03-2-1_42.jpg           3.5        3.33           4     12   \n\n    sum_annotations_count                                  annotations_count  \n0                     395  [3, 8, 11, 15, 15, 15, 15, 16, 17, 17, 18, 18,...  \n1                     115  [3, 3, 3, 3, 4, 5, 5, 6, 6, 7, 7, 7, 7, 8, 8, ...  \n2                     167  [2, 2, 2, 2, 2, 2, 3, 3, 5, 5, 5, 6, 6, 6, 7, ...  \n3                     105  [1, 1, 1, 1, 3, 3, 3, 3, 4, 4, 4, 4, 4, 4, 4, ...  \n4                      57  [2, 2, 2, 2, 2, 2, 2, 2, 2, 2, 2, 2, 2, 2, 2, ...  \n..                    ...                                                ...  \n81                    318  [2, 7, 9, 9, 11, 12, 13, 13, 13, 14, 14, 14, 1...  \n82                    191  [10, 10, 10, 11, 11, 11, 12, 12, 12, 13, 13, 1...  \n83                     23                           [1, 1, 1, 3, 3, 4, 5, 5]  \n84                     19            [1, 1, 1, 1, 1, 1, 1, 1, 1, 2, 2, 3, 3]  \n85                     40               [2, 2, 3, 3, 3, 3, 4, 4, 4, 4, 4, 4]  \n\n[86 rows x 7 columns]",
      "text/html": "<div>\n<style scoped>\n    .dataframe tbody tr th:only-of-type {\n        vertical-align: middle;\n    }\n\n    .dataframe tbody tr th {\n        vertical-align: top;\n    }\n\n    .dataframe thead th {\n        text-align: right;\n    }\n</style>\n<table border=\"1\" class=\"dataframe\">\n  <thead>\n    <tr style=\"text-align: right;\">\n      <th></th>\n      <th>image_name</th>\n      <th>median_count</th>\n      <th>mean_count</th>\n      <th>mode_count</th>\n      <th>users</th>\n      <th>sum_annotations_count</th>\n      <th>annotations_count</th>\n    </tr>\n  </thead>\n  <tbody>\n    <tr>\n      <th>0</th>\n      <td>ESCH01-1_13.jpg</td>\n      <td>18.0</td>\n      <td>16.46</td>\n      <td>19</td>\n      <td>24</td>\n      <td>395</td>\n      <td>[3, 8, 11, 15, 15, 15, 15, 16, 17, 17, 18, 18,...</td>\n    </tr>\n    <tr>\n      <th>1</th>\n      <td>ESCH01-1_19.jpg</td>\n      <td>6.5</td>\n      <td>6.39</td>\n      <td>7</td>\n      <td>18</td>\n      <td>115</td>\n      <td>[3, 3, 3, 3, 4, 5, 5, 6, 6, 7, 7, 7, 7, 8, 8, ...</td>\n    </tr>\n    <tr>\n      <th>2</th>\n      <td>ESCH01-1_21.jpg</td>\n      <td>6.5</td>\n      <td>5.96</td>\n      <td>2</td>\n      <td>28</td>\n      <td>167</td>\n      <td>[2, 2, 2, 2, 2, 2, 3, 3, 5, 5, 5, 6, 6, 6, 7, ...</td>\n    </tr>\n    <tr>\n      <th>3</th>\n      <td>ESCH01-1_22.jpg</td>\n      <td>4.0</td>\n      <td>3.89</td>\n      <td>5</td>\n      <td>27</td>\n      <td>105</td>\n      <td>[1, 1, 1, 1, 3, 3, 3, 3, 4, 4, 4, 4, 4, 4, 4, ...</td>\n    </tr>\n    <tr>\n      <th>4</th>\n      <td>ESCH01-1_23.jpg</td>\n      <td>2.0</td>\n      <td>2.11</td>\n      <td>2</td>\n      <td>27</td>\n      <td>57</td>\n      <td>[2, 2, 2, 2, 2, 2, 2, 2, 2, 2, 2, 2, 2, 2, 2, ...</td>\n    </tr>\n    <tr>\n      <th>...</th>\n      <td>...</td>\n      <td>...</td>\n      <td>...</td>\n      <td>...</td>\n      <td>...</td>\n      <td>...</td>\n      <td>...</td>\n    </tr>\n    <tr>\n      <th>81</th>\n      <td>PWC01-1_61.jpg</td>\n      <td>14.0</td>\n      <td>13.25</td>\n      <td>14</td>\n      <td>24</td>\n      <td>318</td>\n      <td>[2, 7, 9, 9, 11, 12, 13, 13, 13, 14, 14, 14, 1...</td>\n    </tr>\n    <tr>\n      <th>82</th>\n      <td>PWC01-1_62.jpg</td>\n      <td>12.0</td>\n      <td>11.94</td>\n      <td>13</td>\n      <td>16</td>\n      <td>191</td>\n      <td>[10, 10, 10, 11, 11, 11, 12, 12, 12, 13, 13, 1...</td>\n    </tr>\n    <tr>\n      <th>83</th>\n      <td>PWC01-4_231.jpg</td>\n      <td>3.0</td>\n      <td>2.88</td>\n      <td>1</td>\n      <td>8</td>\n      <td>23</td>\n      <td>[1, 1, 1, 3, 3, 4, 5, 5]</td>\n    </tr>\n    <tr>\n      <th>84</th>\n      <td>PWC01-5_34.jpg</td>\n      <td>1.0</td>\n      <td>1.46</td>\n      <td>1</td>\n      <td>13</td>\n      <td>19</td>\n      <td>[1, 1, 1, 1, 1, 1, 1, 1, 1, 2, 2, 3, 3]</td>\n    </tr>\n    <tr>\n      <th>85</th>\n      <td>PWC03-2-1_42.jpg</td>\n      <td>3.5</td>\n      <td>3.33</td>\n      <td>4</td>\n      <td>12</td>\n      <td>40</td>\n      <td>[2, 2, 3, 3, 3, 3, 4, 4, 4, 4, 4, 4]</td>\n    </tr>\n  </tbody>\n</table>\n<p>86 rows × 7 columns</p>\n</div>"
     },
     "execution_count": 17,
     "metadata": {},
     "output_type": "execute_result"
    }
   ],
   "source": [
    "df_comparison"
   ]
  },
  {
   "cell_type": "code",
   "execution_count": 18,
   "id": "134bd6295fa837ce",
   "metadata": {
    "collapsed": false,
    "ExecuteTime": {
     "end_time": "2024-03-22T19:53:25.242416Z",
     "start_time": "2024-03-22T19:53:25.213119Z"
    }
   },
   "outputs": [
    {
     "data": {
      "text/plain": "image_name               ESCH01-1_13.jpgESCH01-1_19.jpgESCH01-1_21.jpgE...\nmedian_count                                                         314.5\nmean_count                                                          380.51\nmode_count                                                             302\nusers                                                                 1607\nsum_annotations_count                                                 7400\nannotations_count        [3, 8, 11, 15, 15, 15, 15, 16, 17, 17, 18, 18,...\ndtype: object"
     },
     "execution_count": 18,
     "metadata": {},
     "output_type": "execute_result"
    }
   ],
   "source": [
    "df_comparison.sum()"
   ]
  },
  {
   "cell_type": "markdown",
   "id": "5d99c27ebf9bd6b6",
   "metadata": {
    "collapsed": false
   },
   "source": [
    "### DBSCAN clustering and take the variant with the best silouette score for each image\n"
   ]
  },
  {
   "cell_type": "code",
   "execution_count": 19,
   "id": "33cf6b89951ff33e",
   "metadata": {
    "collapsed": false,
    "ExecuteTime": {
     "end_time": "2024-03-22T19:53:25.270999Z",
     "start_time": "2024-03-22T19:53:25.244236Z"
    }
   },
   "outputs": [],
   "source": [
    "### The old variant\n",
    "# from zooniverse.analysis import compare_dbscan_hyp_v2\n",
    "# \n",
    "# eps_variants = [0.01, 0.05, 0.1, 0.2, 0.3, 0.4, 0.5]\n",
    "# min_samples_variants = [3, 5, 8, 10]\n",
    "# if debug:\n",
    "#     eps_variants = [0.3]\n",
    "#     min_samples_variants = [3]\n",
    "# params = [(eps, min_samples) for eps in eps_variants for min_samples in min_samples_variants]\n",
    "# \n",
    "# db_scan_results = {}\n",
    "# db_scan_best_results = []\n",
    "# db_scan_best_bic_results = []\n",
    "# for image_name, df_image_name in df_merged_dataset.groupby(\"image_name\"):\n",
    "# \n",
    "#     dbscan_localization = compare_dbscan_hyp_v2(\n",
    "#         # phase_tag=phase_tag,\n",
    "#         params=params,\n",
    "#         df_flat=df_image_name,\n",
    "#         # output_path=output_path,\n",
    "#         output_plot_path=output_plot_path,\n",
    "#         plot=show_plots,\n",
    "#         \n",
    "#     )\n",
    "# \n",
    "#     db_scan_results[image_name] = pd.DataFrame(dbscan_localization)\n",
    "#     db_scan_best_results.append(pd.DataFrame(dbscan_localization).sort_values(\"dbscan_silouette_score\", ascending=False).iloc[0])\n",
    "#     \n",
    "# df_dbscan_localization = pd.concat([*db_scan_results.values()])\n",
    "# df_scan_best_results = pd.DataFrame(db_scan_best_results)\n",
    "\n"
   ]
  },
  {
   "cell_type": "code",
   "execution_count": 20,
   "id": "1504707449147a99",
   "metadata": {
    "collapsed": false,
    "ExecuteTime": {
     "end_time": "2024-03-22T19:53:25.298645Z",
     "start_time": "2024-03-22T19:53:25.272347Z"
    }
   },
   "outputs": [],
   "source": [
    "# df_scan_best_results"
   ]
  },
  {
   "cell_type": "code",
   "execution_count": 21,
   "id": "541f9f88dc56d1f1",
   "metadata": {
    "collapsed": false,
    "ExecuteTime": {
     "end_time": "2024-03-22T19:53:44.178214Z",
     "start_time": "2024-03-22T19:53:25.299883Z"
    }
   },
   "outputs": [
    {
     "name": "stderr",
     "output_type": "stream",
     "text": [
      "/var/folders/2k/78nn7s4548986wsjh29rhj9w0000gn/T/ipykernel_44322/2583623965.py:36: FutureWarning: The behavior of DataFrame concatenation with empty or all-NA entries is deprecated. In a future version, this will no longer exclude empty or all-NA columns when determining the result dtypes. To retain the old behavior, exclude the relevant entries before the concat operation.\n",
      "  df_dbscan_localization = pd.concat([*db_scan_results.values()])\n"
     ]
    }
   ],
   "source": [
    "## fixes the problem with the silouette score sorting\n",
    "from zooniverse.analysis import compare_dbscan_hyp_v2\n",
    "\n",
    "eps_variants = [0.01, 0.05, 0.1, 0.2, 0.3, 0.4, 0.5]\n",
    "min_samples_variants = [3, 5, 8, 10]\n",
    "if debug:\n",
    "    eps_variants = [0.3]\n",
    "    min_samples_variants = [3]\n",
    "params = [(eps, min_samples) for eps in eps_variants for min_samples in min_samples_variants]\n",
    "\n",
    "db_scan_results = {}\n",
    "db_scan_best_results = []\n",
    "db_scan_best_bic_results = []\n",
    "for image_name, df_image_name in df_merged_dataset.groupby(\"image_name\"):\n",
    "\n",
    "    dbscan_localization = compare_dbscan_hyp_v2(\n",
    "        params=params,\n",
    "        df_flat=df_image_name,\n",
    "        output_plot_path=output_plot_path,\n",
    "        plot=show_plots\n",
    "    )\n",
    "\n",
    "    db_scan_results[image_name] = pd.DataFrame(dbscan_localization)\n",
    "    \n",
    "    # DBSCAN tends to classfy all points as noise if min_samples is too high. Often only a single user marked an iguana.\n",
    "    # Sillouette Scoring needs a minimum of 2 clusters\n",
    "    # if there are points in decent radius they will belong to a cluster\n",
    "    if pd.DataFrame(dbscan_localization).dbscan_count.max() == 1:\n",
    "        db_scan_best_results.append(pd.DataFrame(dbscan_localization).sort_values(\"dbscan_count\", ascending=False).iloc[0])\n",
    "        db_scan_best_bic_results.append(pd.DataFrame(dbscan_localization).sort_values(\"dbscan_count\", ascending=False).iloc[0])\n",
    "        # If two or more cluster seem to exists take ones with the best Silouette score\n",
    "    else:  \n",
    "        # take the best result by silouette score if there are more clusters then 1\n",
    "        db_scan_best_results.append(pd.DataFrame(dbscan_localization).sort_values([\"dbscan_silouette_score\", \"dbscan_count\"], ascending=[False, False]).iloc[0])\n",
    "    \n",
    "df_dbscan_localization = pd.concat([*db_scan_results.values()])\n",
    "df_scan_best_results = pd.DataFrame(db_scan_best_results)\n"
   ]
  },
  {
   "cell_type": "code",
   "execution_count": 22,
   "id": "ec07d63d180d7442",
   "metadata": {
    "collapsed": false,
    "ExecuteTime": {
     "end_time": "2024-03-22T19:53:44.203038Z",
     "start_time": "2024-03-22T19:53:44.178977Z"
    }
   },
   "outputs": [
    {
     "data": {
      "text/plain": "    dbscan_count  dbscan_noise  dbscan_silouette_score        image_name  \\\n10            18            28                0.616352   ESCH01-1_13.jpg   \n4              9            12                0.716935   ESCH01-1_19.jpg   \n20             8             1                0.861200   ESCH01-1_21.jpg   \n20             4             1                0.931680   ESCH01-1_22.jpg   \n12             2             1                0.874491   ESCH01-1_23.jpg   \n..           ...           ...                     ...               ...   \n20             4             3                0.664809    PWC01-1_61.jpg   \n12             7             1                0.806874    PWC01-1_62.jpg   \n24             4             3                0.752832   PWC01-4_231.jpg   \n4              2             8                0.158432    PWC01-5_34.jpg   \n20             4             0                0.871361  PWC03-2-1_42.jpg   \n\n     eps  min_samples  dbscan_BIC_score  \n10  0.10            8               NaN  \n4   0.05            3               NaN  \n20  0.40            3               NaN  \n20  0.40            3               NaN  \n12  0.20            3               NaN  \n..   ...          ...               ...  \n20  0.40            3               NaN  \n12  0.20            3               NaN  \n24  0.50            3               NaN  \n4   0.05            3               NaN  \n20  0.40            3               NaN  \n\n[86 rows x 7 columns]",
      "text/html": "<div>\n<style scoped>\n    .dataframe tbody tr th:only-of-type {\n        vertical-align: middle;\n    }\n\n    .dataframe tbody tr th {\n        vertical-align: top;\n    }\n\n    .dataframe thead th {\n        text-align: right;\n    }\n</style>\n<table border=\"1\" class=\"dataframe\">\n  <thead>\n    <tr style=\"text-align: right;\">\n      <th></th>\n      <th>dbscan_count</th>\n      <th>dbscan_noise</th>\n      <th>dbscan_silouette_score</th>\n      <th>image_name</th>\n      <th>eps</th>\n      <th>min_samples</th>\n      <th>dbscan_BIC_score</th>\n    </tr>\n  </thead>\n  <tbody>\n    <tr>\n      <th>10</th>\n      <td>18</td>\n      <td>28</td>\n      <td>0.616352</td>\n      <td>ESCH01-1_13.jpg</td>\n      <td>0.10</td>\n      <td>8</td>\n      <td>NaN</td>\n    </tr>\n    <tr>\n      <th>4</th>\n      <td>9</td>\n      <td>12</td>\n      <td>0.716935</td>\n      <td>ESCH01-1_19.jpg</td>\n      <td>0.05</td>\n      <td>3</td>\n      <td>NaN</td>\n    </tr>\n    <tr>\n      <th>20</th>\n      <td>8</td>\n      <td>1</td>\n      <td>0.861200</td>\n      <td>ESCH01-1_21.jpg</td>\n      <td>0.40</td>\n      <td>3</td>\n      <td>NaN</td>\n    </tr>\n    <tr>\n      <th>20</th>\n      <td>4</td>\n      <td>1</td>\n      <td>0.931680</td>\n      <td>ESCH01-1_22.jpg</td>\n      <td>0.40</td>\n      <td>3</td>\n      <td>NaN</td>\n    </tr>\n    <tr>\n      <th>12</th>\n      <td>2</td>\n      <td>1</td>\n      <td>0.874491</td>\n      <td>ESCH01-1_23.jpg</td>\n      <td>0.20</td>\n      <td>3</td>\n      <td>NaN</td>\n    </tr>\n    <tr>\n      <th>...</th>\n      <td>...</td>\n      <td>...</td>\n      <td>...</td>\n      <td>...</td>\n      <td>...</td>\n      <td>...</td>\n      <td>...</td>\n    </tr>\n    <tr>\n      <th>20</th>\n      <td>4</td>\n      <td>3</td>\n      <td>0.664809</td>\n      <td>PWC01-1_61.jpg</td>\n      <td>0.40</td>\n      <td>3</td>\n      <td>NaN</td>\n    </tr>\n    <tr>\n      <th>12</th>\n      <td>7</td>\n      <td>1</td>\n      <td>0.806874</td>\n      <td>PWC01-1_62.jpg</td>\n      <td>0.20</td>\n      <td>3</td>\n      <td>NaN</td>\n    </tr>\n    <tr>\n      <th>24</th>\n      <td>4</td>\n      <td>3</td>\n      <td>0.752832</td>\n      <td>PWC01-4_231.jpg</td>\n      <td>0.50</td>\n      <td>3</td>\n      <td>NaN</td>\n    </tr>\n    <tr>\n      <th>4</th>\n      <td>2</td>\n      <td>8</td>\n      <td>0.158432</td>\n      <td>PWC01-5_34.jpg</td>\n      <td>0.05</td>\n      <td>3</td>\n      <td>NaN</td>\n    </tr>\n    <tr>\n      <th>20</th>\n      <td>4</td>\n      <td>0</td>\n      <td>0.871361</td>\n      <td>PWC03-2-1_42.jpg</td>\n      <td>0.40</td>\n      <td>3</td>\n      <td>NaN</td>\n    </tr>\n  </tbody>\n</table>\n<p>86 rows × 7 columns</p>\n</div>"
     },
     "execution_count": 22,
     "metadata": {},
     "output_type": "execute_result"
    }
   ],
   "source": [
    "df_scan_best_results"
   ]
  },
  {
   "cell_type": "markdown",
   "id": "d196ca1914a06509",
   "metadata": {
    "collapsed": false
   },
   "source": [
    "Here it can be seen why the silouette score is difficult because it is often undefined."
   ]
  },
  {
   "cell_type": "code",
   "execution_count": 23,
   "id": "c17c404cb518dbe1",
   "metadata": {
    "collapsed": false,
    "ExecuteTime": {
     "end_time": "2024-03-22T19:53:44.233375Z",
     "start_time": "2024-03-22T19:53:44.204242Z"
    }
   },
   "outputs": [
    {
     "data": {
      "text/plain": "    dbscan_count  dbscan_noise  dbscan_silouette_score        image_name  \\\n10            18            28                0.616352   ESCH01-1_13.jpg   \n4              9            12                0.716935   ESCH01-1_19.jpg   \n20             8             1                0.861200   ESCH01-1_21.jpg   \n20             4             1                0.931680   ESCH01-1_22.jpg   \n12             2             1                0.874491   ESCH01-1_23.jpg   \n..           ...           ...                     ...               ...   \n20             4             3                0.664809    PWC01-1_61.jpg   \n12             7             1                0.806874    PWC01-1_62.jpg   \n24             4             3                0.752832   PWC01-4_231.jpg   \n4              2             8                0.158432    PWC01-5_34.jpg   \n20             4             0                0.871361  PWC03-2-1_42.jpg   \n\n     eps  min_samples  dbscan_BIC_score  \n10  0.10            8               NaN  \n4   0.05            3               NaN  \n20  0.40            3               NaN  \n20  0.40            3               NaN  \n12  0.20            3               NaN  \n..   ...          ...               ...  \n20  0.40            3               NaN  \n12  0.20            3               NaN  \n24  0.50            3               NaN  \n4   0.05            3               NaN  \n20  0.40            3               NaN  \n\n[86 rows x 7 columns]",
      "text/html": "<div>\n<style scoped>\n    .dataframe tbody tr th:only-of-type {\n        vertical-align: middle;\n    }\n\n    .dataframe tbody tr th {\n        vertical-align: top;\n    }\n\n    .dataframe thead th {\n        text-align: right;\n    }\n</style>\n<table border=\"1\" class=\"dataframe\">\n  <thead>\n    <tr style=\"text-align: right;\">\n      <th></th>\n      <th>dbscan_count</th>\n      <th>dbscan_noise</th>\n      <th>dbscan_silouette_score</th>\n      <th>image_name</th>\n      <th>eps</th>\n      <th>min_samples</th>\n      <th>dbscan_BIC_score</th>\n    </tr>\n  </thead>\n  <tbody>\n    <tr>\n      <th>10</th>\n      <td>18</td>\n      <td>28</td>\n      <td>0.616352</td>\n      <td>ESCH01-1_13.jpg</td>\n      <td>0.10</td>\n      <td>8</td>\n      <td>NaN</td>\n    </tr>\n    <tr>\n      <th>4</th>\n      <td>9</td>\n      <td>12</td>\n      <td>0.716935</td>\n      <td>ESCH01-1_19.jpg</td>\n      <td>0.05</td>\n      <td>3</td>\n      <td>NaN</td>\n    </tr>\n    <tr>\n      <th>20</th>\n      <td>8</td>\n      <td>1</td>\n      <td>0.861200</td>\n      <td>ESCH01-1_21.jpg</td>\n      <td>0.40</td>\n      <td>3</td>\n      <td>NaN</td>\n    </tr>\n    <tr>\n      <th>20</th>\n      <td>4</td>\n      <td>1</td>\n      <td>0.931680</td>\n      <td>ESCH01-1_22.jpg</td>\n      <td>0.40</td>\n      <td>3</td>\n      <td>NaN</td>\n    </tr>\n    <tr>\n      <th>12</th>\n      <td>2</td>\n      <td>1</td>\n      <td>0.874491</td>\n      <td>ESCH01-1_23.jpg</td>\n      <td>0.20</td>\n      <td>3</td>\n      <td>NaN</td>\n    </tr>\n    <tr>\n      <th>...</th>\n      <td>...</td>\n      <td>...</td>\n      <td>...</td>\n      <td>...</td>\n      <td>...</td>\n      <td>...</td>\n      <td>...</td>\n    </tr>\n    <tr>\n      <th>20</th>\n      <td>4</td>\n      <td>3</td>\n      <td>0.664809</td>\n      <td>PWC01-1_61.jpg</td>\n      <td>0.40</td>\n      <td>3</td>\n      <td>NaN</td>\n    </tr>\n    <tr>\n      <th>12</th>\n      <td>7</td>\n      <td>1</td>\n      <td>0.806874</td>\n      <td>PWC01-1_62.jpg</td>\n      <td>0.20</td>\n      <td>3</td>\n      <td>NaN</td>\n    </tr>\n    <tr>\n      <th>24</th>\n      <td>4</td>\n      <td>3</td>\n      <td>0.752832</td>\n      <td>PWC01-4_231.jpg</td>\n      <td>0.50</td>\n      <td>3</td>\n      <td>NaN</td>\n    </tr>\n    <tr>\n      <th>4</th>\n      <td>2</td>\n      <td>8</td>\n      <td>0.158432</td>\n      <td>PWC01-5_34.jpg</td>\n      <td>0.05</td>\n      <td>3</td>\n      <td>NaN</td>\n    </tr>\n    <tr>\n      <th>20</th>\n      <td>4</td>\n      <td>0</td>\n      <td>0.871361</td>\n      <td>PWC03-2-1_42.jpg</td>\n      <td>0.40</td>\n      <td>3</td>\n      <td>NaN</td>\n    </tr>\n  </tbody>\n</table>\n<p>86 rows × 7 columns</p>\n</div>"
     },
     "execution_count": 23,
     "metadata": {},
     "output_type": "execute_result"
    }
   ],
   "source": [
    "## save the combinations of parameters, which maximized the silouette score.\n",
    "\n",
    "df_dbscan_localization.to_csv(config[\"dbscan_hyperparam_grid\"])\n",
    "df_scan_best_results"
   ]
  },
  {
   "cell_type": "code",
   "execution_count": 24,
   "id": "bacea598a23a1b81",
   "metadata": {
    "collapsed": false,
    "ExecuteTime": {
     "end_time": "2024-03-22T19:53:44.255162Z",
     "start_time": "2024-03-22T19:53:44.234185Z"
    }
   },
   "outputs": [],
   "source": [
    "df_scan_best_results.rename(columns={\"dbscan_count\": \"dbscan_count_sil\" }, inplace=True)\n",
    "\n",
    "df_comparison = df_comparison.merge(df_scan_best_results, on='image_name', how='left')"
   ]
  },
  {
   "cell_type": "code",
   "execution_count": 25,
   "id": "509dec5ebdad923",
   "metadata": {
    "collapsed": false,
    "ExecuteTime": {
     "end_time": "2024-03-22T19:53:44.283504Z",
     "start_time": "2024-03-22T19:53:44.256351Z"
    }
   },
   "outputs": [
    {
     "data": {
      "text/plain": "          image_name  median_count  mean_count  mode_count  users  \\\n0    ESCH01-1_13.jpg          18.0       16.46          19     24   \n1    ESCH01-1_19.jpg           6.5        6.39           7     18   \n2    ESCH01-1_21.jpg           6.5        5.96           2     28   \n3    ESCH01-1_22.jpg           4.0        3.89           5     27   \n4    ESCH01-1_23.jpg           2.0        2.11           2     27   \n..               ...           ...         ...         ...    ...   \n81    PWC01-1_61.jpg          14.0       13.25          14     24   \n82    PWC01-1_62.jpg          12.0       11.94          13     16   \n83   PWC01-4_231.jpg           3.0        2.88           1      8   \n84    PWC01-5_34.jpg           1.0        1.46           1     13   \n85  PWC03-2-1_42.jpg           3.5        3.33           4     12   \n\n    sum_annotations_count                                  annotations_count  \\\n0                     395  [3, 8, 11, 15, 15, 15, 15, 16, 17, 17, 18, 18,...   \n1                     115  [3, 3, 3, 3, 4, 5, 5, 6, 6, 7, 7, 7, 7, 8, 8, ...   \n2                     167  [2, 2, 2, 2, 2, 2, 3, 3, 5, 5, 5, 6, 6, 6, 7, ...   \n3                     105  [1, 1, 1, 1, 3, 3, 3, 3, 4, 4, 4, 4, 4, 4, 4, ...   \n4                      57  [2, 2, 2, 2, 2, 2, 2, 2, 2, 2, 2, 2, 2, 2, 2, ...   \n..                    ...                                                ...   \n81                    318  [2, 7, 9, 9, 11, 12, 13, 13, 13, 14, 14, 14, 1...   \n82                    191  [10, 10, 10, 11, 11, 11, 12, 12, 12, 13, 13, 1...   \n83                     23                           [1, 1, 1, 3, 3, 4, 5, 5]   \n84                     19            [1, 1, 1, 1, 1, 1, 1, 1, 1, 2, 2, 3, 3]   \n85                     40               [2, 2, 3, 3, 3, 3, 4, 4, 4, 4, 4, 4]   \n\n    dbscan_count_sil  \n0                 18  \n1                  9  \n2                  8  \n3                  4  \n4                  2  \n..               ...  \n81                 4  \n82                 7  \n83                 4  \n84                 2  \n85                 4  \n\n[86 rows x 8 columns]",
      "text/html": "<div>\n<style scoped>\n    .dataframe tbody tr th:only-of-type {\n        vertical-align: middle;\n    }\n\n    .dataframe tbody tr th {\n        vertical-align: top;\n    }\n\n    .dataframe thead th {\n        text-align: right;\n    }\n</style>\n<table border=\"1\" class=\"dataframe\">\n  <thead>\n    <tr style=\"text-align: right;\">\n      <th></th>\n      <th>image_name</th>\n      <th>median_count</th>\n      <th>mean_count</th>\n      <th>mode_count</th>\n      <th>users</th>\n      <th>sum_annotations_count</th>\n      <th>annotations_count</th>\n      <th>dbscan_count_sil</th>\n    </tr>\n  </thead>\n  <tbody>\n    <tr>\n      <th>0</th>\n      <td>ESCH01-1_13.jpg</td>\n      <td>18.0</td>\n      <td>16.46</td>\n      <td>19</td>\n      <td>24</td>\n      <td>395</td>\n      <td>[3, 8, 11, 15, 15, 15, 15, 16, 17, 17, 18, 18,...</td>\n      <td>18</td>\n    </tr>\n    <tr>\n      <th>1</th>\n      <td>ESCH01-1_19.jpg</td>\n      <td>6.5</td>\n      <td>6.39</td>\n      <td>7</td>\n      <td>18</td>\n      <td>115</td>\n      <td>[3, 3, 3, 3, 4, 5, 5, 6, 6, 7, 7, 7, 7, 8, 8, ...</td>\n      <td>9</td>\n    </tr>\n    <tr>\n      <th>2</th>\n      <td>ESCH01-1_21.jpg</td>\n      <td>6.5</td>\n      <td>5.96</td>\n      <td>2</td>\n      <td>28</td>\n      <td>167</td>\n      <td>[2, 2, 2, 2, 2, 2, 3, 3, 5, 5, 5, 6, 6, 6, 7, ...</td>\n      <td>8</td>\n    </tr>\n    <tr>\n      <th>3</th>\n      <td>ESCH01-1_22.jpg</td>\n      <td>4.0</td>\n      <td>3.89</td>\n      <td>5</td>\n      <td>27</td>\n      <td>105</td>\n      <td>[1, 1, 1, 1, 3, 3, 3, 3, 4, 4, 4, 4, 4, 4, 4, ...</td>\n      <td>4</td>\n    </tr>\n    <tr>\n      <th>4</th>\n      <td>ESCH01-1_23.jpg</td>\n      <td>2.0</td>\n      <td>2.11</td>\n      <td>2</td>\n      <td>27</td>\n      <td>57</td>\n      <td>[2, 2, 2, 2, 2, 2, 2, 2, 2, 2, 2, 2, 2, 2, 2, ...</td>\n      <td>2</td>\n    </tr>\n    <tr>\n      <th>...</th>\n      <td>...</td>\n      <td>...</td>\n      <td>...</td>\n      <td>...</td>\n      <td>...</td>\n      <td>...</td>\n      <td>...</td>\n      <td>...</td>\n    </tr>\n    <tr>\n      <th>81</th>\n      <td>PWC01-1_61.jpg</td>\n      <td>14.0</td>\n      <td>13.25</td>\n      <td>14</td>\n      <td>24</td>\n      <td>318</td>\n      <td>[2, 7, 9, 9, 11, 12, 13, 13, 13, 14, 14, 14, 1...</td>\n      <td>4</td>\n    </tr>\n    <tr>\n      <th>82</th>\n      <td>PWC01-1_62.jpg</td>\n      <td>12.0</td>\n      <td>11.94</td>\n      <td>13</td>\n      <td>16</td>\n      <td>191</td>\n      <td>[10, 10, 10, 11, 11, 11, 12, 12, 12, 13, 13, 1...</td>\n      <td>7</td>\n    </tr>\n    <tr>\n      <th>83</th>\n      <td>PWC01-4_231.jpg</td>\n      <td>3.0</td>\n      <td>2.88</td>\n      <td>1</td>\n      <td>8</td>\n      <td>23</td>\n      <td>[1, 1, 1, 3, 3, 4, 5, 5]</td>\n      <td>4</td>\n    </tr>\n    <tr>\n      <th>84</th>\n      <td>PWC01-5_34.jpg</td>\n      <td>1.0</td>\n      <td>1.46</td>\n      <td>1</td>\n      <td>13</td>\n      <td>19</td>\n      <td>[1, 1, 1, 1, 1, 1, 1, 1, 1, 2, 2, 3, 3]</td>\n      <td>2</td>\n    </tr>\n    <tr>\n      <th>85</th>\n      <td>PWC03-2-1_42.jpg</td>\n      <td>3.5</td>\n      <td>3.33</td>\n      <td>4</td>\n      <td>12</td>\n      <td>40</td>\n      <td>[2, 2, 3, 3, 3, 3, 4, 4, 4, 4, 4, 4]</td>\n      <td>4</td>\n    </tr>\n  </tbody>\n</table>\n<p>86 rows × 8 columns</p>\n</div>"
     },
     "execution_count": 25,
     "metadata": {},
     "output_type": "execute_result"
    }
   ],
   "source": [
    "\n",
    "df_comparison = df_comparison.drop([\"dbscan_noise\", \"dbscan_silouette_score\", \"eps\", \"min_samples\", \"dbscan_BIC_score\", \"with_noise\", \"bic_avg\"], axis=1, errors=\"ignore\")\n",
    "df_comparison"
   ]
  },
  {
   "cell_type": "markdown",
   "id": "15adf791099ac332",
   "metadata": {
    "collapsed": false
   },
   "source": [
    "### HDBSCAN clustering for each image\n"
   ]
  },
  {
   "cell_type": "code",
   "execution_count": 26,
   "id": "6763aed82e7088dd",
   "metadata": {
    "collapsed": false,
    "ExecuteTime": {
     "end_time": "2024-03-22T19:53:44.445357Z",
     "start_time": "2024-03-22T19:53:44.284852Z"
    }
   },
   "outputs": [],
   "source": [
    "from zooniverse.analysis import HDBSCAN_Wrapper\n",
    "\n",
    "hdbscan_values = []\n",
    "\n",
    "eps_variants = [0.0] # 0 is the default\n",
    "min_cluster_sizes = [5] # 5 is the default\n",
    "\n",
    "\n",
    "for image_name, df_image_name in df_merged_dataset.groupby(\"image_name\"):\n",
    "    annotations_count = get_mark_overview(df_image_name)\n",
    "    annotations_count_stats = get_annotation_count_stats(annotations_count=annotations_count,\n",
    "                                                         image_name=df_image_name.iloc[0][\"image_name\"])\n",
    "    \n",
    "    # if less than min_cluster_sizes points are available clustering makes no sense\n",
    "    if df_image_name.shape[0] >= 5: # If num_samples is 5 for the min_cluster_size is 5 there is no point in passing data with less than 5 samples\n",
    "        params = [(eps, min_cluster_size, max_cluster_size) \n",
    "                    for eps in eps_variants\n",
    "                    for min_cluster_size in min_cluster_sizes\n",
    "                    for max_cluster_size in [None]\n",
    "              ]\n",
    "\n",
    "        df_hdbscan = HDBSCAN_Wrapper(df_marks=df_image_name[[\"x\", \"y\"]],\n",
    "                                     output_path=output_plot_path,\n",
    "                                     plot=show_plots,\n",
    "                                     show=show_plots,\n",
    "                                     image_name=image_name,\n",
    "                                     params=params)\n",
    "        hdbscan_values.append(df_hdbscan)\n",
    "\n",
    "\n",
    "df_hdbscan = pd.concat(hdbscan_values)\n",
    "\n"
   ]
  },
  {
   "cell_type": "code",
   "execution_count": 27,
   "id": "5de6304addaca41d",
   "metadata": {
    "collapsed": false,
    "ExecuteTime": {
     "end_time": "2024-03-22T19:53:44.468566Z",
     "start_time": "2024-03-22T19:53:44.446120Z"
    }
   },
   "outputs": [
    {
     "data": {
      "text/plain": "          image_name  HDBSCAN_count  eps  min_cluster_size max_cluster_size  \\\n0    ESCH01-1_13.jpg             19  0.0                 5             None   \n0    ESCH01-1_19.jpg              9  0.0                 5             None   \n0    ESCH01-1_21.jpg             10  0.0                 5             None   \n0    ESCH01-1_22.jpg              5  0.0                 5             None   \n0    ESCH01-1_23.jpg              2  0.0                 5             None   \n..               ...            ...  ...               ...              ...   \n0     PWC01-1_61.jpg             14  0.0                 5             None   \n0     PWC01-1_62.jpg             11  0.0                 5             None   \n0    PWC01-4_231.jpg              3  0.0                 5             None   \n0     PWC01-5_34.jpg              1  0.0                 5             None   \n0   PWC03-2-1_42.jpg              4  0.0                 5             None   \n\n    noise_points  \n0             26  \n0              8  \n0              5  \n0              6  \n0              0  \n..           ...  \n0             36  \n0              5  \n0              0  \n0             12  \n0              0  \n\n[86 rows x 6 columns]",
      "text/html": "<div>\n<style scoped>\n    .dataframe tbody tr th:only-of-type {\n        vertical-align: middle;\n    }\n\n    .dataframe tbody tr th {\n        vertical-align: top;\n    }\n\n    .dataframe thead th {\n        text-align: right;\n    }\n</style>\n<table border=\"1\" class=\"dataframe\">\n  <thead>\n    <tr style=\"text-align: right;\">\n      <th></th>\n      <th>image_name</th>\n      <th>HDBSCAN_count</th>\n      <th>eps</th>\n      <th>min_cluster_size</th>\n      <th>max_cluster_size</th>\n      <th>noise_points</th>\n    </tr>\n  </thead>\n  <tbody>\n    <tr>\n      <th>0</th>\n      <td>ESCH01-1_13.jpg</td>\n      <td>19</td>\n      <td>0.0</td>\n      <td>5</td>\n      <td>None</td>\n      <td>26</td>\n    </tr>\n    <tr>\n      <th>0</th>\n      <td>ESCH01-1_19.jpg</td>\n      <td>9</td>\n      <td>0.0</td>\n      <td>5</td>\n      <td>None</td>\n      <td>8</td>\n    </tr>\n    <tr>\n      <th>0</th>\n      <td>ESCH01-1_21.jpg</td>\n      <td>10</td>\n      <td>0.0</td>\n      <td>5</td>\n      <td>None</td>\n      <td>5</td>\n    </tr>\n    <tr>\n      <th>0</th>\n      <td>ESCH01-1_22.jpg</td>\n      <td>5</td>\n      <td>0.0</td>\n      <td>5</td>\n      <td>None</td>\n      <td>6</td>\n    </tr>\n    <tr>\n      <th>0</th>\n      <td>ESCH01-1_23.jpg</td>\n      <td>2</td>\n      <td>0.0</td>\n      <td>5</td>\n      <td>None</td>\n      <td>0</td>\n    </tr>\n    <tr>\n      <th>...</th>\n      <td>...</td>\n      <td>...</td>\n      <td>...</td>\n      <td>...</td>\n      <td>...</td>\n      <td>...</td>\n    </tr>\n    <tr>\n      <th>0</th>\n      <td>PWC01-1_61.jpg</td>\n      <td>14</td>\n      <td>0.0</td>\n      <td>5</td>\n      <td>None</td>\n      <td>36</td>\n    </tr>\n    <tr>\n      <th>0</th>\n      <td>PWC01-1_62.jpg</td>\n      <td>11</td>\n      <td>0.0</td>\n      <td>5</td>\n      <td>None</td>\n      <td>5</td>\n    </tr>\n    <tr>\n      <th>0</th>\n      <td>PWC01-4_231.jpg</td>\n      <td>3</td>\n      <td>0.0</td>\n      <td>5</td>\n      <td>None</td>\n      <td>0</td>\n    </tr>\n    <tr>\n      <th>0</th>\n      <td>PWC01-5_34.jpg</td>\n      <td>1</td>\n      <td>0.0</td>\n      <td>5</td>\n      <td>None</td>\n      <td>12</td>\n    </tr>\n    <tr>\n      <th>0</th>\n      <td>PWC03-2-1_42.jpg</td>\n      <td>4</td>\n      <td>0.0</td>\n      <td>5</td>\n      <td>None</td>\n      <td>0</td>\n    </tr>\n  </tbody>\n</table>\n<p>86 rows × 6 columns</p>\n</div>"
     },
     "execution_count": 27,
     "metadata": {},
     "output_type": "execute_result"
    }
   ],
   "source": [
    "df_hdbscan.drop([\"with_noise\"], axis=1, inplace=True)\n",
    "df_hdbscan"
   ]
  },
  {
   "cell_type": "code",
   "execution_count": 28,
   "id": "563e2747f9f8a77c",
   "metadata": {
    "collapsed": false,
    "ExecuteTime": {
     "end_time": "2024-03-22T19:53:44.496481Z",
     "start_time": "2024-03-22T19:53:44.469348Z"
    }
   },
   "outputs": [
    {
     "data": {
      "text/plain": "          image_name  median_count  mean_count  mode_count  users  \\\n0    ESCH01-1_13.jpg          18.0       16.46          19     24   \n1    ESCH01-1_19.jpg           6.5        6.39           7     18   \n2    ESCH01-1_21.jpg           6.5        5.96           2     28   \n3    ESCH01-1_22.jpg           4.0        3.89           5     27   \n4    ESCH01-1_23.jpg           2.0        2.11           2     27   \n..               ...           ...         ...         ...    ...   \n81    PWC01-1_61.jpg          14.0       13.25          14     24   \n82    PWC01-1_62.jpg          12.0       11.94          13     16   \n83   PWC01-4_231.jpg           3.0        2.88           1      8   \n84    PWC01-5_34.jpg           1.0        1.46           1     13   \n85  PWC03-2-1_42.jpg           3.5        3.33           4     12   \n\n    sum_annotations_count                                  annotations_count  \\\n0                     395  [3, 8, 11, 15, 15, 15, 15, 16, 17, 17, 18, 18,...   \n1                     115  [3, 3, 3, 3, 4, 5, 5, 6, 6, 7, 7, 7, 7, 8, 8, ...   \n2                     167  [2, 2, 2, 2, 2, 2, 3, 3, 5, 5, 5, 6, 6, 6, 7, ...   \n3                     105  [1, 1, 1, 1, 3, 3, 3, 3, 4, 4, 4, 4, 4, 4, 4, ...   \n4                      57  [2, 2, 2, 2, 2, 2, 2, 2, 2, 2, 2, 2, 2, 2, 2, ...   \n..                    ...                                                ...   \n81                    318  [2, 7, 9, 9, 11, 12, 13, 13, 13, 14, 14, 14, 1...   \n82                    191  [10, 10, 10, 11, 11, 11, 12, 12, 12, 13, 13, 1...   \n83                     23                           [1, 1, 1, 3, 3, 4, 5, 5]   \n84                     19            [1, 1, 1, 1, 1, 1, 1, 1, 1, 2, 2, 3, 3]   \n85                     40               [2, 2, 3, 3, 3, 3, 4, 4, 4, 4, 4, 4]   \n\n    dbscan_count_sil  HDBSCAN_count  eps  min_cluster_size  max_cluster_size  \\\n0                 18             19  0.0                 5                 0   \n1                  9              9  0.0                 5                 0   \n2                  8             10  0.0                 5                 0   \n3                  4              5  0.0                 5                 0   \n4                  2              2  0.0                 5                 0   \n..               ...            ...  ...               ...               ...   \n81                 4             14  0.0                 5                 0   \n82                 7             11  0.0                 5                 0   \n83                 4              3  0.0                 5                 0   \n84                 2              1  0.0                 5                 0   \n85                 4              4  0.0                 5                 0   \n\n    noise_points  \n0             26  \n1              8  \n2              5  \n3              6  \n4              0  \n..           ...  \n81            36  \n82             5  \n83             0  \n84            12  \n85             0  \n\n[86 rows x 13 columns]",
      "text/html": "<div>\n<style scoped>\n    .dataframe tbody tr th:only-of-type {\n        vertical-align: middle;\n    }\n\n    .dataframe tbody tr th {\n        vertical-align: top;\n    }\n\n    .dataframe thead th {\n        text-align: right;\n    }\n</style>\n<table border=\"1\" class=\"dataframe\">\n  <thead>\n    <tr style=\"text-align: right;\">\n      <th></th>\n      <th>image_name</th>\n      <th>median_count</th>\n      <th>mean_count</th>\n      <th>mode_count</th>\n      <th>users</th>\n      <th>sum_annotations_count</th>\n      <th>annotations_count</th>\n      <th>dbscan_count_sil</th>\n      <th>HDBSCAN_count</th>\n      <th>eps</th>\n      <th>min_cluster_size</th>\n      <th>max_cluster_size</th>\n      <th>noise_points</th>\n    </tr>\n  </thead>\n  <tbody>\n    <tr>\n      <th>0</th>\n      <td>ESCH01-1_13.jpg</td>\n      <td>18.0</td>\n      <td>16.46</td>\n      <td>19</td>\n      <td>24</td>\n      <td>395</td>\n      <td>[3, 8, 11, 15, 15, 15, 15, 16, 17, 17, 18, 18,...</td>\n      <td>18</td>\n      <td>19</td>\n      <td>0.0</td>\n      <td>5</td>\n      <td>0</td>\n      <td>26</td>\n    </tr>\n    <tr>\n      <th>1</th>\n      <td>ESCH01-1_19.jpg</td>\n      <td>6.5</td>\n      <td>6.39</td>\n      <td>7</td>\n      <td>18</td>\n      <td>115</td>\n      <td>[3, 3, 3, 3, 4, 5, 5, 6, 6, 7, 7, 7, 7, 8, 8, ...</td>\n      <td>9</td>\n      <td>9</td>\n      <td>0.0</td>\n      <td>5</td>\n      <td>0</td>\n      <td>8</td>\n    </tr>\n    <tr>\n      <th>2</th>\n      <td>ESCH01-1_21.jpg</td>\n      <td>6.5</td>\n      <td>5.96</td>\n      <td>2</td>\n      <td>28</td>\n      <td>167</td>\n      <td>[2, 2, 2, 2, 2, 2, 3, 3, 5, 5, 5, 6, 6, 6, 7, ...</td>\n      <td>8</td>\n      <td>10</td>\n      <td>0.0</td>\n      <td>5</td>\n      <td>0</td>\n      <td>5</td>\n    </tr>\n    <tr>\n      <th>3</th>\n      <td>ESCH01-1_22.jpg</td>\n      <td>4.0</td>\n      <td>3.89</td>\n      <td>5</td>\n      <td>27</td>\n      <td>105</td>\n      <td>[1, 1, 1, 1, 3, 3, 3, 3, 4, 4, 4, 4, 4, 4, 4, ...</td>\n      <td>4</td>\n      <td>5</td>\n      <td>0.0</td>\n      <td>5</td>\n      <td>0</td>\n      <td>6</td>\n    </tr>\n    <tr>\n      <th>4</th>\n      <td>ESCH01-1_23.jpg</td>\n      <td>2.0</td>\n      <td>2.11</td>\n      <td>2</td>\n      <td>27</td>\n      <td>57</td>\n      <td>[2, 2, 2, 2, 2, 2, 2, 2, 2, 2, 2, 2, 2, 2, 2, ...</td>\n      <td>2</td>\n      <td>2</td>\n      <td>0.0</td>\n      <td>5</td>\n      <td>0</td>\n      <td>0</td>\n    </tr>\n    <tr>\n      <th>...</th>\n      <td>...</td>\n      <td>...</td>\n      <td>...</td>\n      <td>...</td>\n      <td>...</td>\n      <td>...</td>\n      <td>...</td>\n      <td>...</td>\n      <td>...</td>\n      <td>...</td>\n      <td>...</td>\n      <td>...</td>\n      <td>...</td>\n    </tr>\n    <tr>\n      <th>81</th>\n      <td>PWC01-1_61.jpg</td>\n      <td>14.0</td>\n      <td>13.25</td>\n      <td>14</td>\n      <td>24</td>\n      <td>318</td>\n      <td>[2, 7, 9, 9, 11, 12, 13, 13, 13, 14, 14, 14, 1...</td>\n      <td>4</td>\n      <td>14</td>\n      <td>0.0</td>\n      <td>5</td>\n      <td>0</td>\n      <td>36</td>\n    </tr>\n    <tr>\n      <th>82</th>\n      <td>PWC01-1_62.jpg</td>\n      <td>12.0</td>\n      <td>11.94</td>\n      <td>13</td>\n      <td>16</td>\n      <td>191</td>\n      <td>[10, 10, 10, 11, 11, 11, 12, 12, 12, 13, 13, 1...</td>\n      <td>7</td>\n      <td>11</td>\n      <td>0.0</td>\n      <td>5</td>\n      <td>0</td>\n      <td>5</td>\n    </tr>\n    <tr>\n      <th>83</th>\n      <td>PWC01-4_231.jpg</td>\n      <td>3.0</td>\n      <td>2.88</td>\n      <td>1</td>\n      <td>8</td>\n      <td>23</td>\n      <td>[1, 1, 1, 3, 3, 4, 5, 5]</td>\n      <td>4</td>\n      <td>3</td>\n      <td>0.0</td>\n      <td>5</td>\n      <td>0</td>\n      <td>0</td>\n    </tr>\n    <tr>\n      <th>84</th>\n      <td>PWC01-5_34.jpg</td>\n      <td>1.0</td>\n      <td>1.46</td>\n      <td>1</td>\n      <td>13</td>\n      <td>19</td>\n      <td>[1, 1, 1, 1, 1, 1, 1, 1, 1, 2, 2, 3, 3]</td>\n      <td>2</td>\n      <td>1</td>\n      <td>0.0</td>\n      <td>5</td>\n      <td>0</td>\n      <td>12</td>\n    </tr>\n    <tr>\n      <th>85</th>\n      <td>PWC03-2-1_42.jpg</td>\n      <td>3.5</td>\n      <td>3.33</td>\n      <td>4</td>\n      <td>12</td>\n      <td>40</td>\n      <td>[2, 2, 3, 3, 3, 3, 4, 4, 4, 4, 4, 4]</td>\n      <td>4</td>\n      <td>4</td>\n      <td>0.0</td>\n      <td>5</td>\n      <td>0</td>\n      <td>0</td>\n    </tr>\n  </tbody>\n</table>\n<p>86 rows × 13 columns</p>\n</div>"
     },
     "execution_count": 28,
     "metadata": {},
     "output_type": "execute_result"
    }
   ],
   "source": [
    "df_comparison = df_comparison.merge(df_hdbscan, on='image_name', how='left')\n",
    "df_comparison.fillna(0, inplace=True)\n",
    "df_comparison"
   ]
  },
  {
   "cell_type": "code",
   "execution_count": 29,
   "id": "bd5b4be03b3480d5",
   "metadata": {
    "collapsed": false,
    "ExecuteTime": {
     "end_time": "2024-03-22T19:53:44.519311Z",
     "start_time": "2024-03-22T19:53:44.498183Z"
    }
   },
   "outputs": [
    {
     "name": "stdout",
     "output_type": "stream",
     "text": [
      "saved results/Iguanas 3rd launch/Iguanas 3rd launch_method_comparison.csv\n"
     ]
    }
   ],
   "source": [
    "df_comparison.to_csv(config[\"comparison_dataset\"])\n",
    "print(f\"saved {config['comparison_dataset']}\")"
   ]
  },
  {
   "cell_type": "code",
   "execution_count": 29,
   "id": "146136b8ee749f9",
   "metadata": {
    "collapsed": false,
    "ExecuteTime": {
     "end_time": "2024-03-22T19:53:44.522541Z",
     "start_time": "2024-03-22T19:53:44.520665Z"
    }
   },
   "outputs": [],
   "source": [
    "\n"
   ]
  },
  {
   "cell_type": "markdown",
   "id": "1866104643b4427f",
   "metadata": {
    "collapsed": false
   },
   "source": [
    "# A look into the results"
   ]
  },
  {
   "cell_type": "markdown",
   "id": "683ea0eaf795e5ff",
   "metadata": {
    "collapsed": false
   },
   "source": [
    "## The sum of the clustering\n",
    "What is the sum of the methods"
   ]
  },
  {
   "cell_type": "code",
   "execution_count": 30,
   "id": "2ae2f205858fd9c4",
   "metadata": {
    "collapsed": false,
    "ExecuteTime": {
     "end_time": "2024-03-22T19:53:44.545996Z",
     "start_time": "2024-03-22T19:53:44.523636Z"
    }
   },
   "outputs": [],
   "source": [
    "\n",
    "df_comparison_sum = df_comparison[[\"median_count\", \"mean_count\", \"mode_count\", \"dbscan_count_sil\", \"HDBSCAN_count\"]].sum().sort_values()\n",
    "df_comparison_sum.to_csv(config[\"method_sums\"])\n"
   ]
  },
  {
   "cell_type": "code",
   "execution_count": 31,
   "id": "35c25cb6dd0c9684",
   "metadata": {
    "collapsed": false,
    "ExecuteTime": {
     "end_time": "2024-03-22T19:53:44.566136Z",
     "start_time": "2024-03-22T19:53:44.546740Z"
    }
   },
   "outputs": [
    {
     "name": "stdout",
     "output_type": "stream",
     "text": [
      "phase_tag: Iguanas 3rd launch, user_threshold: 3\n"
     ]
    }
   ],
   "source": [
    "print(f\"phase_tag: {phase_tag}, user_threshold: {user_threshold}\")"
   ]
  },
  {
   "cell_type": "markdown",
   "id": "88ca320d97a38518",
   "metadata": {
    "collapsed": false
   },
   "source": [
    "## Compare the numbers\n",
    "The counts are only for images which were in the dataset after filtering."
   ]
  },
  {
   "cell_type": "markdown",
   "id": "8f58c29117a907a4",
   "metadata": {
    "collapsed": false
   },
   "source": [
    "### Sum of all the Methods"
   ]
  },
  {
   "cell_type": "code",
   "execution_count": 32,
   "id": "e6a0ba0c34ca129a",
   "metadata": {
    "collapsed": false,
    "ExecuteTime": {
     "end_time": "2024-03-22T19:53:44.592167Z",
     "start_time": "2024-03-22T19:53:44.567417Z"
    }
   },
   "outputs": [
    {
     "name": "stdout",
     "output_type": "stream",
     "text": [
      "Iguanas 3rd launch_method_sums.csv\n"
     ]
    },
    {
     "data": {
      "text/plain": "         Unnamed: 0       0\n0        mode_count  302.00\n1      median_count  314.50\n2  dbscan_count_sil  333.00\n3     HDBSCAN_count  358.00\n4        mean_count  380.51",
      "text/html": "<div>\n<style scoped>\n    .dataframe tbody tr th:only-of-type {\n        vertical-align: middle;\n    }\n\n    .dataframe tbody tr th {\n        vertical-align: top;\n    }\n\n    .dataframe thead th {\n        text-align: right;\n    }\n</style>\n<table border=\"1\" class=\"dataframe\">\n  <thead>\n    <tr style=\"text-align: right;\">\n      <th></th>\n      <th>Unnamed: 0</th>\n      <th>0</th>\n    </tr>\n  </thead>\n  <tbody>\n    <tr>\n      <th>0</th>\n      <td>mode_count</td>\n      <td>302.00</td>\n    </tr>\n    <tr>\n      <th>1</th>\n      <td>median_count</td>\n      <td>314.50</td>\n    </tr>\n    <tr>\n      <th>2</th>\n      <td>dbscan_count_sil</td>\n      <td>333.00</td>\n    </tr>\n    <tr>\n      <th>3</th>\n      <td>HDBSCAN_count</td>\n      <td>358.00</td>\n    </tr>\n    <tr>\n      <th>4</th>\n      <td>mean_count</td>\n      <td>380.51</td>\n    </tr>\n  </tbody>\n</table>\n</div>"
     },
     "execution_count": 32,
     "metadata": {},
     "output_type": "execute_result"
    }
   ],
   "source": [
    "print(f\"{config['method_sums'].name}\")\n",
    "df_method_sums = pd.read_csv(config[\"method_sums\"])\n",
    "df_method_sums"
   ]
  },
  {
   "cell_type": "markdown",
   "id": "59e1a0f4ffc4dcd0",
   "metadata": {
    "collapsed": false
   },
   "source": [
    "### Comparison per Image Level"
   ]
  },
  {
   "cell_type": "code",
   "execution_count": 33,
   "id": "b63a639e877e8b4a",
   "metadata": {
    "collapsed": false,
    "ExecuteTime": {
     "end_time": "2024-03-22T19:53:44.621025Z",
     "start_time": "2024-03-22T19:53:44.593242Z"
    }
   },
   "outputs": [
    {
     "name": "stdout",
     "output_type": "stream",
     "text": [
      "load results/Iguanas 3rd launch/Iguanas 3rd launch_method_comparison.csv\n"
     ]
    },
    {
     "data": {
      "text/plain": "    Unnamed: 0        image_name  median_count  mean_count  mode_count  users  \\\n0            0   ESCH01-1_13.jpg          18.0       16.46          19     24   \n1            1   ESCH01-1_19.jpg           6.5        6.39           7     18   \n2            2   ESCH01-1_21.jpg           6.5        5.96           2     28   \n3            3   ESCH01-1_22.jpg           4.0        3.89           5     27   \n4            4   ESCH01-1_23.jpg           2.0        2.11           2     27   \n..         ...               ...           ...         ...         ...    ...   \n81          81    PWC01-1_61.jpg          14.0       13.25          14     24   \n82          82    PWC01-1_62.jpg          12.0       11.94          13     16   \n83          83   PWC01-4_231.jpg           3.0        2.88           1      8   \n84          84    PWC01-5_34.jpg           1.0        1.46           1     13   \n85          85  PWC03-2-1_42.jpg           3.5        3.33           4     12   \n\n    sum_annotations_count                                  annotations_count  \\\n0                     395  [3, 8, 11, 15, 15, 15, 15, 16, 17, 17, 18, 18,...   \n1                     115  [3, 3, 3, 3, 4, 5, 5, 6, 6, 7, 7, 7, 7, 8, 8, ...   \n2                     167  [2, 2, 2, 2, 2, 2, 3, 3, 5, 5, 5, 6, 6, 6, 7, ...   \n3                     105  [1, 1, 1, 1, 3, 3, 3, 3, 4, 4, 4, 4, 4, 4, 4, ...   \n4                      57  [2, 2, 2, 2, 2, 2, 2, 2, 2, 2, 2, 2, 2, 2, 2, ...   \n..                    ...                                                ...   \n81                    318  [2, 7, 9, 9, 11, 12, 13, 13, 13, 14, 14, 14, 1...   \n82                    191  [10, 10, 10, 11, 11, 11, 12, 12, 12, 13, 13, 1...   \n83                     23                           [1, 1, 1, 3, 3, 4, 5, 5]   \n84                     19            [1, 1, 1, 1, 1, 1, 1, 1, 1, 2, 2, 3, 3]   \n85                     40               [2, 2, 3, 3, 3, 3, 4, 4, 4, 4, 4, 4]   \n\n    dbscan_count_sil  HDBSCAN_count  eps  min_cluster_size  max_cluster_size  \\\n0                 18             19  0.0                 5                 0   \n1                  9              9  0.0                 5                 0   \n2                  8             10  0.0                 5                 0   \n3                  4              5  0.0                 5                 0   \n4                  2              2  0.0                 5                 0   \n..               ...            ...  ...               ...               ...   \n81                 4             14  0.0                 5                 0   \n82                 7             11  0.0                 5                 0   \n83                 4              3  0.0                 5                 0   \n84                 2              1  0.0                 5                 0   \n85                 4              4  0.0                 5                 0   \n\n    noise_points  \n0             26  \n1              8  \n2              5  \n3              6  \n4              0  \n..           ...  \n81            36  \n82             5  \n83             0  \n84            12  \n85             0  \n\n[86 rows x 14 columns]",
      "text/html": "<div>\n<style scoped>\n    .dataframe tbody tr th:only-of-type {\n        vertical-align: middle;\n    }\n\n    .dataframe tbody tr th {\n        vertical-align: top;\n    }\n\n    .dataframe thead th {\n        text-align: right;\n    }\n</style>\n<table border=\"1\" class=\"dataframe\">\n  <thead>\n    <tr style=\"text-align: right;\">\n      <th></th>\n      <th>Unnamed: 0</th>\n      <th>image_name</th>\n      <th>median_count</th>\n      <th>mean_count</th>\n      <th>mode_count</th>\n      <th>users</th>\n      <th>sum_annotations_count</th>\n      <th>annotations_count</th>\n      <th>dbscan_count_sil</th>\n      <th>HDBSCAN_count</th>\n      <th>eps</th>\n      <th>min_cluster_size</th>\n      <th>max_cluster_size</th>\n      <th>noise_points</th>\n    </tr>\n  </thead>\n  <tbody>\n    <tr>\n      <th>0</th>\n      <td>0</td>\n      <td>ESCH01-1_13.jpg</td>\n      <td>18.0</td>\n      <td>16.46</td>\n      <td>19</td>\n      <td>24</td>\n      <td>395</td>\n      <td>[3, 8, 11, 15, 15, 15, 15, 16, 17, 17, 18, 18,...</td>\n      <td>18</td>\n      <td>19</td>\n      <td>0.0</td>\n      <td>5</td>\n      <td>0</td>\n      <td>26</td>\n    </tr>\n    <tr>\n      <th>1</th>\n      <td>1</td>\n      <td>ESCH01-1_19.jpg</td>\n      <td>6.5</td>\n      <td>6.39</td>\n      <td>7</td>\n      <td>18</td>\n      <td>115</td>\n      <td>[3, 3, 3, 3, 4, 5, 5, 6, 6, 7, 7, 7, 7, 8, 8, ...</td>\n      <td>9</td>\n      <td>9</td>\n      <td>0.0</td>\n      <td>5</td>\n      <td>0</td>\n      <td>8</td>\n    </tr>\n    <tr>\n      <th>2</th>\n      <td>2</td>\n      <td>ESCH01-1_21.jpg</td>\n      <td>6.5</td>\n      <td>5.96</td>\n      <td>2</td>\n      <td>28</td>\n      <td>167</td>\n      <td>[2, 2, 2, 2, 2, 2, 3, 3, 5, 5, 5, 6, 6, 6, 7, ...</td>\n      <td>8</td>\n      <td>10</td>\n      <td>0.0</td>\n      <td>5</td>\n      <td>0</td>\n      <td>5</td>\n    </tr>\n    <tr>\n      <th>3</th>\n      <td>3</td>\n      <td>ESCH01-1_22.jpg</td>\n      <td>4.0</td>\n      <td>3.89</td>\n      <td>5</td>\n      <td>27</td>\n      <td>105</td>\n      <td>[1, 1, 1, 1, 3, 3, 3, 3, 4, 4, 4, 4, 4, 4, 4, ...</td>\n      <td>4</td>\n      <td>5</td>\n      <td>0.0</td>\n      <td>5</td>\n      <td>0</td>\n      <td>6</td>\n    </tr>\n    <tr>\n      <th>4</th>\n      <td>4</td>\n      <td>ESCH01-1_23.jpg</td>\n      <td>2.0</td>\n      <td>2.11</td>\n      <td>2</td>\n      <td>27</td>\n      <td>57</td>\n      <td>[2, 2, 2, 2, 2, 2, 2, 2, 2, 2, 2, 2, 2, 2, 2, ...</td>\n      <td>2</td>\n      <td>2</td>\n      <td>0.0</td>\n      <td>5</td>\n      <td>0</td>\n      <td>0</td>\n    </tr>\n    <tr>\n      <th>...</th>\n      <td>...</td>\n      <td>...</td>\n      <td>...</td>\n      <td>...</td>\n      <td>...</td>\n      <td>...</td>\n      <td>...</td>\n      <td>...</td>\n      <td>...</td>\n      <td>...</td>\n      <td>...</td>\n      <td>...</td>\n      <td>...</td>\n      <td>...</td>\n    </tr>\n    <tr>\n      <th>81</th>\n      <td>81</td>\n      <td>PWC01-1_61.jpg</td>\n      <td>14.0</td>\n      <td>13.25</td>\n      <td>14</td>\n      <td>24</td>\n      <td>318</td>\n      <td>[2, 7, 9, 9, 11, 12, 13, 13, 13, 14, 14, 14, 1...</td>\n      <td>4</td>\n      <td>14</td>\n      <td>0.0</td>\n      <td>5</td>\n      <td>0</td>\n      <td>36</td>\n    </tr>\n    <tr>\n      <th>82</th>\n      <td>82</td>\n      <td>PWC01-1_62.jpg</td>\n      <td>12.0</td>\n      <td>11.94</td>\n      <td>13</td>\n      <td>16</td>\n      <td>191</td>\n      <td>[10, 10, 10, 11, 11, 11, 12, 12, 12, 13, 13, 1...</td>\n      <td>7</td>\n      <td>11</td>\n      <td>0.0</td>\n      <td>5</td>\n      <td>0</td>\n      <td>5</td>\n    </tr>\n    <tr>\n      <th>83</th>\n      <td>83</td>\n      <td>PWC01-4_231.jpg</td>\n      <td>3.0</td>\n      <td>2.88</td>\n      <td>1</td>\n      <td>8</td>\n      <td>23</td>\n      <td>[1, 1, 1, 3, 3, 4, 5, 5]</td>\n      <td>4</td>\n      <td>3</td>\n      <td>0.0</td>\n      <td>5</td>\n      <td>0</td>\n      <td>0</td>\n    </tr>\n    <tr>\n      <th>84</th>\n      <td>84</td>\n      <td>PWC01-5_34.jpg</td>\n      <td>1.0</td>\n      <td>1.46</td>\n      <td>1</td>\n      <td>13</td>\n      <td>19</td>\n      <td>[1, 1, 1, 1, 1, 1, 1, 1, 1, 2, 2, 3, 3]</td>\n      <td>2</td>\n      <td>1</td>\n      <td>0.0</td>\n      <td>5</td>\n      <td>0</td>\n      <td>12</td>\n    </tr>\n    <tr>\n      <th>85</th>\n      <td>85</td>\n      <td>PWC03-2-1_42.jpg</td>\n      <td>3.5</td>\n      <td>3.33</td>\n      <td>4</td>\n      <td>12</td>\n      <td>40</td>\n      <td>[2, 2, 3, 3, 3, 3, 4, 4, 4, 4, 4, 4]</td>\n      <td>4</td>\n      <td>4</td>\n      <td>0.0</td>\n      <td>5</td>\n      <td>0</td>\n      <td>0</td>\n    </tr>\n  </tbody>\n</table>\n<p>86 rows × 14 columns</p>\n</div>"
     },
     "execution_count": 33,
     "metadata": {},
     "output_type": "execute_result"
    }
   ],
   "source": [
    "print(f\"load {config['comparison_dataset']}\")\n",
    "pd.read_csv(config[\"comparison_dataset\"])"
   ]
  }
 ],
 "metadata": {
  "kernelspec": {
   "display_name": "Python 3 (ipykernel)",
   "language": "python",
   "name": "python3"
  },
  "language_info": {
   "codemirror_mode": {
    "name": "ipython",
    "version": 3
   },
   "file_extension": ".py",
   "mimetype": "text/x-python",
   "name": "python",
   "nbconvert_exporter": "python",
   "pygments_lexer": "ipython3",
   "version": "3.10.13"
  }
 },
 "nbformat": 4,
 "nbformat_minor": 5
}
