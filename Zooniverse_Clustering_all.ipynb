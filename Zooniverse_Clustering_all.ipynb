{
 "cells": [
  {
   "cell_type": "markdown",
   "id": "708022ad72146e6d",
   "metadata": {},
   "source": [
    "# Clustering Zooniverse Marks to count Iguanas\n",
    "Count all the iguanas in the images by clustering the marks from the zooniverse volunteers.\n",
    "This does not compare the results to the gold standard and requires only a single file, the flattened zooniverse data export."
   ]
  },
  {
   "cell_type": "code",
   "execution_count": 1,
   "id": "d59fc4434d71491c",
   "metadata": {
    "collapsed": false,
    "tags": [],
    "ExecuteTime": {
     "end_time": "2024-04-10T14:25:48.488235Z",
     "start_time": "2024-04-10T14:25:48.448234Z"
    }
   },
   "outputs": [],
   "source": [
    "%load_ext autoreload\n",
    "%autoreload 2\n",
    "\n",
    "import sys\n",
    "\n",
    "sys.path.append(\"./\")\n",
    "sys.path.append(\"./zooniverse\")"
   ]
  },
  {
   "cell_type": "markdown",
   "id": "731716bd21e99cbe",
   "metadata": {
    "collapsed": false
   },
   "source": [
    "## Intro\n",
    "### Retrieve a Classification report from Zooniverse\n",
    "This notebook is used to cluster the marks from the zooniverse volunteers to count the iguanas in the images saved in results/<phase_tag>/flat_dataset_filtered_Iguanas 3rd launch.csv\n",
    "\n",
    "Used Methods are:\n",
    "\n",
    "### DBSCAN \n",
    "It does not require the number of clusters to be specified. It is used here because, but has min_samples and eps as hyperparameters which need to be found. [Link](https://scikit-learn.org/stable/auto_examples/cluster/plot_dbscan.html)\n",
    "For finding eps and min_sample a simple **grid search** is used.\n",
    "Additionally, DBSCAN not assume a specific shape for the clusters (K-means assumes clusters are gaussian in shape) even though we should assume that points around an iguana is gaussian shaped.\n",
    "\n",
    "### HDBSCAN\n",
    "It is an extension of DBSCAN which is more robust to hyperparameter settings as it finds epsilon and min_samples automatically. [Link](https://scikit-learn.org/stable/modules/generated/sklearn.cluster.HDBSCAN.html)"
   ]
  },
  {
   "cell_type": "markdown",
   "id": "e261acba86137ddd",
   "metadata": {
    "collapsed": false
   },
   "source": [
    "## Load the data"
   ]
  },
  {
   "cell_type": "code",
   "execution_count": 7,
   "id": "823d8c3234e4a1de",
   "metadata": {
    "collapsed": false,
    "tags": [],
    "ExecuteTime": {
     "end_time": "2024-04-10T14:28:58.099810Z",
     "start_time": "2024-04-10T14:28:58.072813Z"
    }
   },
   "outputs": [],
   "source": [
    "from pathlib import Path\n",
    "\n",
    "import pandas as pd\n",
    "from zooniverse.analysis import get_annotation_count_stats\n",
    "from zooniverse.utils.filters import filter_df_user_threshold\n",
    "\n",
    "\n",
    "\n",
    "# Phase Selection\n",
    "phase_tag = \"Iguanas 1st launch\"\n",
    "# phase_tag = \"Iguanas 2nd launch\"\n",
    "# phase_tag = \"Iguanas 3rd launch\"\n",
    "\n",
    "\n",
    "debug = False # debugging with a smaller dataset\n",
    "plot_diagrams = False # plot the diagrams to disk for the clustering methods\n",
    "show_plots = False # show the plots in the notebook\n",
    "\n",
    "user_threshold = None # None or a number, filter records which have less than these user interactions.\n",
    "\n",
    "use_gold_standard_subset = None # Use no filtering\n",
    "\n",
    "\n",
    "\n",
    "## Input Path of all the data\n",
    "input_path =Path(\"/Users/christian/data/zooniverse\")\n",
    "# input_path = Path(\"results/\")\n",
    "# Location for the analysis Results\n",
    "output_path = Path(input_path.joinpath(f\"2024_04_10_analysis\").joinpath(phase_tag))\n",
    "output_path.mkdir(exist_ok=True, parents=True)\n",
    "reprocess = False # if True, the raw classification data is reprocessed. If False, the data is loaded from disk\n",
    "\n",
    "# Location for plots\n",
    "output_plot_path = output_path.joinpath(\"plots\")\n",
    "output_plot_path.mkdir(parents=True, exist_ok=True)\n"
   ]
  },
  {
   "cell_type": "markdown",
   "id": "593bea9e98df4db0",
   "metadata": {
    "collapsed": false
   },
   "source": [
    "## Look into the config\n",
    "This Config points to all files necessary for the analysis + the result files"
   ]
  },
  {
   "cell_type": "code",
   "execution_count": 8,
   "id": "674da03e20316ae5",
   "metadata": {
    "collapsed": false,
    "ExecuteTime": {
     "end_time": "2024-04-10T14:28:59.042231Z",
     "start_time": "2024-04-10T14:28:59.015891Z"
    }
   },
   "outputs": [
    {
     "data": {
      "text/plain": "{'annotations_source': PosixPath('/Users/christian/data/zooniverse/IguanasFromAbove/2023-10-15/iguanas-from-above-classifications.csv'),\n 'goldstandard_data': None,\n 'gold_standard_image_subset': None,\n 'image_source': None,\n 'yes_no_dataset': PosixPath('/Users/christian/data/zooniverse/2024_04_10_analysis/Iguanas 1st launch/yes_no_dataset_Iguanas 1st launch.csv'),\n 'flat_dataset': PosixPath('/Users/christian/data/zooniverse/2024_04_10_analysis/Iguanas 1st launch/flat_dataset_Iguanas 1st launch.csv'),\n 'flat_panoptes_points': PosixPath('/Users/christian/data/zooniverse/2024_04_10_analysis/Iguanas 1st launch/flat_panoptes_points_Iguanas 1st launch.csv'),\n 'merged_dataset': PosixPath('/Users/christian/data/zooniverse/2024_04_10_analysis/Iguanas 1st launch/flat_dataset_filtered_Iguanas 1st launch.csv'),\n 'comparison_dataset': PosixPath('/Users/christian/data/zooniverse/2024_04_10_analysis/Iguanas 1st launch/Iguanas 1st launch_method_comparison.csv'),\n 'method_sums': PosixPath('/Users/christian/data/zooniverse/2024_04_10_analysis/Iguanas 1st launch/Iguanas 1st launch_method_sums.csv'),\n 'dbscan_hyperparam_grid': PosixPath('/Users/christian/data/zooniverse/2024_04_10_analysis/Iguanas 1st launch/Iguanas 1st launch_hyperparam_grid.csv')}"
     },
     "execution_count": 8,
     "metadata": {},
     "output_type": "execute_result"
    }
   ],
   "source": [
    "from zooniverse.config import get_config_all\n",
    "\n",
    "config = get_config_all(phase_tag=phase_tag, input_path=input_path, output_path=output_path)\n",
    "config"
   ]
  },
  {
   "cell_type": "code",
   "outputs": [],
   "source": [],
   "metadata": {
    "collapsed": false,
    "ExecuteTime": {
     "end_time": "2024-04-10T14:28:59.507132Z",
     "start_time": "2024-04-10T14:28:59.504479Z"
    }
   },
   "id": "45ed539ce0da3ec1",
   "execution_count": 8
  },
  {
   "cell_type": "code",
   "execution_count": 12,
   "id": "ee63e05f12a7f36b",
   "metadata": {
    "collapsed": false,
    "ExecuteTime": {
     "end_time": "2024-04-10T14:29:19.813409Z",
     "start_time": "2024-04-10T14:29:19.787120Z"
    }
   },
   "outputs": [],
   "source": [
    "from zooniverse.utils.anonymize import UserAnonymizer\n",
    "from zooniverse.utils.data_format import data_prep_all\n",
    "\n",
    "if reprocess:\n",
    "    ds_stats = data_prep_all(phase_tag=phase_tag, \n",
    "                         output_path=output_path, \n",
    "                         input_path=input_path, \n",
    "                         config=config)\n",
    "    print(ds_stats)\n",
    "    \n",
    "    # TODO the data should be anonymized already\n",
    "    # Anomymise the data to prevent usernames and user_ids to become public\n",
    "    anonymizer = UserAnonymizer(config[\"flat_dataset\"])\n",
    "    anonymizer.anonymize_data()\n",
    "    anonymizer.save_anonymized_data(config[\"flat_dataset\"])\n",
    "    \n",
    "    anonymizer = UserAnonymizer(config[\"merged_dataset\"])\n",
    "    anonymizer.anonymize_data()\n",
    "    anonymizer.save_anonymized_data(config[\"merged_dataset\"])"
   ]
  },
  {
   "cell_type": "code",
   "execution_count": 13,
   "id": "bc2fa0f92651d9da",
   "metadata": {
    "collapsed": false,
    "ExecuteTime": {
     "end_time": "2024-04-10T14:29:20.565502Z",
     "start_time": "2024-04-10T14:29:20.517745Z"
    }
   },
   "outputs": [
    {
     "data": {
      "text/plain": "      Unnamed: 0 flight_site_code  workflow_id  workflow_version  \\\n0              0             SFM1        14370           134.236   \n1              1             SFM1        14370           134.236   \n2              2             SFM1        14370           134.236   \n3              3             SFM1        14370           134.236   \n4              4             SFM1        14370           134.236   \n...          ...              ...          ...               ...   \n3042        3042             SFM1        14370           134.236   \n3043        3043             SFM1        14370           134.236   \n3044        3044             SFM1        14370           134.236   \n3045        3045             SFM1        14370           134.236   \n3046        3046             SFM1        14370           134.236   \n\n               image_name  subject_id           x           y  \\\n0     SFM01-2-2-3_137.jpg    47970105  376.160156   84.558594   \n1     SFM01-2-2-3_137.jpg    47970105  272.695312  297.894531   \n2     SFM01-2-2-3_137.jpg    47970105  111.898438  410.011719   \n3       SFM01-1-2_264.jpg    47968406  462.800781  390.786377   \n4       SFM01-1-2_264.jpg    47968406  545.598145  423.652527   \n...                   ...         ...         ...         ...   \n3042  SFM01-2-2-1_120.jpg    47969236  406.704041  383.049408   \n3043  SFM01-2-2-1_120.jpg    47969236  577.184998  270.231110   \n3044    SFM01-1-2_210.jpg    47968359  316.314850  392.354614   \n3045    SFM01-1-2_210.jpg    47968359  326.542725  402.156372   \n3046    SFM01-1-2_210.jpg    47968359  318.994141  396.814789   \n\n                                             tool_label           phase_tag  \\\n0                                      Adult Male alone  Iguanas 1st launch   \n1                                      Adult Male alone  Iguanas 1st launch   \n2                                      Adult Male alone  Iguanas 1st launch   \n3                                   Adult Male in a lek  Iguanas 1st launch   \n4     Others (females, young males, juveniles and ta...  Iguanas 1st launch   \n...                                                 ...                 ...   \n3042                       Could be an iguana, not sure  Iguanas 1st launch   \n3043                       Could be an iguana, not sure  Iguanas 1st launch   \n3044  Others (females, young males, juveniles and ta...  Iguanas 1st launch   \n3045  Others (females, young males, juveniles and ta...  Iguanas 1st launch   \n3046                                   Adult Male alone  Iguanas 1st launch   \n\n        user_id                           user_name mission_name  \\\n0     2068663.0                               aymor         SFM1   \n1     2068663.0                               aymor         SFM1   \n2     2068663.0                               aymor         SFM1   \n3     1878692.0                           drewavery         SFM1   \n4     1878692.0                           drewavery         SFM1   \n...         ...                                 ...          ...   \n3042        NaN  not-logged-in-341c84c0e52bdc34f8f8         SFM1   \n3043        NaN  not-logged-in-341c84c0e52bdc34f8f8         SFM1   \n3044  2136122.0                             H.axson         SFM1   \n3045  2136122.0                             H.axson         SFM1   \n3046  2193415.0                         kbohensky63         SFM1   \n\n                                             image_path  width  height  \n0     /Users/christian/data/zooniverse/Images/Zooniv...    589     573  \n1     /Users/christian/data/zooniverse/Images/Zooniv...    589     573  \n2     /Users/christian/data/zooniverse/Images/Zooniv...    589     573  \n3     /Users/christian/data/zooniverse/Images/Zooniv...    599     630  \n4     /Users/christian/data/zooniverse/Images/Zooniv...    599     630  \n...                                                 ...    ...     ...  \n3042  /Users/christian/data/zooniverse/Images/Zooniv...    666     648  \n3043  /Users/christian/data/zooniverse/Images/Zooniv...    666     648  \n3044  /Users/christian/data/zooniverse/Images/Zooniv...    599     630  \n3045  /Users/christian/data/zooniverse/Images/Zooniv...    599     630  \n3046  /Users/christian/data/zooniverse/Images/Zooniv...    599     630  \n\n[3047 rows x 16 columns]",
      "text/html": "<div>\n<style scoped>\n    .dataframe tbody tr th:only-of-type {\n        vertical-align: middle;\n    }\n\n    .dataframe tbody tr th {\n        vertical-align: top;\n    }\n\n    .dataframe thead th {\n        text-align: right;\n    }\n</style>\n<table border=\"1\" class=\"dataframe\">\n  <thead>\n    <tr style=\"text-align: right;\">\n      <th></th>\n      <th>Unnamed: 0</th>\n      <th>flight_site_code</th>\n      <th>workflow_id</th>\n      <th>workflow_version</th>\n      <th>image_name</th>\n      <th>subject_id</th>\n      <th>x</th>\n      <th>y</th>\n      <th>tool_label</th>\n      <th>phase_tag</th>\n      <th>user_id</th>\n      <th>user_name</th>\n      <th>mission_name</th>\n      <th>image_path</th>\n      <th>width</th>\n      <th>height</th>\n    </tr>\n  </thead>\n  <tbody>\n    <tr>\n      <th>0</th>\n      <td>0</td>\n      <td>SFM1</td>\n      <td>14370</td>\n      <td>134.236</td>\n      <td>SFM01-2-2-3_137.jpg</td>\n      <td>47970105</td>\n      <td>376.160156</td>\n      <td>84.558594</td>\n      <td>Adult Male alone</td>\n      <td>Iguanas 1st launch</td>\n      <td>2068663.0</td>\n      <td>aymor</td>\n      <td>SFM1</td>\n      <td>/Users/christian/data/zooniverse/Images/Zooniv...</td>\n      <td>589</td>\n      <td>573</td>\n    </tr>\n    <tr>\n      <th>1</th>\n      <td>1</td>\n      <td>SFM1</td>\n      <td>14370</td>\n      <td>134.236</td>\n      <td>SFM01-2-2-3_137.jpg</td>\n      <td>47970105</td>\n      <td>272.695312</td>\n      <td>297.894531</td>\n      <td>Adult Male alone</td>\n      <td>Iguanas 1st launch</td>\n      <td>2068663.0</td>\n      <td>aymor</td>\n      <td>SFM1</td>\n      <td>/Users/christian/data/zooniverse/Images/Zooniv...</td>\n      <td>589</td>\n      <td>573</td>\n    </tr>\n    <tr>\n      <th>2</th>\n      <td>2</td>\n      <td>SFM1</td>\n      <td>14370</td>\n      <td>134.236</td>\n      <td>SFM01-2-2-3_137.jpg</td>\n      <td>47970105</td>\n      <td>111.898438</td>\n      <td>410.011719</td>\n      <td>Adult Male alone</td>\n      <td>Iguanas 1st launch</td>\n      <td>2068663.0</td>\n      <td>aymor</td>\n      <td>SFM1</td>\n      <td>/Users/christian/data/zooniverse/Images/Zooniv...</td>\n      <td>589</td>\n      <td>573</td>\n    </tr>\n    <tr>\n      <th>3</th>\n      <td>3</td>\n      <td>SFM1</td>\n      <td>14370</td>\n      <td>134.236</td>\n      <td>SFM01-1-2_264.jpg</td>\n      <td>47968406</td>\n      <td>462.800781</td>\n      <td>390.786377</td>\n      <td>Adult Male in a lek</td>\n      <td>Iguanas 1st launch</td>\n      <td>1878692.0</td>\n      <td>drewavery</td>\n      <td>SFM1</td>\n      <td>/Users/christian/data/zooniverse/Images/Zooniv...</td>\n      <td>599</td>\n      <td>630</td>\n    </tr>\n    <tr>\n      <th>4</th>\n      <td>4</td>\n      <td>SFM1</td>\n      <td>14370</td>\n      <td>134.236</td>\n      <td>SFM01-1-2_264.jpg</td>\n      <td>47968406</td>\n      <td>545.598145</td>\n      <td>423.652527</td>\n      <td>Others (females, young males, juveniles and ta...</td>\n      <td>Iguanas 1st launch</td>\n      <td>1878692.0</td>\n      <td>drewavery</td>\n      <td>SFM1</td>\n      <td>/Users/christian/data/zooniverse/Images/Zooniv...</td>\n      <td>599</td>\n      <td>630</td>\n    </tr>\n    <tr>\n      <th>...</th>\n      <td>...</td>\n      <td>...</td>\n      <td>...</td>\n      <td>...</td>\n      <td>...</td>\n      <td>...</td>\n      <td>...</td>\n      <td>...</td>\n      <td>...</td>\n      <td>...</td>\n      <td>...</td>\n      <td>...</td>\n      <td>...</td>\n      <td>...</td>\n      <td>...</td>\n      <td>...</td>\n    </tr>\n    <tr>\n      <th>3042</th>\n      <td>3042</td>\n      <td>SFM1</td>\n      <td>14370</td>\n      <td>134.236</td>\n      <td>SFM01-2-2-1_120.jpg</td>\n      <td>47969236</td>\n      <td>406.704041</td>\n      <td>383.049408</td>\n      <td>Could be an iguana, not sure</td>\n      <td>Iguanas 1st launch</td>\n      <td>NaN</td>\n      <td>not-logged-in-341c84c0e52bdc34f8f8</td>\n      <td>SFM1</td>\n      <td>/Users/christian/data/zooniverse/Images/Zooniv...</td>\n      <td>666</td>\n      <td>648</td>\n    </tr>\n    <tr>\n      <th>3043</th>\n      <td>3043</td>\n      <td>SFM1</td>\n      <td>14370</td>\n      <td>134.236</td>\n      <td>SFM01-2-2-1_120.jpg</td>\n      <td>47969236</td>\n      <td>577.184998</td>\n      <td>270.231110</td>\n      <td>Could be an iguana, not sure</td>\n      <td>Iguanas 1st launch</td>\n      <td>NaN</td>\n      <td>not-logged-in-341c84c0e52bdc34f8f8</td>\n      <td>SFM1</td>\n      <td>/Users/christian/data/zooniverse/Images/Zooniv...</td>\n      <td>666</td>\n      <td>648</td>\n    </tr>\n    <tr>\n      <th>3044</th>\n      <td>3044</td>\n      <td>SFM1</td>\n      <td>14370</td>\n      <td>134.236</td>\n      <td>SFM01-1-2_210.jpg</td>\n      <td>47968359</td>\n      <td>316.314850</td>\n      <td>392.354614</td>\n      <td>Others (females, young males, juveniles and ta...</td>\n      <td>Iguanas 1st launch</td>\n      <td>2136122.0</td>\n      <td>H.axson</td>\n      <td>SFM1</td>\n      <td>/Users/christian/data/zooniverse/Images/Zooniv...</td>\n      <td>599</td>\n      <td>630</td>\n    </tr>\n    <tr>\n      <th>3045</th>\n      <td>3045</td>\n      <td>SFM1</td>\n      <td>14370</td>\n      <td>134.236</td>\n      <td>SFM01-1-2_210.jpg</td>\n      <td>47968359</td>\n      <td>326.542725</td>\n      <td>402.156372</td>\n      <td>Others (females, young males, juveniles and ta...</td>\n      <td>Iguanas 1st launch</td>\n      <td>2136122.0</td>\n      <td>H.axson</td>\n      <td>SFM1</td>\n      <td>/Users/christian/data/zooniverse/Images/Zooniv...</td>\n      <td>599</td>\n      <td>630</td>\n    </tr>\n    <tr>\n      <th>3046</th>\n      <td>3046</td>\n      <td>SFM1</td>\n      <td>14370</td>\n      <td>134.236</td>\n      <td>SFM01-1-2_210.jpg</td>\n      <td>47968359</td>\n      <td>318.994141</td>\n      <td>396.814789</td>\n      <td>Adult Male alone</td>\n      <td>Iguanas 1st launch</td>\n      <td>2193415.0</td>\n      <td>kbohensky63</td>\n      <td>SFM1</td>\n      <td>/Users/christian/data/zooniverse/Images/Zooniv...</td>\n      <td>599</td>\n      <td>630</td>\n    </tr>\n  </tbody>\n</table>\n<p>3047 rows × 16 columns</p>\n</div>"
     },
     "execution_count": 13,
     "metadata": {},
     "output_type": "execute_result"
    }
   ],
   "source": [
    "if plot_diagrams == False:\n",
    "    output_plot_path = None\n",
    "\n",
    "# the flattened, filtered marks from zooniverse.\n",
    "df_merged_dataset = pd.read_csv(config[\"merged_dataset\"])\n",
    "\n",
    "df_merged_dataset"
   ]
  },
  {
   "cell_type": "code",
   "outputs": [
    {
     "data": {
      "text/plain": "        Unnamed: 0  classification_id                         user_name  \\\n0           161321          397130915  d84d31ab467c59e8a3ba49030312072e   \n1           161330          397130915  d84d31ab467c59e8a3ba49030312072e   \n2           103907          401114209  d84d31ab467c59e8a3ba49030312072e   \n3           103917          401114209  d84d31ab467c59e8a3ba49030312072e   \n4           199047          397739195  d84d31ab467c59e8a3ba49030312072e   \n...            ...                ...                               ...   \n177227      108350          397662853  9432ca625cbcee771e54db4c895908d3   \n177228      108350          397662853  9432ca625cbcee771e54db4c895908d3   \n177229      108350          397662853  9432ca625cbcee771e54db4c895908d3   \n177230      108350          397662853  9432ca625cbcee771e54db4c895908d3   \n177231      108350          397662853  9432ca625cbcee771e54db4c895908d3   \n\n                                 user_id  workflow_id task  \\\n0       003d2347111646e2fe7ae94b67bde94b        20600   T2   \n1       003d2347111646e2fe7ae94b67bde94b        20600   T2   \n2       003d2347111646e2fe7ae94b67bde94b        20600   T2   \n3       003d2347111646e2fe7ae94b67bde94b        20600   T2   \n4       003d2347111646e2fe7ae94b67bde94b        20600   T2   \n...                                  ...          ...  ...   \n177227                               NaN        20600   T2   \n177228                               NaN        20600   T2   \n177229                               NaN        20600   T2   \n177230                               NaN        20600   T2   \n177231                               NaN        20600   T2   \n\n                     created_at  subject_id        image_name     x     y  \n0       2022-02-15 19:21:11 UTC    72332826  EGI01-1-2_83.jpg   297   102  \n1       2022-02-15 19:21:11 UTC    72332826  EGI01-1-2_83.jpg   297   102  \n2       2022-03-08 00:53:47 UTC    72332844  EGI01-2-1_26.jpg  1384  1027  \n3       2022-03-08 00:53:47 UTC    72332844  EGI01-2-1_26.jpg  1384  1027  \n4       2022-02-18 20:16:43 UTC    72332945    EGI02-1_23.jpg   679   338  \n...                         ...         ...               ...   ...   ...  \n177227  2022-02-18 12:38:57 UTC    72373351   ESCG02-2_65.jpg    97   117  \n177228  2022-02-18 12:38:57 UTC    72373351   ESCG02-2_65.jpg   113   186  \n177229  2022-02-18 12:38:57 UTC    72373351   ESCG02-2_65.jpg    87   167  \n177230  2022-02-18 12:38:57 UTC    72373351   ESCG02-2_65.jpg   443   124  \n177231  2022-02-18 12:38:57 UTC    72373351   ESCG02-2_65.jpg   188   337  \n\n[177232 rows x 11 columns]",
      "text/html": "<div>\n<style scoped>\n    .dataframe tbody tr th:only-of-type {\n        vertical-align: middle;\n    }\n\n    .dataframe tbody tr th {\n        vertical-align: top;\n    }\n\n    .dataframe thead th {\n        text-align: right;\n    }\n</style>\n<table border=\"1\" class=\"dataframe\">\n  <thead>\n    <tr style=\"text-align: right;\">\n      <th></th>\n      <th>Unnamed: 0</th>\n      <th>classification_id</th>\n      <th>user_name</th>\n      <th>user_id</th>\n      <th>workflow_id</th>\n      <th>task</th>\n      <th>created_at</th>\n      <th>subject_id</th>\n      <th>image_name</th>\n      <th>x</th>\n      <th>y</th>\n    </tr>\n  </thead>\n  <tbody>\n    <tr>\n      <th>0</th>\n      <td>161321</td>\n      <td>397130915</td>\n      <td>d84d31ab467c59e8a3ba49030312072e</td>\n      <td>003d2347111646e2fe7ae94b67bde94b</td>\n      <td>20600</td>\n      <td>T2</td>\n      <td>2022-02-15 19:21:11 UTC</td>\n      <td>72332826</td>\n      <td>EGI01-1-2_83.jpg</td>\n      <td>297</td>\n      <td>102</td>\n    </tr>\n    <tr>\n      <th>1</th>\n      <td>161330</td>\n      <td>397130915</td>\n      <td>d84d31ab467c59e8a3ba49030312072e</td>\n      <td>003d2347111646e2fe7ae94b67bde94b</td>\n      <td>20600</td>\n      <td>T2</td>\n      <td>2022-02-15 19:21:11 UTC</td>\n      <td>72332826</td>\n      <td>EGI01-1-2_83.jpg</td>\n      <td>297</td>\n      <td>102</td>\n    </tr>\n    <tr>\n      <th>2</th>\n      <td>103907</td>\n      <td>401114209</td>\n      <td>d84d31ab467c59e8a3ba49030312072e</td>\n      <td>003d2347111646e2fe7ae94b67bde94b</td>\n      <td>20600</td>\n      <td>T2</td>\n      <td>2022-03-08 00:53:47 UTC</td>\n      <td>72332844</td>\n      <td>EGI01-2-1_26.jpg</td>\n      <td>1384</td>\n      <td>1027</td>\n    </tr>\n    <tr>\n      <th>3</th>\n      <td>103917</td>\n      <td>401114209</td>\n      <td>d84d31ab467c59e8a3ba49030312072e</td>\n      <td>003d2347111646e2fe7ae94b67bde94b</td>\n      <td>20600</td>\n      <td>T2</td>\n      <td>2022-03-08 00:53:47 UTC</td>\n      <td>72332844</td>\n      <td>EGI01-2-1_26.jpg</td>\n      <td>1384</td>\n      <td>1027</td>\n    </tr>\n    <tr>\n      <th>4</th>\n      <td>199047</td>\n      <td>397739195</td>\n      <td>d84d31ab467c59e8a3ba49030312072e</td>\n      <td>003d2347111646e2fe7ae94b67bde94b</td>\n      <td>20600</td>\n      <td>T2</td>\n      <td>2022-02-18 20:16:43 UTC</td>\n      <td>72332945</td>\n      <td>EGI02-1_23.jpg</td>\n      <td>679</td>\n      <td>338</td>\n    </tr>\n    <tr>\n      <th>...</th>\n      <td>...</td>\n      <td>...</td>\n      <td>...</td>\n      <td>...</td>\n      <td>...</td>\n      <td>...</td>\n      <td>...</td>\n      <td>...</td>\n      <td>...</td>\n      <td>...</td>\n      <td>...</td>\n    </tr>\n    <tr>\n      <th>177227</th>\n      <td>108350</td>\n      <td>397662853</td>\n      <td>9432ca625cbcee771e54db4c895908d3</td>\n      <td>NaN</td>\n      <td>20600</td>\n      <td>T2</td>\n      <td>2022-02-18 12:38:57 UTC</td>\n      <td>72373351</td>\n      <td>ESCG02-2_65.jpg</td>\n      <td>97</td>\n      <td>117</td>\n    </tr>\n    <tr>\n      <th>177228</th>\n      <td>108350</td>\n      <td>397662853</td>\n      <td>9432ca625cbcee771e54db4c895908d3</td>\n      <td>NaN</td>\n      <td>20600</td>\n      <td>T2</td>\n      <td>2022-02-18 12:38:57 UTC</td>\n      <td>72373351</td>\n      <td>ESCG02-2_65.jpg</td>\n      <td>113</td>\n      <td>186</td>\n    </tr>\n    <tr>\n      <th>177229</th>\n      <td>108350</td>\n      <td>397662853</td>\n      <td>9432ca625cbcee771e54db4c895908d3</td>\n      <td>NaN</td>\n      <td>20600</td>\n      <td>T2</td>\n      <td>2022-02-18 12:38:57 UTC</td>\n      <td>72373351</td>\n      <td>ESCG02-2_65.jpg</td>\n      <td>87</td>\n      <td>167</td>\n    </tr>\n    <tr>\n      <th>177230</th>\n      <td>108350</td>\n      <td>397662853</td>\n      <td>9432ca625cbcee771e54db4c895908d3</td>\n      <td>NaN</td>\n      <td>20600</td>\n      <td>T2</td>\n      <td>2022-02-18 12:38:57 UTC</td>\n      <td>72373351</td>\n      <td>ESCG02-2_65.jpg</td>\n      <td>443</td>\n      <td>124</td>\n    </tr>\n    <tr>\n      <th>177231</th>\n      <td>108350</td>\n      <td>397662853</td>\n      <td>9432ca625cbcee771e54db4c895908d3</td>\n      <td>NaN</td>\n      <td>20600</td>\n      <td>T2</td>\n      <td>2022-02-18 12:38:57 UTC</td>\n      <td>72373351</td>\n      <td>ESCG02-2_65.jpg</td>\n      <td>188</td>\n      <td>337</td>\n    </tr>\n  </tbody>\n</table>\n<p>177232 rows × 11 columns</p>\n</div>"
     },
     "execution_count": 14,
     "metadata": {},
     "output_type": "execute_result"
    }
   ],
   "source": [
    "df_flat_panoptes_points = pd.read_csv(config[\"flat_panoptes_points\"])\n",
    "df_flat_panoptes_points"
   ],
   "metadata": {
    "collapsed": false,
    "ExecuteTime": {
     "end_time": "2024-04-10T14:29:22.467470Z",
     "start_time": "2024-04-10T14:29:22.209142Z"
    }
   },
   "id": "f735b4856eed80bd",
   "execution_count": 14
  },
  {
   "cell_type": "markdown",
   "id": "bf09c7260aa5e8ed",
   "metadata": {
    "collapsed": false
   },
   "source": [
    "## Look at the data\n"
   ]
  },
  {
   "cell_type": "code",
   "execution_count": 15,
   "id": "6e814289feb967ec",
   "metadata": {
    "collapsed": false,
    "ExecuteTime": {
     "end_time": "2024-04-10T14:29:28.502195Z",
     "start_time": "2024-04-10T14:29:28.466924Z"
    }
   },
   "outputs": [
    {
     "data": {
      "text/plain": "      Unnamed: 0 flight_site_code  workflow_id  workflow_version  \\\n0              0             SFM1        14370           134.236   \n1              1             SFM1        14370           134.236   \n2              2             SFM1        14370           134.236   \n3              3             SFM1        14370           134.236   \n4              4             SFM1        14370           134.236   \n...          ...              ...          ...               ...   \n3042        3042             SFM1        14370           134.236   \n3043        3043             SFM1        14370           134.236   \n3044        3044             SFM1        14370           134.236   \n3045        3045             SFM1        14370           134.236   \n3046        3046             SFM1        14370           134.236   \n\n               image_name  subject_id           x           y  \\\n0     SFM01-2-2-3_137.jpg    47970105  376.160156   84.558594   \n1     SFM01-2-2-3_137.jpg    47970105  272.695312  297.894531   \n2     SFM01-2-2-3_137.jpg    47970105  111.898438  410.011719   \n3       SFM01-1-2_264.jpg    47968406  462.800781  390.786377   \n4       SFM01-1-2_264.jpg    47968406  545.598145  423.652527   \n...                   ...         ...         ...         ...   \n3042  SFM01-2-2-1_120.jpg    47969236  406.704041  383.049408   \n3043  SFM01-2-2-1_120.jpg    47969236  577.184998  270.231110   \n3044    SFM01-1-2_210.jpg    47968359  316.314850  392.354614   \n3045    SFM01-1-2_210.jpg    47968359  326.542725  402.156372   \n3046    SFM01-1-2_210.jpg    47968359  318.994141  396.814789   \n\n                                             tool_label           phase_tag  \\\n0                                      Adult Male alone  Iguanas 1st launch   \n1                                      Adult Male alone  Iguanas 1st launch   \n2                                      Adult Male alone  Iguanas 1st launch   \n3                                   Adult Male in a lek  Iguanas 1st launch   \n4     Others (females, young males, juveniles and ta...  Iguanas 1st launch   \n...                                                 ...                 ...   \n3042                       Could be an iguana, not sure  Iguanas 1st launch   \n3043                       Could be an iguana, not sure  Iguanas 1st launch   \n3044  Others (females, young males, juveniles and ta...  Iguanas 1st launch   \n3045  Others (females, young males, juveniles and ta...  Iguanas 1st launch   \n3046                                   Adult Male alone  Iguanas 1st launch   \n\n        user_id                           user_name mission_name  \\\n0     2068663.0                               aymor         SFM1   \n1     2068663.0                               aymor         SFM1   \n2     2068663.0                               aymor         SFM1   \n3     1878692.0                           drewavery         SFM1   \n4     1878692.0                           drewavery         SFM1   \n...         ...                                 ...          ...   \n3042        NaN  not-logged-in-341c84c0e52bdc34f8f8         SFM1   \n3043        NaN  not-logged-in-341c84c0e52bdc34f8f8         SFM1   \n3044  2136122.0                             H.axson         SFM1   \n3045  2136122.0                             H.axson         SFM1   \n3046  2193415.0                         kbohensky63         SFM1   \n\n                                             image_path  width  height  \n0     /Users/christian/data/zooniverse/Images/Zooniv...    589     573  \n1     /Users/christian/data/zooniverse/Images/Zooniv...    589     573  \n2     /Users/christian/data/zooniverse/Images/Zooniv...    589     573  \n3     /Users/christian/data/zooniverse/Images/Zooniv...    599     630  \n4     /Users/christian/data/zooniverse/Images/Zooniv...    599     630  \n...                                                 ...    ...     ...  \n3042  /Users/christian/data/zooniverse/Images/Zooniv...    666     648  \n3043  /Users/christian/data/zooniverse/Images/Zooniv...    666     648  \n3044  /Users/christian/data/zooniverse/Images/Zooniv...    599     630  \n3045  /Users/christian/data/zooniverse/Images/Zooniv...    599     630  \n3046  /Users/christian/data/zooniverse/Images/Zooniv...    599     630  \n\n[3047 rows x 16 columns]",
      "text/html": "<div>\n<style scoped>\n    .dataframe tbody tr th:only-of-type {\n        vertical-align: middle;\n    }\n\n    .dataframe tbody tr th {\n        vertical-align: top;\n    }\n\n    .dataframe thead th {\n        text-align: right;\n    }\n</style>\n<table border=\"1\" class=\"dataframe\">\n  <thead>\n    <tr style=\"text-align: right;\">\n      <th></th>\n      <th>Unnamed: 0</th>\n      <th>flight_site_code</th>\n      <th>workflow_id</th>\n      <th>workflow_version</th>\n      <th>image_name</th>\n      <th>subject_id</th>\n      <th>x</th>\n      <th>y</th>\n      <th>tool_label</th>\n      <th>phase_tag</th>\n      <th>user_id</th>\n      <th>user_name</th>\n      <th>mission_name</th>\n      <th>image_path</th>\n      <th>width</th>\n      <th>height</th>\n    </tr>\n  </thead>\n  <tbody>\n    <tr>\n      <th>0</th>\n      <td>0</td>\n      <td>SFM1</td>\n      <td>14370</td>\n      <td>134.236</td>\n      <td>SFM01-2-2-3_137.jpg</td>\n      <td>47970105</td>\n      <td>376.160156</td>\n      <td>84.558594</td>\n      <td>Adult Male alone</td>\n      <td>Iguanas 1st launch</td>\n      <td>2068663.0</td>\n      <td>aymor</td>\n      <td>SFM1</td>\n      <td>/Users/christian/data/zooniverse/Images/Zooniv...</td>\n      <td>589</td>\n      <td>573</td>\n    </tr>\n    <tr>\n      <th>1</th>\n      <td>1</td>\n      <td>SFM1</td>\n      <td>14370</td>\n      <td>134.236</td>\n      <td>SFM01-2-2-3_137.jpg</td>\n      <td>47970105</td>\n      <td>272.695312</td>\n      <td>297.894531</td>\n      <td>Adult Male alone</td>\n      <td>Iguanas 1st launch</td>\n      <td>2068663.0</td>\n      <td>aymor</td>\n      <td>SFM1</td>\n      <td>/Users/christian/data/zooniverse/Images/Zooniv...</td>\n      <td>589</td>\n      <td>573</td>\n    </tr>\n    <tr>\n      <th>2</th>\n      <td>2</td>\n      <td>SFM1</td>\n      <td>14370</td>\n      <td>134.236</td>\n      <td>SFM01-2-2-3_137.jpg</td>\n      <td>47970105</td>\n      <td>111.898438</td>\n      <td>410.011719</td>\n      <td>Adult Male alone</td>\n      <td>Iguanas 1st launch</td>\n      <td>2068663.0</td>\n      <td>aymor</td>\n      <td>SFM1</td>\n      <td>/Users/christian/data/zooniverse/Images/Zooniv...</td>\n      <td>589</td>\n      <td>573</td>\n    </tr>\n    <tr>\n      <th>3</th>\n      <td>3</td>\n      <td>SFM1</td>\n      <td>14370</td>\n      <td>134.236</td>\n      <td>SFM01-1-2_264.jpg</td>\n      <td>47968406</td>\n      <td>462.800781</td>\n      <td>390.786377</td>\n      <td>Adult Male in a lek</td>\n      <td>Iguanas 1st launch</td>\n      <td>1878692.0</td>\n      <td>drewavery</td>\n      <td>SFM1</td>\n      <td>/Users/christian/data/zooniverse/Images/Zooniv...</td>\n      <td>599</td>\n      <td>630</td>\n    </tr>\n    <tr>\n      <th>4</th>\n      <td>4</td>\n      <td>SFM1</td>\n      <td>14370</td>\n      <td>134.236</td>\n      <td>SFM01-1-2_264.jpg</td>\n      <td>47968406</td>\n      <td>545.598145</td>\n      <td>423.652527</td>\n      <td>Others (females, young males, juveniles and ta...</td>\n      <td>Iguanas 1st launch</td>\n      <td>1878692.0</td>\n      <td>drewavery</td>\n      <td>SFM1</td>\n      <td>/Users/christian/data/zooniverse/Images/Zooniv...</td>\n      <td>599</td>\n      <td>630</td>\n    </tr>\n    <tr>\n      <th>...</th>\n      <td>...</td>\n      <td>...</td>\n      <td>...</td>\n      <td>...</td>\n      <td>...</td>\n      <td>...</td>\n      <td>...</td>\n      <td>...</td>\n      <td>...</td>\n      <td>...</td>\n      <td>...</td>\n      <td>...</td>\n      <td>...</td>\n      <td>...</td>\n      <td>...</td>\n      <td>...</td>\n    </tr>\n    <tr>\n      <th>3042</th>\n      <td>3042</td>\n      <td>SFM1</td>\n      <td>14370</td>\n      <td>134.236</td>\n      <td>SFM01-2-2-1_120.jpg</td>\n      <td>47969236</td>\n      <td>406.704041</td>\n      <td>383.049408</td>\n      <td>Could be an iguana, not sure</td>\n      <td>Iguanas 1st launch</td>\n      <td>NaN</td>\n      <td>not-logged-in-341c84c0e52bdc34f8f8</td>\n      <td>SFM1</td>\n      <td>/Users/christian/data/zooniverse/Images/Zooniv...</td>\n      <td>666</td>\n      <td>648</td>\n    </tr>\n    <tr>\n      <th>3043</th>\n      <td>3043</td>\n      <td>SFM1</td>\n      <td>14370</td>\n      <td>134.236</td>\n      <td>SFM01-2-2-1_120.jpg</td>\n      <td>47969236</td>\n      <td>577.184998</td>\n      <td>270.231110</td>\n      <td>Could be an iguana, not sure</td>\n      <td>Iguanas 1st launch</td>\n      <td>NaN</td>\n      <td>not-logged-in-341c84c0e52bdc34f8f8</td>\n      <td>SFM1</td>\n      <td>/Users/christian/data/zooniverse/Images/Zooniv...</td>\n      <td>666</td>\n      <td>648</td>\n    </tr>\n    <tr>\n      <th>3044</th>\n      <td>3044</td>\n      <td>SFM1</td>\n      <td>14370</td>\n      <td>134.236</td>\n      <td>SFM01-1-2_210.jpg</td>\n      <td>47968359</td>\n      <td>316.314850</td>\n      <td>392.354614</td>\n      <td>Others (females, young males, juveniles and ta...</td>\n      <td>Iguanas 1st launch</td>\n      <td>2136122.0</td>\n      <td>H.axson</td>\n      <td>SFM1</td>\n      <td>/Users/christian/data/zooniverse/Images/Zooniv...</td>\n      <td>599</td>\n      <td>630</td>\n    </tr>\n    <tr>\n      <th>3045</th>\n      <td>3045</td>\n      <td>SFM1</td>\n      <td>14370</td>\n      <td>134.236</td>\n      <td>SFM01-1-2_210.jpg</td>\n      <td>47968359</td>\n      <td>326.542725</td>\n      <td>402.156372</td>\n      <td>Others (females, young males, juveniles and ta...</td>\n      <td>Iguanas 1st launch</td>\n      <td>2136122.0</td>\n      <td>H.axson</td>\n      <td>SFM1</td>\n      <td>/Users/christian/data/zooniverse/Images/Zooniv...</td>\n      <td>599</td>\n      <td>630</td>\n    </tr>\n    <tr>\n      <th>3046</th>\n      <td>3046</td>\n      <td>SFM1</td>\n      <td>14370</td>\n      <td>134.236</td>\n      <td>SFM01-1-2_210.jpg</td>\n      <td>47968359</td>\n      <td>318.994141</td>\n      <td>396.814789</td>\n      <td>Adult Male alone</td>\n      <td>Iguanas 1st launch</td>\n      <td>2193415.0</td>\n      <td>kbohensky63</td>\n      <td>SFM1</td>\n      <td>/Users/christian/data/zooniverse/Images/Zooniv...</td>\n      <td>599</td>\n      <td>630</td>\n    </tr>\n  </tbody>\n</table>\n<p>3047 rows × 16 columns</p>\n</div>"
     },
     "execution_count": 15,
     "metadata": {},
     "output_type": "execute_result"
    }
   ],
   "source": [
    "## Look at the data\n",
    "df_merged_dataset\n"
   ]
  },
  {
   "cell_type": "markdown",
   "id": "da7bed90d6d10d89",
   "metadata": {
    "collapsed": false
   },
   "source": [
    "### Filter User if necessary and Marks\n"
   ]
  },
  {
   "cell_type": "code",
   "execution_count": null,
   "id": "b84daa777a0903cf",
   "metadata": {
    "collapsed": false,
    "ExecuteTime": {
     "end_time": "2024-04-10T14:25:55.126840Z",
     "start_time": "2024-04-10T14:25:55.123342Z"
    }
   },
   "outputs": [],
   "source": [
    "print(f\"Before filtering: {df_merged_dataset.subject_id.nunique()}\")\n",
    "# There images in which some people said there are iguanas, but then didn't mark them. Clustering with fewer than 3 dots doesn't make sense\n",
    "if user_threshold is not None:\n",
    "    print(f\"filtering records which have less than {user_threshold} interactions.\")\n",
    "    df_merged_dataset = filter_df_user_threshold(df_merged_dataset, user_threshold=user_threshold)\n",
    "    \n",
    "\n",
    "from zooniverse.utils.filters import filter_remove_marks\n",
    "# Check if partials are still in the data. There shouldn't be any\n",
    "df_merged_dataset = filter_remove_marks(df_merged_dataset)\n"
   ]
  },
  {
   "cell_type": "markdown",
   "id": "d479e39e24f570b0",
   "metadata": {
    "collapsed": false
   },
   "source": [
    "### Are there anonymous users in the data?\n",
    "There should be some."
   ]
  },
  {
   "cell_type": "code",
   "execution_count": null,
   "id": "9936072d8a7b7602",
   "metadata": {
    "collapsed": false
   },
   "outputs": [],
   "source": [
    "df_merged_dataset[df_merged_dataset.user_id.isnull().values]"
   ]
  },
  {
   "cell_type": "code",
   "execution_count": null,
   "id": "9258d161c25ae7d3",
   "metadata": {
    "collapsed": false
   },
   "outputs": [],
   "source": [
    "# Amount of images\n",
    "df_merged_dataset[\"subject_id\"].nunique()"
   ]
  },
  {
   "cell_type": "code",
   "execution_count": null,
   "id": "6caad5d554d586db",
   "metadata": {
    "collapsed": false
   },
   "outputs": [],
   "source": [
    "## After filtering there\n",
    "df_merged_dataset"
   ]
  },
  {
   "cell_type": "code",
   "execution_count": null,
   "id": "e1fcc8d02df55119",
   "metadata": {
    "collapsed": false,
    "ExecuteTime": {
     "end_time": "2024-04-10T14:25:55.154734Z",
     "start_time": "2024-04-10T14:25:55.148550Z"
    }
   },
   "outputs": [],
   "source": [
    "# how many marks per user\n",
    "df_merged_dataset[[\"user_id\", \"x\"]].groupby(\"user_id\").count().head()"
   ]
  },
  {
   "cell_type": "markdown",
   "id": "727513d12334665b",
   "metadata": {
    "collapsed": false
   },
   "source": []
  },
  {
   "cell_type": "code",
   "execution_count": null,
   "id": "a32dd3d78eb25d4a",
   "metadata": {
    "collapsed": false,
    "ExecuteTime": {
     "end_time": "2024-04-10T14:25:55.160111Z",
     "start_time": "2024-04-10T14:25:55.157634Z"
    }
   },
   "outputs": [],
   "source": [
    "# How many images are left in the zooniverse dataset?\n",
    "df_merged_dataset[\"subject_id\"].nunique()"
   ]
  },
  {
   "cell_type": "markdown",
   "id": "42c2737f2c06741d",
   "metadata": {
    "collapsed": false
   },
   "source": [
    "## Clustering"
   ]
  },
  {
   "cell_type": "markdown",
   "id": "beefdd1511daad4",
   "metadata": {
    "collapsed": false
   },
   "source": [
    "### Basic Statics like mean, median, mode"
   ]
  },
  {
   "cell_type": "code",
   "execution_count": null,
   "id": "998d62019f01a2ec",
   "metadata": {
    "collapsed": false,
    "ExecuteTime": {
     "end_time": "2024-04-10T14:25:55.163505Z",
     "start_time": "2024-04-10T14:25:55.162751Z"
    }
   },
   "outputs": [],
   "source": [
    "from zooniverse.analysis import get_mark_overview\n",
    "\n",
    "basic_stats = []\n",
    "\n",
    "for image_name, df_image_name in df_merged_dataset.groupby(\"image_name\"):\n",
    "    annotations_count = get_mark_overview(df_image_name)\n",
    "\n",
    "    annotations_count_stats = get_annotation_count_stats(annotations_count=annotations_count,\n",
    "                                                         image_name=df_image_name.iloc[0][\"image_name\"])\n",
    "\n",
    "    ### basic statistics like mean, median\n",
    "    basic_stats.append(annotations_count_stats)\n",
    "    \n",
    "\n",
    "df_basic_stats = pd.DataFrame(basic_stats)    \n",
    "df_comparison = df_basic_stats\n"
   ]
  },
  {
   "cell_type": "code",
   "execution_count": null,
   "id": "dd1f05f18807f3b4",
   "metadata": {
    "collapsed": false
   },
   "outputs": [],
   "source": [
    "df_basic_stats"
   ]
  },
  {
   "cell_type": "code",
   "execution_count": null,
   "id": "d3dc86009d813ff0",
   "metadata": {
    "collapsed": false,
    "ExecuteTime": {
     "end_time": "2024-04-10T14:25:55.168014Z",
     "start_time": "2024-04-10T14:25:55.167268Z"
    }
   },
   "outputs": [],
   "source": [
    "# There might be records with too few annotations if they were not removed before\n",
    "df_comparison[(df_comparison.sum_annotations_count < 5)].sort_values(by=\"users\", ascending=False)"
   ]
  },
  {
   "cell_type": "code",
   "execution_count": null,
   "id": "50596f5c07d7bd7c",
   "metadata": {
    "collapsed": false
   },
   "outputs": [],
   "source": [
    "# Fill NaN values with 0 because the errors can't be calculated otherwise\n",
    "df_comparison.fillna(0, inplace=True)\n"
   ]
  },
  {
   "cell_type": "code",
   "execution_count": null,
   "id": "d0b61f01-8db0-48a6-8a4e-5ff80e6f86e4",
   "metadata": {
    "ExecuteTime": {
     "end_time": "2024-04-10T14:25:55.172844Z",
     "start_time": "2024-04-10T14:25:55.172195Z"
    }
   },
   "outputs": [],
   "source": [
    "df_comparison"
   ]
  },
  {
   "cell_type": "code",
   "execution_count": null,
   "id": "134bd6295fa837ce",
   "metadata": {
    "collapsed": false,
    "ExecuteTime": {
     "end_time": "2024-04-10T14:25:55.177804Z",
     "start_time": "2024-04-10T14:25:55.177129Z"
    }
   },
   "outputs": [],
   "source": [
    "df_comparison.sum()"
   ]
  },
  {
   "cell_type": "markdown",
   "id": "5d99c27ebf9bd6b6",
   "metadata": {
    "collapsed": false
   },
   "source": [
    "### DBSCAN clustering and take the variant with the best silouette score for each image\n"
   ]
  },
  {
   "cell_type": "code",
   "execution_count": null,
   "id": "33cf6b89951ff33e",
   "metadata": {
    "collapsed": false
   },
   "outputs": [],
   "source": [
    "### The old variant\n",
    "# from zooniverse.analysis import compare_dbscan\n",
    "# \n",
    "# eps_variants = [0.01, 0.05, 0.1, 0.2, 0.3, 0.4, 0.5]\n",
    "# min_samples_variants = [3, 5, 8, 10]\n",
    "# if debug:\n",
    "#     eps_variants = [0.3]\n",
    "#     min_samples_variants = [3]\n",
    "# params = [(eps, min_samples) for eps in eps_variants for min_samples in min_samples_variants]\n",
    "# \n",
    "# db_scan_results = {}\n",
    "# db_scan_best_results = []\n",
    "# db_scan_best_bic_results = []\n",
    "# for image_name, df_image_name in df_merged_dataset.groupby(\"image_name\"):\n",
    "# \n",
    "#     dbscan_localization = compare_dbscan(\n",
    "#         # phase_tag=phase_tag,\n",
    "#         params=params,\n",
    "#         df_flat=df_image_name,\n",
    "#         # output_path=output_path,\n",
    "#         output_plot_path=output_plot_path,\n",
    "#         plot=show_plots,\n",
    "#         \n",
    "#     )\n",
    "# \n",
    "#     db_scan_results[image_name] = pd.DataFrame(dbscan_localization)\n",
    "#     db_scan_best_results.append(pd.DataFrame(dbscan_localization).sort_values(\"dbscan_silouette_score\", ascending=False).iloc[0])\n",
    "#     \n",
    "# df_dbscan_localization = pd.concat([*db_scan_results.values()])\n",
    "# df_scan_best_results = pd.DataFrame(db_scan_best_results)\n",
    "\n"
   ]
  },
  {
   "cell_type": "code",
   "execution_count": null,
   "id": "1504707449147a99",
   "metadata": {
    "collapsed": false
   },
   "outputs": [],
   "source": [
    "# df_scan_best_results"
   ]
  },
  {
   "cell_type": "code",
   "execution_count": null,
   "id": "541f9f88dc56d1f1",
   "metadata": {
    "collapsed": false
   },
   "outputs": [],
   "source": [
    "## fixes the problem with the silouette score sorting\n",
    "from zooniverse.analysis import compare_dbscan\n",
    "\n",
    "eps_variants = [0.01, 0.05, 0.1, 0.2, 0.3, 0.4, 0.5]\n",
    "min_samples_variants = [3, 5, 8, 10]\n",
    "if debug:\n",
    "    eps_variants = [0.3]\n",
    "    min_samples_variants = [3]\n",
    "params = [(eps, min_samples) for eps in eps_variants for min_samples in min_samples_variants]\n",
    "\n",
    "db_scan_results = {}\n",
    "db_scan_best_results = []\n",
    "db_scan_best_bic_results = []\n",
    "for image_name, df_image_name in df_merged_dataset.groupby(\"image_name\"):\n",
    "\n",
    "    dbscan_localization = compare_dbscan(\n",
    "        params=params,\n",
    "        df_flat=df_image_name,\n",
    "        output_plot_path=output_plot_path,\n",
    "        plot=show_plots\n",
    "    )\n",
    "\n",
    "    db_scan_results[image_name] = pd.DataFrame(dbscan_localization)\n",
    "    \n",
    "    # DBSCAN tends to classfy all points as noise if min_samples is too high. Often only a single user marked an iguana.\n",
    "    # Sillouette Scoring needs a minimum of 2 clusters\n",
    "    # if there are points in decent radius they will belong to a cluster\n",
    "    if pd.DataFrame(dbscan_localization).dbscan_count.max() == 1:\n",
    "        db_scan_best_results.append(pd.DataFrame(dbscan_localization).sort_values(\"dbscan_count\", ascending=False).iloc[0])\n",
    "        db_scan_best_bic_results.append(pd.DataFrame(dbscan_localization).sort_values(\"dbscan_count\", ascending=False).iloc[0])\n",
    "        # If two or more cluster seem to exists take ones with the best Silouette score\n",
    "    else:  \n",
    "        # take the best result by silouette score if there are more clusters then 1\n",
    "        db_scan_best_results.append(pd.DataFrame(dbscan_localization).sort_values([\"dbscan_silouette_score\", \"dbscan_count\"], ascending=[False, False]).iloc[0])\n",
    "    \n",
    "df_dbscan_localization = pd.concat([*db_scan_results.values()])\n",
    "df_scan_best_results = pd.DataFrame(db_scan_best_results)\n"
   ]
  },
  {
   "cell_type": "code",
   "execution_count": null,
   "id": "ec07d63d180d7442",
   "metadata": {
    "collapsed": false
   },
   "outputs": [],
   "source": [
    "df_scan_best_results"
   ]
  },
  {
   "cell_type": "markdown",
   "id": "d196ca1914a06509",
   "metadata": {
    "collapsed": false
   },
   "source": [
    "Here it can be seen why the silouette score is difficult because it is often undefined."
   ]
  },
  {
   "cell_type": "code",
   "execution_count": null,
   "id": "c17c404cb518dbe1",
   "metadata": {
    "collapsed": false
   },
   "outputs": [],
   "source": [
    "## save the combinations of parameters, which maximized the silouette score.\n",
    "\n",
    "df_dbscan_localization.to_csv(config[\"dbscan_hyperparam_grid\"])\n",
    "df_scan_best_results"
   ]
  },
  {
   "cell_type": "code",
   "execution_count": null,
   "id": "bacea598a23a1b81",
   "metadata": {
    "collapsed": false
   },
   "outputs": [],
   "source": [
    "df_scan_best_results.rename(columns={\"dbscan_count\": \"dbscan_count_sil\" }, inplace=True)\n",
    "\n",
    "df_comparison = df_comparison.merge(df_scan_best_results, on='image_name', how='left')"
   ]
  },
  {
   "cell_type": "code",
   "execution_count": null,
   "id": "509dec5ebdad923",
   "metadata": {
    "collapsed": false
   },
   "outputs": [],
   "source": [
    "\n",
    "df_comparison = df_comparison.drop([\"dbscan_noise\", \"dbscan_silouette_score\", \"eps\", \"min_samples\", \"dbscan_BIC_score\", \"with_noise\", \"bic_avg\"], axis=1, errors=\"ignore\")\n",
    "df_comparison"
   ]
  },
  {
   "cell_type": "markdown",
   "id": "15adf791099ac332",
   "metadata": {
    "collapsed": false
   },
   "source": [
    "### HDBSCAN clustering for each image\n"
   ]
  },
  {
   "cell_type": "code",
   "execution_count": null,
   "id": "6763aed82e7088dd",
   "metadata": {
    "collapsed": false
   },
   "outputs": [],
   "source": [
    "from zooniverse.analysis import hdbscan\n",
    "\n",
    "hdbscan_values = []\n",
    "\n",
    "eps_variants = [0.0] # 0 is the default\n",
    "min_cluster_sizes = [5] # 5 is the default\n",
    "\n",
    "\n",
    "for image_name, df_image_name in df_merged_dataset.groupby(\"image_name\"):\n",
    "    annotations_count = get_mark_overview(df_image_name)\n",
    "    annotations_count_stats = get_annotation_count_stats(annotations_count=annotations_count,\n",
    "                                                         image_name=df_image_name.iloc[0][\"image_name\"])\n",
    "    \n",
    "    # if less than min_cluster_sizes points are available clustering makes no sense\n",
    "    if df_image_name.shape[0] >= 5: # If num_samples is 5 for the min_cluster_size is 5 there is no point in passing data with less than 5 samples\n",
    "        params = [(eps, min_cluster_size, max_cluster_size) \n",
    "                    for eps in eps_variants\n",
    "                    for min_cluster_size in min_cluster_sizes\n",
    "                    for max_cluster_size in [None]\n",
    "              ]\n",
    "\n",
    "        df_hdbscan = hdbscan(df_marks=df_image_name[[\"x\", \"y\"]],\n",
    "                                     output_path=output_plot_path,\n",
    "                                     plot=show_plots,\n",
    "                                     show=show_plots,\n",
    "                                     image_name=image_name,\n",
    "                                     params=params)\n",
    "        hdbscan_values.append(df_hdbscan)\n",
    "\n",
    "\n",
    "df_hdbscan = pd.concat(hdbscan_values)\n",
    "\n"
   ]
  },
  {
   "cell_type": "code",
   "execution_count": null,
   "id": "5de6304addaca41d",
   "metadata": {
    "collapsed": false
   },
   "outputs": [],
   "source": [
    "df_hdbscan.drop([\"with_noise\"], axis=1, inplace=True)\n",
    "df_hdbscan"
   ]
  },
  {
   "cell_type": "code",
   "execution_count": null,
   "id": "563e2747f9f8a77c",
   "metadata": {
    "collapsed": false
   },
   "outputs": [],
   "source": [
    "df_comparison = df_comparison.merge(df_hdbscan, on='image_name', how='left')\n",
    "df_comparison.fillna(0, inplace=True)\n",
    "df_comparison"
   ]
  },
  {
   "cell_type": "code",
   "execution_count": null,
   "id": "bd5b4be03b3480d5",
   "metadata": {
    "collapsed": false
   },
   "outputs": [],
   "source": [
    "df_comparison.to_csv(config[\"comparison_dataset\"])\n",
    "print(f\"saved {config['comparison_dataset']}\")"
   ]
  },
  {
   "cell_type": "code",
   "execution_count": null,
   "id": "146136b8ee749f9",
   "metadata": {
    "collapsed": false
   },
   "outputs": [],
   "source": [
    "\n"
   ]
  },
  {
   "cell_type": "markdown",
   "id": "1866104643b4427f",
   "metadata": {
    "collapsed": false
   },
   "source": [
    "# A look into the results"
   ]
  },
  {
   "cell_type": "markdown",
   "id": "683ea0eaf795e5ff",
   "metadata": {
    "collapsed": false
   },
   "source": [
    "## The sum of the clustering\n",
    "What is the sum of the methods"
   ]
  },
  {
   "cell_type": "code",
   "execution_count": null,
   "id": "2ae2f205858fd9c4",
   "metadata": {
    "collapsed": false
   },
   "outputs": [],
   "source": [
    "\n",
    "df_comparison_sum = df_comparison[[\"median_count\", \"mean_count\", \"mode_count\", \"dbscan_count_sil\", \"HDBSCAN_count\"]].sum().sort_values()\n",
    "df_comparison_sum.to_csv(config[\"method_sums\"])\n"
   ]
  },
  {
   "cell_type": "code",
   "execution_count": null,
   "id": "35c25cb6dd0c9684",
   "metadata": {
    "collapsed": false
   },
   "outputs": [],
   "source": [
    "print(f\"phase_tag: {phase_tag}, user_threshold: {user_threshold}\")"
   ]
  },
  {
   "cell_type": "markdown",
   "id": "88ca320d97a38518",
   "metadata": {
    "collapsed": false
   },
   "source": [
    "## Compare the numbers\n",
    "The counts are only for images which were in the dataset after filtering."
   ]
  },
  {
   "cell_type": "markdown",
   "id": "8f58c29117a907a4",
   "metadata": {
    "collapsed": false
   },
   "source": [
    "### Sum of all the Methods"
   ]
  },
  {
   "cell_type": "code",
   "execution_count": null,
   "id": "e6a0ba0c34ca129a",
   "metadata": {
    "collapsed": false
   },
   "outputs": [],
   "source": [
    "print(f\"{config['method_sums'].name}\")\n",
    "df_method_sums = pd.read_csv(config[\"method_sums\"])\n",
    "df_method_sums"
   ]
  },
  {
   "cell_type": "markdown",
   "id": "59e1a0f4ffc4dcd0",
   "metadata": {
    "collapsed": false
   },
   "source": [
    "### Comparison per Image Level"
   ]
  },
  {
   "cell_type": "code",
   "execution_count": null,
   "id": "b63a639e877e8b4a",
   "metadata": {
    "collapsed": false
   },
   "outputs": [],
   "source": [
    "print(f\"load {config['comparison_dataset']}\")\n",
    "pd.read_csv(config[\"comparison_dataset\"])"
   ]
  }
 ],
 "metadata": {
  "kernelspec": {
   "display_name": "Python 3 (ipykernel)",
   "language": "python",
   "name": "python3"
  },
  "language_info": {
   "codemirror_mode": {
    "name": "ipython",
    "version": 3
   },
   "file_extension": ".py",
   "mimetype": "text/x-python",
   "name": "python",
   "nbconvert_exporter": "python",
   "pygments_lexer": "ipython3",
   "version": "3.10.13"
  }
 },
 "nbformat": 4,
 "nbformat_minor": 5
}
