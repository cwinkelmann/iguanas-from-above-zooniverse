{
 "cells": [
  {
   "cell_type": "markdown",
   "id": "708022ad72146e6d",
   "metadata": {},
   "source": [
    "# Clustering Zooniverse Marks to count Iguanas\n",
    "Count all the iguanas in the images by clustering the marks from the zooniverse volunteers.\n",
    "This does not compare the results to the gold standard and requires only a single file, the flattened zooniverse data export."
   ]
  },
  {
   "cell_type": "code",
   "execution_count": 1,
   "id": "d59fc4434d71491c",
   "metadata": {
    "collapsed": false,
    "tags": [],
    "ExecuteTime": {
     "end_time": "2024-08-05T13:36:54.050105Z",
     "start_time": "2024-08-05T13:36:54.032654Z"
    }
   },
   "outputs": [],
   "source": [
    "%load_ext autoreload\n",
    "%autoreload 2\n",
    "\n",
    "import sys\n",
    "\n",
    "sys.path.append(\"./\")\n",
    "sys.path.append(\"./zooniverse\")"
   ]
  },
  {
   "cell_type": "markdown",
   "id": "731716bd21e99cbe",
   "metadata": {
    "collapsed": false
   },
   "source": [
    "## Intro\n",
    "### Retrieve a Classification report from Zooniverse\n",
    "This notebook is used to cluster the marks from the zooniverse volunteers to count the iguanas in the images saved in results/<phase_tag>/flat_dataset_filtered_Iguanas 3rd launch.csv\n",
    "\n",
    "Used Methods are:\n",
    "\n",
    "### DBSCAN \n",
    "It does not require the number of clusters to be specified. It is used here because, but has min_samples and eps as hyperparameters which need to be found. [Link](https://scikit-learn.org/stable/auto_examples/cluster/plot_dbscan.html)\n",
    "For finding eps and min_sample a simple **grid search** is used.\n",
    "Additionally, DBSCAN not assume a specific shape for the clusters (K-means assumes clusters are gaussian in shape) even though we should assume that points around an iguana is gaussian shaped.\n",
    "\n",
    "### HDBSCAN\n",
    "It is an extension of DBSCAN which is more robust to hyperparameter settings as it finds epsilon and min_samples automatically. [Link](https://scikit-learn.org/stable/modules/generated/sklearn.cluster.HDBSCAN.html)"
   ]
  },
  {
   "cell_type": "markdown",
   "id": "e261acba86137ddd",
   "metadata": {
    "collapsed": false
   },
   "source": [
    "## Load the data"
   ]
  },
  {
   "cell_type": "code",
   "execution_count": 2,
   "id": "823d8c3234e4a1de",
   "metadata": {
    "collapsed": false,
    "tags": [],
    "ExecuteTime": {
     "end_time": "2024-08-05T13:36:56.452374Z",
     "start_time": "2024-08-05T13:36:54.635513Z"
    }
   },
   "outputs": [],
   "source": [
    "from pathlib import Path\n",
    "\n",
    "import pandas as pd\n",
    "from zooniverse.analysis import get_annotation_count_stats\n",
    "from zooniverse.utils.filters import filter_df_user_threshold\n",
    "\n",
    "\n",
    "\n",
    "# Phase Selection\n",
    "phase_tag = \"Iguanas 1st launch\"\n",
    "# phase_tag = \"Iguanas 2nd launch\"\n",
    "# phase_tag = \"Iguanas 3rd launch\"\n",
    "\n",
    "\n",
    "debug = False # debugging with a smaller dataset\n",
    "plot_diagrams = False # plot the diagrams to disk for the clustering methods\n",
    "show_plots = False # show the plots in the notebook\n",
    "\n",
    "user_threshold = None # None or a number, filter records which have less than these user interactions.\n",
    "use_gold_standard_subset = None # Use no filtering\n",
    "\n",
    "\n",
    "## Input Path of all the data\n",
    "input_path =Path(\"/Users/christian/data/zooniverse\")\n",
    "# input_path = Path(\"results/\")\n",
    "# Location for the analysis Results\n",
    "output_path = Path(input_path.joinpath(f\"2024_04_24_analysis\").joinpath(phase_tag))\n",
    "output_path.mkdir(exist_ok=True, parents=True)\n",
    "reprocess = False # if True, the raw classification data is reprocessed. If False, the data is loaded from disk\n",
    "\n",
    "# Location for plots\n",
    "# output_plot_path = output_path.joinpath(\"plots\")\n",
    "# output_plot_path.mkdir(parents=True, exist_ok=True)\n",
    "output_plot_path = None # do not plot"
   ]
  },
  {
   "cell_type": "markdown",
   "id": "593bea9e98df4db0",
   "metadata": {
    "collapsed": false
   },
   "source": [
    "## Look into the config\n",
    "This Config points to all files necessary for the analysis + the result files"
   ]
  },
  {
   "cell_type": "code",
   "execution_count": 3,
   "id": "674da03e20316ae5",
   "metadata": {
    "collapsed": false,
    "ExecuteTime": {
     "end_time": "2024-08-05T13:36:56.474808Z",
     "start_time": "2024-08-05T13:36:56.454945Z"
    }
   },
   "outputs": [
    {
     "data": {
      "text/plain": "{'annotations_source': PosixPath('/Users/christian/data/zooniverse/XYZ/2023-10-15/iguanas-from-above-classifications.csv'),\n 'goldstandard_data': PosixPath('/Users/christian/data/zooniverse/Images/Zooniverse_Goldstandard_images/expert-GS-1stphase.csv'),\n 'gold_standard_image_subset': PosixPath('/Users/christian/data/zooniverse/Images/Zooniverse_Goldstandard_images/1-T2-GS-results-5th-0s.csv'),\n 'image_source': PosixPath('/Users/christian/data/zooniverse/Images/Zooniverse_Goldstandard_images/1st launch'),\n 'yes_no_dataset': PosixPath('/Users/christian/data/zooniverse/2024_04_24_analysis/Iguanas 1st launch/yes_no_dataset_Iguanas 1st launch.csv'),\n 'flat_dataset': PosixPath('/Users/christian/data/zooniverse/2024_04_24_analysis/Iguanas 1st launch/flat_dataset_Iguanas 1st launch.csv'),\n 'flat_panoptes_points': PosixPath('/Users/christian/data/zooniverse/2024_04_24_analysis/Iguanas 1st launch/flat_panoptes_points_Iguanas 1st launch.csv'),\n 'panoptes_question': PosixPath('/Users/christian/data/zooniverse/2024_04_24_analysis/Iguanas 1st launch/panoptes_question_Iguanas 1st launch.csv'),\n 'merged_dataset': PosixPath('/Users/christian/data/zooniverse/2024_04_24_analysis/Iguanas 1st launch/flat_dataset_filtered_Iguanas 1st launch.csv'),\n 'gold_standard_and_expert_count': PosixPath('/Users/christian/data/zooniverse/2024_04_24_analysis/Iguanas 1st launch/Iguanas 1st launch_gold_standard_and_expert_count.csv'),\n 'comparison_dataset': PosixPath('/Users/christian/data/zooniverse/2024_04_24_analysis/Iguanas 1st launch/Iguanas 1st launch_method_comparison.csv'),\n 'comparison_dataset_expert': PosixPath('/Users/christian/data/zooniverse/2024_04_24_analysis/Iguanas 1st launch/Iguanas 1st launch_method_comparison_expert.csv'),\n 'comparison_dataset_yes_no': PosixPath('/Users/christian/data/zooniverse/2024_04_24_analysis/Iguanas 1st launch/Iguanas 1st launch_method_comparison_yes_no.csv'),\n 'method_sums': PosixPath('/Users/christian/data/zooniverse/2024_04_24_analysis/Iguanas 1st launch/Iguanas 1st launch_method_sums.csv'),\n 'rmse_errors': PosixPath('/Users/christian/data/zooniverse/2024_04_24_analysis/Iguanas 1st launch/Iguanas 1st launch_rmse_errors.csv'),\n 'dbscan_hyperparam_grid': PosixPath('/Users/christian/data/zooniverse/2024_04_24_analysis/Iguanas 1st launch/Iguanas 1st launch_hyperparam_grid.csv')}"
     },
     "execution_count": 3,
     "metadata": {},
     "output_type": "execute_result"
    }
   ],
   "source": [
    "from zooniverse.config import get_config\n",
    "\n",
    "config = get_config(phase_tag=phase_tag, input_path=input_path, output_path=output_path)\n",
    "config"
   ]
  },
  {
   "cell_type": "code",
   "execution_count": 4,
   "id": "3232b78ec1bf6f82",
   "metadata": {
    "collapsed": false,
    "ExecuteTime": {
     "end_time": "2024-08-05T13:36:57.628280Z",
     "start_time": "2024-08-05T13:36:57.608533Z"
    }
   },
   "outputs": [
    {
     "data": {
      "text/plain": "PosixPath('/Users/christian/data/zooniverse/2024_04_24_analysis/Iguanas 1st launch/flat_panoptes_points_Iguanas 1st launch.csv')"
     },
     "execution_count": 4,
     "metadata": {},
     "output_type": "execute_result"
    }
   ],
   "source": [
    "config[\"flat_panoptes_points\"]"
   ]
  },
  {
   "cell_type": "markdown",
   "id": "bf09c7260aa5e8ed",
   "metadata": {
    "collapsed": false
   },
   "source": [
    "## Look at the data\n"
   ]
  },
  {
   "cell_type": "code",
   "execution_count": 5,
   "id": "f735b4856eed80bd",
   "metadata": {
    "collapsed": false,
    "ExecuteTime": {
     "end_time": "2024-08-05T13:36:59.003049Z",
     "start_time": "2024-08-05T13:36:58.942712Z"
    }
   },
   "outputs": [
    {
     "data": {
      "text/plain": "       classification_id                         user_name  \\\n0              283007416  77dd9c009b5200eea39788f7f15862f0   \n1              271011060  fcbbe951169dc1df0b1f803a199f0995   \n2              286621582  59e4feed8a3a84fb6bfdc5f29a1713b4   \n3              286621582  59e4feed8a3a84fb6bfdc5f29a1713b4   \n4              286621582  59e4feed8a3a84fb6bfdc5f29a1713b4   \n...                  ...                               ...   \n34540          269965841  46c1b35e9e7a99fe391c096e87a43677   \n34541          278911094  ec6e6d9157dc272dae21504deaa63687   \n34542          280834231  28e1c957b094499b9178b64aadab669e   \n34543          283374116  b35f4fa3408911f68c9c80ba68b8611f   \n34544          281038044  f81b032a8ed514458a88f8c508dff561   \n\n                                user_id  workflow_id  workflow_version task  \\\n0      003abe9e6bb90e03c50377a33f1137a5        14370           134.236   T2   \n1      004eb4442ae5c85fcb6b5c78ed902f41        14370           134.236   T2   \n2      006c16c227f4152ffff80d195fca443b        14370           134.236   T2   \n3      006c16c227f4152ffff80d195fca443b        14370           134.236   T2   \n4      006c16c227f4152ffff80d195fca443b        14370           134.236   T2   \n...                                 ...          ...               ...  ...   \n34540                               NaN        14370           134.236   T2   \n34541                               NaN        14370           134.236   T2   \n34542                               NaN        14370           134.236   T2   \n34543                               NaN        14370           134.236   T2   \n34544                               NaN        14370           134.236   T2   \n\n                    created_at  subject_id           image_name     x     y  \\\n0      2020-10-26 09:28:46 UTC    47974351  SMF02-1-2-2_570.jpg   186   310   \n1      2020-08-30 16:22:33 UTC    47978494    SFP01_06-2_59.jpg   272   265   \n2      2020-11-12 11:08:10 UTC    47980877      SRL04-1_348.jpg   358   194   \n3      2020-11-12 11:08:10 UTC    47980877      SRL04-1_348.jpg   485   106   \n4      2020-11-12 11:08:10 UTC    47980877      SRL04-1_348.jpg   458   205   \n...                        ...         ...                  ...   ...   ...   \n34540  2020-08-24 15:39:55 UTC    48034453      SRBS03-4_40.jpg   484   550   \n34541  2020-10-08 15:07:18 UTC    48034455      SRBS03-4_43.jpg   742   531   \n34542  2020-10-16 07:02:12 UTC    48034455      SRBS03-4_43.jpg  1412  1483   \n34543  2020-10-27 21:11:40 UTC    48034465      SRBS03-4_61.jpg  1458  1283   \n34544  2020-10-17 00:47:51 UTC    48034467      SRBS03-4_63.jpg   895  1032   \n\n                    phase  \n0      Iguanas 1st launch  \n1      Iguanas 1st launch  \n2      Iguanas 1st launch  \n3      Iguanas 1st launch  \n4      Iguanas 1st launch  \n...                   ...  \n34540  Iguanas 1st launch  \n34541  Iguanas 1st launch  \n34542  Iguanas 1st launch  \n34543  Iguanas 1st launch  \n34544  Iguanas 1st launch  \n\n[34545 rows x 12 columns]",
      "text/html": "<div>\n<style scoped>\n    .dataframe tbody tr th:only-of-type {\n        vertical-align: middle;\n    }\n\n    .dataframe tbody tr th {\n        vertical-align: top;\n    }\n\n    .dataframe thead th {\n        text-align: right;\n    }\n</style>\n<table border=\"1\" class=\"dataframe\">\n  <thead>\n    <tr style=\"text-align: right;\">\n      <th></th>\n      <th>classification_id</th>\n      <th>user_name</th>\n      <th>user_id</th>\n      <th>workflow_id</th>\n      <th>workflow_version</th>\n      <th>task</th>\n      <th>created_at</th>\n      <th>subject_id</th>\n      <th>image_name</th>\n      <th>x</th>\n      <th>y</th>\n      <th>phase</th>\n    </tr>\n  </thead>\n  <tbody>\n    <tr>\n      <th>0</th>\n      <td>283007416</td>\n      <td>77dd9c009b5200eea39788f7f15862f0</td>\n      <td>003abe9e6bb90e03c50377a33f1137a5</td>\n      <td>14370</td>\n      <td>134.236</td>\n      <td>T2</td>\n      <td>2020-10-26 09:28:46 UTC</td>\n      <td>47974351</td>\n      <td>SMF02-1-2-2_570.jpg</td>\n      <td>186</td>\n      <td>310</td>\n      <td>Iguanas 1st launch</td>\n    </tr>\n    <tr>\n      <th>1</th>\n      <td>271011060</td>\n      <td>fcbbe951169dc1df0b1f803a199f0995</td>\n      <td>004eb4442ae5c85fcb6b5c78ed902f41</td>\n      <td>14370</td>\n      <td>134.236</td>\n      <td>T2</td>\n      <td>2020-08-30 16:22:33 UTC</td>\n      <td>47978494</td>\n      <td>SFP01_06-2_59.jpg</td>\n      <td>272</td>\n      <td>265</td>\n      <td>Iguanas 1st launch</td>\n    </tr>\n    <tr>\n      <th>2</th>\n      <td>286621582</td>\n      <td>59e4feed8a3a84fb6bfdc5f29a1713b4</td>\n      <td>006c16c227f4152ffff80d195fca443b</td>\n      <td>14370</td>\n      <td>134.236</td>\n      <td>T2</td>\n      <td>2020-11-12 11:08:10 UTC</td>\n      <td>47980877</td>\n      <td>SRL04-1_348.jpg</td>\n      <td>358</td>\n      <td>194</td>\n      <td>Iguanas 1st launch</td>\n    </tr>\n    <tr>\n      <th>3</th>\n      <td>286621582</td>\n      <td>59e4feed8a3a84fb6bfdc5f29a1713b4</td>\n      <td>006c16c227f4152ffff80d195fca443b</td>\n      <td>14370</td>\n      <td>134.236</td>\n      <td>T2</td>\n      <td>2020-11-12 11:08:10 UTC</td>\n      <td>47980877</td>\n      <td>SRL04-1_348.jpg</td>\n      <td>485</td>\n      <td>106</td>\n      <td>Iguanas 1st launch</td>\n    </tr>\n    <tr>\n      <th>4</th>\n      <td>286621582</td>\n      <td>59e4feed8a3a84fb6bfdc5f29a1713b4</td>\n      <td>006c16c227f4152ffff80d195fca443b</td>\n      <td>14370</td>\n      <td>134.236</td>\n      <td>T2</td>\n      <td>2020-11-12 11:08:10 UTC</td>\n      <td>47980877</td>\n      <td>SRL04-1_348.jpg</td>\n      <td>458</td>\n      <td>205</td>\n      <td>Iguanas 1st launch</td>\n    </tr>\n    <tr>\n      <th>...</th>\n      <td>...</td>\n      <td>...</td>\n      <td>...</td>\n      <td>...</td>\n      <td>...</td>\n      <td>...</td>\n      <td>...</td>\n      <td>...</td>\n      <td>...</td>\n      <td>...</td>\n      <td>...</td>\n      <td>...</td>\n    </tr>\n    <tr>\n      <th>34540</th>\n      <td>269965841</td>\n      <td>46c1b35e9e7a99fe391c096e87a43677</td>\n      <td>NaN</td>\n      <td>14370</td>\n      <td>134.236</td>\n      <td>T2</td>\n      <td>2020-08-24 15:39:55 UTC</td>\n      <td>48034453</td>\n      <td>SRBS03-4_40.jpg</td>\n      <td>484</td>\n      <td>550</td>\n      <td>Iguanas 1st launch</td>\n    </tr>\n    <tr>\n      <th>34541</th>\n      <td>278911094</td>\n      <td>ec6e6d9157dc272dae21504deaa63687</td>\n      <td>NaN</td>\n      <td>14370</td>\n      <td>134.236</td>\n      <td>T2</td>\n      <td>2020-10-08 15:07:18 UTC</td>\n      <td>48034455</td>\n      <td>SRBS03-4_43.jpg</td>\n      <td>742</td>\n      <td>531</td>\n      <td>Iguanas 1st launch</td>\n    </tr>\n    <tr>\n      <th>34542</th>\n      <td>280834231</td>\n      <td>28e1c957b094499b9178b64aadab669e</td>\n      <td>NaN</td>\n      <td>14370</td>\n      <td>134.236</td>\n      <td>T2</td>\n      <td>2020-10-16 07:02:12 UTC</td>\n      <td>48034455</td>\n      <td>SRBS03-4_43.jpg</td>\n      <td>1412</td>\n      <td>1483</td>\n      <td>Iguanas 1st launch</td>\n    </tr>\n    <tr>\n      <th>34543</th>\n      <td>283374116</td>\n      <td>b35f4fa3408911f68c9c80ba68b8611f</td>\n      <td>NaN</td>\n      <td>14370</td>\n      <td>134.236</td>\n      <td>T2</td>\n      <td>2020-10-27 21:11:40 UTC</td>\n      <td>48034465</td>\n      <td>SRBS03-4_61.jpg</td>\n      <td>1458</td>\n      <td>1283</td>\n      <td>Iguanas 1st launch</td>\n    </tr>\n    <tr>\n      <th>34544</th>\n      <td>281038044</td>\n      <td>f81b032a8ed514458a88f8c508dff561</td>\n      <td>NaN</td>\n      <td>14370</td>\n      <td>134.236</td>\n      <td>T2</td>\n      <td>2020-10-17 00:47:51 UTC</td>\n      <td>48034467</td>\n      <td>SRBS03-4_63.jpg</td>\n      <td>895</td>\n      <td>1032</td>\n      <td>Iguanas 1st launch</td>\n    </tr>\n  </tbody>\n</table>\n<p>34545 rows × 12 columns</p>\n</div>"
     },
     "execution_count": 5,
     "metadata": {},
     "output_type": "execute_result"
    }
   ],
   "source": [
    "\n",
    "df_flat_panoptes_points = pd.read_csv(config[\"flat_panoptes_points\"])\n",
    "df_flat_panoptes_points[\"phase\"] = phase_tag\n",
    "\n",
    "df_flat_panoptes_points"
   ]
  },
  {
   "cell_type": "markdown",
   "id": "da7bed90d6d10d89",
   "metadata": {
    "collapsed": false
   },
   "source": [
    "### Filter User if necessary and Marks\n"
   ]
  },
  {
   "cell_type": "code",
   "execution_count": 6,
   "id": "2c05849dbba8f66f",
   "metadata": {
    "collapsed": false,
    "ExecuteTime": {
     "end_time": "2024-08-05T13:37:11.868687Z",
     "start_time": "2024-08-05T13:37:11.851368Z"
    }
   },
   "outputs": [],
   "source": [
    "# Use the panoptes Extraction instead of the custom extraction\n",
    "df_merged_dataset = df_flat_panoptes_points"
   ]
  },
  {
   "cell_type": "markdown",
   "id": "d479e39e24f570b0",
   "metadata": {
    "collapsed": false
   },
   "source": [
    "### Are there anonymous users in the data?\n",
    "There should be some because anonymous users are kept."
   ]
  },
  {
   "cell_type": "code",
   "execution_count": 7,
   "id": "9936072d8a7b7602",
   "metadata": {
    "collapsed": false,
    "ExecuteTime": {
     "end_time": "2024-08-05T13:37:15.826170Z",
     "start_time": "2024-08-05T13:37:15.803231Z"
    }
   },
   "outputs": [
    {
     "data": {
      "text/plain": "       classification_id                         user_name user_id  \\\n24972          269308827  52a54f2ec669d49acba3e42c3cb548cf     NaN   \n24973          278487569  b827814c24463951126d00d3fff41d71     NaN   \n24974          286283988  d3766176f1c7d46b672d58260c4d4621     NaN   \n24975          280978577  43a478aa875a958fc1eee55eb89139f2     NaN   \n24976          280978577  43a478aa875a958fc1eee55eb89139f2     NaN   \n...                  ...                               ...     ...   \n34540          269965841  46c1b35e9e7a99fe391c096e87a43677     NaN   \n34541          278911094  ec6e6d9157dc272dae21504deaa63687     NaN   \n34542          280834231  28e1c957b094499b9178b64aadab669e     NaN   \n34543          283374116  b35f4fa3408911f68c9c80ba68b8611f     NaN   \n34544          281038044  f81b032a8ed514458a88f8c508dff561     NaN   \n\n       workflow_id  workflow_version task               created_at  \\\n24972        14370           134.236   T2  2020-08-21 03:24:16 UTC   \n24973        14370           134.236   T2  2020-10-06 20:04:13 UTC   \n24974        14370           134.236   T2  2020-11-10 19:54:38 UTC   \n24975        14370           134.236   T2  2020-10-16 19:56:04 UTC   \n24976        14370           134.236   T2  2020-10-16 19:56:04 UTC   \n...            ...               ...  ...                      ...   \n34540        14370           134.236   T2  2020-08-24 15:39:55 UTC   \n34541        14370           134.236   T2  2020-10-08 15:07:18 UTC   \n34542        14370           134.236   T2  2020-10-16 07:02:12 UTC   \n34543        14370           134.236   T2  2020-10-27 21:11:40 UTC   \n34544        14370           134.236   T2  2020-10-17 00:47:51 UTC   \n\n       subject_id         image_name     x     y               phase  \n24972    47967503  SFB01-4-1_129.jpg   305   641  Iguanas 1st launch  \n24973    47967515  SFB01-4-1_142.jpg    44   104  Iguanas 1st launch  \n24974    47967515  SFB01-4-1_142.jpg   474   242  Iguanas 1st launch  \n24975    47967518  SFB01-4-1_145.jpg   838    47  Iguanas 1st launch  \n24976    47967518  SFB01-4-1_145.jpg   727    65  Iguanas 1st launch  \n...           ...                ...   ...   ...                 ...  \n34540    48034453    SRBS03-4_40.jpg   484   550  Iguanas 1st launch  \n34541    48034455    SRBS03-4_43.jpg   742   531  Iguanas 1st launch  \n34542    48034455    SRBS03-4_43.jpg  1412  1483  Iguanas 1st launch  \n34543    48034465    SRBS03-4_61.jpg  1458  1283  Iguanas 1st launch  \n34544    48034467    SRBS03-4_63.jpg   895  1032  Iguanas 1st launch  \n\n[9573 rows x 12 columns]",
      "text/html": "<div>\n<style scoped>\n    .dataframe tbody tr th:only-of-type {\n        vertical-align: middle;\n    }\n\n    .dataframe tbody tr th {\n        vertical-align: top;\n    }\n\n    .dataframe thead th {\n        text-align: right;\n    }\n</style>\n<table border=\"1\" class=\"dataframe\">\n  <thead>\n    <tr style=\"text-align: right;\">\n      <th></th>\n      <th>classification_id</th>\n      <th>user_name</th>\n      <th>user_id</th>\n      <th>workflow_id</th>\n      <th>workflow_version</th>\n      <th>task</th>\n      <th>created_at</th>\n      <th>subject_id</th>\n      <th>image_name</th>\n      <th>x</th>\n      <th>y</th>\n      <th>phase</th>\n    </tr>\n  </thead>\n  <tbody>\n    <tr>\n      <th>24972</th>\n      <td>269308827</td>\n      <td>52a54f2ec669d49acba3e42c3cb548cf</td>\n      <td>NaN</td>\n      <td>14370</td>\n      <td>134.236</td>\n      <td>T2</td>\n      <td>2020-08-21 03:24:16 UTC</td>\n      <td>47967503</td>\n      <td>SFB01-4-1_129.jpg</td>\n      <td>305</td>\n      <td>641</td>\n      <td>Iguanas 1st launch</td>\n    </tr>\n    <tr>\n      <th>24973</th>\n      <td>278487569</td>\n      <td>b827814c24463951126d00d3fff41d71</td>\n      <td>NaN</td>\n      <td>14370</td>\n      <td>134.236</td>\n      <td>T2</td>\n      <td>2020-10-06 20:04:13 UTC</td>\n      <td>47967515</td>\n      <td>SFB01-4-1_142.jpg</td>\n      <td>44</td>\n      <td>104</td>\n      <td>Iguanas 1st launch</td>\n    </tr>\n    <tr>\n      <th>24974</th>\n      <td>286283988</td>\n      <td>d3766176f1c7d46b672d58260c4d4621</td>\n      <td>NaN</td>\n      <td>14370</td>\n      <td>134.236</td>\n      <td>T2</td>\n      <td>2020-11-10 19:54:38 UTC</td>\n      <td>47967515</td>\n      <td>SFB01-4-1_142.jpg</td>\n      <td>474</td>\n      <td>242</td>\n      <td>Iguanas 1st launch</td>\n    </tr>\n    <tr>\n      <th>24975</th>\n      <td>280978577</td>\n      <td>43a478aa875a958fc1eee55eb89139f2</td>\n      <td>NaN</td>\n      <td>14370</td>\n      <td>134.236</td>\n      <td>T2</td>\n      <td>2020-10-16 19:56:04 UTC</td>\n      <td>47967518</td>\n      <td>SFB01-4-1_145.jpg</td>\n      <td>838</td>\n      <td>47</td>\n      <td>Iguanas 1st launch</td>\n    </tr>\n    <tr>\n      <th>24976</th>\n      <td>280978577</td>\n      <td>43a478aa875a958fc1eee55eb89139f2</td>\n      <td>NaN</td>\n      <td>14370</td>\n      <td>134.236</td>\n      <td>T2</td>\n      <td>2020-10-16 19:56:04 UTC</td>\n      <td>47967518</td>\n      <td>SFB01-4-1_145.jpg</td>\n      <td>727</td>\n      <td>65</td>\n      <td>Iguanas 1st launch</td>\n    </tr>\n    <tr>\n      <th>...</th>\n      <td>...</td>\n      <td>...</td>\n      <td>...</td>\n      <td>...</td>\n      <td>...</td>\n      <td>...</td>\n      <td>...</td>\n      <td>...</td>\n      <td>...</td>\n      <td>...</td>\n      <td>...</td>\n      <td>...</td>\n    </tr>\n    <tr>\n      <th>34540</th>\n      <td>269965841</td>\n      <td>46c1b35e9e7a99fe391c096e87a43677</td>\n      <td>NaN</td>\n      <td>14370</td>\n      <td>134.236</td>\n      <td>T2</td>\n      <td>2020-08-24 15:39:55 UTC</td>\n      <td>48034453</td>\n      <td>SRBS03-4_40.jpg</td>\n      <td>484</td>\n      <td>550</td>\n      <td>Iguanas 1st launch</td>\n    </tr>\n    <tr>\n      <th>34541</th>\n      <td>278911094</td>\n      <td>ec6e6d9157dc272dae21504deaa63687</td>\n      <td>NaN</td>\n      <td>14370</td>\n      <td>134.236</td>\n      <td>T2</td>\n      <td>2020-10-08 15:07:18 UTC</td>\n      <td>48034455</td>\n      <td>SRBS03-4_43.jpg</td>\n      <td>742</td>\n      <td>531</td>\n      <td>Iguanas 1st launch</td>\n    </tr>\n    <tr>\n      <th>34542</th>\n      <td>280834231</td>\n      <td>28e1c957b094499b9178b64aadab669e</td>\n      <td>NaN</td>\n      <td>14370</td>\n      <td>134.236</td>\n      <td>T2</td>\n      <td>2020-10-16 07:02:12 UTC</td>\n      <td>48034455</td>\n      <td>SRBS03-4_43.jpg</td>\n      <td>1412</td>\n      <td>1483</td>\n      <td>Iguanas 1st launch</td>\n    </tr>\n    <tr>\n      <th>34543</th>\n      <td>283374116</td>\n      <td>b35f4fa3408911f68c9c80ba68b8611f</td>\n      <td>NaN</td>\n      <td>14370</td>\n      <td>134.236</td>\n      <td>T2</td>\n      <td>2020-10-27 21:11:40 UTC</td>\n      <td>48034465</td>\n      <td>SRBS03-4_61.jpg</td>\n      <td>1458</td>\n      <td>1283</td>\n      <td>Iguanas 1st launch</td>\n    </tr>\n    <tr>\n      <th>34544</th>\n      <td>281038044</td>\n      <td>f81b032a8ed514458a88f8c508dff561</td>\n      <td>NaN</td>\n      <td>14370</td>\n      <td>134.236</td>\n      <td>T2</td>\n      <td>2020-10-17 00:47:51 UTC</td>\n      <td>48034467</td>\n      <td>SRBS03-4_63.jpg</td>\n      <td>895</td>\n      <td>1032</td>\n      <td>Iguanas 1st launch</td>\n    </tr>\n  </tbody>\n</table>\n<p>9573 rows × 12 columns</p>\n</div>"
     },
     "execution_count": 7,
     "metadata": {},
     "output_type": "execute_result"
    }
   ],
   "source": [
    "df_merged_dataset[df_merged_dataset.user_id.isnull().values]"
   ]
  },
  {
   "cell_type": "code",
   "execution_count": 8,
   "id": "9258d161c25ae7d3",
   "metadata": {
    "collapsed": false,
    "ExecuteTime": {
     "end_time": "2024-08-05T13:37:17.772852Z",
     "start_time": "2024-08-05T13:37:17.751526Z"
    }
   },
   "outputs": [
    {
     "data": {
      "text/plain": "7854"
     },
     "execution_count": 8,
     "metadata": {},
     "output_type": "execute_result"
    }
   ],
   "source": [
    "# Amount of images\n",
    "df_merged_dataset[\"subject_id\"].nunique()"
   ]
  },
  {
   "cell_type": "code",
   "execution_count": 9,
   "id": "6caad5d554d586db",
   "metadata": {
    "collapsed": false,
    "ExecuteTime": {
     "end_time": "2024-08-05T13:37:18.540614Z",
     "start_time": "2024-08-05T13:37:18.511712Z"
    }
   },
   "outputs": [
    {
     "data": {
      "text/plain": "       classification_id                         user_name  \\\n0              283007416  77dd9c009b5200eea39788f7f15862f0   \n1              271011060  fcbbe951169dc1df0b1f803a199f0995   \n2              286621582  59e4feed8a3a84fb6bfdc5f29a1713b4   \n3              286621582  59e4feed8a3a84fb6bfdc5f29a1713b4   \n4              286621582  59e4feed8a3a84fb6bfdc5f29a1713b4   \n...                  ...                               ...   \n34540          269965841  46c1b35e9e7a99fe391c096e87a43677   \n34541          278911094  ec6e6d9157dc272dae21504deaa63687   \n34542          280834231  28e1c957b094499b9178b64aadab669e   \n34543          283374116  b35f4fa3408911f68c9c80ba68b8611f   \n34544          281038044  f81b032a8ed514458a88f8c508dff561   \n\n                                user_id  workflow_id  workflow_version task  \\\n0      003abe9e6bb90e03c50377a33f1137a5        14370           134.236   T2   \n1      004eb4442ae5c85fcb6b5c78ed902f41        14370           134.236   T2   \n2      006c16c227f4152ffff80d195fca443b        14370           134.236   T2   \n3      006c16c227f4152ffff80d195fca443b        14370           134.236   T2   \n4      006c16c227f4152ffff80d195fca443b        14370           134.236   T2   \n...                                 ...          ...               ...  ...   \n34540                               NaN        14370           134.236   T2   \n34541                               NaN        14370           134.236   T2   \n34542                               NaN        14370           134.236   T2   \n34543                               NaN        14370           134.236   T2   \n34544                               NaN        14370           134.236   T2   \n\n                    created_at  subject_id           image_name     x     y  \\\n0      2020-10-26 09:28:46 UTC    47974351  SMF02-1-2-2_570.jpg   186   310   \n1      2020-08-30 16:22:33 UTC    47978494    SFP01_06-2_59.jpg   272   265   \n2      2020-11-12 11:08:10 UTC    47980877      SRL04-1_348.jpg   358   194   \n3      2020-11-12 11:08:10 UTC    47980877      SRL04-1_348.jpg   485   106   \n4      2020-11-12 11:08:10 UTC    47980877      SRL04-1_348.jpg   458   205   \n...                        ...         ...                  ...   ...   ...   \n34540  2020-08-24 15:39:55 UTC    48034453      SRBS03-4_40.jpg   484   550   \n34541  2020-10-08 15:07:18 UTC    48034455      SRBS03-4_43.jpg   742   531   \n34542  2020-10-16 07:02:12 UTC    48034455      SRBS03-4_43.jpg  1412  1483   \n34543  2020-10-27 21:11:40 UTC    48034465      SRBS03-4_61.jpg  1458  1283   \n34544  2020-10-17 00:47:51 UTC    48034467      SRBS03-4_63.jpg   895  1032   \n\n                    phase  \n0      Iguanas 1st launch  \n1      Iguanas 1st launch  \n2      Iguanas 1st launch  \n3      Iguanas 1st launch  \n4      Iguanas 1st launch  \n...                   ...  \n34540  Iguanas 1st launch  \n34541  Iguanas 1st launch  \n34542  Iguanas 1st launch  \n34543  Iguanas 1st launch  \n34544  Iguanas 1st launch  \n\n[34545 rows x 12 columns]",
      "text/html": "<div>\n<style scoped>\n    .dataframe tbody tr th:only-of-type {\n        vertical-align: middle;\n    }\n\n    .dataframe tbody tr th {\n        vertical-align: top;\n    }\n\n    .dataframe thead th {\n        text-align: right;\n    }\n</style>\n<table border=\"1\" class=\"dataframe\">\n  <thead>\n    <tr style=\"text-align: right;\">\n      <th></th>\n      <th>classification_id</th>\n      <th>user_name</th>\n      <th>user_id</th>\n      <th>workflow_id</th>\n      <th>workflow_version</th>\n      <th>task</th>\n      <th>created_at</th>\n      <th>subject_id</th>\n      <th>image_name</th>\n      <th>x</th>\n      <th>y</th>\n      <th>phase</th>\n    </tr>\n  </thead>\n  <tbody>\n    <tr>\n      <th>0</th>\n      <td>283007416</td>\n      <td>77dd9c009b5200eea39788f7f15862f0</td>\n      <td>003abe9e6bb90e03c50377a33f1137a5</td>\n      <td>14370</td>\n      <td>134.236</td>\n      <td>T2</td>\n      <td>2020-10-26 09:28:46 UTC</td>\n      <td>47974351</td>\n      <td>SMF02-1-2-2_570.jpg</td>\n      <td>186</td>\n      <td>310</td>\n      <td>Iguanas 1st launch</td>\n    </tr>\n    <tr>\n      <th>1</th>\n      <td>271011060</td>\n      <td>fcbbe951169dc1df0b1f803a199f0995</td>\n      <td>004eb4442ae5c85fcb6b5c78ed902f41</td>\n      <td>14370</td>\n      <td>134.236</td>\n      <td>T2</td>\n      <td>2020-08-30 16:22:33 UTC</td>\n      <td>47978494</td>\n      <td>SFP01_06-2_59.jpg</td>\n      <td>272</td>\n      <td>265</td>\n      <td>Iguanas 1st launch</td>\n    </tr>\n    <tr>\n      <th>2</th>\n      <td>286621582</td>\n      <td>59e4feed8a3a84fb6bfdc5f29a1713b4</td>\n      <td>006c16c227f4152ffff80d195fca443b</td>\n      <td>14370</td>\n      <td>134.236</td>\n      <td>T2</td>\n      <td>2020-11-12 11:08:10 UTC</td>\n      <td>47980877</td>\n      <td>SRL04-1_348.jpg</td>\n      <td>358</td>\n      <td>194</td>\n      <td>Iguanas 1st launch</td>\n    </tr>\n    <tr>\n      <th>3</th>\n      <td>286621582</td>\n      <td>59e4feed8a3a84fb6bfdc5f29a1713b4</td>\n      <td>006c16c227f4152ffff80d195fca443b</td>\n      <td>14370</td>\n      <td>134.236</td>\n      <td>T2</td>\n      <td>2020-11-12 11:08:10 UTC</td>\n      <td>47980877</td>\n      <td>SRL04-1_348.jpg</td>\n      <td>485</td>\n      <td>106</td>\n      <td>Iguanas 1st launch</td>\n    </tr>\n    <tr>\n      <th>4</th>\n      <td>286621582</td>\n      <td>59e4feed8a3a84fb6bfdc5f29a1713b4</td>\n      <td>006c16c227f4152ffff80d195fca443b</td>\n      <td>14370</td>\n      <td>134.236</td>\n      <td>T2</td>\n      <td>2020-11-12 11:08:10 UTC</td>\n      <td>47980877</td>\n      <td>SRL04-1_348.jpg</td>\n      <td>458</td>\n      <td>205</td>\n      <td>Iguanas 1st launch</td>\n    </tr>\n    <tr>\n      <th>...</th>\n      <td>...</td>\n      <td>...</td>\n      <td>...</td>\n      <td>...</td>\n      <td>...</td>\n      <td>...</td>\n      <td>...</td>\n      <td>...</td>\n      <td>...</td>\n      <td>...</td>\n      <td>...</td>\n      <td>...</td>\n    </tr>\n    <tr>\n      <th>34540</th>\n      <td>269965841</td>\n      <td>46c1b35e9e7a99fe391c096e87a43677</td>\n      <td>NaN</td>\n      <td>14370</td>\n      <td>134.236</td>\n      <td>T2</td>\n      <td>2020-08-24 15:39:55 UTC</td>\n      <td>48034453</td>\n      <td>SRBS03-4_40.jpg</td>\n      <td>484</td>\n      <td>550</td>\n      <td>Iguanas 1st launch</td>\n    </tr>\n    <tr>\n      <th>34541</th>\n      <td>278911094</td>\n      <td>ec6e6d9157dc272dae21504deaa63687</td>\n      <td>NaN</td>\n      <td>14370</td>\n      <td>134.236</td>\n      <td>T2</td>\n      <td>2020-10-08 15:07:18 UTC</td>\n      <td>48034455</td>\n      <td>SRBS03-4_43.jpg</td>\n      <td>742</td>\n      <td>531</td>\n      <td>Iguanas 1st launch</td>\n    </tr>\n    <tr>\n      <th>34542</th>\n      <td>280834231</td>\n      <td>28e1c957b094499b9178b64aadab669e</td>\n      <td>NaN</td>\n      <td>14370</td>\n      <td>134.236</td>\n      <td>T2</td>\n      <td>2020-10-16 07:02:12 UTC</td>\n      <td>48034455</td>\n      <td>SRBS03-4_43.jpg</td>\n      <td>1412</td>\n      <td>1483</td>\n      <td>Iguanas 1st launch</td>\n    </tr>\n    <tr>\n      <th>34543</th>\n      <td>283374116</td>\n      <td>b35f4fa3408911f68c9c80ba68b8611f</td>\n      <td>NaN</td>\n      <td>14370</td>\n      <td>134.236</td>\n      <td>T2</td>\n      <td>2020-10-27 21:11:40 UTC</td>\n      <td>48034465</td>\n      <td>SRBS03-4_61.jpg</td>\n      <td>1458</td>\n      <td>1283</td>\n      <td>Iguanas 1st launch</td>\n    </tr>\n    <tr>\n      <th>34544</th>\n      <td>281038044</td>\n      <td>f81b032a8ed514458a88f8c508dff561</td>\n      <td>NaN</td>\n      <td>14370</td>\n      <td>134.236</td>\n      <td>T2</td>\n      <td>2020-10-17 00:47:51 UTC</td>\n      <td>48034467</td>\n      <td>SRBS03-4_63.jpg</td>\n      <td>895</td>\n      <td>1032</td>\n      <td>Iguanas 1st launch</td>\n    </tr>\n  </tbody>\n</table>\n<p>34545 rows × 12 columns</p>\n</div>"
     },
     "execution_count": 9,
     "metadata": {},
     "output_type": "execute_result"
    }
   ],
   "source": [
    "## After filtering there\n",
    "df_merged_dataset"
   ]
  },
  {
   "cell_type": "code",
   "execution_count": 10,
   "id": "e1fcc8d02df55119",
   "metadata": {
    "collapsed": false,
    "ExecuteTime": {
     "end_time": "2024-08-05T13:37:52.390708Z",
     "start_time": "2024-08-05T13:37:52.360718Z"
    }
   },
   "outputs": [
    {
     "data": {
      "text/plain": "                                  user_id   x\nuser_name                                    \n0009862a245b7feba6c040fd1ef70b6b        0   3\n001a7e5e989807349d0dc5e90eaebf83        1   1\n0020d11acf216aee92a2f0d65d40e6b7        0   1\n007f9c0b88de8a0716d5438948a196a9        1   1\n00881a524994cde8bb34f5c062ff7c28       30  30\n...                                   ...  ..\nffa31db924ebf1353aaac21d4c6a3ff1        0   6\nffd06a149e3961fd44f45c2f57fac9f8       10  10\nffd25020cf2308578be84d51a5293adf        6   6\nfff9c5ebfa17f5e971f381342ed47502        9   9\nfffe83e497b5b11648c920de59a5139f        4   4\n\n[2973 rows x 2 columns]",
      "text/html": "<div>\n<style scoped>\n    .dataframe tbody tr th:only-of-type {\n        vertical-align: middle;\n    }\n\n    .dataframe tbody tr th {\n        vertical-align: top;\n    }\n\n    .dataframe thead th {\n        text-align: right;\n    }\n</style>\n<table border=\"1\" class=\"dataframe\">\n  <thead>\n    <tr style=\"text-align: right;\">\n      <th></th>\n      <th>user_id</th>\n      <th>x</th>\n    </tr>\n    <tr>\n      <th>user_name</th>\n      <th></th>\n      <th></th>\n    </tr>\n  </thead>\n  <tbody>\n    <tr>\n      <th>0009862a245b7feba6c040fd1ef70b6b</th>\n      <td>0</td>\n      <td>3</td>\n    </tr>\n    <tr>\n      <th>001a7e5e989807349d0dc5e90eaebf83</th>\n      <td>1</td>\n      <td>1</td>\n    </tr>\n    <tr>\n      <th>0020d11acf216aee92a2f0d65d40e6b7</th>\n      <td>0</td>\n      <td>1</td>\n    </tr>\n    <tr>\n      <th>007f9c0b88de8a0716d5438948a196a9</th>\n      <td>1</td>\n      <td>1</td>\n    </tr>\n    <tr>\n      <th>00881a524994cde8bb34f5c062ff7c28</th>\n      <td>30</td>\n      <td>30</td>\n    </tr>\n    <tr>\n      <th>...</th>\n      <td>...</td>\n      <td>...</td>\n    </tr>\n    <tr>\n      <th>ffa31db924ebf1353aaac21d4c6a3ff1</th>\n      <td>0</td>\n      <td>6</td>\n    </tr>\n    <tr>\n      <th>ffd06a149e3961fd44f45c2f57fac9f8</th>\n      <td>10</td>\n      <td>10</td>\n    </tr>\n    <tr>\n      <th>ffd25020cf2308578be84d51a5293adf</th>\n      <td>6</td>\n      <td>6</td>\n    </tr>\n    <tr>\n      <th>fff9c5ebfa17f5e971f381342ed47502</th>\n      <td>9</td>\n      <td>9</td>\n    </tr>\n    <tr>\n      <th>fffe83e497b5b11648c920de59a5139f</th>\n      <td>4</td>\n      <td>4</td>\n    </tr>\n  </tbody>\n</table>\n<p>2973 rows × 2 columns</p>\n</div>"
     },
     "execution_count": 10,
     "metadata": {},
     "output_type": "execute_result"
    }
   ],
   "source": [
    "# how many marks per user\n",
    "df_merged_dataset[[\"user_id\", \"user_name\", \"x\"]].groupby(\"user_name\").count()"
   ]
  },
  {
   "cell_type": "markdown",
   "id": "42c2737f2c06741d",
   "metadata": {
    "collapsed": false
   },
   "source": [
    "## Clustering"
   ]
  },
  {
   "cell_type": "markdown",
   "id": "beefdd1511daad4",
   "metadata": {
    "collapsed": false
   },
   "source": [
    "### Basic Statics like mean, median, mode"
   ]
  },
  {
   "cell_type": "code",
   "execution_count": 11,
   "id": "998d62019f01a2ec",
   "metadata": {
    "collapsed": false,
    "ExecuteTime": {
     "end_time": "2024-08-05T13:39:54.035136Z",
     "start_time": "2024-08-05T13:39:52.090019Z"
    }
   },
   "outputs": [],
   "source": [
    "from zooniverse.analysis import get_mark_overview\n",
    "\n",
    "basic_stats = []\n",
    "\n",
    "for image_name, df_image_name in df_merged_dataset.groupby(\"subject_id\"):\n",
    "    annotations_count = get_mark_overview(df_image_name)\n",
    "\n",
    "    annotations_count_stats = get_annotation_count_stats(annotations_count=annotations_count,\n",
    "                                                         image_name=df_image_name.iloc[0][\"image_name\"], \n",
    "                                                         subject_id=df_image_name.iloc[0][\"subject_id\"])\n",
    "\n",
    "    ### basic statistics like mean, median, mode\n",
    "    basic_stats.append(annotations_count_stats)\n",
    "    \n",
    "\n",
    "df_basic_stats = pd.DataFrame(basic_stats)    \n",
    "df_comparison = df_basic_stats\n"
   ]
  },
  {
   "cell_type": "code",
   "execution_count": 12,
   "id": "dd1f05f18807f3b4",
   "metadata": {
    "collapsed": false,
    "ExecuteTime": {
     "end_time": "2024-08-05T13:39:58.873779Z",
     "start_time": "2024-08-05T13:39:58.842962Z"
    }
   },
   "outputs": [
    {
     "data": {
      "text/plain": "             image_name  subject_id  median_count  mean_count  mode_min_count  \\\n0        SFB01-3_08.jpg    47967468           1.0         1.0               1   \n1     SFB01-4-1_103.jpg    47967478           1.0         1.0               1   \n2     SFB01-4-1_108.jpg    47967483           1.0         1.0               1   \n3     SFB01-4-1_115.jpg    47967489           1.0         1.0               1   \n4     SFB01-4-1_129.jpg    47967503           1.0         1.0               1   \n...                 ...         ...           ...         ...             ...   \n7849    SRBS03-4_61.jpg    48034465           1.0         1.0               1   \n7850    SRBS03-4_62.jpg    48034466           5.0         5.0               5   \n7851    SRBS03-4_63.jpg    48034467           1.0         1.0               1   \n7852    SRBS03-4_68.jpg    48034470           1.0         1.0               1   \n7853    SRBS03-4_69.jpg    48034471          10.5        10.5               1   \n\n      mode_max_count mode_count  mode_count_avg  users  sum_annotations_count  \\\n0                  1        [1]             1.0      2                      2   \n1                  1        [1]             1.0      1                      1   \n2                  1        [1]             1.0      1                      1   \n3                  1        [1]             1.0      1                      1   \n4                  1        [1]             1.0      1                      1   \n...              ...        ...             ...    ...                    ...   \n7849               1        [1]             1.0      2                      2   \n7850               5        [5]             5.0      1                      5   \n7851               1        [1]             1.0      1                      1   \n7852               1        [1]             1.0      1                      1   \n7853              20    [1, 20]            10.5      2                     21   \n\n     annotations_count  \n0               [1, 1]  \n1                  [1]  \n2                  [1]  \n3                  [1]  \n4                  [1]  \n...                ...  \n7849            [1, 1]  \n7850               [5]  \n7851               [1]  \n7852               [1]  \n7853           [1, 20]  \n\n[7854 rows x 11 columns]",
      "text/html": "<div>\n<style scoped>\n    .dataframe tbody tr th:only-of-type {\n        vertical-align: middle;\n    }\n\n    .dataframe tbody tr th {\n        vertical-align: top;\n    }\n\n    .dataframe thead th {\n        text-align: right;\n    }\n</style>\n<table border=\"1\" class=\"dataframe\">\n  <thead>\n    <tr style=\"text-align: right;\">\n      <th></th>\n      <th>image_name</th>\n      <th>subject_id</th>\n      <th>median_count</th>\n      <th>mean_count</th>\n      <th>mode_min_count</th>\n      <th>mode_max_count</th>\n      <th>mode_count</th>\n      <th>mode_count_avg</th>\n      <th>users</th>\n      <th>sum_annotations_count</th>\n      <th>annotations_count</th>\n    </tr>\n  </thead>\n  <tbody>\n    <tr>\n      <th>0</th>\n      <td>SFB01-3_08.jpg</td>\n      <td>47967468</td>\n      <td>1.0</td>\n      <td>1.0</td>\n      <td>1</td>\n      <td>1</td>\n      <td>[1]</td>\n      <td>1.0</td>\n      <td>2</td>\n      <td>2</td>\n      <td>[1, 1]</td>\n    </tr>\n    <tr>\n      <th>1</th>\n      <td>SFB01-4-1_103.jpg</td>\n      <td>47967478</td>\n      <td>1.0</td>\n      <td>1.0</td>\n      <td>1</td>\n      <td>1</td>\n      <td>[1]</td>\n      <td>1.0</td>\n      <td>1</td>\n      <td>1</td>\n      <td>[1]</td>\n    </tr>\n    <tr>\n      <th>2</th>\n      <td>SFB01-4-1_108.jpg</td>\n      <td>47967483</td>\n      <td>1.0</td>\n      <td>1.0</td>\n      <td>1</td>\n      <td>1</td>\n      <td>[1]</td>\n      <td>1.0</td>\n      <td>1</td>\n      <td>1</td>\n      <td>[1]</td>\n    </tr>\n    <tr>\n      <th>3</th>\n      <td>SFB01-4-1_115.jpg</td>\n      <td>47967489</td>\n      <td>1.0</td>\n      <td>1.0</td>\n      <td>1</td>\n      <td>1</td>\n      <td>[1]</td>\n      <td>1.0</td>\n      <td>1</td>\n      <td>1</td>\n      <td>[1]</td>\n    </tr>\n    <tr>\n      <th>4</th>\n      <td>SFB01-4-1_129.jpg</td>\n      <td>47967503</td>\n      <td>1.0</td>\n      <td>1.0</td>\n      <td>1</td>\n      <td>1</td>\n      <td>[1]</td>\n      <td>1.0</td>\n      <td>1</td>\n      <td>1</td>\n      <td>[1]</td>\n    </tr>\n    <tr>\n      <th>...</th>\n      <td>...</td>\n      <td>...</td>\n      <td>...</td>\n      <td>...</td>\n      <td>...</td>\n      <td>...</td>\n      <td>...</td>\n      <td>...</td>\n      <td>...</td>\n      <td>...</td>\n      <td>...</td>\n    </tr>\n    <tr>\n      <th>7849</th>\n      <td>SRBS03-4_61.jpg</td>\n      <td>48034465</td>\n      <td>1.0</td>\n      <td>1.0</td>\n      <td>1</td>\n      <td>1</td>\n      <td>[1]</td>\n      <td>1.0</td>\n      <td>2</td>\n      <td>2</td>\n      <td>[1, 1]</td>\n    </tr>\n    <tr>\n      <th>7850</th>\n      <td>SRBS03-4_62.jpg</td>\n      <td>48034466</td>\n      <td>5.0</td>\n      <td>5.0</td>\n      <td>5</td>\n      <td>5</td>\n      <td>[5]</td>\n      <td>5.0</td>\n      <td>1</td>\n      <td>5</td>\n      <td>[5]</td>\n    </tr>\n    <tr>\n      <th>7851</th>\n      <td>SRBS03-4_63.jpg</td>\n      <td>48034467</td>\n      <td>1.0</td>\n      <td>1.0</td>\n      <td>1</td>\n      <td>1</td>\n      <td>[1]</td>\n      <td>1.0</td>\n      <td>1</td>\n      <td>1</td>\n      <td>[1]</td>\n    </tr>\n    <tr>\n      <th>7852</th>\n      <td>SRBS03-4_68.jpg</td>\n      <td>48034470</td>\n      <td>1.0</td>\n      <td>1.0</td>\n      <td>1</td>\n      <td>1</td>\n      <td>[1]</td>\n      <td>1.0</td>\n      <td>1</td>\n      <td>1</td>\n      <td>[1]</td>\n    </tr>\n    <tr>\n      <th>7853</th>\n      <td>SRBS03-4_69.jpg</td>\n      <td>48034471</td>\n      <td>10.5</td>\n      <td>10.5</td>\n      <td>1</td>\n      <td>20</td>\n      <td>[1, 20]</td>\n      <td>10.5</td>\n      <td>2</td>\n      <td>21</td>\n      <td>[1, 20]</td>\n    </tr>\n  </tbody>\n</table>\n<p>7854 rows × 11 columns</p>\n</div>"
     },
     "execution_count": 12,
     "metadata": {},
     "output_type": "execute_result"
    }
   ],
   "source": [
    "df_basic_stats"
   ]
  },
  {
   "cell_type": "code",
   "execution_count": 13,
   "id": "d3dc86009d813ff0",
   "metadata": {
    "collapsed": false,
    "ExecuteTime": {
     "end_time": "2024-04-24T12:21:59.781979Z",
     "start_time": "2024-04-24T12:21:59.747613Z"
    }
   },
   "outputs": [
    {
     "data": {
      "text/plain": "                image_name  subject_id  median_count  mean_count  \\\n6813   SRPB05-25-2_134.jpg    47990222           1.0         1.0   \n2982  SFP01_06-1-3_150.jpg    47977314           1.0         1.0   \n483       SFB02-3-1_45.jpg    47969039           1.0         1.0   \n6592    SRPC01-2-2_116.jpg    47989312           1.0         1.0   \n3504    SRCBN01-3-1_55.jpg    47978909           1.0         1.0   \n...                    ...         ...           ...         ...   \n2911  SFP01_06-1-2_300.jpg    47977122           2.0         2.0   \n2908   SRCBN01-2-2_104.jpg    47977117           1.0         1.0   \n2907  SFP01_06-1-2_288.jpg    47977108           1.0         1.0   \n2906      SRCB01-3_141.jpg    47977106           1.0         1.0   \n7852       SRBS03-4_68.jpg    48034470           1.0         1.0   \n\n      mode_min_count  mode_max_count mode_count  mode_count_avg  users  \\\n6813               1               1        [1]             1.0      4   \n2982               1               1        [1]             1.0      4   \n483                1               1        [1]             1.0      4   \n6592               1               1        [1]             1.0      4   \n3504               1               1        [1]             1.0      4   \n...              ...             ...        ...             ...    ...   \n2911               2               2        [2]             2.0      1   \n2908               1               1        [1]             1.0      1   \n2907               1               1        [1]             1.0      1   \n2906               1               1        [1]             1.0      1   \n7852               1               1        [1]             1.0      1   \n\n      sum_annotations_count annotations_count  \n6813                      4      [1, 1, 1, 1]  \n2982                      4      [1, 1, 1, 1]  \n483                       4      [1, 1, 1, 1]  \n6592                      4      [1, 1, 1, 1]  \n3504                      4      [1, 1, 1, 1]  \n...                     ...               ...  \n2911                      2               [2]  \n2908                      1               [1]  \n2907                      1               [1]  \n2906                      1               [1]  \n7852                      1               [1]  \n\n[6279 rows x 11 columns]",
      "text/html": "<div>\n<style scoped>\n    .dataframe tbody tr th:only-of-type {\n        vertical-align: middle;\n    }\n\n    .dataframe tbody tr th {\n        vertical-align: top;\n    }\n\n    .dataframe thead th {\n        text-align: right;\n    }\n</style>\n<table border=\"1\" class=\"dataframe\">\n  <thead>\n    <tr style=\"text-align: right;\">\n      <th></th>\n      <th>image_name</th>\n      <th>subject_id</th>\n      <th>median_count</th>\n      <th>mean_count</th>\n      <th>mode_min_count</th>\n      <th>mode_max_count</th>\n      <th>mode_count</th>\n      <th>mode_count_avg</th>\n      <th>users</th>\n      <th>sum_annotations_count</th>\n      <th>annotations_count</th>\n    </tr>\n  </thead>\n  <tbody>\n    <tr>\n      <th>6813</th>\n      <td>SRPB05-25-2_134.jpg</td>\n      <td>47990222</td>\n      <td>1.0</td>\n      <td>1.0</td>\n      <td>1</td>\n      <td>1</td>\n      <td>[1]</td>\n      <td>1.0</td>\n      <td>4</td>\n      <td>4</td>\n      <td>[1, 1, 1, 1]</td>\n    </tr>\n    <tr>\n      <th>2982</th>\n      <td>SFP01_06-1-3_150.jpg</td>\n      <td>47977314</td>\n      <td>1.0</td>\n      <td>1.0</td>\n      <td>1</td>\n      <td>1</td>\n      <td>[1]</td>\n      <td>1.0</td>\n      <td>4</td>\n      <td>4</td>\n      <td>[1, 1, 1, 1]</td>\n    </tr>\n    <tr>\n      <th>483</th>\n      <td>SFB02-3-1_45.jpg</td>\n      <td>47969039</td>\n      <td>1.0</td>\n      <td>1.0</td>\n      <td>1</td>\n      <td>1</td>\n      <td>[1]</td>\n      <td>1.0</td>\n      <td>4</td>\n      <td>4</td>\n      <td>[1, 1, 1, 1]</td>\n    </tr>\n    <tr>\n      <th>6592</th>\n      <td>SRPC01-2-2_116.jpg</td>\n      <td>47989312</td>\n      <td>1.0</td>\n      <td>1.0</td>\n      <td>1</td>\n      <td>1</td>\n      <td>[1]</td>\n      <td>1.0</td>\n      <td>4</td>\n      <td>4</td>\n      <td>[1, 1, 1, 1]</td>\n    </tr>\n    <tr>\n      <th>3504</th>\n      <td>SRCBN01-3-1_55.jpg</td>\n      <td>47978909</td>\n      <td>1.0</td>\n      <td>1.0</td>\n      <td>1</td>\n      <td>1</td>\n      <td>[1]</td>\n      <td>1.0</td>\n      <td>4</td>\n      <td>4</td>\n      <td>[1, 1, 1, 1]</td>\n    </tr>\n    <tr>\n      <th>...</th>\n      <td>...</td>\n      <td>...</td>\n      <td>...</td>\n      <td>...</td>\n      <td>...</td>\n      <td>...</td>\n      <td>...</td>\n      <td>...</td>\n      <td>...</td>\n      <td>...</td>\n      <td>...</td>\n    </tr>\n    <tr>\n      <th>2911</th>\n      <td>SFP01_06-1-2_300.jpg</td>\n      <td>47977122</td>\n      <td>2.0</td>\n      <td>2.0</td>\n      <td>2</td>\n      <td>2</td>\n      <td>[2]</td>\n      <td>2.0</td>\n      <td>1</td>\n      <td>2</td>\n      <td>[2]</td>\n    </tr>\n    <tr>\n      <th>2908</th>\n      <td>SRCBN01-2-2_104.jpg</td>\n      <td>47977117</td>\n      <td>1.0</td>\n      <td>1.0</td>\n      <td>1</td>\n      <td>1</td>\n      <td>[1]</td>\n      <td>1.0</td>\n      <td>1</td>\n      <td>1</td>\n      <td>[1]</td>\n    </tr>\n    <tr>\n      <th>2907</th>\n      <td>SFP01_06-1-2_288.jpg</td>\n      <td>47977108</td>\n      <td>1.0</td>\n      <td>1.0</td>\n      <td>1</td>\n      <td>1</td>\n      <td>[1]</td>\n      <td>1.0</td>\n      <td>1</td>\n      <td>1</td>\n      <td>[1]</td>\n    </tr>\n    <tr>\n      <th>2906</th>\n      <td>SRCB01-3_141.jpg</td>\n      <td>47977106</td>\n      <td>1.0</td>\n      <td>1.0</td>\n      <td>1</td>\n      <td>1</td>\n      <td>[1]</td>\n      <td>1.0</td>\n      <td>1</td>\n      <td>1</td>\n      <td>[1]</td>\n    </tr>\n    <tr>\n      <th>7852</th>\n      <td>SRBS03-4_68.jpg</td>\n      <td>48034470</td>\n      <td>1.0</td>\n      <td>1.0</td>\n      <td>1</td>\n      <td>1</td>\n      <td>[1]</td>\n      <td>1.0</td>\n      <td>1</td>\n      <td>1</td>\n      <td>[1]</td>\n    </tr>\n  </tbody>\n</table>\n<p>6279 rows × 11 columns</p>\n</div>"
     },
     "execution_count": 13,
     "metadata": {},
     "output_type": "execute_result"
    }
   ],
   "source": [
    "# There might be records with too few annotations if they were not removed before\n",
    "df_comparison[(df_comparison.sum_annotations_count < 5)].sort_values(by=\"users\", ascending=False)"
   ]
  },
  {
   "cell_type": "code",
   "execution_count": 14,
   "id": "50596f5c07d7bd7c",
   "metadata": {
    "collapsed": false,
    "ExecuteTime": {
     "end_time": "2024-04-24T12:21:59.810023Z",
     "start_time": "2024-04-24T12:21:59.785944Z"
    }
   },
   "outputs": [],
   "source": [
    "# Fill NaN values with 0\n",
    "df_comparison.fillna(0, inplace=True)\n"
   ]
  },
  {
   "cell_type": "markdown",
   "id": "5d99c27ebf9bd6b6",
   "metadata": {
    "collapsed": false
   },
   "source": [
    "### DBSCAN clustering and take the variant with the best silouette score for each image\n",
    "Grid search for the best silouette score among the permutations of eps and min_samples values."
   ]
  },
  {
   "cell_type": "code",
   "execution_count": 13,
   "id": "541f9f88dc56d1f1",
   "metadata": {
    "collapsed": false,
    "ExecuteTime": {
     "end_time": "2024-08-05T13:48:08.788647Z",
     "start_time": "2024-08-05T13:42:20.424492Z"
    }
   },
   "outputs": [
    {
     "ename": "KeyboardInterrupt",
     "evalue": "",
     "output_type": "error",
     "traceback": [
      "\u001B[0;31m---------------------------------------------------------------------------\u001B[0m",
      "\u001B[0;31mValueError\u001B[0m                                Traceback (most recent call last)",
      "File \u001B[0;32m~/PycharmProjects/iguanas-from-above-zooniverse/venv/lib/python3.9/site-packages/matplotlib_inline/backend_inline.py:61\u001B[0m, in \u001B[0;36mnew_figure_manager_given_figure\u001B[0;34m(num, figure)\u001B[0m\n\u001B[1;32m     60\u001B[0m \u001B[38;5;28;01mtry\u001B[39;00m:\n\u001B[0;32m---> 61\u001B[0m     \u001B[43mshow\u001B[49m\u001B[38;5;241;43m.\u001B[39;49m\u001B[43m_to_draw\u001B[49m\u001B[38;5;241;43m.\u001B[39;49m\u001B[43mremove\u001B[49m\u001B[43m(\u001B[49m\u001B[43mfigure\u001B[49m\u001B[43m)\u001B[49m\n\u001B[1;32m     62\u001B[0m \u001B[38;5;28;01mexcept\u001B[39;00m \u001B[38;5;167;01mValueError\u001B[39;00m:\n\u001B[1;32m     63\u001B[0m     \u001B[38;5;66;03m# ensure it only appears in the draw list once\u001B[39;00m\n",
      "\u001B[0;31mValueError\u001B[0m: list.remove(x): x not in list",
      "\nDuring handling of the above exception, another exception occurred:\n",
      "\u001B[0;31mKeyboardInterrupt\u001B[0m                         Traceback (most recent call last)",
      "Cell \u001B[0;32mIn[13], line 16\u001B[0m\n\u001B[1;32m     13\u001B[0m \u001B[38;5;28;01mfor\u001B[39;00m image_name, df_image_name \u001B[38;5;129;01min\u001B[39;00m df_merged_dataset\u001B[38;5;241m.\u001B[39mgroupby(\u001B[38;5;124m\"\u001B[39m\u001B[38;5;124msubject_id\u001B[39m\u001B[38;5;124m\"\u001B[39m):\n\u001B[1;32m     14\u001B[0m     \u001B[38;5;66;03m# check for at least 5 marks\u001B[39;00m\n\u001B[1;32m     15\u001B[0m     \u001B[38;5;28;01mif\u001B[39;00m df_image_name\u001B[38;5;241m.\u001B[39mshape[\u001B[38;5;241m0\u001B[39m] \u001B[38;5;241m>\u001B[39m\u001B[38;5;241m=\u001B[39m \u001B[38;5;241m5\u001B[39m:\n\u001B[0;32m---> 16\u001B[0m         dbscan_localization \u001B[38;5;241m=\u001B[39m \u001B[43mcompare_dbscan\u001B[49m\u001B[43m(\u001B[49m\n\u001B[1;32m     17\u001B[0m \u001B[43m            \u001B[49m\u001B[43mparams\u001B[49m\u001B[38;5;241;43m=\u001B[39;49m\u001B[43mparams\u001B[49m\u001B[43m,\u001B[49m\n\u001B[1;32m     18\u001B[0m \u001B[43m            \u001B[49m\u001B[43mdf_flat\u001B[49m\u001B[38;5;241;43m=\u001B[39;49m\u001B[43mdf_image_name\u001B[49m\u001B[43m,\u001B[49m\n\u001B[1;32m     19\u001B[0m \u001B[43m            \u001B[49m\u001B[43moutput_plot_path\u001B[49m\u001B[38;5;241;43m=\u001B[39;49m\u001B[43moutput_plot_path\u001B[49m\u001B[43m,\u001B[49m\n\u001B[1;32m     20\u001B[0m \u001B[43m            \u001B[49m\u001B[43mplot\u001B[49m\u001B[38;5;241;43m=\u001B[39;49m\u001B[43mshow_plots\u001B[49m\n\u001B[1;32m     21\u001B[0m \u001B[43m        \u001B[49m\u001B[43m)\u001B[49m\n\u001B[1;32m     23\u001B[0m         db_scan_results[image_name] \u001B[38;5;241m=\u001B[39m pd\u001B[38;5;241m.\u001B[39mDataFrame(dbscan_localization)\n\u001B[1;32m     25\u001B[0m         \u001B[38;5;66;03m# DBSCAN tends to classify all points as noise if min_samples is too high. Often only a single user marked an iguana.\u001B[39;00m\n\u001B[1;32m     26\u001B[0m         \u001B[38;5;66;03m# Sillouette Scoring needs a minimum of 2 clusters\u001B[39;00m\n\u001B[1;32m     27\u001B[0m         \u001B[38;5;66;03m# if there are points in decent radius they will belong to a cluster\u001B[39;00m\n",
      "File \u001B[0;32m~/PycharmProjects/iguanas-from-above-zooniverse/zooniverse/analysis.py:760\u001B[0m, in \u001B[0;36mcompare_dbscan\u001B[0;34m(df_flat, params, output_plot_path, plot)\u001B[0m\n\u001B[1;32m    758\u001B[0m subject_id \u001B[38;5;241m=\u001B[39m df_flat\u001B[38;5;241m.\u001B[39miloc[\u001B[38;5;241m0\u001B[39m][\u001B[38;5;124m\"\u001B[39m\u001B[38;5;124msubject_id\u001B[39m\u001B[38;5;124m\"\u001B[39m]\n\u001B[1;32m    759\u001B[0m \u001B[38;5;28;01mfor\u001B[39;00m eps, min_samples \u001B[38;5;129;01min\u001B[39;00m params:\n\u001B[0;32m--> 760\u001B[0m     ds_SCAN_localization \u001B[38;5;241m=\u001B[39m \u001B[43mget_estimated_DBSCAN_count\u001B[49m\u001B[43m(\u001B[49m\n\u001B[1;32m    761\u001B[0m \u001B[43m        \u001B[49m\u001B[43mdf_marks\u001B[49m\u001B[38;5;241;43m=\u001B[39;49m\u001B[43mdf_flat\u001B[49m\u001B[43m[\u001B[49m\u001B[43m[\u001B[49m\u001B[38;5;124;43m\"\u001B[39;49m\u001B[38;5;124;43mx\u001B[39;49m\u001B[38;5;124;43m\"\u001B[39;49m\u001B[43m,\u001B[49m\u001B[43m \u001B[49m\u001B[38;5;124;43m\"\u001B[39;49m\u001B[38;5;124;43my\u001B[39;49m\u001B[38;5;124;43m\"\u001B[39;49m\u001B[43m]\u001B[49m\u001B[43m]\u001B[49m\u001B[43m,\u001B[49m\n\u001B[1;32m    762\u001B[0m \u001B[43m        \u001B[49m\u001B[43moutput_path\u001B[49m\u001B[38;5;241;43m=\u001B[39;49m\u001B[43moutput_plot_path\u001B[49m\u001B[43m,\u001B[49m\n\u001B[1;32m    763\u001B[0m \u001B[43m        \u001B[49m\u001B[43mplot\u001B[49m\u001B[38;5;241;43m=\u001B[39;49m\u001B[43mplot\u001B[49m\u001B[43m,\u001B[49m\n\u001B[1;32m    764\u001B[0m \u001B[43m        \u001B[49m\u001B[43msubject_id\u001B[49m\u001B[38;5;241;43m=\u001B[39;49m\u001B[43msubject_id\u001B[49m\u001B[43m,\u001B[49m\n\u001B[1;32m    765\u001B[0m \u001B[43m        \u001B[49m\u001B[43mimage_name\u001B[49m\u001B[38;5;241;43m=\u001B[39;49m\u001B[43mimage_name\u001B[49m\u001B[43m,\u001B[49m\n\u001B[1;32m    766\u001B[0m \u001B[43m        \u001B[49m\u001B[43mparams\u001B[49m\u001B[38;5;241;43m=\u001B[39;49m\u001B[43m(\u001B[49m\u001B[43meps\u001B[49m\u001B[43m,\u001B[49m\u001B[43m \u001B[49m\u001B[43mmin_samples\u001B[49m\u001B[43m)\u001B[49m\u001B[43m,\u001B[49m\n\u001B[1;32m    767\u001B[0m \u001B[43m    \u001B[49m\u001B[43m)\u001B[49m\n\u001B[1;32m    768\u001B[0m     ds_SCAN_localization[\u001B[38;5;124m\"\u001B[39m\u001B[38;5;124meps\u001B[39m\u001B[38;5;124m\"\u001B[39m] \u001B[38;5;241m=\u001B[39m eps\n\u001B[1;32m    769\u001B[0m     ds_SCAN_localization[\u001B[38;5;124m\"\u001B[39m\u001B[38;5;124mmin_samples\u001B[39m\u001B[38;5;124m\"\u001B[39m] \u001B[38;5;241m=\u001B[39m min_samples\n",
      "File \u001B[0;32m~/PycharmProjects/iguanas-from-above-zooniverse/zooniverse/analysis.py:175\u001B[0m, in \u001B[0;36mget_estimated_DBSCAN_count\u001B[0;34m(df_marks, image_name, subject_id, params, output_path, plot)\u001B[0m\n\u001B[1;32m    173\u001B[0m core_samples_mask \u001B[38;5;241m=\u001B[39m np\u001B[38;5;241m.\u001B[39mzeros_like(labels, dtype\u001B[38;5;241m=\u001B[39m\u001B[38;5;28mbool\u001B[39m)\n\u001B[1;32m    174\u001B[0m core_samples_mask[db\u001B[38;5;241m.\u001B[39mcore_sample_indices_] \u001B[38;5;241m=\u001B[39m \u001B[38;5;28;01mTrue\u001B[39;00m\n\u001B[0;32m--> 175\u001B[0m fig, ax \u001B[38;5;241m=\u001B[39m \u001B[43mplt\u001B[49m\u001B[38;5;241;43m.\u001B[39;49m\u001B[43msubplots\u001B[49m\u001B[43m(\u001B[49m\u001B[38;5;241;43m1\u001B[39;49m\u001B[43m)\u001B[49m\n\u001B[1;32m    176\u001B[0m X \u001B[38;5;241m=\u001B[39m sc\u001B[38;5;241m.\u001B[39minverse_transform(X)\n\u001B[1;32m    178\u001B[0m colors \u001B[38;5;241m=\u001B[39m [plt\u001B[38;5;241m.\u001B[39mcm\u001B[38;5;241m.\u001B[39mSpectral(each) \u001B[38;5;28;01mfor\u001B[39;00m each \u001B[38;5;129;01min\u001B[39;00m np\u001B[38;5;241m.\u001B[39mlinspace(\u001B[38;5;241m0\u001B[39m, \u001B[38;5;241m1\u001B[39m, \u001B[38;5;28mlen\u001B[39m(unique_labels))]\n",
      "File \u001B[0;32m~/PycharmProjects/iguanas-from-above-zooniverse/venv/lib/python3.9/site-packages/matplotlib/pyplot.py:1598\u001B[0m, in \u001B[0;36msubplots\u001B[0;34m(nrows, ncols, sharex, sharey, squeeze, width_ratios, height_ratios, subplot_kw, gridspec_kw, **fig_kw)\u001B[0m\n\u001B[1;32m   1444\u001B[0m \u001B[38;5;28;01mdef\u001B[39;00m \u001B[38;5;21msubplots\u001B[39m(\n\u001B[1;32m   1445\u001B[0m     nrows: \u001B[38;5;28mint\u001B[39m \u001B[38;5;241m=\u001B[39m \u001B[38;5;241m1\u001B[39m, ncols: \u001B[38;5;28mint\u001B[39m \u001B[38;5;241m=\u001B[39m \u001B[38;5;241m1\u001B[39m, \u001B[38;5;241m*\u001B[39m,\n\u001B[1;32m   1446\u001B[0m     sharex: \u001B[38;5;28mbool\u001B[39m \u001B[38;5;241m|\u001B[39m Literal[\u001B[38;5;124m\"\u001B[39m\u001B[38;5;124mnone\u001B[39m\u001B[38;5;124m\"\u001B[39m, \u001B[38;5;124m\"\u001B[39m\u001B[38;5;124mall\u001B[39m\u001B[38;5;124m\"\u001B[39m, \u001B[38;5;124m\"\u001B[39m\u001B[38;5;124mrow\u001B[39m\u001B[38;5;124m\"\u001B[39m, \u001B[38;5;124m\"\u001B[39m\u001B[38;5;124mcol\u001B[39m\u001B[38;5;124m\"\u001B[39m] \u001B[38;5;241m=\u001B[39m \u001B[38;5;28;01mFalse\u001B[39;00m,\n\u001B[0;32m   (...)\u001B[0m\n\u001B[1;32m   1453\u001B[0m     \u001B[38;5;241m*\u001B[39m\u001B[38;5;241m*\u001B[39mfig_kw\n\u001B[1;32m   1454\u001B[0m ) \u001B[38;5;241m-\u001B[39m\u001B[38;5;241m>\u001B[39m \u001B[38;5;28mtuple\u001B[39m[Figure, Any]:\n\u001B[1;32m   1455\u001B[0m \u001B[38;5;250m    \u001B[39m\u001B[38;5;124;03m\"\"\"\u001B[39;00m\n\u001B[1;32m   1456\u001B[0m \u001B[38;5;124;03m    Create a figure and a set of subplots.\u001B[39;00m\n\u001B[1;32m   1457\u001B[0m \n\u001B[0;32m   (...)\u001B[0m\n\u001B[1;32m   1596\u001B[0m \n\u001B[1;32m   1597\u001B[0m \u001B[38;5;124;03m    \"\"\"\u001B[39;00m\n\u001B[0;32m-> 1598\u001B[0m     fig \u001B[38;5;241m=\u001B[39m \u001B[43mfigure\u001B[49m\u001B[43m(\u001B[49m\u001B[38;5;241;43m*\u001B[39;49m\u001B[38;5;241;43m*\u001B[39;49m\u001B[43mfig_kw\u001B[49m\u001B[43m)\u001B[49m\n\u001B[1;32m   1599\u001B[0m     axs \u001B[38;5;241m=\u001B[39m fig\u001B[38;5;241m.\u001B[39msubplots(nrows\u001B[38;5;241m=\u001B[39mnrows, ncols\u001B[38;5;241m=\u001B[39mncols, sharex\u001B[38;5;241m=\u001B[39msharex, sharey\u001B[38;5;241m=\u001B[39msharey,\n\u001B[1;32m   1600\u001B[0m                        squeeze\u001B[38;5;241m=\u001B[39msqueeze, subplot_kw\u001B[38;5;241m=\u001B[39msubplot_kw,\n\u001B[1;32m   1601\u001B[0m                        gridspec_kw\u001B[38;5;241m=\u001B[39mgridspec_kw, height_ratios\u001B[38;5;241m=\u001B[39mheight_ratios,\n\u001B[1;32m   1602\u001B[0m                        width_ratios\u001B[38;5;241m=\u001B[39mwidth_ratios)\n\u001B[1;32m   1603\u001B[0m     \u001B[38;5;28;01mreturn\u001B[39;00m fig, axs\n",
      "File \u001B[0;32m~/PycharmProjects/iguanas-from-above-zooniverse/venv/lib/python3.9/site-packages/matplotlib/pyplot.py:934\u001B[0m, in \u001B[0;36mfigure\u001B[0;34m(num, figsize, dpi, facecolor, edgecolor, frameon, FigureClass, clear, **kwargs)\u001B[0m\n\u001B[1;32m    924\u001B[0m \u001B[38;5;28;01mif\u001B[39;00m \u001B[38;5;28mlen\u001B[39m(allnums) \u001B[38;5;241m==\u001B[39m max_open_warning \u001B[38;5;241m>\u001B[39m\u001B[38;5;241m=\u001B[39m \u001B[38;5;241m1\u001B[39m:\n\u001B[1;32m    925\u001B[0m     _api\u001B[38;5;241m.\u001B[39mwarn_external(\n\u001B[1;32m    926\u001B[0m         \u001B[38;5;124mf\u001B[39m\u001B[38;5;124m\"\u001B[39m\u001B[38;5;124mMore than \u001B[39m\u001B[38;5;132;01m{\u001B[39;00mmax_open_warning\u001B[38;5;132;01m}\u001B[39;00m\u001B[38;5;124m figures have been opened. \u001B[39m\u001B[38;5;124m\"\u001B[39m\n\u001B[1;32m    927\u001B[0m         \u001B[38;5;124mf\u001B[39m\u001B[38;5;124m\"\u001B[39m\u001B[38;5;124mFigures created through the pyplot interface \u001B[39m\u001B[38;5;124m\"\u001B[39m\n\u001B[0;32m   (...)\u001B[0m\n\u001B[1;32m    931\u001B[0m         \u001B[38;5;124mf\u001B[39m\u001B[38;5;124m\"\u001B[39m\u001B[38;5;124mConsider using `matplotlib.pyplot.close()`.\u001B[39m\u001B[38;5;124m\"\u001B[39m,\n\u001B[1;32m    932\u001B[0m         \u001B[38;5;167;01mRuntimeWarning\u001B[39;00m)\n\u001B[0;32m--> 934\u001B[0m manager \u001B[38;5;241m=\u001B[39m \u001B[43mnew_figure_manager\u001B[49m\u001B[43m(\u001B[49m\n\u001B[1;32m    935\u001B[0m \u001B[43m    \u001B[49m\u001B[43mnum\u001B[49m\u001B[43m,\u001B[49m\u001B[43m \u001B[49m\u001B[43mfigsize\u001B[49m\u001B[38;5;241;43m=\u001B[39;49m\u001B[43mfigsize\u001B[49m\u001B[43m,\u001B[49m\u001B[43m \u001B[49m\u001B[43mdpi\u001B[49m\u001B[38;5;241;43m=\u001B[39;49m\u001B[43mdpi\u001B[49m\u001B[43m,\u001B[49m\n\u001B[1;32m    936\u001B[0m \u001B[43m    \u001B[49m\u001B[43mfacecolor\u001B[49m\u001B[38;5;241;43m=\u001B[39;49m\u001B[43mfacecolor\u001B[49m\u001B[43m,\u001B[49m\u001B[43m \u001B[49m\u001B[43medgecolor\u001B[49m\u001B[38;5;241;43m=\u001B[39;49m\u001B[43medgecolor\u001B[49m\u001B[43m,\u001B[49m\u001B[43m \u001B[49m\u001B[43mframeon\u001B[49m\u001B[38;5;241;43m=\u001B[39;49m\u001B[43mframeon\u001B[49m\u001B[43m,\u001B[49m\n\u001B[1;32m    937\u001B[0m \u001B[43m    \u001B[49m\u001B[43mFigureClass\u001B[49m\u001B[38;5;241;43m=\u001B[39;49m\u001B[43mFigureClass\u001B[49m\u001B[43m,\u001B[49m\u001B[43m \u001B[49m\u001B[38;5;241;43m*\u001B[39;49m\u001B[38;5;241;43m*\u001B[39;49m\u001B[43mkwargs\u001B[49m\u001B[43m)\u001B[49m\n\u001B[1;32m    938\u001B[0m fig \u001B[38;5;241m=\u001B[39m manager\u001B[38;5;241m.\u001B[39mcanvas\u001B[38;5;241m.\u001B[39mfigure\n\u001B[1;32m    939\u001B[0m \u001B[38;5;28;01mif\u001B[39;00m fig_label:\n",
      "File \u001B[0;32m~/PycharmProjects/iguanas-from-above-zooniverse/venv/lib/python3.9/site-packages/matplotlib/pyplot.py:465\u001B[0m, in \u001B[0;36mnew_figure_manager\u001B[0;34m(*args, **kwargs)\u001B[0m\n\u001B[1;32m    463\u001B[0m \u001B[38;5;250m\u001B[39m\u001B[38;5;124;03m\"\"\"Create a new figure manager instance.\"\"\"\u001B[39;00m\n\u001B[1;32m    464\u001B[0m _warn_if_gui_out_of_main_thread()\n\u001B[0;32m--> 465\u001B[0m \u001B[38;5;28;01mreturn\u001B[39;00m \u001B[43m_get_backend_mod\u001B[49m\u001B[43m(\u001B[49m\u001B[43m)\u001B[49m\u001B[38;5;241;43m.\u001B[39;49m\u001B[43mnew_figure_manager\u001B[49m\u001B[43m(\u001B[49m\u001B[38;5;241;43m*\u001B[39;49m\u001B[43margs\u001B[49m\u001B[43m,\u001B[49m\u001B[43m \u001B[49m\u001B[38;5;241;43m*\u001B[39;49m\u001B[38;5;241;43m*\u001B[39;49m\u001B[43mkwargs\u001B[49m\u001B[43m)\u001B[49m\n",
      "File \u001B[0;32m~/PycharmProjects/iguanas-from-above-zooniverse/venv/lib/python3.9/site-packages/matplotlib_inline/backend_inline.py:27\u001B[0m, in \u001B[0;36mnew_figure_manager\u001B[0;34m(num, FigureClass, *args, **kwargs)\u001B[0m\n\u001B[1;32m     21\u001B[0m \u001B[38;5;28;01mdef\u001B[39;00m \u001B[38;5;21mnew_figure_manager\u001B[39m(num, \u001B[38;5;241m*\u001B[39margs, FigureClass\u001B[38;5;241m=\u001B[39mFigure, \u001B[38;5;241m*\u001B[39m\u001B[38;5;241m*\u001B[39mkwargs):\n\u001B[1;32m     22\u001B[0m \u001B[38;5;250m    \u001B[39m\u001B[38;5;124;03m\"\"\"\u001B[39;00m\n\u001B[1;32m     23\u001B[0m \u001B[38;5;124;03m    Return a new figure manager for a new figure instance.\u001B[39;00m\n\u001B[1;32m     24\u001B[0m \n\u001B[1;32m     25\u001B[0m \u001B[38;5;124;03m    This function is part of the API expected by Matplotlib backends.\u001B[39;00m\n\u001B[1;32m     26\u001B[0m \u001B[38;5;124;03m    \"\"\"\u001B[39;00m\n\u001B[0;32m---> 27\u001B[0m     \u001B[38;5;28;01mreturn\u001B[39;00m \u001B[43mnew_figure_manager_given_figure\u001B[49m\u001B[43m(\u001B[49m\u001B[43mnum\u001B[49m\u001B[43m,\u001B[49m\u001B[43m \u001B[49m\u001B[43mFigureClass\u001B[49m\u001B[43m(\u001B[49m\u001B[38;5;241;43m*\u001B[39;49m\u001B[43margs\u001B[49m\u001B[43m,\u001B[49m\u001B[43m \u001B[49m\u001B[38;5;241;43m*\u001B[39;49m\u001B[38;5;241;43m*\u001B[39;49m\u001B[43mkwargs\u001B[49m\u001B[43m)\u001B[49m\u001B[43m)\u001B[49m\n",
      "File \u001B[0;32m~/PycharmProjects/iguanas-from-above-zooniverse/venv/lib/python3.9/site-packages/matplotlib_inline/backend_inline.py:61\u001B[0m, in \u001B[0;36mnew_figure_manager_given_figure\u001B[0;34m(num, figure)\u001B[0m\n\u001B[1;32m     57\u001B[0m \u001B[38;5;66;03m# ensure current figure will be drawn, and each subsequent call\u001B[39;00m\n\u001B[1;32m     58\u001B[0m \u001B[38;5;66;03m# of draw_if_interactive() moves the active figure to ensure it is\u001B[39;00m\n\u001B[1;32m     59\u001B[0m \u001B[38;5;66;03m# drawn last\u001B[39;00m\n\u001B[1;32m     60\u001B[0m \u001B[38;5;28;01mtry\u001B[39;00m:\n\u001B[0;32m---> 61\u001B[0m     \u001B[43mshow\u001B[49m\u001B[38;5;241;43m.\u001B[39;49m\u001B[43m_to_draw\u001B[49m\u001B[38;5;241;43m.\u001B[39;49m\u001B[43mremove\u001B[49m\u001B[43m(\u001B[49m\u001B[43mfigure\u001B[49m\u001B[43m)\u001B[49m\n\u001B[1;32m     62\u001B[0m \u001B[38;5;28;01mexcept\u001B[39;00m \u001B[38;5;167;01mValueError\u001B[39;00m:\n\u001B[1;32m     63\u001B[0m     \u001B[38;5;66;03m# ensure it only appears in the draw list once\u001B[39;00m\n\u001B[1;32m     64\u001B[0m     \u001B[38;5;28;01mpass\u001B[39;00m\n",
      "\u001B[0;31mKeyboardInterrupt\u001B[0m: "
     ]
    }
   ],
   "source": [
    "## sort by silouette score sorting + dbscan_count\n",
    "# from zooniverse.analysis import compare_dbscan\n",
    "# \n",
    "# eps_variants = [0.01, 0.05, 0.1, 0.2, 0.3, 0.4, 0.5]\n",
    "# min_samples_variants = [3, 5, 8, 10]\n",
    "# if debug:\n",
    "#     eps_variants = [0.3]\n",
    "#     min_samples_variants = [3]\n",
    "# params = [(eps, min_samples) for eps in eps_variants for min_samples in min_samples_variants]\n",
    "# \n",
    "# db_scan_results = {}\n",
    "# db_scan_best_results = []\n",
    "# for image_name, df_image_name in df_merged_dataset.groupby(\"subject_id\"):\n",
    "#     # check for at least 5 marks\n",
    "#     if df_image_name.shape[0] >= 5:\n",
    "#         dbscan_localization = compare_dbscan(\n",
    "#             params=params,\n",
    "#             df_flat=df_image_name,\n",
    "#             output_plot_path=output_plot_path,\n",
    "#             plot=show_plots\n",
    "#         )\n",
    "#     \n",
    "#         db_scan_results[image_name] = pd.DataFrame(dbscan_localization)\n",
    "#         \n",
    "#         # DBSCAN tends to classify all points as noise if min_samples is too high. Often only a single user marked an iguana.\n",
    "#         # Sillouette Scoring needs a minimum of 2 clusters\n",
    "#         # if there are points in decent radius they will belong to a cluster\n",
    "#         if pd.DataFrame(dbscan_localization).dbscan_count.max() == 1:\n",
    "#             db_scan_best_results.append(pd.DataFrame(dbscan_localization).sort_values(\"dbscan_count\", ascending=False).iloc[0])\n",
    "#             # If two or more cluster seem to exists take ones with the best Silouette score\n",
    "#         else:  \n",
    "#             # take the best result by silouette score if there are more clusters then 1\n",
    "#             db_scan_best_results.append(pd.DataFrame(dbscan_localization).sort_values([\"dbscan_silouette_score\", \"dbscan_count\"], ascending=[False, False]).iloc[0])\n",
    "#     \n",
    "# df_dbscan_localization = pd.concat([*db_scan_results.values()])\n",
    "# df_scan_best_results = pd.DataFrame(db_scan_best_results)\n"
   ]
  },
  {
   "cell_type": "code",
   "execution_count": 14,
   "id": "ec07d63d180d7442",
   "metadata": {
    "collapsed": false,
    "ExecuteTime": {
     "end_time": "2024-08-05T13:48:17.089970Z",
     "start_time": "2024-08-05T13:48:17.038262Z"
    }
   },
   "outputs": [
    {
     "ename": "NameError",
     "evalue": "name 'df_scan_best_results' is not defined",
     "output_type": "error",
     "traceback": [
      "\u001B[0;31m---------------------------------------------------------------------------\u001B[0m",
      "\u001B[0;31mNameError\u001B[0m                                 Traceback (most recent call last)",
      "Cell \u001B[0;32mIn[14], line 1\u001B[0m\n\u001B[0;32m----> 1\u001B[0m \u001B[43mdf_scan_best_results\u001B[49m\n",
      "\u001B[0;31mNameError\u001B[0m: name 'df_scan_best_results' is not defined"
     ]
    }
   ],
   "source": [
    "# df_scan_best_results"
   ]
  },
  {
   "cell_type": "markdown",
   "id": "d196ca1914a06509",
   "metadata": {
    "collapsed": false
   },
   "source": [
    "Here it can be seen why the silouette score is difficult because it is often undefined."
   ]
  },
  {
   "cell_type": "code",
   "execution_count": null,
   "id": "c17c404cb518dbe1",
   "metadata": {
    "collapsed": false
   },
   "outputs": [],
   "source": [
    "## save the combinations of parameters, which maximized the silouette score.\n",
    "# df_dbscan_localization.to_csv(config[\"dbscan_hyperparam_grid\"])\n"
   ]
  },
  {
   "cell_type": "code",
   "execution_count": null,
   "id": "bacea598a23a1b81",
   "metadata": {
    "collapsed": false
   },
   "outputs": [],
   "source": [
    "# df_scan_best_results.rename(columns={\"dbscan_count\": \"dbscan_count_sil\"}, inplace=True)\n",
    "# \n",
    "# \n",
    "# df_comparison = df_comparison.merge(df_scan_best_results.drop([\"image_name\"], axis=1), on='subject_id', how='left')"
   ]
  },
  {
   "cell_type": "code",
   "execution_count": 15,
   "id": "509dec5ebdad923",
   "metadata": {
    "collapsed": false,
    "ExecuteTime": {
     "end_time": "2024-08-05T13:48:26.194017Z",
     "start_time": "2024-08-05T13:48:26.169605Z"
    }
   },
   "outputs": [
    {
     "data": {
      "text/plain": "             image_name  subject_id  median_count  mean_count  mode_min_count  \\\n0        SFB01-3_08.jpg    47967468           1.0         1.0               1   \n1     SFB01-4-1_103.jpg    47967478           1.0         1.0               1   \n2     SFB01-4-1_108.jpg    47967483           1.0         1.0               1   \n3     SFB01-4-1_115.jpg    47967489           1.0         1.0               1   \n4     SFB01-4-1_129.jpg    47967503           1.0         1.0               1   \n...                 ...         ...           ...         ...             ...   \n7849    SRBS03-4_61.jpg    48034465           1.0         1.0               1   \n7850    SRBS03-4_62.jpg    48034466           5.0         5.0               5   \n7851    SRBS03-4_63.jpg    48034467           1.0         1.0               1   \n7852    SRBS03-4_68.jpg    48034470           1.0         1.0               1   \n7853    SRBS03-4_69.jpg    48034471          10.5        10.5               1   \n\n      mode_max_count mode_count  mode_count_avg  users  sum_annotations_count  \\\n0                  1        [1]             1.0      2                      2   \n1                  1        [1]             1.0      1                      1   \n2                  1        [1]             1.0      1                      1   \n3                  1        [1]             1.0      1                      1   \n4                  1        [1]             1.0      1                      1   \n...              ...        ...             ...    ...                    ...   \n7849               1        [1]             1.0      2                      2   \n7850               5        [5]             5.0      1                      5   \n7851               1        [1]             1.0      1                      1   \n7852               1        [1]             1.0      1                      1   \n7853              20    [1, 20]            10.5      2                     21   \n\n     annotations_count  \n0               [1, 1]  \n1                  [1]  \n2                  [1]  \n3                  [1]  \n4                  [1]  \n...                ...  \n7849            [1, 1]  \n7850               [5]  \n7851               [1]  \n7852               [1]  \n7853           [1, 20]  \n\n[7854 rows x 11 columns]",
      "text/html": "<div>\n<style scoped>\n    .dataframe tbody tr th:only-of-type {\n        vertical-align: middle;\n    }\n\n    .dataframe tbody tr th {\n        vertical-align: top;\n    }\n\n    .dataframe thead th {\n        text-align: right;\n    }\n</style>\n<table border=\"1\" class=\"dataframe\">\n  <thead>\n    <tr style=\"text-align: right;\">\n      <th></th>\n      <th>image_name</th>\n      <th>subject_id</th>\n      <th>median_count</th>\n      <th>mean_count</th>\n      <th>mode_min_count</th>\n      <th>mode_max_count</th>\n      <th>mode_count</th>\n      <th>mode_count_avg</th>\n      <th>users</th>\n      <th>sum_annotations_count</th>\n      <th>annotations_count</th>\n    </tr>\n  </thead>\n  <tbody>\n    <tr>\n      <th>0</th>\n      <td>SFB01-3_08.jpg</td>\n      <td>47967468</td>\n      <td>1.0</td>\n      <td>1.0</td>\n      <td>1</td>\n      <td>1</td>\n      <td>[1]</td>\n      <td>1.0</td>\n      <td>2</td>\n      <td>2</td>\n      <td>[1, 1]</td>\n    </tr>\n    <tr>\n      <th>1</th>\n      <td>SFB01-4-1_103.jpg</td>\n      <td>47967478</td>\n      <td>1.0</td>\n      <td>1.0</td>\n      <td>1</td>\n      <td>1</td>\n      <td>[1]</td>\n      <td>1.0</td>\n      <td>1</td>\n      <td>1</td>\n      <td>[1]</td>\n    </tr>\n    <tr>\n      <th>2</th>\n      <td>SFB01-4-1_108.jpg</td>\n      <td>47967483</td>\n      <td>1.0</td>\n      <td>1.0</td>\n      <td>1</td>\n      <td>1</td>\n      <td>[1]</td>\n      <td>1.0</td>\n      <td>1</td>\n      <td>1</td>\n      <td>[1]</td>\n    </tr>\n    <tr>\n      <th>3</th>\n      <td>SFB01-4-1_115.jpg</td>\n      <td>47967489</td>\n      <td>1.0</td>\n      <td>1.0</td>\n      <td>1</td>\n      <td>1</td>\n      <td>[1]</td>\n      <td>1.0</td>\n      <td>1</td>\n      <td>1</td>\n      <td>[1]</td>\n    </tr>\n    <tr>\n      <th>4</th>\n      <td>SFB01-4-1_129.jpg</td>\n      <td>47967503</td>\n      <td>1.0</td>\n      <td>1.0</td>\n      <td>1</td>\n      <td>1</td>\n      <td>[1]</td>\n      <td>1.0</td>\n      <td>1</td>\n      <td>1</td>\n      <td>[1]</td>\n    </tr>\n    <tr>\n      <th>...</th>\n      <td>...</td>\n      <td>...</td>\n      <td>...</td>\n      <td>...</td>\n      <td>...</td>\n      <td>...</td>\n      <td>...</td>\n      <td>...</td>\n      <td>...</td>\n      <td>...</td>\n      <td>...</td>\n    </tr>\n    <tr>\n      <th>7849</th>\n      <td>SRBS03-4_61.jpg</td>\n      <td>48034465</td>\n      <td>1.0</td>\n      <td>1.0</td>\n      <td>1</td>\n      <td>1</td>\n      <td>[1]</td>\n      <td>1.0</td>\n      <td>2</td>\n      <td>2</td>\n      <td>[1, 1]</td>\n    </tr>\n    <tr>\n      <th>7850</th>\n      <td>SRBS03-4_62.jpg</td>\n      <td>48034466</td>\n      <td>5.0</td>\n      <td>5.0</td>\n      <td>5</td>\n      <td>5</td>\n      <td>[5]</td>\n      <td>5.0</td>\n      <td>1</td>\n      <td>5</td>\n      <td>[5]</td>\n    </tr>\n    <tr>\n      <th>7851</th>\n      <td>SRBS03-4_63.jpg</td>\n      <td>48034467</td>\n      <td>1.0</td>\n      <td>1.0</td>\n      <td>1</td>\n      <td>1</td>\n      <td>[1]</td>\n      <td>1.0</td>\n      <td>1</td>\n      <td>1</td>\n      <td>[1]</td>\n    </tr>\n    <tr>\n      <th>7852</th>\n      <td>SRBS03-4_68.jpg</td>\n      <td>48034470</td>\n      <td>1.0</td>\n      <td>1.0</td>\n      <td>1</td>\n      <td>1</td>\n      <td>[1]</td>\n      <td>1.0</td>\n      <td>1</td>\n      <td>1</td>\n      <td>[1]</td>\n    </tr>\n    <tr>\n      <th>7853</th>\n      <td>SRBS03-4_69.jpg</td>\n      <td>48034471</td>\n      <td>10.5</td>\n      <td>10.5</td>\n      <td>1</td>\n      <td>20</td>\n      <td>[1, 20]</td>\n      <td>10.5</td>\n      <td>2</td>\n      <td>21</td>\n      <td>[1, 20]</td>\n    </tr>\n  </tbody>\n</table>\n<p>7854 rows × 11 columns</p>\n</div>"
     },
     "execution_count": 15,
     "metadata": {},
     "output_type": "execute_result"
    }
   ],
   "source": [
    "# drop columns which are not interesting here\n",
    "df_comparison = df_comparison.drop([\"dbscan_noise\", \"dbscan_silouette_score\", \"eps\", \"min_samples\", \"dbscan_BIC_score\", \"with_noise\", \"bic_avg\"], axis=1, errors=\"ignore\")\n",
    "df_comparison"
   ]
  },
  {
   "cell_type": "markdown",
   "id": "15adf791099ac332",
   "metadata": {
    "collapsed": false
   },
   "source": [
    "### HDBSCAN clustering for each image\n"
   ]
  },
  {
   "cell_type": "code",
   "execution_count": 16,
   "id": "6763aed82e7088dd",
   "metadata": {
    "collapsed": false,
    "ExecuteTime": {
     "end_time": "2024-08-05T13:48:31.694901Z",
     "start_time": "2024-08-05T13:48:27.167886Z"
    }
   },
   "outputs": [],
   "source": [
    "from zooniverse.analysis import hdbscan\n",
    "\n",
    "hdbscan_values = []\n",
    "\n",
    "eps_variants = [0.0] # 0 is the default\n",
    "min_cluster_sizes = [5] # 5 is the default\n",
    "\n",
    "\n",
    "for image_name, df_image_name in df_merged_dataset.groupby(\"subject_id\"):\n",
    "    annotations_count = get_mark_overview(df_image_name)\n",
    "    \n",
    "    image_name=df_image_name.iloc[0][\"image_name\"]\n",
    "    subject_id=df_image_name.iloc[0][\"subject_id\"]\n",
    "    \n",
    "    annotations_count_stats = get_annotation_count_stats(annotations_count=annotations_count,\n",
    "                                                         image_name=image_name, \n",
    "                                                         subject_id=subject_id)\n",
    "    \n",
    "    # if less than min_cluster_sizes points are available clustering makes no sense\n",
    "    if df_image_name.shape[0] >= 5: # If num_samples is 5 for the min_cluster_size is 5 there is no point in passing data with less than 5 samples\n",
    "        params = [(eps, min_cluster_size, max_cluster_size) \n",
    "                    for eps in eps_variants\n",
    "                    for min_cluster_size in min_cluster_sizes\n",
    "                    for max_cluster_size in [None]\n",
    "              ]\n",
    "\n",
    "        df_hdbscan = hdbscan(df_marks=df_image_name[[\"x\", \"y\"]],\n",
    "                                     output_path=output_plot_path,\n",
    "                                     plot=show_plots,\n",
    "                                     show=show_plots,\n",
    "                                     image_name=image_name,\n",
    "                                     subject_id=subject_id,\n",
    "                                     params=params)\n",
    "        hdbscan_values.append(df_hdbscan)\n",
    "\n",
    "\n",
    "df_hdbscan = pd.concat(hdbscan_values)\n",
    "\n"
   ]
  },
  {
   "cell_type": "code",
   "execution_count": 17,
   "id": "5de6304addaca41d",
   "metadata": {
    "collapsed": false,
    "ExecuteTime": {
     "end_time": "2024-08-05T13:48:31.716370Z",
     "start_time": "2024-08-05T13:48:31.696048Z"
    }
   },
   "outputs": [
    {
     "data": {
      "text/plain": "           image_name  subject_id  HDBSCAN_count  eps  min_cluster_size  \\\n0   SFB01-4-1_145.jpg    47967518              1  0.0                 5   \n0   SFB01-4-1_216.jpg    47967585              1  0.0                 5   \n0   SFBay-1-1_102.jpg    47967586              1  0.0                 5   \n0    SFBay-1-1_28.jpg    47967600              1  0.0                 5   \n0    SFBay-1-1_59.jpg    47967612              1  0.0                 5   \n..                ...         ...            ...  ...               ...   \n0   SRBS03-2-2_91.jpg    48034370              1  0.0                 5   \n0     SRBS03-4_25.jpg    48034447              1  0.0                 5   \n0     SRBS03-4_40.jpg    48034453              1  0.0                 5   \n0     SRBS03-4_62.jpg    48034466              1  0.0                 5   \n0     SRBS03-4_69.jpg    48034471              1  0.0                 5   \n\n   max_cluster_size  noise_points  \n0              None             1  \n0              None            12  \n0              None             4  \n0              None             2  \n0              None            14  \n..              ...           ...  \n0              None            11  \n0              None             6  \n0              None             9  \n0              None             0  \n0              None             8  \n\n[1575 rows x 7 columns]",
      "text/html": "<div>\n<style scoped>\n    .dataframe tbody tr th:only-of-type {\n        vertical-align: middle;\n    }\n\n    .dataframe tbody tr th {\n        vertical-align: top;\n    }\n\n    .dataframe thead th {\n        text-align: right;\n    }\n</style>\n<table border=\"1\" class=\"dataframe\">\n  <thead>\n    <tr style=\"text-align: right;\">\n      <th></th>\n      <th>image_name</th>\n      <th>subject_id</th>\n      <th>HDBSCAN_count</th>\n      <th>eps</th>\n      <th>min_cluster_size</th>\n      <th>max_cluster_size</th>\n      <th>noise_points</th>\n    </tr>\n  </thead>\n  <tbody>\n    <tr>\n      <th>0</th>\n      <td>SFB01-4-1_145.jpg</td>\n      <td>47967518</td>\n      <td>1</td>\n      <td>0.0</td>\n      <td>5</td>\n      <td>None</td>\n      <td>1</td>\n    </tr>\n    <tr>\n      <th>0</th>\n      <td>SFB01-4-1_216.jpg</td>\n      <td>47967585</td>\n      <td>1</td>\n      <td>0.0</td>\n      <td>5</td>\n      <td>None</td>\n      <td>12</td>\n    </tr>\n    <tr>\n      <th>0</th>\n      <td>SFBay-1-1_102.jpg</td>\n      <td>47967586</td>\n      <td>1</td>\n      <td>0.0</td>\n      <td>5</td>\n      <td>None</td>\n      <td>4</td>\n    </tr>\n    <tr>\n      <th>0</th>\n      <td>SFBay-1-1_28.jpg</td>\n      <td>47967600</td>\n      <td>1</td>\n      <td>0.0</td>\n      <td>5</td>\n      <td>None</td>\n      <td>2</td>\n    </tr>\n    <tr>\n      <th>0</th>\n      <td>SFBay-1-1_59.jpg</td>\n      <td>47967612</td>\n      <td>1</td>\n      <td>0.0</td>\n      <td>5</td>\n      <td>None</td>\n      <td>14</td>\n    </tr>\n    <tr>\n      <th>...</th>\n      <td>...</td>\n      <td>...</td>\n      <td>...</td>\n      <td>...</td>\n      <td>...</td>\n      <td>...</td>\n      <td>...</td>\n    </tr>\n    <tr>\n      <th>0</th>\n      <td>SRBS03-2-2_91.jpg</td>\n      <td>48034370</td>\n      <td>1</td>\n      <td>0.0</td>\n      <td>5</td>\n      <td>None</td>\n      <td>11</td>\n    </tr>\n    <tr>\n      <th>0</th>\n      <td>SRBS03-4_25.jpg</td>\n      <td>48034447</td>\n      <td>1</td>\n      <td>0.0</td>\n      <td>5</td>\n      <td>None</td>\n      <td>6</td>\n    </tr>\n    <tr>\n      <th>0</th>\n      <td>SRBS03-4_40.jpg</td>\n      <td>48034453</td>\n      <td>1</td>\n      <td>0.0</td>\n      <td>5</td>\n      <td>None</td>\n      <td>9</td>\n    </tr>\n    <tr>\n      <th>0</th>\n      <td>SRBS03-4_62.jpg</td>\n      <td>48034466</td>\n      <td>1</td>\n      <td>0.0</td>\n      <td>5</td>\n      <td>None</td>\n      <td>0</td>\n    </tr>\n    <tr>\n      <th>0</th>\n      <td>SRBS03-4_69.jpg</td>\n      <td>48034471</td>\n      <td>1</td>\n      <td>0.0</td>\n      <td>5</td>\n      <td>None</td>\n      <td>8</td>\n    </tr>\n  </tbody>\n</table>\n<p>1575 rows × 7 columns</p>\n</div>"
     },
     "execution_count": 17,
     "metadata": {},
     "output_type": "execute_result"
    }
   ],
   "source": [
    "df_hdbscan.drop([\"with_noise\"], axis=1, inplace=True)\n",
    "df_hdbscan"
   ]
  },
  {
   "cell_type": "code",
   "execution_count": null,
   "id": "563e2747f9f8a77c",
   "metadata": {
    "collapsed": false
   },
   "outputs": [],
   "source": [
    "## Statistics for all images\n",
    "df_comparison = df_comparison.merge(df_hdbscan.drop([\"image_name\"], axis=1), on=['subject_id'], how='left')\n",
    "df_comparison.fillna(0, inplace=True)\n",
    "df_comparison"
   ]
  },
  {
   "cell_type": "code",
   "execution_count": 23,
   "id": "c06aa84a3cef1155",
   "metadata": {
    "collapsed": false,
    "ExecuteTime": {
     "end_time": "2024-04-24T12:36:31.510672Z",
     "start_time": "2024-04-24T12:36:31.477227Z"
    }
   },
   "outputs": [
    {
     "data": {
      "text/plain": "       subject_id  data.no  data.yes\n0        47967468     18.0       2.0\n1        47967469     19.0       0.0\n2        47967470     20.0       0.0\n3        47967471     20.0       0.0\n4        47967472     18.0       0.0\n...           ...      ...       ...\n24368    48034473     20.0       0.0\n24369    48034474     18.0       0.0\n24370    48034475     18.0       0.0\n24371    48034476     18.0       0.0\n24372    48034477     17.0       0.0\n\n[24373 rows x 3 columns]",
      "text/html": "<div>\n<style scoped>\n    .dataframe tbody tr th:only-of-type {\n        vertical-align: middle;\n    }\n\n    .dataframe tbody tr th {\n        vertical-align: top;\n    }\n\n    .dataframe thead th {\n        text-align: right;\n    }\n</style>\n<table border=\"1\" class=\"dataframe\">\n  <thead>\n    <tr style=\"text-align: right;\">\n      <th></th>\n      <th>subject_id</th>\n      <th>data.no</th>\n      <th>data.yes</th>\n    </tr>\n  </thead>\n  <tbody>\n    <tr>\n      <th>0</th>\n      <td>47967468</td>\n      <td>18.0</td>\n      <td>2.0</td>\n    </tr>\n    <tr>\n      <th>1</th>\n      <td>47967469</td>\n      <td>19.0</td>\n      <td>0.0</td>\n    </tr>\n    <tr>\n      <th>2</th>\n      <td>47967470</td>\n      <td>20.0</td>\n      <td>0.0</td>\n    </tr>\n    <tr>\n      <th>3</th>\n      <td>47967471</td>\n      <td>20.0</td>\n      <td>0.0</td>\n    </tr>\n    <tr>\n      <th>4</th>\n      <td>47967472</td>\n      <td>18.0</td>\n      <td>0.0</td>\n    </tr>\n    <tr>\n      <th>...</th>\n      <td>...</td>\n      <td>...</td>\n      <td>...</td>\n    </tr>\n    <tr>\n      <th>24368</th>\n      <td>48034473</td>\n      <td>20.0</td>\n      <td>0.0</td>\n    </tr>\n    <tr>\n      <th>24369</th>\n      <td>48034474</td>\n      <td>18.0</td>\n      <td>0.0</td>\n    </tr>\n    <tr>\n      <th>24370</th>\n      <td>48034475</td>\n      <td>18.0</td>\n      <td>0.0</td>\n    </tr>\n    <tr>\n      <th>24371</th>\n      <td>48034476</td>\n      <td>18.0</td>\n      <td>0.0</td>\n    </tr>\n    <tr>\n      <th>24372</th>\n      <td>48034477</td>\n      <td>17.0</td>\n      <td>0.0</td>\n    </tr>\n  </tbody>\n</table>\n<p>24373 rows × 3 columns</p>\n</div>"
     },
     "execution_count": 23,
     "metadata": {},
     "output_type": "execute_result"
    }
   ],
   "source": [
    "df_panoptes_question = pd.read_csv(config[\"panoptes_question\"])\n",
    "df_panoptes_question"
   ]
  },
  {
   "cell_type": "code",
   "execution_count": 24,
   "id": "bd5b4be03b3480d5",
   "metadata": {
    "collapsed": false,
    "ExecuteTime": {
     "end_time": "2024-04-24T12:36:31.580518Z",
     "start_time": "2024-04-24T12:36:31.515867Z"
    }
   },
   "outputs": [
    {
     "name": "stdout",
     "output_type": "stream",
     "text": [
      "saved /Users/christian/data/zooniverse/2024_04_24_analysis/Iguanas 1st launch/Iguanas 1st launch_method_comparison.csv\n"
     ]
    }
   ],
   "source": [
    "df_comparison.to_csv(config[\"comparison_dataset\"])\n",
    "print(f\"saved {config['comparison_dataset']}\")"
   ]
  },
  {
   "cell_type": "markdown",
   "id": "1b03742f30138251",
   "metadata": {
    "collapsed": false
   },
   "source": [
    "## Join the Expert Dataset for comparison\n",
    "This dataset contains total_counts found by experts. "
   ]
  },
  {
   "cell_type": "code",
   "execution_count": 25,
   "id": "58c41e9cf89044df",
   "metadata": {
    "collapsed": false,
    "ExecuteTime": {
     "end_time": "2024-04-24T12:36:31.616183Z",
     "start_time": "2024-04-24T12:36:31.581481Z"
    }
   },
   "outputs": [
    {
     "data": {
      "text/plain": "Empty DataFrame\nColumns: [subspecies, island, site_name, subject_group, image_name, subject_id, presence_absence, count_male-lek, count_male-no-lek, count_others, count_partial, count_total, quality, condition, comment]\nIndex: []",
      "text/html": "<div>\n<style scoped>\n    .dataframe tbody tr th:only-of-type {\n        vertical-align: middle;\n    }\n\n    .dataframe tbody tr th {\n        vertical-align: top;\n    }\n\n    .dataframe thead th {\n        text-align: right;\n    }\n</style>\n<table border=\"1\" class=\"dataframe\">\n  <thead>\n    <tr style=\"text-align: right;\">\n      <th></th>\n      <th>subspecies</th>\n      <th>island</th>\n      <th>site_name</th>\n      <th>subject_group</th>\n      <th>image_name</th>\n      <th>subject_id</th>\n      <th>presence_absence</th>\n      <th>count_male-lek</th>\n      <th>count_male-no-lek</th>\n      <th>count_others</th>\n      <th>count_partial</th>\n      <th>count_total</th>\n      <th>quality</th>\n      <th>condition</th>\n      <th>comment</th>\n    </tr>\n  </thead>\n  <tbody>\n  </tbody>\n</table>\n</div>"
     },
     "execution_count": 25,
     "metadata": {},
     "output_type": "execute_result"
    }
   ],
   "source": [
    "df_expert_count = pd.read_csv(config[\"goldstandard_data\"], sep=\";\")\n",
    "# check what is in there\n",
    "df_expert_count[df_expert_count.image_name == \"ESCG02-1_19.jpg\"]"
   ]
  },
  {
   "cell_type": "code",
   "execution_count": 26,
   "id": "99bc381a6542d035",
   "metadata": {
    "collapsed": false,
    "ExecuteTime": {
     "end_time": "2024-04-24T12:36:31.660036Z",
     "start_time": "2024-04-24T12:36:31.617112Z"
    }
   },
   "outputs": [
    {
     "data": {
      "text/plain": "                      site_name subject_group           image_name  \\\n847                    El Miedo          SFM1   SFM01-2-2-3_79.jpg   \n498                    El Miedo          SFM1  SFM01-2-2-1_101.jpg   \n2390  Playa Blanca (Punta Pitt)         SRPB1   SRPB02-2-1_101.jpg   \n849                    El Miedo          SFM1   SFM01-2-2-3_81.jpg   \n260                    El Miedo          SFM1    SFM01-1-2_304.jpg   \n...                         ...           ...                  ...   \n1164                    Loberia          SRL1    SRL01-1-2_229.jpg   \n1161                    Loberia          SRL1    SRL01-1-2_226.jpg   \n1160                    Loberia          SRL1    SRL01-1-2_225.jpg   \n1159                    Loberia          SRL1    SRL01-1-2_224.jpg   \n2732  Playa Blanca (Punta Pitt)         SRPB1    SRPB02-2-3_99.jpg   \n\n      subject_id  count_total  median_count  mean_count  mode_min_count  \\\n847     47970332            0         287.0       287.0           287.0   \n498     47969229            0         160.0       160.0           160.0   \n2390    47987552            0          48.0        48.0            48.0   \n849     47970336            0          25.0        25.0            25.0   \n260     47968437            0          23.0        23.0            23.0   \n...          ...          ...           ...         ...             ...   \n1164    47979779            0           0.0         0.0             0.0   \n1161    47979769            0           0.0         0.0             0.0   \n1160    47979765            0           0.0         0.0             0.0   \n1159    47979761            0           0.0         0.0             0.0   \n2732    47990290            0           0.0         0.0             0.0   \n\n      mode_max_count mode_count  mode_count_avg  users  sum_annotations_count  \\\n847            287.0      [287]           287.0    1.0                  287.0   \n498            160.0      [160]           160.0    1.0                  160.0   \n2390            48.0       [48]            48.0    1.0                   48.0   \n849             25.0       [25]            25.0    1.0                   25.0   \n260             23.0       [23]            23.0    1.0                   23.0   \n...              ...        ...             ...    ...                    ...   \n1164             0.0          0             0.0    0.0                    0.0   \n1161             0.0          0             0.0    0.0                    0.0   \n1160             0.0          0             0.0    0.0                    0.0   \n1159             0.0          0             0.0    0.0                    0.0   \n2732             0.0          0             0.0    0.0                    0.0   \n\n     annotations_count  dbscan_count_sil  HDBSCAN_count  eps  \\\n847              [287]               3.0            1.0  0.0   \n498              [160]               2.0            4.0  0.0   \n2390              [48]               2.0            1.0  0.0   \n849               [25]               2.0            1.0  0.0   \n260               [23]               2.0            1.0  0.0   \n...                ...               ...            ...  ...   \n1164               NaN               0.0            0.0  NaN   \n1161               NaN               0.0            0.0  NaN   \n1160               NaN               0.0            0.0  NaN   \n1159               NaN               0.0            0.0  NaN   \n2732               NaN               0.0            0.0  NaN   \n\n      min_cluster_size  max_cluster_size  noise_points  \n847                5.0               0.0          33.0  \n498                5.0               0.0          30.0  \n2390               5.0               0.0          34.0  \n849                5.0               0.0          20.0  \n260                5.0               0.0          18.0  \n...                ...               ...           ...  \n1164               NaN               NaN           NaN  \n1161               NaN               NaN           NaN  \n1160               NaN               NaN           NaN  \n1159               NaN               NaN           NaN  \n2732               NaN               NaN           NaN  \n\n[2733 rows x 20 columns]",
      "text/html": "<div>\n<style scoped>\n    .dataframe tbody tr th:only-of-type {\n        vertical-align: middle;\n    }\n\n    .dataframe tbody tr th {\n        vertical-align: top;\n    }\n\n    .dataframe thead th {\n        text-align: right;\n    }\n</style>\n<table border=\"1\" class=\"dataframe\">\n  <thead>\n    <tr style=\"text-align: right;\">\n      <th></th>\n      <th>site_name</th>\n      <th>subject_group</th>\n      <th>image_name</th>\n      <th>subject_id</th>\n      <th>count_total</th>\n      <th>median_count</th>\n      <th>mean_count</th>\n      <th>mode_min_count</th>\n      <th>mode_max_count</th>\n      <th>mode_count</th>\n      <th>mode_count_avg</th>\n      <th>users</th>\n      <th>sum_annotations_count</th>\n      <th>annotations_count</th>\n      <th>dbscan_count_sil</th>\n      <th>HDBSCAN_count</th>\n      <th>eps</th>\n      <th>min_cluster_size</th>\n      <th>max_cluster_size</th>\n      <th>noise_points</th>\n    </tr>\n  </thead>\n  <tbody>\n    <tr>\n      <th>847</th>\n      <td>El Miedo</td>\n      <td>SFM1</td>\n      <td>SFM01-2-2-3_79.jpg</td>\n      <td>47970332</td>\n      <td>0</td>\n      <td>287.0</td>\n      <td>287.0</td>\n      <td>287.0</td>\n      <td>287.0</td>\n      <td>[287]</td>\n      <td>287.0</td>\n      <td>1.0</td>\n      <td>287.0</td>\n      <td>[287]</td>\n      <td>3.0</td>\n      <td>1.0</td>\n      <td>0.0</td>\n      <td>5.0</td>\n      <td>0.0</td>\n      <td>33.0</td>\n    </tr>\n    <tr>\n      <th>498</th>\n      <td>El Miedo</td>\n      <td>SFM1</td>\n      <td>SFM01-2-2-1_101.jpg</td>\n      <td>47969229</td>\n      <td>0</td>\n      <td>160.0</td>\n      <td>160.0</td>\n      <td>160.0</td>\n      <td>160.0</td>\n      <td>[160]</td>\n      <td>160.0</td>\n      <td>1.0</td>\n      <td>160.0</td>\n      <td>[160]</td>\n      <td>2.0</td>\n      <td>4.0</td>\n      <td>0.0</td>\n      <td>5.0</td>\n      <td>0.0</td>\n      <td>30.0</td>\n    </tr>\n    <tr>\n      <th>2390</th>\n      <td>Playa Blanca (Punta Pitt)</td>\n      <td>SRPB1</td>\n      <td>SRPB02-2-1_101.jpg</td>\n      <td>47987552</td>\n      <td>0</td>\n      <td>48.0</td>\n      <td>48.0</td>\n      <td>48.0</td>\n      <td>48.0</td>\n      <td>[48]</td>\n      <td>48.0</td>\n      <td>1.0</td>\n      <td>48.0</td>\n      <td>[48]</td>\n      <td>2.0</td>\n      <td>1.0</td>\n      <td>0.0</td>\n      <td>5.0</td>\n      <td>0.0</td>\n      <td>34.0</td>\n    </tr>\n    <tr>\n      <th>849</th>\n      <td>El Miedo</td>\n      <td>SFM1</td>\n      <td>SFM01-2-2-3_81.jpg</td>\n      <td>47970336</td>\n      <td>0</td>\n      <td>25.0</td>\n      <td>25.0</td>\n      <td>25.0</td>\n      <td>25.0</td>\n      <td>[25]</td>\n      <td>25.0</td>\n      <td>1.0</td>\n      <td>25.0</td>\n      <td>[25]</td>\n      <td>2.0</td>\n      <td>1.0</td>\n      <td>0.0</td>\n      <td>5.0</td>\n      <td>0.0</td>\n      <td>20.0</td>\n    </tr>\n    <tr>\n      <th>260</th>\n      <td>El Miedo</td>\n      <td>SFM1</td>\n      <td>SFM01-1-2_304.jpg</td>\n      <td>47968437</td>\n      <td>0</td>\n      <td>23.0</td>\n      <td>23.0</td>\n      <td>23.0</td>\n      <td>23.0</td>\n      <td>[23]</td>\n      <td>23.0</td>\n      <td>1.0</td>\n      <td>23.0</td>\n      <td>[23]</td>\n      <td>2.0</td>\n      <td>1.0</td>\n      <td>0.0</td>\n      <td>5.0</td>\n      <td>0.0</td>\n      <td>18.0</td>\n    </tr>\n    <tr>\n      <th>...</th>\n      <td>...</td>\n      <td>...</td>\n      <td>...</td>\n      <td>...</td>\n      <td>...</td>\n      <td>...</td>\n      <td>...</td>\n      <td>...</td>\n      <td>...</td>\n      <td>...</td>\n      <td>...</td>\n      <td>...</td>\n      <td>...</td>\n      <td>...</td>\n      <td>...</td>\n      <td>...</td>\n      <td>...</td>\n      <td>...</td>\n      <td>...</td>\n      <td>...</td>\n    </tr>\n    <tr>\n      <th>1164</th>\n      <td>Loberia</td>\n      <td>SRL1</td>\n      <td>SRL01-1-2_229.jpg</td>\n      <td>47979779</td>\n      <td>0</td>\n      <td>0.0</td>\n      <td>0.0</td>\n      <td>0.0</td>\n      <td>0.0</td>\n      <td>0</td>\n      <td>0.0</td>\n      <td>0.0</td>\n      <td>0.0</td>\n      <td>NaN</td>\n      <td>0.0</td>\n      <td>0.0</td>\n      <td>NaN</td>\n      <td>NaN</td>\n      <td>NaN</td>\n      <td>NaN</td>\n    </tr>\n    <tr>\n      <th>1161</th>\n      <td>Loberia</td>\n      <td>SRL1</td>\n      <td>SRL01-1-2_226.jpg</td>\n      <td>47979769</td>\n      <td>0</td>\n      <td>0.0</td>\n      <td>0.0</td>\n      <td>0.0</td>\n      <td>0.0</td>\n      <td>0</td>\n      <td>0.0</td>\n      <td>0.0</td>\n      <td>0.0</td>\n      <td>NaN</td>\n      <td>0.0</td>\n      <td>0.0</td>\n      <td>NaN</td>\n      <td>NaN</td>\n      <td>NaN</td>\n      <td>NaN</td>\n    </tr>\n    <tr>\n      <th>1160</th>\n      <td>Loberia</td>\n      <td>SRL1</td>\n      <td>SRL01-1-2_225.jpg</td>\n      <td>47979765</td>\n      <td>0</td>\n      <td>0.0</td>\n      <td>0.0</td>\n      <td>0.0</td>\n      <td>0.0</td>\n      <td>0</td>\n      <td>0.0</td>\n      <td>0.0</td>\n      <td>0.0</td>\n      <td>NaN</td>\n      <td>0.0</td>\n      <td>0.0</td>\n      <td>NaN</td>\n      <td>NaN</td>\n      <td>NaN</td>\n      <td>NaN</td>\n    </tr>\n    <tr>\n      <th>1159</th>\n      <td>Loberia</td>\n      <td>SRL1</td>\n      <td>SRL01-1-2_224.jpg</td>\n      <td>47979761</td>\n      <td>0</td>\n      <td>0.0</td>\n      <td>0.0</td>\n      <td>0.0</td>\n      <td>0.0</td>\n      <td>0</td>\n      <td>0.0</td>\n      <td>0.0</td>\n      <td>0.0</td>\n      <td>NaN</td>\n      <td>0.0</td>\n      <td>0.0</td>\n      <td>NaN</td>\n      <td>NaN</td>\n      <td>NaN</td>\n      <td>NaN</td>\n    </tr>\n    <tr>\n      <th>2732</th>\n      <td>Playa Blanca (Punta Pitt)</td>\n      <td>SRPB1</td>\n      <td>SRPB02-2-3_99.jpg</td>\n      <td>47990290</td>\n      <td>0</td>\n      <td>0.0</td>\n      <td>0.0</td>\n      <td>0.0</td>\n      <td>0.0</td>\n      <td>0</td>\n      <td>0.0</td>\n      <td>0.0</td>\n      <td>0.0</td>\n      <td>NaN</td>\n      <td>0.0</td>\n      <td>0.0</td>\n      <td>NaN</td>\n      <td>NaN</td>\n      <td>NaN</td>\n      <td>NaN</td>\n    </tr>\n  </tbody>\n</table>\n<p>2733 rows × 20 columns</p>\n</div>"
     },
     "execution_count": 26,
     "metadata": {},
     "output_type": "execute_result"
    }
   ],
   "source": [
    "## join the gold standard data to the basic stats\n",
    "df_comparison_expert = df_expert_count[[\"site_name\", \"subject_group\", \"image_name\", \"subject_id\", \"count_total\"]].merge(df_comparison.drop([\"image_name\"], axis=1), on='subject_id', how='left')\n",
    "\n",
    "columns_to_fill = ['median_count', 'mean_count', 'mode_min_count', 'mode_max_count',\n",
    "       'mode_count', 'mode_count_avg', 'users', 'sum_annotations_count',\n",
    "        'dbscan_count_sil', 'HDBSCAN_count']\n",
    "df_comparison_expert[columns_to_fill] = df_comparison_expert[columns_to_fill].fillna(0)\n",
    "\n",
    "df_comparison_expert.sort_values(by=\"median_count\", ascending=False)"
   ]
  },
  {
   "cell_type": "code",
   "execution_count": 27,
   "id": "6e1dc7892a535ec9",
   "metadata": {
    "collapsed": false,
    "ExecuteTime": {
     "end_time": "2024-04-24T12:36:31.701621Z",
     "start_time": "2024-04-24T12:36:31.661089Z"
    }
   },
   "outputs": [
    {
     "name": "stdout",
     "output_type": "stream",
     "text": [
      "df_comparison_expert: /Users/christian/data/zooniverse/2024_04_24_analysis/Iguanas 1st launch/Iguanas 1st launch_method_comparison_expert.csv\n"
     ]
    }
   ],
   "source": [
    "print(f\"df_comparison_expert: {config['comparison_dataset_expert']}\")\n",
    "df_comparison_expert.to_csv(config[\"comparison_dataset_expert\"])"
   ]
  },
  {
   "cell_type": "code",
   "execution_count": 28,
   "id": "fcb14b5d4cf4e1f0",
   "metadata": {
    "collapsed": false,
    "ExecuteTime": {
     "end_time": "2024-04-24T12:36:31.743949Z",
     "start_time": "2024-04-24T12:36:31.702658Z"
    }
   },
   "outputs": [
    {
     "data": {
      "text/plain": "                      site_name subject_group           image_name  \\\n0                      El Miedo          SFM1  SFM01-2-2-2_282.jpg   \n1                      El Miedo          SFM1  SFM01-2-2-1_344.jpg   \n2                      El Miedo          SFM1  SFM01-2-2-2_270.jpg   \n3                      El Miedo          SFM1  SFM01-2-2-2_289.jpg   \n4                      El Miedo          SFM1  SFM01-2-2-2_291.jpg   \n...                         ...           ...                  ...   \n2728  Playa Blanca (Punta Pitt)         SRPB1    SRPB02-2-3_95.jpg   \n2729  Playa Blanca (Punta Pitt)         SRPB1    SRPB02-2-3_96.jpg   \n2730  Playa Blanca (Punta Pitt)         SRPB1    SRPB02-2-3_97.jpg   \n2731  Playa Blanca (Punta Pitt)         SRPB1    SRPB02-2-3_98.jpg   \n2732  Playa Blanca (Punta Pitt)         SRPB1    SRPB02-2-3_99.jpg   \n\n      subject_id  count_total  median_count  mean_count  mode_min_count  \\\n0       47969795            2           2.0         2.0             1.0   \n1       47969531            4           1.0         1.7             1.0   \n2       47969760            0           0.0         0.0             0.0   \n3       47969815            0           1.0         1.0             1.0   \n4       47969821            0           1.0         1.0             1.0   \n...          ...          ...           ...         ...             ...   \n2728    47990261            0           0.0         0.0             0.0   \n2729    47990268            0           0.0         0.0             0.0   \n2730    47990280            0           0.0         0.0             0.0   \n2731    47990285            0           0.0         0.0             0.0   \n2732    47990290            0           0.0         0.0             0.0   \n\n      mode_max_count mode_count  ...  sum_annotations_count  \\\n0                3.0  [1, 2, 3]  ...                    6.0   \n1                1.0        [1]  ...                   17.0   \n2                0.0          0  ...                    0.0   \n3                1.0        [1]  ...                    1.0   \n4                1.0        [1]  ...                    1.0   \n...              ...        ...  ...                    ...   \n2728             0.0          0  ...                    0.0   \n2729             0.0          0  ...                    0.0   \n2730             0.0          0  ...                    0.0   \n2731             0.0          0  ...                    0.0   \n2732             0.0          0  ...                    0.0   \n\n                   annotations_count  dbscan_count_sil HDBSCAN_count  eps  \\\n0                          [1, 2, 3]               1.0           1.0  0.0   \n1     [1, 1, 1, 1, 1, 1, 1, 3, 3, 4]               3.0           1.0  0.0   \n2                                NaN               0.0           0.0  NaN   \n3                                [1]               0.0           0.0  0.0   \n4                                [1]               0.0           0.0  0.0   \n...                              ...               ...           ...  ...   \n2728                             NaN               0.0           0.0  NaN   \n2729                             NaN               0.0           0.0  NaN   \n2730                             NaN               0.0           0.0  NaN   \n2731                             NaN               0.0           0.0  NaN   \n2732                             NaN               0.0           0.0  NaN   \n\n      min_cluster_size  max_cluster_size  noise_points  data.no  data.yes  \n0                  5.0               0.0           1.0     14.0       5.0  \n1                  5.0               0.0          12.0      7.0      12.0  \n2                  NaN               NaN           NaN     19.0       0.0  \n3                  0.0               0.0           0.0     15.0       2.0  \n4                  0.0               0.0           0.0     16.0       1.0  \n...                ...               ...           ...      ...       ...  \n2728               NaN               NaN           NaN     19.0       0.0  \n2729               NaN               NaN           NaN     18.0       0.0  \n2730               NaN               NaN           NaN     16.0       0.0  \n2731               NaN               NaN           NaN     21.0       0.0  \n2732               NaN               NaN           NaN     18.0       0.0  \n\n[2733 rows x 22 columns]",
      "text/html": "<div>\n<style scoped>\n    .dataframe tbody tr th:only-of-type {\n        vertical-align: middle;\n    }\n\n    .dataframe tbody tr th {\n        vertical-align: top;\n    }\n\n    .dataframe thead th {\n        text-align: right;\n    }\n</style>\n<table border=\"1\" class=\"dataframe\">\n  <thead>\n    <tr style=\"text-align: right;\">\n      <th></th>\n      <th>site_name</th>\n      <th>subject_group</th>\n      <th>image_name</th>\n      <th>subject_id</th>\n      <th>count_total</th>\n      <th>median_count</th>\n      <th>mean_count</th>\n      <th>mode_min_count</th>\n      <th>mode_max_count</th>\n      <th>mode_count</th>\n      <th>...</th>\n      <th>sum_annotations_count</th>\n      <th>annotations_count</th>\n      <th>dbscan_count_sil</th>\n      <th>HDBSCAN_count</th>\n      <th>eps</th>\n      <th>min_cluster_size</th>\n      <th>max_cluster_size</th>\n      <th>noise_points</th>\n      <th>data.no</th>\n      <th>data.yes</th>\n    </tr>\n  </thead>\n  <tbody>\n    <tr>\n      <th>0</th>\n      <td>El Miedo</td>\n      <td>SFM1</td>\n      <td>SFM01-2-2-2_282.jpg</td>\n      <td>47969795</td>\n      <td>2</td>\n      <td>2.0</td>\n      <td>2.0</td>\n      <td>1.0</td>\n      <td>3.0</td>\n      <td>[1, 2, 3]</td>\n      <td>...</td>\n      <td>6.0</td>\n      <td>[1, 2, 3]</td>\n      <td>1.0</td>\n      <td>1.0</td>\n      <td>0.0</td>\n      <td>5.0</td>\n      <td>0.0</td>\n      <td>1.0</td>\n      <td>14.0</td>\n      <td>5.0</td>\n    </tr>\n    <tr>\n      <th>1</th>\n      <td>El Miedo</td>\n      <td>SFM1</td>\n      <td>SFM01-2-2-1_344.jpg</td>\n      <td>47969531</td>\n      <td>4</td>\n      <td>1.0</td>\n      <td>1.7</td>\n      <td>1.0</td>\n      <td>1.0</td>\n      <td>[1]</td>\n      <td>...</td>\n      <td>17.0</td>\n      <td>[1, 1, 1, 1, 1, 1, 1, 3, 3, 4]</td>\n      <td>3.0</td>\n      <td>1.0</td>\n      <td>0.0</td>\n      <td>5.0</td>\n      <td>0.0</td>\n      <td>12.0</td>\n      <td>7.0</td>\n      <td>12.0</td>\n    </tr>\n    <tr>\n      <th>2</th>\n      <td>El Miedo</td>\n      <td>SFM1</td>\n      <td>SFM01-2-2-2_270.jpg</td>\n      <td>47969760</td>\n      <td>0</td>\n      <td>0.0</td>\n      <td>0.0</td>\n      <td>0.0</td>\n      <td>0.0</td>\n      <td>0</td>\n      <td>...</td>\n      <td>0.0</td>\n      <td>NaN</td>\n      <td>0.0</td>\n      <td>0.0</td>\n      <td>NaN</td>\n      <td>NaN</td>\n      <td>NaN</td>\n      <td>NaN</td>\n      <td>19.0</td>\n      <td>0.0</td>\n    </tr>\n    <tr>\n      <th>3</th>\n      <td>El Miedo</td>\n      <td>SFM1</td>\n      <td>SFM01-2-2-2_289.jpg</td>\n      <td>47969815</td>\n      <td>0</td>\n      <td>1.0</td>\n      <td>1.0</td>\n      <td>1.0</td>\n      <td>1.0</td>\n      <td>[1]</td>\n      <td>...</td>\n      <td>1.0</td>\n      <td>[1]</td>\n      <td>0.0</td>\n      <td>0.0</td>\n      <td>0.0</td>\n      <td>0.0</td>\n      <td>0.0</td>\n      <td>0.0</td>\n      <td>15.0</td>\n      <td>2.0</td>\n    </tr>\n    <tr>\n      <th>4</th>\n      <td>El Miedo</td>\n      <td>SFM1</td>\n      <td>SFM01-2-2-2_291.jpg</td>\n      <td>47969821</td>\n      <td>0</td>\n      <td>1.0</td>\n      <td>1.0</td>\n      <td>1.0</td>\n      <td>1.0</td>\n      <td>[1]</td>\n      <td>...</td>\n      <td>1.0</td>\n      <td>[1]</td>\n      <td>0.0</td>\n      <td>0.0</td>\n      <td>0.0</td>\n      <td>0.0</td>\n      <td>0.0</td>\n      <td>0.0</td>\n      <td>16.0</td>\n      <td>1.0</td>\n    </tr>\n    <tr>\n      <th>...</th>\n      <td>...</td>\n      <td>...</td>\n      <td>...</td>\n      <td>...</td>\n      <td>...</td>\n      <td>...</td>\n      <td>...</td>\n      <td>...</td>\n      <td>...</td>\n      <td>...</td>\n      <td>...</td>\n      <td>...</td>\n      <td>...</td>\n      <td>...</td>\n      <td>...</td>\n      <td>...</td>\n      <td>...</td>\n      <td>...</td>\n      <td>...</td>\n      <td>...</td>\n      <td>...</td>\n    </tr>\n    <tr>\n      <th>2728</th>\n      <td>Playa Blanca (Punta Pitt)</td>\n      <td>SRPB1</td>\n      <td>SRPB02-2-3_95.jpg</td>\n      <td>47990261</td>\n      <td>0</td>\n      <td>0.0</td>\n      <td>0.0</td>\n      <td>0.0</td>\n      <td>0.0</td>\n      <td>0</td>\n      <td>...</td>\n      <td>0.0</td>\n      <td>NaN</td>\n      <td>0.0</td>\n      <td>0.0</td>\n      <td>NaN</td>\n      <td>NaN</td>\n      <td>NaN</td>\n      <td>NaN</td>\n      <td>19.0</td>\n      <td>0.0</td>\n    </tr>\n    <tr>\n      <th>2729</th>\n      <td>Playa Blanca (Punta Pitt)</td>\n      <td>SRPB1</td>\n      <td>SRPB02-2-3_96.jpg</td>\n      <td>47990268</td>\n      <td>0</td>\n      <td>0.0</td>\n      <td>0.0</td>\n      <td>0.0</td>\n      <td>0.0</td>\n      <td>0</td>\n      <td>...</td>\n      <td>0.0</td>\n      <td>NaN</td>\n      <td>0.0</td>\n      <td>0.0</td>\n      <td>NaN</td>\n      <td>NaN</td>\n      <td>NaN</td>\n      <td>NaN</td>\n      <td>18.0</td>\n      <td>0.0</td>\n    </tr>\n    <tr>\n      <th>2730</th>\n      <td>Playa Blanca (Punta Pitt)</td>\n      <td>SRPB1</td>\n      <td>SRPB02-2-3_97.jpg</td>\n      <td>47990280</td>\n      <td>0</td>\n      <td>0.0</td>\n      <td>0.0</td>\n      <td>0.0</td>\n      <td>0.0</td>\n      <td>0</td>\n      <td>...</td>\n      <td>0.0</td>\n      <td>NaN</td>\n      <td>0.0</td>\n      <td>0.0</td>\n      <td>NaN</td>\n      <td>NaN</td>\n      <td>NaN</td>\n      <td>NaN</td>\n      <td>16.0</td>\n      <td>0.0</td>\n    </tr>\n    <tr>\n      <th>2731</th>\n      <td>Playa Blanca (Punta Pitt)</td>\n      <td>SRPB1</td>\n      <td>SRPB02-2-3_98.jpg</td>\n      <td>47990285</td>\n      <td>0</td>\n      <td>0.0</td>\n      <td>0.0</td>\n      <td>0.0</td>\n      <td>0.0</td>\n      <td>0</td>\n      <td>...</td>\n      <td>0.0</td>\n      <td>NaN</td>\n      <td>0.0</td>\n      <td>0.0</td>\n      <td>NaN</td>\n      <td>NaN</td>\n      <td>NaN</td>\n      <td>NaN</td>\n      <td>21.0</td>\n      <td>0.0</td>\n    </tr>\n    <tr>\n      <th>2732</th>\n      <td>Playa Blanca (Punta Pitt)</td>\n      <td>SRPB1</td>\n      <td>SRPB02-2-3_99.jpg</td>\n      <td>47990290</td>\n      <td>0</td>\n      <td>0.0</td>\n      <td>0.0</td>\n      <td>0.0</td>\n      <td>0.0</td>\n      <td>0</td>\n      <td>...</td>\n      <td>0.0</td>\n      <td>NaN</td>\n      <td>0.0</td>\n      <td>0.0</td>\n      <td>NaN</td>\n      <td>NaN</td>\n      <td>NaN</td>\n      <td>NaN</td>\n      <td>18.0</td>\n      <td>0.0</td>\n    </tr>\n  </tbody>\n</table>\n<p>2733 rows × 22 columns</p>\n</div>"
     },
     "execution_count": 28,
     "metadata": {},
     "output_type": "execute_result"
    }
   ],
   "source": [
    "df_comparison_yes_no = df_comparison_expert.merge(df_panoptes_question, on=\"subject_id\", how=\"left\")\n",
    "df_comparison_yes_no"
   ]
  },
  {
   "cell_type": "code",
   "execution_count": 29,
   "id": "830a5b4d94ba8acd",
   "metadata": {
    "collapsed": false,
    "ExecuteTime": {
     "end_time": "2024-04-24T12:36:31.807172Z",
     "start_time": "2024-04-24T12:36:31.745363Z"
    }
   },
   "outputs": [
    {
     "data": {
      "text/plain": "                      site_name subject_group           image_name  \\\n0                      El Miedo          SFM1  SFM01-2-2-2_282.jpg   \n1                      El Miedo          SFM1  SFM01-2-2-1_344.jpg   \n2                      El Miedo          SFM1  SFM01-2-2-2_270.jpg   \n3                      El Miedo          SFM1  SFM01-2-2-2_289.jpg   \n4                      El Miedo          SFM1  SFM01-2-2-2_291.jpg   \n...                         ...           ...                  ...   \n2728  Playa Blanca (Punta Pitt)         SRPB1    SRPB02-2-3_95.jpg   \n2729  Playa Blanca (Punta Pitt)         SRPB1    SRPB02-2-3_96.jpg   \n2730  Playa Blanca (Punta Pitt)         SRPB1    SRPB02-2-3_97.jpg   \n2731  Playa Blanca (Punta Pitt)         SRPB1    SRPB02-2-3_98.jpg   \n2732  Playa Blanca (Punta Pitt)         SRPB1    SRPB02-2-3_99.jpg   \n\n      subject_id  count_total  median_count  mean_count  mode_min_count  \\\n0       47969795            2           2.0         2.0             1.0   \n1       47969531            4           1.0         1.7             1.0   \n2       47969760            0           0.0         0.0             0.0   \n3       47969815            0           1.0         1.0             1.0   \n4       47969821            0           1.0         1.0             1.0   \n...          ...          ...           ...         ...             ...   \n2728    47990261            0           0.0         0.0             0.0   \n2729    47990268            0           0.0         0.0             0.0   \n2730    47990280            0           0.0         0.0             0.0   \n2731    47990285            0           0.0         0.0             0.0   \n2732    47990290            0           0.0         0.0             0.0   \n\n      mode_max_count mode_count  ...  sum_annotations_count  \\\n0                3.0  [1, 2, 3]  ...                    6.0   \n1                1.0        [1]  ...                   17.0   \n2                0.0          0  ...                    0.0   \n3                1.0        [1]  ...                    1.0   \n4                1.0        [1]  ...                    1.0   \n...              ...        ...  ...                    ...   \n2728             0.0          0  ...                    0.0   \n2729             0.0          0  ...                    0.0   \n2730             0.0          0  ...                    0.0   \n2731             0.0          0  ...                    0.0   \n2732             0.0          0  ...                    0.0   \n\n                   annotations_count  dbscan_count_sil HDBSCAN_count  eps  \\\n0                          [1, 2, 3]               1.0           1.0  0.0   \n1     [1, 1, 1, 1, 1, 1, 1, 3, 3, 4]               3.0           1.0  0.0   \n2                                NaN               0.0           0.0  NaN   \n3                                [1]               0.0           0.0  0.0   \n4                                [1]               0.0           0.0  0.0   \n...                              ...               ...           ...  ...   \n2728                             NaN               0.0           0.0  NaN   \n2729                             NaN               0.0           0.0  NaN   \n2730                             NaN               0.0           0.0  NaN   \n2731                             NaN               0.0           0.0  NaN   \n2732                             NaN               0.0           0.0  NaN   \n\n      min_cluster_size  max_cluster_size  noise_points  data.no  data.yes  \n0                  5.0               0.0           1.0     14.0       5.0  \n1                  5.0               0.0          12.0      7.0      12.0  \n2                  NaN               NaN           NaN     19.0       0.0  \n3                  0.0               0.0           0.0     15.0       2.0  \n4                  0.0               0.0           0.0     16.0       1.0  \n...                ...               ...           ...      ...       ...  \n2728               NaN               NaN           NaN     19.0       0.0  \n2729               NaN               NaN           NaN     18.0       0.0  \n2730               NaN               NaN           NaN     16.0       0.0  \n2731               NaN               NaN           NaN     21.0       0.0  \n2732               NaN               NaN           NaN     18.0       0.0  \n\n[2733 rows x 22 columns]",
      "text/html": "<div>\n<style scoped>\n    .dataframe tbody tr th:only-of-type {\n        vertical-align: middle;\n    }\n\n    .dataframe tbody tr th {\n        vertical-align: top;\n    }\n\n    .dataframe thead th {\n        text-align: right;\n    }\n</style>\n<table border=\"1\" class=\"dataframe\">\n  <thead>\n    <tr style=\"text-align: right;\">\n      <th></th>\n      <th>site_name</th>\n      <th>subject_group</th>\n      <th>image_name</th>\n      <th>subject_id</th>\n      <th>count_total</th>\n      <th>median_count</th>\n      <th>mean_count</th>\n      <th>mode_min_count</th>\n      <th>mode_max_count</th>\n      <th>mode_count</th>\n      <th>...</th>\n      <th>sum_annotations_count</th>\n      <th>annotations_count</th>\n      <th>dbscan_count_sil</th>\n      <th>HDBSCAN_count</th>\n      <th>eps</th>\n      <th>min_cluster_size</th>\n      <th>max_cluster_size</th>\n      <th>noise_points</th>\n      <th>data.no</th>\n      <th>data.yes</th>\n    </tr>\n  </thead>\n  <tbody>\n    <tr>\n      <th>0</th>\n      <td>El Miedo</td>\n      <td>SFM1</td>\n      <td>SFM01-2-2-2_282.jpg</td>\n      <td>47969795</td>\n      <td>2</td>\n      <td>2.0</td>\n      <td>2.0</td>\n      <td>1.0</td>\n      <td>3.0</td>\n      <td>[1, 2, 3]</td>\n      <td>...</td>\n      <td>6.0</td>\n      <td>[1, 2, 3]</td>\n      <td>1.0</td>\n      <td>1.0</td>\n      <td>0.0</td>\n      <td>5.0</td>\n      <td>0.0</td>\n      <td>1.0</td>\n      <td>14.0</td>\n      <td>5.0</td>\n    </tr>\n    <tr>\n      <th>1</th>\n      <td>El Miedo</td>\n      <td>SFM1</td>\n      <td>SFM01-2-2-1_344.jpg</td>\n      <td>47969531</td>\n      <td>4</td>\n      <td>1.0</td>\n      <td>1.7</td>\n      <td>1.0</td>\n      <td>1.0</td>\n      <td>[1]</td>\n      <td>...</td>\n      <td>17.0</td>\n      <td>[1, 1, 1, 1, 1, 1, 1, 3, 3, 4]</td>\n      <td>3.0</td>\n      <td>1.0</td>\n      <td>0.0</td>\n      <td>5.0</td>\n      <td>0.0</td>\n      <td>12.0</td>\n      <td>7.0</td>\n      <td>12.0</td>\n    </tr>\n    <tr>\n      <th>2</th>\n      <td>El Miedo</td>\n      <td>SFM1</td>\n      <td>SFM01-2-2-2_270.jpg</td>\n      <td>47969760</td>\n      <td>0</td>\n      <td>0.0</td>\n      <td>0.0</td>\n      <td>0.0</td>\n      <td>0.0</td>\n      <td>0</td>\n      <td>...</td>\n      <td>0.0</td>\n      <td>NaN</td>\n      <td>0.0</td>\n      <td>0.0</td>\n      <td>NaN</td>\n      <td>NaN</td>\n      <td>NaN</td>\n      <td>NaN</td>\n      <td>19.0</td>\n      <td>0.0</td>\n    </tr>\n    <tr>\n      <th>3</th>\n      <td>El Miedo</td>\n      <td>SFM1</td>\n      <td>SFM01-2-2-2_289.jpg</td>\n      <td>47969815</td>\n      <td>0</td>\n      <td>1.0</td>\n      <td>1.0</td>\n      <td>1.0</td>\n      <td>1.0</td>\n      <td>[1]</td>\n      <td>...</td>\n      <td>1.0</td>\n      <td>[1]</td>\n      <td>0.0</td>\n      <td>0.0</td>\n      <td>0.0</td>\n      <td>0.0</td>\n      <td>0.0</td>\n      <td>0.0</td>\n      <td>15.0</td>\n      <td>2.0</td>\n    </tr>\n    <tr>\n      <th>4</th>\n      <td>El Miedo</td>\n      <td>SFM1</td>\n      <td>SFM01-2-2-2_291.jpg</td>\n      <td>47969821</td>\n      <td>0</td>\n      <td>1.0</td>\n      <td>1.0</td>\n      <td>1.0</td>\n      <td>1.0</td>\n      <td>[1]</td>\n      <td>...</td>\n      <td>1.0</td>\n      <td>[1]</td>\n      <td>0.0</td>\n      <td>0.0</td>\n      <td>0.0</td>\n      <td>0.0</td>\n      <td>0.0</td>\n      <td>0.0</td>\n      <td>16.0</td>\n      <td>1.0</td>\n    </tr>\n    <tr>\n      <th>...</th>\n      <td>...</td>\n      <td>...</td>\n      <td>...</td>\n      <td>...</td>\n      <td>...</td>\n      <td>...</td>\n      <td>...</td>\n      <td>...</td>\n      <td>...</td>\n      <td>...</td>\n      <td>...</td>\n      <td>...</td>\n      <td>...</td>\n      <td>...</td>\n      <td>...</td>\n      <td>...</td>\n      <td>...</td>\n      <td>...</td>\n      <td>...</td>\n      <td>...</td>\n      <td>...</td>\n    </tr>\n    <tr>\n      <th>2728</th>\n      <td>Playa Blanca (Punta Pitt)</td>\n      <td>SRPB1</td>\n      <td>SRPB02-2-3_95.jpg</td>\n      <td>47990261</td>\n      <td>0</td>\n      <td>0.0</td>\n      <td>0.0</td>\n      <td>0.0</td>\n      <td>0.0</td>\n      <td>0</td>\n      <td>...</td>\n      <td>0.0</td>\n      <td>NaN</td>\n      <td>0.0</td>\n      <td>0.0</td>\n      <td>NaN</td>\n      <td>NaN</td>\n      <td>NaN</td>\n      <td>NaN</td>\n      <td>19.0</td>\n      <td>0.0</td>\n    </tr>\n    <tr>\n      <th>2729</th>\n      <td>Playa Blanca (Punta Pitt)</td>\n      <td>SRPB1</td>\n      <td>SRPB02-2-3_96.jpg</td>\n      <td>47990268</td>\n      <td>0</td>\n      <td>0.0</td>\n      <td>0.0</td>\n      <td>0.0</td>\n      <td>0.0</td>\n      <td>0</td>\n      <td>...</td>\n      <td>0.0</td>\n      <td>NaN</td>\n      <td>0.0</td>\n      <td>0.0</td>\n      <td>NaN</td>\n      <td>NaN</td>\n      <td>NaN</td>\n      <td>NaN</td>\n      <td>18.0</td>\n      <td>0.0</td>\n    </tr>\n    <tr>\n      <th>2730</th>\n      <td>Playa Blanca (Punta Pitt)</td>\n      <td>SRPB1</td>\n      <td>SRPB02-2-3_97.jpg</td>\n      <td>47990280</td>\n      <td>0</td>\n      <td>0.0</td>\n      <td>0.0</td>\n      <td>0.0</td>\n      <td>0.0</td>\n      <td>0</td>\n      <td>...</td>\n      <td>0.0</td>\n      <td>NaN</td>\n      <td>0.0</td>\n      <td>0.0</td>\n      <td>NaN</td>\n      <td>NaN</td>\n      <td>NaN</td>\n      <td>NaN</td>\n      <td>16.0</td>\n      <td>0.0</td>\n    </tr>\n    <tr>\n      <th>2731</th>\n      <td>Playa Blanca (Punta Pitt)</td>\n      <td>SRPB1</td>\n      <td>SRPB02-2-3_98.jpg</td>\n      <td>47990285</td>\n      <td>0</td>\n      <td>0.0</td>\n      <td>0.0</td>\n      <td>0.0</td>\n      <td>0.0</td>\n      <td>0</td>\n      <td>...</td>\n      <td>0.0</td>\n      <td>NaN</td>\n      <td>0.0</td>\n      <td>0.0</td>\n      <td>NaN</td>\n      <td>NaN</td>\n      <td>NaN</td>\n      <td>NaN</td>\n      <td>21.0</td>\n      <td>0.0</td>\n    </tr>\n    <tr>\n      <th>2732</th>\n      <td>Playa Blanca (Punta Pitt)</td>\n      <td>SRPB1</td>\n      <td>SRPB02-2-3_99.jpg</td>\n      <td>47990290</td>\n      <td>0</td>\n      <td>0.0</td>\n      <td>0.0</td>\n      <td>0.0</td>\n      <td>0.0</td>\n      <td>0</td>\n      <td>...</td>\n      <td>0.0</td>\n      <td>NaN</td>\n      <td>0.0</td>\n      <td>0.0</td>\n      <td>NaN</td>\n      <td>NaN</td>\n      <td>NaN</td>\n      <td>NaN</td>\n      <td>18.0</td>\n      <td>0.0</td>\n    </tr>\n  </tbody>\n</table>\n<p>2733 rows × 22 columns</p>\n</div>"
     },
     "execution_count": 29,
     "metadata": {},
     "output_type": "execute_result"
    }
   ],
   "source": [
    "df_comparison_yes_no.to_csv(config[\"comparison_dataset_yes_no\"])\n",
    "df_comparison_yes_no"
   ]
  },
  {
   "cell_type": "markdown",
   "id": "1866104643b4427f",
   "metadata": {
    "collapsed": false
   },
   "source": [
    "# A look into the results"
   ]
  },
  {
   "cell_type": "markdown",
   "id": "683ea0eaf795e5ff",
   "metadata": {
    "collapsed": false
   },
   "source": [
    "## The sum of the clustering\n",
    "What is the sum of the methods"
   ]
  },
  {
   "cell_type": "code",
   "execution_count": 30,
   "id": "a7f64204-b9a3-49ca-a916-b8efd9303560",
   "metadata": {
    "ExecuteTime": {
     "end_time": "2024-04-24T12:36:31.851516Z",
     "start_time": "2024-04-24T12:36:31.808180Z"
    }
   },
   "outputs": [
    {
     "data": {
      "text/plain": "                      site_name subject_group           image_name  \\\n0                      El Miedo          SFM1  SFM01-2-2-2_282.jpg   \n1                      El Miedo          SFM1  SFM01-2-2-1_344.jpg   \n5                      El Miedo          SFM1  SFM01-2-2-2_293.jpg   \n22                     El Miedo          SFM1    SFM01-1-1_114.jpg   \n60                     El Miedo          SFM1    SFM01-1-1_154.jpg   \n...                         ...           ...                  ...   \n2445  Playa Blanca (Punta Pitt)         SRPB1    SRPB02-2-1_67.jpg   \n2506  Playa Blanca (Punta Pitt)         SRPB1   SRPB02-2-2_143.jpg   \n2516  Playa Blanca (Punta Pitt)         SRPB1   SRPB02-2-2_153.jpg   \n2524  Playa Blanca (Punta Pitt)         SRPB1   SRPB02-2-2_161.jpg   \n2670  Playa Blanca (Punta Pitt)         SRPB1   SRPB02-2-3_157.jpg   \n\n      subject_id  count_total  median_count  mean_count  mode_min_count  \\\n0       47969795            2           2.0        2.00             1.0   \n1       47969531            4           1.0        1.70             1.0   \n5       47969828            7           2.0        2.57             1.0   \n22      47967876            1           1.0        1.44             1.0   \n60      47967959            1           1.0        1.00             1.0   \n...          ...          ...           ...         ...             ...   \n2445    47987920            1           1.0        1.07             1.0   \n2506    47988474            4           4.0        3.89             4.0   \n2516    47988580            1           1.0        1.00             1.0   \n2524    47988636            1           1.0        1.00             1.0   \n2670    47989826            1           1.5        1.83             1.0   \n\n      mode_max_count mode_count  ...  sum_annotations_count  \\\n0                3.0  [1, 2, 3]  ...                    6.0   \n1                1.0        [1]  ...                   17.0   \n5                1.0        [1]  ...                   36.0   \n22               1.0        [1]  ...                   13.0   \n60               1.0        [1]  ...                   11.0   \n...              ...        ...  ...                    ...   \n2445             1.0        [1]  ...                   15.0   \n2506             4.0        [4]  ...                   35.0   \n2516             1.0        [1]  ...                   10.0   \n2524             1.0        [1]  ...                   10.0   \n2670             1.0        [1]  ...                   11.0   \n\n                               annotations_count  dbscan_count_sil  \\\n0                                      [1, 2, 3]               1.0   \n1                 [1, 1, 1, 1, 1, 1, 1, 3, 3, 4]               3.0   \n5     [1, 1, 1, 1, 1, 1, 2, 2, 3, 3, 3, 4, 5, 8]               3.0   \n22                   [1, 1, 1, 1, 1, 1, 1, 2, 4]               1.0   \n60             [1, 1, 1, 1, 1, 1, 1, 1, 1, 1, 1]               1.0   \n...                                          ...               ...   \n2445  [1, 1, 1, 1, 1, 1, 1, 1, 1, 1, 1, 1, 1, 2]               1.0   \n2506                 [2, 3, 3, 4, 4, 4, 4, 5, 6]               4.0   \n2516              [1, 1, 1, 1, 1, 1, 1, 1, 1, 1]               0.0   \n2524              [1, 1, 1, 1, 1, 1, 1, 1, 1, 1]               0.0   \n2670                          [1, 1, 1, 2, 3, 3]               1.0   \n\n     HDBSCAN_count  eps  min_cluster_size  max_cluster_size  noise_points  \\\n0              1.0  0.0               5.0               0.0           1.0   \n1              1.0  0.0               5.0               0.0          12.0   \n5              1.0  0.0               5.0               0.0          31.0   \n22             1.0  0.0               5.0               0.0           8.0   \n60             1.0  0.0               5.0               0.0           6.0   \n...            ...  ...               ...               ...           ...   \n2445           1.0  0.0               5.0               0.0          10.0   \n2506           4.0  0.0               5.0               0.0           2.0   \n2516           1.0  0.0               5.0               0.0           5.0   \n2524           1.0  0.0               5.0               0.0           5.0   \n2670           1.0  0.0               5.0               0.0           6.0   \n\n      data.no  data.yes  \n0        14.0       5.0  \n1         7.0      12.0  \n5         3.0      14.0  \n22        8.0      11.0  \n60        6.0      12.0  \n...       ...       ...  \n2445      2.0      16.0  \n2506     11.0       9.0  \n2516     10.0      10.0  \n2524      9.0      10.0  \n2670     11.0       6.0  \n\n[107 rows x 22 columns]",
      "text/html": "<div>\n<style scoped>\n    .dataframe tbody tr th:only-of-type {\n        vertical-align: middle;\n    }\n\n    .dataframe tbody tr th {\n        vertical-align: top;\n    }\n\n    .dataframe thead th {\n        text-align: right;\n    }\n</style>\n<table border=\"1\" class=\"dataframe\">\n  <thead>\n    <tr style=\"text-align: right;\">\n      <th></th>\n      <th>site_name</th>\n      <th>subject_group</th>\n      <th>image_name</th>\n      <th>subject_id</th>\n      <th>count_total</th>\n      <th>median_count</th>\n      <th>mean_count</th>\n      <th>mode_min_count</th>\n      <th>mode_max_count</th>\n      <th>mode_count</th>\n      <th>...</th>\n      <th>sum_annotations_count</th>\n      <th>annotations_count</th>\n      <th>dbscan_count_sil</th>\n      <th>HDBSCAN_count</th>\n      <th>eps</th>\n      <th>min_cluster_size</th>\n      <th>max_cluster_size</th>\n      <th>noise_points</th>\n      <th>data.no</th>\n      <th>data.yes</th>\n    </tr>\n  </thead>\n  <tbody>\n    <tr>\n      <th>0</th>\n      <td>El Miedo</td>\n      <td>SFM1</td>\n      <td>SFM01-2-2-2_282.jpg</td>\n      <td>47969795</td>\n      <td>2</td>\n      <td>2.0</td>\n      <td>2.00</td>\n      <td>1.0</td>\n      <td>3.0</td>\n      <td>[1, 2, 3]</td>\n      <td>...</td>\n      <td>6.0</td>\n      <td>[1, 2, 3]</td>\n      <td>1.0</td>\n      <td>1.0</td>\n      <td>0.0</td>\n      <td>5.0</td>\n      <td>0.0</td>\n      <td>1.0</td>\n      <td>14.0</td>\n      <td>5.0</td>\n    </tr>\n    <tr>\n      <th>1</th>\n      <td>El Miedo</td>\n      <td>SFM1</td>\n      <td>SFM01-2-2-1_344.jpg</td>\n      <td>47969531</td>\n      <td>4</td>\n      <td>1.0</td>\n      <td>1.70</td>\n      <td>1.0</td>\n      <td>1.0</td>\n      <td>[1]</td>\n      <td>...</td>\n      <td>17.0</td>\n      <td>[1, 1, 1, 1, 1, 1, 1, 3, 3, 4]</td>\n      <td>3.0</td>\n      <td>1.0</td>\n      <td>0.0</td>\n      <td>5.0</td>\n      <td>0.0</td>\n      <td>12.0</td>\n      <td>7.0</td>\n      <td>12.0</td>\n    </tr>\n    <tr>\n      <th>5</th>\n      <td>El Miedo</td>\n      <td>SFM1</td>\n      <td>SFM01-2-2-2_293.jpg</td>\n      <td>47969828</td>\n      <td>7</td>\n      <td>2.0</td>\n      <td>2.57</td>\n      <td>1.0</td>\n      <td>1.0</td>\n      <td>[1]</td>\n      <td>...</td>\n      <td>36.0</td>\n      <td>[1, 1, 1, 1, 1, 1, 2, 2, 3, 3, 3, 4, 5, 8]</td>\n      <td>3.0</td>\n      <td>1.0</td>\n      <td>0.0</td>\n      <td>5.0</td>\n      <td>0.0</td>\n      <td>31.0</td>\n      <td>3.0</td>\n      <td>14.0</td>\n    </tr>\n    <tr>\n      <th>22</th>\n      <td>El Miedo</td>\n      <td>SFM1</td>\n      <td>SFM01-1-1_114.jpg</td>\n      <td>47967876</td>\n      <td>1</td>\n      <td>1.0</td>\n      <td>1.44</td>\n      <td>1.0</td>\n      <td>1.0</td>\n      <td>[1]</td>\n      <td>...</td>\n      <td>13.0</td>\n      <td>[1, 1, 1, 1, 1, 1, 1, 2, 4]</td>\n      <td>1.0</td>\n      <td>1.0</td>\n      <td>0.0</td>\n      <td>5.0</td>\n      <td>0.0</td>\n      <td>8.0</td>\n      <td>8.0</td>\n      <td>11.0</td>\n    </tr>\n    <tr>\n      <th>60</th>\n      <td>El Miedo</td>\n      <td>SFM1</td>\n      <td>SFM01-1-1_154.jpg</td>\n      <td>47967959</td>\n      <td>1</td>\n      <td>1.0</td>\n      <td>1.00</td>\n      <td>1.0</td>\n      <td>1.0</td>\n      <td>[1]</td>\n      <td>...</td>\n      <td>11.0</td>\n      <td>[1, 1, 1, 1, 1, 1, 1, 1, 1, 1, 1]</td>\n      <td>1.0</td>\n      <td>1.0</td>\n      <td>0.0</td>\n      <td>5.0</td>\n      <td>0.0</td>\n      <td>6.0</td>\n      <td>6.0</td>\n      <td>12.0</td>\n    </tr>\n    <tr>\n      <th>...</th>\n      <td>...</td>\n      <td>...</td>\n      <td>...</td>\n      <td>...</td>\n      <td>...</td>\n      <td>...</td>\n      <td>...</td>\n      <td>...</td>\n      <td>...</td>\n      <td>...</td>\n      <td>...</td>\n      <td>...</td>\n      <td>...</td>\n      <td>...</td>\n      <td>...</td>\n      <td>...</td>\n      <td>...</td>\n      <td>...</td>\n      <td>...</td>\n      <td>...</td>\n      <td>...</td>\n    </tr>\n    <tr>\n      <th>2445</th>\n      <td>Playa Blanca (Punta Pitt)</td>\n      <td>SRPB1</td>\n      <td>SRPB02-2-1_67.jpg</td>\n      <td>47987920</td>\n      <td>1</td>\n      <td>1.0</td>\n      <td>1.07</td>\n      <td>1.0</td>\n      <td>1.0</td>\n      <td>[1]</td>\n      <td>...</td>\n      <td>15.0</td>\n      <td>[1, 1, 1, 1, 1, 1, 1, 1, 1, 1, 1, 1, 1, 2]</td>\n      <td>1.0</td>\n      <td>1.0</td>\n      <td>0.0</td>\n      <td>5.0</td>\n      <td>0.0</td>\n      <td>10.0</td>\n      <td>2.0</td>\n      <td>16.0</td>\n    </tr>\n    <tr>\n      <th>2506</th>\n      <td>Playa Blanca (Punta Pitt)</td>\n      <td>SRPB1</td>\n      <td>SRPB02-2-2_143.jpg</td>\n      <td>47988474</td>\n      <td>4</td>\n      <td>4.0</td>\n      <td>3.89</td>\n      <td>4.0</td>\n      <td>4.0</td>\n      <td>[4]</td>\n      <td>...</td>\n      <td>35.0</td>\n      <td>[2, 3, 3, 4, 4, 4, 4, 5, 6]</td>\n      <td>4.0</td>\n      <td>4.0</td>\n      <td>0.0</td>\n      <td>5.0</td>\n      <td>0.0</td>\n      <td>2.0</td>\n      <td>11.0</td>\n      <td>9.0</td>\n    </tr>\n    <tr>\n      <th>2516</th>\n      <td>Playa Blanca (Punta Pitt)</td>\n      <td>SRPB1</td>\n      <td>SRPB02-2-2_153.jpg</td>\n      <td>47988580</td>\n      <td>1</td>\n      <td>1.0</td>\n      <td>1.00</td>\n      <td>1.0</td>\n      <td>1.0</td>\n      <td>[1]</td>\n      <td>...</td>\n      <td>10.0</td>\n      <td>[1, 1, 1, 1, 1, 1, 1, 1, 1, 1]</td>\n      <td>0.0</td>\n      <td>1.0</td>\n      <td>0.0</td>\n      <td>5.0</td>\n      <td>0.0</td>\n      <td>5.0</td>\n      <td>10.0</td>\n      <td>10.0</td>\n    </tr>\n    <tr>\n      <th>2524</th>\n      <td>Playa Blanca (Punta Pitt)</td>\n      <td>SRPB1</td>\n      <td>SRPB02-2-2_161.jpg</td>\n      <td>47988636</td>\n      <td>1</td>\n      <td>1.0</td>\n      <td>1.00</td>\n      <td>1.0</td>\n      <td>1.0</td>\n      <td>[1]</td>\n      <td>...</td>\n      <td>10.0</td>\n      <td>[1, 1, 1, 1, 1, 1, 1, 1, 1, 1]</td>\n      <td>0.0</td>\n      <td>1.0</td>\n      <td>0.0</td>\n      <td>5.0</td>\n      <td>0.0</td>\n      <td>5.0</td>\n      <td>9.0</td>\n      <td>10.0</td>\n    </tr>\n    <tr>\n      <th>2670</th>\n      <td>Playa Blanca (Punta Pitt)</td>\n      <td>SRPB1</td>\n      <td>SRPB02-2-3_157.jpg</td>\n      <td>47989826</td>\n      <td>1</td>\n      <td>1.5</td>\n      <td>1.83</td>\n      <td>1.0</td>\n      <td>1.0</td>\n      <td>[1]</td>\n      <td>...</td>\n      <td>11.0</td>\n      <td>[1, 1, 1, 2, 3, 3]</td>\n      <td>1.0</td>\n      <td>1.0</td>\n      <td>0.0</td>\n      <td>5.0</td>\n      <td>0.0</td>\n      <td>6.0</td>\n      <td>11.0</td>\n      <td>6.0</td>\n    </tr>\n  </tbody>\n</table>\n<p>107 rows × 22 columns</p>\n</div>"
     },
     "execution_count": 30,
     "metadata": {},
     "output_type": "execute_result"
    }
   ],
   "source": [
    "df_comparison_yes_no[df_comparison_yes_no[\"data.yes\"] >= 5]"
   ]
  },
  {
   "cell_type": "code",
   "execution_count": 31,
   "id": "2ae2f205858fd9c4",
   "metadata": {
    "collapsed": false,
    "ExecuteTime": {
     "end_time": "2024-04-24T12:36:31.879285Z",
     "start_time": "2024-04-24T12:36:31.852489Z"
    }
   },
   "outputs": [
    {
     "data": {
      "text/plain": "count_total         331.000000\nmedian_count        235.500000\nmean_count          271.410000\nmode_min_count      176.000000\nmode_max_count      243.000000\nmode_count_avg      208.066667\nmode_min_count      176.000000\nmode_max_count      243.000000\ndbscan_count_sil    254.000000\nHDBSCAN_count       245.000000\ndtype: float64"
     },
     "execution_count": 31,
     "metadata": {},
     "output_type": "execute_result"
    }
   ],
   "source": [
    "# Take only the subjects which have more or equal 5 yes votes.\n",
    "df_method_sums = df_comparison_yes_no[df_comparison_yes_no[\"data.yes\"] >= 5][[\"count_total\", \"median_count\", \"mean_count\", \"mode_min_count\", \"mode_max_count\", \"mode_count_avg\", \"mode_min_count\", \"mode_max_count\", \"dbscan_count_sil\", \"HDBSCAN_count\"]].sum()\n",
    "df_method_sums.to_csv(config[\"method_sums\"])\n",
    "df_method_sums"
   ]
  },
  {
   "cell_type": "markdown",
   "id": "88ca320d97a38518",
   "metadata": {
    "collapsed": false
   },
   "source": [
    "## Compare the numbers\n",
    "The counts are only for images which were in the dataset after filtering."
   ]
  },
  {
   "cell_type": "markdown",
   "id": "8f58c29117a907a4",
   "metadata": {
    "collapsed": false
   },
   "source": [
    "### Sum of all the Methods"
   ]
  },
  {
   "cell_type": "code",
   "execution_count": 32,
   "id": "e6a0ba0c34ca129a",
   "metadata": {
    "collapsed": false,
    "ExecuteTime": {
     "end_time": "2024-04-24T12:36:31.906320Z",
     "start_time": "2024-04-24T12:36:31.880349Z"
    }
   },
   "outputs": [
    {
     "name": "stdout",
     "output_type": "stream",
     "text": [
      "Iguanas 1st launch_method_sums.csv\n"
     ]
    },
    {
     "data": {
      "text/plain": "         Unnamed: 0           0\n0       count_total  331.000000\n1      median_count  235.500000\n2        mean_count  271.410000\n3    mode_min_count  176.000000\n4    mode_max_count  243.000000\n5    mode_count_avg  208.066667\n6    mode_min_count  176.000000\n7    mode_max_count  243.000000\n8  dbscan_count_sil  254.000000\n9     HDBSCAN_count  245.000000",
      "text/html": "<div>\n<style scoped>\n    .dataframe tbody tr th:only-of-type {\n        vertical-align: middle;\n    }\n\n    .dataframe tbody tr th {\n        vertical-align: top;\n    }\n\n    .dataframe thead th {\n        text-align: right;\n    }\n</style>\n<table border=\"1\" class=\"dataframe\">\n  <thead>\n    <tr style=\"text-align: right;\">\n      <th></th>\n      <th>Unnamed: 0</th>\n      <th>0</th>\n    </tr>\n  </thead>\n  <tbody>\n    <tr>\n      <th>0</th>\n      <td>count_total</td>\n      <td>331.000000</td>\n    </tr>\n    <tr>\n      <th>1</th>\n      <td>median_count</td>\n      <td>235.500000</td>\n    </tr>\n    <tr>\n      <th>2</th>\n      <td>mean_count</td>\n      <td>271.410000</td>\n    </tr>\n    <tr>\n      <th>3</th>\n      <td>mode_min_count</td>\n      <td>176.000000</td>\n    </tr>\n    <tr>\n      <th>4</th>\n      <td>mode_max_count</td>\n      <td>243.000000</td>\n    </tr>\n    <tr>\n      <th>5</th>\n      <td>mode_count_avg</td>\n      <td>208.066667</td>\n    </tr>\n    <tr>\n      <th>6</th>\n      <td>mode_min_count</td>\n      <td>176.000000</td>\n    </tr>\n    <tr>\n      <th>7</th>\n      <td>mode_max_count</td>\n      <td>243.000000</td>\n    </tr>\n    <tr>\n      <th>8</th>\n      <td>dbscan_count_sil</td>\n      <td>254.000000</td>\n    </tr>\n    <tr>\n      <th>9</th>\n      <td>HDBSCAN_count</td>\n      <td>245.000000</td>\n    </tr>\n  </tbody>\n</table>\n</div>"
     },
     "execution_count": 32,
     "metadata": {},
     "output_type": "execute_result"
    }
   ],
   "source": [
    "print(f\"{config['method_sums'].name}\")\n",
    "df_method_sums = pd.read_csv(config[\"method_sums\"])\n",
    "df_method_sums"
   ]
  },
  {
   "cell_type": "markdown",
   "id": "59e1a0f4ffc4dcd0",
   "metadata": {
    "collapsed": false
   },
   "source": [
    "### Comparison per Image Level"
   ]
  },
  {
   "cell_type": "code",
   "execution_count": 33,
   "id": "b63a639e877e8b4a",
   "metadata": {
    "collapsed": false,
    "ExecuteTime": {
     "end_time": "2024-04-24T12:36:31.958367Z",
     "start_time": "2024-04-24T12:36:31.907769Z"
    }
   },
   "outputs": [
    {
     "name": "stdout",
     "output_type": "stream",
     "text": [
      "load /Users/christian/data/zooniverse/2024_04_24_analysis/Iguanas 1st launch/Iguanas 1st launch_method_comparison.csv\n"
     ]
    },
    {
     "data": {
      "text/plain": "      Unnamed: 0         image_name  subject_id  median_count  mean_count  \\\n0              0     SFB01-3_08.jpg    47967468           1.0         1.0   \n1              1  SFB01-4-1_103.jpg    47967478           1.0         1.0   \n2              2  SFB01-4-1_108.jpg    47967483           1.0         1.0   \n3              3  SFB01-4-1_115.jpg    47967489           1.0         1.0   \n4              4  SFB01-4-1_129.jpg    47967503           1.0         1.0   \n...          ...                ...         ...           ...         ...   \n7849        7849    SRBS03-4_61.jpg    48034465           1.0         1.0   \n7850        7850    SRBS03-4_62.jpg    48034466           5.0         5.0   \n7851        7851    SRBS03-4_63.jpg    48034467           1.0         1.0   \n7852        7852    SRBS03-4_68.jpg    48034470           1.0         1.0   \n7853        7853    SRBS03-4_69.jpg    48034471          10.5        10.5   \n\n      mode_min_count  mode_max_count mode_count  mode_count_avg  users  \\\n0                  1               1        [1]             1.0      2   \n1                  1               1        [1]             1.0      1   \n2                  1               1        [1]             1.0      1   \n3                  1               1        [1]             1.0      1   \n4                  1               1        [1]             1.0      1   \n...              ...             ...        ...             ...    ...   \n7849               1               1        [1]             1.0      2   \n7850               5               5        [5]             5.0      1   \n7851               1               1        [1]             1.0      1   \n7852               1               1        [1]             1.0      1   \n7853               1              20    [1, 20]            10.5      2   \n\n      sum_annotations_count annotations_count  dbscan_count_sil  \\\n0                         2            [1, 1]               0.0   \n1                         1               [1]               0.0   \n2                         1               [1]               0.0   \n3                         1               [1]               0.0   \n4                         1               [1]               0.0   \n...                     ...               ...               ...   \n7849                      2            [1, 1]               0.0   \n7850                      5               [5]               0.0   \n7851                      1               [1]               0.0   \n7852                      1               [1]               0.0   \n7853                     21           [1, 20]               2.0   \n\n      HDBSCAN_count  eps  min_cluster_size  max_cluster_size  noise_points  \n0               0.0  0.0               0.0                 0           0.0  \n1               0.0  0.0               0.0                 0           0.0  \n2               0.0  0.0               0.0                 0           0.0  \n3               0.0  0.0               0.0                 0           0.0  \n4               0.0  0.0               0.0                 0           0.0  \n...             ...  ...               ...               ...           ...  \n7849            0.0  0.0               0.0                 0           0.0  \n7850            1.0  0.0               5.0                 0           0.0  \n7851            0.0  0.0               0.0                 0           0.0  \n7852            0.0  0.0               0.0                 0           0.0  \n7853            1.0  0.0               5.0                 0           8.0  \n\n[7854 rows x 18 columns]",
      "text/html": "<div>\n<style scoped>\n    .dataframe tbody tr th:only-of-type {\n        vertical-align: middle;\n    }\n\n    .dataframe tbody tr th {\n        vertical-align: top;\n    }\n\n    .dataframe thead th {\n        text-align: right;\n    }\n</style>\n<table border=\"1\" class=\"dataframe\">\n  <thead>\n    <tr style=\"text-align: right;\">\n      <th></th>\n      <th>Unnamed: 0</th>\n      <th>image_name</th>\n      <th>subject_id</th>\n      <th>median_count</th>\n      <th>mean_count</th>\n      <th>mode_min_count</th>\n      <th>mode_max_count</th>\n      <th>mode_count</th>\n      <th>mode_count_avg</th>\n      <th>users</th>\n      <th>sum_annotations_count</th>\n      <th>annotations_count</th>\n      <th>dbscan_count_sil</th>\n      <th>HDBSCAN_count</th>\n      <th>eps</th>\n      <th>min_cluster_size</th>\n      <th>max_cluster_size</th>\n      <th>noise_points</th>\n    </tr>\n  </thead>\n  <tbody>\n    <tr>\n      <th>0</th>\n      <td>0</td>\n      <td>SFB01-3_08.jpg</td>\n      <td>47967468</td>\n      <td>1.0</td>\n      <td>1.0</td>\n      <td>1</td>\n      <td>1</td>\n      <td>[1]</td>\n      <td>1.0</td>\n      <td>2</td>\n      <td>2</td>\n      <td>[1, 1]</td>\n      <td>0.0</td>\n      <td>0.0</td>\n      <td>0.0</td>\n      <td>0.0</td>\n      <td>0</td>\n      <td>0.0</td>\n    </tr>\n    <tr>\n      <th>1</th>\n      <td>1</td>\n      <td>SFB01-4-1_103.jpg</td>\n      <td>47967478</td>\n      <td>1.0</td>\n      <td>1.0</td>\n      <td>1</td>\n      <td>1</td>\n      <td>[1]</td>\n      <td>1.0</td>\n      <td>1</td>\n      <td>1</td>\n      <td>[1]</td>\n      <td>0.0</td>\n      <td>0.0</td>\n      <td>0.0</td>\n      <td>0.0</td>\n      <td>0</td>\n      <td>0.0</td>\n    </tr>\n    <tr>\n      <th>2</th>\n      <td>2</td>\n      <td>SFB01-4-1_108.jpg</td>\n      <td>47967483</td>\n      <td>1.0</td>\n      <td>1.0</td>\n      <td>1</td>\n      <td>1</td>\n      <td>[1]</td>\n      <td>1.0</td>\n      <td>1</td>\n      <td>1</td>\n      <td>[1]</td>\n      <td>0.0</td>\n      <td>0.0</td>\n      <td>0.0</td>\n      <td>0.0</td>\n      <td>0</td>\n      <td>0.0</td>\n    </tr>\n    <tr>\n      <th>3</th>\n      <td>3</td>\n      <td>SFB01-4-1_115.jpg</td>\n      <td>47967489</td>\n      <td>1.0</td>\n      <td>1.0</td>\n      <td>1</td>\n      <td>1</td>\n      <td>[1]</td>\n      <td>1.0</td>\n      <td>1</td>\n      <td>1</td>\n      <td>[1]</td>\n      <td>0.0</td>\n      <td>0.0</td>\n      <td>0.0</td>\n      <td>0.0</td>\n      <td>0</td>\n      <td>0.0</td>\n    </tr>\n    <tr>\n      <th>4</th>\n      <td>4</td>\n      <td>SFB01-4-1_129.jpg</td>\n      <td>47967503</td>\n      <td>1.0</td>\n      <td>1.0</td>\n      <td>1</td>\n      <td>1</td>\n      <td>[1]</td>\n      <td>1.0</td>\n      <td>1</td>\n      <td>1</td>\n      <td>[1]</td>\n      <td>0.0</td>\n      <td>0.0</td>\n      <td>0.0</td>\n      <td>0.0</td>\n      <td>0</td>\n      <td>0.0</td>\n    </tr>\n    <tr>\n      <th>...</th>\n      <td>...</td>\n      <td>...</td>\n      <td>...</td>\n      <td>...</td>\n      <td>...</td>\n      <td>...</td>\n      <td>...</td>\n      <td>...</td>\n      <td>...</td>\n      <td>...</td>\n      <td>...</td>\n      <td>...</td>\n      <td>...</td>\n      <td>...</td>\n      <td>...</td>\n      <td>...</td>\n      <td>...</td>\n      <td>...</td>\n    </tr>\n    <tr>\n      <th>7849</th>\n      <td>7849</td>\n      <td>SRBS03-4_61.jpg</td>\n      <td>48034465</td>\n      <td>1.0</td>\n      <td>1.0</td>\n      <td>1</td>\n      <td>1</td>\n      <td>[1]</td>\n      <td>1.0</td>\n      <td>2</td>\n      <td>2</td>\n      <td>[1, 1]</td>\n      <td>0.0</td>\n      <td>0.0</td>\n      <td>0.0</td>\n      <td>0.0</td>\n      <td>0</td>\n      <td>0.0</td>\n    </tr>\n    <tr>\n      <th>7850</th>\n      <td>7850</td>\n      <td>SRBS03-4_62.jpg</td>\n      <td>48034466</td>\n      <td>5.0</td>\n      <td>5.0</td>\n      <td>5</td>\n      <td>5</td>\n      <td>[5]</td>\n      <td>5.0</td>\n      <td>1</td>\n      <td>5</td>\n      <td>[5]</td>\n      <td>0.0</td>\n      <td>1.0</td>\n      <td>0.0</td>\n      <td>5.0</td>\n      <td>0</td>\n      <td>0.0</td>\n    </tr>\n    <tr>\n      <th>7851</th>\n      <td>7851</td>\n      <td>SRBS03-4_63.jpg</td>\n      <td>48034467</td>\n      <td>1.0</td>\n      <td>1.0</td>\n      <td>1</td>\n      <td>1</td>\n      <td>[1]</td>\n      <td>1.0</td>\n      <td>1</td>\n      <td>1</td>\n      <td>[1]</td>\n      <td>0.0</td>\n      <td>0.0</td>\n      <td>0.0</td>\n      <td>0.0</td>\n      <td>0</td>\n      <td>0.0</td>\n    </tr>\n    <tr>\n      <th>7852</th>\n      <td>7852</td>\n      <td>SRBS03-4_68.jpg</td>\n      <td>48034470</td>\n      <td>1.0</td>\n      <td>1.0</td>\n      <td>1</td>\n      <td>1</td>\n      <td>[1]</td>\n      <td>1.0</td>\n      <td>1</td>\n      <td>1</td>\n      <td>[1]</td>\n      <td>0.0</td>\n      <td>0.0</td>\n      <td>0.0</td>\n      <td>0.0</td>\n      <td>0</td>\n      <td>0.0</td>\n    </tr>\n    <tr>\n      <th>7853</th>\n      <td>7853</td>\n      <td>SRBS03-4_69.jpg</td>\n      <td>48034471</td>\n      <td>10.5</td>\n      <td>10.5</td>\n      <td>1</td>\n      <td>20</td>\n      <td>[1, 20]</td>\n      <td>10.5</td>\n      <td>2</td>\n      <td>21</td>\n      <td>[1, 20]</td>\n      <td>2.0</td>\n      <td>1.0</td>\n      <td>0.0</td>\n      <td>5.0</td>\n      <td>0</td>\n      <td>8.0</td>\n    </tr>\n  </tbody>\n</table>\n<p>7854 rows × 18 columns</p>\n</div>"
     },
     "execution_count": 33,
     "metadata": {},
     "output_type": "execute_result"
    }
   ],
   "source": [
    "print(f\"load {config['comparison_dataset']}\")\n",
    "pd.read_csv(config[\"comparison_dataset\"])"
   ]
  },
  {
   "cell_type": "code",
   "execution_count": 33,
   "id": "9cf58a9be2cfd66e",
   "metadata": {
    "collapsed": false,
    "ExecuteTime": {
     "end_time": "2024-04-24T12:36:31.961417Z",
     "start_time": "2024-04-24T12:36:31.959451Z"
    }
   },
   "outputs": [],
   "source": []
  }
 ],
 "metadata": {
  "kernelspec": {
   "display_name": "Python 3 (ipykernel)",
   "language": "python",
   "name": "python3"
  },
  "language_info": {
   "codemirror_mode": {
    "name": "ipython",
    "version": 3
   },
   "file_extension": ".py",
   "mimetype": "text/x-python",
   "name": "python",
   "nbconvert_exporter": "python",
   "pygments_lexer": "ipython3",
   "version": "3.9.6"
  }
 },
 "nbformat": 4,
 "nbformat_minor": 5
}
