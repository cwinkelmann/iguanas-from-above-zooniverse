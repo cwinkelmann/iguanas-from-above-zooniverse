{
 "cells": [
  {
   "cell_type": "markdown",
   "id": "708022ad72146e6d",
   "metadata": {},
   "source": [
    "# Clustering Zooniverse Marks to count Iguanas\n",
    "Count all the iguanas in the images by clustering the marks from the zooniverse volunteers.\n",
    "This does not compare the results to the gold standard and requires only a single file, the flattened zooniverse data export."
   ]
  },
  {
   "cell_type": "code",
   "execution_count": 1,
   "id": "d59fc4434d71491c",
   "metadata": {
    "ExecuteTime": {
     "end_time": "2024-04-11T15:29:04.686511Z",
     "start_time": "2024-04-11T15:29:04.665377Z"
    },
    "collapsed": false,
    "jupyter": {
     "outputs_hidden": false
    },
    "tags": []
   },
   "outputs": [],
   "source": [
    "%load_ext autoreload\n",
    "%autoreload 2\n",
    "\n",
    "import sys\n",
    "\n",
    "sys.path.append(\"./\")\n",
    "sys.path.append(\"./zooniverse\")"
   ]
  },
  {
   "cell_type": "markdown",
   "id": "731716bd21e99cbe",
   "metadata": {
    "collapsed": false,
    "jupyter": {
     "outputs_hidden": false
    }
   },
   "source": [
    "## Intro\n",
    "### Retrieve a Classification report from Zooniverse\n",
    "This notebook is used to cluster the marks from the zooniverse volunteers to count the iguanas in the images saved in results/<phase_tag>/flat_dataset_filtered_Iguanas 3rd launch.csv\n",
    "\n",
    "Used Methods are:\n",
    "\n",
    "### DBSCAN \n",
    "It does not require the number of clusters to be specified. It is used here because, but has min_samples and eps as hyperparameters which need to be found. [Link](https://scikit-learn.org/stable/auto_examples/cluster/plot_dbscan.html)\n",
    "For finding eps and min_sample a simple **grid search** is used.\n",
    "Additionally, DBSCAN not assume a specific shape for the clusters (K-means assumes clusters are gaussian in shape) even though we should assume that points around an iguana is gaussian shaped.\n",
    "\n",
    "### HDBSCAN\n",
    "It is an extension of DBSCAN which is more robust to hyperparameter settings as it finds epsilon and min_samples automatically. [Link](https://scikit-learn.org/stable/modules/generated/sklearn.cluster.HDBSCAN.html)"
   ]
  },
  {
   "cell_type": "markdown",
   "id": "e261acba86137ddd",
   "metadata": {
    "collapsed": false,
    "jupyter": {
     "outputs_hidden": false
    }
   },
   "source": [
    "## Load the data"
   ]
  },
  {
   "cell_type": "code",
   "execution_count": 2,
   "id": "823d8c3234e4a1de",
   "metadata": {
    "ExecuteTime": {
     "end_time": "2024-04-11T15:29:04.779736Z",
     "start_time": "2024-04-11T15:29:04.761433Z"
    },
    "collapsed": false,
    "jupyter": {
     "outputs_hidden": false
    },
    "tags": []
   },
   "outputs": [],
   "source": [
    "from pathlib import Path\n",
    "\n",
    "import pandas as pd\n",
    "from zooniverse.analysis import get_annotation_count_stats\n",
    "from zooniverse.utils.filters import filter_df_user_threshold\n",
    "\n",
    "\n",
    "\n",
    "# Phase Selection\n",
    "# phase_tag = \"Iguanas 1st launch\"\n",
    "# phase_tag = \"Iguanas 2nd launch\"\n",
    "phase_tag = \"Iguanas 3rd launch\"\n",
    "\n",
    "\n",
    "debug = False # debugging with a smaller dataset\n",
    "plot_diagrams = False # plot the diagrams to disk for the clustering methods\n",
    "show_plots = False # show the plots in the notebook\n",
    "\n",
    "user_threshold = None # None or a number, filter records which have less than these user interactions.\n",
    "use_gold_standard_subset = None # Use no filtering\n",
    "\n",
    "\n",
    "## Input Path of all the data\n",
    "input_path =Path(\"/Users/christian/data/zooniverse\")\n",
    "# input_path = Path(\"results/\")\n",
    "# Location for the analysis Results\n",
    "output_path = Path(input_path.joinpath(f\"2024_04_12_analysis\").joinpath(phase_tag))\n",
    "output_path.mkdir(exist_ok=True, parents=True)\n",
    "reprocess = False # if True, the raw classification data is reprocessed. If False, the data is loaded from disk\n",
    "\n",
    "# Location for plots\n",
    "# output_plot_path = output_path.joinpath(\"plots\")\n",
    "# output_plot_path.mkdir(parents=True, exist_ok=True)\n",
    "output_plot_path = None # do not plot"
   ]
  },
  {
   "cell_type": "markdown",
   "id": "593bea9e98df4db0",
   "metadata": {
    "collapsed": false,
    "jupyter": {
     "outputs_hidden": false
    }
   },
   "source": [
    "## Look into the config\n",
    "This Config points to all files necessary for the analysis + the result files"
   ]
  },
  {
   "cell_type": "code",
   "execution_count": 3,
   "id": "674da03e20316ae5",
   "metadata": {
    "ExecuteTime": {
     "end_time": "2024-04-11T16:13:20.858354Z",
     "start_time": "2024-04-11T16:13:20.832166Z"
    },
    "collapsed": false,
    "jupyter": {
     "outputs_hidden": false
    }
   },
   "outputs": [
    {
     "data": {
      "text/plain": [
       "{'annotations_source': PosixPath('/Users/christian/data/zooniverse/IguanasFromAbove/2023-10-15/iguanas-from-above-classifications.csv'),\n",
       " 'goldstandard_data': PosixPath('/Users/christian/data/zooniverse/Images/Zooniverse_Goldstandard_images/expert-GS-3rdphase_renamed.csv'),\n",
       " 'gold_standard_image_subset': PosixPath('/Users/christian/data/zooniverse/Images/Zooniverse_Goldstandard_images/3-T2-GS-results-5th-0s.csv'),\n",
       " 'image_source': None,\n",
       " 'yes_no_dataset': PosixPath('/Users/christian/data/zooniverse/2024_04_12_analysis/Iguanas 3rd launch/yes_no_dataset_Iguanas 3rd launch.csv'),\n",
       " 'flat_dataset': PosixPath('/Users/christian/data/zooniverse/2024_04_12_analysis/Iguanas 3rd launch/flat_dataset_Iguanas 3rd launch.csv'),\n",
       " 'flat_panoptes_points': PosixPath('/Users/christian/data/zooniverse/2024_04_12_analysis/Iguanas 3rd launch/flat_panoptes_points_Iguanas 3rd launch.csv'),\n",
       " 'panoptes_question': PosixPath('/Users/christian/data/zooniverse/2024_04_12_analysis/Iguanas 3rd launch/panoptes_question_Iguanas 3rd launch.csv'),\n",
       " 'merged_dataset': PosixPath('/Users/christian/data/zooniverse/2024_04_12_analysis/Iguanas 3rd launch/flat_dataset_filtered_Iguanas 3rd launch.csv'),\n",
       " 'gold_standard_and_expert_count': PosixPath('/Users/christian/data/zooniverse/2024_04_12_analysis/Iguanas 3rd launch/Iguanas 3rd launch_gold_standard_and_expert_count.csv'),\n",
       " 'comparison_dataset': PosixPath('/Users/christian/data/zooniverse/2024_04_12_analysis/Iguanas 3rd launch/Iguanas 3rd launch_method_comparison.csv'),\n",
       " 'comparison_dataset_expert': PosixPath('/Users/christian/data/zooniverse/2024_04_12_analysis/Iguanas 3rd launch/Iguanas 3rd launch_method_comparison_expert.csv'),\n",
       " 'comparison_dataset_yes_no': PosixPath('/Users/christian/data/zooniverse/2024_04_12_analysis/Iguanas 3rd launch/Iguanas 3rd launch_method_comparison_yes_no.csv'),\n",
       " 'method_sums': PosixPath('/Users/christian/data/zooniverse/2024_04_12_analysis/Iguanas 3rd launch/Iguanas 3rd launch_method_sums.csv'),\n",
       " 'rmse_errors': PosixPath('/Users/christian/data/zooniverse/2024_04_12_analysis/Iguanas 3rd launch/Iguanas 3rd launch_rmse_errors.csv'),\n",
       " 'dbscan_hyperparam_grid': PosixPath('/Users/christian/data/zooniverse/2024_04_12_analysis/Iguanas 3rd launch/Iguanas 3rd launch_hyperparam_grid.csv')}"
      ]
     },
     "execution_count": 3,
     "metadata": {},
     "output_type": "execute_result"
    }
   ],
   "source": [
    "from zooniverse.config import get_config\n",
    "\n",
    "config = get_config(phase_tag=phase_tag, input_path=input_path, output_path=output_path)\n",
    "config"
   ]
  },
  {
   "cell_type": "code",
   "execution_count": 4,
   "id": "3232b78ec1bf6f82",
   "metadata": {
    "ExecuteTime": {
     "end_time": "2024-04-11T15:29:04.830976Z",
     "start_time": "2024-04-11T15:29:04.816113Z"
    },
    "collapsed": false,
    "jupyter": {
     "outputs_hidden": false
    }
   },
   "outputs": [
    {
     "data": {
      "text/plain": [
       "PosixPath('/Users/christian/data/zooniverse/2024_04_12_analysis/Iguanas 3rd launch/flat_panoptes_points_Iguanas 3rd launch.csv')"
      ]
     },
     "execution_count": 4,
     "metadata": {},
     "output_type": "execute_result"
    }
   ],
   "source": [
    "config[\"flat_panoptes_points\"]"
   ]
  },
  {
   "cell_type": "markdown",
   "id": "bf09c7260aa5e8ed",
   "metadata": {
    "collapsed": false,
    "jupyter": {
     "outputs_hidden": false
    }
   },
   "source": [
    "## Look at the data\n"
   ]
  },
  {
   "cell_type": "code",
   "execution_count": 5,
   "id": "f735b4856eed80bd",
   "metadata": {
    "ExecuteTime": {
     "end_time": "2024-04-11T15:29:05.157634Z",
     "start_time": "2024-04-11T15:29:04.831759Z"
    },
    "collapsed": false,
    "jupyter": {
     "outputs_hidden": false
    }
   },
   "outputs": [
    {
     "data": {
      "text/html": [
       "<div>\n",
       "<style scoped>\n",
       "    .dataframe tbody tr th:only-of-type {\n",
       "        vertical-align: middle;\n",
       "    }\n",
       "\n",
       "    .dataframe tbody tr th {\n",
       "        vertical-align: top;\n",
       "    }\n",
       "\n",
       "    .dataframe thead th {\n",
       "        text-align: right;\n",
       "    }\n",
       "</style>\n",
       "<table border=\"1\" class=\"dataframe\">\n",
       "  <thead>\n",
       "    <tr style=\"text-align: right;\">\n",
       "      <th></th>\n",
       "      <th>classification_id</th>\n",
       "      <th>user_name</th>\n",
       "      <th>user_id</th>\n",
       "      <th>workflow_id</th>\n",
       "      <th>task</th>\n",
       "      <th>created_at</th>\n",
       "      <th>subject_id</th>\n",
       "      <th>image_name</th>\n",
       "      <th>x</th>\n",
       "      <th>y</th>\n",
       "      <th>phase</th>\n",
       "    </tr>\n",
       "  </thead>\n",
       "  <tbody>\n",
       "    <tr>\n",
       "      <th>0</th>\n",
       "      <td>430180580</td>\n",
       "      <td>096835c7b506ed9511c344f420d01f74</td>\n",
       "      <td>002400ef36f94c5e2a6ccc49859923d8</td>\n",
       "      <td>22040</td>\n",
       "      <td>T2</td>\n",
       "      <td>2022-08-01 20:06:32 UTC</td>\n",
       "      <td>78963883</td>\n",
       "      <td>FPA03_54.jpg</td>\n",
       "      <td>449</td>\n",
       "      <td>399</td>\n",
       "      <td>Iguanas 3rd launch</td>\n",
       "    </tr>\n",
       "    <tr>\n",
       "      <th>1</th>\n",
       "      <td>501567924</td>\n",
       "      <td>9c249e3b4c1adc212dc055fabe626cfd</td>\n",
       "      <td>00346ebf6ae91002059d21fa7090e46b</td>\n",
       "      <td>22040</td>\n",
       "      <td>T2</td>\n",
       "      <td>2023-07-16 21:09:04 UTC</td>\n",
       "      <td>78925071</td>\n",
       "      <td>GWB01-1_218.jpg</td>\n",
       "      <td>511</td>\n",
       "      <td>594</td>\n",
       "      <td>Iguanas 3rd launch</td>\n",
       "    </tr>\n",
       "    <tr>\n",
       "      <th>2</th>\n",
       "      <td>501567924</td>\n",
       "      <td>9c249e3b4c1adc212dc055fabe626cfd</td>\n",
       "      <td>00346ebf6ae91002059d21fa7090e46b</td>\n",
       "      <td>22040</td>\n",
       "      <td>T2</td>\n",
       "      <td>2023-07-16 21:09:04 UTC</td>\n",
       "      <td>78925071</td>\n",
       "      <td>GWB01-1_218.jpg</td>\n",
       "      <td>349</td>\n",
       "      <td>711</td>\n",
       "      <td>Iguanas 3rd launch</td>\n",
       "    </tr>\n",
       "    <tr>\n",
       "      <th>3</th>\n",
       "      <td>501567924</td>\n",
       "      <td>9c249e3b4c1adc212dc055fabe626cfd</td>\n",
       "      <td>00346ebf6ae91002059d21fa7090e46b</td>\n",
       "      <td>22040</td>\n",
       "      <td>T2</td>\n",
       "      <td>2023-07-16 21:09:04 UTC</td>\n",
       "      <td>78925071</td>\n",
       "      <td>GWB01-1_218.jpg</td>\n",
       "      <td>255</td>\n",
       "      <td>756</td>\n",
       "      <td>Iguanas 3rd launch</td>\n",
       "    </tr>\n",
       "    <tr>\n",
       "      <th>4</th>\n",
       "      <td>501567924</td>\n",
       "      <td>9c249e3b4c1adc212dc055fabe626cfd</td>\n",
       "      <td>00346ebf6ae91002059d21fa7090e46b</td>\n",
       "      <td>22040</td>\n",
       "      <td>T2</td>\n",
       "      <td>2023-07-16 21:09:04 UTC</td>\n",
       "      <td>78925071</td>\n",
       "      <td>GWB01-1_218.jpg</td>\n",
       "      <td>9</td>\n",
       "      <td>245</td>\n",
       "      <td>Iguanas 3rd launch</td>\n",
       "    </tr>\n",
       "    <tr>\n",
       "      <th>...</th>\n",
       "      <td>...</td>\n",
       "      <td>...</td>\n",
       "      <td>...</td>\n",
       "      <td>...</td>\n",
       "      <td>...</td>\n",
       "      <td>...</td>\n",
       "      <td>...</td>\n",
       "      <td>...</td>\n",
       "      <td>...</td>\n",
       "      <td>...</td>\n",
       "      <td>...</td>\n",
       "    </tr>\n",
       "    <tr>\n",
       "      <th>106322</th>\n",
       "      <td>494172012</td>\n",
       "      <td>fab341928dc32883a4e5ffcbf12977af</td>\n",
       "      <td>NaN</td>\n",
       "      <td>22040</td>\n",
       "      <td>T2</td>\n",
       "      <td>2023-06-06 12:35:40 UTC</td>\n",
       "      <td>78965185</td>\n",
       "      <td>ESCH02-2_92.jpg</td>\n",
       "      <td>267</td>\n",
       "      <td>31</td>\n",
       "      <td>Iguanas 3rd launch</td>\n",
       "    </tr>\n",
       "    <tr>\n",
       "      <th>106323</th>\n",
       "      <td>494172012</td>\n",
       "      <td>fab341928dc32883a4e5ffcbf12977af</td>\n",
       "      <td>NaN</td>\n",
       "      <td>22040</td>\n",
       "      <td>T2</td>\n",
       "      <td>2023-06-06 12:35:40 UTC</td>\n",
       "      <td>78965185</td>\n",
       "      <td>ESCH02-2_92.jpg</td>\n",
       "      <td>221</td>\n",
       "      <td>52</td>\n",
       "      <td>Iguanas 3rd launch</td>\n",
       "    </tr>\n",
       "    <tr>\n",
       "      <th>106324</th>\n",
       "      <td>494172012</td>\n",
       "      <td>fab341928dc32883a4e5ffcbf12977af</td>\n",
       "      <td>NaN</td>\n",
       "      <td>22040</td>\n",
       "      <td>T2</td>\n",
       "      <td>2023-06-06 12:35:40 UTC</td>\n",
       "      <td>78965185</td>\n",
       "      <td>ESCH02-2_92.jpg</td>\n",
       "      <td>198</td>\n",
       "      <td>31</td>\n",
       "      <td>Iguanas 3rd launch</td>\n",
       "    </tr>\n",
       "    <tr>\n",
       "      <th>106325</th>\n",
       "      <td>494172012</td>\n",
       "      <td>fab341928dc32883a4e5ffcbf12977af</td>\n",
       "      <td>NaN</td>\n",
       "      <td>22040</td>\n",
       "      <td>T2</td>\n",
       "      <td>2023-06-06 12:35:40 UTC</td>\n",
       "      <td>78965185</td>\n",
       "      <td>ESCH02-2_92.jpg</td>\n",
       "      <td>582</td>\n",
       "      <td>152</td>\n",
       "      <td>Iguanas 3rd launch</td>\n",
       "    </tr>\n",
       "    <tr>\n",
       "      <th>106326</th>\n",
       "      <td>494172012</td>\n",
       "      <td>fab341928dc32883a4e5ffcbf12977af</td>\n",
       "      <td>NaN</td>\n",
       "      <td>22040</td>\n",
       "      <td>T2</td>\n",
       "      <td>2023-06-06 12:35:40 UTC</td>\n",
       "      <td>78965185</td>\n",
       "      <td>ESCH02-2_92.jpg</td>\n",
       "      <td>190</td>\n",
       "      <td>131</td>\n",
       "      <td>Iguanas 3rd launch</td>\n",
       "    </tr>\n",
       "  </tbody>\n",
       "</table>\n",
       "<p>106327 rows × 11 columns</p>\n",
       "</div>"
      ],
      "text/plain": [
       "        classification_id                         user_name  \\\n",
       "0               430180580  096835c7b506ed9511c344f420d01f74   \n",
       "1               501567924  9c249e3b4c1adc212dc055fabe626cfd   \n",
       "2               501567924  9c249e3b4c1adc212dc055fabe626cfd   \n",
       "3               501567924  9c249e3b4c1adc212dc055fabe626cfd   \n",
       "4               501567924  9c249e3b4c1adc212dc055fabe626cfd   \n",
       "...                   ...                               ...   \n",
       "106322          494172012  fab341928dc32883a4e5ffcbf12977af   \n",
       "106323          494172012  fab341928dc32883a4e5ffcbf12977af   \n",
       "106324          494172012  fab341928dc32883a4e5ffcbf12977af   \n",
       "106325          494172012  fab341928dc32883a4e5ffcbf12977af   \n",
       "106326          494172012  fab341928dc32883a4e5ffcbf12977af   \n",
       "\n",
       "                                 user_id  workflow_id task  \\\n",
       "0       002400ef36f94c5e2a6ccc49859923d8        22040   T2   \n",
       "1       00346ebf6ae91002059d21fa7090e46b        22040   T2   \n",
       "2       00346ebf6ae91002059d21fa7090e46b        22040   T2   \n",
       "3       00346ebf6ae91002059d21fa7090e46b        22040   T2   \n",
       "4       00346ebf6ae91002059d21fa7090e46b        22040   T2   \n",
       "...                                  ...          ...  ...   \n",
       "106322                               NaN        22040   T2   \n",
       "106323                               NaN        22040   T2   \n",
       "106324                               NaN        22040   T2   \n",
       "106325                               NaN        22040   T2   \n",
       "106326                               NaN        22040   T2   \n",
       "\n",
       "                     created_at  subject_id       image_name    x    y  \\\n",
       "0       2022-08-01 20:06:32 UTC    78963883     FPA03_54.jpg  449  399   \n",
       "1       2023-07-16 21:09:04 UTC    78925071  GWB01-1_218.jpg  511  594   \n",
       "2       2023-07-16 21:09:04 UTC    78925071  GWB01-1_218.jpg  349  711   \n",
       "3       2023-07-16 21:09:04 UTC    78925071  GWB01-1_218.jpg  255  756   \n",
       "4       2023-07-16 21:09:04 UTC    78925071  GWB01-1_218.jpg    9  245   \n",
       "...                         ...         ...              ...  ...  ...   \n",
       "106322  2023-06-06 12:35:40 UTC    78965185  ESCH02-2_92.jpg  267   31   \n",
       "106323  2023-06-06 12:35:40 UTC    78965185  ESCH02-2_92.jpg  221   52   \n",
       "106324  2023-06-06 12:35:40 UTC    78965185  ESCH02-2_92.jpg  198   31   \n",
       "106325  2023-06-06 12:35:40 UTC    78965185  ESCH02-2_92.jpg  582  152   \n",
       "106326  2023-06-06 12:35:40 UTC    78965185  ESCH02-2_92.jpg  190  131   \n",
       "\n",
       "                     phase  \n",
       "0       Iguanas 3rd launch  \n",
       "1       Iguanas 3rd launch  \n",
       "2       Iguanas 3rd launch  \n",
       "3       Iguanas 3rd launch  \n",
       "4       Iguanas 3rd launch  \n",
       "...                    ...  \n",
       "106322  Iguanas 3rd launch  \n",
       "106323  Iguanas 3rd launch  \n",
       "106324  Iguanas 3rd launch  \n",
       "106325  Iguanas 3rd launch  \n",
       "106326  Iguanas 3rd launch  \n",
       "\n",
       "[106327 rows x 11 columns]"
      ]
     },
     "execution_count": 5,
     "metadata": {},
     "output_type": "execute_result"
    }
   ],
   "source": [
    "\n",
    "df_flat_panoptes_points = pd.read_csv(config[\"flat_panoptes_points\"])\n",
    "df_flat_panoptes_points[\"phase\"] = phase_tag\n",
    "\n",
    "df_flat_panoptes_points"
   ]
  },
  {
   "cell_type": "markdown",
   "id": "da7bed90d6d10d89",
   "metadata": {
    "collapsed": false,
    "jupyter": {
     "outputs_hidden": false
    }
   },
   "source": [
    "### Filter User if necessary and Marks\n"
   ]
  },
  {
   "cell_type": "code",
   "execution_count": 6,
   "id": "2c05849dbba8f66f",
   "metadata": {
    "ExecuteTime": {
     "end_time": "2024-04-11T15:29:05.217465Z",
     "start_time": "2024-04-11T15:29:05.202354Z"
    },
    "collapsed": false,
    "jupyter": {
     "outputs_hidden": false
    }
   },
   "outputs": [],
   "source": [
    "# Use the panoptes Extraction instead of the custom extraction\n",
    "df_merged_dataset = df_flat_panoptes_points"
   ]
  },
  {
   "cell_type": "markdown",
   "id": "d479e39e24f570b0",
   "metadata": {
    "collapsed": false,
    "jupyter": {
     "outputs_hidden": false
    }
   },
   "source": [
    "### Are there anonymous users in the data?\n",
    "There should be some because anonymous users are kept."
   ]
  },
  {
   "cell_type": "code",
   "execution_count": 7,
   "id": "9936072d8a7b7602",
   "metadata": {
    "ExecuteTime": {
     "end_time": "2024-04-11T15:29:05.240419Z",
     "start_time": "2024-04-11T15:29:05.218117Z"
    },
    "collapsed": false,
    "jupyter": {
     "outputs_hidden": false
    }
   },
   "outputs": [
    {
     "data": {
      "text/html": [
       "<div>\n",
       "<style scoped>\n",
       "    .dataframe tbody tr th:only-of-type {\n",
       "        vertical-align: middle;\n",
       "    }\n",
       "\n",
       "    .dataframe tbody tr th {\n",
       "        vertical-align: top;\n",
       "    }\n",
       "\n",
       "    .dataframe thead th {\n",
       "        text-align: right;\n",
       "    }\n",
       "</style>\n",
       "<table border=\"1\" class=\"dataframe\">\n",
       "  <thead>\n",
       "    <tr style=\"text-align: right;\">\n",
       "      <th></th>\n",
       "      <th>classification_id</th>\n",
       "      <th>user_name</th>\n",
       "      <th>user_id</th>\n",
       "      <th>workflow_id</th>\n",
       "      <th>task</th>\n",
       "      <th>created_at</th>\n",
       "      <th>subject_id</th>\n",
       "      <th>image_name</th>\n",
       "      <th>x</th>\n",
       "      <th>y</th>\n",
       "      <th>phase</th>\n",
       "    </tr>\n",
       "  </thead>\n",
       "  <tbody>\n",
       "    <tr>\n",
       "      <th>91417</th>\n",
       "      <td>447704338</td>\n",
       "      <td>18905a576ccd1be7a6a14fa96a7bb04d</td>\n",
       "      <td>NaN</td>\n",
       "      <td>22040</td>\n",
       "      <td>T2</td>\n",
       "      <td>2022-10-31 02:25:07 UTC</td>\n",
       "      <td>78921874</td>\n",
       "      <td>GEB01-1_128.jpg</td>\n",
       "      <td>753</td>\n",
       "      <td>791</td>\n",
       "      <td>Iguanas 3rd launch</td>\n",
       "    </tr>\n",
       "    <tr>\n",
       "      <th>91418</th>\n",
       "      <td>447704338</td>\n",
       "      <td>18905a576ccd1be7a6a14fa96a7bb04d</td>\n",
       "      <td>NaN</td>\n",
       "      <td>22040</td>\n",
       "      <td>T2</td>\n",
       "      <td>2022-10-31 02:25:07 UTC</td>\n",
       "      <td>78921874</td>\n",
       "      <td>GEB01-1_128.jpg</td>\n",
       "      <td>767</td>\n",
       "      <td>849</td>\n",
       "      <td>Iguanas 3rd launch</td>\n",
       "    </tr>\n",
       "    <tr>\n",
       "      <th>91419</th>\n",
       "      <td>447704338</td>\n",
       "      <td>18905a576ccd1be7a6a14fa96a7bb04d</td>\n",
       "      <td>NaN</td>\n",
       "      <td>22040</td>\n",
       "      <td>T2</td>\n",
       "      <td>2022-10-31 02:25:07 UTC</td>\n",
       "      <td>78921874</td>\n",
       "      <td>GEB01-1_128.jpg</td>\n",
       "      <td>673</td>\n",
       "      <td>907</td>\n",
       "      <td>Iguanas 3rd launch</td>\n",
       "    </tr>\n",
       "    <tr>\n",
       "      <th>91420</th>\n",
       "      <td>447704338</td>\n",
       "      <td>18905a576ccd1be7a6a14fa96a7bb04d</td>\n",
       "      <td>NaN</td>\n",
       "      <td>22040</td>\n",
       "      <td>T2</td>\n",
       "      <td>2022-10-31 02:25:07 UTC</td>\n",
       "      <td>78921874</td>\n",
       "      <td>GEB01-1_128.jpg</td>\n",
       "      <td>351</td>\n",
       "      <td>863</td>\n",
       "      <td>Iguanas 3rd launch</td>\n",
       "    </tr>\n",
       "    <tr>\n",
       "      <th>91421</th>\n",
       "      <td>447704338</td>\n",
       "      <td>18905a576ccd1be7a6a14fa96a7bb04d</td>\n",
       "      <td>NaN</td>\n",
       "      <td>22040</td>\n",
       "      <td>T2</td>\n",
       "      <td>2022-10-31 02:25:07 UTC</td>\n",
       "      <td>78921874</td>\n",
       "      <td>GEB01-1_128.jpg</td>\n",
       "      <td>335</td>\n",
       "      <td>816</td>\n",
       "      <td>Iguanas 3rd launch</td>\n",
       "    </tr>\n",
       "    <tr>\n",
       "      <th>...</th>\n",
       "      <td>...</td>\n",
       "      <td>...</td>\n",
       "      <td>...</td>\n",
       "      <td>...</td>\n",
       "      <td>...</td>\n",
       "      <td>...</td>\n",
       "      <td>...</td>\n",
       "      <td>...</td>\n",
       "      <td>...</td>\n",
       "      <td>...</td>\n",
       "      <td>...</td>\n",
       "    </tr>\n",
       "    <tr>\n",
       "      <th>106322</th>\n",
       "      <td>494172012</td>\n",
       "      <td>fab341928dc32883a4e5ffcbf12977af</td>\n",
       "      <td>NaN</td>\n",
       "      <td>22040</td>\n",
       "      <td>T2</td>\n",
       "      <td>2023-06-06 12:35:40 UTC</td>\n",
       "      <td>78965185</td>\n",
       "      <td>ESCH02-2_92.jpg</td>\n",
       "      <td>267</td>\n",
       "      <td>31</td>\n",
       "      <td>Iguanas 3rd launch</td>\n",
       "    </tr>\n",
       "    <tr>\n",
       "      <th>106323</th>\n",
       "      <td>494172012</td>\n",
       "      <td>fab341928dc32883a4e5ffcbf12977af</td>\n",
       "      <td>NaN</td>\n",
       "      <td>22040</td>\n",
       "      <td>T2</td>\n",
       "      <td>2023-06-06 12:35:40 UTC</td>\n",
       "      <td>78965185</td>\n",
       "      <td>ESCH02-2_92.jpg</td>\n",
       "      <td>221</td>\n",
       "      <td>52</td>\n",
       "      <td>Iguanas 3rd launch</td>\n",
       "    </tr>\n",
       "    <tr>\n",
       "      <th>106324</th>\n",
       "      <td>494172012</td>\n",
       "      <td>fab341928dc32883a4e5ffcbf12977af</td>\n",
       "      <td>NaN</td>\n",
       "      <td>22040</td>\n",
       "      <td>T2</td>\n",
       "      <td>2023-06-06 12:35:40 UTC</td>\n",
       "      <td>78965185</td>\n",
       "      <td>ESCH02-2_92.jpg</td>\n",
       "      <td>198</td>\n",
       "      <td>31</td>\n",
       "      <td>Iguanas 3rd launch</td>\n",
       "    </tr>\n",
       "    <tr>\n",
       "      <th>106325</th>\n",
       "      <td>494172012</td>\n",
       "      <td>fab341928dc32883a4e5ffcbf12977af</td>\n",
       "      <td>NaN</td>\n",
       "      <td>22040</td>\n",
       "      <td>T2</td>\n",
       "      <td>2023-06-06 12:35:40 UTC</td>\n",
       "      <td>78965185</td>\n",
       "      <td>ESCH02-2_92.jpg</td>\n",
       "      <td>582</td>\n",
       "      <td>152</td>\n",
       "      <td>Iguanas 3rd launch</td>\n",
       "    </tr>\n",
       "    <tr>\n",
       "      <th>106326</th>\n",
       "      <td>494172012</td>\n",
       "      <td>fab341928dc32883a4e5ffcbf12977af</td>\n",
       "      <td>NaN</td>\n",
       "      <td>22040</td>\n",
       "      <td>T2</td>\n",
       "      <td>2023-06-06 12:35:40 UTC</td>\n",
       "      <td>78965185</td>\n",
       "      <td>ESCH02-2_92.jpg</td>\n",
       "      <td>190</td>\n",
       "      <td>131</td>\n",
       "      <td>Iguanas 3rd launch</td>\n",
       "    </tr>\n",
       "  </tbody>\n",
       "</table>\n",
       "<p>14910 rows × 11 columns</p>\n",
       "</div>"
      ],
      "text/plain": [
       "        classification_id                         user_name user_id  \\\n",
       "91417           447704338  18905a576ccd1be7a6a14fa96a7bb04d     NaN   \n",
       "91418           447704338  18905a576ccd1be7a6a14fa96a7bb04d     NaN   \n",
       "91419           447704338  18905a576ccd1be7a6a14fa96a7bb04d     NaN   \n",
       "91420           447704338  18905a576ccd1be7a6a14fa96a7bb04d     NaN   \n",
       "91421           447704338  18905a576ccd1be7a6a14fa96a7bb04d     NaN   \n",
       "...                   ...                               ...     ...   \n",
       "106322          494172012  fab341928dc32883a4e5ffcbf12977af     NaN   \n",
       "106323          494172012  fab341928dc32883a4e5ffcbf12977af     NaN   \n",
       "106324          494172012  fab341928dc32883a4e5ffcbf12977af     NaN   \n",
       "106325          494172012  fab341928dc32883a4e5ffcbf12977af     NaN   \n",
       "106326          494172012  fab341928dc32883a4e5ffcbf12977af     NaN   \n",
       "\n",
       "        workflow_id task               created_at  subject_id  \\\n",
       "91417         22040   T2  2022-10-31 02:25:07 UTC    78921874   \n",
       "91418         22040   T2  2022-10-31 02:25:07 UTC    78921874   \n",
       "91419         22040   T2  2022-10-31 02:25:07 UTC    78921874   \n",
       "91420         22040   T2  2022-10-31 02:25:07 UTC    78921874   \n",
       "91421         22040   T2  2022-10-31 02:25:07 UTC    78921874   \n",
       "...             ...  ...                      ...         ...   \n",
       "106322        22040   T2  2023-06-06 12:35:40 UTC    78965185   \n",
       "106323        22040   T2  2023-06-06 12:35:40 UTC    78965185   \n",
       "106324        22040   T2  2023-06-06 12:35:40 UTC    78965185   \n",
       "106325        22040   T2  2023-06-06 12:35:40 UTC    78965185   \n",
       "106326        22040   T2  2023-06-06 12:35:40 UTC    78965185   \n",
       "\n",
       "             image_name    x    y               phase  \n",
       "91417   GEB01-1_128.jpg  753  791  Iguanas 3rd launch  \n",
       "91418   GEB01-1_128.jpg  767  849  Iguanas 3rd launch  \n",
       "91419   GEB01-1_128.jpg  673  907  Iguanas 3rd launch  \n",
       "91420   GEB01-1_128.jpg  351  863  Iguanas 3rd launch  \n",
       "91421   GEB01-1_128.jpg  335  816  Iguanas 3rd launch  \n",
       "...                 ...  ...  ...                 ...  \n",
       "106322  ESCH02-2_92.jpg  267   31  Iguanas 3rd launch  \n",
       "106323  ESCH02-2_92.jpg  221   52  Iguanas 3rd launch  \n",
       "106324  ESCH02-2_92.jpg  198   31  Iguanas 3rd launch  \n",
       "106325  ESCH02-2_92.jpg  582  152  Iguanas 3rd launch  \n",
       "106326  ESCH02-2_92.jpg  190  131  Iguanas 3rd launch  \n",
       "\n",
       "[14910 rows x 11 columns]"
      ]
     },
     "execution_count": 7,
     "metadata": {},
     "output_type": "execute_result"
    }
   ],
   "source": [
    "df_merged_dataset[df_merged_dataset.user_id.isnull().values]"
   ]
  },
  {
   "cell_type": "code",
   "execution_count": 8,
   "id": "9258d161c25ae7d3",
   "metadata": {
    "ExecuteTime": {
     "end_time": "2024-04-11T15:29:05.259336Z",
     "start_time": "2024-04-11T15:29:05.241313Z"
    },
    "collapsed": false,
    "jupyter": {
     "outputs_hidden": false
    }
   },
   "outputs": [
    {
     "data": {
      "text/plain": [
       "7663"
      ]
     },
     "execution_count": 8,
     "metadata": {},
     "output_type": "execute_result"
    }
   ],
   "source": [
    "# Amount of images\n",
    "df_merged_dataset[\"subject_id\"].nunique()"
   ]
  },
  {
   "cell_type": "code",
   "execution_count": 9,
   "id": "6caad5d554d586db",
   "metadata": {
    "ExecuteTime": {
     "end_time": "2024-04-11T15:29:05.279916Z",
     "start_time": "2024-04-11T15:29:05.260054Z"
    },
    "collapsed": false,
    "jupyter": {
     "outputs_hidden": false
    }
   },
   "outputs": [
    {
     "data": {
      "text/html": [
       "<div>\n",
       "<style scoped>\n",
       "    .dataframe tbody tr th:only-of-type {\n",
       "        vertical-align: middle;\n",
       "    }\n",
       "\n",
       "    .dataframe tbody tr th {\n",
       "        vertical-align: top;\n",
       "    }\n",
       "\n",
       "    .dataframe thead th {\n",
       "        text-align: right;\n",
       "    }\n",
       "</style>\n",
       "<table border=\"1\" class=\"dataframe\">\n",
       "  <thead>\n",
       "    <tr style=\"text-align: right;\">\n",
       "      <th></th>\n",
       "      <th>classification_id</th>\n",
       "      <th>user_name</th>\n",
       "      <th>user_id</th>\n",
       "      <th>workflow_id</th>\n",
       "      <th>task</th>\n",
       "      <th>created_at</th>\n",
       "      <th>subject_id</th>\n",
       "      <th>image_name</th>\n",
       "      <th>x</th>\n",
       "      <th>y</th>\n",
       "      <th>phase</th>\n",
       "    </tr>\n",
       "  </thead>\n",
       "  <tbody>\n",
       "    <tr>\n",
       "      <th>0</th>\n",
       "      <td>430180580</td>\n",
       "      <td>096835c7b506ed9511c344f420d01f74</td>\n",
       "      <td>002400ef36f94c5e2a6ccc49859923d8</td>\n",
       "      <td>22040</td>\n",
       "      <td>T2</td>\n",
       "      <td>2022-08-01 20:06:32 UTC</td>\n",
       "      <td>78963883</td>\n",
       "      <td>FPA03_54.jpg</td>\n",
       "      <td>449</td>\n",
       "      <td>399</td>\n",
       "      <td>Iguanas 3rd launch</td>\n",
       "    </tr>\n",
       "    <tr>\n",
       "      <th>1</th>\n",
       "      <td>501567924</td>\n",
       "      <td>9c249e3b4c1adc212dc055fabe626cfd</td>\n",
       "      <td>00346ebf6ae91002059d21fa7090e46b</td>\n",
       "      <td>22040</td>\n",
       "      <td>T2</td>\n",
       "      <td>2023-07-16 21:09:04 UTC</td>\n",
       "      <td>78925071</td>\n",
       "      <td>GWB01-1_218.jpg</td>\n",
       "      <td>511</td>\n",
       "      <td>594</td>\n",
       "      <td>Iguanas 3rd launch</td>\n",
       "    </tr>\n",
       "    <tr>\n",
       "      <th>2</th>\n",
       "      <td>501567924</td>\n",
       "      <td>9c249e3b4c1adc212dc055fabe626cfd</td>\n",
       "      <td>00346ebf6ae91002059d21fa7090e46b</td>\n",
       "      <td>22040</td>\n",
       "      <td>T2</td>\n",
       "      <td>2023-07-16 21:09:04 UTC</td>\n",
       "      <td>78925071</td>\n",
       "      <td>GWB01-1_218.jpg</td>\n",
       "      <td>349</td>\n",
       "      <td>711</td>\n",
       "      <td>Iguanas 3rd launch</td>\n",
       "    </tr>\n",
       "    <tr>\n",
       "      <th>3</th>\n",
       "      <td>501567924</td>\n",
       "      <td>9c249e3b4c1adc212dc055fabe626cfd</td>\n",
       "      <td>00346ebf6ae91002059d21fa7090e46b</td>\n",
       "      <td>22040</td>\n",
       "      <td>T2</td>\n",
       "      <td>2023-07-16 21:09:04 UTC</td>\n",
       "      <td>78925071</td>\n",
       "      <td>GWB01-1_218.jpg</td>\n",
       "      <td>255</td>\n",
       "      <td>756</td>\n",
       "      <td>Iguanas 3rd launch</td>\n",
       "    </tr>\n",
       "    <tr>\n",
       "      <th>4</th>\n",
       "      <td>501567924</td>\n",
       "      <td>9c249e3b4c1adc212dc055fabe626cfd</td>\n",
       "      <td>00346ebf6ae91002059d21fa7090e46b</td>\n",
       "      <td>22040</td>\n",
       "      <td>T2</td>\n",
       "      <td>2023-07-16 21:09:04 UTC</td>\n",
       "      <td>78925071</td>\n",
       "      <td>GWB01-1_218.jpg</td>\n",
       "      <td>9</td>\n",
       "      <td>245</td>\n",
       "      <td>Iguanas 3rd launch</td>\n",
       "    </tr>\n",
       "    <tr>\n",
       "      <th>...</th>\n",
       "      <td>...</td>\n",
       "      <td>...</td>\n",
       "      <td>...</td>\n",
       "      <td>...</td>\n",
       "      <td>...</td>\n",
       "      <td>...</td>\n",
       "      <td>...</td>\n",
       "      <td>...</td>\n",
       "      <td>...</td>\n",
       "      <td>...</td>\n",
       "      <td>...</td>\n",
       "    </tr>\n",
       "    <tr>\n",
       "      <th>106322</th>\n",
       "      <td>494172012</td>\n",
       "      <td>fab341928dc32883a4e5ffcbf12977af</td>\n",
       "      <td>NaN</td>\n",
       "      <td>22040</td>\n",
       "      <td>T2</td>\n",
       "      <td>2023-06-06 12:35:40 UTC</td>\n",
       "      <td>78965185</td>\n",
       "      <td>ESCH02-2_92.jpg</td>\n",
       "      <td>267</td>\n",
       "      <td>31</td>\n",
       "      <td>Iguanas 3rd launch</td>\n",
       "    </tr>\n",
       "    <tr>\n",
       "      <th>106323</th>\n",
       "      <td>494172012</td>\n",
       "      <td>fab341928dc32883a4e5ffcbf12977af</td>\n",
       "      <td>NaN</td>\n",
       "      <td>22040</td>\n",
       "      <td>T2</td>\n",
       "      <td>2023-06-06 12:35:40 UTC</td>\n",
       "      <td>78965185</td>\n",
       "      <td>ESCH02-2_92.jpg</td>\n",
       "      <td>221</td>\n",
       "      <td>52</td>\n",
       "      <td>Iguanas 3rd launch</td>\n",
       "    </tr>\n",
       "    <tr>\n",
       "      <th>106324</th>\n",
       "      <td>494172012</td>\n",
       "      <td>fab341928dc32883a4e5ffcbf12977af</td>\n",
       "      <td>NaN</td>\n",
       "      <td>22040</td>\n",
       "      <td>T2</td>\n",
       "      <td>2023-06-06 12:35:40 UTC</td>\n",
       "      <td>78965185</td>\n",
       "      <td>ESCH02-2_92.jpg</td>\n",
       "      <td>198</td>\n",
       "      <td>31</td>\n",
       "      <td>Iguanas 3rd launch</td>\n",
       "    </tr>\n",
       "    <tr>\n",
       "      <th>106325</th>\n",
       "      <td>494172012</td>\n",
       "      <td>fab341928dc32883a4e5ffcbf12977af</td>\n",
       "      <td>NaN</td>\n",
       "      <td>22040</td>\n",
       "      <td>T2</td>\n",
       "      <td>2023-06-06 12:35:40 UTC</td>\n",
       "      <td>78965185</td>\n",
       "      <td>ESCH02-2_92.jpg</td>\n",
       "      <td>582</td>\n",
       "      <td>152</td>\n",
       "      <td>Iguanas 3rd launch</td>\n",
       "    </tr>\n",
       "    <tr>\n",
       "      <th>106326</th>\n",
       "      <td>494172012</td>\n",
       "      <td>fab341928dc32883a4e5ffcbf12977af</td>\n",
       "      <td>NaN</td>\n",
       "      <td>22040</td>\n",
       "      <td>T2</td>\n",
       "      <td>2023-06-06 12:35:40 UTC</td>\n",
       "      <td>78965185</td>\n",
       "      <td>ESCH02-2_92.jpg</td>\n",
       "      <td>190</td>\n",
       "      <td>131</td>\n",
       "      <td>Iguanas 3rd launch</td>\n",
       "    </tr>\n",
       "  </tbody>\n",
       "</table>\n",
       "<p>106327 rows × 11 columns</p>\n",
       "</div>"
      ],
      "text/plain": [
       "        classification_id                         user_name  \\\n",
       "0               430180580  096835c7b506ed9511c344f420d01f74   \n",
       "1               501567924  9c249e3b4c1adc212dc055fabe626cfd   \n",
       "2               501567924  9c249e3b4c1adc212dc055fabe626cfd   \n",
       "3               501567924  9c249e3b4c1adc212dc055fabe626cfd   \n",
       "4               501567924  9c249e3b4c1adc212dc055fabe626cfd   \n",
       "...                   ...                               ...   \n",
       "106322          494172012  fab341928dc32883a4e5ffcbf12977af   \n",
       "106323          494172012  fab341928dc32883a4e5ffcbf12977af   \n",
       "106324          494172012  fab341928dc32883a4e5ffcbf12977af   \n",
       "106325          494172012  fab341928dc32883a4e5ffcbf12977af   \n",
       "106326          494172012  fab341928dc32883a4e5ffcbf12977af   \n",
       "\n",
       "                                 user_id  workflow_id task  \\\n",
       "0       002400ef36f94c5e2a6ccc49859923d8        22040   T2   \n",
       "1       00346ebf6ae91002059d21fa7090e46b        22040   T2   \n",
       "2       00346ebf6ae91002059d21fa7090e46b        22040   T2   \n",
       "3       00346ebf6ae91002059d21fa7090e46b        22040   T2   \n",
       "4       00346ebf6ae91002059d21fa7090e46b        22040   T2   \n",
       "...                                  ...          ...  ...   \n",
       "106322                               NaN        22040   T2   \n",
       "106323                               NaN        22040   T2   \n",
       "106324                               NaN        22040   T2   \n",
       "106325                               NaN        22040   T2   \n",
       "106326                               NaN        22040   T2   \n",
       "\n",
       "                     created_at  subject_id       image_name    x    y  \\\n",
       "0       2022-08-01 20:06:32 UTC    78963883     FPA03_54.jpg  449  399   \n",
       "1       2023-07-16 21:09:04 UTC    78925071  GWB01-1_218.jpg  511  594   \n",
       "2       2023-07-16 21:09:04 UTC    78925071  GWB01-1_218.jpg  349  711   \n",
       "3       2023-07-16 21:09:04 UTC    78925071  GWB01-1_218.jpg  255  756   \n",
       "4       2023-07-16 21:09:04 UTC    78925071  GWB01-1_218.jpg    9  245   \n",
       "...                         ...         ...              ...  ...  ...   \n",
       "106322  2023-06-06 12:35:40 UTC    78965185  ESCH02-2_92.jpg  267   31   \n",
       "106323  2023-06-06 12:35:40 UTC    78965185  ESCH02-2_92.jpg  221   52   \n",
       "106324  2023-06-06 12:35:40 UTC    78965185  ESCH02-2_92.jpg  198   31   \n",
       "106325  2023-06-06 12:35:40 UTC    78965185  ESCH02-2_92.jpg  582  152   \n",
       "106326  2023-06-06 12:35:40 UTC    78965185  ESCH02-2_92.jpg  190  131   \n",
       "\n",
       "                     phase  \n",
       "0       Iguanas 3rd launch  \n",
       "1       Iguanas 3rd launch  \n",
       "2       Iguanas 3rd launch  \n",
       "3       Iguanas 3rd launch  \n",
       "4       Iguanas 3rd launch  \n",
       "...                    ...  \n",
       "106322  Iguanas 3rd launch  \n",
       "106323  Iguanas 3rd launch  \n",
       "106324  Iguanas 3rd launch  \n",
       "106325  Iguanas 3rd launch  \n",
       "106326  Iguanas 3rd launch  \n",
       "\n",
       "[106327 rows x 11 columns]"
      ]
     },
     "execution_count": 9,
     "metadata": {},
     "output_type": "execute_result"
    }
   ],
   "source": [
    "## After filtering there\n",
    "df_merged_dataset"
   ]
  },
  {
   "cell_type": "code",
   "execution_count": 10,
   "id": "e1fcc8d02df55119",
   "metadata": {
    "ExecuteTime": {
     "end_time": "2024-04-11T15:29:05.303469Z",
     "start_time": "2024-04-11T15:29:05.280552Z"
    },
    "collapsed": false,
    "jupyter": {
     "outputs_hidden": false
    }
   },
   "outputs": [
    {
     "data": {
      "text/html": [
       "<div>\n",
       "<style scoped>\n",
       "    .dataframe tbody tr th:only-of-type {\n",
       "        vertical-align: middle;\n",
       "    }\n",
       "\n",
       "    .dataframe tbody tr th {\n",
       "        vertical-align: top;\n",
       "    }\n",
       "\n",
       "    .dataframe thead th {\n",
       "        text-align: right;\n",
       "    }\n",
       "</style>\n",
       "<table border=\"1\" class=\"dataframe\">\n",
       "  <thead>\n",
       "    <tr style=\"text-align: right;\">\n",
       "      <th></th>\n",
       "      <th>user_id</th>\n",
       "      <th>x</th>\n",
       "    </tr>\n",
       "    <tr>\n",
       "      <th>user_name</th>\n",
       "      <th></th>\n",
       "      <th></th>\n",
       "    </tr>\n",
       "  </thead>\n",
       "  <tbody>\n",
       "    <tr>\n",
       "      <th>00131d01aa119d2bb5f7e583bbc89842</th>\n",
       "      <td>0</td>\n",
       "      <td>11</td>\n",
       "    </tr>\n",
       "    <tr>\n",
       "      <th>0014724e6af5acc8cca2f508154fdba9</th>\n",
       "      <td>3</td>\n",
       "      <td>3</td>\n",
       "    </tr>\n",
       "    <tr>\n",
       "      <th>0014fa55f6b3afea1e75f78281ef02f3</th>\n",
       "      <td>0</td>\n",
       "      <td>82</td>\n",
       "    </tr>\n",
       "    <tr>\n",
       "      <th>001a7e5e989807349d0dc5e90eaebf83</th>\n",
       "      <td>4</td>\n",
       "      <td>4</td>\n",
       "    </tr>\n",
       "    <tr>\n",
       "      <th>0033c3f6ee86dee38a157162a8683621</th>\n",
       "      <td>17</td>\n",
       "      <td>17</td>\n",
       "    </tr>\n",
       "    <tr>\n",
       "      <th>...</th>\n",
       "      <td>...</td>\n",
       "      <td>...</td>\n",
       "    </tr>\n",
       "    <tr>\n",
       "      <th>ffa31db924ebf1353aaac21d4c6a3ff1</th>\n",
       "      <td>0</td>\n",
       "      <td>10</td>\n",
       "    </tr>\n",
       "    <tr>\n",
       "      <th>ffe917227e143f8531efccb9e6cb1e98</th>\n",
       "      <td>0</td>\n",
       "      <td>28</td>\n",
       "    </tr>\n",
       "    <tr>\n",
       "      <th>ffef396b5baaae379e21084f67aaa136</th>\n",
       "      <td>4</td>\n",
       "      <td>4</td>\n",
       "    </tr>\n",
       "    <tr>\n",
       "      <th>fff6b652444cea3dca87574553ab4398</th>\n",
       "      <td>9</td>\n",
       "      <td>9</td>\n",
       "    </tr>\n",
       "    <tr>\n",
       "      <th>fff6bc5b948de2533c500a685c6d8595</th>\n",
       "      <td>67</td>\n",
       "      <td>67</td>\n",
       "    </tr>\n",
       "  </tbody>\n",
       "</table>\n",
       "<p>3177 rows × 2 columns</p>\n",
       "</div>"
      ],
      "text/plain": [
       "                                  user_id   x\n",
       "user_name                                    \n",
       "00131d01aa119d2bb5f7e583bbc89842        0  11\n",
       "0014724e6af5acc8cca2f508154fdba9        3   3\n",
       "0014fa55f6b3afea1e75f78281ef02f3        0  82\n",
       "001a7e5e989807349d0dc5e90eaebf83        4   4\n",
       "0033c3f6ee86dee38a157162a8683621       17  17\n",
       "...                                   ...  ..\n",
       "ffa31db924ebf1353aaac21d4c6a3ff1        0  10\n",
       "ffe917227e143f8531efccb9e6cb1e98        0  28\n",
       "ffef396b5baaae379e21084f67aaa136        4   4\n",
       "fff6b652444cea3dca87574553ab4398        9   9\n",
       "fff6bc5b948de2533c500a685c6d8595       67  67\n",
       "\n",
       "[3177 rows x 2 columns]"
      ]
     },
     "execution_count": 10,
     "metadata": {},
     "output_type": "execute_result"
    }
   ],
   "source": [
    "# how many marks per user\n",
    "df_merged_dataset[[\"user_id\", \"user_name\", \"x\"]].groupby(\"user_name\").count()"
   ]
  },
  {
   "cell_type": "markdown",
   "id": "42c2737f2c06741d",
   "metadata": {
    "collapsed": false,
    "jupyter": {
     "outputs_hidden": false
    }
   },
   "source": [
    "## Clustering"
   ]
  },
  {
   "cell_type": "markdown",
   "id": "beefdd1511daad4",
   "metadata": {
    "collapsed": false,
    "jupyter": {
     "outputs_hidden": false
    }
   },
   "source": [
    "### Basic Statics like mean, median, mode"
   ]
  },
  {
   "cell_type": "code",
   "execution_count": 11,
   "id": "998d62019f01a2ec",
   "metadata": {
    "ExecuteTime": {
     "end_time": "2024-04-11T15:29:06.329830Z",
     "start_time": "2024-04-11T15:29:05.321986Z"
    },
    "collapsed": false,
    "jupyter": {
     "outputs_hidden": false
    }
   },
   "outputs": [],
   "source": [
    "from zooniverse.analysis import get_mark_overview\n",
    "\n",
    "basic_stats = []\n",
    "\n",
    "for image_name, df_image_name in df_merged_dataset.groupby(\"subject_id\"):\n",
    "    annotations_count = get_mark_overview(df_image_name)\n",
    "\n",
    "    annotations_count_stats = get_annotation_count_stats(annotations_count=annotations_count,\n",
    "                                                         image_name=df_image_name.iloc[0][\"image_name\"], \n",
    "                                                         subject_id=df_image_name.iloc[0][\"subject_id\"])\n",
    "\n",
    "    ### basic statistics like mean, median, mode\n",
    "    basic_stats.append(annotations_count_stats)\n",
    "    \n",
    "\n",
    "df_basic_stats = pd.DataFrame(basic_stats)    \n",
    "df_comparison = df_basic_stats\n"
   ]
  },
  {
   "cell_type": "code",
   "execution_count": 12,
   "id": "dd1f05f18807f3b4",
   "metadata": {
    "ExecuteTime": {
     "end_time": "2024-04-11T15:29:06.355763Z",
     "start_time": "2024-04-11T15:29:06.332993Z"
    },
    "collapsed": false,
    "jupyter": {
     "outputs_hidden": false
    }
   },
   "outputs": [
    {
     "data": {
      "text/html": [
       "<div>\n",
       "<style scoped>\n",
       "    .dataframe tbody tr th:only-of-type {\n",
       "        vertical-align: middle;\n",
       "    }\n",
       "\n",
       "    .dataframe tbody tr th {\n",
       "        vertical-align: top;\n",
       "    }\n",
       "\n",
       "    .dataframe thead th {\n",
       "        text-align: right;\n",
       "    }\n",
       "</style>\n",
       "<table border=\"1\" class=\"dataframe\">\n",
       "  <thead>\n",
       "    <tr style=\"text-align: right;\">\n",
       "      <th></th>\n",
       "      <th>image_name</th>\n",
       "      <th>subject_id</th>\n",
       "      <th>median_count</th>\n",
       "      <th>mean_count</th>\n",
       "      <th>mode_min_count</th>\n",
       "      <th>mode_max_count</th>\n",
       "      <th>mode_count</th>\n",
       "      <th>mode_count_avg</th>\n",
       "      <th>users</th>\n",
       "      <th>sum_annotations_count</th>\n",
       "      <th>annotations_count</th>\n",
       "    </tr>\n",
       "  </thead>\n",
       "  <tbody>\n",
       "    <tr>\n",
       "      <th>0</th>\n",
       "      <td>GEB01-1_101.jpg</td>\n",
       "      <td>78921850</td>\n",
       "      <td>1.0</td>\n",
       "      <td>1.00</td>\n",
       "      <td>1</td>\n",
       "      <td>1</td>\n",
       "      <td>[1]</td>\n",
       "      <td>1.0</td>\n",
       "      <td>1</td>\n",
       "      <td>1</td>\n",
       "      <td>[1]</td>\n",
       "    </tr>\n",
       "    <tr>\n",
       "      <th>1</th>\n",
       "      <td>GEB01-1_102.jpg</td>\n",
       "      <td>78921851</td>\n",
       "      <td>2.0</td>\n",
       "      <td>2.00</td>\n",
       "      <td>2</td>\n",
       "      <td>2</td>\n",
       "      <td>[2]</td>\n",
       "      <td>2.0</td>\n",
       "      <td>1</td>\n",
       "      <td>2</td>\n",
       "      <td>[2]</td>\n",
       "    </tr>\n",
       "    <tr>\n",
       "      <th>2</th>\n",
       "      <td>GEB01-1_109.jpg</td>\n",
       "      <td>78921856</td>\n",
       "      <td>3.0</td>\n",
       "      <td>3.00</td>\n",
       "      <td>2</td>\n",
       "      <td>4</td>\n",
       "      <td>[2, 4]</td>\n",
       "      <td>3.0</td>\n",
       "      <td>4</td>\n",
       "      <td>12</td>\n",
       "      <td>[2, 2, 4, 4]</td>\n",
       "    </tr>\n",
       "    <tr>\n",
       "      <th>3</th>\n",
       "      <td>GEB01-1_112.jpg</td>\n",
       "      <td>78921860</td>\n",
       "      <td>6.0</td>\n",
       "      <td>6.00</td>\n",
       "      <td>6</td>\n",
       "      <td>6</td>\n",
       "      <td>[6]</td>\n",
       "      <td>6.0</td>\n",
       "      <td>1</td>\n",
       "      <td>6</td>\n",
       "      <td>[6]</td>\n",
       "    </tr>\n",
       "    <tr>\n",
       "      <th>4</th>\n",
       "      <td>GEB01-1_113.jpg</td>\n",
       "      <td>78921861</td>\n",
       "      <td>1.0</td>\n",
       "      <td>1.00</td>\n",
       "      <td>1</td>\n",
       "      <td>1</td>\n",
       "      <td>[1]</td>\n",
       "      <td>1.0</td>\n",
       "      <td>1</td>\n",
       "      <td>1</td>\n",
       "      <td>[1]</td>\n",
       "    </tr>\n",
       "    <tr>\n",
       "      <th>...</th>\n",
       "      <td>...</td>\n",
       "      <td>...</td>\n",
       "      <td>...</td>\n",
       "      <td>...</td>\n",
       "      <td>...</td>\n",
       "      <td>...</td>\n",
       "      <td>...</td>\n",
       "      <td>...</td>\n",
       "      <td>...</td>\n",
       "      <td>...</td>\n",
       "      <td>...</td>\n",
       "    </tr>\n",
       "    <tr>\n",
       "      <th>7658</th>\n",
       "      <td>ESCH02-2_79.jpg</td>\n",
       "      <td>78965181</td>\n",
       "      <td>1.0</td>\n",
       "      <td>1.00</td>\n",
       "      <td>1</td>\n",
       "      <td>1</td>\n",
       "      <td>[1]</td>\n",
       "      <td>1.0</td>\n",
       "      <td>6</td>\n",
       "      <td>6</td>\n",
       "      <td>[1, 1, 1, 1, 1, 1]</td>\n",
       "    </tr>\n",
       "    <tr>\n",
       "      <th>7659</th>\n",
       "      <td>ESCH02-2_80.jpg</td>\n",
       "      <td>78965182</td>\n",
       "      <td>1.0</td>\n",
       "      <td>1.00</td>\n",
       "      <td>1</td>\n",
       "      <td>1</td>\n",
       "      <td>[1]</td>\n",
       "      <td>1.0</td>\n",
       "      <td>1</td>\n",
       "      <td>1</td>\n",
       "      <td>[1]</td>\n",
       "    </tr>\n",
       "    <tr>\n",
       "      <th>7660</th>\n",
       "      <td>ESCH02-2_81.jpg</td>\n",
       "      <td>78965183</td>\n",
       "      <td>2.0</td>\n",
       "      <td>1.95</td>\n",
       "      <td>2</td>\n",
       "      <td>2</td>\n",
       "      <td>[2]</td>\n",
       "      <td>2.0</td>\n",
       "      <td>20</td>\n",
       "      <td>39</td>\n",
       "      <td>[1, 1, 2, 2, 2, 2, 2, 2, 2, 2, 2, 2, 2, 2, 2, ...</td>\n",
       "    </tr>\n",
       "    <tr>\n",
       "      <th>7661</th>\n",
       "      <td>ESCH02-2_91.jpg</td>\n",
       "      <td>78965184</td>\n",
       "      <td>1.0</td>\n",
       "      <td>1.00</td>\n",
       "      <td>1</td>\n",
       "      <td>1</td>\n",
       "      <td>[1]</td>\n",
       "      <td>1.0</td>\n",
       "      <td>1</td>\n",
       "      <td>1</td>\n",
       "      <td>[1]</td>\n",
       "    </tr>\n",
       "    <tr>\n",
       "      <th>7662</th>\n",
       "      <td>ESCH02-2_92.jpg</td>\n",
       "      <td>78965185</td>\n",
       "      <td>1.0</td>\n",
       "      <td>1.76</td>\n",
       "      <td>1</td>\n",
       "      <td>1</td>\n",
       "      <td>[1]</td>\n",
       "      <td>1.0</td>\n",
       "      <td>17</td>\n",
       "      <td>30</td>\n",
       "      <td>[1, 1, 1, 1, 1, 1, 1, 1, 1, 1, 1, 1, 1, 1, 1, ...</td>\n",
       "    </tr>\n",
       "  </tbody>\n",
       "</table>\n",
       "<p>7663 rows × 11 columns</p>\n",
       "</div>"
      ],
      "text/plain": [
       "           image_name  subject_id  median_count  mean_count  mode_min_count  \\\n",
       "0     GEB01-1_101.jpg    78921850           1.0        1.00               1   \n",
       "1     GEB01-1_102.jpg    78921851           2.0        2.00               2   \n",
       "2     GEB01-1_109.jpg    78921856           3.0        3.00               2   \n",
       "3     GEB01-1_112.jpg    78921860           6.0        6.00               6   \n",
       "4     GEB01-1_113.jpg    78921861           1.0        1.00               1   \n",
       "...               ...         ...           ...         ...             ...   \n",
       "7658  ESCH02-2_79.jpg    78965181           1.0        1.00               1   \n",
       "7659  ESCH02-2_80.jpg    78965182           1.0        1.00               1   \n",
       "7660  ESCH02-2_81.jpg    78965183           2.0        1.95               2   \n",
       "7661  ESCH02-2_91.jpg    78965184           1.0        1.00               1   \n",
       "7662  ESCH02-2_92.jpg    78965185           1.0        1.76               1   \n",
       "\n",
       "      mode_max_count mode_count  mode_count_avg  users  sum_annotations_count  \\\n",
       "0                  1        [1]             1.0      1                      1   \n",
       "1                  2        [2]             2.0      1                      2   \n",
       "2                  4     [2, 4]             3.0      4                     12   \n",
       "3                  6        [6]             6.0      1                      6   \n",
       "4                  1        [1]             1.0      1                      1   \n",
       "...              ...        ...             ...    ...                    ...   \n",
       "7658               1        [1]             1.0      6                      6   \n",
       "7659               1        [1]             1.0      1                      1   \n",
       "7660               2        [2]             2.0     20                     39   \n",
       "7661               1        [1]             1.0      1                      1   \n",
       "7662               1        [1]             1.0     17                     30   \n",
       "\n",
       "                                      annotations_count  \n",
       "0                                                   [1]  \n",
       "1                                                   [2]  \n",
       "2                                          [2, 2, 4, 4]  \n",
       "3                                                   [6]  \n",
       "4                                                   [1]  \n",
       "...                                                 ...  \n",
       "7658                                 [1, 1, 1, 1, 1, 1]  \n",
       "7659                                                [1]  \n",
       "7660  [1, 1, 2, 2, 2, 2, 2, 2, 2, 2, 2, 2, 2, 2, 2, ...  \n",
       "7661                                                [1]  \n",
       "7662  [1, 1, 1, 1, 1, 1, 1, 1, 1, 1, 1, 1, 1, 1, 1, ...  \n",
       "\n",
       "[7663 rows x 11 columns]"
      ]
     },
     "execution_count": 12,
     "metadata": {},
     "output_type": "execute_result"
    }
   ],
   "source": [
    "df_basic_stats"
   ]
  },
  {
   "cell_type": "code",
   "execution_count": 13,
   "id": "d3dc86009d813ff0",
   "metadata": {
    "ExecuteTime": {
     "end_time": "2024-04-11T15:29:06.378603Z",
     "start_time": "2024-04-11T15:29:06.356648Z"
    },
    "collapsed": false,
    "jupyter": {
     "outputs_hidden": false
    }
   },
   "outputs": [
    {
     "data": {
      "text/html": [
       "<div>\n",
       "<style scoped>\n",
       "    .dataframe tbody tr th:only-of-type {\n",
       "        vertical-align: middle;\n",
       "    }\n",
       "\n",
       "    .dataframe tbody tr th {\n",
       "        vertical-align: top;\n",
       "    }\n",
       "\n",
       "    .dataframe thead th {\n",
       "        text-align: right;\n",
       "    }\n",
       "</style>\n",
       "<table border=\"1\" class=\"dataframe\">\n",
       "  <thead>\n",
       "    <tr style=\"text-align: right;\">\n",
       "      <th></th>\n",
       "      <th>image_name</th>\n",
       "      <th>subject_id</th>\n",
       "      <th>median_count</th>\n",
       "      <th>mean_count</th>\n",
       "      <th>mode_min_count</th>\n",
       "      <th>mode_max_count</th>\n",
       "      <th>mode_count</th>\n",
       "      <th>mode_count_avg</th>\n",
       "      <th>users</th>\n",
       "      <th>sum_annotations_count</th>\n",
       "      <th>annotations_count</th>\n",
       "    </tr>\n",
       "  </thead>\n",
       "  <tbody>\n",
       "    <tr>\n",
       "      <th>5461</th>\n",
       "      <td>PCIE07-3_153.jpg</td>\n",
       "      <td>78959385</td>\n",
       "      <td>1.0</td>\n",
       "      <td>1.0</td>\n",
       "      <td>1</td>\n",
       "      <td>1</td>\n",
       "      <td>[1]</td>\n",
       "      <td>1.0</td>\n",
       "      <td>4</td>\n",
       "      <td>4</td>\n",
       "      <td>[1, 1, 1, 1]</td>\n",
       "    </tr>\n",
       "    <tr>\n",
       "      <th>4623</th>\n",
       "      <td>PCIC01-3_167.jpg</td>\n",
       "      <td>78939248</td>\n",
       "      <td>1.0</td>\n",
       "      <td>1.0</td>\n",
       "      <td>1</td>\n",
       "      <td>1</td>\n",
       "      <td>[1]</td>\n",
       "      <td>1.0</td>\n",
       "      <td>4</td>\n",
       "      <td>4</td>\n",
       "      <td>[1, 1, 1, 1]</td>\n",
       "    </tr>\n",
       "    <tr>\n",
       "      <th>4365</th>\n",
       "      <td>PCI01-4_67.jpg</td>\n",
       "      <td>78938510</td>\n",
       "      <td>1.0</td>\n",
       "      <td>1.0</td>\n",
       "      <td>1</td>\n",
       "      <td>1</td>\n",
       "      <td>[1]</td>\n",
       "      <td>1.0</td>\n",
       "      <td>4</td>\n",
       "      <td>4</td>\n",
       "      <td>[1, 1, 1, 1]</td>\n",
       "    </tr>\n",
       "    <tr>\n",
       "      <th>7534</th>\n",
       "      <td>ESCH02-1_300.jpg</td>\n",
       "      <td>78964988</td>\n",
       "      <td>1.0</td>\n",
       "      <td>1.0</td>\n",
       "      <td>1</td>\n",
       "      <td>1</td>\n",
       "      <td>[1]</td>\n",
       "      <td>1.0</td>\n",
       "      <td>4</td>\n",
       "      <td>4</td>\n",
       "      <td>[1, 1, 1, 1]</td>\n",
       "    </tr>\n",
       "    <tr>\n",
       "      <th>6727</th>\n",
       "      <td>FSCA05-2_208.jpg</td>\n",
       "      <td>78963529</td>\n",
       "      <td>1.0</td>\n",
       "      <td>1.0</td>\n",
       "      <td>1</td>\n",
       "      <td>1</td>\n",
       "      <td>[1]</td>\n",
       "      <td>1.0</td>\n",
       "      <td>4</td>\n",
       "      <td>4</td>\n",
       "      <td>[1, 1, 1, 1]</td>\n",
       "    </tr>\n",
       "    <tr>\n",
       "      <th>...</th>\n",
       "      <td>...</td>\n",
       "      <td>...</td>\n",
       "      <td>...</td>\n",
       "      <td>...</td>\n",
       "      <td>...</td>\n",
       "      <td>...</td>\n",
       "      <td>...</td>\n",
       "      <td>...</td>\n",
       "      <td>...</td>\n",
       "      <td>...</td>\n",
       "      <td>...</td>\n",
       "    </tr>\n",
       "    <tr>\n",
       "      <th>2555</th>\n",
       "      <td>MEBBA03-2_114.jpg</td>\n",
       "      <td>78932214</td>\n",
       "      <td>1.0</td>\n",
       "      <td>1.0</td>\n",
       "      <td>1</td>\n",
       "      <td>1</td>\n",
       "      <td>[1]</td>\n",
       "      <td>1.0</td>\n",
       "      <td>1</td>\n",
       "      <td>1</td>\n",
       "      <td>[1]</td>\n",
       "    </tr>\n",
       "    <tr>\n",
       "      <th>2556</th>\n",
       "      <td>MEBBA03-2_129.jpg</td>\n",
       "      <td>78932215</td>\n",
       "      <td>1.0</td>\n",
       "      <td>1.0</td>\n",
       "      <td>1</td>\n",
       "      <td>1</td>\n",
       "      <td>[1]</td>\n",
       "      <td>1.0</td>\n",
       "      <td>1</td>\n",
       "      <td>1</td>\n",
       "      <td>[1]</td>\n",
       "    </tr>\n",
       "    <tr>\n",
       "      <th>2559</th>\n",
       "      <td>MEBBA03-2_162.jpg</td>\n",
       "      <td>78932224</td>\n",
       "      <td>2.0</td>\n",
       "      <td>2.0</td>\n",
       "      <td>2</td>\n",
       "      <td>2</td>\n",
       "      <td>[2]</td>\n",
       "      <td>2.0</td>\n",
       "      <td>1</td>\n",
       "      <td>2</td>\n",
       "      <td>[2]</td>\n",
       "    </tr>\n",
       "    <tr>\n",
       "      <th>2560</th>\n",
       "      <td>MEBBA03-2_163.jpg</td>\n",
       "      <td>78932225</td>\n",
       "      <td>4.0</td>\n",
       "      <td>4.0</td>\n",
       "      <td>4</td>\n",
       "      <td>4</td>\n",
       "      <td>[4]</td>\n",
       "      <td>4.0</td>\n",
       "      <td>1</td>\n",
       "      <td>4</td>\n",
       "      <td>[4]</td>\n",
       "    </tr>\n",
       "    <tr>\n",
       "      <th>7661</th>\n",
       "      <td>ESCH02-2_91.jpg</td>\n",
       "      <td>78965184</td>\n",
       "      <td>1.0</td>\n",
       "      <td>1.0</td>\n",
       "      <td>1</td>\n",
       "      <td>1</td>\n",
       "      <td>[1]</td>\n",
       "      <td>1.0</td>\n",
       "      <td>1</td>\n",
       "      <td>1</td>\n",
       "      <td>[1]</td>\n",
       "    </tr>\n",
       "  </tbody>\n",
       "</table>\n",
       "<p>4802 rows × 11 columns</p>\n",
       "</div>"
      ],
      "text/plain": [
       "             image_name  subject_id  median_count  mean_count  mode_min_count  \\\n",
       "5461   PCIE07-3_153.jpg    78959385           1.0         1.0               1   \n",
       "4623   PCIC01-3_167.jpg    78939248           1.0         1.0               1   \n",
       "4365     PCI01-4_67.jpg    78938510           1.0         1.0               1   \n",
       "7534   ESCH02-1_300.jpg    78964988           1.0         1.0               1   \n",
       "6727   FSCA05-2_208.jpg    78963529           1.0         1.0               1   \n",
       "...                 ...         ...           ...         ...             ...   \n",
       "2555  MEBBA03-2_114.jpg    78932214           1.0         1.0               1   \n",
       "2556  MEBBA03-2_129.jpg    78932215           1.0         1.0               1   \n",
       "2559  MEBBA03-2_162.jpg    78932224           2.0         2.0               2   \n",
       "2560  MEBBA03-2_163.jpg    78932225           4.0         4.0               4   \n",
       "7661    ESCH02-2_91.jpg    78965184           1.0         1.0               1   \n",
       "\n",
       "      mode_max_count mode_count  mode_count_avg  users  sum_annotations_count  \\\n",
       "5461               1        [1]             1.0      4                      4   \n",
       "4623               1        [1]             1.0      4                      4   \n",
       "4365               1        [1]             1.0      4                      4   \n",
       "7534               1        [1]             1.0      4                      4   \n",
       "6727               1        [1]             1.0      4                      4   \n",
       "...              ...        ...             ...    ...                    ...   \n",
       "2555               1        [1]             1.0      1                      1   \n",
       "2556               1        [1]             1.0      1                      1   \n",
       "2559               2        [2]             2.0      1                      2   \n",
       "2560               4        [4]             4.0      1                      4   \n",
       "7661               1        [1]             1.0      1                      1   \n",
       "\n",
       "     annotations_count  \n",
       "5461      [1, 1, 1, 1]  \n",
       "4623      [1, 1, 1, 1]  \n",
       "4365      [1, 1, 1, 1]  \n",
       "7534      [1, 1, 1, 1]  \n",
       "6727      [1, 1, 1, 1]  \n",
       "...                ...  \n",
       "2555               [1]  \n",
       "2556               [1]  \n",
       "2559               [2]  \n",
       "2560               [4]  \n",
       "7661               [1]  \n",
       "\n",
       "[4802 rows x 11 columns]"
      ]
     },
     "execution_count": 13,
     "metadata": {},
     "output_type": "execute_result"
    }
   ],
   "source": [
    "# There might be records with too few annotations if they were not removed before\n",
    "df_comparison[(df_comparison.sum_annotations_count < 5)].sort_values(by=\"users\", ascending=False)"
   ]
  },
  {
   "cell_type": "code",
   "execution_count": 14,
   "id": "50596f5c07d7bd7c",
   "metadata": {
    "ExecuteTime": {
     "end_time": "2024-04-11T15:29:06.395072Z",
     "start_time": "2024-04-11T15:29:06.379329Z"
    },
    "collapsed": false,
    "jupyter": {
     "outputs_hidden": false
    }
   },
   "outputs": [],
   "source": [
    "# Fill NaN values with 0 because the errors can't be calculated otherwise\n",
    "df_comparison.fillna(0, inplace=True)\n"
   ]
  },
  {
   "cell_type": "markdown",
   "id": "5d99c27ebf9bd6b6",
   "metadata": {
    "collapsed": false,
    "jupyter": {
     "outputs_hidden": false
    }
   },
   "source": [
    "### DBSCAN clustering and take the variant with the best silouette score for each image\n"
   ]
  },
  {
   "cell_type": "code",
   "execution_count": null,
   "id": "541f9f88dc56d1f1",
   "metadata": {
    "ExecuteTime": {
     "end_time": "2024-04-11T16:09:20.392144Z",
     "start_time": "2024-04-11T15:29:06.544502Z"
    },
    "collapsed": false,
    "jupyter": {
     "outputs_hidden": false
    }
   },
   "outputs": [],
   "source": [
    "## sort by silouette score sorting + dbscan_count\n",
    "from zooniverse.analysis import compare_dbscan\n",
    "\n",
    "eps_variants = [0.01, 0.05, 0.1, 0.2, 0.3, 0.4, 0.5]\n",
    "min_samples_variants = [3, 5, 8, 10]\n",
    "if debug:\n",
    "    eps_variants = [0.3]\n",
    "    min_samples_variants = [3]\n",
    "params = [(eps, min_samples) for eps in eps_variants for min_samples in min_samples_variants]\n",
    "\n",
    "db_scan_results = {}\n",
    "db_scan_best_results = []\n",
    "for image_name, df_image_name in df_merged_dataset.groupby(\"subject_id\"):\n",
    "    # check for at least 5 marks\n",
    "    if df_image_name.shape[0] >= 5:\n",
    "        dbscan_localization = compare_dbscan(\n",
    "            params=params,\n",
    "            df_flat=df_image_name,\n",
    "            output_plot_path=output_plot_path,\n",
    "            plot=show_plots\n",
    "        )\n",
    "    \n",
    "        db_scan_results[image_name] = pd.DataFrame(dbscan_localization)\n",
    "        \n",
    "        # DBSCAN tends to classfy all points as noise if min_samples is too high. Often only a single user marked an iguana.\n",
    "        # Sillouette Scoring needs a minimum of 2 clusters\n",
    "        # if there are points in decent radius they will belong to a cluster\n",
    "        if pd.DataFrame(dbscan_localization).dbscan_count.max() == 1:\n",
    "            db_scan_best_results.append(pd.DataFrame(dbscan_localization).sort_values(\"dbscan_count\", ascending=False).iloc[0])\n",
    "            # If two or more cluster seem to exists take ones with the best Silouette score\n",
    "        else:  \n",
    "            # take the best result by silouette score if there are more clusters then 1\n",
    "            db_scan_best_results.append(pd.DataFrame(dbscan_localization).sort_values([\"dbscan_silouette_score\", \"dbscan_count\"], ascending=[False, False]).iloc[0])\n",
    "    \n",
    "df_dbscan_localization = pd.concat([*db_scan_results.values()])\n",
    "df_scan_best_results = pd.DataFrame(db_scan_best_results)\n"
   ]
  },
  {
   "cell_type": "code",
   "execution_count": null,
   "id": "ec07d63d180d7442",
   "metadata": {
    "ExecuteTime": {
     "end_time": "2024-04-11T16:09:20.474849Z",
     "start_time": "2024-04-11T16:09:20.393942Z"
    },
    "collapsed": false,
    "jupyter": {
     "outputs_hidden": false
    }
   },
   "outputs": [],
   "source": [
    "df_scan_best_results"
   ]
  },
  {
   "cell_type": "markdown",
   "id": "d196ca1914a06509",
   "metadata": {
    "collapsed": false,
    "jupyter": {
     "outputs_hidden": false
    }
   },
   "source": [
    "Here it can be seen why the silouette score is difficult because it is often undefined."
   ]
  },
  {
   "cell_type": "code",
   "execution_count": null,
   "id": "c17c404cb518dbe1",
   "metadata": {
    "ExecuteTime": {
     "end_time": "2024-04-11T16:09:20.535845Z",
     "start_time": "2024-04-11T16:09:20.475735Z"
    },
    "collapsed": false,
    "jupyter": {
     "outputs_hidden": false
    }
   },
   "outputs": [],
   "source": [
    "## save the combinations of parameters, which maximized the silouette score.\n",
    "df_dbscan_localization.to_csv(config[\"dbscan_hyperparam_grid\"])\n"
   ]
  },
  {
   "cell_type": "code",
   "execution_count": null,
   "id": "bacea598a23a1b81",
   "metadata": {
    "ExecuteTime": {
     "end_time": "2024-04-11T16:09:20.557717Z",
     "start_time": "2024-04-11T16:09:20.536658Z"
    },
    "collapsed": false,
    "jupyter": {
     "outputs_hidden": false
    }
   },
   "outputs": [],
   "source": [
    "df_scan_best_results.rename(columns={\"dbscan_count\": \"dbscan_count_sil\"}, inplace=True)\n",
    "\n",
    "\n",
    "df_comparison = df_comparison.merge(df_scan_best_results.drop([\"image_name\"], axis=1), on='subject_id', how='left')"
   ]
  },
  {
   "cell_type": "code",
   "execution_count": null,
   "id": "509dec5ebdad923",
   "metadata": {
    "ExecuteTime": {
     "end_time": "2024-04-11T16:09:20.579719Z",
     "start_time": "2024-04-11T16:09:20.558380Z"
    },
    "collapsed": false,
    "jupyter": {
     "outputs_hidden": false
    }
   },
   "outputs": [],
   "source": [
    "\n",
    "df_comparison = df_comparison.drop([\"dbscan_noise\", \"dbscan_silouette_score\", \"eps\", \"min_samples\", \"dbscan_BIC_score\", \"with_noise\", \"bic_avg\"], axis=1, errors=\"ignore\")\n",
    "df_comparison"
   ]
  },
  {
   "cell_type": "markdown",
   "id": "15adf791099ac332",
   "metadata": {
    "collapsed": false,
    "jupyter": {
     "outputs_hidden": false
    }
   },
   "source": [
    "### HDBSCAN clustering for each image\n"
   ]
  },
  {
   "cell_type": "code",
   "execution_count": null,
   "id": "6763aed82e7088dd",
   "metadata": {
    "ExecuteTime": {
     "end_time": "2024-04-11T16:10:57.981346Z",
     "start_time": "2024-04-11T16:09:20.580479Z"
    },
    "collapsed": false,
    "jupyter": {
     "outputs_hidden": false
    }
   },
   "outputs": [],
   "source": [
    "from zooniverse.analysis import hdbscan\n",
    "\n",
    "hdbscan_values = []\n",
    "\n",
    "eps_variants = [0.0] # 0 is the default\n",
    "min_cluster_sizes = [5] # 5 is the default\n",
    "\n",
    "\n",
    "for image_name, df_image_name in df_merged_dataset.groupby(\"subject_id\"):\n",
    "    annotations_count = get_mark_overview(df_image_name)\n",
    "    \n",
    "    image_name=df_image_name.iloc[0][\"image_name\"]\n",
    "    subject_id=df_image_name.iloc[0][\"subject_id\"]\n",
    "    \n",
    "    annotations_count_stats = get_annotation_count_stats(annotations_count=annotations_count,\n",
    "                                                         image_name=image_name, \n",
    "                                                         subject_id=subject_id)\n",
    "    \n",
    "    # if less than min_cluster_sizes points are available clustering makes no sense\n",
    "    if df_image_name.shape[0] >= 5: # If num_samples is 5 for the min_cluster_size is 5 there is no point in passing data with less than 5 samples\n",
    "        params = [(eps, min_cluster_size, max_cluster_size) \n",
    "                    for eps in eps_variants\n",
    "                    for min_cluster_size in min_cluster_sizes\n",
    "                    for max_cluster_size in [None]\n",
    "              ]\n",
    "\n",
    "        df_hdbscan = hdbscan(df_marks=df_image_name[[\"x\", \"y\"]],\n",
    "                                     output_path=output_plot_path,\n",
    "                                     plot=show_plots,\n",
    "                                     show=show_plots,\n",
    "                                     image_name=image_name,\n",
    "                                     subject_id=subject_id,\n",
    "                                     params=params)\n",
    "        hdbscan_values.append(df_hdbscan)\n",
    "\n",
    "\n",
    "df_hdbscan = pd.concat(hdbscan_values)\n",
    "\n"
   ]
  },
  {
   "cell_type": "code",
   "execution_count": null,
   "id": "5de6304addaca41d",
   "metadata": {
    "ExecuteTime": {
     "end_time": "2024-04-11T16:10:58.011853Z",
     "start_time": "2024-04-11T16:10:57.982468Z"
    },
    "collapsed": false,
    "jupyter": {
     "outputs_hidden": false
    }
   },
   "outputs": [],
   "source": [
    "df_hdbscan.drop([\"with_noise\"], axis=1, inplace=True)\n",
    "df_hdbscan"
   ]
  },
  {
   "cell_type": "code",
   "execution_count": null,
   "id": "563e2747f9f8a77c",
   "metadata": {
    "ExecuteTime": {
     "end_time": "2024-04-11T16:10:58.038353Z",
     "start_time": "2024-04-11T16:10:58.012847Z"
    },
    "collapsed": false,
    "jupyter": {
     "outputs_hidden": false
    }
   },
   "outputs": [],
   "source": [
    "## Statistics for all images\n",
    "df_comparison = df_comparison.merge(df_hdbscan.drop([\"image_name\"], axis=1), on=['subject_id'], how='left')\n",
    "df_comparison.fillna(0, inplace=True)\n",
    "df_comparison"
   ]
  },
  {
   "cell_type": "code",
   "execution_count": null,
   "id": "c06aa84a3cef1155",
   "metadata": {
    "ExecuteTime": {
     "end_time": "2024-04-11T16:10:58.059986Z",
     "start_time": "2024-04-11T16:10:58.039343Z"
    },
    "collapsed": false,
    "jupyter": {
     "outputs_hidden": false
    }
   },
   "outputs": [],
   "source": [
    "df_panoptes_question = pd.read_csv(config[\"panoptes_question\"])\n",
    "df_panoptes_question"
   ]
  },
  {
   "cell_type": "code",
   "execution_count": null,
   "id": "bd5b4be03b3480d5",
   "metadata": {
    "ExecuteTime": {
     "end_time": "2024-04-11T16:10:58.089862Z",
     "start_time": "2024-04-11T16:10:58.060764Z"
    },
    "collapsed": false,
    "jupyter": {
     "outputs_hidden": false
    }
   },
   "outputs": [],
   "source": [
    "df_comparison.to_csv(config[\"comparison_dataset\"])\n",
    "print(f\"saved {config['comparison_dataset']}\")"
   ]
  },
  {
   "cell_type": "markdown",
   "id": "1b03742f30138251",
   "metadata": {
    "collapsed": false,
    "jupyter": {
     "outputs_hidden": false
    }
   },
   "source": [
    "## Join the Expert Dataset for comparison\n",
    "This dataset contains total_counts found by experts. "
   ]
  },
  {
   "cell_type": "code",
   "execution_count": null,
   "id": "58c41e9cf89044df",
   "metadata": {
    "ExecuteTime": {
     "end_time": "2024-04-11T16:10:58.114220Z",
     "start_time": "2024-04-11T16:10:58.090629Z"
    },
    "collapsed": false,
    "jupyter": {
     "outputs_hidden": false
    }
   },
   "outputs": [],
   "source": [
    "df_expert_count = pd.read_csv(config[\"goldstandard_data\"], sep=\";\")\n",
    "# check what is in there\n",
    "df_expert_count[df_expert_count.image_name == \"SFM01-1-2_264.jpg\"]"
   ]
  },
  {
   "cell_type": "code",
   "execution_count": null,
   "id": "99bc381a6542d035",
   "metadata": {
    "ExecuteTime": {
     "end_time": "2024-04-11T16:10:58.144082Z",
     "start_time": "2024-04-11T16:10:58.114915Z"
    },
    "collapsed": false,
    "jupyter": {
     "outputs_hidden": false
    }
   },
   "outputs": [],
   "source": [
    "## join the gold standard data to the basic stats\n",
    "df_comparison_expert = df_expert_count[[\"site_name\", \"subject_group\", \"image_name\", \"subject_id\", \"count_total\"]].merge(df_comparison.drop([\"image_name\"], axis=1), on='subject_id', how='left')\n",
    "\n",
    "columns_to_fill = ['median_count', 'mean_count', 'mode_min_count', 'mode_max_count',\n",
    "       'mode_count', 'mode_count_avg', 'users', 'sum_annotations_count',\n",
    "        'dbscan_count_sil', 'HDBSCAN_count']\n",
    "df_comparison_expert[columns_to_fill] = df_comparison_expert[columns_to_fill].fillna(0)\n",
    "\n",
    "df_comparison_expert.sort_values(by=\"median_count\", ascending=False)"
   ]
  },
  {
   "cell_type": "code",
   "execution_count": null,
   "id": "6e1dc7892a535ec9",
   "metadata": {
    "ExecuteTime": {
     "end_time": "2024-04-11T16:13:39.411711Z",
     "start_time": "2024-04-11T16:13:39.381524Z"
    },
    "collapsed": false,
    "jupyter": {
     "outputs_hidden": false
    }
   },
   "outputs": [],
   "source": [
    "df_comparison_expert.to_csv(config[\"comparison_dataset_expert\"])"
   ]
  },
  {
   "cell_type": "code",
   "execution_count": null,
   "id": "fcb14b5d4cf4e1f0",
   "metadata": {
    "ExecuteTime": {
     "end_time": "2024-04-11T16:13:41.267859Z",
     "start_time": "2024-04-11T16:13:41.233206Z"
    },
    "collapsed": false,
    "jupyter": {
     "outputs_hidden": false
    }
   },
   "outputs": [],
   "source": [
    "df_comparison_yes_no = df_comparison_expert.merge(df_panoptes_question, on=\"subject_id\", how=\"left\")\n",
    "df_comparison_yes_no"
   ]
  },
  {
   "cell_type": "code",
   "execution_count": null,
   "id": "830a5b4d94ba8acd",
   "metadata": {
    "ExecuteTime": {
     "end_time": "2024-04-11T16:13:42.089556Z",
     "start_time": "2024-04-11T16:13:42.043054Z"
    },
    "collapsed": false,
    "jupyter": {
     "outputs_hidden": false
    }
   },
   "outputs": [],
   "source": [
    "df_comparison_yes_no.to_csv(config[\"comparison_dataset_yes_no\"])\n",
    "df_comparison_yes_no"
   ]
  },
  {
   "cell_type": "markdown",
   "id": "1866104643b4427f",
   "metadata": {
    "collapsed": false,
    "jupyter": {
     "outputs_hidden": false
    }
   },
   "source": [
    "# A look into the results"
   ]
  },
  {
   "cell_type": "markdown",
   "id": "683ea0eaf795e5ff",
   "metadata": {
    "collapsed": false,
    "jupyter": {
     "outputs_hidden": false
    }
   },
   "source": [
    "## The sum of the clustering\n",
    "What is the sum of the methods"
   ]
  },
  {
   "cell_type": "code",
   "execution_count": null,
   "id": "a7f64204-b9a3-49ca-a916-b8efd9303560",
   "metadata": {},
   "outputs": [],
   "source": [
    "df_comparison_yes_no[df_comparison_yes_no[\"data.yes\"] >= 5]"
   ]
  },
  {
   "cell_type": "code",
   "execution_count": null,
   "id": "2ae2f205858fd9c4",
   "metadata": {
    "ExecuteTime": {
     "end_time": "2024-04-11T16:14:12.132511Z",
     "start_time": "2024-04-11T16:14:12.079024Z"
    },
    "collapsed": false,
    "jupyter": {
     "outputs_hidden": false
    }
   },
   "outputs": [],
   "source": [
    "# Take only the subjects which have more or equal 5 yes votes.\n",
    "df_method_sums = df_comparison_yes_no[df_comparison_yes_no[\"data.yes\"] >= 5][[\"count_total\", \"median_count\", \"mean_count\", \"mode_min_count\", \"mode_max_count\", \"mode_count_avg\", \"mode_min_count\", \"mode_max_count\", \"dbscan_count_sil\", \"HDBSCAN_count\"]].sum()\n",
    "df_method_sums.to_csv(config[\"method_sums\"])\n",
    "df_method_sums"
   ]
  },
  {
   "cell_type": "markdown",
   "id": "88ca320d97a38518",
   "metadata": {
    "collapsed": false,
    "jupyter": {
     "outputs_hidden": false
    }
   },
   "source": [
    "## Compare the numbers\n",
    "The counts are only for images which were in the dataset after filtering."
   ]
  },
  {
   "cell_type": "markdown",
   "id": "8f58c29117a907a4",
   "metadata": {
    "collapsed": false,
    "jupyter": {
     "outputs_hidden": false
    }
   },
   "source": [
    "### Sum of all the Methods"
   ]
  },
  {
   "cell_type": "code",
   "execution_count": null,
   "id": "e6a0ba0c34ca129a",
   "metadata": {
    "collapsed": false,
    "jupyter": {
     "outputs_hidden": false
    }
   },
   "outputs": [],
   "source": [
    "print(f\"{config['method_sums'].name}\")\n",
    "df_method_sums = pd.read_csv(config[\"method_sums\"])\n",
    "df_method_sums"
   ]
  },
  {
   "cell_type": "markdown",
   "id": "59e1a0f4ffc4dcd0",
   "metadata": {
    "collapsed": false,
    "jupyter": {
     "outputs_hidden": false
    }
   },
   "source": [
    "### Comparison per Image Level"
   ]
  },
  {
   "cell_type": "code",
   "execution_count": null,
   "id": "b63a639e877e8b4a",
   "metadata": {
    "collapsed": false,
    "jupyter": {
     "outputs_hidden": false
    }
   },
   "outputs": [],
   "source": [
    "print(f\"load {config['comparison_dataset']}\")\n",
    "pd.read_csv(config[\"comparison_dataset\"])"
   ]
  },
  {
   "cell_type": "code",
   "execution_count": null,
   "id": "9cf58a9be2cfd66e",
   "metadata": {
    "collapsed": false,
    "jupyter": {
     "outputs_hidden": false
    }
   },
   "outputs": [],
   "source": []
  }
 ],
 "metadata": {
  "kernelspec": {
   "display_name": "Python 3 (ipykernel)",
   "language": "python",
   "name": "python3"
  },
  "language_info": {
   "codemirror_mode": {
    "name": "ipython",
    "version": 3
   },
   "file_extension": ".py",
   "mimetype": "text/x-python",
   "name": "python",
   "nbconvert_exporter": "python",
   "pygments_lexer": "ipython3",
   "version": "3.9.6"
  }
 },
 "nbformat": 4,
 "nbformat_minor": 5
}
