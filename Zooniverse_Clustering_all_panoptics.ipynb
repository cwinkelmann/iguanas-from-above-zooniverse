{
 "cells": [
  {
   "cell_type": "markdown",
   "id": "708022ad72146e6d",
   "metadata": {},
   "source": [
    "# Clustering Zooniverse Marks to count Iguanas\n",
    "Count all the iguanas in the images by clustering the marks from the zooniverse volunteers.\n",
    "This does not compare the results to the gold standard and requires only a single file, the flattened zooniverse data export."
   ]
  },
  {
   "cell_type": "code",
   "execution_count": 8,
   "id": "d59fc4434d71491c",
   "metadata": {
    "collapsed": false,
    "tags": [],
    "ExecuteTime": {
     "end_time": "2024-04-10T19:42:21.755792Z",
     "start_time": "2024-04-10T19:42:21.725691Z"
    }
   },
   "outputs": [
    {
     "name": "stdout",
     "output_type": "stream",
     "text": [
      "The autoreload extension is already loaded. To reload it, use:\n",
      "  %reload_ext autoreload\n"
     ]
    }
   ],
   "source": [
    "%load_ext autoreload\n",
    "%autoreload 2\n",
    "\n",
    "import sys\n",
    "\n",
    "sys.path.append(\"./\")\n",
    "sys.path.append(\"./zooniverse\")"
   ]
  },
  {
   "cell_type": "markdown",
   "id": "731716bd21e99cbe",
   "metadata": {
    "collapsed": false
   },
   "source": [
    "## Intro\n",
    "### Retrieve a Classification report from Zooniverse\n",
    "This notebook is used to cluster the marks from the zooniverse volunteers to count the iguanas in the images saved in results/<phase_tag>/flat_dataset_filtered_Iguanas 3rd launch.csv\n",
    "\n",
    "Used Methods are:\n",
    "\n",
    "### DBSCAN \n",
    "It does not require the number of clusters to be specified. It is used here because, but has min_samples and eps as hyperparameters which need to be found. [Link](https://scikit-learn.org/stable/auto_examples/cluster/plot_dbscan.html)\n",
    "For finding eps and min_sample a simple **grid search** is used.\n",
    "Additionally, DBSCAN not assume a specific shape for the clusters (K-means assumes clusters are gaussian in shape) even though we should assume that points around an iguana is gaussian shaped.\n",
    "\n",
    "### HDBSCAN\n",
    "It is an extension of DBSCAN which is more robust to hyperparameter settings as it finds epsilon and min_samples automatically. [Link](https://scikit-learn.org/stable/modules/generated/sklearn.cluster.HDBSCAN.html)"
   ]
  },
  {
   "cell_type": "markdown",
   "id": "e261acba86137ddd",
   "metadata": {
    "collapsed": false
   },
   "source": [
    "## Load the data"
   ]
  },
  {
   "cell_type": "code",
   "execution_count": 9,
   "id": "823d8c3234e4a1de",
   "metadata": {
    "collapsed": false,
    "tags": [],
    "ExecuteTime": {
     "end_time": "2024-04-10T19:42:21.888839Z",
     "start_time": "2024-04-10T19:42:21.855793Z"
    }
   },
   "outputs": [],
   "source": [
    "from pathlib import Path\n",
    "\n",
    "import pandas as pd\n",
    "from zooniverse.analysis import get_annotation_count_stats\n",
    "from zooniverse.utils.filters import filter_df_user_threshold\n",
    "\n",
    "\n",
    "\n",
    "# Phase Selection\n",
    "phase_tag = \"Iguanas 1st launch\"\n",
    "# phase_tag = \"Iguanas 2nd launch\"\n",
    "# phase_tag = \"Iguanas 3rd launch\"\n",
    "\n",
    "\n",
    "debug = False # debugging with a smaller dataset\n",
    "plot_diagrams = False # plot the diagrams to disk for the clustering methods\n",
    "show_plots = False # show the plots in the notebook\n",
    "\n",
    "user_threshold = None # None or a number, filter records which have less than these user interactions.\n",
    "\n",
    "use_gold_standard_subset = None # Use no filtering\n",
    "\n",
    "\n",
    "\n",
    "## Input Path of all the data\n",
    "input_path =Path(\"/Users/christian/data/zooniverse\")\n",
    "# input_path = Path(\"results/\")\n",
    "# Location for the analysis Results\n",
    "output_path = Path(input_path.joinpath(f\"2024_04_10_analysis\").joinpath(phase_tag))\n",
    "output_path.mkdir(exist_ok=True, parents=True)\n",
    "reprocess = True # if True, the raw classification data is reprocessed. If False, the data is loaded from disk\n",
    "\n",
    "# Location for plots\n",
    "output_plot_path = output_path.joinpath(\"plots\")\n",
    "output_plot_path.mkdir(parents=True, exist_ok=True)\n"
   ]
  },
  {
   "cell_type": "markdown",
   "id": "593bea9e98df4db0",
   "metadata": {
    "collapsed": false
   },
   "source": [
    "## Look into the config\n",
    "This Config points to all files necessary for the analysis + the result files"
   ]
  },
  {
   "cell_type": "code",
   "execution_count": 10,
   "id": "674da03e20316ae5",
   "metadata": {
    "collapsed": false,
    "ExecuteTime": {
     "end_time": "2024-04-10T19:42:21.921403Z",
     "start_time": "2024-04-10T19:42:21.891699Z"
    }
   },
   "outputs": [
    {
     "data": {
      "text/plain": "{'annotations_source': PosixPath('/Users/christian/data/zooniverse/IguanasFromAbove/2023-10-15/iguanas-from-above-classifications.csv'),\n 'goldstandard_data': None,\n 'gold_standard_image_subset': None,\n 'image_source': None,\n 'yes_no_dataset': PosixPath('/Users/christian/data/zooniverse/2024_04_10_analysis/Iguanas 1st launch/yes_no_dataset_Iguanas 1st launch.csv'),\n 'flat_dataset': PosixPath('/Users/christian/data/zooniverse/2024_04_10_analysis/Iguanas 1st launch/flat_dataset_Iguanas 1st launch.csv'),\n 'flat_panoptes_points': PosixPath('/Users/christian/data/zooniverse/2024_04_10_analysis/Iguanas 1st launch/flat_panoptes_points_Iguanas 1st launch.csv'),\n 'merged_dataset': PosixPath('/Users/christian/data/zooniverse/2024_04_10_analysis/Iguanas 1st launch/flat_dataset_filtered_Iguanas 1st launch.csv'),\n 'comparison_dataset': PosixPath('/Users/christian/data/zooniverse/2024_04_10_analysis/Iguanas 1st launch/Iguanas 1st launch_method_comparison.csv'),\n 'method_sums': PosixPath('/Users/christian/data/zooniverse/2024_04_10_analysis/Iguanas 1st launch/Iguanas 1st launch_method_sums.csv'),\n 'dbscan_hyperparam_grid': PosixPath('/Users/christian/data/zooniverse/2024_04_10_analysis/Iguanas 1st launch/Iguanas 1st launch_hyperparam_grid.csv')}"
     },
     "execution_count": 10,
     "metadata": {},
     "output_type": "execute_result"
    }
   ],
   "source": [
    "from zooniverse.config import get_config_all\n",
    "\n",
    "config = get_config_all(phase_tag=phase_tag, input_path=input_path, output_path=output_path)\n",
    "config"
   ]
  },
  {
   "cell_type": "code",
   "outputs": [],
   "source": [],
   "metadata": {
    "collapsed": false,
    "ExecuteTime": {
     "end_time": "2024-04-10T19:42:21.925362Z",
     "start_time": "2024-04-10T19:42:21.922961Z"
    }
   },
   "id": "45ed539ce0da3ec1",
   "execution_count": 10
  },
  {
   "cell_type": "code",
   "execution_count": 11,
   "id": "ee63e05f12a7f36b",
   "metadata": {
    "collapsed": false,
    "ExecuteTime": {
     "end_time": "2024-04-10T19:43:35.712982Z",
     "start_time": "2024-04-10T19:42:21.928253Z"
    }
   },
   "outputs": [
    {
     "name": "stderr",
     "output_type": "stream",
     "text": [
      "\u001B[32m2024-04-10 21:42:21.957\u001B[0m | \u001B[1mINFO    \u001B[0m | \u001B[36mzooniverse.utils.data_format\u001B[0m:\u001B[36mread_zooniverse_annotations_v2\u001B[0m:\u001B[36m179\u001B[0m - \u001B[1mfound a new phase tag: Iguanas 1st launch\u001B[0m\n"
     ]
    },
    {
     "name": "stdout",
     "output_type": "stream",
     "text": [
      "{'retired': None, 'link': 'https://www.flickr.com/photos/hellie55/6713782851', 'origin': 'Flickr', 'license': 'Creative Commons - share adapt attribute', 'subject_id': '3', 'attribution': 'hehaden', 'image_name_1': '6713782851_82fc8c73e5_z.jpg', '#secret_description': 'juvenile kittehs practice break-in at the catnip factory'}\n",
      "{'retired': None, 'link': 'https://www.flickr.com/photos/davebloggs007/15899553966', 'origin': 'Flickr', 'license': 'Creative Commons - share adapt attribute', 'subject_id': '16', 'attribution': 'davebloggs007', 'image_name_1': '15899553966_5debf88369_z.jpg', '#secret_description': 'makeover kitteh not sure these new contacts are sassy enough'}\n",
      "{'retired': None, 'link': 'https://www.flickr.com/photos/odoketa/8762013777', 'origin': 'Flickr', 'license': 'Creative Commons - share adapt attribute', 'subject_id': '4', 'attribution': 'David Barber', 'image_name_1': '8762013777_1fa7d91e98_z.jpg', '#secret_description': 'hunter kitteh only willing to go so far to capture the feather duster'}\n"
     ]
    },
    {
     "name": "stderr",
     "output_type": "stream",
     "text": [
      "\u001B[32m2024-04-10 21:42:41.511\u001B[0m | \u001B[1mINFO    \u001B[0m | \u001B[36mzooniverse.utils.data_format\u001B[0m:\u001B[36mread_zooniverse_annotations_v2\u001B[0m:\u001B[36m179\u001B[0m - \u001B[1mfound a new phase tag: Main Workflow\u001B[0m\n",
      "\u001B[32m2024-04-10 21:42:44.958\u001B[0m | \u001B[1mINFO    \u001B[0m | \u001B[36mzooniverse.utils.data_format\u001B[0m:\u001B[36mread_zooniverse_annotations_v2\u001B[0m:\u001B[36m179\u001B[0m - \u001B[1mfound a new phase tag: survey tool 061417\u001B[0m\n",
      "\u001B[32m2024-04-10 21:42:48.786\u001B[0m | \u001B[1mINFO    \u001B[0m | \u001B[36mzooniverse.utils.data_format\u001B[0m:\u001B[36mread_zooniverse_annotations_v2\u001B[0m:\u001B[36m179\u001B[0m - \u001B[1mfound a new phase tag: Iguanas 2nd launch\u001B[0m\n",
      "\u001B[32m2024-04-10 21:42:58.557\u001B[0m | \u001B[1mINFO    \u001B[0m | \u001B[36mzooniverse.utils.data_format\u001B[0m:\u001B[36mread_zooniverse_annotations_v2\u001B[0m:\u001B[36m179\u001B[0m - \u001B[1mfound a new phase tag: Iguanas 3rd launch\u001B[0m\n",
      "\u001B[32m2024-04-10 21:43:31.668\u001B[0m | \u001B[1mINFO    \u001B[0m | \u001B[36mzooniverse.utils.data_format\u001B[0m:\u001B[36mread_zooniverse_annotations_v2\u001B[0m:\u001B[36m179\u001B[0m - \u001B[1mfound a new phase tag: Iguanas 4th launch\u001B[0m\n",
      "\u001B[32m2024-04-10 21:43:31.669\u001B[0m | \u001B[1mINFO    \u001B[0m | \u001B[36mzooniverse.utils.data_format\u001B[0m:\u001B[36mread_zooniverse_annotations_v2\u001B[0m:\u001B[36m179\u001B[0m - \u001B[1mfound a new phase tag: Plastics GS dataset\u001B[0m\n",
      "\u001B[32m2024-04-10 21:43:31.703\u001B[0m | \u001B[1mINFO    \u001B[0m | \u001B[36mzooniverse.utils.data_format\u001B[0m:\u001B[36mread_zooniverse_annotations_v2\u001B[0m:\u001B[36m263\u001B[0m - \u001B[1mgenerating flat dataframe from the dataset\u001B[0m\n",
      "\u001B[32m2024-04-10 21:43:34.760\u001B[0m | \u001B[1mINFO    \u001B[0m | \u001B[36mzooniverse.utils.data_format\u001B[0m:\u001B[36mdata_prep_all\u001B[0m:\u001B[36m408\u001B[0m - \u001B[1mflat_dataset_Iguanas Iguanas 1st launch.csv: 8260 images in classification for Iguanas 1st launch\u001B[0m\n",
      "\u001B[32m2024-04-10 21:43:34.796\u001B[0m | \u001B[33m\u001B[1mWARNING \u001B[0m | \u001B[36mzooniverse.utils.filters\u001B[0m:\u001B[36mfilter_remove_marks\u001B[0m:\u001B[36m38\u001B[0m - \u001B[33m\u001B[1mremoved 2600 partial marks\u001B[0m\n",
      "\u001B[32m2024-04-10 21:43:34.817\u001B[0m | \u001B[33m\u001B[1mWARNING \u001B[0m | \u001B[36mzooniverse.utils.filters\u001B[0m:\u001B[36mfilter_remove_marks\u001B[0m:\u001B[36m39\u001B[0m - \u001B[33m\u001B[1mAfter filter_func 3929 images are left\u001B[0m\n",
      "\u001B[32m2024-04-10 21:43:34.819\u001B[0m | \u001B[1mINFO    \u001B[0m | \u001B[36mzooniverse.utils.data_format\u001B[0m:\u001B[36mprocess_zooniverse_phases_flat\u001B[0m:\u001B[36m121\u001B[0m - \u001B[1mworking with 24359 records after filtering with filter_func\u001B[0m\n",
      "\u001B[32m2024-04-10 21:43:34.839\u001B[0m | \u001B[1mINFO    \u001B[0m | \u001B[36mzooniverse.utils.data_format\u001B[0m:\u001B[36mdata_prep_all\u001B[0m:\u001B[36m432\u001B[0m - \u001B[1mworking with 24359 records after process function 'process_zooniverse_phases'\u001B[0m\n",
      "\u001B[32m2024-04-10 21:43:34.982\u001B[0m | \u001B[1mINFO    \u001B[0m | \u001B[36mzooniverse.utils.data_format\u001B[0m:\u001B[36mdata_prep_all\u001B[0m:\u001B[36m434\u001B[0m - \u001B[1msaved finished dataset to /Users/christian/data/zooniverse/2024_04_10_analysis/Iguanas 1st launch/flat_dataset_filtered_Iguanas 1st launch.csv\u001B[0m\n"
     ]
    },
    {
     "name": "stdout",
     "output_type": "stream",
     "text": [
      "                                       filename  images\n",
      "0           flat_dataset_Iguanas 1st launch.csv    8260\n",
      "1  flat_dataset_filtered_Iguanas 1st launch.csv    3929\n",
      "Data loaded successfully.\n",
      "Anonymization completed.\n",
      "Anonymized data saved to /Users/christian/data/zooniverse/2024_04_10_analysis/Iguanas 1st launch/flat_dataset_Iguanas 1st launch.csv\n",
      "Data loaded successfully.\n",
      "Anonymization completed.\n",
      "Anonymized data saved to /Users/christian/data/zooniverse/2024_04_10_analysis/Iguanas 1st launch/flat_dataset_filtered_Iguanas 1st launch.csv\n"
     ]
    }
   ],
   "source": [
    "from zooniverse.utils.anonymize import UserAnonymizer\n",
    "from zooniverse.utils.data_format import data_prep_all\n",
    "\n",
    "if reprocess:\n",
    "    ds_stats = data_prep_all(phase_tag=phase_tag, \n",
    "                         output_path=output_path, \n",
    "                         input_path=input_path, \n",
    "                         config=config)\n",
    "    print(ds_stats)\n",
    "    \n",
    "    # TODO the data should be anonymized already\n",
    "    # Anomymise the data to prevent usernames and user_ids to become public\n",
    "    anonymizer = UserAnonymizer(config[\"flat_dataset\"])\n",
    "    anonymizer.anonymize_data()\n",
    "    anonymizer.save_anonymized_data(config[\"flat_dataset\"])\n",
    "    \n",
    "    anonymizer = UserAnonymizer(config[\"merged_dataset\"])\n",
    "    anonymizer.anonymize_data()\n",
    "    anonymizer.save_anonymized_data(config[\"merged_dataset\"])"
   ]
  },
  {
   "cell_type": "code",
   "outputs": [
    {
     "data": {
      "text/plain": "{'annotations_source': PosixPath('/Users/christian/data/zooniverse/IguanasFromAbove/2023-10-15/iguanas-from-above-classifications.csv'),\n 'goldstandard_data': None,\n 'gold_standard_image_subset': None,\n 'image_source': None,\n 'yes_no_dataset': PosixPath('/Users/christian/data/zooniverse/2024_04_10_analysis/Iguanas 1st launch/yes_no_dataset_Iguanas 1st launch.csv'),\n 'flat_dataset': PosixPath('/Users/christian/data/zooniverse/2024_04_10_analysis/Iguanas 1st launch/flat_dataset_Iguanas 1st launch.csv'),\n 'flat_panoptes_points': PosixPath('/Users/christian/data/zooniverse/2024_04_10_analysis/Iguanas 1st launch/flat_panoptes_points_Iguanas 1st launch.csv'),\n 'merged_dataset': PosixPath('/Users/christian/data/zooniverse/2024_04_10_analysis/Iguanas 1st launch/flat_dataset_filtered_Iguanas 1st launch.csv'),\n 'comparison_dataset': PosixPath('/Users/christian/data/zooniverse/2024_04_10_analysis/Iguanas 1st launch/Iguanas 1st launch_method_comparison.csv'),\n 'method_sums': PosixPath('/Users/christian/data/zooniverse/2024_04_10_analysis/Iguanas 1st launch/Iguanas 1st launch_method_sums.csv'),\n 'dbscan_hyperparam_grid': PosixPath('/Users/christian/data/zooniverse/2024_04_10_analysis/Iguanas 1st launch/Iguanas 1st launch_hyperparam_grid.csv')}"
     },
     "execution_count": 12,
     "metadata": {},
     "output_type": "execute_result"
    }
   ],
   "source": [
    "config"
   ],
   "metadata": {
    "collapsed": false,
    "ExecuteTime": {
     "end_time": "2024-04-10T19:43:35.743260Z",
     "start_time": "2024-04-10T19:43:35.714391Z"
    }
   },
   "id": "cbd192aa0a5112c0",
   "execution_count": 12
  },
  {
   "cell_type": "code",
   "execution_count": 28,
   "id": "bc2fa0f92651d9da",
   "metadata": {
    "collapsed": false,
    "ExecuteTime": {
     "end_time": "2024-04-10T19:49:52.578807Z",
     "start_time": "2024-04-10T19:49:52.502669Z"
    }
   },
   "outputs": [
    {
     "data": {
      "text/plain": "       Unnamed: 0 flight_site_code  workflow_id  workflow_version  \\\n2584         3451             SFM1        14370           134.236   \n2585         3452             SFM1        14370           134.236   \n2586         3453             SFM1        14370           134.236   \n2587         3454             SFM1        14370           134.236   \n2588         3455             SFM1        14370           134.236   \n...           ...              ...          ...               ...   \n21597       35696             SFM1        14370           134.236   \n21598       35697             SFM1        14370           134.236   \n21599       35698             SFM1        14370           134.236   \n21600       35699             SFM1        14370           134.236   \n21601       35700             SFM1        14370           134.236   \n\n              image_name  subject_id           x           y  \\\n2584   SFM01-1-2_264.jpg    47968406  462.800781  390.786377   \n2585   SFM01-1-2_264.jpg    47968406  545.598145  423.652527   \n2586   SFM01-1-2_264.jpg    47968406  522.844666  412.275787   \n2587   SFM01-1-2_264.jpg    47968406  507.675720  388.258240   \n2588   SFM01-1-2_264.jpg    47968406  450.159973  434.397217   \n...                  ...         ...         ...         ...   \n21597  SFM01-1-2_264.jpg    47968406  461.436340  386.567505   \n21598  SFM01-1-2_264.jpg    47968406  506.434204  387.221497   \n21599  SFM01-1-2_264.jpg    47968406  543.688904  419.596954   \n21600  SFM01-1-2_264.jpg    47968406  530.580627  404.817047   \n21601  SFM01-1-2_264.jpg    47968406  512.983704  412.466034   \n\n                                              tool_label           phase_tag  \\\n2584                                 Adult Male in a lek  Iguanas 1st launch   \n2585   Others (females, young males, juveniles and ta...  Iguanas 1st launch   \n2586   Others (females, young males, juveniles and ta...  Iguanas 1st launch   \n2587   Others (females, young males, juveniles and ta...  Iguanas 1st launch   \n2588   Others (females, young males, juveniles and ta...  Iguanas 1st launch   \n...                                                  ...                 ...   \n21597                                Adult Male in a lek  Iguanas 1st launch   \n21598  Others (females, young males, juveniles and ta...  Iguanas 1st launch   \n21599  Others (females, young males, juveniles and ta...  Iguanas 1st launch   \n21600  Others (females, young males, juveniles and ta...  Iguanas 1st launch   \n21601  Others (females, young males, juveniles and ta...  Iguanas 1st launch   \n\n                                user_id                         user_name  \n2584   08cbd51d46cf6d3d7af3f5d1d4f909b6  dd741bfe7c2eabd0265422e728bd1738  \n2585   08cbd51d46cf6d3d7af3f5d1d4f909b6  dd741bfe7c2eabd0265422e728bd1738  \n2586   08cbd51d46cf6d3d7af3f5d1d4f909b6  dd741bfe7c2eabd0265422e728bd1738  \n2587   08cbd51d46cf6d3d7af3f5d1d4f909b6  dd741bfe7c2eabd0265422e728bd1738  \n2588   08cbd51d46cf6d3d7af3f5d1d4f909b6  dd741bfe7c2eabd0265422e728bd1738  \n...                                 ...                               ...  \n21597  4856c2c566a02d7b50d780ee9f282eb2  25ffd006d4afb04d099ef4c46ff9c945  \n21598  4856c2c566a02d7b50d780ee9f282eb2  25ffd006d4afb04d099ef4c46ff9c945  \n21599  4856c2c566a02d7b50d780ee9f282eb2  25ffd006d4afb04d099ef4c46ff9c945  \n21600  4856c2c566a02d7b50d780ee9f282eb2  25ffd006d4afb04d099ef4c46ff9c945  \n21601  4856c2c566a02d7b50d780ee9f282eb2  25ffd006d4afb04d099ef4c46ff9c945  \n\n[75 rows x 12 columns]",
      "text/html": "<div>\n<style scoped>\n    .dataframe tbody tr th:only-of-type {\n        vertical-align: middle;\n    }\n\n    .dataframe tbody tr th {\n        vertical-align: top;\n    }\n\n    .dataframe thead th {\n        text-align: right;\n    }\n</style>\n<table border=\"1\" class=\"dataframe\">\n  <thead>\n    <tr style=\"text-align: right;\">\n      <th></th>\n      <th>Unnamed: 0</th>\n      <th>flight_site_code</th>\n      <th>workflow_id</th>\n      <th>workflow_version</th>\n      <th>image_name</th>\n      <th>subject_id</th>\n      <th>x</th>\n      <th>y</th>\n      <th>tool_label</th>\n      <th>phase_tag</th>\n      <th>user_id</th>\n      <th>user_name</th>\n    </tr>\n  </thead>\n  <tbody>\n    <tr>\n      <th>2584</th>\n      <td>3451</td>\n      <td>SFM1</td>\n      <td>14370</td>\n      <td>134.236</td>\n      <td>SFM01-1-2_264.jpg</td>\n      <td>47968406</td>\n      <td>462.800781</td>\n      <td>390.786377</td>\n      <td>Adult Male in a lek</td>\n      <td>Iguanas 1st launch</td>\n      <td>08cbd51d46cf6d3d7af3f5d1d4f909b6</td>\n      <td>dd741bfe7c2eabd0265422e728bd1738</td>\n    </tr>\n    <tr>\n      <th>2585</th>\n      <td>3452</td>\n      <td>SFM1</td>\n      <td>14370</td>\n      <td>134.236</td>\n      <td>SFM01-1-2_264.jpg</td>\n      <td>47968406</td>\n      <td>545.598145</td>\n      <td>423.652527</td>\n      <td>Others (females, young males, juveniles and ta...</td>\n      <td>Iguanas 1st launch</td>\n      <td>08cbd51d46cf6d3d7af3f5d1d4f909b6</td>\n      <td>dd741bfe7c2eabd0265422e728bd1738</td>\n    </tr>\n    <tr>\n      <th>2586</th>\n      <td>3453</td>\n      <td>SFM1</td>\n      <td>14370</td>\n      <td>134.236</td>\n      <td>SFM01-1-2_264.jpg</td>\n      <td>47968406</td>\n      <td>522.844666</td>\n      <td>412.275787</td>\n      <td>Others (females, young males, juveniles and ta...</td>\n      <td>Iguanas 1st launch</td>\n      <td>08cbd51d46cf6d3d7af3f5d1d4f909b6</td>\n      <td>dd741bfe7c2eabd0265422e728bd1738</td>\n    </tr>\n    <tr>\n      <th>2587</th>\n      <td>3454</td>\n      <td>SFM1</td>\n      <td>14370</td>\n      <td>134.236</td>\n      <td>SFM01-1-2_264.jpg</td>\n      <td>47968406</td>\n      <td>507.675720</td>\n      <td>388.258240</td>\n      <td>Others (females, young males, juveniles and ta...</td>\n      <td>Iguanas 1st launch</td>\n      <td>08cbd51d46cf6d3d7af3f5d1d4f909b6</td>\n      <td>dd741bfe7c2eabd0265422e728bd1738</td>\n    </tr>\n    <tr>\n      <th>2588</th>\n      <td>3455</td>\n      <td>SFM1</td>\n      <td>14370</td>\n      <td>134.236</td>\n      <td>SFM01-1-2_264.jpg</td>\n      <td>47968406</td>\n      <td>450.159973</td>\n      <td>434.397217</td>\n      <td>Others (females, young males, juveniles and ta...</td>\n      <td>Iguanas 1st launch</td>\n      <td>08cbd51d46cf6d3d7af3f5d1d4f909b6</td>\n      <td>dd741bfe7c2eabd0265422e728bd1738</td>\n    </tr>\n    <tr>\n      <th>...</th>\n      <td>...</td>\n      <td>...</td>\n      <td>...</td>\n      <td>...</td>\n      <td>...</td>\n      <td>...</td>\n      <td>...</td>\n      <td>...</td>\n      <td>...</td>\n      <td>...</td>\n      <td>...</td>\n      <td>...</td>\n    </tr>\n    <tr>\n      <th>21597</th>\n      <td>35696</td>\n      <td>SFM1</td>\n      <td>14370</td>\n      <td>134.236</td>\n      <td>SFM01-1-2_264.jpg</td>\n      <td>47968406</td>\n      <td>461.436340</td>\n      <td>386.567505</td>\n      <td>Adult Male in a lek</td>\n      <td>Iguanas 1st launch</td>\n      <td>4856c2c566a02d7b50d780ee9f282eb2</td>\n      <td>25ffd006d4afb04d099ef4c46ff9c945</td>\n    </tr>\n    <tr>\n      <th>21598</th>\n      <td>35697</td>\n      <td>SFM1</td>\n      <td>14370</td>\n      <td>134.236</td>\n      <td>SFM01-1-2_264.jpg</td>\n      <td>47968406</td>\n      <td>506.434204</td>\n      <td>387.221497</td>\n      <td>Others (females, young males, juveniles and ta...</td>\n      <td>Iguanas 1st launch</td>\n      <td>4856c2c566a02d7b50d780ee9f282eb2</td>\n      <td>25ffd006d4afb04d099ef4c46ff9c945</td>\n    </tr>\n    <tr>\n      <th>21599</th>\n      <td>35698</td>\n      <td>SFM1</td>\n      <td>14370</td>\n      <td>134.236</td>\n      <td>SFM01-1-2_264.jpg</td>\n      <td>47968406</td>\n      <td>543.688904</td>\n      <td>419.596954</td>\n      <td>Others (females, young males, juveniles and ta...</td>\n      <td>Iguanas 1st launch</td>\n      <td>4856c2c566a02d7b50d780ee9f282eb2</td>\n      <td>25ffd006d4afb04d099ef4c46ff9c945</td>\n    </tr>\n    <tr>\n      <th>21600</th>\n      <td>35699</td>\n      <td>SFM1</td>\n      <td>14370</td>\n      <td>134.236</td>\n      <td>SFM01-1-2_264.jpg</td>\n      <td>47968406</td>\n      <td>530.580627</td>\n      <td>404.817047</td>\n      <td>Others (females, young males, juveniles and ta...</td>\n      <td>Iguanas 1st launch</td>\n      <td>4856c2c566a02d7b50d780ee9f282eb2</td>\n      <td>25ffd006d4afb04d099ef4c46ff9c945</td>\n    </tr>\n    <tr>\n      <th>21601</th>\n      <td>35700</td>\n      <td>SFM1</td>\n      <td>14370</td>\n      <td>134.236</td>\n      <td>SFM01-1-2_264.jpg</td>\n      <td>47968406</td>\n      <td>512.983704</td>\n      <td>412.466034</td>\n      <td>Others (females, young males, juveniles and ta...</td>\n      <td>Iguanas 1st launch</td>\n      <td>4856c2c566a02d7b50d780ee9f282eb2</td>\n      <td>25ffd006d4afb04d099ef4c46ff9c945</td>\n    </tr>\n  </tbody>\n</table>\n<p>75 rows × 12 columns</p>\n</div>"
     },
     "execution_count": 28,
     "metadata": {},
     "output_type": "execute_result"
    }
   ],
   "source": [
    "if plot_diagrams == False:\n",
    "    output_plot_path = None\n",
    "\n",
    "# the flattened, filtered marks from zooniverse.\n",
    "df_merged_dataset = pd.read_csv(config[\"merged_dataset\"])\n",
    "\n",
    "df_merged_dataset[df_merged_dataset.subject_id == 47968406]"
   ]
  },
  {
   "cell_type": "code",
   "outputs": [
    {
     "data": {
      "text/plain": "       Unnamed: 0 flight_site_code  workflow_id  workflow_version  \\\n52             64          SFM01-1        14370           121.144   \n53             65          SFM01-1        14370           121.144   \n54             66          SFM01-1        14370           121.144   \n55             67          SFM01-1        14370           121.144   \n56             68          SFM01-1        14370           121.144   \n...           ...              ...          ...               ...   \n21597       35696             SFM1        14370           134.236   \n21598       35697             SFM1        14370           134.236   \n21599       35698             SFM1        14370           134.236   \n21600       35699             SFM1        14370           134.236   \n21601       35700             SFM1        14370           134.236   \n\n              image_name  subject_id           x           y  \\\n52     SFM01-1-2_264.jpg    44660616  462.710938  382.437500   \n53     SFM01-1-2_264.jpg    44660616  522.082031  410.906250   \n54     SFM01-1-2_264.jpg    44660616  507.128906  389.792969   \n55     SFM01-1-2_264.jpg    44660616  548.996094  425.800781   \n56     SFM01-1-2_264.jpg    44660616  370.199219  486.675781   \n...                  ...         ...         ...         ...   \n21597  SFM01-1-2_264.jpg    47968406  461.436340  386.567505   \n21598  SFM01-1-2_264.jpg    47968406  506.434204  387.221497   \n21599  SFM01-1-2_264.jpg    47968406  543.688904  419.596954   \n21600  SFM01-1-2_264.jpg    47968406  530.580627  404.817047   \n21601  SFM01-1-2_264.jpg    47968406  512.983704  412.466034   \n\n                                              tool_label           phase_tag  \\\n52                                   Adult Male in a lek  Iguanas 1st launch   \n53     Others (females, young males, juveniles and ta...  Iguanas 1st launch   \n54     Others (females, young males, juveniles and ta...  Iguanas 1st launch   \n55     Others (females, young males, juveniles and ta...  Iguanas 1st launch   \n56     Others (females, young males, juveniles and ta...  Iguanas 1st launch   \n...                                                  ...                 ...   \n21597                                Adult Male in a lek  Iguanas 1st launch   \n21598  Others (females, young males, juveniles and ta...  Iguanas 1st launch   \n21599  Others (females, young males, juveniles and ta...  Iguanas 1st launch   \n21600  Others (females, young males, juveniles and ta...  Iguanas 1st launch   \n21601  Others (females, young males, juveniles and ta...  Iguanas 1st launch   \n\n                                user_id                         user_name  \n52     da0196ebab87e82a7f2e5b6bee065aa3  14597090a1ca2ae233ec4ccbaf00de67  \n53     da0196ebab87e82a7f2e5b6bee065aa3  14597090a1ca2ae233ec4ccbaf00de67  \n54     da0196ebab87e82a7f2e5b6bee065aa3  14597090a1ca2ae233ec4ccbaf00de67  \n55     da0196ebab87e82a7f2e5b6bee065aa3  14597090a1ca2ae233ec4ccbaf00de67  \n56     da0196ebab87e82a7f2e5b6bee065aa3  14597090a1ca2ae233ec4ccbaf00de67  \n...                                 ...                               ...  \n21597  4856c2c566a02d7b50d780ee9f282eb2  25ffd006d4afb04d099ef4c46ff9c945  \n21598  4856c2c566a02d7b50d780ee9f282eb2  25ffd006d4afb04d099ef4c46ff9c945  \n21599  4856c2c566a02d7b50d780ee9f282eb2  25ffd006d4afb04d099ef4c46ff9c945  \n21600  4856c2c566a02d7b50d780ee9f282eb2  25ffd006d4afb04d099ef4c46ff9c945  \n21601  4856c2c566a02d7b50d780ee9f282eb2  25ffd006d4afb04d099ef4c46ff9c945  \n\n[366 rows x 12 columns]",
      "text/html": "<div>\n<style scoped>\n    .dataframe tbody tr th:only-of-type {\n        vertical-align: middle;\n    }\n\n    .dataframe tbody tr th {\n        vertical-align: top;\n    }\n\n    .dataframe thead th {\n        text-align: right;\n    }\n</style>\n<table border=\"1\" class=\"dataframe\">\n  <thead>\n    <tr style=\"text-align: right;\">\n      <th></th>\n      <th>Unnamed: 0</th>\n      <th>flight_site_code</th>\n      <th>workflow_id</th>\n      <th>workflow_version</th>\n      <th>image_name</th>\n      <th>subject_id</th>\n      <th>x</th>\n      <th>y</th>\n      <th>tool_label</th>\n      <th>phase_tag</th>\n      <th>user_id</th>\n      <th>user_name</th>\n    </tr>\n  </thead>\n  <tbody>\n    <tr>\n      <th>52</th>\n      <td>64</td>\n      <td>SFM01-1</td>\n      <td>14370</td>\n      <td>121.144</td>\n      <td>SFM01-1-2_264.jpg</td>\n      <td>44660616</td>\n      <td>462.710938</td>\n      <td>382.437500</td>\n      <td>Adult Male in a lek</td>\n      <td>Iguanas 1st launch</td>\n      <td>da0196ebab87e82a7f2e5b6bee065aa3</td>\n      <td>14597090a1ca2ae233ec4ccbaf00de67</td>\n    </tr>\n    <tr>\n      <th>53</th>\n      <td>65</td>\n      <td>SFM01-1</td>\n      <td>14370</td>\n      <td>121.144</td>\n      <td>SFM01-1-2_264.jpg</td>\n      <td>44660616</td>\n      <td>522.082031</td>\n      <td>410.906250</td>\n      <td>Others (females, young males, juveniles and ta...</td>\n      <td>Iguanas 1st launch</td>\n      <td>da0196ebab87e82a7f2e5b6bee065aa3</td>\n      <td>14597090a1ca2ae233ec4ccbaf00de67</td>\n    </tr>\n    <tr>\n      <th>54</th>\n      <td>66</td>\n      <td>SFM01-1</td>\n      <td>14370</td>\n      <td>121.144</td>\n      <td>SFM01-1-2_264.jpg</td>\n      <td>44660616</td>\n      <td>507.128906</td>\n      <td>389.792969</td>\n      <td>Others (females, young males, juveniles and ta...</td>\n      <td>Iguanas 1st launch</td>\n      <td>da0196ebab87e82a7f2e5b6bee065aa3</td>\n      <td>14597090a1ca2ae233ec4ccbaf00de67</td>\n    </tr>\n    <tr>\n      <th>55</th>\n      <td>67</td>\n      <td>SFM01-1</td>\n      <td>14370</td>\n      <td>121.144</td>\n      <td>SFM01-1-2_264.jpg</td>\n      <td>44660616</td>\n      <td>548.996094</td>\n      <td>425.800781</td>\n      <td>Others (females, young males, juveniles and ta...</td>\n      <td>Iguanas 1st launch</td>\n      <td>da0196ebab87e82a7f2e5b6bee065aa3</td>\n      <td>14597090a1ca2ae233ec4ccbaf00de67</td>\n    </tr>\n    <tr>\n      <th>56</th>\n      <td>68</td>\n      <td>SFM01-1</td>\n      <td>14370</td>\n      <td>121.144</td>\n      <td>SFM01-1-2_264.jpg</td>\n      <td>44660616</td>\n      <td>370.199219</td>\n      <td>486.675781</td>\n      <td>Others (females, young males, juveniles and ta...</td>\n      <td>Iguanas 1st launch</td>\n      <td>da0196ebab87e82a7f2e5b6bee065aa3</td>\n      <td>14597090a1ca2ae233ec4ccbaf00de67</td>\n    </tr>\n    <tr>\n      <th>...</th>\n      <td>...</td>\n      <td>...</td>\n      <td>...</td>\n      <td>...</td>\n      <td>...</td>\n      <td>...</td>\n      <td>...</td>\n      <td>...</td>\n      <td>...</td>\n      <td>...</td>\n      <td>...</td>\n      <td>...</td>\n    </tr>\n    <tr>\n      <th>21597</th>\n      <td>35696</td>\n      <td>SFM1</td>\n      <td>14370</td>\n      <td>134.236</td>\n      <td>SFM01-1-2_264.jpg</td>\n      <td>47968406</td>\n      <td>461.436340</td>\n      <td>386.567505</td>\n      <td>Adult Male in a lek</td>\n      <td>Iguanas 1st launch</td>\n      <td>4856c2c566a02d7b50d780ee9f282eb2</td>\n      <td>25ffd006d4afb04d099ef4c46ff9c945</td>\n    </tr>\n    <tr>\n      <th>21598</th>\n      <td>35697</td>\n      <td>SFM1</td>\n      <td>14370</td>\n      <td>134.236</td>\n      <td>SFM01-1-2_264.jpg</td>\n      <td>47968406</td>\n      <td>506.434204</td>\n      <td>387.221497</td>\n      <td>Others (females, young males, juveniles and ta...</td>\n      <td>Iguanas 1st launch</td>\n      <td>4856c2c566a02d7b50d780ee9f282eb2</td>\n      <td>25ffd006d4afb04d099ef4c46ff9c945</td>\n    </tr>\n    <tr>\n      <th>21599</th>\n      <td>35698</td>\n      <td>SFM1</td>\n      <td>14370</td>\n      <td>134.236</td>\n      <td>SFM01-1-2_264.jpg</td>\n      <td>47968406</td>\n      <td>543.688904</td>\n      <td>419.596954</td>\n      <td>Others (females, young males, juveniles and ta...</td>\n      <td>Iguanas 1st launch</td>\n      <td>4856c2c566a02d7b50d780ee9f282eb2</td>\n      <td>25ffd006d4afb04d099ef4c46ff9c945</td>\n    </tr>\n    <tr>\n      <th>21600</th>\n      <td>35699</td>\n      <td>SFM1</td>\n      <td>14370</td>\n      <td>134.236</td>\n      <td>SFM01-1-2_264.jpg</td>\n      <td>47968406</td>\n      <td>530.580627</td>\n      <td>404.817047</td>\n      <td>Others (females, young males, juveniles and ta...</td>\n      <td>Iguanas 1st launch</td>\n      <td>4856c2c566a02d7b50d780ee9f282eb2</td>\n      <td>25ffd006d4afb04d099ef4c46ff9c945</td>\n    </tr>\n    <tr>\n      <th>21601</th>\n      <td>35700</td>\n      <td>SFM1</td>\n      <td>14370</td>\n      <td>134.236</td>\n      <td>SFM01-1-2_264.jpg</td>\n      <td>47968406</td>\n      <td>512.983704</td>\n      <td>412.466034</td>\n      <td>Others (females, young males, juveniles and ta...</td>\n      <td>Iguanas 1st launch</td>\n      <td>4856c2c566a02d7b50d780ee9f282eb2</td>\n      <td>25ffd006d4afb04d099ef4c46ff9c945</td>\n    </tr>\n  </tbody>\n</table>\n<p>366 rows × 12 columns</p>\n</div>"
     },
     "execution_count": 29,
     "metadata": {},
     "output_type": "execute_result"
    }
   ],
   "source": [
    "df_merged_dataset[df_merged_dataset.image_name == \"SFM01-1-2_264.jpg\"]\n"
   ],
   "metadata": {
    "collapsed": false,
    "ExecuteTime": {
     "end_time": "2024-04-10T19:50:24.287031Z",
     "start_time": "2024-04-10T19:50:24.252406Z"
    }
   },
   "id": "3eb3c90c29dda1c",
   "execution_count": 29
  },
  {
   "cell_type": "code",
   "outputs": [
    {
     "data": {
      "text/plain": "PosixPath('/Users/christian/data/zooniverse/2024_04_10_analysis/Iguanas 1st launch/flat_panoptes_points_Iguanas 1st launch.csv')"
     },
     "execution_count": 14,
     "metadata": {},
     "output_type": "execute_result"
    }
   ],
   "source": [
    "config[\"flat_panoptes_points\"]"
   ],
   "metadata": {
    "collapsed": false,
    "ExecuteTime": {
     "end_time": "2024-04-10T19:43:35.851377Z",
     "start_time": "2024-04-10T19:43:35.825296Z"
    }
   },
   "id": "3232b78ec1bf6f82",
   "execution_count": 14
  },
  {
   "cell_type": "code",
   "outputs": [
    {
     "data": {
      "text/plain": "       Unnamed: 0  classification_id                         user_name  \\\n1197        23738          263876270  dd741bfe7c2eabd0265422e728bd1738   \n1198        23738          263876270  dd741bfe7c2eabd0265422e728bd1738   \n1199        23738          263876270  dd741bfe7c2eabd0265422e728bd1738   \n1200        23738          263876270  dd741bfe7c2eabd0265422e728bd1738   \n1201        23738          263876270  dd741bfe7c2eabd0265422e728bd1738   \n...           ...                ...                               ...   \n18595       23739          266898927  ec17f4ab6a51fee747c3f1e5f0a004c5   \n18596       23739          266898927  ec17f4ab6a51fee747c3f1e5f0a004c5   \n18597       23739          266898927  ec17f4ab6a51fee747c3f1e5f0a004c5   \n18598       23739          266898927  ec17f4ab6a51fee747c3f1e5f0a004c5   \n18599       23749          278171651  eca4c234ffee6be55c5674ac72d46cac   \n\n                                user_id  workflow_id task  \\\n1197   08cbd51d46cf6d3d7af3f5d1d4f909b6        14370   T2   \n1198   08cbd51d46cf6d3d7af3f5d1d4f909b6        14370   T2   \n1199   08cbd51d46cf6d3d7af3f5d1d4f909b6        14370   T2   \n1200   08cbd51d46cf6d3d7af3f5d1d4f909b6        14370   T2   \n1201   08cbd51d46cf6d3d7af3f5d1d4f909b6        14370   T2   \n...                                 ...          ...  ...   \n18595                               NaN        14370   T2   \n18596                               NaN        14370   T2   \n18597                               NaN        14370   T2   \n18598                               NaN        14370   T2   \n18599                               NaN        14370   T2   \n\n                    created_at  subject_id         image_name    x    y  \n1197   2020-07-26 21:30:00 UTC    47968406  SFM01-1-2_264.jpg  462  390  \n1198   2020-07-26 21:30:00 UTC    47968406  SFM01-1-2_264.jpg  545  423  \n1199   2020-07-26 21:30:00 UTC    47968406  SFM01-1-2_264.jpg  522  412  \n1200   2020-07-26 21:30:00 UTC    47968406  SFM01-1-2_264.jpg  507  388  \n1201   2020-07-26 21:30:00 UTC    47968406  SFM01-1-2_264.jpg  450  434  \n...                        ...         ...                ...  ...  ...  \n18595  2020-08-08 02:08:11 UTC    47968406  SFM01-1-2_264.jpg  548  435  \n18596  2020-08-08 02:08:11 UTC    47968406  SFM01-1-2_264.jpg  360  463  \n18597  2020-08-08 02:08:11 UTC    47968406  SFM01-1-2_264.jpg  362  488  \n18598  2020-08-08 02:08:11 UTC    47968406  SFM01-1-2_264.jpg  456  429  \n18599  2020-10-05 15:46:21 UTC    47968406  SFM01-1-2_264.jpg  462  386  \n\n[75 rows x 11 columns]",
      "text/html": "<div>\n<style scoped>\n    .dataframe tbody tr th:only-of-type {\n        vertical-align: middle;\n    }\n\n    .dataframe tbody tr th {\n        vertical-align: top;\n    }\n\n    .dataframe thead th {\n        text-align: right;\n    }\n</style>\n<table border=\"1\" class=\"dataframe\">\n  <thead>\n    <tr style=\"text-align: right;\">\n      <th></th>\n      <th>Unnamed: 0</th>\n      <th>classification_id</th>\n      <th>user_name</th>\n      <th>user_id</th>\n      <th>workflow_id</th>\n      <th>task</th>\n      <th>created_at</th>\n      <th>subject_id</th>\n      <th>image_name</th>\n      <th>x</th>\n      <th>y</th>\n    </tr>\n  </thead>\n  <tbody>\n    <tr>\n      <th>1197</th>\n      <td>23738</td>\n      <td>263876270</td>\n      <td>dd741bfe7c2eabd0265422e728bd1738</td>\n      <td>08cbd51d46cf6d3d7af3f5d1d4f909b6</td>\n      <td>14370</td>\n      <td>T2</td>\n      <td>2020-07-26 21:30:00 UTC</td>\n      <td>47968406</td>\n      <td>SFM01-1-2_264.jpg</td>\n      <td>462</td>\n      <td>390</td>\n    </tr>\n    <tr>\n      <th>1198</th>\n      <td>23738</td>\n      <td>263876270</td>\n      <td>dd741bfe7c2eabd0265422e728bd1738</td>\n      <td>08cbd51d46cf6d3d7af3f5d1d4f909b6</td>\n      <td>14370</td>\n      <td>T2</td>\n      <td>2020-07-26 21:30:00 UTC</td>\n      <td>47968406</td>\n      <td>SFM01-1-2_264.jpg</td>\n      <td>545</td>\n      <td>423</td>\n    </tr>\n    <tr>\n      <th>1199</th>\n      <td>23738</td>\n      <td>263876270</td>\n      <td>dd741bfe7c2eabd0265422e728bd1738</td>\n      <td>08cbd51d46cf6d3d7af3f5d1d4f909b6</td>\n      <td>14370</td>\n      <td>T2</td>\n      <td>2020-07-26 21:30:00 UTC</td>\n      <td>47968406</td>\n      <td>SFM01-1-2_264.jpg</td>\n      <td>522</td>\n      <td>412</td>\n    </tr>\n    <tr>\n      <th>1200</th>\n      <td>23738</td>\n      <td>263876270</td>\n      <td>dd741bfe7c2eabd0265422e728bd1738</td>\n      <td>08cbd51d46cf6d3d7af3f5d1d4f909b6</td>\n      <td>14370</td>\n      <td>T2</td>\n      <td>2020-07-26 21:30:00 UTC</td>\n      <td>47968406</td>\n      <td>SFM01-1-2_264.jpg</td>\n      <td>507</td>\n      <td>388</td>\n    </tr>\n    <tr>\n      <th>1201</th>\n      <td>23738</td>\n      <td>263876270</td>\n      <td>dd741bfe7c2eabd0265422e728bd1738</td>\n      <td>08cbd51d46cf6d3d7af3f5d1d4f909b6</td>\n      <td>14370</td>\n      <td>T2</td>\n      <td>2020-07-26 21:30:00 UTC</td>\n      <td>47968406</td>\n      <td>SFM01-1-2_264.jpg</td>\n      <td>450</td>\n      <td>434</td>\n    </tr>\n    <tr>\n      <th>...</th>\n      <td>...</td>\n      <td>...</td>\n      <td>...</td>\n      <td>...</td>\n      <td>...</td>\n      <td>...</td>\n      <td>...</td>\n      <td>...</td>\n      <td>...</td>\n      <td>...</td>\n      <td>...</td>\n    </tr>\n    <tr>\n      <th>18595</th>\n      <td>23739</td>\n      <td>266898927</td>\n      <td>ec17f4ab6a51fee747c3f1e5f0a004c5</td>\n      <td>NaN</td>\n      <td>14370</td>\n      <td>T2</td>\n      <td>2020-08-08 02:08:11 UTC</td>\n      <td>47968406</td>\n      <td>SFM01-1-2_264.jpg</td>\n      <td>548</td>\n      <td>435</td>\n    </tr>\n    <tr>\n      <th>18596</th>\n      <td>23739</td>\n      <td>266898927</td>\n      <td>ec17f4ab6a51fee747c3f1e5f0a004c5</td>\n      <td>NaN</td>\n      <td>14370</td>\n      <td>T2</td>\n      <td>2020-08-08 02:08:11 UTC</td>\n      <td>47968406</td>\n      <td>SFM01-1-2_264.jpg</td>\n      <td>360</td>\n      <td>463</td>\n    </tr>\n    <tr>\n      <th>18597</th>\n      <td>23739</td>\n      <td>266898927</td>\n      <td>ec17f4ab6a51fee747c3f1e5f0a004c5</td>\n      <td>NaN</td>\n      <td>14370</td>\n      <td>T2</td>\n      <td>2020-08-08 02:08:11 UTC</td>\n      <td>47968406</td>\n      <td>SFM01-1-2_264.jpg</td>\n      <td>362</td>\n      <td>488</td>\n    </tr>\n    <tr>\n      <th>18598</th>\n      <td>23739</td>\n      <td>266898927</td>\n      <td>ec17f4ab6a51fee747c3f1e5f0a004c5</td>\n      <td>NaN</td>\n      <td>14370</td>\n      <td>T2</td>\n      <td>2020-08-08 02:08:11 UTC</td>\n      <td>47968406</td>\n      <td>SFM01-1-2_264.jpg</td>\n      <td>456</td>\n      <td>429</td>\n    </tr>\n    <tr>\n      <th>18599</th>\n      <td>23749</td>\n      <td>278171651</td>\n      <td>eca4c234ffee6be55c5674ac72d46cac</td>\n      <td>NaN</td>\n      <td>14370</td>\n      <td>T2</td>\n      <td>2020-10-05 15:46:21 UTC</td>\n      <td>47968406</td>\n      <td>SFM01-1-2_264.jpg</td>\n      <td>462</td>\n      <td>386</td>\n    </tr>\n  </tbody>\n</table>\n<p>75 rows × 11 columns</p>\n</div>"
     },
     "execution_count": 15,
     "metadata": {},
     "output_type": "execute_result"
    }
   ],
   "source": [
    "\n",
    "df_flat_panoptes_points = pd.read_csv(config[\"flat_panoptes_points\"])\n",
    "df_flat_panoptes_points[df_flat_panoptes_points.subject_id == 47968406]"
   ],
   "metadata": {
    "collapsed": false,
    "ExecuteTime": {
     "end_time": "2024-04-10T19:43:35.923095Z",
     "start_time": "2024-04-10T19:43:35.852986Z"
    }
   },
   "id": "f735b4856eed80bd",
   "execution_count": 15
  },
  {
   "cell_type": "code",
   "outputs": [
    {
     "data": {
      "text/plain": "       Unnamed: 0  classification_id                         user_name  \\\n56           2218          257526095  4d40c60cfa2948ad5bb0624e9b9c9721   \n57           2218          257526095  4d40c60cfa2948ad5bb0624e9b9c9721   \n58           2218          257526095  4d40c60cfa2948ad5bb0624e9b9c9721   \n59           2218          257526095  4d40c60cfa2948ad5bb0624e9b9c9721   \n60           2218          257526095  4d40c60cfa2948ad5bb0624e9b9c9721   \n...           ...                ...                               ...   \n18595       23739          266898927  ec17f4ab6a51fee747c3f1e5f0a004c5   \n18596       23739          266898927  ec17f4ab6a51fee747c3f1e5f0a004c5   \n18597       23739          266898927  ec17f4ab6a51fee747c3f1e5f0a004c5   \n18598       23739          266898927  ec17f4ab6a51fee747c3f1e5f0a004c5   \n18599       23749          278171651  eca4c234ffee6be55c5674ac72d46cac   \n\n                                user_id  workflow_id task  \\\n56     015cbacf0a06e22f4543c55afd7d166b        14370   T2   \n57     015cbacf0a06e22f4543c55afd7d166b        14370   T2   \n58     015cbacf0a06e22f4543c55afd7d166b        14370   T2   \n59     015cbacf0a06e22f4543c55afd7d166b        14370   T2   \n60     015cbacf0a06e22f4543c55afd7d166b        14370   T2   \n...                                 ...          ...  ...   \n18595                               NaN        14370   T2   \n18596                               NaN        14370   T2   \n18597                               NaN        14370   T2   \n18598                               NaN        14370   T2   \n18599                               NaN        14370   T2   \n\n                    created_at  subject_id         image_name    x    y  \n56     2020-07-03 18:47:12 UTC    44660616  SFM01-1-2_264.jpg  466  390  \n57     2020-07-03 18:47:12 UTC    44660616  SFM01-1-2_264.jpg  523  414  \n58     2020-07-03 18:47:12 UTC    44660616  SFM01-1-2_264.jpg  462  431  \n59     2020-07-03 18:47:12 UTC    44660616  SFM01-1-2_264.jpg  525  436  \n60     2020-07-03 18:47:12 UTC    44660616  SFM01-1-2_264.jpg  257  592  \n...                        ...         ...                ...  ...  ...  \n18595  2020-08-08 02:08:11 UTC    47968406  SFM01-1-2_264.jpg  548  435  \n18596  2020-08-08 02:08:11 UTC    47968406  SFM01-1-2_264.jpg  360  463  \n18597  2020-08-08 02:08:11 UTC    47968406  SFM01-1-2_264.jpg  362  488  \n18598  2020-08-08 02:08:11 UTC    47968406  SFM01-1-2_264.jpg  456  429  \n18599  2020-10-05 15:46:21 UTC    47968406  SFM01-1-2_264.jpg  462  386  \n\n[366 rows x 11 columns]",
      "text/html": "<div>\n<style scoped>\n    .dataframe tbody tr th:only-of-type {\n        vertical-align: middle;\n    }\n\n    .dataframe tbody tr th {\n        vertical-align: top;\n    }\n\n    .dataframe thead th {\n        text-align: right;\n    }\n</style>\n<table border=\"1\" class=\"dataframe\">\n  <thead>\n    <tr style=\"text-align: right;\">\n      <th></th>\n      <th>Unnamed: 0</th>\n      <th>classification_id</th>\n      <th>user_name</th>\n      <th>user_id</th>\n      <th>workflow_id</th>\n      <th>task</th>\n      <th>created_at</th>\n      <th>subject_id</th>\n      <th>image_name</th>\n      <th>x</th>\n      <th>y</th>\n    </tr>\n  </thead>\n  <tbody>\n    <tr>\n      <th>56</th>\n      <td>2218</td>\n      <td>257526095</td>\n      <td>4d40c60cfa2948ad5bb0624e9b9c9721</td>\n      <td>015cbacf0a06e22f4543c55afd7d166b</td>\n      <td>14370</td>\n      <td>T2</td>\n      <td>2020-07-03 18:47:12 UTC</td>\n      <td>44660616</td>\n      <td>SFM01-1-2_264.jpg</td>\n      <td>466</td>\n      <td>390</td>\n    </tr>\n    <tr>\n      <th>57</th>\n      <td>2218</td>\n      <td>257526095</td>\n      <td>4d40c60cfa2948ad5bb0624e9b9c9721</td>\n      <td>015cbacf0a06e22f4543c55afd7d166b</td>\n      <td>14370</td>\n      <td>T2</td>\n      <td>2020-07-03 18:47:12 UTC</td>\n      <td>44660616</td>\n      <td>SFM01-1-2_264.jpg</td>\n      <td>523</td>\n      <td>414</td>\n    </tr>\n    <tr>\n      <th>58</th>\n      <td>2218</td>\n      <td>257526095</td>\n      <td>4d40c60cfa2948ad5bb0624e9b9c9721</td>\n      <td>015cbacf0a06e22f4543c55afd7d166b</td>\n      <td>14370</td>\n      <td>T2</td>\n      <td>2020-07-03 18:47:12 UTC</td>\n      <td>44660616</td>\n      <td>SFM01-1-2_264.jpg</td>\n      <td>462</td>\n      <td>431</td>\n    </tr>\n    <tr>\n      <th>59</th>\n      <td>2218</td>\n      <td>257526095</td>\n      <td>4d40c60cfa2948ad5bb0624e9b9c9721</td>\n      <td>015cbacf0a06e22f4543c55afd7d166b</td>\n      <td>14370</td>\n      <td>T2</td>\n      <td>2020-07-03 18:47:12 UTC</td>\n      <td>44660616</td>\n      <td>SFM01-1-2_264.jpg</td>\n      <td>525</td>\n      <td>436</td>\n    </tr>\n    <tr>\n      <th>60</th>\n      <td>2218</td>\n      <td>257526095</td>\n      <td>4d40c60cfa2948ad5bb0624e9b9c9721</td>\n      <td>015cbacf0a06e22f4543c55afd7d166b</td>\n      <td>14370</td>\n      <td>T2</td>\n      <td>2020-07-03 18:47:12 UTC</td>\n      <td>44660616</td>\n      <td>SFM01-1-2_264.jpg</td>\n      <td>257</td>\n      <td>592</td>\n    </tr>\n    <tr>\n      <th>...</th>\n      <td>...</td>\n      <td>...</td>\n      <td>...</td>\n      <td>...</td>\n      <td>...</td>\n      <td>...</td>\n      <td>...</td>\n      <td>...</td>\n      <td>...</td>\n      <td>...</td>\n      <td>...</td>\n    </tr>\n    <tr>\n      <th>18595</th>\n      <td>23739</td>\n      <td>266898927</td>\n      <td>ec17f4ab6a51fee747c3f1e5f0a004c5</td>\n      <td>NaN</td>\n      <td>14370</td>\n      <td>T2</td>\n      <td>2020-08-08 02:08:11 UTC</td>\n      <td>47968406</td>\n      <td>SFM01-1-2_264.jpg</td>\n      <td>548</td>\n      <td>435</td>\n    </tr>\n    <tr>\n      <th>18596</th>\n      <td>23739</td>\n      <td>266898927</td>\n      <td>ec17f4ab6a51fee747c3f1e5f0a004c5</td>\n      <td>NaN</td>\n      <td>14370</td>\n      <td>T2</td>\n      <td>2020-08-08 02:08:11 UTC</td>\n      <td>47968406</td>\n      <td>SFM01-1-2_264.jpg</td>\n      <td>360</td>\n      <td>463</td>\n    </tr>\n    <tr>\n      <th>18597</th>\n      <td>23739</td>\n      <td>266898927</td>\n      <td>ec17f4ab6a51fee747c3f1e5f0a004c5</td>\n      <td>NaN</td>\n      <td>14370</td>\n      <td>T2</td>\n      <td>2020-08-08 02:08:11 UTC</td>\n      <td>47968406</td>\n      <td>SFM01-1-2_264.jpg</td>\n      <td>362</td>\n      <td>488</td>\n    </tr>\n    <tr>\n      <th>18598</th>\n      <td>23739</td>\n      <td>266898927</td>\n      <td>ec17f4ab6a51fee747c3f1e5f0a004c5</td>\n      <td>NaN</td>\n      <td>14370</td>\n      <td>T2</td>\n      <td>2020-08-08 02:08:11 UTC</td>\n      <td>47968406</td>\n      <td>SFM01-1-2_264.jpg</td>\n      <td>456</td>\n      <td>429</td>\n    </tr>\n    <tr>\n      <th>18599</th>\n      <td>23749</td>\n      <td>278171651</td>\n      <td>eca4c234ffee6be55c5674ac72d46cac</td>\n      <td>NaN</td>\n      <td>14370</td>\n      <td>T2</td>\n      <td>2020-10-05 15:46:21 UTC</td>\n      <td>47968406</td>\n      <td>SFM01-1-2_264.jpg</td>\n      <td>462</td>\n      <td>386</td>\n    </tr>\n  </tbody>\n</table>\n<p>366 rows × 11 columns</p>\n</div>"
     },
     "execution_count": 30,
     "metadata": {},
     "output_type": "execute_result"
    }
   ],
   "source": [
    "df_flat_panoptes_points[df_flat_panoptes_points.image_name == \"SFM01-1-2_264.jpg\"] # 44660616, 47968406"
   ],
   "metadata": {
    "collapsed": false,
    "ExecuteTime": {
     "end_time": "2024-04-10T19:50:37.621303Z",
     "start_time": "2024-04-10T19:50:37.587778Z"
    }
   },
   "id": "aac94dcf5c2a3bb6",
   "execution_count": 30
  },
  {
   "cell_type": "code",
   "outputs": [
    {
     "data": {
      "text/plain": "       Unnamed: 0  classification_id                         user_name  \\\n0          230846          283007416  77dd9c009b5200eea39788f7f15862f0   \n1          372187          271011060  fcbbe951169dc1df0b1f803a199f0995   \n2          502904          286621582  59e4feed8a3a84fb6bfdc5f29a1713b4   \n3          502904          286621582  59e4feed8a3a84fb6bfdc5f29a1713b4   \n4          502904          286621582  59e4feed8a3a84fb6bfdc5f29a1713b4   \n...           ...                ...                               ...   \n24243      251731          282327563  abc5cb03709e2f07494e3e603b1ba8eb   \n24244      251731          282327563  abc5cb03709e2f07494e3e603b1ba8eb   \n24245      251731          282327563  abc5cb03709e2f07494e3e603b1ba8eb   \n24246      251731          282327563  abc5cb03709e2f07494e3e603b1ba8eb   \n24247      202870          281038044  f81b032a8ed514458a88f8c508dff561   \n\n                                user_id  workflow_id task  \\\n0      003abe9e6bb90e03c50377a33f1137a5        14370   T2   \n1      004eb4442ae5c85fcb6b5c78ed902f41        14370   T2   \n2      006c16c227f4152ffff80d195fca443b        14370   T2   \n3      006c16c227f4152ffff80d195fca443b        14370   T2   \n4      006c16c227f4152ffff80d195fca443b        14370   T2   \n...                                 ...          ...  ...   \n24243                               NaN        14370   T2   \n24244                               NaN        14370   T2   \n24245                               NaN        14370   T2   \n24246                               NaN        14370   T2   \n24247                               NaN        14370   T2   \n\n                    created_at  subject_id           image_name     x     y  \n0      2020-10-26 09:28:46 UTC    47974351  SMF02-1-2-2_570.jpg   186   310  \n1      2020-08-30 16:22:33 UTC    47978494    SFP01_06-2_59.jpg   272   265  \n2      2020-11-12 11:08:10 UTC    47980877      SRL04-1_348.jpg   358   194  \n3      2020-11-12 11:08:10 UTC    47980877      SRL04-1_348.jpg   485   106  \n4      2020-11-12 11:08:10 UTC    47980877      SRL04-1_348.jpg   458   205  \n...                        ...         ...                  ...   ...   ...  \n24243  2020-10-22 19:32:52 UTC    48034447      SRBS03-4_25.jpg   441   879  \n24244  2020-10-22 19:32:52 UTC    48034447      SRBS03-4_25.jpg   136  1013  \n24245  2020-10-22 19:32:52 UTC    48034447      SRBS03-4_25.jpg  1674   811  \n24246  2020-10-22 19:32:52 UTC    48034447      SRBS03-4_25.jpg  1306   852  \n24247  2020-10-17 00:47:51 UTC    48034467      SRBS03-4_63.jpg   895  1032  \n\n[24248 rows x 11 columns]",
      "text/html": "<div>\n<style scoped>\n    .dataframe tbody tr th:only-of-type {\n        vertical-align: middle;\n    }\n\n    .dataframe tbody tr th {\n        vertical-align: top;\n    }\n\n    .dataframe thead th {\n        text-align: right;\n    }\n</style>\n<table border=\"1\" class=\"dataframe\">\n  <thead>\n    <tr style=\"text-align: right;\">\n      <th></th>\n      <th>Unnamed: 0</th>\n      <th>classification_id</th>\n      <th>user_name</th>\n      <th>user_id</th>\n      <th>workflow_id</th>\n      <th>task</th>\n      <th>created_at</th>\n      <th>subject_id</th>\n      <th>image_name</th>\n      <th>x</th>\n      <th>y</th>\n    </tr>\n  </thead>\n  <tbody>\n    <tr>\n      <th>0</th>\n      <td>230846</td>\n      <td>283007416</td>\n      <td>77dd9c009b5200eea39788f7f15862f0</td>\n      <td>003abe9e6bb90e03c50377a33f1137a5</td>\n      <td>14370</td>\n      <td>T2</td>\n      <td>2020-10-26 09:28:46 UTC</td>\n      <td>47974351</td>\n      <td>SMF02-1-2-2_570.jpg</td>\n      <td>186</td>\n      <td>310</td>\n    </tr>\n    <tr>\n      <th>1</th>\n      <td>372187</td>\n      <td>271011060</td>\n      <td>fcbbe951169dc1df0b1f803a199f0995</td>\n      <td>004eb4442ae5c85fcb6b5c78ed902f41</td>\n      <td>14370</td>\n      <td>T2</td>\n      <td>2020-08-30 16:22:33 UTC</td>\n      <td>47978494</td>\n      <td>SFP01_06-2_59.jpg</td>\n      <td>272</td>\n      <td>265</td>\n    </tr>\n    <tr>\n      <th>2</th>\n      <td>502904</td>\n      <td>286621582</td>\n      <td>59e4feed8a3a84fb6bfdc5f29a1713b4</td>\n      <td>006c16c227f4152ffff80d195fca443b</td>\n      <td>14370</td>\n      <td>T2</td>\n      <td>2020-11-12 11:08:10 UTC</td>\n      <td>47980877</td>\n      <td>SRL04-1_348.jpg</td>\n      <td>358</td>\n      <td>194</td>\n    </tr>\n    <tr>\n      <th>3</th>\n      <td>502904</td>\n      <td>286621582</td>\n      <td>59e4feed8a3a84fb6bfdc5f29a1713b4</td>\n      <td>006c16c227f4152ffff80d195fca443b</td>\n      <td>14370</td>\n      <td>T2</td>\n      <td>2020-11-12 11:08:10 UTC</td>\n      <td>47980877</td>\n      <td>SRL04-1_348.jpg</td>\n      <td>485</td>\n      <td>106</td>\n    </tr>\n    <tr>\n      <th>4</th>\n      <td>502904</td>\n      <td>286621582</td>\n      <td>59e4feed8a3a84fb6bfdc5f29a1713b4</td>\n      <td>006c16c227f4152ffff80d195fca443b</td>\n      <td>14370</td>\n      <td>T2</td>\n      <td>2020-11-12 11:08:10 UTC</td>\n      <td>47980877</td>\n      <td>SRL04-1_348.jpg</td>\n      <td>458</td>\n      <td>205</td>\n    </tr>\n    <tr>\n      <th>...</th>\n      <td>...</td>\n      <td>...</td>\n      <td>...</td>\n      <td>...</td>\n      <td>...</td>\n      <td>...</td>\n      <td>...</td>\n      <td>...</td>\n      <td>...</td>\n      <td>...</td>\n      <td>...</td>\n    </tr>\n    <tr>\n      <th>24243</th>\n      <td>251731</td>\n      <td>282327563</td>\n      <td>abc5cb03709e2f07494e3e603b1ba8eb</td>\n      <td>NaN</td>\n      <td>14370</td>\n      <td>T2</td>\n      <td>2020-10-22 19:32:52 UTC</td>\n      <td>48034447</td>\n      <td>SRBS03-4_25.jpg</td>\n      <td>441</td>\n      <td>879</td>\n    </tr>\n    <tr>\n      <th>24244</th>\n      <td>251731</td>\n      <td>282327563</td>\n      <td>abc5cb03709e2f07494e3e603b1ba8eb</td>\n      <td>NaN</td>\n      <td>14370</td>\n      <td>T2</td>\n      <td>2020-10-22 19:32:52 UTC</td>\n      <td>48034447</td>\n      <td>SRBS03-4_25.jpg</td>\n      <td>136</td>\n      <td>1013</td>\n    </tr>\n    <tr>\n      <th>24245</th>\n      <td>251731</td>\n      <td>282327563</td>\n      <td>abc5cb03709e2f07494e3e603b1ba8eb</td>\n      <td>NaN</td>\n      <td>14370</td>\n      <td>T2</td>\n      <td>2020-10-22 19:32:52 UTC</td>\n      <td>48034447</td>\n      <td>SRBS03-4_25.jpg</td>\n      <td>1674</td>\n      <td>811</td>\n    </tr>\n    <tr>\n      <th>24246</th>\n      <td>251731</td>\n      <td>282327563</td>\n      <td>abc5cb03709e2f07494e3e603b1ba8eb</td>\n      <td>NaN</td>\n      <td>14370</td>\n      <td>T2</td>\n      <td>2020-10-22 19:32:52 UTC</td>\n      <td>48034447</td>\n      <td>SRBS03-4_25.jpg</td>\n      <td>1306</td>\n      <td>852</td>\n    </tr>\n    <tr>\n      <th>24247</th>\n      <td>202870</td>\n      <td>281038044</td>\n      <td>f81b032a8ed514458a88f8c508dff561</td>\n      <td>NaN</td>\n      <td>14370</td>\n      <td>T2</td>\n      <td>2020-10-17 00:47:51 UTC</td>\n      <td>48034467</td>\n      <td>SRBS03-4_63.jpg</td>\n      <td>895</td>\n      <td>1032</td>\n    </tr>\n  </tbody>\n</table>\n<p>24248 rows × 11 columns</p>\n</div>"
     },
     "execution_count": 16,
     "metadata": {},
     "output_type": "execute_result"
    }
   ],
   "source": [
    "df_flat_panoptes_points"
   ],
   "metadata": {
    "collapsed": false,
    "ExecuteTime": {
     "end_time": "2024-04-10T19:43:35.953524Z",
     "start_time": "2024-04-10T19:43:35.924103Z"
    }
   },
   "id": "f9fd8ae11f87e837",
   "execution_count": 16
  },
  {
   "cell_type": "markdown",
   "id": "bf09c7260aa5e8ed",
   "metadata": {
    "collapsed": false
   },
   "source": [
    "## Look at the data\n"
   ]
  },
  {
   "cell_type": "code",
   "execution_count": 17,
   "id": "6e814289feb967ec",
   "metadata": {
    "collapsed": false,
    "ExecuteTime": {
     "end_time": "2024-04-10T19:43:35.985315Z",
     "start_time": "2024-04-10T19:43:35.954531Z"
    }
   },
   "outputs": [
    {
     "data": {
      "text/plain": "       Unnamed: 0 flight_site_code  workflow_id  workflow_version  \\\n0               0              NaN        14370            96.620   \n1               1              NaN        14370           104.720   \n2               2              NaN        14370           104.720   \n3               3              NaN        14370           104.720   \n4               4              NaN        14370           104.720   \n...           ...              ...          ...               ...   \n24354       40279              SFB        14370           134.236   \n24355       40283              SFB        14370           134.236   \n24356       40290              SFB        14370           134.236   \n24357       40291              SFB        14370           134.236   \n24358       40293              SFB        14370           134.236   \n\n             image_name  subject_id           x           y  \\\n0                   NaN    44273024  484.234375  277.609375   \n1                   NaN    44273037  623.601562  236.324219   \n2                   NaN    44272996  427.359375  163.644531   \n3                   NaN    44272996  443.312500  181.160156   \n4                   NaN    44272996  541.656250  221.363281   \n...                 ...         ...         ...         ...   \n24354  SFB02-4-2_69.jpg    47970106  127.448914  471.677856   \n24355  SFB02-4-2_96.jpg    47970166  351.080933  136.850372   \n24356  SFB02-4-2_96.jpg    47970166  358.369049  137.822800   \n24357  SFB02-4-2_96.jpg    47970166  355.557495  143.556152   \n24358  SFB02-4-2_96.jpg    47970166  353.312500  119.750000   \n\n                                              tool_label           phase_tag  \\\n0                                    Adult Male in a lek  Iguanas 1st launch   \n1                                    Adult Male in a lek  Iguanas 1st launch   \n2                                    Adult Male in a lek  Iguanas 1st launch   \n3                                       Adult Male alone  Iguanas 1st launch   \n4                                       Adult Male alone  Iguanas 1st launch   \n...                                                  ...                 ...   \n24354  Others (females, young males, juveniles and ta...  Iguanas 1st launch   \n24355  Others (females, young males, juveniles and ta...  Iguanas 1st launch   \n24356                                   Adult Male alone  Iguanas 1st launch   \n24357                                   Adult Male alone  Iguanas 1st launch   \n24358                                   Adult Male alone  Iguanas 1st launch   \n\n                                user_id                         user_name  \n0      ea57b1088a10fa7fef30ed0b344e2ca3  386fc0ec047b7e259744e72e8e64b9f9  \n1      ea57b1088a10fa7fef30ed0b344e2ca3  386fc0ec047b7e259744e72e8e64b9f9  \n2      ea57b1088a10fa7fef30ed0b344e2ca3  386fc0ec047b7e259744e72e8e64b9f9  \n3      ea57b1088a10fa7fef30ed0b344e2ca3  386fc0ec047b7e259744e72e8e64b9f9  \n4      ea57b1088a10fa7fef30ed0b344e2ca3  386fc0ec047b7e259744e72e8e64b9f9  \n...                                 ...                               ...  \n24354                               NaN  3cc4249a9be2c13956ff0ba70de7ed21  \n24355                               NaN  1c659139c7b28aca84febf1686e50f4e  \n24356                               NaN  197be33cb4df4e4a90e590cba7524e26  \n24357                               NaN  0abea201d4258f8a7de6e9e301ae4b11  \n24358                               NaN  da20f044ae1c8f681979a76048b9a1db  \n\n[24359 rows x 12 columns]",
      "text/html": "<div>\n<style scoped>\n    .dataframe tbody tr th:only-of-type {\n        vertical-align: middle;\n    }\n\n    .dataframe tbody tr th {\n        vertical-align: top;\n    }\n\n    .dataframe thead th {\n        text-align: right;\n    }\n</style>\n<table border=\"1\" class=\"dataframe\">\n  <thead>\n    <tr style=\"text-align: right;\">\n      <th></th>\n      <th>Unnamed: 0</th>\n      <th>flight_site_code</th>\n      <th>workflow_id</th>\n      <th>workflow_version</th>\n      <th>image_name</th>\n      <th>subject_id</th>\n      <th>x</th>\n      <th>y</th>\n      <th>tool_label</th>\n      <th>phase_tag</th>\n      <th>user_id</th>\n      <th>user_name</th>\n    </tr>\n  </thead>\n  <tbody>\n    <tr>\n      <th>0</th>\n      <td>0</td>\n      <td>NaN</td>\n      <td>14370</td>\n      <td>96.620</td>\n      <td>NaN</td>\n      <td>44273024</td>\n      <td>484.234375</td>\n      <td>277.609375</td>\n      <td>Adult Male in a lek</td>\n      <td>Iguanas 1st launch</td>\n      <td>ea57b1088a10fa7fef30ed0b344e2ca3</td>\n      <td>386fc0ec047b7e259744e72e8e64b9f9</td>\n    </tr>\n    <tr>\n      <th>1</th>\n      <td>1</td>\n      <td>NaN</td>\n      <td>14370</td>\n      <td>104.720</td>\n      <td>NaN</td>\n      <td>44273037</td>\n      <td>623.601562</td>\n      <td>236.324219</td>\n      <td>Adult Male in a lek</td>\n      <td>Iguanas 1st launch</td>\n      <td>ea57b1088a10fa7fef30ed0b344e2ca3</td>\n      <td>386fc0ec047b7e259744e72e8e64b9f9</td>\n    </tr>\n    <tr>\n      <th>2</th>\n      <td>2</td>\n      <td>NaN</td>\n      <td>14370</td>\n      <td>104.720</td>\n      <td>NaN</td>\n      <td>44272996</td>\n      <td>427.359375</td>\n      <td>163.644531</td>\n      <td>Adult Male in a lek</td>\n      <td>Iguanas 1st launch</td>\n      <td>ea57b1088a10fa7fef30ed0b344e2ca3</td>\n      <td>386fc0ec047b7e259744e72e8e64b9f9</td>\n    </tr>\n    <tr>\n      <th>3</th>\n      <td>3</td>\n      <td>NaN</td>\n      <td>14370</td>\n      <td>104.720</td>\n      <td>NaN</td>\n      <td>44272996</td>\n      <td>443.312500</td>\n      <td>181.160156</td>\n      <td>Adult Male alone</td>\n      <td>Iguanas 1st launch</td>\n      <td>ea57b1088a10fa7fef30ed0b344e2ca3</td>\n      <td>386fc0ec047b7e259744e72e8e64b9f9</td>\n    </tr>\n    <tr>\n      <th>4</th>\n      <td>4</td>\n      <td>NaN</td>\n      <td>14370</td>\n      <td>104.720</td>\n      <td>NaN</td>\n      <td>44272996</td>\n      <td>541.656250</td>\n      <td>221.363281</td>\n      <td>Adult Male alone</td>\n      <td>Iguanas 1st launch</td>\n      <td>ea57b1088a10fa7fef30ed0b344e2ca3</td>\n      <td>386fc0ec047b7e259744e72e8e64b9f9</td>\n    </tr>\n    <tr>\n      <th>...</th>\n      <td>...</td>\n      <td>...</td>\n      <td>...</td>\n      <td>...</td>\n      <td>...</td>\n      <td>...</td>\n      <td>...</td>\n      <td>...</td>\n      <td>...</td>\n      <td>...</td>\n      <td>...</td>\n      <td>...</td>\n    </tr>\n    <tr>\n      <th>24354</th>\n      <td>40279</td>\n      <td>SFB</td>\n      <td>14370</td>\n      <td>134.236</td>\n      <td>SFB02-4-2_69.jpg</td>\n      <td>47970106</td>\n      <td>127.448914</td>\n      <td>471.677856</td>\n      <td>Others (females, young males, juveniles and ta...</td>\n      <td>Iguanas 1st launch</td>\n      <td>NaN</td>\n      <td>3cc4249a9be2c13956ff0ba70de7ed21</td>\n    </tr>\n    <tr>\n      <th>24355</th>\n      <td>40283</td>\n      <td>SFB</td>\n      <td>14370</td>\n      <td>134.236</td>\n      <td>SFB02-4-2_96.jpg</td>\n      <td>47970166</td>\n      <td>351.080933</td>\n      <td>136.850372</td>\n      <td>Others (females, young males, juveniles and ta...</td>\n      <td>Iguanas 1st launch</td>\n      <td>NaN</td>\n      <td>1c659139c7b28aca84febf1686e50f4e</td>\n    </tr>\n    <tr>\n      <th>24356</th>\n      <td>40290</td>\n      <td>SFB</td>\n      <td>14370</td>\n      <td>134.236</td>\n      <td>SFB02-4-2_96.jpg</td>\n      <td>47970166</td>\n      <td>358.369049</td>\n      <td>137.822800</td>\n      <td>Adult Male alone</td>\n      <td>Iguanas 1st launch</td>\n      <td>NaN</td>\n      <td>197be33cb4df4e4a90e590cba7524e26</td>\n    </tr>\n    <tr>\n      <th>24357</th>\n      <td>40291</td>\n      <td>SFB</td>\n      <td>14370</td>\n      <td>134.236</td>\n      <td>SFB02-4-2_96.jpg</td>\n      <td>47970166</td>\n      <td>355.557495</td>\n      <td>143.556152</td>\n      <td>Adult Male alone</td>\n      <td>Iguanas 1st launch</td>\n      <td>NaN</td>\n      <td>0abea201d4258f8a7de6e9e301ae4b11</td>\n    </tr>\n    <tr>\n      <th>24358</th>\n      <td>40293</td>\n      <td>SFB</td>\n      <td>14370</td>\n      <td>134.236</td>\n      <td>SFB02-4-2_96.jpg</td>\n      <td>47970166</td>\n      <td>353.312500</td>\n      <td>119.750000</td>\n      <td>Adult Male alone</td>\n      <td>Iguanas 1st launch</td>\n      <td>NaN</td>\n      <td>da20f044ae1c8f681979a76048b9a1db</td>\n    </tr>\n  </tbody>\n</table>\n<p>24359 rows × 12 columns</p>\n</div>"
     },
     "execution_count": 17,
     "metadata": {},
     "output_type": "execute_result"
    }
   ],
   "source": [
    "## Look at the data\n",
    "df_merged_dataset\n"
   ]
  },
  {
   "cell_type": "markdown",
   "id": "da7bed90d6d10d89",
   "metadata": {
    "collapsed": false
   },
   "source": [
    "### Filter User if necessary and Marks\n"
   ]
  },
  {
   "cell_type": "code",
   "execution_count": 18,
   "id": "b84daa777a0903cf",
   "metadata": {
    "collapsed": false,
    "ExecuteTime": {
     "end_time": "2024-04-10T19:43:36.015952Z",
     "start_time": "2024-04-10T19:43:35.986905Z"
    }
   },
   "outputs": [
    {
     "name": "stderr",
     "output_type": "stream",
     "text": [
      "\u001B[32m2024-04-10 21:43:36.012\u001B[0m | \u001B[33m\u001B[1mWARNING \u001B[0m | \u001B[36mzooniverse.utils.filters\u001B[0m:\u001B[36mfilter_remove_marks\u001B[0m:\u001B[36m38\u001B[0m - \u001B[33m\u001B[1mremoved 0 partial marks\u001B[0m\n",
      "\u001B[32m2024-04-10 21:43:36.013\u001B[0m | \u001B[33m\u001B[1mWARNING \u001B[0m | \u001B[36mzooniverse.utils.filters\u001B[0m:\u001B[36mfilter_remove_marks\u001B[0m:\u001B[36m39\u001B[0m - \u001B[33m\u001B[1mAfter filter_func 3929 images are left\u001B[0m\n"
     ]
    },
    {
     "name": "stdout",
     "output_type": "stream",
     "text": [
      "Before filtering: 3967\n"
     ]
    }
   ],
   "source": [
    "print(f\"Before filtering: {df_merged_dataset.subject_id.nunique()}\")\n",
    "# There images in which some people said there are iguanas, but then didn't mark them. Clustering with fewer than 3 dots doesn't make sense\n",
    "if user_threshold is not None:\n",
    "    print(f\"filtering records which have less than {user_threshold} interactions.\")\n",
    "    df_merged_dataset = filter_df_user_threshold(df_merged_dataset, user_threshold=user_threshold)\n",
    "    \n",
    "\n",
    "from zooniverse.utils.filters import filter_remove_marks\n",
    "# Check if partials are still in the data. There shouldn't be any\n",
    "df_merged_dataset = filter_remove_marks(df_merged_dataset)\n"
   ]
  },
  {
   "cell_type": "markdown",
   "id": "d479e39e24f570b0",
   "metadata": {
    "collapsed": false
   },
   "source": [
    "### Are there anonymous users in the data?\n",
    "There should be some."
   ]
  },
  {
   "cell_type": "code",
   "execution_count": 19,
   "id": "9936072d8a7b7602",
   "metadata": {
    "collapsed": false,
    "ExecuteTime": {
     "end_time": "2024-04-10T19:43:36.047697Z",
     "start_time": "2024-04-10T19:43:36.017019Z"
    }
   },
   "outputs": [
    {
     "data": {
      "text/plain": "       Unnamed: 0 flight_site_code  workflow_id  workflow_version  \\\n6               9           SRIL03        14370           108.740   \n7              10           SRIL03        14370           108.740   \n8              11           SRIL03        14370           108.740   \n9              12           SRIL03        14370           108.740   \n10             13           SRIL03        14370           108.740   \n...           ...              ...          ...               ...   \n24354       40279              SFB        14370           134.236   \n24355       40283              SFB        14370           134.236   \n24356       40290              SFB        14370           134.236   \n24357       40291              SFB        14370           134.236   \n24358       40293              SFB        14370           134.236   \n\n               image_name  subject_id           x           y  \\\n6      SRIL03-2-2_116.jpg    44281583  829.133301  599.966675   \n7      SRIL03-2-2_132.jpg    44281389  393.633331  614.966675   \n8      SRIL03-2-2_132.jpg    44281389  226.633331  561.966675   \n9      SRIL03-2-2_132.jpg    44281389  223.633331  500.966675   \n10     SRIL03-2-2_132.jpg    44281389  303.633331  499.966675   \n...                   ...         ...         ...         ...   \n24354    SFB02-4-2_69.jpg    47970106  127.448914  471.677856   \n24355    SFB02-4-2_96.jpg    47970166  351.080933  136.850372   \n24356    SFB02-4-2_96.jpg    47970166  358.369049  137.822800   \n24357    SFB02-4-2_96.jpg    47970166  355.557495  143.556152   \n24358    SFB02-4-2_96.jpg    47970166  353.312500  119.750000   \n\n                                              tool_label           phase_tag  \\\n6                                       Adult Male alone  Iguanas 1st launch   \n7                                    Adult Male in a lek  Iguanas 1st launch   \n8      Others (females, young males, juveniles and ta...  Iguanas 1st launch   \n9      Others (females, young males, juveniles and ta...  Iguanas 1st launch   \n10     Others (females, young males, juveniles and ta...  Iguanas 1st launch   \n...                                                  ...                 ...   \n24354  Others (females, young males, juveniles and ta...  Iguanas 1st launch   \n24355  Others (females, young males, juveniles and ta...  Iguanas 1st launch   \n24356                                   Adult Male alone  Iguanas 1st launch   \n24357                                   Adult Male alone  Iguanas 1st launch   \n24358                                   Adult Male alone  Iguanas 1st launch   \n\n      user_id                         user_name  \n6         NaN  14fcdfb20e7001d8e866e24fef9780ec  \n7         NaN  14fcdfb20e7001d8e866e24fef9780ec  \n8         NaN  14fcdfb20e7001d8e866e24fef9780ec  \n9         NaN  14fcdfb20e7001d8e866e24fef9780ec  \n10        NaN  14fcdfb20e7001d8e866e24fef9780ec  \n...       ...                               ...  \n24354     NaN  3cc4249a9be2c13956ff0ba70de7ed21  \n24355     NaN  1c659139c7b28aca84febf1686e50f4e  \n24356     NaN  197be33cb4df4e4a90e590cba7524e26  \n24357     NaN  0abea201d4258f8a7de6e9e301ae4b11  \n24358     NaN  da20f044ae1c8f681979a76048b9a1db  \n\n[6474 rows x 12 columns]",
      "text/html": "<div>\n<style scoped>\n    .dataframe tbody tr th:only-of-type {\n        vertical-align: middle;\n    }\n\n    .dataframe tbody tr th {\n        vertical-align: top;\n    }\n\n    .dataframe thead th {\n        text-align: right;\n    }\n</style>\n<table border=\"1\" class=\"dataframe\">\n  <thead>\n    <tr style=\"text-align: right;\">\n      <th></th>\n      <th>Unnamed: 0</th>\n      <th>flight_site_code</th>\n      <th>workflow_id</th>\n      <th>workflow_version</th>\n      <th>image_name</th>\n      <th>subject_id</th>\n      <th>x</th>\n      <th>y</th>\n      <th>tool_label</th>\n      <th>phase_tag</th>\n      <th>user_id</th>\n      <th>user_name</th>\n    </tr>\n  </thead>\n  <tbody>\n    <tr>\n      <th>6</th>\n      <td>9</td>\n      <td>SRIL03</td>\n      <td>14370</td>\n      <td>108.740</td>\n      <td>SRIL03-2-2_116.jpg</td>\n      <td>44281583</td>\n      <td>829.133301</td>\n      <td>599.966675</td>\n      <td>Adult Male alone</td>\n      <td>Iguanas 1st launch</td>\n      <td>NaN</td>\n      <td>14fcdfb20e7001d8e866e24fef9780ec</td>\n    </tr>\n    <tr>\n      <th>7</th>\n      <td>10</td>\n      <td>SRIL03</td>\n      <td>14370</td>\n      <td>108.740</td>\n      <td>SRIL03-2-2_132.jpg</td>\n      <td>44281389</td>\n      <td>393.633331</td>\n      <td>614.966675</td>\n      <td>Adult Male in a lek</td>\n      <td>Iguanas 1st launch</td>\n      <td>NaN</td>\n      <td>14fcdfb20e7001d8e866e24fef9780ec</td>\n    </tr>\n    <tr>\n      <th>8</th>\n      <td>11</td>\n      <td>SRIL03</td>\n      <td>14370</td>\n      <td>108.740</td>\n      <td>SRIL03-2-2_132.jpg</td>\n      <td>44281389</td>\n      <td>226.633331</td>\n      <td>561.966675</td>\n      <td>Others (females, young males, juveniles and ta...</td>\n      <td>Iguanas 1st launch</td>\n      <td>NaN</td>\n      <td>14fcdfb20e7001d8e866e24fef9780ec</td>\n    </tr>\n    <tr>\n      <th>9</th>\n      <td>12</td>\n      <td>SRIL03</td>\n      <td>14370</td>\n      <td>108.740</td>\n      <td>SRIL03-2-2_132.jpg</td>\n      <td>44281389</td>\n      <td>223.633331</td>\n      <td>500.966675</td>\n      <td>Others (females, young males, juveniles and ta...</td>\n      <td>Iguanas 1st launch</td>\n      <td>NaN</td>\n      <td>14fcdfb20e7001d8e866e24fef9780ec</td>\n    </tr>\n    <tr>\n      <th>10</th>\n      <td>13</td>\n      <td>SRIL03</td>\n      <td>14370</td>\n      <td>108.740</td>\n      <td>SRIL03-2-2_132.jpg</td>\n      <td>44281389</td>\n      <td>303.633331</td>\n      <td>499.966675</td>\n      <td>Others (females, young males, juveniles and ta...</td>\n      <td>Iguanas 1st launch</td>\n      <td>NaN</td>\n      <td>14fcdfb20e7001d8e866e24fef9780ec</td>\n    </tr>\n    <tr>\n      <th>...</th>\n      <td>...</td>\n      <td>...</td>\n      <td>...</td>\n      <td>...</td>\n      <td>...</td>\n      <td>...</td>\n      <td>...</td>\n      <td>...</td>\n      <td>...</td>\n      <td>...</td>\n      <td>...</td>\n      <td>...</td>\n    </tr>\n    <tr>\n      <th>24354</th>\n      <td>40279</td>\n      <td>SFB</td>\n      <td>14370</td>\n      <td>134.236</td>\n      <td>SFB02-4-2_69.jpg</td>\n      <td>47970106</td>\n      <td>127.448914</td>\n      <td>471.677856</td>\n      <td>Others (females, young males, juveniles and ta...</td>\n      <td>Iguanas 1st launch</td>\n      <td>NaN</td>\n      <td>3cc4249a9be2c13956ff0ba70de7ed21</td>\n    </tr>\n    <tr>\n      <th>24355</th>\n      <td>40283</td>\n      <td>SFB</td>\n      <td>14370</td>\n      <td>134.236</td>\n      <td>SFB02-4-2_96.jpg</td>\n      <td>47970166</td>\n      <td>351.080933</td>\n      <td>136.850372</td>\n      <td>Others (females, young males, juveniles and ta...</td>\n      <td>Iguanas 1st launch</td>\n      <td>NaN</td>\n      <td>1c659139c7b28aca84febf1686e50f4e</td>\n    </tr>\n    <tr>\n      <th>24356</th>\n      <td>40290</td>\n      <td>SFB</td>\n      <td>14370</td>\n      <td>134.236</td>\n      <td>SFB02-4-2_96.jpg</td>\n      <td>47970166</td>\n      <td>358.369049</td>\n      <td>137.822800</td>\n      <td>Adult Male alone</td>\n      <td>Iguanas 1st launch</td>\n      <td>NaN</td>\n      <td>197be33cb4df4e4a90e590cba7524e26</td>\n    </tr>\n    <tr>\n      <th>24357</th>\n      <td>40291</td>\n      <td>SFB</td>\n      <td>14370</td>\n      <td>134.236</td>\n      <td>SFB02-4-2_96.jpg</td>\n      <td>47970166</td>\n      <td>355.557495</td>\n      <td>143.556152</td>\n      <td>Adult Male alone</td>\n      <td>Iguanas 1st launch</td>\n      <td>NaN</td>\n      <td>0abea201d4258f8a7de6e9e301ae4b11</td>\n    </tr>\n    <tr>\n      <th>24358</th>\n      <td>40293</td>\n      <td>SFB</td>\n      <td>14370</td>\n      <td>134.236</td>\n      <td>SFB02-4-2_96.jpg</td>\n      <td>47970166</td>\n      <td>353.312500</td>\n      <td>119.750000</td>\n      <td>Adult Male alone</td>\n      <td>Iguanas 1st launch</td>\n      <td>NaN</td>\n      <td>da20f044ae1c8f681979a76048b9a1db</td>\n    </tr>\n  </tbody>\n</table>\n<p>6474 rows × 12 columns</p>\n</div>"
     },
     "execution_count": 19,
     "metadata": {},
     "output_type": "execute_result"
    }
   ],
   "source": [
    "df_merged_dataset[df_merged_dataset.user_id.isnull().values]"
   ]
  },
  {
   "cell_type": "code",
   "execution_count": 20,
   "id": "9258d161c25ae7d3",
   "metadata": {
    "collapsed": false,
    "ExecuteTime": {
     "end_time": "2024-04-10T19:43:36.078331Z",
     "start_time": "2024-04-10T19:43:36.051246Z"
    }
   },
   "outputs": [
    {
     "data": {
      "text/plain": "3967"
     },
     "execution_count": 20,
     "metadata": {},
     "output_type": "execute_result"
    }
   ],
   "source": [
    "# Amount of images\n",
    "df_merged_dataset[\"subject_id\"].nunique()"
   ]
  },
  {
   "cell_type": "code",
   "execution_count": 21,
   "id": "6caad5d554d586db",
   "metadata": {
    "collapsed": false,
    "ExecuteTime": {
     "end_time": "2024-04-10T19:43:36.109782Z",
     "start_time": "2024-04-10T19:43:36.079308Z"
    }
   },
   "outputs": [
    {
     "data": {
      "text/plain": "       Unnamed: 0 flight_site_code  workflow_id  workflow_version  \\\n0               0              NaN        14370            96.620   \n1               1              NaN        14370           104.720   \n2               2              NaN        14370           104.720   \n3               3              NaN        14370           104.720   \n4               4              NaN        14370           104.720   \n...           ...              ...          ...               ...   \n24354       40279              SFB        14370           134.236   \n24355       40283              SFB        14370           134.236   \n24356       40290              SFB        14370           134.236   \n24357       40291              SFB        14370           134.236   \n24358       40293              SFB        14370           134.236   \n\n             image_name  subject_id           x           y  \\\n0                   NaN    44273024  484.234375  277.609375   \n1                   NaN    44273037  623.601562  236.324219   \n2                   NaN    44272996  427.359375  163.644531   \n3                   NaN    44272996  443.312500  181.160156   \n4                   NaN    44272996  541.656250  221.363281   \n...                 ...         ...         ...         ...   \n24354  SFB02-4-2_69.jpg    47970106  127.448914  471.677856   \n24355  SFB02-4-2_96.jpg    47970166  351.080933  136.850372   \n24356  SFB02-4-2_96.jpg    47970166  358.369049  137.822800   \n24357  SFB02-4-2_96.jpg    47970166  355.557495  143.556152   \n24358  SFB02-4-2_96.jpg    47970166  353.312500  119.750000   \n\n                                              tool_label           phase_tag  \\\n0                                    Adult Male in a lek  Iguanas 1st launch   \n1                                    Adult Male in a lek  Iguanas 1st launch   \n2                                    Adult Male in a lek  Iguanas 1st launch   \n3                                       Adult Male alone  Iguanas 1st launch   \n4                                       Adult Male alone  Iguanas 1st launch   \n...                                                  ...                 ...   \n24354  Others (females, young males, juveniles and ta...  Iguanas 1st launch   \n24355  Others (females, young males, juveniles and ta...  Iguanas 1st launch   \n24356                                   Adult Male alone  Iguanas 1st launch   \n24357                                   Adult Male alone  Iguanas 1st launch   \n24358                                   Adult Male alone  Iguanas 1st launch   \n\n                                user_id                         user_name  \n0      ea57b1088a10fa7fef30ed0b344e2ca3  386fc0ec047b7e259744e72e8e64b9f9  \n1      ea57b1088a10fa7fef30ed0b344e2ca3  386fc0ec047b7e259744e72e8e64b9f9  \n2      ea57b1088a10fa7fef30ed0b344e2ca3  386fc0ec047b7e259744e72e8e64b9f9  \n3      ea57b1088a10fa7fef30ed0b344e2ca3  386fc0ec047b7e259744e72e8e64b9f9  \n4      ea57b1088a10fa7fef30ed0b344e2ca3  386fc0ec047b7e259744e72e8e64b9f9  \n...                                 ...                               ...  \n24354                               NaN  3cc4249a9be2c13956ff0ba70de7ed21  \n24355                               NaN  1c659139c7b28aca84febf1686e50f4e  \n24356                               NaN  197be33cb4df4e4a90e590cba7524e26  \n24357                               NaN  0abea201d4258f8a7de6e9e301ae4b11  \n24358                               NaN  da20f044ae1c8f681979a76048b9a1db  \n\n[24359 rows x 12 columns]",
      "text/html": "<div>\n<style scoped>\n    .dataframe tbody tr th:only-of-type {\n        vertical-align: middle;\n    }\n\n    .dataframe tbody tr th {\n        vertical-align: top;\n    }\n\n    .dataframe thead th {\n        text-align: right;\n    }\n</style>\n<table border=\"1\" class=\"dataframe\">\n  <thead>\n    <tr style=\"text-align: right;\">\n      <th></th>\n      <th>Unnamed: 0</th>\n      <th>flight_site_code</th>\n      <th>workflow_id</th>\n      <th>workflow_version</th>\n      <th>image_name</th>\n      <th>subject_id</th>\n      <th>x</th>\n      <th>y</th>\n      <th>tool_label</th>\n      <th>phase_tag</th>\n      <th>user_id</th>\n      <th>user_name</th>\n    </tr>\n  </thead>\n  <tbody>\n    <tr>\n      <th>0</th>\n      <td>0</td>\n      <td>NaN</td>\n      <td>14370</td>\n      <td>96.620</td>\n      <td>NaN</td>\n      <td>44273024</td>\n      <td>484.234375</td>\n      <td>277.609375</td>\n      <td>Adult Male in a lek</td>\n      <td>Iguanas 1st launch</td>\n      <td>ea57b1088a10fa7fef30ed0b344e2ca3</td>\n      <td>386fc0ec047b7e259744e72e8e64b9f9</td>\n    </tr>\n    <tr>\n      <th>1</th>\n      <td>1</td>\n      <td>NaN</td>\n      <td>14370</td>\n      <td>104.720</td>\n      <td>NaN</td>\n      <td>44273037</td>\n      <td>623.601562</td>\n      <td>236.324219</td>\n      <td>Adult Male in a lek</td>\n      <td>Iguanas 1st launch</td>\n      <td>ea57b1088a10fa7fef30ed0b344e2ca3</td>\n      <td>386fc0ec047b7e259744e72e8e64b9f9</td>\n    </tr>\n    <tr>\n      <th>2</th>\n      <td>2</td>\n      <td>NaN</td>\n      <td>14370</td>\n      <td>104.720</td>\n      <td>NaN</td>\n      <td>44272996</td>\n      <td>427.359375</td>\n      <td>163.644531</td>\n      <td>Adult Male in a lek</td>\n      <td>Iguanas 1st launch</td>\n      <td>ea57b1088a10fa7fef30ed0b344e2ca3</td>\n      <td>386fc0ec047b7e259744e72e8e64b9f9</td>\n    </tr>\n    <tr>\n      <th>3</th>\n      <td>3</td>\n      <td>NaN</td>\n      <td>14370</td>\n      <td>104.720</td>\n      <td>NaN</td>\n      <td>44272996</td>\n      <td>443.312500</td>\n      <td>181.160156</td>\n      <td>Adult Male alone</td>\n      <td>Iguanas 1st launch</td>\n      <td>ea57b1088a10fa7fef30ed0b344e2ca3</td>\n      <td>386fc0ec047b7e259744e72e8e64b9f9</td>\n    </tr>\n    <tr>\n      <th>4</th>\n      <td>4</td>\n      <td>NaN</td>\n      <td>14370</td>\n      <td>104.720</td>\n      <td>NaN</td>\n      <td>44272996</td>\n      <td>541.656250</td>\n      <td>221.363281</td>\n      <td>Adult Male alone</td>\n      <td>Iguanas 1st launch</td>\n      <td>ea57b1088a10fa7fef30ed0b344e2ca3</td>\n      <td>386fc0ec047b7e259744e72e8e64b9f9</td>\n    </tr>\n    <tr>\n      <th>...</th>\n      <td>...</td>\n      <td>...</td>\n      <td>...</td>\n      <td>...</td>\n      <td>...</td>\n      <td>...</td>\n      <td>...</td>\n      <td>...</td>\n      <td>...</td>\n      <td>...</td>\n      <td>...</td>\n      <td>...</td>\n    </tr>\n    <tr>\n      <th>24354</th>\n      <td>40279</td>\n      <td>SFB</td>\n      <td>14370</td>\n      <td>134.236</td>\n      <td>SFB02-4-2_69.jpg</td>\n      <td>47970106</td>\n      <td>127.448914</td>\n      <td>471.677856</td>\n      <td>Others (females, young males, juveniles and ta...</td>\n      <td>Iguanas 1st launch</td>\n      <td>NaN</td>\n      <td>3cc4249a9be2c13956ff0ba70de7ed21</td>\n    </tr>\n    <tr>\n      <th>24355</th>\n      <td>40283</td>\n      <td>SFB</td>\n      <td>14370</td>\n      <td>134.236</td>\n      <td>SFB02-4-2_96.jpg</td>\n      <td>47970166</td>\n      <td>351.080933</td>\n      <td>136.850372</td>\n      <td>Others (females, young males, juveniles and ta...</td>\n      <td>Iguanas 1st launch</td>\n      <td>NaN</td>\n      <td>1c659139c7b28aca84febf1686e50f4e</td>\n    </tr>\n    <tr>\n      <th>24356</th>\n      <td>40290</td>\n      <td>SFB</td>\n      <td>14370</td>\n      <td>134.236</td>\n      <td>SFB02-4-2_96.jpg</td>\n      <td>47970166</td>\n      <td>358.369049</td>\n      <td>137.822800</td>\n      <td>Adult Male alone</td>\n      <td>Iguanas 1st launch</td>\n      <td>NaN</td>\n      <td>197be33cb4df4e4a90e590cba7524e26</td>\n    </tr>\n    <tr>\n      <th>24357</th>\n      <td>40291</td>\n      <td>SFB</td>\n      <td>14370</td>\n      <td>134.236</td>\n      <td>SFB02-4-2_96.jpg</td>\n      <td>47970166</td>\n      <td>355.557495</td>\n      <td>143.556152</td>\n      <td>Adult Male alone</td>\n      <td>Iguanas 1st launch</td>\n      <td>NaN</td>\n      <td>0abea201d4258f8a7de6e9e301ae4b11</td>\n    </tr>\n    <tr>\n      <th>24358</th>\n      <td>40293</td>\n      <td>SFB</td>\n      <td>14370</td>\n      <td>134.236</td>\n      <td>SFB02-4-2_96.jpg</td>\n      <td>47970166</td>\n      <td>353.312500</td>\n      <td>119.750000</td>\n      <td>Adult Male alone</td>\n      <td>Iguanas 1st launch</td>\n      <td>NaN</td>\n      <td>da20f044ae1c8f681979a76048b9a1db</td>\n    </tr>\n  </tbody>\n</table>\n<p>24359 rows × 12 columns</p>\n</div>"
     },
     "execution_count": 21,
     "metadata": {},
     "output_type": "execute_result"
    }
   ],
   "source": [
    "## After filtering there\n",
    "df_merged_dataset"
   ]
  },
  {
   "cell_type": "code",
   "execution_count": 22,
   "id": "e1fcc8d02df55119",
   "metadata": {
    "collapsed": false,
    "ExecuteTime": {
     "end_time": "2024-04-10T19:43:36.142454Z",
     "start_time": "2024-04-10T19:43:36.111287Z"
    }
   },
   "outputs": [
    {
     "data": {
      "text/plain": "                                  x\nuser_id                            \n003abe9e6bb90e03c50377a33f1137a5  1\n004eb4442ae5c85fcb6b5c78ed902f41  1\n006c16c227f4152ffff80d195fca443b  4\n006e42e5ce984ed7c6b340949ae4d0ee  4\n00747fbc3b2f5109c0ad9f52f9bf6784  9",
      "text/html": "<div>\n<style scoped>\n    .dataframe tbody tr th:only-of-type {\n        vertical-align: middle;\n    }\n\n    .dataframe tbody tr th {\n        vertical-align: top;\n    }\n\n    .dataframe thead th {\n        text-align: right;\n    }\n</style>\n<table border=\"1\" class=\"dataframe\">\n  <thead>\n    <tr style=\"text-align: right;\">\n      <th></th>\n      <th>x</th>\n    </tr>\n    <tr>\n      <th>user_id</th>\n      <th></th>\n    </tr>\n  </thead>\n  <tbody>\n    <tr>\n      <th>003abe9e6bb90e03c50377a33f1137a5</th>\n      <td>1</td>\n    </tr>\n    <tr>\n      <th>004eb4442ae5c85fcb6b5c78ed902f41</th>\n      <td>1</td>\n    </tr>\n    <tr>\n      <th>006c16c227f4152ffff80d195fca443b</th>\n      <td>4</td>\n    </tr>\n    <tr>\n      <th>006e42e5ce984ed7c6b340949ae4d0ee</th>\n      <td>4</td>\n    </tr>\n    <tr>\n      <th>00747fbc3b2f5109c0ad9f52f9bf6784</th>\n      <td>9</td>\n    </tr>\n  </tbody>\n</table>\n</div>"
     },
     "execution_count": 22,
     "metadata": {},
     "output_type": "execute_result"
    }
   ],
   "source": [
    "# how many marks per user\n",
    "df_merged_dataset[[\"user_id\", \"x\"]].groupby(\"user_id\").count().head()"
   ]
  },
  {
   "cell_type": "markdown",
   "id": "727513d12334665b",
   "metadata": {
    "collapsed": false
   },
   "source": []
  },
  {
   "cell_type": "code",
   "execution_count": 23,
   "id": "a32dd3d78eb25d4a",
   "metadata": {
    "collapsed": false,
    "ExecuteTime": {
     "end_time": "2024-04-10T19:43:36.168486Z",
     "start_time": "2024-04-10T19:43:36.143652Z"
    }
   },
   "outputs": [
    {
     "data": {
      "text/plain": "3967"
     },
     "execution_count": 23,
     "metadata": {},
     "output_type": "execute_result"
    }
   ],
   "source": [
    "# How many images are left in the zooniverse dataset?\n",
    "df_merged_dataset[\"subject_id\"].nunique()"
   ]
  },
  {
   "cell_type": "markdown",
   "id": "42c2737f2c06741d",
   "metadata": {
    "collapsed": false
   },
   "source": [
    "## Clustering"
   ]
  },
  {
   "cell_type": "markdown",
   "id": "beefdd1511daad4",
   "metadata": {
    "collapsed": false
   },
   "source": [
    "### Basic Statics like mean, median, mode"
   ]
  },
  {
   "cell_type": "code",
   "execution_count": 24,
   "id": "998d62019f01a2ec",
   "metadata": {
    "collapsed": false,
    "ExecuteTime": {
     "end_time": "2024-04-10T19:43:36.652047Z",
     "start_time": "2024-04-10T19:43:36.170371Z"
    }
   },
   "outputs": [
    {
     "ename": "AttributeError",
     "evalue": "'list' object has no attribute 'mean'",
     "output_type": "error",
     "traceback": [
      "\u001B[0;31m---------------------------------------------------------------------------\u001B[0m",
      "\u001B[0;31mAttributeError\u001B[0m                            Traceback (most recent call last)",
      "Cell \u001B[0;32mIn[24], line 8\u001B[0m\n\u001B[1;32m      5\u001B[0m \u001B[38;5;28;01mfor\u001B[39;00m image_name, df_image_name \u001B[38;5;129;01min\u001B[39;00m df_merged_dataset\u001B[38;5;241m.\u001B[39mgroupby(\u001B[38;5;124m\"\u001B[39m\u001B[38;5;124mimage_name\u001B[39m\u001B[38;5;124m\"\u001B[39m):\n\u001B[1;32m      6\u001B[0m     annotations_count \u001B[38;5;241m=\u001B[39m get_mark_overview(df_image_name)\n\u001B[0;32m----> 8\u001B[0m     annotations_count_stats \u001B[38;5;241m=\u001B[39m \u001B[43mget_annotation_count_stats\u001B[49m\u001B[43m(\u001B[49m\u001B[43mannotations_count\u001B[49m\u001B[38;5;241;43m=\u001B[39;49m\u001B[43mannotations_count\u001B[49m\u001B[43m,\u001B[49m\n\u001B[1;32m      9\u001B[0m \u001B[43m                                                         \u001B[49m\u001B[43mimage_name\u001B[49m\u001B[38;5;241;43m=\u001B[39;49m\u001B[43mdf_image_name\u001B[49m\u001B[38;5;241;43m.\u001B[39;49m\u001B[43miloc\u001B[49m\u001B[43m[\u001B[49m\u001B[38;5;241;43m0\u001B[39;49m\u001B[43m]\u001B[49m\u001B[43m[\u001B[49m\u001B[38;5;124;43m\"\u001B[39;49m\u001B[38;5;124;43mimage_name\u001B[39;49m\u001B[38;5;124;43m\"\u001B[39;49m\u001B[43m]\u001B[49m\u001B[43m)\u001B[49m\n\u001B[1;32m     11\u001B[0m     \u001B[38;5;66;03m### basic statistics like mean, median\u001B[39;00m\n\u001B[1;32m     12\u001B[0m     basic_stats\u001B[38;5;241m.\u001B[39mappend(annotations_count_stats)\n",
      "File \u001B[0;32m~/PycharmProjects/iguanas-from-above-zooniverse/zooniverse/analysis.py:730\u001B[0m, in \u001B[0;36mget_annotation_count_stats\u001B[0;34m(annotations_count, image_name)\u001B[0m\n\u001B[1;32m    718\u001B[0m \u001B[38;5;28;01mdef\u001B[39;00m \u001B[38;5;21mget_annotation_count_stats\u001B[39m(annotations_count, image_name):\n\u001B[1;32m    719\u001B[0m \u001B[38;5;250m    \u001B[39m\u001B[38;5;124;03m\"\"\"\u001B[39;00m\n\u001B[1;32m    720\u001B[0m \u001B[38;5;124;03m    build a dictionary with the statistics of the annotations count\u001B[39;00m\n\u001B[1;32m    721\u001B[0m \u001B[38;5;124;03m    :param annotations_count:\u001B[39;00m\n\u001B[1;32m    722\u001B[0m \u001B[38;5;124;03m    :param image_name:\u001B[39;00m\n\u001B[1;32m    723\u001B[0m \u001B[38;5;124;03m    :return:\u001B[39;00m\n\u001B[1;32m    724\u001B[0m \u001B[38;5;124;03m    \"\"\"\u001B[39;00m\n\u001B[1;32m    725\u001B[0m     \u001B[38;5;28;01mreturn\u001B[39;00m {\n\u001B[1;32m    726\u001B[0m         \u001B[38;5;124m\"\u001B[39m\u001B[38;5;124mimage_name\u001B[39m\u001B[38;5;124m\"\u001B[39m: image_name,\n\u001B[1;32m    727\u001B[0m         \u001B[38;5;124m\"\u001B[39m\u001B[38;5;124mmedian_count\u001B[39m\u001B[38;5;124m\"\u001B[39m: statistics\u001B[38;5;241m.\u001B[39mmedian(annotations_count),\n\u001B[1;32m    728\u001B[0m         \u001B[38;5;124m\"\u001B[39m\u001B[38;5;124mmean_count\u001B[39m\u001B[38;5;124m\"\u001B[39m: \u001B[38;5;28mround\u001B[39m(statistics\u001B[38;5;241m.\u001B[39mmean(annotations_count), \u001B[38;5;241m2\u001B[39m),\n\u001B[1;32m    729\u001B[0m         \u001B[38;5;124m\"\u001B[39m\u001B[38;5;124mmode_count\u001B[39m\u001B[38;5;124m\"\u001B[39m: statistics\u001B[38;5;241m.\u001B[39mmultimode(annotations_count), \u001B[38;5;66;03m# TODO test this\u001B[39;00m\n\u001B[0;32m--> 730\u001B[0m         \u001B[38;5;124m\"\u001B[39m\u001B[38;5;124mmode_count_avg\u001B[39m\u001B[38;5;124m\"\u001B[39m: \u001B[43mstatistics\u001B[49m\u001B[38;5;241;43m.\u001B[39;49m\u001B[43mmultimode\u001B[49m\u001B[43m(\u001B[49m\u001B[43mannotations_count\u001B[49m\u001B[43m)\u001B[49m\u001B[38;5;241;43m.\u001B[39;49m\u001B[43mmean\u001B[49m(), \u001B[38;5;66;03m# TODO test this\u001B[39;00m\n\u001B[1;32m    731\u001B[0m         \u001B[38;5;124m\"\u001B[39m\u001B[38;5;124musers\u001B[39m\u001B[38;5;124m\"\u001B[39m: \u001B[38;5;28mlen\u001B[39m(annotations_count),\n\u001B[1;32m    732\u001B[0m         \u001B[38;5;124m\"\u001B[39m\u001B[38;5;124msum_annotations_count\u001B[39m\u001B[38;5;124m\"\u001B[39m: \u001B[38;5;28msum\u001B[39m(annotations_count),\n\u001B[1;32m    733\u001B[0m         \u001B[38;5;124m\"\u001B[39m\u001B[38;5;124mannotations_count\u001B[39m\u001B[38;5;124m\"\u001B[39m: \u001B[38;5;28msorted\u001B[39m(annotations_count),\n\u001B[1;32m    734\u001B[0m     }\n",
      "\u001B[0;31mAttributeError\u001B[0m: 'list' object has no attribute 'mean'"
     ]
    }
   ],
   "source": [
    "from zooniverse.analysis import get_mark_overview\n",
    "\n",
    "basic_stats = []\n",
    "\n",
    "for image_name, df_image_name in df_merged_dataset.groupby(\"image_name\"):\n",
    "    annotations_count = get_mark_overview(df_image_name)\n",
    "\n",
    "    annotations_count_stats = get_annotation_count_stats(annotations_count=annotations_count,\n",
    "                                                         image_name=df_image_name.iloc[0][\"image_name\"])\n",
    "\n",
    "    ### basic statistics like mean, median\n",
    "    basic_stats.append(annotations_count_stats)\n",
    "    \n",
    "\n",
    "df_basic_stats = pd.DataFrame(basic_stats)    \n",
    "df_comparison = df_basic_stats\n"
   ]
  },
  {
   "cell_type": "code",
   "execution_count": null,
   "id": "dd1f05f18807f3b4",
   "metadata": {
    "collapsed": false
   },
   "outputs": [],
   "source": [
    "df_basic_stats"
   ]
  },
  {
   "cell_type": "code",
   "execution_count": null,
   "id": "d3dc86009d813ff0",
   "metadata": {
    "collapsed": false
   },
   "outputs": [],
   "source": [
    "# There might be records with too few annotations if they were not removed before\n",
    "df_comparison[(df_comparison.sum_annotations_count < 5)].sort_values(by=\"users\", ascending=False)"
   ]
  },
  {
   "cell_type": "code",
   "execution_count": null,
   "id": "50596f5c07d7bd7c",
   "metadata": {
    "collapsed": false
   },
   "outputs": [],
   "source": [
    "# Fill NaN values with 0 because the errors can't be calculated otherwise\n",
    "df_comparison.fillna(0, inplace=True)\n"
   ]
  },
  {
   "cell_type": "code",
   "execution_count": null,
   "id": "d0b61f01-8db0-48a6-8a4e-5ff80e6f86e4",
   "metadata": {},
   "outputs": [],
   "source": [
    "df_comparison"
   ]
  },
  {
   "cell_type": "code",
   "execution_count": null,
   "id": "134bd6295fa837ce",
   "metadata": {
    "collapsed": false
   },
   "outputs": [],
   "source": [
    "df_comparison.sum()"
   ]
  },
  {
   "cell_type": "markdown",
   "id": "5d99c27ebf9bd6b6",
   "metadata": {
    "collapsed": false
   },
   "source": [
    "### DBSCAN clustering and take the variant with the best silouette score for each image\n"
   ]
  },
  {
   "cell_type": "code",
   "execution_count": null,
   "id": "33cf6b89951ff33e",
   "metadata": {
    "collapsed": false
   },
   "outputs": [],
   "source": [
    "### The old variant\n",
    "# from zooniverse.analysis import compare_dbscan\n",
    "# \n",
    "# eps_variants = [0.01, 0.05, 0.1, 0.2, 0.3, 0.4, 0.5]\n",
    "# min_samples_variants = [3, 5, 8, 10]\n",
    "# if debug:\n",
    "#     eps_variants = [0.3]\n",
    "#     min_samples_variants = [3]\n",
    "# params = [(eps, min_samples) for eps in eps_variants for min_samples in min_samples_variants]\n",
    "# \n",
    "# db_scan_results = {}\n",
    "# db_scan_best_results = []\n",
    "# db_scan_best_bic_results = []\n",
    "# for image_name, df_image_name in df_merged_dataset.groupby(\"image_name\"):\n",
    "# \n",
    "#     dbscan_localization = compare_dbscan(\n",
    "#         # phase_tag=phase_tag,\n",
    "#         params=params,\n",
    "#         df_flat=df_image_name,\n",
    "#         # output_path=output_path,\n",
    "#         output_plot_path=output_plot_path,\n",
    "#         plot=show_plots,\n",
    "#         \n",
    "#     )\n",
    "# \n",
    "#     db_scan_results[image_name] = pd.DataFrame(dbscan_localization)\n",
    "#     db_scan_best_results.append(pd.DataFrame(dbscan_localization).sort_values(\"dbscan_silouette_score\", ascending=False).iloc[0])\n",
    "#     \n",
    "# df_dbscan_localization = pd.concat([*db_scan_results.values()])\n",
    "# df_scan_best_results = pd.DataFrame(db_scan_best_results)\n",
    "\n"
   ]
  },
  {
   "cell_type": "code",
   "execution_count": null,
   "id": "1504707449147a99",
   "metadata": {
    "collapsed": false
   },
   "outputs": [],
   "source": [
    "# df_scan_best_results"
   ]
  },
  {
   "cell_type": "code",
   "execution_count": null,
   "id": "541f9f88dc56d1f1",
   "metadata": {
    "collapsed": false
   },
   "outputs": [],
   "source": [
    "## fixes the problem with the silouette score sorting\n",
    "from zooniverse.analysis import compare_dbscan\n",
    "\n",
    "eps_variants = [0.01, 0.05, 0.1, 0.2, 0.3, 0.4, 0.5]\n",
    "min_samples_variants = [3, 5, 8, 10]\n",
    "if debug:\n",
    "    eps_variants = [0.3]\n",
    "    min_samples_variants = [3]\n",
    "params = [(eps, min_samples) for eps in eps_variants for min_samples in min_samples_variants]\n",
    "\n",
    "db_scan_results = {}\n",
    "db_scan_best_results = []\n",
    "db_scan_best_bic_results = []\n",
    "for image_name, df_image_name in df_merged_dataset.groupby(\"image_name\"):\n",
    "\n",
    "    dbscan_localization = compare_dbscan(\n",
    "        params=params,\n",
    "        df_flat=df_image_name,\n",
    "        output_plot_path=output_plot_path,\n",
    "        plot=show_plots\n",
    "    )\n",
    "\n",
    "    db_scan_results[image_name] = pd.DataFrame(dbscan_localization)\n",
    "    \n",
    "    # DBSCAN tends to classfy all points as noise if min_samples is too high. Often only a single user marked an iguana.\n",
    "    # Sillouette Scoring needs a minimum of 2 clusters\n",
    "    # if there are points in decent radius they will belong to a cluster\n",
    "    if pd.DataFrame(dbscan_localization).dbscan_count.max() == 1:\n",
    "        db_scan_best_results.append(pd.DataFrame(dbscan_localization).sort_values(\"dbscan_count\", ascending=False).iloc[0])\n",
    "        db_scan_best_bic_results.append(pd.DataFrame(dbscan_localization).sort_values(\"dbscan_count\", ascending=False).iloc[0])\n",
    "        # If two or more cluster seem to exists take ones with the best Silouette score\n",
    "    else:  \n",
    "        # take the best result by silouette score if there are more clusters then 1\n",
    "        db_scan_best_results.append(pd.DataFrame(dbscan_localization).sort_values([\"dbscan_silouette_score\", \"dbscan_count\"], ascending=[False, False]).iloc[0])\n",
    "    \n",
    "df_dbscan_localization = pd.concat([*db_scan_results.values()])\n",
    "df_scan_best_results = pd.DataFrame(db_scan_best_results)\n"
   ]
  },
  {
   "cell_type": "code",
   "execution_count": null,
   "id": "ec07d63d180d7442",
   "metadata": {
    "collapsed": false
   },
   "outputs": [],
   "source": [
    "df_scan_best_results"
   ]
  },
  {
   "cell_type": "markdown",
   "id": "d196ca1914a06509",
   "metadata": {
    "collapsed": false
   },
   "source": [
    "Here it can be seen why the silouette score is difficult because it is often undefined."
   ]
  },
  {
   "cell_type": "code",
   "execution_count": null,
   "id": "c17c404cb518dbe1",
   "metadata": {
    "collapsed": false
   },
   "outputs": [],
   "source": [
    "## save the combinations of parameters, which maximized the silouette score.\n",
    "\n",
    "df_dbscan_localization.to_csv(config[\"dbscan_hyperparam_grid\"])\n",
    "df_scan_best_results"
   ]
  },
  {
   "cell_type": "code",
   "execution_count": null,
   "id": "bacea598a23a1b81",
   "metadata": {
    "collapsed": false
   },
   "outputs": [],
   "source": [
    "df_scan_best_results.rename(columns={\"dbscan_count\": \"dbscan_count_sil\" }, inplace=True)\n",
    "\n",
    "df_comparison = df_comparison.merge(df_scan_best_results, on='image_name', how='left')"
   ]
  },
  {
   "cell_type": "code",
   "execution_count": null,
   "id": "509dec5ebdad923",
   "metadata": {
    "collapsed": false
   },
   "outputs": [],
   "source": [
    "\n",
    "df_comparison = df_comparison.drop([\"dbscan_noise\", \"dbscan_silouette_score\", \"eps\", \"min_samples\", \"dbscan_BIC_score\", \"with_noise\", \"bic_avg\"], axis=1, errors=\"ignore\")\n",
    "df_comparison"
   ]
  },
  {
   "cell_type": "markdown",
   "id": "15adf791099ac332",
   "metadata": {
    "collapsed": false
   },
   "source": [
    "### HDBSCAN clustering for each image\n"
   ]
  },
  {
   "cell_type": "code",
   "execution_count": null,
   "id": "6763aed82e7088dd",
   "metadata": {
    "collapsed": false
   },
   "outputs": [],
   "source": [
    "from zooniverse.analysis import hdbscan\n",
    "\n",
    "hdbscan_values = []\n",
    "\n",
    "eps_variants = [0.0] # 0 is the default\n",
    "min_cluster_sizes = [5] # 5 is the default\n",
    "\n",
    "\n",
    "for image_name, df_image_name in df_merged_dataset.groupby(\"image_name\"):\n",
    "    annotations_count = get_mark_overview(df_image_name)\n",
    "    annotations_count_stats = get_annotation_count_stats(annotations_count=annotations_count,\n",
    "                                                         image_name=df_image_name.iloc[0][\"image_name\"])\n",
    "    \n",
    "    # if less than min_cluster_sizes points are available clustering makes no sense\n",
    "    if df_image_name.shape[0] >= 5: # If num_samples is 5 for the min_cluster_size is 5 there is no point in passing data with less than 5 samples\n",
    "        params = [(eps, min_cluster_size, max_cluster_size) \n",
    "                    for eps in eps_variants\n",
    "                    for min_cluster_size in min_cluster_sizes\n",
    "                    for max_cluster_size in [None]\n",
    "              ]\n",
    "\n",
    "        df_hdbscan = hdbscan(df_marks=df_image_name[[\"x\", \"y\"]],\n",
    "                                     output_path=output_plot_path,\n",
    "                                     plot=show_plots,\n",
    "                                     show=show_plots,\n",
    "                                     image_name=image_name,\n",
    "                                     params=params)\n",
    "        hdbscan_values.append(df_hdbscan)\n",
    "\n",
    "\n",
    "df_hdbscan = pd.concat(hdbscan_values)\n",
    "\n"
   ]
  },
  {
   "cell_type": "code",
   "execution_count": null,
   "id": "5de6304addaca41d",
   "metadata": {
    "collapsed": false
   },
   "outputs": [],
   "source": [
    "df_hdbscan.drop([\"with_noise\"], axis=1, inplace=True)\n",
    "df_hdbscan"
   ]
  },
  {
   "cell_type": "code",
   "execution_count": null,
   "id": "563e2747f9f8a77c",
   "metadata": {
    "collapsed": false
   },
   "outputs": [],
   "source": [
    "df_comparison = df_comparison.merge(df_hdbscan, on='image_name', how='left')\n",
    "df_comparison.fillna(0, inplace=True)\n",
    "df_comparison"
   ]
  },
  {
   "cell_type": "code",
   "execution_count": null,
   "id": "bd5b4be03b3480d5",
   "metadata": {
    "collapsed": false
   },
   "outputs": [],
   "source": [
    "df_comparison.to_csv(config[\"comparison_dataset\"])\n",
    "print(f\"saved {config['comparison_dataset']}\")"
   ]
  },
  {
   "cell_type": "code",
   "execution_count": null,
   "id": "146136b8ee749f9",
   "metadata": {
    "collapsed": false
   },
   "outputs": [],
   "source": [
    "\n"
   ]
  },
  {
   "cell_type": "markdown",
   "id": "1866104643b4427f",
   "metadata": {
    "collapsed": false
   },
   "source": [
    "# A look into the results"
   ]
  },
  {
   "cell_type": "markdown",
   "id": "683ea0eaf795e5ff",
   "metadata": {
    "collapsed": false
   },
   "source": [
    "## The sum of the clustering\n",
    "What is the sum of the methods"
   ]
  },
  {
   "cell_type": "code",
   "execution_count": null,
   "id": "2ae2f205858fd9c4",
   "metadata": {
    "collapsed": false
   },
   "outputs": [],
   "source": [
    "\n",
    "df_comparison_sum = df_comparison[[\"median_count\", \"mean_count\", \"mode_count\", \"dbscan_count_sil\", \"HDBSCAN_count\"]].sum().sort_values()\n",
    "df_comparison_sum.to_csv(config[\"method_sums\"])\n"
   ]
  },
  {
   "cell_type": "code",
   "execution_count": null,
   "id": "35c25cb6dd0c9684",
   "metadata": {
    "collapsed": false
   },
   "outputs": [],
   "source": [
    "print(f\"phase_tag: {phase_tag}, user_threshold: {user_threshold}\")"
   ]
  },
  {
   "cell_type": "markdown",
   "id": "88ca320d97a38518",
   "metadata": {
    "collapsed": false
   },
   "source": [
    "## Compare the numbers\n",
    "The counts are only for images which were in the dataset after filtering."
   ]
  },
  {
   "cell_type": "markdown",
   "id": "8f58c29117a907a4",
   "metadata": {
    "collapsed": false
   },
   "source": [
    "### Sum of all the Methods"
   ]
  },
  {
   "cell_type": "code",
   "execution_count": null,
   "id": "e6a0ba0c34ca129a",
   "metadata": {
    "collapsed": false
   },
   "outputs": [],
   "source": [
    "print(f\"{config['method_sums'].name}\")\n",
    "df_method_sums = pd.read_csv(config[\"method_sums\"])\n",
    "df_method_sums"
   ]
  },
  {
   "cell_type": "markdown",
   "id": "59e1a0f4ffc4dcd0",
   "metadata": {
    "collapsed": false
   },
   "source": [
    "### Comparison per Image Level"
   ]
  },
  {
   "cell_type": "code",
   "execution_count": null,
   "id": "b63a639e877e8b4a",
   "metadata": {
    "collapsed": false
   },
   "outputs": [],
   "source": [
    "print(f\"load {config['comparison_dataset']}\")\n",
    "pd.read_csv(config[\"comparison_dataset\"])"
   ]
  }
 ],
 "metadata": {
  "kernelspec": {
   "display_name": "Python 3 (ipykernel)",
   "language": "python",
   "name": "python3"
  },
  "language_info": {
   "codemirror_mode": {
    "name": "ipython",
    "version": 3
   },
   "file_extension": ".py",
   "mimetype": "text/x-python",
   "name": "python",
   "nbconvert_exporter": "python",
   "pygments_lexer": "ipython3",
   "version": "3.10.13"
  }
 },
 "nbformat": 4,
 "nbformat_minor": 5
}
