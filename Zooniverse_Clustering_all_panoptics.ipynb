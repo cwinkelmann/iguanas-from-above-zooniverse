{
 "cells": [
  {
   "cell_type": "markdown",
   "id": "708022ad72146e6d",
   "metadata": {},
   "source": [
    "# Clustering Zooniverse Marks to count Iguanas\n",
    "Count all the iguanas in the images by clustering the marks from the zooniverse volunteers.\n",
    "This does not compare the results to the gold standard and requires only a single file, the flattened zooniverse data export."
   ]
  },
  {
   "cell_type": "code",
   "execution_count": 1,
   "id": "d59fc4434d71491c",
   "metadata": {
    "collapsed": false,
    "tags": [],
    "ExecuteTime": {
     "end_time": "2024-04-16T09:49:34.231491Z",
     "start_time": "2024-04-16T09:49:34.208883Z"
    }
   },
   "outputs": [],
   "source": [
    "%load_ext autoreload\n",
    "%autoreload 2\n",
    "\n",
    "import sys\n",
    "\n",
    "sys.path.append(\"./\")\n",
    "sys.path.append(\"./zooniverse\")"
   ]
  },
  {
   "cell_type": "markdown",
   "id": "731716bd21e99cbe",
   "metadata": {
    "collapsed": false
   },
   "source": [
    "## Intro\n",
    "### Retrieve a Classification report from Zooniverse\n",
    "This notebook is used to cluster the marks from the zooniverse volunteers to count the iguanas in the images saved in results/<phase_tag>/flat_dataset_filtered_Iguanas 3rd launch.csv\n",
    "\n",
    "Used Methods are:\n",
    "\n",
    "### DBSCAN \n",
    "It does not require the number of clusters to be specified. It is used here because, but has min_samples and eps as hyperparameters which need to be found. [Link](https://scikit-learn.org/stable/auto_examples/cluster/plot_dbscan.html)\n",
    "For finding eps and min_sample a simple **grid search** is used.\n",
    "Additionally, DBSCAN not assume a specific shape for the clusters (K-means assumes clusters are gaussian in shape) even though we should assume that points around an iguana is gaussian shaped.\n",
    "\n",
    "### HDBSCAN\n",
    "It is an extension of DBSCAN which is more robust to hyperparameter settings as it finds epsilon and min_samples automatically. [Link](https://scikit-learn.org/stable/modules/generated/sklearn.cluster.HDBSCAN.html)"
   ]
  },
  {
   "cell_type": "markdown",
   "id": "e261acba86137ddd",
   "metadata": {
    "collapsed": false
   },
   "source": [
    "## Load the data"
   ]
  },
  {
   "cell_type": "code",
   "execution_count": 2,
   "id": "823d8c3234e4a1de",
   "metadata": {
    "collapsed": false,
    "tags": [],
    "ExecuteTime": {
     "end_time": "2024-04-16T09:49:35.764628Z",
     "start_time": "2024-04-16T09:49:34.233874Z"
    }
   },
   "outputs": [],
   "source": [
    "from pathlib import Path\n",
    "\n",
    "import pandas as pd\n",
    "from zooniverse.analysis import get_annotation_count_stats\n",
    "from zooniverse.utils.filters import filter_df_user_threshold\n",
    "\n",
    "\n",
    "\n",
    "# Phase Selection\n",
    "# phase_tag = \"Iguanas 1st launch\"\n",
    "phase_tag = \"Iguanas 2nd launch\"\n",
    "# phase_tag = \"Iguanas 3rd launch\"\n",
    "\n",
    "\n",
    "debug = False # debugging with a smaller dataset\n",
    "plot_diagrams = False # plot the diagrams to disk for the clustering methods\n",
    "show_plots = False # show the plots in the notebook\n",
    "\n",
    "user_threshold = None # None or a number, filter records which have less than these user interactions.\n",
    "use_gold_standard_subset = None # Use no filtering\n",
    "\n",
    "\n",
    "## Input Path of all the data\n",
    "input_path =Path(\"/Users/christian/data/zooniverse\")\n",
    "# input_path = Path(\"results/\")\n",
    "# Location for the analysis Results\n",
    "output_path = Path(input_path.joinpath(f\"2024_04_16_analysis\").joinpath(phase_tag))\n",
    "output_path.mkdir(exist_ok=True, parents=True)\n",
    "reprocess = False # if True, the raw classification data is reprocessed. If False, the data is loaded from disk\n",
    "\n",
    "# Location for plots\n",
    "# output_plot_path = output_path.joinpath(\"plots\")\n",
    "# output_plot_path.mkdir(parents=True, exist_ok=True)\n",
    "output_plot_path = None # do not plot"
   ]
  },
  {
   "cell_type": "markdown",
   "id": "593bea9e98df4db0",
   "metadata": {
    "collapsed": false
   },
   "source": [
    "## Look into the config\n",
    "This Config points to all files necessary for the analysis + the result files"
   ]
  },
  {
   "cell_type": "code",
   "execution_count": 3,
   "id": "674da03e20316ae5",
   "metadata": {
    "collapsed": false,
    "ExecuteTime": {
     "end_time": "2024-04-16T09:49:35.793833Z",
     "start_time": "2024-04-16T09:49:35.765563Z"
    }
   },
   "outputs": [
    {
     "data": {
      "text/plain": "{'annotations_source': PosixPath('/Users/christian/data/zooniverse/IguanasFromAbove/2023-10-15/iguanas-from-above-classifications.csv'),\n 'goldstandard_data': PosixPath('/Users/christian/data/zooniverse/Images/Zooniverse_Goldstandard_images/expert-GS-2ndphase.csv'),\n 'gold_standard_image_subset': PosixPath('/Users/christian/data/zooniverse/Images/Zooniverse_Goldstandard_images/2-T2-GS-results-5th-0s.csv'),\n 'image_source': PosixPath('/Users/christian/data/zooniverse/Images/Zooniverse_Goldstandard_images/2nd launch_without_prefix'),\n 'yes_no_dataset': PosixPath('/Users/christian/data/zooniverse/2024_04_16_analysis/Iguanas 2nd launch/yes_no_dataset_Iguanas 2nd launch.csv'),\n 'flat_dataset': PosixPath('/Users/christian/data/zooniverse/2024_04_16_analysis/Iguanas 2nd launch/flat_dataset_Iguanas 2nd launch.csv'),\n 'flat_panoptes_points': PosixPath('/Users/christian/data/zooniverse/2024_04_16_analysis/Iguanas 2nd launch/flat_panoptes_points_Iguanas 2nd launch.csv'),\n 'panoptes_question': PosixPath('/Users/christian/data/zooniverse/2024_04_16_analysis/Iguanas 2nd launch/panoptes_question_Iguanas 2nd launch.csv'),\n 'merged_dataset': PosixPath('/Users/christian/data/zooniverse/2024_04_16_analysis/Iguanas 2nd launch/flat_dataset_filtered_Iguanas 2nd launch.csv'),\n 'gold_standard_and_expert_count': PosixPath('/Users/christian/data/zooniverse/2024_04_16_analysis/Iguanas 2nd launch/Iguanas 2nd launch_gold_standard_and_expert_count.csv'),\n 'comparison_dataset': PosixPath('/Users/christian/data/zooniverse/2024_04_16_analysis/Iguanas 2nd launch/Iguanas 2nd launch_method_comparison.csv'),\n 'comparison_dataset_expert': PosixPath('/Users/christian/data/zooniverse/2024_04_16_analysis/Iguanas 2nd launch/Iguanas 2nd launch_method_comparison_expert.csv'),\n 'comparison_dataset_yes_no': PosixPath('/Users/christian/data/zooniverse/2024_04_16_analysis/Iguanas 2nd launch/Iguanas 2nd launch_method_comparison_yes_no.csv'),\n 'method_sums': PosixPath('/Users/christian/data/zooniverse/2024_04_16_analysis/Iguanas 2nd launch/Iguanas 2nd launch_method_sums.csv'),\n 'rmse_errors': PosixPath('/Users/christian/data/zooniverse/2024_04_16_analysis/Iguanas 2nd launch/Iguanas 2nd launch_rmse_errors.csv'),\n 'dbscan_hyperparam_grid': PosixPath('/Users/christian/data/zooniverse/2024_04_16_analysis/Iguanas 2nd launch/Iguanas 2nd launch_hyperparam_grid.csv')}"
     },
     "execution_count": 3,
     "metadata": {},
     "output_type": "execute_result"
    }
   ],
   "source": [
    "from zooniverse.config import get_config\n",
    "\n",
    "config = get_config(phase_tag=phase_tag, input_path=input_path, output_path=output_path)\n",
    "config"
   ]
  },
  {
   "cell_type": "code",
   "execution_count": 4,
   "id": "3232b78ec1bf6f82",
   "metadata": {
    "collapsed": false,
    "ExecuteTime": {
     "end_time": "2024-04-16T09:49:35.821697Z",
     "start_time": "2024-04-16T09:49:35.795154Z"
    }
   },
   "outputs": [
    {
     "data": {
      "text/plain": "PosixPath('/Users/christian/data/zooniverse/2024_04_16_analysis/Iguanas 2nd launch/flat_panoptes_points_Iguanas 2nd launch.csv')"
     },
     "execution_count": 4,
     "metadata": {},
     "output_type": "execute_result"
    }
   ],
   "source": [
    "config[\"flat_panoptes_points\"]"
   ]
  },
  {
   "cell_type": "markdown",
   "id": "bf09c7260aa5e8ed",
   "metadata": {
    "collapsed": false
   },
   "source": [
    "## Look at the data\n"
   ]
  },
  {
   "cell_type": "code",
   "execution_count": 5,
   "id": "f735b4856eed80bd",
   "metadata": {
    "collapsed": false,
    "ExecuteTime": {
     "end_time": "2024-04-16T09:49:36.066003Z",
     "start_time": "2024-04-16T09:49:35.825911Z"
    }
   },
   "outputs": [
    {
     "name": "stderr",
     "output_type": "stream",
     "text": [
      "/var/folders/2k/78nn7s4548986wsjh29rhj9w0000gn/T/ipykernel_48433/1046246136.py:1: DtypeWarning: Columns (2) have mixed types. Specify dtype option on import or set low_memory=False.\n",
      "  df_flat_panoptes_points = pd.read_csv(config[\"flat_panoptes_points\"])\n"
     ]
    },
    {
     "data": {
      "text/plain": "        classification_id                         user_name  \\\n0               406989334  da233c785cfd7c42279d2f2b632bbc4f   \n1               406989334  da233c785cfd7c42279d2f2b632bbc4f   \n2               406989334  da233c785cfd7c42279d2f2b632bbc4f   \n3               406983766  da233c785cfd7c42279d2f2b632bbc4f   \n4               406983766  da233c785cfd7c42279d2f2b632bbc4f   \n...                   ...                               ...   \n147418          397662853  9432ca625cbcee771e54db4c895908d3   \n147419          397662853  9432ca625cbcee771e54db4c895908d3   \n147420          397662853  9432ca625cbcee771e54db4c895908d3   \n147421          397662853  9432ca625cbcee771e54db4c895908d3   \n147422          397662853  9432ca625cbcee771e54db4c895908d3   \n\n                                 user_id  workflow_id  workflow_version task  \\\n0       001d00e0739694888f7dc3471fc76e5c        20600            94.166   T2   \n1       001d00e0739694888f7dc3471fc76e5c        20600            94.166   T2   \n2       001d00e0739694888f7dc3471fc76e5c        20600            94.166   T2   \n3       001d00e0739694888f7dc3471fc76e5c        20600            94.166   T2   \n4       001d00e0739694888f7dc3471fc76e5c        20600            94.166   T2   \n...                                  ...          ...               ...  ...   \n147418                               NaN        20600            93.166   T2   \n147419                               NaN        20600            93.166   T2   \n147420                               NaN        20600            93.166   T2   \n147421                               NaN        20600            93.166   T2   \n147422                               NaN        20600            93.166   T2   \n\n                     created_at  subject_id       image_name     x    y  \\\n0       2022-04-04 00:07:09 UTC    72335718   EPS04-1_50.jpg   557  529   \n1       2022-04-04 00:07:09 UTC    72335718   EPS04-1_50.jpg   604  472   \n2       2022-04-04 00:07:09 UTC    72335718   EPS04-1_50.jpg  1068  917   \n3       2022-04-03 23:26:39 UTC    72335747   EPS04-1_87.jpg   116  815   \n4       2022-04-03 23:26:39 UTC    72335747   EPS04-1_87.jpg   173  850   \n...                         ...         ...              ...   ...  ...   \n147418  2022-02-18 12:38:57 UTC    72373351  ESCG02-2_65.jpg    97  117   \n147419  2022-02-18 12:38:57 UTC    72373351  ESCG02-2_65.jpg   113  186   \n147420  2022-02-18 12:38:57 UTC    72373351  ESCG02-2_65.jpg    87  167   \n147421  2022-02-18 12:38:57 UTC    72373351  ESCG02-2_65.jpg   443  124   \n147422  2022-02-18 12:38:57 UTC    72373351  ESCG02-2_65.jpg   188  337   \n\n                     phase  \n0       Iguanas 2nd launch  \n1       Iguanas 2nd launch  \n2       Iguanas 2nd launch  \n3       Iguanas 2nd launch  \n4       Iguanas 2nd launch  \n...                    ...  \n147418  Iguanas 2nd launch  \n147419  Iguanas 2nd launch  \n147420  Iguanas 2nd launch  \n147421  Iguanas 2nd launch  \n147422  Iguanas 2nd launch  \n\n[147423 rows x 12 columns]",
      "text/html": "<div>\n<style scoped>\n    .dataframe tbody tr th:only-of-type {\n        vertical-align: middle;\n    }\n\n    .dataframe tbody tr th {\n        vertical-align: top;\n    }\n\n    .dataframe thead th {\n        text-align: right;\n    }\n</style>\n<table border=\"1\" class=\"dataframe\">\n  <thead>\n    <tr style=\"text-align: right;\">\n      <th></th>\n      <th>classification_id</th>\n      <th>user_name</th>\n      <th>user_id</th>\n      <th>workflow_id</th>\n      <th>workflow_version</th>\n      <th>task</th>\n      <th>created_at</th>\n      <th>subject_id</th>\n      <th>image_name</th>\n      <th>x</th>\n      <th>y</th>\n      <th>phase</th>\n    </tr>\n  </thead>\n  <tbody>\n    <tr>\n      <th>0</th>\n      <td>406989334</td>\n      <td>da233c785cfd7c42279d2f2b632bbc4f</td>\n      <td>001d00e0739694888f7dc3471fc76e5c</td>\n      <td>20600</td>\n      <td>94.166</td>\n      <td>T2</td>\n      <td>2022-04-04 00:07:09 UTC</td>\n      <td>72335718</td>\n      <td>EPS04-1_50.jpg</td>\n      <td>557</td>\n      <td>529</td>\n      <td>Iguanas 2nd launch</td>\n    </tr>\n    <tr>\n      <th>1</th>\n      <td>406989334</td>\n      <td>da233c785cfd7c42279d2f2b632bbc4f</td>\n      <td>001d00e0739694888f7dc3471fc76e5c</td>\n      <td>20600</td>\n      <td>94.166</td>\n      <td>T2</td>\n      <td>2022-04-04 00:07:09 UTC</td>\n      <td>72335718</td>\n      <td>EPS04-1_50.jpg</td>\n      <td>604</td>\n      <td>472</td>\n      <td>Iguanas 2nd launch</td>\n    </tr>\n    <tr>\n      <th>2</th>\n      <td>406989334</td>\n      <td>da233c785cfd7c42279d2f2b632bbc4f</td>\n      <td>001d00e0739694888f7dc3471fc76e5c</td>\n      <td>20600</td>\n      <td>94.166</td>\n      <td>T2</td>\n      <td>2022-04-04 00:07:09 UTC</td>\n      <td>72335718</td>\n      <td>EPS04-1_50.jpg</td>\n      <td>1068</td>\n      <td>917</td>\n      <td>Iguanas 2nd launch</td>\n    </tr>\n    <tr>\n      <th>3</th>\n      <td>406983766</td>\n      <td>da233c785cfd7c42279d2f2b632bbc4f</td>\n      <td>001d00e0739694888f7dc3471fc76e5c</td>\n      <td>20600</td>\n      <td>94.166</td>\n      <td>T2</td>\n      <td>2022-04-03 23:26:39 UTC</td>\n      <td>72335747</td>\n      <td>EPS04-1_87.jpg</td>\n      <td>116</td>\n      <td>815</td>\n      <td>Iguanas 2nd launch</td>\n    </tr>\n    <tr>\n      <th>4</th>\n      <td>406983766</td>\n      <td>da233c785cfd7c42279d2f2b632bbc4f</td>\n      <td>001d00e0739694888f7dc3471fc76e5c</td>\n      <td>20600</td>\n      <td>94.166</td>\n      <td>T2</td>\n      <td>2022-04-03 23:26:39 UTC</td>\n      <td>72335747</td>\n      <td>EPS04-1_87.jpg</td>\n      <td>173</td>\n      <td>850</td>\n      <td>Iguanas 2nd launch</td>\n    </tr>\n    <tr>\n      <th>...</th>\n      <td>...</td>\n      <td>...</td>\n      <td>...</td>\n      <td>...</td>\n      <td>...</td>\n      <td>...</td>\n      <td>...</td>\n      <td>...</td>\n      <td>...</td>\n      <td>...</td>\n      <td>...</td>\n      <td>...</td>\n    </tr>\n    <tr>\n      <th>147418</th>\n      <td>397662853</td>\n      <td>9432ca625cbcee771e54db4c895908d3</td>\n      <td>NaN</td>\n      <td>20600</td>\n      <td>93.166</td>\n      <td>T2</td>\n      <td>2022-02-18 12:38:57 UTC</td>\n      <td>72373351</td>\n      <td>ESCG02-2_65.jpg</td>\n      <td>97</td>\n      <td>117</td>\n      <td>Iguanas 2nd launch</td>\n    </tr>\n    <tr>\n      <th>147419</th>\n      <td>397662853</td>\n      <td>9432ca625cbcee771e54db4c895908d3</td>\n      <td>NaN</td>\n      <td>20600</td>\n      <td>93.166</td>\n      <td>T2</td>\n      <td>2022-02-18 12:38:57 UTC</td>\n      <td>72373351</td>\n      <td>ESCG02-2_65.jpg</td>\n      <td>113</td>\n      <td>186</td>\n      <td>Iguanas 2nd launch</td>\n    </tr>\n    <tr>\n      <th>147420</th>\n      <td>397662853</td>\n      <td>9432ca625cbcee771e54db4c895908d3</td>\n      <td>NaN</td>\n      <td>20600</td>\n      <td>93.166</td>\n      <td>T2</td>\n      <td>2022-02-18 12:38:57 UTC</td>\n      <td>72373351</td>\n      <td>ESCG02-2_65.jpg</td>\n      <td>87</td>\n      <td>167</td>\n      <td>Iguanas 2nd launch</td>\n    </tr>\n    <tr>\n      <th>147421</th>\n      <td>397662853</td>\n      <td>9432ca625cbcee771e54db4c895908d3</td>\n      <td>NaN</td>\n      <td>20600</td>\n      <td>93.166</td>\n      <td>T2</td>\n      <td>2022-02-18 12:38:57 UTC</td>\n      <td>72373351</td>\n      <td>ESCG02-2_65.jpg</td>\n      <td>443</td>\n      <td>124</td>\n      <td>Iguanas 2nd launch</td>\n    </tr>\n    <tr>\n      <th>147422</th>\n      <td>397662853</td>\n      <td>9432ca625cbcee771e54db4c895908d3</td>\n      <td>NaN</td>\n      <td>20600</td>\n      <td>93.166</td>\n      <td>T2</td>\n      <td>2022-02-18 12:38:57 UTC</td>\n      <td>72373351</td>\n      <td>ESCG02-2_65.jpg</td>\n      <td>188</td>\n      <td>337</td>\n      <td>Iguanas 2nd launch</td>\n    </tr>\n  </tbody>\n</table>\n<p>147423 rows × 12 columns</p>\n</div>"
     },
     "execution_count": 5,
     "metadata": {},
     "output_type": "execute_result"
    }
   ],
   "source": [
    "\n",
    "df_flat_panoptes_points = pd.read_csv(config[\"flat_panoptes_points\"])\n",
    "df_flat_panoptes_points[\"phase\"] = phase_tag\n",
    "\n",
    "df_flat_panoptes_points"
   ]
  },
  {
   "cell_type": "markdown",
   "id": "da7bed90d6d10d89",
   "metadata": {
    "collapsed": false
   },
   "source": [
    "### Filter User if necessary and Marks\n"
   ]
  },
  {
   "cell_type": "code",
   "execution_count": 6,
   "id": "2c05849dbba8f66f",
   "metadata": {
    "collapsed": false,
    "ExecuteTime": {
     "end_time": "2024-04-16T09:49:36.093982Z",
     "start_time": "2024-04-16T09:49:36.067115Z"
    }
   },
   "outputs": [],
   "source": [
    "# Use the panoptes Extraction instead of the custom extraction\n",
    "df_merged_dataset = df_flat_panoptes_points"
   ]
  },
  {
   "cell_type": "markdown",
   "id": "d479e39e24f570b0",
   "metadata": {
    "collapsed": false
   },
   "source": [
    "### Are there anonymous users in the data?\n",
    "There should be some because anonymous users are kept."
   ]
  },
  {
   "cell_type": "code",
   "execution_count": 7,
   "id": "9936072d8a7b7602",
   "metadata": {
    "collapsed": false,
    "ExecuteTime": {
     "end_time": "2024-04-16T09:49:36.135155Z",
     "start_time": "2024-04-16T09:49:36.096027Z"
    }
   },
   "outputs": [
    {
     "data": {
      "text/plain": "        classification_id                         user_name user_id  \\\n128822          409274355  3622446dcfa0cb24b026e40766d1382b     NaN   \n128823          394601142  22f2858fc7b6a25d0d8910cb081899f0     NaN   \n128824          411354835  b9cfbb298b4d527dec7191c58d133d32     NaN   \n128825          411545755  fe60792452f428d3a02cf49a4e4e9448     NaN   \n128826          396273092  ac28275d5c75246a09823bc8a9b55c33     NaN   \n...                   ...                               ...     ...   \n147418          397662853  9432ca625cbcee771e54db4c895908d3     NaN   \n147419          397662853  9432ca625cbcee771e54db4c895908d3     NaN   \n147420          397662853  9432ca625cbcee771e54db4c895908d3     NaN   \n147421          397662853  9432ca625cbcee771e54db4c895908d3     NaN   \n147422          397662853  9432ca625cbcee771e54db4c895908d3     NaN   \n\n        workflow_id  workflow_version task               created_at  \\\n128822        20600            94.166   T2  2022-04-15 08:40:28 UTC   \n128823        20600            93.166   T2  2022-02-04 18:24:39 UTC   \n128824        20600            94.166   T2  2022-04-26 14:09:57 UTC   \n128825        20600            94.166   T2  2022-04-27 01:47:20 UTC   \n128826        20600            93.166   T2  2022-02-11 11:18:06 UTC   \n...             ...               ...  ...                      ...   \n147418        20600            93.166   T2  2022-02-18 12:38:57 UTC   \n147419        20600            93.166   T2  2022-02-18 12:38:57 UTC   \n147420        20600            93.166   T2  2022-02-18 12:38:57 UTC   \n147421        20600            93.166   T2  2022-02-18 12:38:57 UTC   \n147422        20600            93.166   T2  2022-02-18 12:38:57 UTC   \n\n        subject_id         image_name     x    y               phase  \n128822    72332800  EGI01-1-2_111.jpg  1019  863  Iguanas 2nd launch  \n128823    72332804   EGI01-1-2_24.jpg   588  209  Iguanas 2nd launch  \n128824    72332804   EGI01-1-2_24.jpg   604  219  Iguanas 2nd launch  \n128825    72332804   EGI01-1-2_24.jpg   597  208  Iguanas 2nd launch  \n128826    72332808   EGI01-1-2_38.jpg  1471 -659  Iguanas 2nd launch  \n...            ...                ...   ...  ...                 ...  \n147418    72373351    ESCG02-2_65.jpg    97  117  Iguanas 2nd launch  \n147419    72373351    ESCG02-2_65.jpg   113  186  Iguanas 2nd launch  \n147420    72373351    ESCG02-2_65.jpg    87  167  Iguanas 2nd launch  \n147421    72373351    ESCG02-2_65.jpg   443  124  Iguanas 2nd launch  \n147422    72373351    ESCG02-2_65.jpg   188  337  Iguanas 2nd launch  \n\n[18601 rows x 12 columns]",
      "text/html": "<div>\n<style scoped>\n    .dataframe tbody tr th:only-of-type {\n        vertical-align: middle;\n    }\n\n    .dataframe tbody tr th {\n        vertical-align: top;\n    }\n\n    .dataframe thead th {\n        text-align: right;\n    }\n</style>\n<table border=\"1\" class=\"dataframe\">\n  <thead>\n    <tr style=\"text-align: right;\">\n      <th></th>\n      <th>classification_id</th>\n      <th>user_name</th>\n      <th>user_id</th>\n      <th>workflow_id</th>\n      <th>workflow_version</th>\n      <th>task</th>\n      <th>created_at</th>\n      <th>subject_id</th>\n      <th>image_name</th>\n      <th>x</th>\n      <th>y</th>\n      <th>phase</th>\n    </tr>\n  </thead>\n  <tbody>\n    <tr>\n      <th>128822</th>\n      <td>409274355</td>\n      <td>3622446dcfa0cb24b026e40766d1382b</td>\n      <td>NaN</td>\n      <td>20600</td>\n      <td>94.166</td>\n      <td>T2</td>\n      <td>2022-04-15 08:40:28 UTC</td>\n      <td>72332800</td>\n      <td>EGI01-1-2_111.jpg</td>\n      <td>1019</td>\n      <td>863</td>\n      <td>Iguanas 2nd launch</td>\n    </tr>\n    <tr>\n      <th>128823</th>\n      <td>394601142</td>\n      <td>22f2858fc7b6a25d0d8910cb081899f0</td>\n      <td>NaN</td>\n      <td>20600</td>\n      <td>93.166</td>\n      <td>T2</td>\n      <td>2022-02-04 18:24:39 UTC</td>\n      <td>72332804</td>\n      <td>EGI01-1-2_24.jpg</td>\n      <td>588</td>\n      <td>209</td>\n      <td>Iguanas 2nd launch</td>\n    </tr>\n    <tr>\n      <th>128824</th>\n      <td>411354835</td>\n      <td>b9cfbb298b4d527dec7191c58d133d32</td>\n      <td>NaN</td>\n      <td>20600</td>\n      <td>94.166</td>\n      <td>T2</td>\n      <td>2022-04-26 14:09:57 UTC</td>\n      <td>72332804</td>\n      <td>EGI01-1-2_24.jpg</td>\n      <td>604</td>\n      <td>219</td>\n      <td>Iguanas 2nd launch</td>\n    </tr>\n    <tr>\n      <th>128825</th>\n      <td>411545755</td>\n      <td>fe60792452f428d3a02cf49a4e4e9448</td>\n      <td>NaN</td>\n      <td>20600</td>\n      <td>94.166</td>\n      <td>T2</td>\n      <td>2022-04-27 01:47:20 UTC</td>\n      <td>72332804</td>\n      <td>EGI01-1-2_24.jpg</td>\n      <td>597</td>\n      <td>208</td>\n      <td>Iguanas 2nd launch</td>\n    </tr>\n    <tr>\n      <th>128826</th>\n      <td>396273092</td>\n      <td>ac28275d5c75246a09823bc8a9b55c33</td>\n      <td>NaN</td>\n      <td>20600</td>\n      <td>93.166</td>\n      <td>T2</td>\n      <td>2022-02-11 11:18:06 UTC</td>\n      <td>72332808</td>\n      <td>EGI01-1-2_38.jpg</td>\n      <td>1471</td>\n      <td>-659</td>\n      <td>Iguanas 2nd launch</td>\n    </tr>\n    <tr>\n      <th>...</th>\n      <td>...</td>\n      <td>...</td>\n      <td>...</td>\n      <td>...</td>\n      <td>...</td>\n      <td>...</td>\n      <td>...</td>\n      <td>...</td>\n      <td>...</td>\n      <td>...</td>\n      <td>...</td>\n      <td>...</td>\n    </tr>\n    <tr>\n      <th>147418</th>\n      <td>397662853</td>\n      <td>9432ca625cbcee771e54db4c895908d3</td>\n      <td>NaN</td>\n      <td>20600</td>\n      <td>93.166</td>\n      <td>T2</td>\n      <td>2022-02-18 12:38:57 UTC</td>\n      <td>72373351</td>\n      <td>ESCG02-2_65.jpg</td>\n      <td>97</td>\n      <td>117</td>\n      <td>Iguanas 2nd launch</td>\n    </tr>\n    <tr>\n      <th>147419</th>\n      <td>397662853</td>\n      <td>9432ca625cbcee771e54db4c895908d3</td>\n      <td>NaN</td>\n      <td>20600</td>\n      <td>93.166</td>\n      <td>T2</td>\n      <td>2022-02-18 12:38:57 UTC</td>\n      <td>72373351</td>\n      <td>ESCG02-2_65.jpg</td>\n      <td>113</td>\n      <td>186</td>\n      <td>Iguanas 2nd launch</td>\n    </tr>\n    <tr>\n      <th>147420</th>\n      <td>397662853</td>\n      <td>9432ca625cbcee771e54db4c895908d3</td>\n      <td>NaN</td>\n      <td>20600</td>\n      <td>93.166</td>\n      <td>T2</td>\n      <td>2022-02-18 12:38:57 UTC</td>\n      <td>72373351</td>\n      <td>ESCG02-2_65.jpg</td>\n      <td>87</td>\n      <td>167</td>\n      <td>Iguanas 2nd launch</td>\n    </tr>\n    <tr>\n      <th>147421</th>\n      <td>397662853</td>\n      <td>9432ca625cbcee771e54db4c895908d3</td>\n      <td>NaN</td>\n      <td>20600</td>\n      <td>93.166</td>\n      <td>T2</td>\n      <td>2022-02-18 12:38:57 UTC</td>\n      <td>72373351</td>\n      <td>ESCG02-2_65.jpg</td>\n      <td>443</td>\n      <td>124</td>\n      <td>Iguanas 2nd launch</td>\n    </tr>\n    <tr>\n      <th>147422</th>\n      <td>397662853</td>\n      <td>9432ca625cbcee771e54db4c895908d3</td>\n      <td>NaN</td>\n      <td>20600</td>\n      <td>93.166</td>\n      <td>T2</td>\n      <td>2022-02-18 12:38:57 UTC</td>\n      <td>72373351</td>\n      <td>ESCG02-2_65.jpg</td>\n      <td>188</td>\n      <td>337</td>\n      <td>Iguanas 2nd launch</td>\n    </tr>\n  </tbody>\n</table>\n<p>18601 rows × 12 columns</p>\n</div>"
     },
     "execution_count": 7,
     "metadata": {},
     "output_type": "execute_result"
    }
   ],
   "source": [
    "df_merged_dataset[df_merged_dataset.user_id.isnull().values]"
   ]
  },
  {
   "cell_type": "code",
   "execution_count": 8,
   "id": "9258d161c25ae7d3",
   "metadata": {
    "collapsed": false,
    "ExecuteTime": {
     "end_time": "2024-04-16T09:49:36.176422Z",
     "start_time": "2024-04-16T09:49:36.136988Z"
    }
   },
   "outputs": [
    {
     "data": {
      "text/plain": "4321"
     },
     "execution_count": 8,
     "metadata": {},
     "output_type": "execute_result"
    }
   ],
   "source": [
    "# Amount of images\n",
    "df_merged_dataset[\"subject_id\"].nunique()"
   ]
  },
  {
   "cell_type": "code",
   "execution_count": 9,
   "id": "6caad5d554d586db",
   "metadata": {
    "collapsed": false,
    "ExecuteTime": {
     "end_time": "2024-04-16T09:49:36.213679Z",
     "start_time": "2024-04-16T09:49:36.178543Z"
    }
   },
   "outputs": [
    {
     "data": {
      "text/plain": "        classification_id                         user_name  \\\n0               406989334  da233c785cfd7c42279d2f2b632bbc4f   \n1               406989334  da233c785cfd7c42279d2f2b632bbc4f   \n2               406989334  da233c785cfd7c42279d2f2b632bbc4f   \n3               406983766  da233c785cfd7c42279d2f2b632bbc4f   \n4               406983766  da233c785cfd7c42279d2f2b632bbc4f   \n...                   ...                               ...   \n147418          397662853  9432ca625cbcee771e54db4c895908d3   \n147419          397662853  9432ca625cbcee771e54db4c895908d3   \n147420          397662853  9432ca625cbcee771e54db4c895908d3   \n147421          397662853  9432ca625cbcee771e54db4c895908d3   \n147422          397662853  9432ca625cbcee771e54db4c895908d3   \n\n                                 user_id  workflow_id  workflow_version task  \\\n0       001d00e0739694888f7dc3471fc76e5c        20600            94.166   T2   \n1       001d00e0739694888f7dc3471fc76e5c        20600            94.166   T2   \n2       001d00e0739694888f7dc3471fc76e5c        20600            94.166   T2   \n3       001d00e0739694888f7dc3471fc76e5c        20600            94.166   T2   \n4       001d00e0739694888f7dc3471fc76e5c        20600            94.166   T2   \n...                                  ...          ...               ...  ...   \n147418                               NaN        20600            93.166   T2   \n147419                               NaN        20600            93.166   T2   \n147420                               NaN        20600            93.166   T2   \n147421                               NaN        20600            93.166   T2   \n147422                               NaN        20600            93.166   T2   \n\n                     created_at  subject_id       image_name     x    y  \\\n0       2022-04-04 00:07:09 UTC    72335718   EPS04-1_50.jpg   557  529   \n1       2022-04-04 00:07:09 UTC    72335718   EPS04-1_50.jpg   604  472   \n2       2022-04-04 00:07:09 UTC    72335718   EPS04-1_50.jpg  1068  917   \n3       2022-04-03 23:26:39 UTC    72335747   EPS04-1_87.jpg   116  815   \n4       2022-04-03 23:26:39 UTC    72335747   EPS04-1_87.jpg   173  850   \n...                         ...         ...              ...   ...  ...   \n147418  2022-02-18 12:38:57 UTC    72373351  ESCG02-2_65.jpg    97  117   \n147419  2022-02-18 12:38:57 UTC    72373351  ESCG02-2_65.jpg   113  186   \n147420  2022-02-18 12:38:57 UTC    72373351  ESCG02-2_65.jpg    87  167   \n147421  2022-02-18 12:38:57 UTC    72373351  ESCG02-2_65.jpg   443  124   \n147422  2022-02-18 12:38:57 UTC    72373351  ESCG02-2_65.jpg   188  337   \n\n                     phase  \n0       Iguanas 2nd launch  \n1       Iguanas 2nd launch  \n2       Iguanas 2nd launch  \n3       Iguanas 2nd launch  \n4       Iguanas 2nd launch  \n...                    ...  \n147418  Iguanas 2nd launch  \n147419  Iguanas 2nd launch  \n147420  Iguanas 2nd launch  \n147421  Iguanas 2nd launch  \n147422  Iguanas 2nd launch  \n\n[147423 rows x 12 columns]",
      "text/html": "<div>\n<style scoped>\n    .dataframe tbody tr th:only-of-type {\n        vertical-align: middle;\n    }\n\n    .dataframe tbody tr th {\n        vertical-align: top;\n    }\n\n    .dataframe thead th {\n        text-align: right;\n    }\n</style>\n<table border=\"1\" class=\"dataframe\">\n  <thead>\n    <tr style=\"text-align: right;\">\n      <th></th>\n      <th>classification_id</th>\n      <th>user_name</th>\n      <th>user_id</th>\n      <th>workflow_id</th>\n      <th>workflow_version</th>\n      <th>task</th>\n      <th>created_at</th>\n      <th>subject_id</th>\n      <th>image_name</th>\n      <th>x</th>\n      <th>y</th>\n      <th>phase</th>\n    </tr>\n  </thead>\n  <tbody>\n    <tr>\n      <th>0</th>\n      <td>406989334</td>\n      <td>da233c785cfd7c42279d2f2b632bbc4f</td>\n      <td>001d00e0739694888f7dc3471fc76e5c</td>\n      <td>20600</td>\n      <td>94.166</td>\n      <td>T2</td>\n      <td>2022-04-04 00:07:09 UTC</td>\n      <td>72335718</td>\n      <td>EPS04-1_50.jpg</td>\n      <td>557</td>\n      <td>529</td>\n      <td>Iguanas 2nd launch</td>\n    </tr>\n    <tr>\n      <th>1</th>\n      <td>406989334</td>\n      <td>da233c785cfd7c42279d2f2b632bbc4f</td>\n      <td>001d00e0739694888f7dc3471fc76e5c</td>\n      <td>20600</td>\n      <td>94.166</td>\n      <td>T2</td>\n      <td>2022-04-04 00:07:09 UTC</td>\n      <td>72335718</td>\n      <td>EPS04-1_50.jpg</td>\n      <td>604</td>\n      <td>472</td>\n      <td>Iguanas 2nd launch</td>\n    </tr>\n    <tr>\n      <th>2</th>\n      <td>406989334</td>\n      <td>da233c785cfd7c42279d2f2b632bbc4f</td>\n      <td>001d00e0739694888f7dc3471fc76e5c</td>\n      <td>20600</td>\n      <td>94.166</td>\n      <td>T2</td>\n      <td>2022-04-04 00:07:09 UTC</td>\n      <td>72335718</td>\n      <td>EPS04-1_50.jpg</td>\n      <td>1068</td>\n      <td>917</td>\n      <td>Iguanas 2nd launch</td>\n    </tr>\n    <tr>\n      <th>3</th>\n      <td>406983766</td>\n      <td>da233c785cfd7c42279d2f2b632bbc4f</td>\n      <td>001d00e0739694888f7dc3471fc76e5c</td>\n      <td>20600</td>\n      <td>94.166</td>\n      <td>T2</td>\n      <td>2022-04-03 23:26:39 UTC</td>\n      <td>72335747</td>\n      <td>EPS04-1_87.jpg</td>\n      <td>116</td>\n      <td>815</td>\n      <td>Iguanas 2nd launch</td>\n    </tr>\n    <tr>\n      <th>4</th>\n      <td>406983766</td>\n      <td>da233c785cfd7c42279d2f2b632bbc4f</td>\n      <td>001d00e0739694888f7dc3471fc76e5c</td>\n      <td>20600</td>\n      <td>94.166</td>\n      <td>T2</td>\n      <td>2022-04-03 23:26:39 UTC</td>\n      <td>72335747</td>\n      <td>EPS04-1_87.jpg</td>\n      <td>173</td>\n      <td>850</td>\n      <td>Iguanas 2nd launch</td>\n    </tr>\n    <tr>\n      <th>...</th>\n      <td>...</td>\n      <td>...</td>\n      <td>...</td>\n      <td>...</td>\n      <td>...</td>\n      <td>...</td>\n      <td>...</td>\n      <td>...</td>\n      <td>...</td>\n      <td>...</td>\n      <td>...</td>\n      <td>...</td>\n    </tr>\n    <tr>\n      <th>147418</th>\n      <td>397662853</td>\n      <td>9432ca625cbcee771e54db4c895908d3</td>\n      <td>NaN</td>\n      <td>20600</td>\n      <td>93.166</td>\n      <td>T2</td>\n      <td>2022-02-18 12:38:57 UTC</td>\n      <td>72373351</td>\n      <td>ESCG02-2_65.jpg</td>\n      <td>97</td>\n      <td>117</td>\n      <td>Iguanas 2nd launch</td>\n    </tr>\n    <tr>\n      <th>147419</th>\n      <td>397662853</td>\n      <td>9432ca625cbcee771e54db4c895908d3</td>\n      <td>NaN</td>\n      <td>20600</td>\n      <td>93.166</td>\n      <td>T2</td>\n      <td>2022-02-18 12:38:57 UTC</td>\n      <td>72373351</td>\n      <td>ESCG02-2_65.jpg</td>\n      <td>113</td>\n      <td>186</td>\n      <td>Iguanas 2nd launch</td>\n    </tr>\n    <tr>\n      <th>147420</th>\n      <td>397662853</td>\n      <td>9432ca625cbcee771e54db4c895908d3</td>\n      <td>NaN</td>\n      <td>20600</td>\n      <td>93.166</td>\n      <td>T2</td>\n      <td>2022-02-18 12:38:57 UTC</td>\n      <td>72373351</td>\n      <td>ESCG02-2_65.jpg</td>\n      <td>87</td>\n      <td>167</td>\n      <td>Iguanas 2nd launch</td>\n    </tr>\n    <tr>\n      <th>147421</th>\n      <td>397662853</td>\n      <td>9432ca625cbcee771e54db4c895908d3</td>\n      <td>NaN</td>\n      <td>20600</td>\n      <td>93.166</td>\n      <td>T2</td>\n      <td>2022-02-18 12:38:57 UTC</td>\n      <td>72373351</td>\n      <td>ESCG02-2_65.jpg</td>\n      <td>443</td>\n      <td>124</td>\n      <td>Iguanas 2nd launch</td>\n    </tr>\n    <tr>\n      <th>147422</th>\n      <td>397662853</td>\n      <td>9432ca625cbcee771e54db4c895908d3</td>\n      <td>NaN</td>\n      <td>20600</td>\n      <td>93.166</td>\n      <td>T2</td>\n      <td>2022-02-18 12:38:57 UTC</td>\n      <td>72373351</td>\n      <td>ESCG02-2_65.jpg</td>\n      <td>188</td>\n      <td>337</td>\n      <td>Iguanas 2nd launch</td>\n    </tr>\n  </tbody>\n</table>\n<p>147423 rows × 12 columns</p>\n</div>"
     },
     "execution_count": 9,
     "metadata": {},
     "output_type": "execute_result"
    }
   ],
   "source": [
    "## After filtering there\n",
    "df_merged_dataset"
   ]
  },
  {
   "cell_type": "code",
   "execution_count": 10,
   "id": "e1fcc8d02df55119",
   "metadata": {
    "collapsed": false,
    "ExecuteTime": {
     "end_time": "2024-04-16T09:49:36.266970Z",
     "start_time": "2024-04-16T09:49:36.216021Z"
    }
   },
   "outputs": [
    {
     "data": {
      "text/plain": "                                  user_id   x\nuser_name                                    \n0017d25c56dde700371a7b31c37d1bb4       10  10\n001a4ac0175c2415dcffc072cd58094b        0   2\n001a7e5e989807349d0dc5e90eaebf83       63  63\n002d783ad543c3030deb5b904b99d044        6   6\n009a3b2a0da3c28e726e27f09d201582        5   5\n...                                   ...  ..\nffa31db924ebf1353aaac21d4c6a3ff1        0   3\nffac078ce61b035a5a0af18d4a9f53f8        9   9\nffdbd721ffbb85f7622630c03c4c5912       20  20\nffe50577f6ab39e113b36e68f9ea7edf        7   7\nffe917227e143f8531efccb9e6cb1e98        0  32\n\n[2193 rows x 2 columns]",
      "text/html": "<div>\n<style scoped>\n    .dataframe tbody tr th:only-of-type {\n        vertical-align: middle;\n    }\n\n    .dataframe tbody tr th {\n        vertical-align: top;\n    }\n\n    .dataframe thead th {\n        text-align: right;\n    }\n</style>\n<table border=\"1\" class=\"dataframe\">\n  <thead>\n    <tr style=\"text-align: right;\">\n      <th></th>\n      <th>user_id</th>\n      <th>x</th>\n    </tr>\n    <tr>\n      <th>user_name</th>\n      <th></th>\n      <th></th>\n    </tr>\n  </thead>\n  <tbody>\n    <tr>\n      <th>0017d25c56dde700371a7b31c37d1bb4</th>\n      <td>10</td>\n      <td>10</td>\n    </tr>\n    <tr>\n      <th>001a4ac0175c2415dcffc072cd58094b</th>\n      <td>0</td>\n      <td>2</td>\n    </tr>\n    <tr>\n      <th>001a7e5e989807349d0dc5e90eaebf83</th>\n      <td>63</td>\n      <td>63</td>\n    </tr>\n    <tr>\n      <th>002d783ad543c3030deb5b904b99d044</th>\n      <td>6</td>\n      <td>6</td>\n    </tr>\n    <tr>\n      <th>009a3b2a0da3c28e726e27f09d201582</th>\n      <td>5</td>\n      <td>5</td>\n    </tr>\n    <tr>\n      <th>...</th>\n      <td>...</td>\n      <td>...</td>\n    </tr>\n    <tr>\n      <th>ffa31db924ebf1353aaac21d4c6a3ff1</th>\n      <td>0</td>\n      <td>3</td>\n    </tr>\n    <tr>\n      <th>ffac078ce61b035a5a0af18d4a9f53f8</th>\n      <td>9</td>\n      <td>9</td>\n    </tr>\n    <tr>\n      <th>ffdbd721ffbb85f7622630c03c4c5912</th>\n      <td>20</td>\n      <td>20</td>\n    </tr>\n    <tr>\n      <th>ffe50577f6ab39e113b36e68f9ea7edf</th>\n      <td>7</td>\n      <td>7</td>\n    </tr>\n    <tr>\n      <th>ffe917227e143f8531efccb9e6cb1e98</th>\n      <td>0</td>\n      <td>32</td>\n    </tr>\n  </tbody>\n</table>\n<p>2193 rows × 2 columns</p>\n</div>"
     },
     "execution_count": 10,
     "metadata": {},
     "output_type": "execute_result"
    }
   ],
   "source": [
    "# how many marks per user\n",
    "df_merged_dataset[[\"user_id\", \"user_name\", \"x\"]].groupby(\"user_name\").count()"
   ]
  },
  {
   "cell_type": "markdown",
   "id": "42c2737f2c06741d",
   "metadata": {
    "collapsed": false
   },
   "source": [
    "## Clustering"
   ]
  },
  {
   "cell_type": "markdown",
   "id": "beefdd1511daad4",
   "metadata": {
    "collapsed": false
   },
   "source": [
    "### Basic Statics like mean, median, mode"
   ]
  },
  {
   "cell_type": "code",
   "execution_count": 11,
   "id": "998d62019f01a2ec",
   "metadata": {
    "collapsed": false,
    "ExecuteTime": {
     "end_time": "2024-04-16T09:49:37.993170Z",
     "start_time": "2024-04-16T09:49:36.268735Z"
    }
   },
   "outputs": [],
   "source": [
    "from zooniverse.analysis import get_mark_overview\n",
    "\n",
    "basic_stats = []\n",
    "\n",
    "for image_name, df_image_name in df_merged_dataset.groupby(\"subject_id\"):\n",
    "    annotations_count = get_mark_overview(df_image_name)\n",
    "\n",
    "    annotations_count_stats = get_annotation_count_stats(annotations_count=annotations_count,\n",
    "                                                         image_name=df_image_name.iloc[0][\"image_name\"], \n",
    "                                                         subject_id=df_image_name.iloc[0][\"subject_id\"])\n",
    "\n",
    "    ### basic statistics like mean, median, mode\n",
    "    basic_stats.append(annotations_count_stats)\n",
    "    \n",
    "\n",
    "df_basic_stats = pd.DataFrame(basic_stats)    \n",
    "df_comparison = df_basic_stats\n"
   ]
  },
  {
   "cell_type": "code",
   "execution_count": 12,
   "id": "dd1f05f18807f3b4",
   "metadata": {
    "collapsed": false,
    "ExecuteTime": {
     "end_time": "2024-04-16T09:49:38.031887Z",
     "start_time": "2024-04-16T09:49:37.994142Z"
    }
   },
   "outputs": [
    {
     "data": {
      "text/plain": "             image_name  subject_id  median_count  mean_count  mode_min_count  \\\n0      EGI01-1-1_11.jpg    72332772           2.0        2.00               2   \n1      EGI01-1-1_19.jpg    72332775           1.0        1.00               1   \n2      EGI01-1-1_54.jpg    72332788           1.0        1.00               1   \n3      EGI01-1-1_69.jpg    72332794           1.0        1.00               1   \n4     EGI01-1-2_110.jpg    72332799          12.0       12.00              12   \n...                 ...         ...           ...         ...             ...   \n4316    ESCG02-2_59.jpg    72373345           1.0        1.00               1   \n4317    ESCG02-2_62.jpg    72373347           1.0        1.00               1   \n4318    ESCG02-2_63.jpg    72373348           1.0        1.25               1   \n4319    ESCG02-2_64.jpg    72373350           5.0        5.47               5   \n4320    ESCG02-2_65.jpg    72373351           9.0        8.50               7   \n\n      mode_max_count mode_count  mode_count_avg  users  sum_annotations_count  \\\n0                  2        [2]             2.0      1                      2   \n1                  1        [1]             1.0      1                      1   \n2                  1        [1]             1.0      1                      1   \n3                  1        [1]             1.0      1                      1   \n4                 12       [12]            12.0      1                     12   \n...              ...        ...             ...    ...                    ...   \n4316               1        [1]             1.0      2                      2   \n4317               1        [1]             1.0      4                      4   \n4318               1        [1]             1.0     16                     20   \n4319               5        [5]             5.0     15                     82   \n4320              10    [7, 10]             8.5     18                    153   \n\n                                      annotations_count  \n0                                                   [2]  \n1                                                   [1]  \n2                                                   [1]  \n3                                                   [1]  \n4                                                  [12]  \n...                                                 ...  \n4316                                             [1, 1]  \n4317                                       [1, 1, 1, 1]  \n4318   [1, 1, 1, 1, 1, 1, 1, 1, 1, 1, 1, 1, 2, 2, 2, 2]  \n4319     [1, 2, 3, 5, 5, 5, 5, 5, 6, 6, 7, 7, 7, 8, 10]  \n4320  [1, 2, 5, 6, 7, 7, 7, 8, 9, 9, 10, 10, 10, 11,...  \n\n[4321 rows x 11 columns]",
      "text/html": "<div>\n<style scoped>\n    .dataframe tbody tr th:only-of-type {\n        vertical-align: middle;\n    }\n\n    .dataframe tbody tr th {\n        vertical-align: top;\n    }\n\n    .dataframe thead th {\n        text-align: right;\n    }\n</style>\n<table border=\"1\" class=\"dataframe\">\n  <thead>\n    <tr style=\"text-align: right;\">\n      <th></th>\n      <th>image_name</th>\n      <th>subject_id</th>\n      <th>median_count</th>\n      <th>mean_count</th>\n      <th>mode_min_count</th>\n      <th>mode_max_count</th>\n      <th>mode_count</th>\n      <th>mode_count_avg</th>\n      <th>users</th>\n      <th>sum_annotations_count</th>\n      <th>annotations_count</th>\n    </tr>\n  </thead>\n  <tbody>\n    <tr>\n      <th>0</th>\n      <td>EGI01-1-1_11.jpg</td>\n      <td>72332772</td>\n      <td>2.0</td>\n      <td>2.00</td>\n      <td>2</td>\n      <td>2</td>\n      <td>[2]</td>\n      <td>2.0</td>\n      <td>1</td>\n      <td>2</td>\n      <td>[2]</td>\n    </tr>\n    <tr>\n      <th>1</th>\n      <td>EGI01-1-1_19.jpg</td>\n      <td>72332775</td>\n      <td>1.0</td>\n      <td>1.00</td>\n      <td>1</td>\n      <td>1</td>\n      <td>[1]</td>\n      <td>1.0</td>\n      <td>1</td>\n      <td>1</td>\n      <td>[1]</td>\n    </tr>\n    <tr>\n      <th>2</th>\n      <td>EGI01-1-1_54.jpg</td>\n      <td>72332788</td>\n      <td>1.0</td>\n      <td>1.00</td>\n      <td>1</td>\n      <td>1</td>\n      <td>[1]</td>\n      <td>1.0</td>\n      <td>1</td>\n      <td>1</td>\n      <td>[1]</td>\n    </tr>\n    <tr>\n      <th>3</th>\n      <td>EGI01-1-1_69.jpg</td>\n      <td>72332794</td>\n      <td>1.0</td>\n      <td>1.00</td>\n      <td>1</td>\n      <td>1</td>\n      <td>[1]</td>\n      <td>1.0</td>\n      <td>1</td>\n      <td>1</td>\n      <td>[1]</td>\n    </tr>\n    <tr>\n      <th>4</th>\n      <td>EGI01-1-2_110.jpg</td>\n      <td>72332799</td>\n      <td>12.0</td>\n      <td>12.00</td>\n      <td>12</td>\n      <td>12</td>\n      <td>[12]</td>\n      <td>12.0</td>\n      <td>1</td>\n      <td>12</td>\n      <td>[12]</td>\n    </tr>\n    <tr>\n      <th>...</th>\n      <td>...</td>\n      <td>...</td>\n      <td>...</td>\n      <td>...</td>\n      <td>...</td>\n      <td>...</td>\n      <td>...</td>\n      <td>...</td>\n      <td>...</td>\n      <td>...</td>\n      <td>...</td>\n    </tr>\n    <tr>\n      <th>4316</th>\n      <td>ESCG02-2_59.jpg</td>\n      <td>72373345</td>\n      <td>1.0</td>\n      <td>1.00</td>\n      <td>1</td>\n      <td>1</td>\n      <td>[1]</td>\n      <td>1.0</td>\n      <td>2</td>\n      <td>2</td>\n      <td>[1, 1]</td>\n    </tr>\n    <tr>\n      <th>4317</th>\n      <td>ESCG02-2_62.jpg</td>\n      <td>72373347</td>\n      <td>1.0</td>\n      <td>1.00</td>\n      <td>1</td>\n      <td>1</td>\n      <td>[1]</td>\n      <td>1.0</td>\n      <td>4</td>\n      <td>4</td>\n      <td>[1, 1, 1, 1]</td>\n    </tr>\n    <tr>\n      <th>4318</th>\n      <td>ESCG02-2_63.jpg</td>\n      <td>72373348</td>\n      <td>1.0</td>\n      <td>1.25</td>\n      <td>1</td>\n      <td>1</td>\n      <td>[1]</td>\n      <td>1.0</td>\n      <td>16</td>\n      <td>20</td>\n      <td>[1, 1, 1, 1, 1, 1, 1, 1, 1, 1, 1, 1, 2, 2, 2, 2]</td>\n    </tr>\n    <tr>\n      <th>4319</th>\n      <td>ESCG02-2_64.jpg</td>\n      <td>72373350</td>\n      <td>5.0</td>\n      <td>5.47</td>\n      <td>5</td>\n      <td>5</td>\n      <td>[5]</td>\n      <td>5.0</td>\n      <td>15</td>\n      <td>82</td>\n      <td>[1, 2, 3, 5, 5, 5, 5, 5, 6, 6, 7, 7, 7, 8, 10]</td>\n    </tr>\n    <tr>\n      <th>4320</th>\n      <td>ESCG02-2_65.jpg</td>\n      <td>72373351</td>\n      <td>9.0</td>\n      <td>8.50</td>\n      <td>7</td>\n      <td>10</td>\n      <td>[7, 10]</td>\n      <td>8.5</td>\n      <td>18</td>\n      <td>153</td>\n      <td>[1, 2, 5, 6, 7, 7, 7, 8, 9, 9, 10, 10, 10, 11,...</td>\n    </tr>\n  </tbody>\n</table>\n<p>4321 rows × 11 columns</p>\n</div>"
     },
     "execution_count": 12,
     "metadata": {},
     "output_type": "execute_result"
    }
   ],
   "source": [
    "df_basic_stats"
   ]
  },
  {
   "cell_type": "code",
   "execution_count": 13,
   "id": "d3dc86009d813ff0",
   "metadata": {
    "collapsed": false,
    "ExecuteTime": {
     "end_time": "2024-04-16T09:49:38.069829Z",
     "start_time": "2024-04-16T09:49:38.033530Z"
    }
   },
   "outputs": [
    {
     "data": {
      "text/plain": "             image_name  subject_id  median_count  mean_count  mode_min_count  \\\n4317    ESCG02-2_62.jpg    72373347           1.0         1.0               1   \n1758    EPS08-2_183.jpg    72336856           1.0         1.0               1   \n1823    EPS08-2_340.jpg    72336954           1.0         1.0               1   \n3570  FSCE-1.1-2_45.jpg    72340392           1.0         1.0               1   \n1809    EPS08-2_318.jpg    72336934           1.0         1.0               1   \n...                 ...         ...           ...         ...             ...   \n1661    EPS08-1_237.jpg    72336700           1.0         1.0               1   \n1651    EPS08-1_212.jpg    72336679           2.0         2.0               2   \n1646    EPS08-1_207.jpg    72336674           2.0         2.0               2   \n1645    EPS08-1_201.jpg    72336668           1.0         1.0               1   \n0      EGI01-1-1_11.jpg    72332772           2.0         2.0               2   \n\n      mode_max_count mode_count  mode_count_avg  users  sum_annotations_count  \\\n4317               1        [1]             1.0      4                      4   \n1758               1        [1]             1.0      4                      4   \n1823               1        [1]             1.0      4                      4   \n3570               1        [1]             1.0      4                      4   \n1809               1        [1]             1.0      4                      4   \n...              ...        ...             ...    ...                    ...   \n1661               1        [1]             1.0      1                      1   \n1651               2        [2]             2.0      1                      2   \n1646               2        [2]             2.0      1                      2   \n1645               1        [1]             1.0      1                      1   \n0                  2        [2]             2.0      1                      2   \n\n     annotations_count  \n4317      [1, 1, 1, 1]  \n1758      [1, 1, 1, 1]  \n1823      [1, 1, 1, 1]  \n3570      [1, 1, 1, 1]  \n1809      [1, 1, 1, 1]  \n...                ...  \n1661               [1]  \n1651               [2]  \n1646               [2]  \n1645               [1]  \n0                  [2]  \n\n[1708 rows x 11 columns]",
      "text/html": "<div>\n<style scoped>\n    .dataframe tbody tr th:only-of-type {\n        vertical-align: middle;\n    }\n\n    .dataframe tbody tr th {\n        vertical-align: top;\n    }\n\n    .dataframe thead th {\n        text-align: right;\n    }\n</style>\n<table border=\"1\" class=\"dataframe\">\n  <thead>\n    <tr style=\"text-align: right;\">\n      <th></th>\n      <th>image_name</th>\n      <th>subject_id</th>\n      <th>median_count</th>\n      <th>mean_count</th>\n      <th>mode_min_count</th>\n      <th>mode_max_count</th>\n      <th>mode_count</th>\n      <th>mode_count_avg</th>\n      <th>users</th>\n      <th>sum_annotations_count</th>\n      <th>annotations_count</th>\n    </tr>\n  </thead>\n  <tbody>\n    <tr>\n      <th>4317</th>\n      <td>ESCG02-2_62.jpg</td>\n      <td>72373347</td>\n      <td>1.0</td>\n      <td>1.0</td>\n      <td>1</td>\n      <td>1</td>\n      <td>[1]</td>\n      <td>1.0</td>\n      <td>4</td>\n      <td>4</td>\n      <td>[1, 1, 1, 1]</td>\n    </tr>\n    <tr>\n      <th>1758</th>\n      <td>EPS08-2_183.jpg</td>\n      <td>72336856</td>\n      <td>1.0</td>\n      <td>1.0</td>\n      <td>1</td>\n      <td>1</td>\n      <td>[1]</td>\n      <td>1.0</td>\n      <td>4</td>\n      <td>4</td>\n      <td>[1, 1, 1, 1]</td>\n    </tr>\n    <tr>\n      <th>1823</th>\n      <td>EPS08-2_340.jpg</td>\n      <td>72336954</td>\n      <td>1.0</td>\n      <td>1.0</td>\n      <td>1</td>\n      <td>1</td>\n      <td>[1]</td>\n      <td>1.0</td>\n      <td>4</td>\n      <td>4</td>\n      <td>[1, 1, 1, 1]</td>\n    </tr>\n    <tr>\n      <th>3570</th>\n      <td>FSCE-1.1-2_45.jpg</td>\n      <td>72340392</td>\n      <td>1.0</td>\n      <td>1.0</td>\n      <td>1</td>\n      <td>1</td>\n      <td>[1]</td>\n      <td>1.0</td>\n      <td>4</td>\n      <td>4</td>\n      <td>[1, 1, 1, 1]</td>\n    </tr>\n    <tr>\n      <th>1809</th>\n      <td>EPS08-2_318.jpg</td>\n      <td>72336934</td>\n      <td>1.0</td>\n      <td>1.0</td>\n      <td>1</td>\n      <td>1</td>\n      <td>[1]</td>\n      <td>1.0</td>\n      <td>4</td>\n      <td>4</td>\n      <td>[1, 1, 1, 1]</td>\n    </tr>\n    <tr>\n      <th>...</th>\n      <td>...</td>\n      <td>...</td>\n      <td>...</td>\n      <td>...</td>\n      <td>...</td>\n      <td>...</td>\n      <td>...</td>\n      <td>...</td>\n      <td>...</td>\n      <td>...</td>\n      <td>...</td>\n    </tr>\n    <tr>\n      <th>1661</th>\n      <td>EPS08-1_237.jpg</td>\n      <td>72336700</td>\n      <td>1.0</td>\n      <td>1.0</td>\n      <td>1</td>\n      <td>1</td>\n      <td>[1]</td>\n      <td>1.0</td>\n      <td>1</td>\n      <td>1</td>\n      <td>[1]</td>\n    </tr>\n    <tr>\n      <th>1651</th>\n      <td>EPS08-1_212.jpg</td>\n      <td>72336679</td>\n      <td>2.0</td>\n      <td>2.0</td>\n      <td>2</td>\n      <td>2</td>\n      <td>[2]</td>\n      <td>2.0</td>\n      <td>1</td>\n      <td>2</td>\n      <td>[2]</td>\n    </tr>\n    <tr>\n      <th>1646</th>\n      <td>EPS08-1_207.jpg</td>\n      <td>72336674</td>\n      <td>2.0</td>\n      <td>2.0</td>\n      <td>2</td>\n      <td>2</td>\n      <td>[2]</td>\n      <td>2.0</td>\n      <td>1</td>\n      <td>2</td>\n      <td>[2]</td>\n    </tr>\n    <tr>\n      <th>1645</th>\n      <td>EPS08-1_201.jpg</td>\n      <td>72336668</td>\n      <td>1.0</td>\n      <td>1.0</td>\n      <td>1</td>\n      <td>1</td>\n      <td>[1]</td>\n      <td>1.0</td>\n      <td>1</td>\n      <td>1</td>\n      <td>[1]</td>\n    </tr>\n    <tr>\n      <th>0</th>\n      <td>EGI01-1-1_11.jpg</td>\n      <td>72332772</td>\n      <td>2.0</td>\n      <td>2.0</td>\n      <td>2</td>\n      <td>2</td>\n      <td>[2]</td>\n      <td>2.0</td>\n      <td>1</td>\n      <td>2</td>\n      <td>[2]</td>\n    </tr>\n  </tbody>\n</table>\n<p>1708 rows × 11 columns</p>\n</div>"
     },
     "execution_count": 13,
     "metadata": {},
     "output_type": "execute_result"
    }
   ],
   "source": [
    "# There might be records with too few annotations if they were not removed before\n",
    "df_comparison[(df_comparison.sum_annotations_count < 5)].sort_values(by=\"users\", ascending=False)"
   ]
  },
  {
   "cell_type": "code",
   "execution_count": 14,
   "id": "50596f5c07d7bd7c",
   "metadata": {
    "collapsed": false,
    "ExecuteTime": {
     "end_time": "2024-04-16T09:49:38.102121Z",
     "start_time": "2024-04-16T09:49:38.074449Z"
    }
   },
   "outputs": [],
   "source": [
    "# Fill NaN values with 0\n",
    "df_comparison.fillna(0, inplace=True)\n"
   ]
  },
  {
   "cell_type": "markdown",
   "id": "5d99c27ebf9bd6b6",
   "metadata": {
    "collapsed": false
   },
   "source": [
    "### DBSCAN clustering and take the variant with the best silouette score for each image\n",
    "Grid search for the best silouette score among the permutations of eps and min_samples values."
   ]
  },
  {
   "cell_type": "code",
   "execution_count": 15,
   "id": "541f9f88dc56d1f1",
   "metadata": {
    "collapsed": false,
    "ExecuteTime": {
     "end_time": "2024-04-16T10:05:23.920996Z",
     "start_time": "2024-04-16T09:49:38.104773Z"
    }
   },
   "outputs": [
    {
     "name": "stderr",
     "output_type": "stream",
     "text": [
      "/var/folders/2k/78nn7s4548986wsjh29rhj9w0000gn/T/ipykernel_48433/363136593.py:35: FutureWarning: The behavior of DataFrame concatenation with empty or all-NA entries is deprecated. In a future version, this will no longer exclude empty or all-NA columns when determining the result dtypes. To retain the old behavior, exclude the relevant entries before the concat operation.\n",
      "  df_dbscan_localization = pd.concat([*db_scan_results.values()])\n"
     ]
    }
   ],
   "source": [
    "## sort by silouette score sorting + dbscan_count\n",
    "from zooniverse.analysis import compare_dbscan\n",
    "\n",
    "eps_variants = [0.01, 0.05, 0.1, 0.2, 0.3, 0.4, 0.5]\n",
    "min_samples_variants = [3, 5, 8, 10]\n",
    "if debug:\n",
    "    eps_variants = [0.3]\n",
    "    min_samples_variants = [3]\n",
    "params = [(eps, min_samples) for eps in eps_variants for min_samples in min_samples_variants]\n",
    "\n",
    "db_scan_results = {}\n",
    "db_scan_best_results = []\n",
    "for image_name, df_image_name in df_merged_dataset.groupby(\"subject_id\"):\n",
    "    # check for at least 5 marks\n",
    "    if df_image_name.shape[0] >= 5:\n",
    "        dbscan_localization = compare_dbscan(\n",
    "            params=params,\n",
    "            df_flat=df_image_name,\n",
    "            output_plot_path=output_plot_path,\n",
    "            plot=show_plots\n",
    "        )\n",
    "    \n",
    "        db_scan_results[image_name] = pd.DataFrame(dbscan_localization)\n",
    "        \n",
    "        # DBSCAN tends to classify all points as noise if min_samples is too high. Often only a single user marked an iguana.\n",
    "        # Sillouette Scoring needs a minimum of 2 clusters\n",
    "        # if there are points in decent radius they will belong to a cluster\n",
    "        if pd.DataFrame(dbscan_localization).dbscan_count.max() == 1:\n",
    "            db_scan_best_results.append(pd.DataFrame(dbscan_localization).sort_values(\"dbscan_count\", ascending=False).iloc[0])\n",
    "            # If two or more cluster seem to exists take ones with the best Silouette score\n",
    "        else:  \n",
    "            # take the best result by silouette score if there are more clusters then 1\n",
    "            db_scan_best_results.append(pd.DataFrame(dbscan_localization).sort_values([\"dbscan_silouette_score\", \"dbscan_count\"], ascending=[False, False]).iloc[0])\n",
    "    \n",
    "df_dbscan_localization = pd.concat([*db_scan_results.values()])\n",
    "df_scan_best_results = pd.DataFrame(db_scan_best_results)\n"
   ]
  },
  {
   "cell_type": "code",
   "execution_count": 16,
   "id": "ec07d63d180d7442",
   "metadata": {
    "collapsed": false,
    "ExecuteTime": {
     "end_time": "2024-04-16T10:05:23.997985Z",
     "start_time": "2024-04-16T10:05:23.924041Z"
    }
   },
   "outputs": [
    {
     "data": {
      "text/plain": "           image_name  subject_id  dbscan_count  dbscan_noise  \\\n24  EGI01-1-2_110.jpg    72332799             1             9   \n24  EGI01-1-2_121.jpg    72332802             5             2   \n20  EGI01-1-2_122.jpg    72332803             2             3   \n24   EGI01-1-2_24.jpg    72332804             1             7   \n0    EGI01-1-2_62.jpg    72332814             1            18   \n..                ...         ...           ...           ...   \n12    ESCG02-2_53.jpg    72373336             9             6   \n0     ESCG02-2_56.jpg    72373341             0             5   \n8     ESCG02-2_63.jpg    72373348             2             7   \n12    ESCG02-2_64.jpg    72373350             4             7   \n12    ESCG02-2_65.jpg    72373351            11             7   \n\n    dbscan_silouette_score  dbscan_BIC_score   eps  min_samples  \n24                     NaN               NaN  0.50            3  \n24                0.662195               NaN  0.50            3  \n20                0.879223               NaN  0.40            3  \n24                     NaN               NaN  0.50            3  \n0                      NaN               NaN  0.01            3  \n..                     ...               ...   ...          ...  \n12                0.792117               NaN  0.20            3  \n0                      NaN               NaN  0.01            3  \n8                 0.158355               NaN  0.10            3  \n12                0.801983               NaN  0.20            3  \n12                0.747691               NaN  0.20            3  \n\n[2613 rows x 8 columns]",
      "text/html": "<div>\n<style scoped>\n    .dataframe tbody tr th:only-of-type {\n        vertical-align: middle;\n    }\n\n    .dataframe tbody tr th {\n        vertical-align: top;\n    }\n\n    .dataframe thead th {\n        text-align: right;\n    }\n</style>\n<table border=\"1\" class=\"dataframe\">\n  <thead>\n    <tr style=\"text-align: right;\">\n      <th></th>\n      <th>image_name</th>\n      <th>subject_id</th>\n      <th>dbscan_count</th>\n      <th>dbscan_noise</th>\n      <th>dbscan_silouette_score</th>\n      <th>dbscan_BIC_score</th>\n      <th>eps</th>\n      <th>min_samples</th>\n    </tr>\n  </thead>\n  <tbody>\n    <tr>\n      <th>24</th>\n      <td>EGI01-1-2_110.jpg</td>\n      <td>72332799</td>\n      <td>1</td>\n      <td>9</td>\n      <td>NaN</td>\n      <td>NaN</td>\n      <td>0.50</td>\n      <td>3</td>\n    </tr>\n    <tr>\n      <th>24</th>\n      <td>EGI01-1-2_121.jpg</td>\n      <td>72332802</td>\n      <td>5</td>\n      <td>2</td>\n      <td>0.662195</td>\n      <td>NaN</td>\n      <td>0.50</td>\n      <td>3</td>\n    </tr>\n    <tr>\n      <th>20</th>\n      <td>EGI01-1-2_122.jpg</td>\n      <td>72332803</td>\n      <td>2</td>\n      <td>3</td>\n      <td>0.879223</td>\n      <td>NaN</td>\n      <td>0.40</td>\n      <td>3</td>\n    </tr>\n    <tr>\n      <th>24</th>\n      <td>EGI01-1-2_24.jpg</td>\n      <td>72332804</td>\n      <td>1</td>\n      <td>7</td>\n      <td>NaN</td>\n      <td>NaN</td>\n      <td>0.50</td>\n      <td>3</td>\n    </tr>\n    <tr>\n      <th>0</th>\n      <td>EGI01-1-2_62.jpg</td>\n      <td>72332814</td>\n      <td>1</td>\n      <td>18</td>\n      <td>NaN</td>\n      <td>NaN</td>\n      <td>0.01</td>\n      <td>3</td>\n    </tr>\n    <tr>\n      <th>...</th>\n      <td>...</td>\n      <td>...</td>\n      <td>...</td>\n      <td>...</td>\n      <td>...</td>\n      <td>...</td>\n      <td>...</td>\n      <td>...</td>\n    </tr>\n    <tr>\n      <th>12</th>\n      <td>ESCG02-2_53.jpg</td>\n      <td>72373336</td>\n      <td>9</td>\n      <td>6</td>\n      <td>0.792117</td>\n      <td>NaN</td>\n      <td>0.20</td>\n      <td>3</td>\n    </tr>\n    <tr>\n      <th>0</th>\n      <td>ESCG02-2_56.jpg</td>\n      <td>72373341</td>\n      <td>0</td>\n      <td>5</td>\n      <td>NaN</td>\n      <td>NaN</td>\n      <td>0.01</td>\n      <td>3</td>\n    </tr>\n    <tr>\n      <th>8</th>\n      <td>ESCG02-2_63.jpg</td>\n      <td>72373348</td>\n      <td>2</td>\n      <td>7</td>\n      <td>0.158355</td>\n      <td>NaN</td>\n      <td>0.10</td>\n      <td>3</td>\n    </tr>\n    <tr>\n      <th>12</th>\n      <td>ESCG02-2_64.jpg</td>\n      <td>72373350</td>\n      <td>4</td>\n      <td>7</td>\n      <td>0.801983</td>\n      <td>NaN</td>\n      <td>0.20</td>\n      <td>3</td>\n    </tr>\n    <tr>\n      <th>12</th>\n      <td>ESCG02-2_65.jpg</td>\n      <td>72373351</td>\n      <td>11</td>\n      <td>7</td>\n      <td>0.747691</td>\n      <td>NaN</td>\n      <td>0.20</td>\n      <td>3</td>\n    </tr>\n  </tbody>\n</table>\n<p>2613 rows × 8 columns</p>\n</div>"
     },
     "execution_count": 16,
     "metadata": {},
     "output_type": "execute_result"
    }
   ],
   "source": [
    "df_scan_best_results"
   ]
  },
  {
   "cell_type": "markdown",
   "id": "d196ca1914a06509",
   "metadata": {
    "collapsed": false
   },
   "source": [
    "Here it can be seen why the silouette score is difficult because it is often undefined."
   ]
  },
  {
   "cell_type": "code",
   "execution_count": 17,
   "id": "c17c404cb518dbe1",
   "metadata": {
    "collapsed": false,
    "ExecuteTime": {
     "end_time": "2024-04-16T10:05:24.168700Z",
     "start_time": "2024-04-16T10:05:23.999076Z"
    }
   },
   "outputs": [],
   "source": [
    "## save the combinations of parameters, which maximized the silouette score.\n",
    "df_dbscan_localization.to_csv(config[\"dbscan_hyperparam_grid\"])\n"
   ]
  },
  {
   "cell_type": "code",
   "execution_count": 18,
   "id": "bacea598a23a1b81",
   "metadata": {
    "collapsed": false,
    "ExecuteTime": {
     "end_time": "2024-04-16T10:05:24.199375Z",
     "start_time": "2024-04-16T10:05:24.169708Z"
    }
   },
   "outputs": [],
   "source": [
    "df_scan_best_results.rename(columns={\"dbscan_count\": \"dbscan_count_sil\"}, inplace=True)\n",
    "\n",
    "\n",
    "df_comparison = df_comparison.merge(df_scan_best_results.drop([\"image_name\"], axis=1), on='subject_id', how='left')"
   ]
  },
  {
   "cell_type": "code",
   "execution_count": 19,
   "id": "509dec5ebdad923",
   "metadata": {
    "collapsed": false,
    "ExecuteTime": {
     "end_time": "2024-04-16T10:05:24.227714Z",
     "start_time": "2024-04-16T10:05:24.200126Z"
    }
   },
   "outputs": [
    {
     "data": {
      "text/plain": "             image_name  subject_id  median_count  mean_count  mode_min_count  \\\n0      EGI01-1-1_11.jpg    72332772           2.0        2.00               2   \n1      EGI01-1-1_19.jpg    72332775           1.0        1.00               1   \n2      EGI01-1-1_54.jpg    72332788           1.0        1.00               1   \n3      EGI01-1-1_69.jpg    72332794           1.0        1.00               1   \n4     EGI01-1-2_110.jpg    72332799          12.0       12.00              12   \n...                 ...         ...           ...         ...             ...   \n4316    ESCG02-2_59.jpg    72373345           1.0        1.00               1   \n4317    ESCG02-2_62.jpg    72373347           1.0        1.00               1   \n4318    ESCG02-2_63.jpg    72373348           1.0        1.25               1   \n4319    ESCG02-2_64.jpg    72373350           5.0        5.47               5   \n4320    ESCG02-2_65.jpg    72373351           9.0        8.50               7   \n\n      mode_max_count mode_count  mode_count_avg  users  sum_annotations_count  \\\n0                  2        [2]             2.0      1                      2   \n1                  1        [1]             1.0      1                      1   \n2                  1        [1]             1.0      1                      1   \n3                  1        [1]             1.0      1                      1   \n4                 12       [12]            12.0      1                     12   \n...              ...        ...             ...    ...                    ...   \n4316               1        [1]             1.0      2                      2   \n4317               1        [1]             1.0      4                      4   \n4318               1        [1]             1.0     16                     20   \n4319               5        [5]             5.0     15                     82   \n4320              10    [7, 10]             8.5     18                    153   \n\n                                      annotations_count  dbscan_count_sil  \n0                                                   [2]               NaN  \n1                                                   [1]               NaN  \n2                                                   [1]               NaN  \n3                                                   [1]               NaN  \n4                                                  [12]               1.0  \n...                                                 ...               ...  \n4316                                             [1, 1]               NaN  \n4317                                       [1, 1, 1, 1]               NaN  \n4318   [1, 1, 1, 1, 1, 1, 1, 1, 1, 1, 1, 1, 2, 2, 2, 2]               2.0  \n4319     [1, 2, 3, 5, 5, 5, 5, 5, 6, 6, 7, 7, 7, 8, 10]               4.0  \n4320  [1, 2, 5, 6, 7, 7, 7, 8, 9, 9, 10, 10, 10, 11,...              11.0  \n\n[4321 rows x 12 columns]",
      "text/html": "<div>\n<style scoped>\n    .dataframe tbody tr th:only-of-type {\n        vertical-align: middle;\n    }\n\n    .dataframe tbody tr th {\n        vertical-align: top;\n    }\n\n    .dataframe thead th {\n        text-align: right;\n    }\n</style>\n<table border=\"1\" class=\"dataframe\">\n  <thead>\n    <tr style=\"text-align: right;\">\n      <th></th>\n      <th>image_name</th>\n      <th>subject_id</th>\n      <th>median_count</th>\n      <th>mean_count</th>\n      <th>mode_min_count</th>\n      <th>mode_max_count</th>\n      <th>mode_count</th>\n      <th>mode_count_avg</th>\n      <th>users</th>\n      <th>sum_annotations_count</th>\n      <th>annotations_count</th>\n      <th>dbscan_count_sil</th>\n    </tr>\n  </thead>\n  <tbody>\n    <tr>\n      <th>0</th>\n      <td>EGI01-1-1_11.jpg</td>\n      <td>72332772</td>\n      <td>2.0</td>\n      <td>2.00</td>\n      <td>2</td>\n      <td>2</td>\n      <td>[2]</td>\n      <td>2.0</td>\n      <td>1</td>\n      <td>2</td>\n      <td>[2]</td>\n      <td>NaN</td>\n    </tr>\n    <tr>\n      <th>1</th>\n      <td>EGI01-1-1_19.jpg</td>\n      <td>72332775</td>\n      <td>1.0</td>\n      <td>1.00</td>\n      <td>1</td>\n      <td>1</td>\n      <td>[1]</td>\n      <td>1.0</td>\n      <td>1</td>\n      <td>1</td>\n      <td>[1]</td>\n      <td>NaN</td>\n    </tr>\n    <tr>\n      <th>2</th>\n      <td>EGI01-1-1_54.jpg</td>\n      <td>72332788</td>\n      <td>1.0</td>\n      <td>1.00</td>\n      <td>1</td>\n      <td>1</td>\n      <td>[1]</td>\n      <td>1.0</td>\n      <td>1</td>\n      <td>1</td>\n      <td>[1]</td>\n      <td>NaN</td>\n    </tr>\n    <tr>\n      <th>3</th>\n      <td>EGI01-1-1_69.jpg</td>\n      <td>72332794</td>\n      <td>1.0</td>\n      <td>1.00</td>\n      <td>1</td>\n      <td>1</td>\n      <td>[1]</td>\n      <td>1.0</td>\n      <td>1</td>\n      <td>1</td>\n      <td>[1]</td>\n      <td>NaN</td>\n    </tr>\n    <tr>\n      <th>4</th>\n      <td>EGI01-1-2_110.jpg</td>\n      <td>72332799</td>\n      <td>12.0</td>\n      <td>12.00</td>\n      <td>12</td>\n      <td>12</td>\n      <td>[12]</td>\n      <td>12.0</td>\n      <td>1</td>\n      <td>12</td>\n      <td>[12]</td>\n      <td>1.0</td>\n    </tr>\n    <tr>\n      <th>...</th>\n      <td>...</td>\n      <td>...</td>\n      <td>...</td>\n      <td>...</td>\n      <td>...</td>\n      <td>...</td>\n      <td>...</td>\n      <td>...</td>\n      <td>...</td>\n      <td>...</td>\n      <td>...</td>\n      <td>...</td>\n    </tr>\n    <tr>\n      <th>4316</th>\n      <td>ESCG02-2_59.jpg</td>\n      <td>72373345</td>\n      <td>1.0</td>\n      <td>1.00</td>\n      <td>1</td>\n      <td>1</td>\n      <td>[1]</td>\n      <td>1.0</td>\n      <td>2</td>\n      <td>2</td>\n      <td>[1, 1]</td>\n      <td>NaN</td>\n    </tr>\n    <tr>\n      <th>4317</th>\n      <td>ESCG02-2_62.jpg</td>\n      <td>72373347</td>\n      <td>1.0</td>\n      <td>1.00</td>\n      <td>1</td>\n      <td>1</td>\n      <td>[1]</td>\n      <td>1.0</td>\n      <td>4</td>\n      <td>4</td>\n      <td>[1, 1, 1, 1]</td>\n      <td>NaN</td>\n    </tr>\n    <tr>\n      <th>4318</th>\n      <td>ESCG02-2_63.jpg</td>\n      <td>72373348</td>\n      <td>1.0</td>\n      <td>1.25</td>\n      <td>1</td>\n      <td>1</td>\n      <td>[1]</td>\n      <td>1.0</td>\n      <td>16</td>\n      <td>20</td>\n      <td>[1, 1, 1, 1, 1, 1, 1, 1, 1, 1, 1, 1, 2, 2, 2, 2]</td>\n      <td>2.0</td>\n    </tr>\n    <tr>\n      <th>4319</th>\n      <td>ESCG02-2_64.jpg</td>\n      <td>72373350</td>\n      <td>5.0</td>\n      <td>5.47</td>\n      <td>5</td>\n      <td>5</td>\n      <td>[5]</td>\n      <td>5.0</td>\n      <td>15</td>\n      <td>82</td>\n      <td>[1, 2, 3, 5, 5, 5, 5, 5, 6, 6, 7, 7, 7, 8, 10]</td>\n      <td>4.0</td>\n    </tr>\n    <tr>\n      <th>4320</th>\n      <td>ESCG02-2_65.jpg</td>\n      <td>72373351</td>\n      <td>9.0</td>\n      <td>8.50</td>\n      <td>7</td>\n      <td>10</td>\n      <td>[7, 10]</td>\n      <td>8.5</td>\n      <td>18</td>\n      <td>153</td>\n      <td>[1, 2, 5, 6, 7, 7, 7, 8, 9, 9, 10, 10, 10, 11,...</td>\n      <td>11.0</td>\n    </tr>\n  </tbody>\n</table>\n<p>4321 rows × 12 columns</p>\n</div>"
     },
     "execution_count": 19,
     "metadata": {},
     "output_type": "execute_result"
    }
   ],
   "source": [
    "# drop columns which are not interesting here\n",
    "df_comparison = df_comparison.drop([\"dbscan_noise\", \"dbscan_silouette_score\", \"eps\", \"min_samples\", \"dbscan_BIC_score\", \"with_noise\", \"bic_avg\"], axis=1, errors=\"ignore\")\n",
    "df_comparison"
   ]
  },
  {
   "cell_type": "markdown",
   "id": "15adf791099ac332",
   "metadata": {
    "collapsed": false
   },
   "source": [
    "### HDBSCAN clustering for each image\n"
   ]
  },
  {
   "cell_type": "code",
   "execution_count": 20,
   "id": "6763aed82e7088dd",
   "metadata": {
    "collapsed": false,
    "ExecuteTime": {
     "end_time": "2024-04-16T10:05:28.923465Z",
     "start_time": "2024-04-16T10:05:24.229162Z"
    }
   },
   "outputs": [],
   "source": [
    "from zooniverse.analysis import hdbscan\n",
    "\n",
    "hdbscan_values = []\n",
    "\n",
    "eps_variants = [0.0] # 0 is the default\n",
    "min_cluster_sizes = [5] # 5 is the default\n",
    "\n",
    "\n",
    "for image_name, df_image_name in df_merged_dataset.groupby(\"subject_id\"):\n",
    "    annotations_count = get_mark_overview(df_image_name)\n",
    "    \n",
    "    image_name=df_image_name.iloc[0][\"image_name\"]\n",
    "    subject_id=df_image_name.iloc[0][\"subject_id\"]\n",
    "    \n",
    "    annotations_count_stats = get_annotation_count_stats(annotations_count=annotations_count,\n",
    "                                                         image_name=image_name, \n",
    "                                                         subject_id=subject_id)\n",
    "    \n",
    "    # if less than min_cluster_sizes points are available clustering makes no sense\n",
    "    if df_image_name.shape[0] >= 5: # If num_samples is 5 for the min_cluster_size is 5 there is no point in passing data with less than 5 samples\n",
    "        params = [(eps, min_cluster_size, max_cluster_size) \n",
    "                    for eps in eps_variants\n",
    "                    for min_cluster_size in min_cluster_sizes\n",
    "                    for max_cluster_size in [None]\n",
    "              ]\n",
    "\n",
    "        df_hdbscan = hdbscan(df_marks=df_image_name[[\"x\", \"y\"]],\n",
    "                                     output_path=output_plot_path,\n",
    "                                     plot=show_plots,\n",
    "                                     show=show_plots,\n",
    "                                     image_name=image_name,\n",
    "                                     subject_id=subject_id,\n",
    "                                     params=params)\n",
    "        hdbscan_values.append(df_hdbscan)\n",
    "\n",
    "\n",
    "df_hdbscan = pd.concat(hdbscan_values)\n",
    "\n"
   ]
  },
  {
   "cell_type": "code",
   "execution_count": 21,
   "id": "5de6304addaca41d",
   "metadata": {
    "collapsed": false,
    "ExecuteTime": {
     "end_time": "2024-04-16T10:05:28.945034Z",
     "start_time": "2024-04-16T10:05:28.925238Z"
    }
   },
   "outputs": [
    {
     "data": {
      "text/plain": "           image_name  subject_id  HDBSCAN_count  eps  min_cluster_size  \\\n0   EGI01-1-2_110.jpg    72332799              1  0.0                 5   \n0   EGI01-1-2_121.jpg    72332802              1  0.0                 5   \n0   EGI01-1-2_122.jpg    72332803              3  0.0                 5   \n0    EGI01-1-2_24.jpg    72332804              1  0.0                 5   \n0    EGI01-1-2_62.jpg    72332814              1  0.0                 5   \n..                ...         ...            ...  ...               ...   \n0     ESCG02-2_53.jpg    72373336             10  0.0                 5   \n0     ESCG02-2_56.jpg    72373341              1  0.0                 5   \n0     ESCG02-2_63.jpg    72373348              1  0.0                 5   \n0     ESCG02-2_64.jpg    72373350              6  0.0                 5   \n0     ESCG02-2_65.jpg    72373351             11  0.0                 5   \n\n   max_cluster_size  noise_points  \n0              None             6  \n0              None             6  \n0              None             0  \n0              None             8  \n0              None            17  \n..              ...           ...  \n0              None             5  \n0              None             0  \n0              None            14  \n0              None            14  \n0              None             8  \n\n[2613 rows x 7 columns]",
      "text/html": "<div>\n<style scoped>\n    .dataframe tbody tr th:only-of-type {\n        vertical-align: middle;\n    }\n\n    .dataframe tbody tr th {\n        vertical-align: top;\n    }\n\n    .dataframe thead th {\n        text-align: right;\n    }\n</style>\n<table border=\"1\" class=\"dataframe\">\n  <thead>\n    <tr style=\"text-align: right;\">\n      <th></th>\n      <th>image_name</th>\n      <th>subject_id</th>\n      <th>HDBSCAN_count</th>\n      <th>eps</th>\n      <th>min_cluster_size</th>\n      <th>max_cluster_size</th>\n      <th>noise_points</th>\n    </tr>\n  </thead>\n  <tbody>\n    <tr>\n      <th>0</th>\n      <td>EGI01-1-2_110.jpg</td>\n      <td>72332799</td>\n      <td>1</td>\n      <td>0.0</td>\n      <td>5</td>\n      <td>None</td>\n      <td>6</td>\n    </tr>\n    <tr>\n      <th>0</th>\n      <td>EGI01-1-2_121.jpg</td>\n      <td>72332802</td>\n      <td>1</td>\n      <td>0.0</td>\n      <td>5</td>\n      <td>None</td>\n      <td>6</td>\n    </tr>\n    <tr>\n      <th>0</th>\n      <td>EGI01-1-2_122.jpg</td>\n      <td>72332803</td>\n      <td>3</td>\n      <td>0.0</td>\n      <td>5</td>\n      <td>None</td>\n      <td>0</td>\n    </tr>\n    <tr>\n      <th>0</th>\n      <td>EGI01-1-2_24.jpg</td>\n      <td>72332804</td>\n      <td>1</td>\n      <td>0.0</td>\n      <td>5</td>\n      <td>None</td>\n      <td>8</td>\n    </tr>\n    <tr>\n      <th>0</th>\n      <td>EGI01-1-2_62.jpg</td>\n      <td>72332814</td>\n      <td>1</td>\n      <td>0.0</td>\n      <td>5</td>\n      <td>None</td>\n      <td>17</td>\n    </tr>\n    <tr>\n      <th>...</th>\n      <td>...</td>\n      <td>...</td>\n      <td>...</td>\n      <td>...</td>\n      <td>...</td>\n      <td>...</td>\n      <td>...</td>\n    </tr>\n    <tr>\n      <th>0</th>\n      <td>ESCG02-2_53.jpg</td>\n      <td>72373336</td>\n      <td>10</td>\n      <td>0.0</td>\n      <td>5</td>\n      <td>None</td>\n      <td>5</td>\n    </tr>\n    <tr>\n      <th>0</th>\n      <td>ESCG02-2_56.jpg</td>\n      <td>72373341</td>\n      <td>1</td>\n      <td>0.0</td>\n      <td>5</td>\n      <td>None</td>\n      <td>0</td>\n    </tr>\n    <tr>\n      <th>0</th>\n      <td>ESCG02-2_63.jpg</td>\n      <td>72373348</td>\n      <td>1</td>\n      <td>0.0</td>\n      <td>5</td>\n      <td>None</td>\n      <td>14</td>\n    </tr>\n    <tr>\n      <th>0</th>\n      <td>ESCG02-2_64.jpg</td>\n      <td>72373350</td>\n      <td>6</td>\n      <td>0.0</td>\n      <td>5</td>\n      <td>None</td>\n      <td>14</td>\n    </tr>\n    <tr>\n      <th>0</th>\n      <td>ESCG02-2_65.jpg</td>\n      <td>72373351</td>\n      <td>11</td>\n      <td>0.0</td>\n      <td>5</td>\n      <td>None</td>\n      <td>8</td>\n    </tr>\n  </tbody>\n</table>\n<p>2613 rows × 7 columns</p>\n</div>"
     },
     "execution_count": 21,
     "metadata": {},
     "output_type": "execute_result"
    }
   ],
   "source": [
    "df_hdbscan.drop([\"with_noise\"], axis=1, inplace=True)\n",
    "df_hdbscan"
   ]
  },
  {
   "cell_type": "code",
   "execution_count": 22,
   "id": "563e2747f9f8a77c",
   "metadata": {
    "collapsed": false,
    "ExecuteTime": {
     "end_time": "2024-04-16T10:05:28.974975Z",
     "start_time": "2024-04-16T10:05:28.945804Z"
    }
   },
   "outputs": [
    {
     "data": {
      "text/plain": "             image_name  subject_id  median_count  mean_count  mode_min_count  \\\n0      EGI01-1-1_11.jpg    72332772           2.0        2.00               2   \n1      EGI01-1-1_19.jpg    72332775           1.0        1.00               1   \n2      EGI01-1-1_54.jpg    72332788           1.0        1.00               1   \n3      EGI01-1-1_69.jpg    72332794           1.0        1.00               1   \n4     EGI01-1-2_110.jpg    72332799          12.0       12.00              12   \n...                 ...         ...           ...         ...             ...   \n4316    ESCG02-2_59.jpg    72373345           1.0        1.00               1   \n4317    ESCG02-2_62.jpg    72373347           1.0        1.00               1   \n4318    ESCG02-2_63.jpg    72373348           1.0        1.25               1   \n4319    ESCG02-2_64.jpg    72373350           5.0        5.47               5   \n4320    ESCG02-2_65.jpg    72373351           9.0        8.50               7   \n\n      mode_max_count mode_count  mode_count_avg  users  sum_annotations_count  \\\n0                  2        [2]             2.0      1                      2   \n1                  1        [1]             1.0      1                      1   \n2                  1        [1]             1.0      1                      1   \n3                  1        [1]             1.0      1                      1   \n4                 12       [12]            12.0      1                     12   \n...              ...        ...             ...    ...                    ...   \n4316               1        [1]             1.0      2                      2   \n4317               1        [1]             1.0      4                      4   \n4318               1        [1]             1.0     16                     20   \n4319               5        [5]             5.0     15                     82   \n4320              10    [7, 10]             8.5     18                    153   \n\n                                      annotations_count  dbscan_count_sil  \\\n0                                                   [2]               0.0   \n1                                                   [1]               0.0   \n2                                                   [1]               0.0   \n3                                                   [1]               0.0   \n4                                                  [12]               1.0   \n...                                                 ...               ...   \n4316                                             [1, 1]               0.0   \n4317                                       [1, 1, 1, 1]               0.0   \n4318   [1, 1, 1, 1, 1, 1, 1, 1, 1, 1, 1, 1, 2, 2, 2, 2]               2.0   \n4319     [1, 2, 3, 5, 5, 5, 5, 5, 6, 6, 7, 7, 7, 8, 10]               4.0   \n4320  [1, 2, 5, 6, 7, 7, 7, 8, 9, 9, 10, 10, 10, 11,...              11.0   \n\n      HDBSCAN_count  eps  min_cluster_size  max_cluster_size  noise_points  \n0               0.0  0.0               0.0                 0           0.0  \n1               0.0  0.0               0.0                 0           0.0  \n2               0.0  0.0               0.0                 0           0.0  \n3               0.0  0.0               0.0                 0           0.0  \n4               1.0  0.0               5.0                 0           6.0  \n...             ...  ...               ...               ...           ...  \n4316            0.0  0.0               0.0                 0           0.0  \n4317            0.0  0.0               0.0                 0           0.0  \n4318            1.0  0.0               5.0                 0          14.0  \n4319            6.0  0.0               5.0                 0          14.0  \n4320           11.0  0.0               5.0                 0           8.0  \n\n[4321 rows x 17 columns]",
      "text/html": "<div>\n<style scoped>\n    .dataframe tbody tr th:only-of-type {\n        vertical-align: middle;\n    }\n\n    .dataframe tbody tr th {\n        vertical-align: top;\n    }\n\n    .dataframe thead th {\n        text-align: right;\n    }\n</style>\n<table border=\"1\" class=\"dataframe\">\n  <thead>\n    <tr style=\"text-align: right;\">\n      <th></th>\n      <th>image_name</th>\n      <th>subject_id</th>\n      <th>median_count</th>\n      <th>mean_count</th>\n      <th>mode_min_count</th>\n      <th>mode_max_count</th>\n      <th>mode_count</th>\n      <th>mode_count_avg</th>\n      <th>users</th>\n      <th>sum_annotations_count</th>\n      <th>annotations_count</th>\n      <th>dbscan_count_sil</th>\n      <th>HDBSCAN_count</th>\n      <th>eps</th>\n      <th>min_cluster_size</th>\n      <th>max_cluster_size</th>\n      <th>noise_points</th>\n    </tr>\n  </thead>\n  <tbody>\n    <tr>\n      <th>0</th>\n      <td>EGI01-1-1_11.jpg</td>\n      <td>72332772</td>\n      <td>2.0</td>\n      <td>2.00</td>\n      <td>2</td>\n      <td>2</td>\n      <td>[2]</td>\n      <td>2.0</td>\n      <td>1</td>\n      <td>2</td>\n      <td>[2]</td>\n      <td>0.0</td>\n      <td>0.0</td>\n      <td>0.0</td>\n      <td>0.0</td>\n      <td>0</td>\n      <td>0.0</td>\n    </tr>\n    <tr>\n      <th>1</th>\n      <td>EGI01-1-1_19.jpg</td>\n      <td>72332775</td>\n      <td>1.0</td>\n      <td>1.00</td>\n      <td>1</td>\n      <td>1</td>\n      <td>[1]</td>\n      <td>1.0</td>\n      <td>1</td>\n      <td>1</td>\n      <td>[1]</td>\n      <td>0.0</td>\n      <td>0.0</td>\n      <td>0.0</td>\n      <td>0.0</td>\n      <td>0</td>\n      <td>0.0</td>\n    </tr>\n    <tr>\n      <th>2</th>\n      <td>EGI01-1-1_54.jpg</td>\n      <td>72332788</td>\n      <td>1.0</td>\n      <td>1.00</td>\n      <td>1</td>\n      <td>1</td>\n      <td>[1]</td>\n      <td>1.0</td>\n      <td>1</td>\n      <td>1</td>\n      <td>[1]</td>\n      <td>0.0</td>\n      <td>0.0</td>\n      <td>0.0</td>\n      <td>0.0</td>\n      <td>0</td>\n      <td>0.0</td>\n    </tr>\n    <tr>\n      <th>3</th>\n      <td>EGI01-1-1_69.jpg</td>\n      <td>72332794</td>\n      <td>1.0</td>\n      <td>1.00</td>\n      <td>1</td>\n      <td>1</td>\n      <td>[1]</td>\n      <td>1.0</td>\n      <td>1</td>\n      <td>1</td>\n      <td>[1]</td>\n      <td>0.0</td>\n      <td>0.0</td>\n      <td>0.0</td>\n      <td>0.0</td>\n      <td>0</td>\n      <td>0.0</td>\n    </tr>\n    <tr>\n      <th>4</th>\n      <td>EGI01-1-2_110.jpg</td>\n      <td>72332799</td>\n      <td>12.0</td>\n      <td>12.00</td>\n      <td>12</td>\n      <td>12</td>\n      <td>[12]</td>\n      <td>12.0</td>\n      <td>1</td>\n      <td>12</td>\n      <td>[12]</td>\n      <td>1.0</td>\n      <td>1.0</td>\n      <td>0.0</td>\n      <td>5.0</td>\n      <td>0</td>\n      <td>6.0</td>\n    </tr>\n    <tr>\n      <th>...</th>\n      <td>...</td>\n      <td>...</td>\n      <td>...</td>\n      <td>...</td>\n      <td>...</td>\n      <td>...</td>\n      <td>...</td>\n      <td>...</td>\n      <td>...</td>\n      <td>...</td>\n      <td>...</td>\n      <td>...</td>\n      <td>...</td>\n      <td>...</td>\n      <td>...</td>\n      <td>...</td>\n      <td>...</td>\n    </tr>\n    <tr>\n      <th>4316</th>\n      <td>ESCG02-2_59.jpg</td>\n      <td>72373345</td>\n      <td>1.0</td>\n      <td>1.00</td>\n      <td>1</td>\n      <td>1</td>\n      <td>[1]</td>\n      <td>1.0</td>\n      <td>2</td>\n      <td>2</td>\n      <td>[1, 1]</td>\n      <td>0.0</td>\n      <td>0.0</td>\n      <td>0.0</td>\n      <td>0.0</td>\n      <td>0</td>\n      <td>0.0</td>\n    </tr>\n    <tr>\n      <th>4317</th>\n      <td>ESCG02-2_62.jpg</td>\n      <td>72373347</td>\n      <td>1.0</td>\n      <td>1.00</td>\n      <td>1</td>\n      <td>1</td>\n      <td>[1]</td>\n      <td>1.0</td>\n      <td>4</td>\n      <td>4</td>\n      <td>[1, 1, 1, 1]</td>\n      <td>0.0</td>\n      <td>0.0</td>\n      <td>0.0</td>\n      <td>0.0</td>\n      <td>0</td>\n      <td>0.0</td>\n    </tr>\n    <tr>\n      <th>4318</th>\n      <td>ESCG02-2_63.jpg</td>\n      <td>72373348</td>\n      <td>1.0</td>\n      <td>1.25</td>\n      <td>1</td>\n      <td>1</td>\n      <td>[1]</td>\n      <td>1.0</td>\n      <td>16</td>\n      <td>20</td>\n      <td>[1, 1, 1, 1, 1, 1, 1, 1, 1, 1, 1, 1, 2, 2, 2, 2]</td>\n      <td>2.0</td>\n      <td>1.0</td>\n      <td>0.0</td>\n      <td>5.0</td>\n      <td>0</td>\n      <td>14.0</td>\n    </tr>\n    <tr>\n      <th>4319</th>\n      <td>ESCG02-2_64.jpg</td>\n      <td>72373350</td>\n      <td>5.0</td>\n      <td>5.47</td>\n      <td>5</td>\n      <td>5</td>\n      <td>[5]</td>\n      <td>5.0</td>\n      <td>15</td>\n      <td>82</td>\n      <td>[1, 2, 3, 5, 5, 5, 5, 5, 6, 6, 7, 7, 7, 8, 10]</td>\n      <td>4.0</td>\n      <td>6.0</td>\n      <td>0.0</td>\n      <td>5.0</td>\n      <td>0</td>\n      <td>14.0</td>\n    </tr>\n    <tr>\n      <th>4320</th>\n      <td>ESCG02-2_65.jpg</td>\n      <td>72373351</td>\n      <td>9.0</td>\n      <td>8.50</td>\n      <td>7</td>\n      <td>10</td>\n      <td>[7, 10]</td>\n      <td>8.5</td>\n      <td>18</td>\n      <td>153</td>\n      <td>[1, 2, 5, 6, 7, 7, 7, 8, 9, 9, 10, 10, 10, 11,...</td>\n      <td>11.0</td>\n      <td>11.0</td>\n      <td>0.0</td>\n      <td>5.0</td>\n      <td>0</td>\n      <td>8.0</td>\n    </tr>\n  </tbody>\n</table>\n<p>4321 rows × 17 columns</p>\n</div>"
     },
     "execution_count": 22,
     "metadata": {},
     "output_type": "execute_result"
    }
   ],
   "source": [
    "## Statistics for all images\n",
    "df_comparison = df_comparison.merge(df_hdbscan.drop([\"image_name\"], axis=1), on=['subject_id'], how='left')\n",
    "df_comparison.fillna(0, inplace=True)\n",
    "df_comparison"
   ]
  },
  {
   "cell_type": "code",
   "execution_count": 23,
   "id": "c06aa84a3cef1155",
   "metadata": {
    "collapsed": false,
    "ExecuteTime": {
     "end_time": "2024-04-16T10:05:29.000732Z",
     "start_time": "2024-04-16T10:05:28.975727Z"
    }
   },
   "outputs": [
    {
     "data": {
      "text/plain": "      subject_id  data.no  data.yes\n0       72332768     22.0       0.0\n1       72332769     21.0       0.0\n2       72332770     21.0       0.0\n3       72332771     20.0       1.0\n4       72332772     21.0       2.0\n...          ...      ...       ...\n9092    72373345     19.0       2.0\n9093    72373347     18.0       4.0\n9094    72373348      5.0      16.0\n9095    72373350      6.0      15.0\n9096    72373351      4.0      18.0\n\n[9097 rows x 3 columns]",
      "text/html": "<div>\n<style scoped>\n    .dataframe tbody tr th:only-of-type {\n        vertical-align: middle;\n    }\n\n    .dataframe tbody tr th {\n        vertical-align: top;\n    }\n\n    .dataframe thead th {\n        text-align: right;\n    }\n</style>\n<table border=\"1\" class=\"dataframe\">\n  <thead>\n    <tr style=\"text-align: right;\">\n      <th></th>\n      <th>subject_id</th>\n      <th>data.no</th>\n      <th>data.yes</th>\n    </tr>\n  </thead>\n  <tbody>\n    <tr>\n      <th>0</th>\n      <td>72332768</td>\n      <td>22.0</td>\n      <td>0.0</td>\n    </tr>\n    <tr>\n      <th>1</th>\n      <td>72332769</td>\n      <td>21.0</td>\n      <td>0.0</td>\n    </tr>\n    <tr>\n      <th>2</th>\n      <td>72332770</td>\n      <td>21.0</td>\n      <td>0.0</td>\n    </tr>\n    <tr>\n      <th>3</th>\n      <td>72332771</td>\n      <td>20.0</td>\n      <td>1.0</td>\n    </tr>\n    <tr>\n      <th>4</th>\n      <td>72332772</td>\n      <td>21.0</td>\n      <td>2.0</td>\n    </tr>\n    <tr>\n      <th>...</th>\n      <td>...</td>\n      <td>...</td>\n      <td>...</td>\n    </tr>\n    <tr>\n      <th>9092</th>\n      <td>72373345</td>\n      <td>19.0</td>\n      <td>2.0</td>\n    </tr>\n    <tr>\n      <th>9093</th>\n      <td>72373347</td>\n      <td>18.0</td>\n      <td>4.0</td>\n    </tr>\n    <tr>\n      <th>9094</th>\n      <td>72373348</td>\n      <td>5.0</td>\n      <td>16.0</td>\n    </tr>\n    <tr>\n      <th>9095</th>\n      <td>72373350</td>\n      <td>6.0</td>\n      <td>15.0</td>\n    </tr>\n    <tr>\n      <th>9096</th>\n      <td>72373351</td>\n      <td>4.0</td>\n      <td>18.0</td>\n    </tr>\n  </tbody>\n</table>\n<p>9097 rows × 3 columns</p>\n</div>"
     },
     "execution_count": 23,
     "metadata": {},
     "output_type": "execute_result"
    }
   ],
   "source": [
    "df_panoptes_question = pd.read_csv(config[\"panoptes_question\"])\n",
    "df_panoptes_question"
   ]
  },
  {
   "cell_type": "code",
   "execution_count": 24,
   "id": "bd5b4be03b3480d5",
   "metadata": {
    "collapsed": false,
    "ExecuteTime": {
     "end_time": "2024-04-16T10:05:29.044598Z",
     "start_time": "2024-04-16T10:05:29.002106Z"
    }
   },
   "outputs": [
    {
     "name": "stdout",
     "output_type": "stream",
     "text": [
      "saved /Users/christian/data/zooniverse/2024_04_16_analysis/Iguanas 2nd launch/Iguanas 2nd launch_method_comparison.csv\n"
     ]
    }
   ],
   "source": [
    "df_comparison.to_csv(config[\"comparison_dataset\"])\n",
    "print(f\"saved {config['comparison_dataset']}\")"
   ]
  },
  {
   "cell_type": "markdown",
   "id": "1b03742f30138251",
   "metadata": {
    "collapsed": false
   },
   "source": [
    "## Join the Expert Dataset for comparison\n",
    "This dataset contains total_counts found by experts. "
   ]
  },
  {
   "cell_type": "code",
   "execution_count": 34,
   "id": "58c41e9cf89044df",
   "metadata": {
    "collapsed": false,
    "ExecuteTime": {
     "end_time": "2024-04-16T10:06:27.066609Z",
     "start_time": "2024-04-16T10:06:27.023012Z"
    }
   },
   "outputs": [
    {
     "data": {
      "text/plain": "              subspecies    island      site_name  subject_group  \\\n179  A. c. venustissimus  Española  South Coast G  South Coast G   \n\n          image_name  subject_id presence_absence  count_male-lek  \\\n179  ESCG02-1_19.jpg    72373250                Y               2   \n\n     count_male-no-lek  count_others  count_partial  count_total quality  \\\n179                  4            29              2           35    Good   \n\n    condition                                            comment  \n179   Visible  Three iguanas only Andres sees; concenso 35 ig...  ",
      "text/html": "<div>\n<style scoped>\n    .dataframe tbody tr th:only-of-type {\n        vertical-align: middle;\n    }\n\n    .dataframe tbody tr th {\n        vertical-align: top;\n    }\n\n    .dataframe thead th {\n        text-align: right;\n    }\n</style>\n<table border=\"1\" class=\"dataframe\">\n  <thead>\n    <tr style=\"text-align: right;\">\n      <th></th>\n      <th>subspecies</th>\n      <th>island</th>\n      <th>site_name</th>\n      <th>subject_group</th>\n      <th>image_name</th>\n      <th>subject_id</th>\n      <th>presence_absence</th>\n      <th>count_male-lek</th>\n      <th>count_male-no-lek</th>\n      <th>count_others</th>\n      <th>count_partial</th>\n      <th>count_total</th>\n      <th>quality</th>\n      <th>condition</th>\n      <th>comment</th>\n    </tr>\n  </thead>\n  <tbody>\n    <tr>\n      <th>179</th>\n      <td>A. c. venustissimus</td>\n      <td>Española</td>\n      <td>South Coast G</td>\n      <td>South Coast G</td>\n      <td>ESCG02-1_19.jpg</td>\n      <td>72373250</td>\n      <td>Y</td>\n      <td>2</td>\n      <td>4</td>\n      <td>29</td>\n      <td>2</td>\n      <td>35</td>\n      <td>Good</td>\n      <td>Visible</td>\n      <td>Three iguanas only Andres sees; concenso 35 ig...</td>\n    </tr>\n  </tbody>\n</table>\n</div>"
     },
     "execution_count": 34,
     "metadata": {},
     "output_type": "execute_result"
    }
   ],
   "source": [
    "df_expert_count = pd.read_csv(config[\"goldstandard_data\"], sep=\";\")\n",
    "# check what is in there\n",
    "df_expert_count[df_expert_count.image_name == \"ESCG02-1_19.jpg\"]"
   ]
  },
  {
   "cell_type": "code",
   "execution_count": 26,
   "id": "99bc381a6542d035",
   "metadata": {
    "collapsed": false,
    "ExecuteTime": {
     "end_time": "2024-04-16T10:05:29.109616Z",
     "start_time": "2024-04-16T10:05:29.074697Z"
    }
   },
   "outputs": [
    {
     "data": {
      "text/plain": "         site_name  subject_group         image_name  subject_id  count_total  \\\n179  South Coast G  South Coast G    ESCG02-1_19.jpg    72373250           35   \n1    Gardner Islet  Gardner Islet  EGI01-1-2_121.jpg    72332802            0   \n356  South Coast E  South Coast E  FSCE-1.1-2_50.jpg    72340402            0   \n296    Punta Ayora    Punta Ayora      FPA04_151.jpg    72339662           24   \n205  South Coast H  South Coast H   ESCH02-1_112.jpg    72337968           20   \n..             ...            ...                ...         ...          ...   \n239        Montura        Montura    FMO02-2_157.jpg    72338536            0   \n245        Montura        Montura     FMO04-1_37.jpg    72338729            0   \n246        Montura        Montura     FMO04-1_53.jpg    72338735            0   \n247        Montura        Montura     FMO04-1_54.jpg    72338736            0   \n228        Montura        Montura       FMO01_36.jpg    72338335            0   \n\n     median_count  mean_count  mode_min_count  mode_max_count  \\\n179          30.5       29.90            29.0            35.0   \n1            27.0       27.00            27.0            27.0   \n356          26.0       26.00            26.0            26.0   \n296          22.0       19.32            24.0            24.0   \n205          17.5       17.40            14.0            21.0   \n..            ...         ...             ...             ...   \n239           0.0        0.00             0.0             0.0   \n245           0.0        0.00             0.0             0.0   \n246           0.0        0.00             0.0             0.0   \n247           0.0        0.00             0.0             0.0   \n228           0.0        0.00             0.0             0.0   \n\n           mode_count  mode_count_avg  users  sum_annotations_count  \\\n179  [29, 30, 31, 35]       31.250000   20.0                  598.0   \n1                [27]       27.000000    1.0                   27.0   \n356              [26]       26.000000    1.0                   26.0   \n296              [24]       24.000000   19.0                  367.0   \n205      [14, 20, 21]       18.333333   20.0                  348.0   \n..                ...             ...    ...                    ...   \n239                 0        0.000000    0.0                    0.0   \n245                 0        0.000000    0.0                    0.0   \n246                 0        0.000000    0.0                    0.0   \n247                 0        0.000000    0.0                    0.0   \n228                 0        0.000000    0.0                    0.0   \n\n                                     annotations_count  dbscan_count_sil  \\\n179  [1, 14, 21, 23, 26, 28, 29, 29, 30, 30, 31, 31...              28.0   \n1                                                 [27]               5.0   \n356                                               [26]               3.0   \n296  [2, 4, 12, 13, 15, 16, 21, 21, 22, 22, 23, 23,...              25.0   \n205  [11, 12, 14, 14, 14, 14, 16, 16, 16, 17, 18, 2...              18.0   \n..                                                 ...               ...   \n239                                                NaN               0.0   \n245                                                NaN               0.0   \n246                                                NaN               0.0   \n247                                                NaN               0.0   \n228                                                NaN               0.0   \n\n     HDBSCAN_count  eps  min_cluster_size  max_cluster_size  noise_points  \n179           33.0  0.0               5.0               0.0          33.0  \n1              1.0  0.0               5.0               0.0           6.0  \n356            1.0  0.0               5.0               0.0           7.0  \n296           25.0  0.0               5.0               0.0          15.0  \n205           20.0  0.0               5.0               0.0          18.0  \n..             ...  ...               ...               ...           ...  \n239            0.0  NaN               NaN               NaN           NaN  \n245            0.0  NaN               NaN               NaN           NaN  \n246            0.0  NaN               NaN               NaN           NaN  \n247            0.0  NaN               NaN               NaN           NaN  \n228            0.0  NaN               NaN               NaN           NaN  \n\n[456 rows x 20 columns]",
      "text/html": "<div>\n<style scoped>\n    .dataframe tbody tr th:only-of-type {\n        vertical-align: middle;\n    }\n\n    .dataframe tbody tr th {\n        vertical-align: top;\n    }\n\n    .dataframe thead th {\n        text-align: right;\n    }\n</style>\n<table border=\"1\" class=\"dataframe\">\n  <thead>\n    <tr style=\"text-align: right;\">\n      <th></th>\n      <th>site_name</th>\n      <th>subject_group</th>\n      <th>image_name</th>\n      <th>subject_id</th>\n      <th>count_total</th>\n      <th>median_count</th>\n      <th>mean_count</th>\n      <th>mode_min_count</th>\n      <th>mode_max_count</th>\n      <th>mode_count</th>\n      <th>mode_count_avg</th>\n      <th>users</th>\n      <th>sum_annotations_count</th>\n      <th>annotations_count</th>\n      <th>dbscan_count_sil</th>\n      <th>HDBSCAN_count</th>\n      <th>eps</th>\n      <th>min_cluster_size</th>\n      <th>max_cluster_size</th>\n      <th>noise_points</th>\n    </tr>\n  </thead>\n  <tbody>\n    <tr>\n      <th>179</th>\n      <td>South Coast G</td>\n      <td>South Coast G</td>\n      <td>ESCG02-1_19.jpg</td>\n      <td>72373250</td>\n      <td>35</td>\n      <td>30.5</td>\n      <td>29.90</td>\n      <td>29.0</td>\n      <td>35.0</td>\n      <td>[29, 30, 31, 35]</td>\n      <td>31.250000</td>\n      <td>20.0</td>\n      <td>598.0</td>\n      <td>[1, 14, 21, 23, 26, 28, 29, 29, 30, 30, 31, 31...</td>\n      <td>28.0</td>\n      <td>33.0</td>\n      <td>0.0</td>\n      <td>5.0</td>\n      <td>0.0</td>\n      <td>33.0</td>\n    </tr>\n    <tr>\n      <th>1</th>\n      <td>Gardner Islet</td>\n      <td>Gardner Islet</td>\n      <td>EGI01-1-2_121.jpg</td>\n      <td>72332802</td>\n      <td>0</td>\n      <td>27.0</td>\n      <td>27.00</td>\n      <td>27.0</td>\n      <td>27.0</td>\n      <td>[27]</td>\n      <td>27.000000</td>\n      <td>1.0</td>\n      <td>27.0</td>\n      <td>[27]</td>\n      <td>5.0</td>\n      <td>1.0</td>\n      <td>0.0</td>\n      <td>5.0</td>\n      <td>0.0</td>\n      <td>6.0</td>\n    </tr>\n    <tr>\n      <th>356</th>\n      <td>South Coast E</td>\n      <td>South Coast E</td>\n      <td>FSCE-1.1-2_50.jpg</td>\n      <td>72340402</td>\n      <td>0</td>\n      <td>26.0</td>\n      <td>26.00</td>\n      <td>26.0</td>\n      <td>26.0</td>\n      <td>[26]</td>\n      <td>26.000000</td>\n      <td>1.0</td>\n      <td>26.0</td>\n      <td>[26]</td>\n      <td>3.0</td>\n      <td>1.0</td>\n      <td>0.0</td>\n      <td>5.0</td>\n      <td>0.0</td>\n      <td>7.0</td>\n    </tr>\n    <tr>\n      <th>296</th>\n      <td>Punta Ayora</td>\n      <td>Punta Ayora</td>\n      <td>FPA04_151.jpg</td>\n      <td>72339662</td>\n      <td>24</td>\n      <td>22.0</td>\n      <td>19.32</td>\n      <td>24.0</td>\n      <td>24.0</td>\n      <td>[24]</td>\n      <td>24.000000</td>\n      <td>19.0</td>\n      <td>367.0</td>\n      <td>[2, 4, 12, 13, 15, 16, 21, 21, 22, 22, 23, 23,...</td>\n      <td>25.0</td>\n      <td>25.0</td>\n      <td>0.0</td>\n      <td>5.0</td>\n      <td>0.0</td>\n      <td>15.0</td>\n    </tr>\n    <tr>\n      <th>205</th>\n      <td>South Coast H</td>\n      <td>South Coast H</td>\n      <td>ESCH02-1_112.jpg</td>\n      <td>72337968</td>\n      <td>20</td>\n      <td>17.5</td>\n      <td>17.40</td>\n      <td>14.0</td>\n      <td>21.0</td>\n      <td>[14, 20, 21]</td>\n      <td>18.333333</td>\n      <td>20.0</td>\n      <td>348.0</td>\n      <td>[11, 12, 14, 14, 14, 14, 16, 16, 16, 17, 18, 2...</td>\n      <td>18.0</td>\n      <td>20.0</td>\n      <td>0.0</td>\n      <td>5.0</td>\n      <td>0.0</td>\n      <td>18.0</td>\n    </tr>\n    <tr>\n      <th>...</th>\n      <td>...</td>\n      <td>...</td>\n      <td>...</td>\n      <td>...</td>\n      <td>...</td>\n      <td>...</td>\n      <td>...</td>\n      <td>...</td>\n      <td>...</td>\n      <td>...</td>\n      <td>...</td>\n      <td>...</td>\n      <td>...</td>\n      <td>...</td>\n      <td>...</td>\n      <td>...</td>\n      <td>...</td>\n      <td>...</td>\n      <td>...</td>\n      <td>...</td>\n    </tr>\n    <tr>\n      <th>239</th>\n      <td>Montura</td>\n      <td>Montura</td>\n      <td>FMO02-2_157.jpg</td>\n      <td>72338536</td>\n      <td>0</td>\n      <td>0.0</td>\n      <td>0.00</td>\n      <td>0.0</td>\n      <td>0.0</td>\n      <td>0</td>\n      <td>0.000000</td>\n      <td>0.0</td>\n      <td>0.0</td>\n      <td>NaN</td>\n      <td>0.0</td>\n      <td>0.0</td>\n      <td>NaN</td>\n      <td>NaN</td>\n      <td>NaN</td>\n      <td>NaN</td>\n    </tr>\n    <tr>\n      <th>245</th>\n      <td>Montura</td>\n      <td>Montura</td>\n      <td>FMO04-1_37.jpg</td>\n      <td>72338729</td>\n      <td>0</td>\n      <td>0.0</td>\n      <td>0.00</td>\n      <td>0.0</td>\n      <td>0.0</td>\n      <td>0</td>\n      <td>0.000000</td>\n      <td>0.0</td>\n      <td>0.0</td>\n      <td>NaN</td>\n      <td>0.0</td>\n      <td>0.0</td>\n      <td>NaN</td>\n      <td>NaN</td>\n      <td>NaN</td>\n      <td>NaN</td>\n    </tr>\n    <tr>\n      <th>246</th>\n      <td>Montura</td>\n      <td>Montura</td>\n      <td>FMO04-1_53.jpg</td>\n      <td>72338735</td>\n      <td>0</td>\n      <td>0.0</td>\n      <td>0.00</td>\n      <td>0.0</td>\n      <td>0.0</td>\n      <td>0</td>\n      <td>0.000000</td>\n      <td>0.0</td>\n      <td>0.0</td>\n      <td>NaN</td>\n      <td>0.0</td>\n      <td>0.0</td>\n      <td>NaN</td>\n      <td>NaN</td>\n      <td>NaN</td>\n      <td>NaN</td>\n    </tr>\n    <tr>\n      <th>247</th>\n      <td>Montura</td>\n      <td>Montura</td>\n      <td>FMO04-1_54.jpg</td>\n      <td>72338736</td>\n      <td>0</td>\n      <td>0.0</td>\n      <td>0.00</td>\n      <td>0.0</td>\n      <td>0.0</td>\n      <td>0</td>\n      <td>0.000000</td>\n      <td>0.0</td>\n      <td>0.0</td>\n      <td>NaN</td>\n      <td>0.0</td>\n      <td>0.0</td>\n      <td>NaN</td>\n      <td>NaN</td>\n      <td>NaN</td>\n      <td>NaN</td>\n    </tr>\n    <tr>\n      <th>228</th>\n      <td>Montura</td>\n      <td>Montura</td>\n      <td>FMO01_36.jpg</td>\n      <td>72338335</td>\n      <td>0</td>\n      <td>0.0</td>\n      <td>0.00</td>\n      <td>0.0</td>\n      <td>0.0</td>\n      <td>0</td>\n      <td>0.000000</td>\n      <td>0.0</td>\n      <td>0.0</td>\n      <td>NaN</td>\n      <td>0.0</td>\n      <td>0.0</td>\n      <td>NaN</td>\n      <td>NaN</td>\n      <td>NaN</td>\n      <td>NaN</td>\n    </tr>\n  </tbody>\n</table>\n<p>456 rows × 20 columns</p>\n</div>"
     },
     "execution_count": 26,
     "metadata": {},
     "output_type": "execute_result"
    }
   ],
   "source": [
    "## join the gold standard data to the basic stats\n",
    "df_comparison_expert = df_expert_count[[\"site_name\", \"subject_group\", \"image_name\", \"subject_id\", \"count_total\"]].merge(df_comparison.drop([\"image_name\"], axis=1), on='subject_id', how='left')\n",
    "\n",
    "columns_to_fill = ['median_count', 'mean_count', 'mode_min_count', 'mode_max_count',\n",
    "       'mode_count', 'mode_count_avg', 'users', 'sum_annotations_count',\n",
    "        'dbscan_count_sil', 'HDBSCAN_count']\n",
    "df_comparison_expert[columns_to_fill] = df_comparison_expert[columns_to_fill].fillna(0)\n",
    "\n",
    "df_comparison_expert.sort_values(by=\"median_count\", ascending=False)"
   ]
  },
  {
   "cell_type": "code",
   "execution_count": 27,
   "id": "6e1dc7892a535ec9",
   "metadata": {
    "collapsed": false,
    "ExecuteTime": {
     "end_time": "2024-04-16T10:05:29.132166Z",
     "start_time": "2024-04-16T10:05:29.110519Z"
    }
   },
   "outputs": [
    {
     "name": "stdout",
     "output_type": "stream",
     "text": [
      "df_comparison_expert: /Users/christian/data/zooniverse/2024_04_16_analysis/Iguanas 2nd launch/Iguanas 2nd launch_method_comparison_expert.csv\n"
     ]
    }
   ],
   "source": [
    "print(f\"df_comparison_expert: {config['comparison_dataset_expert']}\")\n",
    "df_comparison_expert.to_csv(config[\"comparison_dataset_expert\"])"
   ]
  },
  {
   "cell_type": "code",
   "execution_count": 28,
   "id": "fcb14b5d4cf4e1f0",
   "metadata": {
    "collapsed": false,
    "ExecuteTime": {
     "end_time": "2024-04-16T10:05:29.161907Z",
     "start_time": "2024-04-16T10:05:29.133085Z"
    }
   },
   "outputs": [
    {
     "data": {
      "text/plain": "         site_name  subject_group         image_name  subject_id  count_total  \\\n0    Gardner Islet  Gardner Islet  EGI01-1-2_120.jpg    72332801            0   \n1    Gardner Islet  Gardner Islet  EGI01-1-2_121.jpg    72332802            0   \n2    Gardner Islet  Gardner Islet  EGI01-2-2_116.jpg    72332876            0   \n3    Gardner Islet  Gardner Islet    EGI02-2_114.jpg    72332972            0   \n4    Gardner Islet  Gardner Islet     EGI02-2_36.jpg    72332999            0   \n..             ...            ...                ...         ...          ...   \n451  South Coast J  South Coast J   FSCJ02-2_243.jpg    72341576            3   \n452  South Coast J  South Coast J   FSCJ02-2_251.jpg    72341585            1   \n453  South Coast J  South Coast J   FSCJ02-2_269.jpg    72341593            5   \n454  South Coast J  South Coast J    FSCJ02-2_59.jpg    72341609            0   \n455  South Coast J  South Coast J    FSCJ02-2_93.jpg    72341627            1   \n\n     median_count  mean_count  mode_min_count  mode_max_count mode_count  ...  \\\n0             0.0        0.00             0.0             0.0          0  ...   \n1            27.0       27.00            27.0            27.0       [27]  ...   \n2             0.0        0.00             0.0             0.0          0  ...   \n3             0.0        0.00             0.0             0.0          0  ...   \n4             1.0        1.00             1.0             1.0        [1]  ...   \n..            ...         ...             ...             ...        ...  ...   \n451           1.0        1.53             1.0             1.0        [1]  ...   \n452           0.0        0.00             0.0             0.0          0  ...   \n453           4.0        5.05             4.0             5.0     [4, 5]  ...   \n454           0.0        0.00             0.0             0.0          0  ...   \n455           1.0        1.05             1.0             1.0        [1]  ...   \n\n     sum_annotations_count                                  annotations_count  \\\n0                      0.0                                                NaN   \n1                     27.0                                               [27]   \n2                      0.0                                                NaN   \n3                      0.0                                                NaN   \n4                      1.0                                                [1]   \n..                     ...                                                ...   \n451                   23.0      [1, 1, 1, 1, 1, 1, 1, 1, 1, 2, 2, 2, 2, 2, 4]   \n452                    0.0                                                NaN   \n453                   96.0  [2, 2, 2, 3, 3, 3, 4, 4, 4, 4, 5, 5, 5, 5, 6, ...   \n454                    0.0                                                NaN   \n455                   22.0  [1, 1, 1, 1, 1, 1, 1, 1, 1, 1, 1, 1, 1, 1, 1, ...   \n\n     dbscan_count_sil HDBSCAN_count  eps  min_cluster_size  max_cluster_size  \\\n0                 0.0           0.0  NaN               NaN               NaN   \n1                 5.0           1.0  0.0               5.0               0.0   \n2                 0.0           0.0  NaN               NaN               NaN   \n3                 0.0           0.0  NaN               NaN               NaN   \n4                 0.0           0.0  0.0               0.0               0.0   \n..                ...           ...  ...               ...               ...   \n451               2.0           2.0  0.0               5.0               0.0   \n452               0.0           0.0  NaN               NaN               NaN   \n453               7.0           7.0  0.0               5.0               0.0   \n454               0.0           0.0  NaN               NaN               NaN   \n455               2.0           1.0  0.0               5.0               0.0   \n\n     noise_points  data.no  data.yes  \n0             NaN     23.0       0.0  \n1             6.0     19.0       1.0  \n2             NaN     21.0       0.0  \n3             NaN     21.0       0.0  \n4             0.0     20.0       1.0  \n..            ...      ...       ...  \n451           2.0      6.0      15.0  \n452           NaN     21.0       0.0  \n453          10.0      3.0      19.0  \n454           NaN     22.0       0.0  \n455          17.0      0.0      22.0  \n\n[456 rows x 22 columns]",
      "text/html": "<div>\n<style scoped>\n    .dataframe tbody tr th:only-of-type {\n        vertical-align: middle;\n    }\n\n    .dataframe tbody tr th {\n        vertical-align: top;\n    }\n\n    .dataframe thead th {\n        text-align: right;\n    }\n</style>\n<table border=\"1\" class=\"dataframe\">\n  <thead>\n    <tr style=\"text-align: right;\">\n      <th></th>\n      <th>site_name</th>\n      <th>subject_group</th>\n      <th>image_name</th>\n      <th>subject_id</th>\n      <th>count_total</th>\n      <th>median_count</th>\n      <th>mean_count</th>\n      <th>mode_min_count</th>\n      <th>mode_max_count</th>\n      <th>mode_count</th>\n      <th>...</th>\n      <th>sum_annotations_count</th>\n      <th>annotations_count</th>\n      <th>dbscan_count_sil</th>\n      <th>HDBSCAN_count</th>\n      <th>eps</th>\n      <th>min_cluster_size</th>\n      <th>max_cluster_size</th>\n      <th>noise_points</th>\n      <th>data.no</th>\n      <th>data.yes</th>\n    </tr>\n  </thead>\n  <tbody>\n    <tr>\n      <th>0</th>\n      <td>Gardner Islet</td>\n      <td>Gardner Islet</td>\n      <td>EGI01-1-2_120.jpg</td>\n      <td>72332801</td>\n      <td>0</td>\n      <td>0.0</td>\n      <td>0.00</td>\n      <td>0.0</td>\n      <td>0.0</td>\n      <td>0</td>\n      <td>...</td>\n      <td>0.0</td>\n      <td>NaN</td>\n      <td>0.0</td>\n      <td>0.0</td>\n      <td>NaN</td>\n      <td>NaN</td>\n      <td>NaN</td>\n      <td>NaN</td>\n      <td>23.0</td>\n      <td>0.0</td>\n    </tr>\n    <tr>\n      <th>1</th>\n      <td>Gardner Islet</td>\n      <td>Gardner Islet</td>\n      <td>EGI01-1-2_121.jpg</td>\n      <td>72332802</td>\n      <td>0</td>\n      <td>27.0</td>\n      <td>27.00</td>\n      <td>27.0</td>\n      <td>27.0</td>\n      <td>[27]</td>\n      <td>...</td>\n      <td>27.0</td>\n      <td>[27]</td>\n      <td>5.0</td>\n      <td>1.0</td>\n      <td>0.0</td>\n      <td>5.0</td>\n      <td>0.0</td>\n      <td>6.0</td>\n      <td>19.0</td>\n      <td>1.0</td>\n    </tr>\n    <tr>\n      <th>2</th>\n      <td>Gardner Islet</td>\n      <td>Gardner Islet</td>\n      <td>EGI01-2-2_116.jpg</td>\n      <td>72332876</td>\n      <td>0</td>\n      <td>0.0</td>\n      <td>0.00</td>\n      <td>0.0</td>\n      <td>0.0</td>\n      <td>0</td>\n      <td>...</td>\n      <td>0.0</td>\n      <td>NaN</td>\n      <td>0.0</td>\n      <td>0.0</td>\n      <td>NaN</td>\n      <td>NaN</td>\n      <td>NaN</td>\n      <td>NaN</td>\n      <td>21.0</td>\n      <td>0.0</td>\n    </tr>\n    <tr>\n      <th>3</th>\n      <td>Gardner Islet</td>\n      <td>Gardner Islet</td>\n      <td>EGI02-2_114.jpg</td>\n      <td>72332972</td>\n      <td>0</td>\n      <td>0.0</td>\n      <td>0.00</td>\n      <td>0.0</td>\n      <td>0.0</td>\n      <td>0</td>\n      <td>...</td>\n      <td>0.0</td>\n      <td>NaN</td>\n      <td>0.0</td>\n      <td>0.0</td>\n      <td>NaN</td>\n      <td>NaN</td>\n      <td>NaN</td>\n      <td>NaN</td>\n      <td>21.0</td>\n      <td>0.0</td>\n    </tr>\n    <tr>\n      <th>4</th>\n      <td>Gardner Islet</td>\n      <td>Gardner Islet</td>\n      <td>EGI02-2_36.jpg</td>\n      <td>72332999</td>\n      <td>0</td>\n      <td>1.0</td>\n      <td>1.00</td>\n      <td>1.0</td>\n      <td>1.0</td>\n      <td>[1]</td>\n      <td>...</td>\n      <td>1.0</td>\n      <td>[1]</td>\n      <td>0.0</td>\n      <td>0.0</td>\n      <td>0.0</td>\n      <td>0.0</td>\n      <td>0.0</td>\n      <td>0.0</td>\n      <td>20.0</td>\n      <td>1.0</td>\n    </tr>\n    <tr>\n      <th>...</th>\n      <td>...</td>\n      <td>...</td>\n      <td>...</td>\n      <td>...</td>\n      <td>...</td>\n      <td>...</td>\n      <td>...</td>\n      <td>...</td>\n      <td>...</td>\n      <td>...</td>\n      <td>...</td>\n      <td>...</td>\n      <td>...</td>\n      <td>...</td>\n      <td>...</td>\n      <td>...</td>\n      <td>...</td>\n      <td>...</td>\n      <td>...</td>\n      <td>...</td>\n      <td>...</td>\n    </tr>\n    <tr>\n      <th>451</th>\n      <td>South Coast J</td>\n      <td>South Coast J</td>\n      <td>FSCJ02-2_243.jpg</td>\n      <td>72341576</td>\n      <td>3</td>\n      <td>1.0</td>\n      <td>1.53</td>\n      <td>1.0</td>\n      <td>1.0</td>\n      <td>[1]</td>\n      <td>...</td>\n      <td>23.0</td>\n      <td>[1, 1, 1, 1, 1, 1, 1, 1, 1, 2, 2, 2, 2, 2, 4]</td>\n      <td>2.0</td>\n      <td>2.0</td>\n      <td>0.0</td>\n      <td>5.0</td>\n      <td>0.0</td>\n      <td>2.0</td>\n      <td>6.0</td>\n      <td>15.0</td>\n    </tr>\n    <tr>\n      <th>452</th>\n      <td>South Coast J</td>\n      <td>South Coast J</td>\n      <td>FSCJ02-2_251.jpg</td>\n      <td>72341585</td>\n      <td>1</td>\n      <td>0.0</td>\n      <td>0.00</td>\n      <td>0.0</td>\n      <td>0.0</td>\n      <td>0</td>\n      <td>...</td>\n      <td>0.0</td>\n      <td>NaN</td>\n      <td>0.0</td>\n      <td>0.0</td>\n      <td>NaN</td>\n      <td>NaN</td>\n      <td>NaN</td>\n      <td>NaN</td>\n      <td>21.0</td>\n      <td>0.0</td>\n    </tr>\n    <tr>\n      <th>453</th>\n      <td>South Coast J</td>\n      <td>South Coast J</td>\n      <td>FSCJ02-2_269.jpg</td>\n      <td>72341593</td>\n      <td>5</td>\n      <td>4.0</td>\n      <td>5.05</td>\n      <td>4.0</td>\n      <td>5.0</td>\n      <td>[4, 5]</td>\n      <td>...</td>\n      <td>96.0</td>\n      <td>[2, 2, 2, 3, 3, 3, 4, 4, 4, 4, 5, 5, 5, 5, 6, ...</td>\n      <td>7.0</td>\n      <td>7.0</td>\n      <td>0.0</td>\n      <td>5.0</td>\n      <td>0.0</td>\n      <td>10.0</td>\n      <td>3.0</td>\n      <td>19.0</td>\n    </tr>\n    <tr>\n      <th>454</th>\n      <td>South Coast J</td>\n      <td>South Coast J</td>\n      <td>FSCJ02-2_59.jpg</td>\n      <td>72341609</td>\n      <td>0</td>\n      <td>0.0</td>\n      <td>0.00</td>\n      <td>0.0</td>\n      <td>0.0</td>\n      <td>0</td>\n      <td>...</td>\n      <td>0.0</td>\n      <td>NaN</td>\n      <td>0.0</td>\n      <td>0.0</td>\n      <td>NaN</td>\n      <td>NaN</td>\n      <td>NaN</td>\n      <td>NaN</td>\n      <td>22.0</td>\n      <td>0.0</td>\n    </tr>\n    <tr>\n      <th>455</th>\n      <td>South Coast J</td>\n      <td>South Coast J</td>\n      <td>FSCJ02-2_93.jpg</td>\n      <td>72341627</td>\n      <td>1</td>\n      <td>1.0</td>\n      <td>1.05</td>\n      <td>1.0</td>\n      <td>1.0</td>\n      <td>[1]</td>\n      <td>...</td>\n      <td>22.0</td>\n      <td>[1, 1, 1, 1, 1, 1, 1, 1, 1, 1, 1, 1, 1, 1, 1, ...</td>\n      <td>2.0</td>\n      <td>1.0</td>\n      <td>0.0</td>\n      <td>5.0</td>\n      <td>0.0</td>\n      <td>17.0</td>\n      <td>0.0</td>\n      <td>22.0</td>\n    </tr>\n  </tbody>\n</table>\n<p>456 rows × 22 columns</p>\n</div>"
     },
     "execution_count": 28,
     "metadata": {},
     "output_type": "execute_result"
    }
   ],
   "source": [
    "df_comparison_yes_no = df_comparison_expert.merge(df_panoptes_question, on=\"subject_id\", how=\"left\")\n",
    "df_comparison_yes_no"
   ]
  },
  {
   "cell_type": "code",
   "execution_count": 29,
   "id": "830a5b4d94ba8acd",
   "metadata": {
    "collapsed": false,
    "ExecuteTime": {
     "end_time": "2024-04-16T10:05:29.195080Z",
     "start_time": "2024-04-16T10:05:29.162783Z"
    }
   },
   "outputs": [
    {
     "data": {
      "text/plain": "         site_name  subject_group         image_name  subject_id  count_total  \\\n0    Gardner Islet  Gardner Islet  EGI01-1-2_120.jpg    72332801            0   \n1    Gardner Islet  Gardner Islet  EGI01-1-2_121.jpg    72332802            0   \n2    Gardner Islet  Gardner Islet  EGI01-2-2_116.jpg    72332876            0   \n3    Gardner Islet  Gardner Islet    EGI02-2_114.jpg    72332972            0   \n4    Gardner Islet  Gardner Islet     EGI02-2_36.jpg    72332999            0   \n..             ...            ...                ...         ...          ...   \n451  South Coast J  South Coast J   FSCJ02-2_243.jpg    72341576            3   \n452  South Coast J  South Coast J   FSCJ02-2_251.jpg    72341585            1   \n453  South Coast J  South Coast J   FSCJ02-2_269.jpg    72341593            5   \n454  South Coast J  South Coast J    FSCJ02-2_59.jpg    72341609            0   \n455  South Coast J  South Coast J    FSCJ02-2_93.jpg    72341627            1   \n\n     median_count  mean_count  mode_min_count  mode_max_count mode_count  ...  \\\n0             0.0        0.00             0.0             0.0          0  ...   \n1            27.0       27.00            27.0            27.0       [27]  ...   \n2             0.0        0.00             0.0             0.0          0  ...   \n3             0.0        0.00             0.0             0.0          0  ...   \n4             1.0        1.00             1.0             1.0        [1]  ...   \n..            ...         ...             ...             ...        ...  ...   \n451           1.0        1.53             1.0             1.0        [1]  ...   \n452           0.0        0.00             0.0             0.0          0  ...   \n453           4.0        5.05             4.0             5.0     [4, 5]  ...   \n454           0.0        0.00             0.0             0.0          0  ...   \n455           1.0        1.05             1.0             1.0        [1]  ...   \n\n     sum_annotations_count                                  annotations_count  \\\n0                      0.0                                                NaN   \n1                     27.0                                               [27]   \n2                      0.0                                                NaN   \n3                      0.0                                                NaN   \n4                      1.0                                                [1]   \n..                     ...                                                ...   \n451                   23.0      [1, 1, 1, 1, 1, 1, 1, 1, 1, 2, 2, 2, 2, 2, 4]   \n452                    0.0                                                NaN   \n453                   96.0  [2, 2, 2, 3, 3, 3, 4, 4, 4, 4, 5, 5, 5, 5, 6, ...   \n454                    0.0                                                NaN   \n455                   22.0  [1, 1, 1, 1, 1, 1, 1, 1, 1, 1, 1, 1, 1, 1, 1, ...   \n\n     dbscan_count_sil HDBSCAN_count  eps  min_cluster_size  max_cluster_size  \\\n0                 0.0           0.0  NaN               NaN               NaN   \n1                 5.0           1.0  0.0               5.0               0.0   \n2                 0.0           0.0  NaN               NaN               NaN   \n3                 0.0           0.0  NaN               NaN               NaN   \n4                 0.0           0.0  0.0               0.0               0.0   \n..                ...           ...  ...               ...               ...   \n451               2.0           2.0  0.0               5.0               0.0   \n452               0.0           0.0  NaN               NaN               NaN   \n453               7.0           7.0  0.0               5.0               0.0   \n454               0.0           0.0  NaN               NaN               NaN   \n455               2.0           1.0  0.0               5.0               0.0   \n\n     noise_points  data.no  data.yes  \n0             NaN     23.0       0.0  \n1             6.0     19.0       1.0  \n2             NaN     21.0       0.0  \n3             NaN     21.0       0.0  \n4             0.0     20.0       1.0  \n..            ...      ...       ...  \n451           2.0      6.0      15.0  \n452           NaN     21.0       0.0  \n453          10.0      3.0      19.0  \n454           NaN     22.0       0.0  \n455          17.0      0.0      22.0  \n\n[456 rows x 22 columns]",
      "text/html": "<div>\n<style scoped>\n    .dataframe tbody tr th:only-of-type {\n        vertical-align: middle;\n    }\n\n    .dataframe tbody tr th {\n        vertical-align: top;\n    }\n\n    .dataframe thead th {\n        text-align: right;\n    }\n</style>\n<table border=\"1\" class=\"dataframe\">\n  <thead>\n    <tr style=\"text-align: right;\">\n      <th></th>\n      <th>site_name</th>\n      <th>subject_group</th>\n      <th>image_name</th>\n      <th>subject_id</th>\n      <th>count_total</th>\n      <th>median_count</th>\n      <th>mean_count</th>\n      <th>mode_min_count</th>\n      <th>mode_max_count</th>\n      <th>mode_count</th>\n      <th>...</th>\n      <th>sum_annotations_count</th>\n      <th>annotations_count</th>\n      <th>dbscan_count_sil</th>\n      <th>HDBSCAN_count</th>\n      <th>eps</th>\n      <th>min_cluster_size</th>\n      <th>max_cluster_size</th>\n      <th>noise_points</th>\n      <th>data.no</th>\n      <th>data.yes</th>\n    </tr>\n  </thead>\n  <tbody>\n    <tr>\n      <th>0</th>\n      <td>Gardner Islet</td>\n      <td>Gardner Islet</td>\n      <td>EGI01-1-2_120.jpg</td>\n      <td>72332801</td>\n      <td>0</td>\n      <td>0.0</td>\n      <td>0.00</td>\n      <td>0.0</td>\n      <td>0.0</td>\n      <td>0</td>\n      <td>...</td>\n      <td>0.0</td>\n      <td>NaN</td>\n      <td>0.0</td>\n      <td>0.0</td>\n      <td>NaN</td>\n      <td>NaN</td>\n      <td>NaN</td>\n      <td>NaN</td>\n      <td>23.0</td>\n      <td>0.0</td>\n    </tr>\n    <tr>\n      <th>1</th>\n      <td>Gardner Islet</td>\n      <td>Gardner Islet</td>\n      <td>EGI01-1-2_121.jpg</td>\n      <td>72332802</td>\n      <td>0</td>\n      <td>27.0</td>\n      <td>27.00</td>\n      <td>27.0</td>\n      <td>27.0</td>\n      <td>[27]</td>\n      <td>...</td>\n      <td>27.0</td>\n      <td>[27]</td>\n      <td>5.0</td>\n      <td>1.0</td>\n      <td>0.0</td>\n      <td>5.0</td>\n      <td>0.0</td>\n      <td>6.0</td>\n      <td>19.0</td>\n      <td>1.0</td>\n    </tr>\n    <tr>\n      <th>2</th>\n      <td>Gardner Islet</td>\n      <td>Gardner Islet</td>\n      <td>EGI01-2-2_116.jpg</td>\n      <td>72332876</td>\n      <td>0</td>\n      <td>0.0</td>\n      <td>0.00</td>\n      <td>0.0</td>\n      <td>0.0</td>\n      <td>0</td>\n      <td>...</td>\n      <td>0.0</td>\n      <td>NaN</td>\n      <td>0.0</td>\n      <td>0.0</td>\n      <td>NaN</td>\n      <td>NaN</td>\n      <td>NaN</td>\n      <td>NaN</td>\n      <td>21.0</td>\n      <td>0.0</td>\n    </tr>\n    <tr>\n      <th>3</th>\n      <td>Gardner Islet</td>\n      <td>Gardner Islet</td>\n      <td>EGI02-2_114.jpg</td>\n      <td>72332972</td>\n      <td>0</td>\n      <td>0.0</td>\n      <td>0.00</td>\n      <td>0.0</td>\n      <td>0.0</td>\n      <td>0</td>\n      <td>...</td>\n      <td>0.0</td>\n      <td>NaN</td>\n      <td>0.0</td>\n      <td>0.0</td>\n      <td>NaN</td>\n      <td>NaN</td>\n      <td>NaN</td>\n      <td>NaN</td>\n      <td>21.0</td>\n      <td>0.0</td>\n    </tr>\n    <tr>\n      <th>4</th>\n      <td>Gardner Islet</td>\n      <td>Gardner Islet</td>\n      <td>EGI02-2_36.jpg</td>\n      <td>72332999</td>\n      <td>0</td>\n      <td>1.0</td>\n      <td>1.00</td>\n      <td>1.0</td>\n      <td>1.0</td>\n      <td>[1]</td>\n      <td>...</td>\n      <td>1.0</td>\n      <td>[1]</td>\n      <td>0.0</td>\n      <td>0.0</td>\n      <td>0.0</td>\n      <td>0.0</td>\n      <td>0.0</td>\n      <td>0.0</td>\n      <td>20.0</td>\n      <td>1.0</td>\n    </tr>\n    <tr>\n      <th>...</th>\n      <td>...</td>\n      <td>...</td>\n      <td>...</td>\n      <td>...</td>\n      <td>...</td>\n      <td>...</td>\n      <td>...</td>\n      <td>...</td>\n      <td>...</td>\n      <td>...</td>\n      <td>...</td>\n      <td>...</td>\n      <td>...</td>\n      <td>...</td>\n      <td>...</td>\n      <td>...</td>\n      <td>...</td>\n      <td>...</td>\n      <td>...</td>\n      <td>...</td>\n      <td>...</td>\n    </tr>\n    <tr>\n      <th>451</th>\n      <td>South Coast J</td>\n      <td>South Coast J</td>\n      <td>FSCJ02-2_243.jpg</td>\n      <td>72341576</td>\n      <td>3</td>\n      <td>1.0</td>\n      <td>1.53</td>\n      <td>1.0</td>\n      <td>1.0</td>\n      <td>[1]</td>\n      <td>...</td>\n      <td>23.0</td>\n      <td>[1, 1, 1, 1, 1, 1, 1, 1, 1, 2, 2, 2, 2, 2, 4]</td>\n      <td>2.0</td>\n      <td>2.0</td>\n      <td>0.0</td>\n      <td>5.0</td>\n      <td>0.0</td>\n      <td>2.0</td>\n      <td>6.0</td>\n      <td>15.0</td>\n    </tr>\n    <tr>\n      <th>452</th>\n      <td>South Coast J</td>\n      <td>South Coast J</td>\n      <td>FSCJ02-2_251.jpg</td>\n      <td>72341585</td>\n      <td>1</td>\n      <td>0.0</td>\n      <td>0.00</td>\n      <td>0.0</td>\n      <td>0.0</td>\n      <td>0</td>\n      <td>...</td>\n      <td>0.0</td>\n      <td>NaN</td>\n      <td>0.0</td>\n      <td>0.0</td>\n      <td>NaN</td>\n      <td>NaN</td>\n      <td>NaN</td>\n      <td>NaN</td>\n      <td>21.0</td>\n      <td>0.0</td>\n    </tr>\n    <tr>\n      <th>453</th>\n      <td>South Coast J</td>\n      <td>South Coast J</td>\n      <td>FSCJ02-2_269.jpg</td>\n      <td>72341593</td>\n      <td>5</td>\n      <td>4.0</td>\n      <td>5.05</td>\n      <td>4.0</td>\n      <td>5.0</td>\n      <td>[4, 5]</td>\n      <td>...</td>\n      <td>96.0</td>\n      <td>[2, 2, 2, 3, 3, 3, 4, 4, 4, 4, 5, 5, 5, 5, 6, ...</td>\n      <td>7.0</td>\n      <td>7.0</td>\n      <td>0.0</td>\n      <td>5.0</td>\n      <td>0.0</td>\n      <td>10.0</td>\n      <td>3.0</td>\n      <td>19.0</td>\n    </tr>\n    <tr>\n      <th>454</th>\n      <td>South Coast J</td>\n      <td>South Coast J</td>\n      <td>FSCJ02-2_59.jpg</td>\n      <td>72341609</td>\n      <td>0</td>\n      <td>0.0</td>\n      <td>0.00</td>\n      <td>0.0</td>\n      <td>0.0</td>\n      <td>0</td>\n      <td>...</td>\n      <td>0.0</td>\n      <td>NaN</td>\n      <td>0.0</td>\n      <td>0.0</td>\n      <td>NaN</td>\n      <td>NaN</td>\n      <td>NaN</td>\n      <td>NaN</td>\n      <td>22.0</td>\n      <td>0.0</td>\n    </tr>\n    <tr>\n      <th>455</th>\n      <td>South Coast J</td>\n      <td>South Coast J</td>\n      <td>FSCJ02-2_93.jpg</td>\n      <td>72341627</td>\n      <td>1</td>\n      <td>1.0</td>\n      <td>1.05</td>\n      <td>1.0</td>\n      <td>1.0</td>\n      <td>[1]</td>\n      <td>...</td>\n      <td>22.0</td>\n      <td>[1, 1, 1, 1, 1, 1, 1, 1, 1, 1, 1, 1, 1, 1, 1, ...</td>\n      <td>2.0</td>\n      <td>1.0</td>\n      <td>0.0</td>\n      <td>5.0</td>\n      <td>0.0</td>\n      <td>17.0</td>\n      <td>0.0</td>\n      <td>22.0</td>\n    </tr>\n  </tbody>\n</table>\n<p>456 rows × 22 columns</p>\n</div>"
     },
     "execution_count": 29,
     "metadata": {},
     "output_type": "execute_result"
    }
   ],
   "source": [
    "df_comparison_yes_no.to_csv(config[\"comparison_dataset_yes_no\"])\n",
    "df_comparison_yes_no"
   ]
  },
  {
   "cell_type": "markdown",
   "id": "1866104643b4427f",
   "metadata": {
    "collapsed": false
   },
   "source": [
    "# A look into the results"
   ]
  },
  {
   "cell_type": "markdown",
   "id": "683ea0eaf795e5ff",
   "metadata": {
    "collapsed": false
   },
   "source": [
    "## The sum of the clustering\n",
    "What is the sum of the methods"
   ]
  },
  {
   "cell_type": "code",
   "execution_count": 30,
   "id": "a7f64204-b9a3-49ca-a916-b8efd9303560",
   "metadata": {
    "ExecuteTime": {
     "end_time": "2024-04-16T10:05:29.226055Z",
     "start_time": "2024-04-16T10:05:29.195816Z"
    }
   },
   "outputs": [
    {
     "data": {
      "text/plain": "         site_name  subject_group        image_name  subject_id  count_total  \\\n10   Gardner Islet  Gardner Islet   EGI04-1_141.jpg    72333244            3   \n14   Gardner Islet  Gardner Islet    EGI08-2_78.jpg    72333835            1   \n38    Punta Suarez   Punta Suarez      EPS01_28.jpg    72335422            1   \n39    Punta Suarez   Punta Suarez      EPS01_41.jpg    72335435            1   \n41    Punta Suarez   Punta Suarez     EPS02_208.jpg    72335541            2   \n..             ...            ...               ...         ...          ...   \n449  South Coast J  South Coast J  FSCJ02-2_220.jpg    72341559            1   \n450  South Coast J  South Coast J  FSCJ02-2_233.jpg    72341570            1   \n451  South Coast J  South Coast J  FSCJ02-2_243.jpg    72341576            3   \n453  South Coast J  South Coast J  FSCJ02-2_269.jpg    72341593            5   \n455  South Coast J  South Coast J   FSCJ02-2_93.jpg    72341627            1   \n\n     median_count  mean_count  mode_min_count  mode_max_count mode_count  ...  \\\n10            1.0        1.64             1.0             1.0        [1]  ...   \n14            1.0        1.00             1.0             1.0        [1]  ...   \n38            1.0        1.50             1.0             1.0        [1]  ...   \n39            2.0        1.67             2.0             2.0        [2]  ...   \n41            2.0        2.19             2.0             2.0        [2]  ...   \n..            ...         ...             ...             ...        ...  ...   \n449           1.0        1.25             1.0             1.0        [1]  ...   \n450           1.0        1.33             1.0             1.0        [1]  ...   \n451           1.0        1.53             1.0             1.0        [1]  ...   \n453           4.0        5.05             4.0             5.0     [4, 5]  ...   \n455           1.0        1.05             1.0             1.0        [1]  ...   \n\n     sum_annotations_count                                  annotations_count  \\\n10                    36.0  [1, 1, 1, 1, 1, 1, 1, 1, 1, 1, 1, 1, 1, 2, 2, ...   \n14                    12.0               [1, 1, 1, 1, 1, 1, 1, 1, 1, 1, 1, 1]   \n38                    12.0                           [1, 1, 1, 1, 1, 1, 1, 5]   \n39                    25.0      [1, 1, 1, 1, 1, 2, 2, 2, 2, 2, 2, 2, 2, 2, 2]   \n41                    46.0  [1, 1, 1, 2, 2, 2, 2, 2, 2, 2, 2, 2, 2, 2, 2, ...   \n..                     ...                                                ...   \n449                   25.0  [1, 1, 1, 1, 1, 1, 1, 1, 1, 1, 1, 1, 1, 1, 1, ...   \n450                   12.0                        [1, 1, 1, 1, 1, 1, 1, 1, 4]   \n451                   23.0      [1, 1, 1, 1, 1, 1, 1, 1, 1, 2, 2, 2, 2, 2, 4]   \n453                   96.0  [2, 2, 2, 3, 3, 3, 4, 4, 4, 4, 5, 5, 5, 5, 6, ...   \n455                   22.0  [1, 1, 1, 1, 1, 1, 1, 1, 1, 1, 1, 1, 1, 1, 1, ...   \n\n     dbscan_count_sil HDBSCAN_count  eps  min_cluster_size  max_cluster_size  \\\n10                2.0           3.0  0.0               5.0               0.0   \n14                1.0           1.0  0.0               5.0               0.0   \n38                2.0           1.0  0.0               5.0               0.0   \n39                2.0           2.0  0.0               5.0               0.0   \n41                4.0           2.0  0.0               5.0               0.0   \n..                ...           ...  ...               ...               ...   \n449               2.0           1.0  0.0               5.0               0.0   \n450               1.0           1.0  0.0               5.0               0.0   \n451               2.0           2.0  0.0               5.0               0.0   \n453               7.0           7.0  0.0               5.0               0.0   \n455               2.0           1.0  0.0               5.0               0.0   \n\n     noise_points  data.no  data.yes  \n10            0.0      0.0      23.0  \n14            6.0     10.0      12.0  \n38            7.0     14.0       8.0  \n39            0.0      5.0      17.0  \n41            7.0      1.0      21.0  \n..            ...      ...       ...  \n449          20.0      0.0      21.0  \n450           7.0      9.0      12.0  \n451           2.0      6.0      15.0  \n453          10.0      3.0      19.0  \n455          17.0      0.0      22.0  \n\n[169 rows x 22 columns]",
      "text/html": "<div>\n<style scoped>\n    .dataframe tbody tr th:only-of-type {\n        vertical-align: middle;\n    }\n\n    .dataframe tbody tr th {\n        vertical-align: top;\n    }\n\n    .dataframe thead th {\n        text-align: right;\n    }\n</style>\n<table border=\"1\" class=\"dataframe\">\n  <thead>\n    <tr style=\"text-align: right;\">\n      <th></th>\n      <th>site_name</th>\n      <th>subject_group</th>\n      <th>image_name</th>\n      <th>subject_id</th>\n      <th>count_total</th>\n      <th>median_count</th>\n      <th>mean_count</th>\n      <th>mode_min_count</th>\n      <th>mode_max_count</th>\n      <th>mode_count</th>\n      <th>...</th>\n      <th>sum_annotations_count</th>\n      <th>annotations_count</th>\n      <th>dbscan_count_sil</th>\n      <th>HDBSCAN_count</th>\n      <th>eps</th>\n      <th>min_cluster_size</th>\n      <th>max_cluster_size</th>\n      <th>noise_points</th>\n      <th>data.no</th>\n      <th>data.yes</th>\n    </tr>\n  </thead>\n  <tbody>\n    <tr>\n      <th>10</th>\n      <td>Gardner Islet</td>\n      <td>Gardner Islet</td>\n      <td>EGI04-1_141.jpg</td>\n      <td>72333244</td>\n      <td>3</td>\n      <td>1.0</td>\n      <td>1.64</td>\n      <td>1.0</td>\n      <td>1.0</td>\n      <td>[1]</td>\n      <td>...</td>\n      <td>36.0</td>\n      <td>[1, 1, 1, 1, 1, 1, 1, 1, 1, 1, 1, 1, 1, 2, 2, ...</td>\n      <td>2.0</td>\n      <td>3.0</td>\n      <td>0.0</td>\n      <td>5.0</td>\n      <td>0.0</td>\n      <td>0.0</td>\n      <td>0.0</td>\n      <td>23.0</td>\n    </tr>\n    <tr>\n      <th>14</th>\n      <td>Gardner Islet</td>\n      <td>Gardner Islet</td>\n      <td>EGI08-2_78.jpg</td>\n      <td>72333835</td>\n      <td>1</td>\n      <td>1.0</td>\n      <td>1.00</td>\n      <td>1.0</td>\n      <td>1.0</td>\n      <td>[1]</td>\n      <td>...</td>\n      <td>12.0</td>\n      <td>[1, 1, 1, 1, 1, 1, 1, 1, 1, 1, 1, 1]</td>\n      <td>1.0</td>\n      <td>1.0</td>\n      <td>0.0</td>\n      <td>5.0</td>\n      <td>0.0</td>\n      <td>6.0</td>\n      <td>10.0</td>\n      <td>12.0</td>\n    </tr>\n    <tr>\n      <th>38</th>\n      <td>Punta Suarez</td>\n      <td>Punta Suarez</td>\n      <td>EPS01_28.jpg</td>\n      <td>72335422</td>\n      <td>1</td>\n      <td>1.0</td>\n      <td>1.50</td>\n      <td>1.0</td>\n      <td>1.0</td>\n      <td>[1]</td>\n      <td>...</td>\n      <td>12.0</td>\n      <td>[1, 1, 1, 1, 1, 1, 1, 5]</td>\n      <td>2.0</td>\n      <td>1.0</td>\n      <td>0.0</td>\n      <td>5.0</td>\n      <td>0.0</td>\n      <td>7.0</td>\n      <td>14.0</td>\n      <td>8.0</td>\n    </tr>\n    <tr>\n      <th>39</th>\n      <td>Punta Suarez</td>\n      <td>Punta Suarez</td>\n      <td>EPS01_41.jpg</td>\n      <td>72335435</td>\n      <td>1</td>\n      <td>2.0</td>\n      <td>1.67</td>\n      <td>2.0</td>\n      <td>2.0</td>\n      <td>[2]</td>\n      <td>...</td>\n      <td>25.0</td>\n      <td>[1, 1, 1, 1, 1, 2, 2, 2, 2, 2, 2, 2, 2, 2, 2]</td>\n      <td>2.0</td>\n      <td>2.0</td>\n      <td>0.0</td>\n      <td>5.0</td>\n      <td>0.0</td>\n      <td>0.0</td>\n      <td>5.0</td>\n      <td>17.0</td>\n    </tr>\n    <tr>\n      <th>41</th>\n      <td>Punta Suarez</td>\n      <td>Punta Suarez</td>\n      <td>EPS02_208.jpg</td>\n      <td>72335541</td>\n      <td>2</td>\n      <td>2.0</td>\n      <td>2.19</td>\n      <td>2.0</td>\n      <td>2.0</td>\n      <td>[2]</td>\n      <td>...</td>\n      <td>46.0</td>\n      <td>[1, 1, 1, 2, 2, 2, 2, 2, 2, 2, 2, 2, 2, 2, 2, ...</td>\n      <td>4.0</td>\n      <td>2.0</td>\n      <td>0.0</td>\n      <td>5.0</td>\n      <td>0.0</td>\n      <td>7.0</td>\n      <td>1.0</td>\n      <td>21.0</td>\n    </tr>\n    <tr>\n      <th>...</th>\n      <td>...</td>\n      <td>...</td>\n      <td>...</td>\n      <td>...</td>\n      <td>...</td>\n      <td>...</td>\n      <td>...</td>\n      <td>...</td>\n      <td>...</td>\n      <td>...</td>\n      <td>...</td>\n      <td>...</td>\n      <td>...</td>\n      <td>...</td>\n      <td>...</td>\n      <td>...</td>\n      <td>...</td>\n      <td>...</td>\n      <td>...</td>\n      <td>...</td>\n      <td>...</td>\n    </tr>\n    <tr>\n      <th>449</th>\n      <td>South Coast J</td>\n      <td>South Coast J</td>\n      <td>FSCJ02-2_220.jpg</td>\n      <td>72341559</td>\n      <td>1</td>\n      <td>1.0</td>\n      <td>1.25</td>\n      <td>1.0</td>\n      <td>1.0</td>\n      <td>[1]</td>\n      <td>...</td>\n      <td>25.0</td>\n      <td>[1, 1, 1, 1, 1, 1, 1, 1, 1, 1, 1, 1, 1, 1, 1, ...</td>\n      <td>2.0</td>\n      <td>1.0</td>\n      <td>0.0</td>\n      <td>5.0</td>\n      <td>0.0</td>\n      <td>20.0</td>\n      <td>0.0</td>\n      <td>21.0</td>\n    </tr>\n    <tr>\n      <th>450</th>\n      <td>South Coast J</td>\n      <td>South Coast J</td>\n      <td>FSCJ02-2_233.jpg</td>\n      <td>72341570</td>\n      <td>1</td>\n      <td>1.0</td>\n      <td>1.33</td>\n      <td>1.0</td>\n      <td>1.0</td>\n      <td>[1]</td>\n      <td>...</td>\n      <td>12.0</td>\n      <td>[1, 1, 1, 1, 1, 1, 1, 1, 4]</td>\n      <td>1.0</td>\n      <td>1.0</td>\n      <td>0.0</td>\n      <td>5.0</td>\n      <td>0.0</td>\n      <td>7.0</td>\n      <td>9.0</td>\n      <td>12.0</td>\n    </tr>\n    <tr>\n      <th>451</th>\n      <td>South Coast J</td>\n      <td>South Coast J</td>\n      <td>FSCJ02-2_243.jpg</td>\n      <td>72341576</td>\n      <td>3</td>\n      <td>1.0</td>\n      <td>1.53</td>\n      <td>1.0</td>\n      <td>1.0</td>\n      <td>[1]</td>\n      <td>...</td>\n      <td>23.0</td>\n      <td>[1, 1, 1, 1, 1, 1, 1, 1, 1, 2, 2, 2, 2, 2, 4]</td>\n      <td>2.0</td>\n      <td>2.0</td>\n      <td>0.0</td>\n      <td>5.0</td>\n      <td>0.0</td>\n      <td>2.0</td>\n      <td>6.0</td>\n      <td>15.0</td>\n    </tr>\n    <tr>\n      <th>453</th>\n      <td>South Coast J</td>\n      <td>South Coast J</td>\n      <td>FSCJ02-2_269.jpg</td>\n      <td>72341593</td>\n      <td>5</td>\n      <td>4.0</td>\n      <td>5.05</td>\n      <td>4.0</td>\n      <td>5.0</td>\n      <td>[4, 5]</td>\n      <td>...</td>\n      <td>96.0</td>\n      <td>[2, 2, 2, 3, 3, 3, 4, 4, 4, 4, 5, 5, 5, 5, 6, ...</td>\n      <td>7.0</td>\n      <td>7.0</td>\n      <td>0.0</td>\n      <td>5.0</td>\n      <td>0.0</td>\n      <td>10.0</td>\n      <td>3.0</td>\n      <td>19.0</td>\n    </tr>\n    <tr>\n      <th>455</th>\n      <td>South Coast J</td>\n      <td>South Coast J</td>\n      <td>FSCJ02-2_93.jpg</td>\n      <td>72341627</td>\n      <td>1</td>\n      <td>1.0</td>\n      <td>1.05</td>\n      <td>1.0</td>\n      <td>1.0</td>\n      <td>[1]</td>\n      <td>...</td>\n      <td>22.0</td>\n      <td>[1, 1, 1, 1, 1, 1, 1, 1, 1, 1, 1, 1, 1, 1, 1, ...</td>\n      <td>2.0</td>\n      <td>1.0</td>\n      <td>0.0</td>\n      <td>5.0</td>\n      <td>0.0</td>\n      <td>17.0</td>\n      <td>0.0</td>\n      <td>22.0</td>\n    </tr>\n  </tbody>\n</table>\n<p>169 rows × 22 columns</p>\n</div>"
     },
     "execution_count": 30,
     "metadata": {},
     "output_type": "execute_result"
    }
   ],
   "source": [
    "df_comparison_yes_no[df_comparison_yes_no[\"data.yes\"] >= 5]"
   ]
  },
  {
   "cell_type": "code",
   "execution_count": 31,
   "id": "2ae2f205858fd9c4",
   "metadata": {
    "collapsed": false,
    "ExecuteTime": {
     "end_time": "2024-04-16T10:05:29.247305Z",
     "start_time": "2024-04-16T10:05:29.227008Z"
    }
   },
   "outputs": [
    {
     "data": {
      "text/plain": "count_total         589.000000\nmedian_count        484.000000\nmean_count          499.970000\nmode_min_count      467.000000\nmode_max_count      512.000000\nmode_count_avg      487.833333\nmode_min_count      467.000000\nmode_max_count      512.000000\ndbscan_count_sil    517.000000\nHDBSCAN_count       544.000000\ndtype: float64"
     },
     "execution_count": 31,
     "metadata": {},
     "output_type": "execute_result"
    }
   ],
   "source": [
    "# Take only the subjects which have more or equal 5 yes votes.\n",
    "df_method_sums = df_comparison_yes_no[df_comparison_yes_no[\"data.yes\"] >= 5][[\"count_total\", \"median_count\", \"mean_count\", \"mode_min_count\", \"mode_max_count\", \"mode_count_avg\", \"mode_min_count\", \"mode_max_count\", \"dbscan_count_sil\", \"HDBSCAN_count\"]].sum()\n",
    "df_method_sums.to_csv(config[\"method_sums\"])\n",
    "df_method_sums"
   ]
  },
  {
   "cell_type": "markdown",
   "id": "88ca320d97a38518",
   "metadata": {
    "collapsed": false
   },
   "source": [
    "## Compare the numbers\n",
    "The counts are only for images which were in the dataset after filtering."
   ]
  },
  {
   "cell_type": "markdown",
   "id": "8f58c29117a907a4",
   "metadata": {
    "collapsed": false
   },
   "source": [
    "### Sum of all the Methods"
   ]
  },
  {
   "cell_type": "code",
   "execution_count": 32,
   "id": "e6a0ba0c34ca129a",
   "metadata": {
    "collapsed": false,
    "ExecuteTime": {
     "end_time": "2024-04-16T10:05:29.267435Z",
     "start_time": "2024-04-16T10:05:29.248310Z"
    }
   },
   "outputs": [
    {
     "name": "stdout",
     "output_type": "stream",
     "text": [
      "Iguanas 2nd launch_method_sums.csv\n"
     ]
    },
    {
     "data": {
      "text/plain": "         Unnamed: 0           0\n0       count_total  589.000000\n1      median_count  484.000000\n2        mean_count  499.970000\n3    mode_min_count  467.000000\n4    mode_max_count  512.000000\n5    mode_count_avg  487.833333\n6    mode_min_count  467.000000\n7    mode_max_count  512.000000\n8  dbscan_count_sil  517.000000\n9     HDBSCAN_count  544.000000",
      "text/html": "<div>\n<style scoped>\n    .dataframe tbody tr th:only-of-type {\n        vertical-align: middle;\n    }\n\n    .dataframe tbody tr th {\n        vertical-align: top;\n    }\n\n    .dataframe thead th {\n        text-align: right;\n    }\n</style>\n<table border=\"1\" class=\"dataframe\">\n  <thead>\n    <tr style=\"text-align: right;\">\n      <th></th>\n      <th>Unnamed: 0</th>\n      <th>0</th>\n    </tr>\n  </thead>\n  <tbody>\n    <tr>\n      <th>0</th>\n      <td>count_total</td>\n      <td>589.000000</td>\n    </tr>\n    <tr>\n      <th>1</th>\n      <td>median_count</td>\n      <td>484.000000</td>\n    </tr>\n    <tr>\n      <th>2</th>\n      <td>mean_count</td>\n      <td>499.970000</td>\n    </tr>\n    <tr>\n      <th>3</th>\n      <td>mode_min_count</td>\n      <td>467.000000</td>\n    </tr>\n    <tr>\n      <th>4</th>\n      <td>mode_max_count</td>\n      <td>512.000000</td>\n    </tr>\n    <tr>\n      <th>5</th>\n      <td>mode_count_avg</td>\n      <td>487.833333</td>\n    </tr>\n    <tr>\n      <th>6</th>\n      <td>mode_min_count</td>\n      <td>467.000000</td>\n    </tr>\n    <tr>\n      <th>7</th>\n      <td>mode_max_count</td>\n      <td>512.000000</td>\n    </tr>\n    <tr>\n      <th>8</th>\n      <td>dbscan_count_sil</td>\n      <td>517.000000</td>\n    </tr>\n    <tr>\n      <th>9</th>\n      <td>HDBSCAN_count</td>\n      <td>544.000000</td>\n    </tr>\n  </tbody>\n</table>\n</div>"
     },
     "execution_count": 32,
     "metadata": {},
     "output_type": "execute_result"
    }
   ],
   "source": [
    "print(f\"{config['method_sums'].name}\")\n",
    "df_method_sums = pd.read_csv(config[\"method_sums\"])\n",
    "df_method_sums"
   ]
  },
  {
   "cell_type": "markdown",
   "id": "59e1a0f4ffc4dcd0",
   "metadata": {
    "collapsed": false
   },
   "source": [
    "### Comparison per Image Level"
   ]
  },
  {
   "cell_type": "code",
   "execution_count": 33,
   "id": "b63a639e877e8b4a",
   "metadata": {
    "collapsed": false,
    "ExecuteTime": {
     "end_time": "2024-04-16T10:05:29.302781Z",
     "start_time": "2024-04-16T10:05:29.268775Z"
    }
   },
   "outputs": [
    {
     "name": "stdout",
     "output_type": "stream",
     "text": [
      "load /Users/christian/data/zooniverse/2024_04_16_analysis/Iguanas 2nd launch/Iguanas 2nd launch_method_comparison.csv\n"
     ]
    },
    {
     "data": {
      "text/plain": "      Unnamed: 0         image_name  subject_id  median_count  mean_count  \\\n0              0   EGI01-1-1_11.jpg    72332772           2.0        2.00   \n1              1   EGI01-1-1_19.jpg    72332775           1.0        1.00   \n2              2   EGI01-1-1_54.jpg    72332788           1.0        1.00   \n3              3   EGI01-1-1_69.jpg    72332794           1.0        1.00   \n4              4  EGI01-1-2_110.jpg    72332799          12.0       12.00   \n...          ...                ...         ...           ...         ...   \n4316        4316    ESCG02-2_59.jpg    72373345           1.0        1.00   \n4317        4317    ESCG02-2_62.jpg    72373347           1.0        1.00   \n4318        4318    ESCG02-2_63.jpg    72373348           1.0        1.25   \n4319        4319    ESCG02-2_64.jpg    72373350           5.0        5.47   \n4320        4320    ESCG02-2_65.jpg    72373351           9.0        8.50   \n\n      mode_min_count  mode_max_count mode_count  mode_count_avg  users  \\\n0                  2               2        [2]             2.0      1   \n1                  1               1        [1]             1.0      1   \n2                  1               1        [1]             1.0      1   \n3                  1               1        [1]             1.0      1   \n4                 12              12       [12]            12.0      1   \n...              ...             ...        ...             ...    ...   \n4316               1               1        [1]             1.0      2   \n4317               1               1        [1]             1.0      4   \n4318               1               1        [1]             1.0     16   \n4319               5               5        [5]             5.0     15   \n4320               7              10    [7, 10]             8.5     18   \n\n      sum_annotations_count  \\\n0                         2   \n1                         1   \n2                         1   \n3                         1   \n4                        12   \n...                     ...   \n4316                      2   \n4317                      4   \n4318                     20   \n4319                     82   \n4320                    153   \n\n                                      annotations_count  dbscan_count_sil  \\\n0                                                   [2]               0.0   \n1                                                   [1]               0.0   \n2                                                   [1]               0.0   \n3                                                   [1]               0.0   \n4                                                  [12]               1.0   \n...                                                 ...               ...   \n4316                                             [1, 1]               0.0   \n4317                                       [1, 1, 1, 1]               0.0   \n4318   [1, 1, 1, 1, 1, 1, 1, 1, 1, 1, 1, 1, 2, 2, 2, 2]               2.0   \n4319     [1, 2, 3, 5, 5, 5, 5, 5, 6, 6, 7, 7, 7, 8, 10]               4.0   \n4320  [1, 2, 5, 6, 7, 7, 7, 8, 9, 9, 10, 10, 10, 11,...              11.0   \n\n      HDBSCAN_count  eps  min_cluster_size  max_cluster_size  noise_points  \n0               0.0  0.0               0.0                 0           0.0  \n1               0.0  0.0               0.0                 0           0.0  \n2               0.0  0.0               0.0                 0           0.0  \n3               0.0  0.0               0.0                 0           0.0  \n4               1.0  0.0               5.0                 0           6.0  \n...             ...  ...               ...               ...           ...  \n4316            0.0  0.0               0.0                 0           0.0  \n4317            0.0  0.0               0.0                 0           0.0  \n4318            1.0  0.0               5.0                 0          14.0  \n4319            6.0  0.0               5.0                 0          14.0  \n4320           11.0  0.0               5.0                 0           8.0  \n\n[4321 rows x 18 columns]",
      "text/html": "<div>\n<style scoped>\n    .dataframe tbody tr th:only-of-type {\n        vertical-align: middle;\n    }\n\n    .dataframe tbody tr th {\n        vertical-align: top;\n    }\n\n    .dataframe thead th {\n        text-align: right;\n    }\n</style>\n<table border=\"1\" class=\"dataframe\">\n  <thead>\n    <tr style=\"text-align: right;\">\n      <th></th>\n      <th>Unnamed: 0</th>\n      <th>image_name</th>\n      <th>subject_id</th>\n      <th>median_count</th>\n      <th>mean_count</th>\n      <th>mode_min_count</th>\n      <th>mode_max_count</th>\n      <th>mode_count</th>\n      <th>mode_count_avg</th>\n      <th>users</th>\n      <th>sum_annotations_count</th>\n      <th>annotations_count</th>\n      <th>dbscan_count_sil</th>\n      <th>HDBSCAN_count</th>\n      <th>eps</th>\n      <th>min_cluster_size</th>\n      <th>max_cluster_size</th>\n      <th>noise_points</th>\n    </tr>\n  </thead>\n  <tbody>\n    <tr>\n      <th>0</th>\n      <td>0</td>\n      <td>EGI01-1-1_11.jpg</td>\n      <td>72332772</td>\n      <td>2.0</td>\n      <td>2.00</td>\n      <td>2</td>\n      <td>2</td>\n      <td>[2]</td>\n      <td>2.0</td>\n      <td>1</td>\n      <td>2</td>\n      <td>[2]</td>\n      <td>0.0</td>\n      <td>0.0</td>\n      <td>0.0</td>\n      <td>0.0</td>\n      <td>0</td>\n      <td>0.0</td>\n    </tr>\n    <tr>\n      <th>1</th>\n      <td>1</td>\n      <td>EGI01-1-1_19.jpg</td>\n      <td>72332775</td>\n      <td>1.0</td>\n      <td>1.00</td>\n      <td>1</td>\n      <td>1</td>\n      <td>[1]</td>\n      <td>1.0</td>\n      <td>1</td>\n      <td>1</td>\n      <td>[1]</td>\n      <td>0.0</td>\n      <td>0.0</td>\n      <td>0.0</td>\n      <td>0.0</td>\n      <td>0</td>\n      <td>0.0</td>\n    </tr>\n    <tr>\n      <th>2</th>\n      <td>2</td>\n      <td>EGI01-1-1_54.jpg</td>\n      <td>72332788</td>\n      <td>1.0</td>\n      <td>1.00</td>\n      <td>1</td>\n      <td>1</td>\n      <td>[1]</td>\n      <td>1.0</td>\n      <td>1</td>\n      <td>1</td>\n      <td>[1]</td>\n      <td>0.0</td>\n      <td>0.0</td>\n      <td>0.0</td>\n      <td>0.0</td>\n      <td>0</td>\n      <td>0.0</td>\n    </tr>\n    <tr>\n      <th>3</th>\n      <td>3</td>\n      <td>EGI01-1-1_69.jpg</td>\n      <td>72332794</td>\n      <td>1.0</td>\n      <td>1.00</td>\n      <td>1</td>\n      <td>1</td>\n      <td>[1]</td>\n      <td>1.0</td>\n      <td>1</td>\n      <td>1</td>\n      <td>[1]</td>\n      <td>0.0</td>\n      <td>0.0</td>\n      <td>0.0</td>\n      <td>0.0</td>\n      <td>0</td>\n      <td>0.0</td>\n    </tr>\n    <tr>\n      <th>4</th>\n      <td>4</td>\n      <td>EGI01-1-2_110.jpg</td>\n      <td>72332799</td>\n      <td>12.0</td>\n      <td>12.00</td>\n      <td>12</td>\n      <td>12</td>\n      <td>[12]</td>\n      <td>12.0</td>\n      <td>1</td>\n      <td>12</td>\n      <td>[12]</td>\n      <td>1.0</td>\n      <td>1.0</td>\n      <td>0.0</td>\n      <td>5.0</td>\n      <td>0</td>\n      <td>6.0</td>\n    </tr>\n    <tr>\n      <th>...</th>\n      <td>...</td>\n      <td>...</td>\n      <td>...</td>\n      <td>...</td>\n      <td>...</td>\n      <td>...</td>\n      <td>...</td>\n      <td>...</td>\n      <td>...</td>\n      <td>...</td>\n      <td>...</td>\n      <td>...</td>\n      <td>...</td>\n      <td>...</td>\n      <td>...</td>\n      <td>...</td>\n      <td>...</td>\n      <td>...</td>\n    </tr>\n    <tr>\n      <th>4316</th>\n      <td>4316</td>\n      <td>ESCG02-2_59.jpg</td>\n      <td>72373345</td>\n      <td>1.0</td>\n      <td>1.00</td>\n      <td>1</td>\n      <td>1</td>\n      <td>[1]</td>\n      <td>1.0</td>\n      <td>2</td>\n      <td>2</td>\n      <td>[1, 1]</td>\n      <td>0.0</td>\n      <td>0.0</td>\n      <td>0.0</td>\n      <td>0.0</td>\n      <td>0</td>\n      <td>0.0</td>\n    </tr>\n    <tr>\n      <th>4317</th>\n      <td>4317</td>\n      <td>ESCG02-2_62.jpg</td>\n      <td>72373347</td>\n      <td>1.0</td>\n      <td>1.00</td>\n      <td>1</td>\n      <td>1</td>\n      <td>[1]</td>\n      <td>1.0</td>\n      <td>4</td>\n      <td>4</td>\n      <td>[1, 1, 1, 1]</td>\n      <td>0.0</td>\n      <td>0.0</td>\n      <td>0.0</td>\n      <td>0.0</td>\n      <td>0</td>\n      <td>0.0</td>\n    </tr>\n    <tr>\n      <th>4318</th>\n      <td>4318</td>\n      <td>ESCG02-2_63.jpg</td>\n      <td>72373348</td>\n      <td>1.0</td>\n      <td>1.25</td>\n      <td>1</td>\n      <td>1</td>\n      <td>[1]</td>\n      <td>1.0</td>\n      <td>16</td>\n      <td>20</td>\n      <td>[1, 1, 1, 1, 1, 1, 1, 1, 1, 1, 1, 1, 2, 2, 2, 2]</td>\n      <td>2.0</td>\n      <td>1.0</td>\n      <td>0.0</td>\n      <td>5.0</td>\n      <td>0</td>\n      <td>14.0</td>\n    </tr>\n    <tr>\n      <th>4319</th>\n      <td>4319</td>\n      <td>ESCG02-2_64.jpg</td>\n      <td>72373350</td>\n      <td>5.0</td>\n      <td>5.47</td>\n      <td>5</td>\n      <td>5</td>\n      <td>[5]</td>\n      <td>5.0</td>\n      <td>15</td>\n      <td>82</td>\n      <td>[1, 2, 3, 5, 5, 5, 5, 5, 6, 6, 7, 7, 7, 8, 10]</td>\n      <td>4.0</td>\n      <td>6.0</td>\n      <td>0.0</td>\n      <td>5.0</td>\n      <td>0</td>\n      <td>14.0</td>\n    </tr>\n    <tr>\n      <th>4320</th>\n      <td>4320</td>\n      <td>ESCG02-2_65.jpg</td>\n      <td>72373351</td>\n      <td>9.0</td>\n      <td>8.50</td>\n      <td>7</td>\n      <td>10</td>\n      <td>[7, 10]</td>\n      <td>8.5</td>\n      <td>18</td>\n      <td>153</td>\n      <td>[1, 2, 5, 6, 7, 7, 7, 8, 9, 9, 10, 10, 10, 11,...</td>\n      <td>11.0</td>\n      <td>11.0</td>\n      <td>0.0</td>\n      <td>5.0</td>\n      <td>0</td>\n      <td>8.0</td>\n    </tr>\n  </tbody>\n</table>\n<p>4321 rows × 18 columns</p>\n</div>"
     },
     "execution_count": 33,
     "metadata": {},
     "output_type": "execute_result"
    }
   ],
   "source": [
    "print(f\"load {config['comparison_dataset']}\")\n",
    "pd.read_csv(config[\"comparison_dataset\"])"
   ]
  },
  {
   "cell_type": "code",
   "execution_count": 33,
   "id": "9cf58a9be2cfd66e",
   "metadata": {
    "collapsed": false,
    "ExecuteTime": {
     "end_time": "2024-04-16T10:05:29.305888Z",
     "start_time": "2024-04-16T10:05:29.304389Z"
    }
   },
   "outputs": [],
   "source": []
  }
 ],
 "metadata": {
  "kernelspec": {
   "display_name": "Python 3 (ipykernel)",
   "language": "python",
   "name": "python3"
  },
  "language_info": {
   "codemirror_mode": {
    "name": "ipython",
    "version": 3
   },
   "file_extension": ".py",
   "mimetype": "text/x-python",
   "name": "python",
   "nbconvert_exporter": "python",
   "pygments_lexer": "ipython3",
   "version": "3.9.6"
  }
 },
 "nbformat": 4,
 "nbformat_minor": 5
}
