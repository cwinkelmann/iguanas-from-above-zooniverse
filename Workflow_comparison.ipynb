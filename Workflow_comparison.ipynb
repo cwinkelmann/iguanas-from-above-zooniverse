{
 "cells": [
  {
   "cell_type": "markdown",
   "id": "306034533dcead43",
   "metadata": {},
   "source": [
    "# Looking into the workflow processes\n",
    "This notebook is used for debugging and understanding the workflow processes of the Zooniverse project \"Iguanas from above\"."
   ]
  },
  {
   "cell_type": "code",
   "execution_count": 13,
   "id": "145bce94f139f8ae",
   "metadata": {
    "collapsed": false,
    "ExecuteTime": {
     "end_time": "2024-04-16T08:36:15.785514Z",
     "start_time": "2024-04-16T08:36:15.779716Z"
    }
   },
   "outputs": [
    {
     "data": {
      "text/plain": "{'annotations_source': PosixPath('/Users/christian/data/zooniverse/IguanasFromAbove/2023-10-15/iguanas-from-above-classifications.csv'),\n 'goldstandard_data': PosixPath('/Users/christian/data/zooniverse/Images/Zooniverse_Goldstandard_images/expert-GS-2ndphase.csv'),\n 'gold_standard_image_subset': PosixPath('/Users/christian/data/zooniverse/Images/Zooniverse_Goldstandard_images/2-T2-GS-results-5th-0s.csv'),\n 'image_source': PosixPath('/Users/christian/data/zooniverse/Images/Zooniverse_Goldstandard_images/2nd launch_without_prefix'),\n 'yes_no_dataset': PosixPath('/Users/christian/data/zooniverse/2024_04_15_expert_goldstandard_analysis/Iguanas 2nd launch/yes_no_dataset_Iguanas 2nd launch.csv'),\n 'flat_dataset': PosixPath('/Users/christian/data/zooniverse/2024_04_15_expert_goldstandard_analysis/Iguanas 2nd launch/flat_dataset_Iguanas 2nd launch.csv'),\n 'flat_panoptes_points': PosixPath('/Users/christian/data/zooniverse/2024_04_15_expert_goldstandard_analysis/Iguanas 2nd launch/flat_panoptes_points_Iguanas 2nd launch.csv'),\n 'panoptes_question': PosixPath('/Users/christian/data/zooniverse/2024_04_15_expert_goldstandard_analysis/Iguanas 2nd launch/panoptes_question_Iguanas 2nd launch.csv'),\n 'merged_dataset': PosixPath('/Users/christian/data/zooniverse/2024_04_15_expert_goldstandard_analysis/Iguanas 2nd launch/flat_dataset_filtered_Iguanas 2nd launch.csv'),\n 'gold_standard_and_expert_count': PosixPath('/Users/christian/data/zooniverse/2024_04_15_expert_goldstandard_analysis/Iguanas 2nd launch/Iguanas 2nd launch_gold_standard_and_expert_count.csv'),\n 'comparison_dataset': PosixPath('/Users/christian/data/zooniverse/2024_04_15_expert_goldstandard_analysis/Iguanas 2nd launch/Iguanas 2nd launch_method_comparison.csv'),\n 'comparison_dataset_expert': PosixPath('/Users/christian/data/zooniverse/2024_04_15_expert_goldstandard_analysis/Iguanas 2nd launch/Iguanas 2nd launch_method_comparison_expert.csv'),\n 'comparison_dataset_yes_no': PosixPath('/Users/christian/data/zooniverse/2024_04_15_expert_goldstandard_analysis/Iguanas 2nd launch/Iguanas 2nd launch_method_comparison_yes_no.csv'),\n 'method_sums': PosixPath('/Users/christian/data/zooniverse/2024_04_15_expert_goldstandard_analysis/Iguanas 2nd launch/Iguanas 2nd launch_method_sums.csv'),\n 'rmse_errors': PosixPath('/Users/christian/data/zooniverse/2024_04_15_expert_goldstandard_analysis/Iguanas 2nd launch/Iguanas 2nd launch_rmse_errors.csv'),\n 'dbscan_hyperparam_grid': PosixPath('/Users/christian/data/zooniverse/2024_04_15_expert_goldstandard_analysis/Iguanas 2nd launch/Iguanas 2nd launch_hyperparam_grid.csv')}"
     },
     "execution_count": 13,
     "metadata": {},
     "output_type": "execute_result"
    }
   ],
   "source": [
    "from zooniverse.config import get_config\n",
    "import pandas as pd\n",
    "from pathlib import Path\n",
    "\n",
    "### use either the subset of the subset\n",
    "# phase_tag = \"Iguanas 1st launch\"\n",
    "phase_tag = \"Iguanas 2nd launch\"\n",
    "# phase_tag = \"Iguanas 3rd launch\"\n",
    "input_path = Path(\"/Users/christian/data/zooniverse\")\n",
    "\n",
    "# use_gold_standard_subset = \"expert\" # Use the expert-GS-Xphase as the basis\n",
    "output_path = Path(\"/Users/christian/data/zooniverse/2024_04_15_expert_goldstandard_analysis\").joinpath(phase_tag).resolve()\n",
    "\n",
    "output_plot_path = output_path.joinpath(\"plots\")\n",
    "output_plot_path.mkdir(parents=True, exist_ok=True)\n",
    "\n",
    "config = get_config(phase_tag=phase_tag, input_path=input_path, output_path=output_path)\n",
    "\n",
    "\n",
    "config\n"
   ]
  },
  {
   "cell_type": "code",
   "execution_count": 14,
   "id": "8d8e407d85449e69",
   "metadata": {
    "collapsed": false,
    "ExecuteTime": {
     "end_time": "2024-04-16T08:36:16.233708Z",
     "start_time": "2024-04-16T08:36:15.952842Z"
    }
   },
   "outputs": [
    {
     "data": {
      "text/plain": "                  workflow_id  workflow_version            image_name  \\\nflight_site_code                                                        \nNaN                     20600            35.102  iguanas-EPS03_69.jpg   \nNaN                     20600            35.102  iguanas-EPS03_69.jpg   \nNaN                     20600            35.102  iguanas-EPS03_69.jpg   \nNaN                     20600            35.102  iguanas-EPS03_69.jpg   \nNaN                     20600            35.102  iguanas-EPS03_69.jpg   \n...                       ...               ...                   ...   \nEGI06                   20600            94.166        EGI06-1_62.jpg   \nEGI04                   20600            94.166       EGI04-2_261.jpg   \nEGI04                   20600            94.166       EGI04-2_261.jpg   \nEGI04                   20600            94.166       EGI04-2_261.jpg   \nEGI04                   20600            94.166        EGI04-2_78.jpg   \n\n                  subject_id            x            y  \\\nflight_site_code                                         \nNaN                 72029511   703.617371   920.212830   \nNaN                 72029511   804.783386   977.087891   \nNaN                 72029511   785.983765  1052.907104   \nNaN                 72029511   259.066772   293.473267   \nNaN                 72029511   183.902252   302.392700   \n...                      ...          ...          ...   \nEGI06               72333497  1416.692139   881.247559   \nEGI04               72333410   348.615356   170.206467   \nEGI04               72333410   310.700073   242.079559   \nEGI04               72333410   516.515869   411.027252   \nEGI04               72333444    56.065323   595.790588   \n\n                                                tool_label  \\\nflight_site_code                                             \nNaN                                    Adult Male in a lek   \nNaN               Others (females, young males, juveniles)   \nNaN               Others (females, young males, juveniles)   \nNaN                                    Adult Male in a lek   \nNaN               Others (females, young males, juveniles)   \n...                                                    ...   \nEGI06             Others (females, young males, juveniles)   \nEGI04                                Adult Male with a lek   \nEGI04                                Adult Male with a lek   \nEGI04                                Adult Male with a lek   \nEGI04                                       Partial iguana   \n\n                           phase_tag                           user_id  \\\nflight_site_code                                                         \nNaN               Iguanas 2nd launch  ea57b1088a10fa7fef30ed0b344e2ca3   \nNaN               Iguanas 2nd launch  ea57b1088a10fa7fef30ed0b344e2ca3   \nNaN               Iguanas 2nd launch  ea57b1088a10fa7fef30ed0b344e2ca3   \nNaN               Iguanas 2nd launch  ea57b1088a10fa7fef30ed0b344e2ca3   \nNaN               Iguanas 2nd launch  ea57b1088a10fa7fef30ed0b344e2ca3   \n...                              ...                               ...   \nEGI06             Iguanas 2nd launch                               NaN   \nEGI04             Iguanas 2nd launch                               NaN   \nEGI04             Iguanas 2nd launch                               NaN   \nEGI04             Iguanas 2nd launch                               NaN   \nEGI04             Iguanas 2nd launch  dabdbb41b2897bd5fdef6dc4ca74584b   \n\n                                         user_name  \nflight_site_code                                    \nNaN               386fc0ec047b7e259744e72e8e64b9f9  \nNaN               386fc0ec047b7e259744e72e8e64b9f9  \nNaN               386fc0ec047b7e259744e72e8e64b9f9  \nNaN               386fc0ec047b7e259744e72e8e64b9f9  \nNaN               386fc0ec047b7e259744e72e8e64b9f9  \n...                                            ...  \nEGI06             50cb2f4ab2a0cb20578e4108c3e3ddc3  \nEGI04             d51caf2b0d8a68548a70de2a954d48dd  \nEGI04             d51caf2b0d8a68548a70de2a954d48dd  \nEGI04             d51caf2b0d8a68548a70de2a954d48dd  \nEGI04             d607a725449d5e3a2deaba5014fce17d  \n\n[159553 rows x 10 columns]",
      "text/html": "<div>\n<style scoped>\n    .dataframe tbody tr th:only-of-type {\n        vertical-align: middle;\n    }\n\n    .dataframe tbody tr th {\n        vertical-align: top;\n    }\n\n    .dataframe thead th {\n        text-align: right;\n    }\n</style>\n<table border=\"1\" class=\"dataframe\">\n  <thead>\n    <tr style=\"text-align: right;\">\n      <th></th>\n      <th>workflow_id</th>\n      <th>workflow_version</th>\n      <th>image_name</th>\n      <th>subject_id</th>\n      <th>x</th>\n      <th>y</th>\n      <th>tool_label</th>\n      <th>phase_tag</th>\n      <th>user_id</th>\n      <th>user_name</th>\n    </tr>\n    <tr>\n      <th>flight_site_code</th>\n      <th></th>\n      <th></th>\n      <th></th>\n      <th></th>\n      <th></th>\n      <th></th>\n      <th></th>\n      <th></th>\n      <th></th>\n      <th></th>\n    </tr>\n  </thead>\n  <tbody>\n    <tr>\n      <th>NaN</th>\n      <td>20600</td>\n      <td>35.102</td>\n      <td>iguanas-EPS03_69.jpg</td>\n      <td>72029511</td>\n      <td>703.617371</td>\n      <td>920.212830</td>\n      <td>Adult Male in a lek</td>\n      <td>Iguanas 2nd launch</td>\n      <td>ea57b1088a10fa7fef30ed0b344e2ca3</td>\n      <td>386fc0ec047b7e259744e72e8e64b9f9</td>\n    </tr>\n    <tr>\n      <th>NaN</th>\n      <td>20600</td>\n      <td>35.102</td>\n      <td>iguanas-EPS03_69.jpg</td>\n      <td>72029511</td>\n      <td>804.783386</td>\n      <td>977.087891</td>\n      <td>Others (females, young males, juveniles)</td>\n      <td>Iguanas 2nd launch</td>\n      <td>ea57b1088a10fa7fef30ed0b344e2ca3</td>\n      <td>386fc0ec047b7e259744e72e8e64b9f9</td>\n    </tr>\n    <tr>\n      <th>NaN</th>\n      <td>20600</td>\n      <td>35.102</td>\n      <td>iguanas-EPS03_69.jpg</td>\n      <td>72029511</td>\n      <td>785.983765</td>\n      <td>1052.907104</td>\n      <td>Others (females, young males, juveniles)</td>\n      <td>Iguanas 2nd launch</td>\n      <td>ea57b1088a10fa7fef30ed0b344e2ca3</td>\n      <td>386fc0ec047b7e259744e72e8e64b9f9</td>\n    </tr>\n    <tr>\n      <th>NaN</th>\n      <td>20600</td>\n      <td>35.102</td>\n      <td>iguanas-EPS03_69.jpg</td>\n      <td>72029511</td>\n      <td>259.066772</td>\n      <td>293.473267</td>\n      <td>Adult Male in a lek</td>\n      <td>Iguanas 2nd launch</td>\n      <td>ea57b1088a10fa7fef30ed0b344e2ca3</td>\n      <td>386fc0ec047b7e259744e72e8e64b9f9</td>\n    </tr>\n    <tr>\n      <th>NaN</th>\n      <td>20600</td>\n      <td>35.102</td>\n      <td>iguanas-EPS03_69.jpg</td>\n      <td>72029511</td>\n      <td>183.902252</td>\n      <td>302.392700</td>\n      <td>Others (females, young males, juveniles)</td>\n      <td>Iguanas 2nd launch</td>\n      <td>ea57b1088a10fa7fef30ed0b344e2ca3</td>\n      <td>386fc0ec047b7e259744e72e8e64b9f9</td>\n    </tr>\n    <tr>\n      <th>...</th>\n      <td>...</td>\n      <td>...</td>\n      <td>...</td>\n      <td>...</td>\n      <td>...</td>\n      <td>...</td>\n      <td>...</td>\n      <td>...</td>\n      <td>...</td>\n      <td>...</td>\n    </tr>\n    <tr>\n      <th>EGI06</th>\n      <td>20600</td>\n      <td>94.166</td>\n      <td>EGI06-1_62.jpg</td>\n      <td>72333497</td>\n      <td>1416.692139</td>\n      <td>881.247559</td>\n      <td>Others (females, young males, juveniles)</td>\n      <td>Iguanas 2nd launch</td>\n      <td>NaN</td>\n      <td>50cb2f4ab2a0cb20578e4108c3e3ddc3</td>\n    </tr>\n    <tr>\n      <th>EGI04</th>\n      <td>20600</td>\n      <td>94.166</td>\n      <td>EGI04-2_261.jpg</td>\n      <td>72333410</td>\n      <td>348.615356</td>\n      <td>170.206467</td>\n      <td>Adult Male with a lek</td>\n      <td>Iguanas 2nd launch</td>\n      <td>NaN</td>\n      <td>d51caf2b0d8a68548a70de2a954d48dd</td>\n    </tr>\n    <tr>\n      <th>EGI04</th>\n      <td>20600</td>\n      <td>94.166</td>\n      <td>EGI04-2_261.jpg</td>\n      <td>72333410</td>\n      <td>310.700073</td>\n      <td>242.079559</td>\n      <td>Adult Male with a lek</td>\n      <td>Iguanas 2nd launch</td>\n      <td>NaN</td>\n      <td>d51caf2b0d8a68548a70de2a954d48dd</td>\n    </tr>\n    <tr>\n      <th>EGI04</th>\n      <td>20600</td>\n      <td>94.166</td>\n      <td>EGI04-2_261.jpg</td>\n      <td>72333410</td>\n      <td>516.515869</td>\n      <td>411.027252</td>\n      <td>Adult Male with a lek</td>\n      <td>Iguanas 2nd launch</td>\n      <td>NaN</td>\n      <td>d51caf2b0d8a68548a70de2a954d48dd</td>\n    </tr>\n    <tr>\n      <th>EGI04</th>\n      <td>20600</td>\n      <td>94.166</td>\n      <td>EGI04-2_78.jpg</td>\n      <td>72333444</td>\n      <td>56.065323</td>\n      <td>595.790588</td>\n      <td>Partial iguana</td>\n      <td>Iguanas 2nd launch</td>\n      <td>dabdbb41b2897bd5fdef6dc4ca74584b</td>\n      <td>d607a725449d5e3a2deaba5014fce17d</td>\n    </tr>\n  </tbody>\n</table>\n<p>159553 rows × 10 columns</p>\n</div>"
     },
     "execution_count": 14,
     "metadata": {},
     "output_type": "execute_result"
    }
   ],
   "source": [
    "df_flat = pd.read_csv(\n",
    "    config[\"flat_dataset\"], sep=\",\", index_col=0)\n",
    "df_flat"
   ]
  },
  {
   "cell_type": "code",
   "execution_count": 15,
   "id": "664ed3008f1b1bcb",
   "metadata": {
    "collapsed": false,
    "ExecuteTime": {
     "end_time": "2024-04-16T08:36:16.243026Z",
     "start_time": "2024-04-16T08:36:16.235456Z"
    }
   },
   "outputs": [
    {
     "data": {
      "text/plain": "workflow_version\n93.166    95867\n94.166    62639\n89.162      484\n77.155      469\n47.109       26\n89.156       25\n35.102       20\n35.104       10\n52.128        7\n93.165        3\n83.156        2\n89.161        1\ndtype: int64"
     },
     "execution_count": 15,
     "metadata": {},
     "output_type": "execute_result"
    }
   ],
   "source": [
    "df_flat.groupby('workflow_version').size().sort_values(ascending=False)"
   ]
  },
  {
   "cell_type": "code",
   "execution_count": 16,
   "id": "fa00f85be5e3dfa",
   "metadata": {
    "collapsed": false,
    "ExecuteTime": {
     "end_time": "2024-04-16T08:36:16.290596Z",
     "start_time": "2024-04-16T08:36:16.244727Z"
    }
   },
   "outputs": [
    {
     "data": {
      "text/plain": "           flight_site_code  workflow_id  workflow_version       image_name  \\\nUnnamed: 0                                                                    \n0                    ESCG02        20600            89.162  ESCG02-1_13.jpg   \n1                    ESCG02        20600            89.162  ESCG02-1_13.jpg   \n2                    ESCG02        20600            89.162  ESCG02-1_13.jpg   \n3                    ESCG02        20600            89.162  ESCG02-1_13.jpg   \n4                    ESCG02        20600            89.162  ESCG02-1_13.jpg   \n...                     ...          ...               ...              ...   \n8608                  FMO04        20600            94.166   FMO04-2_38.jpg   \n8609                  FMO04        20600            94.166   FMO04-2_38.jpg   \n8610                  FMO04        20600            94.166   FMO04-2_38.jpg   \n8611                  FMO04        20600            94.166   FMO04-2_38.jpg   \n8612                  EPS05        20600            94.166   EPS05-2_98.jpg   \n\n            subject_id           x           y  \\\nUnnamed: 0                                       \n0             72373241  823.109619  480.843323   \n1             72373241  746.761475  456.873260   \n2             72373241  613.714417  418.871735   \n3             72373241  486.640900  415.071564   \n4             72373241   93.405724  368.645630   \n...                ...         ...         ...   \n8608          72338789  561.572083  162.728821   \n8609          72338789   81.808907  918.737549   \n8610          72338789  553.821228  173.496384   \n8611          72338789   82.596489  927.455994   \n8612          72335930  797.624268  455.618622   \n\n                                          tool_label           phase_tag  \\\nUnnamed: 0                                                                 \n0           Others (females, young males, juveniles)  Iguanas 2nd launch   \n1           Others (females, young males, juveniles)  Iguanas 2nd launch   \n2           Others (females, young males, juveniles)  Iguanas 2nd launch   \n3           Others (females, young males, juveniles)  Iguanas 2nd launch   \n4           Others (females, young males, juveniles)  Iguanas 2nd launch   \n...                                              ...                 ...   \n8608                                Adult Male alone  Iguanas 2nd launch   \n8609                                Adult Male alone  Iguanas 2nd launch   \n8610                                Adult Male alone  Iguanas 2nd launch   \n8611                                Adult Male alone  Iguanas 2nd launch   \n8612                                Adult Male alone  Iguanas 2nd launch   \n\n                                     user_id  \\\nUnnamed: 0                                     \n0           e420d35a1ea646006eea5b67a80ae4c4   \n1           e420d35a1ea646006eea5b67a80ae4c4   \n2           e420d35a1ea646006eea5b67a80ae4c4   \n3           e420d35a1ea646006eea5b67a80ae4c4   \n4           e420d35a1ea646006eea5b67a80ae4c4   \n...                                      ...   \n8608        82bc35ac2fff84ceaf64e6e963301a55   \n8609        82bc35ac2fff84ceaf64e6e963301a55   \n8610        556acb90168e837d01a641f7eee6d3b4   \n8611        556acb90168e837d01a641f7eee6d3b4   \n8612        c17d30508fc5b4caef1c7d12bf8888dd   \n\n                                   user_name   mission_name  \\\nUnnamed: 0                                                    \n0           74a407ea10c24ff0e2c30672740b06d1  South Coast G   \n1           74a407ea10c24ff0e2c30672740b06d1  South Coast G   \n2           74a407ea10c24ff0e2c30672740b06d1  South Coast G   \n3           74a407ea10c24ff0e2c30672740b06d1  South Coast G   \n4           74a407ea10c24ff0e2c30672740b06d1  South Coast G   \n...                                      ...            ...   \n8608        45eff38cb7f7707fc3c2b68964bc4ba5        Montura   \n8609        45eff38cb7f7707fc3c2b68964bc4ba5        Montura   \n8610        2195c9465b7d7cf53e0b394e562d3347        Montura   \n8611        2195c9465b7d7cf53e0b394e562d3347        Montura   \n8612        1b3717c11f88e4a03b957ba81a50200e  Punta Suárez   \n\n                                                   image_path  width  height  \nUnnamed: 0                                                                    \n0           /Users/christian/data/zooniverse/Images/Zooniv...   1078    1074  \n1           /Users/christian/data/zooniverse/Images/Zooniv...   1078    1074  \n2           /Users/christian/data/zooniverse/Images/Zooniv...   1078    1074  \n3           /Users/christian/data/zooniverse/Images/Zooniv...   1078    1074  \n4           /Users/christian/data/zooniverse/Images/Zooniv...   1078    1074  \n...                                                       ...    ...     ...  \n8608        /Users/christian/data/zooniverse/Images/Zooniv...   1499    1445  \n8609        /Users/christian/data/zooniverse/Images/Zooniv...   1499    1445  \n8610        /Users/christian/data/zooniverse/Images/Zooniv...   1499    1445  \n8611        /Users/christian/data/zooniverse/Images/Zooniv...   1499    1445  \n8612        /Users/christian/data/zooniverse/Images/Zooniv...   1368    1281  \n\n[8613 rows x 15 columns]",
      "text/html": "<div>\n<style scoped>\n    .dataframe tbody tr th:only-of-type {\n        vertical-align: middle;\n    }\n\n    .dataframe tbody tr th {\n        vertical-align: top;\n    }\n\n    .dataframe thead th {\n        text-align: right;\n    }\n</style>\n<table border=\"1\" class=\"dataframe\">\n  <thead>\n    <tr style=\"text-align: right;\">\n      <th></th>\n      <th>flight_site_code</th>\n      <th>workflow_id</th>\n      <th>workflow_version</th>\n      <th>image_name</th>\n      <th>subject_id</th>\n      <th>x</th>\n      <th>y</th>\n      <th>tool_label</th>\n      <th>phase_tag</th>\n      <th>user_id</th>\n      <th>user_name</th>\n      <th>mission_name</th>\n      <th>image_path</th>\n      <th>width</th>\n      <th>height</th>\n    </tr>\n    <tr>\n      <th>Unnamed: 0</th>\n      <th></th>\n      <th></th>\n      <th></th>\n      <th></th>\n      <th></th>\n      <th></th>\n      <th></th>\n      <th></th>\n      <th></th>\n      <th></th>\n      <th></th>\n      <th></th>\n      <th></th>\n      <th></th>\n      <th></th>\n    </tr>\n  </thead>\n  <tbody>\n    <tr>\n      <th>0</th>\n      <td>ESCG02</td>\n      <td>20600</td>\n      <td>89.162</td>\n      <td>ESCG02-1_13.jpg</td>\n      <td>72373241</td>\n      <td>823.109619</td>\n      <td>480.843323</td>\n      <td>Others (females, young males, juveniles)</td>\n      <td>Iguanas 2nd launch</td>\n      <td>e420d35a1ea646006eea5b67a80ae4c4</td>\n      <td>74a407ea10c24ff0e2c30672740b06d1</td>\n      <td>South Coast G</td>\n      <td>/Users/christian/data/zooniverse/Images/Zooniv...</td>\n      <td>1078</td>\n      <td>1074</td>\n    </tr>\n    <tr>\n      <th>1</th>\n      <td>ESCG02</td>\n      <td>20600</td>\n      <td>89.162</td>\n      <td>ESCG02-1_13.jpg</td>\n      <td>72373241</td>\n      <td>746.761475</td>\n      <td>456.873260</td>\n      <td>Others (females, young males, juveniles)</td>\n      <td>Iguanas 2nd launch</td>\n      <td>e420d35a1ea646006eea5b67a80ae4c4</td>\n      <td>74a407ea10c24ff0e2c30672740b06d1</td>\n      <td>South Coast G</td>\n      <td>/Users/christian/data/zooniverse/Images/Zooniv...</td>\n      <td>1078</td>\n      <td>1074</td>\n    </tr>\n    <tr>\n      <th>2</th>\n      <td>ESCG02</td>\n      <td>20600</td>\n      <td>89.162</td>\n      <td>ESCG02-1_13.jpg</td>\n      <td>72373241</td>\n      <td>613.714417</td>\n      <td>418.871735</td>\n      <td>Others (females, young males, juveniles)</td>\n      <td>Iguanas 2nd launch</td>\n      <td>e420d35a1ea646006eea5b67a80ae4c4</td>\n      <td>74a407ea10c24ff0e2c30672740b06d1</td>\n      <td>South Coast G</td>\n      <td>/Users/christian/data/zooniverse/Images/Zooniv...</td>\n      <td>1078</td>\n      <td>1074</td>\n    </tr>\n    <tr>\n      <th>3</th>\n      <td>ESCG02</td>\n      <td>20600</td>\n      <td>89.162</td>\n      <td>ESCG02-1_13.jpg</td>\n      <td>72373241</td>\n      <td>486.640900</td>\n      <td>415.071564</td>\n      <td>Others (females, young males, juveniles)</td>\n      <td>Iguanas 2nd launch</td>\n      <td>e420d35a1ea646006eea5b67a80ae4c4</td>\n      <td>74a407ea10c24ff0e2c30672740b06d1</td>\n      <td>South Coast G</td>\n      <td>/Users/christian/data/zooniverse/Images/Zooniv...</td>\n      <td>1078</td>\n      <td>1074</td>\n    </tr>\n    <tr>\n      <th>4</th>\n      <td>ESCG02</td>\n      <td>20600</td>\n      <td>89.162</td>\n      <td>ESCG02-1_13.jpg</td>\n      <td>72373241</td>\n      <td>93.405724</td>\n      <td>368.645630</td>\n      <td>Others (females, young males, juveniles)</td>\n      <td>Iguanas 2nd launch</td>\n      <td>e420d35a1ea646006eea5b67a80ae4c4</td>\n      <td>74a407ea10c24ff0e2c30672740b06d1</td>\n      <td>South Coast G</td>\n      <td>/Users/christian/data/zooniverse/Images/Zooniv...</td>\n      <td>1078</td>\n      <td>1074</td>\n    </tr>\n    <tr>\n      <th>...</th>\n      <td>...</td>\n      <td>...</td>\n      <td>...</td>\n      <td>...</td>\n      <td>...</td>\n      <td>...</td>\n      <td>...</td>\n      <td>...</td>\n      <td>...</td>\n      <td>...</td>\n      <td>...</td>\n      <td>...</td>\n      <td>...</td>\n      <td>...</td>\n      <td>...</td>\n    </tr>\n    <tr>\n      <th>8608</th>\n      <td>FMO04</td>\n      <td>20600</td>\n      <td>94.166</td>\n      <td>FMO04-2_38.jpg</td>\n      <td>72338789</td>\n      <td>561.572083</td>\n      <td>162.728821</td>\n      <td>Adult Male alone</td>\n      <td>Iguanas 2nd launch</td>\n      <td>82bc35ac2fff84ceaf64e6e963301a55</td>\n      <td>45eff38cb7f7707fc3c2b68964bc4ba5</td>\n      <td>Montura</td>\n      <td>/Users/christian/data/zooniverse/Images/Zooniv...</td>\n      <td>1499</td>\n      <td>1445</td>\n    </tr>\n    <tr>\n      <th>8609</th>\n      <td>FMO04</td>\n      <td>20600</td>\n      <td>94.166</td>\n      <td>FMO04-2_38.jpg</td>\n      <td>72338789</td>\n      <td>81.808907</td>\n      <td>918.737549</td>\n      <td>Adult Male alone</td>\n      <td>Iguanas 2nd launch</td>\n      <td>82bc35ac2fff84ceaf64e6e963301a55</td>\n      <td>45eff38cb7f7707fc3c2b68964bc4ba5</td>\n      <td>Montura</td>\n      <td>/Users/christian/data/zooniverse/Images/Zooniv...</td>\n      <td>1499</td>\n      <td>1445</td>\n    </tr>\n    <tr>\n      <th>8610</th>\n      <td>FMO04</td>\n      <td>20600</td>\n      <td>94.166</td>\n      <td>FMO04-2_38.jpg</td>\n      <td>72338789</td>\n      <td>553.821228</td>\n      <td>173.496384</td>\n      <td>Adult Male alone</td>\n      <td>Iguanas 2nd launch</td>\n      <td>556acb90168e837d01a641f7eee6d3b4</td>\n      <td>2195c9465b7d7cf53e0b394e562d3347</td>\n      <td>Montura</td>\n      <td>/Users/christian/data/zooniverse/Images/Zooniv...</td>\n      <td>1499</td>\n      <td>1445</td>\n    </tr>\n    <tr>\n      <th>8611</th>\n      <td>FMO04</td>\n      <td>20600</td>\n      <td>94.166</td>\n      <td>FMO04-2_38.jpg</td>\n      <td>72338789</td>\n      <td>82.596489</td>\n      <td>927.455994</td>\n      <td>Adult Male alone</td>\n      <td>Iguanas 2nd launch</td>\n      <td>556acb90168e837d01a641f7eee6d3b4</td>\n      <td>2195c9465b7d7cf53e0b394e562d3347</td>\n      <td>Montura</td>\n      <td>/Users/christian/data/zooniverse/Images/Zooniv...</td>\n      <td>1499</td>\n      <td>1445</td>\n    </tr>\n    <tr>\n      <th>8612</th>\n      <td>EPS05</td>\n      <td>20600</td>\n      <td>94.166</td>\n      <td>EPS05-2_98.jpg</td>\n      <td>72335930</td>\n      <td>797.624268</td>\n      <td>455.618622</td>\n      <td>Adult Male alone</td>\n      <td>Iguanas 2nd launch</td>\n      <td>c17d30508fc5b4caef1c7d12bf8888dd</td>\n      <td>1b3717c11f88e4a03b957ba81a50200e</td>\n      <td>Punta Suárez</td>\n      <td>/Users/christian/data/zooniverse/Images/Zooniv...</td>\n      <td>1368</td>\n      <td>1281</td>\n    </tr>\n  </tbody>\n</table>\n<p>8613 rows × 15 columns</p>\n</div>"
     },
     "execution_count": 16,
     "metadata": {},
     "output_type": "execute_result"
    }
   ],
   "source": [
    "df_flat_filtered = pd.read_csv(\n",
    "    config[\"merged_dataset\"], sep=\",\", index_col=0)\n",
    "df_flat_filtered"
   ]
  },
  {
   "cell_type": "code",
   "execution_count": 17,
   "id": "2d7cd6a09ba23121",
   "metadata": {
    "collapsed": false,
    "ExecuteTime": {
     "end_time": "2024-04-16T08:36:16.300792Z",
     "start_time": "2024-04-16T08:36:16.293101Z"
    }
   },
   "outputs": [
    {
     "data": {
      "text/plain": "0      72332801\n1      72332802\n2      72332876\n3      72332972\n4      72332999\n         ...   \n451    72341576\n452    72341585\n453    72341593\n454    72341609\n455    72341627\nName: subject_id, Length: 456, dtype: int64"
     },
     "execution_count": 17,
     "metadata": {},
     "output_type": "execute_result"
    }
   ],
   "source": [
    "df_expert_count = pd.read_csv(config[\"goldstandard_data\"], sep=\";\")\n",
    "df_expert_count[\"subject_id\"]### Reading the data \n"
   ]
  },
  {
   "cell_type": "code",
   "execution_count": 18,
   "id": "1d94bf7d1066ee64",
   "metadata": {
    "collapsed": false,
    "ExecuteTime": {
     "end_time": "2024-04-16T08:36:16.311145Z",
     "start_time": "2024-04-16T08:36:16.301950Z"
    }
   },
   "outputs": [
    {
     "data": {
      "text/plain": "workflow_version\n89.162      55\n93.166    5939\n94.166    3623\ndtype: int64"
     },
     "execution_count": 18,
     "metadata": {},
     "output_type": "execute_result"
    }
   ],
   "source": [
    "df_flat[df_flat.subject_id.isin(df_expert_count[\"subject_id\"])].groupby('workflow_version').size()"
   ]
  },
  {
   "cell_type": "markdown",
   "source": [
    "# Panoptes Data Extraction from Zooniverse"
   ],
   "metadata": {
    "collapsed": false
   },
   "id": "10d30088553ee9a8"
  },
  {
   "cell_type": "markdown",
   "id": "b6577bcc8c9d6d2c",
   "metadata": {
    "collapsed": false
   },
   "source": [
    "## Panoptes Extract\n",
    "\n",
    "\n"
   ]
  },
  {
   "cell_type": "code",
   "outputs": [],
   "source": [
    "# create a configuration file from the workflow\n",
    "# !mkdir ./data/phase_1\n",
    "# ! panoptes_aggregation config /Users/christian/data/zooniverse/IguanasFromAbove/2023-10-15/iguanas-from-above-workflows.csv 14370 --min_version 0 --max_version 142.245 -d ./data/phase_1\n",
    "# \n",
    "# !mkdir ./data/phase_2\n",
    "# ! panoptes_aggregation config /Users/christian/data/zooniverse/IguanasFromAbove/2023-10-15/iguanas-from-above-workflows.csv 20600 --min_version 0 --max_version 94.166 -d ./data/phase_2\n",
    "# \n",
    "# !mkdir ./data/phase_3\n",
    "# ! panoptes_aggregation config /Users/christian/data/zooniverse/IguanasFromAbove/2023-10-15/iguanas-from-above-workflows.csv 22040 --min_version 0 --max_version 9.63 -d ./data/phase_3"
   ],
   "metadata": {
    "collapsed": false,
    "ExecuteTime": {
     "end_time": "2024-04-16T08:36:16.315634Z",
     "start_time": "2024-04-16T08:36:16.312939Z"
    }
   },
   "id": "80589cdde7999f5b",
   "execution_count": 19
  },
  {
   "cell_type": "code",
   "outputs": [],
   "source": [
    "# TODO how to extract multiple workflow versions???\n",
    "# !panoptes_aggregation extract /Users/christian/data/zooniverse/IguanasFromAbove/2023-10-15/iguanas-from-above-classifications.csv -d ./data/phase_1/ ./data/phase_1/Extractor_config_workflow_14370_V142.245.yaml\n",
    "# \n",
    "# !panoptes_aggregation extract /Users/christian/data/zooniverse/IguanasFromAbove/2023-10-15/iguanas-from-above-classifications.csv -d ./data/phase_2/ ./data/phase_2/Extractor_config_workflow_20600_V94.166.yaml\n",
    "\n",
    "# !panoptes_aggregation extract /Users/christian/data/zooniverse/IguanasFromAbove/2023-10-15/iguanas-from-above-classifications.csv -d ./data/phase_3 ./data/phase_3/Extractor_config_workflow_22040_V9.63.yaml"
   ],
   "metadata": {
    "collapsed": false,
    "ExecuteTime": {
     "end_time": "2024-04-16T08:36:16.320784Z",
     "start_time": "2024-04-16T08:36:16.317874Z"
    }
   },
   "id": "d76485d137c3687",
   "execution_count": 20
  },
  {
   "cell_type": "markdown",
   "source": [
    "# Look into the subjects file\n",
    "This contains the mappings from the subject_id to the image file\n",
    "\n"
   ],
   "metadata": {
    "collapsed": false
   },
   "id": "af3dbedc1768b0ed"
  },
  {
   "cell_type": "code",
   "outputs": [
    {
     "name": "stderr",
     "output_type": "stream",
     "text": [
      "/var/folders/2k/78nn7s4548986wsjh29rhj9w0000gn/T/ipykernel_43045/3635367931.py:1: DtypeWarning: Columns (7,8) have mixed types. Specify dtype option on import or set low_memory=False.\n",
      "  df_subjects = pd.read_csv(\"./data/zooniverse/iguanas-from-above-subjects.csv\", sep=\",\")\n"
     ]
    },
    {
     "data": {
      "text/plain": "       subject_id  project_id  workflow_id  subject_set_id  \\\n0        44660549       11905          NaN           83766   \n1        44660550       11905          NaN           83766   \n2        44660551       11905          NaN           83766   \n3        44660552       11905          NaN           83766   \n4        44660553       11905          NaN           83766   \n...           ...         ...          ...             ...   \n68155    92469731       11905      25351.0          116619   \n68156    92469733       11905      25351.0          116619   \n68157    92469734       11905      25351.0          116619   \n68158    92469735       11905      25351.0          116619   \n68159    92469736       11905      25351.0          116619   \n\n                                                metadata  \\\n0      {\"image_name\":\"SMF02-1-2-2_740.jpg\",\"subject_i...   \n1      {\"image_name\":\"SRIL03-2-1_153.jpg\",\"subject_id...   \n2      {\"image_name\":\"SRIL03-2-2_90.jpg\",\"subject_id\"...   \n3      {\"image_name\":\"SRIL03-2-2_127.jpg\",\"subject_id...   \n4      {\"image_name\":\"SRIL03-2-2_133.jpg\",\"subject_id...   \n...                                                  ...   \n68155  {\"Site\":\"Puerto Villamil\",\"Island\":\"Isabela\",\"...   \n68156  {\"Site\":\"Puerto Villamil\",\"Island\":\"Isabela\",\"...   \n68157  {\"Site\":\"Puerto Villamil\",\"Island\":\"Isabela\",\"...   \n68158  {\"Site\":\"Puerto Villamil\",\"Island\":\"Isabela\",\"...   \n68159  {\"Site\":\"Puerto Villamil\",\"Island\":\"Isabela\",\"...   \n\n                                               locations  \\\n0      {\"0\":\"https://panoptes-uploads.zooniverse.org/...   \n1      {\"0\":\"https://panoptes-uploads.zooniverse.org/...   \n2      {\"0\":\"https://panoptes-uploads.zooniverse.org/...   \n3      {\"0\":\"https://panoptes-uploads.zooniverse.org/...   \n4      {\"0\":\"https://panoptes-uploads.zooniverse.org/...   \n...                                                  ...   \n68155  {\"0\":\"https://panoptes-uploads.zooniverse.org/...   \n68156  {\"0\":\"https://panoptes-uploads.zooniverse.org/...   \n68157  {\"0\":\"https://panoptes-uploads.zooniverse.org/...   \n68158  {\"0\":\"https://panoptes-uploads.zooniverse.org/...   \n68159  {\"0\":\"https://panoptes-uploads.zooniverse.org/...   \n\n       classifications_count retired_at retirement_reason  \\\n0                          0        NaN               NaN   \n1                          0        NaN               NaN   \n2                          0        NaN               NaN   \n3                          0        NaN               NaN   \n4                          0        NaN               NaN   \n...                      ...        ...               ...   \n68155                      2        NaN               NaN   \n68156                      3        NaN               NaN   \n68157                      6        NaN               NaN   \n68158                      1        NaN               NaN   \n68159                      4        NaN               NaN   \n\n                    created_at               updated_at  \n0      2020-05-12 11:01:33 UTC  2020-05-12 11:01:33 UTC  \n1      2020-05-12 11:01:39 UTC  2020-05-12 11:01:39 UTC  \n2      2020-05-12 11:01:45 UTC  2020-05-12 11:01:45 UTC  \n3      2020-05-12 11:01:49 UTC  2020-05-12 11:01:49 UTC  \n4      2020-05-12 11:01:53 UTC  2020-05-12 11:01:53 UTC  \n...                        ...                      ...  \n68155  2023-10-12 16:28:45 UTC  2023-10-12 16:28:45 UTC  \n68156  2023-10-12 16:28:46 UTC  2023-10-12 16:28:46 UTC  \n68157  2023-10-12 16:28:46 UTC  2023-10-12 16:28:46 UTC  \n68158  2023-10-12 16:28:46 UTC  2023-10-12 16:28:46 UTC  \n68159  2023-10-12 16:28:47 UTC  2023-10-12 16:28:47 UTC  \n\n[68160 rows x 11 columns]",
      "text/html": "<div>\n<style scoped>\n    .dataframe tbody tr th:only-of-type {\n        vertical-align: middle;\n    }\n\n    .dataframe tbody tr th {\n        vertical-align: top;\n    }\n\n    .dataframe thead th {\n        text-align: right;\n    }\n</style>\n<table border=\"1\" class=\"dataframe\">\n  <thead>\n    <tr style=\"text-align: right;\">\n      <th></th>\n      <th>subject_id</th>\n      <th>project_id</th>\n      <th>workflow_id</th>\n      <th>subject_set_id</th>\n      <th>metadata</th>\n      <th>locations</th>\n      <th>classifications_count</th>\n      <th>retired_at</th>\n      <th>retirement_reason</th>\n      <th>created_at</th>\n      <th>updated_at</th>\n    </tr>\n  </thead>\n  <tbody>\n    <tr>\n      <th>0</th>\n      <td>44660549</td>\n      <td>11905</td>\n      <td>NaN</td>\n      <td>83766</td>\n      <td>{\"image_name\":\"SMF02-1-2-2_740.jpg\",\"subject_i...</td>\n      <td>{\"0\":\"https://panoptes-uploads.zooniverse.org/...</td>\n      <td>0</td>\n      <td>NaN</td>\n      <td>NaN</td>\n      <td>2020-05-12 11:01:33 UTC</td>\n      <td>2020-05-12 11:01:33 UTC</td>\n    </tr>\n    <tr>\n      <th>1</th>\n      <td>44660550</td>\n      <td>11905</td>\n      <td>NaN</td>\n      <td>83766</td>\n      <td>{\"image_name\":\"SRIL03-2-1_153.jpg\",\"subject_id...</td>\n      <td>{\"0\":\"https://panoptes-uploads.zooniverse.org/...</td>\n      <td>0</td>\n      <td>NaN</td>\n      <td>NaN</td>\n      <td>2020-05-12 11:01:39 UTC</td>\n      <td>2020-05-12 11:01:39 UTC</td>\n    </tr>\n    <tr>\n      <th>2</th>\n      <td>44660551</td>\n      <td>11905</td>\n      <td>NaN</td>\n      <td>83766</td>\n      <td>{\"image_name\":\"SRIL03-2-2_90.jpg\",\"subject_id\"...</td>\n      <td>{\"0\":\"https://panoptes-uploads.zooniverse.org/...</td>\n      <td>0</td>\n      <td>NaN</td>\n      <td>NaN</td>\n      <td>2020-05-12 11:01:45 UTC</td>\n      <td>2020-05-12 11:01:45 UTC</td>\n    </tr>\n    <tr>\n      <th>3</th>\n      <td>44660552</td>\n      <td>11905</td>\n      <td>NaN</td>\n      <td>83766</td>\n      <td>{\"image_name\":\"SRIL03-2-2_127.jpg\",\"subject_id...</td>\n      <td>{\"0\":\"https://panoptes-uploads.zooniverse.org/...</td>\n      <td>0</td>\n      <td>NaN</td>\n      <td>NaN</td>\n      <td>2020-05-12 11:01:49 UTC</td>\n      <td>2020-05-12 11:01:49 UTC</td>\n    </tr>\n    <tr>\n      <th>4</th>\n      <td>44660553</td>\n      <td>11905</td>\n      <td>NaN</td>\n      <td>83766</td>\n      <td>{\"image_name\":\"SRIL03-2-2_133.jpg\",\"subject_id...</td>\n      <td>{\"0\":\"https://panoptes-uploads.zooniverse.org/...</td>\n      <td>0</td>\n      <td>NaN</td>\n      <td>NaN</td>\n      <td>2020-05-12 11:01:53 UTC</td>\n      <td>2020-05-12 11:01:53 UTC</td>\n    </tr>\n    <tr>\n      <th>...</th>\n      <td>...</td>\n      <td>...</td>\n      <td>...</td>\n      <td>...</td>\n      <td>...</td>\n      <td>...</td>\n      <td>...</td>\n      <td>...</td>\n      <td>...</td>\n      <td>...</td>\n      <td>...</td>\n    </tr>\n    <tr>\n      <th>68155</th>\n      <td>92469731</td>\n      <td>11905</td>\n      <td>25351.0</td>\n      <td>116619</td>\n      <td>{\"Site\":\"Puerto Villamil\",\"Island\":\"Isabela\",\"...</td>\n      <td>{\"0\":\"https://panoptes-uploads.zooniverse.org/...</td>\n      <td>2</td>\n      <td>NaN</td>\n      <td>NaN</td>\n      <td>2023-10-12 16:28:45 UTC</td>\n      <td>2023-10-12 16:28:45 UTC</td>\n    </tr>\n    <tr>\n      <th>68156</th>\n      <td>92469733</td>\n      <td>11905</td>\n      <td>25351.0</td>\n      <td>116619</td>\n      <td>{\"Site\":\"Puerto Villamil\",\"Island\":\"Isabela\",\"...</td>\n      <td>{\"0\":\"https://panoptes-uploads.zooniverse.org/...</td>\n      <td>3</td>\n      <td>NaN</td>\n      <td>NaN</td>\n      <td>2023-10-12 16:28:46 UTC</td>\n      <td>2023-10-12 16:28:46 UTC</td>\n    </tr>\n    <tr>\n      <th>68157</th>\n      <td>92469734</td>\n      <td>11905</td>\n      <td>25351.0</td>\n      <td>116619</td>\n      <td>{\"Site\":\"Puerto Villamil\",\"Island\":\"Isabela\",\"...</td>\n      <td>{\"0\":\"https://panoptes-uploads.zooniverse.org/...</td>\n      <td>6</td>\n      <td>NaN</td>\n      <td>NaN</td>\n      <td>2023-10-12 16:28:46 UTC</td>\n      <td>2023-10-12 16:28:46 UTC</td>\n    </tr>\n    <tr>\n      <th>68158</th>\n      <td>92469735</td>\n      <td>11905</td>\n      <td>25351.0</td>\n      <td>116619</td>\n      <td>{\"Site\":\"Puerto Villamil\",\"Island\":\"Isabela\",\"...</td>\n      <td>{\"0\":\"https://panoptes-uploads.zooniverse.org/...</td>\n      <td>1</td>\n      <td>NaN</td>\n      <td>NaN</td>\n      <td>2023-10-12 16:28:46 UTC</td>\n      <td>2023-10-12 16:28:46 UTC</td>\n    </tr>\n    <tr>\n      <th>68159</th>\n      <td>92469736</td>\n      <td>11905</td>\n      <td>25351.0</td>\n      <td>116619</td>\n      <td>{\"Site\":\"Puerto Villamil\",\"Island\":\"Isabela\",\"...</td>\n      <td>{\"0\":\"https://panoptes-uploads.zooniverse.org/...</td>\n      <td>4</td>\n      <td>NaN</td>\n      <td>NaN</td>\n      <td>2023-10-12 16:28:47 UTC</td>\n      <td>2023-10-12 16:28:47 UTC</td>\n    </tr>\n  </tbody>\n</table>\n<p>68160 rows × 11 columns</p>\n</div>"
     },
     "execution_count": 24,
     "metadata": {},
     "output_type": "execute_result"
    }
   ],
   "source": [
    "df_subjects = pd.read_csv(\"./data/zooniverse/iguanas-from-above-subjects.csv\", sep=\",\")\n",
    "# df_subjects"
   ],
   "metadata": {
    "collapsed": false,
    "ExecuteTime": {
     "end_time": "2024-04-16T08:37:03.794300Z",
     "start_time": "2024-04-16T08:37:03.480463Z"
    }
   },
   "id": "9fd404ec525777e3",
   "execution_count": 24
  },
  {
   "cell_type": "markdown",
   "source": [
    "## Merge the extractions if there are multiple extractions per phase"
   ],
   "metadata": {
    "collapsed": false
   },
   "id": "627dcf3904529cee"
  },
  {
   "cell_type": "code",
   "execution_count": null,
   "id": "d8ea83ced96e1e6f",
   "metadata": {
    "collapsed": false,
    "ExecuteTime": {
     "end_time": "2024-04-16T08:36:16.443187Z",
     "start_time": "2024-04-16T08:36:16.443031Z"
    }
   },
   "outputs": [],
   "source": [
    "# for phase in [\"phase_1\", \"phase_2\", \"phase_3\"]:\n",
    "\n",
    "\n",
    "# panoptes_aggregation extract /Users/christian/data/zooniverse/IguanasFromAbove/2023-10-15/iguanas-from-above-classifications.csv -d /Users/christian/data/zooniverse/IguanasFromAbove/2023-10-15/panoptes Extractor_config_workflow_14370_V142.245.yaml\n",
    "\n",
    "df_panotes_point_extractor = pd.read_csv(\"./data/phase_1/point_extractor_by_frame_extractions.csv\", sep=\",\")\n",
    "df_panotes_question = pd.read_csv(\"./data/phase_1/question_extractor_extractions.csv\", sep=\",\")\n",
    "\n"
   ]
  },
  {
   "cell_type": "code",
   "outputs": [],
   "source": [
    "\n"
   ],
   "metadata": {
    "collapsed": false
   },
   "id": "4ec062eacccdc3e8",
   "execution_count": null
  },
  {
   "cell_type": "code",
   "outputs": [],
   "source": [
    "df_panotes_point_extractor"
   ],
   "metadata": {
    "collapsed": false
   },
   "id": "3c4ae981e64efbc7",
   "execution_count": null
  },
  {
   "cell_type": "code",
   "outputs": [],
   "source": [
    "def get_json_keys(json_str):\n",
    "    try:\n",
    "        json_obj = json.loads(json_str)\n",
    "        return list(json_obj.keys())\n",
    "    except json.JSONDecodeError:\n",
    "        return []\n",
    "\n",
    "# Apply the function to each row in the metadata column and collect all keys\n",
    "all_keys = df_subjects['metadata'].apply(get_json_keys)\n",
    "\n",
    "# Flatten the list of lists and get unique keys\n",
    "unique_keys = set([key for sublist in all_keys for key in sublist])\n",
    "\n",
    "print(unique_keys)"
   ],
   "metadata": {
    "collapsed": false
   },
   "id": "94063673f589d472",
   "execution_count": null
  },
  {
   "cell_type": "code",
   "outputs": [],
   "source": [
    "import json\n",
    "\n",
    "df_subjects[[\"subject_id\", \"metadata\"]]\n",
    "\n",
    "df_subjects[\"image_name\"] = df_subjects['metadata'].apply(lambda x: json.loads(x).get('Image_name') \n",
    "                                        or json.loads(x).get('image_name') \n",
    "                                        or json.loads(x).get('Filename')).sort_values(ascending=True)\n",
    "df_subjects"
   ],
   "metadata": {
    "collapsed": false
   },
   "id": "b16f1620c103a531",
   "execution_count": null
  },
  {
   "cell_type": "code",
   "outputs": [],
   "source": [
    "df_panotes_point_extractor = df_panotes_point_extractor.merge(df_subjects[[\"subject_id\", \"image_name\"]], left_on=\"subject_id\", right_on=\"subject_id\")\n",
    "df_panotes_point_extractor"
   ],
   "metadata": {
    "collapsed": false
   },
   "id": "a1e2e015fdba1cb",
   "execution_count": null
  },
  {
   "cell_type": "code",
   "outputs": [],
   "source": [
    "## Anonymise the data"
   ],
   "metadata": {
    "collapsed": false
   },
   "id": "3124edcb4cb91425",
   "execution_count": null
  },
  {
   "cell_type": "code",
   "outputs": [],
   "source": [
    "from hashlib import blake2b\n",
    "\n",
    "df_panotes_point_extractor[\"user_id\"] = df_panotes_point_extractor['user_id'].apply(lambda x: blake2b(str(x).encode(), digest_size=16).hexdigest() if not pd.isnull(x) else x)\n",
    "# Anonymize 'user_name' by hashing\n",
    "df_panotes_point_extractor['user_name'] = df_panotes_point_extractor['user_name'].apply(lambda x: blake2b(x.encode(), digest_size=16).hexdigest() if isinstance(x, str) else x)\n",
    "\n",
    "df_panotes_question[\"user_id\"] = df_panotes_question['user_id'].apply(lambda x: blake2b(str(x).encode(), digest_size=16).hexdigest() if not pd.isnull(x) else x)\n",
    "# Anonymize 'user_name' by hashing\n",
    "df_panotes_question['user_name'] = df_panotes_question['user_name'].apply(lambda x: blake2b(x.encode(), digest_size=16).hexdigest() if isinstance(x, str) else x)"
   ],
   "metadata": {
    "collapsed": false
   },
   "id": "7053c0a8476989c3",
   "execution_count": null
  },
  {
   "cell_type": "code",
   "outputs": [],
   "source": [
    "# TODO check if that doesn ruin the data\n",
    "df_panotes_point_extractor"
   ],
   "metadata": {
    "collapsed": false
   },
   "id": "672c51cc23c3b710",
   "execution_count": null
  },
  {
   "cell_type": "code",
   "execution_count": null,
   "id": "51a67a69fc8b084",
   "metadata": {
    "collapsed": false
   },
   "outputs": [],
   "source": [
    "df_panotes_question"
   ]
  },
  {
   "cell_type": "markdown",
   "source": [
    "# Debugging"
   ],
   "metadata": {
    "collapsed": false
   },
   "id": "9e8a51f65d5a984f"
  },
  {
   "cell_type": "code",
   "execution_count": null,
   "id": "37777b38694b06ae",
   "metadata": {
    "collapsed": false
   },
   "outputs": [],
   "source": [
    "### Looks the images in question\n",
    "\n",
    "subject_id_1 = 47968423 # median and mode 11, 11\n",
    "subject_id_2 = 47969478 # median and mode 4.5, 2\n",
    "df_panotes_point_extractor[(df_panotes_point_extractor.subject_id == subject_id_2)]"
   ]
  },
  {
   "cell_type": "code",
   "execution_count": null,
   "id": "3ed3cb8b4acbfa4f",
   "metadata": {
    "collapsed": false
   },
   "outputs": [],
   "source": [
    "df_panotes_point_extractor_r = df_panotes_point_extractor[\n",
    "    # (df_panotes_point_extractor.subject_id == subject_id_2) &  # filter for this subject_id only\n",
    "    (df_panotes_point_extractor.task == \"T2\")\n",
    "    # & (df_panotes_point_extractor.user_name == \"jickjack\")\n",
    "]\n",
    "df_panotes_point_extractor_r.columns"
   ]
  },
  {
   "cell_type": "markdown",
   "id": "1904d722c784ea8d",
   "metadata": {
    "collapsed": false
   },
   "source": [
    "### Which is tool is which now??\n",
    "There these tools \n",
    "- data.frame0.T2_tool0_x \n",
    "- data.frame0.T2_tool1_x \n",
    "- data.frame0.T2_tool2_x\n",
    "- data.frame0.T2_tool3_x\n",
    "- data.frame0.T2_tool4_x\n",
    "\n",
    "Those reflect the tools in the point_extractor_by_frame Extractor_config_workflow_14370_V134.236.yaml\n",
    "and probably belong to the classification (in that order, from the lab page) \n",
    "- Adult Male in a lek\n",
    "- Adult Male alone\n",
    "- Others (females, young males, juveniles)\n",
    "- Partial iguana\n",
    "- Could be an iguana, not sure\n",
    "\n",
    "Is \"Could be an iguana, not sure\" included in the study?\n"
   ]
  },
  {
   "cell_type": "code",
   "execution_count": null,
   "id": "895d1e319dc99c4a",
   "metadata": {
    "collapsed": false
   },
   "outputs": [],
   "source": [
    "# create a flat from that.\n",
    "from ast import literal_eval\n",
    "\n",
    "columns_keep_x = ['data.frame0.T2_tool0_x', 'data.frame0.T2_tool1_x', 'data.frame0.T2_tool2_x', 'data.frame0.T2_tool4_x']\n",
    "columns_keep_y = ['data.frame0.T2_tool0_y', 'data.frame0.T2_tool1_y', 'data.frame0.T2_tool2_y', 'data.frame0.T2_tool4_y']\n",
    "\n",
    "# for col in ['data.frame0.T2_tool0_x', 'data.frame0.T2_tool1_x', 'data.frame0.T2_tool2_x', 'data.frame0.T2_tool4_x',\n",
    "#             'data.frame0.T2_tool0_y', 'data.frame0.T2_tool1_y', 'data.frame0.T2_tool2_y', 'data.frame0.T2_tool4_y']:\n",
    "\n",
    "for col in columns_keep_x + columns_keep_y:\n",
    "    df_panotes_point_extractor_r[col] = df_panotes_point_extractor_r[col].apply(lambda x: literal_eval(x) if pd.notnull(x) else [])\n",
    "\n",
    "# Merge the lists in 'x' and 'y' coordinates\n",
    "df_panotes_point_extractor_r['x'] = df_panotes_point_extractor_r[columns_keep_x].values.tolist()\n",
    "df_panotes_point_extractor_r['y'] = df_panotes_point_extractor_r[columns_keep_y].values.tolist()\n",
    "\n",
    "# Flatten the lists in each row for 'x' and 'y'\n",
    "df_panotes_point_extractor_r['x'] = df_panotes_point_extractor_r['x'].apply(lambda x: [item for sublist in x for item in sublist])\n",
    "df_panotes_point_extractor_r['y'] = df_panotes_point_extractor_r['y'].apply(lambda x: [item for sublist in x for item in sublist])\n",
    "\n",
    "# Explode the DataFrame to separate rows for each x, y pair\n",
    "# Note: This requires pandas >= 0.25 for simultaneous explode\n",
    "# df_panotes_point_extractor_r_exploded = df_panotes_point_extractor_r.apply(pd.Series.explode)\n",
    "\n",
    "# Explode the DataFrame based on these columns to get separate rows for each list element\n",
    "# Make sure to perform the explode operation on both columns simultaneously to keep the x and y coordinates paired\n",
    "df_panotes_point_extractor_r"
   ]
  },
  {
   "cell_type": "code",
   "execution_count": null,
   "id": "d1dd3d9da30dac12",
   "metadata": {
    "collapsed": false
   },
   "outputs": [],
   "source": [
    "df_panotes_point_extractor_r = df_panotes_point_extractor_r[\n",
    "    ['classification_id', 'user_name', 'user_id', 'workflow_id', 'task',\n",
    "     'created_at', 'subject_id', \"image_name\",\n",
    "     'x', 'y'\n",
    "     ]].reset_index(drop=True)\n",
    "\n",
    "df_panotes_point_extractor_r"
   ]
  },
  {
   "cell_type": "code",
   "execution_count": null,
   "id": "b84d1fb085664060",
   "metadata": {
    "collapsed": false
   },
   "outputs": [],
   "source": [
    "df_panotes_point_extractor_r_ex = df_panotes_point_extractor_r.apply(lambda x: x.explode() if x.name in ['x', 'y'] else x)"
   ]
  },
  {
   "cell_type": "code",
   "execution_count": null,
   "id": "7f88cb7f25c52568",
   "metadata": {
    "collapsed": false
   },
   "outputs": [],
   "source": [
    "# images with no marks have NaN values in the 'merged_x' and 'merged_y' columns\n",
    "df_panotes_point_extractor_r_ex_dropped = df_panotes_point_extractor_r_ex.dropna(subset=['x', 'y'], how='all').sort_values(by=['user_id', 'subject_id', 'task', 'created_at'])\n",
    "df_panotes_point_extractor_r_ex_dropped"
   ]
  },
  {
   "cell_type": "code",
   "outputs": [],
   "source": [
    "# cast x and y to int\n",
    "df_panotes_point_extractor_r_ex_dropped = df_panotes_point_extractor_r_ex_dropped.astype({'x': 'int32', 'y': 'int32'})\n",
    "df_panotes_point_extractor_r_ex_dropped"
   ],
   "metadata": {
    "collapsed": false
   },
   "id": "b3a0beb695d8f28e",
   "execution_count": null
  },
  {
   "cell_type": "markdown",
   "source": [
    "## Check the numbers for a single subject_id"
   ],
   "metadata": {
    "collapsed": false
   },
   "id": "18a9d6b4d094619e"
  },
  {
   "cell_type": "code",
   "outputs": [
    {
     "data": {
      "text/plain": "                  workflow_id  workflow_version       image_name  subject_id  \\\nflight_site_code                                                               \nESCG02                  20600            93.166  ESCG02-1_19.jpg    72373250   \nESCG02                  20600            93.166  ESCG02-1_19.jpg    72373250   \nESCG02                  20600            93.166  ESCG02-1_19.jpg    72373250   \nESCG02                  20600            93.166  ESCG02-1_19.jpg    72373250   \nESCG02                  20600            93.166  ESCG02-1_19.jpg    72373250   \n...                       ...               ...              ...         ...   \nESCG02                  20600            94.166  ESCG02-1_19.jpg    72373250   \nESCG02                  20600            94.166  ESCG02-1_19.jpg    72373250   \nESCG02                  20600            94.166  ESCG02-1_19.jpg    72373250   \nESCG02                  20600            94.166  ESCG02-1_19.jpg    72373250   \nESCG02                  20600            94.166  ESCG02-1_19.jpg    72373250   \n\n                           x           y  \\\nflight_site_code                           \nESCG02            783.791748  833.887268   \nESCG02            194.347977  141.158142   \nESCG02            193.243042  303.586670   \nESCG02             28.604599  456.070587   \nESCG02             82.747437  482.589539   \n...                      ...         ...   \nESCG02            578.153015  308.388885   \nESCG02            628.282471  458.777191   \nESCG02             18.374290  731.704163   \nESCG02            427.764709  995.556763   \nESCG02            455.614410  995.556763   \n\n                                                tool_label  \\\nflight_site_code                                             \nESCG02                                    Adult Male alone   \nESCG02            Others (females, young males, juveniles)   \nESCG02            Others (females, young males, juveniles)   \nESCG02            Others (females, young males, juveniles)   \nESCG02            Others (females, young males, juveniles)   \n...                                                    ...   \nESCG02                                    Adult Male alone   \nESCG02                                    Adult Male alone   \nESCG02                                      Partial iguana   \nESCG02            Others (females, young males, juveniles)   \nESCG02            Others (females, young males, juveniles)   \n\n                           phase_tag                           user_id  \\\nflight_site_code                                                         \nESCG02            Iguanas 2nd launch  41acc16780b40b8ebd418e7c2eed38d1   \nESCG02            Iguanas 2nd launch  c11a32c827347926881e5e1db75cb701   \nESCG02            Iguanas 2nd launch  c11a32c827347926881e5e1db75cb701   \nESCG02            Iguanas 2nd launch  c11a32c827347926881e5e1db75cb701   \nESCG02            Iguanas 2nd launch  c11a32c827347926881e5e1db75cb701   \n...                              ...                               ...   \nESCG02            Iguanas 2nd launch                               NaN   \nESCG02            Iguanas 2nd launch                               NaN   \nESCG02            Iguanas 2nd launch                               NaN   \nESCG02            Iguanas 2nd launch                               NaN   \nESCG02            Iguanas 2nd launch                               NaN   \n\n                                         user_name  \nflight_site_code                                    \nESCG02            d4db022c6b48b830d8f92d5c737d6364  \nESCG02            691500ccebe2131f83809524df652f87  \nESCG02            691500ccebe2131f83809524df652f87  \nESCG02            691500ccebe2131f83809524df652f87  \nESCG02            691500ccebe2131f83809524df652f87  \n...                                            ...  \nESCG02            c6d66b18814c9df1833d0a281e272323  \nESCG02            c6d66b18814c9df1833d0a281e272323  \nESCG02            c6d66b18814c9df1833d0a281e272323  \nESCG02            c6d66b18814c9df1833d0a281e272323  \nESCG02            c6d66b18814c9df1833d0a281e272323  \n\n[623 rows x 10 columns]",
      "text/html": "<div>\n<style scoped>\n    .dataframe tbody tr th:only-of-type {\n        vertical-align: middle;\n    }\n\n    .dataframe tbody tr th {\n        vertical-align: top;\n    }\n\n    .dataframe thead th {\n        text-align: right;\n    }\n</style>\n<table border=\"1\" class=\"dataframe\">\n  <thead>\n    <tr style=\"text-align: right;\">\n      <th></th>\n      <th>workflow_id</th>\n      <th>workflow_version</th>\n      <th>image_name</th>\n      <th>subject_id</th>\n      <th>x</th>\n      <th>y</th>\n      <th>tool_label</th>\n      <th>phase_tag</th>\n      <th>user_id</th>\n      <th>user_name</th>\n    </tr>\n    <tr>\n      <th>flight_site_code</th>\n      <th></th>\n      <th></th>\n      <th></th>\n      <th></th>\n      <th></th>\n      <th></th>\n      <th></th>\n      <th></th>\n      <th></th>\n      <th></th>\n    </tr>\n  </thead>\n  <tbody>\n    <tr>\n      <th>ESCG02</th>\n      <td>20600</td>\n      <td>93.166</td>\n      <td>ESCG02-1_19.jpg</td>\n      <td>72373250</td>\n      <td>783.791748</td>\n      <td>833.887268</td>\n      <td>Adult Male alone</td>\n      <td>Iguanas 2nd launch</td>\n      <td>41acc16780b40b8ebd418e7c2eed38d1</td>\n      <td>d4db022c6b48b830d8f92d5c737d6364</td>\n    </tr>\n    <tr>\n      <th>ESCG02</th>\n      <td>20600</td>\n      <td>93.166</td>\n      <td>ESCG02-1_19.jpg</td>\n      <td>72373250</td>\n      <td>194.347977</td>\n      <td>141.158142</td>\n      <td>Others (females, young males, juveniles)</td>\n      <td>Iguanas 2nd launch</td>\n      <td>c11a32c827347926881e5e1db75cb701</td>\n      <td>691500ccebe2131f83809524df652f87</td>\n    </tr>\n    <tr>\n      <th>ESCG02</th>\n      <td>20600</td>\n      <td>93.166</td>\n      <td>ESCG02-1_19.jpg</td>\n      <td>72373250</td>\n      <td>193.243042</td>\n      <td>303.586670</td>\n      <td>Others (females, young males, juveniles)</td>\n      <td>Iguanas 2nd launch</td>\n      <td>c11a32c827347926881e5e1db75cb701</td>\n      <td>691500ccebe2131f83809524df652f87</td>\n    </tr>\n    <tr>\n      <th>ESCG02</th>\n      <td>20600</td>\n      <td>93.166</td>\n      <td>ESCG02-1_19.jpg</td>\n      <td>72373250</td>\n      <td>28.604599</td>\n      <td>456.070587</td>\n      <td>Others (females, young males, juveniles)</td>\n      <td>Iguanas 2nd launch</td>\n      <td>c11a32c827347926881e5e1db75cb701</td>\n      <td>691500ccebe2131f83809524df652f87</td>\n    </tr>\n    <tr>\n      <th>ESCG02</th>\n      <td>20600</td>\n      <td>93.166</td>\n      <td>ESCG02-1_19.jpg</td>\n      <td>72373250</td>\n      <td>82.747437</td>\n      <td>482.589539</td>\n      <td>Others (females, young males, juveniles)</td>\n      <td>Iguanas 2nd launch</td>\n      <td>c11a32c827347926881e5e1db75cb701</td>\n      <td>691500ccebe2131f83809524df652f87</td>\n    </tr>\n    <tr>\n      <th>...</th>\n      <td>...</td>\n      <td>...</td>\n      <td>...</td>\n      <td>...</td>\n      <td>...</td>\n      <td>...</td>\n      <td>...</td>\n      <td>...</td>\n      <td>...</td>\n      <td>...</td>\n    </tr>\n    <tr>\n      <th>ESCG02</th>\n      <td>20600</td>\n      <td>94.166</td>\n      <td>ESCG02-1_19.jpg</td>\n      <td>72373250</td>\n      <td>578.153015</td>\n      <td>308.388885</td>\n      <td>Adult Male alone</td>\n      <td>Iguanas 2nd launch</td>\n      <td>NaN</td>\n      <td>c6d66b18814c9df1833d0a281e272323</td>\n    </tr>\n    <tr>\n      <th>ESCG02</th>\n      <td>20600</td>\n      <td>94.166</td>\n      <td>ESCG02-1_19.jpg</td>\n      <td>72373250</td>\n      <td>628.282471</td>\n      <td>458.777191</td>\n      <td>Adult Male alone</td>\n      <td>Iguanas 2nd launch</td>\n      <td>NaN</td>\n      <td>c6d66b18814c9df1833d0a281e272323</td>\n    </tr>\n    <tr>\n      <th>ESCG02</th>\n      <td>20600</td>\n      <td>94.166</td>\n      <td>ESCG02-1_19.jpg</td>\n      <td>72373250</td>\n      <td>18.374290</td>\n      <td>731.704163</td>\n      <td>Partial iguana</td>\n      <td>Iguanas 2nd launch</td>\n      <td>NaN</td>\n      <td>c6d66b18814c9df1833d0a281e272323</td>\n    </tr>\n    <tr>\n      <th>ESCG02</th>\n      <td>20600</td>\n      <td>94.166</td>\n      <td>ESCG02-1_19.jpg</td>\n      <td>72373250</td>\n      <td>427.764709</td>\n      <td>995.556763</td>\n      <td>Others (females, young males, juveniles)</td>\n      <td>Iguanas 2nd launch</td>\n      <td>NaN</td>\n      <td>c6d66b18814c9df1833d0a281e272323</td>\n    </tr>\n    <tr>\n      <th>ESCG02</th>\n      <td>20600</td>\n      <td>94.166</td>\n      <td>ESCG02-1_19.jpg</td>\n      <td>72373250</td>\n      <td>455.614410</td>\n      <td>995.556763</td>\n      <td>Others (females, young males, juveniles)</td>\n      <td>Iguanas 2nd launch</td>\n      <td>NaN</td>\n      <td>c6d66b18814c9df1833d0a281e272323</td>\n    </tr>\n  </tbody>\n</table>\n<p>623 rows × 10 columns</p>\n</div>"
     },
     "execution_count": 22,
     "metadata": {},
     "output_type": "execute_result"
    }
   ],
   "source": [
    "df_flat[df_flat.image_name == \"ESCG02-1_19.jpg\"]"
   ],
   "metadata": {
    "collapsed": false,
    "ExecuteTime": {
     "end_time": "2024-04-16T08:36:16.821021Z",
     "start_time": "2024-04-16T08:36:16.799896Z"
    }
   },
   "id": "9c31970e32b5e2df",
   "execution_count": 22
  },
  {
   "cell_type": "markdown",
   "id": "7ebc57977e1a1863",
   "metadata": {
    "collapsed": false
   },
   "source": [
    "## Analysing the differences between panotes extract and the custom data_prep method\n",
    "I get [2, 2, 7, 9] for the SFM01-2-2-1_293.jpg - 47969478 with my dataprep\n",
    "here I have [2, 7, 9] for the same image by only remove \"partial iguana\" but leaving \"could be an iguana, not sure\" in there"
   ]
  },
  {
   "cell_type": "markdown",
   "source": [
    "## Filter for the expert gold standard"
   ],
   "metadata": {
    "collapsed": false
   },
   "id": "d36f863bd853cfb5"
  },
  {
   "cell_type": "code",
   "execution_count": 23,
   "id": "f4b295839f0b3c14",
   "metadata": {
    "collapsed": false,
    "ExecuteTime": {
     "end_time": "2024-04-16T08:37:01.953780Z",
     "start_time": "2024-04-16T08:36:16.828122Z"
    }
   },
   "outputs": [
    {
     "name": "stderr",
     "output_type": "stream",
     "text": [
      "\u001B[32m2024-04-16 10:36:18.640\u001B[0m | \u001B[1mINFO    \u001B[0m | \u001B[36mzooniverse.utils.data_format\u001B[0m:\u001B[36mread_zooniverse_annotations_v2\u001B[0m:\u001B[36m179\u001B[0m - \u001B[1mfound a new phase tag: Iguanas 1st launch\u001B[0m\n",
      "\u001B[32m2024-04-16 10:36:35.873\u001B[0m | \u001B[1mINFO    \u001B[0m | \u001B[36mzooniverse.utils.data_format\u001B[0m:\u001B[36mread_zooniverse_annotations_v2\u001B[0m:\u001B[36m179\u001B[0m - \u001B[1mfound a new phase tag: Main Workflow\u001B[0m\n",
      "\u001B[32m2024-04-16 10:36:40.248\u001B[0m | \u001B[1mINFO    \u001B[0m | \u001B[36mzooniverse.utils.data_format\u001B[0m:\u001B[36mread_zooniverse_annotations_v2\u001B[0m:\u001B[36m179\u001B[0m - \u001B[1mfound a new phase tag: survey tool 061417\u001B[0m\n",
      "\u001B[32m2024-04-16 10:36:43.855\u001B[0m | \u001B[1mINFO    \u001B[0m | \u001B[36mzooniverse.utils.data_format\u001B[0m:\u001B[36mread_zooniverse_annotations_v2\u001B[0m:\u001B[36m179\u001B[0m - \u001B[1mfound a new phase tag: Iguanas 2nd launch\u001B[0m\n",
      "\u001B[32m2024-04-16 10:36:54.434\u001B[0m | \u001B[1mINFO    \u001B[0m | \u001B[36mzooniverse.utils.data_format\u001B[0m:\u001B[36mread_zooniverse_annotations_v2\u001B[0m:\u001B[36m179\u001B[0m - \u001B[1mfound a new phase tag: Iguanas 3rd launch\u001B[0m\n"
     ]
    },
    {
     "ename": "KeyboardInterrupt",
     "evalue": "",
     "output_type": "error",
     "traceback": [
      "\u001B[0;31m---------------------------------------------------------------------------\u001B[0m",
      "\u001B[0;31mKeyboardInterrupt\u001B[0m                         Traceback (most recent call last)",
      "Cell \u001B[0;32mIn[23], line 3\u001B[0m\n\u001B[1;32m      1\u001B[0m \u001B[38;5;28;01mfrom\u001B[39;00m \u001B[38;5;21;01mzooniverse\u001B[39;00m\u001B[38;5;21;01m.\u001B[39;00m\u001B[38;5;21;01mutils\u001B[39;00m\u001B[38;5;21;01m.\u001B[39;00m\u001B[38;5;21;01mdata_format\u001B[39;00m \u001B[38;5;28;01mimport\u001B[39;00m data_prep\n\u001B[1;32m      2\u001B[0m use_gold_standard_subset \u001B[38;5;241m=\u001B[39m \u001B[38;5;124m\"\u001B[39m\u001B[38;5;124mexpert_goldstandard\u001B[39m\u001B[38;5;124m\"\u001B[39m\n\u001B[0;32m----> 3\u001B[0m ds_stats \u001B[38;5;241m=\u001B[39m \u001B[43mdata_prep\u001B[49m\u001B[43m(\u001B[49m\u001B[43mphase_tag\u001B[49m\u001B[38;5;241;43m=\u001B[39;49m\u001B[43mphase_tag\u001B[49m\u001B[43m,\u001B[49m\u001B[43m \u001B[49m\n\u001B[1;32m      4\u001B[0m \u001B[43m                         \u001B[49m\u001B[43moutput_path\u001B[49m\u001B[38;5;241;43m=\u001B[39;49m\u001B[43moutput_path\u001B[49m\u001B[43m,\u001B[49m\u001B[43m \u001B[49m\n\u001B[1;32m      5\u001B[0m \u001B[43m                         \u001B[49m\u001B[43minput_path\u001B[49m\u001B[38;5;241;43m=\u001B[39;49m\u001B[43minput_path\u001B[49m\u001B[43m,\u001B[49m\n\u001B[1;32m      6\u001B[0m \u001B[43m                         \u001B[49m\u001B[43mfilter_combination\u001B[49m\u001B[38;5;241;43m=\u001B[39;49m\u001B[43muse_gold_standard_subset\u001B[49m\u001B[43m,\u001B[49m\u001B[43m \u001B[49m\n\u001B[1;32m      7\u001B[0m \u001B[43m                         \u001B[49m\u001B[43mconfig\u001B[49m\u001B[38;5;241;43m=\u001B[39;49m\u001B[43mconfig\u001B[49m\u001B[43m)\u001B[49m\n\u001B[1;32m      9\u001B[0m ds_stats\n",
      "File \u001B[0;32m~/PycharmProjects/iguanas-from-above-zooniverse/zooniverse/utils/data_format.py:296\u001B[0m, in \u001B[0;36mdata_prep\u001B[0;34m(phase_tag, output_path, config, input_path, filter_combination)\u001B[0m\n\u001B[1;32m    294\u001B[0m \u001B[38;5;66;03m# image_source = None\u001B[39;00m\n\u001B[1;32m    295\u001B[0m annotations_source \u001B[38;5;241m=\u001B[39m config[\u001B[38;5;124m\"\u001B[39m\u001B[38;5;124mannotations_source\u001B[39m\u001B[38;5;124m\"\u001B[39m]\n\u001B[0;32m--> 296\u001B[0m zooniverse_annotation_dataset \u001B[38;5;241m=\u001B[39m \u001B[43mread_zooniverse_annotations_v2\u001B[49m\u001B[43m(\u001B[49m\u001B[43mannotations_source\u001B[49m\u001B[38;5;241;43m=\u001B[39;49m\u001B[43mannotations_source\u001B[49m\u001B[43m,\u001B[49m\n\u001B[1;32m    297\u001B[0m \u001B[43m                                                               \u001B[49m\u001B[43mphase_tags\u001B[49m\u001B[38;5;241;43m=\u001B[39;49m\u001B[43m[\u001B[49m\u001B[43mphase_tag\u001B[49m\u001B[43m]\u001B[49m\u001B[43m)\u001B[49m\n\u001B[1;32m    298\u001B[0m \u001B[38;5;66;03m# the path of the flat dataset\u001B[39;00m\n\u001B[1;32m    299\u001B[0m flatdataset_path \u001B[38;5;241m=\u001B[39m config[\u001B[38;5;124m\"\u001B[39m\u001B[38;5;124mflat_dataset\u001B[39m\u001B[38;5;124m\"\u001B[39m]\n",
      "File \u001B[0;32m~/PycharmProjects/iguanas-from-above-zooniverse/zooniverse/utils/data_format.py:174\u001B[0m, in \u001B[0;36mread_zooniverse_annotations_v2\u001B[0;34m(annotations_source, phase_tags, cache_dir)\u001B[0m\n\u001B[1;32m    171\u001B[0m \u001B[38;5;66;03m# Check file as empty\u001B[39;00m\n\u001B[1;32m    172\u001B[0m \u001B[38;5;28;01mif\u001B[39;00m header \u001B[38;5;241m!=\u001B[39m \u001B[38;5;28;01mNone\u001B[39;00m:\n\u001B[1;32m    173\u001B[0m     \u001B[38;5;66;03m# Iterate over each row after the header in the csv\u001B[39;00m\n\u001B[0;32m--> 174\u001B[0m     \u001B[38;5;28;01mfor\u001B[39;00m row \u001B[38;5;129;01min\u001B[39;00m csv_reader:\n\u001B[1;32m    176\u001B[0m         phase_information \u001B[38;5;241m=\u001B[39m row[idx_PHASE]\n\u001B[1;32m    177\u001B[0m         \u001B[38;5;28;01mif\u001B[39;00m phase_information \u001B[38;5;129;01mnot\u001B[39;00m \u001B[38;5;129;01min\u001B[39;00m phases:\n",
      "\u001B[0;31mKeyboardInterrupt\u001B[0m: "
     ]
    }
   ],
   "source": [
    "from zooniverse.utils.data_format import data_prep\n",
    "use_gold_standard_subset = \"expert_goldstandard\"\n",
    "ds_stats = data_prep(phase_tag=phase_tag, \n",
    "                         output_path=output_path, \n",
    "                         input_path=input_path,\n",
    "                         filter_combination=use_gold_standard_subset, \n",
    "                         config=config)\n",
    "\n",
    "ds_stats"
   ]
  },
  {
   "cell_type": "code",
   "execution_count": null,
   "id": "def0d8a0a3f902a0",
   "metadata": {
    "collapsed": false,
    "ExecuteTime": {
     "end_time": "2024-04-16T08:37:01.955463Z",
     "start_time": "2024-04-16T08:37:01.955365Z"
    }
   },
   "outputs": [],
   "source": [
    "df_flat_data_prep = pd.read_csv(config[\"flat_dataset\"], sep=\",\", index_col=0)\n",
    "df_flat_data_prep[df_flat_data_prep.subject_id == subject_id_2]"
   ]
  },
  {
   "cell_type": "code",
   "execution_count": null,
   "id": "b7488330cdad0437",
   "metadata": {
    "collapsed": false
   },
   "outputs": [],
   "source": [
    "df_merged_data_prep = pd.read_csv(config[\"merged_dataset\"], sep=\",\", index_col=0)\n",
    "df_merged_data_prep[df_merged_data_prep.subject_id == subject_id_2]"
   ]
  },
  {
   "cell_type": "code",
   "execution_count": null,
   "id": "2c06fa3faca35b31",
   "metadata": {
    "collapsed": false
   },
   "outputs": [],
   "source": [
    "sorted([int(x) for x in list(df_merged_data_prep[df_merged_data_prep.subject_id == subject_id_2].x)])"
   ]
  },
  {
   "cell_type": "code",
   "execution_count": null,
   "id": "61dff7b574279617",
   "metadata": {
    "collapsed": false
   },
   "outputs": [],
   "source": [
    "sorted([int(x) for x in list(df_panotes_point_extractor_r_ex_dropped.merged_x)])"
   ]
  },
  {
   "cell_type": "code",
   "outputs": [],
   "source": [
    "## Compare the results of december 4th results with the current results for phase 1"
   ],
   "metadata": {
    "collapsed": false
   },
   "id": "38aee0d1f313e344"
  },
  {
   "cell_type": "code",
   "outputs": [
    {
     "name": "stdout",
     "output_type": "stream",
     "text": [
      "/Users/christian/PycharmProjects/iguanas-from-above-zooniverse\r\n"
     ]
    }
   ],
   "source": [
    "!pwd"
   ],
   "metadata": {
    "collapsed": false,
    "ExecuteTime": {
     "end_time": "2024-04-22T08:16:03.650579Z",
     "start_time": "2024-04-22T08:16:03.522671Z"
    }
   },
   "id": "c81aac18fe75466b",
   "execution_count": 4
  },
  {
   "cell_type": "code",
   "outputs": [
    {
     "data": {
      "text/plain": "     Unnamed: 0           image_name  subject_id  count_total  median_count  \\\n0             0  SFM01-2-2-2_282.jpg    47969795            2           0.0   \n1             1  SFM01-2-2-1_344.jpg    47969531            4           1.0   \n2             2  SFM01-2-2-2_293.jpg    47969828            7           2.0   \n3             3    SFM01-1-1_114.jpg    47967876            1           1.0   \n4             4    SFM01-1-1_154.jpg    47967959            1           1.0   \n..          ...                  ...         ...          ...           ...   \n102         102    SRPB02-2-1_67.jpg    47987920            1           1.0   \n103         103   SRPB02-2-2_143.jpg    47988474            4           4.0   \n104         104   SRPB02-2-2_153.jpg    47988580            1           1.0   \n105         105   SRPB02-2-2_161.jpg    47988636            1           1.0   \n106         106   SRPB02-2-3_157.jpg    47989826            1           1.5   \n\n     mean_count  mode_count  kmeans_knee  kmeans_sillouette_count  \\\n0          0.00         0.0          0.0                      0.0   \n1          1.88         1.0          3.0                      4.0   \n2          2.58         1.0          4.0                      6.0   \n3          1.44         1.0          2.0                      2.0   \n4          1.00         1.0          0.0                      1.0   \n..          ...         ...          ...                      ...   \n102        1.09         1.0          2.0                      2.0   \n103        3.62         4.0          3.0                      6.0   \n104        1.00         1.0          0.0                      1.0   \n105        1.00         1.0          0.0                      1.0   \n106        1.75         1.0          2.0                      2.0   \n\n     kmeans_BIC_count  dbscan_count with_noise  HDBSCAN_count     bic_avg  \\\n0                 0.0           0.0        NaN            NaN         NaN   \n1                 4.0           3.0       True            1.0 -189.620995   \n2                 4.0           3.0       True            1.0 -435.000001   \n3                 2.0           0.0       True            1.0 -123.812228   \n4                 1.0           0.0       True            1.0  -67.957653   \n..                ...           ...        ...            ...         ...   \n102               1.0           2.0       True            1.0 -156.069513   \n103               1.0           4.0       True            4.0 -354.144482   \n104               2.0           0.0       True            1.0  -77.270888   \n105               1.0           0.0       True            1.0  -74.985771   \n106               1.0           0.0       True            1.0 -124.533228   \n\n     eps  min_cluster_size  max_cluster_size  noise_points  \n0    NaN               NaN               NaN           NaN  \n1    0.0               5.0               NaN          12.0  \n2    0.0               5.0               NaN          30.0  \n3    0.0               5.0               NaN           8.0  \n4    0.0               5.0               NaN           6.0  \n..   ...               ...               ...           ...  \n102  0.0               5.0               NaN           9.0  \n103  0.0               5.0               NaN           2.0  \n104  0.0               5.0               NaN           4.0  \n105  0.0               5.0               NaN           5.0  \n106  0.0               5.0               NaN           6.0  \n\n[107 rows x 18 columns]",
      "text/html": "<div>\n<style scoped>\n    .dataframe tbody tr th:only-of-type {\n        vertical-align: middle;\n    }\n\n    .dataframe tbody tr th {\n        vertical-align: top;\n    }\n\n    .dataframe thead th {\n        text-align: right;\n    }\n</style>\n<table border=\"1\" class=\"dataframe\">\n  <thead>\n    <tr style=\"text-align: right;\">\n      <th></th>\n      <th>Unnamed: 0</th>\n      <th>image_name</th>\n      <th>subject_id</th>\n      <th>count_total</th>\n      <th>median_count</th>\n      <th>mean_count</th>\n      <th>mode_count</th>\n      <th>kmeans_knee</th>\n      <th>kmeans_sillouette_count</th>\n      <th>kmeans_BIC_count</th>\n      <th>dbscan_count</th>\n      <th>with_noise</th>\n      <th>HDBSCAN_count</th>\n      <th>bic_avg</th>\n      <th>eps</th>\n      <th>min_cluster_size</th>\n      <th>max_cluster_size</th>\n      <th>noise_points</th>\n    </tr>\n  </thead>\n  <tbody>\n    <tr>\n      <th>0</th>\n      <td>0</td>\n      <td>SFM01-2-2-2_282.jpg</td>\n      <td>47969795</td>\n      <td>2</td>\n      <td>0.0</td>\n      <td>0.00</td>\n      <td>0.0</td>\n      <td>0.0</td>\n      <td>0.0</td>\n      <td>0.0</td>\n      <td>0.0</td>\n      <td>NaN</td>\n      <td>NaN</td>\n      <td>NaN</td>\n      <td>NaN</td>\n      <td>NaN</td>\n      <td>NaN</td>\n      <td>NaN</td>\n    </tr>\n    <tr>\n      <th>1</th>\n      <td>1</td>\n      <td>SFM01-2-2-1_344.jpg</td>\n      <td>47969531</td>\n      <td>4</td>\n      <td>1.0</td>\n      <td>1.88</td>\n      <td>1.0</td>\n      <td>3.0</td>\n      <td>4.0</td>\n      <td>4.0</td>\n      <td>3.0</td>\n      <td>True</td>\n      <td>1.0</td>\n      <td>-189.620995</td>\n      <td>0.0</td>\n      <td>5.0</td>\n      <td>NaN</td>\n      <td>12.0</td>\n    </tr>\n    <tr>\n      <th>2</th>\n      <td>2</td>\n      <td>SFM01-2-2-2_293.jpg</td>\n      <td>47969828</td>\n      <td>7</td>\n      <td>2.0</td>\n      <td>2.58</td>\n      <td>1.0</td>\n      <td>4.0</td>\n      <td>6.0</td>\n      <td>4.0</td>\n      <td>3.0</td>\n      <td>True</td>\n      <td>1.0</td>\n      <td>-435.000001</td>\n      <td>0.0</td>\n      <td>5.0</td>\n      <td>NaN</td>\n      <td>30.0</td>\n    </tr>\n    <tr>\n      <th>3</th>\n      <td>3</td>\n      <td>SFM01-1-1_114.jpg</td>\n      <td>47967876</td>\n      <td>1</td>\n      <td>1.0</td>\n      <td>1.44</td>\n      <td>1.0</td>\n      <td>2.0</td>\n      <td>2.0</td>\n      <td>2.0</td>\n      <td>0.0</td>\n      <td>True</td>\n      <td>1.0</td>\n      <td>-123.812228</td>\n      <td>0.0</td>\n      <td>5.0</td>\n      <td>NaN</td>\n      <td>8.0</td>\n    </tr>\n    <tr>\n      <th>4</th>\n      <td>4</td>\n      <td>SFM01-1-1_154.jpg</td>\n      <td>47967959</td>\n      <td>1</td>\n      <td>1.0</td>\n      <td>1.00</td>\n      <td>1.0</td>\n      <td>0.0</td>\n      <td>1.0</td>\n      <td>1.0</td>\n      <td>0.0</td>\n      <td>True</td>\n      <td>1.0</td>\n      <td>-67.957653</td>\n      <td>0.0</td>\n      <td>5.0</td>\n      <td>NaN</td>\n      <td>6.0</td>\n    </tr>\n    <tr>\n      <th>...</th>\n      <td>...</td>\n      <td>...</td>\n      <td>...</td>\n      <td>...</td>\n      <td>...</td>\n      <td>...</td>\n      <td>...</td>\n      <td>...</td>\n      <td>...</td>\n      <td>...</td>\n      <td>...</td>\n      <td>...</td>\n      <td>...</td>\n      <td>...</td>\n      <td>...</td>\n      <td>...</td>\n      <td>...</td>\n      <td>...</td>\n    </tr>\n    <tr>\n      <th>102</th>\n      <td>102</td>\n      <td>SRPB02-2-1_67.jpg</td>\n      <td>47987920</td>\n      <td>1</td>\n      <td>1.0</td>\n      <td>1.09</td>\n      <td>1.0</td>\n      <td>2.0</td>\n      <td>2.0</td>\n      <td>1.0</td>\n      <td>2.0</td>\n      <td>True</td>\n      <td>1.0</td>\n      <td>-156.069513</td>\n      <td>0.0</td>\n      <td>5.0</td>\n      <td>NaN</td>\n      <td>9.0</td>\n    </tr>\n    <tr>\n      <th>103</th>\n      <td>103</td>\n      <td>SRPB02-2-2_143.jpg</td>\n      <td>47988474</td>\n      <td>4</td>\n      <td>4.0</td>\n      <td>3.62</td>\n      <td>4.0</td>\n      <td>3.0</td>\n      <td>6.0</td>\n      <td>1.0</td>\n      <td>4.0</td>\n      <td>True</td>\n      <td>4.0</td>\n      <td>-354.144482</td>\n      <td>0.0</td>\n      <td>5.0</td>\n      <td>NaN</td>\n      <td>2.0</td>\n    </tr>\n    <tr>\n      <th>104</th>\n      <td>104</td>\n      <td>SRPB02-2-2_153.jpg</td>\n      <td>47988580</td>\n      <td>1</td>\n      <td>1.0</td>\n      <td>1.00</td>\n      <td>1.0</td>\n      <td>0.0</td>\n      <td>1.0</td>\n      <td>2.0</td>\n      <td>0.0</td>\n      <td>True</td>\n      <td>1.0</td>\n      <td>-77.270888</td>\n      <td>0.0</td>\n      <td>5.0</td>\n      <td>NaN</td>\n      <td>4.0</td>\n    </tr>\n    <tr>\n      <th>105</th>\n      <td>105</td>\n      <td>SRPB02-2-2_161.jpg</td>\n      <td>47988636</td>\n      <td>1</td>\n      <td>1.0</td>\n      <td>1.00</td>\n      <td>1.0</td>\n      <td>0.0</td>\n      <td>1.0</td>\n      <td>1.0</td>\n      <td>0.0</td>\n      <td>True</td>\n      <td>1.0</td>\n      <td>-74.985771</td>\n      <td>0.0</td>\n      <td>5.0</td>\n      <td>NaN</td>\n      <td>5.0</td>\n    </tr>\n    <tr>\n      <th>106</th>\n      <td>106</td>\n      <td>SRPB02-2-3_157.jpg</td>\n      <td>47989826</td>\n      <td>1</td>\n      <td>1.5</td>\n      <td>1.75</td>\n      <td>1.0</td>\n      <td>2.0</td>\n      <td>2.0</td>\n      <td>1.0</td>\n      <td>0.0</td>\n      <td>True</td>\n      <td>1.0</td>\n      <td>-124.533228</td>\n      <td>0.0</td>\n      <td>5.0</td>\n      <td>NaN</td>\n      <td>6.0</td>\n    </tr>\n  </tbody>\n</table>\n<p>107 rows × 18 columns</p>\n</div>"
     },
     "execution_count": 16,
     "metadata": {},
     "output_type": "execute_result"
    }
   ],
   "source": [
    "import pandas as pd\n",
    "df_method_4th = pd.read_csv(\"./data/Iguanas 1st launch_method_comparison_2023_12_04.csv\", sep=\",\")\n",
    "df_method_4th"
   ],
   "metadata": {
    "collapsed": false,
    "ExecuteTime": {
     "end_time": "2024-04-22T08:26:53.771030Z",
     "start_time": "2024-04-22T08:26:53.750057Z"
    }
   },
   "id": "34be7ade6b1194f4",
   "execution_count": 16
  },
  {
   "cell_type": "code",
   "outputs": [
    {
     "data": {
      "text/plain": "              image_name  subject_id  dbscan_count_4th  HDBSCAN_count_4th\n0    SFM01-2-2-2_282.jpg    47969795               0.0                NaN\n1    SFM01-2-2-1_344.jpg    47969531               3.0                1.0\n2    SFM01-2-2-2_293.jpg    47969828               3.0                1.0\n3      SFM01-1-1_114.jpg    47967876               0.0                1.0\n4      SFM01-1-1_154.jpg    47967959               0.0                1.0\n..                   ...         ...               ...                ...\n102    SRPB02-2-1_67.jpg    47987920               2.0                1.0\n103   SRPB02-2-2_143.jpg    47988474               4.0                4.0\n104   SRPB02-2-2_153.jpg    47988580               0.0                1.0\n105   SRPB02-2-2_161.jpg    47988636               0.0                1.0\n106   SRPB02-2-3_157.jpg    47989826               0.0                1.0\n\n[107 rows x 4 columns]",
      "text/html": "<div>\n<style scoped>\n    .dataframe tbody tr th:only-of-type {\n        vertical-align: middle;\n    }\n\n    .dataframe tbody tr th {\n        vertical-align: top;\n    }\n\n    .dataframe thead th {\n        text-align: right;\n    }\n</style>\n<table border=\"1\" class=\"dataframe\">\n  <thead>\n    <tr style=\"text-align: right;\">\n      <th></th>\n      <th>image_name</th>\n      <th>subject_id</th>\n      <th>dbscan_count_4th</th>\n      <th>HDBSCAN_count_4th</th>\n    </tr>\n  </thead>\n  <tbody>\n    <tr>\n      <th>0</th>\n      <td>SFM01-2-2-2_282.jpg</td>\n      <td>47969795</td>\n      <td>0.0</td>\n      <td>NaN</td>\n    </tr>\n    <tr>\n      <th>1</th>\n      <td>SFM01-2-2-1_344.jpg</td>\n      <td>47969531</td>\n      <td>3.0</td>\n      <td>1.0</td>\n    </tr>\n    <tr>\n      <th>2</th>\n      <td>SFM01-2-2-2_293.jpg</td>\n      <td>47969828</td>\n      <td>3.0</td>\n      <td>1.0</td>\n    </tr>\n    <tr>\n      <th>3</th>\n      <td>SFM01-1-1_114.jpg</td>\n      <td>47967876</td>\n      <td>0.0</td>\n      <td>1.0</td>\n    </tr>\n    <tr>\n      <th>4</th>\n      <td>SFM01-1-1_154.jpg</td>\n      <td>47967959</td>\n      <td>0.0</td>\n      <td>1.0</td>\n    </tr>\n    <tr>\n      <th>...</th>\n      <td>...</td>\n      <td>...</td>\n      <td>...</td>\n      <td>...</td>\n    </tr>\n    <tr>\n      <th>102</th>\n      <td>SRPB02-2-1_67.jpg</td>\n      <td>47987920</td>\n      <td>2.0</td>\n      <td>1.0</td>\n    </tr>\n    <tr>\n      <th>103</th>\n      <td>SRPB02-2-2_143.jpg</td>\n      <td>47988474</td>\n      <td>4.0</td>\n      <td>4.0</td>\n    </tr>\n    <tr>\n      <th>104</th>\n      <td>SRPB02-2-2_153.jpg</td>\n      <td>47988580</td>\n      <td>0.0</td>\n      <td>1.0</td>\n    </tr>\n    <tr>\n      <th>105</th>\n      <td>SRPB02-2-2_161.jpg</td>\n      <td>47988636</td>\n      <td>0.0</td>\n      <td>1.0</td>\n    </tr>\n    <tr>\n      <th>106</th>\n      <td>SRPB02-2-3_157.jpg</td>\n      <td>47989826</td>\n      <td>0.0</td>\n      <td>1.0</td>\n    </tr>\n  </tbody>\n</table>\n<p>107 rows × 4 columns</p>\n</div>"
     },
     "execution_count": 17,
     "metadata": {},
     "output_type": "execute_result"
    }
   ],
   "source": [
    "\n",
    "df_method_4th.rename(columns={\"dbscan_count\": \"dbscan_count_4th\", 'HDBSCAN_count': 'HDBSCAN_count_4th' }, inplace=True)\n",
    "df_method_4th[['image_name', 'subject_id', 'dbscan_count_4th', 'HDBSCAN_count_4th']]"
   ],
   "metadata": {
    "collapsed": false,
    "ExecuteTime": {
     "end_time": "2024-04-22T08:26:54.116751Z",
     "start_time": "2024-04-22T08:26:54.106121Z"
    }
   },
   "id": "85c2000916b048ce",
   "execution_count": 17
  },
  {
   "cell_type": "code",
   "outputs": [
    {
     "data": {
      "text/plain": "             image_name  subject_id  dbscan_count_pan  HDBSCAN_count_pan\n0        SFB01-3_08.jpg    47967468               0.0                0.0\n1     SFB01-4-1_108.jpg    47967483               0.0                0.0\n2     SFB01-4-1_129.jpg    47967503               0.0                0.0\n3     SFB01-4-1_131.jpg    47967505               0.0                0.0\n4     SFB01-4-1_132.jpg    47967506               0.0                0.0\n...                 ...         ...               ...                ...\n3885  SRBS03-3-3_46.jpg    48034421               0.0                0.0\n3886    SRBS03-4_25.jpg    48034447               0.0                1.0\n3887    SRBS03-4_37.jpg    48034450               0.0                0.0\n3888    SRBS03-4_40.jpg    48034453               1.0                1.0\n3889    SRBS03-4_63.jpg    48034467               0.0                0.0\n\n[3890 rows x 4 columns]",
      "text/html": "<div>\n<style scoped>\n    .dataframe tbody tr th:only-of-type {\n        vertical-align: middle;\n    }\n\n    .dataframe tbody tr th {\n        vertical-align: top;\n    }\n\n    .dataframe thead th {\n        text-align: right;\n    }\n</style>\n<table border=\"1\" class=\"dataframe\">\n  <thead>\n    <tr style=\"text-align: right;\">\n      <th></th>\n      <th>image_name</th>\n      <th>subject_id</th>\n      <th>dbscan_count_pan</th>\n      <th>HDBSCAN_count_pan</th>\n    </tr>\n  </thead>\n  <tbody>\n    <tr>\n      <th>0</th>\n      <td>SFB01-3_08.jpg</td>\n      <td>47967468</td>\n      <td>0.0</td>\n      <td>0.0</td>\n    </tr>\n    <tr>\n      <th>1</th>\n      <td>SFB01-4-1_108.jpg</td>\n      <td>47967483</td>\n      <td>0.0</td>\n      <td>0.0</td>\n    </tr>\n    <tr>\n      <th>2</th>\n      <td>SFB01-4-1_129.jpg</td>\n      <td>47967503</td>\n      <td>0.0</td>\n      <td>0.0</td>\n    </tr>\n    <tr>\n      <th>3</th>\n      <td>SFB01-4-1_131.jpg</td>\n      <td>47967505</td>\n      <td>0.0</td>\n      <td>0.0</td>\n    </tr>\n    <tr>\n      <th>4</th>\n      <td>SFB01-4-1_132.jpg</td>\n      <td>47967506</td>\n      <td>0.0</td>\n      <td>0.0</td>\n    </tr>\n    <tr>\n      <th>...</th>\n      <td>...</td>\n      <td>...</td>\n      <td>...</td>\n      <td>...</td>\n    </tr>\n    <tr>\n      <th>3885</th>\n      <td>SRBS03-3-3_46.jpg</td>\n      <td>48034421</td>\n      <td>0.0</td>\n      <td>0.0</td>\n    </tr>\n    <tr>\n      <th>3886</th>\n      <td>SRBS03-4_25.jpg</td>\n      <td>48034447</td>\n      <td>0.0</td>\n      <td>1.0</td>\n    </tr>\n    <tr>\n      <th>3887</th>\n      <td>SRBS03-4_37.jpg</td>\n      <td>48034450</td>\n      <td>0.0</td>\n      <td>0.0</td>\n    </tr>\n    <tr>\n      <th>3888</th>\n      <td>SRBS03-4_40.jpg</td>\n      <td>48034453</td>\n      <td>1.0</td>\n      <td>1.0</td>\n    </tr>\n    <tr>\n      <th>3889</th>\n      <td>SRBS03-4_63.jpg</td>\n      <td>48034467</td>\n      <td>0.0</td>\n      <td>0.0</td>\n    </tr>\n  </tbody>\n</table>\n<p>3890 rows × 4 columns</p>\n</div>"
     },
     "execution_count": 18,
     "metadata": {},
     "output_type": "execute_result"
    }
   ],
   "source": [
    "df_method_panoptes = pd.read_csv(\"data/zooniverse/Iguanas 1st launch/Iguanas 1st launch_method_comparison.csv\", sep=\",\")\n",
    "df_method_panoptes.rename(columns={\"dbscan_count_sil\": \"dbscan_count_pan\", 'HDBSCAN_count': 'HDBSCAN_count_pan' }, inplace=True)\n",
    "df_method_panoptes[['image_name', 'subject_id', 'dbscan_count_pan', 'HDBSCAN_count_pan']]"
   ],
   "metadata": {
    "collapsed": false,
    "ExecuteTime": {
     "end_time": "2024-04-22T08:26:54.777296Z",
     "start_time": "2024-04-22T08:26:54.759286Z"
    }
   },
   "id": "bff8498cce3f62f",
   "execution_count": 18
  },
  {
   "cell_type": "code",
   "outputs": [
    {
     "data": {
      "text/plain": "            image_name_x         image_name_y  subject_id  dbscan_count_4th  \\\n0    SFM01-2-2-2_282.jpg  SFM01-2-2-2_282.jpg    47969795               0.0   \n1    SFM01-2-2-1_344.jpg  SFM01-2-2-1_344.jpg    47969531               3.0   \n2    SFM01-2-2-2_293.jpg  SFM01-2-2-2_293.jpg    47969828               3.0   \n3      SFM01-1-1_114.jpg    SFM01-1-1_114.jpg    47967876               0.0   \n4      SFM01-1-1_154.jpg    SFM01-1-1_154.jpg    47967959               0.0   \n..                   ...                  ...         ...               ...   \n102    SRPB02-2-1_67.jpg    SRPB02-2-1_67.jpg    47987920               2.0   \n103   SRPB02-2-2_143.jpg   SRPB02-2-2_143.jpg    47988474               4.0   \n104   SRPB02-2-2_153.jpg   SRPB02-2-2_153.jpg    47988580               0.0   \n105   SRPB02-2-2_161.jpg   SRPB02-2-2_161.jpg    47988636               0.0   \n106   SRPB02-2-3_157.jpg   SRPB02-2-3_157.jpg    47989826               0.0   \n\n     dbscan_count_pan  HDBSCAN_count_4th  HDBSCAN_count_pan  \n0                 0.0                NaN                1.0  \n1                 2.0                1.0                1.0  \n2                 2.0                1.0                1.0  \n3                 1.0                1.0                1.0  \n4                 1.0                1.0                1.0  \n..                ...                ...                ...  \n102               1.0                1.0                1.0  \n103               4.0                4.0                4.0  \n104               0.0                1.0                1.0  \n105               0.0                1.0                1.0  \n106               1.0                1.0                1.0  \n\n[107 rows x 7 columns]",
      "text/html": "<div>\n<style scoped>\n    .dataframe tbody tr th:only-of-type {\n        vertical-align: middle;\n    }\n\n    .dataframe tbody tr th {\n        vertical-align: top;\n    }\n\n    .dataframe thead th {\n        text-align: right;\n    }\n</style>\n<table border=\"1\" class=\"dataframe\">\n  <thead>\n    <tr style=\"text-align: right;\">\n      <th></th>\n      <th>image_name_x</th>\n      <th>image_name_y</th>\n      <th>subject_id</th>\n      <th>dbscan_count_4th</th>\n      <th>dbscan_count_pan</th>\n      <th>HDBSCAN_count_4th</th>\n      <th>HDBSCAN_count_pan</th>\n    </tr>\n  </thead>\n  <tbody>\n    <tr>\n      <th>0</th>\n      <td>SFM01-2-2-2_282.jpg</td>\n      <td>SFM01-2-2-2_282.jpg</td>\n      <td>47969795</td>\n      <td>0.0</td>\n      <td>0.0</td>\n      <td>NaN</td>\n      <td>1.0</td>\n    </tr>\n    <tr>\n      <th>1</th>\n      <td>SFM01-2-2-1_344.jpg</td>\n      <td>SFM01-2-2-1_344.jpg</td>\n      <td>47969531</td>\n      <td>3.0</td>\n      <td>2.0</td>\n      <td>1.0</td>\n      <td>1.0</td>\n    </tr>\n    <tr>\n      <th>2</th>\n      <td>SFM01-2-2-2_293.jpg</td>\n      <td>SFM01-2-2-2_293.jpg</td>\n      <td>47969828</td>\n      <td>3.0</td>\n      <td>2.0</td>\n      <td>1.0</td>\n      <td>1.0</td>\n    </tr>\n    <tr>\n      <th>3</th>\n      <td>SFM01-1-1_114.jpg</td>\n      <td>SFM01-1-1_114.jpg</td>\n      <td>47967876</td>\n      <td>0.0</td>\n      <td>1.0</td>\n      <td>1.0</td>\n      <td>1.0</td>\n    </tr>\n    <tr>\n      <th>4</th>\n      <td>SFM01-1-1_154.jpg</td>\n      <td>SFM01-1-1_154.jpg</td>\n      <td>47967959</td>\n      <td>0.0</td>\n      <td>1.0</td>\n      <td>1.0</td>\n      <td>1.0</td>\n    </tr>\n    <tr>\n      <th>...</th>\n      <td>...</td>\n      <td>...</td>\n      <td>...</td>\n      <td>...</td>\n      <td>...</td>\n      <td>...</td>\n      <td>...</td>\n    </tr>\n    <tr>\n      <th>102</th>\n      <td>SRPB02-2-1_67.jpg</td>\n      <td>SRPB02-2-1_67.jpg</td>\n      <td>47987920</td>\n      <td>2.0</td>\n      <td>1.0</td>\n      <td>1.0</td>\n      <td>1.0</td>\n    </tr>\n    <tr>\n      <th>103</th>\n      <td>SRPB02-2-2_143.jpg</td>\n      <td>SRPB02-2-2_143.jpg</td>\n      <td>47988474</td>\n      <td>4.0</td>\n      <td>4.0</td>\n      <td>4.0</td>\n      <td>4.0</td>\n    </tr>\n    <tr>\n      <th>104</th>\n      <td>SRPB02-2-2_153.jpg</td>\n      <td>SRPB02-2-2_153.jpg</td>\n      <td>47988580</td>\n      <td>0.0</td>\n      <td>0.0</td>\n      <td>1.0</td>\n      <td>1.0</td>\n    </tr>\n    <tr>\n      <th>105</th>\n      <td>SRPB02-2-2_161.jpg</td>\n      <td>SRPB02-2-2_161.jpg</td>\n      <td>47988636</td>\n      <td>0.0</td>\n      <td>0.0</td>\n      <td>1.0</td>\n      <td>1.0</td>\n    </tr>\n    <tr>\n      <th>106</th>\n      <td>SRPB02-2-3_157.jpg</td>\n      <td>SRPB02-2-3_157.jpg</td>\n      <td>47989826</td>\n      <td>0.0</td>\n      <td>1.0</td>\n      <td>1.0</td>\n      <td>1.0</td>\n    </tr>\n  </tbody>\n</table>\n<p>107 rows × 7 columns</p>\n</div>"
     },
     "execution_count": 26,
     "metadata": {},
     "output_type": "execute_result"
    }
   ],
   "source": [
    "df_method_compare = df_method_4th.merge(df_method_panoptes, on=\"subject_id\", how=\"left\")[['image_name_x', 'image_name_y', 'subject_id', 'dbscan_count_4th', 'dbscan_count_pan', 'HDBSCAN_count_4th', 'HDBSCAN_count_pan']]\n",
    "df_method_compare"
   ],
   "metadata": {
    "collapsed": false,
    "ExecuteTime": {
     "end_time": "2024-04-22T08:29:49.435098Z",
     "start_time": "2024-04-22T08:29:49.422204Z"
    }
   },
   "id": "925c9c2cbd365b22",
   "execution_count": 26
  },
  {
   "cell_type": "code",
   "outputs": [
    {
     "data": {
      "text/plain": "            image_name_x         image_name_y  subject_id  dbscan_count_4th  \\\n0    SFM01-2-2-2_282.jpg  SFM01-2-2-2_282.jpg    47969795               0.0   \n1    SFM01-2-2-1_344.jpg  SFM01-2-2-1_344.jpg    47969531               3.0   \n2    SFM01-2-2-2_293.jpg  SFM01-2-2-2_293.jpg    47969828               3.0   \n3      SFM01-1-1_114.jpg    SFM01-1-1_114.jpg    47967876               0.0   \n4      SFM01-1-1_154.jpg    SFM01-1-1_154.jpg    47967959               0.0   \n..                   ...                  ...         ...               ...   \n102    SRPB02-2-1_67.jpg    SRPB02-2-1_67.jpg    47987920               2.0   \n103   SRPB02-2-2_143.jpg   SRPB02-2-2_143.jpg    47988474               4.0   \n104   SRPB02-2-2_153.jpg   SRPB02-2-2_153.jpg    47988580               0.0   \n105   SRPB02-2-2_161.jpg   SRPB02-2-2_161.jpg    47988636               0.0   \n106   SRPB02-2-3_157.jpg   SRPB02-2-3_157.jpg    47989826               0.0   \n\n     dbscan_count_pan  HDBSCAN_count_4th  HDBSCAN_count_pan  hdbscan_diff  \n0                 0.0                NaN                1.0           NaN  \n1                 2.0                1.0                1.0           0.0  \n2                 2.0                1.0                1.0           0.0  \n3                 1.0                1.0                1.0           0.0  \n4                 1.0                1.0                1.0           0.0  \n..                ...                ...                ...           ...  \n102               1.0                1.0                1.0           0.0  \n103               4.0                4.0                4.0           0.0  \n104               0.0                1.0                1.0           0.0  \n105               0.0                1.0                1.0           0.0  \n106               1.0                1.0                1.0           0.0  \n\n[107 rows x 8 columns]",
      "text/html": "<div>\n<style scoped>\n    .dataframe tbody tr th:only-of-type {\n        vertical-align: middle;\n    }\n\n    .dataframe tbody tr th {\n        vertical-align: top;\n    }\n\n    .dataframe thead th {\n        text-align: right;\n    }\n</style>\n<table border=\"1\" class=\"dataframe\">\n  <thead>\n    <tr style=\"text-align: right;\">\n      <th></th>\n      <th>image_name_x</th>\n      <th>image_name_y</th>\n      <th>subject_id</th>\n      <th>dbscan_count_4th</th>\n      <th>dbscan_count_pan</th>\n      <th>HDBSCAN_count_4th</th>\n      <th>HDBSCAN_count_pan</th>\n      <th>hdbscan_diff</th>\n    </tr>\n  </thead>\n  <tbody>\n    <tr>\n      <th>0</th>\n      <td>SFM01-2-2-2_282.jpg</td>\n      <td>SFM01-2-2-2_282.jpg</td>\n      <td>47969795</td>\n      <td>0.0</td>\n      <td>0.0</td>\n      <td>NaN</td>\n      <td>1.0</td>\n      <td>NaN</td>\n    </tr>\n    <tr>\n      <th>1</th>\n      <td>SFM01-2-2-1_344.jpg</td>\n      <td>SFM01-2-2-1_344.jpg</td>\n      <td>47969531</td>\n      <td>3.0</td>\n      <td>2.0</td>\n      <td>1.0</td>\n      <td>1.0</td>\n      <td>0.0</td>\n    </tr>\n    <tr>\n      <th>2</th>\n      <td>SFM01-2-2-2_293.jpg</td>\n      <td>SFM01-2-2-2_293.jpg</td>\n      <td>47969828</td>\n      <td>3.0</td>\n      <td>2.0</td>\n      <td>1.0</td>\n      <td>1.0</td>\n      <td>0.0</td>\n    </tr>\n    <tr>\n      <th>3</th>\n      <td>SFM01-1-1_114.jpg</td>\n      <td>SFM01-1-1_114.jpg</td>\n      <td>47967876</td>\n      <td>0.0</td>\n      <td>1.0</td>\n      <td>1.0</td>\n      <td>1.0</td>\n      <td>0.0</td>\n    </tr>\n    <tr>\n      <th>4</th>\n      <td>SFM01-1-1_154.jpg</td>\n      <td>SFM01-1-1_154.jpg</td>\n      <td>47967959</td>\n      <td>0.0</td>\n      <td>1.0</td>\n      <td>1.0</td>\n      <td>1.0</td>\n      <td>0.0</td>\n    </tr>\n    <tr>\n      <th>...</th>\n      <td>...</td>\n      <td>...</td>\n      <td>...</td>\n      <td>...</td>\n      <td>...</td>\n      <td>...</td>\n      <td>...</td>\n      <td>...</td>\n    </tr>\n    <tr>\n      <th>102</th>\n      <td>SRPB02-2-1_67.jpg</td>\n      <td>SRPB02-2-1_67.jpg</td>\n      <td>47987920</td>\n      <td>2.0</td>\n      <td>1.0</td>\n      <td>1.0</td>\n      <td>1.0</td>\n      <td>0.0</td>\n    </tr>\n    <tr>\n      <th>103</th>\n      <td>SRPB02-2-2_143.jpg</td>\n      <td>SRPB02-2-2_143.jpg</td>\n      <td>47988474</td>\n      <td>4.0</td>\n      <td>4.0</td>\n      <td>4.0</td>\n      <td>4.0</td>\n      <td>0.0</td>\n    </tr>\n    <tr>\n      <th>104</th>\n      <td>SRPB02-2-2_153.jpg</td>\n      <td>SRPB02-2-2_153.jpg</td>\n      <td>47988580</td>\n      <td>0.0</td>\n      <td>0.0</td>\n      <td>1.0</td>\n      <td>1.0</td>\n      <td>0.0</td>\n    </tr>\n    <tr>\n      <th>105</th>\n      <td>SRPB02-2-2_161.jpg</td>\n      <td>SRPB02-2-2_161.jpg</td>\n      <td>47988636</td>\n      <td>0.0</td>\n      <td>0.0</td>\n      <td>1.0</td>\n      <td>1.0</td>\n      <td>0.0</td>\n    </tr>\n    <tr>\n      <th>106</th>\n      <td>SRPB02-2-3_157.jpg</td>\n      <td>SRPB02-2-3_157.jpg</td>\n      <td>47989826</td>\n      <td>0.0</td>\n      <td>1.0</td>\n      <td>1.0</td>\n      <td>1.0</td>\n      <td>0.0</td>\n    </tr>\n  </tbody>\n</table>\n<p>107 rows × 8 columns</p>\n</div>"
     },
     "execution_count": 28,
     "metadata": {},
     "output_type": "execute_result"
    }
   ],
   "source": [
    "df_method_compare[\"hdbscan_diff\"] = df_method_compare['HDBSCAN_count_4th'] - df_method_compare['HDBSCAN_count_pan']\n",
    "df_method_compare"
   ],
   "metadata": {
    "collapsed": false,
    "ExecuteTime": {
     "end_time": "2024-04-22T08:30:24.998540Z",
     "start_time": "2024-04-22T08:30:24.979685Z"
    }
   },
   "id": "a8ddbc706dba26f4",
   "execution_count": 28
  },
  {
   "cell_type": "code",
   "outputs": [],
   "source": [],
   "metadata": {
    "collapsed": false
   },
   "id": "860bff1f3ead7b1d"
  }
 ],
 "metadata": {
  "kernelspec": {
   "display_name": "Python 3 (ipykernel)",
   "language": "python",
   "name": "python3"
  },
  "language_info": {
   "codemirror_mode": {
    "name": "ipython",
    "version": 3
   },
   "file_extension": ".py",
   "mimetype": "text/x-python",
   "name": "python",
   "nbconvert_exporter": "python",
   "pygments_lexer": "ipython3",
   "version": "3.9.6"
  }
 },
 "nbformat": 4,
 "nbformat_minor": 5
}
