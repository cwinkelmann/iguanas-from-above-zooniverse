{
 "cells": [
  {
   "cell_type": "markdown",
   "id": "306034533dcead43",
   "metadata": {},
   "source": [
    "# Looking into the workflow processes\n"
   ]
  },
  {
   "cell_type": "code",
   "execution_count": 2,
   "id": "145bce94f139f8ae",
   "metadata": {
    "collapsed": false,
    "ExecuteTime": {
     "end_time": "2024-04-10T09:59:01.134239Z",
     "start_time": "2024-04-10T09:59:00.822888Z"
    }
   },
   "outputs": [
    {
     "data": {
      "text/plain": "{'annotations_source': PosixPath('/Users/christian/data/zooniverse/IguanasFromAbove/2023-10-15/iguanas-from-above-classifications.csv'),\n 'goldstandard_data': PosixPath('/Users/christian/data/zooniverse/Images/Zooniverse_Goldstandard_images/expert-GS-1stphase.csv'),\n 'gold_standard_image_subset': PosixPath('/Users/christian/data/zooniverse/Images/Zooniverse_Goldstandard_images/1-T2-GS-results-5th-0s.csv'),\n 'image_source': PosixPath('/Users/christian/data/zooniverse/Images/Zooniverse_Goldstandard_images/1st launch'),\n 'yes_no_dataset': PosixPath('/Users/christian/data/zooniverse/2024_04_08_analysis/Iguanas 1st launch/yes_no_dataset_Iguanas 1st launch.csv'),\n 'flat_dataset': PosixPath('/Users/christian/data/zooniverse/2024_04_08_analysis/Iguanas 1st launch/flat_dataset_Iguanas 1st launch.csv'),\n 'merged_dataset': PosixPath('/Users/christian/data/zooniverse/2024_04_08_analysis/Iguanas 1st launch/flat_dataset_filtered_Iguanas 1st launch.csv'),\n 'gold_standard_and_expert_count': PosixPath('/Users/christian/data/zooniverse/2024_04_08_analysis/Iguanas 1st launch/Iguanas 1st launch_gold_standard_and_expert_count.csv'),\n 'comparison_dataset': PosixPath('/Users/christian/data/zooniverse/2024_04_08_analysis/Iguanas 1st launch/Iguanas 1st launch_method_comparison.csv'),\n 'method_sums': PosixPath('/Users/christian/data/zooniverse/2024_04_08_analysis/Iguanas 1st launch/Iguanas 1st launch_method_sums.csv'),\n 'rmse_errors': PosixPath('/Users/christian/data/zooniverse/2024_04_08_analysis/Iguanas 1st launch/Iguanas 1st launch_rmse_errors.csv'),\n 'dbscan_hyperparam_grid': PosixPath('/Users/christian/data/zooniverse/2024_04_08_analysis/Iguanas 1st launch/Iguanas 1st launch_hyperparam_grid.csv')}"
     },
     "execution_count": 2,
     "metadata": {},
     "output_type": "execute_result"
    }
   ],
   "source": [
    "from zooniverse.config import get_config\n",
    "import pandas as pd\n",
    "from pathlib import Path\n",
    "\n",
    "### use either the subset of the subset\n",
    "phase_tag = \"Iguanas 1st launch\"\n",
    "# phase_tag = \"Iguanas 2nd launch\"\n",
    "# phase_tag = \"Iguanas 3rd launch\"\n",
    "input_path = Path(\"/Users/christian/data/zooniverse\")\n",
    "\n",
    "# use_gold_standard_subset = \"expert\" # Use the expert-GS-Xphase as the basis\n",
    "output_path = Path(\"/Users/christian/data/zooniverse/2024_04_08_analysis\").joinpath(phase_tag).resolve()\n",
    "\n",
    "output_plot_path = output_path.joinpath(\"plots\")\n",
    "output_plot_path.mkdir(parents=True, exist_ok=True)\n",
    "\n",
    "config = get_config(phase_tag=phase_tag, input_path=input_path, output_path=output_path)\n",
    "\n",
    "\n",
    "config\n"
   ]
  },
  {
   "cell_type": "code",
   "execution_count": 3,
   "id": "8d8e407d85449e69",
   "metadata": {
    "collapsed": false,
    "ExecuteTime": {
     "end_time": "2024-04-10T09:59:03.133345Z",
     "start_time": "2024-04-10T09:59:03.078527Z"
    }
   },
   "outputs": [
    {
     "data": {
      "text/plain": "                  workflow_id  workflow_version         image_name  \\\nflight_site_code                                                     \nNaN                     14370            96.620                NaN   \nNaN                     14370           104.720                NaN   \nNaN                     14370           104.720                NaN   \nNaN                     14370           104.720                NaN   \nNaN                     14370           104.720                NaN   \n...                       ...               ...                ...   \nSFB                     14370           134.236  SFB02-4-1_366.jpg   \nSFB                     14370           134.236   SFB02-4-2_96.jpg   \nSFB                     14370           134.236   SFB02-4-2_96.jpg   \nNaN                     14370           134.236     SFB01-3_24.jpg   \nSFB                     14370           134.236   SFB02-4-2_96.jpg   \n\n                  subject_id           x           y  \\\nflight_site_code                                       \nNaN                 44273024  484.234375  277.609375   \nNaN                 44273037  623.601562  236.324219   \nNaN                 44272996  427.359375  163.644531   \nNaN                 44272996  443.312500  181.160156   \nNaN                 44272996  541.656250  221.363281   \n...                      ...         ...         ...   \nSFB                 47969950   76.180832  413.558899   \nSFB                 47970166  358.369049  137.822800   \nSFB                 47970166  355.557495  143.556152   \nNaN                 48020715  670.645691  294.026306   \nSFB                 47970166  353.312500  119.750000   \n\n                                    tool_label           phase_tag    user_id  \\\nflight_site_code                                                                \nNaN                        Adult Male in a lek  Iguanas 1st launch  1983945.0   \nNaN                        Adult Male in a lek  Iguanas 1st launch  1983945.0   \nNaN                        Adult Male in a lek  Iguanas 1st launch  1983945.0   \nNaN                           Adult Male alone  Iguanas 1st launch  1983945.0   \nNaN                           Adult Male alone  Iguanas 1st launch  1983945.0   \n...                                        ...                 ...        ...   \nSFB               Could be an iguana, not sure  Iguanas 1st launch  2388162.0   \nSFB                           Adult Male alone  Iguanas 1st launch        NaN   \nSFB                           Adult Male alone  Iguanas 1st launch        NaN   \nNaN               Could be an iguana, not sure  Iguanas 1st launch        NaN   \nSFB                           Adult Male alone  Iguanas 1st launch        NaN   \n\n                                           user_name  \nflight_site_code                                      \nNaN                                   ANDREAVARELA89  \nNaN                                   ANDREAVARELA89  \nNaN                                   ANDREAVARELA89  \nNaN                                   ANDREAVARELA89  \nNaN                                   ANDREAVARELA89  \n...                                              ...  \nSFB                                    danielleperez  \nSFB               not-logged-in-7e58f946be4cd0ce3d48  \nSFB               not-logged-in-9c78d18da359ff03d380  \nNaN               not-logged-in-b94d243cc0716f617eea  \nSFB               not-logged-in-3caee6a0e40db57ab05f  \n\n[40294 rows x 10 columns]",
      "text/html": "<div>\n<style scoped>\n    .dataframe tbody tr th:only-of-type {\n        vertical-align: middle;\n    }\n\n    .dataframe tbody tr th {\n        vertical-align: top;\n    }\n\n    .dataframe thead th {\n        text-align: right;\n    }\n</style>\n<table border=\"1\" class=\"dataframe\">\n  <thead>\n    <tr style=\"text-align: right;\">\n      <th></th>\n      <th>workflow_id</th>\n      <th>workflow_version</th>\n      <th>image_name</th>\n      <th>subject_id</th>\n      <th>x</th>\n      <th>y</th>\n      <th>tool_label</th>\n      <th>phase_tag</th>\n      <th>user_id</th>\n      <th>user_name</th>\n    </tr>\n    <tr>\n      <th>flight_site_code</th>\n      <th></th>\n      <th></th>\n      <th></th>\n      <th></th>\n      <th></th>\n      <th></th>\n      <th></th>\n      <th></th>\n      <th></th>\n      <th></th>\n    </tr>\n  </thead>\n  <tbody>\n    <tr>\n      <th>NaN</th>\n      <td>14370</td>\n      <td>96.620</td>\n      <td>NaN</td>\n      <td>44273024</td>\n      <td>484.234375</td>\n      <td>277.609375</td>\n      <td>Adult Male in a lek</td>\n      <td>Iguanas 1st launch</td>\n      <td>1983945.0</td>\n      <td>ANDREAVARELA89</td>\n    </tr>\n    <tr>\n      <th>NaN</th>\n      <td>14370</td>\n      <td>104.720</td>\n      <td>NaN</td>\n      <td>44273037</td>\n      <td>623.601562</td>\n      <td>236.324219</td>\n      <td>Adult Male in a lek</td>\n      <td>Iguanas 1st launch</td>\n      <td>1983945.0</td>\n      <td>ANDREAVARELA89</td>\n    </tr>\n    <tr>\n      <th>NaN</th>\n      <td>14370</td>\n      <td>104.720</td>\n      <td>NaN</td>\n      <td>44272996</td>\n      <td>427.359375</td>\n      <td>163.644531</td>\n      <td>Adult Male in a lek</td>\n      <td>Iguanas 1st launch</td>\n      <td>1983945.0</td>\n      <td>ANDREAVARELA89</td>\n    </tr>\n    <tr>\n      <th>NaN</th>\n      <td>14370</td>\n      <td>104.720</td>\n      <td>NaN</td>\n      <td>44272996</td>\n      <td>443.312500</td>\n      <td>181.160156</td>\n      <td>Adult Male alone</td>\n      <td>Iguanas 1st launch</td>\n      <td>1983945.0</td>\n      <td>ANDREAVARELA89</td>\n    </tr>\n    <tr>\n      <th>NaN</th>\n      <td>14370</td>\n      <td>104.720</td>\n      <td>NaN</td>\n      <td>44272996</td>\n      <td>541.656250</td>\n      <td>221.363281</td>\n      <td>Adult Male alone</td>\n      <td>Iguanas 1st launch</td>\n      <td>1983945.0</td>\n      <td>ANDREAVARELA89</td>\n    </tr>\n    <tr>\n      <th>...</th>\n      <td>...</td>\n      <td>...</td>\n      <td>...</td>\n      <td>...</td>\n      <td>...</td>\n      <td>...</td>\n      <td>...</td>\n      <td>...</td>\n      <td>...</td>\n      <td>...</td>\n    </tr>\n    <tr>\n      <th>SFB</th>\n      <td>14370</td>\n      <td>134.236</td>\n      <td>SFB02-4-1_366.jpg</td>\n      <td>47969950</td>\n      <td>76.180832</td>\n      <td>413.558899</td>\n      <td>Could be an iguana, not sure</td>\n      <td>Iguanas 1st launch</td>\n      <td>2388162.0</td>\n      <td>danielleperez</td>\n    </tr>\n    <tr>\n      <th>SFB</th>\n      <td>14370</td>\n      <td>134.236</td>\n      <td>SFB02-4-2_96.jpg</td>\n      <td>47970166</td>\n      <td>358.369049</td>\n      <td>137.822800</td>\n      <td>Adult Male alone</td>\n      <td>Iguanas 1st launch</td>\n      <td>NaN</td>\n      <td>not-logged-in-7e58f946be4cd0ce3d48</td>\n    </tr>\n    <tr>\n      <th>SFB</th>\n      <td>14370</td>\n      <td>134.236</td>\n      <td>SFB02-4-2_96.jpg</td>\n      <td>47970166</td>\n      <td>355.557495</td>\n      <td>143.556152</td>\n      <td>Adult Male alone</td>\n      <td>Iguanas 1st launch</td>\n      <td>NaN</td>\n      <td>not-logged-in-9c78d18da359ff03d380</td>\n    </tr>\n    <tr>\n      <th>NaN</th>\n      <td>14370</td>\n      <td>134.236</td>\n      <td>SFB01-3_24.jpg</td>\n      <td>48020715</td>\n      <td>670.645691</td>\n      <td>294.026306</td>\n      <td>Could be an iguana, not sure</td>\n      <td>Iguanas 1st launch</td>\n      <td>NaN</td>\n      <td>not-logged-in-b94d243cc0716f617eea</td>\n    </tr>\n    <tr>\n      <th>SFB</th>\n      <td>14370</td>\n      <td>134.236</td>\n      <td>SFB02-4-2_96.jpg</td>\n      <td>47970166</td>\n      <td>353.312500</td>\n      <td>119.750000</td>\n      <td>Adult Male alone</td>\n      <td>Iguanas 1st launch</td>\n      <td>NaN</td>\n      <td>not-logged-in-3caee6a0e40db57ab05f</td>\n    </tr>\n  </tbody>\n</table>\n<p>40294 rows × 10 columns</p>\n</div>"
     },
     "execution_count": 3,
     "metadata": {},
     "output_type": "execute_result"
    }
   ],
   "source": [
    "df_flat = pd.read_csv(\n",
    "    config[\"flat_dataset\"], sep=\",\", index_col=0)\n",
    "df_flat"
   ]
  },
  {
   "cell_type": "code",
   "execution_count": 4,
   "id": "664ed3008f1b1bcb",
   "metadata": {
    "collapsed": false,
    "ExecuteTime": {
     "end_time": "2024-04-10T09:59:03.595311Z",
     "start_time": "2024-04-10T09:59:03.590232Z"
    }
   },
   "outputs": [
    {
     "data": {
      "text/plain": "workflow_version\n134.236    37184\n121.144     2983\n134.178       37\n108.740       26\n134.235       24\n115.138       15\n104.720        8\n114.790        8\n115.135        3\n134.182        3\n115.790        2\n96.620         1\ndtype: int64"
     },
     "execution_count": 4,
     "metadata": {},
     "output_type": "execute_result"
    }
   ],
   "source": [
    "df_flat.groupby('workflow_version').size().sort_values(ascending=False)"
   ]
  },
  {
   "cell_type": "code",
   "execution_count": 5,
   "id": "fa00f85be5e3dfa",
   "metadata": {
    "collapsed": false,
    "ExecuteTime": {
     "end_time": "2024-04-10T09:59:04.139177Z",
     "start_time": "2024-04-10T09:59:04.119971Z"
    }
   },
   "outputs": [
    {
     "data": {
      "text/plain": "     flight_site_code  workflow_id  workflow_version           image_name  \\\n0                SFM1        14370           134.236  SFM01-2-2-3_137.jpg   \n1                SFM1        14370           134.236  SFM01-2-2-3_137.jpg   \n2                SFM1        14370           134.236  SFM01-2-2-3_137.jpg   \n3                SFM1        14370           134.236    SFM01-1-2_264.jpg   \n4                SFM1        14370           134.236    SFM01-1-2_264.jpg   \n...               ...          ...               ...                  ...   \n3042             SFM1        14370           134.236  SFM01-2-2-1_120.jpg   \n3043             SFM1        14370           134.236  SFM01-2-2-1_120.jpg   \n3044             SFM1        14370           134.236    SFM01-1-2_210.jpg   \n3045             SFM1        14370           134.236    SFM01-1-2_210.jpg   \n3046             SFM1        14370           134.236    SFM01-1-2_210.jpg   \n\n      subject_id           x           y  \\\n0       47970105  376.160156   84.558594   \n1       47970105  272.695312  297.894531   \n2       47970105  111.898438  410.011719   \n3       47968406  462.800781  390.786377   \n4       47968406  545.598145  423.652527   \n...          ...         ...         ...   \n3042    47969236  406.704041  383.049408   \n3043    47969236  577.184998  270.231110   \n3044    47968359  316.314850  392.354614   \n3045    47968359  326.542725  402.156372   \n3046    47968359  318.994141  396.814789   \n\n                                             tool_label           phase_tag  \\\n0                                      Adult Male alone  Iguanas 1st launch   \n1                                      Adult Male alone  Iguanas 1st launch   \n2                                      Adult Male alone  Iguanas 1st launch   \n3                                   Adult Male in a lek  Iguanas 1st launch   \n4     Others (females, young males, juveniles and ta...  Iguanas 1st launch   \n...                                                 ...                 ...   \n3042                       Could be an iguana, not sure  Iguanas 1st launch   \n3043                       Could be an iguana, not sure  Iguanas 1st launch   \n3044  Others (females, young males, juveniles and ta...  Iguanas 1st launch   \n3045  Others (females, young males, juveniles and ta...  Iguanas 1st launch   \n3046                                   Adult Male alone  Iguanas 1st launch   \n\n        user_id                           user_name mission_name  \\\n0     2068663.0                               aymor         SFM1   \n1     2068663.0                               aymor         SFM1   \n2     2068663.0                               aymor         SFM1   \n3     1878692.0                           drewavery         SFM1   \n4     1878692.0                           drewavery         SFM1   \n...         ...                                 ...          ...   \n3042        NaN  not-logged-in-341c84c0e52bdc34f8f8         SFM1   \n3043        NaN  not-logged-in-341c84c0e52bdc34f8f8         SFM1   \n3044  2136122.0                             H.axson         SFM1   \n3045  2136122.0                             H.axson         SFM1   \n3046  2193415.0                         kbohensky63         SFM1   \n\n                                             image_path  width  height  \n0     /Users/christian/data/zooniverse/Images/Zooniv...    589     573  \n1     /Users/christian/data/zooniverse/Images/Zooniv...    589     573  \n2     /Users/christian/data/zooniverse/Images/Zooniv...    589     573  \n3     /Users/christian/data/zooniverse/Images/Zooniv...    599     630  \n4     /Users/christian/data/zooniverse/Images/Zooniv...    599     630  \n...                                                 ...    ...     ...  \n3042  /Users/christian/data/zooniverse/Images/Zooniv...    666     648  \n3043  /Users/christian/data/zooniverse/Images/Zooniv...    666     648  \n3044  /Users/christian/data/zooniverse/Images/Zooniv...    599     630  \n3045  /Users/christian/data/zooniverse/Images/Zooniv...    599     630  \n3046  /Users/christian/data/zooniverse/Images/Zooniv...    599     630  \n\n[3047 rows x 15 columns]",
      "text/html": "<div>\n<style scoped>\n    .dataframe tbody tr th:only-of-type {\n        vertical-align: middle;\n    }\n\n    .dataframe tbody tr th {\n        vertical-align: top;\n    }\n\n    .dataframe thead th {\n        text-align: right;\n    }\n</style>\n<table border=\"1\" class=\"dataframe\">\n  <thead>\n    <tr style=\"text-align: right;\">\n      <th></th>\n      <th>flight_site_code</th>\n      <th>workflow_id</th>\n      <th>workflow_version</th>\n      <th>image_name</th>\n      <th>subject_id</th>\n      <th>x</th>\n      <th>y</th>\n      <th>tool_label</th>\n      <th>phase_tag</th>\n      <th>user_id</th>\n      <th>user_name</th>\n      <th>mission_name</th>\n      <th>image_path</th>\n      <th>width</th>\n      <th>height</th>\n    </tr>\n  </thead>\n  <tbody>\n    <tr>\n      <th>0</th>\n      <td>SFM1</td>\n      <td>14370</td>\n      <td>134.236</td>\n      <td>SFM01-2-2-3_137.jpg</td>\n      <td>47970105</td>\n      <td>376.160156</td>\n      <td>84.558594</td>\n      <td>Adult Male alone</td>\n      <td>Iguanas 1st launch</td>\n      <td>2068663.0</td>\n      <td>aymor</td>\n      <td>SFM1</td>\n      <td>/Users/christian/data/zooniverse/Images/Zooniv...</td>\n      <td>589</td>\n      <td>573</td>\n    </tr>\n    <tr>\n      <th>1</th>\n      <td>SFM1</td>\n      <td>14370</td>\n      <td>134.236</td>\n      <td>SFM01-2-2-3_137.jpg</td>\n      <td>47970105</td>\n      <td>272.695312</td>\n      <td>297.894531</td>\n      <td>Adult Male alone</td>\n      <td>Iguanas 1st launch</td>\n      <td>2068663.0</td>\n      <td>aymor</td>\n      <td>SFM1</td>\n      <td>/Users/christian/data/zooniverse/Images/Zooniv...</td>\n      <td>589</td>\n      <td>573</td>\n    </tr>\n    <tr>\n      <th>2</th>\n      <td>SFM1</td>\n      <td>14370</td>\n      <td>134.236</td>\n      <td>SFM01-2-2-3_137.jpg</td>\n      <td>47970105</td>\n      <td>111.898438</td>\n      <td>410.011719</td>\n      <td>Adult Male alone</td>\n      <td>Iguanas 1st launch</td>\n      <td>2068663.0</td>\n      <td>aymor</td>\n      <td>SFM1</td>\n      <td>/Users/christian/data/zooniverse/Images/Zooniv...</td>\n      <td>589</td>\n      <td>573</td>\n    </tr>\n    <tr>\n      <th>3</th>\n      <td>SFM1</td>\n      <td>14370</td>\n      <td>134.236</td>\n      <td>SFM01-1-2_264.jpg</td>\n      <td>47968406</td>\n      <td>462.800781</td>\n      <td>390.786377</td>\n      <td>Adult Male in a lek</td>\n      <td>Iguanas 1st launch</td>\n      <td>1878692.0</td>\n      <td>drewavery</td>\n      <td>SFM1</td>\n      <td>/Users/christian/data/zooniverse/Images/Zooniv...</td>\n      <td>599</td>\n      <td>630</td>\n    </tr>\n    <tr>\n      <th>4</th>\n      <td>SFM1</td>\n      <td>14370</td>\n      <td>134.236</td>\n      <td>SFM01-1-2_264.jpg</td>\n      <td>47968406</td>\n      <td>545.598145</td>\n      <td>423.652527</td>\n      <td>Others (females, young males, juveniles and ta...</td>\n      <td>Iguanas 1st launch</td>\n      <td>1878692.0</td>\n      <td>drewavery</td>\n      <td>SFM1</td>\n      <td>/Users/christian/data/zooniverse/Images/Zooniv...</td>\n      <td>599</td>\n      <td>630</td>\n    </tr>\n    <tr>\n      <th>...</th>\n      <td>...</td>\n      <td>...</td>\n      <td>...</td>\n      <td>...</td>\n      <td>...</td>\n      <td>...</td>\n      <td>...</td>\n      <td>...</td>\n      <td>...</td>\n      <td>...</td>\n      <td>...</td>\n      <td>...</td>\n      <td>...</td>\n      <td>...</td>\n      <td>...</td>\n    </tr>\n    <tr>\n      <th>3042</th>\n      <td>SFM1</td>\n      <td>14370</td>\n      <td>134.236</td>\n      <td>SFM01-2-2-1_120.jpg</td>\n      <td>47969236</td>\n      <td>406.704041</td>\n      <td>383.049408</td>\n      <td>Could be an iguana, not sure</td>\n      <td>Iguanas 1st launch</td>\n      <td>NaN</td>\n      <td>not-logged-in-341c84c0e52bdc34f8f8</td>\n      <td>SFM1</td>\n      <td>/Users/christian/data/zooniverse/Images/Zooniv...</td>\n      <td>666</td>\n      <td>648</td>\n    </tr>\n    <tr>\n      <th>3043</th>\n      <td>SFM1</td>\n      <td>14370</td>\n      <td>134.236</td>\n      <td>SFM01-2-2-1_120.jpg</td>\n      <td>47969236</td>\n      <td>577.184998</td>\n      <td>270.231110</td>\n      <td>Could be an iguana, not sure</td>\n      <td>Iguanas 1st launch</td>\n      <td>NaN</td>\n      <td>not-logged-in-341c84c0e52bdc34f8f8</td>\n      <td>SFM1</td>\n      <td>/Users/christian/data/zooniverse/Images/Zooniv...</td>\n      <td>666</td>\n      <td>648</td>\n    </tr>\n    <tr>\n      <th>3044</th>\n      <td>SFM1</td>\n      <td>14370</td>\n      <td>134.236</td>\n      <td>SFM01-1-2_210.jpg</td>\n      <td>47968359</td>\n      <td>316.314850</td>\n      <td>392.354614</td>\n      <td>Others (females, young males, juveniles and ta...</td>\n      <td>Iguanas 1st launch</td>\n      <td>2136122.0</td>\n      <td>H.axson</td>\n      <td>SFM1</td>\n      <td>/Users/christian/data/zooniverse/Images/Zooniv...</td>\n      <td>599</td>\n      <td>630</td>\n    </tr>\n    <tr>\n      <th>3045</th>\n      <td>SFM1</td>\n      <td>14370</td>\n      <td>134.236</td>\n      <td>SFM01-1-2_210.jpg</td>\n      <td>47968359</td>\n      <td>326.542725</td>\n      <td>402.156372</td>\n      <td>Others (females, young males, juveniles and ta...</td>\n      <td>Iguanas 1st launch</td>\n      <td>2136122.0</td>\n      <td>H.axson</td>\n      <td>SFM1</td>\n      <td>/Users/christian/data/zooniverse/Images/Zooniv...</td>\n      <td>599</td>\n      <td>630</td>\n    </tr>\n    <tr>\n      <th>3046</th>\n      <td>SFM1</td>\n      <td>14370</td>\n      <td>134.236</td>\n      <td>SFM01-1-2_210.jpg</td>\n      <td>47968359</td>\n      <td>318.994141</td>\n      <td>396.814789</td>\n      <td>Adult Male alone</td>\n      <td>Iguanas 1st launch</td>\n      <td>2193415.0</td>\n      <td>kbohensky63</td>\n      <td>SFM1</td>\n      <td>/Users/christian/data/zooniverse/Images/Zooniv...</td>\n      <td>599</td>\n      <td>630</td>\n    </tr>\n  </tbody>\n</table>\n<p>3047 rows × 15 columns</p>\n</div>"
     },
     "execution_count": 5,
     "metadata": {},
     "output_type": "execute_result"
    }
   ],
   "source": [
    "df_flat_filtered = pd.read_csv(\n",
    "    config[\"merged_dataset\"], sep=\",\", index_col=0)\n",
    "df_flat_filtered"
   ]
  },
  {
   "cell_type": "code",
   "execution_count": 6,
   "id": "2d7cd6a09ba23121",
   "metadata": {
    "collapsed": false,
    "ExecuteTime": {
     "end_time": "2024-04-10T09:59:04.630868Z",
     "start_time": "2024-04-10T09:59:04.623032Z"
    }
   },
   "outputs": [
    {
     "data": {
      "text/plain": "0       47969795\n1       47969531\n2       47969760\n3       47969815\n4       47969821\n          ...   \n2728    47990261\n2729    47990268\n2730    47990280\n2731    47990285\n2732    47990290\nName: subject_id, Length: 2733, dtype: int64"
     },
     "execution_count": 6,
     "metadata": {},
     "output_type": "execute_result"
    }
   ],
   "source": [
    "df_expert_count = pd.read_csv(config[\"goldstandard_data\"], sep=\";\")\n",
    "df_expert_count[\"subject_id\"]### Reading the data \n"
   ]
  },
  {
   "cell_type": "code",
   "execution_count": 7,
   "id": "1d94bf7d1066ee64",
   "metadata": {
    "collapsed": false,
    "ExecuteTime": {
     "end_time": "2024-04-10T09:59:05.240837Z",
     "start_time": "2024-04-10T09:59:05.234009Z"
    }
   },
   "outputs": [
    {
     "data": {
      "text/plain": "workflow_version\n134.236    6351\ndtype: int64"
     },
     "execution_count": 7,
     "metadata": {},
     "output_type": "execute_result"
    }
   ],
   "source": [
    "df_flat[df_flat.subject_id.isin(df_expert_count[\"subject_id\"])].groupby('workflow_version').size()"
   ]
  },
  {
   "cell_type": "markdown",
   "source": [
    "# Panoptes Data Extraction from Zooniverse"
   ],
   "metadata": {
    "collapsed": false
   },
   "id": "10d30088553ee9a8"
  },
  {
   "cell_type": "markdown",
   "id": "b6577bcc8c9d6d2c",
   "metadata": {
    "collapsed": false
   },
   "source": [
    "## Panoptes Extract\n",
    "\n",
    "\n"
   ]
  },
  {
   "cell_type": "code",
   "outputs": [
    {
     "name": "stdout",
     "output_type": "stream",
     "text": [
      "mkdir: ./data/phase_1: File exists\r\n",
      "Saving Extractor config to:\r\n",
      "/Users/christian/PycharmProjects/iguanas-from-above-zooniverse/data/phase_1/Extractor_config_workflow_14370_V142.245.yaml\r\n",
      "\r\n",
      "Saving Reducer config to:\r\n",
      "/Users/christian/PycharmProjects/iguanas-from-above-zooniverse/data/phase_1/Reducer_config_workflow_14370_V142.245_point_extractor_by_frame.yaml\r\n",
      "\r\n",
      "Saving Reducer config to:\r\n",
      "/Users/christian/PycharmProjects/iguanas-from-above-zooniverse/data/phase_1/Reducer_config_workflow_14370_V142.245_question_extractor.yaml\r\n",
      "\r\n",
      "Saving task key look up table to:\r\n",
      "/Users/christian/PycharmProjects/iguanas-from-above-zooniverse/data/phase_1/Task_labels_workflow_14370_V142.245.yaml\r\n",
      "mkdir: ./data/phase_2: File exists\r\n",
      "Saving Extractor config to:\r\n",
      "/Users/christian/PycharmProjects/iguanas-from-above-zooniverse/data/phase_2/Extractor_config_workflow_20600_V94.166.yaml\r\n",
      "\r\n",
      "Saving Reducer config to:\r\n",
      "/Users/christian/PycharmProjects/iguanas-from-above-zooniverse/data/phase_2/Reducer_config_workflow_20600_V94.166_point_extractor_by_frame.yaml\r\n",
      "\r\n",
      "Saving Reducer config to:\r\n",
      "/Users/christian/PycharmProjects/iguanas-from-above-zooniverse/data/phase_2/Reducer_config_workflow_20600_V94.166_question_extractor.yaml\r\n",
      "\r\n",
      "Saving Reducer config to:\r\n",
      "/Users/christian/PycharmProjects/iguanas-from-above-zooniverse/data/phase_2/Reducer_config_workflow_20600_V94.166_shape_extractor_rectangle.yaml\r\n",
      "\r\n",
      "Saving task key look up table to:\r\n",
      "/Users/christian/PycharmProjects/iguanas-from-above-zooniverse/data/phase_2/Task_labels_workflow_20600_V94.166.yaml\r\n",
      "mkdir: ./data/phase_3: File exists\r\n",
      "Saving Extractor config to:\r\n",
      "/Users/christian/PycharmProjects/iguanas-from-above-zooniverse/data/phase_3/Extractor_config_workflow_22040_V9.63.yaml\r\n",
      "\r\n",
      "Saving Reducer config to:\r\n",
      "/Users/christian/PycharmProjects/iguanas-from-above-zooniverse/data/phase_3/Reducer_config_workflow_22040_V9.63_point_extractor_by_frame.yaml\r\n",
      "\r\n",
      "Saving Reducer config to:\r\n",
      "/Users/christian/PycharmProjects/iguanas-from-above-zooniverse/data/phase_3/Reducer_config_workflow_22040_V9.63_question_extractor.yaml\r\n",
      "\r\n",
      "Saving Reducer config to:\r\n",
      "/Users/christian/PycharmProjects/iguanas-from-above-zooniverse/data/phase_3/Reducer_config_workflow_22040_V9.63_shape_extractor_rectangle.yaml\r\n",
      "\r\n",
      "Saving task key look up table to:\r\n",
      "/Users/christian/PycharmProjects/iguanas-from-above-zooniverse/data/phase_3/Task_labels_workflow_22040_V9.63.yaml\r\n"
     ]
    }
   ],
   "source": [
    "# create a configuration file from the workflow\n",
    "# !mkdir ./data/phase_1\n",
    "# ! panoptes_aggregation config /Users/christian/data/zooniverse/IguanasFromAbove/2023-10-15/iguanas-from-above-workflows.csv 14370 --min_version 0 --max_version 142.245 -d ./data/phase_1\n",
    "# \n",
    "# !mkdir ./data/phase_2\n",
    "# ! panoptes_aggregation config /Users/christian/data/zooniverse/IguanasFromAbove/2023-10-15/iguanas-from-above-workflows.csv 20600 --min_version 0 --max_version 94.166 -d ./data/phase_2\n",
    "# \n",
    "# !mkdir ./data/phase_3\n",
    "# ! panoptes_aggregation config /Users/christian/data/zooniverse/IguanasFromAbove/2023-10-15/iguanas-from-above-workflows.csv 22040 --min_version 0 --max_version 9.63 -d ./data/phase_3"
   ],
   "metadata": {
    "collapsed": false,
    "ExecuteTime": {
     "end_time": "2024-04-10T09:59:11.514017Z",
     "start_time": "2024-04-10T09:59:06.843957Z"
    }
   },
   "id": "80589cdde7999f5b",
   "execution_count": 8
  },
  {
   "cell_type": "code",
   "outputs": [],
   "source": [
    "# TODO how to extract multiple workflow versions???\n",
    "# !panoptes_aggregation extract /Users/christian/data/zooniverse/IguanasFromAbove/2023-10-15/iguanas-from-above-classifications.csv -d ./data/phase_1/ ./data/phase_1/Extractor_config_workflow_14370_V142.245.yaml\n",
    "# \n",
    "# !panoptes_aggregation extract /Users/christian/data/zooniverse/IguanasFromAbove/2023-10-15/iguanas-from-above-classifications.csv -d ./data/phase_2/ ./data/phase_2/Extractor_config_workflow_20600_V94.166.yaml\n",
    "\n",
    "# !panoptes_aggregation extract /Users/christian/data/zooniverse/IguanasFromAbove/2023-10-15/iguanas-from-above-classifications.csv -d ./data/phase_3 ./data/phase_3/Extractor_config_workflow_22040_V9.63.yaml"
   ],
   "metadata": {
    "collapsed": false,
    "ExecuteTime": {
     "end_time": "2024-04-10T09:59:11.517464Z",
     "start_time": "2024-04-10T09:59:11.515362Z"
    }
   },
   "id": "d76485d137c3687",
   "execution_count": 9
  },
  {
   "cell_type": "markdown",
   "source": [
    "# Look into the subjects file\n",
    "This contains the mappings from the subject_id to the image file\n",
    "\n"
   ],
   "metadata": {
    "collapsed": false
   },
   "id": "af3dbedc1768b0ed"
  },
  {
   "cell_type": "code",
   "outputs": [
    {
     "name": "stderr",
     "output_type": "stream",
     "text": [
      "/var/folders/2k/78nn7s4548986wsjh29rhj9w0000gn/T/ipykernel_21093/3826510108.py:1: DtypeWarning: Columns (7,8) have mixed types. Specify dtype option on import or set low_memory=False.\n",
      "  df_subjects = pd.read_csv(\"./data/iguanas-from-above-subjects.csv\", sep=\",\")\n"
     ]
    },
    {
     "data": {
      "text/plain": "       subject_id  project_id  workflow_id  subject_set_id  \\\n0        44660549       11905          NaN           83766   \n1        44660550       11905          NaN           83766   \n2        44660551       11905          NaN           83766   \n3        44660552       11905          NaN           83766   \n4        44660553       11905          NaN           83766   \n...           ...         ...          ...             ...   \n68155    92469731       11905      25351.0          116619   \n68156    92469733       11905      25351.0          116619   \n68157    92469734       11905      25351.0          116619   \n68158    92469735       11905      25351.0          116619   \n68159    92469736       11905      25351.0          116619   \n\n                                                metadata  \\\n0      {\"image_name\":\"SMF02-1-2-2_740.jpg\",\"subject_i...   \n1      {\"image_name\":\"SRIL03-2-1_153.jpg\",\"subject_id...   \n2      {\"image_name\":\"SRIL03-2-2_90.jpg\",\"subject_id\"...   \n3      {\"image_name\":\"SRIL03-2-2_127.jpg\",\"subject_id...   \n4      {\"image_name\":\"SRIL03-2-2_133.jpg\",\"subject_id...   \n...                                                  ...   \n68155  {\"Site\":\"Puerto Villamil\",\"Island\":\"Isabela\",\"...   \n68156  {\"Site\":\"Puerto Villamil\",\"Island\":\"Isabela\",\"...   \n68157  {\"Site\":\"Puerto Villamil\",\"Island\":\"Isabela\",\"...   \n68158  {\"Site\":\"Puerto Villamil\",\"Island\":\"Isabela\",\"...   \n68159  {\"Site\":\"Puerto Villamil\",\"Island\":\"Isabela\",\"...   \n\n                                               locations  \\\n0      {\"0\":\"https://panoptes-uploads.zooniverse.org/...   \n1      {\"0\":\"https://panoptes-uploads.zooniverse.org/...   \n2      {\"0\":\"https://panoptes-uploads.zooniverse.org/...   \n3      {\"0\":\"https://panoptes-uploads.zooniverse.org/...   \n4      {\"0\":\"https://panoptes-uploads.zooniverse.org/...   \n...                                                  ...   \n68155  {\"0\":\"https://panoptes-uploads.zooniverse.org/...   \n68156  {\"0\":\"https://panoptes-uploads.zooniverse.org/...   \n68157  {\"0\":\"https://panoptes-uploads.zooniverse.org/...   \n68158  {\"0\":\"https://panoptes-uploads.zooniverse.org/...   \n68159  {\"0\":\"https://panoptes-uploads.zooniverse.org/...   \n\n       classifications_count retired_at retirement_reason  \\\n0                          0        NaN               NaN   \n1                          0        NaN               NaN   \n2                          0        NaN               NaN   \n3                          0        NaN               NaN   \n4                          0        NaN               NaN   \n...                      ...        ...               ...   \n68155                      2        NaN               NaN   \n68156                      3        NaN               NaN   \n68157                      6        NaN               NaN   \n68158                      1        NaN               NaN   \n68159                      4        NaN               NaN   \n\n                    created_at               updated_at  \n0      2020-05-12 11:01:33 UTC  2020-05-12 11:01:33 UTC  \n1      2020-05-12 11:01:39 UTC  2020-05-12 11:01:39 UTC  \n2      2020-05-12 11:01:45 UTC  2020-05-12 11:01:45 UTC  \n3      2020-05-12 11:01:49 UTC  2020-05-12 11:01:49 UTC  \n4      2020-05-12 11:01:53 UTC  2020-05-12 11:01:53 UTC  \n...                        ...                      ...  \n68155  2023-10-12 16:28:45 UTC  2023-10-12 16:28:45 UTC  \n68156  2023-10-12 16:28:46 UTC  2023-10-12 16:28:46 UTC  \n68157  2023-10-12 16:28:46 UTC  2023-10-12 16:28:46 UTC  \n68158  2023-10-12 16:28:46 UTC  2023-10-12 16:28:46 UTC  \n68159  2023-10-12 16:28:47 UTC  2023-10-12 16:28:47 UTC  \n\n[68160 rows x 11 columns]",
      "text/html": "<div>\n<style scoped>\n    .dataframe tbody tr th:only-of-type {\n        vertical-align: middle;\n    }\n\n    .dataframe tbody tr th {\n        vertical-align: top;\n    }\n\n    .dataframe thead th {\n        text-align: right;\n    }\n</style>\n<table border=\"1\" class=\"dataframe\">\n  <thead>\n    <tr style=\"text-align: right;\">\n      <th></th>\n      <th>subject_id</th>\n      <th>project_id</th>\n      <th>workflow_id</th>\n      <th>subject_set_id</th>\n      <th>metadata</th>\n      <th>locations</th>\n      <th>classifications_count</th>\n      <th>retired_at</th>\n      <th>retirement_reason</th>\n      <th>created_at</th>\n      <th>updated_at</th>\n    </tr>\n  </thead>\n  <tbody>\n    <tr>\n      <th>0</th>\n      <td>44660549</td>\n      <td>11905</td>\n      <td>NaN</td>\n      <td>83766</td>\n      <td>{\"image_name\":\"SMF02-1-2-2_740.jpg\",\"subject_i...</td>\n      <td>{\"0\":\"https://panoptes-uploads.zooniverse.org/...</td>\n      <td>0</td>\n      <td>NaN</td>\n      <td>NaN</td>\n      <td>2020-05-12 11:01:33 UTC</td>\n      <td>2020-05-12 11:01:33 UTC</td>\n    </tr>\n    <tr>\n      <th>1</th>\n      <td>44660550</td>\n      <td>11905</td>\n      <td>NaN</td>\n      <td>83766</td>\n      <td>{\"image_name\":\"SRIL03-2-1_153.jpg\",\"subject_id...</td>\n      <td>{\"0\":\"https://panoptes-uploads.zooniverse.org/...</td>\n      <td>0</td>\n      <td>NaN</td>\n      <td>NaN</td>\n      <td>2020-05-12 11:01:39 UTC</td>\n      <td>2020-05-12 11:01:39 UTC</td>\n    </tr>\n    <tr>\n      <th>2</th>\n      <td>44660551</td>\n      <td>11905</td>\n      <td>NaN</td>\n      <td>83766</td>\n      <td>{\"image_name\":\"SRIL03-2-2_90.jpg\",\"subject_id\"...</td>\n      <td>{\"0\":\"https://panoptes-uploads.zooniverse.org/...</td>\n      <td>0</td>\n      <td>NaN</td>\n      <td>NaN</td>\n      <td>2020-05-12 11:01:45 UTC</td>\n      <td>2020-05-12 11:01:45 UTC</td>\n    </tr>\n    <tr>\n      <th>3</th>\n      <td>44660552</td>\n      <td>11905</td>\n      <td>NaN</td>\n      <td>83766</td>\n      <td>{\"image_name\":\"SRIL03-2-2_127.jpg\",\"subject_id...</td>\n      <td>{\"0\":\"https://panoptes-uploads.zooniverse.org/...</td>\n      <td>0</td>\n      <td>NaN</td>\n      <td>NaN</td>\n      <td>2020-05-12 11:01:49 UTC</td>\n      <td>2020-05-12 11:01:49 UTC</td>\n    </tr>\n    <tr>\n      <th>4</th>\n      <td>44660553</td>\n      <td>11905</td>\n      <td>NaN</td>\n      <td>83766</td>\n      <td>{\"image_name\":\"SRIL03-2-2_133.jpg\",\"subject_id...</td>\n      <td>{\"0\":\"https://panoptes-uploads.zooniverse.org/...</td>\n      <td>0</td>\n      <td>NaN</td>\n      <td>NaN</td>\n      <td>2020-05-12 11:01:53 UTC</td>\n      <td>2020-05-12 11:01:53 UTC</td>\n    </tr>\n    <tr>\n      <th>...</th>\n      <td>...</td>\n      <td>...</td>\n      <td>...</td>\n      <td>...</td>\n      <td>...</td>\n      <td>...</td>\n      <td>...</td>\n      <td>...</td>\n      <td>...</td>\n      <td>...</td>\n      <td>...</td>\n    </tr>\n    <tr>\n      <th>68155</th>\n      <td>92469731</td>\n      <td>11905</td>\n      <td>25351.0</td>\n      <td>116619</td>\n      <td>{\"Site\":\"Puerto Villamil\",\"Island\":\"Isabela\",\"...</td>\n      <td>{\"0\":\"https://panoptes-uploads.zooniverse.org/...</td>\n      <td>2</td>\n      <td>NaN</td>\n      <td>NaN</td>\n      <td>2023-10-12 16:28:45 UTC</td>\n      <td>2023-10-12 16:28:45 UTC</td>\n    </tr>\n    <tr>\n      <th>68156</th>\n      <td>92469733</td>\n      <td>11905</td>\n      <td>25351.0</td>\n      <td>116619</td>\n      <td>{\"Site\":\"Puerto Villamil\",\"Island\":\"Isabela\",\"...</td>\n      <td>{\"0\":\"https://panoptes-uploads.zooniverse.org/...</td>\n      <td>3</td>\n      <td>NaN</td>\n      <td>NaN</td>\n      <td>2023-10-12 16:28:46 UTC</td>\n      <td>2023-10-12 16:28:46 UTC</td>\n    </tr>\n    <tr>\n      <th>68157</th>\n      <td>92469734</td>\n      <td>11905</td>\n      <td>25351.0</td>\n      <td>116619</td>\n      <td>{\"Site\":\"Puerto Villamil\",\"Island\":\"Isabela\",\"...</td>\n      <td>{\"0\":\"https://panoptes-uploads.zooniverse.org/...</td>\n      <td>6</td>\n      <td>NaN</td>\n      <td>NaN</td>\n      <td>2023-10-12 16:28:46 UTC</td>\n      <td>2023-10-12 16:28:46 UTC</td>\n    </tr>\n    <tr>\n      <th>68158</th>\n      <td>92469735</td>\n      <td>11905</td>\n      <td>25351.0</td>\n      <td>116619</td>\n      <td>{\"Site\":\"Puerto Villamil\",\"Island\":\"Isabela\",\"...</td>\n      <td>{\"0\":\"https://panoptes-uploads.zooniverse.org/...</td>\n      <td>1</td>\n      <td>NaN</td>\n      <td>NaN</td>\n      <td>2023-10-12 16:28:46 UTC</td>\n      <td>2023-10-12 16:28:46 UTC</td>\n    </tr>\n    <tr>\n      <th>68159</th>\n      <td>92469736</td>\n      <td>11905</td>\n      <td>25351.0</td>\n      <td>116619</td>\n      <td>{\"Site\":\"Puerto Villamil\",\"Island\":\"Isabela\",\"...</td>\n      <td>{\"0\":\"https://panoptes-uploads.zooniverse.org/...</td>\n      <td>4</td>\n      <td>NaN</td>\n      <td>NaN</td>\n      <td>2023-10-12 16:28:47 UTC</td>\n      <td>2023-10-12 16:28:47 UTC</td>\n    </tr>\n  </tbody>\n</table>\n<p>68160 rows × 11 columns</p>\n</div>"
     },
     "execution_count": 10,
     "metadata": {},
     "output_type": "execute_result"
    }
   ],
   "source": [
    "df_subjects = pd.read_csv(\"./data/iguanas-from-above-subjects.csv\", sep=\",\")\n",
    "df_subjects"
   ],
   "metadata": {
    "collapsed": false,
    "ExecuteTime": {
     "end_time": "2024-04-10T09:59:21.271409Z",
     "start_time": "2024-04-10T09:59:21.050725Z"
    }
   },
   "id": "9fd404ec525777e3",
   "execution_count": 10
  },
  {
   "cell_type": "markdown",
   "source": [
    "## TODO Merge the extractions if there are multiple extractions per phase"
   ],
   "metadata": {
    "collapsed": false
   },
   "id": "627dcf3904529cee"
  },
  {
   "cell_type": "code",
   "execution_count": 11,
   "id": "d8ea83ced96e1e6f",
   "metadata": {
    "collapsed": false,
    "ExecuteTime": {
     "end_time": "2024-04-10T09:59:25.160062Z",
     "start_time": "2024-04-10T09:59:22.286978Z"
    }
   },
   "outputs": [
    {
     "name": "stderr",
     "output_type": "stream",
     "text": [
      "/var/folders/2k/78nn7s4548986wsjh29rhj9w0000gn/T/ipykernel_21093/1177924769.py:6: DtypeWarning: Columns (31,32) have mixed types. Specify dtype option on import or set low_memory=False.\n",
      "  df_panotes_point_extractor = pd.read_csv(\"./data/phase_1/point_extractor_by_frame_extractions.csv\", sep=\",\")\n"
     ]
    }
   ],
   "source": [
    "# for phase in [\"phase_1\", \"phase_2\", \"phase_3\"]:\n",
    "\n",
    "\n",
    "# panoptes_aggregation extract /Users/christian/data/zooniverse/IguanasFromAbove/2023-10-15/iguanas-from-above-classifications.csv -d /Users/christian/data/zooniverse/IguanasFromAbove/2023-10-15/panoptes Extractor_config_workflow_14370_V142.245.yaml\n",
    "\n",
    "df_panotes_point_extractor = pd.read_csv(\"./data/phase_1/point_extractor_by_frame_extractions.csv\", sep=\",\")\n",
    "df_panotes_question = pd.read_csv(\"./data/phase_1/question_extractor_extractions.csv\", sep=\",\")\n",
    "\n"
   ]
  },
  {
   "cell_type": "code",
   "outputs": [
    {
     "ename": "KeyError",
     "evalue": "\"['image_name'] not in index\"",
     "output_type": "error",
     "traceback": [
      "\u001B[0;31m---------------------------------------------------------------------------\u001B[0m",
      "\u001B[0;31mKeyError\u001B[0m                                  Traceback (most recent call last)",
      "Cell \u001B[0;32mIn[12], line 1\u001B[0m\n\u001B[0;32m----> 1\u001B[0m df_panotes_point_extractor \u001B[38;5;241m=\u001B[39m df_panotes_point_extractor\u001B[38;5;241m.\u001B[39mmerge(\u001B[43mdf_subjects\u001B[49m\u001B[43m[\u001B[49m\u001B[43m[\u001B[49m\u001B[38;5;124;43m\"\u001B[39;49m\u001B[38;5;124;43msubject_id\u001B[39;49m\u001B[38;5;124;43m\"\u001B[39;49m\u001B[43m,\u001B[49m\u001B[43m \u001B[49m\u001B[38;5;124;43m\"\u001B[39;49m\u001B[38;5;124;43mimage_name\u001B[39;49m\u001B[38;5;124;43m\"\u001B[39;49m\u001B[43m]\u001B[49m\u001B[43m]\u001B[49m, left_on\u001B[38;5;241m=\u001B[39m\u001B[38;5;124m\"\u001B[39m\u001B[38;5;124msubject_id\u001B[39m\u001B[38;5;124m\"\u001B[39m, right_on\u001B[38;5;241m=\u001B[39m\u001B[38;5;124m\"\u001B[39m\u001B[38;5;124msubject_id\u001B[39m\u001B[38;5;124m\"\u001B[39m)\n\u001B[1;32m      2\u001B[0m df_panotes_point_extractor\n",
      "File \u001B[0;32m~/PycharmProjects/iguanas-from-above-zooniverse/venv/lib/python3.9/site-packages/pandas/core/frame.py:3899\u001B[0m, in \u001B[0;36mDataFrame.__getitem__\u001B[0;34m(self, key)\u001B[0m\n\u001B[1;32m   3897\u001B[0m     \u001B[38;5;28;01mif\u001B[39;00m is_iterator(key):\n\u001B[1;32m   3898\u001B[0m         key \u001B[38;5;241m=\u001B[39m \u001B[38;5;28mlist\u001B[39m(key)\n\u001B[0;32m-> 3899\u001B[0m     indexer \u001B[38;5;241m=\u001B[39m \u001B[38;5;28;43mself\u001B[39;49m\u001B[38;5;241;43m.\u001B[39;49m\u001B[43mcolumns\u001B[49m\u001B[38;5;241;43m.\u001B[39;49m\u001B[43m_get_indexer_strict\u001B[49m\u001B[43m(\u001B[49m\u001B[43mkey\u001B[49m\u001B[43m,\u001B[49m\u001B[43m \u001B[49m\u001B[38;5;124;43m\"\u001B[39;49m\u001B[38;5;124;43mcolumns\u001B[39;49m\u001B[38;5;124;43m\"\u001B[39;49m\u001B[43m)\u001B[49m[\u001B[38;5;241m1\u001B[39m]\n\u001B[1;32m   3901\u001B[0m \u001B[38;5;66;03m# take() does not accept boolean indexers\u001B[39;00m\n\u001B[1;32m   3902\u001B[0m \u001B[38;5;28;01mif\u001B[39;00m \u001B[38;5;28mgetattr\u001B[39m(indexer, \u001B[38;5;124m\"\u001B[39m\u001B[38;5;124mdtype\u001B[39m\u001B[38;5;124m\"\u001B[39m, \u001B[38;5;28;01mNone\u001B[39;00m) \u001B[38;5;241m==\u001B[39m \u001B[38;5;28mbool\u001B[39m:\n",
      "File \u001B[0;32m~/PycharmProjects/iguanas-from-above-zooniverse/venv/lib/python3.9/site-packages/pandas/core/indexes/base.py:6114\u001B[0m, in \u001B[0;36mIndex._get_indexer_strict\u001B[0;34m(self, key, axis_name)\u001B[0m\n\u001B[1;32m   6111\u001B[0m \u001B[38;5;28;01melse\u001B[39;00m:\n\u001B[1;32m   6112\u001B[0m     keyarr, indexer, new_indexer \u001B[38;5;241m=\u001B[39m \u001B[38;5;28mself\u001B[39m\u001B[38;5;241m.\u001B[39m_reindex_non_unique(keyarr)\n\u001B[0;32m-> 6114\u001B[0m \u001B[38;5;28;43mself\u001B[39;49m\u001B[38;5;241;43m.\u001B[39;49m\u001B[43m_raise_if_missing\u001B[49m\u001B[43m(\u001B[49m\u001B[43mkeyarr\u001B[49m\u001B[43m,\u001B[49m\u001B[43m \u001B[49m\u001B[43mindexer\u001B[49m\u001B[43m,\u001B[49m\u001B[43m \u001B[49m\u001B[43maxis_name\u001B[49m\u001B[43m)\u001B[49m\n\u001B[1;32m   6116\u001B[0m keyarr \u001B[38;5;241m=\u001B[39m \u001B[38;5;28mself\u001B[39m\u001B[38;5;241m.\u001B[39mtake(indexer)\n\u001B[1;32m   6117\u001B[0m \u001B[38;5;28;01mif\u001B[39;00m \u001B[38;5;28misinstance\u001B[39m(key, Index):\n\u001B[1;32m   6118\u001B[0m     \u001B[38;5;66;03m# GH 42790 - Preserve name from an Index\u001B[39;00m\n",
      "File \u001B[0;32m~/PycharmProjects/iguanas-from-above-zooniverse/venv/lib/python3.9/site-packages/pandas/core/indexes/base.py:6178\u001B[0m, in \u001B[0;36mIndex._raise_if_missing\u001B[0;34m(self, key, indexer, axis_name)\u001B[0m\n\u001B[1;32m   6175\u001B[0m     \u001B[38;5;28;01mraise\u001B[39;00m \u001B[38;5;167;01mKeyError\u001B[39;00m(\u001B[38;5;124mf\u001B[39m\u001B[38;5;124m\"\u001B[39m\u001B[38;5;124mNone of [\u001B[39m\u001B[38;5;132;01m{\u001B[39;00mkey\u001B[38;5;132;01m}\u001B[39;00m\u001B[38;5;124m] are in the [\u001B[39m\u001B[38;5;132;01m{\u001B[39;00maxis_name\u001B[38;5;132;01m}\u001B[39;00m\u001B[38;5;124m]\u001B[39m\u001B[38;5;124m\"\u001B[39m)\n\u001B[1;32m   6177\u001B[0m not_found \u001B[38;5;241m=\u001B[39m \u001B[38;5;28mlist\u001B[39m(ensure_index(key)[missing_mask\u001B[38;5;241m.\u001B[39mnonzero()[\u001B[38;5;241m0\u001B[39m]]\u001B[38;5;241m.\u001B[39munique())\n\u001B[0;32m-> 6178\u001B[0m \u001B[38;5;28;01mraise\u001B[39;00m \u001B[38;5;167;01mKeyError\u001B[39;00m(\u001B[38;5;124mf\u001B[39m\u001B[38;5;124m\"\u001B[39m\u001B[38;5;132;01m{\u001B[39;00mnot_found\u001B[38;5;132;01m}\u001B[39;00m\u001B[38;5;124m not in index\u001B[39m\u001B[38;5;124m\"\u001B[39m)\n",
      "\u001B[0;31mKeyError\u001B[0m: \"['image_name'] not in index\""
     ]
    }
   ],
   "source": [
    "\n"
   ],
   "metadata": {
    "collapsed": false,
    "ExecuteTime": {
     "end_time": "2024-04-10T09:59:25.630066Z",
     "start_time": "2024-04-10T09:59:25.161641Z"
    }
   },
   "id": "4ec062eacccdc3e8",
   "execution_count": 12
  },
  {
   "cell_type": "code",
   "outputs": [],
   "source": [
    "df_panotes_point_extractor"
   ],
   "metadata": {
    "collapsed": false,
    "ExecuteTime": {
     "end_time": "2024-04-10T09:59:25.631098Z",
     "start_time": "2024-04-10T09:59:25.631041Z"
    }
   },
   "id": "3c4ae981e64efbc7",
   "execution_count": null
  },
  {
   "cell_type": "code",
   "outputs": [],
   "source": [
    "def get_json_keys(json_str):\n",
    "    try:\n",
    "        json_obj = json.loads(json_str)\n",
    "        return list(json_obj.keys())\n",
    "    except json.JSONDecodeError:\n",
    "        return []\n",
    "\n",
    "# Apply the function to each row in the metadata column and collect all keys\n",
    "all_keys = df_subjects['metadata'].apply(get_json_keys)\n",
    "\n",
    "# Flatten the list of lists and get unique keys\n",
    "unique_keys = set([key for sublist in all_keys for key in sublist])\n",
    "\n",
    "print(unique_keys)"
   ],
   "metadata": {
    "collapsed": false
   },
   "id": "94063673f589d472",
   "execution_count": null
  },
  {
   "cell_type": "code",
   "outputs": [
    {
     "data": {
      "text/plain": "       subject_id  project_id  workflow_id  subject_set_id  \\\n0        44660549       11905          NaN           83766   \n1        44660550       11905          NaN           83766   \n2        44660551       11905          NaN           83766   \n3        44660552       11905          NaN           83766   \n4        44660553       11905          NaN           83766   \n...           ...         ...          ...             ...   \n68155    92469731       11905      25351.0          116619   \n68156    92469733       11905      25351.0          116619   \n68157    92469734       11905      25351.0          116619   \n68158    92469735       11905      25351.0          116619   \n68159    92469736       11905      25351.0          116619   \n\n                                                metadata  \\\n0      {\"image_name\":\"SMF02-1-2-2_740.jpg\",\"subject_i...   \n1      {\"image_name\":\"SRIL03-2-1_153.jpg\",\"subject_id...   \n2      {\"image_name\":\"SRIL03-2-2_90.jpg\",\"subject_id\"...   \n3      {\"image_name\":\"SRIL03-2-2_127.jpg\",\"subject_id...   \n4      {\"image_name\":\"SRIL03-2-2_133.jpg\",\"subject_id...   \n...                                                  ...   \n68155  {\"Site\":\"Puerto Villamil\",\"Island\":\"Isabela\",\"...   \n68156  {\"Site\":\"Puerto Villamil\",\"Island\":\"Isabela\",\"...   \n68157  {\"Site\":\"Puerto Villamil\",\"Island\":\"Isabela\",\"...   \n68158  {\"Site\":\"Puerto Villamil\",\"Island\":\"Isabela\",\"...   \n68159  {\"Site\":\"Puerto Villamil\",\"Island\":\"Isabela\",\"...   \n\n                                               locations  \\\n0      {\"0\":\"https://panoptes-uploads.zooniverse.org/...   \n1      {\"0\":\"https://panoptes-uploads.zooniverse.org/...   \n2      {\"0\":\"https://panoptes-uploads.zooniverse.org/...   \n3      {\"0\":\"https://panoptes-uploads.zooniverse.org/...   \n4      {\"0\":\"https://panoptes-uploads.zooniverse.org/...   \n...                                                  ...   \n68155  {\"0\":\"https://panoptes-uploads.zooniverse.org/...   \n68156  {\"0\":\"https://panoptes-uploads.zooniverse.org/...   \n68157  {\"0\":\"https://panoptes-uploads.zooniverse.org/...   \n68158  {\"0\":\"https://panoptes-uploads.zooniverse.org/...   \n68159  {\"0\":\"https://panoptes-uploads.zooniverse.org/...   \n\n       classifications_count retired_at retirement_reason  \\\n0                          0        NaN               NaN   \n1                          0        NaN               NaN   \n2                          0        NaN               NaN   \n3                          0        NaN               NaN   \n4                          0        NaN               NaN   \n...                      ...        ...               ...   \n68155                      2        NaN               NaN   \n68156                      3        NaN               NaN   \n68157                      6        NaN               NaN   \n68158                      1        NaN               NaN   \n68159                      4        NaN               NaN   \n\n                    created_at               updated_at  \\\n0      2020-05-12 11:01:33 UTC  2020-05-12 11:01:33 UTC   \n1      2020-05-12 11:01:39 UTC  2020-05-12 11:01:39 UTC   \n2      2020-05-12 11:01:45 UTC  2020-05-12 11:01:45 UTC   \n3      2020-05-12 11:01:49 UTC  2020-05-12 11:01:49 UTC   \n4      2020-05-12 11:01:53 UTC  2020-05-12 11:01:53 UTC   \n...                        ...                      ...   \n68155  2023-10-12 16:28:45 UTC  2023-10-12 16:28:45 UTC   \n68156  2023-10-12 16:28:46 UTC  2023-10-12 16:28:46 UTC   \n68157  2023-10-12 16:28:46 UTC  2023-10-12 16:28:46 UTC   \n68158  2023-10-12 16:28:46 UTC  2023-10-12 16:28:46 UTC   \n68159  2023-10-12 16:28:47 UTC  2023-10-12 16:28:47 UTC   \n\n                          image_name  \n0                SMF02-1-2-2_740.jpg  \n1                 SRIL03-2-1_153.jpg  \n2                  SRIL03-2-2_90.jpg  \n3                 SRIL03-2-2_127.jpg  \n4                 SRIL03-2-2_133.jpg  \n...                              ...  \n68155    Isa_ISVB02_27012023_155.jpg  \n68156  Isa_ISVB01_27012023_75_36.jpg  \n68157  Isa_ISVB01_27012023_27_16.jpg  \n68158  Isa_ISVB03_77012023_28_17.jpg  \n68159  Isa_ISVB01_27012023_51_37.jpg  \n\n[68160 rows x 12 columns]",
      "text/html": "<div>\n<style scoped>\n    .dataframe tbody tr th:only-of-type {\n        vertical-align: middle;\n    }\n\n    .dataframe tbody tr th {\n        vertical-align: top;\n    }\n\n    .dataframe thead th {\n        text-align: right;\n    }\n</style>\n<table border=\"1\" class=\"dataframe\">\n  <thead>\n    <tr style=\"text-align: right;\">\n      <th></th>\n      <th>subject_id</th>\n      <th>project_id</th>\n      <th>workflow_id</th>\n      <th>subject_set_id</th>\n      <th>metadata</th>\n      <th>locations</th>\n      <th>classifications_count</th>\n      <th>retired_at</th>\n      <th>retirement_reason</th>\n      <th>created_at</th>\n      <th>updated_at</th>\n      <th>image_name</th>\n    </tr>\n  </thead>\n  <tbody>\n    <tr>\n      <th>0</th>\n      <td>44660549</td>\n      <td>11905</td>\n      <td>NaN</td>\n      <td>83766</td>\n      <td>{\"image_name\":\"SMF02-1-2-2_740.jpg\",\"subject_i...</td>\n      <td>{\"0\":\"https://panoptes-uploads.zooniverse.org/...</td>\n      <td>0</td>\n      <td>NaN</td>\n      <td>NaN</td>\n      <td>2020-05-12 11:01:33 UTC</td>\n      <td>2020-05-12 11:01:33 UTC</td>\n      <td>SMF02-1-2-2_740.jpg</td>\n    </tr>\n    <tr>\n      <th>1</th>\n      <td>44660550</td>\n      <td>11905</td>\n      <td>NaN</td>\n      <td>83766</td>\n      <td>{\"image_name\":\"SRIL03-2-1_153.jpg\",\"subject_id...</td>\n      <td>{\"0\":\"https://panoptes-uploads.zooniverse.org/...</td>\n      <td>0</td>\n      <td>NaN</td>\n      <td>NaN</td>\n      <td>2020-05-12 11:01:39 UTC</td>\n      <td>2020-05-12 11:01:39 UTC</td>\n      <td>SRIL03-2-1_153.jpg</td>\n    </tr>\n    <tr>\n      <th>2</th>\n      <td>44660551</td>\n      <td>11905</td>\n      <td>NaN</td>\n      <td>83766</td>\n      <td>{\"image_name\":\"SRIL03-2-2_90.jpg\",\"subject_id\"...</td>\n      <td>{\"0\":\"https://panoptes-uploads.zooniverse.org/...</td>\n      <td>0</td>\n      <td>NaN</td>\n      <td>NaN</td>\n      <td>2020-05-12 11:01:45 UTC</td>\n      <td>2020-05-12 11:01:45 UTC</td>\n      <td>SRIL03-2-2_90.jpg</td>\n    </tr>\n    <tr>\n      <th>3</th>\n      <td>44660552</td>\n      <td>11905</td>\n      <td>NaN</td>\n      <td>83766</td>\n      <td>{\"image_name\":\"SRIL03-2-2_127.jpg\",\"subject_id...</td>\n      <td>{\"0\":\"https://panoptes-uploads.zooniverse.org/...</td>\n      <td>0</td>\n      <td>NaN</td>\n      <td>NaN</td>\n      <td>2020-05-12 11:01:49 UTC</td>\n      <td>2020-05-12 11:01:49 UTC</td>\n      <td>SRIL03-2-2_127.jpg</td>\n    </tr>\n    <tr>\n      <th>4</th>\n      <td>44660553</td>\n      <td>11905</td>\n      <td>NaN</td>\n      <td>83766</td>\n      <td>{\"image_name\":\"SRIL03-2-2_133.jpg\",\"subject_id...</td>\n      <td>{\"0\":\"https://panoptes-uploads.zooniverse.org/...</td>\n      <td>0</td>\n      <td>NaN</td>\n      <td>NaN</td>\n      <td>2020-05-12 11:01:53 UTC</td>\n      <td>2020-05-12 11:01:53 UTC</td>\n      <td>SRIL03-2-2_133.jpg</td>\n    </tr>\n    <tr>\n      <th>...</th>\n      <td>...</td>\n      <td>...</td>\n      <td>...</td>\n      <td>...</td>\n      <td>...</td>\n      <td>...</td>\n      <td>...</td>\n      <td>...</td>\n      <td>...</td>\n      <td>...</td>\n      <td>...</td>\n      <td>...</td>\n    </tr>\n    <tr>\n      <th>68155</th>\n      <td>92469731</td>\n      <td>11905</td>\n      <td>25351.0</td>\n      <td>116619</td>\n      <td>{\"Site\":\"Puerto Villamil\",\"Island\":\"Isabela\",\"...</td>\n      <td>{\"0\":\"https://panoptes-uploads.zooniverse.org/...</td>\n      <td>2</td>\n      <td>NaN</td>\n      <td>NaN</td>\n      <td>2023-10-12 16:28:45 UTC</td>\n      <td>2023-10-12 16:28:45 UTC</td>\n      <td>Isa_ISVB02_27012023_155.jpg</td>\n    </tr>\n    <tr>\n      <th>68156</th>\n      <td>92469733</td>\n      <td>11905</td>\n      <td>25351.0</td>\n      <td>116619</td>\n      <td>{\"Site\":\"Puerto Villamil\",\"Island\":\"Isabela\",\"...</td>\n      <td>{\"0\":\"https://panoptes-uploads.zooniverse.org/...</td>\n      <td>3</td>\n      <td>NaN</td>\n      <td>NaN</td>\n      <td>2023-10-12 16:28:46 UTC</td>\n      <td>2023-10-12 16:28:46 UTC</td>\n      <td>Isa_ISVB01_27012023_75_36.jpg</td>\n    </tr>\n    <tr>\n      <th>68157</th>\n      <td>92469734</td>\n      <td>11905</td>\n      <td>25351.0</td>\n      <td>116619</td>\n      <td>{\"Site\":\"Puerto Villamil\",\"Island\":\"Isabela\",\"...</td>\n      <td>{\"0\":\"https://panoptes-uploads.zooniverse.org/...</td>\n      <td>6</td>\n      <td>NaN</td>\n      <td>NaN</td>\n      <td>2023-10-12 16:28:46 UTC</td>\n      <td>2023-10-12 16:28:46 UTC</td>\n      <td>Isa_ISVB01_27012023_27_16.jpg</td>\n    </tr>\n    <tr>\n      <th>68158</th>\n      <td>92469735</td>\n      <td>11905</td>\n      <td>25351.0</td>\n      <td>116619</td>\n      <td>{\"Site\":\"Puerto Villamil\",\"Island\":\"Isabela\",\"...</td>\n      <td>{\"0\":\"https://panoptes-uploads.zooniverse.org/...</td>\n      <td>1</td>\n      <td>NaN</td>\n      <td>NaN</td>\n      <td>2023-10-12 16:28:46 UTC</td>\n      <td>2023-10-12 16:28:46 UTC</td>\n      <td>Isa_ISVB03_77012023_28_17.jpg</td>\n    </tr>\n    <tr>\n      <th>68159</th>\n      <td>92469736</td>\n      <td>11905</td>\n      <td>25351.0</td>\n      <td>116619</td>\n      <td>{\"Site\":\"Puerto Villamil\",\"Island\":\"Isabela\",\"...</td>\n      <td>{\"0\":\"https://panoptes-uploads.zooniverse.org/...</td>\n      <td>4</td>\n      <td>NaN</td>\n      <td>NaN</td>\n      <td>2023-10-12 16:28:47 UTC</td>\n      <td>2023-10-12 16:28:47 UTC</td>\n      <td>Isa_ISVB01_27012023_51_37.jpg</td>\n    </tr>\n  </tbody>\n</table>\n<p>68160 rows × 12 columns</p>\n</div>"
     },
     "execution_count": 13,
     "metadata": {},
     "output_type": "execute_result"
    }
   ],
   "source": [
    "import json\n",
    "\n",
    "df_subjects[[\"subject_id\", \"metadata\"]]\n",
    "\n",
    "df_subjects[\"image_name\"] = df_subjects['metadata'].apply(lambda x: json.loads(x).get('Image_name') \n",
    "                                        or json.loads(x).get('image_name') \n",
    "                                        or json.loads(x).get('Filename')).sort_values(ascending=True)\n",
    "df_subjects"
   ],
   "metadata": {
    "collapsed": false,
    "ExecuteTime": {
     "end_time": "2024-04-10T09:59:57.841312Z",
     "start_time": "2024-04-10T09:59:57.642148Z"
    }
   },
   "id": "b16f1620c103a531",
   "execution_count": 13
  },
  {
   "cell_type": "code",
   "outputs": [
    {
     "data": {
      "text/plain": "         classification_id                           user_name    user_id  \\\n0                238056473                      ANDREAVARELA89  1983945.0   \n1                238056473                      ANDREAVARELA89  1983945.0   \n2                257483880  not-logged-in-33bc5b21c88460dbfea6        NaN   \n3                257483880  not-logged-in-33bc5b21c88460dbfea6        NaN   \n4                257500131                        Honestapple5  2104679.0   \n...                    ...                                 ...        ...   \n1020279          288127706                              acolom  2118412.0   \n1020280          288168438                     FelipeCirqueira  2191241.0   \n1020281          288168438                     FelipeCirqueira  2191241.0   \n1020282          288198132                      LittleUsername  2148294.0   \n1020283          288198132                      LittleUsername  2148294.0   \n\n         workflow_id task               created_at  subject_id  \\\n0              14370   T2  2020-05-12 11:50:39 UTC    44660549   \n1              14370   T4  2020-05-12 11:50:39 UTC    44660549   \n2              14370   T2  2020-07-03 15:48:36 UTC    44660549   \n3              14370   T4  2020-07-03 15:48:36 UTC    44660549   \n4              14370   T2  2020-07-03 16:57:57 UTC    44660549   \n...              ...  ...                      ...         ...   \n1020279        14370   T4  2020-11-18 21:32:33 UTC    47970949   \n1020280        14370   T2  2020-11-19 01:03:05 UTC    47970949   \n1020281        14370   T4  2020-11-19 01:03:05 UTC    47970949   \n1020282        14370   T2  2020-11-19 03:57:28 UTC    47970949   \n1020283        14370   T4  2020-11-19 03:57:28 UTC    47970949   \n\n                        extractor data.aggregation_version  \\\n0        point_extractor_by_frame                    4.1.0   \n1        point_extractor_by_frame                    4.1.0   \n2        point_extractor_by_frame                    4.1.0   \n3        point_extractor_by_frame                    4.1.0   \n4        point_extractor_by_frame                    4.1.0   \n...                           ...                      ...   \n1020279  point_extractor_by_frame                    4.1.0   \n1020280  point_extractor_by_frame                    4.1.0   \n1020281  point_extractor_by_frame                    4.1.0   \n1020282  point_extractor_by_frame                    4.1.0   \n1020283  point_extractor_by_frame                    4.1.0   \n\n        data.frame0.T2_tool0_x  ...  \\\n0                          NaN  ...   \n1                          NaN  ...   \n2                          NaN  ...   \n3                          NaN  ...   \n4                          NaN  ...   \n...                        ...  ...   \n1020279                    NaN  ...   \n1020280                    NaN  ...   \n1020281                    NaN  ...   \n1020282                    NaN  ...   \n1020283                    NaN  ...   \n\n                                    data.frame0.T4_tool3_y  \\\n0                                                      NaN   \n1                                                      NaN   \n2                                                      NaN   \n3                                                      NaN   \n4                                                      NaN   \n...                                                    ...   \n1020279                                     [89, 255, 400]   \n1020280                                                NaN   \n1020281  [406.9670104980469, 262.2330322265625, 259.898...   \n1020282                                                NaN   \n1020283                                                NaN   \n\n        data.frame0.T4_tool2_x data.frame0.T4_tool2_y data.frame0.T4_tool5_x  \\\n0                          NaN                    NaN                    NaN   \n1                          NaN                    NaN                    NaN   \n2                          NaN                    NaN                    NaN   \n3                          NaN                    NaN                    NaN   \n4                          NaN                    NaN                    NaN   \n...                        ...                    ...                    ...   \n1020279                    NaN                    NaN                    NaN   \n1020280                    NaN                    NaN                    NaN   \n1020281                    NaN                    NaN                    NaN   \n1020282                    NaN                    NaN                    NaN   \n1020283                    NaN                    NaN                    NaN   \n\n        data.frame0.T4_tool5_y data.frame0.T4_tool1_x data.frame0.T4_tool1_y  \\\n0                          NaN                    NaN                    NaN   \n1                          NaN                    NaN                    NaN   \n2                          NaN                    NaN                    NaN   \n3                          NaN                    NaN                    NaN   \n4                          NaN                    NaN                    NaN   \n...                        ...                    ...                    ...   \n1020279                    NaN                    NaN                    NaN   \n1020280                    NaN                    NaN                    NaN   \n1020281                    NaN                    NaN                    NaN   \n1020282                    NaN                    NaN                    NaN   \n1020283                    NaN                    NaN                    NaN   \n\n        data.frame0.T4_tool6_x data.frame0.T4_tool6_y           image_name  \n0                          NaN                    NaN  SMF02-1-2-2_740.jpg  \n1                          NaN                    NaN  SMF02-1-2-2_740.jpg  \n2                          NaN                    NaN  SMF02-1-2-2_740.jpg  \n3                          NaN                    NaN  SMF02-1-2-2_740.jpg  \n4                          NaN                    NaN  SMF02-1-2-2_740.jpg  \n...                        ...                    ...                  ...  \n1020279                    NaN                    NaN    SFM04-1-1_369.jpg  \n1020280                    NaN                    NaN    SFM04-1-1_369.jpg  \n1020281                    NaN                    NaN    SFM04-1-1_369.jpg  \n1020282                    NaN                    NaN    SFM04-1-1_369.jpg  \n1020283                    NaN                    NaN    SFM04-1-1_369.jpg  \n\n[1020284 rows x 34 columns]",
      "text/html": "<div>\n<style scoped>\n    .dataframe tbody tr th:only-of-type {\n        vertical-align: middle;\n    }\n\n    .dataframe tbody tr th {\n        vertical-align: top;\n    }\n\n    .dataframe thead th {\n        text-align: right;\n    }\n</style>\n<table border=\"1\" class=\"dataframe\">\n  <thead>\n    <tr style=\"text-align: right;\">\n      <th></th>\n      <th>classification_id</th>\n      <th>user_name</th>\n      <th>user_id</th>\n      <th>workflow_id</th>\n      <th>task</th>\n      <th>created_at</th>\n      <th>subject_id</th>\n      <th>extractor</th>\n      <th>data.aggregation_version</th>\n      <th>data.frame0.T2_tool0_x</th>\n      <th>...</th>\n      <th>data.frame0.T4_tool3_y</th>\n      <th>data.frame0.T4_tool2_x</th>\n      <th>data.frame0.T4_tool2_y</th>\n      <th>data.frame0.T4_tool5_x</th>\n      <th>data.frame0.T4_tool5_y</th>\n      <th>data.frame0.T4_tool1_x</th>\n      <th>data.frame0.T4_tool1_y</th>\n      <th>data.frame0.T4_tool6_x</th>\n      <th>data.frame0.T4_tool6_y</th>\n      <th>image_name</th>\n    </tr>\n  </thead>\n  <tbody>\n    <tr>\n      <th>0</th>\n      <td>238056473</td>\n      <td>ANDREAVARELA89</td>\n      <td>1983945.0</td>\n      <td>14370</td>\n      <td>T2</td>\n      <td>2020-05-12 11:50:39 UTC</td>\n      <td>44660549</td>\n      <td>point_extractor_by_frame</td>\n      <td>4.1.0</td>\n      <td>NaN</td>\n      <td>...</td>\n      <td>NaN</td>\n      <td>NaN</td>\n      <td>NaN</td>\n      <td>NaN</td>\n      <td>NaN</td>\n      <td>NaN</td>\n      <td>NaN</td>\n      <td>NaN</td>\n      <td>NaN</td>\n      <td>SMF02-1-2-2_740.jpg</td>\n    </tr>\n    <tr>\n      <th>1</th>\n      <td>238056473</td>\n      <td>ANDREAVARELA89</td>\n      <td>1983945.0</td>\n      <td>14370</td>\n      <td>T4</td>\n      <td>2020-05-12 11:50:39 UTC</td>\n      <td>44660549</td>\n      <td>point_extractor_by_frame</td>\n      <td>4.1.0</td>\n      <td>NaN</td>\n      <td>...</td>\n      <td>NaN</td>\n      <td>NaN</td>\n      <td>NaN</td>\n      <td>NaN</td>\n      <td>NaN</td>\n      <td>NaN</td>\n      <td>NaN</td>\n      <td>NaN</td>\n      <td>NaN</td>\n      <td>SMF02-1-2-2_740.jpg</td>\n    </tr>\n    <tr>\n      <th>2</th>\n      <td>257483880</td>\n      <td>not-logged-in-33bc5b21c88460dbfea6</td>\n      <td>NaN</td>\n      <td>14370</td>\n      <td>T2</td>\n      <td>2020-07-03 15:48:36 UTC</td>\n      <td>44660549</td>\n      <td>point_extractor_by_frame</td>\n      <td>4.1.0</td>\n      <td>NaN</td>\n      <td>...</td>\n      <td>NaN</td>\n      <td>NaN</td>\n      <td>NaN</td>\n      <td>NaN</td>\n      <td>NaN</td>\n      <td>NaN</td>\n      <td>NaN</td>\n      <td>NaN</td>\n      <td>NaN</td>\n      <td>SMF02-1-2-2_740.jpg</td>\n    </tr>\n    <tr>\n      <th>3</th>\n      <td>257483880</td>\n      <td>not-logged-in-33bc5b21c88460dbfea6</td>\n      <td>NaN</td>\n      <td>14370</td>\n      <td>T4</td>\n      <td>2020-07-03 15:48:36 UTC</td>\n      <td>44660549</td>\n      <td>point_extractor_by_frame</td>\n      <td>4.1.0</td>\n      <td>NaN</td>\n      <td>...</td>\n      <td>NaN</td>\n      <td>NaN</td>\n      <td>NaN</td>\n      <td>NaN</td>\n      <td>NaN</td>\n      <td>NaN</td>\n      <td>NaN</td>\n      <td>NaN</td>\n      <td>NaN</td>\n      <td>SMF02-1-2-2_740.jpg</td>\n    </tr>\n    <tr>\n      <th>4</th>\n      <td>257500131</td>\n      <td>Honestapple5</td>\n      <td>2104679.0</td>\n      <td>14370</td>\n      <td>T2</td>\n      <td>2020-07-03 16:57:57 UTC</td>\n      <td>44660549</td>\n      <td>point_extractor_by_frame</td>\n      <td>4.1.0</td>\n      <td>NaN</td>\n      <td>...</td>\n      <td>NaN</td>\n      <td>NaN</td>\n      <td>NaN</td>\n      <td>NaN</td>\n      <td>NaN</td>\n      <td>NaN</td>\n      <td>NaN</td>\n      <td>NaN</td>\n      <td>NaN</td>\n      <td>SMF02-1-2-2_740.jpg</td>\n    </tr>\n    <tr>\n      <th>...</th>\n      <td>...</td>\n      <td>...</td>\n      <td>...</td>\n      <td>...</td>\n      <td>...</td>\n      <td>...</td>\n      <td>...</td>\n      <td>...</td>\n      <td>...</td>\n      <td>...</td>\n      <td>...</td>\n      <td>...</td>\n      <td>...</td>\n      <td>...</td>\n      <td>...</td>\n      <td>...</td>\n      <td>...</td>\n      <td>...</td>\n      <td>...</td>\n      <td>...</td>\n      <td>...</td>\n    </tr>\n    <tr>\n      <th>1020279</th>\n      <td>288127706</td>\n      <td>acolom</td>\n      <td>2118412.0</td>\n      <td>14370</td>\n      <td>T4</td>\n      <td>2020-11-18 21:32:33 UTC</td>\n      <td>47970949</td>\n      <td>point_extractor_by_frame</td>\n      <td>4.1.0</td>\n      <td>NaN</td>\n      <td>...</td>\n      <td>[89, 255, 400]</td>\n      <td>NaN</td>\n      <td>NaN</td>\n      <td>NaN</td>\n      <td>NaN</td>\n      <td>NaN</td>\n      <td>NaN</td>\n      <td>NaN</td>\n      <td>NaN</td>\n      <td>SFM04-1-1_369.jpg</td>\n    </tr>\n    <tr>\n      <th>1020280</th>\n      <td>288168438</td>\n      <td>FelipeCirqueira</td>\n      <td>2191241.0</td>\n      <td>14370</td>\n      <td>T2</td>\n      <td>2020-11-19 01:03:05 UTC</td>\n      <td>47970949</td>\n      <td>point_extractor_by_frame</td>\n      <td>4.1.0</td>\n      <td>NaN</td>\n      <td>...</td>\n      <td>NaN</td>\n      <td>NaN</td>\n      <td>NaN</td>\n      <td>NaN</td>\n      <td>NaN</td>\n      <td>NaN</td>\n      <td>NaN</td>\n      <td>NaN</td>\n      <td>NaN</td>\n      <td>SFM04-1-1_369.jpg</td>\n    </tr>\n    <tr>\n      <th>1020281</th>\n      <td>288168438</td>\n      <td>FelipeCirqueira</td>\n      <td>2191241.0</td>\n      <td>14370</td>\n      <td>T4</td>\n      <td>2020-11-19 01:03:05 UTC</td>\n      <td>47970949</td>\n      <td>point_extractor_by_frame</td>\n      <td>4.1.0</td>\n      <td>NaN</td>\n      <td>...</td>\n      <td>[406.9670104980469, 262.2330322265625, 259.898...</td>\n      <td>NaN</td>\n      <td>NaN</td>\n      <td>NaN</td>\n      <td>NaN</td>\n      <td>NaN</td>\n      <td>NaN</td>\n      <td>NaN</td>\n      <td>NaN</td>\n      <td>SFM04-1-1_369.jpg</td>\n    </tr>\n    <tr>\n      <th>1020282</th>\n      <td>288198132</td>\n      <td>LittleUsername</td>\n      <td>2148294.0</td>\n      <td>14370</td>\n      <td>T2</td>\n      <td>2020-11-19 03:57:28 UTC</td>\n      <td>47970949</td>\n      <td>point_extractor_by_frame</td>\n      <td>4.1.0</td>\n      <td>NaN</td>\n      <td>...</td>\n      <td>NaN</td>\n      <td>NaN</td>\n      <td>NaN</td>\n      <td>NaN</td>\n      <td>NaN</td>\n      <td>NaN</td>\n      <td>NaN</td>\n      <td>NaN</td>\n      <td>NaN</td>\n      <td>SFM04-1-1_369.jpg</td>\n    </tr>\n    <tr>\n      <th>1020283</th>\n      <td>288198132</td>\n      <td>LittleUsername</td>\n      <td>2148294.0</td>\n      <td>14370</td>\n      <td>T4</td>\n      <td>2020-11-19 03:57:28 UTC</td>\n      <td>47970949</td>\n      <td>point_extractor_by_frame</td>\n      <td>4.1.0</td>\n      <td>NaN</td>\n      <td>...</td>\n      <td>NaN</td>\n      <td>NaN</td>\n      <td>NaN</td>\n      <td>NaN</td>\n      <td>NaN</td>\n      <td>NaN</td>\n      <td>NaN</td>\n      <td>NaN</td>\n      <td>NaN</td>\n      <td>SFM04-1-1_369.jpg</td>\n    </tr>\n  </tbody>\n</table>\n<p>1020284 rows × 34 columns</p>\n</div>"
     },
     "execution_count": 14,
     "metadata": {},
     "output_type": "execute_result"
    }
   ],
   "source": [
    "df_panotes_point_extractor = df_panotes_point_extractor.merge(df_subjects[[\"subject_id\", \"image_name\"]], left_on=\"subject_id\", right_on=\"subject_id\")\n",
    "df_panotes_point_extractor"
   ],
   "metadata": {
    "collapsed": false,
    "ExecuteTime": {
     "end_time": "2024-04-10T10:00:00.065299Z",
     "start_time": "2024-04-10T09:59:58.599663Z"
    }
   },
   "id": "a1e2e015fdba1cb",
   "execution_count": 14
  },
  {
   "cell_type": "code",
   "outputs": [],
   "source": [
    "## Anonymise the data"
   ],
   "metadata": {
    "collapsed": false,
    "ExecuteTime": {
     "end_time": "2024-04-10T10:00:17.645193Z",
     "start_time": "2024-04-10T10:00:17.642542Z"
    }
   },
   "id": "3124edcb4cb91425",
   "execution_count": 15
  },
  {
   "cell_type": "code",
   "outputs": [],
   "source": [
    "from hashlib import blake2b\n",
    "\n",
    "df_panotes_point_extractor[\"user_id\"] = df_panotes_point_extractor['user_id'].apply(lambda x: blake2b(str(x).encode(), digest_size=16).hexdigest() if not pd.isnull(x) else x)\n",
    "# Anonymize 'user_name' by hashing\n",
    "df_panotes_point_extractor['user_name'] = df_panotes_point_extractor['user_name'].apply(lambda x: blake2b(x.encode(), digest_size=16).hexdigest() if isinstance(x, str) else x)\n",
    "\n",
    "df_panotes_question[\"user_id\"] = df_panotes_question['user_id'].apply(lambda x: blake2b(str(x).encode(), digest_size=16).hexdigest() if not pd.isnull(x) else x)\n",
    "# Anonymize 'user_name' by hashing\n",
    "df_panotes_question['user_name'] = df_panotes_question['user_name'].apply(lambda x: blake2b(x.encode(), digest_size=16).hexdigest() if isinstance(x, str) else x)"
   ],
   "metadata": {
    "collapsed": false,
    "ExecuteTime": {
     "end_time": "2024-04-10T10:00:19.749946Z",
     "start_time": "2024-04-10T10:00:18.076188Z"
    }
   },
   "id": "7053c0a8476989c3",
   "execution_count": 16
  },
  {
   "cell_type": "code",
   "outputs": [
    {
     "data": {
      "text/plain": "         classification_id                         user_name  \\\n0                238056473  386fc0ec047b7e259744e72e8e64b9f9   \n1                238056473  386fc0ec047b7e259744e72e8e64b9f9   \n2                257483880  ec17f4ab6a51fee747c3f1e5f0a004c5   \n3                257483880  ec17f4ab6a51fee747c3f1e5f0a004c5   \n4                257500131  dc48dacf4a7d070ce8d2189d087adb8d   \n...                    ...                               ...   \n1020279          288127706  7e82ef4b88b037461f90958b2716c1b8   \n1020280          288168438  9e15149b8e8ef01f93697b4dfd952d33   \n1020281          288168438  9e15149b8e8ef01f93697b4dfd952d33   \n1020282          288198132  69b80c6be0af6a1f2fdfc07ee22e8ced   \n1020283          288198132  69b80c6be0af6a1f2fdfc07ee22e8ced   \n\n                                  user_id  workflow_id task  \\\n0        ea57b1088a10fa7fef30ed0b344e2ca3        14370   T2   \n1        ea57b1088a10fa7fef30ed0b344e2ca3        14370   T4   \n2                                     NaN        14370   T2   \n3                                     NaN        14370   T4   \n4        b53ddd25763b7daeadccf74f0ad5e67d        14370   T2   \n...                                   ...          ...  ...   \n1020279  2a7bf97c8666cf6289378831707942a2        14370   T4   \n1020280  f0e8db7c9aee1017a2699e2483bc4238        14370   T2   \n1020281  f0e8db7c9aee1017a2699e2483bc4238        14370   T4   \n1020282  b7670915fc691ba3cf8b50ea56b3d6e1        14370   T2   \n1020283  b7670915fc691ba3cf8b50ea56b3d6e1        14370   T4   \n\n                      created_at  subject_id                 extractor  \\\n0        2020-05-12 11:50:39 UTC    44660549  point_extractor_by_frame   \n1        2020-05-12 11:50:39 UTC    44660549  point_extractor_by_frame   \n2        2020-07-03 15:48:36 UTC    44660549  point_extractor_by_frame   \n3        2020-07-03 15:48:36 UTC    44660549  point_extractor_by_frame   \n4        2020-07-03 16:57:57 UTC    44660549  point_extractor_by_frame   \n...                          ...         ...                       ...   \n1020279  2020-11-18 21:32:33 UTC    47970949  point_extractor_by_frame   \n1020280  2020-11-19 01:03:05 UTC    47970949  point_extractor_by_frame   \n1020281  2020-11-19 01:03:05 UTC    47970949  point_extractor_by_frame   \n1020282  2020-11-19 03:57:28 UTC    47970949  point_extractor_by_frame   \n1020283  2020-11-19 03:57:28 UTC    47970949  point_extractor_by_frame   \n\n        data.aggregation_version data.frame0.T2_tool0_x  ...  \\\n0                          4.1.0                    NaN  ...   \n1                          4.1.0                    NaN  ...   \n2                          4.1.0                    NaN  ...   \n3                          4.1.0                    NaN  ...   \n4                          4.1.0                    NaN  ...   \n...                          ...                    ...  ...   \n1020279                    4.1.0                    NaN  ...   \n1020280                    4.1.0                    NaN  ...   \n1020281                    4.1.0                    NaN  ...   \n1020282                    4.1.0                    NaN  ...   \n1020283                    4.1.0                    NaN  ...   \n\n                                    data.frame0.T4_tool3_y  \\\n0                                                      NaN   \n1                                                      NaN   \n2                                                      NaN   \n3                                                      NaN   \n4                                                      NaN   \n...                                                    ...   \n1020279                                     [89, 255, 400]   \n1020280                                                NaN   \n1020281  [406.9670104980469, 262.2330322265625, 259.898...   \n1020282                                                NaN   \n1020283                                                NaN   \n\n        data.frame0.T4_tool2_x data.frame0.T4_tool2_y data.frame0.T4_tool5_x  \\\n0                          NaN                    NaN                    NaN   \n1                          NaN                    NaN                    NaN   \n2                          NaN                    NaN                    NaN   \n3                          NaN                    NaN                    NaN   \n4                          NaN                    NaN                    NaN   \n...                        ...                    ...                    ...   \n1020279                    NaN                    NaN                    NaN   \n1020280                    NaN                    NaN                    NaN   \n1020281                    NaN                    NaN                    NaN   \n1020282                    NaN                    NaN                    NaN   \n1020283                    NaN                    NaN                    NaN   \n\n        data.frame0.T4_tool5_y data.frame0.T4_tool1_x data.frame0.T4_tool1_y  \\\n0                          NaN                    NaN                    NaN   \n1                          NaN                    NaN                    NaN   \n2                          NaN                    NaN                    NaN   \n3                          NaN                    NaN                    NaN   \n4                          NaN                    NaN                    NaN   \n...                        ...                    ...                    ...   \n1020279                    NaN                    NaN                    NaN   \n1020280                    NaN                    NaN                    NaN   \n1020281                    NaN                    NaN                    NaN   \n1020282                    NaN                    NaN                    NaN   \n1020283                    NaN                    NaN                    NaN   \n\n        data.frame0.T4_tool6_x data.frame0.T4_tool6_y           image_name  \n0                          NaN                    NaN  SMF02-1-2-2_740.jpg  \n1                          NaN                    NaN  SMF02-1-2-2_740.jpg  \n2                          NaN                    NaN  SMF02-1-2-2_740.jpg  \n3                          NaN                    NaN  SMF02-1-2-2_740.jpg  \n4                          NaN                    NaN  SMF02-1-2-2_740.jpg  \n...                        ...                    ...                  ...  \n1020279                    NaN                    NaN    SFM04-1-1_369.jpg  \n1020280                    NaN                    NaN    SFM04-1-1_369.jpg  \n1020281                    NaN                    NaN    SFM04-1-1_369.jpg  \n1020282                    NaN                    NaN    SFM04-1-1_369.jpg  \n1020283                    NaN                    NaN    SFM04-1-1_369.jpg  \n\n[1020284 rows x 34 columns]",
      "text/html": "<div>\n<style scoped>\n    .dataframe tbody tr th:only-of-type {\n        vertical-align: middle;\n    }\n\n    .dataframe tbody tr th {\n        vertical-align: top;\n    }\n\n    .dataframe thead th {\n        text-align: right;\n    }\n</style>\n<table border=\"1\" class=\"dataframe\">\n  <thead>\n    <tr style=\"text-align: right;\">\n      <th></th>\n      <th>classification_id</th>\n      <th>user_name</th>\n      <th>user_id</th>\n      <th>workflow_id</th>\n      <th>task</th>\n      <th>created_at</th>\n      <th>subject_id</th>\n      <th>extractor</th>\n      <th>data.aggregation_version</th>\n      <th>data.frame0.T2_tool0_x</th>\n      <th>...</th>\n      <th>data.frame0.T4_tool3_y</th>\n      <th>data.frame0.T4_tool2_x</th>\n      <th>data.frame0.T4_tool2_y</th>\n      <th>data.frame0.T4_tool5_x</th>\n      <th>data.frame0.T4_tool5_y</th>\n      <th>data.frame0.T4_tool1_x</th>\n      <th>data.frame0.T4_tool1_y</th>\n      <th>data.frame0.T4_tool6_x</th>\n      <th>data.frame0.T4_tool6_y</th>\n      <th>image_name</th>\n    </tr>\n  </thead>\n  <tbody>\n    <tr>\n      <th>0</th>\n      <td>238056473</td>\n      <td>386fc0ec047b7e259744e72e8e64b9f9</td>\n      <td>ea57b1088a10fa7fef30ed0b344e2ca3</td>\n      <td>14370</td>\n      <td>T2</td>\n      <td>2020-05-12 11:50:39 UTC</td>\n      <td>44660549</td>\n      <td>point_extractor_by_frame</td>\n      <td>4.1.0</td>\n      <td>NaN</td>\n      <td>...</td>\n      <td>NaN</td>\n      <td>NaN</td>\n      <td>NaN</td>\n      <td>NaN</td>\n      <td>NaN</td>\n      <td>NaN</td>\n      <td>NaN</td>\n      <td>NaN</td>\n      <td>NaN</td>\n      <td>SMF02-1-2-2_740.jpg</td>\n    </tr>\n    <tr>\n      <th>1</th>\n      <td>238056473</td>\n      <td>386fc0ec047b7e259744e72e8e64b9f9</td>\n      <td>ea57b1088a10fa7fef30ed0b344e2ca3</td>\n      <td>14370</td>\n      <td>T4</td>\n      <td>2020-05-12 11:50:39 UTC</td>\n      <td>44660549</td>\n      <td>point_extractor_by_frame</td>\n      <td>4.1.0</td>\n      <td>NaN</td>\n      <td>...</td>\n      <td>NaN</td>\n      <td>NaN</td>\n      <td>NaN</td>\n      <td>NaN</td>\n      <td>NaN</td>\n      <td>NaN</td>\n      <td>NaN</td>\n      <td>NaN</td>\n      <td>NaN</td>\n      <td>SMF02-1-2-2_740.jpg</td>\n    </tr>\n    <tr>\n      <th>2</th>\n      <td>257483880</td>\n      <td>ec17f4ab6a51fee747c3f1e5f0a004c5</td>\n      <td>NaN</td>\n      <td>14370</td>\n      <td>T2</td>\n      <td>2020-07-03 15:48:36 UTC</td>\n      <td>44660549</td>\n      <td>point_extractor_by_frame</td>\n      <td>4.1.0</td>\n      <td>NaN</td>\n      <td>...</td>\n      <td>NaN</td>\n      <td>NaN</td>\n      <td>NaN</td>\n      <td>NaN</td>\n      <td>NaN</td>\n      <td>NaN</td>\n      <td>NaN</td>\n      <td>NaN</td>\n      <td>NaN</td>\n      <td>SMF02-1-2-2_740.jpg</td>\n    </tr>\n    <tr>\n      <th>3</th>\n      <td>257483880</td>\n      <td>ec17f4ab6a51fee747c3f1e5f0a004c5</td>\n      <td>NaN</td>\n      <td>14370</td>\n      <td>T4</td>\n      <td>2020-07-03 15:48:36 UTC</td>\n      <td>44660549</td>\n      <td>point_extractor_by_frame</td>\n      <td>4.1.0</td>\n      <td>NaN</td>\n      <td>...</td>\n      <td>NaN</td>\n      <td>NaN</td>\n      <td>NaN</td>\n      <td>NaN</td>\n      <td>NaN</td>\n      <td>NaN</td>\n      <td>NaN</td>\n      <td>NaN</td>\n      <td>NaN</td>\n      <td>SMF02-1-2-2_740.jpg</td>\n    </tr>\n    <tr>\n      <th>4</th>\n      <td>257500131</td>\n      <td>dc48dacf4a7d070ce8d2189d087adb8d</td>\n      <td>b53ddd25763b7daeadccf74f0ad5e67d</td>\n      <td>14370</td>\n      <td>T2</td>\n      <td>2020-07-03 16:57:57 UTC</td>\n      <td>44660549</td>\n      <td>point_extractor_by_frame</td>\n      <td>4.1.0</td>\n      <td>NaN</td>\n      <td>...</td>\n      <td>NaN</td>\n      <td>NaN</td>\n      <td>NaN</td>\n      <td>NaN</td>\n      <td>NaN</td>\n      <td>NaN</td>\n      <td>NaN</td>\n      <td>NaN</td>\n      <td>NaN</td>\n      <td>SMF02-1-2-2_740.jpg</td>\n    </tr>\n    <tr>\n      <th>...</th>\n      <td>...</td>\n      <td>...</td>\n      <td>...</td>\n      <td>...</td>\n      <td>...</td>\n      <td>...</td>\n      <td>...</td>\n      <td>...</td>\n      <td>...</td>\n      <td>...</td>\n      <td>...</td>\n      <td>...</td>\n      <td>...</td>\n      <td>...</td>\n      <td>...</td>\n      <td>...</td>\n      <td>...</td>\n      <td>...</td>\n      <td>...</td>\n      <td>...</td>\n      <td>...</td>\n    </tr>\n    <tr>\n      <th>1020279</th>\n      <td>288127706</td>\n      <td>7e82ef4b88b037461f90958b2716c1b8</td>\n      <td>2a7bf97c8666cf6289378831707942a2</td>\n      <td>14370</td>\n      <td>T4</td>\n      <td>2020-11-18 21:32:33 UTC</td>\n      <td>47970949</td>\n      <td>point_extractor_by_frame</td>\n      <td>4.1.0</td>\n      <td>NaN</td>\n      <td>...</td>\n      <td>[89, 255, 400]</td>\n      <td>NaN</td>\n      <td>NaN</td>\n      <td>NaN</td>\n      <td>NaN</td>\n      <td>NaN</td>\n      <td>NaN</td>\n      <td>NaN</td>\n      <td>NaN</td>\n      <td>SFM04-1-1_369.jpg</td>\n    </tr>\n    <tr>\n      <th>1020280</th>\n      <td>288168438</td>\n      <td>9e15149b8e8ef01f93697b4dfd952d33</td>\n      <td>f0e8db7c9aee1017a2699e2483bc4238</td>\n      <td>14370</td>\n      <td>T2</td>\n      <td>2020-11-19 01:03:05 UTC</td>\n      <td>47970949</td>\n      <td>point_extractor_by_frame</td>\n      <td>4.1.0</td>\n      <td>NaN</td>\n      <td>...</td>\n      <td>NaN</td>\n      <td>NaN</td>\n      <td>NaN</td>\n      <td>NaN</td>\n      <td>NaN</td>\n      <td>NaN</td>\n      <td>NaN</td>\n      <td>NaN</td>\n      <td>NaN</td>\n      <td>SFM04-1-1_369.jpg</td>\n    </tr>\n    <tr>\n      <th>1020281</th>\n      <td>288168438</td>\n      <td>9e15149b8e8ef01f93697b4dfd952d33</td>\n      <td>f0e8db7c9aee1017a2699e2483bc4238</td>\n      <td>14370</td>\n      <td>T4</td>\n      <td>2020-11-19 01:03:05 UTC</td>\n      <td>47970949</td>\n      <td>point_extractor_by_frame</td>\n      <td>4.1.0</td>\n      <td>NaN</td>\n      <td>...</td>\n      <td>[406.9670104980469, 262.2330322265625, 259.898...</td>\n      <td>NaN</td>\n      <td>NaN</td>\n      <td>NaN</td>\n      <td>NaN</td>\n      <td>NaN</td>\n      <td>NaN</td>\n      <td>NaN</td>\n      <td>NaN</td>\n      <td>SFM04-1-1_369.jpg</td>\n    </tr>\n    <tr>\n      <th>1020282</th>\n      <td>288198132</td>\n      <td>69b80c6be0af6a1f2fdfc07ee22e8ced</td>\n      <td>b7670915fc691ba3cf8b50ea56b3d6e1</td>\n      <td>14370</td>\n      <td>T2</td>\n      <td>2020-11-19 03:57:28 UTC</td>\n      <td>47970949</td>\n      <td>point_extractor_by_frame</td>\n      <td>4.1.0</td>\n      <td>NaN</td>\n      <td>...</td>\n      <td>NaN</td>\n      <td>NaN</td>\n      <td>NaN</td>\n      <td>NaN</td>\n      <td>NaN</td>\n      <td>NaN</td>\n      <td>NaN</td>\n      <td>NaN</td>\n      <td>NaN</td>\n      <td>SFM04-1-1_369.jpg</td>\n    </tr>\n    <tr>\n      <th>1020283</th>\n      <td>288198132</td>\n      <td>69b80c6be0af6a1f2fdfc07ee22e8ced</td>\n      <td>b7670915fc691ba3cf8b50ea56b3d6e1</td>\n      <td>14370</td>\n      <td>T4</td>\n      <td>2020-11-19 03:57:28 UTC</td>\n      <td>47970949</td>\n      <td>point_extractor_by_frame</td>\n      <td>4.1.0</td>\n      <td>NaN</td>\n      <td>...</td>\n      <td>NaN</td>\n      <td>NaN</td>\n      <td>NaN</td>\n      <td>NaN</td>\n      <td>NaN</td>\n      <td>NaN</td>\n      <td>NaN</td>\n      <td>NaN</td>\n      <td>NaN</td>\n      <td>SFM04-1-1_369.jpg</td>\n    </tr>\n  </tbody>\n</table>\n<p>1020284 rows × 34 columns</p>\n</div>"
     },
     "execution_count": 17,
     "metadata": {},
     "output_type": "execute_result"
    }
   ],
   "source": [
    "# TODO check if that doesn ruin the data\n",
    "df_panotes_point_extractor"
   ],
   "metadata": {
    "collapsed": false,
    "ExecuteTime": {
     "end_time": "2024-04-10T10:00:21.575704Z",
     "start_time": "2024-04-10T10:00:20.563438Z"
    }
   },
   "id": "672c51cc23c3b710",
   "execution_count": 17
  },
  {
   "cell_type": "code",
   "execution_count": 18,
   "id": "51a67a69fc8b084",
   "metadata": {
    "collapsed": false,
    "ExecuteTime": {
     "end_time": "2024-04-10T10:00:25.874683Z",
     "start_time": "2024-04-10T10:00:25.865686Z"
    }
   },
   "outputs": [
    {
     "data": {
      "text/plain": "        classification_id                         user_name  \\\n0               232620575  386fc0ec047b7e259744e72e8e64b9f9   \n1               232685836  386fc0ec047b7e259744e72e8e64b9f9   \n2               232690022  386fc0ec047b7e259744e72e8e64b9f9   \n3               232693212  386fc0ec047b7e259744e72e8e64b9f9   \n4               232779652  14fcdfb20e7001d8e866e24fef9780ec   \n...                   ...                               ...   \n510800          383293720  cfbf6573c2dcd1386dfce451d9f6be93   \n510801          383293740  cfbf6573c2dcd1386dfce451d9f6be93   \n510802          389328206  aa5f2961151e502de5ff29fb40337fe5   \n510803          389328326  aa5f2961151e502de5ff29fb40337fe5   \n510804          400947304  19835766ecbb50ec6fbe68caa85e4c63   \n\n                                 user_id  workflow_id task  \\\n0       ea57b1088a10fa7fef30ed0b344e2ca3        14370   T0   \n1       ea57b1088a10fa7fef30ed0b344e2ca3        14370   T0   \n2       ea57b1088a10fa7fef30ed0b344e2ca3        14370   T0   \n3       ea57b1088a10fa7fef30ed0b344e2ca3        14370   T0   \n4                                    NaN        14370   T0   \n...                                  ...          ...  ...   \n510800  945fed5a4ee1a07cb3b13647e3c1f8e9        14370   T0   \n510801  945fed5a4ee1a07cb3b13647e3c1f8e9        14370   T0   \n510802                               NaN        14370   T0   \n510803                               NaN        14370   T0   \n510804  8bfe78a8dc879fc7aabe1ff94a42d74f        14370   T0   \n\n                     created_at  subject_id           extractor  data.no  \\\n0       2020-04-30 12:04:49 UTC    44273036  question_extractor      1.0   \n1       2020-04-30 14:18:48 UTC    44273024  question_extractor      NaN   \n2       2020-04-30 14:25:13 UTC    44273037  question_extractor      NaN   \n3       2020-04-30 14:31:00 UTC    44272996  question_extractor      NaN   \n4       2020-04-30 16:38:38 UTC    44281461  question_extractor      1.0   \n...                         ...         ...                 ...      ...   \n510800  2021-12-14 19:51:50 UTC    47970146  question_extractor      1.0   \n510801  2021-12-14 19:51:54 UTC    47970069  question_extractor      1.0   \n510802  2022-01-13 14:13:01 UTC    47970037  question_extractor      1.0   \n510803  2022-01-13 14:13:18 UTC    47969950  question_extractor      1.0   \n510804  2022-03-07 11:23:01 UTC    47969894  question_extractor      NaN   \n\n       data.aggregation_version  data.yes  data.photo-too-blurry-or-dark  \n0                         4.1.0       NaN                            NaN  \n1                         4.1.0       1.0                            NaN  \n2                         4.1.0       1.0                            NaN  \n3                         4.1.0       1.0                            NaN  \n4                         4.1.0       NaN                            NaN  \n...                         ...       ...                            ...  \n510800                    4.1.0       NaN                            NaN  \n510801                    4.1.0       NaN                            NaN  \n510802                    4.1.0       NaN                            NaN  \n510803                    4.1.0       NaN                            NaN  \n510804                    4.1.0       1.0                            NaN  \n\n[510805 rows x 12 columns]",
      "text/html": "<div>\n<style scoped>\n    .dataframe tbody tr th:only-of-type {\n        vertical-align: middle;\n    }\n\n    .dataframe tbody tr th {\n        vertical-align: top;\n    }\n\n    .dataframe thead th {\n        text-align: right;\n    }\n</style>\n<table border=\"1\" class=\"dataframe\">\n  <thead>\n    <tr style=\"text-align: right;\">\n      <th></th>\n      <th>classification_id</th>\n      <th>user_name</th>\n      <th>user_id</th>\n      <th>workflow_id</th>\n      <th>task</th>\n      <th>created_at</th>\n      <th>subject_id</th>\n      <th>extractor</th>\n      <th>data.no</th>\n      <th>data.aggregation_version</th>\n      <th>data.yes</th>\n      <th>data.photo-too-blurry-or-dark</th>\n    </tr>\n  </thead>\n  <tbody>\n    <tr>\n      <th>0</th>\n      <td>232620575</td>\n      <td>386fc0ec047b7e259744e72e8e64b9f9</td>\n      <td>ea57b1088a10fa7fef30ed0b344e2ca3</td>\n      <td>14370</td>\n      <td>T0</td>\n      <td>2020-04-30 12:04:49 UTC</td>\n      <td>44273036</td>\n      <td>question_extractor</td>\n      <td>1.0</td>\n      <td>4.1.0</td>\n      <td>NaN</td>\n      <td>NaN</td>\n    </tr>\n    <tr>\n      <th>1</th>\n      <td>232685836</td>\n      <td>386fc0ec047b7e259744e72e8e64b9f9</td>\n      <td>ea57b1088a10fa7fef30ed0b344e2ca3</td>\n      <td>14370</td>\n      <td>T0</td>\n      <td>2020-04-30 14:18:48 UTC</td>\n      <td>44273024</td>\n      <td>question_extractor</td>\n      <td>NaN</td>\n      <td>4.1.0</td>\n      <td>1.0</td>\n      <td>NaN</td>\n    </tr>\n    <tr>\n      <th>2</th>\n      <td>232690022</td>\n      <td>386fc0ec047b7e259744e72e8e64b9f9</td>\n      <td>ea57b1088a10fa7fef30ed0b344e2ca3</td>\n      <td>14370</td>\n      <td>T0</td>\n      <td>2020-04-30 14:25:13 UTC</td>\n      <td>44273037</td>\n      <td>question_extractor</td>\n      <td>NaN</td>\n      <td>4.1.0</td>\n      <td>1.0</td>\n      <td>NaN</td>\n    </tr>\n    <tr>\n      <th>3</th>\n      <td>232693212</td>\n      <td>386fc0ec047b7e259744e72e8e64b9f9</td>\n      <td>ea57b1088a10fa7fef30ed0b344e2ca3</td>\n      <td>14370</td>\n      <td>T0</td>\n      <td>2020-04-30 14:31:00 UTC</td>\n      <td>44272996</td>\n      <td>question_extractor</td>\n      <td>NaN</td>\n      <td>4.1.0</td>\n      <td>1.0</td>\n      <td>NaN</td>\n    </tr>\n    <tr>\n      <th>4</th>\n      <td>232779652</td>\n      <td>14fcdfb20e7001d8e866e24fef9780ec</td>\n      <td>NaN</td>\n      <td>14370</td>\n      <td>T0</td>\n      <td>2020-04-30 16:38:38 UTC</td>\n      <td>44281461</td>\n      <td>question_extractor</td>\n      <td>1.0</td>\n      <td>4.1.0</td>\n      <td>NaN</td>\n      <td>NaN</td>\n    </tr>\n    <tr>\n      <th>...</th>\n      <td>...</td>\n      <td>...</td>\n      <td>...</td>\n      <td>...</td>\n      <td>...</td>\n      <td>...</td>\n      <td>...</td>\n      <td>...</td>\n      <td>...</td>\n      <td>...</td>\n      <td>...</td>\n      <td>...</td>\n    </tr>\n    <tr>\n      <th>510800</th>\n      <td>383293720</td>\n      <td>cfbf6573c2dcd1386dfce451d9f6be93</td>\n      <td>945fed5a4ee1a07cb3b13647e3c1f8e9</td>\n      <td>14370</td>\n      <td>T0</td>\n      <td>2021-12-14 19:51:50 UTC</td>\n      <td>47970146</td>\n      <td>question_extractor</td>\n      <td>1.0</td>\n      <td>4.1.0</td>\n      <td>NaN</td>\n      <td>NaN</td>\n    </tr>\n    <tr>\n      <th>510801</th>\n      <td>383293740</td>\n      <td>cfbf6573c2dcd1386dfce451d9f6be93</td>\n      <td>945fed5a4ee1a07cb3b13647e3c1f8e9</td>\n      <td>14370</td>\n      <td>T0</td>\n      <td>2021-12-14 19:51:54 UTC</td>\n      <td>47970069</td>\n      <td>question_extractor</td>\n      <td>1.0</td>\n      <td>4.1.0</td>\n      <td>NaN</td>\n      <td>NaN</td>\n    </tr>\n    <tr>\n      <th>510802</th>\n      <td>389328206</td>\n      <td>aa5f2961151e502de5ff29fb40337fe5</td>\n      <td>NaN</td>\n      <td>14370</td>\n      <td>T0</td>\n      <td>2022-01-13 14:13:01 UTC</td>\n      <td>47970037</td>\n      <td>question_extractor</td>\n      <td>1.0</td>\n      <td>4.1.0</td>\n      <td>NaN</td>\n      <td>NaN</td>\n    </tr>\n    <tr>\n      <th>510803</th>\n      <td>389328326</td>\n      <td>aa5f2961151e502de5ff29fb40337fe5</td>\n      <td>NaN</td>\n      <td>14370</td>\n      <td>T0</td>\n      <td>2022-01-13 14:13:18 UTC</td>\n      <td>47969950</td>\n      <td>question_extractor</td>\n      <td>1.0</td>\n      <td>4.1.0</td>\n      <td>NaN</td>\n      <td>NaN</td>\n    </tr>\n    <tr>\n      <th>510804</th>\n      <td>400947304</td>\n      <td>19835766ecbb50ec6fbe68caa85e4c63</td>\n      <td>8bfe78a8dc879fc7aabe1ff94a42d74f</td>\n      <td>14370</td>\n      <td>T0</td>\n      <td>2022-03-07 11:23:01 UTC</td>\n      <td>47969894</td>\n      <td>question_extractor</td>\n      <td>NaN</td>\n      <td>4.1.0</td>\n      <td>1.0</td>\n      <td>NaN</td>\n    </tr>\n  </tbody>\n</table>\n<p>510805 rows × 12 columns</p>\n</div>"
     },
     "execution_count": 18,
     "metadata": {},
     "output_type": "execute_result"
    }
   ],
   "source": [
    "df_panotes_question"
   ]
  },
  {
   "cell_type": "code",
   "outputs": [],
   "source": [],
   "metadata": {
    "collapsed": false,
    "ExecuteTime": {
     "end_time": "2024-04-10T10:00:27.191225Z",
     "start_time": "2024-04-10T10:00:27.189874Z"
    }
   },
   "id": "eb0278706c18a98b",
   "execution_count": 18
  },
  {
   "cell_type": "code",
   "outputs": [],
   "source": [],
   "metadata": {
    "collapsed": false,
    "ExecuteTime": {
     "end_time": "2024-04-10T10:00:27.732987Z",
     "start_time": "2024-04-10T10:00:27.731538Z"
    }
   },
   "id": "92b49b34b9268b22",
   "execution_count": 18
  },
  {
   "cell_type": "code",
   "outputs": [],
   "source": [],
   "metadata": {
    "collapsed": false,
    "ExecuteTime": {
     "end_time": "2024-04-10T10:00:27.734873Z",
     "start_time": "2024-04-10T10:00:27.733561Z"
    }
   },
   "id": "33fff828739e03d3",
   "execution_count": 18
  },
  {
   "cell_type": "code",
   "outputs": [],
   "source": [],
   "metadata": {
    "collapsed": false,
    "ExecuteTime": {
     "end_time": "2024-04-10T10:00:28.311644Z",
     "start_time": "2024-04-10T10:00:28.310328Z"
    }
   },
   "id": "80ad82419db4dbf6",
   "execution_count": 18
  },
  {
   "cell_type": "markdown",
   "source": [
    "# Debugging"
   ],
   "metadata": {
    "collapsed": false
   },
   "id": "9e8a51f65d5a984f"
  },
  {
   "cell_type": "code",
   "execution_count": 19,
   "id": "37777b38694b06ae",
   "metadata": {
    "collapsed": false,
    "ExecuteTime": {
     "end_time": "2024-04-10T10:00:31.354570Z",
     "start_time": "2024-04-10T10:00:31.338717Z"
    }
   },
   "outputs": [
    {
     "data": {
      "text/plain": "        classification_id                         user_name  \\\n523348          266491150  378b9eb095df1f812df933857dd635e8   \n523349          266491150  378b9eb095df1f812df933857dd635e8   \n523350          266743841  d30f89f8a947dd9d63f0cb0c0c46dc45   \n523351          266743841  d30f89f8a947dd9d63f0cb0c0c46dc45   \n523352          266937675  93153a745f6d870f35900ea72c3d5528   \n523353          266937675  93153a745f6d870f35900ea72c3d5528   \n523354          268677533  43505cffc364520096716c3deaeac174   \n523355          268677533  43505cffc364520096716c3deaeac174   \n523356          268715330  979b0d58c5aadc6c4c1c1a7874c9833d   \n523357          268715330  979b0d58c5aadc6c4c1c1a7874c9833d   \n523358          269064295  d2c21e890e3fc550e9b43bb4a5d64991   \n523359          269064295  d2c21e890e3fc550e9b43bb4a5d64991   \n523360          269666238  dd37a81824db574314f9c6ed1da5a68e   \n523361          269666238  dd37a81824db574314f9c6ed1da5a68e   \n523362          270275523  152ad9dcd6135dd625a8051f0efdbb72   \n523363          270275523  152ad9dcd6135dd625a8051f0efdbb72   \n523364          270583385  163558a4f47eacf64c9d3d43a578a985   \n523365          270583385  163558a4f47eacf64c9d3d43a578a985   \n523366          270584175  778439348eb8dcf43bf6c7a2e5ddc6ff   \n523367          270584175  778439348eb8dcf43bf6c7a2e5ddc6ff   \n523368          270605869  1ad7d2824b87f393461c0a2317dd91a2   \n523369          270605869  1ad7d2824b87f393461c0a2317dd91a2   \n523370          270978484  1969a4420a6617a25fe2fd5b82faaeff   \n523371          270978484  1969a4420a6617a25fe2fd5b82faaeff   \n523372          274860425  93da71391cc0dc87bc09a9a98f631c40   \n523373          274860425  93da71391cc0dc87bc09a9a98f631c40   \n523374          277523792  36b2040ae4dd151b163da8d682e46cf7   \n523375          277523792  36b2040ae4dd151b163da8d682e46cf7   \n523376          278226484  06a327db52349e9de3c9760317722820   \n523377          278226484  06a327db52349e9de3c9760317722820   \n523378          278452127  5e7afdb2b258451e1b3cec2e3ddbb317   \n523379          278452127  5e7afdb2b258451e1b3cec2e3ddbb317   \n523380          281167948  b0f5fa7789909ee79b0264f924b28554   \n523381          281167948  b0f5fa7789909ee79b0264f924b28554   \n523382          282000285  08283e084ff53e1d84af0a7ce22e0316   \n523383          282000285  08283e084ff53e1d84af0a7ce22e0316   \n523384          282682776  16df0a3fa73a9f7b6b0d62dd89dcd1b1   \n523385          282682776  16df0a3fa73a9f7b6b0d62dd89dcd1b1   \n523386          284067456  9c78d2320dac96bd2039404b6a2b9b19   \n523387          284067456  9c78d2320dac96bd2039404b6a2b9b19   \n\n                                 user_id  workflow_id task  \\\n523348  03b95da792ebd66bf0f3e738bb886ed9        14370   T2   \n523349  03b95da792ebd66bf0f3e738bb886ed9        14370   T4   \n523350  a507e3b82e85733a0138eec7dec68aed        14370   T2   \n523351  a507e3b82e85733a0138eec7dec68aed        14370   T4   \n523352  47569988fc134ca2f55d60ba97df2e9e        14370   T2   \n523353  47569988fc134ca2f55d60ba97df2e9e        14370   T4   \n523354  dc806676dc000a9774b734ebf157382a        14370   T2   \n523355  dc806676dc000a9774b734ebf157382a        14370   T4   \n523356  1f013eca6bffc1383e29d77dbea34e37        14370   T2   \n523357  1f013eca6bffc1383e29d77dbea34e37        14370   T4   \n523358                               NaN        14370   T2   \n523359                               NaN        14370   T4   \n523360  5755ecb0af0ef00ddcdb2d68f571b35d        14370   T2   \n523361  5755ecb0af0ef00ddcdb2d68f571b35d        14370   T4   \n523362  3f5a5ac90682c77736c2eacbf774c521        14370   T2   \n523363  3f5a5ac90682c77736c2eacbf774c521        14370   T4   \n523364  bedded9213a6aa399869358b00ff6b3a        14370   T2   \n523365  bedded9213a6aa399869358b00ff6b3a        14370   T4   \n523366  64197358af80eadc0aedcf3fc518a09d        14370   T2   \n523367  64197358af80eadc0aedcf3fc518a09d        14370   T4   \n523368  af419555a4d0034ef0e4e3270654dd6a        14370   T2   \n523369  af419555a4d0034ef0e4e3270654dd6a        14370   T4   \n523370  ebf397689eb48e28c2ee75771a0ed769        14370   T2   \n523371  ebf397689eb48e28c2ee75771a0ed769        14370   T4   \n523372  14413f6d4f6c2c6c53e112f8cd712cb0        14370   T2   \n523373  14413f6d4f6c2c6c53e112f8cd712cb0        14370   T4   \n523374  073346196f12bd1b43f022c341e41b15        14370   T2   \n523375  073346196f12bd1b43f022c341e41b15        14370   T4   \n523376  f592ba29d98746a392f1d8413ef75ef7        14370   T2   \n523377  f592ba29d98746a392f1d8413ef75ef7        14370   T4   \n523378                               NaN        14370   T2   \n523379                               NaN        14370   T4   \n523380  a81ed872b140906f0464087b41a3df2b        14370   T2   \n523381  a81ed872b140906f0464087b41a3df2b        14370   T4   \n523382  a017aa105acf44a95439cd29e558d725        14370   T2   \n523383  a017aa105acf44a95439cd29e558d725        14370   T4   \n523384  caff599903addd4c752d7d7906f44886        14370   T2   \n523385  caff599903addd4c752d7d7906f44886        14370   T4   \n523386  ca2951bcf3e4c20def84298b77993500        14370   T2   \n523387  ca2951bcf3e4c20def84298b77993500        14370   T4   \n\n                     created_at  subject_id                 extractor  \\\n523348  2020-08-06 09:25:41 UTC    47969478  point_extractor_by_frame   \n523349  2020-08-06 09:25:41 UTC    47969478  point_extractor_by_frame   \n523350  2020-08-07 12:44:16 UTC    47969478  point_extractor_by_frame   \n523351  2020-08-07 12:44:16 UTC    47969478  point_extractor_by_frame   \n523352  2020-08-08 10:19:10 UTC    47969478  point_extractor_by_frame   \n523353  2020-08-08 10:19:10 UTC    47969478  point_extractor_by_frame   \n523354  2020-08-17 22:39:40 UTC    47969478  point_extractor_by_frame   \n523355  2020-08-17 22:39:40 UTC    47969478  point_extractor_by_frame   \n523356  2020-08-18 04:08:36 UTC    47969478  point_extractor_by_frame   \n523357  2020-08-18 04:08:36 UTC    47969478  point_extractor_by_frame   \n523358  2020-08-19 20:59:53 UTC    47969478  point_extractor_by_frame   \n523359  2020-08-19 20:59:53 UTC    47969478  point_extractor_by_frame   \n523360  2020-08-22 21:08:41 UTC    47969478  point_extractor_by_frame   \n523361  2020-08-22 21:08:41 UTC    47969478  point_extractor_by_frame   \n523362  2020-08-26 04:21:41 UTC    47969478  point_extractor_by_frame   \n523363  2020-08-26 04:21:41 UTC    47969478  point_extractor_by_frame   \n523364  2020-08-27 20:08:38 UTC    47969478  point_extractor_by_frame   \n523365  2020-08-27 20:08:38 UTC    47969478  point_extractor_by_frame   \n523366  2020-08-27 20:12:59 UTC    47969478  point_extractor_by_frame   \n523367  2020-08-27 20:12:59 UTC    47969478  point_extractor_by_frame   \n523368  2020-08-27 21:57:31 UTC    47969478  point_extractor_by_frame   \n523369  2020-08-27 21:57:31 UTC    47969478  point_extractor_by_frame   \n523370  2020-08-30 11:42:30 UTC    47969478  point_extractor_by_frame   \n523371  2020-08-30 11:42:30 UTC    47969478  point_extractor_by_frame   \n523372  2020-09-20 05:37:07 UTC    47969478  point_extractor_by_frame   \n523373  2020-09-20 05:37:07 UTC    47969478  point_extractor_by_frame   \n523374  2020-10-02 20:51:26 UTC    47969478  point_extractor_by_frame   \n523375  2020-10-02 20:51:26 UTC    47969478  point_extractor_by_frame   \n523376  2020-10-05 19:22:04 UTC    47969478  point_extractor_by_frame   \n523377  2020-10-05 19:22:04 UTC    47969478  point_extractor_by_frame   \n523378  2020-10-06 17:47:41 UTC    47969478  point_extractor_by_frame   \n523379  2020-10-06 17:47:41 UTC    47969478  point_extractor_by_frame   \n523380  2020-10-17 19:56:26 UTC    47969478  point_extractor_by_frame   \n523381  2020-10-17 19:56:26 UTC    47969478  point_extractor_by_frame   \n523382  2020-10-21 15:01:46 UTC    47969478  point_extractor_by_frame   \n523383  2020-10-21 15:01:46 UTC    47969478  point_extractor_by_frame   \n523384  2020-10-24 12:36:50 UTC    47969478  point_extractor_by_frame   \n523385  2020-10-24 12:36:50 UTC    47969478  point_extractor_by_frame   \n523386  2020-10-30 13:44:38 UTC    47969478  point_extractor_by_frame   \n523387  2020-10-30 13:44:38 UTC    47969478  point_extractor_by_frame   \n\n       data.aggregation_version data.frame0.T2_tool0_x  ...  \\\n523348                    4.1.0                    NaN  ...   \n523349                    4.1.0                    NaN  ...   \n523350                    4.1.0                    NaN  ...   \n523351                    4.1.0                    NaN  ...   \n523352                    4.1.0                    NaN  ...   \n523353                    4.1.0                    NaN  ...   \n523354                    4.1.0                    NaN  ...   \n523355                    4.1.0                    NaN  ...   \n523356                    4.1.0                    NaN  ...   \n523357                    4.1.0                    NaN  ...   \n523358                    4.1.0                    NaN  ...   \n523359                    4.1.0                    NaN  ...   \n523360                    4.1.0                    NaN  ...   \n523361                    4.1.0                    NaN  ...   \n523362                    4.1.0                    NaN  ...   \n523363                    4.1.0                    NaN  ...   \n523364                    4.1.0                    NaN  ...   \n523365                    4.1.0                    NaN  ...   \n523366                    4.1.0                    NaN  ...   \n523367                    4.1.0                    NaN  ...   \n523368                    4.1.0                    NaN  ...   \n523369                    4.1.0                    NaN  ...   \n523370                    4.1.0                    NaN  ...   \n523371                    4.1.0                    NaN  ...   \n523372                    4.1.0                    NaN  ...   \n523373                    4.1.0                    NaN  ...   \n523374                    4.1.0                    NaN  ...   \n523375                    4.1.0                    NaN  ...   \n523376                    4.1.0                    NaN  ...   \n523377                    4.1.0                    NaN  ...   \n523378                    4.1.0                    NaN  ...   \n523379                    4.1.0                    NaN  ...   \n523380                    4.1.0                    NaN  ...   \n523381                    4.1.0                    NaN  ...   \n523382                    4.1.0                    NaN  ...   \n523383                    4.1.0                    NaN  ...   \n523384                    4.1.0                    NaN  ...   \n523385                    4.1.0                    NaN  ...   \n523386                    4.1.0                    NaN  ...   \n523387                    4.1.0                    NaN  ...   \n\n                                   data.frame0.T4_tool3_y  \\\n523348                                                NaN   \n523349                                                NaN   \n523350                                                NaN   \n523351  [562.385009765625, 247.94473266601562, 383.320...   \n523352                                                NaN   \n523353                                [554.9500122070312]   \n523354                                                NaN   \n523355                                      [575.7890625]   \n523356                                                NaN   \n523357                                                NaN   \n523358                                                NaN   \n523359                                                NaN   \n523360                                                NaN   \n523361                                                NaN   \n523362                                                NaN   \n523363                                                NaN   \n523364                                                NaN   \n523365                                [560.1840209960938]   \n523366                                                NaN   \n523367                                                NaN   \n523368                                                NaN   \n523369                                [569.2435913085938]   \n523370                                                NaN   \n523371   [570.75, 486.75, 245.75, 125.75, 388.75, 621.75]   \n523372                                                NaN   \n523373  [560.02734375, 620.3515625, 382.94921875, 246....   \n523374                                                NaN   \n523375  [126.27831268310547, 207.35316467285156, 250.5...   \n523376                                                NaN   \n523377  [126.91908264160156, 126.91908264160156, 244.6...   \n523378                                                NaN   \n523379                                                NaN   \n523380                                                NaN   \n523381  [563.8060302734375, 394.3917236328125, 123.860...   \n523382                                                NaN   \n523383                                                NaN   \n523384                                                NaN   \n523385                                                NaN   \n523386                                                NaN   \n523387                                                NaN   \n\n       data.frame0.T4_tool2_x data.frame0.T4_tool2_y  \\\n523348                    NaN                    NaN   \n523349                    NaN                    NaN   \n523350                    NaN                    NaN   \n523351                    NaN                    NaN   \n523352                    NaN                    NaN   \n523353                    NaN                    NaN   \n523354                    NaN                    NaN   \n523355                    NaN                    NaN   \n523356                    NaN                    NaN   \n523357                    NaN                    NaN   \n523358                    NaN                    NaN   \n523359                    NaN                    NaN   \n523360                    NaN                    NaN   \n523361                    NaN                    NaN   \n523362                    NaN                    NaN   \n523363                    NaN                    NaN   \n523364                    NaN                    NaN   \n523365                    NaN                    NaN   \n523366                    NaN                    NaN   \n523367                    NaN                    NaN   \n523368                    NaN                    NaN   \n523369                    NaN                    NaN   \n523370                    NaN                    NaN   \n523371                    NaN                    NaN   \n523372                    NaN                    NaN   \n523373                    NaN                    NaN   \n523374                    NaN                    NaN   \n523375                    NaN                    NaN   \n523376                    NaN                    NaN   \n523377                    NaN                    NaN   \n523378                    NaN                    NaN   \n523379                    NaN                    NaN   \n523380                    NaN                    NaN   \n523381                    NaN                    NaN   \n523382                    NaN                    NaN   \n523383                    NaN                    NaN   \n523384                    NaN                    NaN   \n523385                    NaN                    NaN   \n523386                    NaN                    NaN   \n523387                    NaN                    NaN   \n\n                      data.frame0.T4_tool5_x  \\\n523348                                   NaN   \n523349                                   NaN   \n523350                                   NaN   \n523351                                   NaN   \n523352                                   NaN   \n523353                                   NaN   \n523354                                   NaN   \n523355                                   NaN   \n523356                                   NaN   \n523357                                   NaN   \n523358                                   NaN   \n523359                                   NaN   \n523360                                   NaN   \n523361                                   NaN   \n523362                                   NaN   \n523363                                   NaN   \n523364                                   NaN   \n523365                                   NaN   \n523366                                   NaN   \n523367                                   NaN   \n523368                                   NaN   \n523369                                   NaN   \n523370                                   NaN   \n523371                                   NaN   \n523372                                   NaN   \n523373                                   NaN   \n523374                                   NaN   \n523375  [573.30419921875, 571.9530029296875]   \n523376                                   NaN   \n523377                                   NaN   \n523378                                   NaN   \n523379                                   NaN   \n523380                                   NaN   \n523381                                   NaN   \n523382                                   NaN   \n523383                                   NaN   \n523384                                   NaN   \n523385                                   NaN   \n523386                                   NaN   \n523387                                   NaN   \n\n                        data.frame0.T4_tool5_y data.frame0.T4_tool1_x  \\\n523348                                     NaN                    NaN   \n523349                                     NaN                    NaN   \n523350                                     NaN                    NaN   \n523351                                     NaN                    NaN   \n523352                                     NaN                    NaN   \n523353                                     NaN                    NaN   \n523354                                     NaN                    NaN   \n523355                                     NaN                    NaN   \n523356                                     NaN                    NaN   \n523357                                     NaN                    NaN   \n523358                                     NaN                    NaN   \n523359                                     NaN                    NaN   \n523360                                     NaN                    NaN   \n523361                                     NaN                    NaN   \n523362                                     NaN                    NaN   \n523363                                     NaN                    NaN   \n523364                                     NaN                    NaN   \n523365                                     NaN                    NaN   \n523366                                     NaN                    NaN   \n523367                                     NaN                    NaN   \n523368                                     NaN                    NaN   \n523369                                     NaN                    NaN   \n523370                                     NaN                    NaN   \n523371                                     NaN                    NaN   \n523372                                     NaN                    NaN   \n523373                                     NaN                    NaN   \n523374                                     NaN                    NaN   \n523375  [603.2687377929688, 458.6852111816406]                    NaN   \n523376                                     NaN                    NaN   \n523377                                     NaN                    NaN   \n523378                                     NaN                    NaN   \n523379                                     NaN                    NaN   \n523380                                     NaN                    NaN   \n523381                                     NaN                    NaN   \n523382                                     NaN                    NaN   \n523383                                     NaN                    NaN   \n523384                                     NaN                    NaN   \n523385                                     NaN                    NaN   \n523386                                     NaN                    NaN   \n523387                                     NaN                    NaN   \n\n       data.frame0.T4_tool1_y                   data.frame0.T4_tool6_x  \\\n523348                    NaN                                      NaN   \n523349                    NaN                                      NaN   \n523350                    NaN                                      NaN   \n523351                    NaN  [387.4653625488281, 156.81886291503906]   \n523352                    NaN                                      NaN   \n523353                    NaN                                      NaN   \n523354                    NaN                                      NaN   \n523355                    NaN                                      NaN   \n523356                    NaN                                      NaN   \n523357                    NaN                                      NaN   \n523358                    NaN                                      NaN   \n523359                    NaN                      [550.9740600585938]   \n523360                    NaN                                      NaN   \n523361                    NaN                                      NaN   \n523362                    NaN                                      NaN   \n523363                    NaN                                      NaN   \n523364                    NaN                                      NaN   \n523365                    NaN                      [158.8762969970703]   \n523366                    NaN                                      NaN   \n523367                    NaN                                      NaN   \n523368                    NaN                                      NaN   \n523369                    NaN                                      NaN   \n523370                    NaN                                      NaN   \n523371                    NaN                                      NaN   \n523372                    NaN                                      NaN   \n523373                    NaN                                      NaN   \n523374                    NaN                                      NaN   \n523375                    NaN                     [170.63243103027344]   \n523376                    NaN                                      NaN   \n523377                    NaN                     [313.84918212890625]   \n523378                    NaN                                      NaN   \n523379                    NaN                                      NaN   \n523380                    NaN                                      NaN   \n523381                    NaN                                      NaN   \n523382                    NaN                                      NaN   \n523383                    NaN                                      NaN   \n523384                    NaN                                      NaN   \n523385                    NaN                                      NaN   \n523386                    NaN                                      NaN   \n523387                    NaN                              [163.96875]   \n\n                        data.frame0.T4_tool6_y           image_name  \n523348                                     NaN  SFM01-2-2-1_293.jpg  \n523349                                     NaN  SFM01-2-2-1_293.jpg  \n523350                                     NaN  SFM01-2-2-1_293.jpg  \n523351  [313.1757507324219, 267.8349914550781]  SFM01-2-2-1_293.jpg  \n523352                                     NaN  SFM01-2-2-1_293.jpg  \n523353                                     NaN  SFM01-2-2-1_293.jpg  \n523354                                     NaN  SFM01-2-2-1_293.jpg  \n523355                                     NaN  SFM01-2-2-1_293.jpg  \n523356                                     NaN  SFM01-2-2-1_293.jpg  \n523357                                     NaN  SFM01-2-2-1_293.jpg  \n523358                                     NaN  SFM01-2-2-1_293.jpg  \n523359                     [560.5242309570312]  SFM01-2-2-1_293.jpg  \n523360                                     NaN  SFM01-2-2-1_293.jpg  \n523361                                     NaN  SFM01-2-2-1_293.jpg  \n523362                                     NaN  SFM01-2-2-1_293.jpg  \n523363                                     NaN  SFM01-2-2-1_293.jpg  \n523364                                     NaN  SFM01-2-2-1_293.jpg  \n523365                    [272.35540771484375]  SFM01-2-2-1_293.jpg  \n523366                                     NaN  SFM01-2-2-1_293.jpg  \n523367                                     NaN  SFM01-2-2-1_293.jpg  \n523368                                     NaN  SFM01-2-2-1_293.jpg  \n523369                                     NaN  SFM01-2-2-1_293.jpg  \n523370                                     NaN  SFM01-2-2-1_293.jpg  \n523371                                     NaN  SFM01-2-2-1_293.jpg  \n523372                                     NaN  SFM01-2-2-1_293.jpg  \n523373                                     NaN  SFM01-2-2-1_293.jpg  \n523374                                     NaN  SFM01-2-2-1_293.jpg  \n523375                     [268.1593017578125]  SFM01-2-2-1_293.jpg  \n523376                                     NaN  SFM01-2-2-1_293.jpg  \n523377                     [379.6034240722656]  SFM01-2-2-1_293.jpg  \n523378                                     NaN  SFM01-2-2-1_293.jpg  \n523379                                     NaN  SFM01-2-2-1_293.jpg  \n523380                                     NaN  SFM01-2-2-1_293.jpg  \n523381                                     NaN  SFM01-2-2-1_293.jpg  \n523382                                     NaN  SFM01-2-2-1_293.jpg  \n523383                                     NaN  SFM01-2-2-1_293.jpg  \n523384                                     NaN  SFM01-2-2-1_293.jpg  \n523385                                     NaN  SFM01-2-2-1_293.jpg  \n523386                                     NaN  SFM01-2-2-1_293.jpg  \n523387                                [284.25]  SFM01-2-2-1_293.jpg  \n\n[40 rows x 34 columns]",
      "text/html": "<div>\n<style scoped>\n    .dataframe tbody tr th:only-of-type {\n        vertical-align: middle;\n    }\n\n    .dataframe tbody tr th {\n        vertical-align: top;\n    }\n\n    .dataframe thead th {\n        text-align: right;\n    }\n</style>\n<table border=\"1\" class=\"dataframe\">\n  <thead>\n    <tr style=\"text-align: right;\">\n      <th></th>\n      <th>classification_id</th>\n      <th>user_name</th>\n      <th>user_id</th>\n      <th>workflow_id</th>\n      <th>task</th>\n      <th>created_at</th>\n      <th>subject_id</th>\n      <th>extractor</th>\n      <th>data.aggregation_version</th>\n      <th>data.frame0.T2_tool0_x</th>\n      <th>...</th>\n      <th>data.frame0.T4_tool3_y</th>\n      <th>data.frame0.T4_tool2_x</th>\n      <th>data.frame0.T4_tool2_y</th>\n      <th>data.frame0.T4_tool5_x</th>\n      <th>data.frame0.T4_tool5_y</th>\n      <th>data.frame0.T4_tool1_x</th>\n      <th>data.frame0.T4_tool1_y</th>\n      <th>data.frame0.T4_tool6_x</th>\n      <th>data.frame0.T4_tool6_y</th>\n      <th>image_name</th>\n    </tr>\n  </thead>\n  <tbody>\n    <tr>\n      <th>523348</th>\n      <td>266491150</td>\n      <td>378b9eb095df1f812df933857dd635e8</td>\n      <td>03b95da792ebd66bf0f3e738bb886ed9</td>\n      <td>14370</td>\n      <td>T2</td>\n      <td>2020-08-06 09:25:41 UTC</td>\n      <td>47969478</td>\n      <td>point_extractor_by_frame</td>\n      <td>4.1.0</td>\n      <td>NaN</td>\n      <td>...</td>\n      <td>NaN</td>\n      <td>NaN</td>\n      <td>NaN</td>\n      <td>NaN</td>\n      <td>NaN</td>\n      <td>NaN</td>\n      <td>NaN</td>\n      <td>NaN</td>\n      <td>NaN</td>\n      <td>SFM01-2-2-1_293.jpg</td>\n    </tr>\n    <tr>\n      <th>523349</th>\n      <td>266491150</td>\n      <td>378b9eb095df1f812df933857dd635e8</td>\n      <td>03b95da792ebd66bf0f3e738bb886ed9</td>\n      <td>14370</td>\n      <td>T4</td>\n      <td>2020-08-06 09:25:41 UTC</td>\n      <td>47969478</td>\n      <td>point_extractor_by_frame</td>\n      <td>4.1.0</td>\n      <td>NaN</td>\n      <td>...</td>\n      <td>NaN</td>\n      <td>NaN</td>\n      <td>NaN</td>\n      <td>NaN</td>\n      <td>NaN</td>\n      <td>NaN</td>\n      <td>NaN</td>\n      <td>NaN</td>\n      <td>NaN</td>\n      <td>SFM01-2-2-1_293.jpg</td>\n    </tr>\n    <tr>\n      <th>523350</th>\n      <td>266743841</td>\n      <td>d30f89f8a947dd9d63f0cb0c0c46dc45</td>\n      <td>a507e3b82e85733a0138eec7dec68aed</td>\n      <td>14370</td>\n      <td>T2</td>\n      <td>2020-08-07 12:44:16 UTC</td>\n      <td>47969478</td>\n      <td>point_extractor_by_frame</td>\n      <td>4.1.0</td>\n      <td>NaN</td>\n      <td>...</td>\n      <td>NaN</td>\n      <td>NaN</td>\n      <td>NaN</td>\n      <td>NaN</td>\n      <td>NaN</td>\n      <td>NaN</td>\n      <td>NaN</td>\n      <td>NaN</td>\n      <td>NaN</td>\n      <td>SFM01-2-2-1_293.jpg</td>\n    </tr>\n    <tr>\n      <th>523351</th>\n      <td>266743841</td>\n      <td>d30f89f8a947dd9d63f0cb0c0c46dc45</td>\n      <td>a507e3b82e85733a0138eec7dec68aed</td>\n      <td>14370</td>\n      <td>T4</td>\n      <td>2020-08-07 12:44:16 UTC</td>\n      <td>47969478</td>\n      <td>point_extractor_by_frame</td>\n      <td>4.1.0</td>\n      <td>NaN</td>\n      <td>...</td>\n      <td>[562.385009765625, 247.94473266601562, 383.320...</td>\n      <td>NaN</td>\n      <td>NaN</td>\n      <td>NaN</td>\n      <td>NaN</td>\n      <td>NaN</td>\n      <td>NaN</td>\n      <td>[387.4653625488281, 156.81886291503906]</td>\n      <td>[313.1757507324219, 267.8349914550781]</td>\n      <td>SFM01-2-2-1_293.jpg</td>\n    </tr>\n    <tr>\n      <th>523352</th>\n      <td>266937675</td>\n      <td>93153a745f6d870f35900ea72c3d5528</td>\n      <td>47569988fc134ca2f55d60ba97df2e9e</td>\n      <td>14370</td>\n      <td>T2</td>\n      <td>2020-08-08 10:19:10 UTC</td>\n      <td>47969478</td>\n      <td>point_extractor_by_frame</td>\n      <td>4.1.0</td>\n      <td>NaN</td>\n      <td>...</td>\n      <td>NaN</td>\n      <td>NaN</td>\n      <td>NaN</td>\n      <td>NaN</td>\n      <td>NaN</td>\n      <td>NaN</td>\n      <td>NaN</td>\n      <td>NaN</td>\n      <td>NaN</td>\n      <td>SFM01-2-2-1_293.jpg</td>\n    </tr>\n    <tr>\n      <th>523353</th>\n      <td>266937675</td>\n      <td>93153a745f6d870f35900ea72c3d5528</td>\n      <td>47569988fc134ca2f55d60ba97df2e9e</td>\n      <td>14370</td>\n      <td>T4</td>\n      <td>2020-08-08 10:19:10 UTC</td>\n      <td>47969478</td>\n      <td>point_extractor_by_frame</td>\n      <td>4.1.0</td>\n      <td>NaN</td>\n      <td>...</td>\n      <td>[554.9500122070312]</td>\n      <td>NaN</td>\n      <td>NaN</td>\n      <td>NaN</td>\n      <td>NaN</td>\n      <td>NaN</td>\n      <td>NaN</td>\n      <td>NaN</td>\n      <td>NaN</td>\n      <td>SFM01-2-2-1_293.jpg</td>\n    </tr>\n    <tr>\n      <th>523354</th>\n      <td>268677533</td>\n      <td>43505cffc364520096716c3deaeac174</td>\n      <td>dc806676dc000a9774b734ebf157382a</td>\n      <td>14370</td>\n      <td>T2</td>\n      <td>2020-08-17 22:39:40 UTC</td>\n      <td>47969478</td>\n      <td>point_extractor_by_frame</td>\n      <td>4.1.0</td>\n      <td>NaN</td>\n      <td>...</td>\n      <td>NaN</td>\n      <td>NaN</td>\n      <td>NaN</td>\n      <td>NaN</td>\n      <td>NaN</td>\n      <td>NaN</td>\n      <td>NaN</td>\n      <td>NaN</td>\n      <td>NaN</td>\n      <td>SFM01-2-2-1_293.jpg</td>\n    </tr>\n    <tr>\n      <th>523355</th>\n      <td>268677533</td>\n      <td>43505cffc364520096716c3deaeac174</td>\n      <td>dc806676dc000a9774b734ebf157382a</td>\n      <td>14370</td>\n      <td>T4</td>\n      <td>2020-08-17 22:39:40 UTC</td>\n      <td>47969478</td>\n      <td>point_extractor_by_frame</td>\n      <td>4.1.0</td>\n      <td>NaN</td>\n      <td>...</td>\n      <td>[575.7890625]</td>\n      <td>NaN</td>\n      <td>NaN</td>\n      <td>NaN</td>\n      <td>NaN</td>\n      <td>NaN</td>\n      <td>NaN</td>\n      <td>NaN</td>\n      <td>NaN</td>\n      <td>SFM01-2-2-1_293.jpg</td>\n    </tr>\n    <tr>\n      <th>523356</th>\n      <td>268715330</td>\n      <td>979b0d58c5aadc6c4c1c1a7874c9833d</td>\n      <td>1f013eca6bffc1383e29d77dbea34e37</td>\n      <td>14370</td>\n      <td>T2</td>\n      <td>2020-08-18 04:08:36 UTC</td>\n      <td>47969478</td>\n      <td>point_extractor_by_frame</td>\n      <td>4.1.0</td>\n      <td>NaN</td>\n      <td>...</td>\n      <td>NaN</td>\n      <td>NaN</td>\n      <td>NaN</td>\n      <td>NaN</td>\n      <td>NaN</td>\n      <td>NaN</td>\n      <td>NaN</td>\n      <td>NaN</td>\n      <td>NaN</td>\n      <td>SFM01-2-2-1_293.jpg</td>\n    </tr>\n    <tr>\n      <th>523357</th>\n      <td>268715330</td>\n      <td>979b0d58c5aadc6c4c1c1a7874c9833d</td>\n      <td>1f013eca6bffc1383e29d77dbea34e37</td>\n      <td>14370</td>\n      <td>T4</td>\n      <td>2020-08-18 04:08:36 UTC</td>\n      <td>47969478</td>\n      <td>point_extractor_by_frame</td>\n      <td>4.1.0</td>\n      <td>NaN</td>\n      <td>...</td>\n      <td>NaN</td>\n      <td>NaN</td>\n      <td>NaN</td>\n      <td>NaN</td>\n      <td>NaN</td>\n      <td>NaN</td>\n      <td>NaN</td>\n      <td>NaN</td>\n      <td>NaN</td>\n      <td>SFM01-2-2-1_293.jpg</td>\n    </tr>\n    <tr>\n      <th>523358</th>\n      <td>269064295</td>\n      <td>d2c21e890e3fc550e9b43bb4a5d64991</td>\n      <td>NaN</td>\n      <td>14370</td>\n      <td>T2</td>\n      <td>2020-08-19 20:59:53 UTC</td>\n      <td>47969478</td>\n      <td>point_extractor_by_frame</td>\n      <td>4.1.0</td>\n      <td>NaN</td>\n      <td>...</td>\n      <td>NaN</td>\n      <td>NaN</td>\n      <td>NaN</td>\n      <td>NaN</td>\n      <td>NaN</td>\n      <td>NaN</td>\n      <td>NaN</td>\n      <td>NaN</td>\n      <td>NaN</td>\n      <td>SFM01-2-2-1_293.jpg</td>\n    </tr>\n    <tr>\n      <th>523359</th>\n      <td>269064295</td>\n      <td>d2c21e890e3fc550e9b43bb4a5d64991</td>\n      <td>NaN</td>\n      <td>14370</td>\n      <td>T4</td>\n      <td>2020-08-19 20:59:53 UTC</td>\n      <td>47969478</td>\n      <td>point_extractor_by_frame</td>\n      <td>4.1.0</td>\n      <td>NaN</td>\n      <td>...</td>\n      <td>NaN</td>\n      <td>NaN</td>\n      <td>NaN</td>\n      <td>NaN</td>\n      <td>NaN</td>\n      <td>NaN</td>\n      <td>NaN</td>\n      <td>[550.9740600585938]</td>\n      <td>[560.5242309570312]</td>\n      <td>SFM01-2-2-1_293.jpg</td>\n    </tr>\n    <tr>\n      <th>523360</th>\n      <td>269666238</td>\n      <td>dd37a81824db574314f9c6ed1da5a68e</td>\n      <td>5755ecb0af0ef00ddcdb2d68f571b35d</td>\n      <td>14370</td>\n      <td>T2</td>\n      <td>2020-08-22 21:08:41 UTC</td>\n      <td>47969478</td>\n      <td>point_extractor_by_frame</td>\n      <td>4.1.0</td>\n      <td>NaN</td>\n      <td>...</td>\n      <td>NaN</td>\n      <td>NaN</td>\n      <td>NaN</td>\n      <td>NaN</td>\n      <td>NaN</td>\n      <td>NaN</td>\n      <td>NaN</td>\n      <td>NaN</td>\n      <td>NaN</td>\n      <td>SFM01-2-2-1_293.jpg</td>\n    </tr>\n    <tr>\n      <th>523361</th>\n      <td>269666238</td>\n      <td>dd37a81824db574314f9c6ed1da5a68e</td>\n      <td>5755ecb0af0ef00ddcdb2d68f571b35d</td>\n      <td>14370</td>\n      <td>T4</td>\n      <td>2020-08-22 21:08:41 UTC</td>\n      <td>47969478</td>\n      <td>point_extractor_by_frame</td>\n      <td>4.1.0</td>\n      <td>NaN</td>\n      <td>...</td>\n      <td>NaN</td>\n      <td>NaN</td>\n      <td>NaN</td>\n      <td>NaN</td>\n      <td>NaN</td>\n      <td>NaN</td>\n      <td>NaN</td>\n      <td>NaN</td>\n      <td>NaN</td>\n      <td>SFM01-2-2-1_293.jpg</td>\n    </tr>\n    <tr>\n      <th>523362</th>\n      <td>270275523</td>\n      <td>152ad9dcd6135dd625a8051f0efdbb72</td>\n      <td>3f5a5ac90682c77736c2eacbf774c521</td>\n      <td>14370</td>\n      <td>T2</td>\n      <td>2020-08-26 04:21:41 UTC</td>\n      <td>47969478</td>\n      <td>point_extractor_by_frame</td>\n      <td>4.1.0</td>\n      <td>NaN</td>\n      <td>...</td>\n      <td>NaN</td>\n      <td>NaN</td>\n      <td>NaN</td>\n      <td>NaN</td>\n      <td>NaN</td>\n      <td>NaN</td>\n      <td>NaN</td>\n      <td>NaN</td>\n      <td>NaN</td>\n      <td>SFM01-2-2-1_293.jpg</td>\n    </tr>\n    <tr>\n      <th>523363</th>\n      <td>270275523</td>\n      <td>152ad9dcd6135dd625a8051f0efdbb72</td>\n      <td>3f5a5ac90682c77736c2eacbf774c521</td>\n      <td>14370</td>\n      <td>T4</td>\n      <td>2020-08-26 04:21:41 UTC</td>\n      <td>47969478</td>\n      <td>point_extractor_by_frame</td>\n      <td>4.1.0</td>\n      <td>NaN</td>\n      <td>...</td>\n      <td>NaN</td>\n      <td>NaN</td>\n      <td>NaN</td>\n      <td>NaN</td>\n      <td>NaN</td>\n      <td>NaN</td>\n      <td>NaN</td>\n      <td>NaN</td>\n      <td>NaN</td>\n      <td>SFM01-2-2-1_293.jpg</td>\n    </tr>\n    <tr>\n      <th>523364</th>\n      <td>270583385</td>\n      <td>163558a4f47eacf64c9d3d43a578a985</td>\n      <td>bedded9213a6aa399869358b00ff6b3a</td>\n      <td>14370</td>\n      <td>T2</td>\n      <td>2020-08-27 20:08:38 UTC</td>\n      <td>47969478</td>\n      <td>point_extractor_by_frame</td>\n      <td>4.1.0</td>\n      <td>NaN</td>\n      <td>...</td>\n      <td>NaN</td>\n      <td>NaN</td>\n      <td>NaN</td>\n      <td>NaN</td>\n      <td>NaN</td>\n      <td>NaN</td>\n      <td>NaN</td>\n      <td>NaN</td>\n      <td>NaN</td>\n      <td>SFM01-2-2-1_293.jpg</td>\n    </tr>\n    <tr>\n      <th>523365</th>\n      <td>270583385</td>\n      <td>163558a4f47eacf64c9d3d43a578a985</td>\n      <td>bedded9213a6aa399869358b00ff6b3a</td>\n      <td>14370</td>\n      <td>T4</td>\n      <td>2020-08-27 20:08:38 UTC</td>\n      <td>47969478</td>\n      <td>point_extractor_by_frame</td>\n      <td>4.1.0</td>\n      <td>NaN</td>\n      <td>...</td>\n      <td>[560.1840209960938]</td>\n      <td>NaN</td>\n      <td>NaN</td>\n      <td>NaN</td>\n      <td>NaN</td>\n      <td>NaN</td>\n      <td>NaN</td>\n      <td>[158.8762969970703]</td>\n      <td>[272.35540771484375]</td>\n      <td>SFM01-2-2-1_293.jpg</td>\n    </tr>\n    <tr>\n      <th>523366</th>\n      <td>270584175</td>\n      <td>778439348eb8dcf43bf6c7a2e5ddc6ff</td>\n      <td>64197358af80eadc0aedcf3fc518a09d</td>\n      <td>14370</td>\n      <td>T2</td>\n      <td>2020-08-27 20:12:59 UTC</td>\n      <td>47969478</td>\n      <td>point_extractor_by_frame</td>\n      <td>4.1.0</td>\n      <td>NaN</td>\n      <td>...</td>\n      <td>NaN</td>\n      <td>NaN</td>\n      <td>NaN</td>\n      <td>NaN</td>\n      <td>NaN</td>\n      <td>NaN</td>\n      <td>NaN</td>\n      <td>NaN</td>\n      <td>NaN</td>\n      <td>SFM01-2-2-1_293.jpg</td>\n    </tr>\n    <tr>\n      <th>523367</th>\n      <td>270584175</td>\n      <td>778439348eb8dcf43bf6c7a2e5ddc6ff</td>\n      <td>64197358af80eadc0aedcf3fc518a09d</td>\n      <td>14370</td>\n      <td>T4</td>\n      <td>2020-08-27 20:12:59 UTC</td>\n      <td>47969478</td>\n      <td>point_extractor_by_frame</td>\n      <td>4.1.0</td>\n      <td>NaN</td>\n      <td>...</td>\n      <td>NaN</td>\n      <td>NaN</td>\n      <td>NaN</td>\n      <td>NaN</td>\n      <td>NaN</td>\n      <td>NaN</td>\n      <td>NaN</td>\n      <td>NaN</td>\n      <td>NaN</td>\n      <td>SFM01-2-2-1_293.jpg</td>\n    </tr>\n    <tr>\n      <th>523368</th>\n      <td>270605869</td>\n      <td>1ad7d2824b87f393461c0a2317dd91a2</td>\n      <td>af419555a4d0034ef0e4e3270654dd6a</td>\n      <td>14370</td>\n      <td>T2</td>\n      <td>2020-08-27 21:57:31 UTC</td>\n      <td>47969478</td>\n      <td>point_extractor_by_frame</td>\n      <td>4.1.0</td>\n      <td>NaN</td>\n      <td>...</td>\n      <td>NaN</td>\n      <td>NaN</td>\n      <td>NaN</td>\n      <td>NaN</td>\n      <td>NaN</td>\n      <td>NaN</td>\n      <td>NaN</td>\n      <td>NaN</td>\n      <td>NaN</td>\n      <td>SFM01-2-2-1_293.jpg</td>\n    </tr>\n    <tr>\n      <th>523369</th>\n      <td>270605869</td>\n      <td>1ad7d2824b87f393461c0a2317dd91a2</td>\n      <td>af419555a4d0034ef0e4e3270654dd6a</td>\n      <td>14370</td>\n      <td>T4</td>\n      <td>2020-08-27 21:57:31 UTC</td>\n      <td>47969478</td>\n      <td>point_extractor_by_frame</td>\n      <td>4.1.0</td>\n      <td>NaN</td>\n      <td>...</td>\n      <td>[569.2435913085938]</td>\n      <td>NaN</td>\n      <td>NaN</td>\n      <td>NaN</td>\n      <td>NaN</td>\n      <td>NaN</td>\n      <td>NaN</td>\n      <td>NaN</td>\n      <td>NaN</td>\n      <td>SFM01-2-2-1_293.jpg</td>\n    </tr>\n    <tr>\n      <th>523370</th>\n      <td>270978484</td>\n      <td>1969a4420a6617a25fe2fd5b82faaeff</td>\n      <td>ebf397689eb48e28c2ee75771a0ed769</td>\n      <td>14370</td>\n      <td>T2</td>\n      <td>2020-08-30 11:42:30 UTC</td>\n      <td>47969478</td>\n      <td>point_extractor_by_frame</td>\n      <td>4.1.0</td>\n      <td>NaN</td>\n      <td>...</td>\n      <td>NaN</td>\n      <td>NaN</td>\n      <td>NaN</td>\n      <td>NaN</td>\n      <td>NaN</td>\n      <td>NaN</td>\n      <td>NaN</td>\n      <td>NaN</td>\n      <td>NaN</td>\n      <td>SFM01-2-2-1_293.jpg</td>\n    </tr>\n    <tr>\n      <th>523371</th>\n      <td>270978484</td>\n      <td>1969a4420a6617a25fe2fd5b82faaeff</td>\n      <td>ebf397689eb48e28c2ee75771a0ed769</td>\n      <td>14370</td>\n      <td>T4</td>\n      <td>2020-08-30 11:42:30 UTC</td>\n      <td>47969478</td>\n      <td>point_extractor_by_frame</td>\n      <td>4.1.0</td>\n      <td>NaN</td>\n      <td>...</td>\n      <td>[570.75, 486.75, 245.75, 125.75, 388.75, 621.75]</td>\n      <td>NaN</td>\n      <td>NaN</td>\n      <td>NaN</td>\n      <td>NaN</td>\n      <td>NaN</td>\n      <td>NaN</td>\n      <td>NaN</td>\n      <td>NaN</td>\n      <td>SFM01-2-2-1_293.jpg</td>\n    </tr>\n    <tr>\n      <th>523372</th>\n      <td>274860425</td>\n      <td>93da71391cc0dc87bc09a9a98f631c40</td>\n      <td>14413f6d4f6c2c6c53e112f8cd712cb0</td>\n      <td>14370</td>\n      <td>T2</td>\n      <td>2020-09-20 05:37:07 UTC</td>\n      <td>47969478</td>\n      <td>point_extractor_by_frame</td>\n      <td>4.1.0</td>\n      <td>NaN</td>\n      <td>...</td>\n      <td>NaN</td>\n      <td>NaN</td>\n      <td>NaN</td>\n      <td>NaN</td>\n      <td>NaN</td>\n      <td>NaN</td>\n      <td>NaN</td>\n      <td>NaN</td>\n      <td>NaN</td>\n      <td>SFM01-2-2-1_293.jpg</td>\n    </tr>\n    <tr>\n      <th>523373</th>\n      <td>274860425</td>\n      <td>93da71391cc0dc87bc09a9a98f631c40</td>\n      <td>14413f6d4f6c2c6c53e112f8cd712cb0</td>\n      <td>14370</td>\n      <td>T4</td>\n      <td>2020-09-20 05:37:07 UTC</td>\n      <td>47969478</td>\n      <td>point_extractor_by_frame</td>\n      <td>4.1.0</td>\n      <td>NaN</td>\n      <td>...</td>\n      <td>[560.02734375, 620.3515625, 382.94921875, 246....</td>\n      <td>NaN</td>\n      <td>NaN</td>\n      <td>NaN</td>\n      <td>NaN</td>\n      <td>NaN</td>\n      <td>NaN</td>\n      <td>NaN</td>\n      <td>NaN</td>\n      <td>SFM01-2-2-1_293.jpg</td>\n    </tr>\n    <tr>\n      <th>523374</th>\n      <td>277523792</td>\n      <td>36b2040ae4dd151b163da8d682e46cf7</td>\n      <td>073346196f12bd1b43f022c341e41b15</td>\n      <td>14370</td>\n      <td>T2</td>\n      <td>2020-10-02 20:51:26 UTC</td>\n      <td>47969478</td>\n      <td>point_extractor_by_frame</td>\n      <td>4.1.0</td>\n      <td>NaN</td>\n      <td>...</td>\n      <td>NaN</td>\n      <td>NaN</td>\n      <td>NaN</td>\n      <td>NaN</td>\n      <td>NaN</td>\n      <td>NaN</td>\n      <td>NaN</td>\n      <td>NaN</td>\n      <td>NaN</td>\n      <td>SFM01-2-2-1_293.jpg</td>\n    </tr>\n    <tr>\n      <th>523375</th>\n      <td>277523792</td>\n      <td>36b2040ae4dd151b163da8d682e46cf7</td>\n      <td>073346196f12bd1b43f022c341e41b15</td>\n      <td>14370</td>\n      <td>T4</td>\n      <td>2020-10-02 20:51:26 UTC</td>\n      <td>47969478</td>\n      <td>point_extractor_by_frame</td>\n      <td>4.1.0</td>\n      <td>NaN</td>\n      <td>...</td>\n      <td>[126.27831268310547, 207.35316467285156, 250.5...</td>\n      <td>NaN</td>\n      <td>NaN</td>\n      <td>[573.30419921875, 571.9530029296875]</td>\n      <td>[603.2687377929688, 458.6852111816406]</td>\n      <td>NaN</td>\n      <td>NaN</td>\n      <td>[170.63243103027344]</td>\n      <td>[268.1593017578125]</td>\n      <td>SFM01-2-2-1_293.jpg</td>\n    </tr>\n    <tr>\n      <th>523376</th>\n      <td>278226484</td>\n      <td>06a327db52349e9de3c9760317722820</td>\n      <td>f592ba29d98746a392f1d8413ef75ef7</td>\n      <td>14370</td>\n      <td>T2</td>\n      <td>2020-10-05 19:22:04 UTC</td>\n      <td>47969478</td>\n      <td>point_extractor_by_frame</td>\n      <td>4.1.0</td>\n      <td>NaN</td>\n      <td>...</td>\n      <td>NaN</td>\n      <td>NaN</td>\n      <td>NaN</td>\n      <td>NaN</td>\n      <td>NaN</td>\n      <td>NaN</td>\n      <td>NaN</td>\n      <td>NaN</td>\n      <td>NaN</td>\n      <td>SFM01-2-2-1_293.jpg</td>\n    </tr>\n    <tr>\n      <th>523377</th>\n      <td>278226484</td>\n      <td>06a327db52349e9de3c9760317722820</td>\n      <td>f592ba29d98746a392f1d8413ef75ef7</td>\n      <td>14370</td>\n      <td>T4</td>\n      <td>2020-10-05 19:22:04 UTC</td>\n      <td>47969478</td>\n      <td>point_extractor_by_frame</td>\n      <td>4.1.0</td>\n      <td>NaN</td>\n      <td>...</td>\n      <td>[126.91908264160156, 126.91908264160156, 244.6...</td>\n      <td>NaN</td>\n      <td>NaN</td>\n      <td>NaN</td>\n      <td>NaN</td>\n      <td>NaN</td>\n      <td>NaN</td>\n      <td>[313.84918212890625]</td>\n      <td>[379.6034240722656]</td>\n      <td>SFM01-2-2-1_293.jpg</td>\n    </tr>\n    <tr>\n      <th>523378</th>\n      <td>278452127</td>\n      <td>5e7afdb2b258451e1b3cec2e3ddbb317</td>\n      <td>NaN</td>\n      <td>14370</td>\n      <td>T2</td>\n      <td>2020-10-06 17:47:41 UTC</td>\n      <td>47969478</td>\n      <td>point_extractor_by_frame</td>\n      <td>4.1.0</td>\n      <td>NaN</td>\n      <td>...</td>\n      <td>NaN</td>\n      <td>NaN</td>\n      <td>NaN</td>\n      <td>NaN</td>\n      <td>NaN</td>\n      <td>NaN</td>\n      <td>NaN</td>\n      <td>NaN</td>\n      <td>NaN</td>\n      <td>SFM01-2-2-1_293.jpg</td>\n    </tr>\n    <tr>\n      <th>523379</th>\n      <td>278452127</td>\n      <td>5e7afdb2b258451e1b3cec2e3ddbb317</td>\n      <td>NaN</td>\n      <td>14370</td>\n      <td>T4</td>\n      <td>2020-10-06 17:47:41 UTC</td>\n      <td>47969478</td>\n      <td>point_extractor_by_frame</td>\n      <td>4.1.0</td>\n      <td>NaN</td>\n      <td>...</td>\n      <td>NaN</td>\n      <td>NaN</td>\n      <td>NaN</td>\n      <td>NaN</td>\n      <td>NaN</td>\n      <td>NaN</td>\n      <td>NaN</td>\n      <td>NaN</td>\n      <td>NaN</td>\n      <td>SFM01-2-2-1_293.jpg</td>\n    </tr>\n    <tr>\n      <th>523380</th>\n      <td>281167948</td>\n      <td>b0f5fa7789909ee79b0264f924b28554</td>\n      <td>a81ed872b140906f0464087b41a3df2b</td>\n      <td>14370</td>\n      <td>T2</td>\n      <td>2020-10-17 19:56:26 UTC</td>\n      <td>47969478</td>\n      <td>point_extractor_by_frame</td>\n      <td>4.1.0</td>\n      <td>NaN</td>\n      <td>...</td>\n      <td>NaN</td>\n      <td>NaN</td>\n      <td>NaN</td>\n      <td>NaN</td>\n      <td>NaN</td>\n      <td>NaN</td>\n      <td>NaN</td>\n      <td>NaN</td>\n      <td>NaN</td>\n      <td>SFM01-2-2-1_293.jpg</td>\n    </tr>\n    <tr>\n      <th>523381</th>\n      <td>281167948</td>\n      <td>b0f5fa7789909ee79b0264f924b28554</td>\n      <td>a81ed872b140906f0464087b41a3df2b</td>\n      <td>14370</td>\n      <td>T4</td>\n      <td>2020-10-17 19:56:26 UTC</td>\n      <td>47969478</td>\n      <td>point_extractor_by_frame</td>\n      <td>4.1.0</td>\n      <td>NaN</td>\n      <td>...</td>\n      <td>[563.8060302734375, 394.3917236328125, 123.860...</td>\n      <td>NaN</td>\n      <td>NaN</td>\n      <td>NaN</td>\n      <td>NaN</td>\n      <td>NaN</td>\n      <td>NaN</td>\n      <td>NaN</td>\n      <td>NaN</td>\n      <td>SFM01-2-2-1_293.jpg</td>\n    </tr>\n    <tr>\n      <th>523382</th>\n      <td>282000285</td>\n      <td>08283e084ff53e1d84af0a7ce22e0316</td>\n      <td>a017aa105acf44a95439cd29e558d725</td>\n      <td>14370</td>\n      <td>T2</td>\n      <td>2020-10-21 15:01:46 UTC</td>\n      <td>47969478</td>\n      <td>point_extractor_by_frame</td>\n      <td>4.1.0</td>\n      <td>NaN</td>\n      <td>...</td>\n      <td>NaN</td>\n      <td>NaN</td>\n      <td>NaN</td>\n      <td>NaN</td>\n      <td>NaN</td>\n      <td>NaN</td>\n      <td>NaN</td>\n      <td>NaN</td>\n      <td>NaN</td>\n      <td>SFM01-2-2-1_293.jpg</td>\n    </tr>\n    <tr>\n      <th>523383</th>\n      <td>282000285</td>\n      <td>08283e084ff53e1d84af0a7ce22e0316</td>\n      <td>a017aa105acf44a95439cd29e558d725</td>\n      <td>14370</td>\n      <td>T4</td>\n      <td>2020-10-21 15:01:46 UTC</td>\n      <td>47969478</td>\n      <td>point_extractor_by_frame</td>\n      <td>4.1.0</td>\n      <td>NaN</td>\n      <td>...</td>\n      <td>NaN</td>\n      <td>NaN</td>\n      <td>NaN</td>\n      <td>NaN</td>\n      <td>NaN</td>\n      <td>NaN</td>\n      <td>NaN</td>\n      <td>NaN</td>\n      <td>NaN</td>\n      <td>SFM01-2-2-1_293.jpg</td>\n    </tr>\n    <tr>\n      <th>523384</th>\n      <td>282682776</td>\n      <td>16df0a3fa73a9f7b6b0d62dd89dcd1b1</td>\n      <td>caff599903addd4c752d7d7906f44886</td>\n      <td>14370</td>\n      <td>T2</td>\n      <td>2020-10-24 12:36:50 UTC</td>\n      <td>47969478</td>\n      <td>point_extractor_by_frame</td>\n      <td>4.1.0</td>\n      <td>NaN</td>\n      <td>...</td>\n      <td>NaN</td>\n      <td>NaN</td>\n      <td>NaN</td>\n      <td>NaN</td>\n      <td>NaN</td>\n      <td>NaN</td>\n      <td>NaN</td>\n      <td>NaN</td>\n      <td>NaN</td>\n      <td>SFM01-2-2-1_293.jpg</td>\n    </tr>\n    <tr>\n      <th>523385</th>\n      <td>282682776</td>\n      <td>16df0a3fa73a9f7b6b0d62dd89dcd1b1</td>\n      <td>caff599903addd4c752d7d7906f44886</td>\n      <td>14370</td>\n      <td>T4</td>\n      <td>2020-10-24 12:36:50 UTC</td>\n      <td>47969478</td>\n      <td>point_extractor_by_frame</td>\n      <td>4.1.0</td>\n      <td>NaN</td>\n      <td>...</td>\n      <td>NaN</td>\n      <td>NaN</td>\n      <td>NaN</td>\n      <td>NaN</td>\n      <td>NaN</td>\n      <td>NaN</td>\n      <td>NaN</td>\n      <td>NaN</td>\n      <td>NaN</td>\n      <td>SFM01-2-2-1_293.jpg</td>\n    </tr>\n    <tr>\n      <th>523386</th>\n      <td>284067456</td>\n      <td>9c78d2320dac96bd2039404b6a2b9b19</td>\n      <td>ca2951bcf3e4c20def84298b77993500</td>\n      <td>14370</td>\n      <td>T2</td>\n      <td>2020-10-30 13:44:38 UTC</td>\n      <td>47969478</td>\n      <td>point_extractor_by_frame</td>\n      <td>4.1.0</td>\n      <td>NaN</td>\n      <td>...</td>\n      <td>NaN</td>\n      <td>NaN</td>\n      <td>NaN</td>\n      <td>NaN</td>\n      <td>NaN</td>\n      <td>NaN</td>\n      <td>NaN</td>\n      <td>NaN</td>\n      <td>NaN</td>\n      <td>SFM01-2-2-1_293.jpg</td>\n    </tr>\n    <tr>\n      <th>523387</th>\n      <td>284067456</td>\n      <td>9c78d2320dac96bd2039404b6a2b9b19</td>\n      <td>ca2951bcf3e4c20def84298b77993500</td>\n      <td>14370</td>\n      <td>T4</td>\n      <td>2020-10-30 13:44:38 UTC</td>\n      <td>47969478</td>\n      <td>point_extractor_by_frame</td>\n      <td>4.1.0</td>\n      <td>NaN</td>\n      <td>...</td>\n      <td>NaN</td>\n      <td>NaN</td>\n      <td>NaN</td>\n      <td>NaN</td>\n      <td>NaN</td>\n      <td>NaN</td>\n      <td>NaN</td>\n      <td>[163.96875]</td>\n      <td>[284.25]</td>\n      <td>SFM01-2-2-1_293.jpg</td>\n    </tr>\n  </tbody>\n</table>\n<p>40 rows × 34 columns</p>\n</div>"
     },
     "execution_count": 19,
     "metadata": {},
     "output_type": "execute_result"
    }
   ],
   "source": [
    "### Looks the images in question\n",
    "\n",
    "subject_id_1 = 47968423 # median and mode 11, 11\n",
    "subject_id_2 = 47969478 # median and mode 4.5, 2\n",
    "df_panotes_point_extractor[(df_panotes_point_extractor.subject_id == subject_id_2)]"
   ]
  },
  {
   "cell_type": "code",
   "execution_count": 19,
   "id": "d59534aeb8b8bdab",
   "metadata": {
    "collapsed": false,
    "ExecuteTime": {
     "end_time": "2024-04-10T10:00:44.365810Z",
     "start_time": "2024-04-10T10:00:44.363948Z"
    }
   },
   "outputs": [],
   "source": []
  },
  {
   "cell_type": "code",
   "execution_count": 20,
   "id": "3ed3cb8b4acbfa4f",
   "metadata": {
    "collapsed": false,
    "ExecuteTime": {
     "end_time": "2024-04-10T10:00:45.041112Z",
     "start_time": "2024-04-10T10:00:44.895389Z"
    }
   },
   "outputs": [
    {
     "data": {
      "text/plain": "Index(['classification_id', 'user_name', 'user_id', 'workflow_id', 'task',\n       'created_at', 'subject_id', 'extractor', 'data.aggregation_version',\n       'data.frame0.T2_tool0_x', 'data.frame0.T2_tool0_y',\n       'data.frame0.T4_tool4_x', 'data.frame0.T4_tool4_y',\n       'data.frame0.T2_tool1_x', 'data.frame0.T2_tool1_y',\n       'data.frame0.T2_tool2_x', 'data.frame0.T2_tool2_y',\n       'data.frame0.T2_tool3_x', 'data.frame0.T2_tool3_y',\n       'data.frame0.T2_tool4_x', 'data.frame0.T2_tool4_y',\n       'data.frame0.T4_tool0_x', 'data.frame0.T4_tool0_y',\n       'data.frame0.T4_tool3_x', 'data.frame0.T4_tool3_y',\n       'data.frame0.T4_tool2_x', 'data.frame0.T4_tool2_y',\n       'data.frame0.T4_tool5_x', 'data.frame0.T4_tool5_y',\n       'data.frame0.T4_tool1_x', 'data.frame0.T4_tool1_y',\n       'data.frame0.T4_tool6_x', 'data.frame0.T4_tool6_y', 'image_name'],\n      dtype='object')"
     },
     "execution_count": 20,
     "metadata": {},
     "output_type": "execute_result"
    }
   ],
   "source": [
    "df_panotes_point_extractor_r = df_panotes_point_extractor[\n",
    "    # (df_panotes_point_extractor.subject_id == subject_id_2) &  # filter for this subject_id only\n",
    "    (df_panotes_point_extractor.task == \"T2\")\n",
    "    # & (df_panotes_point_extractor.user_name == \"jickjack\")\n",
    "]\n",
    "df_panotes_point_extractor_r.columns"
   ]
  },
  {
   "cell_type": "markdown",
   "id": "1904d722c784ea8d",
   "metadata": {
    "collapsed": false
   },
   "source": [
    "### Which is tool is which now??\n",
    "There these tools \n",
    "- data.frame0.T2_tool0_x \n",
    "- data.frame0.T2_tool1_x \n",
    "- data.frame0.T2_tool2_x\n",
    "- data.frame0.T2_tool3_x\n",
    "- data.frame0.T2_tool4_x\n",
    "\n",
    "Those reflect the tools in the point_extractor_by_frame Extractor_config_workflow_14370_V134.236.yaml\n",
    "and probably belong to the classification (in that order, from the lab page) \n",
    "- Adult Male in a lek\n",
    "- Adult Male alone\n",
    "- Others (females, young males, juveniles)\n",
    "- Partial iguana\n",
    "- Could be an iguana, not sure\n",
    "\n",
    "Is \"Could be an iguana, not sure\" included in the study?\n"
   ]
  },
  {
   "cell_type": "code",
   "execution_count": 21,
   "id": "895d1e319dc99c4a",
   "metadata": {
    "collapsed": false,
    "ExecuteTime": {
     "end_time": "2024-04-10T10:00:51.060843Z",
     "start_time": "2024-04-10T10:00:47.504478Z"
    }
   },
   "outputs": [
    {
     "name": "stderr",
     "output_type": "stream",
     "text": [
      "/var/folders/2k/78nn7s4548986wsjh29rhj9w0000gn/T/ipykernel_21093/1616128733.py:11: SettingWithCopyWarning: \n",
      "A value is trying to be set on a copy of a slice from a DataFrame.\n",
      "Try using .loc[row_indexer,col_indexer] = value instead\n",
      "\n",
      "See the caveats in the documentation: https://pandas.pydata.org/pandas-docs/stable/user_guide/indexing.html#returning-a-view-versus-a-copy\n",
      "  df_panotes_point_extractor_r[col] = df_panotes_point_extractor_r[col].apply(lambda x: literal_eval(x) if pd.notnull(x) else [])\n",
      "/var/folders/2k/78nn7s4548986wsjh29rhj9w0000gn/T/ipykernel_21093/1616128733.py:14: SettingWithCopyWarning: \n",
      "A value is trying to be set on a copy of a slice from a DataFrame.\n",
      "Try using .loc[row_indexer,col_indexer] = value instead\n",
      "\n",
      "See the caveats in the documentation: https://pandas.pydata.org/pandas-docs/stable/user_guide/indexing.html#returning-a-view-versus-a-copy\n",
      "  df_panotes_point_extractor_r['x'] = df_panotes_point_extractor_r[columns_keep_x].values.tolist()\n",
      "/var/folders/2k/78nn7s4548986wsjh29rhj9w0000gn/T/ipykernel_21093/1616128733.py:15: SettingWithCopyWarning: \n",
      "A value is trying to be set on a copy of a slice from a DataFrame.\n",
      "Try using .loc[row_indexer,col_indexer] = value instead\n",
      "\n",
      "See the caveats in the documentation: https://pandas.pydata.org/pandas-docs/stable/user_guide/indexing.html#returning-a-view-versus-a-copy\n",
      "  df_panotes_point_extractor_r['y'] = df_panotes_point_extractor_r[columns_keep_y].values.tolist()\n",
      "/var/folders/2k/78nn7s4548986wsjh29rhj9w0000gn/T/ipykernel_21093/1616128733.py:18: SettingWithCopyWarning: \n",
      "A value is trying to be set on a copy of a slice from a DataFrame.\n",
      "Try using .loc[row_indexer,col_indexer] = value instead\n",
      "\n",
      "See the caveats in the documentation: https://pandas.pydata.org/pandas-docs/stable/user_guide/indexing.html#returning-a-view-versus-a-copy\n",
      "  df_panotes_point_extractor_r['x'] = df_panotes_point_extractor_r['x'].apply(lambda x: [item for sublist in x for item in sublist])\n",
      "/var/folders/2k/78nn7s4548986wsjh29rhj9w0000gn/T/ipykernel_21093/1616128733.py:19: SettingWithCopyWarning: \n",
      "A value is trying to be set on a copy of a slice from a DataFrame.\n",
      "Try using .loc[row_indexer,col_indexer] = value instead\n",
      "\n",
      "See the caveats in the documentation: https://pandas.pydata.org/pandas-docs/stable/user_guide/indexing.html#returning-a-view-versus-a-copy\n",
      "  df_panotes_point_extractor_r['y'] = df_panotes_point_extractor_r['y'].apply(lambda x: [item for sublist in x for item in sublist])\n"
     ]
    },
    {
     "data": {
      "text/plain": "         classification_id                         user_name  \\\n0                238056473  386fc0ec047b7e259744e72e8e64b9f9   \n2                257483880  ec17f4ab6a51fee747c3f1e5f0a004c5   \n4                257500131  dc48dacf4a7d070ce8d2189d087adb8d   \n6                257500556  1e09aaeb01d2f4aff4451e2e9a1318b4   \n8                257508749  909c2290a0c6c114cf6ed1e325eb74ae   \n...                    ...                               ...   \n1020274          287939566  a7c38b9d4c0f563d6c452d4db06db678   \n1020276          288102487  58fa6a1c297b9ff1d6f96fa93f112c48   \n1020278          288127706  7e82ef4b88b037461f90958b2716c1b8   \n1020280          288168438  9e15149b8e8ef01f93697b4dfd952d33   \n1020282          288198132  69b80c6be0af6a1f2fdfc07ee22e8ced   \n\n                                  user_id  workflow_id task  \\\n0        ea57b1088a10fa7fef30ed0b344e2ca3        14370   T2   \n2                                     NaN        14370   T2   \n4        b53ddd25763b7daeadccf74f0ad5e67d        14370   T2   \n6        2a5631143320a6d4f98929b3abd45779        14370   T2   \n8        578fae6238f30c749e95ebf1472a88d3        14370   T2   \n...                                   ...          ...  ...   \n1020274  e410233db1e818f51a48a0d47fa4fa92        14370   T2   \n1020276  8f92f55991060f2111a7a0fab2e453ad        14370   T2   \n1020278  2a7bf97c8666cf6289378831707942a2        14370   T2   \n1020280  f0e8db7c9aee1017a2699e2483bc4238        14370   T2   \n1020282  b7670915fc691ba3cf8b50ea56b3d6e1        14370   T2   \n\n                      created_at  subject_id                 extractor  \\\n0        2020-05-12 11:50:39 UTC    44660549  point_extractor_by_frame   \n2        2020-07-03 15:48:36 UTC    44660549  point_extractor_by_frame   \n4        2020-07-03 16:57:57 UTC    44660549  point_extractor_by_frame   \n6        2020-07-03 17:00:15 UTC    44660549  point_extractor_by_frame   \n8        2020-07-03 17:33:30 UTC    44660549  point_extractor_by_frame   \n...                          ...         ...                       ...   \n1020274  2020-11-18 04:32:48 UTC    47970949  point_extractor_by_frame   \n1020276  2020-11-18 19:47:25 UTC    47970949  point_extractor_by_frame   \n1020278  2020-11-18 21:32:33 UTC    47970949  point_extractor_by_frame   \n1020280  2020-11-19 01:03:05 UTC    47970949  point_extractor_by_frame   \n1020282  2020-11-19 03:57:28 UTC    47970949  point_extractor_by_frame   \n\n        data.aggregation_version data.frame0.T2_tool0_x  ...  \\\n0                          4.1.0                     []  ...   \n2                          4.1.0                     []  ...   \n4                          4.1.0                     []  ...   \n6                          4.1.0                     []  ...   \n8                          4.1.0                     []  ...   \n...                          ...                    ...  ...   \n1020274                    4.1.0                     []  ...   \n1020276                    4.1.0                     []  ...   \n1020278                    4.1.0                     []  ...   \n1020280                    4.1.0                     []  ...   \n1020282                    4.1.0                     []  ...   \n\n        data.frame0.T4_tool2_y data.frame0.T4_tool5_x data.frame0.T4_tool5_y  \\\n0                          NaN                    NaN                    NaN   \n2                          NaN                    NaN                    NaN   \n4                          NaN                    NaN                    NaN   \n6                          NaN                    NaN                    NaN   \n8                          NaN                    NaN                    NaN   \n...                        ...                    ...                    ...   \n1020274                    NaN                    NaN                    NaN   \n1020276                    NaN                    NaN                    NaN   \n1020278                    NaN                    NaN                    NaN   \n1020280                    NaN                    NaN                    NaN   \n1020282                    NaN                    NaN                    NaN   \n\n        data.frame0.T4_tool1_x data.frame0.T4_tool1_y data.frame0.T4_tool6_x  \\\n0                          NaN                    NaN                    NaN   \n2                          NaN                    NaN                    NaN   \n4                          NaN                    NaN                    NaN   \n6                          NaN                    NaN                    NaN   \n8                          NaN                    NaN                    NaN   \n...                        ...                    ...                    ...   \n1020274                    NaN                    NaN                    NaN   \n1020276                    NaN                    NaN                    NaN   \n1020278                    NaN                    NaN                    NaN   \n1020280                    NaN                    NaN                    NaN   \n1020282                    NaN                    NaN                    NaN   \n\n        data.frame0.T4_tool6_y           image_name   x   y  \n0                          NaN  SMF02-1-2-2_740.jpg  []  []  \n2                          NaN  SMF02-1-2-2_740.jpg  []  []  \n4                          NaN  SMF02-1-2-2_740.jpg  []  []  \n6                          NaN  SMF02-1-2-2_740.jpg  []  []  \n8                          NaN  SMF02-1-2-2_740.jpg  []  []  \n...                        ...                  ...  ..  ..  \n1020274                    NaN    SFM04-1-1_369.jpg  []  []  \n1020276                    NaN    SFM04-1-1_369.jpg  []  []  \n1020278                    NaN    SFM04-1-1_369.jpg  []  []  \n1020280                    NaN    SFM04-1-1_369.jpg  []  []  \n1020282                    NaN    SFM04-1-1_369.jpg  []  []  \n\n[510142 rows x 36 columns]",
      "text/html": "<div>\n<style scoped>\n    .dataframe tbody tr th:only-of-type {\n        vertical-align: middle;\n    }\n\n    .dataframe tbody tr th {\n        vertical-align: top;\n    }\n\n    .dataframe thead th {\n        text-align: right;\n    }\n</style>\n<table border=\"1\" class=\"dataframe\">\n  <thead>\n    <tr style=\"text-align: right;\">\n      <th></th>\n      <th>classification_id</th>\n      <th>user_name</th>\n      <th>user_id</th>\n      <th>workflow_id</th>\n      <th>task</th>\n      <th>created_at</th>\n      <th>subject_id</th>\n      <th>extractor</th>\n      <th>data.aggregation_version</th>\n      <th>data.frame0.T2_tool0_x</th>\n      <th>...</th>\n      <th>data.frame0.T4_tool2_y</th>\n      <th>data.frame0.T4_tool5_x</th>\n      <th>data.frame0.T4_tool5_y</th>\n      <th>data.frame0.T4_tool1_x</th>\n      <th>data.frame0.T4_tool1_y</th>\n      <th>data.frame0.T4_tool6_x</th>\n      <th>data.frame0.T4_tool6_y</th>\n      <th>image_name</th>\n      <th>x</th>\n      <th>y</th>\n    </tr>\n  </thead>\n  <tbody>\n    <tr>\n      <th>0</th>\n      <td>238056473</td>\n      <td>386fc0ec047b7e259744e72e8e64b9f9</td>\n      <td>ea57b1088a10fa7fef30ed0b344e2ca3</td>\n      <td>14370</td>\n      <td>T2</td>\n      <td>2020-05-12 11:50:39 UTC</td>\n      <td>44660549</td>\n      <td>point_extractor_by_frame</td>\n      <td>4.1.0</td>\n      <td>[]</td>\n      <td>...</td>\n      <td>NaN</td>\n      <td>NaN</td>\n      <td>NaN</td>\n      <td>NaN</td>\n      <td>NaN</td>\n      <td>NaN</td>\n      <td>NaN</td>\n      <td>SMF02-1-2-2_740.jpg</td>\n      <td>[]</td>\n      <td>[]</td>\n    </tr>\n    <tr>\n      <th>2</th>\n      <td>257483880</td>\n      <td>ec17f4ab6a51fee747c3f1e5f0a004c5</td>\n      <td>NaN</td>\n      <td>14370</td>\n      <td>T2</td>\n      <td>2020-07-03 15:48:36 UTC</td>\n      <td>44660549</td>\n      <td>point_extractor_by_frame</td>\n      <td>4.1.0</td>\n      <td>[]</td>\n      <td>...</td>\n      <td>NaN</td>\n      <td>NaN</td>\n      <td>NaN</td>\n      <td>NaN</td>\n      <td>NaN</td>\n      <td>NaN</td>\n      <td>NaN</td>\n      <td>SMF02-1-2-2_740.jpg</td>\n      <td>[]</td>\n      <td>[]</td>\n    </tr>\n    <tr>\n      <th>4</th>\n      <td>257500131</td>\n      <td>dc48dacf4a7d070ce8d2189d087adb8d</td>\n      <td>b53ddd25763b7daeadccf74f0ad5e67d</td>\n      <td>14370</td>\n      <td>T2</td>\n      <td>2020-07-03 16:57:57 UTC</td>\n      <td>44660549</td>\n      <td>point_extractor_by_frame</td>\n      <td>4.1.0</td>\n      <td>[]</td>\n      <td>...</td>\n      <td>NaN</td>\n      <td>NaN</td>\n      <td>NaN</td>\n      <td>NaN</td>\n      <td>NaN</td>\n      <td>NaN</td>\n      <td>NaN</td>\n      <td>SMF02-1-2-2_740.jpg</td>\n      <td>[]</td>\n      <td>[]</td>\n    </tr>\n    <tr>\n      <th>6</th>\n      <td>257500556</td>\n      <td>1e09aaeb01d2f4aff4451e2e9a1318b4</td>\n      <td>2a5631143320a6d4f98929b3abd45779</td>\n      <td>14370</td>\n      <td>T2</td>\n      <td>2020-07-03 17:00:15 UTC</td>\n      <td>44660549</td>\n      <td>point_extractor_by_frame</td>\n      <td>4.1.0</td>\n      <td>[]</td>\n      <td>...</td>\n      <td>NaN</td>\n      <td>NaN</td>\n      <td>NaN</td>\n      <td>NaN</td>\n      <td>NaN</td>\n      <td>NaN</td>\n      <td>NaN</td>\n      <td>SMF02-1-2-2_740.jpg</td>\n      <td>[]</td>\n      <td>[]</td>\n    </tr>\n    <tr>\n      <th>8</th>\n      <td>257508749</td>\n      <td>909c2290a0c6c114cf6ed1e325eb74ae</td>\n      <td>578fae6238f30c749e95ebf1472a88d3</td>\n      <td>14370</td>\n      <td>T2</td>\n      <td>2020-07-03 17:33:30 UTC</td>\n      <td>44660549</td>\n      <td>point_extractor_by_frame</td>\n      <td>4.1.0</td>\n      <td>[]</td>\n      <td>...</td>\n      <td>NaN</td>\n      <td>NaN</td>\n      <td>NaN</td>\n      <td>NaN</td>\n      <td>NaN</td>\n      <td>NaN</td>\n      <td>NaN</td>\n      <td>SMF02-1-2-2_740.jpg</td>\n      <td>[]</td>\n      <td>[]</td>\n    </tr>\n    <tr>\n      <th>...</th>\n      <td>...</td>\n      <td>...</td>\n      <td>...</td>\n      <td>...</td>\n      <td>...</td>\n      <td>...</td>\n      <td>...</td>\n      <td>...</td>\n      <td>...</td>\n      <td>...</td>\n      <td>...</td>\n      <td>...</td>\n      <td>...</td>\n      <td>...</td>\n      <td>...</td>\n      <td>...</td>\n      <td>...</td>\n      <td>...</td>\n      <td>...</td>\n      <td>...</td>\n      <td>...</td>\n    </tr>\n    <tr>\n      <th>1020274</th>\n      <td>287939566</td>\n      <td>a7c38b9d4c0f563d6c452d4db06db678</td>\n      <td>e410233db1e818f51a48a0d47fa4fa92</td>\n      <td>14370</td>\n      <td>T2</td>\n      <td>2020-11-18 04:32:48 UTC</td>\n      <td>47970949</td>\n      <td>point_extractor_by_frame</td>\n      <td>4.1.0</td>\n      <td>[]</td>\n      <td>...</td>\n      <td>NaN</td>\n      <td>NaN</td>\n      <td>NaN</td>\n      <td>NaN</td>\n      <td>NaN</td>\n      <td>NaN</td>\n      <td>NaN</td>\n      <td>SFM04-1-1_369.jpg</td>\n      <td>[]</td>\n      <td>[]</td>\n    </tr>\n    <tr>\n      <th>1020276</th>\n      <td>288102487</td>\n      <td>58fa6a1c297b9ff1d6f96fa93f112c48</td>\n      <td>8f92f55991060f2111a7a0fab2e453ad</td>\n      <td>14370</td>\n      <td>T2</td>\n      <td>2020-11-18 19:47:25 UTC</td>\n      <td>47970949</td>\n      <td>point_extractor_by_frame</td>\n      <td>4.1.0</td>\n      <td>[]</td>\n      <td>...</td>\n      <td>NaN</td>\n      <td>NaN</td>\n      <td>NaN</td>\n      <td>NaN</td>\n      <td>NaN</td>\n      <td>NaN</td>\n      <td>NaN</td>\n      <td>SFM04-1-1_369.jpg</td>\n      <td>[]</td>\n      <td>[]</td>\n    </tr>\n    <tr>\n      <th>1020278</th>\n      <td>288127706</td>\n      <td>7e82ef4b88b037461f90958b2716c1b8</td>\n      <td>2a7bf97c8666cf6289378831707942a2</td>\n      <td>14370</td>\n      <td>T2</td>\n      <td>2020-11-18 21:32:33 UTC</td>\n      <td>47970949</td>\n      <td>point_extractor_by_frame</td>\n      <td>4.1.0</td>\n      <td>[]</td>\n      <td>...</td>\n      <td>NaN</td>\n      <td>NaN</td>\n      <td>NaN</td>\n      <td>NaN</td>\n      <td>NaN</td>\n      <td>NaN</td>\n      <td>NaN</td>\n      <td>SFM04-1-1_369.jpg</td>\n      <td>[]</td>\n      <td>[]</td>\n    </tr>\n    <tr>\n      <th>1020280</th>\n      <td>288168438</td>\n      <td>9e15149b8e8ef01f93697b4dfd952d33</td>\n      <td>f0e8db7c9aee1017a2699e2483bc4238</td>\n      <td>14370</td>\n      <td>T2</td>\n      <td>2020-11-19 01:03:05 UTC</td>\n      <td>47970949</td>\n      <td>point_extractor_by_frame</td>\n      <td>4.1.0</td>\n      <td>[]</td>\n      <td>...</td>\n      <td>NaN</td>\n      <td>NaN</td>\n      <td>NaN</td>\n      <td>NaN</td>\n      <td>NaN</td>\n      <td>NaN</td>\n      <td>NaN</td>\n      <td>SFM04-1-1_369.jpg</td>\n      <td>[]</td>\n      <td>[]</td>\n    </tr>\n    <tr>\n      <th>1020282</th>\n      <td>288198132</td>\n      <td>69b80c6be0af6a1f2fdfc07ee22e8ced</td>\n      <td>b7670915fc691ba3cf8b50ea56b3d6e1</td>\n      <td>14370</td>\n      <td>T2</td>\n      <td>2020-11-19 03:57:28 UTC</td>\n      <td>47970949</td>\n      <td>point_extractor_by_frame</td>\n      <td>4.1.0</td>\n      <td>[]</td>\n      <td>...</td>\n      <td>NaN</td>\n      <td>NaN</td>\n      <td>NaN</td>\n      <td>NaN</td>\n      <td>NaN</td>\n      <td>NaN</td>\n      <td>NaN</td>\n      <td>SFM04-1-1_369.jpg</td>\n      <td>[]</td>\n      <td>[]</td>\n    </tr>\n  </tbody>\n</table>\n<p>510142 rows × 36 columns</p>\n</div>"
     },
     "execution_count": 21,
     "metadata": {},
     "output_type": "execute_result"
    }
   ],
   "source": [
    "# create a flat from that.\n",
    "from ast import literal_eval\n",
    "\n",
    "columns_keep_x = ['data.frame0.T2_tool0_x', 'data.frame0.T2_tool1_x', 'data.frame0.T2_tool2_x', 'data.frame0.T2_tool4_x']\n",
    "columns_keep_y = ['data.frame0.T2_tool0_y', 'data.frame0.T2_tool1_y', 'data.frame0.T2_tool2_y', 'data.frame0.T2_tool4_y']\n",
    "\n",
    "# for col in ['data.frame0.T2_tool0_x', 'data.frame0.T2_tool1_x', 'data.frame0.T2_tool2_x', 'data.frame0.T2_tool4_x',\n",
    "#             'data.frame0.T2_tool0_y', 'data.frame0.T2_tool1_y', 'data.frame0.T2_tool2_y', 'data.frame0.T2_tool4_y']:\n",
    "\n",
    "for col in columns_keep_x + columns_keep_y:\n",
    "    df_panotes_point_extractor_r[col] = df_panotes_point_extractor_r[col].apply(lambda x: literal_eval(x) if pd.notnull(x) else [])\n",
    "\n",
    "# Merge the lists in 'x' and 'y' coordinates\n",
    "df_panotes_point_extractor_r['x'] = df_panotes_point_extractor_r[columns_keep_x].values.tolist()\n",
    "df_panotes_point_extractor_r['y'] = df_panotes_point_extractor_r[columns_keep_y].values.tolist()\n",
    "\n",
    "# Flatten the lists in each row for 'x' and 'y'\n",
    "df_panotes_point_extractor_r['x'] = df_panotes_point_extractor_r['x'].apply(lambda x: [item for sublist in x for item in sublist])\n",
    "df_panotes_point_extractor_r['y'] = df_panotes_point_extractor_r['y'].apply(lambda x: [item for sublist in x for item in sublist])\n",
    "\n",
    "# Explode the DataFrame to separate rows for each x, y pair\n",
    "# Note: This requires pandas >= 0.25 for simultaneous explode\n",
    "# df_panotes_point_extractor_r_exploded = df_panotes_point_extractor_r.apply(pd.Series.explode)\n",
    "\n",
    "# Explode the DataFrame based on these columns to get separate rows for each list element\n",
    "# Make sure to perform the explode operation on both columns simultaneously to keep the x and y coordinates paired\n",
    "df_panotes_point_extractor_r"
   ]
  },
  {
   "cell_type": "code",
   "execution_count": 23,
   "id": "d1dd3d9da30dac12",
   "metadata": {
    "collapsed": false,
    "ExecuteTime": {
     "end_time": "2024-04-10T10:01:12.743403Z",
     "start_time": "2024-04-10T10:01:12.589657Z"
    }
   },
   "outputs": [
    {
     "data": {
      "text/plain": "        classification_id                         user_name  \\\n0               238056473  386fc0ec047b7e259744e72e8e64b9f9   \n1               257483880  ec17f4ab6a51fee747c3f1e5f0a004c5   \n2               257500131  dc48dacf4a7d070ce8d2189d087adb8d   \n3               257500556  1e09aaeb01d2f4aff4451e2e9a1318b4   \n4               257508749  909c2290a0c6c114cf6ed1e325eb74ae   \n...                   ...                               ...   \n510137          287939566  a7c38b9d4c0f563d6c452d4db06db678   \n510138          288102487  58fa6a1c297b9ff1d6f96fa93f112c48   \n510139          288127706  7e82ef4b88b037461f90958b2716c1b8   \n510140          288168438  9e15149b8e8ef01f93697b4dfd952d33   \n510141          288198132  69b80c6be0af6a1f2fdfc07ee22e8ced   \n\n                                 user_id  workflow_id task  \\\n0       ea57b1088a10fa7fef30ed0b344e2ca3        14370   T2   \n1                                    NaN        14370   T2   \n2       b53ddd25763b7daeadccf74f0ad5e67d        14370   T2   \n3       2a5631143320a6d4f98929b3abd45779        14370   T2   \n4       578fae6238f30c749e95ebf1472a88d3        14370   T2   \n...                                  ...          ...  ...   \n510137  e410233db1e818f51a48a0d47fa4fa92        14370   T2   \n510138  8f92f55991060f2111a7a0fab2e453ad        14370   T2   \n510139  2a7bf97c8666cf6289378831707942a2        14370   T2   \n510140  f0e8db7c9aee1017a2699e2483bc4238        14370   T2   \n510141  b7670915fc691ba3cf8b50ea56b3d6e1        14370   T2   \n\n                     created_at  subject_id           image_name   x   y  \n0       2020-05-12 11:50:39 UTC    44660549  SMF02-1-2-2_740.jpg  []  []  \n1       2020-07-03 15:48:36 UTC    44660549  SMF02-1-2-2_740.jpg  []  []  \n2       2020-07-03 16:57:57 UTC    44660549  SMF02-1-2-2_740.jpg  []  []  \n3       2020-07-03 17:00:15 UTC    44660549  SMF02-1-2-2_740.jpg  []  []  \n4       2020-07-03 17:33:30 UTC    44660549  SMF02-1-2-2_740.jpg  []  []  \n...                         ...         ...                  ...  ..  ..  \n510137  2020-11-18 04:32:48 UTC    47970949    SFM04-1-1_369.jpg  []  []  \n510138  2020-11-18 19:47:25 UTC    47970949    SFM04-1-1_369.jpg  []  []  \n510139  2020-11-18 21:32:33 UTC    47970949    SFM04-1-1_369.jpg  []  []  \n510140  2020-11-19 01:03:05 UTC    47970949    SFM04-1-1_369.jpg  []  []  \n510141  2020-11-19 03:57:28 UTC    47970949    SFM04-1-1_369.jpg  []  []  \n\n[510142 rows x 10 columns]",
      "text/html": "<div>\n<style scoped>\n    .dataframe tbody tr th:only-of-type {\n        vertical-align: middle;\n    }\n\n    .dataframe tbody tr th {\n        vertical-align: top;\n    }\n\n    .dataframe thead th {\n        text-align: right;\n    }\n</style>\n<table border=\"1\" class=\"dataframe\">\n  <thead>\n    <tr style=\"text-align: right;\">\n      <th></th>\n      <th>classification_id</th>\n      <th>user_name</th>\n      <th>user_id</th>\n      <th>workflow_id</th>\n      <th>task</th>\n      <th>created_at</th>\n      <th>subject_id</th>\n      <th>image_name</th>\n      <th>x</th>\n      <th>y</th>\n    </tr>\n  </thead>\n  <tbody>\n    <tr>\n      <th>0</th>\n      <td>238056473</td>\n      <td>386fc0ec047b7e259744e72e8e64b9f9</td>\n      <td>ea57b1088a10fa7fef30ed0b344e2ca3</td>\n      <td>14370</td>\n      <td>T2</td>\n      <td>2020-05-12 11:50:39 UTC</td>\n      <td>44660549</td>\n      <td>SMF02-1-2-2_740.jpg</td>\n      <td>[]</td>\n      <td>[]</td>\n    </tr>\n    <tr>\n      <th>1</th>\n      <td>257483880</td>\n      <td>ec17f4ab6a51fee747c3f1e5f0a004c5</td>\n      <td>NaN</td>\n      <td>14370</td>\n      <td>T2</td>\n      <td>2020-07-03 15:48:36 UTC</td>\n      <td>44660549</td>\n      <td>SMF02-1-2-2_740.jpg</td>\n      <td>[]</td>\n      <td>[]</td>\n    </tr>\n    <tr>\n      <th>2</th>\n      <td>257500131</td>\n      <td>dc48dacf4a7d070ce8d2189d087adb8d</td>\n      <td>b53ddd25763b7daeadccf74f0ad5e67d</td>\n      <td>14370</td>\n      <td>T2</td>\n      <td>2020-07-03 16:57:57 UTC</td>\n      <td>44660549</td>\n      <td>SMF02-1-2-2_740.jpg</td>\n      <td>[]</td>\n      <td>[]</td>\n    </tr>\n    <tr>\n      <th>3</th>\n      <td>257500556</td>\n      <td>1e09aaeb01d2f4aff4451e2e9a1318b4</td>\n      <td>2a5631143320a6d4f98929b3abd45779</td>\n      <td>14370</td>\n      <td>T2</td>\n      <td>2020-07-03 17:00:15 UTC</td>\n      <td>44660549</td>\n      <td>SMF02-1-2-2_740.jpg</td>\n      <td>[]</td>\n      <td>[]</td>\n    </tr>\n    <tr>\n      <th>4</th>\n      <td>257508749</td>\n      <td>909c2290a0c6c114cf6ed1e325eb74ae</td>\n      <td>578fae6238f30c749e95ebf1472a88d3</td>\n      <td>14370</td>\n      <td>T2</td>\n      <td>2020-07-03 17:33:30 UTC</td>\n      <td>44660549</td>\n      <td>SMF02-1-2-2_740.jpg</td>\n      <td>[]</td>\n      <td>[]</td>\n    </tr>\n    <tr>\n      <th>...</th>\n      <td>...</td>\n      <td>...</td>\n      <td>...</td>\n      <td>...</td>\n      <td>...</td>\n      <td>...</td>\n      <td>...</td>\n      <td>...</td>\n      <td>...</td>\n      <td>...</td>\n    </tr>\n    <tr>\n      <th>510137</th>\n      <td>287939566</td>\n      <td>a7c38b9d4c0f563d6c452d4db06db678</td>\n      <td>e410233db1e818f51a48a0d47fa4fa92</td>\n      <td>14370</td>\n      <td>T2</td>\n      <td>2020-11-18 04:32:48 UTC</td>\n      <td>47970949</td>\n      <td>SFM04-1-1_369.jpg</td>\n      <td>[]</td>\n      <td>[]</td>\n    </tr>\n    <tr>\n      <th>510138</th>\n      <td>288102487</td>\n      <td>58fa6a1c297b9ff1d6f96fa93f112c48</td>\n      <td>8f92f55991060f2111a7a0fab2e453ad</td>\n      <td>14370</td>\n      <td>T2</td>\n      <td>2020-11-18 19:47:25 UTC</td>\n      <td>47970949</td>\n      <td>SFM04-1-1_369.jpg</td>\n      <td>[]</td>\n      <td>[]</td>\n    </tr>\n    <tr>\n      <th>510139</th>\n      <td>288127706</td>\n      <td>7e82ef4b88b037461f90958b2716c1b8</td>\n      <td>2a7bf97c8666cf6289378831707942a2</td>\n      <td>14370</td>\n      <td>T2</td>\n      <td>2020-11-18 21:32:33 UTC</td>\n      <td>47970949</td>\n      <td>SFM04-1-1_369.jpg</td>\n      <td>[]</td>\n      <td>[]</td>\n    </tr>\n    <tr>\n      <th>510140</th>\n      <td>288168438</td>\n      <td>9e15149b8e8ef01f93697b4dfd952d33</td>\n      <td>f0e8db7c9aee1017a2699e2483bc4238</td>\n      <td>14370</td>\n      <td>T2</td>\n      <td>2020-11-19 01:03:05 UTC</td>\n      <td>47970949</td>\n      <td>SFM04-1-1_369.jpg</td>\n      <td>[]</td>\n      <td>[]</td>\n    </tr>\n    <tr>\n      <th>510141</th>\n      <td>288198132</td>\n      <td>69b80c6be0af6a1f2fdfc07ee22e8ced</td>\n      <td>b7670915fc691ba3cf8b50ea56b3d6e1</td>\n      <td>14370</td>\n      <td>T2</td>\n      <td>2020-11-19 03:57:28 UTC</td>\n      <td>47970949</td>\n      <td>SFM04-1-1_369.jpg</td>\n      <td>[]</td>\n      <td>[]</td>\n    </tr>\n  </tbody>\n</table>\n<p>510142 rows × 10 columns</p>\n</div>"
     },
     "execution_count": 23,
     "metadata": {},
     "output_type": "execute_result"
    }
   ],
   "source": [
    "df_panotes_point_extractor_r = df_panotes_point_extractor_r[\n",
    "    ['classification_id', 'user_name', 'user_id', 'workflow_id', 'task',\n",
    "     'created_at', 'subject_id', \"image_name\",\n",
    "     'x', 'y'\n",
    "     ]].reset_index(drop=True)\n",
    "\n",
    "df_panotes_point_extractor_r"
   ]
  },
  {
   "cell_type": "code",
   "execution_count": 24,
   "id": "b84d1fb085664060",
   "metadata": {
    "collapsed": false,
    "ExecuteTime": {
     "end_time": "2024-04-10T10:01:12.954305Z",
     "start_time": "2024-04-10T10:01:12.744398Z"
    }
   },
   "outputs": [],
   "source": [
    "df_panotes_point_extractor_r_ex = df_panotes_point_extractor_r.apply(lambda x: x.explode() if x.name in ['x', 'y'] else x)"
   ]
  },
  {
   "cell_type": "code",
   "execution_count": 24,
   "id": "ea7bbbb70dfc0df0",
   "metadata": {
    "collapsed": false,
    "ExecuteTime": {
     "end_time": "2024-04-10T10:01:12.956940Z",
     "start_time": "2024-04-10T10:01:12.955634Z"
    }
   },
   "outputs": [],
   "source": []
  },
  {
   "cell_type": "code",
   "execution_count": 25,
   "id": "7f88cb7f25c52568",
   "metadata": {
    "collapsed": false,
    "ExecuteTime": {
     "end_time": "2024-04-10T10:01:27.451761Z",
     "start_time": "2024-04-10T10:01:27.401214Z"
    }
   },
   "outputs": [
    {
     "data": {
      "text/plain": "        classification_id                         user_name  \\\n231089          283007416  77dd9c009b5200eea39788f7f15862f0   \n372430          271011060  fcbbe951169dc1df0b1f803a199f0995   \n503148          286621582  59e4feed8a3a84fb6bfdc5f29a1713b4   \n503148          286621582  59e4feed8a3a84fb6bfdc5f29a1713b4   \n503148          286621582  59e4feed8a3a84fb6bfdc5f29a1713b4   \n...                   ...                               ...   \n477788          269965841  46c1b35e9e7a99fe391c096e87a43677   \n318485          278911094  ec6e6d9157dc272dae21504deaa63687   \n318488          280834231  28e1c957b094499b9178b64aadab669e   \n342619          283374116  b35f4fa3408911f68c9c80ba68b8611f   \n203113          281038044  f81b032a8ed514458a88f8c508dff561   \n\n                                 user_id  workflow_id task  \\\n231089  003abe9e6bb90e03c50377a33f1137a5        14370   T2   \n372430  004eb4442ae5c85fcb6b5c78ed902f41        14370   T2   \n503148  006c16c227f4152ffff80d195fca443b        14370   T2   \n503148  006c16c227f4152ffff80d195fca443b        14370   T2   \n503148  006c16c227f4152ffff80d195fca443b        14370   T2   \n...                                  ...          ...  ...   \n477788                               NaN        14370   T2   \n318485                               NaN        14370   T2   \n318488                               NaN        14370   T2   \n342619                               NaN        14370   T2   \n203113                               NaN        14370   T2   \n\n                     created_at  subject_id           image_name            x  \\\n231089  2020-10-26 09:28:46 UTC    47974351  SMF02-1-2-2_570.jpg   186.475037   \n372430  2020-08-30 16:22:33 UTC    47978494    SFP01_06-2_59.jpg   272.292664   \n503148  2020-11-12 11:08:10 UTC    47980877      SRL04-1_348.jpg     358.3125   \n503148  2020-11-12 11:08:10 UTC    47980877      SRL04-1_348.jpg     485.3125   \n503148  2020-11-12 11:08:10 UTC    47980877      SRL04-1_348.jpg     458.3125   \n...                         ...         ...                  ...          ...   \n477788  2020-08-24 15:39:55 UTC    48034453      SRBS03-4_40.jpg   484.661652   \n318485  2020-10-08 15:07:18 UTC    48034455      SRBS03-4_43.jpg   742.105591   \n318488  2020-10-16 07:02:12 UTC    48034455      SRBS03-4_43.jpg  1412.728516   \n342619  2020-10-27 21:11:40 UTC    48034465      SRBS03-4_61.jpg  1458.386841   \n203113  2020-10-17 00:47:51 UTC    48034467      SRBS03-4_63.jpg   895.856628   \n\n                  y  \n231089   310.925049  \n372430   265.212067  \n503148          194  \n503148          106  \n503148          205  \n...             ...  \n477788   550.373962  \n318485   531.119507  \n318488  1483.689331  \n342619  1283.980591  \n203113  1032.248169  \n\n[37652 rows x 10 columns]",
      "text/html": "<div>\n<style scoped>\n    .dataframe tbody tr th:only-of-type {\n        vertical-align: middle;\n    }\n\n    .dataframe tbody tr th {\n        vertical-align: top;\n    }\n\n    .dataframe thead th {\n        text-align: right;\n    }\n</style>\n<table border=\"1\" class=\"dataframe\">\n  <thead>\n    <tr style=\"text-align: right;\">\n      <th></th>\n      <th>classification_id</th>\n      <th>user_name</th>\n      <th>user_id</th>\n      <th>workflow_id</th>\n      <th>task</th>\n      <th>created_at</th>\n      <th>subject_id</th>\n      <th>image_name</th>\n      <th>x</th>\n      <th>y</th>\n    </tr>\n  </thead>\n  <tbody>\n    <tr>\n      <th>231089</th>\n      <td>283007416</td>\n      <td>77dd9c009b5200eea39788f7f15862f0</td>\n      <td>003abe9e6bb90e03c50377a33f1137a5</td>\n      <td>14370</td>\n      <td>T2</td>\n      <td>2020-10-26 09:28:46 UTC</td>\n      <td>47974351</td>\n      <td>SMF02-1-2-2_570.jpg</td>\n      <td>186.475037</td>\n      <td>310.925049</td>\n    </tr>\n    <tr>\n      <th>372430</th>\n      <td>271011060</td>\n      <td>fcbbe951169dc1df0b1f803a199f0995</td>\n      <td>004eb4442ae5c85fcb6b5c78ed902f41</td>\n      <td>14370</td>\n      <td>T2</td>\n      <td>2020-08-30 16:22:33 UTC</td>\n      <td>47978494</td>\n      <td>SFP01_06-2_59.jpg</td>\n      <td>272.292664</td>\n      <td>265.212067</td>\n    </tr>\n    <tr>\n      <th>503148</th>\n      <td>286621582</td>\n      <td>59e4feed8a3a84fb6bfdc5f29a1713b4</td>\n      <td>006c16c227f4152ffff80d195fca443b</td>\n      <td>14370</td>\n      <td>T2</td>\n      <td>2020-11-12 11:08:10 UTC</td>\n      <td>47980877</td>\n      <td>SRL04-1_348.jpg</td>\n      <td>358.3125</td>\n      <td>194</td>\n    </tr>\n    <tr>\n      <th>503148</th>\n      <td>286621582</td>\n      <td>59e4feed8a3a84fb6bfdc5f29a1713b4</td>\n      <td>006c16c227f4152ffff80d195fca443b</td>\n      <td>14370</td>\n      <td>T2</td>\n      <td>2020-11-12 11:08:10 UTC</td>\n      <td>47980877</td>\n      <td>SRL04-1_348.jpg</td>\n      <td>485.3125</td>\n      <td>106</td>\n    </tr>\n    <tr>\n      <th>503148</th>\n      <td>286621582</td>\n      <td>59e4feed8a3a84fb6bfdc5f29a1713b4</td>\n      <td>006c16c227f4152ffff80d195fca443b</td>\n      <td>14370</td>\n      <td>T2</td>\n      <td>2020-11-12 11:08:10 UTC</td>\n      <td>47980877</td>\n      <td>SRL04-1_348.jpg</td>\n      <td>458.3125</td>\n      <td>205</td>\n    </tr>\n    <tr>\n      <th>...</th>\n      <td>...</td>\n      <td>...</td>\n      <td>...</td>\n      <td>...</td>\n      <td>...</td>\n      <td>...</td>\n      <td>...</td>\n      <td>...</td>\n      <td>...</td>\n      <td>...</td>\n    </tr>\n    <tr>\n      <th>477788</th>\n      <td>269965841</td>\n      <td>46c1b35e9e7a99fe391c096e87a43677</td>\n      <td>NaN</td>\n      <td>14370</td>\n      <td>T2</td>\n      <td>2020-08-24 15:39:55 UTC</td>\n      <td>48034453</td>\n      <td>SRBS03-4_40.jpg</td>\n      <td>484.661652</td>\n      <td>550.373962</td>\n    </tr>\n    <tr>\n      <th>318485</th>\n      <td>278911094</td>\n      <td>ec6e6d9157dc272dae21504deaa63687</td>\n      <td>NaN</td>\n      <td>14370</td>\n      <td>T2</td>\n      <td>2020-10-08 15:07:18 UTC</td>\n      <td>48034455</td>\n      <td>SRBS03-4_43.jpg</td>\n      <td>742.105591</td>\n      <td>531.119507</td>\n    </tr>\n    <tr>\n      <th>318488</th>\n      <td>280834231</td>\n      <td>28e1c957b094499b9178b64aadab669e</td>\n      <td>NaN</td>\n      <td>14370</td>\n      <td>T2</td>\n      <td>2020-10-16 07:02:12 UTC</td>\n      <td>48034455</td>\n      <td>SRBS03-4_43.jpg</td>\n      <td>1412.728516</td>\n      <td>1483.689331</td>\n    </tr>\n    <tr>\n      <th>342619</th>\n      <td>283374116</td>\n      <td>b35f4fa3408911f68c9c80ba68b8611f</td>\n      <td>NaN</td>\n      <td>14370</td>\n      <td>T2</td>\n      <td>2020-10-27 21:11:40 UTC</td>\n      <td>48034465</td>\n      <td>SRBS03-4_61.jpg</td>\n      <td>1458.386841</td>\n      <td>1283.980591</td>\n    </tr>\n    <tr>\n      <th>203113</th>\n      <td>281038044</td>\n      <td>f81b032a8ed514458a88f8c508dff561</td>\n      <td>NaN</td>\n      <td>14370</td>\n      <td>T2</td>\n      <td>2020-10-17 00:47:51 UTC</td>\n      <td>48034467</td>\n      <td>SRBS03-4_63.jpg</td>\n      <td>895.856628</td>\n      <td>1032.248169</td>\n    </tr>\n  </tbody>\n</table>\n<p>37652 rows × 10 columns</p>\n</div>"
     },
     "execution_count": 25,
     "metadata": {},
     "output_type": "execute_result"
    }
   ],
   "source": [
    "# images with no marks have NaN values in the 'merged_x' and 'merged_y' columns\n",
    "df_panotes_point_extractor_r_ex_dropped = df_panotes_point_extractor_r_ex.dropna(subset=['x', 'y'], how='all').sort_values(by=['user_id', 'subject_id', 'task', 'created_at'])\n",
    "df_panotes_point_extractor_r_ex_dropped"
   ]
  },
  {
   "cell_type": "code",
   "outputs": [
    {
     "data": {
      "text/plain": "        classification_id                         user_name  \\\n231089          283007416  77dd9c009b5200eea39788f7f15862f0   \n372430          271011060  fcbbe951169dc1df0b1f803a199f0995   \n503148          286621582  59e4feed8a3a84fb6bfdc5f29a1713b4   \n503148          286621582  59e4feed8a3a84fb6bfdc5f29a1713b4   \n503148          286621582  59e4feed8a3a84fb6bfdc5f29a1713b4   \n...                   ...                               ...   \n477788          269965841  46c1b35e9e7a99fe391c096e87a43677   \n318485          278911094  ec6e6d9157dc272dae21504deaa63687   \n318488          280834231  28e1c957b094499b9178b64aadab669e   \n342619          283374116  b35f4fa3408911f68c9c80ba68b8611f   \n203113          281038044  f81b032a8ed514458a88f8c508dff561   \n\n                                 user_id  workflow_id task  \\\n231089  003abe9e6bb90e03c50377a33f1137a5        14370   T2   \n372430  004eb4442ae5c85fcb6b5c78ed902f41        14370   T2   \n503148  006c16c227f4152ffff80d195fca443b        14370   T2   \n503148  006c16c227f4152ffff80d195fca443b        14370   T2   \n503148  006c16c227f4152ffff80d195fca443b        14370   T2   \n...                                  ...          ...  ...   \n477788                               NaN        14370   T2   \n318485                               NaN        14370   T2   \n318488                               NaN        14370   T2   \n342619                               NaN        14370   T2   \n203113                               NaN        14370   T2   \n\n                     created_at  subject_id           image_name     x     y  \n231089  2020-10-26 09:28:46 UTC    47974351  SMF02-1-2-2_570.jpg   186   310  \n372430  2020-08-30 16:22:33 UTC    47978494    SFP01_06-2_59.jpg   272   265  \n503148  2020-11-12 11:08:10 UTC    47980877      SRL04-1_348.jpg   358   194  \n503148  2020-11-12 11:08:10 UTC    47980877      SRL04-1_348.jpg   485   106  \n503148  2020-11-12 11:08:10 UTC    47980877      SRL04-1_348.jpg   458   205  \n...                         ...         ...                  ...   ...   ...  \n477788  2020-08-24 15:39:55 UTC    48034453      SRBS03-4_40.jpg   484   550  \n318485  2020-10-08 15:07:18 UTC    48034455      SRBS03-4_43.jpg   742   531  \n318488  2020-10-16 07:02:12 UTC    48034455      SRBS03-4_43.jpg  1412  1483  \n342619  2020-10-27 21:11:40 UTC    48034465      SRBS03-4_61.jpg  1458  1283  \n203113  2020-10-17 00:47:51 UTC    48034467      SRBS03-4_63.jpg   895  1032  \n\n[37652 rows x 10 columns]",
      "text/html": "<div>\n<style scoped>\n    .dataframe tbody tr th:only-of-type {\n        vertical-align: middle;\n    }\n\n    .dataframe tbody tr th {\n        vertical-align: top;\n    }\n\n    .dataframe thead th {\n        text-align: right;\n    }\n</style>\n<table border=\"1\" class=\"dataframe\">\n  <thead>\n    <tr style=\"text-align: right;\">\n      <th></th>\n      <th>classification_id</th>\n      <th>user_name</th>\n      <th>user_id</th>\n      <th>workflow_id</th>\n      <th>task</th>\n      <th>created_at</th>\n      <th>subject_id</th>\n      <th>image_name</th>\n      <th>x</th>\n      <th>y</th>\n    </tr>\n  </thead>\n  <tbody>\n    <tr>\n      <th>231089</th>\n      <td>283007416</td>\n      <td>77dd9c009b5200eea39788f7f15862f0</td>\n      <td>003abe9e6bb90e03c50377a33f1137a5</td>\n      <td>14370</td>\n      <td>T2</td>\n      <td>2020-10-26 09:28:46 UTC</td>\n      <td>47974351</td>\n      <td>SMF02-1-2-2_570.jpg</td>\n      <td>186</td>\n      <td>310</td>\n    </tr>\n    <tr>\n      <th>372430</th>\n      <td>271011060</td>\n      <td>fcbbe951169dc1df0b1f803a199f0995</td>\n      <td>004eb4442ae5c85fcb6b5c78ed902f41</td>\n      <td>14370</td>\n      <td>T2</td>\n      <td>2020-08-30 16:22:33 UTC</td>\n      <td>47978494</td>\n      <td>SFP01_06-2_59.jpg</td>\n      <td>272</td>\n      <td>265</td>\n    </tr>\n    <tr>\n      <th>503148</th>\n      <td>286621582</td>\n      <td>59e4feed8a3a84fb6bfdc5f29a1713b4</td>\n      <td>006c16c227f4152ffff80d195fca443b</td>\n      <td>14370</td>\n      <td>T2</td>\n      <td>2020-11-12 11:08:10 UTC</td>\n      <td>47980877</td>\n      <td>SRL04-1_348.jpg</td>\n      <td>358</td>\n      <td>194</td>\n    </tr>\n    <tr>\n      <th>503148</th>\n      <td>286621582</td>\n      <td>59e4feed8a3a84fb6bfdc5f29a1713b4</td>\n      <td>006c16c227f4152ffff80d195fca443b</td>\n      <td>14370</td>\n      <td>T2</td>\n      <td>2020-11-12 11:08:10 UTC</td>\n      <td>47980877</td>\n      <td>SRL04-1_348.jpg</td>\n      <td>485</td>\n      <td>106</td>\n    </tr>\n    <tr>\n      <th>503148</th>\n      <td>286621582</td>\n      <td>59e4feed8a3a84fb6bfdc5f29a1713b4</td>\n      <td>006c16c227f4152ffff80d195fca443b</td>\n      <td>14370</td>\n      <td>T2</td>\n      <td>2020-11-12 11:08:10 UTC</td>\n      <td>47980877</td>\n      <td>SRL04-1_348.jpg</td>\n      <td>458</td>\n      <td>205</td>\n    </tr>\n    <tr>\n      <th>...</th>\n      <td>...</td>\n      <td>...</td>\n      <td>...</td>\n      <td>...</td>\n      <td>...</td>\n      <td>...</td>\n      <td>...</td>\n      <td>...</td>\n      <td>...</td>\n      <td>...</td>\n    </tr>\n    <tr>\n      <th>477788</th>\n      <td>269965841</td>\n      <td>46c1b35e9e7a99fe391c096e87a43677</td>\n      <td>NaN</td>\n      <td>14370</td>\n      <td>T2</td>\n      <td>2020-08-24 15:39:55 UTC</td>\n      <td>48034453</td>\n      <td>SRBS03-4_40.jpg</td>\n      <td>484</td>\n      <td>550</td>\n    </tr>\n    <tr>\n      <th>318485</th>\n      <td>278911094</td>\n      <td>ec6e6d9157dc272dae21504deaa63687</td>\n      <td>NaN</td>\n      <td>14370</td>\n      <td>T2</td>\n      <td>2020-10-08 15:07:18 UTC</td>\n      <td>48034455</td>\n      <td>SRBS03-4_43.jpg</td>\n      <td>742</td>\n      <td>531</td>\n    </tr>\n    <tr>\n      <th>318488</th>\n      <td>280834231</td>\n      <td>28e1c957b094499b9178b64aadab669e</td>\n      <td>NaN</td>\n      <td>14370</td>\n      <td>T2</td>\n      <td>2020-10-16 07:02:12 UTC</td>\n      <td>48034455</td>\n      <td>SRBS03-4_43.jpg</td>\n      <td>1412</td>\n      <td>1483</td>\n    </tr>\n    <tr>\n      <th>342619</th>\n      <td>283374116</td>\n      <td>b35f4fa3408911f68c9c80ba68b8611f</td>\n      <td>NaN</td>\n      <td>14370</td>\n      <td>T2</td>\n      <td>2020-10-27 21:11:40 UTC</td>\n      <td>48034465</td>\n      <td>SRBS03-4_61.jpg</td>\n      <td>1458</td>\n      <td>1283</td>\n    </tr>\n    <tr>\n      <th>203113</th>\n      <td>281038044</td>\n      <td>f81b032a8ed514458a88f8c508dff561</td>\n      <td>NaN</td>\n      <td>14370</td>\n      <td>T2</td>\n      <td>2020-10-17 00:47:51 UTC</td>\n      <td>48034467</td>\n      <td>SRBS03-4_63.jpg</td>\n      <td>895</td>\n      <td>1032</td>\n    </tr>\n  </tbody>\n</table>\n<p>37652 rows × 10 columns</p>\n</div>"
     },
     "execution_count": 26,
     "metadata": {},
     "output_type": "execute_result"
    }
   ],
   "source": [
    "# cast x and y to int\n",
    "df_panotes_point_extractor_r_ex_dropped = df_panotes_point_extractor_r_ex_dropped.astype({'x': 'int32', 'y': 'int32'})\n",
    "df_panotes_point_extractor_r_ex_dropped"
   ],
   "metadata": {
    "collapsed": false,
    "ExecuteTime": {
     "end_time": "2024-04-10T10:01:27.464792Z",
     "start_time": "2024-04-10T10:01:27.453219Z"
    }
   },
   "id": "b3a0beb695d8f28e",
   "execution_count": 26
  },
  {
   "cell_type": "code",
   "outputs": [],
   "source": [],
   "metadata": {
    "collapsed": false
   },
   "id": "6852db7c1077de6"
  },
  {
   "cell_type": "code",
   "outputs": [],
   "source": [],
   "metadata": {
    "collapsed": false
   },
   "id": "75bd85fa3f091c83"
  },
  {
   "cell_type": "markdown",
   "source": [
    "## Check the numbers for a single subject_id"
   ],
   "metadata": {
    "collapsed": false
   },
   "id": "18a9d6b4d094619e"
  },
  {
   "cell_type": "markdown",
   "id": "7ebc57977e1a1863",
   "metadata": {
    "collapsed": false
   },
   "source": [
    "## Analysing the differences between panotes extract and the custom data_prep method\n",
    "I get [2, 2, 7, 9] for the SFM01-2-2-1_293.jpg - 47969478 with my dataprep\n",
    "here I have [2, 7, 9] for the same image by only remove \"partial iguana\" but leaving \"could be an iguana, not sure\" in there"
   ]
  },
  {
   "cell_type": "markdown",
   "source": [
    "## Filter for the expert gold standard"
   ],
   "metadata": {
    "collapsed": false
   },
   "id": "d36f863bd853cfb5"
  },
  {
   "cell_type": "code",
   "execution_count": 17,
   "id": "f4b295839f0b3c14",
   "metadata": {
    "ExecuteTime": {
     "end_time": "2024-04-08T11:14:44.973691Z",
     "start_time": "2024-04-08T11:14:00.561335Z"
    },
    "collapsed": false
   },
   "outputs": [
    {
     "name": "stderr",
     "output_type": "stream",
     "text": [
      "\u001B[32m2024-04-08 13:19:20.778\u001B[0m | \u001B[1mINFO    \u001B[0m | \u001B[36mzooniverse.utils.data_format\u001B[0m:\u001B[36mread_zooniverse_annotations_v2\u001B[0m:\u001B[36m179\u001B[0m - \u001B[1mfound a new phase tag: Iguanas 1st launch\u001B[0m\n"
     ]
    },
    {
     "name": "stdout",
     "output_type": "stream",
     "text": [
      "{'retired': None, 'link': 'https://www.flickr.com/photos/hellie55/6713782851', 'origin': 'Flickr', 'license': 'Creative Commons - share adapt attribute', 'subject_id': '3', 'attribution': 'hehaden', 'image_name_1': '6713782851_82fc8c73e5_z.jpg', '#secret_description': 'juvenile kittehs practice break-in at the catnip factory'}\n",
      "{'retired': None, 'link': 'https://www.flickr.com/photos/davebloggs007/15899553966', 'origin': 'Flickr', 'license': 'Creative Commons - share adapt attribute', 'subject_id': '16', 'attribution': 'davebloggs007', 'image_name_1': '15899553966_5debf88369_z.jpg', '#secret_description': 'makeover kitteh not sure these new contacts are sassy enough'}\n",
      "{'retired': None, 'link': 'https://www.flickr.com/photos/odoketa/8762013777', 'origin': 'Flickr', 'license': 'Creative Commons - share adapt attribute', 'subject_id': '4', 'attribution': 'David Barber', 'image_name_1': '8762013777_1fa7d91e98_z.jpg', '#secret_description': 'hunter kitteh only willing to go so far to capture the feather duster'}\n",
      "found 47969478\n",
      "found 47969478\n",
      "found 47969478\n",
      "found 47969478\n",
      "found 47969478\n",
      "found 47969478\n",
      "found 47969478\n",
      "found 47969478\n",
      "found 47969478\n",
      "found 47969478\n",
      "found 47969478\n",
      "found 47969478\n",
      "found 47969478\n",
      "found 47969478\n",
      "found 47969478\n",
      "found 47969478\n",
      "found 47969478\n"
     ]
    },
    {
     "name": "stderr",
     "output_type": "stream",
     "text": [
      "\u001B[32m2024-04-08 13:19:31.596\u001B[0m | \u001B[1mINFO    \u001B[0m | \u001B[36mzooniverse.utils.data_format\u001B[0m:\u001B[36mread_zooniverse_annotations_v2\u001B[0m:\u001B[36m179\u001B[0m - \u001B[1mfound a new phase tag: Main Workflow\u001B[0m\n"
     ]
    },
    {
     "name": "stdout",
     "output_type": "stream",
     "text": [
      "found 47969478\n",
      "found 47969478\n",
      "found 47969478\n"
     ]
    },
    {
     "name": "stderr",
     "output_type": "stream",
     "text": [
      "\u001B[32m2024-04-08 13:19:33.610\u001B[0m | \u001B[1mINFO    \u001B[0m | \u001B[36mzooniverse.utils.data_format\u001B[0m:\u001B[36mread_zooniverse_annotations_v2\u001B[0m:\u001B[36m179\u001B[0m - \u001B[1mfound a new phase tag: survey tool 061417\u001B[0m\n",
      "\u001B[32m2024-04-08 13:19:35.861\u001B[0m | \u001B[1mINFO    \u001B[0m | \u001B[36mzooniverse.utils.data_format\u001B[0m:\u001B[36mread_zooniverse_annotations_v2\u001B[0m:\u001B[36m179\u001B[0m - \u001B[1mfound a new phase tag: Iguanas 2nd launch\u001B[0m\n",
      "\u001B[32m2024-04-08 13:19:41.657\u001B[0m | \u001B[1mINFO    \u001B[0m | \u001B[36mzooniverse.utils.data_format\u001B[0m:\u001B[36mread_zooniverse_annotations_v2\u001B[0m:\u001B[36m179\u001B[0m - \u001B[1mfound a new phase tag: Iguanas 3rd launch\u001B[0m\n",
      "\u001B[32m2024-04-08 13:20:01.054\u001B[0m | \u001B[1mINFO    \u001B[0m | \u001B[36mzooniverse.utils.data_format\u001B[0m:\u001B[36mread_zooniverse_annotations_v2\u001B[0m:\u001B[36m179\u001B[0m - \u001B[1mfound a new phase tag: Iguanas 4th launch\u001B[0m\n",
      "\u001B[32m2024-04-08 13:20:01.054\u001B[0m | \u001B[1mINFO    \u001B[0m | \u001B[36mzooniverse.utils.data_format\u001B[0m:\u001B[36mread_zooniverse_annotations_v2\u001B[0m:\u001B[36m179\u001B[0m - \u001B[1mfound a new phase tag: Plastics GS dataset\u001B[0m\n",
      "\u001B[32m2024-04-08 13:20:01.075\u001B[0m | \u001B[1mINFO    \u001B[0m | \u001B[36mzooniverse.utils.data_format\u001B[0m:\u001B[36mread_zooniverse_annotations_v2\u001B[0m:\u001B[36m263\u001B[0m - \u001B[1mgenerating flat dataframe from the dataset\u001B[0m\n",
      "\u001B[32m2024-04-08 13:20:02.883\u001B[0m | \u001B[1mINFO    \u001B[0m | \u001B[36mzooniverse.utils.data_format\u001B[0m:\u001B[36mdata_prep\u001B[0m:\u001B[36m312\u001B[0m - \u001B[1mflat_dataset_Iguanas Iguanas 1st launch.csv: 8260 images in classification for Iguanas 1st launch\u001B[0m\n",
      "\u001B[32m2024-04-08 13:20:02.914\u001B[0m | \u001B[1mINFO    \u001B[0m | \u001B[36mzooniverse.utils.data_format\u001B[0m:\u001B[36mdata_prep\u001B[0m:\u001B[36m321\u001B[0m - \u001B[1mimages source: found 2737 images in /Users/christian/data/zooniverse/Images/Zooniverse_Goldstandard_images/1st launch\u001B[0m\n",
      "\u001B[32m2024-04-08 13:20:02.918\u001B[0m | \u001B[1mINFO    \u001B[0m | \u001B[36mzooniverse.utils.data_format\u001B[0m:\u001B[36mdata_prep\u001B[0m:\u001B[36m333\u001B[0m - \u001B[1mfound 2733 images in /Users/christian/data/zooniverse/Images/Zooniverse_Goldstandard_images/expert-GS-1stphase.csv, the expert counts\u001B[0m\n",
      "\u001B[32m2024-04-08 13:20:02.919\u001B[0m | \u001B[1mINFO    \u001B[0m | \u001B[36mzooniverse.utils.data_format\u001B[0m:\u001B[36mdata_prep\u001B[0m:\u001B[36m341\u001B[0m - \u001B[1mworking with 107 images in /Users/christian/data/zooniverse/Images/Zooniverse_Goldstandard_images/1-T2-GS-results-5th-0s.csv, the goldstandard file.\u001B[0m\n",
      "\u001B[32m2024-04-08 13:20:02.920\u001B[0m | \u001B[1mINFO    \u001B[0m | \u001B[36mzooniverse.utils.data_format\u001B[0m:\u001B[36mprocess_zooniverse_phases_flat\u001B[0m:\u001B[36m96\u001B[0m - \u001B[1mfiltering the image dataset for  2737 images\u001B[0m\n",
      "\u001B[32m2024-04-08 13:20:02.924\u001B[0m | \u001B[1mINFO    \u001B[0m | \u001B[36mzooniverse.utils.data_format\u001B[0m:\u001B[36mprocess_zooniverse_phases_flat\u001B[0m:\u001B[36m99\u001B[0m - \u001B[1mworking with 1014 images after filtering with image_names\u001B[0m\n",
      "\u001B[32m2024-04-08 13:20:02.925\u001B[0m | \u001B[1mINFO    \u001B[0m | \u001B[36mzooniverse.utils.data_format\u001B[0m:\u001B[36mprocess_zooniverse_phases_flat\u001B[0m:\u001B[36m102\u001B[0m - \u001B[1mfiltering the image dataset for  107 subject_ids\u001B[0m\n",
      "\u001B[32m2024-04-08 13:20:02.927\u001B[0m | \u001B[1mINFO    \u001B[0m | \u001B[36mzooniverse.utils.data_format\u001B[0m:\u001B[36mprocess_zooniverse_phases_flat\u001B[0m:\u001B[36m105\u001B[0m - \u001B[1mworking with 107 images after filtering with subject_ids\u001B[0m\n",
      "\u001B[32m2024-04-08 13:20:04.069\u001B[0m | \u001B[1mINFO    \u001B[0m | \u001B[36mzooniverse.analysis\u001B[0m:\u001B[36mget_all_image_paths\u001B[0m:\u001B[36m72\u001B[0m - \u001B[1mdone with processing Image Metadata.\u001B[0m\n",
      "\u001B[32m2024-04-08 13:20:04.095\u001B[0m | \u001B[33m\u001B[1mWARNING \u001B[0m | \u001B[36mzooniverse.utils.filters\u001B[0m:\u001B[36mfilter_remove_marks\u001B[0m:\u001B[36m38\u001B[0m - \u001B[33m\u001B[1mremoved 64 partial marks\u001B[0m\n",
      "\u001B[32m2024-04-08 13:20:04.096\u001B[0m | \u001B[33m\u001B[1mWARNING \u001B[0m | \u001B[36mzooniverse.utils.filters\u001B[0m:\u001B[36mfilter_remove_marks\u001B[0m:\u001B[36m39\u001B[0m - \u001B[33m\u001B[1mAfter filter_func 107 images are left\u001B[0m\n",
      "\u001B[32m2024-04-08 13:20:04.098\u001B[0m | \u001B[1mINFO    \u001B[0m | \u001B[36mzooniverse.utils.data_format\u001B[0m:\u001B[36mprocess_zooniverse_phases_flat\u001B[0m:\u001B[36m121\u001B[0m - \u001B[1mworking with 3047 records after filtering with filter_func\u001B[0m\n",
      "\u001B[32m2024-04-08 13:20:04.103\u001B[0m | \u001B[1mINFO    \u001B[0m | \u001B[36mzooniverse.utils.data_format\u001B[0m:\u001B[36mdata_prep\u001B[0m:\u001B[36m370\u001B[0m - \u001B[1mworking with 3047 records after process function 'process_zooniverse_phases'\u001B[0m\n",
      "\u001B[32m2024-04-08 13:20:04.126\u001B[0m | \u001B[1mINFO    \u001B[0m | \u001B[36mzooniverse.utils.data_format\u001B[0m:\u001B[36mdata_prep\u001B[0m:\u001B[36m372\u001B[0m - \u001B[1msaved finished dataset to /Users/christian/data/zooniverse/2024_04_08_analysis/Iguanas 1st launch/flat_dataset_filtered_Iguanas 1st launch.csv\u001B[0m\n"
     ]
    },
    {
     "data": {
      "text/html": [
       "<div>\n",
       "<style scoped>\n",
       "    .dataframe tbody tr th:only-of-type {\n",
       "        vertical-align: middle;\n",
       "    }\n",
       "\n",
       "    .dataframe tbody tr th {\n",
       "        vertical-align: top;\n",
       "    }\n",
       "\n",
       "    .dataframe thead th {\n",
       "        text-align: right;\n",
       "    }\n",
       "</style>\n",
       "<table border=\"1\" class=\"dataframe\">\n",
       "  <thead>\n",
       "    <tr style=\"text-align: right;\">\n",
       "      <th></th>\n",
       "      <th>filename</th>\n",
       "      <th>images</th>\n",
       "    </tr>\n",
       "  </thead>\n",
       "  <tbody>\n",
       "    <tr>\n",
       "      <th>0</th>\n",
       "      <td>flat_dataset_Iguanas 1st launch.csv</td>\n",
       "      <td>8260</td>\n",
       "    </tr>\n",
       "    <tr>\n",
       "      <th>1</th>\n",
       "      <td>1st launch</td>\n",
       "      <td>2737</td>\n",
       "    </tr>\n",
       "    <tr>\n",
       "      <th>2</th>\n",
       "      <td>expert-GS-1stphase.csv</td>\n",
       "      <td>2733</td>\n",
       "    </tr>\n",
       "    <tr>\n",
       "      <th>3</th>\n",
       "      <td>1-T2-GS-results-5th-0s.csv</td>\n",
       "      <td>107</td>\n",
       "    </tr>\n",
       "    <tr>\n",
       "      <th>4</th>\n",
       "      <td>flat_dataset_filtered_Iguanas 1st launch.csv</td>\n",
       "      <td>107</td>\n",
       "    </tr>\n",
       "  </tbody>\n",
       "</table>\n",
       "</div>"
      ],
      "text/plain": [
       "                                       filename  images\n",
       "0           flat_dataset_Iguanas 1st launch.csv    8260\n",
       "1                                    1st launch    2737\n",
       "2                        expert-GS-1stphase.csv    2733\n",
       "3                    1-T2-GS-results-5th-0s.csv     107\n",
       "4  flat_dataset_filtered_Iguanas 1st launch.csv     107"
      ]
     },
     "execution_count": 17,
     "metadata": {},
     "output_type": "execute_result"
    }
   ],
   "source": [
    "from zooniverse.utils.data_format import data_prep\n",
    "use_gold_standard_subset = \"expert_goldstandard\"\n",
    "ds_stats = data_prep(phase_tag=phase_tag, \n",
    "                         output_path=output_path, \n",
    "                         input_path=input_path,\n",
    "                         filter_combination=use_gold_standard_subset, \n",
    "                         config=config)\n",
    "\n",
    "ds_stats"
   ]
  },
  {
   "cell_type": "code",
   "execution_count": 18,
   "id": "def0d8a0a3f902a0",
   "metadata": {
    "ExecuteTime": {
     "end_time": "2024-04-08T11:14:45.024469Z",
     "start_time": "2024-04-08T11:14:44.974437Z"
    },
    "collapsed": false
   },
   "outputs": [
    {
     "data": {
      "text/html": [
       "<div>\n",
       "<style scoped>\n",
       "    .dataframe tbody tr th:only-of-type {\n",
       "        vertical-align: middle;\n",
       "    }\n",
       "\n",
       "    .dataframe tbody tr th {\n",
       "        vertical-align: top;\n",
       "    }\n",
       "\n",
       "    .dataframe thead th {\n",
       "        text-align: right;\n",
       "    }\n",
       "</style>\n",
       "<table border=\"1\" class=\"dataframe\">\n",
       "  <thead>\n",
       "    <tr style=\"text-align: right;\">\n",
       "      <th></th>\n",
       "      <th>workflow_id</th>\n",
       "      <th>workflow_version</th>\n",
       "      <th>image_name</th>\n",
       "      <th>subject_id</th>\n",
       "      <th>x</th>\n",
       "      <th>y</th>\n",
       "      <th>tool_label</th>\n",
       "      <th>phase_tag</th>\n",
       "      <th>user_id</th>\n",
       "      <th>user_name</th>\n",
       "    </tr>\n",
       "    <tr>\n",
       "      <th>flight_site_code</th>\n",
       "      <th></th>\n",
       "      <th></th>\n",
       "      <th></th>\n",
       "      <th></th>\n",
       "      <th></th>\n",
       "      <th></th>\n",
       "      <th></th>\n",
       "      <th></th>\n",
       "      <th></th>\n",
       "      <th></th>\n",
       "    </tr>\n",
       "  </thead>\n",
       "  <tbody>\n",
       "    <tr>\n",
       "      <th>SFM1</th>\n",
       "      <td>14370</td>\n",
       "      <td>134.236</td>\n",
       "      <td>SFM01-2-2-1_293.jpg</td>\n",
       "      <td>47969478</td>\n",
       "      <td>368.550781</td>\n",
       "      <td>314.019531</td>\n",
       "      <td>Partial iguana</td>\n",
       "      <td>Iguanas 1st launch</td>\n",
       "      <td>2137916.0</td>\n",
       "      <td>PatrickWise</td>\n",
       "    </tr>\n",
       "    <tr>\n",
       "      <th>SFM1</th>\n",
       "      <td>14370</td>\n",
       "      <td>134.236</td>\n",
       "      <td>SFM01-2-2-1_293.jpg</td>\n",
       "      <td>47969478</td>\n",
       "      <td>317.347656</td>\n",
       "      <td>328.074219</td>\n",
       "      <td>Partial iguana</td>\n",
       "      <td>Iguanas 1st launch</td>\n",
       "      <td>2137916.0</td>\n",
       "      <td>PatrickWise</td>\n",
       "    </tr>\n",
       "    <tr>\n",
       "      <th>SFM1</th>\n",
       "      <td>14370</td>\n",
       "      <td>134.236</td>\n",
       "      <td>SFM01-2-2-1_293.jpg</td>\n",
       "      <td>47969478</td>\n",
       "      <td>278.011719</td>\n",
       "      <td>311.691406</td>\n",
       "      <td>Partial iguana</td>\n",
       "      <td>Iguanas 1st launch</td>\n",
       "      <td>2137916.0</td>\n",
       "      <td>PatrickWise</td>\n",
       "    </tr>\n",
       "    <tr>\n",
       "      <th>SFM1</th>\n",
       "      <td>14370</td>\n",
       "      <td>134.236</td>\n",
       "      <td>SFM01-2-2-1_293.jpg</td>\n",
       "      <td>47969478</td>\n",
       "      <td>385.480804</td>\n",
       "      <td>314.101715</td>\n",
       "      <td>Others (females, young males, juveniles and ta...</td>\n",
       "      <td>Iguanas 1st launch</td>\n",
       "      <td>1911549.0</td>\n",
       "      <td>Darkstar1977</td>\n",
       "    </tr>\n",
       "    <tr>\n",
       "      <th>SFM1</th>\n",
       "      <td>14370</td>\n",
       "      <td>134.236</td>\n",
       "      <td>SFM01-2-2-1_293.jpg</td>\n",
       "      <td>47969478</td>\n",
       "      <td>297.649719</td>\n",
       "      <td>333.019196</td>\n",
       "      <td>Others (females, young males, juveniles and ta...</td>\n",
       "      <td>Iguanas 1st launch</td>\n",
       "      <td>1911549.0</td>\n",
       "      <td>Darkstar1977</td>\n",
       "    </tr>\n",
       "    <tr>\n",
       "      <th>SFM1</th>\n",
       "      <td>14370</td>\n",
       "      <td>134.236</td>\n",
       "      <td>SFM01-2-2-1_293.jpg</td>\n",
       "      <td>47969478</td>\n",
       "      <td>308.459686</td>\n",
       "      <td>372.205383</td>\n",
       "      <td>Others (females, young males, juveniles and ta...</td>\n",
       "      <td>Iguanas 1st launch</td>\n",
       "      <td>1911549.0</td>\n",
       "      <td>Darkstar1977</td>\n",
       "    </tr>\n",
       "    <tr>\n",
       "      <th>SFM1</th>\n",
       "      <td>14370</td>\n",
       "      <td>134.236</td>\n",
       "      <td>SFM01-2-2-1_293.jpg</td>\n",
       "      <td>47969478</td>\n",
       "      <td>357.104614</td>\n",
       "      <td>391.122833</td>\n",
       "      <td>Others (females, young males, juveniles and ta...</td>\n",
       "      <td>Iguanas 1st launch</td>\n",
       "      <td>1911549.0</td>\n",
       "      <td>Darkstar1977</td>\n",
       "    </tr>\n",
       "    <tr>\n",
       "      <th>SFM1</th>\n",
       "      <td>14370</td>\n",
       "      <td>134.236</td>\n",
       "      <td>SFM01-2-2-1_293.jpg</td>\n",
       "      <td>47969478</td>\n",
       "      <td>385.480804</td>\n",
       "      <td>358.692902</td>\n",
       "      <td>Others (females, young males, juveniles and ta...</td>\n",
       "      <td>Iguanas 1st launch</td>\n",
       "      <td>1911549.0</td>\n",
       "      <td>Darkstar1977</td>\n",
       "    </tr>\n",
       "    <tr>\n",
       "      <th>SFM1</th>\n",
       "      <td>14370</td>\n",
       "      <td>134.236</td>\n",
       "      <td>SFM01-2-2-1_293.jpg</td>\n",
       "      <td>47969478</td>\n",
       "      <td>334.133392</td>\n",
       "      <td>335.721680</td>\n",
       "      <td>Others (females, young males, juveniles and ta...</td>\n",
       "      <td>Iguanas 1st launch</td>\n",
       "      <td>1911549.0</td>\n",
       "      <td>Darkstar1977</td>\n",
       "    </tr>\n",
       "    <tr>\n",
       "      <th>SFM1</th>\n",
       "      <td>14370</td>\n",
       "      <td>134.236</td>\n",
       "      <td>SFM01-2-2-1_293.jpg</td>\n",
       "      <td>47969478</td>\n",
       "      <td>271.976013</td>\n",
       "      <td>160.059494</td>\n",
       "      <td>Others (females, young males, juveniles and ta...</td>\n",
       "      <td>Iguanas 1st launch</td>\n",
       "      <td>1911549.0</td>\n",
       "      <td>Darkstar1977</td>\n",
       "    </tr>\n",
       "    <tr>\n",
       "      <th>SFM1</th>\n",
       "      <td>14370</td>\n",
       "      <td>134.236</td>\n",
       "      <td>SFM01-2-2-1_293.jpg</td>\n",
       "      <td>47969478</td>\n",
       "      <td>247.653549</td>\n",
       "      <td>172.220734</td>\n",
       "      <td>Others (females, young males, juveniles and ta...</td>\n",
       "      <td>Iguanas 1st launch</td>\n",
       "      <td>1911549.0</td>\n",
       "      <td>Darkstar1977</td>\n",
       "    </tr>\n",
       "    <tr>\n",
       "      <th>SFM1</th>\n",
       "      <td>14370</td>\n",
       "      <td>134.236</td>\n",
       "      <td>SFM01-2-2-1_293.jpg</td>\n",
       "      <td>47969478</td>\n",
       "      <td>266.571014</td>\n",
       "      <td>180.328217</td>\n",
       "      <td>Others (females, young males, juveniles and ta...</td>\n",
       "      <td>Iguanas 1st launch</td>\n",
       "      <td>1911549.0</td>\n",
       "      <td>Darkstar1977</td>\n",
       "    </tr>\n",
       "    <tr>\n",
       "      <th>SFM1</th>\n",
       "      <td>14370</td>\n",
       "      <td>134.236</td>\n",
       "      <td>SFM01-2-2-1_293.jpg</td>\n",
       "      <td>47969478</td>\n",
       "      <td>369.232056</td>\n",
       "      <td>313.836273</td>\n",
       "      <td>Could be an iguana, not sure</td>\n",
       "      <td>Iguanas 1st launch</td>\n",
       "      <td>2165180.0</td>\n",
       "      <td>sopeyJoe1</td>\n",
       "    </tr>\n",
       "    <tr>\n",
       "      <th>SFM1</th>\n",
       "      <td>14370</td>\n",
       "      <td>134.236</td>\n",
       "      <td>SFM01-2-2-1_293.jpg</td>\n",
       "      <td>47969478</td>\n",
       "      <td>261.927734</td>\n",
       "      <td>160.379562</td>\n",
       "      <td>Could be an iguana, not sure</td>\n",
       "      <td>Iguanas 1st launch</td>\n",
       "      <td>2165180.0</td>\n",
       "      <td>sopeyJoe1</td>\n",
       "    </tr>\n",
       "    <tr>\n",
       "      <th>SFM1</th>\n",
       "      <td>14370</td>\n",
       "      <td>134.236</td>\n",
       "      <td>SFM01-2-2-1_293.jpg</td>\n",
       "      <td>47969478</td>\n",
       "      <td>360.468750</td>\n",
       "      <td>312.000000</td>\n",
       "      <td>Could be an iguana, not sure</td>\n",
       "      <td>Iguanas 1st launch</td>\n",
       "      <td>NaN</td>\n",
       "      <td>not-logged-in-bcac79bef32f402fb848</td>\n",
       "    </tr>\n",
       "    <tr>\n",
       "      <th>SFM1</th>\n",
       "      <td>14370</td>\n",
       "      <td>134.236</td>\n",
       "      <td>SFM01-2-2-1_293.jpg</td>\n",
       "      <td>47969478</td>\n",
       "      <td>259.468750</td>\n",
       "      <td>177.000000</td>\n",
       "      <td>Could be an iguana, not sure</td>\n",
       "      <td>Iguanas 1st launch</td>\n",
       "      <td>NaN</td>\n",
       "      <td>not-logged-in-bcac79bef32f402fb848</td>\n",
       "    </tr>\n",
       "    <tr>\n",
       "      <th>SFM1</th>\n",
       "      <td>14370</td>\n",
       "      <td>134.236</td>\n",
       "      <td>SFM01-2-2-1_293.jpg</td>\n",
       "      <td>47969478</td>\n",
       "      <td>372.212433</td>\n",
       "      <td>398.718628</td>\n",
       "      <td>Others (females, young males, juveniles and ta...</td>\n",
       "      <td>Iguanas 1st launch</td>\n",
       "      <td>1469510.0</td>\n",
       "      <td>Pamelavans</td>\n",
       "    </tr>\n",
       "    <tr>\n",
       "      <th>SFM1</th>\n",
       "      <td>14370</td>\n",
       "      <td>134.236</td>\n",
       "      <td>SFM01-2-2-1_293.jpg</td>\n",
       "      <td>47969478</td>\n",
       "      <td>323.482971</td>\n",
       "      <td>385.921143</td>\n",
       "      <td>Others (females, young males, juveniles and ta...</td>\n",
       "      <td>Iguanas 1st launch</td>\n",
       "      <td>1469510.0</td>\n",
       "      <td>Pamelavans</td>\n",
       "    </tr>\n",
       "    <tr>\n",
       "      <th>SFM1</th>\n",
       "      <td>14370</td>\n",
       "      <td>134.236</td>\n",
       "      <td>SFM01-2-2-1_293.jpg</td>\n",
       "      <td>47969478</td>\n",
       "      <td>396.577148</td>\n",
       "      <td>315.230316</td>\n",
       "      <td>Others (females, young males, juveniles and ta...</td>\n",
       "      <td>Iguanas 1st launch</td>\n",
       "      <td>1469510.0</td>\n",
       "      <td>Pamelavans</td>\n",
       "    </tr>\n",
       "    <tr>\n",
       "      <th>SFM1</th>\n",
       "      <td>14370</td>\n",
       "      <td>134.236</td>\n",
       "      <td>SFM01-2-2-1_293.jpg</td>\n",
       "      <td>47969478</td>\n",
       "      <td>330.183228</td>\n",
       "      <td>334.731262</td>\n",
       "      <td>Others (females, young males, juveniles and ta...</td>\n",
       "      <td>Iguanas 1st launch</td>\n",
       "      <td>1469510.0</td>\n",
       "      <td>Pamelavans</td>\n",
       "    </tr>\n",
       "    <tr>\n",
       "      <th>SFM1</th>\n",
       "      <td>14370</td>\n",
       "      <td>134.236</td>\n",
       "      <td>SFM01-2-2-1_293.jpg</td>\n",
       "      <td>47969478</td>\n",
       "      <td>291.808777</td>\n",
       "      <td>317.667938</td>\n",
       "      <td>Others (females, young males, juveniles and ta...</td>\n",
       "      <td>Iguanas 1st launch</td>\n",
       "      <td>1469510.0</td>\n",
       "      <td>Pamelavans</td>\n",
       "    </tr>\n",
       "    <tr>\n",
       "      <th>SFM1</th>\n",
       "      <td>14370</td>\n",
       "      <td>134.236</td>\n",
       "      <td>SFM01-2-2-1_293.jpg</td>\n",
       "      <td>47969478</td>\n",
       "      <td>397.186279</td>\n",
       "      <td>351.185120</td>\n",
       "      <td>Others (females, young males, juveniles and ta...</td>\n",
       "      <td>Iguanas 1st launch</td>\n",
       "      <td>1469510.0</td>\n",
       "      <td>Pamelavans</td>\n",
       "    </tr>\n",
       "    <tr>\n",
       "      <th>SFM1</th>\n",
       "      <td>14370</td>\n",
       "      <td>134.236</td>\n",
       "      <td>SFM01-2-2-1_293.jpg</td>\n",
       "      <td>47969478</td>\n",
       "      <td>177.357056</td>\n",
       "      <td>313.744781</td>\n",
       "      <td>Could be an iguana, not sure</td>\n",
       "      <td>Iguanas 1st launch</td>\n",
       "      <td>1469510.0</td>\n",
       "      <td>Pamelavans</td>\n",
       "    </tr>\n",
       "  </tbody>\n",
       "</table>\n",
       "</div>"
      ],
      "text/plain": [
       "                  workflow_id  workflow_version           image_name  \\\n",
       "flight_site_code                                                       \n",
       "SFM1                    14370           134.236  SFM01-2-2-1_293.jpg   \n",
       "SFM1                    14370           134.236  SFM01-2-2-1_293.jpg   \n",
       "SFM1                    14370           134.236  SFM01-2-2-1_293.jpg   \n",
       "SFM1                    14370           134.236  SFM01-2-2-1_293.jpg   \n",
       "SFM1                    14370           134.236  SFM01-2-2-1_293.jpg   \n",
       "SFM1                    14370           134.236  SFM01-2-2-1_293.jpg   \n",
       "SFM1                    14370           134.236  SFM01-2-2-1_293.jpg   \n",
       "SFM1                    14370           134.236  SFM01-2-2-1_293.jpg   \n",
       "SFM1                    14370           134.236  SFM01-2-2-1_293.jpg   \n",
       "SFM1                    14370           134.236  SFM01-2-2-1_293.jpg   \n",
       "SFM1                    14370           134.236  SFM01-2-2-1_293.jpg   \n",
       "SFM1                    14370           134.236  SFM01-2-2-1_293.jpg   \n",
       "SFM1                    14370           134.236  SFM01-2-2-1_293.jpg   \n",
       "SFM1                    14370           134.236  SFM01-2-2-1_293.jpg   \n",
       "SFM1                    14370           134.236  SFM01-2-2-1_293.jpg   \n",
       "SFM1                    14370           134.236  SFM01-2-2-1_293.jpg   \n",
       "SFM1                    14370           134.236  SFM01-2-2-1_293.jpg   \n",
       "SFM1                    14370           134.236  SFM01-2-2-1_293.jpg   \n",
       "SFM1                    14370           134.236  SFM01-2-2-1_293.jpg   \n",
       "SFM1                    14370           134.236  SFM01-2-2-1_293.jpg   \n",
       "SFM1                    14370           134.236  SFM01-2-2-1_293.jpg   \n",
       "SFM1                    14370           134.236  SFM01-2-2-1_293.jpg   \n",
       "SFM1                    14370           134.236  SFM01-2-2-1_293.jpg   \n",
       "\n",
       "                  subject_id           x           y  \\\n",
       "flight_site_code                                       \n",
       "SFM1                47969478  368.550781  314.019531   \n",
       "SFM1                47969478  317.347656  328.074219   \n",
       "SFM1                47969478  278.011719  311.691406   \n",
       "SFM1                47969478  385.480804  314.101715   \n",
       "SFM1                47969478  297.649719  333.019196   \n",
       "SFM1                47969478  308.459686  372.205383   \n",
       "SFM1                47969478  357.104614  391.122833   \n",
       "SFM1                47969478  385.480804  358.692902   \n",
       "SFM1                47969478  334.133392  335.721680   \n",
       "SFM1                47969478  271.976013  160.059494   \n",
       "SFM1                47969478  247.653549  172.220734   \n",
       "SFM1                47969478  266.571014  180.328217   \n",
       "SFM1                47969478  369.232056  313.836273   \n",
       "SFM1                47969478  261.927734  160.379562   \n",
       "SFM1                47969478  360.468750  312.000000   \n",
       "SFM1                47969478  259.468750  177.000000   \n",
       "SFM1                47969478  372.212433  398.718628   \n",
       "SFM1                47969478  323.482971  385.921143   \n",
       "SFM1                47969478  396.577148  315.230316   \n",
       "SFM1                47969478  330.183228  334.731262   \n",
       "SFM1                47969478  291.808777  317.667938   \n",
       "SFM1                47969478  397.186279  351.185120   \n",
       "SFM1                47969478  177.357056  313.744781   \n",
       "\n",
       "                                                         tool_label  \\\n",
       "flight_site_code                                                      \n",
       "SFM1                                                 Partial iguana   \n",
       "SFM1                                                 Partial iguana   \n",
       "SFM1                                                 Partial iguana   \n",
       "SFM1              Others (females, young males, juveniles and ta...   \n",
       "SFM1              Others (females, young males, juveniles and ta...   \n",
       "SFM1              Others (females, young males, juveniles and ta...   \n",
       "SFM1              Others (females, young males, juveniles and ta...   \n",
       "SFM1              Others (females, young males, juveniles and ta...   \n",
       "SFM1              Others (females, young males, juveniles and ta...   \n",
       "SFM1              Others (females, young males, juveniles and ta...   \n",
       "SFM1              Others (females, young males, juveniles and ta...   \n",
       "SFM1              Others (females, young males, juveniles and ta...   \n",
       "SFM1                                   Could be an iguana, not sure   \n",
       "SFM1                                   Could be an iguana, not sure   \n",
       "SFM1                                   Could be an iguana, not sure   \n",
       "SFM1                                   Could be an iguana, not sure   \n",
       "SFM1              Others (females, young males, juveniles and ta...   \n",
       "SFM1              Others (females, young males, juveniles and ta...   \n",
       "SFM1              Others (females, young males, juveniles and ta...   \n",
       "SFM1              Others (females, young males, juveniles and ta...   \n",
       "SFM1              Others (females, young males, juveniles and ta...   \n",
       "SFM1              Others (females, young males, juveniles and ta...   \n",
       "SFM1                                   Could be an iguana, not sure   \n",
       "\n",
       "                           phase_tag    user_id  \\\n",
       "flight_site_code                                  \n",
       "SFM1              Iguanas 1st launch  2137916.0   \n",
       "SFM1              Iguanas 1st launch  2137916.0   \n",
       "SFM1              Iguanas 1st launch  2137916.0   \n",
       "SFM1              Iguanas 1st launch  1911549.0   \n",
       "SFM1              Iguanas 1st launch  1911549.0   \n",
       "SFM1              Iguanas 1st launch  1911549.0   \n",
       "SFM1              Iguanas 1st launch  1911549.0   \n",
       "SFM1              Iguanas 1st launch  1911549.0   \n",
       "SFM1              Iguanas 1st launch  1911549.0   \n",
       "SFM1              Iguanas 1st launch  1911549.0   \n",
       "SFM1              Iguanas 1st launch  1911549.0   \n",
       "SFM1              Iguanas 1st launch  1911549.0   \n",
       "SFM1              Iguanas 1st launch  2165180.0   \n",
       "SFM1              Iguanas 1st launch  2165180.0   \n",
       "SFM1              Iguanas 1st launch        NaN   \n",
       "SFM1              Iguanas 1st launch        NaN   \n",
       "SFM1              Iguanas 1st launch  1469510.0   \n",
       "SFM1              Iguanas 1st launch  1469510.0   \n",
       "SFM1              Iguanas 1st launch  1469510.0   \n",
       "SFM1              Iguanas 1st launch  1469510.0   \n",
       "SFM1              Iguanas 1st launch  1469510.0   \n",
       "SFM1              Iguanas 1st launch  1469510.0   \n",
       "SFM1              Iguanas 1st launch  1469510.0   \n",
       "\n",
       "                                           user_name  \n",
       "flight_site_code                                      \n",
       "SFM1                                     PatrickWise  \n",
       "SFM1                                     PatrickWise  \n",
       "SFM1                                     PatrickWise  \n",
       "SFM1                                    Darkstar1977  \n",
       "SFM1                                    Darkstar1977  \n",
       "SFM1                                    Darkstar1977  \n",
       "SFM1                                    Darkstar1977  \n",
       "SFM1                                    Darkstar1977  \n",
       "SFM1                                    Darkstar1977  \n",
       "SFM1                                    Darkstar1977  \n",
       "SFM1                                    Darkstar1977  \n",
       "SFM1                                    Darkstar1977  \n",
       "SFM1                                       sopeyJoe1  \n",
       "SFM1                                       sopeyJoe1  \n",
       "SFM1              not-logged-in-bcac79bef32f402fb848  \n",
       "SFM1              not-logged-in-bcac79bef32f402fb848  \n",
       "SFM1                                      Pamelavans  \n",
       "SFM1                                      Pamelavans  \n",
       "SFM1                                      Pamelavans  \n",
       "SFM1                                      Pamelavans  \n",
       "SFM1                                      Pamelavans  \n",
       "SFM1                                      Pamelavans  \n",
       "SFM1                                      Pamelavans  "
      ]
     },
     "execution_count": 18,
     "metadata": {},
     "output_type": "execute_result"
    }
   ],
   "source": [
    "df_flat_data_prep = pd.read_csv(config[\"flat_dataset\"], sep=\",\", index_col=0)\n",
    "df_flat_data_prep[df_flat_data_prep.subject_id == subject_id_2]"
   ]
  },
  {
   "cell_type": "code",
   "execution_count": 19,
   "id": "b7488330cdad0437",
   "metadata": {
    "ExecuteTime": {
     "end_time": "2024-04-08T11:14:45.043415Z",
     "start_time": "2024-04-08T11:14:45.025475Z"
    },
    "collapsed": false
   },
   "outputs": [
    {
     "data": {
      "text/html": [
       "<div>\n",
       "<style scoped>\n",
       "    .dataframe tbody tr th:only-of-type {\n",
       "        vertical-align: middle;\n",
       "    }\n",
       "\n",
       "    .dataframe tbody tr th {\n",
       "        vertical-align: top;\n",
       "    }\n",
       "\n",
       "    .dataframe thead th {\n",
       "        text-align: right;\n",
       "    }\n",
       "</style>\n",
       "<table border=\"1\" class=\"dataframe\">\n",
       "  <thead>\n",
       "    <tr style=\"text-align: right;\">\n",
       "      <th></th>\n",
       "      <th>flight_site_code</th>\n",
       "      <th>workflow_id</th>\n",
       "      <th>workflow_version</th>\n",
       "      <th>image_name</th>\n",
       "      <th>subject_id</th>\n",
       "      <th>x</th>\n",
       "      <th>y</th>\n",
       "      <th>tool_label</th>\n",
       "      <th>phase_tag</th>\n",
       "      <th>user_id</th>\n",
       "      <th>user_name</th>\n",
       "      <th>mission_name</th>\n",
       "      <th>image_path</th>\n",
       "      <th>width</th>\n",
       "      <th>height</th>\n",
       "    </tr>\n",
       "  </thead>\n",
       "  <tbody>\n",
       "    <tr>\n",
       "      <th>1584</th>\n",
       "      <td>SFM1</td>\n",
       "      <td>14370</td>\n",
       "      <td>134.236</td>\n",
       "      <td>SFM01-2-2-1_293.jpg</td>\n",
       "      <td>47969478</td>\n",
       "      <td>385.480804</td>\n",
       "      <td>314.101715</td>\n",
       "      <td>Others (females, young males, juveniles and ta...</td>\n",
       "      <td>Iguanas 1st launch</td>\n",
       "      <td>1911549.0</td>\n",
       "      <td>Darkstar1977</td>\n",
       "      <td>SFM1</td>\n",
       "      <td>/Users/christian/data/zooniverse/Images/Zooniv...</td>\n",
       "      <td>667</td>\n",
       "      <td>649</td>\n",
       "    </tr>\n",
       "    <tr>\n",
       "      <th>1585</th>\n",
       "      <td>SFM1</td>\n",
       "      <td>14370</td>\n",
       "      <td>134.236</td>\n",
       "      <td>SFM01-2-2-1_293.jpg</td>\n",
       "      <td>47969478</td>\n",
       "      <td>297.649719</td>\n",
       "      <td>333.019196</td>\n",
       "      <td>Others (females, young males, juveniles and ta...</td>\n",
       "      <td>Iguanas 1st launch</td>\n",
       "      <td>1911549.0</td>\n",
       "      <td>Darkstar1977</td>\n",
       "      <td>SFM1</td>\n",
       "      <td>/Users/christian/data/zooniverse/Images/Zooniv...</td>\n",
       "      <td>667</td>\n",
       "      <td>649</td>\n",
       "    </tr>\n",
       "    <tr>\n",
       "      <th>1586</th>\n",
       "      <td>SFM1</td>\n",
       "      <td>14370</td>\n",
       "      <td>134.236</td>\n",
       "      <td>SFM01-2-2-1_293.jpg</td>\n",
       "      <td>47969478</td>\n",
       "      <td>308.459686</td>\n",
       "      <td>372.205383</td>\n",
       "      <td>Others (females, young males, juveniles and ta...</td>\n",
       "      <td>Iguanas 1st launch</td>\n",
       "      <td>1911549.0</td>\n",
       "      <td>Darkstar1977</td>\n",
       "      <td>SFM1</td>\n",
       "      <td>/Users/christian/data/zooniverse/Images/Zooniv...</td>\n",
       "      <td>667</td>\n",
       "      <td>649</td>\n",
       "    </tr>\n",
       "    <tr>\n",
       "      <th>1587</th>\n",
       "      <td>SFM1</td>\n",
       "      <td>14370</td>\n",
       "      <td>134.236</td>\n",
       "      <td>SFM01-2-2-1_293.jpg</td>\n",
       "      <td>47969478</td>\n",
       "      <td>357.104614</td>\n",
       "      <td>391.122833</td>\n",
       "      <td>Others (females, young males, juveniles and ta...</td>\n",
       "      <td>Iguanas 1st launch</td>\n",
       "      <td>1911549.0</td>\n",
       "      <td>Darkstar1977</td>\n",
       "      <td>SFM1</td>\n",
       "      <td>/Users/christian/data/zooniverse/Images/Zooniv...</td>\n",
       "      <td>667</td>\n",
       "      <td>649</td>\n",
       "    </tr>\n",
       "    <tr>\n",
       "      <th>1588</th>\n",
       "      <td>SFM1</td>\n",
       "      <td>14370</td>\n",
       "      <td>134.236</td>\n",
       "      <td>SFM01-2-2-1_293.jpg</td>\n",
       "      <td>47969478</td>\n",
       "      <td>385.480804</td>\n",
       "      <td>358.692902</td>\n",
       "      <td>Others (females, young males, juveniles and ta...</td>\n",
       "      <td>Iguanas 1st launch</td>\n",
       "      <td>1911549.0</td>\n",
       "      <td>Darkstar1977</td>\n",
       "      <td>SFM1</td>\n",
       "      <td>/Users/christian/data/zooniverse/Images/Zooniv...</td>\n",
       "      <td>667</td>\n",
       "      <td>649</td>\n",
       "    </tr>\n",
       "    <tr>\n",
       "      <th>1589</th>\n",
       "      <td>SFM1</td>\n",
       "      <td>14370</td>\n",
       "      <td>134.236</td>\n",
       "      <td>SFM01-2-2-1_293.jpg</td>\n",
       "      <td>47969478</td>\n",
       "      <td>334.133392</td>\n",
       "      <td>335.721680</td>\n",
       "      <td>Others (females, young males, juveniles and ta...</td>\n",
       "      <td>Iguanas 1st launch</td>\n",
       "      <td>1911549.0</td>\n",
       "      <td>Darkstar1977</td>\n",
       "      <td>SFM1</td>\n",
       "      <td>/Users/christian/data/zooniverse/Images/Zooniv...</td>\n",
       "      <td>667</td>\n",
       "      <td>649</td>\n",
       "    </tr>\n",
       "    <tr>\n",
       "      <th>1590</th>\n",
       "      <td>SFM1</td>\n",
       "      <td>14370</td>\n",
       "      <td>134.236</td>\n",
       "      <td>SFM01-2-2-1_293.jpg</td>\n",
       "      <td>47969478</td>\n",
       "      <td>271.976013</td>\n",
       "      <td>160.059494</td>\n",
       "      <td>Others (females, young males, juveniles and ta...</td>\n",
       "      <td>Iguanas 1st launch</td>\n",
       "      <td>1911549.0</td>\n",
       "      <td>Darkstar1977</td>\n",
       "      <td>SFM1</td>\n",
       "      <td>/Users/christian/data/zooniverse/Images/Zooniv...</td>\n",
       "      <td>667</td>\n",
       "      <td>649</td>\n",
       "    </tr>\n",
       "    <tr>\n",
       "      <th>1591</th>\n",
       "      <td>SFM1</td>\n",
       "      <td>14370</td>\n",
       "      <td>134.236</td>\n",
       "      <td>SFM01-2-2-1_293.jpg</td>\n",
       "      <td>47969478</td>\n",
       "      <td>247.653549</td>\n",
       "      <td>172.220734</td>\n",
       "      <td>Others (females, young males, juveniles and ta...</td>\n",
       "      <td>Iguanas 1st launch</td>\n",
       "      <td>1911549.0</td>\n",
       "      <td>Darkstar1977</td>\n",
       "      <td>SFM1</td>\n",
       "      <td>/Users/christian/data/zooniverse/Images/Zooniv...</td>\n",
       "      <td>667</td>\n",
       "      <td>649</td>\n",
       "    </tr>\n",
       "    <tr>\n",
       "      <th>1592</th>\n",
       "      <td>SFM1</td>\n",
       "      <td>14370</td>\n",
       "      <td>134.236</td>\n",
       "      <td>SFM01-2-2-1_293.jpg</td>\n",
       "      <td>47969478</td>\n",
       "      <td>266.571014</td>\n",
       "      <td>180.328217</td>\n",
       "      <td>Others (females, young males, juveniles and ta...</td>\n",
       "      <td>Iguanas 1st launch</td>\n",
       "      <td>1911549.0</td>\n",
       "      <td>Darkstar1977</td>\n",
       "      <td>SFM1</td>\n",
       "      <td>/Users/christian/data/zooniverse/Images/Zooniv...</td>\n",
       "      <td>667</td>\n",
       "      <td>649</td>\n",
       "    </tr>\n",
       "    <tr>\n",
       "      <th>1641</th>\n",
       "      <td>SFM1</td>\n",
       "      <td>14370</td>\n",
       "      <td>134.236</td>\n",
       "      <td>SFM01-2-2-1_293.jpg</td>\n",
       "      <td>47969478</td>\n",
       "      <td>369.232056</td>\n",
       "      <td>313.836273</td>\n",
       "      <td>Could be an iguana, not sure</td>\n",
       "      <td>Iguanas 1st launch</td>\n",
       "      <td>2165180.0</td>\n",
       "      <td>sopeyJoe1</td>\n",
       "      <td>SFM1</td>\n",
       "      <td>/Users/christian/data/zooniverse/Images/Zooniv...</td>\n",
       "      <td>667</td>\n",
       "      <td>649</td>\n",
       "    </tr>\n",
       "    <tr>\n",
       "      <th>1642</th>\n",
       "      <td>SFM1</td>\n",
       "      <td>14370</td>\n",
       "      <td>134.236</td>\n",
       "      <td>SFM01-2-2-1_293.jpg</td>\n",
       "      <td>47969478</td>\n",
       "      <td>261.927734</td>\n",
       "      <td>160.379562</td>\n",
       "      <td>Could be an iguana, not sure</td>\n",
       "      <td>Iguanas 1st launch</td>\n",
       "      <td>2165180.0</td>\n",
       "      <td>sopeyJoe1</td>\n",
       "      <td>SFM1</td>\n",
       "      <td>/Users/christian/data/zooniverse/Images/Zooniv...</td>\n",
       "      <td>667</td>\n",
       "      <td>649</td>\n",
       "    </tr>\n",
       "    <tr>\n",
       "      <th>1677</th>\n",
       "      <td>SFM1</td>\n",
       "      <td>14370</td>\n",
       "      <td>134.236</td>\n",
       "      <td>SFM01-2-2-1_293.jpg</td>\n",
       "      <td>47969478</td>\n",
       "      <td>360.468750</td>\n",
       "      <td>312.000000</td>\n",
       "      <td>Could be an iguana, not sure</td>\n",
       "      <td>Iguanas 1st launch</td>\n",
       "      <td>NaN</td>\n",
       "      <td>not-logged-in-bcac79bef32f402fb848</td>\n",
       "      <td>SFM1</td>\n",
       "      <td>/Users/christian/data/zooniverse/Images/Zooniv...</td>\n",
       "      <td>667</td>\n",
       "      <td>649</td>\n",
       "    </tr>\n",
       "    <tr>\n",
       "      <th>1678</th>\n",
       "      <td>SFM1</td>\n",
       "      <td>14370</td>\n",
       "      <td>134.236</td>\n",
       "      <td>SFM01-2-2-1_293.jpg</td>\n",
       "      <td>47969478</td>\n",
       "      <td>259.468750</td>\n",
       "      <td>177.000000</td>\n",
       "      <td>Could be an iguana, not sure</td>\n",
       "      <td>Iguanas 1st launch</td>\n",
       "      <td>NaN</td>\n",
       "      <td>not-logged-in-bcac79bef32f402fb848</td>\n",
       "      <td>SFM1</td>\n",
       "      <td>/Users/christian/data/zooniverse/Images/Zooniv...</td>\n",
       "      <td>667</td>\n",
       "      <td>649</td>\n",
       "    </tr>\n",
       "    <tr>\n",
       "      <th>2006</th>\n",
       "      <td>SFM1</td>\n",
       "      <td>14370</td>\n",
       "      <td>134.236</td>\n",
       "      <td>SFM01-2-2-1_293.jpg</td>\n",
       "      <td>47969478</td>\n",
       "      <td>372.212433</td>\n",
       "      <td>398.718628</td>\n",
       "      <td>Others (females, young males, juveniles and ta...</td>\n",
       "      <td>Iguanas 1st launch</td>\n",
       "      <td>1469510.0</td>\n",
       "      <td>Pamelavans</td>\n",
       "      <td>SFM1</td>\n",
       "      <td>/Users/christian/data/zooniverse/Images/Zooniv...</td>\n",
       "      <td>667</td>\n",
       "      <td>649</td>\n",
       "    </tr>\n",
       "    <tr>\n",
       "      <th>2007</th>\n",
       "      <td>SFM1</td>\n",
       "      <td>14370</td>\n",
       "      <td>134.236</td>\n",
       "      <td>SFM01-2-2-1_293.jpg</td>\n",
       "      <td>47969478</td>\n",
       "      <td>323.482971</td>\n",
       "      <td>385.921143</td>\n",
       "      <td>Others (females, young males, juveniles and ta...</td>\n",
       "      <td>Iguanas 1st launch</td>\n",
       "      <td>1469510.0</td>\n",
       "      <td>Pamelavans</td>\n",
       "      <td>SFM1</td>\n",
       "      <td>/Users/christian/data/zooniverse/Images/Zooniv...</td>\n",
       "      <td>667</td>\n",
       "      <td>649</td>\n",
       "    </tr>\n",
       "    <tr>\n",
       "      <th>2008</th>\n",
       "      <td>SFM1</td>\n",
       "      <td>14370</td>\n",
       "      <td>134.236</td>\n",
       "      <td>SFM01-2-2-1_293.jpg</td>\n",
       "      <td>47969478</td>\n",
       "      <td>396.577148</td>\n",
       "      <td>315.230316</td>\n",
       "      <td>Others (females, young males, juveniles and ta...</td>\n",
       "      <td>Iguanas 1st launch</td>\n",
       "      <td>1469510.0</td>\n",
       "      <td>Pamelavans</td>\n",
       "      <td>SFM1</td>\n",
       "      <td>/Users/christian/data/zooniverse/Images/Zooniv...</td>\n",
       "      <td>667</td>\n",
       "      <td>649</td>\n",
       "    </tr>\n",
       "    <tr>\n",
       "      <th>2009</th>\n",
       "      <td>SFM1</td>\n",
       "      <td>14370</td>\n",
       "      <td>134.236</td>\n",
       "      <td>SFM01-2-2-1_293.jpg</td>\n",
       "      <td>47969478</td>\n",
       "      <td>330.183228</td>\n",
       "      <td>334.731262</td>\n",
       "      <td>Others (females, young males, juveniles and ta...</td>\n",
       "      <td>Iguanas 1st launch</td>\n",
       "      <td>1469510.0</td>\n",
       "      <td>Pamelavans</td>\n",
       "      <td>SFM1</td>\n",
       "      <td>/Users/christian/data/zooniverse/Images/Zooniv...</td>\n",
       "      <td>667</td>\n",
       "      <td>649</td>\n",
       "    </tr>\n",
       "    <tr>\n",
       "      <th>2010</th>\n",
       "      <td>SFM1</td>\n",
       "      <td>14370</td>\n",
       "      <td>134.236</td>\n",
       "      <td>SFM01-2-2-1_293.jpg</td>\n",
       "      <td>47969478</td>\n",
       "      <td>291.808777</td>\n",
       "      <td>317.667938</td>\n",
       "      <td>Others (females, young males, juveniles and ta...</td>\n",
       "      <td>Iguanas 1st launch</td>\n",
       "      <td>1469510.0</td>\n",
       "      <td>Pamelavans</td>\n",
       "      <td>SFM1</td>\n",
       "      <td>/Users/christian/data/zooniverse/Images/Zooniv...</td>\n",
       "      <td>667</td>\n",
       "      <td>649</td>\n",
       "    </tr>\n",
       "    <tr>\n",
       "      <th>2011</th>\n",
       "      <td>SFM1</td>\n",
       "      <td>14370</td>\n",
       "      <td>134.236</td>\n",
       "      <td>SFM01-2-2-1_293.jpg</td>\n",
       "      <td>47969478</td>\n",
       "      <td>397.186279</td>\n",
       "      <td>351.185120</td>\n",
       "      <td>Others (females, young males, juveniles and ta...</td>\n",
       "      <td>Iguanas 1st launch</td>\n",
       "      <td>1469510.0</td>\n",
       "      <td>Pamelavans</td>\n",
       "      <td>SFM1</td>\n",
       "      <td>/Users/christian/data/zooniverse/Images/Zooniv...</td>\n",
       "      <td>667</td>\n",
       "      <td>649</td>\n",
       "    </tr>\n",
       "    <tr>\n",
       "      <th>2012</th>\n",
       "      <td>SFM1</td>\n",
       "      <td>14370</td>\n",
       "      <td>134.236</td>\n",
       "      <td>SFM01-2-2-1_293.jpg</td>\n",
       "      <td>47969478</td>\n",
       "      <td>177.357056</td>\n",
       "      <td>313.744781</td>\n",
       "      <td>Could be an iguana, not sure</td>\n",
       "      <td>Iguanas 1st launch</td>\n",
       "      <td>1469510.0</td>\n",
       "      <td>Pamelavans</td>\n",
       "      <td>SFM1</td>\n",
       "      <td>/Users/christian/data/zooniverse/Images/Zooniv...</td>\n",
       "      <td>667</td>\n",
       "      <td>649</td>\n",
       "    </tr>\n",
       "  </tbody>\n",
       "</table>\n",
       "</div>"
      ],
      "text/plain": [
       "     flight_site_code  workflow_id  workflow_version           image_name  \\\n",
       "1584             SFM1        14370           134.236  SFM01-2-2-1_293.jpg   \n",
       "1585             SFM1        14370           134.236  SFM01-2-2-1_293.jpg   \n",
       "1586             SFM1        14370           134.236  SFM01-2-2-1_293.jpg   \n",
       "1587             SFM1        14370           134.236  SFM01-2-2-1_293.jpg   \n",
       "1588             SFM1        14370           134.236  SFM01-2-2-1_293.jpg   \n",
       "1589             SFM1        14370           134.236  SFM01-2-2-1_293.jpg   \n",
       "1590             SFM1        14370           134.236  SFM01-2-2-1_293.jpg   \n",
       "1591             SFM1        14370           134.236  SFM01-2-2-1_293.jpg   \n",
       "1592             SFM1        14370           134.236  SFM01-2-2-1_293.jpg   \n",
       "1641             SFM1        14370           134.236  SFM01-2-2-1_293.jpg   \n",
       "1642             SFM1        14370           134.236  SFM01-2-2-1_293.jpg   \n",
       "1677             SFM1        14370           134.236  SFM01-2-2-1_293.jpg   \n",
       "1678             SFM1        14370           134.236  SFM01-2-2-1_293.jpg   \n",
       "2006             SFM1        14370           134.236  SFM01-2-2-1_293.jpg   \n",
       "2007             SFM1        14370           134.236  SFM01-2-2-1_293.jpg   \n",
       "2008             SFM1        14370           134.236  SFM01-2-2-1_293.jpg   \n",
       "2009             SFM1        14370           134.236  SFM01-2-2-1_293.jpg   \n",
       "2010             SFM1        14370           134.236  SFM01-2-2-1_293.jpg   \n",
       "2011             SFM1        14370           134.236  SFM01-2-2-1_293.jpg   \n",
       "2012             SFM1        14370           134.236  SFM01-2-2-1_293.jpg   \n",
       "\n",
       "      subject_id           x           y  \\\n",
       "1584    47969478  385.480804  314.101715   \n",
       "1585    47969478  297.649719  333.019196   \n",
       "1586    47969478  308.459686  372.205383   \n",
       "1587    47969478  357.104614  391.122833   \n",
       "1588    47969478  385.480804  358.692902   \n",
       "1589    47969478  334.133392  335.721680   \n",
       "1590    47969478  271.976013  160.059494   \n",
       "1591    47969478  247.653549  172.220734   \n",
       "1592    47969478  266.571014  180.328217   \n",
       "1641    47969478  369.232056  313.836273   \n",
       "1642    47969478  261.927734  160.379562   \n",
       "1677    47969478  360.468750  312.000000   \n",
       "1678    47969478  259.468750  177.000000   \n",
       "2006    47969478  372.212433  398.718628   \n",
       "2007    47969478  323.482971  385.921143   \n",
       "2008    47969478  396.577148  315.230316   \n",
       "2009    47969478  330.183228  334.731262   \n",
       "2010    47969478  291.808777  317.667938   \n",
       "2011    47969478  397.186279  351.185120   \n",
       "2012    47969478  177.357056  313.744781   \n",
       "\n",
       "                                             tool_label           phase_tag  \\\n",
       "1584  Others (females, young males, juveniles and ta...  Iguanas 1st launch   \n",
       "1585  Others (females, young males, juveniles and ta...  Iguanas 1st launch   \n",
       "1586  Others (females, young males, juveniles and ta...  Iguanas 1st launch   \n",
       "1587  Others (females, young males, juveniles and ta...  Iguanas 1st launch   \n",
       "1588  Others (females, young males, juveniles and ta...  Iguanas 1st launch   \n",
       "1589  Others (females, young males, juveniles and ta...  Iguanas 1st launch   \n",
       "1590  Others (females, young males, juveniles and ta...  Iguanas 1st launch   \n",
       "1591  Others (females, young males, juveniles and ta...  Iguanas 1st launch   \n",
       "1592  Others (females, young males, juveniles and ta...  Iguanas 1st launch   \n",
       "1641                       Could be an iguana, not sure  Iguanas 1st launch   \n",
       "1642                       Could be an iguana, not sure  Iguanas 1st launch   \n",
       "1677                       Could be an iguana, not sure  Iguanas 1st launch   \n",
       "1678                       Could be an iguana, not sure  Iguanas 1st launch   \n",
       "2006  Others (females, young males, juveniles and ta...  Iguanas 1st launch   \n",
       "2007  Others (females, young males, juveniles and ta...  Iguanas 1st launch   \n",
       "2008  Others (females, young males, juveniles and ta...  Iguanas 1st launch   \n",
       "2009  Others (females, young males, juveniles and ta...  Iguanas 1st launch   \n",
       "2010  Others (females, young males, juveniles and ta...  Iguanas 1st launch   \n",
       "2011  Others (females, young males, juveniles and ta...  Iguanas 1st launch   \n",
       "2012                       Could be an iguana, not sure  Iguanas 1st launch   \n",
       "\n",
       "        user_id                           user_name mission_name  \\\n",
       "1584  1911549.0                        Darkstar1977         SFM1   \n",
       "1585  1911549.0                        Darkstar1977         SFM1   \n",
       "1586  1911549.0                        Darkstar1977         SFM1   \n",
       "1587  1911549.0                        Darkstar1977         SFM1   \n",
       "1588  1911549.0                        Darkstar1977         SFM1   \n",
       "1589  1911549.0                        Darkstar1977         SFM1   \n",
       "1590  1911549.0                        Darkstar1977         SFM1   \n",
       "1591  1911549.0                        Darkstar1977         SFM1   \n",
       "1592  1911549.0                        Darkstar1977         SFM1   \n",
       "1641  2165180.0                           sopeyJoe1         SFM1   \n",
       "1642  2165180.0                           sopeyJoe1         SFM1   \n",
       "1677        NaN  not-logged-in-bcac79bef32f402fb848         SFM1   \n",
       "1678        NaN  not-logged-in-bcac79bef32f402fb848         SFM1   \n",
       "2006  1469510.0                          Pamelavans         SFM1   \n",
       "2007  1469510.0                          Pamelavans         SFM1   \n",
       "2008  1469510.0                          Pamelavans         SFM1   \n",
       "2009  1469510.0                          Pamelavans         SFM1   \n",
       "2010  1469510.0                          Pamelavans         SFM1   \n",
       "2011  1469510.0                          Pamelavans         SFM1   \n",
       "2012  1469510.0                          Pamelavans         SFM1   \n",
       "\n",
       "                                             image_path  width  height  \n",
       "1584  /Users/christian/data/zooniverse/Images/Zooniv...    667     649  \n",
       "1585  /Users/christian/data/zooniverse/Images/Zooniv...    667     649  \n",
       "1586  /Users/christian/data/zooniverse/Images/Zooniv...    667     649  \n",
       "1587  /Users/christian/data/zooniverse/Images/Zooniv...    667     649  \n",
       "1588  /Users/christian/data/zooniverse/Images/Zooniv...    667     649  \n",
       "1589  /Users/christian/data/zooniverse/Images/Zooniv...    667     649  \n",
       "1590  /Users/christian/data/zooniverse/Images/Zooniv...    667     649  \n",
       "1591  /Users/christian/data/zooniverse/Images/Zooniv...    667     649  \n",
       "1592  /Users/christian/data/zooniverse/Images/Zooniv...    667     649  \n",
       "1641  /Users/christian/data/zooniverse/Images/Zooniv...    667     649  \n",
       "1642  /Users/christian/data/zooniverse/Images/Zooniv...    667     649  \n",
       "1677  /Users/christian/data/zooniverse/Images/Zooniv...    667     649  \n",
       "1678  /Users/christian/data/zooniverse/Images/Zooniv...    667     649  \n",
       "2006  /Users/christian/data/zooniverse/Images/Zooniv...    667     649  \n",
       "2007  /Users/christian/data/zooniverse/Images/Zooniv...    667     649  \n",
       "2008  /Users/christian/data/zooniverse/Images/Zooniv...    667     649  \n",
       "2009  /Users/christian/data/zooniverse/Images/Zooniv...    667     649  \n",
       "2010  /Users/christian/data/zooniverse/Images/Zooniv...    667     649  \n",
       "2011  /Users/christian/data/zooniverse/Images/Zooniv...    667     649  \n",
       "2012  /Users/christian/data/zooniverse/Images/Zooniv...    667     649  "
      ]
     },
     "execution_count": 19,
     "metadata": {},
     "output_type": "execute_result"
    }
   ],
   "source": [
    "df_merged_data_prep = pd.read_csv(config[\"merged_dataset\"], sep=\",\", index_col=0)\n",
    "df_merged_data_prep[df_merged_data_prep.subject_id == subject_id_2]"
   ]
  },
  {
   "cell_type": "code",
   "execution_count": 20,
   "id": "2c06fa3faca35b31",
   "metadata": {
    "ExecuteTime": {
     "end_time": "2024-04-08T11:16:32.470116Z",
     "start_time": "2024-04-08T11:16:32.463166Z"
    },
    "collapsed": false
   },
   "outputs": [
    {
     "data": {
      "text/plain": [
       "[177,\n",
       " 247,\n",
       " 259,\n",
       " 261,\n",
       " 266,\n",
       " 271,\n",
       " 291,\n",
       " 297,\n",
       " 308,\n",
       " 323,\n",
       " 330,\n",
       " 334,\n",
       " 357,\n",
       " 360,\n",
       " 369,\n",
       " 372,\n",
       " 385,\n",
       " 385,\n",
       " 396,\n",
       " 397]"
      ]
     },
     "execution_count": 20,
     "metadata": {},
     "output_type": "execute_result"
    }
   ],
   "source": [
    "sorted([int(x) for x in list(df_merged_data_prep[df_merged_data_prep.subject_id == subject_id_2].x)])"
   ]
  },
  {
   "cell_type": "code",
   "execution_count": 21,
   "id": "61dff7b574279617",
   "metadata": {
    "ExecuteTime": {
     "end_time": "2024-04-08T11:16:47.346827Z",
     "start_time": "2024-04-08T11:16:47.342204Z"
    },
    "collapsed": false
   },
   "outputs": [
    {
     "data": {
      "text/plain": [
       "[177,\n",
       " 247,\n",
       " 259,\n",
       " 261,\n",
       " 266,\n",
       " 271,\n",
       " 291,\n",
       " 297,\n",
       " 308,\n",
       " 323,\n",
       " 330,\n",
       " 334,\n",
       " 357,\n",
       " 360,\n",
       " 369,\n",
       " 372,\n",
       " 385,\n",
       " 385,\n",
       " 396,\n",
       " 397]"
      ]
     },
     "execution_count": 21,
     "metadata": {},
     "output_type": "execute_result"
    }
   ],
   "source": [
    "sorted([int(x) for x in list(df_panotes_point_extractor_r_ex_dropped.merged_x)])"
   ]
  },
  {
   "cell_type": "code",
   "execution_count": 22,
   "id": "1ae990675a702f34",
   "metadata": {
    "ExecuteTime": {
     "end_time": "2024-04-08T11:17:59.404915Z",
     "start_time": "2024-04-08T11:17:59.400306Z"
    },
    "collapsed": false
   },
   "outputs": [],
   "source": [
    "## both methods yield the same coordinate lists\n",
    "assert sorted([int(x) for x in list(df_merged_data_prep[df_merged_data_prep.subject_id == subject_id_2].x)]) == sorted([int(x) for x in list(df_panotes_point_extractor_r_ex_droped.merged_x)]), \"The x coordinates are not the same\""
   ]
  },
  {
   "cell_type": "code",
   "execution_count": null,
   "id": "696c2de0248282ff",
   "metadata": {
    "ExecuteTime": {
     "end_time": "2024-04-08T11:14:45.254442Z",
     "start_time": "2024-04-08T11:14:45.254378Z"
    },
    "collapsed": false
   },
   "outputs": [],
   "source": []
  }
 ],
 "metadata": {
  "kernelspec": {
   "display_name": "Python 3 (ipykernel)",
   "language": "python",
   "name": "python3"
  },
  "language_info": {
   "codemirror_mode": {
    "name": "ipython",
    "version": 3
   },
   "file_extension": ".py",
   "mimetype": "text/x-python",
   "name": "python",
   "nbconvert_exporter": "python",
   "pygments_lexer": "ipython3",
   "version": "3.9.6"
  }
 },
 "nbformat": 4,
 "nbformat_minor": 5
}
