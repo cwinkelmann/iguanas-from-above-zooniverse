{
 "cells": [
  {
   "cell_type": "markdown",
   "source": [
    "# Recalculate errors of DBSCAN / HDBSCAN\n"
   ],
   "metadata": {
    "collapsed": false
   },
   "id": "306034533dcead43"
  },
  {
   "cell_type": "code",
   "outputs": [],
   "source": [
    "import pandas as pd\n",
    "from config import get_config\n",
    "from pathlib import Path\n",
    "\n",
    "### use either the subset of the subset\n",
    "# phase_tag = \"Iguanas 1st launch\"\n",
    "# phase_tag = \"Iguanas 2nd launch\"\n",
    "phase_tag = \"Iguanas 3rd launch\"\n",
    "input_path = Path(\"/Users/christian/data/zooniverse\")\n",
    "\n",
    "use_gold_standard_subset = \"expert_goldstandard\"  # Use the X-T2-GS-results-5th-0s as the basis\n",
    "# use_gold_standard_subset = \"expert\" # Use the expert-GS-Xphase as the basis\n",
    "output_path = Path(\"../data/4th_december/\").joinpath(phase_tag).resolve()\n",
    "output_path.mkdir(exist_ok=True, parents=True)\n",
    "\n",
    "output_plot_path = output_path.joinpath(\"plots\")\n",
    "output_plot_path.mkdir(parents=True, exist_ok=True)\n",
    "\n",
    "config = get_config(phase_tag=phase_tag, input_path=input_path, output_path=output_path)\n",
    "\n",
    "df_method_comparison = pd.read_csv(\n",
    "    config[\"comparison_dataset\"], sep=\",\", index_col=0)[[\"subject_id\", \"dbscan_count\", \"HDBSCAN_count\", \"median_count\", \"mean_count\",\"mode_count\"]]\n",
    "\n"
   ],
   "metadata": {
    "collapsed": false,
    "ExecuteTime": {
     "end_time": "2024-02-07T22:30:59.222545Z",
     "start_time": "2024-02-07T22:30:59.180425Z"
    }
   },
   "id": "145bce94f139f8ae",
   "execution_count": 405
  },
  {
   "cell_type": "code",
   "outputs": [
    {
     "data": {
      "text/plain": "    subject_id  dbscan_count  HDBSCAN_count  median_count  mean_count  \\\n0     78926344           2.0            2.0           1.5        1.67   \n1     78928708           2.0            2.0           2.0        2.13   \n2     78938221           5.0            4.0           3.5        3.56   \n3     78938603           2.0            1.0           1.0        1.29   \n4     78938992           2.0            2.0           2.0        1.86   \n..         ...           ...            ...           ...         ...   \n81    78925388           0.0            1.0           1.0        1.00   \n82    78925457           0.0            1.0           1.0        1.00   \n83    78925467           0.0            1.0           1.0        1.14   \n84    78925536           2.0            1.0           1.0        1.05   \n85    78925551           2.0            2.0           2.0        2.00   \n\n    mode_count  \n0          1.0  \n1          2.0  \n2          4.0  \n3          1.0  \n4          2.0  \n..         ...  \n81         1.0  \n82         1.0  \n83         1.0  \n84         1.0  \n85         2.0  \n\n[86 rows x 6 columns]",
      "text/html": "<div>\n<style scoped>\n    .dataframe tbody tr th:only-of-type {\n        vertical-align: middle;\n    }\n\n    .dataframe tbody tr th {\n        vertical-align: top;\n    }\n\n    .dataframe thead th {\n        text-align: right;\n    }\n</style>\n<table border=\"1\" class=\"dataframe\">\n  <thead>\n    <tr style=\"text-align: right;\">\n      <th></th>\n      <th>subject_id</th>\n      <th>dbscan_count</th>\n      <th>HDBSCAN_count</th>\n      <th>median_count</th>\n      <th>mean_count</th>\n      <th>mode_count</th>\n    </tr>\n  </thead>\n  <tbody>\n    <tr>\n      <th>0</th>\n      <td>78926344</td>\n      <td>2.0</td>\n      <td>2.0</td>\n      <td>1.5</td>\n      <td>1.67</td>\n      <td>1.0</td>\n    </tr>\n    <tr>\n      <th>1</th>\n      <td>78928708</td>\n      <td>2.0</td>\n      <td>2.0</td>\n      <td>2.0</td>\n      <td>2.13</td>\n      <td>2.0</td>\n    </tr>\n    <tr>\n      <th>2</th>\n      <td>78938221</td>\n      <td>5.0</td>\n      <td>4.0</td>\n      <td>3.5</td>\n      <td>3.56</td>\n      <td>4.0</td>\n    </tr>\n    <tr>\n      <th>3</th>\n      <td>78938603</td>\n      <td>2.0</td>\n      <td>1.0</td>\n      <td>1.0</td>\n      <td>1.29</td>\n      <td>1.0</td>\n    </tr>\n    <tr>\n      <th>4</th>\n      <td>78938992</td>\n      <td>2.0</td>\n      <td>2.0</td>\n      <td>2.0</td>\n      <td>1.86</td>\n      <td>2.0</td>\n    </tr>\n    <tr>\n      <th>...</th>\n      <td>...</td>\n      <td>...</td>\n      <td>...</td>\n      <td>...</td>\n      <td>...</td>\n      <td>...</td>\n    </tr>\n    <tr>\n      <th>81</th>\n      <td>78925388</td>\n      <td>0.0</td>\n      <td>1.0</td>\n      <td>1.0</td>\n      <td>1.00</td>\n      <td>1.0</td>\n    </tr>\n    <tr>\n      <th>82</th>\n      <td>78925457</td>\n      <td>0.0</td>\n      <td>1.0</td>\n      <td>1.0</td>\n      <td>1.00</td>\n      <td>1.0</td>\n    </tr>\n    <tr>\n      <th>83</th>\n      <td>78925467</td>\n      <td>0.0</td>\n      <td>1.0</td>\n      <td>1.0</td>\n      <td>1.14</td>\n      <td>1.0</td>\n    </tr>\n    <tr>\n      <th>84</th>\n      <td>78925536</td>\n      <td>2.0</td>\n      <td>1.0</td>\n      <td>1.0</td>\n      <td>1.05</td>\n      <td>1.0</td>\n    </tr>\n    <tr>\n      <th>85</th>\n      <td>78925551</td>\n      <td>2.0</td>\n      <td>2.0</td>\n      <td>2.0</td>\n      <td>2.00</td>\n      <td>2.0</td>\n    </tr>\n  </tbody>\n</table>\n<p>86 rows × 6 columns</p>\n</div>"
     },
     "execution_count": 406,
     "metadata": {},
     "output_type": "execute_result"
    }
   ],
   "source": [
    "df_method_comparison"
   ],
   "metadata": {
    "collapsed": false,
    "ExecuteTime": {
     "end_time": "2024-02-07T22:30:59.223999Z",
     "start_time": "2024-02-07T22:30:59.216073Z"
    }
   },
   "id": "5a076f08674fdb07",
   "execution_count": 406
  },
  {
   "cell_type": "code",
   "outputs": [
    {
     "name": "stdout",
     "output_type": "stream",
     "text": [
      "Number of all expert images: 1156\n",
      "Number of images with count_total > 0: 111\n"
     ]
    }
   ],
   "source": [
    "df_expert_count = pd.read_csv(config[\"goldstandard_data\"], sep=\";\")\n",
    "\n",
    "df_expert_count_1plus = df_expert_count\n",
    "print(f\"Number of all expert images: {len(df_expert_count_1plus)}\")\n",
    "# df_expert_count_1plus = df_expert_count[df_expert_count[\"count_total\"] > 0]\n",
    "print(f\"Number of images with count_total > 0: {len(df_expert_count[df_expert_count['count_total'] > 0])}\")"
   ],
   "metadata": {
    "collapsed": false,
    "ExecuteTime": {
     "end_time": "2024-02-07T22:30:59.235473Z",
     "start_time": "2024-02-07T22:30:59.228065Z"
    }
   },
   "id": "497d70c4df5873df",
   "execution_count": 407
  },
  {
   "cell_type": "markdown",
   "source": [],
   "metadata": {
    "collapsed": false
   },
   "id": "d73009db55fc91a6"
  },
  {
   "cell_type": "code",
   "outputs": [],
   "source": [
    "df_expert_count_1plus = df_expert_count_1plus[['image_name', \"subject_id\", \"count_total\"]]"
   ],
   "metadata": {
    "collapsed": false,
    "ExecuteTime": {
     "end_time": "2024-02-07T22:30:59.237219Z",
     "start_time": "2024-02-07T22:30:59.233162Z"
    }
   },
   "id": "1e20c346a246ccb0",
   "execution_count": 408
  },
  {
   "cell_type": "markdown",
   "source": [
    "## set the predicted count to 0 for all images which volunteers did not count anything"
   ],
   "metadata": {
    "collapsed": false
   },
   "id": "2dff7cf1a4991c1e"
  },
  {
   "cell_type": "code",
   "outputs": [
    {
     "data": {
      "text/plain": "          image_name  subject_id  count_total\n0       MBN02_72.jpg    78925728            0\n1       MBN02_74.jpg    78925730            0\n2       MBN02_95.jpg    78925747            0\n3     MBN03-2_06.jpg    78925781            0\n4     MBN03-2_38.jpg    78925808            0\n...              ...         ...          ...\n1151  GWB01-3_66.jpg    78925600            1\n1152  GWB01-3_70.jpg    78925604            0\n1153  GWB01-3_71.jpg    78925605            0\n1154  GWB01-3_82.jpg    78925608            0\n1155  GWB01-3_88.jpg    78925614            1\n\n[1156 rows x 3 columns]",
      "text/html": "<div>\n<style scoped>\n    .dataframe tbody tr th:only-of-type {\n        vertical-align: middle;\n    }\n\n    .dataframe tbody tr th {\n        vertical-align: top;\n    }\n\n    .dataframe thead th {\n        text-align: right;\n    }\n</style>\n<table border=\"1\" class=\"dataframe\">\n  <thead>\n    <tr style=\"text-align: right;\">\n      <th></th>\n      <th>image_name</th>\n      <th>subject_id</th>\n      <th>count_total</th>\n    </tr>\n  </thead>\n  <tbody>\n    <tr>\n      <th>0</th>\n      <td>MBN02_72.jpg</td>\n      <td>78925728</td>\n      <td>0</td>\n    </tr>\n    <tr>\n      <th>1</th>\n      <td>MBN02_74.jpg</td>\n      <td>78925730</td>\n      <td>0</td>\n    </tr>\n    <tr>\n      <th>2</th>\n      <td>MBN02_95.jpg</td>\n      <td>78925747</td>\n      <td>0</td>\n    </tr>\n    <tr>\n      <th>3</th>\n      <td>MBN03-2_06.jpg</td>\n      <td>78925781</td>\n      <td>0</td>\n    </tr>\n    <tr>\n      <th>4</th>\n      <td>MBN03-2_38.jpg</td>\n      <td>78925808</td>\n      <td>0</td>\n    </tr>\n    <tr>\n      <th>...</th>\n      <td>...</td>\n      <td>...</td>\n      <td>...</td>\n    </tr>\n    <tr>\n      <th>1151</th>\n      <td>GWB01-3_66.jpg</td>\n      <td>78925600</td>\n      <td>1</td>\n    </tr>\n    <tr>\n      <th>1152</th>\n      <td>GWB01-3_70.jpg</td>\n      <td>78925604</td>\n      <td>0</td>\n    </tr>\n    <tr>\n      <th>1153</th>\n      <td>GWB01-3_71.jpg</td>\n      <td>78925605</td>\n      <td>0</td>\n    </tr>\n    <tr>\n      <th>1154</th>\n      <td>GWB01-3_82.jpg</td>\n      <td>78925608</td>\n      <td>0</td>\n    </tr>\n    <tr>\n      <th>1155</th>\n      <td>GWB01-3_88.jpg</td>\n      <td>78925614</td>\n      <td>1</td>\n    </tr>\n  </tbody>\n</table>\n<p>1156 rows × 3 columns</p>\n</div>"
     },
     "execution_count": 409,
     "metadata": {},
     "output_type": "execute_result"
    }
   ],
   "source": [
    "df_expert_count_1plus"
   ],
   "metadata": {
    "collapsed": false,
    "ExecuteTime": {
     "end_time": "2024-02-07T22:30:59.252304Z",
     "start_time": "2024-02-07T22:30:59.237786Z"
    }
   },
   "id": "2e04e1b5e46aedc",
   "execution_count": 409
  },
  {
   "cell_type": "code",
   "outputs": [
    {
     "data": {
      "text/plain": "Empty DataFrame\nColumns: [subject_id, dbscan_count, HDBSCAN_count, median_count, mean_count, mode_count]\nIndex: []",
      "text/html": "<div>\n<style scoped>\n    .dataframe tbody tr th:only-of-type {\n        vertical-align: middle;\n    }\n\n    .dataframe tbody tr th {\n        vertical-align: top;\n    }\n\n    .dataframe thead th {\n        text-align: right;\n    }\n</style>\n<table border=\"1\" class=\"dataframe\">\n  <thead>\n    <tr style=\"text-align: right;\">\n      <th></th>\n      <th>subject_id</th>\n      <th>dbscan_count</th>\n      <th>HDBSCAN_count</th>\n      <th>median_count</th>\n      <th>mean_count</th>\n      <th>mode_count</th>\n    </tr>\n  </thead>\n  <tbody>\n  </tbody>\n</table>\n</div>"
     },
     "execution_count": 410,
     "metadata": {},
     "output_type": "execute_result"
    }
   ],
   "source": [
    "# Elemeents where volunteers did find something but the expert not\n",
    "df_method_comparison[~df_method_comparison['subject_id'].isin(df_expert_count_1plus['subject_id'])]"
   ],
   "metadata": {
    "collapsed": false,
    "ExecuteTime": {
     "end_time": "2024-02-07T22:30:59.259464Z",
     "start_time": "2024-02-07T22:30:59.241827Z"
    }
   },
   "id": "dcadacfe0b107386",
   "execution_count": 410
  },
  {
   "cell_type": "code",
   "outputs": [
    {
     "data": {
      "text/plain": "          image_name  subject_id  count_total  dbscan_count  HDBSCAN_count  \\\n0       MBN02_72.jpg    78925728            0           NaN            NaN   \n1       MBN02_74.jpg    78925730            0           NaN            NaN   \n2       MBN02_95.jpg    78925747            0           NaN            NaN   \n3     MBN03-2_06.jpg    78925781            0           NaN            NaN   \n4     MBN03-2_38.jpg    78925808            0           NaN            NaN   \n...              ...         ...          ...           ...            ...   \n1151  GWB01-3_66.jpg    78925600            1           NaN            NaN   \n1152  GWB01-3_70.jpg    78925604            0           NaN            NaN   \n1153  GWB01-3_71.jpg    78925605            0           NaN            NaN   \n1154  GWB01-3_82.jpg    78925608            0           NaN            NaN   \n1155  GWB01-3_88.jpg    78925614            1           NaN            NaN   \n\n      median_count  mean_count  mode_count  \n0              NaN         NaN         NaN  \n1              NaN         NaN         NaN  \n2              NaN         NaN         NaN  \n3              NaN         NaN         NaN  \n4              NaN         NaN         NaN  \n...            ...         ...         ...  \n1151           NaN         NaN         NaN  \n1152           NaN         NaN         NaN  \n1153           NaN         NaN         NaN  \n1154           NaN         NaN         NaN  \n1155           NaN         NaN         NaN  \n\n[1156 rows x 8 columns]",
      "text/html": "<div>\n<style scoped>\n    .dataframe tbody tr th:only-of-type {\n        vertical-align: middle;\n    }\n\n    .dataframe tbody tr th {\n        vertical-align: top;\n    }\n\n    .dataframe thead th {\n        text-align: right;\n    }\n</style>\n<table border=\"1\" class=\"dataframe\">\n  <thead>\n    <tr style=\"text-align: right;\">\n      <th></th>\n      <th>image_name</th>\n      <th>subject_id</th>\n      <th>count_total</th>\n      <th>dbscan_count</th>\n      <th>HDBSCAN_count</th>\n      <th>median_count</th>\n      <th>mean_count</th>\n      <th>mode_count</th>\n    </tr>\n  </thead>\n  <tbody>\n    <tr>\n      <th>0</th>\n      <td>MBN02_72.jpg</td>\n      <td>78925728</td>\n      <td>0</td>\n      <td>NaN</td>\n      <td>NaN</td>\n      <td>NaN</td>\n      <td>NaN</td>\n      <td>NaN</td>\n    </tr>\n    <tr>\n      <th>1</th>\n      <td>MBN02_74.jpg</td>\n      <td>78925730</td>\n      <td>0</td>\n      <td>NaN</td>\n      <td>NaN</td>\n      <td>NaN</td>\n      <td>NaN</td>\n      <td>NaN</td>\n    </tr>\n    <tr>\n      <th>2</th>\n      <td>MBN02_95.jpg</td>\n      <td>78925747</td>\n      <td>0</td>\n      <td>NaN</td>\n      <td>NaN</td>\n      <td>NaN</td>\n      <td>NaN</td>\n      <td>NaN</td>\n    </tr>\n    <tr>\n      <th>3</th>\n      <td>MBN03-2_06.jpg</td>\n      <td>78925781</td>\n      <td>0</td>\n      <td>NaN</td>\n      <td>NaN</td>\n      <td>NaN</td>\n      <td>NaN</td>\n      <td>NaN</td>\n    </tr>\n    <tr>\n      <th>4</th>\n      <td>MBN03-2_38.jpg</td>\n      <td>78925808</td>\n      <td>0</td>\n      <td>NaN</td>\n      <td>NaN</td>\n      <td>NaN</td>\n      <td>NaN</td>\n      <td>NaN</td>\n    </tr>\n    <tr>\n      <th>...</th>\n      <td>...</td>\n      <td>...</td>\n      <td>...</td>\n      <td>...</td>\n      <td>...</td>\n      <td>...</td>\n      <td>...</td>\n      <td>...</td>\n    </tr>\n    <tr>\n      <th>1151</th>\n      <td>GWB01-3_66.jpg</td>\n      <td>78925600</td>\n      <td>1</td>\n      <td>NaN</td>\n      <td>NaN</td>\n      <td>NaN</td>\n      <td>NaN</td>\n      <td>NaN</td>\n    </tr>\n    <tr>\n      <th>1152</th>\n      <td>GWB01-3_70.jpg</td>\n      <td>78925604</td>\n      <td>0</td>\n      <td>NaN</td>\n      <td>NaN</td>\n      <td>NaN</td>\n      <td>NaN</td>\n      <td>NaN</td>\n    </tr>\n    <tr>\n      <th>1153</th>\n      <td>GWB01-3_71.jpg</td>\n      <td>78925605</td>\n      <td>0</td>\n      <td>NaN</td>\n      <td>NaN</td>\n      <td>NaN</td>\n      <td>NaN</td>\n      <td>NaN</td>\n    </tr>\n    <tr>\n      <th>1154</th>\n      <td>GWB01-3_82.jpg</td>\n      <td>78925608</td>\n      <td>0</td>\n      <td>NaN</td>\n      <td>NaN</td>\n      <td>NaN</td>\n      <td>NaN</td>\n      <td>NaN</td>\n    </tr>\n    <tr>\n      <th>1155</th>\n      <td>GWB01-3_88.jpg</td>\n      <td>78925614</td>\n      <td>1</td>\n      <td>NaN</td>\n      <td>NaN</td>\n      <td>NaN</td>\n      <td>NaN</td>\n      <td>NaN</td>\n    </tr>\n  </tbody>\n</table>\n<p>1156 rows × 8 columns</p>\n</div>"
     },
     "execution_count": 411,
     "metadata": {},
     "output_type": "execute_result"
    }
   ],
   "source": [
    "# Outer Join is necessary because the expert did not count anything for some images\n",
    "df_expert_count_1plus = df_expert_count_1plus.merge(df_method_comparison, on=\"subject_id\", how=\"left\")\n",
    "df_expert_count_1plus"
   ],
   "metadata": {
    "collapsed": false,
    "ExecuteTime": {
     "end_time": "2024-02-07T22:30:59.260918Z",
     "start_time": "2024-02-07T22:30:59.247265Z"
    }
   },
   "id": "daaf61b4806ac428",
   "execution_count": 411
  },
  {
   "cell_type": "code",
   "outputs": [
    {
     "data": {
      "text/plain": "                 sum\ncount_total    388.0\ndbscan_count   310.0\nHDBSCAN_count  357.0\nmedian_count   316.5\nmean_count     319.7\nmode_count     314.0",
      "text/html": "<div>\n<style scoped>\n    .dataframe tbody tr th:only-of-type {\n        vertical-align: middle;\n    }\n\n    .dataframe tbody tr th {\n        vertical-align: top;\n    }\n\n    .dataframe thead th {\n        text-align: right;\n    }\n</style>\n<table border=\"1\" class=\"dataframe\">\n  <thead>\n    <tr style=\"text-align: right;\">\n      <th></th>\n      <th>sum</th>\n    </tr>\n  </thead>\n  <tbody>\n    <tr>\n      <th>count_total</th>\n      <td>388.0</td>\n    </tr>\n    <tr>\n      <th>dbscan_count</th>\n      <td>310.0</td>\n    </tr>\n    <tr>\n      <th>HDBSCAN_count</th>\n      <td>357.0</td>\n    </tr>\n    <tr>\n      <th>median_count</th>\n      <td>316.5</td>\n    </tr>\n    <tr>\n      <th>mean_count</th>\n      <td>319.7</td>\n    </tr>\n    <tr>\n      <th>mode_count</th>\n      <td>314.0</td>\n    </tr>\n  </tbody>\n</table>\n</div>"
     },
     "execution_count": 412,
     "metadata": {},
     "output_type": "execute_result"
    }
   ],
   "source": [
    "pd.DataFrame(df_expert_count_1plus.drop([\"image_name\", \"subject_id\"], axis=1).sum(), columns=[\"sum\"])"
   ],
   "metadata": {
    "collapsed": false,
    "ExecuteTime": {
     "end_time": "2024-02-07T22:30:59.281221Z",
     "start_time": "2024-02-07T22:30:59.254745Z"
    }
   },
   "id": "fa1a1814639f987e",
   "execution_count": 412
  },
  {
   "cell_type": "code",
   "outputs": [
    {
     "data": {
      "text/plain": "0.6322"
     },
     "execution_count": 413,
     "metadata": {},
     "output_type": "execute_result"
    }
   ],
   "source": [
    "from sklearn.metrics import mean_squared_error\n",
    "# root mean squared error\n",
    "df_expert_count_1plus.fillna(0, inplace=True)\n",
    "\n",
    "round(mean_squared_error(df_expert_count_1plus.count_total, df_expert_count_1plus.dbscan_count, squared=False), 4)"
   ],
   "metadata": {
    "collapsed": false,
    "ExecuteTime": {
     "end_time": "2024-02-07T22:30:59.283313Z",
     "start_time": "2024-02-07T22:30:59.263879Z"
    }
   },
   "id": "66ac6a4536c8d119",
   "execution_count": 413
  },
  {
   "cell_type": "code",
   "outputs": [
    {
     "data": {
      "text/plain": "0.3891"
     },
     "execution_count": 414,
     "metadata": {},
     "output_type": "execute_result"
    }
   ],
   "source": [
    "round(mean_squared_error(df_expert_count_1plus.count_total, df_expert_count_1plus.HDBSCAN_count, squared=False), 4)\n"
   ],
   "metadata": {
    "collapsed": false,
    "ExecuteTime": {
     "end_time": "2024-02-07T22:30:59.331654Z",
     "start_time": "2024-02-07T22:30:59.286710Z"
    }
   },
   "id": "5a8cd9b1b78aed9d",
   "execution_count": 414
  },
  {
   "cell_type": "code",
   "outputs": [
    {
     "data": {
      "text/plain": "0.4717"
     },
     "execution_count": 415,
     "metadata": {},
     "output_type": "execute_result"
    }
   ],
   "source": [
    "round(mean_squared_error(df_expert_count_1plus.count_total, df_expert_count_1plus.mean_count, squared=False), 4)"
   ],
   "metadata": {
    "collapsed": false,
    "ExecuteTime": {
     "end_time": "2024-02-07T22:30:59.336853Z",
     "start_time": "2024-02-07T22:30:59.295159Z"
    }
   },
   "id": "52195cd86339a3a0",
   "execution_count": 415
  },
  {
   "cell_type": "code",
   "outputs": [
    {
     "data": {
      "text/plain": "0.4813"
     },
     "execution_count": 416,
     "metadata": {},
     "output_type": "execute_result"
    }
   ],
   "source": [
    "round(mean_squared_error(df_expert_count_1plus.count_total, df_expert_count_1plus.median_count, squared=False), 4)"
   ],
   "metadata": {
    "collapsed": false,
    "ExecuteTime": {
     "end_time": "2024-02-07T22:30:59.367740Z",
     "start_time": "2024-02-07T22:30:59.337083Z"
    }
   },
   "id": "16c0420c575f9cc4",
   "execution_count": 416
  },
  {
   "cell_type": "code",
   "outputs": [
    {
     "data": {
      "text/plain": "0.5487"
     },
     "execution_count": 417,
     "metadata": {},
     "output_type": "execute_result"
    }
   ],
   "source": [
    "round(mean_squared_error(df_expert_count_1plus.count_total, df_expert_count_1plus.mode_count, squared=False), 4)"
   ],
   "metadata": {
    "collapsed": false,
    "ExecuteTime": {
     "end_time": "2024-02-07T22:30:59.373426Z",
     "start_time": "2024-02-07T22:30:59.371047Z"
    }
   },
   "id": "afd360df26569642",
   "execution_count": 417
  },
  {
   "cell_type": "markdown",
   "source": [
    "## Compare to error rates when volunteers did find something\n",
    "Lets double check"
   ],
   "metadata": {
    "collapsed": false
   },
   "id": "a432a0c832dc60cd"
  },
  {
   "cell_type": "code",
   "outputs": [],
   "source": [
    "df_method_comparison = pd.read_csv(\n",
    "    config[\"comparison_dataset\"], sep=\",\", index_col=0)[[\"subject_id\", \"count_total\", \"dbscan_count\", \"HDBSCAN_count\", \"median_count\", \"mean_count\",\"mode_count\"]]\n",
    "\n"
   ],
   "metadata": {
    "collapsed": false,
    "ExecuteTime": {
     "end_time": "2024-02-07T22:30:59.386984Z",
     "start_time": "2024-02-07T22:30:59.373927Z"
    }
   },
   "id": "a366f06fd35ea8b1",
   "execution_count": 418
  },
  {
   "cell_type": "code",
   "outputs": [],
   "source": [
    "df_method_comparison.fillna(0, inplace=True)"
   ],
   "metadata": {
    "collapsed": false,
    "ExecuteTime": {
     "end_time": "2024-02-07T22:30:59.388398Z",
     "start_time": "2024-02-07T22:30:59.378249Z"
    }
   },
   "id": "f76a0a4f3a426588",
   "execution_count": 419
  },
  {
   "cell_type": "code",
   "outputs": [
    {
     "data": {
      "text/plain": "2.1754"
     },
     "execution_count": 420,
     "metadata": {},
     "output_type": "execute_result"
    }
   ],
   "source": [
    "round(mean_squared_error(df_method_comparison.count_total, df_method_comparison.dbscan_count, squared=False), 4)"
   ],
   "metadata": {
    "collapsed": false,
    "ExecuteTime": {
     "end_time": "2024-02-07T22:30:59.388840Z",
     "start_time": "2024-02-07T22:30:59.381024Z"
    }
   },
   "id": "924a7b3d79343493",
   "execution_count": 420
  },
  {
   "cell_type": "code",
   "outputs": [
    {
     "data": {
      "text/plain": "1.1812"
     },
     "execution_count": 421,
     "metadata": {},
     "output_type": "execute_result"
    }
   ],
   "source": [
    "round(mean_squared_error(df_method_comparison.count_total, df_method_comparison.HDBSCAN_count, squared=False), 4)\n",
    "\n"
   ],
   "metadata": {
    "collapsed": false,
    "ExecuteTime": {
     "end_time": "2024-02-07T22:30:59.389115Z",
     "start_time": "2024-02-07T22:30:59.384611Z"
    }
   },
   "id": "6d8716895889fe5d",
   "execution_count": 421
  },
  {
   "cell_type": "code",
   "outputs": [
    {
     "data": {
      "text/plain": "1.5336"
     },
     "execution_count": 422,
     "metadata": {},
     "output_type": "execute_result"
    }
   ],
   "source": [
    "round(mean_squared_error(df_method_comparison.count_total, df_method_comparison.mean_count, squared=False), 4)\n"
   ],
   "metadata": {
    "collapsed": false,
    "ExecuteTime": {
     "end_time": "2024-02-07T22:30:59.404673Z",
     "start_time": "2024-02-07T22:30:59.388646Z"
    }
   },
   "id": "dc652a50365b8a9d",
   "execution_count": 422
  },
  {
   "cell_type": "code",
   "outputs": [
    {
     "data": {
      "text/plain": "1.5728"
     },
     "execution_count": 423,
     "metadata": {},
     "output_type": "execute_result"
    }
   ],
   "source": [
    "round(mean_squared_error(df_method_comparison.count_total, df_method_comparison.median_count, squared=False), 4)\n"
   ],
   "metadata": {
    "collapsed": false,
    "ExecuteTime": {
     "end_time": "2024-02-07T22:30:59.405067Z",
     "start_time": "2024-02-07T22:30:59.391822Z"
    }
   },
   "id": "a23fb0bf41726002",
   "execution_count": 423
  },
  {
   "cell_type": "code",
   "outputs": [
    {
     "data": {
      "text/plain": "1.8458"
     },
     "execution_count": 424,
     "metadata": {},
     "output_type": "execute_result"
    }
   ],
   "source": [
    "round(mean_squared_error(df_method_comparison.count_total, df_method_comparison.mode_count, squared=False), 4)"
   ],
   "metadata": {
    "collapsed": false,
    "ExecuteTime": {
     "end_time": "2024-02-07T22:30:59.405360Z",
     "start_time": "2024-02-07T22:30:59.395536Z"
    }
   },
   "id": "fe3bf04a90e8c26a",
   "execution_count": 424
  },
  {
   "cell_type": "code",
   "outputs": [],
   "source": [],
   "metadata": {
    "collapsed": false,
    "ExecuteTime": {
     "end_time": "2024-02-07T22:30:59.412712Z",
     "start_time": "2024-02-07T22:30:59.405256Z"
    }
   },
   "id": "a68d367a2c9e4377",
   "execution_count": 424
  }
 ],
 "metadata": {
  "kernelspec": {
   "display_name": "Python 3",
   "language": "python",
   "name": "python3"
  },
  "language_info": {
   "codemirror_mode": {
    "name": "ipython",
    "version": 2
   },
   "file_extension": ".py",
   "mimetype": "text/x-python",
   "name": "python",
   "nbconvert_exporter": "python",
   "pygments_lexer": "ipython2",
   "version": "2.7.6"
  }
 },
 "nbformat": 4,
 "nbformat_minor": 5
}
