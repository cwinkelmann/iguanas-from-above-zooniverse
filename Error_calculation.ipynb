{
 "cells": [
  {
   "cell_type": "markdown",
   "source": [
    "# Recalculate errors of DBSCAN / HDBSCAN\n"
   ],
   "metadata": {
    "collapsed": false
   },
   "id": "306034533dcead43"
  },
  {
   "cell_type": "code",
   "outputs": [
    {
     "ename": "FileNotFoundError",
     "evalue": "[Errno 2] No such file or directory: '/Users/christian/PycharmProjects/data/4th_december/Iguanas 3rd launch/Iguanas 3rd launch_method_comparison.csv'",
     "output_type": "error",
     "traceback": [
      "\u001B[0;31m---------------------------------------------------------------------------\u001B[0m",
      "\u001B[0;31mFileNotFoundError\u001B[0m                         Traceback (most recent call last)",
      "Cell \u001B[0;32mIn[18], line 21\u001B[0m\n\u001B[1;32m     17\u001B[0m output_plot_path\u001B[38;5;241m.\u001B[39mmkdir(parents\u001B[38;5;241m=\u001B[39m\u001B[38;5;28;01mTrue\u001B[39;00m, exist_ok\u001B[38;5;241m=\u001B[39m\u001B[38;5;28;01mTrue\u001B[39;00m)\n\u001B[1;32m     19\u001B[0m config \u001B[38;5;241m=\u001B[39m get_config(phase_tag\u001B[38;5;241m=\u001B[39mphase_tag, input_path\u001B[38;5;241m=\u001B[39minput_path, output_path\u001B[38;5;241m=\u001B[39moutput_path)\n\u001B[0;32m---> 21\u001B[0m df_method_comparison \u001B[38;5;241m=\u001B[39m \u001B[43mpd\u001B[49m\u001B[38;5;241;43m.\u001B[39;49m\u001B[43mread_csv\u001B[49m\u001B[43m(\u001B[49m\n\u001B[1;32m     22\u001B[0m \u001B[43m    \u001B[49m\u001B[43mconfig\u001B[49m\u001B[43m[\u001B[49m\u001B[38;5;124;43m\"\u001B[39;49m\u001B[38;5;124;43mcomparison_dataset\u001B[39;49m\u001B[38;5;124;43m\"\u001B[39;49m\u001B[43m]\u001B[49m\u001B[43m,\u001B[49m\u001B[43m \u001B[49m\u001B[43msep\u001B[49m\u001B[38;5;241;43m=\u001B[39;49m\u001B[38;5;124;43m\"\u001B[39;49m\u001B[38;5;124;43m,\u001B[39;49m\u001B[38;5;124;43m\"\u001B[39;49m\u001B[43m,\u001B[49m\u001B[43m \u001B[49m\u001B[43mindex_col\u001B[49m\u001B[38;5;241;43m=\u001B[39;49m\u001B[38;5;241;43m0\u001B[39;49m\u001B[43m)\u001B[49m[[\u001B[38;5;124m\"\u001B[39m\u001B[38;5;124msubject_id\u001B[39m\u001B[38;5;124m\"\u001B[39m, \u001B[38;5;124m\"\u001B[39m\u001B[38;5;124mdbscan_count\u001B[39m\u001B[38;5;124m\"\u001B[39m, \u001B[38;5;124m\"\u001B[39m\u001B[38;5;124mHDBSCAN_count\u001B[39m\u001B[38;5;124m\"\u001B[39m, \u001B[38;5;124m\"\u001B[39m\u001B[38;5;124mmedian_count\u001B[39m\u001B[38;5;124m\"\u001B[39m, \u001B[38;5;124m\"\u001B[39m\u001B[38;5;124mmean_count\u001B[39m\u001B[38;5;124m\"\u001B[39m,\u001B[38;5;124m\"\u001B[39m\u001B[38;5;124mmode_count\u001B[39m\u001B[38;5;124m\"\u001B[39m]]\n",
      "File \u001B[0;32m~/opt/anaconda3/envs/iguanas-from-above-zooniverse/lib/python3.10/site-packages/pandas/io/parsers/readers.py:948\u001B[0m, in \u001B[0;36mread_csv\u001B[0;34m(filepath_or_buffer, sep, delimiter, header, names, index_col, usecols, dtype, engine, converters, true_values, false_values, skipinitialspace, skiprows, skipfooter, nrows, na_values, keep_default_na, na_filter, verbose, skip_blank_lines, parse_dates, infer_datetime_format, keep_date_col, date_parser, date_format, dayfirst, cache_dates, iterator, chunksize, compression, thousands, decimal, lineterminator, quotechar, quoting, doublequote, escapechar, comment, encoding, encoding_errors, dialect, on_bad_lines, delim_whitespace, low_memory, memory_map, float_precision, storage_options, dtype_backend)\u001B[0m\n\u001B[1;32m    935\u001B[0m kwds_defaults \u001B[38;5;241m=\u001B[39m _refine_defaults_read(\n\u001B[1;32m    936\u001B[0m     dialect,\n\u001B[1;32m    937\u001B[0m     delimiter,\n\u001B[0;32m   (...)\u001B[0m\n\u001B[1;32m    944\u001B[0m     dtype_backend\u001B[38;5;241m=\u001B[39mdtype_backend,\n\u001B[1;32m    945\u001B[0m )\n\u001B[1;32m    946\u001B[0m kwds\u001B[38;5;241m.\u001B[39mupdate(kwds_defaults)\n\u001B[0;32m--> 948\u001B[0m \u001B[38;5;28;01mreturn\u001B[39;00m \u001B[43m_read\u001B[49m\u001B[43m(\u001B[49m\u001B[43mfilepath_or_buffer\u001B[49m\u001B[43m,\u001B[49m\u001B[43m \u001B[49m\u001B[43mkwds\u001B[49m\u001B[43m)\u001B[49m\n",
      "File \u001B[0;32m~/opt/anaconda3/envs/iguanas-from-above-zooniverse/lib/python3.10/site-packages/pandas/io/parsers/readers.py:611\u001B[0m, in \u001B[0;36m_read\u001B[0;34m(filepath_or_buffer, kwds)\u001B[0m\n\u001B[1;32m    608\u001B[0m _validate_names(kwds\u001B[38;5;241m.\u001B[39mget(\u001B[38;5;124m\"\u001B[39m\u001B[38;5;124mnames\u001B[39m\u001B[38;5;124m\"\u001B[39m, \u001B[38;5;28;01mNone\u001B[39;00m))\n\u001B[1;32m    610\u001B[0m \u001B[38;5;66;03m# Create the parser.\u001B[39;00m\n\u001B[0;32m--> 611\u001B[0m parser \u001B[38;5;241m=\u001B[39m \u001B[43mTextFileReader\u001B[49m\u001B[43m(\u001B[49m\u001B[43mfilepath_or_buffer\u001B[49m\u001B[43m,\u001B[49m\u001B[43m \u001B[49m\u001B[38;5;241;43m*\u001B[39;49m\u001B[38;5;241;43m*\u001B[39;49m\u001B[43mkwds\u001B[49m\u001B[43m)\u001B[49m\n\u001B[1;32m    613\u001B[0m \u001B[38;5;28;01mif\u001B[39;00m chunksize \u001B[38;5;129;01mor\u001B[39;00m iterator:\n\u001B[1;32m    614\u001B[0m     \u001B[38;5;28;01mreturn\u001B[39;00m parser\n",
      "File \u001B[0;32m~/opt/anaconda3/envs/iguanas-from-above-zooniverse/lib/python3.10/site-packages/pandas/io/parsers/readers.py:1448\u001B[0m, in \u001B[0;36mTextFileReader.__init__\u001B[0;34m(self, f, engine, **kwds)\u001B[0m\n\u001B[1;32m   1445\u001B[0m     \u001B[38;5;28mself\u001B[39m\u001B[38;5;241m.\u001B[39moptions[\u001B[38;5;124m\"\u001B[39m\u001B[38;5;124mhas_index_names\u001B[39m\u001B[38;5;124m\"\u001B[39m] \u001B[38;5;241m=\u001B[39m kwds[\u001B[38;5;124m\"\u001B[39m\u001B[38;5;124mhas_index_names\u001B[39m\u001B[38;5;124m\"\u001B[39m]\n\u001B[1;32m   1447\u001B[0m \u001B[38;5;28mself\u001B[39m\u001B[38;5;241m.\u001B[39mhandles: IOHandles \u001B[38;5;241m|\u001B[39m \u001B[38;5;28;01mNone\u001B[39;00m \u001B[38;5;241m=\u001B[39m \u001B[38;5;28;01mNone\u001B[39;00m\n\u001B[0;32m-> 1448\u001B[0m \u001B[38;5;28mself\u001B[39m\u001B[38;5;241m.\u001B[39m_engine \u001B[38;5;241m=\u001B[39m \u001B[38;5;28;43mself\u001B[39;49m\u001B[38;5;241;43m.\u001B[39;49m\u001B[43m_make_engine\u001B[49m\u001B[43m(\u001B[49m\u001B[43mf\u001B[49m\u001B[43m,\u001B[49m\u001B[43m \u001B[49m\u001B[38;5;28;43mself\u001B[39;49m\u001B[38;5;241;43m.\u001B[39;49m\u001B[43mengine\u001B[49m\u001B[43m)\u001B[49m\n",
      "File \u001B[0;32m~/opt/anaconda3/envs/iguanas-from-above-zooniverse/lib/python3.10/site-packages/pandas/io/parsers/readers.py:1705\u001B[0m, in \u001B[0;36mTextFileReader._make_engine\u001B[0;34m(self, f, engine)\u001B[0m\n\u001B[1;32m   1703\u001B[0m     \u001B[38;5;28;01mif\u001B[39;00m \u001B[38;5;124m\"\u001B[39m\u001B[38;5;124mb\u001B[39m\u001B[38;5;124m\"\u001B[39m \u001B[38;5;129;01mnot\u001B[39;00m \u001B[38;5;129;01min\u001B[39;00m mode:\n\u001B[1;32m   1704\u001B[0m         mode \u001B[38;5;241m+\u001B[39m\u001B[38;5;241m=\u001B[39m \u001B[38;5;124m\"\u001B[39m\u001B[38;5;124mb\u001B[39m\u001B[38;5;124m\"\u001B[39m\n\u001B[0;32m-> 1705\u001B[0m \u001B[38;5;28mself\u001B[39m\u001B[38;5;241m.\u001B[39mhandles \u001B[38;5;241m=\u001B[39m \u001B[43mget_handle\u001B[49m\u001B[43m(\u001B[49m\n\u001B[1;32m   1706\u001B[0m \u001B[43m    \u001B[49m\u001B[43mf\u001B[49m\u001B[43m,\u001B[49m\n\u001B[1;32m   1707\u001B[0m \u001B[43m    \u001B[49m\u001B[43mmode\u001B[49m\u001B[43m,\u001B[49m\n\u001B[1;32m   1708\u001B[0m \u001B[43m    \u001B[49m\u001B[43mencoding\u001B[49m\u001B[38;5;241;43m=\u001B[39;49m\u001B[38;5;28;43mself\u001B[39;49m\u001B[38;5;241;43m.\u001B[39;49m\u001B[43moptions\u001B[49m\u001B[38;5;241;43m.\u001B[39;49m\u001B[43mget\u001B[49m\u001B[43m(\u001B[49m\u001B[38;5;124;43m\"\u001B[39;49m\u001B[38;5;124;43mencoding\u001B[39;49m\u001B[38;5;124;43m\"\u001B[39;49m\u001B[43m,\u001B[49m\u001B[43m \u001B[49m\u001B[38;5;28;43;01mNone\u001B[39;49;00m\u001B[43m)\u001B[49m\u001B[43m,\u001B[49m\n\u001B[1;32m   1709\u001B[0m \u001B[43m    \u001B[49m\u001B[43mcompression\u001B[49m\u001B[38;5;241;43m=\u001B[39;49m\u001B[38;5;28;43mself\u001B[39;49m\u001B[38;5;241;43m.\u001B[39;49m\u001B[43moptions\u001B[49m\u001B[38;5;241;43m.\u001B[39;49m\u001B[43mget\u001B[49m\u001B[43m(\u001B[49m\u001B[38;5;124;43m\"\u001B[39;49m\u001B[38;5;124;43mcompression\u001B[39;49m\u001B[38;5;124;43m\"\u001B[39;49m\u001B[43m,\u001B[49m\u001B[43m \u001B[49m\u001B[38;5;28;43;01mNone\u001B[39;49;00m\u001B[43m)\u001B[49m\u001B[43m,\u001B[49m\n\u001B[1;32m   1710\u001B[0m \u001B[43m    \u001B[49m\u001B[43mmemory_map\u001B[49m\u001B[38;5;241;43m=\u001B[39;49m\u001B[38;5;28;43mself\u001B[39;49m\u001B[38;5;241;43m.\u001B[39;49m\u001B[43moptions\u001B[49m\u001B[38;5;241;43m.\u001B[39;49m\u001B[43mget\u001B[49m\u001B[43m(\u001B[49m\u001B[38;5;124;43m\"\u001B[39;49m\u001B[38;5;124;43mmemory_map\u001B[39;49m\u001B[38;5;124;43m\"\u001B[39;49m\u001B[43m,\u001B[49m\u001B[43m \u001B[49m\u001B[38;5;28;43;01mFalse\u001B[39;49;00m\u001B[43m)\u001B[49m\u001B[43m,\u001B[49m\n\u001B[1;32m   1711\u001B[0m \u001B[43m    \u001B[49m\u001B[43mis_text\u001B[49m\u001B[38;5;241;43m=\u001B[39;49m\u001B[43mis_text\u001B[49m\u001B[43m,\u001B[49m\n\u001B[1;32m   1712\u001B[0m \u001B[43m    \u001B[49m\u001B[43merrors\u001B[49m\u001B[38;5;241;43m=\u001B[39;49m\u001B[38;5;28;43mself\u001B[39;49m\u001B[38;5;241;43m.\u001B[39;49m\u001B[43moptions\u001B[49m\u001B[38;5;241;43m.\u001B[39;49m\u001B[43mget\u001B[49m\u001B[43m(\u001B[49m\u001B[38;5;124;43m\"\u001B[39;49m\u001B[38;5;124;43mencoding_errors\u001B[39;49m\u001B[38;5;124;43m\"\u001B[39;49m\u001B[43m,\u001B[49m\u001B[43m \u001B[49m\u001B[38;5;124;43m\"\u001B[39;49m\u001B[38;5;124;43mstrict\u001B[39;49m\u001B[38;5;124;43m\"\u001B[39;49m\u001B[43m)\u001B[49m\u001B[43m,\u001B[49m\n\u001B[1;32m   1713\u001B[0m \u001B[43m    \u001B[49m\u001B[43mstorage_options\u001B[49m\u001B[38;5;241;43m=\u001B[39;49m\u001B[38;5;28;43mself\u001B[39;49m\u001B[38;5;241;43m.\u001B[39;49m\u001B[43moptions\u001B[49m\u001B[38;5;241;43m.\u001B[39;49m\u001B[43mget\u001B[49m\u001B[43m(\u001B[49m\u001B[38;5;124;43m\"\u001B[39;49m\u001B[38;5;124;43mstorage_options\u001B[39;49m\u001B[38;5;124;43m\"\u001B[39;49m\u001B[43m,\u001B[49m\u001B[43m \u001B[49m\u001B[38;5;28;43;01mNone\u001B[39;49;00m\u001B[43m)\u001B[49m\u001B[43m,\u001B[49m\n\u001B[1;32m   1714\u001B[0m \u001B[43m\u001B[49m\u001B[43m)\u001B[49m\n\u001B[1;32m   1715\u001B[0m \u001B[38;5;28;01massert\u001B[39;00m \u001B[38;5;28mself\u001B[39m\u001B[38;5;241m.\u001B[39mhandles \u001B[38;5;129;01mis\u001B[39;00m \u001B[38;5;129;01mnot\u001B[39;00m \u001B[38;5;28;01mNone\u001B[39;00m\n\u001B[1;32m   1716\u001B[0m f \u001B[38;5;241m=\u001B[39m \u001B[38;5;28mself\u001B[39m\u001B[38;5;241m.\u001B[39mhandles\u001B[38;5;241m.\u001B[39mhandle\n",
      "File \u001B[0;32m~/opt/anaconda3/envs/iguanas-from-above-zooniverse/lib/python3.10/site-packages/pandas/io/common.py:863\u001B[0m, in \u001B[0;36mget_handle\u001B[0;34m(path_or_buf, mode, encoding, compression, memory_map, is_text, errors, storage_options)\u001B[0m\n\u001B[1;32m    858\u001B[0m \u001B[38;5;28;01melif\u001B[39;00m \u001B[38;5;28misinstance\u001B[39m(handle, \u001B[38;5;28mstr\u001B[39m):\n\u001B[1;32m    859\u001B[0m     \u001B[38;5;66;03m# Check whether the filename is to be opened in binary mode.\u001B[39;00m\n\u001B[1;32m    860\u001B[0m     \u001B[38;5;66;03m# Binary mode does not support 'encoding' and 'newline'.\u001B[39;00m\n\u001B[1;32m    861\u001B[0m     \u001B[38;5;28;01mif\u001B[39;00m ioargs\u001B[38;5;241m.\u001B[39mencoding \u001B[38;5;129;01mand\u001B[39;00m \u001B[38;5;124m\"\u001B[39m\u001B[38;5;124mb\u001B[39m\u001B[38;5;124m\"\u001B[39m \u001B[38;5;129;01mnot\u001B[39;00m \u001B[38;5;129;01min\u001B[39;00m ioargs\u001B[38;5;241m.\u001B[39mmode:\n\u001B[1;32m    862\u001B[0m         \u001B[38;5;66;03m# Encoding\u001B[39;00m\n\u001B[0;32m--> 863\u001B[0m         handle \u001B[38;5;241m=\u001B[39m \u001B[38;5;28;43mopen\u001B[39;49m\u001B[43m(\u001B[49m\n\u001B[1;32m    864\u001B[0m \u001B[43m            \u001B[49m\u001B[43mhandle\u001B[49m\u001B[43m,\u001B[49m\n\u001B[1;32m    865\u001B[0m \u001B[43m            \u001B[49m\u001B[43mioargs\u001B[49m\u001B[38;5;241;43m.\u001B[39;49m\u001B[43mmode\u001B[49m\u001B[43m,\u001B[49m\n\u001B[1;32m    866\u001B[0m \u001B[43m            \u001B[49m\u001B[43mencoding\u001B[49m\u001B[38;5;241;43m=\u001B[39;49m\u001B[43mioargs\u001B[49m\u001B[38;5;241;43m.\u001B[39;49m\u001B[43mencoding\u001B[49m\u001B[43m,\u001B[49m\n\u001B[1;32m    867\u001B[0m \u001B[43m            \u001B[49m\u001B[43merrors\u001B[49m\u001B[38;5;241;43m=\u001B[39;49m\u001B[43merrors\u001B[49m\u001B[43m,\u001B[49m\n\u001B[1;32m    868\u001B[0m \u001B[43m            \u001B[49m\u001B[43mnewline\u001B[49m\u001B[38;5;241;43m=\u001B[39;49m\u001B[38;5;124;43m\"\u001B[39;49m\u001B[38;5;124;43m\"\u001B[39;49m\u001B[43m,\u001B[49m\n\u001B[1;32m    869\u001B[0m \u001B[43m        \u001B[49m\u001B[43m)\u001B[49m\n\u001B[1;32m    870\u001B[0m     \u001B[38;5;28;01melse\u001B[39;00m:\n\u001B[1;32m    871\u001B[0m         \u001B[38;5;66;03m# Binary mode\u001B[39;00m\n\u001B[1;32m    872\u001B[0m         handle \u001B[38;5;241m=\u001B[39m \u001B[38;5;28mopen\u001B[39m(handle, ioargs\u001B[38;5;241m.\u001B[39mmode)\n",
      "\u001B[0;31mFileNotFoundError\u001B[0m: [Errno 2] No such file or directory: '/Users/christian/PycharmProjects/data/4th_december/Iguanas 3rd launch/Iguanas 3rd launch_method_comparison.csv'"
     ]
    }
   ],
   "source": [
    "from zooniverse.config import get_config\n",
    "import pandas as pd\n",
    "from pathlib import Path\n",
    "\n",
    "### use either the subset of the subset\n",
    "# phase_tag = \"Iguanas 1st launch\"\n",
    "# phase_tag = \"Iguanas 2nd launch\"\n",
    "phase_tag = \"Iguanas 3rd launch\"\n",
    "input_path = Path(\"/Users/christian/data/zooniverse\")\n",
    "\n",
    "use_gold_standard_subset = \"expert_goldstandard\"  # Use the X-T2-GS-results-5th-0s as the basis\n",
    "# use_gold_standard_subset = \"expert\" # Use the expert-GS-Xphase as the basis\n",
    "output_path = Path(\"../data/4th_december/\").joinpath(phase_tag).resolve()\n",
    "output_path.mkdir(exist_ok=True, parents=True)\n",
    "\n",
    "output_plot_path = output_path.joinpath(\"plots\")\n",
    "output_plot_path.mkdir(parents=True, exist_ok=True)\n",
    "\n",
    "config = get_config(phase_tag=phase_tag, input_path=input_path, output_path=output_path)\n",
    "\n",
    "df_method_comparison = pd.read_csv(\n",
    "    config[\"comparison_dataset\"], sep=\",\", index_col=0)[[\"subject_id\", \"dbscan_count\", \"HDBSCAN_count\", \"median_count\", \"mean_count\",\"mode_count\"]]\n",
    "\n"
   ],
   "metadata": {
    "collapsed": false,
    "ExecuteTime": {
     "end_time": "2024-03-24T18:38:45.656229Z",
     "start_time": "2024-03-24T18:38:45.450722Z"
    }
   },
   "id": "145bce94f139f8ae",
   "execution_count": 18
  },
  {
   "cell_type": "code",
   "outputs": [
    {
     "data": {
      "text/plain": "    subject_id  dbscan_count  HDBSCAN_count  median_count  mean_count  \\\n0     78926344           2.0            2.0           1.5        1.67   \n1     78928708           2.0            2.0           2.0        2.13   \n2     78938221           5.0            4.0           3.5        3.56   \n3     78938603           2.0            1.0           1.0        1.29   \n4     78938992           2.0            2.0           2.0        1.86   \n..         ...           ...            ...           ...         ...   \n81    78925388           0.0            1.0           1.0        1.00   \n82    78925457           0.0            1.0           1.0        1.00   \n83    78925467           0.0            1.0           1.0        1.14   \n84    78925536           2.0            1.0           1.0        1.05   \n85    78925551           2.0            2.0           2.0        2.00   \n\n    mode_count  \n0          1.0  \n1          2.0  \n2          4.0  \n3          1.0  \n4          2.0  \n..         ...  \n81         1.0  \n82         1.0  \n83         1.0  \n84         1.0  \n85         2.0  \n\n[86 rows x 6 columns]",
      "text/html": "<div>\n<style scoped>\n    .dataframe tbody tr th:only-of-type {\n        vertical-align: middle;\n    }\n\n    .dataframe tbody tr th {\n        vertical-align: top;\n    }\n\n    .dataframe thead th {\n        text-align: right;\n    }\n</style>\n<table border=\"1\" class=\"dataframe\">\n  <thead>\n    <tr style=\"text-align: right;\">\n      <th></th>\n      <th>subject_id</th>\n      <th>dbscan_count</th>\n      <th>HDBSCAN_count</th>\n      <th>median_count</th>\n      <th>mean_count</th>\n      <th>mode_count</th>\n    </tr>\n  </thead>\n  <tbody>\n    <tr>\n      <th>0</th>\n      <td>78926344</td>\n      <td>2.0</td>\n      <td>2.0</td>\n      <td>1.5</td>\n      <td>1.67</td>\n      <td>1.0</td>\n    </tr>\n    <tr>\n      <th>1</th>\n      <td>78928708</td>\n      <td>2.0</td>\n      <td>2.0</td>\n      <td>2.0</td>\n      <td>2.13</td>\n      <td>2.0</td>\n    </tr>\n    <tr>\n      <th>2</th>\n      <td>78938221</td>\n      <td>5.0</td>\n      <td>4.0</td>\n      <td>3.5</td>\n      <td>3.56</td>\n      <td>4.0</td>\n    </tr>\n    <tr>\n      <th>3</th>\n      <td>78938603</td>\n      <td>2.0</td>\n      <td>1.0</td>\n      <td>1.0</td>\n      <td>1.29</td>\n      <td>1.0</td>\n    </tr>\n    <tr>\n      <th>4</th>\n      <td>78938992</td>\n      <td>2.0</td>\n      <td>2.0</td>\n      <td>2.0</td>\n      <td>1.86</td>\n      <td>2.0</td>\n    </tr>\n    <tr>\n      <th>...</th>\n      <td>...</td>\n      <td>...</td>\n      <td>...</td>\n      <td>...</td>\n      <td>...</td>\n      <td>...</td>\n    </tr>\n    <tr>\n      <th>81</th>\n      <td>78925388</td>\n      <td>0.0</td>\n      <td>1.0</td>\n      <td>1.0</td>\n      <td>1.00</td>\n      <td>1.0</td>\n    </tr>\n    <tr>\n      <th>82</th>\n      <td>78925457</td>\n      <td>0.0</td>\n      <td>1.0</td>\n      <td>1.0</td>\n      <td>1.00</td>\n      <td>1.0</td>\n    </tr>\n    <tr>\n      <th>83</th>\n      <td>78925467</td>\n      <td>0.0</td>\n      <td>1.0</td>\n      <td>1.0</td>\n      <td>1.14</td>\n      <td>1.0</td>\n    </tr>\n    <tr>\n      <th>84</th>\n      <td>78925536</td>\n      <td>2.0</td>\n      <td>1.0</td>\n      <td>1.0</td>\n      <td>1.05</td>\n      <td>1.0</td>\n    </tr>\n    <tr>\n      <th>85</th>\n      <td>78925551</td>\n      <td>2.0</td>\n      <td>2.0</td>\n      <td>2.0</td>\n      <td>2.00</td>\n      <td>2.0</td>\n    </tr>\n  </tbody>\n</table>\n<p>86 rows × 6 columns</p>\n</div>"
     },
     "execution_count": 406,
     "metadata": {},
     "output_type": "execute_result"
    }
   ],
   "source": [
    "df_method_comparison"
   ],
   "metadata": {
    "collapsed": false,
    "ExecuteTime": {
     "end_time": "2024-02-07T22:30:59.223999Z",
     "start_time": "2024-02-07T22:30:59.216073Z"
    }
   },
   "id": "5a076f08674fdb07",
   "execution_count": 406
  },
  {
   "cell_type": "code",
   "outputs": [
    {
     "name": "stdout",
     "output_type": "stream",
     "text": [
      "Number of all expert images: 1156\n",
      "Number of images with count_total > 0: 111\n"
     ]
    }
   ],
   "source": [
    "df_expert_count = pd.read_csv(config[\"goldstandard_data\"], sep=\";\")\n",
    "\n",
    "df_expert_count_1plus = df_expert_count\n",
    "print(f\"Number of all expert images: {len(df_expert_count_1plus)}\")\n",
    "# df_expert_count_1plus = df_expert_count[df_expert_count[\"count_total\"] > 0]\n",
    "print(f\"Number of images with count_total > 0: {len(df_expert_count[df_expert_count['count_total'] > 0])}\")"
   ],
   "metadata": {
    "collapsed": false,
    "ExecuteTime": {
     "end_time": "2024-02-07T22:30:59.235473Z",
     "start_time": "2024-02-07T22:30:59.228065Z"
    }
   },
   "id": "497d70c4df5873df",
   "execution_count": 407
  },
  {
   "cell_type": "markdown",
   "source": [],
   "metadata": {
    "collapsed": false
   },
   "id": "d73009db55fc91a6"
  },
  {
   "cell_type": "code",
   "outputs": [],
   "source": [
    "df_expert_count_1plus = df_expert_count_1plus[['image_name', \"subject_id\", \"count_total\"]]"
   ],
   "metadata": {
    "collapsed": false,
    "ExecuteTime": {
     "end_time": "2024-02-07T22:30:59.237219Z",
     "start_time": "2024-02-07T22:30:59.233162Z"
    }
   },
   "id": "1e20c346a246ccb0",
   "execution_count": 408
  },
  {
   "cell_type": "markdown",
   "source": [
    "## set the predicted count to 0 for all images which volunteers did not count anything"
   ],
   "metadata": {
    "collapsed": false
   },
   "id": "2dff7cf1a4991c1e"
  },
  {
   "cell_type": "code",
   "outputs": [
    {
     "data": {
      "text/plain": "          image_name  subject_id  count_total\n0       MBN02_72.jpg    78925728            0\n1       MBN02_74.jpg    78925730            0\n2       MBN02_95.jpg    78925747            0\n3     MBN03-2_06.jpg    78925781            0\n4     MBN03-2_38.jpg    78925808            0\n...              ...         ...          ...\n1151  GWB01-3_66.jpg    78925600            1\n1152  GWB01-3_70.jpg    78925604            0\n1153  GWB01-3_71.jpg    78925605            0\n1154  GWB01-3_82.jpg    78925608            0\n1155  GWB01-3_88.jpg    78925614            1\n\n[1156 rows x 3 columns]",
      "text/html": "<div>\n<style scoped>\n    .dataframe tbody tr th:only-of-type {\n        vertical-align: middle;\n    }\n\n    .dataframe tbody tr th {\n        vertical-align: top;\n    }\n\n    .dataframe thead th {\n        text-align: right;\n    }\n</style>\n<table border=\"1\" class=\"dataframe\">\n  <thead>\n    <tr style=\"text-align: right;\">\n      <th></th>\n      <th>image_name</th>\n      <th>subject_id</th>\n      <th>count_total</th>\n    </tr>\n  </thead>\n  <tbody>\n    <tr>\n      <th>0</th>\n      <td>MBN02_72.jpg</td>\n      <td>78925728</td>\n      <td>0</td>\n    </tr>\n    <tr>\n      <th>1</th>\n      <td>MBN02_74.jpg</td>\n      <td>78925730</td>\n      <td>0</td>\n    </tr>\n    <tr>\n      <th>2</th>\n      <td>MBN02_95.jpg</td>\n      <td>78925747</td>\n      <td>0</td>\n    </tr>\n    <tr>\n      <th>3</th>\n      <td>MBN03-2_06.jpg</td>\n      <td>78925781</td>\n      <td>0</td>\n    </tr>\n    <tr>\n      <th>4</th>\n      <td>MBN03-2_38.jpg</td>\n      <td>78925808</td>\n      <td>0</td>\n    </tr>\n    <tr>\n      <th>...</th>\n      <td>...</td>\n      <td>...</td>\n      <td>...</td>\n    </tr>\n    <tr>\n      <th>1151</th>\n      <td>GWB01-3_66.jpg</td>\n      <td>78925600</td>\n      <td>1</td>\n    </tr>\n    <tr>\n      <th>1152</th>\n      <td>GWB01-3_70.jpg</td>\n      <td>78925604</td>\n      <td>0</td>\n    </tr>\n    <tr>\n      <th>1153</th>\n      <td>GWB01-3_71.jpg</td>\n      <td>78925605</td>\n      <td>0</td>\n    </tr>\n    <tr>\n      <th>1154</th>\n      <td>GWB01-3_82.jpg</td>\n      <td>78925608</td>\n      <td>0</td>\n    </tr>\n    <tr>\n      <th>1155</th>\n      <td>GWB01-3_88.jpg</td>\n      <td>78925614</td>\n      <td>1</td>\n    </tr>\n  </tbody>\n</table>\n<p>1156 rows × 3 columns</p>\n</div>"
     },
     "execution_count": 409,
     "metadata": {},
     "output_type": "execute_result"
    }
   ],
   "source": [
    "df_expert_count_1plus"
   ],
   "metadata": {
    "collapsed": false,
    "ExecuteTime": {
     "end_time": "2024-02-07T22:30:59.252304Z",
     "start_time": "2024-02-07T22:30:59.237786Z"
    }
   },
   "id": "2e04e1b5e46aedc",
   "execution_count": 409
  },
  {
   "cell_type": "code",
   "outputs": [
    {
     "data": {
      "text/plain": "Empty DataFrame\nColumns: [subject_id, dbscan_count, HDBSCAN_count, median_count, mean_count, mode_count]\nIndex: []",
      "text/html": "<div>\n<style scoped>\n    .dataframe tbody tr th:only-of-type {\n        vertical-align: middle;\n    }\n\n    .dataframe tbody tr th {\n        vertical-align: top;\n    }\n\n    .dataframe thead th {\n        text-align: right;\n    }\n</style>\n<table border=\"1\" class=\"dataframe\">\n  <thead>\n    <tr style=\"text-align: right;\">\n      <th></th>\n      <th>subject_id</th>\n      <th>dbscan_count</th>\n      <th>HDBSCAN_count</th>\n      <th>median_count</th>\n      <th>mean_count</th>\n      <th>mode_count</th>\n    </tr>\n  </thead>\n  <tbody>\n  </tbody>\n</table>\n</div>"
     },
     "execution_count": 410,
     "metadata": {},
     "output_type": "execute_result"
    }
   ],
   "source": [
    "# Elemeents where volunteers did find something but the expert not\n",
    "df_method_comparison[~df_method_comparison['subject_id'].isin(df_expert_count_1plus['subject_id'])]"
   ],
   "metadata": {
    "collapsed": false,
    "ExecuteTime": {
     "end_time": "2024-02-07T22:30:59.259464Z",
     "start_time": "2024-02-07T22:30:59.241827Z"
    }
   },
   "id": "dcadacfe0b107386",
   "execution_count": 410
  },
  {
   "cell_type": "code",
   "outputs": [
    {
     "data": {
      "text/plain": "          image_name  subject_id  count_total  dbscan_count  HDBSCAN_count  \\\n0       MBN02_72.jpg    78925728            0           NaN            NaN   \n1       MBN02_74.jpg    78925730            0           NaN            NaN   \n2       MBN02_95.jpg    78925747            0           NaN            NaN   \n3     MBN03-2_06.jpg    78925781            0           NaN            NaN   \n4     MBN03-2_38.jpg    78925808            0           NaN            NaN   \n...              ...         ...          ...           ...            ...   \n1151  GWB01-3_66.jpg    78925600            1           NaN            NaN   \n1152  GWB01-3_70.jpg    78925604            0           NaN            NaN   \n1153  GWB01-3_71.jpg    78925605            0           NaN            NaN   \n1154  GWB01-3_82.jpg    78925608            0           NaN            NaN   \n1155  GWB01-3_88.jpg    78925614            1           NaN            NaN   \n\n      median_count  mean_count  mode_count  \n0              NaN         NaN         NaN  \n1              NaN         NaN         NaN  \n2              NaN         NaN         NaN  \n3              NaN         NaN         NaN  \n4              NaN         NaN         NaN  \n...            ...         ...         ...  \n1151           NaN         NaN         NaN  \n1152           NaN         NaN         NaN  \n1153           NaN         NaN         NaN  \n1154           NaN         NaN         NaN  \n1155           NaN         NaN         NaN  \n\n[1156 rows x 8 columns]",
      "text/html": "<div>\n<style scoped>\n    .dataframe tbody tr th:only-of-type {\n        vertical-align: middle;\n    }\n\n    .dataframe tbody tr th {\n        vertical-align: top;\n    }\n\n    .dataframe thead th {\n        text-align: right;\n    }\n</style>\n<table border=\"1\" class=\"dataframe\">\n  <thead>\n    <tr style=\"text-align: right;\">\n      <th></th>\n      <th>image_name</th>\n      <th>subject_id</th>\n      <th>count_total</th>\n      <th>dbscan_count</th>\n      <th>HDBSCAN_count</th>\n      <th>median_count</th>\n      <th>mean_count</th>\n      <th>mode_count</th>\n    </tr>\n  </thead>\n  <tbody>\n    <tr>\n      <th>0</th>\n      <td>MBN02_72.jpg</td>\n      <td>78925728</td>\n      <td>0</td>\n      <td>NaN</td>\n      <td>NaN</td>\n      <td>NaN</td>\n      <td>NaN</td>\n      <td>NaN</td>\n    </tr>\n    <tr>\n      <th>1</th>\n      <td>MBN02_74.jpg</td>\n      <td>78925730</td>\n      <td>0</td>\n      <td>NaN</td>\n      <td>NaN</td>\n      <td>NaN</td>\n      <td>NaN</td>\n      <td>NaN</td>\n    </tr>\n    <tr>\n      <th>2</th>\n      <td>MBN02_95.jpg</td>\n      <td>78925747</td>\n      <td>0</td>\n      <td>NaN</td>\n      <td>NaN</td>\n      <td>NaN</td>\n      <td>NaN</td>\n      <td>NaN</td>\n    </tr>\n    <tr>\n      <th>3</th>\n      <td>MBN03-2_06.jpg</td>\n      <td>78925781</td>\n      <td>0</td>\n      <td>NaN</td>\n      <td>NaN</td>\n      <td>NaN</td>\n      <td>NaN</td>\n      <td>NaN</td>\n    </tr>\n    <tr>\n      <th>4</th>\n      <td>MBN03-2_38.jpg</td>\n      <td>78925808</td>\n      <td>0</td>\n      <td>NaN</td>\n      <td>NaN</td>\n      <td>NaN</td>\n      <td>NaN</td>\n      <td>NaN</td>\n    </tr>\n    <tr>\n      <th>...</th>\n      <td>...</td>\n      <td>...</td>\n      <td>...</td>\n      <td>...</td>\n      <td>...</td>\n      <td>...</td>\n      <td>...</td>\n      <td>...</td>\n    </tr>\n    <tr>\n      <th>1151</th>\n      <td>GWB01-3_66.jpg</td>\n      <td>78925600</td>\n      <td>1</td>\n      <td>NaN</td>\n      <td>NaN</td>\n      <td>NaN</td>\n      <td>NaN</td>\n      <td>NaN</td>\n    </tr>\n    <tr>\n      <th>1152</th>\n      <td>GWB01-3_70.jpg</td>\n      <td>78925604</td>\n      <td>0</td>\n      <td>NaN</td>\n      <td>NaN</td>\n      <td>NaN</td>\n      <td>NaN</td>\n      <td>NaN</td>\n    </tr>\n    <tr>\n      <th>1153</th>\n      <td>GWB01-3_71.jpg</td>\n      <td>78925605</td>\n      <td>0</td>\n      <td>NaN</td>\n      <td>NaN</td>\n      <td>NaN</td>\n      <td>NaN</td>\n      <td>NaN</td>\n    </tr>\n    <tr>\n      <th>1154</th>\n      <td>GWB01-3_82.jpg</td>\n      <td>78925608</td>\n      <td>0</td>\n      <td>NaN</td>\n      <td>NaN</td>\n      <td>NaN</td>\n      <td>NaN</td>\n      <td>NaN</td>\n    </tr>\n    <tr>\n      <th>1155</th>\n      <td>GWB01-3_88.jpg</td>\n      <td>78925614</td>\n      <td>1</td>\n      <td>NaN</td>\n      <td>NaN</td>\n      <td>NaN</td>\n      <td>NaN</td>\n      <td>NaN</td>\n    </tr>\n  </tbody>\n</table>\n<p>1156 rows × 8 columns</p>\n</div>"
     },
     "execution_count": 411,
     "metadata": {},
     "output_type": "execute_result"
    }
   ],
   "source": [
    "# Outer Join is necessary because the expert did not count anything for some images\n",
    "df_expert_count_1plus = df_expert_count_1plus.merge(df_method_comparison, on=\"subject_id\", how=\"left\")\n",
    "df_expert_count_1plus"
   ],
   "metadata": {
    "collapsed": false,
    "ExecuteTime": {
     "end_time": "2024-02-07T22:30:59.260918Z",
     "start_time": "2024-02-07T22:30:59.247265Z"
    }
   },
   "id": "daaf61b4806ac428",
   "execution_count": 411
  },
  {
   "cell_type": "code",
   "outputs": [
    {
     "data": {
      "text/plain": "                 sum\ncount_total    388.0\ndbscan_count   310.0\nHDBSCAN_count  357.0\nmedian_count   316.5\nmean_count     319.7\nmode_count     314.0",
      "text/html": "<div>\n<style scoped>\n    .dataframe tbody tr th:only-of-type {\n        vertical-align: middle;\n    }\n\n    .dataframe tbody tr th {\n        vertical-align: top;\n    }\n\n    .dataframe thead th {\n        text-align: right;\n    }\n</style>\n<table border=\"1\" class=\"dataframe\">\n  <thead>\n    <tr style=\"text-align: right;\">\n      <th></th>\n      <th>sum</th>\n    </tr>\n  </thead>\n  <tbody>\n    <tr>\n      <th>count_total</th>\n      <td>388.0</td>\n    </tr>\n    <tr>\n      <th>dbscan_count</th>\n      <td>310.0</td>\n    </tr>\n    <tr>\n      <th>HDBSCAN_count</th>\n      <td>357.0</td>\n    </tr>\n    <tr>\n      <th>median_count</th>\n      <td>316.5</td>\n    </tr>\n    <tr>\n      <th>mean_count</th>\n      <td>319.7</td>\n    </tr>\n    <tr>\n      <th>mode_count</th>\n      <td>314.0</td>\n    </tr>\n  </tbody>\n</table>\n</div>"
     },
     "execution_count": 412,
     "metadata": {},
     "output_type": "execute_result"
    }
   ],
   "source": [
    "pd.DataFrame(df_expert_count_1plus.drop([\"image_name\", \"subject_id\"], axis=1).sum(), columns=[\"sum\"])"
   ],
   "metadata": {
    "collapsed": false,
    "ExecuteTime": {
     "end_time": "2024-02-07T22:30:59.281221Z",
     "start_time": "2024-02-07T22:30:59.254745Z"
    }
   },
   "id": "fa1a1814639f987e",
   "execution_count": 412
  },
  {
   "cell_type": "code",
   "outputs": [
    {
     "data": {
      "text/plain": "0.6322"
     },
     "execution_count": 413,
     "metadata": {},
     "output_type": "execute_result"
    }
   ],
   "source": [
    "from sklearn.metrics import mean_squared_error\n",
    "# root mean squared error\n",
    "df_expert_count_1plus.fillna(0, inplace=True)\n",
    "\n",
    "round(mean_squared_error(df_expert_count_1plus.count_total, df_expert_count_1plus.dbscan_count, squared=False), 4)"
   ],
   "metadata": {
    "collapsed": false,
    "ExecuteTime": {
     "end_time": "2024-02-07T22:30:59.283313Z",
     "start_time": "2024-02-07T22:30:59.263879Z"
    }
   },
   "id": "66ac6a4536c8d119",
   "execution_count": 413
  },
  {
   "cell_type": "code",
   "outputs": [
    {
     "data": {
      "text/plain": "0.3891"
     },
     "execution_count": 414,
     "metadata": {},
     "output_type": "execute_result"
    }
   ],
   "source": [
    "round(mean_squared_error(df_expert_count_1plus.count_total, df_expert_count_1plus.HDBSCAN_count, squared=False), 4)\n"
   ],
   "metadata": {
    "collapsed": false,
    "ExecuteTime": {
     "end_time": "2024-02-07T22:30:59.331654Z",
     "start_time": "2024-02-07T22:30:59.286710Z"
    }
   },
   "id": "5a8cd9b1b78aed9d",
   "execution_count": 414
  },
  {
   "cell_type": "code",
   "outputs": [
    {
     "data": {
      "text/plain": "0.4717"
     },
     "execution_count": 415,
     "metadata": {},
     "output_type": "execute_result"
    }
   ],
   "source": [
    "round(mean_squared_error(df_expert_count_1plus.count_total, df_expert_count_1plus.mean_count, squared=False), 4)"
   ],
   "metadata": {
    "collapsed": false,
    "ExecuteTime": {
     "end_time": "2024-02-07T22:30:59.336853Z",
     "start_time": "2024-02-07T22:30:59.295159Z"
    }
   },
   "id": "52195cd86339a3a0",
   "execution_count": 415
  },
  {
   "cell_type": "code",
   "outputs": [
    {
     "data": {
      "text/plain": "0.4813"
     },
     "execution_count": 416,
     "metadata": {},
     "output_type": "execute_result"
    }
   ],
   "source": [
    "round(mean_squared_error(df_expert_count_1plus.count_total, df_expert_count_1plus.median_count, squared=False), 4)"
   ],
   "metadata": {
    "collapsed": false,
    "ExecuteTime": {
     "end_time": "2024-02-07T22:30:59.367740Z",
     "start_time": "2024-02-07T22:30:59.337083Z"
    }
   },
   "id": "16c0420c575f9cc4",
   "execution_count": 416
  },
  {
   "cell_type": "code",
   "outputs": [
    {
     "data": {
      "text/plain": "0.5487"
     },
     "execution_count": 417,
     "metadata": {},
     "output_type": "execute_result"
    }
   ],
   "source": [
    "round(mean_squared_error(df_expert_count_1plus.count_total, df_expert_count_1plus.mode_count, squared=False), 4)"
   ],
   "metadata": {
    "collapsed": false,
    "ExecuteTime": {
     "end_time": "2024-02-07T22:30:59.373426Z",
     "start_time": "2024-02-07T22:30:59.371047Z"
    }
   },
   "id": "afd360df26569642",
   "execution_count": 417
  },
  {
   "cell_type": "markdown",
   "source": [
    "## Compare to error rates when volunteers did find something\n",
    "Lets double check"
   ],
   "metadata": {
    "collapsed": false
   },
   "id": "a432a0c832dc60cd"
  },
  {
   "cell_type": "code",
   "outputs": [],
   "source": [
    "df_method_comparison = pd.read_csv(\n",
    "    config[\"comparison_dataset\"], sep=\",\", index_col=0)[[\"subject_id\", \"count_total\", \"dbscan_count\", \"HDBSCAN_count\", \"median_count\", \"mean_count\",\"mode_count\"]]\n",
    "\n"
   ],
   "metadata": {
    "collapsed": false,
    "ExecuteTime": {
     "end_time": "2024-02-07T22:30:59.386984Z",
     "start_time": "2024-02-07T22:30:59.373927Z"
    }
   },
   "id": "a366f06fd35ea8b1",
   "execution_count": 418
  },
  {
   "cell_type": "code",
   "outputs": [],
   "source": [
    "df_method_comparison.fillna(0, inplace=True)"
   ],
   "metadata": {
    "collapsed": false,
    "ExecuteTime": {
     "end_time": "2024-02-07T22:30:59.388398Z",
     "start_time": "2024-02-07T22:30:59.378249Z"
    }
   },
   "id": "f76a0a4f3a426588",
   "execution_count": 419
  },
  {
   "cell_type": "code",
   "outputs": [
    {
     "data": {
      "text/plain": "2.1754"
     },
     "execution_count": 420,
     "metadata": {},
     "output_type": "execute_result"
    }
   ],
   "source": [
    "round(mean_squared_error(df_method_comparison.count_total, df_method_comparison.dbscan_count, squared=False), 4)"
   ],
   "metadata": {
    "collapsed": false,
    "ExecuteTime": {
     "end_time": "2024-02-07T22:30:59.388840Z",
     "start_time": "2024-02-07T22:30:59.381024Z"
    }
   },
   "id": "924a7b3d79343493",
   "execution_count": 420
  },
  {
   "cell_type": "code",
   "outputs": [
    {
     "data": {
      "text/plain": "1.1812"
     },
     "execution_count": 421,
     "metadata": {},
     "output_type": "execute_result"
    }
   ],
   "source": [
    "round(mean_squared_error(df_method_comparison.count_total, df_method_comparison.HDBSCAN_count, squared=False), 4)\n",
    "\n"
   ],
   "metadata": {
    "collapsed": false,
    "ExecuteTime": {
     "end_time": "2024-02-07T22:30:59.389115Z",
     "start_time": "2024-02-07T22:30:59.384611Z"
    }
   },
   "id": "6d8716895889fe5d",
   "execution_count": 421
  },
  {
   "cell_type": "code",
   "outputs": [
    {
     "data": {
      "text/plain": "1.5336"
     },
     "execution_count": 422,
     "metadata": {},
     "output_type": "execute_result"
    }
   ],
   "source": [
    "round(mean_squared_error(df_method_comparison.count_total, df_method_comparison.mean_count, squared=False), 4)\n"
   ],
   "metadata": {
    "collapsed": false,
    "ExecuteTime": {
     "end_time": "2024-02-07T22:30:59.404673Z",
     "start_time": "2024-02-07T22:30:59.388646Z"
    }
   },
   "id": "dc652a50365b8a9d",
   "execution_count": 422
  },
  {
   "cell_type": "code",
   "outputs": [
    {
     "data": {
      "text/plain": "1.5728"
     },
     "execution_count": 423,
     "metadata": {},
     "output_type": "execute_result"
    }
   ],
   "source": [
    "round(mean_squared_error(df_method_comparison.count_total, df_method_comparison.median_count, squared=False), 4)\n"
   ],
   "metadata": {
    "collapsed": false,
    "ExecuteTime": {
     "end_time": "2024-02-07T22:30:59.405067Z",
     "start_time": "2024-02-07T22:30:59.391822Z"
    }
   },
   "id": "a23fb0bf41726002",
   "execution_count": 423
  },
  {
   "cell_type": "code",
   "outputs": [
    {
     "data": {
      "text/plain": "1.8458"
     },
     "execution_count": 424,
     "metadata": {},
     "output_type": "execute_result"
    }
   ],
   "source": [
    "round(mean_squared_error(df_method_comparison.count_total, df_method_comparison.mode_count, squared=False), 4)"
   ],
   "metadata": {
    "collapsed": false,
    "ExecuteTime": {
     "end_time": "2024-02-07T22:30:59.405360Z",
     "start_time": "2024-02-07T22:30:59.395536Z"
    }
   },
   "id": "fe3bf04a90e8c26a",
   "execution_count": 424
  },
  {
   "cell_type": "markdown",
   "source": [
    "### Double checking the calculation of basic statistics\n"
   ],
   "metadata": {
    "collapsed": false
   },
   "id": "ae5e9ee15dee191f"
  },
  {
   "cell_type": "markdown",
   "source": [],
   "metadata": {
    "collapsed": false
   },
   "id": "ff0ecdf277032285"
  },
  {
   "cell_type": "code",
   "outputs": [
    {
     "data": {
      "text/plain": "    flight_site_code           image_name  subject_id           x           y  \\\n49              SFM1  SFM01-2-2-1_293.jpg    47969478  385.480804  314.101715   \n50              SFM1  SFM01-2-2-1_293.jpg    47969478  297.649719  333.019196   \n51              SFM1  SFM01-2-2-1_293.jpg    47969478  308.459686  372.205383   \n52              SFM1  SFM01-2-2-1_293.jpg    47969478  357.104614  391.122833   \n53              SFM1  SFM01-2-2-1_293.jpg    47969478  385.480804  358.692902   \n54              SFM1  SFM01-2-2-1_293.jpg    47969478  334.133392  335.721680   \n55              SFM1  SFM01-2-2-1_293.jpg    47969478  271.976013  160.059494   \n56              SFM1  SFM01-2-2-1_293.jpg    47969478  247.653549  172.220734   \n57              SFM1  SFM01-2-2-1_293.jpg    47969478  266.571014  180.328217   \n74              SFM1  SFM01-2-2-1_293.jpg    47969478  369.232056  313.836273   \n75              SFM1  SFM01-2-2-1_293.jpg    47969478  261.927734  160.379562   \n92              SFM1  SFM01-2-2-1_293.jpg    47969478  360.468750  312.000000   \n93              SFM1  SFM01-2-2-1_293.jpg    47969478  259.468750  177.000000   \n96              SFM1  SFM01-2-2-1_293.jpg    47969478  372.212433  398.718628   \n97              SFM1  SFM01-2-2-1_293.jpg    47969478  323.482971  385.921143   \n98              SFM1  SFM01-2-2-1_293.jpg    47969478  396.577148  315.230316   \n99              SFM1  SFM01-2-2-1_293.jpg    47969478  330.183228  334.731262   \n100             SFM1  SFM01-2-2-1_293.jpg    47969478  291.808777  317.667938   \n101             SFM1  SFM01-2-2-1_293.jpg    47969478  397.186279  351.185120   \n102             SFM1  SFM01-2-2-1_293.jpg    47969478  177.357056  313.744781   \n\n                                            tool_label           phase_tag  \\\n49   Others (females, young males, juveniles and ta...  Iguanas 1st launch   \n50   Others (females, young males, juveniles and ta...  Iguanas 1st launch   \n51   Others (females, young males, juveniles and ta...  Iguanas 1st launch   \n52   Others (females, young males, juveniles and ta...  Iguanas 1st launch   \n53   Others (females, young males, juveniles and ta...  Iguanas 1st launch   \n54   Others (females, young males, juveniles and ta...  Iguanas 1st launch   \n55   Others (females, young males, juveniles and ta...  Iguanas 1st launch   \n56   Others (females, young males, juveniles and ta...  Iguanas 1st launch   \n57   Others (females, young males, juveniles and ta...  Iguanas 1st launch   \n74                        Could be an iguana, not sure  Iguanas 1st launch   \n75                        Could be an iguana, not sure  Iguanas 1st launch   \n92                        Could be an iguana, not sure  Iguanas 1st launch   \n93                        Could be an iguana, not sure  Iguanas 1st launch   \n96   Others (females, young males, juveniles and ta...  Iguanas 1st launch   \n97   Others (females, young males, juveniles and ta...  Iguanas 1st launch   \n98   Others (females, young males, juveniles and ta...  Iguanas 1st launch   \n99   Others (females, young males, juveniles and ta...  Iguanas 1st launch   \n100  Others (females, young males, juveniles and ta...  Iguanas 1st launch   \n101  Others (females, young males, juveniles and ta...  Iguanas 1st launch   \n102                       Could be an iguana, not sure  Iguanas 1st launch   \n\n       user_id                           user_name mission_name  \\\n49   1911549.0                        Darkstar1977         SFM1   \n50   1911549.0                        Darkstar1977         SFM1   \n51   1911549.0                        Darkstar1977         SFM1   \n52   1911549.0                        Darkstar1977         SFM1   \n53   1911549.0                        Darkstar1977         SFM1   \n54   1911549.0                        Darkstar1977         SFM1   \n55   1911549.0                        Darkstar1977         SFM1   \n56   1911549.0                        Darkstar1977         SFM1   \n57   1911549.0                        Darkstar1977         SFM1   \n74   2165180.0                           sopeyJoe1         SFM1   \n75   2165180.0                           sopeyJoe1         SFM1   \n92         NaN  not-logged-in-bcac79bef32f402fb848         SFM1   \n93         NaN  not-logged-in-bcac79bef32f402fb848         SFM1   \n96   1469510.0                          Pamelavans         SFM1   \n97   1469510.0                          Pamelavans         SFM1   \n98   1469510.0                          Pamelavans         SFM1   \n99   1469510.0                          Pamelavans         SFM1   \n100  1469510.0                          Pamelavans         SFM1   \n101  1469510.0                          Pamelavans         SFM1   \n102  1469510.0                          Pamelavans         SFM1   \n\n                                            image_path  width  height  \n49   /Users/christian/data/zooniverse/Images/Zooniv...    667     649  \n50   /Users/christian/data/zooniverse/Images/Zooniv...    667     649  \n51   /Users/christian/data/zooniverse/Images/Zooniv...    667     649  \n52   /Users/christian/data/zooniverse/Images/Zooniv...    667     649  \n53   /Users/christian/data/zooniverse/Images/Zooniv...    667     649  \n54   /Users/christian/data/zooniverse/Images/Zooniv...    667     649  \n55   /Users/christian/data/zooniverse/Images/Zooniv...    667     649  \n56   /Users/christian/data/zooniverse/Images/Zooniv...    667     649  \n57   /Users/christian/data/zooniverse/Images/Zooniv...    667     649  \n74   /Users/christian/data/zooniverse/Images/Zooniv...    667     649  \n75   /Users/christian/data/zooniverse/Images/Zooniv...    667     649  \n92   /Users/christian/data/zooniverse/Images/Zooniv...    667     649  \n93   /Users/christian/data/zooniverse/Images/Zooniv...    667     649  \n96   /Users/christian/data/zooniverse/Images/Zooniv...    667     649  \n97   /Users/christian/data/zooniverse/Images/Zooniv...    667     649  \n98   /Users/christian/data/zooniverse/Images/Zooniv...    667     649  \n99   /Users/christian/data/zooniverse/Images/Zooniv...    667     649  \n100  /Users/christian/data/zooniverse/Images/Zooniv...    667     649  \n101  /Users/christian/data/zooniverse/Images/Zooniv...    667     649  \n102  /Users/christian/data/zooniverse/Images/Zooniv...    667     649  ",
      "text/html": "<div>\n<style scoped>\n    .dataframe tbody tr th:only-of-type {\n        vertical-align: middle;\n    }\n\n    .dataframe tbody tr th {\n        vertical-align: top;\n    }\n\n    .dataframe thead th {\n        text-align: right;\n    }\n</style>\n<table border=\"1\" class=\"dataframe\">\n  <thead>\n    <tr style=\"text-align: right;\">\n      <th></th>\n      <th>flight_site_code</th>\n      <th>image_name</th>\n      <th>subject_id</th>\n      <th>x</th>\n      <th>y</th>\n      <th>tool_label</th>\n      <th>phase_tag</th>\n      <th>user_id</th>\n      <th>user_name</th>\n      <th>mission_name</th>\n      <th>image_path</th>\n      <th>width</th>\n      <th>height</th>\n    </tr>\n  </thead>\n  <tbody>\n    <tr>\n      <th>49</th>\n      <td>SFM1</td>\n      <td>SFM01-2-2-1_293.jpg</td>\n      <td>47969478</td>\n      <td>385.480804</td>\n      <td>314.101715</td>\n      <td>Others (females, young males, juveniles and ta...</td>\n      <td>Iguanas 1st launch</td>\n      <td>1911549.0</td>\n      <td>Darkstar1977</td>\n      <td>SFM1</td>\n      <td>/Users/christian/data/zooniverse/Images/Zooniv...</td>\n      <td>667</td>\n      <td>649</td>\n    </tr>\n    <tr>\n      <th>50</th>\n      <td>SFM1</td>\n      <td>SFM01-2-2-1_293.jpg</td>\n      <td>47969478</td>\n      <td>297.649719</td>\n      <td>333.019196</td>\n      <td>Others (females, young males, juveniles and ta...</td>\n      <td>Iguanas 1st launch</td>\n      <td>1911549.0</td>\n      <td>Darkstar1977</td>\n      <td>SFM1</td>\n      <td>/Users/christian/data/zooniverse/Images/Zooniv...</td>\n      <td>667</td>\n      <td>649</td>\n    </tr>\n    <tr>\n      <th>51</th>\n      <td>SFM1</td>\n      <td>SFM01-2-2-1_293.jpg</td>\n      <td>47969478</td>\n      <td>308.459686</td>\n      <td>372.205383</td>\n      <td>Others (females, young males, juveniles and ta...</td>\n      <td>Iguanas 1st launch</td>\n      <td>1911549.0</td>\n      <td>Darkstar1977</td>\n      <td>SFM1</td>\n      <td>/Users/christian/data/zooniverse/Images/Zooniv...</td>\n      <td>667</td>\n      <td>649</td>\n    </tr>\n    <tr>\n      <th>52</th>\n      <td>SFM1</td>\n      <td>SFM01-2-2-1_293.jpg</td>\n      <td>47969478</td>\n      <td>357.104614</td>\n      <td>391.122833</td>\n      <td>Others (females, young males, juveniles and ta...</td>\n      <td>Iguanas 1st launch</td>\n      <td>1911549.0</td>\n      <td>Darkstar1977</td>\n      <td>SFM1</td>\n      <td>/Users/christian/data/zooniverse/Images/Zooniv...</td>\n      <td>667</td>\n      <td>649</td>\n    </tr>\n    <tr>\n      <th>53</th>\n      <td>SFM1</td>\n      <td>SFM01-2-2-1_293.jpg</td>\n      <td>47969478</td>\n      <td>385.480804</td>\n      <td>358.692902</td>\n      <td>Others (females, young males, juveniles and ta...</td>\n      <td>Iguanas 1st launch</td>\n      <td>1911549.0</td>\n      <td>Darkstar1977</td>\n      <td>SFM1</td>\n      <td>/Users/christian/data/zooniverse/Images/Zooniv...</td>\n      <td>667</td>\n      <td>649</td>\n    </tr>\n    <tr>\n      <th>54</th>\n      <td>SFM1</td>\n      <td>SFM01-2-2-1_293.jpg</td>\n      <td>47969478</td>\n      <td>334.133392</td>\n      <td>335.721680</td>\n      <td>Others (females, young males, juveniles and ta...</td>\n      <td>Iguanas 1st launch</td>\n      <td>1911549.0</td>\n      <td>Darkstar1977</td>\n      <td>SFM1</td>\n      <td>/Users/christian/data/zooniverse/Images/Zooniv...</td>\n      <td>667</td>\n      <td>649</td>\n    </tr>\n    <tr>\n      <th>55</th>\n      <td>SFM1</td>\n      <td>SFM01-2-2-1_293.jpg</td>\n      <td>47969478</td>\n      <td>271.976013</td>\n      <td>160.059494</td>\n      <td>Others (females, young males, juveniles and ta...</td>\n      <td>Iguanas 1st launch</td>\n      <td>1911549.0</td>\n      <td>Darkstar1977</td>\n      <td>SFM1</td>\n      <td>/Users/christian/data/zooniverse/Images/Zooniv...</td>\n      <td>667</td>\n      <td>649</td>\n    </tr>\n    <tr>\n      <th>56</th>\n      <td>SFM1</td>\n      <td>SFM01-2-2-1_293.jpg</td>\n      <td>47969478</td>\n      <td>247.653549</td>\n      <td>172.220734</td>\n      <td>Others (females, young males, juveniles and ta...</td>\n      <td>Iguanas 1st launch</td>\n      <td>1911549.0</td>\n      <td>Darkstar1977</td>\n      <td>SFM1</td>\n      <td>/Users/christian/data/zooniverse/Images/Zooniv...</td>\n      <td>667</td>\n      <td>649</td>\n    </tr>\n    <tr>\n      <th>57</th>\n      <td>SFM1</td>\n      <td>SFM01-2-2-1_293.jpg</td>\n      <td>47969478</td>\n      <td>266.571014</td>\n      <td>180.328217</td>\n      <td>Others (females, young males, juveniles and ta...</td>\n      <td>Iguanas 1st launch</td>\n      <td>1911549.0</td>\n      <td>Darkstar1977</td>\n      <td>SFM1</td>\n      <td>/Users/christian/data/zooniverse/Images/Zooniv...</td>\n      <td>667</td>\n      <td>649</td>\n    </tr>\n    <tr>\n      <th>74</th>\n      <td>SFM1</td>\n      <td>SFM01-2-2-1_293.jpg</td>\n      <td>47969478</td>\n      <td>369.232056</td>\n      <td>313.836273</td>\n      <td>Could be an iguana, not sure</td>\n      <td>Iguanas 1st launch</td>\n      <td>2165180.0</td>\n      <td>sopeyJoe1</td>\n      <td>SFM1</td>\n      <td>/Users/christian/data/zooniverse/Images/Zooniv...</td>\n      <td>667</td>\n      <td>649</td>\n    </tr>\n    <tr>\n      <th>75</th>\n      <td>SFM1</td>\n      <td>SFM01-2-2-1_293.jpg</td>\n      <td>47969478</td>\n      <td>261.927734</td>\n      <td>160.379562</td>\n      <td>Could be an iguana, not sure</td>\n      <td>Iguanas 1st launch</td>\n      <td>2165180.0</td>\n      <td>sopeyJoe1</td>\n      <td>SFM1</td>\n      <td>/Users/christian/data/zooniverse/Images/Zooniv...</td>\n      <td>667</td>\n      <td>649</td>\n    </tr>\n    <tr>\n      <th>92</th>\n      <td>SFM1</td>\n      <td>SFM01-2-2-1_293.jpg</td>\n      <td>47969478</td>\n      <td>360.468750</td>\n      <td>312.000000</td>\n      <td>Could be an iguana, not sure</td>\n      <td>Iguanas 1st launch</td>\n      <td>NaN</td>\n      <td>not-logged-in-bcac79bef32f402fb848</td>\n      <td>SFM1</td>\n      <td>/Users/christian/data/zooniverse/Images/Zooniv...</td>\n      <td>667</td>\n      <td>649</td>\n    </tr>\n    <tr>\n      <th>93</th>\n      <td>SFM1</td>\n      <td>SFM01-2-2-1_293.jpg</td>\n      <td>47969478</td>\n      <td>259.468750</td>\n      <td>177.000000</td>\n      <td>Could be an iguana, not sure</td>\n      <td>Iguanas 1st launch</td>\n      <td>NaN</td>\n      <td>not-logged-in-bcac79bef32f402fb848</td>\n      <td>SFM1</td>\n      <td>/Users/christian/data/zooniverse/Images/Zooniv...</td>\n      <td>667</td>\n      <td>649</td>\n    </tr>\n    <tr>\n      <th>96</th>\n      <td>SFM1</td>\n      <td>SFM01-2-2-1_293.jpg</td>\n      <td>47969478</td>\n      <td>372.212433</td>\n      <td>398.718628</td>\n      <td>Others (females, young males, juveniles and ta...</td>\n      <td>Iguanas 1st launch</td>\n      <td>1469510.0</td>\n      <td>Pamelavans</td>\n      <td>SFM1</td>\n      <td>/Users/christian/data/zooniverse/Images/Zooniv...</td>\n      <td>667</td>\n      <td>649</td>\n    </tr>\n    <tr>\n      <th>97</th>\n      <td>SFM1</td>\n      <td>SFM01-2-2-1_293.jpg</td>\n      <td>47969478</td>\n      <td>323.482971</td>\n      <td>385.921143</td>\n      <td>Others (females, young males, juveniles and ta...</td>\n      <td>Iguanas 1st launch</td>\n      <td>1469510.0</td>\n      <td>Pamelavans</td>\n      <td>SFM1</td>\n      <td>/Users/christian/data/zooniverse/Images/Zooniv...</td>\n      <td>667</td>\n      <td>649</td>\n    </tr>\n    <tr>\n      <th>98</th>\n      <td>SFM1</td>\n      <td>SFM01-2-2-1_293.jpg</td>\n      <td>47969478</td>\n      <td>396.577148</td>\n      <td>315.230316</td>\n      <td>Others (females, young males, juveniles and ta...</td>\n      <td>Iguanas 1st launch</td>\n      <td>1469510.0</td>\n      <td>Pamelavans</td>\n      <td>SFM1</td>\n      <td>/Users/christian/data/zooniverse/Images/Zooniv...</td>\n      <td>667</td>\n      <td>649</td>\n    </tr>\n    <tr>\n      <th>99</th>\n      <td>SFM1</td>\n      <td>SFM01-2-2-1_293.jpg</td>\n      <td>47969478</td>\n      <td>330.183228</td>\n      <td>334.731262</td>\n      <td>Others (females, young males, juveniles and ta...</td>\n      <td>Iguanas 1st launch</td>\n      <td>1469510.0</td>\n      <td>Pamelavans</td>\n      <td>SFM1</td>\n      <td>/Users/christian/data/zooniverse/Images/Zooniv...</td>\n      <td>667</td>\n      <td>649</td>\n    </tr>\n    <tr>\n      <th>100</th>\n      <td>SFM1</td>\n      <td>SFM01-2-2-1_293.jpg</td>\n      <td>47969478</td>\n      <td>291.808777</td>\n      <td>317.667938</td>\n      <td>Others (females, young males, juveniles and ta...</td>\n      <td>Iguanas 1st launch</td>\n      <td>1469510.0</td>\n      <td>Pamelavans</td>\n      <td>SFM1</td>\n      <td>/Users/christian/data/zooniverse/Images/Zooniv...</td>\n      <td>667</td>\n      <td>649</td>\n    </tr>\n    <tr>\n      <th>101</th>\n      <td>SFM1</td>\n      <td>SFM01-2-2-1_293.jpg</td>\n      <td>47969478</td>\n      <td>397.186279</td>\n      <td>351.185120</td>\n      <td>Others (females, young males, juveniles and ta...</td>\n      <td>Iguanas 1st launch</td>\n      <td>1469510.0</td>\n      <td>Pamelavans</td>\n      <td>SFM1</td>\n      <td>/Users/christian/data/zooniverse/Images/Zooniv...</td>\n      <td>667</td>\n      <td>649</td>\n    </tr>\n    <tr>\n      <th>102</th>\n      <td>SFM1</td>\n      <td>SFM01-2-2-1_293.jpg</td>\n      <td>47969478</td>\n      <td>177.357056</td>\n      <td>313.744781</td>\n      <td>Could be an iguana, not sure</td>\n      <td>Iguanas 1st launch</td>\n      <td>1469510.0</td>\n      <td>Pamelavans</td>\n      <td>SFM1</td>\n      <td>/Users/christian/data/zooniverse/Images/Zooniv...</td>\n      <td>667</td>\n      <td>649</td>\n    </tr>\n  </tbody>\n</table>\n</div>"
     },
     "execution_count": 39,
     "metadata": {},
     "output_type": "execute_result"
    }
   ],
   "source": [
    "import pandas as pd\n",
    "\n",
    "base_path = Path(\"/Users/christian/data/zooniverse/2024_03_24_expert_goldstandard_analysis/Iguanas 1st launch/\")\n",
    "\n",
    "df_flat_dataset = pd.read_csv(base_path / \"flat_dataset_filtered_Iguanas 1st launch.csv\", sep=\",\", index_col=0)\n",
    "df_flat_dataset = df_flat_dataset[df_flat_dataset.subject_id == 47969478]\n",
    "df_flat_dataset"
   ],
   "metadata": {
    "collapsed": false,
    "ExecuteTime": {
     "end_time": "2024-03-24T19:37:01.110283Z",
     "start_time": "2024-03-24T19:37:01.099237Z"
    }
   },
   "id": "6fb0e9abe3a7f892",
   "execution_count": 39
  },
  {
   "cell_type": "code",
   "outputs": [
    {
     "data": {
      "text/plain": "                                    subject_id\nuser_name                                     \nDarkstar1977                                 9\nPamelavans                                   7\nnot-logged-in-bcac79bef32f402fb848           2\nsopeyJoe1                                    2",
      "text/html": "<div>\n<style scoped>\n    .dataframe tbody tr th:only-of-type {\n        vertical-align: middle;\n    }\n\n    .dataframe tbody tr th {\n        vertical-align: top;\n    }\n\n    .dataframe thead th {\n        text-align: right;\n    }\n</style>\n<table border=\"1\" class=\"dataframe\">\n  <thead>\n    <tr style=\"text-align: right;\">\n      <th></th>\n      <th>subject_id</th>\n    </tr>\n    <tr>\n      <th>user_name</th>\n      <th></th>\n    </tr>\n  </thead>\n  <tbody>\n    <tr>\n      <th>Darkstar1977</th>\n      <td>9</td>\n    </tr>\n    <tr>\n      <th>Pamelavans</th>\n      <td>7</td>\n    </tr>\n    <tr>\n      <th>not-logged-in-bcac79bef32f402fb848</th>\n      <td>2</td>\n    </tr>\n    <tr>\n      <th>sopeyJoe1</th>\n      <td>2</td>\n    </tr>\n  </tbody>\n</table>\n</div>"
     },
     "execution_count": 40,
     "metadata": {},
     "output_type": "execute_result"
    }
   ],
   "source": [
    "df_group_by = df_flat_dataset.groupby(\"user_name\").count()[[\"subject_id\"]]\n",
    "df_group_by"
   ],
   "metadata": {
    "collapsed": false,
    "ExecuteTime": {
     "end_time": "2024-03-24T19:37:17.845951Z",
     "start_time": "2024-03-24T19:37:17.837324Z"
    }
   },
   "id": "d2988fac164c4f63",
   "execution_count": 40
  },
  {
   "cell_type": "code",
   "outputs": [
    {
     "data": {
      "text/plain": "[2, 2, 7, 9]"
     },
     "execution_count": 41,
     "metadata": {},
     "output_type": "execute_result"
    }
   ],
   "source": [
    "sorted(df_group_by[\"subject_id\"].to_list())"
   ],
   "metadata": {
    "collapsed": false,
    "ExecuteTime": {
     "end_time": "2024-03-24T19:37:18.438008Z",
     "start_time": "2024-03-24T19:37:18.434927Z"
    }
   },
   "id": "b435672577e70fa2",
   "execution_count": 41
  },
  {
   "cell_type": "code",
   "outputs": [],
   "source": [
    "df_group_by.to_csv(base_path / \"user_count.csv\")"
   ],
   "metadata": {
    "collapsed": false,
    "ExecuteTime": {
     "end_time": "2024-03-24T19:37:19.308696Z",
     "start_time": "2024-03-24T19:37:19.304247Z"
    }
   },
   "id": "b3ed9578b65bccb3",
   "execution_count": 42
  },
  {
   "cell_type": "code",
   "outputs": [
    {
     "data": {
      "text/plain": "2"
     },
     "execution_count": 43,
     "metadata": {},
     "output_type": "execute_result"
    }
   ],
   "source": [
    "import statistics\n",
    "\n",
    "statistics.mode(df_group_by[\"subject_id\"])"
   ],
   "metadata": {
    "collapsed": false,
    "ExecuteTime": {
     "end_time": "2024-03-24T19:37:19.675217Z",
     "start_time": "2024-03-24T19:37:19.672346Z"
    }
   },
   "id": "28db5cd73143bf62",
   "execution_count": 43
  },
  {
   "cell_type": "code",
   "outputs": [
    {
     "data": {
      "text/plain": "4.5"
     },
     "execution_count": 44,
     "metadata": {},
     "output_type": "execute_result"
    }
   ],
   "source": [
    "statistics.median(df_group_by[\"subject_id\"])"
   ],
   "metadata": {
    "collapsed": false,
    "ExecuteTime": {
     "end_time": "2024-03-24T19:37:20.536264Z",
     "start_time": "2024-03-24T19:37:20.532018Z"
    }
   },
   "id": "367dc6befdfe3a2",
   "execution_count": 44
  },
  {
   "cell_type": "code",
   "outputs": [],
   "source": [],
   "metadata": {
    "collapsed": false
   },
   "id": "8d8e407d85449e69"
  }
 ],
 "metadata": {
  "kernelspec": {
   "display_name": "Python 3",
   "language": "python",
   "name": "python3"
  },
  "language_info": {
   "codemirror_mode": {
    "name": "ipython",
    "version": 2
   },
   "file_extension": ".py",
   "mimetype": "text/x-python",
   "name": "python",
   "nbconvert_exporter": "python",
   "pygments_lexer": "ipython2",
   "version": "2.7.6"
  }
 },
 "nbformat": 4,
 "nbformat_minor": 5
}
