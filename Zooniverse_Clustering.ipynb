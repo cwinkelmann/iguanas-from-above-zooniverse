{
 "cells": [
  {
   "cell_type": "markdown",
   "id": "708022ad72146e6d",
   "metadata": {},
   "source": [
    "# Clustering Zooniverse Marks to count Iguanas\n",
    "The goal is to find the best method to cluster the data and find the best number of clusters.\n",
    "The benchmark is a gold standard dataset obtained by experts."
   ]
  },
  {
   "cell_type": "code",
   "execution_count": 1,
   "id": "d59fc4434d71491c",
   "metadata": {
    "collapsed": false,
    "tags": [],
    "ExecuteTime": {
     "end_time": "2024-03-22T19:53:12.084082Z",
     "start_time": "2024-03-22T19:53:12.068290Z"
    }
   },
   "outputs": [],
   "source": [
    "%load_ext autoreload\n",
    "%autoreload 2\n",
    "\n",
    "import sys\n",
    "\n",
    "sys.path.append(\"./\")\n",
    "sys.path.append(\"./zooniverse\")"
   ]
  },
  {
   "cell_type": "markdown",
   "id": "731716bd21e99cbe",
   "metadata": {
    "collapsed": false
   },
   "source": [
    "## Intro\n",
    "### Retrieve a Classification report from Zooniverse\n",
    "Export the classification export from your zooniverse project.\n",
    "https://www.zooniverse.org/lab/11905/data-exports\n",
    "\n",
    "This leads to a csv file which can be used for the analysis which should be renamed to `iguanas-from-above-classifications.csv` and placed in the `input_path` directory.\n",
    "The methods do not use methods from zooniverse. It is a custom implementation.\n",
    "\n",
    "An alternative would be to use the [code provided by zooniverse](https://github.com/zooniverse/Data-digging/tree/master/notebooks_ProcessExports)\n",
    "(Bird Count Example)[https://github.com/zooniverse/Data-digging/blob/master/scripts_ProjectExamples/seabirdwatch/bird_count.py]\n",
    "\n",
    "This notebooks assumes the data is flat and prepared. An alternative format would be the [cesar aggregation format](https://github.com/zooniverse/aggregation-for-caesar)\n",
    "\n",
    "Used Methods are:\n",
    "\n",
    "### DBSCAN \n",
    "It does not require the number of clusters to be specified. It is used here because, but has min_samples and eps as hyperparameters which need to be found. [Link](https://scikit-learn.org/stable/auto_examples/cluster/plot_dbscan.html)\n",
    "For finding eps and min_sample a simple **grid search** is used.\n",
    "Additionally, DBSCAN not assume a specific shape for the clusters (K-means assumes clusters are gaussian in shape) even though we should assume that points around an iguana is gaussian shaped.\n",
    "\n",
    "### HDBSCAN\n",
    "It is an extension of DBSCAN which is more robust to hyperparameter settings as it finds epsilon and min_samples automatically. [Link](https://scikit-learn.org/stable/modules/generated/sklearn.cluster.HDBSCAN.html)"
   ]
  },
  {
   "cell_type": "markdown",
   "id": "fc7e7da572712fcd",
   "metadata": {
    "collapsed": false
   },
   "source": [
    "### Processing workflow\n",
    "\n",
    "The Data is flatted and filtered\n",
    "![Image](images/dataprocessing-DataFiltering.png)\n",
    "\n",
    "In each phase we have the following number of images if they are filtered for at least 4 true marks by users\n",
    "1. phase 105\n",
    "2. phase 160\n",
    "3. phase 86\n"
   ]
  },
  {
   "cell_type": "markdown",
   "id": "e261acba86137ddd",
   "metadata": {
    "collapsed": false
   },
   "source": [
    "## Load the data"
   ]
  },
  {
   "cell_type": "code",
   "execution_count": 2,
   "id": "823d8c3234e4a1de",
   "metadata": {
    "collapsed": false,
    "tags": [],
    "ExecuteTime": {
     "end_time": "2024-03-22T19:53:13.117100Z",
     "start_time": "2024-03-22T19:53:12.085189Z"
    }
   },
   "outputs": [],
   "source": [
    "from zooniverse.utils.data_format import data_prep\n",
    "from pathlib import Path\n",
    "\n",
    "import pandas as pd\n",
    "from zooniverse.analysis import get_annotation_count_stats\n",
    "from zooniverse.utils.filters import filter_df_user_threshold\n",
    "from zooniverse.config import get_config\n",
    "\n",
    "# Phase Selection\n",
    "# phase_tag = \"Iguanas 1st launch\"\n",
    "# phase_tag = \"Iguanas 2nd launch\"\n",
    "phase_tag = \"Iguanas 3rd launch\"\n",
    "\n",
    "### use either the subset of the subset\n",
    "use_gold_standard_subset = \"expert_goldstandard\" # Use the X-T2-GS-results-5th-0s as the basis\n",
    "# use_gold_standard_subset = \"expert\" # Use the expert-GS-Xphase as the basis\n",
    "\n",
    "## Input Path of all the data\n",
    "input_path = Path(\"/Users/christian/data/zooniverse\")\n",
    "\n",
    "# Location for the analysis Results\n",
    "output_path = Path(input_path.joinpath(f\"2024_03_22_{use_gold_standard_subset}_analysis\").joinpath(phase_tag))\n",
    "\n",
    "output_path.mkdir(exist_ok=True, parents=True)\n",
    "\n",
    "reprocess = False # if True, the raw classification data is reprocessed. If False, the data is loaded from disk\n",
    "\n",
    "\n",
    "\n",
    "\n",
    "debug = False # debugging with a smaller dataset\n",
    "plot_diagrams = False # plot the diagrams to disk for the clustering methods\n",
    "show_plots = False # show the plots in the notebook\n",
    "\n",
    "user_threshold = 3 # None or a number, filter records which have less than these user interactions.\n",
    "\n",
    "\n",
    "\n",
    "\n",
    "\n",
    "\n",
    "# Location for plots\n",
    "output_plot_path = output_path.joinpath(\"plots\")\n",
    "output_plot_path.mkdir(parents=True, exist_ok=True)\n"
   ]
  },
  {
   "cell_type": "markdown",
   "id": "593bea9e98df4db0",
   "metadata": {
    "collapsed": false
   },
   "source": [
    "## Look into the config\n",
    "This Config points to all files necessary for the analysis + the result files"
   ]
  },
  {
   "cell_type": "code",
   "execution_count": 3,
   "id": "674da03e20316ae5",
   "metadata": {
    "collapsed": false,
    "ExecuteTime": {
     "end_time": "2024-03-22T19:53:13.138128Z",
     "start_time": "2024-03-22T19:53:13.118260Z"
    }
   },
   "outputs": [
    {
     "data": {
      "text/plain": "{'annotations_source': PosixPath('/Users/christian/data/zooniverse/IguanasFromAbove/2023-10-15/iguanas-from-above-classifications.csv'),\n 'goldstandard_data': PosixPath('/Users/christian/data/zooniverse/Images/Zooniverse_Goldstandard_images/expert-GS-3rdphase_renamed.csv'),\n 'gold_standard_image_subset': PosixPath('/Users/christian/data/zooniverse/Images/Zooniverse_Goldstandard_images/3-T2-GS-results-5th-0s.csv'),\n 'image_source': None,\n 'yes_no_dataset': PosixPath('/Users/christian/data/zooniverse/2024_03_22_expert_goldstandard_analysis/Iguanas 3rd launch/yes_no_dataset_Iguanas 3rd launch.csv'),\n 'flat_dataset': PosixPath('/Users/christian/data/zooniverse/2024_03_22_expert_goldstandard_analysis/Iguanas 3rd launch/flat_dataset_Iguanas 3rd launch.csv'),\n 'merged_dataset': PosixPath('/Users/christian/data/zooniverse/2024_03_22_expert_goldstandard_analysis/Iguanas 3rd launch/flat_dataset_filtered_Iguanas 3rd launch.csv'),\n 'gold_standard_and_expert_count': PosixPath('/Users/christian/data/zooniverse/2024_03_22_expert_goldstandard_analysis/Iguanas 3rd launch/Iguanas 3rd launch_gold_standard_and_expert_count.csv'),\n 'comparison_dataset': PosixPath('/Users/christian/data/zooniverse/2024_03_22_expert_goldstandard_analysis/Iguanas 3rd launch/Iguanas 3rd launch_method_comparison.csv'),\n 'method_sums': PosixPath('/Users/christian/data/zooniverse/2024_03_22_expert_goldstandard_analysis/Iguanas 3rd launch/Iguanas 3rd launch_method_sums.csv'),\n 'rmse_errors': PosixPath('/Users/christian/data/zooniverse/2024_03_22_expert_goldstandard_analysis/Iguanas 3rd launch/Iguanas 3rd launch_rmse_errors.csv'),\n 'dbscan_hyperparam_grid': PosixPath('/Users/christian/data/zooniverse/2024_03_22_expert_goldstandard_analysis/Iguanas 3rd launch/Iguanas 3rd launch_hyperparam_grid.csv')}"
     },
     "execution_count": 3,
     "metadata": {},
     "output_type": "execute_result"
    }
   ],
   "source": [
    "config = get_config(phase_tag=phase_tag, input_path=input_path, output_path=output_path)\n",
    "config"
   ]
  },
  {
   "cell_type": "code",
   "execution_count": 4,
   "id": "ee63e05f12a7f36b",
   "metadata": {
    "collapsed": false,
    "ExecuteTime": {
     "end_time": "2024-03-22T19:53:13.158700Z",
     "start_time": "2024-03-22T19:53:13.138807Z"
    }
   },
   "outputs": [],
   "source": [
    "from zooniverse.utils.anonymize import UserAnonymizer\n",
    "\n",
    "if reprocess:\n",
    "    ds_stats = data_prep(phase_tag=phase_tag, \n",
    "                         output_path=output_path, \n",
    "                         input_path=input_path,\n",
    "                         filter_combination=use_gold_standard_subset, \n",
    "                         config=config)\n",
    "    # Anomymise the data to prevent usernames and user_ids to become public\n",
    "    anonymizer = UserAnonymizer(config[\"flat_dataset\"])\n",
    "    anonymizer.anonymize_data()\n",
    "    anonymizer.save_anonymized_data(config[\"flat_dataset\"])\n",
    "    \n",
    "    anonymizer = UserAnonymizer(config[\"merged_dataset\"])\n",
    "    anonymizer.anonymize_data()\n",
    "    anonymizer.save_anonymized_data(config[\"merged_dataset\"])\n",
    "    \n",
    "    print(ds_stats)"
   ]
  },
  {
   "cell_type": "code",
   "outputs": [],
   "source": [
    "if plot_diagrams == False:\n",
    "    output_plot_path = None\n",
    "\n",
    "# the flattened, filtered marks from zooniverse.\n",
    "df_merged_dataset = pd.read_csv(config[\"merged_dataset\"])\n",
    "\n",
    "# data for reference\n",
    "df_goldstandard_expert_count = pd.read_csv(config[\"gold_standard_image_subset\"], sep=\";\")\n",
    "df_expert_count = pd.read_csv(config[\"goldstandard_data\"], sep=\";\")"
   ],
   "metadata": {
    "collapsed": false,
    "ExecuteTime": {
     "end_time": "2024-03-22T19:53:13.191442Z",
     "start_time": "2024-03-22T19:53:13.160889Z"
    }
   },
   "id": "84040e24c92dd972",
   "execution_count": 5
  },
  {
   "cell_type": "markdown",
   "id": "7e3cf1edbc774b52",
   "metadata": {
    "collapsed": false
   },
   "source": [
    "### Optional Debugging"
   ]
  },
  {
   "cell_type": "code",
   "execution_count": 6,
   "id": "bc2fa0f92651d9da",
   "metadata": {
    "collapsed": false,
    "ExecuteTime": {
     "end_time": "2024-03-22T19:53:13.212806Z",
     "start_time": "2024-03-22T19:53:13.192405Z"
    }
   },
   "outputs": [],
   "source": [
    "\n",
    "\n",
    "## Debugging helpers\n",
    "if phase_tag == \"Iguanas 1st launch\":    \n",
    "    if debug:\n",
    "\n",
    "        df_merged_dataset = df_merged_dataset[df_merged_dataset.image_name.isin([\"SFM01-2-2-2_333.jpg\", \"SFM01-2-2-2_334.jpg\", \"SFM01-2-2-3_201.jpg\"])]\n",
    "\n",
    "elif phase_tag == \"Iguanas 2nd launch\":\n",
    "    if debug:\n",
    "        df_merged_dataset = df_merged_dataset[\n",
    "           df_merged_dataset.image_name.isin([\"FMO03-1_65.jpg\", \"FMO03-1_72.jpg\", \"MBN04-2_182.jpg\", \"EGI08-2_78.jpg\"])]\n",
    "           # df_merged_dataset.image_name.isin([\"FMO03-1_72.jpg\"])]\n",
    "\n",
    "    \n",
    "elif phase_tag == \"Iguanas 3rd launch\":\n",
    "\n",
    "    # this user is a spammer\n",
    "    df_merged_dataset = df_merged_dataset[df_merged_dataset.user_id != 2581179]\n",
    "    \n",
    "    if debug:\n",
    "        df_merged_dataset = df_merged_dataset[\n",
    "           df_merged_dataset.image_name.isin([\"FMO03-2_70.jpg\", \"MBN04-2_182.jpg\", \"EGI08-2_78.jpg\"])]\n",
    "            \n",
    "    \n"
   ]
  },
  {
   "cell_type": "markdown",
   "id": "bf09c7260aa5e8ed",
   "metadata": {
    "collapsed": false
   },
   "source": [
    "## Look at the data\n"
   ]
  },
  {
   "cell_type": "code",
   "execution_count": 7,
   "id": "6e814289feb967ec",
   "metadata": {
    "collapsed": false,
    "ExecuteTime": {
     "end_time": "2024-03-22T19:53:13.238566Z",
     "start_time": "2024-03-22T19:53:13.213448Z"
    }
   },
   "outputs": [
    {
     "data": {
      "text/plain": "      Unnamed: 0 flight_site_code        image_name  subject_id           x  \\\n0             57   CaboIbebetsonS   PCIS01-5_67.jpg    78961972  301.422882   \n1             58   CaboIbebetsonS   PCIS01-5_67.jpg    78961972   35.903500   \n2             70       WestCoastB   GWB01-3_152.jpg    78925551  728.559448   \n3             71       WestCoastB   GWB01-3_152.jpg    78925551  601.206055   \n4            125      SouthCoastH  ESCH02-1_323.jpg    78965007  247.383331   \n...          ...              ...               ...         ...         ...   \n7396      104634      SouthCoastH  ESCH02-1_174.jpg    78964907  688.849609   \n7397      113862            GEB02   GEB02-3_197.jpg    78922625  496.962006   \n7398      113863            GEB02   GEB02-3_197.jpg    78922625  496.542480   \n7399      113866            GEB02   GEB02-3_197.jpg    78922625  502.057251   \n7400      113870            GEB02   GEB02-3_197.jpg    78922625  485.176636   \n\n               y                                tool_label  \\\n0      51.112278  Others (females, young males, juveniles)   \n1     468.096375  Others (females, young males, juveniles)   \n2     181.467453  Others (females, young males, juveniles)   \n3     277.385895  Others (females, young males, juveniles)   \n4      56.599998                   Adult Male not in a lek   \n...          ...                                       ...   \n7396  135.619003                     Adult Male with a lek   \n7397  433.519104                   Adult Male not in a lek   \n7398  416.344574                   Adult Male not in a lek   \n7399  430.122284  Others (females, young males, juveniles)   \n7400  426.866882  Others (females, young males, juveniles)   \n\n               phase_tag                           user_id  \n0     Iguanas 3rd launch  bbe0564f6fa09817cda58d4c1027735e  \n1     Iguanas 3rd launch  bbe0564f6fa09817cda58d4c1027735e  \n2     Iguanas 3rd launch                               NaN  \n3     Iguanas 3rd launch                               NaN  \n4     Iguanas 3rd launch  59ab2166efbc163b3edd511475247309  \n...                  ...                               ...  \n7396  Iguanas 3rd launch  c17e059e2c3b375b261e417e5a65091d  \n7397  Iguanas 3rd launch                               NaN  \n7398  Iguanas 3rd launch                               NaN  \n7399  Iguanas 3rd launch  68a0c0b65edf786c52bd62d8fbdf8c12  \n7400  Iguanas 3rd launch                               NaN  \n\n[7401 rows x 9 columns]",
      "text/html": "<div>\n<style scoped>\n    .dataframe tbody tr th:only-of-type {\n        vertical-align: middle;\n    }\n\n    .dataframe tbody tr th {\n        vertical-align: top;\n    }\n\n    .dataframe thead th {\n        text-align: right;\n    }\n</style>\n<table border=\"1\" class=\"dataframe\">\n  <thead>\n    <tr style=\"text-align: right;\">\n      <th></th>\n      <th>Unnamed: 0</th>\n      <th>flight_site_code</th>\n      <th>image_name</th>\n      <th>subject_id</th>\n      <th>x</th>\n      <th>y</th>\n      <th>tool_label</th>\n      <th>phase_tag</th>\n      <th>user_id</th>\n    </tr>\n  </thead>\n  <tbody>\n    <tr>\n      <th>0</th>\n      <td>57</td>\n      <td>CaboIbebetsonS</td>\n      <td>PCIS01-5_67.jpg</td>\n      <td>78961972</td>\n      <td>301.422882</td>\n      <td>51.112278</td>\n      <td>Others (females, young males, juveniles)</td>\n      <td>Iguanas 3rd launch</td>\n      <td>bbe0564f6fa09817cda58d4c1027735e</td>\n    </tr>\n    <tr>\n      <th>1</th>\n      <td>58</td>\n      <td>CaboIbebetsonS</td>\n      <td>PCIS01-5_67.jpg</td>\n      <td>78961972</td>\n      <td>35.903500</td>\n      <td>468.096375</td>\n      <td>Others (females, young males, juveniles)</td>\n      <td>Iguanas 3rd launch</td>\n      <td>bbe0564f6fa09817cda58d4c1027735e</td>\n    </tr>\n    <tr>\n      <th>2</th>\n      <td>70</td>\n      <td>WestCoastB</td>\n      <td>GWB01-3_152.jpg</td>\n      <td>78925551</td>\n      <td>728.559448</td>\n      <td>181.467453</td>\n      <td>Others (females, young males, juveniles)</td>\n      <td>Iguanas 3rd launch</td>\n      <td>NaN</td>\n    </tr>\n    <tr>\n      <th>3</th>\n      <td>71</td>\n      <td>WestCoastB</td>\n      <td>GWB01-3_152.jpg</td>\n      <td>78925551</td>\n      <td>601.206055</td>\n      <td>277.385895</td>\n      <td>Others (females, young males, juveniles)</td>\n      <td>Iguanas 3rd launch</td>\n      <td>NaN</td>\n    </tr>\n    <tr>\n      <th>4</th>\n      <td>125</td>\n      <td>SouthCoastH</td>\n      <td>ESCH02-1_323.jpg</td>\n      <td>78965007</td>\n      <td>247.383331</td>\n      <td>56.599998</td>\n      <td>Adult Male not in a lek</td>\n      <td>Iguanas 3rd launch</td>\n      <td>59ab2166efbc163b3edd511475247309</td>\n    </tr>\n    <tr>\n      <th>...</th>\n      <td>...</td>\n      <td>...</td>\n      <td>...</td>\n      <td>...</td>\n      <td>...</td>\n      <td>...</td>\n      <td>...</td>\n      <td>...</td>\n      <td>...</td>\n    </tr>\n    <tr>\n      <th>7396</th>\n      <td>104634</td>\n      <td>SouthCoastH</td>\n      <td>ESCH02-1_174.jpg</td>\n      <td>78964907</td>\n      <td>688.849609</td>\n      <td>135.619003</td>\n      <td>Adult Male with a lek</td>\n      <td>Iguanas 3rd launch</td>\n      <td>c17e059e2c3b375b261e417e5a65091d</td>\n    </tr>\n    <tr>\n      <th>7397</th>\n      <td>113862</td>\n      <td>GEB02</td>\n      <td>GEB02-3_197.jpg</td>\n      <td>78922625</td>\n      <td>496.962006</td>\n      <td>433.519104</td>\n      <td>Adult Male not in a lek</td>\n      <td>Iguanas 3rd launch</td>\n      <td>NaN</td>\n    </tr>\n    <tr>\n      <th>7398</th>\n      <td>113863</td>\n      <td>GEB02</td>\n      <td>GEB02-3_197.jpg</td>\n      <td>78922625</td>\n      <td>496.542480</td>\n      <td>416.344574</td>\n      <td>Adult Male not in a lek</td>\n      <td>Iguanas 3rd launch</td>\n      <td>NaN</td>\n    </tr>\n    <tr>\n      <th>7399</th>\n      <td>113866</td>\n      <td>GEB02</td>\n      <td>GEB02-3_197.jpg</td>\n      <td>78922625</td>\n      <td>502.057251</td>\n      <td>430.122284</td>\n      <td>Others (females, young males, juveniles)</td>\n      <td>Iguanas 3rd launch</td>\n      <td>68a0c0b65edf786c52bd62d8fbdf8c12</td>\n    </tr>\n    <tr>\n      <th>7400</th>\n      <td>113870</td>\n      <td>GEB02</td>\n      <td>GEB02-3_197.jpg</td>\n      <td>78922625</td>\n      <td>485.176636</td>\n      <td>426.866882</td>\n      <td>Others (females, young males, juveniles)</td>\n      <td>Iguanas 3rd launch</td>\n      <td>NaN</td>\n    </tr>\n  </tbody>\n</table>\n<p>7401 rows × 9 columns</p>\n</div>"
     },
     "execution_count": 7,
     "metadata": {},
     "output_type": "execute_result"
    }
   ],
   "source": [
    "## Look at the data\n",
    "df_merged_dataset.drop(\"user_name\", axis=1)\n"
   ]
  },
  {
   "cell_type": "markdown",
   "id": "da7bed90d6d10d89",
   "metadata": {
    "collapsed": false
   },
   "source": [
    "### Filter User if necessary and Marks\n"
   ]
  },
  {
   "cell_type": "code",
   "execution_count": 8,
   "id": "b84daa777a0903cf",
   "metadata": {
    "collapsed": false,
    "ExecuteTime": {
     "end_time": "2024-03-22T19:53:13.282603Z",
     "start_time": "2024-03-22T19:53:13.239365Z"
    }
   },
   "outputs": [
    {
     "name": "stderr",
     "output_type": "stream",
     "text": [
      "\u001B[32m2024-03-22 20:53:13.262\u001B[0m | \u001B[33m\u001B[1mWARNING \u001B[0m | \u001B[36mzooniverse.utils.filters\u001B[0m:\u001B[36mfilter_df_user_threshold\u001B[0m:\u001B[36m22\u001B[0m - \u001B[33m\u001B[1mThe image ESCH02-1_258.jpg has only 1 users, which is less than the threshold of 3\u001B[0m\n",
      "\u001B[32m2024-03-22 20:53:13.274\u001B[0m | \u001B[33m\u001B[1mWARNING \u001B[0m | \u001B[36mzooniverse.utils.filters\u001B[0m:\u001B[36mfilter_df_user_threshold\u001B[0m:\u001B[36m25\u001B[0m - \u001B[33m\u001B[1mfiltered out 1 images\u001B[0m\n",
      "\u001B[32m2024-03-22 20:53:13.280\u001B[0m | \u001B[33m\u001B[1mWARNING \u001B[0m | \u001B[36mzooniverse.utils.filters\u001B[0m:\u001B[36mfilter_remove_marks\u001B[0m:\u001B[36m38\u001B[0m - \u001B[33m\u001B[1mremoved 0 partial marks\u001B[0m\n",
      "\u001B[32m2024-03-22 20:53:13.281\u001B[0m | \u001B[33m\u001B[1mWARNING \u001B[0m | \u001B[36mzooniverse.utils.filters\u001B[0m:\u001B[36mfilter_remove_marks\u001B[0m:\u001B[36m39\u001B[0m - \u001B[33m\u001B[1mAfter filter_func 86 images are left\u001B[0m\n"
     ]
    },
    {
     "name": "stdout",
     "output_type": "stream",
     "text": [
      "Before filtering: 87\n",
      "filtering records which have less than 3 interactions.\n"
     ]
    }
   ],
   "source": [
    "print(f\"Before filtering: {df_merged_dataset.subject_id.nunique()}\")\n",
    "# There images in which some people said there are iguanas, but then didn't mark them. Clustering with fewer than 3 dots doesn't make sense\n",
    "if user_threshold is not None:\n",
    "    print(f\"filtering records which have less than {user_threshold} interactions.\")\n",
    "    df_merged_dataset = filter_df_user_threshold(df_merged_dataset, user_threshold=user_threshold)\n",
    "    \n",
    "    \n",
    "from zooniverse.utils.filters import filter_remove_marks\n",
    "# Check if partials are still in the data. There shouldn't be any\n",
    "df_merged_dataset = filter_remove_marks(df_merged_dataset)\n"
   ]
  },
  {
   "cell_type": "markdown",
   "id": "d479e39e24f570b0",
   "metadata": {
    "collapsed": false
   },
   "source": [
    "### Are there anonymous users in the data?\n",
    "There should be"
   ]
  },
  {
   "cell_type": "code",
   "execution_count": 9,
   "id": "9936072d8a7b7602",
   "metadata": {
    "collapsed": false,
    "ExecuteTime": {
     "end_time": "2024-03-22T19:53:13.305794Z",
     "start_time": "2024-03-22T19:53:13.283264Z"
    }
   },
   "outputs": [
    {
     "data": {
      "text/plain": "      Unnamed: 0 flight_site_code        image_name  subject_id           x  \\\n1804       20416      SouthCoastH   ESCH01-1_13.jpg    78964714  842.693787   \n1805       20417      SouthCoastH   ESCH01-1_13.jpg    78964714  890.732117   \n1806       20418      SouthCoastH   ESCH01-1_13.jpg    78964714  792.876221   \n1807       20419      SouthCoastH   ESCH01-1_13.jpg    78964714  796.434631   \n1808       20420      SouthCoastH   ESCH01-1_13.jpg    78964714  816.005798   \n...          ...              ...               ...         ...         ...   \n1077       11744        WestCoast  PWC03-2-1_42.jpg    78963297  468.903534   \n1479       15812        WestCoast  PWC03-2-1_42.jpg    78963297  431.552338   \n1480       15813        WestCoast  PWC03-2-1_42.jpg    78963297  465.189301   \n1481       15814        WestCoast  PWC03-2-1_42.jpg    78963297  365.623840   \n1482       15815        WestCoast  PWC03-2-1_42.jpg    78963297  470.571198   \n\n               y                                tool_label  \\\n1804  272.662140                     Adult Male with a lek   \n1805  242.415756                     Adult Male with a lek   \n1806  124.988678                     Adult Male with a lek   \n1807  290.454102  Others (females, young males, juveniles)   \n1808  235.298965  Others (females, young males, juveniles)   \n...          ...                                       ...   \n1077  196.045349  Others (females, young males, juveniles)   \n1479   42.428822                     Adult Male with a lek   \n1480  190.431534  Others (females, young males, juveniles)   \n1481  152.758118  Others (females, young males, juveniles)   \n1482   12.828279  Others (females, young males, juveniles)   \n\n               phase_tag user_id                         user_name  \n1804  Iguanas 3rd launch     NaN  adc99ea22219d2baff677763af1cd90f  \n1805  Iguanas 3rd launch     NaN  adc99ea22219d2baff677763af1cd90f  \n1806  Iguanas 3rd launch     NaN  adc99ea22219d2baff677763af1cd90f  \n1807  Iguanas 3rd launch     NaN  adc99ea22219d2baff677763af1cd90f  \n1808  Iguanas 3rd launch     NaN  adc99ea22219d2baff677763af1cd90f  \n...                  ...     ...                               ...  \n1077  Iguanas 3rd launch     NaN  3952ec0af313d58d488dc97beb19c4cb  \n1479  Iguanas 3rd launch     NaN  d51caf2b0d8a68548a70de2a954d48dd  \n1480  Iguanas 3rd launch     NaN  d51caf2b0d8a68548a70de2a954d48dd  \n1481  Iguanas 3rd launch     NaN  d51caf2b0d8a68548a70de2a954d48dd  \n1482  Iguanas 3rd launch     NaN  d51caf2b0d8a68548a70de2a954d48dd  \n\n[895 rows x 10 columns]",
      "text/html": "<div>\n<style scoped>\n    .dataframe tbody tr th:only-of-type {\n        vertical-align: middle;\n    }\n\n    .dataframe tbody tr th {\n        vertical-align: top;\n    }\n\n    .dataframe thead th {\n        text-align: right;\n    }\n</style>\n<table border=\"1\" class=\"dataframe\">\n  <thead>\n    <tr style=\"text-align: right;\">\n      <th></th>\n      <th>Unnamed: 0</th>\n      <th>flight_site_code</th>\n      <th>image_name</th>\n      <th>subject_id</th>\n      <th>x</th>\n      <th>y</th>\n      <th>tool_label</th>\n      <th>phase_tag</th>\n      <th>user_id</th>\n      <th>user_name</th>\n    </tr>\n  </thead>\n  <tbody>\n    <tr>\n      <th>1804</th>\n      <td>20416</td>\n      <td>SouthCoastH</td>\n      <td>ESCH01-1_13.jpg</td>\n      <td>78964714</td>\n      <td>842.693787</td>\n      <td>272.662140</td>\n      <td>Adult Male with a lek</td>\n      <td>Iguanas 3rd launch</td>\n      <td>NaN</td>\n      <td>adc99ea22219d2baff677763af1cd90f</td>\n    </tr>\n    <tr>\n      <th>1805</th>\n      <td>20417</td>\n      <td>SouthCoastH</td>\n      <td>ESCH01-1_13.jpg</td>\n      <td>78964714</td>\n      <td>890.732117</td>\n      <td>242.415756</td>\n      <td>Adult Male with a lek</td>\n      <td>Iguanas 3rd launch</td>\n      <td>NaN</td>\n      <td>adc99ea22219d2baff677763af1cd90f</td>\n    </tr>\n    <tr>\n      <th>1806</th>\n      <td>20418</td>\n      <td>SouthCoastH</td>\n      <td>ESCH01-1_13.jpg</td>\n      <td>78964714</td>\n      <td>792.876221</td>\n      <td>124.988678</td>\n      <td>Adult Male with a lek</td>\n      <td>Iguanas 3rd launch</td>\n      <td>NaN</td>\n      <td>adc99ea22219d2baff677763af1cd90f</td>\n    </tr>\n    <tr>\n      <th>1807</th>\n      <td>20419</td>\n      <td>SouthCoastH</td>\n      <td>ESCH01-1_13.jpg</td>\n      <td>78964714</td>\n      <td>796.434631</td>\n      <td>290.454102</td>\n      <td>Others (females, young males, juveniles)</td>\n      <td>Iguanas 3rd launch</td>\n      <td>NaN</td>\n      <td>adc99ea22219d2baff677763af1cd90f</td>\n    </tr>\n    <tr>\n      <th>1808</th>\n      <td>20420</td>\n      <td>SouthCoastH</td>\n      <td>ESCH01-1_13.jpg</td>\n      <td>78964714</td>\n      <td>816.005798</td>\n      <td>235.298965</td>\n      <td>Others (females, young males, juveniles)</td>\n      <td>Iguanas 3rd launch</td>\n      <td>NaN</td>\n      <td>adc99ea22219d2baff677763af1cd90f</td>\n    </tr>\n    <tr>\n      <th>...</th>\n      <td>...</td>\n      <td>...</td>\n      <td>...</td>\n      <td>...</td>\n      <td>...</td>\n      <td>...</td>\n      <td>...</td>\n      <td>...</td>\n      <td>...</td>\n      <td>...</td>\n    </tr>\n    <tr>\n      <th>1077</th>\n      <td>11744</td>\n      <td>WestCoast</td>\n      <td>PWC03-2-1_42.jpg</td>\n      <td>78963297</td>\n      <td>468.903534</td>\n      <td>196.045349</td>\n      <td>Others (females, young males, juveniles)</td>\n      <td>Iguanas 3rd launch</td>\n      <td>NaN</td>\n      <td>3952ec0af313d58d488dc97beb19c4cb</td>\n    </tr>\n    <tr>\n      <th>1479</th>\n      <td>15812</td>\n      <td>WestCoast</td>\n      <td>PWC03-2-1_42.jpg</td>\n      <td>78963297</td>\n      <td>431.552338</td>\n      <td>42.428822</td>\n      <td>Adult Male with a lek</td>\n      <td>Iguanas 3rd launch</td>\n      <td>NaN</td>\n      <td>d51caf2b0d8a68548a70de2a954d48dd</td>\n    </tr>\n    <tr>\n      <th>1480</th>\n      <td>15813</td>\n      <td>WestCoast</td>\n      <td>PWC03-2-1_42.jpg</td>\n      <td>78963297</td>\n      <td>465.189301</td>\n      <td>190.431534</td>\n      <td>Others (females, young males, juveniles)</td>\n      <td>Iguanas 3rd launch</td>\n      <td>NaN</td>\n      <td>d51caf2b0d8a68548a70de2a954d48dd</td>\n    </tr>\n    <tr>\n      <th>1481</th>\n      <td>15814</td>\n      <td>WestCoast</td>\n      <td>PWC03-2-1_42.jpg</td>\n      <td>78963297</td>\n      <td>365.623840</td>\n      <td>152.758118</td>\n      <td>Others (females, young males, juveniles)</td>\n      <td>Iguanas 3rd launch</td>\n      <td>NaN</td>\n      <td>d51caf2b0d8a68548a70de2a954d48dd</td>\n    </tr>\n    <tr>\n      <th>1482</th>\n      <td>15815</td>\n      <td>WestCoast</td>\n      <td>PWC03-2-1_42.jpg</td>\n      <td>78963297</td>\n      <td>470.571198</td>\n      <td>12.828279</td>\n      <td>Others (females, young males, juveniles)</td>\n      <td>Iguanas 3rd launch</td>\n      <td>NaN</td>\n      <td>d51caf2b0d8a68548a70de2a954d48dd</td>\n    </tr>\n  </tbody>\n</table>\n<p>895 rows × 10 columns</p>\n</div>"
     },
     "execution_count": 9,
     "metadata": {},
     "output_type": "execute_result"
    }
   ],
   "source": [
    "df_merged_dataset[df_merged_dataset.user_id.isnull().values]"
   ]
  },
  {
   "cell_type": "code",
   "execution_count": 10,
   "id": "9258d161c25ae7d3",
   "metadata": {
    "collapsed": false,
    "ExecuteTime": {
     "end_time": "2024-03-22T19:53:13.327925Z",
     "start_time": "2024-03-22T19:53:13.306694Z"
    }
   },
   "outputs": [
    {
     "data": {
      "text/plain": "86"
     },
     "execution_count": 10,
     "metadata": {},
     "output_type": "execute_result"
    }
   ],
   "source": [
    "# Amount of images\n",
    "df_merged_dataset[\"subject_id\"].nunique()"
   ]
  },
  {
   "cell_type": "code",
   "execution_count": 11,
   "id": "6caad5d554d586db",
   "metadata": {
    "collapsed": false,
    "ExecuteTime": {
     "end_time": "2024-03-22T19:53:13.354335Z",
     "start_time": "2024-03-22T19:53:13.330663Z"
    }
   },
   "outputs": [
    {
     "data": {
      "text/plain": "      Unnamed: 0 flight_site_code        image_name  subject_id           x  \\\n408         4658      SouthCoastH   ESCH01-1_13.jpg    78964714  764.540100   \n409         4659      SouthCoastH   ESCH01-1_13.jpg    78964714  767.268921   \n410         4660      SouthCoastH   ESCH01-1_13.jpg    78964714  769.088196   \n411         4661      SouthCoastH   ESCH01-1_13.jpg    78964714  754.079529   \n412         4662      SouthCoastH   ESCH01-1_13.jpg    78964714  808.201660   \n...          ...              ...               ...         ...         ...   \n5019       64823        WestCoast  PWC03-2-1_42.jpg    78963297  475.094360   \n5724       73986        WestCoast  PWC03-2-1_42.jpg    78963297  466.367310   \n5725       73987        WestCoast  PWC03-2-1_42.jpg    78963297  356.656067   \n5726       73988        WestCoast  PWC03-2-1_42.jpg    78963297  421.485443   \n5727       73989        WestCoast  PWC03-2-1_42.jpg    78963297  473.847626   \n\n               y                                tool_label  \\\n408   361.271637                     Adult Male with a lek   \n409   334.892792  Others (females, young males, juveniles)   \n410   310.787964  Others (females, young males, juveniles)   \n411   277.132202  Others (females, young males, juveniles)   \n412   272.584106  Others (females, young males, juveniles)   \n...          ...                                       ...   \n5019  192.540146  Others (females, young males, juveniles)   \n5724  195.423187  Others (females, young males, juveniles)   \n5725  149.294586  Others (females, young males, juveniles)   \n5726   44.570198  Others (females, young males, juveniles)   \n5727   15.895665  Others (females, young males, juveniles)   \n\n               phase_tag                           user_id  \\\n408   Iguanas 3rd launch  823e0c8bf213199beae68750e41a837a   \n409   Iguanas 3rd launch  823e0c8bf213199beae68750e41a837a   \n410   Iguanas 3rd launch  823e0c8bf213199beae68750e41a837a   \n411   Iguanas 3rd launch  823e0c8bf213199beae68750e41a837a   \n412   Iguanas 3rd launch  823e0c8bf213199beae68750e41a837a   \n...                  ...                               ...   \n5019  Iguanas 3rd launch  3fc49e9436026f5e3c1361265a845d75   \n5724  Iguanas 3rd launch  c11a32c827347926881e5e1db75cb701   \n5725  Iguanas 3rd launch  c11a32c827347926881e5e1db75cb701   \n5726  Iguanas 3rd launch  c11a32c827347926881e5e1db75cb701   \n5727  Iguanas 3rd launch  c11a32c827347926881e5e1db75cb701   \n\n                             user_name  \n408   4253d1b3d5ae39006bb949e6cf2f144e  \n409   4253d1b3d5ae39006bb949e6cf2f144e  \n410   4253d1b3d5ae39006bb949e6cf2f144e  \n411   4253d1b3d5ae39006bb949e6cf2f144e  \n412   4253d1b3d5ae39006bb949e6cf2f144e  \n...                                ...  \n5019  a1b06094359d2185d0bcee38da83928a  \n5724  691500ccebe2131f83809524df652f87  \n5725  691500ccebe2131f83809524df652f87  \n5726  691500ccebe2131f83809524df652f87  \n5727  691500ccebe2131f83809524df652f87  \n\n[7400 rows x 10 columns]",
      "text/html": "<div>\n<style scoped>\n    .dataframe tbody tr th:only-of-type {\n        vertical-align: middle;\n    }\n\n    .dataframe tbody tr th {\n        vertical-align: top;\n    }\n\n    .dataframe thead th {\n        text-align: right;\n    }\n</style>\n<table border=\"1\" class=\"dataframe\">\n  <thead>\n    <tr style=\"text-align: right;\">\n      <th></th>\n      <th>Unnamed: 0</th>\n      <th>flight_site_code</th>\n      <th>image_name</th>\n      <th>subject_id</th>\n      <th>x</th>\n      <th>y</th>\n      <th>tool_label</th>\n      <th>phase_tag</th>\n      <th>user_id</th>\n      <th>user_name</th>\n    </tr>\n  </thead>\n  <tbody>\n    <tr>\n      <th>408</th>\n      <td>4658</td>\n      <td>SouthCoastH</td>\n      <td>ESCH01-1_13.jpg</td>\n      <td>78964714</td>\n      <td>764.540100</td>\n      <td>361.271637</td>\n      <td>Adult Male with a lek</td>\n      <td>Iguanas 3rd launch</td>\n      <td>823e0c8bf213199beae68750e41a837a</td>\n      <td>4253d1b3d5ae39006bb949e6cf2f144e</td>\n    </tr>\n    <tr>\n      <th>409</th>\n      <td>4659</td>\n      <td>SouthCoastH</td>\n      <td>ESCH01-1_13.jpg</td>\n      <td>78964714</td>\n      <td>767.268921</td>\n      <td>334.892792</td>\n      <td>Others (females, young males, juveniles)</td>\n      <td>Iguanas 3rd launch</td>\n      <td>823e0c8bf213199beae68750e41a837a</td>\n      <td>4253d1b3d5ae39006bb949e6cf2f144e</td>\n    </tr>\n    <tr>\n      <th>410</th>\n      <td>4660</td>\n      <td>SouthCoastH</td>\n      <td>ESCH01-1_13.jpg</td>\n      <td>78964714</td>\n      <td>769.088196</td>\n      <td>310.787964</td>\n      <td>Others (females, young males, juveniles)</td>\n      <td>Iguanas 3rd launch</td>\n      <td>823e0c8bf213199beae68750e41a837a</td>\n      <td>4253d1b3d5ae39006bb949e6cf2f144e</td>\n    </tr>\n    <tr>\n      <th>411</th>\n      <td>4661</td>\n      <td>SouthCoastH</td>\n      <td>ESCH01-1_13.jpg</td>\n      <td>78964714</td>\n      <td>754.079529</td>\n      <td>277.132202</td>\n      <td>Others (females, young males, juveniles)</td>\n      <td>Iguanas 3rd launch</td>\n      <td>823e0c8bf213199beae68750e41a837a</td>\n      <td>4253d1b3d5ae39006bb949e6cf2f144e</td>\n    </tr>\n    <tr>\n      <th>412</th>\n      <td>4662</td>\n      <td>SouthCoastH</td>\n      <td>ESCH01-1_13.jpg</td>\n      <td>78964714</td>\n      <td>808.201660</td>\n      <td>272.584106</td>\n      <td>Others (females, young males, juveniles)</td>\n      <td>Iguanas 3rd launch</td>\n      <td>823e0c8bf213199beae68750e41a837a</td>\n      <td>4253d1b3d5ae39006bb949e6cf2f144e</td>\n    </tr>\n    <tr>\n      <th>...</th>\n      <td>...</td>\n      <td>...</td>\n      <td>...</td>\n      <td>...</td>\n      <td>...</td>\n      <td>...</td>\n      <td>...</td>\n      <td>...</td>\n      <td>...</td>\n      <td>...</td>\n    </tr>\n    <tr>\n      <th>5019</th>\n      <td>64823</td>\n      <td>WestCoast</td>\n      <td>PWC03-2-1_42.jpg</td>\n      <td>78963297</td>\n      <td>475.094360</td>\n      <td>192.540146</td>\n      <td>Others (females, young males, juveniles)</td>\n      <td>Iguanas 3rd launch</td>\n      <td>3fc49e9436026f5e3c1361265a845d75</td>\n      <td>a1b06094359d2185d0bcee38da83928a</td>\n    </tr>\n    <tr>\n      <th>5724</th>\n      <td>73986</td>\n      <td>WestCoast</td>\n      <td>PWC03-2-1_42.jpg</td>\n      <td>78963297</td>\n      <td>466.367310</td>\n      <td>195.423187</td>\n      <td>Others (females, young males, juveniles)</td>\n      <td>Iguanas 3rd launch</td>\n      <td>c11a32c827347926881e5e1db75cb701</td>\n      <td>691500ccebe2131f83809524df652f87</td>\n    </tr>\n    <tr>\n      <th>5725</th>\n      <td>73987</td>\n      <td>WestCoast</td>\n      <td>PWC03-2-1_42.jpg</td>\n      <td>78963297</td>\n      <td>356.656067</td>\n      <td>149.294586</td>\n      <td>Others (females, young males, juveniles)</td>\n      <td>Iguanas 3rd launch</td>\n      <td>c11a32c827347926881e5e1db75cb701</td>\n      <td>691500ccebe2131f83809524df652f87</td>\n    </tr>\n    <tr>\n      <th>5726</th>\n      <td>73988</td>\n      <td>WestCoast</td>\n      <td>PWC03-2-1_42.jpg</td>\n      <td>78963297</td>\n      <td>421.485443</td>\n      <td>44.570198</td>\n      <td>Others (females, young males, juveniles)</td>\n      <td>Iguanas 3rd launch</td>\n      <td>c11a32c827347926881e5e1db75cb701</td>\n      <td>691500ccebe2131f83809524df652f87</td>\n    </tr>\n    <tr>\n      <th>5727</th>\n      <td>73989</td>\n      <td>WestCoast</td>\n      <td>PWC03-2-1_42.jpg</td>\n      <td>78963297</td>\n      <td>473.847626</td>\n      <td>15.895665</td>\n      <td>Others (females, young males, juveniles)</td>\n      <td>Iguanas 3rd launch</td>\n      <td>c11a32c827347926881e5e1db75cb701</td>\n      <td>691500ccebe2131f83809524df652f87</td>\n    </tr>\n  </tbody>\n</table>\n<p>7400 rows × 10 columns</p>\n</div>"
     },
     "execution_count": 11,
     "metadata": {},
     "output_type": "execute_result"
    }
   ],
   "source": [
    "## After filtering there\n",
    "df_merged_dataset"
   ]
  },
  {
   "cell_type": "code",
   "execution_count": 12,
   "id": "e1fcc8d02df55119",
   "metadata": {
    "collapsed": false,
    "ExecuteTime": {
     "end_time": "2024-03-22T19:53:13.377232Z",
     "start_time": "2024-03-22T19:53:13.355076Z"
    }
   },
   "outputs": [
    {
     "data": {
      "text/plain": "                                    x\nuser_id                              \n013cb4b55188fc660b8fd7f8dbb9bb8f    9\n0156eebf62383fedf03616142d065d39  131\n01671783e7cd4124074ed5fc29647828   13\n01f32084acb4138c447e1404d765d7b4    2\n023383cf6fd2b03c328c2e8054d2ccea    1",
      "text/html": "<div>\n<style scoped>\n    .dataframe tbody tr th:only-of-type {\n        vertical-align: middle;\n    }\n\n    .dataframe tbody tr th {\n        vertical-align: top;\n    }\n\n    .dataframe thead th {\n        text-align: right;\n    }\n</style>\n<table border=\"1\" class=\"dataframe\">\n  <thead>\n    <tr style=\"text-align: right;\">\n      <th></th>\n      <th>x</th>\n    </tr>\n    <tr>\n      <th>user_id</th>\n      <th></th>\n    </tr>\n  </thead>\n  <tbody>\n    <tr>\n      <th>013cb4b55188fc660b8fd7f8dbb9bb8f</th>\n      <td>9</td>\n    </tr>\n    <tr>\n      <th>0156eebf62383fedf03616142d065d39</th>\n      <td>131</td>\n    </tr>\n    <tr>\n      <th>01671783e7cd4124074ed5fc29647828</th>\n      <td>13</td>\n    </tr>\n    <tr>\n      <th>01f32084acb4138c447e1404d765d7b4</th>\n      <td>2</td>\n    </tr>\n    <tr>\n      <th>023383cf6fd2b03c328c2e8054d2ccea</th>\n      <td>1</td>\n    </tr>\n  </tbody>\n</table>\n</div>"
     },
     "execution_count": 12,
     "metadata": {},
     "output_type": "execute_result"
    }
   ],
   "source": [
    "# how many marks per user\n",
    "df_merged_dataset[[\"user_id\", \"x\"]].groupby(\"user_id\").count().head()"
   ]
  },
  {
   "cell_type": "markdown",
   "id": "9dc998338a68bf87",
   "metadata": {
    "collapsed": false
   },
   "source": [
    "### Gold standard data\n",
    "For reference"
   ]
  },
  {
   "cell_type": "code",
   "outputs": [
    {
     "data": {
      "text/plain": "87"
     },
     "execution_count": 13,
     "metadata": {},
     "output_type": "execute_result"
    }
   ],
   "source": [
    "df_goldstandard_expert_count[\"subject_id\"].nunique()"
   ],
   "metadata": {
    "collapsed": false,
    "ExecuteTime": {
     "end_time": "2024-03-22T19:53:13.397789Z",
     "start_time": "2024-03-22T19:53:13.378161Z"
    }
   },
   "id": "c47edb47e4401a00",
   "execution_count": 13
  },
  {
   "cell_type": "code",
   "execution_count": 14,
   "id": "ba06d92f5be8c77",
   "metadata": {
    "collapsed": false,
    "ExecuteTime": {
     "end_time": "2024-03-22T19:53:13.420524Z",
     "start_time": "2024-03-22T19:53:13.398569Z"
    }
   },
   "outputs": [
    {
     "data": {
      "text/plain": "subject_id    87\nMedian0s      87\nMean0s        87\nMax0s         87\nStd0s         86\nMedian0s.r    87\nMean0s.r      87\nMode0s        87\ndtype: int64"
     },
     "execution_count": 14,
     "metadata": {},
     "output_type": "execute_result"
    }
   ],
   "source": [
    "# look at the\n",
    "df_goldstandard_expert_count.count()"
   ]
  },
  {
   "cell_type": "code",
   "execution_count": 15,
   "id": "15820bdd2650de9f",
   "metadata": {
    "collapsed": false,
    "ExecuteTime": {
     "end_time": "2024-03-22T19:53:13.441777Z",
     "start_time": "2024-03-22T19:53:13.421178Z"
    }
   },
   "outputs": [
    {
     "data": {
      "text/plain": "86"
     },
     "execution_count": 15,
     "metadata": {},
     "output_type": "execute_result"
    }
   ],
   "source": [
    "# How many images are left in the zooniverse dataset?\n",
    "len(list(df_merged_dataset.image_name.unique()))"
   ]
  },
  {
   "cell_type": "code",
   "execution_count": 16,
   "id": "80c69a368a3883da",
   "metadata": {
    "collapsed": false,
    "ExecuteTime": {
     "end_time": "2024-03-22T19:53:13.462965Z",
     "start_time": "2024-03-22T19:53:13.443142Z"
    }
   },
   "outputs": [
    {
     "name": "stdout",
     "output_type": "stream",
     "text": [
      "images in df_goldstandard_expert_count but not in df_merged_dataset: 1\n"
     ]
    }
   ],
   "source": [
    "#Is there an image in the goldstandard, which is not in the classifcations?\n",
    "print(f\"images in df_goldstandard_expert_count but not in df_merged_dataset: {len(set(df_goldstandard_expert_count.subject_id) - set(df_merged_dataset.subject_id.unique()))}\")\n"
   ]
  },
  {
   "cell_type": "code",
   "execution_count": 17,
   "id": "5c147f0b-67ef-4f91-bfc2-5847ce034574",
   "metadata": {
    "ExecuteTime": {
     "end_time": "2024-03-22T19:53:13.484782Z",
     "start_time": "2024-03-22T19:53:13.463910Z"
    }
   },
   "outputs": [
    {
     "data": {
      "text/plain": "0     78922029\n1     78922093\n2     78922433\n3     78922625\n4     78924089\n        ...   \n82    78965032\n83    78965058\n84    78965066\n85    78965103\n86    78965135\nName: subject_id, Length: 87, dtype: int64"
     },
     "execution_count": 17,
     "metadata": {},
     "output_type": "execute_result"
    }
   ],
   "source": [
    "df_goldstandard_expert_count.subject_id"
   ]
  },
  {
   "cell_type": "code",
   "execution_count": 18,
   "id": "258c8bab-27fb-4d8b-968c-088d6ab2e6ee",
   "metadata": {
    "ExecuteTime": {
     "end_time": "2024-03-22T19:53:13.509299Z",
     "start_time": "2024-03-22T19:53:13.486271Z"
    }
   },
   "outputs": [
    {
     "data": {
      "text/plain": "0       78925728\n1       78925730\n2       78925747\n3       78925781\n4       78925808\n          ...   \n1151    78925600\n1152    78925604\n1153    78925605\n1154    78925608\n1155    78925614\nName: subject_id, Length: 1156, dtype: int64"
     },
     "execution_count": 18,
     "metadata": {},
     "output_type": "execute_result"
    }
   ],
   "source": [
    "df_expert_count.subject_id\n"
   ]
  },
  {
   "cell_type": "code",
   "outputs": [
    {
     "data": {
      "text/plain": "388"
     },
     "execution_count": 19,
     "metadata": {},
     "output_type": "execute_result"
    }
   ],
   "source": [
    "df_expert_count.count_total.sum()"
   ],
   "metadata": {
    "collapsed": false,
    "ExecuteTime": {
     "end_time": "2024-03-22T19:53:13.531358Z",
     "start_time": "2024-03-22T19:53:13.510357Z"
    }
   },
   "id": "48733ec4663ffc77",
   "execution_count": 19
  },
  {
   "cell_type": "code",
   "execution_count": 20,
   "id": "a32dd3d78eb25d4a",
   "metadata": {
    "collapsed": false,
    "ExecuteTime": {
     "end_time": "2024-03-22T19:53:13.552908Z",
     "start_time": "2024-03-22T19:53:13.532333Z"
    }
   },
   "outputs": [
    {
     "data": {
      "text/plain": "86"
     },
     "execution_count": 20,
     "metadata": {},
     "output_type": "execute_result"
    }
   ],
   "source": [
    "# How many images are in the filtered flat zooniverse dataset\n",
    "df_merged_dataset[\"subject_id\"].nunique()"
   ]
  },
  {
   "cell_type": "code",
   "execution_count": 21,
   "id": "e81f8736a91d6771",
   "metadata": {
    "collapsed": false,
    "ExecuteTime": {
     "end_time": "2024-03-22T19:53:13.574336Z",
     "start_time": "2024-03-22T19:53:13.554303Z"
    }
   },
   "outputs": [],
   "source": [
    "## plot some of the marks\n",
    "from zooniverse.utils.plotting import plot_zooniverse_user_marks_v2\n",
    "\n",
    "if phase_tag in[\"Iguanas 1st launch\", \"Iguanas 2nd launch\"]  and  ( plot_diagrams or show_plots ) :\n",
    "    for image_name, df_image_name in df_merged_dataset.groupby(\"image_name\"):\n",
    "        \n",
    "        ## plot the marks\n",
    "        markers_plot_path = plot_zooniverse_user_marks_v2(df_image_name,\n",
    "                                                          image_path=df_image_name.iloc[0][\"image_path\"],\n",
    "                                                          image_name=image_name,\n",
    "                                                          output_path=output_plot_path, show=show_plots, title=f\"Markers for {image_name}\", fig_size=(5,5))\n",
    "        "
   ]
  },
  {
   "cell_type": "markdown",
   "id": "42c2737f2c06741d",
   "metadata": {
    "collapsed": false
   },
   "source": [
    "## Clustering"
   ]
  },
  {
   "cell_type": "markdown",
   "id": "beefdd1511daad4",
   "metadata": {
    "collapsed": false
   },
   "source": [
    "### Basic Statics like mean, median, mode"
   ]
  },
  {
   "cell_type": "code",
   "execution_count": 22,
   "id": "998d62019f01a2ec",
   "metadata": {
    "collapsed": false,
    "ExecuteTime": {
     "end_time": "2024-03-22T19:53:13.615364Z",
     "start_time": "2024-03-22T19:53:13.575946Z"
    }
   },
   "outputs": [],
   "source": [
    "from sklearn.metrics import mean_squared_error\n",
    "from zooniverse.analysis import get_mark_overview\n",
    "\n",
    "basic_stats = []\n",
    "kmeans_knee_stats = []\n",
    "kmeans_silouettes = []\n",
    "mse_errors = {}\n",
    "\n",
    "\n",
    "for image_name, df_image_name in df_merged_dataset.groupby(\"image_name\"):\n",
    "    annotations_count = get_mark_overview(df_image_name)\n",
    "\n",
    "    annotations_count_stats = get_annotation_count_stats(annotations_count=annotations_count,\n",
    "                                                         image_name=df_image_name.iloc[0][\"image_name\"])\n",
    "\n",
    "    ### basic statistics like mean, median\n",
    "    basic_stats.append(annotations_count_stats)\n",
    "    \n",
    "\n",
    "df_basic_stats = pd.DataFrame(basic_stats)    \n",
    "\n",
    "## join the gold standard data to the basic stats\n",
    "if use_gold_standard_subset is not None:\n",
    "    df_comparison = df_expert_count.merge(df_basic_stats, on='image_name', how='left')\n",
    "else:\n",
    "    df_comparison = df_basic_stats\n"
   ]
  },
  {
   "cell_type": "code",
   "execution_count": 23,
   "id": "dd1f05f18807f3b4",
   "metadata": {
    "collapsed": false,
    "ExecuteTime": {
     "end_time": "2024-03-22T19:53:13.643692Z",
     "start_time": "2024-03-22T19:53:13.616921Z"
    }
   },
   "outputs": [
    {
     "data": {
      "text/plain": "          image_name  median_count  mean_count  mode_count  users  \\\n0    ESCH01-1_13.jpg          18.0       16.46          19     24   \n1    ESCH01-1_19.jpg           6.5        6.39           7     18   \n2    ESCH01-1_21.jpg           6.5        5.96           2     28   \n3    ESCH01-1_22.jpg           4.0        3.89           5     27   \n4    ESCH01-1_23.jpg           2.0        2.11           2     27   \n..               ...           ...         ...         ...    ...   \n81    PWC01-1_61.jpg          14.0       13.25          14     24   \n82    PWC01-1_62.jpg          12.0       11.94          13     16   \n83   PWC01-4_231.jpg           3.0        2.88           1      8   \n84    PWC01-5_34.jpg           1.0        1.46           1     13   \n85  PWC03-2-1_42.jpg           3.5        3.33           4     12   \n\n    sum_annotations_count                                  annotations_count  \n0                     395  [3, 8, 11, 15, 15, 15, 15, 16, 17, 17, 18, 18,...  \n1                     115  [3, 3, 3, 3, 4, 5, 5, 6, 6, 7, 7, 7, 7, 8, 8, ...  \n2                     167  [2, 2, 2, 2, 2, 2, 3, 3, 5, 5, 5, 6, 6, 6, 7, ...  \n3                     105  [1, 1, 1, 1, 3, 3, 3, 3, 4, 4, 4, 4, 4, 4, 4, ...  \n4                      57  [2, 2, 2, 2, 2, 2, 2, 2, 2, 2, 2, 2, 2, 2, 2, ...  \n..                    ...                                                ...  \n81                    318  [2, 7, 9, 9, 11, 12, 13, 13, 13, 14, 14, 14, 1...  \n82                    191  [10, 10, 10, 11, 11, 11, 12, 12, 12, 13, 13, 1...  \n83                     23                           [1, 1, 1, 3, 3, 4, 5, 5]  \n84                     19            [1, 1, 1, 1, 1, 1, 1, 1, 1, 2, 2, 3, 3]  \n85                     40               [2, 2, 3, 3, 3, 3, 4, 4, 4, 4, 4, 4]  \n\n[86 rows x 7 columns]",
      "text/html": "<div>\n<style scoped>\n    .dataframe tbody tr th:only-of-type {\n        vertical-align: middle;\n    }\n\n    .dataframe tbody tr th {\n        vertical-align: top;\n    }\n\n    .dataframe thead th {\n        text-align: right;\n    }\n</style>\n<table border=\"1\" class=\"dataframe\">\n  <thead>\n    <tr style=\"text-align: right;\">\n      <th></th>\n      <th>image_name</th>\n      <th>median_count</th>\n      <th>mean_count</th>\n      <th>mode_count</th>\n      <th>users</th>\n      <th>sum_annotations_count</th>\n      <th>annotations_count</th>\n    </tr>\n  </thead>\n  <tbody>\n    <tr>\n      <th>0</th>\n      <td>ESCH01-1_13.jpg</td>\n      <td>18.0</td>\n      <td>16.46</td>\n      <td>19</td>\n      <td>24</td>\n      <td>395</td>\n      <td>[3, 8, 11, 15, 15, 15, 15, 16, 17, 17, 18, 18,...</td>\n    </tr>\n    <tr>\n      <th>1</th>\n      <td>ESCH01-1_19.jpg</td>\n      <td>6.5</td>\n      <td>6.39</td>\n      <td>7</td>\n      <td>18</td>\n      <td>115</td>\n      <td>[3, 3, 3, 3, 4, 5, 5, 6, 6, 7, 7, 7, 7, 8, 8, ...</td>\n    </tr>\n    <tr>\n      <th>2</th>\n      <td>ESCH01-1_21.jpg</td>\n      <td>6.5</td>\n      <td>5.96</td>\n      <td>2</td>\n      <td>28</td>\n      <td>167</td>\n      <td>[2, 2, 2, 2, 2, 2, 3, 3, 5, 5, 5, 6, 6, 6, 7, ...</td>\n    </tr>\n    <tr>\n      <th>3</th>\n      <td>ESCH01-1_22.jpg</td>\n      <td>4.0</td>\n      <td>3.89</td>\n      <td>5</td>\n      <td>27</td>\n      <td>105</td>\n      <td>[1, 1, 1, 1, 3, 3, 3, 3, 4, 4, 4, 4, 4, 4, 4, ...</td>\n    </tr>\n    <tr>\n      <th>4</th>\n      <td>ESCH01-1_23.jpg</td>\n      <td>2.0</td>\n      <td>2.11</td>\n      <td>2</td>\n      <td>27</td>\n      <td>57</td>\n      <td>[2, 2, 2, 2, 2, 2, 2, 2, 2, 2, 2, 2, 2, 2, 2, ...</td>\n    </tr>\n    <tr>\n      <th>...</th>\n      <td>...</td>\n      <td>...</td>\n      <td>...</td>\n      <td>...</td>\n      <td>...</td>\n      <td>...</td>\n      <td>...</td>\n    </tr>\n    <tr>\n      <th>81</th>\n      <td>PWC01-1_61.jpg</td>\n      <td>14.0</td>\n      <td>13.25</td>\n      <td>14</td>\n      <td>24</td>\n      <td>318</td>\n      <td>[2, 7, 9, 9, 11, 12, 13, 13, 13, 14, 14, 14, 1...</td>\n    </tr>\n    <tr>\n      <th>82</th>\n      <td>PWC01-1_62.jpg</td>\n      <td>12.0</td>\n      <td>11.94</td>\n      <td>13</td>\n      <td>16</td>\n      <td>191</td>\n      <td>[10, 10, 10, 11, 11, 11, 12, 12, 12, 13, 13, 1...</td>\n    </tr>\n    <tr>\n      <th>83</th>\n      <td>PWC01-4_231.jpg</td>\n      <td>3.0</td>\n      <td>2.88</td>\n      <td>1</td>\n      <td>8</td>\n      <td>23</td>\n      <td>[1, 1, 1, 3, 3, 4, 5, 5]</td>\n    </tr>\n    <tr>\n      <th>84</th>\n      <td>PWC01-5_34.jpg</td>\n      <td>1.0</td>\n      <td>1.46</td>\n      <td>1</td>\n      <td>13</td>\n      <td>19</td>\n      <td>[1, 1, 1, 1, 1, 1, 1, 1, 1, 2, 2, 3, 3]</td>\n    </tr>\n    <tr>\n      <th>85</th>\n      <td>PWC03-2-1_42.jpg</td>\n      <td>3.5</td>\n      <td>3.33</td>\n      <td>4</td>\n      <td>12</td>\n      <td>40</td>\n      <td>[2, 2, 3, 3, 3, 3, 4, 4, 4, 4, 4, 4]</td>\n    </tr>\n  </tbody>\n</table>\n<p>86 rows × 7 columns</p>\n</div>"
     },
     "execution_count": 23,
     "metadata": {},
     "output_type": "execute_result"
    }
   ],
   "source": [
    "df_basic_stats"
   ]
  },
  {
   "cell_type": "code",
   "outputs": [
    {
     "data": {
      "text/plain": "302"
     },
     "execution_count": 24,
     "metadata": {},
     "output_type": "execute_result"
    }
   ],
   "source": [
    "df_basic_stats[\"mode_count\"].sum()"
   ],
   "metadata": {
    "collapsed": false,
    "ExecuteTime": {
     "end_time": "2024-03-22T19:53:13.664516Z",
     "start_time": "2024-03-22T19:53:13.644286Z"
    }
   },
   "id": "6767edb835702fea",
   "execution_count": 24
  },
  {
   "cell_type": "code",
   "execution_count": 25,
   "id": "d3dc86009d813ff0",
   "metadata": {
    "collapsed": false,
    "ExecuteTime": {
     "end_time": "2024-03-22T19:53:13.687607Z",
     "start_time": "2024-03-22T19:53:13.665385Z"
    }
   },
   "outputs": [
    {
     "data": {
      "text/plain": "Empty DataFrame\nColumns: [subspecies, island, site_name, subject_group, image_name, subject_id, presence_absence, count_male-lek, count_male-no-lek, count_others, count_partial, count_total, quality, condition, comment, median_count, mean_count, mode_count, users, sum_annotations_count, annotations_count]\nIndex: []\n\n[0 rows x 21 columns]",
      "text/html": "<div>\n<style scoped>\n    .dataframe tbody tr th:only-of-type {\n        vertical-align: middle;\n    }\n\n    .dataframe tbody tr th {\n        vertical-align: top;\n    }\n\n    .dataframe thead th {\n        text-align: right;\n    }\n</style>\n<table border=\"1\" class=\"dataframe\">\n  <thead>\n    <tr style=\"text-align: right;\">\n      <th></th>\n      <th>subspecies</th>\n      <th>island</th>\n      <th>site_name</th>\n      <th>subject_group</th>\n      <th>image_name</th>\n      <th>subject_id</th>\n      <th>presence_absence</th>\n      <th>count_male-lek</th>\n      <th>count_male-no-lek</th>\n      <th>count_others</th>\n      <th>...</th>\n      <th>count_total</th>\n      <th>quality</th>\n      <th>condition</th>\n      <th>comment</th>\n      <th>median_count</th>\n      <th>mean_count</th>\n      <th>mode_count</th>\n      <th>users</th>\n      <th>sum_annotations_count</th>\n      <th>annotations_count</th>\n    </tr>\n  </thead>\n  <tbody>\n  </tbody>\n</table>\n<p>0 rows × 21 columns</p>\n</div>"
     },
     "execution_count": 25,
     "metadata": {},
     "output_type": "execute_result"
    }
   ],
   "source": [
    "# There might be records with too few annotations\n",
    "df_comparison[(df_comparison.count_total > 0) & (df_comparison.sum_annotations_count < 5)].sort_values(by=\"users\", ascending=False)"
   ]
  },
  {
   "cell_type": "code",
   "execution_count": 26,
   "id": "6b73fd302520f520",
   "metadata": {
    "collapsed": false,
    "ExecuteTime": {
     "end_time": "2024-03-22T19:53:13.716911Z",
     "start_time": "2024-03-22T19:53:13.691472Z"
    }
   },
   "outputs": [
    {
     "data": {
      "text/plain": "Empty DataFrame\nColumns: [subspecies, island, site_name, subject_group, image_name, subject_id, presence_absence, count_male-lek, count_male-no-lek, count_others, count_partial, count_total, quality, condition, comment, median_count, mean_count, mode_count, users, sum_annotations_count, annotations_count]\nIndex: []\n\n[0 rows x 21 columns]",
      "text/html": "<div>\n<style scoped>\n    .dataframe tbody tr th:only-of-type {\n        vertical-align: middle;\n    }\n\n    .dataframe tbody tr th {\n        vertical-align: top;\n    }\n\n    .dataframe thead th {\n        text-align: right;\n    }\n</style>\n<table border=\"1\" class=\"dataframe\">\n  <thead>\n    <tr style=\"text-align: right;\">\n      <th></th>\n      <th>subspecies</th>\n      <th>island</th>\n      <th>site_name</th>\n      <th>subject_group</th>\n      <th>image_name</th>\n      <th>subject_id</th>\n      <th>presence_absence</th>\n      <th>count_male-lek</th>\n      <th>count_male-no-lek</th>\n      <th>count_others</th>\n      <th>...</th>\n      <th>count_total</th>\n      <th>quality</th>\n      <th>condition</th>\n      <th>comment</th>\n      <th>median_count</th>\n      <th>mean_count</th>\n      <th>mode_count</th>\n      <th>users</th>\n      <th>sum_annotations_count</th>\n      <th>annotations_count</th>\n    </tr>\n  </thead>\n  <tbody>\n  </tbody>\n</table>\n<p>0 rows × 21 columns</p>\n</div>"
     },
     "execution_count": 26,
     "metadata": {},
     "output_type": "execute_result"
    }
   ],
   "source": [
    "# images with an expert count of more than 0 and less than 5 different users\n",
    "df_comparison[(df_comparison.count_total > 0) & (df_comparison.users < 5)].sort_values(by=\"users\", ascending=False)\n"
   ]
  },
  {
   "cell_type": "code",
   "execution_count": 27,
   "id": "5920de4659a59e9e",
   "metadata": {
    "collapsed": false,
    "ExecuteTime": {
     "end_time": "2024-03-22T19:53:13.737619Z",
     "start_time": "2024-03-22T19:53:13.717624Z"
    }
   },
   "outputs": [
    {
     "data": {
      "text/plain": "388"
     },
     "execution_count": 27,
     "metadata": {},
     "output_type": "execute_result"
    }
   ],
   "source": [
    "df_comparison[\"count_total\"].sum()"
   ]
  },
  {
   "cell_type": "markdown",
   "id": "4bd536b6ef06de7c",
   "metadata": {
    "collapsed": false
   },
   "source": [
    "### Fill NaN values with 0 because the errors can't be calculated otherwise"
   ]
  },
  {
   "cell_type": "code",
   "execution_count": 28,
   "id": "50596f5c07d7bd7c",
   "metadata": {
    "collapsed": false,
    "ExecuteTime": {
     "end_time": "2024-03-22T19:53:13.759667Z",
     "start_time": "2024-03-22T19:53:13.738569Z"
    }
   },
   "outputs": [],
   "source": [
    "\n",
    "## Fill NaN values with 0 because the errors can't be calculated otherwise\n",
    "df_comparison.fillna(0, inplace=True)\n"
   ]
  },
  {
   "cell_type": "code",
   "execution_count": 29,
   "id": "a538f869681967c",
   "metadata": {
    "collapsed": false,
    "ExecuteTime": {
     "end_time": "2024-03-22T19:53:13.789562Z",
     "start_time": "2024-03-22T19:53:13.765575Z"
    }
   },
   "outputs": [
    {
     "data": {
      "text/plain": "median_count_rmse    0.479466\nmean_count_rmse      1.454819\nmode_count_rmse      0.657667\ndtype: float64"
     },
     "execution_count": 29,
     "metadata": {},
     "output_type": "execute_result"
    }
   ],
   "source": [
    "\n",
    "mse_errors[\"median_count_rmse\"] = mean_squared_error(df_comparison.count_total, df_comparison.median_count,\n",
    "                                                     squared=False)\n",
    "mse_errors[\"mean_count_rmse\"] = mean_squared_error(df_comparison.count_total, df_comparison.mean_count, squared=False)\n",
    "mse_errors[\"mode_count_rmse\"] = mean_squared_error(df_comparison.count_total, df_comparison.mode_count, squared=False)\n",
    "\n",
    "pd.Series(mse_errors)"
   ]
  },
  {
   "cell_type": "code",
   "execution_count": 30,
   "id": "d0b61f01-8db0-48a6-8a4e-5ff80e6f86e4",
   "metadata": {
    "ExecuteTime": {
     "end_time": "2024-03-22T19:53:13.820066Z",
     "start_time": "2024-03-22T19:53:13.791190Z"
    }
   },
   "outputs": [
    {
     "data": {
      "text/plain": "         subspecies    island   site_name subject_group      image_name  \\\n0     A. c. hayampi  Marchena  BahiaNegra          MBN1    MBN02_72.jpg   \n1     A. c. hayampi  Marchena  BahiaNegra          MBN1    MBN02_74.jpg   \n2     A. c. hayampi  Marchena  BahiaNegra          MBN1    MBN02_95.jpg   \n3     A. c. hayampi  Marchena  BahiaNegra          MBN1  MBN03-2_06.jpg   \n4     A. c. hayampi  Marchena  BahiaNegra          MBN1  MBN03-2_38.jpg   \n...             ...       ...         ...           ...             ...   \n1151    A. c. nanus  Genovesa  WestCoastB           GWB  GWB01-3_66.jpg   \n1152    A. c. nanus  Genovesa  WestCoastB           GWB  GWB01-3_70.jpg   \n1153    A. c. nanus  Genovesa  WestCoastB           GWB  GWB01-3_71.jpg   \n1154    A. c. nanus  Genovesa  WestCoastB           GWB  GWB01-3_82.jpg   \n1155    A. c. nanus  Genovesa  WestCoastB           GWB  GWB01-3_88.jpg   \n\n      subject_id presence_absence  count_male-lek  count_male-no-lek  \\\n0       78925728                N               0                  0   \n1       78925730                N               0                  0   \n2       78925747                N               0                  0   \n3       78925781                N               0                  0   \n4       78925808                N               0                  0   \n...          ...              ...             ...                ...   \n1151    78925600                Y               0                  0   \n1152    78925604                N               0                  0   \n1153    78925605                N               0                  0   \n1154    78925608                N               0                  0   \n1155    78925614                Y               0                  0   \n\n      count_others  ...  count_total  quality condition comment median_count  \\\n0                0  ...            0        0         0       0          0.0   \n1                0  ...            0        0         0       0          0.0   \n2                0  ...            0        0         0       0          0.0   \n3                0  ...            0        0         0       0          0.0   \n4                0  ...            0        0         0       0          0.0   \n...            ...  ...          ...      ...       ...     ...          ...   \n1151             1  ...            1     Good      Hard       0          0.0   \n1152             0  ...            0        0         0       0          0.0   \n1153             0  ...            0        0         0       0          0.0   \n1154             0  ...            0        0         0       0          0.0   \n1155             1  ...            1     Good      Hard       0          0.0   \n\n      mean_count  mode_count  users  sum_annotations_count  annotations_count  \n0            0.0         0.0    0.0                    0.0                  0  \n1            0.0         0.0    0.0                    0.0                  0  \n2            0.0         0.0    0.0                    0.0                  0  \n3            0.0         0.0    0.0                    0.0                  0  \n4            0.0         0.0    0.0                    0.0                  0  \n...          ...         ...    ...                    ...                ...  \n1151         0.0         0.0    0.0                    0.0                  0  \n1152         0.0         0.0    0.0                    0.0                  0  \n1153         0.0         0.0    0.0                    0.0                  0  \n1154         0.0         0.0    0.0                    0.0                  0  \n1155         0.0         0.0    0.0                    0.0                  0  \n\n[1156 rows x 21 columns]",
      "text/html": "<div>\n<style scoped>\n    .dataframe tbody tr th:only-of-type {\n        vertical-align: middle;\n    }\n\n    .dataframe tbody tr th {\n        vertical-align: top;\n    }\n\n    .dataframe thead th {\n        text-align: right;\n    }\n</style>\n<table border=\"1\" class=\"dataframe\">\n  <thead>\n    <tr style=\"text-align: right;\">\n      <th></th>\n      <th>subspecies</th>\n      <th>island</th>\n      <th>site_name</th>\n      <th>subject_group</th>\n      <th>image_name</th>\n      <th>subject_id</th>\n      <th>presence_absence</th>\n      <th>count_male-lek</th>\n      <th>count_male-no-lek</th>\n      <th>count_others</th>\n      <th>...</th>\n      <th>count_total</th>\n      <th>quality</th>\n      <th>condition</th>\n      <th>comment</th>\n      <th>median_count</th>\n      <th>mean_count</th>\n      <th>mode_count</th>\n      <th>users</th>\n      <th>sum_annotations_count</th>\n      <th>annotations_count</th>\n    </tr>\n  </thead>\n  <tbody>\n    <tr>\n      <th>0</th>\n      <td>A. c. hayampi</td>\n      <td>Marchena</td>\n      <td>BahiaNegra</td>\n      <td>MBN1</td>\n      <td>MBN02_72.jpg</td>\n      <td>78925728</td>\n      <td>N</td>\n      <td>0</td>\n      <td>0</td>\n      <td>0</td>\n      <td>...</td>\n      <td>0</td>\n      <td>0</td>\n      <td>0</td>\n      <td>0</td>\n      <td>0.0</td>\n      <td>0.0</td>\n      <td>0.0</td>\n      <td>0.0</td>\n      <td>0.0</td>\n      <td>0</td>\n    </tr>\n    <tr>\n      <th>1</th>\n      <td>A. c. hayampi</td>\n      <td>Marchena</td>\n      <td>BahiaNegra</td>\n      <td>MBN1</td>\n      <td>MBN02_74.jpg</td>\n      <td>78925730</td>\n      <td>N</td>\n      <td>0</td>\n      <td>0</td>\n      <td>0</td>\n      <td>...</td>\n      <td>0</td>\n      <td>0</td>\n      <td>0</td>\n      <td>0</td>\n      <td>0.0</td>\n      <td>0.0</td>\n      <td>0.0</td>\n      <td>0.0</td>\n      <td>0.0</td>\n      <td>0</td>\n    </tr>\n    <tr>\n      <th>2</th>\n      <td>A. c. hayampi</td>\n      <td>Marchena</td>\n      <td>BahiaNegra</td>\n      <td>MBN1</td>\n      <td>MBN02_95.jpg</td>\n      <td>78925747</td>\n      <td>N</td>\n      <td>0</td>\n      <td>0</td>\n      <td>0</td>\n      <td>...</td>\n      <td>0</td>\n      <td>0</td>\n      <td>0</td>\n      <td>0</td>\n      <td>0.0</td>\n      <td>0.0</td>\n      <td>0.0</td>\n      <td>0.0</td>\n      <td>0.0</td>\n      <td>0</td>\n    </tr>\n    <tr>\n      <th>3</th>\n      <td>A. c. hayampi</td>\n      <td>Marchena</td>\n      <td>BahiaNegra</td>\n      <td>MBN1</td>\n      <td>MBN03-2_06.jpg</td>\n      <td>78925781</td>\n      <td>N</td>\n      <td>0</td>\n      <td>0</td>\n      <td>0</td>\n      <td>...</td>\n      <td>0</td>\n      <td>0</td>\n      <td>0</td>\n      <td>0</td>\n      <td>0.0</td>\n      <td>0.0</td>\n      <td>0.0</td>\n      <td>0.0</td>\n      <td>0.0</td>\n      <td>0</td>\n    </tr>\n    <tr>\n      <th>4</th>\n      <td>A. c. hayampi</td>\n      <td>Marchena</td>\n      <td>BahiaNegra</td>\n      <td>MBN1</td>\n      <td>MBN03-2_38.jpg</td>\n      <td>78925808</td>\n      <td>N</td>\n      <td>0</td>\n      <td>0</td>\n      <td>0</td>\n      <td>...</td>\n      <td>0</td>\n      <td>0</td>\n      <td>0</td>\n      <td>0</td>\n      <td>0.0</td>\n      <td>0.0</td>\n      <td>0.0</td>\n      <td>0.0</td>\n      <td>0.0</td>\n      <td>0</td>\n    </tr>\n    <tr>\n      <th>...</th>\n      <td>...</td>\n      <td>...</td>\n      <td>...</td>\n      <td>...</td>\n      <td>...</td>\n      <td>...</td>\n      <td>...</td>\n      <td>...</td>\n      <td>...</td>\n      <td>...</td>\n      <td>...</td>\n      <td>...</td>\n      <td>...</td>\n      <td>...</td>\n      <td>...</td>\n      <td>...</td>\n      <td>...</td>\n      <td>...</td>\n      <td>...</td>\n      <td>...</td>\n      <td>...</td>\n    </tr>\n    <tr>\n      <th>1151</th>\n      <td>A. c. nanus</td>\n      <td>Genovesa</td>\n      <td>WestCoastB</td>\n      <td>GWB</td>\n      <td>GWB01-3_66.jpg</td>\n      <td>78925600</td>\n      <td>Y</td>\n      <td>0</td>\n      <td>0</td>\n      <td>1</td>\n      <td>...</td>\n      <td>1</td>\n      <td>Good</td>\n      <td>Hard</td>\n      <td>0</td>\n      <td>0.0</td>\n      <td>0.0</td>\n      <td>0.0</td>\n      <td>0.0</td>\n      <td>0.0</td>\n      <td>0</td>\n    </tr>\n    <tr>\n      <th>1152</th>\n      <td>A. c. nanus</td>\n      <td>Genovesa</td>\n      <td>WestCoastB</td>\n      <td>GWB</td>\n      <td>GWB01-3_70.jpg</td>\n      <td>78925604</td>\n      <td>N</td>\n      <td>0</td>\n      <td>0</td>\n      <td>0</td>\n      <td>...</td>\n      <td>0</td>\n      <td>0</td>\n      <td>0</td>\n      <td>0</td>\n      <td>0.0</td>\n      <td>0.0</td>\n      <td>0.0</td>\n      <td>0.0</td>\n      <td>0.0</td>\n      <td>0</td>\n    </tr>\n    <tr>\n      <th>1153</th>\n      <td>A. c. nanus</td>\n      <td>Genovesa</td>\n      <td>WestCoastB</td>\n      <td>GWB</td>\n      <td>GWB01-3_71.jpg</td>\n      <td>78925605</td>\n      <td>N</td>\n      <td>0</td>\n      <td>0</td>\n      <td>0</td>\n      <td>...</td>\n      <td>0</td>\n      <td>0</td>\n      <td>0</td>\n      <td>0</td>\n      <td>0.0</td>\n      <td>0.0</td>\n      <td>0.0</td>\n      <td>0.0</td>\n      <td>0.0</td>\n      <td>0</td>\n    </tr>\n    <tr>\n      <th>1154</th>\n      <td>A. c. nanus</td>\n      <td>Genovesa</td>\n      <td>WestCoastB</td>\n      <td>GWB</td>\n      <td>GWB01-3_82.jpg</td>\n      <td>78925608</td>\n      <td>N</td>\n      <td>0</td>\n      <td>0</td>\n      <td>0</td>\n      <td>...</td>\n      <td>0</td>\n      <td>0</td>\n      <td>0</td>\n      <td>0</td>\n      <td>0.0</td>\n      <td>0.0</td>\n      <td>0.0</td>\n      <td>0.0</td>\n      <td>0.0</td>\n      <td>0</td>\n    </tr>\n    <tr>\n      <th>1155</th>\n      <td>A. c. nanus</td>\n      <td>Genovesa</td>\n      <td>WestCoastB</td>\n      <td>GWB</td>\n      <td>GWB01-3_88.jpg</td>\n      <td>78925614</td>\n      <td>Y</td>\n      <td>0</td>\n      <td>0</td>\n      <td>1</td>\n      <td>...</td>\n      <td>1</td>\n      <td>Good</td>\n      <td>Hard</td>\n      <td>0</td>\n      <td>0.0</td>\n      <td>0.0</td>\n      <td>0.0</td>\n      <td>0.0</td>\n      <td>0.0</td>\n      <td>0</td>\n    </tr>\n  </tbody>\n</table>\n<p>1156 rows × 21 columns</p>\n</div>"
     },
     "execution_count": 30,
     "metadata": {},
     "output_type": "execute_result"
    }
   ],
   "source": [
    "df_comparison"
   ]
  },
  {
   "cell_type": "code",
   "execution_count": 31,
   "id": "8473f1659f70c47f",
   "metadata": {
    "collapsed": false,
    "ExecuteTime": {
     "end_time": "2024-03-22T19:53:13.846057Z",
     "start_time": "2024-03-22T19:53:13.821329Z"
    }
   },
   "outputs": [
    {
     "data": {
      "text/plain": "median_count_rmse    0.479466\nmean_count_rmse      1.454819\nmode_count_rmse      0.657667\ndtype: float64"
     },
     "execution_count": 31,
     "metadata": {},
     "output_type": "execute_result"
    }
   ],
   "source": [
    "\n",
    "pd.Series(mse_errors)"
   ]
  },
  {
   "cell_type": "code",
   "execution_count": 32,
   "id": "897c74aacd7fda9",
   "metadata": {
    "collapsed": false,
    "ExecuteTime": {
     "end_time": "2024-03-22T19:53:13.875235Z",
     "start_time": "2024-03-22T19:53:13.846988Z"
    }
   },
   "outputs": [
    {
     "data": {
      "text/plain": "         subspecies    island   site_name subject_group      image_name  \\\n0     A. c. hayampi  Marchena  BahiaNegra          MBN1    MBN02_72.jpg   \n1     A. c. hayampi  Marchena  BahiaNegra          MBN1    MBN02_74.jpg   \n2     A. c. hayampi  Marchena  BahiaNegra          MBN1    MBN02_95.jpg   \n3     A. c. hayampi  Marchena  BahiaNegra          MBN1  MBN03-2_06.jpg   \n4     A. c. hayampi  Marchena  BahiaNegra          MBN1  MBN03-2_38.jpg   \n...             ...       ...         ...           ...             ...   \n1151    A. c. nanus  Genovesa  WestCoastB           GWB  GWB01-3_66.jpg   \n1152    A. c. nanus  Genovesa  WestCoastB           GWB  GWB01-3_70.jpg   \n1153    A. c. nanus  Genovesa  WestCoastB           GWB  GWB01-3_71.jpg   \n1154    A. c. nanus  Genovesa  WestCoastB           GWB  GWB01-3_82.jpg   \n1155    A. c. nanus  Genovesa  WestCoastB           GWB  GWB01-3_88.jpg   \n\n      subject_id presence_absence  count_male-lek  count_male-no-lek  \\\n0       78925728                N               0                  0   \n1       78925730                N               0                  0   \n2       78925747                N               0                  0   \n3       78925781                N               0                  0   \n4       78925808                N               0                  0   \n...          ...              ...             ...                ...   \n1151    78925600                Y               0                  0   \n1152    78925604                N               0                  0   \n1153    78925605                N               0                  0   \n1154    78925608                N               0                  0   \n1155    78925614                Y               0                  0   \n\n      count_others  ...  count_total  quality condition comment median_count  \\\n0                0  ...            0        0         0       0          0.0   \n1                0  ...            0        0         0       0          0.0   \n2                0  ...            0        0         0       0          0.0   \n3                0  ...            0        0         0       0          0.0   \n4                0  ...            0        0         0       0          0.0   \n...            ...  ...          ...      ...       ...     ...          ...   \n1151             1  ...            1     Good      Hard       0          0.0   \n1152             0  ...            0        0         0       0          0.0   \n1153             0  ...            0        0         0       0          0.0   \n1154             0  ...            0        0         0       0          0.0   \n1155             1  ...            1     Good      Hard       0          0.0   \n\n      mean_count  mode_count  users  sum_annotations_count  annotations_count  \n0            0.0         0.0    0.0                    0.0                  0  \n1            0.0         0.0    0.0                    0.0                  0  \n2            0.0         0.0    0.0                    0.0                  0  \n3            0.0         0.0    0.0                    0.0                  0  \n4            0.0         0.0    0.0                    0.0                  0  \n...          ...         ...    ...                    ...                ...  \n1151         0.0         0.0    0.0                    0.0                  0  \n1152         0.0         0.0    0.0                    0.0                  0  \n1153         0.0         0.0    0.0                    0.0                  0  \n1154         0.0         0.0    0.0                    0.0                  0  \n1155         0.0         0.0    0.0                    0.0                  0  \n\n[1156 rows x 21 columns]",
      "text/html": "<div>\n<style scoped>\n    .dataframe tbody tr th:only-of-type {\n        vertical-align: middle;\n    }\n\n    .dataframe tbody tr th {\n        vertical-align: top;\n    }\n\n    .dataframe thead th {\n        text-align: right;\n    }\n</style>\n<table border=\"1\" class=\"dataframe\">\n  <thead>\n    <tr style=\"text-align: right;\">\n      <th></th>\n      <th>subspecies</th>\n      <th>island</th>\n      <th>site_name</th>\n      <th>subject_group</th>\n      <th>image_name</th>\n      <th>subject_id</th>\n      <th>presence_absence</th>\n      <th>count_male-lek</th>\n      <th>count_male-no-lek</th>\n      <th>count_others</th>\n      <th>...</th>\n      <th>count_total</th>\n      <th>quality</th>\n      <th>condition</th>\n      <th>comment</th>\n      <th>median_count</th>\n      <th>mean_count</th>\n      <th>mode_count</th>\n      <th>users</th>\n      <th>sum_annotations_count</th>\n      <th>annotations_count</th>\n    </tr>\n  </thead>\n  <tbody>\n    <tr>\n      <th>0</th>\n      <td>A. c. hayampi</td>\n      <td>Marchena</td>\n      <td>BahiaNegra</td>\n      <td>MBN1</td>\n      <td>MBN02_72.jpg</td>\n      <td>78925728</td>\n      <td>N</td>\n      <td>0</td>\n      <td>0</td>\n      <td>0</td>\n      <td>...</td>\n      <td>0</td>\n      <td>0</td>\n      <td>0</td>\n      <td>0</td>\n      <td>0.0</td>\n      <td>0.0</td>\n      <td>0.0</td>\n      <td>0.0</td>\n      <td>0.0</td>\n      <td>0</td>\n    </tr>\n    <tr>\n      <th>1</th>\n      <td>A. c. hayampi</td>\n      <td>Marchena</td>\n      <td>BahiaNegra</td>\n      <td>MBN1</td>\n      <td>MBN02_74.jpg</td>\n      <td>78925730</td>\n      <td>N</td>\n      <td>0</td>\n      <td>0</td>\n      <td>0</td>\n      <td>...</td>\n      <td>0</td>\n      <td>0</td>\n      <td>0</td>\n      <td>0</td>\n      <td>0.0</td>\n      <td>0.0</td>\n      <td>0.0</td>\n      <td>0.0</td>\n      <td>0.0</td>\n      <td>0</td>\n    </tr>\n    <tr>\n      <th>2</th>\n      <td>A. c. hayampi</td>\n      <td>Marchena</td>\n      <td>BahiaNegra</td>\n      <td>MBN1</td>\n      <td>MBN02_95.jpg</td>\n      <td>78925747</td>\n      <td>N</td>\n      <td>0</td>\n      <td>0</td>\n      <td>0</td>\n      <td>...</td>\n      <td>0</td>\n      <td>0</td>\n      <td>0</td>\n      <td>0</td>\n      <td>0.0</td>\n      <td>0.0</td>\n      <td>0.0</td>\n      <td>0.0</td>\n      <td>0.0</td>\n      <td>0</td>\n    </tr>\n    <tr>\n      <th>3</th>\n      <td>A. c. hayampi</td>\n      <td>Marchena</td>\n      <td>BahiaNegra</td>\n      <td>MBN1</td>\n      <td>MBN03-2_06.jpg</td>\n      <td>78925781</td>\n      <td>N</td>\n      <td>0</td>\n      <td>0</td>\n      <td>0</td>\n      <td>...</td>\n      <td>0</td>\n      <td>0</td>\n      <td>0</td>\n      <td>0</td>\n      <td>0.0</td>\n      <td>0.0</td>\n      <td>0.0</td>\n      <td>0.0</td>\n      <td>0.0</td>\n      <td>0</td>\n    </tr>\n    <tr>\n      <th>4</th>\n      <td>A. c. hayampi</td>\n      <td>Marchena</td>\n      <td>BahiaNegra</td>\n      <td>MBN1</td>\n      <td>MBN03-2_38.jpg</td>\n      <td>78925808</td>\n      <td>N</td>\n      <td>0</td>\n      <td>0</td>\n      <td>0</td>\n      <td>...</td>\n      <td>0</td>\n      <td>0</td>\n      <td>0</td>\n      <td>0</td>\n      <td>0.0</td>\n      <td>0.0</td>\n      <td>0.0</td>\n      <td>0.0</td>\n      <td>0.0</td>\n      <td>0</td>\n    </tr>\n    <tr>\n      <th>...</th>\n      <td>...</td>\n      <td>...</td>\n      <td>...</td>\n      <td>...</td>\n      <td>...</td>\n      <td>...</td>\n      <td>...</td>\n      <td>...</td>\n      <td>...</td>\n      <td>...</td>\n      <td>...</td>\n      <td>...</td>\n      <td>...</td>\n      <td>...</td>\n      <td>...</td>\n      <td>...</td>\n      <td>...</td>\n      <td>...</td>\n      <td>...</td>\n      <td>...</td>\n      <td>...</td>\n    </tr>\n    <tr>\n      <th>1151</th>\n      <td>A. c. nanus</td>\n      <td>Genovesa</td>\n      <td>WestCoastB</td>\n      <td>GWB</td>\n      <td>GWB01-3_66.jpg</td>\n      <td>78925600</td>\n      <td>Y</td>\n      <td>0</td>\n      <td>0</td>\n      <td>1</td>\n      <td>...</td>\n      <td>1</td>\n      <td>Good</td>\n      <td>Hard</td>\n      <td>0</td>\n      <td>0.0</td>\n      <td>0.0</td>\n      <td>0.0</td>\n      <td>0.0</td>\n      <td>0.0</td>\n      <td>0</td>\n    </tr>\n    <tr>\n      <th>1152</th>\n      <td>A. c. nanus</td>\n      <td>Genovesa</td>\n      <td>WestCoastB</td>\n      <td>GWB</td>\n      <td>GWB01-3_70.jpg</td>\n      <td>78925604</td>\n      <td>N</td>\n      <td>0</td>\n      <td>0</td>\n      <td>0</td>\n      <td>...</td>\n      <td>0</td>\n      <td>0</td>\n      <td>0</td>\n      <td>0</td>\n      <td>0.0</td>\n      <td>0.0</td>\n      <td>0.0</td>\n      <td>0.0</td>\n      <td>0.0</td>\n      <td>0</td>\n    </tr>\n    <tr>\n      <th>1153</th>\n      <td>A. c. nanus</td>\n      <td>Genovesa</td>\n      <td>WestCoastB</td>\n      <td>GWB</td>\n      <td>GWB01-3_71.jpg</td>\n      <td>78925605</td>\n      <td>N</td>\n      <td>0</td>\n      <td>0</td>\n      <td>0</td>\n      <td>...</td>\n      <td>0</td>\n      <td>0</td>\n      <td>0</td>\n      <td>0</td>\n      <td>0.0</td>\n      <td>0.0</td>\n      <td>0.0</td>\n      <td>0.0</td>\n      <td>0.0</td>\n      <td>0</td>\n    </tr>\n    <tr>\n      <th>1154</th>\n      <td>A. c. nanus</td>\n      <td>Genovesa</td>\n      <td>WestCoastB</td>\n      <td>GWB</td>\n      <td>GWB01-3_82.jpg</td>\n      <td>78925608</td>\n      <td>N</td>\n      <td>0</td>\n      <td>0</td>\n      <td>0</td>\n      <td>...</td>\n      <td>0</td>\n      <td>0</td>\n      <td>0</td>\n      <td>0</td>\n      <td>0.0</td>\n      <td>0.0</td>\n      <td>0.0</td>\n      <td>0.0</td>\n      <td>0.0</td>\n      <td>0</td>\n    </tr>\n    <tr>\n      <th>1155</th>\n      <td>A. c. nanus</td>\n      <td>Genovesa</td>\n      <td>WestCoastB</td>\n      <td>GWB</td>\n      <td>GWB01-3_88.jpg</td>\n      <td>78925614</td>\n      <td>Y</td>\n      <td>0</td>\n      <td>0</td>\n      <td>1</td>\n      <td>...</td>\n      <td>1</td>\n      <td>Good</td>\n      <td>Hard</td>\n      <td>0</td>\n      <td>0.0</td>\n      <td>0.0</td>\n      <td>0.0</td>\n      <td>0.0</td>\n      <td>0.0</td>\n      <td>0</td>\n    </tr>\n  </tbody>\n</table>\n<p>1156 rows × 21 columns</p>\n</div>"
     },
     "execution_count": 32,
     "metadata": {},
     "output_type": "execute_result"
    }
   ],
   "source": [
    "df_comparison"
   ]
  },
  {
   "cell_type": "code",
   "execution_count": 33,
   "id": "134bd6295fa837ce",
   "metadata": {
    "collapsed": false,
    "ExecuteTime": {
     "end_time": "2024-03-22T19:53:13.897367Z",
     "start_time": "2024-03-22T19:53:13.876315Z"
    }
   },
   "outputs": [
    {
     "data": {
      "text/plain": "median_count    314.50\nmean_count      380.51\nmode_count      302.00\ncount_total     388.00\ndtype: float64"
     },
     "execution_count": 33,
     "metadata": {},
     "output_type": "execute_result"
    }
   ],
   "source": [
    "df_comparison[[\"median_count\", \"mean_count\", \"mode_count\", \"count_total\"]].sum()"
   ]
  },
  {
   "cell_type": "markdown",
   "id": "5d99c27ebf9bd6b6",
   "metadata": {
    "collapsed": false
   },
   "source": [
    "### DBSCAN clustering and take the variant with the best silouette score for each image\n"
   ]
  },
  {
   "cell_type": "code",
   "execution_count": 34,
   "id": "33cf6b89951ff33e",
   "metadata": {
    "collapsed": false,
    "ExecuteTime": {
     "end_time": "2024-03-22T19:53:32.673713Z",
     "start_time": "2024-03-22T19:53:13.897985Z"
    }
   },
   "outputs": [
    {
     "name": "stderr",
     "output_type": "stream",
     "text": [
      "/var/folders/2k/78nn7s4548986wsjh29rhj9w0000gn/T/ipykernel_44297/909750967.py:28: FutureWarning: The behavior of DataFrame concatenation with empty or all-NA entries is deprecated. In a future version, this will no longer exclude empty or all-NA columns when determining the result dtypes. To retain the old behavior, exclude the relevant entries before the concat operation.\n",
      "  df_dbscan_localization = pd.concat([*db_scan_results.values()])\n"
     ]
    }
   ],
   "source": [
    "## The old variant\n",
    "from zooniverse.analysis import compare_dbscan_hyp_v2\n",
    "\n",
    "eps_variants = [0.01, 0.05, 0.1, 0.2, 0.3, 0.4, 0.5]\n",
    "min_samples_variants = [3, 5, 8, 10]\n",
    "if debug:\n",
    "    eps_variants = [0.3]\n",
    "    min_samples_variants = [3]\n",
    "params = [(eps, min_samples) for eps in eps_variants for min_samples in min_samples_variants]\n",
    "\n",
    "db_scan_results = {}\n",
    "db_scan_best_results = []\n",
    "db_scan_best_bic_results = []\n",
    "for image_name, df_image_name in df_merged_dataset.groupby(\"image_name\"):\n",
    "\n",
    "    dbscan_localization = compare_dbscan_hyp_v2(\n",
    "        # phase_tag=phase_tag,\n",
    "        params=params,\n",
    "        df_flat=df_image_name,\n",
    "        # output_path=output_path,\n",
    "        output_plot_path=output_plot_path,\n",
    "        plot=show_plots,\n",
    "    )\n",
    "\n",
    "    db_scan_results[image_name] = pd.DataFrame(dbscan_localization)\n",
    "    db_scan_best_results.append(pd.DataFrame(dbscan_localization).sort_values(\"dbscan_silouette_score\", ascending=False).iloc[0])\n",
    "\n",
    "df_dbscan_localization = pd.concat([*db_scan_results.values()])\n",
    "df_scan_best_results = pd.DataFrame(db_scan_best_results)\n",
    "\n"
   ]
  },
  {
   "cell_type": "code",
   "execution_count": 35,
   "id": "1504707449147a99",
   "metadata": {
    "collapsed": false,
    "ExecuteTime": {
     "end_time": "2024-03-22T19:53:32.699102Z",
     "start_time": "2024-03-22T19:53:32.675353Z"
    }
   },
   "outputs": [
    {
     "data": {
      "text/plain": "    dbscan_count  dbscan_noise  dbscan_silouette_score        image_name  \\\n10            18            28                0.616352   ESCH01-1_13.jpg   \n4              9            12                0.716935   ESCH01-1_19.jpg   \n20             8             1                0.861200   ESCH01-1_21.jpg   \n27             4             1                0.931680   ESCH01-1_22.jpg   \n16             2             1                0.874491   ESCH01-1_23.jpg   \n..           ...           ...                     ...               ...   \n27             4             3                0.664809    PWC01-1_61.jpg   \n12             7             1                0.806874    PWC01-1_62.jpg   \n24             4             3                0.752832   PWC01-4_231.jpg   \n4              2             8                0.158432    PWC01-5_34.jpg   \n27             3             6                0.871361  PWC03-2-1_42.jpg   \n\n     eps  min_samples  dbscan_BIC_score  \n10  0.10            8               NaN  \n4   0.05            3               NaN  \n20  0.40            3               NaN  \n27  0.50           10               NaN  \n16  0.30            3               NaN  \n..   ...          ...               ...  \n27  0.50           10               NaN  \n12  0.20            3               NaN  \n24  0.50            3               NaN  \n4   0.05            3               NaN  \n27  0.50           10               NaN  \n\n[86 rows x 7 columns]",
      "text/html": "<div>\n<style scoped>\n    .dataframe tbody tr th:only-of-type {\n        vertical-align: middle;\n    }\n\n    .dataframe tbody tr th {\n        vertical-align: top;\n    }\n\n    .dataframe thead th {\n        text-align: right;\n    }\n</style>\n<table border=\"1\" class=\"dataframe\">\n  <thead>\n    <tr style=\"text-align: right;\">\n      <th></th>\n      <th>dbscan_count</th>\n      <th>dbscan_noise</th>\n      <th>dbscan_silouette_score</th>\n      <th>image_name</th>\n      <th>eps</th>\n      <th>min_samples</th>\n      <th>dbscan_BIC_score</th>\n    </tr>\n  </thead>\n  <tbody>\n    <tr>\n      <th>10</th>\n      <td>18</td>\n      <td>28</td>\n      <td>0.616352</td>\n      <td>ESCH01-1_13.jpg</td>\n      <td>0.10</td>\n      <td>8</td>\n      <td>NaN</td>\n    </tr>\n    <tr>\n      <th>4</th>\n      <td>9</td>\n      <td>12</td>\n      <td>0.716935</td>\n      <td>ESCH01-1_19.jpg</td>\n      <td>0.05</td>\n      <td>3</td>\n      <td>NaN</td>\n    </tr>\n    <tr>\n      <th>20</th>\n      <td>8</td>\n      <td>1</td>\n      <td>0.861200</td>\n      <td>ESCH01-1_21.jpg</td>\n      <td>0.40</td>\n      <td>3</td>\n      <td>NaN</td>\n    </tr>\n    <tr>\n      <th>27</th>\n      <td>4</td>\n      <td>1</td>\n      <td>0.931680</td>\n      <td>ESCH01-1_22.jpg</td>\n      <td>0.50</td>\n      <td>10</td>\n      <td>NaN</td>\n    </tr>\n    <tr>\n      <th>16</th>\n      <td>2</td>\n      <td>1</td>\n      <td>0.874491</td>\n      <td>ESCH01-1_23.jpg</td>\n      <td>0.30</td>\n      <td>3</td>\n      <td>NaN</td>\n    </tr>\n    <tr>\n      <th>...</th>\n      <td>...</td>\n      <td>...</td>\n      <td>...</td>\n      <td>...</td>\n      <td>...</td>\n      <td>...</td>\n      <td>...</td>\n    </tr>\n    <tr>\n      <th>27</th>\n      <td>4</td>\n      <td>3</td>\n      <td>0.664809</td>\n      <td>PWC01-1_61.jpg</td>\n      <td>0.50</td>\n      <td>10</td>\n      <td>NaN</td>\n    </tr>\n    <tr>\n      <th>12</th>\n      <td>7</td>\n      <td>1</td>\n      <td>0.806874</td>\n      <td>PWC01-1_62.jpg</td>\n      <td>0.20</td>\n      <td>3</td>\n      <td>NaN</td>\n    </tr>\n    <tr>\n      <th>24</th>\n      <td>4</td>\n      <td>3</td>\n      <td>0.752832</td>\n      <td>PWC01-4_231.jpg</td>\n      <td>0.50</td>\n      <td>3</td>\n      <td>NaN</td>\n    </tr>\n    <tr>\n      <th>4</th>\n      <td>2</td>\n      <td>8</td>\n      <td>0.158432</td>\n      <td>PWC01-5_34.jpg</td>\n      <td>0.05</td>\n      <td>3</td>\n      <td>NaN</td>\n    </tr>\n    <tr>\n      <th>27</th>\n      <td>3</td>\n      <td>6</td>\n      <td>0.871361</td>\n      <td>PWC03-2-1_42.jpg</td>\n      <td>0.50</td>\n      <td>10</td>\n      <td>NaN</td>\n    </tr>\n  </tbody>\n</table>\n<p>86 rows × 7 columns</p>\n</div>"
     },
     "execution_count": 35,
     "metadata": {},
     "output_type": "execute_result"
    }
   ],
   "source": [
    "df_scan_best_results"
   ]
  },
  {
   "cell_type": "code",
   "execution_count": 36,
   "id": "541f9f88dc56d1f1",
   "metadata": {
    "collapsed": false,
    "ExecuteTime": {
     "end_time": "2024-03-22T19:53:32.720874Z",
     "start_time": "2024-03-22T19:53:32.700918Z"
    }
   },
   "outputs": [],
   "source": [
    "# ## fixes the problem with the silouette score sorting\n",
    "# from zooniverse.analysis import compare_dbscan_hyp_v2\n",
    "# \n",
    "# eps_variants = [0.01, 0.05, 0.1, 0.2, 0.3, 0.4, 0.5]\n",
    "# min_samples_variants = [3, 5, 8, 10]\n",
    "# if debug:\n",
    "#     eps_variants = [0.3]\n",
    "#     min_samples_variants = [3]\n",
    "# params = [(eps, min_samples) for eps in eps_variants for min_samples in min_samples_variants]\n",
    "# \n",
    "# db_scan_results = {}\n",
    "# db_scan_best_results = []\n",
    "# db_scan_best_bic_results = []\n",
    "# for image_name, df_image_name in df_merged_dataset.groupby(\"image_name\"):\n",
    "# \n",
    "#     dbscan_localization = compare_dbscan_hyp_v2(\n",
    "#         # phase_tag=phase_tag,\n",
    "#         params=params,\n",
    "#         df_flat=df_image_name,\n",
    "#         # output_path=output_path,\n",
    "#         output_plot_path=output_plot_path,\n",
    "#         plot=show_plots,\n",
    "#         \n",
    "#     )\n",
    "# \n",
    "#     db_scan_results[image_name] = pd.DataFrame(dbscan_localization)\n",
    "#     \n",
    "#     # DBSCAN tends to classfy all points as noise if min_samples is too high. Often only a single user marked an iguana.\n",
    "#     # Sillouette Scoring needs a minimum of 2 clusters\n",
    "#     # if there are points in decent radius they will belong to a cluster\n",
    "#     if pd.DataFrame(dbscan_localization).dbscan_count.max() == 1:\n",
    "#         db_scan_best_results.append(pd.DataFrame(dbscan_localization).sort_values(\"dbscan_count\", ascending=False).iloc[0])\n",
    "#         db_scan_best_bic_results.append(pd.DataFrame(dbscan_localization).sort_values(\"dbscan_count\", ascending=False).iloc[0])\n",
    "#         # If two or more cluster seem to exists take ones with the best Silouette score\n",
    "#     else:  \n",
    "#         # take the best result by silouette score if there are more clusters then 1\n",
    "#         db_scan_best_results.append(pd.DataFrame(dbscan_localization).sort_values([\"dbscan_silouette_score\", \"dbscan_count\"], ascending=[False, False]).iloc[0])\n",
    "#     \n",
    "# df_dbscan_localization = pd.concat([*db_scan_results.values()])\n",
    "# df_scan_best_results = pd.DataFrame(db_scan_best_results)\n",
    "\n"
   ]
  },
  {
   "cell_type": "code",
   "execution_count": 37,
   "id": "ec07d63d180d7442",
   "metadata": {
    "collapsed": false,
    "ExecuteTime": {
     "end_time": "2024-03-22T19:53:32.745866Z",
     "start_time": "2024-03-22T19:53:32.721556Z"
    }
   },
   "outputs": [
    {
     "data": {
      "text/plain": "    dbscan_count  dbscan_noise  dbscan_silouette_score        image_name  \\\n10            18            28                0.616352   ESCH01-1_13.jpg   \n4              9            12                0.716935   ESCH01-1_19.jpg   \n20             8             1                0.861200   ESCH01-1_21.jpg   \n27             4             1                0.931680   ESCH01-1_22.jpg   \n16             2             1                0.874491   ESCH01-1_23.jpg   \n..           ...           ...                     ...               ...   \n27             4             3                0.664809    PWC01-1_61.jpg   \n12             7             1                0.806874    PWC01-1_62.jpg   \n24             4             3                0.752832   PWC01-4_231.jpg   \n4              2             8                0.158432    PWC01-5_34.jpg   \n27             3             6                0.871361  PWC03-2-1_42.jpg   \n\n     eps  min_samples  dbscan_BIC_score  \n10  0.10            8               NaN  \n4   0.05            3               NaN  \n20  0.40            3               NaN  \n27  0.50           10               NaN  \n16  0.30            3               NaN  \n..   ...          ...               ...  \n27  0.50           10               NaN  \n12  0.20            3               NaN  \n24  0.50            3               NaN  \n4   0.05            3               NaN  \n27  0.50           10               NaN  \n\n[86 rows x 7 columns]",
      "text/html": "<div>\n<style scoped>\n    .dataframe tbody tr th:only-of-type {\n        vertical-align: middle;\n    }\n\n    .dataframe tbody tr th {\n        vertical-align: top;\n    }\n\n    .dataframe thead th {\n        text-align: right;\n    }\n</style>\n<table border=\"1\" class=\"dataframe\">\n  <thead>\n    <tr style=\"text-align: right;\">\n      <th></th>\n      <th>dbscan_count</th>\n      <th>dbscan_noise</th>\n      <th>dbscan_silouette_score</th>\n      <th>image_name</th>\n      <th>eps</th>\n      <th>min_samples</th>\n      <th>dbscan_BIC_score</th>\n    </tr>\n  </thead>\n  <tbody>\n    <tr>\n      <th>10</th>\n      <td>18</td>\n      <td>28</td>\n      <td>0.616352</td>\n      <td>ESCH01-1_13.jpg</td>\n      <td>0.10</td>\n      <td>8</td>\n      <td>NaN</td>\n    </tr>\n    <tr>\n      <th>4</th>\n      <td>9</td>\n      <td>12</td>\n      <td>0.716935</td>\n      <td>ESCH01-1_19.jpg</td>\n      <td>0.05</td>\n      <td>3</td>\n      <td>NaN</td>\n    </tr>\n    <tr>\n      <th>20</th>\n      <td>8</td>\n      <td>1</td>\n      <td>0.861200</td>\n      <td>ESCH01-1_21.jpg</td>\n      <td>0.40</td>\n      <td>3</td>\n      <td>NaN</td>\n    </tr>\n    <tr>\n      <th>27</th>\n      <td>4</td>\n      <td>1</td>\n      <td>0.931680</td>\n      <td>ESCH01-1_22.jpg</td>\n      <td>0.50</td>\n      <td>10</td>\n      <td>NaN</td>\n    </tr>\n    <tr>\n      <th>16</th>\n      <td>2</td>\n      <td>1</td>\n      <td>0.874491</td>\n      <td>ESCH01-1_23.jpg</td>\n      <td>0.30</td>\n      <td>3</td>\n      <td>NaN</td>\n    </tr>\n    <tr>\n      <th>...</th>\n      <td>...</td>\n      <td>...</td>\n      <td>...</td>\n      <td>...</td>\n      <td>...</td>\n      <td>...</td>\n      <td>...</td>\n    </tr>\n    <tr>\n      <th>27</th>\n      <td>4</td>\n      <td>3</td>\n      <td>0.664809</td>\n      <td>PWC01-1_61.jpg</td>\n      <td>0.50</td>\n      <td>10</td>\n      <td>NaN</td>\n    </tr>\n    <tr>\n      <th>12</th>\n      <td>7</td>\n      <td>1</td>\n      <td>0.806874</td>\n      <td>PWC01-1_62.jpg</td>\n      <td>0.20</td>\n      <td>3</td>\n      <td>NaN</td>\n    </tr>\n    <tr>\n      <th>24</th>\n      <td>4</td>\n      <td>3</td>\n      <td>0.752832</td>\n      <td>PWC01-4_231.jpg</td>\n      <td>0.50</td>\n      <td>3</td>\n      <td>NaN</td>\n    </tr>\n    <tr>\n      <th>4</th>\n      <td>2</td>\n      <td>8</td>\n      <td>0.158432</td>\n      <td>PWC01-5_34.jpg</td>\n      <td>0.05</td>\n      <td>3</td>\n      <td>NaN</td>\n    </tr>\n    <tr>\n      <th>27</th>\n      <td>3</td>\n      <td>6</td>\n      <td>0.871361</td>\n      <td>PWC03-2-1_42.jpg</td>\n      <td>0.50</td>\n      <td>10</td>\n      <td>NaN</td>\n    </tr>\n  </tbody>\n</table>\n<p>86 rows × 7 columns</p>\n</div>"
     },
     "execution_count": 37,
     "metadata": {},
     "output_type": "execute_result"
    }
   ],
   "source": [
    "df_scan_best_results"
   ]
  },
  {
   "cell_type": "markdown",
   "id": "d196ca1914a06509",
   "metadata": {
    "collapsed": false
   },
   "source": [
    "Here it can be seen why the silouette score is difficult because it is often undefined."
   ]
  },
  {
   "cell_type": "code",
   "execution_count": 38,
   "id": "c17c404cb518dbe1",
   "metadata": {
    "collapsed": false,
    "ExecuteTime": {
     "end_time": "2024-03-22T19:53:32.780610Z",
     "start_time": "2024-03-22T19:53:32.747337Z"
    }
   },
   "outputs": [
    {
     "data": {
      "text/plain": "    dbscan_count  dbscan_noise  dbscan_silouette_score        image_name  \\\n10            18            28                0.616352   ESCH01-1_13.jpg   \n4              9            12                0.716935   ESCH01-1_19.jpg   \n20             8             1                0.861200   ESCH01-1_21.jpg   \n27             4             1                0.931680   ESCH01-1_22.jpg   \n16             2             1                0.874491   ESCH01-1_23.jpg   \n..           ...           ...                     ...               ...   \n27             4             3                0.664809    PWC01-1_61.jpg   \n12             7             1                0.806874    PWC01-1_62.jpg   \n24             4             3                0.752832   PWC01-4_231.jpg   \n4              2             8                0.158432    PWC01-5_34.jpg   \n27             3             6                0.871361  PWC03-2-1_42.jpg   \n\n     eps  min_samples  dbscan_BIC_score  \n10  0.10            8               NaN  \n4   0.05            3               NaN  \n20  0.40            3               NaN  \n27  0.50           10               NaN  \n16  0.30            3               NaN  \n..   ...          ...               ...  \n27  0.50           10               NaN  \n12  0.20            3               NaN  \n24  0.50            3               NaN  \n4   0.05            3               NaN  \n27  0.50           10               NaN  \n\n[86 rows x 7 columns]",
      "text/html": "<div>\n<style scoped>\n    .dataframe tbody tr th:only-of-type {\n        vertical-align: middle;\n    }\n\n    .dataframe tbody tr th {\n        vertical-align: top;\n    }\n\n    .dataframe thead th {\n        text-align: right;\n    }\n</style>\n<table border=\"1\" class=\"dataframe\">\n  <thead>\n    <tr style=\"text-align: right;\">\n      <th></th>\n      <th>dbscan_count</th>\n      <th>dbscan_noise</th>\n      <th>dbscan_silouette_score</th>\n      <th>image_name</th>\n      <th>eps</th>\n      <th>min_samples</th>\n      <th>dbscan_BIC_score</th>\n    </tr>\n  </thead>\n  <tbody>\n    <tr>\n      <th>10</th>\n      <td>18</td>\n      <td>28</td>\n      <td>0.616352</td>\n      <td>ESCH01-1_13.jpg</td>\n      <td>0.10</td>\n      <td>8</td>\n      <td>NaN</td>\n    </tr>\n    <tr>\n      <th>4</th>\n      <td>9</td>\n      <td>12</td>\n      <td>0.716935</td>\n      <td>ESCH01-1_19.jpg</td>\n      <td>0.05</td>\n      <td>3</td>\n      <td>NaN</td>\n    </tr>\n    <tr>\n      <th>20</th>\n      <td>8</td>\n      <td>1</td>\n      <td>0.861200</td>\n      <td>ESCH01-1_21.jpg</td>\n      <td>0.40</td>\n      <td>3</td>\n      <td>NaN</td>\n    </tr>\n    <tr>\n      <th>27</th>\n      <td>4</td>\n      <td>1</td>\n      <td>0.931680</td>\n      <td>ESCH01-1_22.jpg</td>\n      <td>0.50</td>\n      <td>10</td>\n      <td>NaN</td>\n    </tr>\n    <tr>\n      <th>16</th>\n      <td>2</td>\n      <td>1</td>\n      <td>0.874491</td>\n      <td>ESCH01-1_23.jpg</td>\n      <td>0.30</td>\n      <td>3</td>\n      <td>NaN</td>\n    </tr>\n    <tr>\n      <th>...</th>\n      <td>...</td>\n      <td>...</td>\n      <td>...</td>\n      <td>...</td>\n      <td>...</td>\n      <td>...</td>\n      <td>...</td>\n    </tr>\n    <tr>\n      <th>27</th>\n      <td>4</td>\n      <td>3</td>\n      <td>0.664809</td>\n      <td>PWC01-1_61.jpg</td>\n      <td>0.50</td>\n      <td>10</td>\n      <td>NaN</td>\n    </tr>\n    <tr>\n      <th>12</th>\n      <td>7</td>\n      <td>1</td>\n      <td>0.806874</td>\n      <td>PWC01-1_62.jpg</td>\n      <td>0.20</td>\n      <td>3</td>\n      <td>NaN</td>\n    </tr>\n    <tr>\n      <th>24</th>\n      <td>4</td>\n      <td>3</td>\n      <td>0.752832</td>\n      <td>PWC01-4_231.jpg</td>\n      <td>0.50</td>\n      <td>3</td>\n      <td>NaN</td>\n    </tr>\n    <tr>\n      <th>4</th>\n      <td>2</td>\n      <td>8</td>\n      <td>0.158432</td>\n      <td>PWC01-5_34.jpg</td>\n      <td>0.05</td>\n      <td>3</td>\n      <td>NaN</td>\n    </tr>\n    <tr>\n      <th>27</th>\n      <td>3</td>\n      <td>6</td>\n      <td>0.871361</td>\n      <td>PWC03-2-1_42.jpg</td>\n      <td>0.50</td>\n      <td>10</td>\n      <td>NaN</td>\n    </tr>\n  </tbody>\n</table>\n<p>86 rows × 7 columns</p>\n</div>"
     },
     "execution_count": 38,
     "metadata": {},
     "output_type": "execute_result"
    }
   ],
   "source": [
    "## save the combinations of parameters, which maximized the silouette score.\n",
    "\n",
    "df_dbscan_localization.to_csv(config[\"dbscan_hyperparam_grid\"])\n",
    "df_scan_best_results"
   ]
  },
  {
   "cell_type": "code",
   "execution_count": 39,
   "id": "bacea598a23a1b81",
   "metadata": {
    "collapsed": false,
    "ExecuteTime": {
     "end_time": "2024-03-22T19:53:32.809602Z",
     "start_time": "2024-03-22T19:53:32.782053Z"
    }
   },
   "outputs": [],
   "source": [
    "df_scan_best_results.rename(columns={\"dbscan_count\": \"dbscan_count_sil\" }, inplace=True)\n",
    "\n",
    "df_comparison = df_comparison.merge(df_scan_best_results, on='image_name', how='left')"
   ]
  },
  {
   "cell_type": "code",
   "execution_count": 40,
   "id": "d270534c736bcf9e",
   "metadata": {
    "collapsed": false,
    "ExecuteTime": {
     "end_time": "2024-03-22T19:53:32.837774Z",
     "start_time": "2024-03-22T19:53:32.811681Z"
    }
   },
   "outputs": [
    {
     "data": {
      "text/plain": "median_count_rmse        0.479466\nmean_count_rmse          1.454819\nmode_count_rmse          0.657667\ndbscan_count_sil_rmse    0.658981\ndtype: float64"
     },
     "execution_count": 40,
     "metadata": {},
     "output_type": "execute_result"
    }
   ],
   "source": [
    "df_comparison.fillna(0, inplace=True)\n",
    "\n",
    "mse_errors[\"dbscan_count_sil_rmse\"] = mean_squared_error(df_comparison.count_total, df_comparison.dbscan_count_sil, squared=False)\n",
    "\n",
    "pd.Series(mse_errors)"
   ]
  },
  {
   "cell_type": "code",
   "execution_count": 41,
   "id": "509dec5ebdad923",
   "metadata": {
    "collapsed": false,
    "ExecuteTime": {
     "end_time": "2024-03-22T19:53:32.873170Z",
     "start_time": "2024-03-22T19:53:32.839180Z"
    }
   },
   "outputs": [
    {
     "data": {
      "text/plain": "         subspecies    island   site_name subject_group      image_name  \\\n0     A. c. hayampi  Marchena  BahiaNegra          MBN1    MBN02_72.jpg   \n1     A. c. hayampi  Marchena  BahiaNegra          MBN1    MBN02_74.jpg   \n2     A. c. hayampi  Marchena  BahiaNegra          MBN1    MBN02_95.jpg   \n3     A. c. hayampi  Marchena  BahiaNegra          MBN1  MBN03-2_06.jpg   \n4     A. c. hayampi  Marchena  BahiaNegra          MBN1  MBN03-2_38.jpg   \n...             ...       ...         ...           ...             ...   \n1151    A. c. nanus  Genovesa  WestCoastB           GWB  GWB01-3_66.jpg   \n1152    A. c. nanus  Genovesa  WestCoastB           GWB  GWB01-3_70.jpg   \n1153    A. c. nanus  Genovesa  WestCoastB           GWB  GWB01-3_71.jpg   \n1154    A. c. nanus  Genovesa  WestCoastB           GWB  GWB01-3_82.jpg   \n1155    A. c. nanus  Genovesa  WestCoastB           GWB  GWB01-3_88.jpg   \n\n      subject_id presence_absence  count_male-lek  count_male-no-lek  \\\n0       78925728                N               0                  0   \n1       78925730                N               0                  0   \n2       78925747                N               0                  0   \n3       78925781                N               0                  0   \n4       78925808                N               0                  0   \n...          ...              ...             ...                ...   \n1151    78925600                Y               0                  0   \n1152    78925604                N               0                  0   \n1153    78925605                N               0                  0   \n1154    78925608                N               0                  0   \n1155    78925614                Y               0                  0   \n\n      count_others  ...  quality  condition comment median_count mean_count  \\\n0                0  ...        0          0       0          0.0        0.0   \n1                0  ...        0          0       0          0.0        0.0   \n2                0  ...        0          0       0          0.0        0.0   \n3                0  ...        0          0       0          0.0        0.0   \n4                0  ...        0          0       0          0.0        0.0   \n...            ...  ...      ...        ...     ...          ...        ...   \n1151             1  ...     Good       Hard       0          0.0        0.0   \n1152             0  ...        0          0       0          0.0        0.0   \n1153             0  ...        0          0       0          0.0        0.0   \n1154             0  ...        0          0       0          0.0        0.0   \n1155             1  ...     Good       Hard       0          0.0        0.0   \n\n      mode_count  users  sum_annotations_count  annotations_count  \\\n0            0.0    0.0                    0.0                  0   \n1            0.0    0.0                    0.0                  0   \n2            0.0    0.0                    0.0                  0   \n3            0.0    0.0                    0.0                  0   \n4            0.0    0.0                    0.0                  0   \n...          ...    ...                    ...                ...   \n1151         0.0    0.0                    0.0                  0   \n1152         0.0    0.0                    0.0                  0   \n1153         0.0    0.0                    0.0                  0   \n1154         0.0    0.0                    0.0                  0   \n1155         0.0    0.0                    0.0                  0   \n\n      dbscan_count_sil  \n0                  0.0  \n1                  0.0  \n2                  0.0  \n3                  0.0  \n4                  0.0  \n...                ...  \n1151               0.0  \n1152               0.0  \n1153               0.0  \n1154               0.0  \n1155               0.0  \n\n[1156 rows x 22 columns]",
      "text/html": "<div>\n<style scoped>\n    .dataframe tbody tr th:only-of-type {\n        vertical-align: middle;\n    }\n\n    .dataframe tbody tr th {\n        vertical-align: top;\n    }\n\n    .dataframe thead th {\n        text-align: right;\n    }\n</style>\n<table border=\"1\" class=\"dataframe\">\n  <thead>\n    <tr style=\"text-align: right;\">\n      <th></th>\n      <th>subspecies</th>\n      <th>island</th>\n      <th>site_name</th>\n      <th>subject_group</th>\n      <th>image_name</th>\n      <th>subject_id</th>\n      <th>presence_absence</th>\n      <th>count_male-lek</th>\n      <th>count_male-no-lek</th>\n      <th>count_others</th>\n      <th>...</th>\n      <th>quality</th>\n      <th>condition</th>\n      <th>comment</th>\n      <th>median_count</th>\n      <th>mean_count</th>\n      <th>mode_count</th>\n      <th>users</th>\n      <th>sum_annotations_count</th>\n      <th>annotations_count</th>\n      <th>dbscan_count_sil</th>\n    </tr>\n  </thead>\n  <tbody>\n    <tr>\n      <th>0</th>\n      <td>A. c. hayampi</td>\n      <td>Marchena</td>\n      <td>BahiaNegra</td>\n      <td>MBN1</td>\n      <td>MBN02_72.jpg</td>\n      <td>78925728</td>\n      <td>N</td>\n      <td>0</td>\n      <td>0</td>\n      <td>0</td>\n      <td>...</td>\n      <td>0</td>\n      <td>0</td>\n      <td>0</td>\n      <td>0.0</td>\n      <td>0.0</td>\n      <td>0.0</td>\n      <td>0.0</td>\n      <td>0.0</td>\n      <td>0</td>\n      <td>0.0</td>\n    </tr>\n    <tr>\n      <th>1</th>\n      <td>A. c. hayampi</td>\n      <td>Marchena</td>\n      <td>BahiaNegra</td>\n      <td>MBN1</td>\n      <td>MBN02_74.jpg</td>\n      <td>78925730</td>\n      <td>N</td>\n      <td>0</td>\n      <td>0</td>\n      <td>0</td>\n      <td>...</td>\n      <td>0</td>\n      <td>0</td>\n      <td>0</td>\n      <td>0.0</td>\n      <td>0.0</td>\n      <td>0.0</td>\n      <td>0.0</td>\n      <td>0.0</td>\n      <td>0</td>\n      <td>0.0</td>\n    </tr>\n    <tr>\n      <th>2</th>\n      <td>A. c. hayampi</td>\n      <td>Marchena</td>\n      <td>BahiaNegra</td>\n      <td>MBN1</td>\n      <td>MBN02_95.jpg</td>\n      <td>78925747</td>\n      <td>N</td>\n      <td>0</td>\n      <td>0</td>\n      <td>0</td>\n      <td>...</td>\n      <td>0</td>\n      <td>0</td>\n      <td>0</td>\n      <td>0.0</td>\n      <td>0.0</td>\n      <td>0.0</td>\n      <td>0.0</td>\n      <td>0.0</td>\n      <td>0</td>\n      <td>0.0</td>\n    </tr>\n    <tr>\n      <th>3</th>\n      <td>A. c. hayampi</td>\n      <td>Marchena</td>\n      <td>BahiaNegra</td>\n      <td>MBN1</td>\n      <td>MBN03-2_06.jpg</td>\n      <td>78925781</td>\n      <td>N</td>\n      <td>0</td>\n      <td>0</td>\n      <td>0</td>\n      <td>...</td>\n      <td>0</td>\n      <td>0</td>\n      <td>0</td>\n      <td>0.0</td>\n      <td>0.0</td>\n      <td>0.0</td>\n      <td>0.0</td>\n      <td>0.0</td>\n      <td>0</td>\n      <td>0.0</td>\n    </tr>\n    <tr>\n      <th>4</th>\n      <td>A. c. hayampi</td>\n      <td>Marchena</td>\n      <td>BahiaNegra</td>\n      <td>MBN1</td>\n      <td>MBN03-2_38.jpg</td>\n      <td>78925808</td>\n      <td>N</td>\n      <td>0</td>\n      <td>0</td>\n      <td>0</td>\n      <td>...</td>\n      <td>0</td>\n      <td>0</td>\n      <td>0</td>\n      <td>0.0</td>\n      <td>0.0</td>\n      <td>0.0</td>\n      <td>0.0</td>\n      <td>0.0</td>\n      <td>0</td>\n      <td>0.0</td>\n    </tr>\n    <tr>\n      <th>...</th>\n      <td>...</td>\n      <td>...</td>\n      <td>...</td>\n      <td>...</td>\n      <td>...</td>\n      <td>...</td>\n      <td>...</td>\n      <td>...</td>\n      <td>...</td>\n      <td>...</td>\n      <td>...</td>\n      <td>...</td>\n      <td>...</td>\n      <td>...</td>\n      <td>...</td>\n      <td>...</td>\n      <td>...</td>\n      <td>...</td>\n      <td>...</td>\n      <td>...</td>\n      <td>...</td>\n    </tr>\n    <tr>\n      <th>1151</th>\n      <td>A. c. nanus</td>\n      <td>Genovesa</td>\n      <td>WestCoastB</td>\n      <td>GWB</td>\n      <td>GWB01-3_66.jpg</td>\n      <td>78925600</td>\n      <td>Y</td>\n      <td>0</td>\n      <td>0</td>\n      <td>1</td>\n      <td>...</td>\n      <td>Good</td>\n      <td>Hard</td>\n      <td>0</td>\n      <td>0.0</td>\n      <td>0.0</td>\n      <td>0.0</td>\n      <td>0.0</td>\n      <td>0.0</td>\n      <td>0</td>\n      <td>0.0</td>\n    </tr>\n    <tr>\n      <th>1152</th>\n      <td>A. c. nanus</td>\n      <td>Genovesa</td>\n      <td>WestCoastB</td>\n      <td>GWB</td>\n      <td>GWB01-3_70.jpg</td>\n      <td>78925604</td>\n      <td>N</td>\n      <td>0</td>\n      <td>0</td>\n      <td>0</td>\n      <td>...</td>\n      <td>0</td>\n      <td>0</td>\n      <td>0</td>\n      <td>0.0</td>\n      <td>0.0</td>\n      <td>0.0</td>\n      <td>0.0</td>\n      <td>0.0</td>\n      <td>0</td>\n      <td>0.0</td>\n    </tr>\n    <tr>\n      <th>1153</th>\n      <td>A. c. nanus</td>\n      <td>Genovesa</td>\n      <td>WestCoastB</td>\n      <td>GWB</td>\n      <td>GWB01-3_71.jpg</td>\n      <td>78925605</td>\n      <td>N</td>\n      <td>0</td>\n      <td>0</td>\n      <td>0</td>\n      <td>...</td>\n      <td>0</td>\n      <td>0</td>\n      <td>0</td>\n      <td>0.0</td>\n      <td>0.0</td>\n      <td>0.0</td>\n      <td>0.0</td>\n      <td>0.0</td>\n      <td>0</td>\n      <td>0.0</td>\n    </tr>\n    <tr>\n      <th>1154</th>\n      <td>A. c. nanus</td>\n      <td>Genovesa</td>\n      <td>WestCoastB</td>\n      <td>GWB</td>\n      <td>GWB01-3_82.jpg</td>\n      <td>78925608</td>\n      <td>N</td>\n      <td>0</td>\n      <td>0</td>\n      <td>0</td>\n      <td>...</td>\n      <td>0</td>\n      <td>0</td>\n      <td>0</td>\n      <td>0.0</td>\n      <td>0.0</td>\n      <td>0.0</td>\n      <td>0.0</td>\n      <td>0.0</td>\n      <td>0</td>\n      <td>0.0</td>\n    </tr>\n    <tr>\n      <th>1155</th>\n      <td>A. c. nanus</td>\n      <td>Genovesa</td>\n      <td>WestCoastB</td>\n      <td>GWB</td>\n      <td>GWB01-3_88.jpg</td>\n      <td>78925614</td>\n      <td>Y</td>\n      <td>0</td>\n      <td>0</td>\n      <td>1</td>\n      <td>...</td>\n      <td>Good</td>\n      <td>Hard</td>\n      <td>0</td>\n      <td>0.0</td>\n      <td>0.0</td>\n      <td>0.0</td>\n      <td>0.0</td>\n      <td>0.0</td>\n      <td>0</td>\n      <td>0.0</td>\n    </tr>\n  </tbody>\n</table>\n<p>1156 rows × 22 columns</p>\n</div>"
     },
     "execution_count": 41,
     "metadata": {},
     "output_type": "execute_result"
    }
   ],
   "source": [
    "\n",
    "df_comparison = df_comparison.drop([\"dbscan_noise\", \"dbscan_silouette_score\", \"eps\", \"min_samples\", \"dbscan_BIC_score\", \"with_noise\", \"bic_avg\"], axis=1, errors=\"ignore\")\n",
    "df_comparison"
   ]
  },
  {
   "cell_type": "markdown",
   "id": "15adf791099ac332",
   "metadata": {
    "collapsed": false
   },
   "source": [
    "### HDBSCAN clustering for each image\n",
    "\n",
    "https://scikit-learn.org/stable/modules/generated/sklearn.cluster.HDBSCAN.html#sklearn.cluster.HDBSCAN states: \"A distance threshold. Clusters below this value will be merged.\"\n",
    "\n"
   ]
  },
  {
   "cell_type": "code",
   "execution_count": 42,
   "id": "6763aed82e7088dd",
   "metadata": {
    "collapsed": false,
    "ExecuteTime": {
     "end_time": "2024-03-22T19:53:33.040105Z",
     "start_time": "2024-03-22T19:53:32.875199Z"
    }
   },
   "outputs": [],
   "source": [
    "from zooniverse.analysis import HDBSCAN_Wrapper\n",
    "\n",
    "hdbscan_values = []\n",
    "\n",
    "eps_variants = [0.0] # 0 is the default\n",
    "min_cluster_sizes = [5] # 5 is the default\n",
    "\n",
    "\n",
    "for image_name, df_image_name in df_merged_dataset.groupby(\"image_name\"):\n",
    "    annotations_count = get_mark_overview(df_image_name)\n",
    "    annotations_count_stats = get_annotation_count_stats(annotations_count=annotations_count,\n",
    "                                                         image_name=df_image_name.iloc[0][\"image_name\"])\n",
    "    \n",
    "    # if less than min_cluster_sizes points are available clustering makes no sense\n",
    "    if df_image_name.shape[0] >= 5: # If num_samples is 5 for the min_cluster_size is 5 there is no point in passing data with less than 5 samples\n",
    "        params = [(eps, min_cluster_size, max_cluster_size) \n",
    "                    for eps in eps_variants\n",
    "                    for min_cluster_size in min_cluster_sizes\n",
    "                    for max_cluster_size in [None]\n",
    "              ]\n",
    "\n",
    "        df_hdbscan = HDBSCAN_Wrapper(df_marks=df_image_name[[\"x\", \"y\"]],\n",
    "                                     output_path=output_plot_path,\n",
    "                                     plot=show_plots,\n",
    "                                     show=show_plots,\n",
    "                                     image_name=image_name,\n",
    "                                     params=params)\n",
    "        hdbscan_values.append(df_hdbscan)\n",
    "\n",
    "\n",
    "df_hdbscan = pd.concat(hdbscan_values)\n",
    "\n"
   ]
  },
  {
   "cell_type": "code",
   "execution_count": 43,
   "id": "5de6304addaca41d",
   "metadata": {
    "collapsed": false,
    "ExecuteTime": {
     "end_time": "2024-03-22T19:53:33.063250Z",
     "start_time": "2024-03-22T19:53:33.041319Z"
    }
   },
   "outputs": [
    {
     "data": {
      "text/plain": "          image_name  HDBSCAN_count  eps  min_cluster_size max_cluster_size  \\\n0    ESCH01-1_13.jpg             19  0.0                 5             None   \n0    ESCH01-1_19.jpg              9  0.0                 5             None   \n0    ESCH01-1_21.jpg             10  0.0                 5             None   \n0    ESCH01-1_22.jpg              5  0.0                 5             None   \n0    ESCH01-1_23.jpg              2  0.0                 5             None   \n..               ...            ...  ...               ...              ...   \n0     PWC01-1_61.jpg             14  0.0                 5             None   \n0     PWC01-1_62.jpg             11  0.0                 5             None   \n0    PWC01-4_231.jpg              3  0.0                 5             None   \n0     PWC01-5_34.jpg              1  0.0                 5             None   \n0   PWC03-2-1_42.jpg              4  0.0                 5             None   \n\n    noise_points  \n0             26  \n0              8  \n0              5  \n0              6  \n0              0  \n..           ...  \n0             36  \n0              5  \n0              0  \n0             12  \n0              0  \n\n[86 rows x 6 columns]",
      "text/html": "<div>\n<style scoped>\n    .dataframe tbody tr th:only-of-type {\n        vertical-align: middle;\n    }\n\n    .dataframe tbody tr th {\n        vertical-align: top;\n    }\n\n    .dataframe thead th {\n        text-align: right;\n    }\n</style>\n<table border=\"1\" class=\"dataframe\">\n  <thead>\n    <tr style=\"text-align: right;\">\n      <th></th>\n      <th>image_name</th>\n      <th>HDBSCAN_count</th>\n      <th>eps</th>\n      <th>min_cluster_size</th>\n      <th>max_cluster_size</th>\n      <th>noise_points</th>\n    </tr>\n  </thead>\n  <tbody>\n    <tr>\n      <th>0</th>\n      <td>ESCH01-1_13.jpg</td>\n      <td>19</td>\n      <td>0.0</td>\n      <td>5</td>\n      <td>None</td>\n      <td>26</td>\n    </tr>\n    <tr>\n      <th>0</th>\n      <td>ESCH01-1_19.jpg</td>\n      <td>9</td>\n      <td>0.0</td>\n      <td>5</td>\n      <td>None</td>\n      <td>8</td>\n    </tr>\n    <tr>\n      <th>0</th>\n      <td>ESCH01-1_21.jpg</td>\n      <td>10</td>\n      <td>0.0</td>\n      <td>5</td>\n      <td>None</td>\n      <td>5</td>\n    </tr>\n    <tr>\n      <th>0</th>\n      <td>ESCH01-1_22.jpg</td>\n      <td>5</td>\n      <td>0.0</td>\n      <td>5</td>\n      <td>None</td>\n      <td>6</td>\n    </tr>\n    <tr>\n      <th>0</th>\n      <td>ESCH01-1_23.jpg</td>\n      <td>2</td>\n      <td>0.0</td>\n      <td>5</td>\n      <td>None</td>\n      <td>0</td>\n    </tr>\n    <tr>\n      <th>...</th>\n      <td>...</td>\n      <td>...</td>\n      <td>...</td>\n      <td>...</td>\n      <td>...</td>\n      <td>...</td>\n    </tr>\n    <tr>\n      <th>0</th>\n      <td>PWC01-1_61.jpg</td>\n      <td>14</td>\n      <td>0.0</td>\n      <td>5</td>\n      <td>None</td>\n      <td>36</td>\n    </tr>\n    <tr>\n      <th>0</th>\n      <td>PWC01-1_62.jpg</td>\n      <td>11</td>\n      <td>0.0</td>\n      <td>5</td>\n      <td>None</td>\n      <td>5</td>\n    </tr>\n    <tr>\n      <th>0</th>\n      <td>PWC01-4_231.jpg</td>\n      <td>3</td>\n      <td>0.0</td>\n      <td>5</td>\n      <td>None</td>\n      <td>0</td>\n    </tr>\n    <tr>\n      <th>0</th>\n      <td>PWC01-5_34.jpg</td>\n      <td>1</td>\n      <td>0.0</td>\n      <td>5</td>\n      <td>None</td>\n      <td>12</td>\n    </tr>\n    <tr>\n      <th>0</th>\n      <td>PWC03-2-1_42.jpg</td>\n      <td>4</td>\n      <td>0.0</td>\n      <td>5</td>\n      <td>None</td>\n      <td>0</td>\n    </tr>\n  </tbody>\n</table>\n<p>86 rows × 6 columns</p>\n</div>"
     },
     "execution_count": 43,
     "metadata": {},
     "output_type": "execute_result"
    }
   ],
   "source": [
    "df_hdbscan.drop([\"with_noise\"], axis=1, inplace=True)\n",
    "df_hdbscan"
   ]
  },
  {
   "cell_type": "code",
   "execution_count": 44,
   "id": "563e2747f9f8a77c",
   "metadata": {
    "collapsed": false,
    "ExecuteTime": {
     "end_time": "2024-03-22T19:53:33.097584Z",
     "start_time": "2024-03-22T19:53:33.064795Z"
    }
   },
   "outputs": [
    {
     "data": {
      "text/plain": "         subspecies    island   site_name subject_group      image_name  \\\n0     A. c. hayampi  Marchena  BahiaNegra          MBN1    MBN02_72.jpg   \n1     A. c. hayampi  Marchena  BahiaNegra          MBN1    MBN02_74.jpg   \n2     A. c. hayampi  Marchena  BahiaNegra          MBN1    MBN02_95.jpg   \n3     A. c. hayampi  Marchena  BahiaNegra          MBN1  MBN03-2_06.jpg   \n4     A. c. hayampi  Marchena  BahiaNegra          MBN1  MBN03-2_38.jpg   \n...             ...       ...         ...           ...             ...   \n1151    A. c. nanus  Genovesa  WestCoastB           GWB  GWB01-3_66.jpg   \n1152    A. c. nanus  Genovesa  WestCoastB           GWB  GWB01-3_70.jpg   \n1153    A. c. nanus  Genovesa  WestCoastB           GWB  GWB01-3_71.jpg   \n1154    A. c. nanus  Genovesa  WestCoastB           GWB  GWB01-3_82.jpg   \n1155    A. c. nanus  Genovesa  WestCoastB           GWB  GWB01-3_88.jpg   \n\n      subject_id presence_absence  count_male-lek  count_male-no-lek  \\\n0       78925728                N               0                  0   \n1       78925730                N               0                  0   \n2       78925747                N               0                  0   \n3       78925781                N               0                  0   \n4       78925808                N               0                  0   \n...          ...              ...             ...                ...   \n1151    78925600                Y               0                  0   \n1152    78925604                N               0                  0   \n1153    78925605                N               0                  0   \n1154    78925608                N               0                  0   \n1155    78925614                Y               0                  0   \n\n      count_others  ...  mode_count  users sum_annotations_count  \\\n0                0  ...         0.0    0.0                   0.0   \n1                0  ...         0.0    0.0                   0.0   \n2                0  ...         0.0    0.0                   0.0   \n3                0  ...         0.0    0.0                   0.0   \n4                0  ...         0.0    0.0                   0.0   \n...            ...  ...         ...    ...                   ...   \n1151             1  ...         0.0    0.0                   0.0   \n1152             0  ...         0.0    0.0                   0.0   \n1153             0  ...         0.0    0.0                   0.0   \n1154             0  ...         0.0    0.0                   0.0   \n1155             1  ...         0.0    0.0                   0.0   \n\n     annotations_count dbscan_count_sil  HDBSCAN_count  eps  min_cluster_size  \\\n0                    0              0.0            0.0  0.0               0.0   \n1                    0              0.0            0.0  0.0               0.0   \n2                    0              0.0            0.0  0.0               0.0   \n3                    0              0.0            0.0  0.0               0.0   \n4                    0              0.0            0.0  0.0               0.0   \n...                ...              ...            ...  ...               ...   \n1151                 0              0.0            0.0  0.0               0.0   \n1152                 0              0.0            0.0  0.0               0.0   \n1153                 0              0.0            0.0  0.0               0.0   \n1154                 0              0.0            0.0  0.0               0.0   \n1155                 0              0.0            0.0  0.0               0.0   \n\n      max_cluster_size  noise_points  \n0                    0           0.0  \n1                    0           0.0  \n2                    0           0.0  \n3                    0           0.0  \n4                    0           0.0  \n...                ...           ...  \n1151                 0           0.0  \n1152                 0           0.0  \n1153                 0           0.0  \n1154                 0           0.0  \n1155                 0           0.0  \n\n[1156 rows x 27 columns]",
      "text/html": "<div>\n<style scoped>\n    .dataframe tbody tr th:only-of-type {\n        vertical-align: middle;\n    }\n\n    .dataframe tbody tr th {\n        vertical-align: top;\n    }\n\n    .dataframe thead th {\n        text-align: right;\n    }\n</style>\n<table border=\"1\" class=\"dataframe\">\n  <thead>\n    <tr style=\"text-align: right;\">\n      <th></th>\n      <th>subspecies</th>\n      <th>island</th>\n      <th>site_name</th>\n      <th>subject_group</th>\n      <th>image_name</th>\n      <th>subject_id</th>\n      <th>presence_absence</th>\n      <th>count_male-lek</th>\n      <th>count_male-no-lek</th>\n      <th>count_others</th>\n      <th>...</th>\n      <th>mode_count</th>\n      <th>users</th>\n      <th>sum_annotations_count</th>\n      <th>annotations_count</th>\n      <th>dbscan_count_sil</th>\n      <th>HDBSCAN_count</th>\n      <th>eps</th>\n      <th>min_cluster_size</th>\n      <th>max_cluster_size</th>\n      <th>noise_points</th>\n    </tr>\n  </thead>\n  <tbody>\n    <tr>\n      <th>0</th>\n      <td>A. c. hayampi</td>\n      <td>Marchena</td>\n      <td>BahiaNegra</td>\n      <td>MBN1</td>\n      <td>MBN02_72.jpg</td>\n      <td>78925728</td>\n      <td>N</td>\n      <td>0</td>\n      <td>0</td>\n      <td>0</td>\n      <td>...</td>\n      <td>0.0</td>\n      <td>0.0</td>\n      <td>0.0</td>\n      <td>0</td>\n      <td>0.0</td>\n      <td>0.0</td>\n      <td>0.0</td>\n      <td>0.0</td>\n      <td>0</td>\n      <td>0.0</td>\n    </tr>\n    <tr>\n      <th>1</th>\n      <td>A. c. hayampi</td>\n      <td>Marchena</td>\n      <td>BahiaNegra</td>\n      <td>MBN1</td>\n      <td>MBN02_74.jpg</td>\n      <td>78925730</td>\n      <td>N</td>\n      <td>0</td>\n      <td>0</td>\n      <td>0</td>\n      <td>...</td>\n      <td>0.0</td>\n      <td>0.0</td>\n      <td>0.0</td>\n      <td>0</td>\n      <td>0.0</td>\n      <td>0.0</td>\n      <td>0.0</td>\n      <td>0.0</td>\n      <td>0</td>\n      <td>0.0</td>\n    </tr>\n    <tr>\n      <th>2</th>\n      <td>A. c. hayampi</td>\n      <td>Marchena</td>\n      <td>BahiaNegra</td>\n      <td>MBN1</td>\n      <td>MBN02_95.jpg</td>\n      <td>78925747</td>\n      <td>N</td>\n      <td>0</td>\n      <td>0</td>\n      <td>0</td>\n      <td>...</td>\n      <td>0.0</td>\n      <td>0.0</td>\n      <td>0.0</td>\n      <td>0</td>\n      <td>0.0</td>\n      <td>0.0</td>\n      <td>0.0</td>\n      <td>0.0</td>\n      <td>0</td>\n      <td>0.0</td>\n    </tr>\n    <tr>\n      <th>3</th>\n      <td>A. c. hayampi</td>\n      <td>Marchena</td>\n      <td>BahiaNegra</td>\n      <td>MBN1</td>\n      <td>MBN03-2_06.jpg</td>\n      <td>78925781</td>\n      <td>N</td>\n      <td>0</td>\n      <td>0</td>\n      <td>0</td>\n      <td>...</td>\n      <td>0.0</td>\n      <td>0.0</td>\n      <td>0.0</td>\n      <td>0</td>\n      <td>0.0</td>\n      <td>0.0</td>\n      <td>0.0</td>\n      <td>0.0</td>\n      <td>0</td>\n      <td>0.0</td>\n    </tr>\n    <tr>\n      <th>4</th>\n      <td>A. c. hayampi</td>\n      <td>Marchena</td>\n      <td>BahiaNegra</td>\n      <td>MBN1</td>\n      <td>MBN03-2_38.jpg</td>\n      <td>78925808</td>\n      <td>N</td>\n      <td>0</td>\n      <td>0</td>\n      <td>0</td>\n      <td>...</td>\n      <td>0.0</td>\n      <td>0.0</td>\n      <td>0.0</td>\n      <td>0</td>\n      <td>0.0</td>\n      <td>0.0</td>\n      <td>0.0</td>\n      <td>0.0</td>\n      <td>0</td>\n      <td>0.0</td>\n    </tr>\n    <tr>\n      <th>...</th>\n      <td>...</td>\n      <td>...</td>\n      <td>...</td>\n      <td>...</td>\n      <td>...</td>\n      <td>...</td>\n      <td>...</td>\n      <td>...</td>\n      <td>...</td>\n      <td>...</td>\n      <td>...</td>\n      <td>...</td>\n      <td>...</td>\n      <td>...</td>\n      <td>...</td>\n      <td>...</td>\n      <td>...</td>\n      <td>...</td>\n      <td>...</td>\n      <td>...</td>\n      <td>...</td>\n    </tr>\n    <tr>\n      <th>1151</th>\n      <td>A. c. nanus</td>\n      <td>Genovesa</td>\n      <td>WestCoastB</td>\n      <td>GWB</td>\n      <td>GWB01-3_66.jpg</td>\n      <td>78925600</td>\n      <td>Y</td>\n      <td>0</td>\n      <td>0</td>\n      <td>1</td>\n      <td>...</td>\n      <td>0.0</td>\n      <td>0.0</td>\n      <td>0.0</td>\n      <td>0</td>\n      <td>0.0</td>\n      <td>0.0</td>\n      <td>0.0</td>\n      <td>0.0</td>\n      <td>0</td>\n      <td>0.0</td>\n    </tr>\n    <tr>\n      <th>1152</th>\n      <td>A. c. nanus</td>\n      <td>Genovesa</td>\n      <td>WestCoastB</td>\n      <td>GWB</td>\n      <td>GWB01-3_70.jpg</td>\n      <td>78925604</td>\n      <td>N</td>\n      <td>0</td>\n      <td>0</td>\n      <td>0</td>\n      <td>...</td>\n      <td>0.0</td>\n      <td>0.0</td>\n      <td>0.0</td>\n      <td>0</td>\n      <td>0.0</td>\n      <td>0.0</td>\n      <td>0.0</td>\n      <td>0.0</td>\n      <td>0</td>\n      <td>0.0</td>\n    </tr>\n    <tr>\n      <th>1153</th>\n      <td>A. c. nanus</td>\n      <td>Genovesa</td>\n      <td>WestCoastB</td>\n      <td>GWB</td>\n      <td>GWB01-3_71.jpg</td>\n      <td>78925605</td>\n      <td>N</td>\n      <td>0</td>\n      <td>0</td>\n      <td>0</td>\n      <td>...</td>\n      <td>0.0</td>\n      <td>0.0</td>\n      <td>0.0</td>\n      <td>0</td>\n      <td>0.0</td>\n      <td>0.0</td>\n      <td>0.0</td>\n      <td>0.0</td>\n      <td>0</td>\n      <td>0.0</td>\n    </tr>\n    <tr>\n      <th>1154</th>\n      <td>A. c. nanus</td>\n      <td>Genovesa</td>\n      <td>WestCoastB</td>\n      <td>GWB</td>\n      <td>GWB01-3_82.jpg</td>\n      <td>78925608</td>\n      <td>N</td>\n      <td>0</td>\n      <td>0</td>\n      <td>0</td>\n      <td>...</td>\n      <td>0.0</td>\n      <td>0.0</td>\n      <td>0.0</td>\n      <td>0</td>\n      <td>0.0</td>\n      <td>0.0</td>\n      <td>0.0</td>\n      <td>0.0</td>\n      <td>0</td>\n      <td>0.0</td>\n    </tr>\n    <tr>\n      <th>1155</th>\n      <td>A. c. nanus</td>\n      <td>Genovesa</td>\n      <td>WestCoastB</td>\n      <td>GWB</td>\n      <td>GWB01-3_88.jpg</td>\n      <td>78925614</td>\n      <td>Y</td>\n      <td>0</td>\n      <td>0</td>\n      <td>1</td>\n      <td>...</td>\n      <td>0.0</td>\n      <td>0.0</td>\n      <td>0.0</td>\n      <td>0</td>\n      <td>0.0</td>\n      <td>0.0</td>\n      <td>0.0</td>\n      <td>0.0</td>\n      <td>0</td>\n      <td>0.0</td>\n    </tr>\n  </tbody>\n</table>\n<p>1156 rows × 27 columns</p>\n</div>"
     },
     "execution_count": 44,
     "metadata": {},
     "output_type": "execute_result"
    }
   ],
   "source": [
    "df_comparison = df_comparison.merge(df_hdbscan, on='image_name', how='left')\n",
    "df_comparison.fillna(0, inplace=True)\n",
    "df_comparison"
   ]
  },
  {
   "cell_type": "code",
   "execution_count": 44,
   "id": "bd5b4be03b3480d5",
   "metadata": {
    "collapsed": false,
    "ExecuteTime": {
     "end_time": "2024-03-22T19:53:33.101536Z",
     "start_time": "2024-03-22T19:53:33.099415Z"
    }
   },
   "outputs": [],
   "source": []
  },
  {
   "cell_type": "code",
   "execution_count": 45,
   "id": "146136b8ee749f9",
   "metadata": {
    "collapsed": false,
    "ExecuteTime": {
     "end_time": "2024-03-22T19:53:33.134805Z",
     "start_time": "2024-03-22T19:53:33.102887Z"
    }
   },
   "outputs": [
    {
     "name": "stdout",
     "output_type": "stream",
     "text": [
      "saved /Users/christian/data/zooniverse/2024_03_22_expert_goldstandard_analysis/Iguanas 3rd launch/Iguanas 3rd launch_method_comparison.csv\n"
     ]
    }
   ],
   "source": [
    "df_comparison.count_total.fillna(0, inplace=True)\n",
    "df_comparison.HDBSCAN_count.fillna(0, inplace=True)\n",
    "\n",
    "df_comparison.to_csv(config[\"comparison_dataset\"])\n",
    "print(f\"saved {config['comparison_dataset']}\")\n",
    "\n",
    "mse_errors[\"hdbscan_count_rmse\"] = mean_squared_error(df_comparison.count_total, df_comparison.HDBSCAN_count, squared=False)\n"
   ]
  },
  {
   "cell_type": "markdown",
   "id": "1866104643b4427f",
   "metadata": {
    "collapsed": false
   },
   "source": [
    "# A look into the results\n",
    "Root Means Squared Error for the different methods"
   ]
  },
  {
   "cell_type": "code",
   "execution_count": 46,
   "id": "ae08d15b32fe83ec",
   "metadata": {
    "collapsed": false,
    "ExecuteTime": {
     "end_time": "2024-03-22T19:53:33.159646Z",
     "start_time": "2024-03-22T19:53:33.136952Z"
    }
   },
   "outputs": [],
   "source": [
    "df_rmse = pd.DataFrame(pd.Series(mse_errors).sort_values())\n",
    "df_rmse.to_csv(config[\"rmse_errors\"])\n"
   ]
  },
  {
   "cell_type": "markdown",
   "id": "683ea0eaf795e5ff",
   "metadata": {
    "collapsed": false
   },
   "source": [
    "## The sum of the clustering\n",
    "What is the sum of the methods"
   ]
  },
  {
   "cell_type": "code",
   "outputs": [
    {
     "data": {
      "text/plain": "1156"
     },
     "execution_count": 47,
     "metadata": {},
     "output_type": "execute_result"
    }
   ],
   "source": [
    "df_comparison.subject_id.nunique()"
   ],
   "metadata": {
    "collapsed": false,
    "ExecuteTime": {
     "end_time": "2024-03-22T19:53:33.185133Z",
     "start_time": "2024-03-22T19:53:33.161267Z"
    }
   },
   "id": "861980abc73d8332",
   "execution_count": 47
  },
  {
   "cell_type": "code",
   "execution_count": 48,
   "id": "2ae2f205858fd9c4",
   "metadata": {
    "collapsed": false,
    "ExecuteTime": {
     "end_time": "2024-03-22T19:53:33.212630Z",
     "start_time": "2024-03-22T19:53:33.186506Z"
    }
   },
   "outputs": [],
   "source": [
    "\n",
    "df_comparison_sum = df_comparison[[\"count_total\", \"median_count\", \"mean_count\", \"mode_count\", \"dbscan_count_sil\", \"HDBSCAN_count\"]].sum().sort_values()\n",
    "df_comparison_sum.to_csv(config[\"method_sums\"])\n"
   ]
  },
  {
   "cell_type": "code",
   "execution_count": 49,
   "id": "35c25cb6dd0c9684",
   "metadata": {
    "collapsed": false,
    "ExecuteTime": {
     "end_time": "2024-03-22T19:53:33.237745Z",
     "start_time": "2024-03-22T19:53:33.213837Z"
    }
   },
   "outputs": [
    {
     "name": "stdout",
     "output_type": "stream",
     "text": [
      "phase_tag: Iguanas 3rd launch, user_threshold: 3\n"
     ]
    }
   ],
   "source": [
    "print(f\"phase_tag: {phase_tag}, user_threshold: {user_threshold}\")"
   ]
  },
  {
   "cell_type": "markdown",
   "id": "88ca320d97a38518",
   "metadata": {
    "collapsed": false
   },
   "source": [
    "## Compare the numbers\n",
    "The counts are only for images which were in the dataset after filtering."
   ]
  },
  {
   "cell_type": "markdown",
   "id": "8f58c29117a907a4",
   "metadata": {
    "collapsed": false
   },
   "source": [
    "### Sum of all the Methods"
   ]
  },
  {
   "cell_type": "code",
   "execution_count": 50,
   "id": "e6a0ba0c34ca129a",
   "metadata": {
    "collapsed": false,
    "ExecuteTime": {
     "end_time": "2024-03-22T19:53:33.264578Z",
     "start_time": "2024-03-22T19:53:33.239541Z"
    }
   },
   "outputs": [
    {
     "name": "stdout",
     "output_type": "stream",
     "text": [
      "Iguanas 3rd launch_method_sums.csv\n"
     ]
    },
    {
     "data": {
      "text/plain": "         Unnamed: 0       0\n0        mode_count  302.00\n1      median_count  314.50\n2  dbscan_count_sil  318.00\n3     HDBSCAN_count  358.00\n4        mean_count  380.51\n5       count_total  388.00",
      "text/html": "<div>\n<style scoped>\n    .dataframe tbody tr th:only-of-type {\n        vertical-align: middle;\n    }\n\n    .dataframe tbody tr th {\n        vertical-align: top;\n    }\n\n    .dataframe thead th {\n        text-align: right;\n    }\n</style>\n<table border=\"1\" class=\"dataframe\">\n  <thead>\n    <tr style=\"text-align: right;\">\n      <th></th>\n      <th>Unnamed: 0</th>\n      <th>0</th>\n    </tr>\n  </thead>\n  <tbody>\n    <tr>\n      <th>0</th>\n      <td>mode_count</td>\n      <td>302.00</td>\n    </tr>\n    <tr>\n      <th>1</th>\n      <td>median_count</td>\n      <td>314.50</td>\n    </tr>\n    <tr>\n      <th>2</th>\n      <td>dbscan_count_sil</td>\n      <td>318.00</td>\n    </tr>\n    <tr>\n      <th>3</th>\n      <td>HDBSCAN_count</td>\n      <td>358.00</td>\n    </tr>\n    <tr>\n      <th>4</th>\n      <td>mean_count</td>\n      <td>380.51</td>\n    </tr>\n    <tr>\n      <th>5</th>\n      <td>count_total</td>\n      <td>388.00</td>\n    </tr>\n  </tbody>\n</table>\n</div>"
     },
     "execution_count": 50,
     "metadata": {},
     "output_type": "execute_result"
    }
   ],
   "source": [
    "print(f\"{config['method_sums'].name}\")\n",
    "pd.read_csv(config[\"method_sums\"])"
   ]
  },
  {
   "cell_type": "markdown",
   "id": "63ec459bb6b0ea1d",
   "metadata": {
    "collapsed": false
   },
   "source": [
    "### Root Mean Squared Error"
   ]
  },
  {
   "cell_type": "code",
   "execution_count": 51,
   "id": "d9a6e83ec7b73319",
   "metadata": {
    "collapsed": false,
    "ExecuteTime": {
     "end_time": "2024-03-22T19:53:33.290845Z",
     "start_time": "2024-03-22T19:53:33.266395Z"
    }
   },
   "outputs": [
    {
     "name": "stdout",
     "output_type": "stream",
     "text": [
      "Iguanas 3rd launch_rmse_errors.csv\n"
     ]
    },
    {
     "data": {
      "text/plain": "              Unnamed: 0         0\n0     hdbscan_count_rmse  0.390191\n1      median_count_rmse  0.479466\n2        mode_count_rmse  0.657667\n3  dbscan_count_sil_rmse  0.658981\n4        mean_count_rmse  1.454819",
      "text/html": "<div>\n<style scoped>\n    .dataframe tbody tr th:only-of-type {\n        vertical-align: middle;\n    }\n\n    .dataframe tbody tr th {\n        vertical-align: top;\n    }\n\n    .dataframe thead th {\n        text-align: right;\n    }\n</style>\n<table border=\"1\" class=\"dataframe\">\n  <thead>\n    <tr style=\"text-align: right;\">\n      <th></th>\n      <th>Unnamed: 0</th>\n      <th>0</th>\n    </tr>\n  </thead>\n  <tbody>\n    <tr>\n      <th>0</th>\n      <td>hdbscan_count_rmse</td>\n      <td>0.390191</td>\n    </tr>\n    <tr>\n      <th>1</th>\n      <td>median_count_rmse</td>\n      <td>0.479466</td>\n    </tr>\n    <tr>\n      <th>2</th>\n      <td>mode_count_rmse</td>\n      <td>0.657667</td>\n    </tr>\n    <tr>\n      <th>3</th>\n      <td>dbscan_count_sil_rmse</td>\n      <td>0.658981</td>\n    </tr>\n    <tr>\n      <th>4</th>\n      <td>mean_count_rmse</td>\n      <td>1.454819</td>\n    </tr>\n  </tbody>\n</table>\n</div>"
     },
     "execution_count": 51,
     "metadata": {},
     "output_type": "execute_result"
    }
   ],
   "source": [
    "print(f\"{config['rmse_errors'].name}\")\n",
    "pd.read_csv(config[\"rmse_errors\"])"
   ]
  },
  {
   "cell_type": "markdown",
   "id": "59e1a0f4ffc4dcd0",
   "metadata": {
    "collapsed": false
   },
   "source": [
    "### Comparison per Image Level"
   ]
  },
  {
   "cell_type": "code",
   "execution_count": 52,
   "id": "b63a639e877e8b4a",
   "metadata": {
    "collapsed": false,
    "ExecuteTime": {
     "end_time": "2024-03-22T19:53:33.327322Z",
     "start_time": "2024-03-22T19:53:33.292205Z"
    }
   },
   "outputs": [
    {
     "name": "stdout",
     "output_type": "stream",
     "text": [
      "load /Users/christian/data/zooniverse/2024_03_22_expert_goldstandard_analysis/Iguanas 3rd launch/Iguanas 3rd launch_method_comparison.csv\n"
     ]
    },
    {
     "data": {
      "text/plain": "      Unnamed: 0     subspecies    island   site_name subject_group  \\\n0              0  A. c. hayampi  Marchena  BahiaNegra          MBN1   \n1              1  A. c. hayampi  Marchena  BahiaNegra          MBN1   \n2              2  A. c. hayampi  Marchena  BahiaNegra          MBN1   \n3              3  A. c. hayampi  Marchena  BahiaNegra          MBN1   \n4              4  A. c. hayampi  Marchena  BahiaNegra          MBN1   \n...          ...            ...       ...         ...           ...   \n1151        1151    A. c. nanus  Genovesa  WestCoastB           GWB   \n1152        1152    A. c. nanus  Genovesa  WestCoastB           GWB   \n1153        1153    A. c. nanus  Genovesa  WestCoastB           GWB   \n1154        1154    A. c. nanus  Genovesa  WestCoastB           GWB   \n1155        1155    A. c. nanus  Genovesa  WestCoastB           GWB   \n\n          image_name  subject_id presence_absence  count_male-lek  \\\n0       MBN02_72.jpg    78925728                N               0   \n1       MBN02_74.jpg    78925730                N               0   \n2       MBN02_95.jpg    78925747                N               0   \n3     MBN03-2_06.jpg    78925781                N               0   \n4     MBN03-2_38.jpg    78925808                N               0   \n...              ...         ...              ...             ...   \n1151  GWB01-3_66.jpg    78925600                Y               0   \n1152  GWB01-3_70.jpg    78925604                N               0   \n1153  GWB01-3_71.jpg    78925605                N               0   \n1154  GWB01-3_82.jpg    78925608                N               0   \n1155  GWB01-3_88.jpg    78925614                Y               0   \n\n      count_male-no-lek  ...  mode_count  users  sum_annotations_count  \\\n0                     0  ...         0.0    0.0                    0.0   \n1                     0  ...         0.0    0.0                    0.0   \n2                     0  ...         0.0    0.0                    0.0   \n3                     0  ...         0.0    0.0                    0.0   \n4                     0  ...         0.0    0.0                    0.0   \n...                 ...  ...         ...    ...                    ...   \n1151                  0  ...         0.0    0.0                    0.0   \n1152                  0  ...         0.0    0.0                    0.0   \n1153                  0  ...         0.0    0.0                    0.0   \n1154                  0  ...         0.0    0.0                    0.0   \n1155                  0  ...         0.0    0.0                    0.0   \n\n     annotations_count dbscan_count_sil HDBSCAN_count  eps  min_cluster_size  \\\n0                    0              0.0           0.0  0.0               0.0   \n1                    0              0.0           0.0  0.0               0.0   \n2                    0              0.0           0.0  0.0               0.0   \n3                    0              0.0           0.0  0.0               0.0   \n4                    0              0.0           0.0  0.0               0.0   \n...                ...              ...           ...  ...               ...   \n1151                 0              0.0           0.0  0.0               0.0   \n1152                 0              0.0           0.0  0.0               0.0   \n1153                 0              0.0           0.0  0.0               0.0   \n1154                 0              0.0           0.0  0.0               0.0   \n1155                 0              0.0           0.0  0.0               0.0   \n\n      max_cluster_size  noise_points  \n0                    0           0.0  \n1                    0           0.0  \n2                    0           0.0  \n3                    0           0.0  \n4                    0           0.0  \n...                ...           ...  \n1151                 0           0.0  \n1152                 0           0.0  \n1153                 0           0.0  \n1154                 0           0.0  \n1155                 0           0.0  \n\n[1156 rows x 28 columns]",
      "text/html": "<div>\n<style scoped>\n    .dataframe tbody tr th:only-of-type {\n        vertical-align: middle;\n    }\n\n    .dataframe tbody tr th {\n        vertical-align: top;\n    }\n\n    .dataframe thead th {\n        text-align: right;\n    }\n</style>\n<table border=\"1\" class=\"dataframe\">\n  <thead>\n    <tr style=\"text-align: right;\">\n      <th></th>\n      <th>Unnamed: 0</th>\n      <th>subspecies</th>\n      <th>island</th>\n      <th>site_name</th>\n      <th>subject_group</th>\n      <th>image_name</th>\n      <th>subject_id</th>\n      <th>presence_absence</th>\n      <th>count_male-lek</th>\n      <th>count_male-no-lek</th>\n      <th>...</th>\n      <th>mode_count</th>\n      <th>users</th>\n      <th>sum_annotations_count</th>\n      <th>annotations_count</th>\n      <th>dbscan_count_sil</th>\n      <th>HDBSCAN_count</th>\n      <th>eps</th>\n      <th>min_cluster_size</th>\n      <th>max_cluster_size</th>\n      <th>noise_points</th>\n    </tr>\n  </thead>\n  <tbody>\n    <tr>\n      <th>0</th>\n      <td>0</td>\n      <td>A. c. hayampi</td>\n      <td>Marchena</td>\n      <td>BahiaNegra</td>\n      <td>MBN1</td>\n      <td>MBN02_72.jpg</td>\n      <td>78925728</td>\n      <td>N</td>\n      <td>0</td>\n      <td>0</td>\n      <td>...</td>\n      <td>0.0</td>\n      <td>0.0</td>\n      <td>0.0</td>\n      <td>0</td>\n      <td>0.0</td>\n      <td>0.0</td>\n      <td>0.0</td>\n      <td>0.0</td>\n      <td>0</td>\n      <td>0.0</td>\n    </tr>\n    <tr>\n      <th>1</th>\n      <td>1</td>\n      <td>A. c. hayampi</td>\n      <td>Marchena</td>\n      <td>BahiaNegra</td>\n      <td>MBN1</td>\n      <td>MBN02_74.jpg</td>\n      <td>78925730</td>\n      <td>N</td>\n      <td>0</td>\n      <td>0</td>\n      <td>...</td>\n      <td>0.0</td>\n      <td>0.0</td>\n      <td>0.0</td>\n      <td>0</td>\n      <td>0.0</td>\n      <td>0.0</td>\n      <td>0.0</td>\n      <td>0.0</td>\n      <td>0</td>\n      <td>0.0</td>\n    </tr>\n    <tr>\n      <th>2</th>\n      <td>2</td>\n      <td>A. c. hayampi</td>\n      <td>Marchena</td>\n      <td>BahiaNegra</td>\n      <td>MBN1</td>\n      <td>MBN02_95.jpg</td>\n      <td>78925747</td>\n      <td>N</td>\n      <td>0</td>\n      <td>0</td>\n      <td>...</td>\n      <td>0.0</td>\n      <td>0.0</td>\n      <td>0.0</td>\n      <td>0</td>\n      <td>0.0</td>\n      <td>0.0</td>\n      <td>0.0</td>\n      <td>0.0</td>\n      <td>0</td>\n      <td>0.0</td>\n    </tr>\n    <tr>\n      <th>3</th>\n      <td>3</td>\n      <td>A. c. hayampi</td>\n      <td>Marchena</td>\n      <td>BahiaNegra</td>\n      <td>MBN1</td>\n      <td>MBN03-2_06.jpg</td>\n      <td>78925781</td>\n      <td>N</td>\n      <td>0</td>\n      <td>0</td>\n      <td>...</td>\n      <td>0.0</td>\n      <td>0.0</td>\n      <td>0.0</td>\n      <td>0</td>\n      <td>0.0</td>\n      <td>0.0</td>\n      <td>0.0</td>\n      <td>0.0</td>\n      <td>0</td>\n      <td>0.0</td>\n    </tr>\n    <tr>\n      <th>4</th>\n      <td>4</td>\n      <td>A. c. hayampi</td>\n      <td>Marchena</td>\n      <td>BahiaNegra</td>\n      <td>MBN1</td>\n      <td>MBN03-2_38.jpg</td>\n      <td>78925808</td>\n      <td>N</td>\n      <td>0</td>\n      <td>0</td>\n      <td>...</td>\n      <td>0.0</td>\n      <td>0.0</td>\n      <td>0.0</td>\n      <td>0</td>\n      <td>0.0</td>\n      <td>0.0</td>\n      <td>0.0</td>\n      <td>0.0</td>\n      <td>0</td>\n      <td>0.0</td>\n    </tr>\n    <tr>\n      <th>...</th>\n      <td>...</td>\n      <td>...</td>\n      <td>...</td>\n      <td>...</td>\n      <td>...</td>\n      <td>...</td>\n      <td>...</td>\n      <td>...</td>\n      <td>...</td>\n      <td>...</td>\n      <td>...</td>\n      <td>...</td>\n      <td>...</td>\n      <td>...</td>\n      <td>...</td>\n      <td>...</td>\n      <td>...</td>\n      <td>...</td>\n      <td>...</td>\n      <td>...</td>\n      <td>...</td>\n    </tr>\n    <tr>\n      <th>1151</th>\n      <td>1151</td>\n      <td>A. c. nanus</td>\n      <td>Genovesa</td>\n      <td>WestCoastB</td>\n      <td>GWB</td>\n      <td>GWB01-3_66.jpg</td>\n      <td>78925600</td>\n      <td>Y</td>\n      <td>0</td>\n      <td>0</td>\n      <td>...</td>\n      <td>0.0</td>\n      <td>0.0</td>\n      <td>0.0</td>\n      <td>0</td>\n      <td>0.0</td>\n      <td>0.0</td>\n      <td>0.0</td>\n      <td>0.0</td>\n      <td>0</td>\n      <td>0.0</td>\n    </tr>\n    <tr>\n      <th>1152</th>\n      <td>1152</td>\n      <td>A. c. nanus</td>\n      <td>Genovesa</td>\n      <td>WestCoastB</td>\n      <td>GWB</td>\n      <td>GWB01-3_70.jpg</td>\n      <td>78925604</td>\n      <td>N</td>\n      <td>0</td>\n      <td>0</td>\n      <td>...</td>\n      <td>0.0</td>\n      <td>0.0</td>\n      <td>0.0</td>\n      <td>0</td>\n      <td>0.0</td>\n      <td>0.0</td>\n      <td>0.0</td>\n      <td>0.0</td>\n      <td>0</td>\n      <td>0.0</td>\n    </tr>\n    <tr>\n      <th>1153</th>\n      <td>1153</td>\n      <td>A. c. nanus</td>\n      <td>Genovesa</td>\n      <td>WestCoastB</td>\n      <td>GWB</td>\n      <td>GWB01-3_71.jpg</td>\n      <td>78925605</td>\n      <td>N</td>\n      <td>0</td>\n      <td>0</td>\n      <td>...</td>\n      <td>0.0</td>\n      <td>0.0</td>\n      <td>0.0</td>\n      <td>0</td>\n      <td>0.0</td>\n      <td>0.0</td>\n      <td>0.0</td>\n      <td>0.0</td>\n      <td>0</td>\n      <td>0.0</td>\n    </tr>\n    <tr>\n      <th>1154</th>\n      <td>1154</td>\n      <td>A. c. nanus</td>\n      <td>Genovesa</td>\n      <td>WestCoastB</td>\n      <td>GWB</td>\n      <td>GWB01-3_82.jpg</td>\n      <td>78925608</td>\n      <td>N</td>\n      <td>0</td>\n      <td>0</td>\n      <td>...</td>\n      <td>0.0</td>\n      <td>0.0</td>\n      <td>0.0</td>\n      <td>0</td>\n      <td>0.0</td>\n      <td>0.0</td>\n      <td>0.0</td>\n      <td>0.0</td>\n      <td>0</td>\n      <td>0.0</td>\n    </tr>\n    <tr>\n      <th>1155</th>\n      <td>1155</td>\n      <td>A. c. nanus</td>\n      <td>Genovesa</td>\n      <td>WestCoastB</td>\n      <td>GWB</td>\n      <td>GWB01-3_88.jpg</td>\n      <td>78925614</td>\n      <td>Y</td>\n      <td>0</td>\n      <td>0</td>\n      <td>...</td>\n      <td>0.0</td>\n      <td>0.0</td>\n      <td>0.0</td>\n      <td>0</td>\n      <td>0.0</td>\n      <td>0.0</td>\n      <td>0.0</td>\n      <td>0.0</td>\n      <td>0</td>\n      <td>0.0</td>\n    </tr>\n  </tbody>\n</table>\n<p>1156 rows × 28 columns</p>\n</div>"
     },
     "execution_count": 52,
     "metadata": {},
     "output_type": "execute_result"
    }
   ],
   "source": [
    "print(f\"load {config['comparison_dataset']}\")\n",
    "pd.read_csv(config[\"comparison_dataset\"])"
   ]
  },
  {
   "cell_type": "markdown",
   "id": "34f5d0fc72193f65",
   "metadata": {
    "collapsed": false
   },
   "source": [
    "## Discussion:\n",
    "Clustering works, it yields better numbers than just taking mode,median or mean annotations from the volunteers, because it takes the spatial location of the marker dots into consideration.\n",
    "\n"
   ]
  },
  {
   "cell_type": "markdown",
   "id": "ec8c6b5d-475f-4f67-99b9-8bcb0283fdaa",
   "metadata": {},
   "source": [
    "Assert the numbers haven't changed"
   ]
  },
  {
   "cell_type": "code",
   "outputs": [
    {
     "data": {
      "text/plain": "mode_count          302.00\nmedian_count        314.50\ndbscan_count_sil    318.00\nHDBSCAN_count       358.00\nmean_count          380.51\ncount_total         388.00\ndtype: float64"
     },
     "execution_count": 53,
     "metadata": {},
     "output_type": "execute_result"
    }
   ],
   "source": [
    "df_comparison_sum"
   ],
   "metadata": {
    "collapsed": false,
    "ExecuteTime": {
     "end_time": "2024-03-22T19:53:33.352513Z",
     "start_time": "2024-03-22T19:53:33.329394Z"
    }
   },
   "id": "ece070cf65f069d9",
   "execution_count": 53
  },
  {
   "cell_type": "code",
   "outputs": [
    {
     "data": {
      "text/plain": "1156"
     },
     "execution_count": 54,
     "metadata": {},
     "output_type": "execute_result"
    }
   ],
   "source": [
    "df_comparison.subject_id.nunique()"
   ],
   "metadata": {
    "collapsed": false,
    "ExecuteTime": {
     "end_time": "2024-03-22T19:53:33.377840Z",
     "start_time": "2024-03-22T19:53:33.353786Z"
    }
   },
   "id": "1827550559a71d75",
   "execution_count": 54
  },
  {
   "cell_type": "code",
   "outputs": [],
   "source": [
    "# these are the numbers before the sorting was repaired\n",
    "if phase_tag == \"Iguanas 1st launch\" and not debug:\n",
    "   \n",
    "    if user_threshold == 3:\n",
    "        assert df_comparison_sum[\"median_count\"] == 228.5\n",
    "        assert df_comparison_sum[\"HDBSCAN_count\"] == 244\n",
    "        assert df_comparison_sum[\"count_total\"] == 422\n",
    "        \n",
    "        assert df_comparison.subject_id.nunique() == 2733\n",
    "\n",
    "if phase_tag == \"Iguanas 2nd launch\" and not debug:\n",
    "\n",
    "    if user_threshold == 3:\n",
    "        assert df_comparison_sum[\"median_count\"] == 475\n",
    "        assert df_comparison_sum[\"HDBSCAN_count\"] == 541.0\n",
    "        assert df_comparison_sum[\"count_total\"] == 600\n",
    "        \n",
    "        assert df_comparison.subject_id.nunique() == 456\n",
    "\n",
    "if phase_tag == \"Iguanas 3rd launch\" and not debug:\n",
    "        \n",
    "    if user_threshold == 3:\n",
    "        assert df_comparison_sum[\"median_count\"] == 314.5\n",
    "        assert df_comparison_sum[\"HDBSCAN_count\"] == 358\n",
    "        assert df_comparison_sum[\"count_total\"] == 388\n",
    "        \n",
    "        assert df_comparison.subject_id.nunique() == 1156\n"
   ],
   "metadata": {
    "collapsed": false,
    "ExecuteTime": {
     "end_time": "2024-03-22T19:53:33.407236Z",
     "start_time": "2024-03-22T19:53:33.380046Z"
    }
   },
   "id": "98b7b0fe18ed314e",
   "execution_count": 55
  },
  {
   "cell_type": "code",
   "outputs": [],
   "source": [],
   "metadata": {
    "collapsed": false,
    "ExecuteTime": {
     "end_time": "2024-03-22T19:53:33.412358Z",
     "start_time": "2024-03-22T19:53:33.409528Z"
    }
   },
   "id": "2151a6a11d7567db",
   "execution_count": 55
  }
 ],
 "metadata": {
  "kernelspec": {
   "display_name": "Python 3 (ipykernel)",
   "language": "python",
   "name": "python3"
  },
  "language_info": {
   "codemirror_mode": {
    "name": "ipython",
    "version": 3
   },
   "file_extension": ".py",
   "mimetype": "text/x-python",
   "name": "python",
   "nbconvert_exporter": "python",
   "pygments_lexer": "ipython3",
   "version": "3.10.13"
  }
 },
 "nbformat": 4,
 "nbformat_minor": 5
}
