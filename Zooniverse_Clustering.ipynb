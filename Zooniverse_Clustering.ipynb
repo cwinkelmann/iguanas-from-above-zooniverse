{
 "cells": [
  {
   "cell_type": "markdown",
   "id": "708022ad72146e6d",
   "metadata": {},
   "source": [
    "# Clustering Zooniverse Marks to count Iguanas\n",
    "The goal is to find the best method to cluster the data and find the best number of clusters.\n",
    "The benchmark is a gold standard dataset obtained by experts."
   ]
  },
  {
   "cell_type": "code",
   "execution_count": 108,
   "id": "d59fc4434d71491c",
   "metadata": {
    "collapsed": false,
    "tags": [],
    "ExecuteTime": {
     "end_time": "2024-04-22T09:12:40.638434Z",
     "start_time": "2024-04-22T09:12:40.603575Z"
    }
   },
   "outputs": [
    {
     "name": "stdout",
     "output_type": "stream",
     "text": [
      "The autoreload extension is already loaded. To reload it, use:\n",
      "  %reload_ext autoreload\n"
     ]
    }
   ],
   "source": [
    "%load_ext autoreload\n",
    "%autoreload 2\n",
    "\n",
    "import sys\n",
    "\n",
    "sys.path.append(\"./\")\n",
    "sys.path.append(\"./zooniverse\")"
   ]
  },
  {
   "cell_type": "markdown",
   "id": "731716bd21e99cbe",
   "metadata": {
    "collapsed": false
   },
   "source": [
    "## Intro\n",
    "### Retrieve a Classification report from Zooniverse\n",
    "Export the classification export from your zooniverse project.\n",
    "https://www.zooniverse.org/lab/11905/data-exports\n",
    "\n",
    "This leads to a csv file which can be used for the analysis which should be renamed to `iguanas-from-above-classifications.csv` and placed in the `input_path` directory.\n",
    "The methods do not use methods from zooniverse. It is a custom implementation.\n",
    "\n",
    "An alternative would be to use the [code provided by zooniverse](https://github.com/zooniverse/Data-digging/tree/master/notebooks_ProcessExports)\n",
    "(Bird Count Example)[https://github.com/zooniverse/Data-digging/blob/master/scripts_ProjectExamples/seabirdwatch/bird_count.py]\n",
    "\n",
    "This notebooks assumes the data is flat and prepared. An alternative format would be the [cesar aggregation format](https://github.com/zooniverse/aggregation-for-caesar)\n",
    "\n",
    "Used Methods are:\n",
    "\n",
    "### DBSCAN \n",
    "It does not require the number of clusters to be specified. It is used here because, but has min_samples and eps as hyperparameters which need to be found. [Link](https://scikit-learn.org/stable/auto_examples/cluster/plot_dbscan.html)\n",
    "For finding eps and min_sample a simple **grid search** is used.\n",
    "Additionally, DBSCAN not assume a specific shape for the clusters (K-means assumes clusters are gaussian in shape) even though we should assume that points around an iguana is gaussian shaped.\n",
    "\n",
    "### HDBSCAN\n",
    "It is an extension of DBSCAN which is more robust to hyperparameter settings as it finds epsilon and min_samples automatically. [Link](https://scikit-learn.org/stable/modules/generated/sklearn.cluster.HDBSCAN.html)"
   ]
  },
  {
   "cell_type": "markdown",
   "id": "fc7e7da572712fcd",
   "metadata": {
    "collapsed": false
   },
   "source": [
    "### Processing workflow\n",
    "\n",
    "The Data is flatted and filtered\n",
    "![Image](images/dataprocessing-DataFiltering.png)\n",
    "\n",
    "In each phase we have the following number of images if they are filtered for at least 4 true marks by users\n",
    "1. phase 105\n",
    "2. phase 160\n",
    "3. phase 86\n"
   ]
  },
  {
   "cell_type": "markdown",
   "id": "e261acba86137ddd",
   "metadata": {
    "collapsed": false
   },
   "source": [
    "## Load the data"
   ]
  },
  {
   "cell_type": "code",
   "execution_count": 109,
   "id": "823d8c3234e4a1de",
   "metadata": {
    "collapsed": false,
    "tags": [],
    "ExecuteTime": {
     "end_time": "2024-04-22T09:12:40.905441Z",
     "start_time": "2024-04-22T09:12:40.886783Z"
    }
   },
   "outputs": [],
   "source": [
    "from zooniverse.utils.data_format import data_prep\n",
    "from pathlib import Path\n",
    "\n",
    "import pandas as pd\n",
    "from zooniverse.analysis import get_annotation_count_stats\n",
    "from zooniverse.utils.filters import filter_df_user_threshold\n",
    "from zooniverse.config import get_config\n",
    "\n",
    "# Phase Selection\n",
    "phase_tag = \"Iguanas 1st launch\"\n",
    "# phase_tag = \"Iguanas 2nd launch\"\n",
    "# phase_tag = \"Iguanas 3rd launch\"\n",
    "\n",
    "### use either the subset of the subset\n",
    "use_gold_standard_subset = \"expert_goldstandard\" # Use the X-T2-GS-results-5th-0s as the basis\n",
    "# use_gold_standard_subset = \"expert\" # Use the expert-GS-Xphase as the basis\n",
    "\n",
    "## Input Path of all the data\n",
    "input_path = Path(\"/Users/christian/data/zooniverse\")\n",
    "\n",
    "# Location for the analysis Results\n",
    "output_path = Path(input_path.joinpath(f\"2024_04_22_{use_gold_standard_subset}_analysis\").joinpath(phase_tag))\n",
    "\n",
    "output_path.mkdir(exist_ok=True, parents=True)\n",
    "\n",
    "reprocess = True # if True, the raw classification data is reprocessed. If False, the data is loaded from disk\n",
    "\n",
    "\n",
    "\n",
    "\n",
    "debug = False # debugging with a smaller dataset\n",
    "plot_diagrams = False # plot the diagrams to disk for the clustering methods\n",
    "show_plots = False # show the plots in the notebook\n",
    "\n",
    "user_threshold = None # None or a number, filter records which have less than these user interactions.\n",
    "\n",
    "# Location for plots\n",
    "output_plot_path = output_path.joinpath(\"plots\")\n",
    "output_plot_path.mkdir(parents=True, exist_ok=True)\n"
   ]
  },
  {
   "cell_type": "markdown",
   "id": "593bea9e98df4db0",
   "metadata": {
    "collapsed": false
   },
   "source": [
    "## Look into the config\n",
    "This Config points to all files necessary for the analysis + the result files"
   ]
  },
  {
   "cell_type": "code",
   "execution_count": 110,
   "id": "674da03e20316ae5",
   "metadata": {
    "collapsed": false,
    "ExecuteTime": {
     "end_time": "2024-04-22T09:12:40.923954Z",
     "start_time": "2024-04-22T09:12:40.906560Z"
    }
   },
   "outputs": [
    {
     "data": {
      "text/plain": "{'annotations_source': PosixPath('/Users/christian/data/zooniverse/IguanasFromAbove/2023-10-15/iguanas-from-above-classifications.csv'),\n 'goldstandard_data': PosixPath('/Users/christian/data/zooniverse/Images/Zooniverse_Goldstandard_images/expert-GS-1stphase.csv'),\n 'gold_standard_image_subset': PosixPath('/Users/christian/data/zooniverse/Images/Zooniverse_Goldstandard_images/1-T2-GS-results-5th-0s.csv'),\n 'image_source': PosixPath('/Users/christian/data/zooniverse/Images/Zooniverse_Goldstandard_images/1st launch'),\n 'yes_no_dataset': PosixPath('/Users/christian/data/zooniverse/2024_04_22_expert_goldstandard_analysis/Iguanas 1st launch/yes_no_dataset_Iguanas 1st launch.csv'),\n 'flat_dataset': PosixPath('/Users/christian/data/zooniverse/2024_04_22_expert_goldstandard_analysis/Iguanas 1st launch/flat_dataset_Iguanas 1st launch.csv'),\n 'flat_panoptes_points': PosixPath('/Users/christian/data/zooniverse/2024_04_22_expert_goldstandard_analysis/Iguanas 1st launch/flat_panoptes_points_Iguanas 1st launch.csv'),\n 'panoptes_question': PosixPath('/Users/christian/data/zooniverse/2024_04_22_expert_goldstandard_analysis/Iguanas 1st launch/panoptes_question_Iguanas 1st launch.csv'),\n 'merged_dataset': PosixPath('/Users/christian/data/zooniverse/2024_04_22_expert_goldstandard_analysis/Iguanas 1st launch/flat_dataset_filtered_Iguanas 1st launch.csv'),\n 'gold_standard_and_expert_count': PosixPath('/Users/christian/data/zooniverse/2024_04_22_expert_goldstandard_analysis/Iguanas 1st launch/Iguanas 1st launch_gold_standard_and_expert_count.csv'),\n 'comparison_dataset': PosixPath('/Users/christian/data/zooniverse/2024_04_22_expert_goldstandard_analysis/Iguanas 1st launch/Iguanas 1st launch_method_comparison.csv'),\n 'comparison_dataset_expert': PosixPath('/Users/christian/data/zooniverse/2024_04_22_expert_goldstandard_analysis/Iguanas 1st launch/Iguanas 1st launch_method_comparison_expert.csv'),\n 'comparison_dataset_yes_no': PosixPath('/Users/christian/data/zooniverse/2024_04_22_expert_goldstandard_analysis/Iguanas 1st launch/Iguanas 1st launch_method_comparison_yes_no.csv'),\n 'method_sums': PosixPath('/Users/christian/data/zooniverse/2024_04_22_expert_goldstandard_analysis/Iguanas 1st launch/Iguanas 1st launch_method_sums.csv'),\n 'rmse_errors': PosixPath('/Users/christian/data/zooniverse/2024_04_22_expert_goldstandard_analysis/Iguanas 1st launch/Iguanas 1st launch_rmse_errors.csv'),\n 'dbscan_hyperparam_grid': PosixPath('/Users/christian/data/zooniverse/2024_04_22_expert_goldstandard_analysis/Iguanas 1st launch/Iguanas 1st launch_hyperparam_grid.csv')}"
     },
     "execution_count": 110,
     "metadata": {},
     "output_type": "execute_result"
    }
   ],
   "source": [
    "config = get_config(phase_tag=phase_tag, input_path=input_path, output_path=output_path)\n",
    "config"
   ]
  },
  {
   "cell_type": "code",
   "execution_count": 111,
   "id": "ee63e05f12a7f36b",
   "metadata": {
    "collapsed": false,
    "ExecuteTime": {
     "end_time": "2024-04-22T09:13:27.195895Z",
     "start_time": "2024-04-22T09:12:40.924823Z"
    }
   },
   "outputs": [
    {
     "name": "stderr",
     "output_type": "stream",
     "text": [
      "\u001B[32m2024-04-22 11:12:40.940\u001B[0m | \u001B[1mINFO    \u001B[0m | \u001B[36mzooniverse.utils.data_format\u001B[0m:\u001B[36mread_zooniverse_annotations_v2\u001B[0m:\u001B[36m181\u001B[0m - \u001B[1mfound a new phase tag: Iguanas 1st launch\u001B[0m\n"
     ]
    },
    {
     "name": "stdout",
     "output_type": "stream",
     "text": [
      "{'retired': None, 'link': 'https://www.flickr.com/photos/hellie55/6713782851', 'origin': 'Flickr', 'license': 'Creative Commons - share adapt attribute', 'subject_id': '3', 'attribution': 'hehaden', 'image_name_1': '6713782851_82fc8c73e5_z.jpg', '#secret_description': 'juvenile kittehs practice break-in at the catnip factory'}\n",
      "{'retired': None, 'link': 'https://www.flickr.com/photos/davebloggs007/15899553966', 'origin': 'Flickr', 'license': 'Creative Commons - share adapt attribute', 'subject_id': '16', 'attribution': 'davebloggs007', 'image_name_1': '15899553966_5debf88369_z.jpg', '#secret_description': 'makeover kitteh not sure these new contacts are sassy enough'}\n",
      "{'retired': None, 'link': 'https://www.flickr.com/photos/odoketa/8762013777', 'origin': 'Flickr', 'license': 'Creative Commons - share adapt attribute', 'subject_id': '4', 'attribution': 'David Barber', 'image_name_1': '8762013777_1fa7d91e98_z.jpg', '#secret_description': 'hunter kitteh only willing to go so far to capture the feather duster'}\n"
     ]
    },
    {
     "name": "stderr",
     "output_type": "stream",
     "text": [
      "\u001B[32m2024-04-22 11:12:52.000\u001B[0m | \u001B[1mINFO    \u001B[0m | \u001B[36mzooniverse.utils.data_format\u001B[0m:\u001B[36mread_zooniverse_annotations_v2\u001B[0m:\u001B[36m181\u001B[0m - \u001B[1mfound a new phase tag: Main Workflow\u001B[0m\n",
      "\u001B[32m2024-04-22 11:12:54.048\u001B[0m | \u001B[1mINFO    \u001B[0m | \u001B[36mzooniverse.utils.data_format\u001B[0m:\u001B[36mread_zooniverse_annotations_v2\u001B[0m:\u001B[36m181\u001B[0m - \u001B[1mfound a new phase tag: survey tool 061417\u001B[0m\n",
      "\u001B[32m2024-04-22 11:12:56.358\u001B[0m | \u001B[1mINFO    \u001B[0m | \u001B[36mzooniverse.utils.data_format\u001B[0m:\u001B[36mread_zooniverse_annotations_v2\u001B[0m:\u001B[36m181\u001B[0m - \u001B[1mfound a new phase tag: Iguanas 2nd launch\u001B[0m\n",
      "\u001B[32m2024-04-22 11:13:02.182\u001B[0m | \u001B[1mINFO    \u001B[0m | \u001B[36mzooniverse.utils.data_format\u001B[0m:\u001B[36mread_zooniverse_annotations_v2\u001B[0m:\u001B[36m181\u001B[0m - \u001B[1mfound a new phase tag: Iguanas 3rd launch\u001B[0m\n",
      "\u001B[32m2024-04-22 11:13:23.565\u001B[0m | \u001B[1mINFO    \u001B[0m | \u001B[36mzooniverse.utils.data_format\u001B[0m:\u001B[36mread_zooniverse_annotations_v2\u001B[0m:\u001B[36m181\u001B[0m - \u001B[1mfound a new phase tag: Iguanas 4th launch\u001B[0m\n",
      "\u001B[32m2024-04-22 11:13:23.567\u001B[0m | \u001B[1mINFO    \u001B[0m | \u001B[36mzooniverse.utils.data_format\u001B[0m:\u001B[36mread_zooniverse_annotations_v2\u001B[0m:\u001B[36m181\u001B[0m - \u001B[1mfound a new phase tag: Plastics GS dataset\u001B[0m\n",
      "\u001B[32m2024-04-22 11:13:23.589\u001B[0m | \u001B[1mINFO    \u001B[0m | \u001B[36mzooniverse.utils.data_format\u001B[0m:\u001B[36mread_zooniverse_annotations_v2\u001B[0m:\u001B[36m267\u001B[0m - \u001B[1mgenerating flat dataframe from the dataset\u001B[0m\n",
      "\u001B[32m2024-04-22 11:13:25.730\u001B[0m | \u001B[1mINFO    \u001B[0m | \u001B[36mzooniverse.utils.data_format\u001B[0m:\u001B[36mdata_prep\u001B[0m:\u001B[36m316\u001B[0m - \u001B[1mflat_dataset_Iguanas Iguanas 1st launch.csv: 8260 images in classification for Iguanas 1st launch\u001B[0m\n",
      "\u001B[32m2024-04-22 11:13:25.775\u001B[0m | \u001B[1mINFO    \u001B[0m | \u001B[36mzooniverse.utils.data_format\u001B[0m:\u001B[36mdata_prep\u001B[0m:\u001B[36m326\u001B[0m - \u001B[1mimages source: found 2737 images in /Users/christian/data/zooniverse/Images/Zooniverse_Goldstandard_images/1st launch\u001B[0m\n",
      "\u001B[32m2024-04-22 11:13:25.780\u001B[0m | \u001B[1mINFO    \u001B[0m | \u001B[36mzooniverse.utils.data_format\u001B[0m:\u001B[36mdata_prep\u001B[0m:\u001B[36m338\u001B[0m - \u001B[1mfound 2733 images in /Users/christian/data/zooniverse/Images/Zooniverse_Goldstandard_images/expert-GS-1stphase.csv, the expert counts\u001B[0m\n",
      "\u001B[32m2024-04-22 11:13:25.782\u001B[0m | \u001B[1mINFO    \u001B[0m | \u001B[36mzooniverse.utils.data_format\u001B[0m:\u001B[36mdata_prep\u001B[0m:\u001B[36m346\u001B[0m - \u001B[1mworking with 107 images in /Users/christian/data/zooniverse/Images/Zooniverse_Goldstandard_images/1-T2-GS-results-5th-0s.csv, the goldstandard file.\u001B[0m\n",
      "\u001B[32m2024-04-22 11:13:25.782\u001B[0m | \u001B[1mINFO    \u001B[0m | \u001B[36mzooniverse.utils.data_format\u001B[0m:\u001B[36mprocess_zooniverse_phases_flat\u001B[0m:\u001B[36m98\u001B[0m - \u001B[1mfiltering the image dataset for  2737 images\u001B[0m\n",
      "\u001B[32m2024-04-22 11:13:25.788\u001B[0m | \u001B[1mINFO    \u001B[0m | \u001B[36mzooniverse.utils.data_format\u001B[0m:\u001B[36mprocess_zooniverse_phases_flat\u001B[0m:\u001B[36m101\u001B[0m - \u001B[1mworking with 1014 images after filtering with image_names\u001B[0m\n",
      "\u001B[32m2024-04-22 11:13:25.788\u001B[0m | \u001B[1mINFO    \u001B[0m | \u001B[36mzooniverse.utils.data_format\u001B[0m:\u001B[36mprocess_zooniverse_phases_flat\u001B[0m:\u001B[36m105\u001B[0m - \u001B[1mfiltering the image dataset for  107 subject_ids\u001B[0m\n",
      "\u001B[32m2024-04-22 11:13:25.790\u001B[0m | \u001B[1mINFO    \u001B[0m | \u001B[36mzooniverse.utils.data_format\u001B[0m:\u001B[36mprocess_zooniverse_phases_flat\u001B[0m:\u001B[36m108\u001B[0m - \u001B[1mworking with 107 images after filtering with subject_ids\u001B[0m\n",
      "\u001B[32m2024-04-22 11:13:27.026\u001B[0m | \u001B[1mINFO    \u001B[0m | \u001B[36mzooniverse.analysis\u001B[0m:\u001B[36mget_all_image_paths\u001B[0m:\u001B[36m72\u001B[0m - \u001B[1mdone with processing Image Metadata.\u001B[0m\n",
      "\u001B[32m2024-04-22 11:13:27.051\u001B[0m | \u001B[1mINFO    \u001B[0m | \u001B[36mzooniverse.utils.filters\u001B[0m:\u001B[36mfilter_remove_marks\u001B[0m:\u001B[36m36\u001B[0m - \u001B[1mbefore filter func: 3111\u001B[0m\n",
      "\u001B[32m2024-04-22 11:13:27.054\u001B[0m | \u001B[33m\u001B[1mWARNING \u001B[0m | \u001B[36mzooniverse.utils.filters\u001B[0m:\u001B[36mfilter_remove_marks\u001B[0m:\u001B[36m41\u001B[0m - \u001B[33m\u001B[1mremoved 64 partial marks\u001B[0m\n",
      "\u001B[32m2024-04-22 11:13:27.054\u001B[0m | \u001B[33m\u001B[1mWARNING \u001B[0m | \u001B[36mzooniverse.utils.filters\u001B[0m:\u001B[36mfilter_remove_marks\u001B[0m:\u001B[36m42\u001B[0m - \u001B[33m\u001B[1mremoved 3111 marks\u001B[0m\n",
      "\u001B[32m2024-04-22 11:13:27.054\u001B[0m | \u001B[33m\u001B[1mWARNING \u001B[0m | \u001B[36mzooniverse.utils.filters\u001B[0m:\u001B[36mfilter_remove_marks\u001B[0m:\u001B[36m43\u001B[0m - \u001B[33m\u001B[1mAfter filter_func 107 images are left\u001B[0m\n",
      "\u001B[32m2024-04-22 11:13:27.057\u001B[0m | \u001B[1mINFO    \u001B[0m | \u001B[36mzooniverse.utils.data_format\u001B[0m:\u001B[36mprocess_zooniverse_phases_flat\u001B[0m:\u001B[36m125\u001B[0m - \u001B[1mworking with 2630 records after filtering with filter_func\u001B[0m\n",
      "\u001B[32m2024-04-22 11:13:27.064\u001B[0m | \u001B[1mINFO    \u001B[0m | \u001B[36mzooniverse.utils.data_format\u001B[0m:\u001B[36mdata_prep\u001B[0m:\u001B[36m376\u001B[0m - \u001B[1mworking with 2630 records after process function 'process_zooniverse_phases'\u001B[0m\n",
      "\u001B[32m2024-04-22 11:13:27.079\u001B[0m | \u001B[1mINFO    \u001B[0m | \u001B[36mzooniverse.utils.data_format\u001B[0m:\u001B[36mdata_prep\u001B[0m:\u001B[36m378\u001B[0m - \u001B[1msaved finished dataset to /Users/christian/data/zooniverse/2024_04_22_expert_goldstandard_analysis/Iguanas 1st launch/flat_dataset_filtered_Iguanas 1st launch.csv\u001B[0m\n"
     ]
    },
    {
     "name": "stdout",
     "output_type": "stream",
     "text": [
      "                                       filename  images\n",
      "0           flat_dataset_Iguanas 1st launch.csv    8260\n",
      "1                                    1st launch    2737\n",
      "2                        expert-GS-1stphase.csv    2733\n",
      "3                    1-T2-GS-results-5th-0s.csv     107\n",
      "4  flat_dataset_filtered_Iguanas 1st launch.csv     107\n"
     ]
    }
   ],
   "source": [
    "from zooniverse.utils.anonymize import UserAnonymizer\n",
    "\n",
    "if reprocess:\n",
    "    ds_stats = data_prep(phase_tag=phase_tag, \n",
    "                         output_path=output_path, \n",
    "                         input_path=input_path,\n",
    "                         filter_combination=use_gold_standard_subset, \n",
    "                         config=config)\n",
    "    # # Anomymise the data to prevent usernames and user_ids to become public\n",
    "    # anonymizer = UserAnonymizer(config[\"flat_dataset\"])\n",
    "    # anonymizer.anonymize_data()\n",
    "    # anonymizer.save_anonymized_data(config[\"flat_dataset\"])\n",
    "    # \n",
    "    # anonymizer = UserAnonymizer(config[\"merged_dataset\"])\n",
    "    # anonymizer.anonymize_data()\n",
    "    # anonymizer.save_anonymized_data(config[\"merged_dataset\"])\n",
    "    \n",
    "    print(ds_stats)"
   ]
  },
  {
   "cell_type": "code",
   "execution_count": 112,
   "id": "84040e24c92dd972",
   "metadata": {
    "collapsed": false,
    "ExecuteTime": {
     "end_time": "2024-04-22T09:13:27.247674Z",
     "start_time": "2024-04-22T09:13:27.197252Z"
    }
   },
   "outputs": [],
   "source": [
    "if plot_diagrams == False:\n",
    "    output_plot_path = None\n",
    "\n",
    "# the flattened, filtered marks from zooniverse.\n",
    "df_merged_dataset = pd.read_csv(config[\"merged_dataset\"])\n",
    "\n",
    "# data for reference\n",
    "df_goldstandard_expert_count = pd.read_csv(config[\"gold_standard_image_subset\"], sep=\";\")\n",
    "df_expert_count = pd.read_csv(config[\"goldstandard_data\"], sep=\";\")"
   ]
  },
  {
   "cell_type": "markdown",
   "id": "7e3cf1edbc774b52",
   "metadata": {
    "collapsed": false
   },
   "source": [
    "### Optional Debugging"
   ]
  },
  {
   "cell_type": "code",
   "execution_count": 113,
   "id": "bc2fa0f92651d9da",
   "metadata": {
    "collapsed": false,
    "ExecuteTime": {
     "end_time": "2024-04-22T09:13:27.269114Z",
     "start_time": "2024-04-22T09:13:27.248427Z"
    }
   },
   "outputs": [],
   "source": [
    "## Debugging helpers\n",
    "if phase_tag == \"Iguanas 1st launch\":    \n",
    "    if debug:\n",
    "        df_merged_dataset = df_merged_dataset[df_merged_dataset.image_name.isin([\"SFM01-2-2-2_333.jpg\", \"SFM01-2-2-2_334.jpg\", \"SFM01-2-2-3_201.jpg\"])]\n",
    "\n",
    "elif phase_tag == \"Iguanas 2nd launch\":\n",
    "    if debug:\n",
    "        df_merged_dataset = df_merged_dataset[\n",
    "           df_merged_dataset.subject_id.isin([72373250])]\n",
    "           # df_merged_dataset.image_name.isin([\"FMO03-1_72.jpg\"])]\n",
    "\n",
    "    \n",
    "elif phase_tag == \"Iguanas 3rd launch\":\n",
    "\n",
    "    # this user is a spammer\n",
    "    df_merged_dataset = df_merged_dataset[df_merged_dataset.user_id != 2581179]\n",
    "    \n",
    "    if debug:\n",
    "        df_merged_dataset = df_merged_dataset[\n",
    "           df_merged_dataset.image_name.isin([\"FMO03-2_70.jpg\", \"MBN04-2_182.jpg\", \"EGI08-2_78.jpg\"])]\n",
    "            \n",
    "    \n"
   ]
  },
  {
   "cell_type": "markdown",
   "id": "bf09c7260aa5e8ed",
   "metadata": {
    "collapsed": false
   },
   "source": [
    "## Look at the data\n"
   ]
  },
  {
   "cell_type": "code",
   "execution_count": 114,
   "id": "6e814289feb967ec",
   "metadata": {
    "collapsed": false,
    "ExecuteTime": {
     "end_time": "2024-04-22T09:13:27.289696Z",
     "start_time": "2024-04-22T09:13:27.270571Z"
    }
   },
   "outputs": [
    {
     "data": {
      "text/plain": "user_name\n18asewell                2\n352669                   7\n700yapph                 1\n7wonders                13\nA.Over                   2\n                        ..\nwilliaml96               1\nwolfhaley                3\nxavierm_at_microsoft     2\nzmaeapril                1\nzsweeney94               3\nLength: 558, dtype: int64"
     },
     "execution_count": 114,
     "metadata": {},
     "output_type": "execute_result"
    }
   ],
   "source": [
    "## Look at the data\n",
    "df_merged_dataset.drop(\"user_name\", axis=1)\n",
    "df_merged_dataset.user_name.unique()\n",
    "\n",
    "df_merged_dataset.groupby('user_name').size()"
   ]
  },
  {
   "cell_type": "code",
   "outputs": [],
   "source": [],
   "metadata": {
    "collapsed": false,
    "ExecuteTime": {
     "end_time": "2024-04-22T09:13:27.292232Z",
     "start_time": "2024-04-22T09:13:27.290512Z"
    }
   },
   "id": "98529ff1dc071be3",
   "execution_count": 114
  },
  {
   "cell_type": "markdown",
   "id": "da7bed90d6d10d89",
   "metadata": {
    "collapsed": false
   },
   "source": [
    "### Filter User if necessary and Marks\n"
   ]
  },
  {
   "cell_type": "code",
   "execution_count": 115,
   "id": "b84daa777a0903cf",
   "metadata": {
    "collapsed": false,
    "ExecuteTime": {
     "end_time": "2024-04-22T09:13:27.313206Z",
     "start_time": "2024-04-22T09:13:27.292810Z"
    }
   },
   "outputs": [
    {
     "name": "stderr",
     "output_type": "stream",
     "text": [
      "\u001B[32m2024-04-22 11:13:27.309\u001B[0m | \u001B[1mINFO    \u001B[0m | \u001B[36mzooniverse.utils.filters\u001B[0m:\u001B[36mfilter_remove_marks\u001B[0m:\u001B[36m36\u001B[0m - \u001B[1mbefore filter func: 2630\u001B[0m\n",
      "\u001B[32m2024-04-22 11:13:27.310\u001B[0m | \u001B[33m\u001B[1mWARNING \u001B[0m | \u001B[36mzooniverse.utils.filters\u001B[0m:\u001B[36mfilter_remove_marks\u001B[0m:\u001B[36m41\u001B[0m - \u001B[33m\u001B[1mremoved 0 partial marks\u001B[0m\n",
      "\u001B[32m2024-04-22 11:13:27.311\u001B[0m | \u001B[33m\u001B[1mWARNING \u001B[0m | \u001B[36mzooniverse.utils.filters\u001B[0m:\u001B[36mfilter_remove_marks\u001B[0m:\u001B[36m42\u001B[0m - \u001B[33m\u001B[1mremoved 2630 marks\u001B[0m\n",
      "\u001B[32m2024-04-22 11:13:27.311\u001B[0m | \u001B[33m\u001B[1mWARNING \u001B[0m | \u001B[36mzooniverse.utils.filters\u001B[0m:\u001B[36mfilter_remove_marks\u001B[0m:\u001B[36m43\u001B[0m - \u001B[33m\u001B[1mAfter filter_func 107 images are left\u001B[0m\n"
     ]
    },
    {
     "name": "stdout",
     "output_type": "stream",
     "text": [
      "Before filtering: 107\n"
     ]
    }
   ],
   "source": [
    "print(f\"Before filtering: {df_merged_dataset.subject_id.nunique()}\")\n",
    "# There images in which some people said there are iguanas, but then didn't mark them. Clustering with fewer than 3 dots doesn't make sense\n",
    "if user_threshold is not None:\n",
    "    print(f\"filtering records which have less than {user_threshold} interactions.\")\n",
    "    df_merged_dataset = filter_df_user_threshold(df_merged_dataset, user_threshold=user_threshold)\n",
    "    \n",
    "    \n",
    "from zooniverse.utils.filters import filter_remove_marks\n",
    "# Check if partials are still in the data. There shouldn't be any\n",
    "df_merged_dataset = filter_remove_marks(df_merged_dataset)\n"
   ]
  },
  {
   "cell_type": "markdown",
   "id": "d479e39e24f570b0",
   "metadata": {
    "collapsed": false
   },
   "source": [
    "### Are there anonymous users in the data?\n",
    "There should be"
   ]
  },
  {
   "cell_type": "code",
   "execution_count": 116,
   "id": "9936072d8a7b7602",
   "metadata": {
    "collapsed": false,
    "ExecuteTime": {
     "end_time": "2024-04-22T09:13:27.340272Z",
     "start_time": "2024-04-22T09:13:27.313898Z"
    }
   },
   "outputs": [
    {
     "data": {
      "text/plain": "      Unnamed: 0 flight_site_code  workflow_id  workflow_version  \\\n13            13             SFM1        14370           134.236   \n15            15             SFM1        14370           134.236   \n16            16             SFM1        14370           134.236   \n21            21             SFM1        14370           134.236   \n24            24             SFM1        14370           134.236   \n...          ...              ...          ...               ...   \n2585        2585             SFM1        14370           134.236   \n2586        2586             SFM1        14370           134.236   \n2587        2587             SFM1        14370           134.236   \n2588        2588             SFM1        14370           134.236   \n2626        2626             SFM1        14370           134.236   \n\n               image_name  subject_id           x           y  \\\n13       SFM01-1-2_59.jpg    47968506  116.633331  153.966675   \n15      SFM01-1-1_184.jpg    47968013  279.644714  199.890869   \n16      SFM01-1-1_184.jpg    47968013  407.698547  321.648682   \n21    SFM01-2-2-2_302.jpg    47969853  549.633301  540.966675   \n24    SFM01-2-2-3_149.jpg    47970139   57.739017  178.533081   \n...                   ...         ...         ...         ...   \n2585    SFM01-1-2_284.jpg    47968423   18.856710  494.673126   \n2586    SFM01-1-2_284.jpg    47968423   94.404442  522.908142   \n2587    SFM01-1-2_284.jpg    47968423  162.702652  474.069214   \n2588    SFM01-1-2_284.jpg    47968423   85.247139  474.450745   \n2626  SFM01-2-2-1_120.jpg    47969236  231.432205  154.631561   \n\n                                             tool_label           phase_tag  \\\n13    Others (females, young males, juveniles and ta...  Iguanas 1st launch   \n15                                     Adult Male alone  Iguanas 1st launch   \n16                                     Adult Male alone  Iguanas 1st launch   \n21                                     Adult Male alone  Iguanas 1st launch   \n24    Others (females, young males, juveniles and ta...  Iguanas 1st launch   \n...                                                 ...                 ...   \n2585  Others (females, young males, juveniles and ta...  Iguanas 1st launch   \n2586  Others (females, young males, juveniles and ta...  Iguanas 1st launch   \n2587  Others (females, young males, juveniles and ta...  Iguanas 1st launch   \n2588                                Adult Male in a lek  Iguanas 1st launch   \n2626                                   Adult Male alone  Iguanas 1st launch   \n\n      user_id                           user_name mission_name  \\\n13        NaN  not-logged-in-33bc5b21c88460dbfea6         SFM1   \n15        NaN  not-logged-in-33bc5b21c88460dbfea6         SFM1   \n16        NaN  not-logged-in-33bc5b21c88460dbfea6         SFM1   \n21        NaN  not-logged-in-33bc5b21c88460dbfea6         SFM1   \n24        NaN  not-logged-in-33bc5b21c88460dbfea6         SFM1   \n...       ...                                 ...          ...   \n2585      NaN  not-logged-in-93e07d6b2a99b8725f21         SFM1   \n2586      NaN  not-logged-in-93e07d6b2a99b8725f21         SFM1   \n2587      NaN  not-logged-in-93e07d6b2a99b8725f21         SFM1   \n2588      NaN  not-logged-in-93e07d6b2a99b8725f21         SFM1   \n2626      NaN  not-logged-in-341c84c0e52bdc34f8f8         SFM1   \n\n                                             image_path  width  height  \n13    /Users/christian/data/zooniverse/Images/Zooniv...    599     630  \n15    /Users/christian/data/zooniverse/Images/Zooniv...    600     630  \n16    /Users/christian/data/zooniverse/Images/Zooniv...    600     630  \n21    /Users/christian/data/zooniverse/Images/Zooniv...    667     649  \n24    /Users/christian/data/zooniverse/Images/Zooniv...    589     573  \n...                                                 ...    ...     ...  \n2585  /Users/christian/data/zooniverse/Images/Zooniv...    599     630  \n2586  /Users/christian/data/zooniverse/Images/Zooniv...    599     630  \n2587  /Users/christian/data/zooniverse/Images/Zooniv...    599     630  \n2588  /Users/christian/data/zooniverse/Images/Zooniv...    599     630  \n2626  /Users/christian/data/zooniverse/Images/Zooniv...    666     648  \n\n[367 rows x 16 columns]",
      "text/html": "<div>\n<style scoped>\n    .dataframe tbody tr th:only-of-type {\n        vertical-align: middle;\n    }\n\n    .dataframe tbody tr th {\n        vertical-align: top;\n    }\n\n    .dataframe thead th {\n        text-align: right;\n    }\n</style>\n<table border=\"1\" class=\"dataframe\">\n  <thead>\n    <tr style=\"text-align: right;\">\n      <th></th>\n      <th>Unnamed: 0</th>\n      <th>flight_site_code</th>\n      <th>workflow_id</th>\n      <th>workflow_version</th>\n      <th>image_name</th>\n      <th>subject_id</th>\n      <th>x</th>\n      <th>y</th>\n      <th>tool_label</th>\n      <th>phase_tag</th>\n      <th>user_id</th>\n      <th>user_name</th>\n      <th>mission_name</th>\n      <th>image_path</th>\n      <th>width</th>\n      <th>height</th>\n    </tr>\n  </thead>\n  <tbody>\n    <tr>\n      <th>13</th>\n      <td>13</td>\n      <td>SFM1</td>\n      <td>14370</td>\n      <td>134.236</td>\n      <td>SFM01-1-2_59.jpg</td>\n      <td>47968506</td>\n      <td>116.633331</td>\n      <td>153.966675</td>\n      <td>Others (females, young males, juveniles and ta...</td>\n      <td>Iguanas 1st launch</td>\n      <td>NaN</td>\n      <td>not-logged-in-33bc5b21c88460dbfea6</td>\n      <td>SFM1</td>\n      <td>/Users/christian/data/zooniverse/Images/Zooniv...</td>\n      <td>599</td>\n      <td>630</td>\n    </tr>\n    <tr>\n      <th>15</th>\n      <td>15</td>\n      <td>SFM1</td>\n      <td>14370</td>\n      <td>134.236</td>\n      <td>SFM01-1-1_184.jpg</td>\n      <td>47968013</td>\n      <td>279.644714</td>\n      <td>199.890869</td>\n      <td>Adult Male alone</td>\n      <td>Iguanas 1st launch</td>\n      <td>NaN</td>\n      <td>not-logged-in-33bc5b21c88460dbfea6</td>\n      <td>SFM1</td>\n      <td>/Users/christian/data/zooniverse/Images/Zooniv...</td>\n      <td>600</td>\n      <td>630</td>\n    </tr>\n    <tr>\n      <th>16</th>\n      <td>16</td>\n      <td>SFM1</td>\n      <td>14370</td>\n      <td>134.236</td>\n      <td>SFM01-1-1_184.jpg</td>\n      <td>47968013</td>\n      <td>407.698547</td>\n      <td>321.648682</td>\n      <td>Adult Male alone</td>\n      <td>Iguanas 1st launch</td>\n      <td>NaN</td>\n      <td>not-logged-in-33bc5b21c88460dbfea6</td>\n      <td>SFM1</td>\n      <td>/Users/christian/data/zooniverse/Images/Zooniv...</td>\n      <td>600</td>\n      <td>630</td>\n    </tr>\n    <tr>\n      <th>21</th>\n      <td>21</td>\n      <td>SFM1</td>\n      <td>14370</td>\n      <td>134.236</td>\n      <td>SFM01-2-2-2_302.jpg</td>\n      <td>47969853</td>\n      <td>549.633301</td>\n      <td>540.966675</td>\n      <td>Adult Male alone</td>\n      <td>Iguanas 1st launch</td>\n      <td>NaN</td>\n      <td>not-logged-in-33bc5b21c88460dbfea6</td>\n      <td>SFM1</td>\n      <td>/Users/christian/data/zooniverse/Images/Zooniv...</td>\n      <td>667</td>\n      <td>649</td>\n    </tr>\n    <tr>\n      <th>24</th>\n      <td>24</td>\n      <td>SFM1</td>\n      <td>14370</td>\n      <td>134.236</td>\n      <td>SFM01-2-2-3_149.jpg</td>\n      <td>47970139</td>\n      <td>57.739017</td>\n      <td>178.533081</td>\n      <td>Others (females, young males, juveniles and ta...</td>\n      <td>Iguanas 1st launch</td>\n      <td>NaN</td>\n      <td>not-logged-in-33bc5b21c88460dbfea6</td>\n      <td>SFM1</td>\n      <td>/Users/christian/data/zooniverse/Images/Zooniv...</td>\n      <td>589</td>\n      <td>573</td>\n    </tr>\n    <tr>\n      <th>...</th>\n      <td>...</td>\n      <td>...</td>\n      <td>...</td>\n      <td>...</td>\n      <td>...</td>\n      <td>...</td>\n      <td>...</td>\n      <td>...</td>\n      <td>...</td>\n      <td>...</td>\n      <td>...</td>\n      <td>...</td>\n      <td>...</td>\n      <td>...</td>\n      <td>...</td>\n      <td>...</td>\n    </tr>\n    <tr>\n      <th>2585</th>\n      <td>2585</td>\n      <td>SFM1</td>\n      <td>14370</td>\n      <td>134.236</td>\n      <td>SFM01-1-2_284.jpg</td>\n      <td>47968423</td>\n      <td>18.856710</td>\n      <td>494.673126</td>\n      <td>Others (females, young males, juveniles and ta...</td>\n      <td>Iguanas 1st launch</td>\n      <td>NaN</td>\n      <td>not-logged-in-93e07d6b2a99b8725f21</td>\n      <td>SFM1</td>\n      <td>/Users/christian/data/zooniverse/Images/Zooniv...</td>\n      <td>599</td>\n      <td>630</td>\n    </tr>\n    <tr>\n      <th>2586</th>\n      <td>2586</td>\n      <td>SFM1</td>\n      <td>14370</td>\n      <td>134.236</td>\n      <td>SFM01-1-2_284.jpg</td>\n      <td>47968423</td>\n      <td>94.404442</td>\n      <td>522.908142</td>\n      <td>Others (females, young males, juveniles and ta...</td>\n      <td>Iguanas 1st launch</td>\n      <td>NaN</td>\n      <td>not-logged-in-93e07d6b2a99b8725f21</td>\n      <td>SFM1</td>\n      <td>/Users/christian/data/zooniverse/Images/Zooniv...</td>\n      <td>599</td>\n      <td>630</td>\n    </tr>\n    <tr>\n      <th>2587</th>\n      <td>2587</td>\n      <td>SFM1</td>\n      <td>14370</td>\n      <td>134.236</td>\n      <td>SFM01-1-2_284.jpg</td>\n      <td>47968423</td>\n      <td>162.702652</td>\n      <td>474.069214</td>\n      <td>Others (females, young males, juveniles and ta...</td>\n      <td>Iguanas 1st launch</td>\n      <td>NaN</td>\n      <td>not-logged-in-93e07d6b2a99b8725f21</td>\n      <td>SFM1</td>\n      <td>/Users/christian/data/zooniverse/Images/Zooniv...</td>\n      <td>599</td>\n      <td>630</td>\n    </tr>\n    <tr>\n      <th>2588</th>\n      <td>2588</td>\n      <td>SFM1</td>\n      <td>14370</td>\n      <td>134.236</td>\n      <td>SFM01-1-2_284.jpg</td>\n      <td>47968423</td>\n      <td>85.247139</td>\n      <td>474.450745</td>\n      <td>Adult Male in a lek</td>\n      <td>Iguanas 1st launch</td>\n      <td>NaN</td>\n      <td>not-logged-in-93e07d6b2a99b8725f21</td>\n      <td>SFM1</td>\n      <td>/Users/christian/data/zooniverse/Images/Zooniv...</td>\n      <td>599</td>\n      <td>630</td>\n    </tr>\n    <tr>\n      <th>2626</th>\n      <td>2626</td>\n      <td>SFM1</td>\n      <td>14370</td>\n      <td>134.236</td>\n      <td>SFM01-2-2-1_120.jpg</td>\n      <td>47969236</td>\n      <td>231.432205</td>\n      <td>154.631561</td>\n      <td>Adult Male alone</td>\n      <td>Iguanas 1st launch</td>\n      <td>NaN</td>\n      <td>not-logged-in-341c84c0e52bdc34f8f8</td>\n      <td>SFM1</td>\n      <td>/Users/christian/data/zooniverse/Images/Zooniv...</td>\n      <td>666</td>\n      <td>648</td>\n    </tr>\n  </tbody>\n</table>\n<p>367 rows × 16 columns</p>\n</div>"
     },
     "execution_count": 116,
     "metadata": {},
     "output_type": "execute_result"
    }
   ],
   "source": [
    "df_merged_dataset[df_merged_dataset.user_id.isnull().values]"
   ]
  },
  {
   "cell_type": "code",
   "execution_count": 117,
   "id": "9258d161c25ae7d3",
   "metadata": {
    "collapsed": false,
    "ExecuteTime": {
     "end_time": "2024-04-22T09:13:27.361711Z",
     "start_time": "2024-04-22T09:13:27.340926Z"
    }
   },
   "outputs": [
    {
     "data": {
      "text/plain": "107"
     },
     "execution_count": 117,
     "metadata": {},
     "output_type": "execute_result"
    }
   ],
   "source": [
    "# Amount of images\n",
    "df_merged_dataset[\"subject_id\"].nunique()"
   ]
  },
  {
   "cell_type": "code",
   "execution_count": 118,
   "id": "6caad5d554d586db",
   "metadata": {
    "collapsed": false,
    "ExecuteTime": {
     "end_time": "2024-04-22T09:13:27.388465Z",
     "start_time": "2024-04-22T09:13:27.362411Z"
    }
   },
   "outputs": [
    {
     "data": {
      "text/plain": "      Unnamed: 0 flight_site_code  workflow_id  workflow_version  \\\n0              0             SFM1        14370           134.236   \n1              1             SFM1        14370           134.236   \n2              2             SFM1        14370           134.236   \n3              3             SFM1        14370           134.236   \n4              4             SFM1        14370           134.236   \n...          ...              ...          ...               ...   \n2625        2625             SFM1        14370           134.236   \n2626        2626             SFM1        14370           134.236   \n2627        2627             SFM1        14370           134.236   \n2628        2628             SFM1        14370           134.236   \n2629        2629             SFM1        14370           134.236   \n\n               image_name  subject_id           x           y  \\\n0     SFM01-2-2-3_137.jpg    47970105  376.160156   84.558594   \n1     SFM01-2-2-3_137.jpg    47970105  272.695312  297.894531   \n2     SFM01-2-2-3_137.jpg    47970105  111.898438  410.011719   \n3       SFM01-1-2_264.jpg    47968406  462.800781  390.786377   \n4       SFM01-1-2_264.jpg    47968406  545.598145  423.652527   \n...                   ...         ...         ...         ...   \n2625  SFM01-2-2-3_194.jpg    47970222   64.312500  166.000000   \n2626  SFM01-2-2-1_120.jpg    47969236  231.432205  154.631561   \n2627    SFM01-1-2_210.jpg    47968359  316.314850  392.354614   \n2628    SFM01-1-2_210.jpg    47968359  326.542725  402.156372   \n2629    SFM01-1-2_210.jpg    47968359  318.994141  396.814789   \n\n                                             tool_label           phase_tag  \\\n0                                      Adult Male alone  Iguanas 1st launch   \n1                                      Adult Male alone  Iguanas 1st launch   \n2                                      Adult Male alone  Iguanas 1st launch   \n3                                   Adult Male in a lek  Iguanas 1st launch   \n4     Others (females, young males, juveniles and ta...  Iguanas 1st launch   \n...                                                 ...                 ...   \n2625  Others (females, young males, juveniles and ta...  Iguanas 1st launch   \n2626                                   Adult Male alone  Iguanas 1st launch   \n2627  Others (females, young males, juveniles and ta...  Iguanas 1st launch   \n2628  Others (females, young males, juveniles and ta...  Iguanas 1st launch   \n2629                                   Adult Male alone  Iguanas 1st launch   \n\n        user_id                           user_name mission_name  \\\n0     2068663.0                               aymor         SFM1   \n1     2068663.0                               aymor         SFM1   \n2     2068663.0                               aymor         SFM1   \n3     1878692.0                           drewavery         SFM1   \n4     1878692.0                           drewavery         SFM1   \n...         ...                                 ...          ...   \n2625  2113479.0                            axiongxx         SFM1   \n2626        NaN  not-logged-in-341c84c0e52bdc34f8f8         SFM1   \n2627  2136122.0                             H.axson         SFM1   \n2628  2136122.0                             H.axson         SFM1   \n2629  2193415.0                         kbohensky63         SFM1   \n\n                                             image_path  width  height  \n0     /Users/christian/data/zooniverse/Images/Zooniv...    589     573  \n1     /Users/christian/data/zooniverse/Images/Zooniv...    589     573  \n2     /Users/christian/data/zooniverse/Images/Zooniv...    589     573  \n3     /Users/christian/data/zooniverse/Images/Zooniv...    599     630  \n4     /Users/christian/data/zooniverse/Images/Zooniv...    599     630  \n...                                                 ...    ...     ...  \n2625  /Users/christian/data/zooniverse/Images/Zooniv...    589     573  \n2626  /Users/christian/data/zooniverse/Images/Zooniv...    666     648  \n2627  /Users/christian/data/zooniverse/Images/Zooniv...    599     630  \n2628  /Users/christian/data/zooniverse/Images/Zooniv...    599     630  \n2629  /Users/christian/data/zooniverse/Images/Zooniv...    599     630  \n\n[2630 rows x 16 columns]",
      "text/html": "<div>\n<style scoped>\n    .dataframe tbody tr th:only-of-type {\n        vertical-align: middle;\n    }\n\n    .dataframe tbody tr th {\n        vertical-align: top;\n    }\n\n    .dataframe thead th {\n        text-align: right;\n    }\n</style>\n<table border=\"1\" class=\"dataframe\">\n  <thead>\n    <tr style=\"text-align: right;\">\n      <th></th>\n      <th>Unnamed: 0</th>\n      <th>flight_site_code</th>\n      <th>workflow_id</th>\n      <th>workflow_version</th>\n      <th>image_name</th>\n      <th>subject_id</th>\n      <th>x</th>\n      <th>y</th>\n      <th>tool_label</th>\n      <th>phase_tag</th>\n      <th>user_id</th>\n      <th>user_name</th>\n      <th>mission_name</th>\n      <th>image_path</th>\n      <th>width</th>\n      <th>height</th>\n    </tr>\n  </thead>\n  <tbody>\n    <tr>\n      <th>0</th>\n      <td>0</td>\n      <td>SFM1</td>\n      <td>14370</td>\n      <td>134.236</td>\n      <td>SFM01-2-2-3_137.jpg</td>\n      <td>47970105</td>\n      <td>376.160156</td>\n      <td>84.558594</td>\n      <td>Adult Male alone</td>\n      <td>Iguanas 1st launch</td>\n      <td>2068663.0</td>\n      <td>aymor</td>\n      <td>SFM1</td>\n      <td>/Users/christian/data/zooniverse/Images/Zooniv...</td>\n      <td>589</td>\n      <td>573</td>\n    </tr>\n    <tr>\n      <th>1</th>\n      <td>1</td>\n      <td>SFM1</td>\n      <td>14370</td>\n      <td>134.236</td>\n      <td>SFM01-2-2-3_137.jpg</td>\n      <td>47970105</td>\n      <td>272.695312</td>\n      <td>297.894531</td>\n      <td>Adult Male alone</td>\n      <td>Iguanas 1st launch</td>\n      <td>2068663.0</td>\n      <td>aymor</td>\n      <td>SFM1</td>\n      <td>/Users/christian/data/zooniverse/Images/Zooniv...</td>\n      <td>589</td>\n      <td>573</td>\n    </tr>\n    <tr>\n      <th>2</th>\n      <td>2</td>\n      <td>SFM1</td>\n      <td>14370</td>\n      <td>134.236</td>\n      <td>SFM01-2-2-3_137.jpg</td>\n      <td>47970105</td>\n      <td>111.898438</td>\n      <td>410.011719</td>\n      <td>Adult Male alone</td>\n      <td>Iguanas 1st launch</td>\n      <td>2068663.0</td>\n      <td>aymor</td>\n      <td>SFM1</td>\n      <td>/Users/christian/data/zooniverse/Images/Zooniv...</td>\n      <td>589</td>\n      <td>573</td>\n    </tr>\n    <tr>\n      <th>3</th>\n      <td>3</td>\n      <td>SFM1</td>\n      <td>14370</td>\n      <td>134.236</td>\n      <td>SFM01-1-2_264.jpg</td>\n      <td>47968406</td>\n      <td>462.800781</td>\n      <td>390.786377</td>\n      <td>Adult Male in a lek</td>\n      <td>Iguanas 1st launch</td>\n      <td>1878692.0</td>\n      <td>drewavery</td>\n      <td>SFM1</td>\n      <td>/Users/christian/data/zooniverse/Images/Zooniv...</td>\n      <td>599</td>\n      <td>630</td>\n    </tr>\n    <tr>\n      <th>4</th>\n      <td>4</td>\n      <td>SFM1</td>\n      <td>14370</td>\n      <td>134.236</td>\n      <td>SFM01-1-2_264.jpg</td>\n      <td>47968406</td>\n      <td>545.598145</td>\n      <td>423.652527</td>\n      <td>Others (females, young males, juveniles and ta...</td>\n      <td>Iguanas 1st launch</td>\n      <td>1878692.0</td>\n      <td>drewavery</td>\n      <td>SFM1</td>\n      <td>/Users/christian/data/zooniverse/Images/Zooniv...</td>\n      <td>599</td>\n      <td>630</td>\n    </tr>\n    <tr>\n      <th>...</th>\n      <td>...</td>\n      <td>...</td>\n      <td>...</td>\n      <td>...</td>\n      <td>...</td>\n      <td>...</td>\n      <td>...</td>\n      <td>...</td>\n      <td>...</td>\n      <td>...</td>\n      <td>...</td>\n      <td>...</td>\n      <td>...</td>\n      <td>...</td>\n      <td>...</td>\n      <td>...</td>\n    </tr>\n    <tr>\n      <th>2625</th>\n      <td>2625</td>\n      <td>SFM1</td>\n      <td>14370</td>\n      <td>134.236</td>\n      <td>SFM01-2-2-3_194.jpg</td>\n      <td>47970222</td>\n      <td>64.312500</td>\n      <td>166.000000</td>\n      <td>Others (females, young males, juveniles and ta...</td>\n      <td>Iguanas 1st launch</td>\n      <td>2113479.0</td>\n      <td>axiongxx</td>\n      <td>SFM1</td>\n      <td>/Users/christian/data/zooniverse/Images/Zooniv...</td>\n      <td>589</td>\n      <td>573</td>\n    </tr>\n    <tr>\n      <th>2626</th>\n      <td>2626</td>\n      <td>SFM1</td>\n      <td>14370</td>\n      <td>134.236</td>\n      <td>SFM01-2-2-1_120.jpg</td>\n      <td>47969236</td>\n      <td>231.432205</td>\n      <td>154.631561</td>\n      <td>Adult Male alone</td>\n      <td>Iguanas 1st launch</td>\n      <td>NaN</td>\n      <td>not-logged-in-341c84c0e52bdc34f8f8</td>\n      <td>SFM1</td>\n      <td>/Users/christian/data/zooniverse/Images/Zooniv...</td>\n      <td>666</td>\n      <td>648</td>\n    </tr>\n    <tr>\n      <th>2627</th>\n      <td>2627</td>\n      <td>SFM1</td>\n      <td>14370</td>\n      <td>134.236</td>\n      <td>SFM01-1-2_210.jpg</td>\n      <td>47968359</td>\n      <td>316.314850</td>\n      <td>392.354614</td>\n      <td>Others (females, young males, juveniles and ta...</td>\n      <td>Iguanas 1st launch</td>\n      <td>2136122.0</td>\n      <td>H.axson</td>\n      <td>SFM1</td>\n      <td>/Users/christian/data/zooniverse/Images/Zooniv...</td>\n      <td>599</td>\n      <td>630</td>\n    </tr>\n    <tr>\n      <th>2628</th>\n      <td>2628</td>\n      <td>SFM1</td>\n      <td>14370</td>\n      <td>134.236</td>\n      <td>SFM01-1-2_210.jpg</td>\n      <td>47968359</td>\n      <td>326.542725</td>\n      <td>402.156372</td>\n      <td>Others (females, young males, juveniles and ta...</td>\n      <td>Iguanas 1st launch</td>\n      <td>2136122.0</td>\n      <td>H.axson</td>\n      <td>SFM1</td>\n      <td>/Users/christian/data/zooniverse/Images/Zooniv...</td>\n      <td>599</td>\n      <td>630</td>\n    </tr>\n    <tr>\n      <th>2629</th>\n      <td>2629</td>\n      <td>SFM1</td>\n      <td>14370</td>\n      <td>134.236</td>\n      <td>SFM01-1-2_210.jpg</td>\n      <td>47968359</td>\n      <td>318.994141</td>\n      <td>396.814789</td>\n      <td>Adult Male alone</td>\n      <td>Iguanas 1st launch</td>\n      <td>2193415.0</td>\n      <td>kbohensky63</td>\n      <td>SFM1</td>\n      <td>/Users/christian/data/zooniverse/Images/Zooniv...</td>\n      <td>599</td>\n      <td>630</td>\n    </tr>\n  </tbody>\n</table>\n<p>2630 rows × 16 columns</p>\n</div>"
     },
     "execution_count": 118,
     "metadata": {},
     "output_type": "execute_result"
    }
   ],
   "source": [
    "## After filtering there\n",
    "df_merged_dataset"
   ]
  },
  {
   "cell_type": "code",
   "execution_count": 119,
   "id": "e1fcc8d02df55119",
   "metadata": {
    "collapsed": false,
    "ExecuteTime": {
     "end_time": "2024-04-22T09:13:27.413666Z",
     "start_time": "2024-04-22T09:13:27.390747Z"
    }
   },
   "outputs": [
    {
     "data": {
      "text/plain": "           x\nuser_id     \n1476.0     1\n2842.0    14\n109942.0   1\n114901.0   4\n120287.0   2",
      "text/html": "<div>\n<style scoped>\n    .dataframe tbody tr th:only-of-type {\n        vertical-align: middle;\n    }\n\n    .dataframe tbody tr th {\n        vertical-align: top;\n    }\n\n    .dataframe thead th {\n        text-align: right;\n    }\n</style>\n<table border=\"1\" class=\"dataframe\">\n  <thead>\n    <tr style=\"text-align: right;\">\n      <th></th>\n      <th>x</th>\n    </tr>\n    <tr>\n      <th>user_id</th>\n      <th></th>\n    </tr>\n  </thead>\n  <tbody>\n    <tr>\n      <th>1476.0</th>\n      <td>1</td>\n    </tr>\n    <tr>\n      <th>2842.0</th>\n      <td>14</td>\n    </tr>\n    <tr>\n      <th>109942.0</th>\n      <td>1</td>\n    </tr>\n    <tr>\n      <th>114901.0</th>\n      <td>4</td>\n    </tr>\n    <tr>\n      <th>120287.0</th>\n      <td>2</td>\n    </tr>\n  </tbody>\n</table>\n</div>"
     },
     "execution_count": 119,
     "metadata": {},
     "output_type": "execute_result"
    }
   ],
   "source": [
    "# how many marks per user\n",
    "df_merged_dataset[[\"user_id\", \"x\"]].groupby(\"user_id\").count().head()"
   ]
  },
  {
   "cell_type": "markdown",
   "id": "9dc998338a68bf87",
   "metadata": {
    "collapsed": false
   },
   "source": [
    "### Gold standard data\n",
    "For reference"
   ]
  },
  {
   "cell_type": "code",
   "execution_count": 120,
   "id": "c47edb47e4401a00",
   "metadata": {
    "collapsed": false,
    "ExecuteTime": {
     "end_time": "2024-04-22T09:13:27.436612Z",
     "start_time": "2024-04-22T09:13:27.414450Z"
    }
   },
   "outputs": [
    {
     "data": {
      "text/plain": "107"
     },
     "execution_count": 120,
     "metadata": {},
     "output_type": "execute_result"
    }
   ],
   "source": [
    "df_goldstandard_expert_count[\"subject_id\"].nunique()"
   ]
  },
  {
   "cell_type": "code",
   "execution_count": 121,
   "id": "ba06d92f5be8c77",
   "metadata": {
    "collapsed": false,
    "ExecuteTime": {
     "end_time": "2024-04-22T09:13:27.459294Z",
     "start_time": "2024-04-22T09:13:27.437364Z"
    }
   },
   "outputs": [
    {
     "data": {
      "text/plain": "subject_id    107\nMedian0s      107\nMean0s        107\nMax0s         107\nStd0s         102\nMedian.r      107\nMean.r        107\nMode0s        107\ndtype: int64"
     },
     "execution_count": 121,
     "metadata": {},
     "output_type": "execute_result"
    }
   ],
   "source": [
    "# look at the\n",
    "df_goldstandard_expert_count.count()"
   ]
  },
  {
   "cell_type": "code",
   "execution_count": 122,
   "id": "15820bdd2650de9f",
   "metadata": {
    "collapsed": false,
    "ExecuteTime": {
     "end_time": "2024-04-22T09:13:27.480540Z",
     "start_time": "2024-04-22T09:13:27.460035Z"
    }
   },
   "outputs": [
    {
     "data": {
      "text/plain": "107"
     },
     "execution_count": 122,
     "metadata": {},
     "output_type": "execute_result"
    }
   ],
   "source": [
    "# How many images are left in the zooniverse dataset?\n",
    "len(list(df_merged_dataset.image_name.unique()))"
   ]
  },
  {
   "cell_type": "code",
   "execution_count": 123,
   "id": "80c69a368a3883da",
   "metadata": {
    "collapsed": false,
    "ExecuteTime": {
     "end_time": "2024-04-22T09:13:27.501836Z",
     "start_time": "2024-04-22T09:13:27.481263Z"
    }
   },
   "outputs": [
    {
     "name": "stdout",
     "output_type": "stream",
     "text": [
      "images in df_goldstandard_expert_count but not in df_merged_dataset: 0\n"
     ]
    }
   ],
   "source": [
    "#Is there an image in the goldstandard, which is not in the classifcations?\n",
    "print(f\"images in df_goldstandard_expert_count but not in df_merged_dataset: {len(set(df_goldstandard_expert_count.subject_id) - set(df_merged_dataset.subject_id.unique()))}\")\n"
   ]
  },
  {
   "cell_type": "code",
   "execution_count": 124,
   "id": "5c147f0b-67ef-4f91-bfc2-5847ce034574",
   "metadata": {
    "ExecuteTime": {
     "end_time": "2024-04-22T09:13:27.525092Z",
     "start_time": "2024-04-22T09:13:27.502614Z"
    }
   },
   "outputs": [
    {
     "data": {
      "text/plain": "0      47967876\n1      47967959\n2      47967961\n3      47967975\n4      47968013\n         ...   \n102    48026608\n103    48026629\n104    48026645\n105    48026817\n106    48027975\nName: subject_id, Length: 107, dtype: int64"
     },
     "execution_count": 124,
     "metadata": {},
     "output_type": "execute_result"
    }
   ],
   "source": [
    "df_goldstandard_expert_count.subject_id"
   ]
  },
  {
   "cell_type": "code",
   "execution_count": 125,
   "id": "258c8bab-27fb-4d8b-968c-088d6ab2e6ee",
   "metadata": {
    "ExecuteTime": {
     "end_time": "2024-04-22T09:13:27.549100Z",
     "start_time": "2024-04-22T09:13:27.525941Z"
    }
   },
   "outputs": [
    {
     "data": {
      "text/plain": "0       47969795\n1       47969531\n2       47969760\n3       47969815\n4       47969821\n          ...   \n2728    47990261\n2729    47990268\n2730    47990280\n2731    47990285\n2732    47990290\nName: subject_id, Length: 2733, dtype: int64"
     },
     "execution_count": 125,
     "metadata": {},
     "output_type": "execute_result"
    }
   ],
   "source": [
    "df_expert_count.subject_id\n"
   ]
  },
  {
   "cell_type": "code",
   "execution_count": 126,
   "id": "48733ec4663ffc77",
   "metadata": {
    "collapsed": false,
    "ExecuteTime": {
     "end_time": "2024-04-22T09:13:27.570888Z",
     "start_time": "2024-04-22T09:13:27.549878Z"
    }
   },
   "outputs": [
    {
     "data": {
      "text/plain": "422"
     },
     "execution_count": 126,
     "metadata": {},
     "output_type": "execute_result"
    }
   ],
   "source": [
    "df_expert_count.count_total.sum()"
   ]
  },
  {
   "cell_type": "code",
   "execution_count": 127,
   "id": "a32dd3d78eb25d4a",
   "metadata": {
    "collapsed": false,
    "ExecuteTime": {
     "end_time": "2024-04-22T09:13:27.591936Z",
     "start_time": "2024-04-22T09:13:27.571592Z"
    }
   },
   "outputs": [
    {
     "data": {
      "text/plain": "107"
     },
     "execution_count": 127,
     "metadata": {},
     "output_type": "execute_result"
    }
   ],
   "source": [
    "# How many images are in the filtered flat zooniverse dataset\n",
    "df_merged_dataset[\"subject_id\"].nunique()"
   ]
  },
  {
   "cell_type": "code",
   "execution_count": 128,
   "id": "e81f8736a91d6771",
   "metadata": {
    "collapsed": false,
    "ExecuteTime": {
     "end_time": "2024-04-22T09:13:27.613221Z",
     "start_time": "2024-04-22T09:13:27.592724Z"
    }
   },
   "outputs": [],
   "source": [
    "## plot some of the marks\n",
    "from zooniverse.utils.plotting import plot_zooniverse_user_marks_v2\n",
    "\n",
    "if phase_tag in[\"Iguanas 1st launch\", \"Iguanas 2nd launch\"]  and  ( plot_diagrams or show_plots ) :\n",
    "    for image_name, df_image_name in df_merged_dataset.groupby(\"image_name\"):\n",
    "        \n",
    "        ## plot the marks\n",
    "        markers_plot_path = plot_zooniverse_user_marks_v2(df_image_name,\n",
    "                                                          image_path=df_image_name.iloc[0][\"image_path\"],\n",
    "                                                          image_name=image_name,\n",
    "                                                          output_path=output_plot_path, show=show_plots, title=f\"Markers for {image_name}\", fig_size=(5,5))\n",
    "        "
   ]
  },
  {
   "cell_type": "markdown",
   "id": "42c2737f2c06741d",
   "metadata": {
    "collapsed": false
   },
   "source": [
    "## Clustering"
   ]
  },
  {
   "cell_type": "markdown",
   "id": "beefdd1511daad4",
   "metadata": {
    "collapsed": false
   },
   "source": [
    "### Basic Statics like mean, median, mode"
   ]
  },
  {
   "cell_type": "code",
   "execution_count": 129,
   "id": "998d62019f01a2ec",
   "metadata": {
    "collapsed": false,
    "ExecuteTime": {
     "end_time": "2024-04-22T09:13:27.665170Z",
     "start_time": "2024-04-22T09:13:27.614048Z"
    }
   },
   "outputs": [],
   "source": [
    "from sklearn.metrics import mean_squared_error\n",
    "from zooniverse.analysis import get_mark_overview\n",
    "\n",
    "basic_stats = []\n",
    "kmeans_knee_stats = []\n",
    "kmeans_silouettes = []\n",
    "mse_errors = {}\n",
    "\n",
    "\n",
    "for image_name, df_image_name in df_merged_dataset.groupby(\"subject_id\"):\n",
    "    annotations_count = get_mark_overview(df_image_name)\n",
    "\n",
    "    annotations_count_stats = get_annotation_count_stats(annotations_count=annotations_count,\n",
    "                                                         image_name=df_image_name.iloc[0][\"image_name\"],\n",
    "                                                        subject_id=df_image_name.iloc[0][\"subject_id\"])\n",
    "\n",
    "    ### basic statistics like mean, median\n",
    "    basic_stats.append(annotations_count_stats)\n",
    "    \n",
    "\n",
    "df_basic_stats = pd.DataFrame(basic_stats)    \n",
    "\n",
    "## join the gold standard data to the basic stats\n",
    "if use_gold_standard_subset is not None:\n",
    "    df_comparison = df_expert_count.merge(df_basic_stats, on='image_name', how='left')\n",
    "else:\n",
    "    df_comparison = df_basic_stats\n"
   ]
  },
  {
   "cell_type": "code",
   "execution_count": 130,
   "id": "dd1f05f18807f3b4",
   "metadata": {
    "collapsed": false,
    "ExecuteTime": {
     "end_time": "2024-04-22T09:13:27.693636Z",
     "start_time": "2024-04-22T09:13:27.665959Z"
    }
   },
   "outputs": [
    {
     "data": {
      "text/plain": "            image_name  subject_id  median_count  mean_count  mode_min_count  \\\n0    SFM01-1-1_114.jpg    47967876           1.0        1.11               1   \n1    SFM01-1-1_154.jpg    47967959           1.0        1.00               1   \n2    SFM01-1-1_155.jpg    47967961           5.0        5.25               4   \n3    SFM01-1-1_163.jpg    47967975           1.0        1.00               1   \n4    SFM01-1-1_184.jpg    47968013           1.0        1.20               1   \n..                 ...         ...           ...         ...             ...   \n102   SRL01-2-2_54.jpg    48026608           4.0        3.63               4   \n103   SRL01-2-2_55.jpg    48026629           1.0        1.00               1   \n104   SRL01-2-2_62.jpg    48026645           2.0        1.73               2   \n105     SRL02-1_33.jpg    48026817           1.0        1.09               1   \n106     SRL03-3_62.jpg    48027975           2.0        2.21               2   \n\n     mode_max_count mode_count  mode_count_avg  users  sum_annotations_count  \\\n0                 1        [1]             1.0      9                     10   \n1                 1        [1]             1.0     11                     11   \n2                 4        [4]             4.0      4                     21   \n3                 1        [1]             1.0      6                      6   \n4                 1        [1]             1.0      5                      6   \n..              ...        ...             ...    ...                    ...   \n102               4        [4]             4.0     19                     69   \n103               1        [1]             1.0     17                     17   \n104               2        [2]             2.0     15                     26   \n105               1        [1]             1.0     11                     12   \n106               2        [2]             2.0     14                     31   \n\n                                     annotations_count  \n0                          [1, 1, 1, 1, 1, 1, 1, 1, 2]  \n1                    [1, 1, 1, 1, 1, 1, 1, 1, 1, 1, 1]  \n2                                         [4, 4, 6, 7]  \n3                                   [1, 1, 1, 1, 1, 1]  \n4                                      [1, 1, 1, 1, 2]  \n..                                                 ...  \n102  [2, 2, 3, 3, 3, 4, 4, 4, 4, 4, 4, 4, 4, 4, 4, ...  \n103  [1, 1, 1, 1, 1, 1, 1, 1, 1, 1, 1, 1, 1, 1, 1, ...  \n104      [1, 1, 1, 1, 1, 1, 2, 2, 2, 2, 2, 2, 2, 2, 4]  \n105                  [1, 1, 1, 1, 1, 1, 1, 1, 1, 1, 2]  \n106         [1, 2, 2, 2, 2, 2, 2, 2, 2, 2, 3, 3, 3, 3]  \n\n[107 rows x 11 columns]",
      "text/html": "<div>\n<style scoped>\n    .dataframe tbody tr th:only-of-type {\n        vertical-align: middle;\n    }\n\n    .dataframe tbody tr th {\n        vertical-align: top;\n    }\n\n    .dataframe thead th {\n        text-align: right;\n    }\n</style>\n<table border=\"1\" class=\"dataframe\">\n  <thead>\n    <tr style=\"text-align: right;\">\n      <th></th>\n      <th>image_name</th>\n      <th>subject_id</th>\n      <th>median_count</th>\n      <th>mean_count</th>\n      <th>mode_min_count</th>\n      <th>mode_max_count</th>\n      <th>mode_count</th>\n      <th>mode_count_avg</th>\n      <th>users</th>\n      <th>sum_annotations_count</th>\n      <th>annotations_count</th>\n    </tr>\n  </thead>\n  <tbody>\n    <tr>\n      <th>0</th>\n      <td>SFM01-1-1_114.jpg</td>\n      <td>47967876</td>\n      <td>1.0</td>\n      <td>1.11</td>\n      <td>1</td>\n      <td>1</td>\n      <td>[1]</td>\n      <td>1.0</td>\n      <td>9</td>\n      <td>10</td>\n      <td>[1, 1, 1, 1, 1, 1, 1, 1, 2]</td>\n    </tr>\n    <tr>\n      <th>1</th>\n      <td>SFM01-1-1_154.jpg</td>\n      <td>47967959</td>\n      <td>1.0</td>\n      <td>1.00</td>\n      <td>1</td>\n      <td>1</td>\n      <td>[1]</td>\n      <td>1.0</td>\n      <td>11</td>\n      <td>11</td>\n      <td>[1, 1, 1, 1, 1, 1, 1, 1, 1, 1, 1]</td>\n    </tr>\n    <tr>\n      <th>2</th>\n      <td>SFM01-1-1_155.jpg</td>\n      <td>47967961</td>\n      <td>5.0</td>\n      <td>5.25</td>\n      <td>4</td>\n      <td>4</td>\n      <td>[4]</td>\n      <td>4.0</td>\n      <td>4</td>\n      <td>21</td>\n      <td>[4, 4, 6, 7]</td>\n    </tr>\n    <tr>\n      <th>3</th>\n      <td>SFM01-1-1_163.jpg</td>\n      <td>47967975</td>\n      <td>1.0</td>\n      <td>1.00</td>\n      <td>1</td>\n      <td>1</td>\n      <td>[1]</td>\n      <td>1.0</td>\n      <td>6</td>\n      <td>6</td>\n      <td>[1, 1, 1, 1, 1, 1]</td>\n    </tr>\n    <tr>\n      <th>4</th>\n      <td>SFM01-1-1_184.jpg</td>\n      <td>47968013</td>\n      <td>1.0</td>\n      <td>1.20</td>\n      <td>1</td>\n      <td>1</td>\n      <td>[1]</td>\n      <td>1.0</td>\n      <td>5</td>\n      <td>6</td>\n      <td>[1, 1, 1, 1, 2]</td>\n    </tr>\n    <tr>\n      <th>...</th>\n      <td>...</td>\n      <td>...</td>\n      <td>...</td>\n      <td>...</td>\n      <td>...</td>\n      <td>...</td>\n      <td>...</td>\n      <td>...</td>\n      <td>...</td>\n      <td>...</td>\n      <td>...</td>\n    </tr>\n    <tr>\n      <th>102</th>\n      <td>SRL01-2-2_54.jpg</td>\n      <td>48026608</td>\n      <td>4.0</td>\n      <td>3.63</td>\n      <td>4</td>\n      <td>4</td>\n      <td>[4]</td>\n      <td>4.0</td>\n      <td>19</td>\n      <td>69</td>\n      <td>[2, 2, 3, 3, 3, 4, 4, 4, 4, 4, 4, 4, 4, 4, 4, ...</td>\n    </tr>\n    <tr>\n      <th>103</th>\n      <td>SRL01-2-2_55.jpg</td>\n      <td>48026629</td>\n      <td>1.0</td>\n      <td>1.00</td>\n      <td>1</td>\n      <td>1</td>\n      <td>[1]</td>\n      <td>1.0</td>\n      <td>17</td>\n      <td>17</td>\n      <td>[1, 1, 1, 1, 1, 1, 1, 1, 1, 1, 1, 1, 1, 1, 1, ...</td>\n    </tr>\n    <tr>\n      <th>104</th>\n      <td>SRL01-2-2_62.jpg</td>\n      <td>48026645</td>\n      <td>2.0</td>\n      <td>1.73</td>\n      <td>2</td>\n      <td>2</td>\n      <td>[2]</td>\n      <td>2.0</td>\n      <td>15</td>\n      <td>26</td>\n      <td>[1, 1, 1, 1, 1, 1, 2, 2, 2, 2, 2, 2, 2, 2, 4]</td>\n    </tr>\n    <tr>\n      <th>105</th>\n      <td>SRL02-1_33.jpg</td>\n      <td>48026817</td>\n      <td>1.0</td>\n      <td>1.09</td>\n      <td>1</td>\n      <td>1</td>\n      <td>[1]</td>\n      <td>1.0</td>\n      <td>11</td>\n      <td>12</td>\n      <td>[1, 1, 1, 1, 1, 1, 1, 1, 1, 1, 2]</td>\n    </tr>\n    <tr>\n      <th>106</th>\n      <td>SRL03-3_62.jpg</td>\n      <td>48027975</td>\n      <td>2.0</td>\n      <td>2.21</td>\n      <td>2</td>\n      <td>2</td>\n      <td>[2]</td>\n      <td>2.0</td>\n      <td>14</td>\n      <td>31</td>\n      <td>[1, 2, 2, 2, 2, 2, 2, 2, 2, 2, 3, 3, 3, 3]</td>\n    </tr>\n  </tbody>\n</table>\n<p>107 rows × 11 columns</p>\n</div>"
     },
     "execution_count": 130,
     "metadata": {},
     "output_type": "execute_result"
    }
   ],
   "source": [
    "df_basic_stats"
   ]
  },
  {
   "cell_type": "code",
   "execution_count": 131,
   "id": "6767edb835702fea",
   "metadata": {
    "collapsed": false,
    "ExecuteTime": {
     "end_time": "2024-04-22T09:13:27.716698Z",
     "start_time": "2024-04-22T09:13:27.694421Z"
    }
   },
   "outputs": [
    {
     "data": {
      "text/plain": "[1,\n 1,\n 4,\n 1,\n 1,\n 1,\n 1,\n 1,\n 1,\n 1,\n 1,\n 1,\n 1,\n 1,\n 1,\n 1,\n 13,\n 1,\n 1,\n 1,\n 2,\n 4,\n 1,\n 1,\n 1,\n 1,\n 1,\n 1,\n 6,\n 9,\n 1,\n 1,\n 1,\n 1,\n 1,\n 4,\n 10,\n 1,\n 3,\n 1,\n 2,\n 3,\n 1,\n 8,\n 12,\n 1,\n 1,\n 1,\n 1,\n 2,\n 1,\n 4,\n 11,\n 2,\n 1,\n 1,\n 2,\n 2,\n 9,\n 1,\n 1,\n 1,\n 1,\n 1,\n 2,\n 1,\n 1,\n 2,\n 2,\n 1,\n 1,\n 6,\n 7,\n 8,\n 1,\n 2,\n 3,\n 1,\n 7,\n 10,\n 2,\n 1,\n 1,\n 4,\n 1,\n 5,\n 7,\n 10,\n 1,\n 1,\n 2,\n 9,\n 1,\n 1,\n 1,\n 1,\n 3,\n 1,\n 2,\n 1,\n 1,\n 3,\n 4,\n 1,\n 1,\n 1,\n 1,\n 1,\n 1,\n 1,\n 3,\n 1,\n 1,\n 4,\n 1,\n 1,\n 1,\n 1,\n 4,\n 4,\n 1,\n 2,\n 1,\n 2]"
     },
     "execution_count": 131,
     "metadata": {},
     "output_type": "execute_result"
    }
   ],
   "source": [
    "df_basic_stats[\"mode_count\"].sum()"
   ]
  },
  {
   "cell_type": "code",
   "execution_count": 132,
   "id": "d3dc86009d813ff0",
   "metadata": {
    "collapsed": false,
    "ExecuteTime": {
     "end_time": "2024-04-22T09:13:27.747596Z",
     "start_time": "2024-04-22T09:13:27.718915Z"
    }
   },
   "outputs": [
    {
     "data": {
      "text/plain": "           subspecies    island site_name subject_group           image_name  \\\n718  A. c. trillmichi  Santa Fe  El Miedo          SFM1  SFM01-2-2-2_350.jpg   \n732  A. c. trillmichi  Santa Fe  El Miedo          SFM1  SFM01-2-2-3_111.jpg   \n666  A. c. trillmichi  Santa Fe  El Miedo          SFM1  SFM01-2-2-2_278.jpg   \n878  A. c. trillmichi  Santa Fe  El Miedo          SFM1  SFM01-extra_114.jpg   \n743  A. c. trillmichi  Santa Fe  El Miedo          SFM1  SFM01-2-2-3_123.jpg   \n\n     subject_id_x presence_absence  count_male-lek  count_male-no-lek  \\\n718      47969975                Y               0                  1   \n732      47970029                Y               0                  0   \n666      47969782                Y               0                  0   \n878      47970403                Y               0                  1   \n743      47970063                Y               0                  0   \n\n     count_others  ...  subject_id_y  median_count mean_count mode_min_count  \\\n718             0  ...    47969975.0           1.0        1.0            1.0   \n732             1  ...    47970029.0           1.0        1.0            1.0   \n666             1  ...    47969782.0           2.0        2.0            1.0   \n878             0  ...    47970403.0           1.0        1.0            1.0   \n743             1  ...    47970063.0           2.0        2.0            2.0   \n\n    mode_max_count  mode_count  mode_count_avg  users  sum_annotations_count  \\\n718            1.0         [1]             1.0    4.0                    4.0   \n732            1.0         [1]             1.0    4.0                    4.0   \n666            3.0      [1, 3]             2.0    2.0                    4.0   \n878            1.0         [1]             1.0    2.0                    2.0   \n743            2.0         [2]             2.0    1.0                    2.0   \n\n     annotations_count  \n718       [1, 1, 1, 1]  \n732       [1, 1, 1, 1]  \n666             [1, 3]  \n878             [1, 1]  \n743                [2]  \n\n[5 rows x 25 columns]",
      "text/html": "<div>\n<style scoped>\n    .dataframe tbody tr th:only-of-type {\n        vertical-align: middle;\n    }\n\n    .dataframe tbody tr th {\n        vertical-align: top;\n    }\n\n    .dataframe thead th {\n        text-align: right;\n    }\n</style>\n<table border=\"1\" class=\"dataframe\">\n  <thead>\n    <tr style=\"text-align: right;\">\n      <th></th>\n      <th>subspecies</th>\n      <th>island</th>\n      <th>site_name</th>\n      <th>subject_group</th>\n      <th>image_name</th>\n      <th>subject_id_x</th>\n      <th>presence_absence</th>\n      <th>count_male-lek</th>\n      <th>count_male-no-lek</th>\n      <th>count_others</th>\n      <th>...</th>\n      <th>subject_id_y</th>\n      <th>median_count</th>\n      <th>mean_count</th>\n      <th>mode_min_count</th>\n      <th>mode_max_count</th>\n      <th>mode_count</th>\n      <th>mode_count_avg</th>\n      <th>users</th>\n      <th>sum_annotations_count</th>\n      <th>annotations_count</th>\n    </tr>\n  </thead>\n  <tbody>\n    <tr>\n      <th>718</th>\n      <td>A. c. trillmichi</td>\n      <td>Santa Fe</td>\n      <td>El Miedo</td>\n      <td>SFM1</td>\n      <td>SFM01-2-2-2_350.jpg</td>\n      <td>47969975</td>\n      <td>Y</td>\n      <td>0</td>\n      <td>1</td>\n      <td>0</td>\n      <td>...</td>\n      <td>47969975.0</td>\n      <td>1.0</td>\n      <td>1.0</td>\n      <td>1.0</td>\n      <td>1.0</td>\n      <td>[1]</td>\n      <td>1.0</td>\n      <td>4.0</td>\n      <td>4.0</td>\n      <td>[1, 1, 1, 1]</td>\n    </tr>\n    <tr>\n      <th>732</th>\n      <td>A. c. trillmichi</td>\n      <td>Santa Fe</td>\n      <td>El Miedo</td>\n      <td>SFM1</td>\n      <td>SFM01-2-2-3_111.jpg</td>\n      <td>47970029</td>\n      <td>Y</td>\n      <td>0</td>\n      <td>0</td>\n      <td>1</td>\n      <td>...</td>\n      <td>47970029.0</td>\n      <td>1.0</td>\n      <td>1.0</td>\n      <td>1.0</td>\n      <td>1.0</td>\n      <td>[1]</td>\n      <td>1.0</td>\n      <td>4.0</td>\n      <td>4.0</td>\n      <td>[1, 1, 1, 1]</td>\n    </tr>\n    <tr>\n      <th>666</th>\n      <td>A. c. trillmichi</td>\n      <td>Santa Fe</td>\n      <td>El Miedo</td>\n      <td>SFM1</td>\n      <td>SFM01-2-2-2_278.jpg</td>\n      <td>47969782</td>\n      <td>Y</td>\n      <td>0</td>\n      <td>0</td>\n      <td>1</td>\n      <td>...</td>\n      <td>47969782.0</td>\n      <td>2.0</td>\n      <td>2.0</td>\n      <td>1.0</td>\n      <td>3.0</td>\n      <td>[1, 3]</td>\n      <td>2.0</td>\n      <td>2.0</td>\n      <td>4.0</td>\n      <td>[1, 3]</td>\n    </tr>\n    <tr>\n      <th>878</th>\n      <td>A. c. trillmichi</td>\n      <td>Santa Fe</td>\n      <td>El Miedo</td>\n      <td>SFM1</td>\n      <td>SFM01-extra_114.jpg</td>\n      <td>47970403</td>\n      <td>Y</td>\n      <td>0</td>\n      <td>1</td>\n      <td>0</td>\n      <td>...</td>\n      <td>47970403.0</td>\n      <td>1.0</td>\n      <td>1.0</td>\n      <td>1.0</td>\n      <td>1.0</td>\n      <td>[1]</td>\n      <td>1.0</td>\n      <td>2.0</td>\n      <td>2.0</td>\n      <td>[1, 1]</td>\n    </tr>\n    <tr>\n      <th>743</th>\n      <td>A. c. trillmichi</td>\n      <td>Santa Fe</td>\n      <td>El Miedo</td>\n      <td>SFM1</td>\n      <td>SFM01-2-2-3_123.jpg</td>\n      <td>47970063</td>\n      <td>Y</td>\n      <td>0</td>\n      <td>0</td>\n      <td>1</td>\n      <td>...</td>\n      <td>47970063.0</td>\n      <td>2.0</td>\n      <td>2.0</td>\n      <td>2.0</td>\n      <td>2.0</td>\n      <td>[2]</td>\n      <td>2.0</td>\n      <td>1.0</td>\n      <td>2.0</td>\n      <td>[2]</td>\n    </tr>\n  </tbody>\n</table>\n<p>5 rows × 25 columns</p>\n</div>"
     },
     "execution_count": 132,
     "metadata": {},
     "output_type": "execute_result"
    }
   ],
   "source": [
    "# There might be records with too few annotations\n",
    "df_comparison[(df_comparison.count_total > 0) & (df_comparison.sum_annotations_count < 5)].sort_values(by=\"users\", ascending=False)"
   ]
  },
  {
   "cell_type": "code",
   "execution_count": 133,
   "id": "6b73fd302520f520",
   "metadata": {
    "collapsed": false,
    "ExecuteTime": {
     "end_time": "2024-04-22T09:13:27.789260Z",
     "start_time": "2024-04-22T09:13:27.748428Z"
    }
   },
   "outputs": [
    {
     "data": {
      "text/plain": "           subspecies    island site_name subject_group           image_name  \\\n61   A. c. trillmichi  Santa Fe  El Miedo          SFM1    SFM01-1-1_155.jpg   \n236  A. c. trillmichi  Santa Fe  El Miedo          SFM1    SFM01-1-2_210.jpg   \n590  A. c. trillmichi  Santa Fe  El Miedo          SFM1  SFM01-2-2-1_321.jpg   \n708  A. c. trillmichi  Santa Fe  El Miedo          SFM1  SFM01-2-2-2_331.jpg   \n718  A. c. trillmichi  Santa Fe  El Miedo          SFM1  SFM01-2-2-2_350.jpg   \n732  A. c. trillmichi  Santa Fe  El Miedo          SFM1  SFM01-2-2-3_111.jpg   \n767  A. c. trillmichi  Santa Fe  El Miedo          SFM1  SFM01-2-2-3_152.jpg   \n448  A. c. trillmichi  Santa Fe  El Miedo          SFM1    SFM01-2-1_305.jpg   \n0    A. c. trillmichi  Santa Fe  El Miedo          SFM1  SFM01-2-2-2_282.jpg   \n577  A. c. trillmichi  Santa Fe  El Miedo          SFM1  SFM01-2-2-1_293.jpg   \n666  A. c. trillmichi  Santa Fe  El Miedo          SFM1  SFM01-2-2-2_278.jpg   \n701  A. c. trillmichi  Santa Fe  El Miedo          SFM1  SFM01-2-2-2_323.jpg   \n878  A. c. trillmichi  Santa Fe  El Miedo          SFM1  SFM01-extra_114.jpg   \n743  A. c. trillmichi  Santa Fe  El Miedo          SFM1  SFM01-2-2-3_123.jpg   \n\n     subject_id_x presence_absence  count_male-lek  count_male-no-lek  \\\n61       47967961                Y               1                  0   \n236      47968359                Y               0                  0   \n590      47969518                Y               0                  1   \n708      47969939                Y               0                  1   \n718      47969975                Y               0                  1   \n732      47970029                Y               0                  0   \n767      47970148                Y               1                  1   \n448      47969049                Y               0                  1   \n0        47969795                Y               0                  2   \n577      47969478                N               0                  0   \n666      47969782                Y               0                  0   \n701      47969912                Y               1                  1   \n878      47970403                Y               0                  1   \n743      47970063                Y               0                  0   \n\n     count_others  ...  subject_id_y  median_count mean_count mode_min_count  \\\n61              3  ...    47967961.0           5.0       5.25            4.0   \n236             1  ...    47968359.0           1.0       1.25            1.0   \n590             0  ...    47969518.0           1.0       1.25            1.0   \n708             2  ...    47969939.0           2.0       2.00            2.0   \n718             0  ...    47969975.0           1.0       1.00            1.0   \n732             1  ...    47970029.0           1.0       1.00            1.0   \n767             6  ...    47970148.0           6.5       5.50            1.0   \n448             1  ...    47969049.0           2.0       2.33            1.0   \n0               0  ...    47969795.0           2.5       2.50            2.0   \n577             9  ...    47969478.0           7.5       7.50            6.0   \n666             1  ...    47969782.0           2.0       2.00            1.0   \n701             4  ...    47969912.0           7.5       7.50            4.0   \n878             0  ...    47970403.0           1.0       1.00            1.0   \n743             1  ...    47970063.0           2.0       2.00            2.0   \n\n    mode_max_count    mode_count  mode_count_avg  users  \\\n61             4.0           [4]        4.000000    4.0   \n236            1.0           [1]        1.000000    4.0   \n590            1.0           [1]        1.000000    4.0   \n708            2.0           [2]        2.000000    4.0   \n718            1.0           [1]        1.000000    4.0   \n732            1.0           [1]        1.000000    4.0   \n767            8.0  [1, 6, 7, 8]        5.500000    4.0   \n448            4.0     [1, 2, 4]        2.333333    3.0   \n0              3.0        [2, 3]        2.500000    2.0   \n577            9.0        [6, 9]        7.500000    2.0   \n666            3.0        [1, 3]        2.000000    2.0   \n701           11.0       [4, 11]        7.500000    2.0   \n878            1.0           [1]        1.000000    2.0   \n743            2.0           [2]        2.000000    1.0   \n\n     sum_annotations_count  annotations_count  \n61                    21.0       [4, 4, 6, 7]  \n236                    5.0       [1, 1, 1, 2]  \n590                    5.0       [1, 1, 1, 2]  \n708                    8.0       [1, 2, 2, 3]  \n718                    4.0       [1, 1, 1, 1]  \n732                    4.0       [1, 1, 1, 1]  \n767                   22.0       [1, 6, 7, 8]  \n448                    7.0          [1, 2, 4]  \n0                      5.0             [2, 3]  \n577                   15.0             [6, 9]  \n666                    4.0             [1, 3]  \n701                   15.0            [4, 11]  \n878                    2.0             [1, 1]  \n743                    2.0                [2]  \n\n[14 rows x 25 columns]",
      "text/html": "<div>\n<style scoped>\n    .dataframe tbody tr th:only-of-type {\n        vertical-align: middle;\n    }\n\n    .dataframe tbody tr th {\n        vertical-align: top;\n    }\n\n    .dataframe thead th {\n        text-align: right;\n    }\n</style>\n<table border=\"1\" class=\"dataframe\">\n  <thead>\n    <tr style=\"text-align: right;\">\n      <th></th>\n      <th>subspecies</th>\n      <th>island</th>\n      <th>site_name</th>\n      <th>subject_group</th>\n      <th>image_name</th>\n      <th>subject_id_x</th>\n      <th>presence_absence</th>\n      <th>count_male-lek</th>\n      <th>count_male-no-lek</th>\n      <th>count_others</th>\n      <th>...</th>\n      <th>subject_id_y</th>\n      <th>median_count</th>\n      <th>mean_count</th>\n      <th>mode_min_count</th>\n      <th>mode_max_count</th>\n      <th>mode_count</th>\n      <th>mode_count_avg</th>\n      <th>users</th>\n      <th>sum_annotations_count</th>\n      <th>annotations_count</th>\n    </tr>\n  </thead>\n  <tbody>\n    <tr>\n      <th>61</th>\n      <td>A. c. trillmichi</td>\n      <td>Santa Fe</td>\n      <td>El Miedo</td>\n      <td>SFM1</td>\n      <td>SFM01-1-1_155.jpg</td>\n      <td>47967961</td>\n      <td>Y</td>\n      <td>1</td>\n      <td>0</td>\n      <td>3</td>\n      <td>...</td>\n      <td>47967961.0</td>\n      <td>5.0</td>\n      <td>5.25</td>\n      <td>4.0</td>\n      <td>4.0</td>\n      <td>[4]</td>\n      <td>4.000000</td>\n      <td>4.0</td>\n      <td>21.0</td>\n      <td>[4, 4, 6, 7]</td>\n    </tr>\n    <tr>\n      <th>236</th>\n      <td>A. c. trillmichi</td>\n      <td>Santa Fe</td>\n      <td>El Miedo</td>\n      <td>SFM1</td>\n      <td>SFM01-1-2_210.jpg</td>\n      <td>47968359</td>\n      <td>Y</td>\n      <td>0</td>\n      <td>0</td>\n      <td>1</td>\n      <td>...</td>\n      <td>47968359.0</td>\n      <td>1.0</td>\n      <td>1.25</td>\n      <td>1.0</td>\n      <td>1.0</td>\n      <td>[1]</td>\n      <td>1.000000</td>\n      <td>4.0</td>\n      <td>5.0</td>\n      <td>[1, 1, 1, 2]</td>\n    </tr>\n    <tr>\n      <th>590</th>\n      <td>A. c. trillmichi</td>\n      <td>Santa Fe</td>\n      <td>El Miedo</td>\n      <td>SFM1</td>\n      <td>SFM01-2-2-1_321.jpg</td>\n      <td>47969518</td>\n      <td>Y</td>\n      <td>0</td>\n      <td>1</td>\n      <td>0</td>\n      <td>...</td>\n      <td>47969518.0</td>\n      <td>1.0</td>\n      <td>1.25</td>\n      <td>1.0</td>\n      <td>1.0</td>\n      <td>[1]</td>\n      <td>1.000000</td>\n      <td>4.0</td>\n      <td>5.0</td>\n      <td>[1, 1, 1, 2]</td>\n    </tr>\n    <tr>\n      <th>708</th>\n      <td>A. c. trillmichi</td>\n      <td>Santa Fe</td>\n      <td>El Miedo</td>\n      <td>SFM1</td>\n      <td>SFM01-2-2-2_331.jpg</td>\n      <td>47969939</td>\n      <td>Y</td>\n      <td>0</td>\n      <td>1</td>\n      <td>2</td>\n      <td>...</td>\n      <td>47969939.0</td>\n      <td>2.0</td>\n      <td>2.00</td>\n      <td>2.0</td>\n      <td>2.0</td>\n      <td>[2]</td>\n      <td>2.000000</td>\n      <td>4.0</td>\n      <td>8.0</td>\n      <td>[1, 2, 2, 3]</td>\n    </tr>\n    <tr>\n      <th>718</th>\n      <td>A. c. trillmichi</td>\n      <td>Santa Fe</td>\n      <td>El Miedo</td>\n      <td>SFM1</td>\n      <td>SFM01-2-2-2_350.jpg</td>\n      <td>47969975</td>\n      <td>Y</td>\n      <td>0</td>\n      <td>1</td>\n      <td>0</td>\n      <td>...</td>\n      <td>47969975.0</td>\n      <td>1.0</td>\n      <td>1.00</td>\n      <td>1.0</td>\n      <td>1.0</td>\n      <td>[1]</td>\n      <td>1.000000</td>\n      <td>4.0</td>\n      <td>4.0</td>\n      <td>[1, 1, 1, 1]</td>\n    </tr>\n    <tr>\n      <th>732</th>\n      <td>A. c. trillmichi</td>\n      <td>Santa Fe</td>\n      <td>El Miedo</td>\n      <td>SFM1</td>\n      <td>SFM01-2-2-3_111.jpg</td>\n      <td>47970029</td>\n      <td>Y</td>\n      <td>0</td>\n      <td>0</td>\n      <td>1</td>\n      <td>...</td>\n      <td>47970029.0</td>\n      <td>1.0</td>\n      <td>1.00</td>\n      <td>1.0</td>\n      <td>1.0</td>\n      <td>[1]</td>\n      <td>1.000000</td>\n      <td>4.0</td>\n      <td>4.0</td>\n      <td>[1, 1, 1, 1]</td>\n    </tr>\n    <tr>\n      <th>767</th>\n      <td>A. c. trillmichi</td>\n      <td>Santa Fe</td>\n      <td>El Miedo</td>\n      <td>SFM1</td>\n      <td>SFM01-2-2-3_152.jpg</td>\n      <td>47970148</td>\n      <td>Y</td>\n      <td>1</td>\n      <td>1</td>\n      <td>6</td>\n      <td>...</td>\n      <td>47970148.0</td>\n      <td>6.5</td>\n      <td>5.50</td>\n      <td>1.0</td>\n      <td>8.0</td>\n      <td>[1, 6, 7, 8]</td>\n      <td>5.500000</td>\n      <td>4.0</td>\n      <td>22.0</td>\n      <td>[1, 6, 7, 8]</td>\n    </tr>\n    <tr>\n      <th>448</th>\n      <td>A. c. trillmichi</td>\n      <td>Santa Fe</td>\n      <td>El Miedo</td>\n      <td>SFM1</td>\n      <td>SFM01-2-1_305.jpg</td>\n      <td>47969049</td>\n      <td>Y</td>\n      <td>0</td>\n      <td>1</td>\n      <td>1</td>\n      <td>...</td>\n      <td>47969049.0</td>\n      <td>2.0</td>\n      <td>2.33</td>\n      <td>1.0</td>\n      <td>4.0</td>\n      <td>[1, 2, 4]</td>\n      <td>2.333333</td>\n      <td>3.0</td>\n      <td>7.0</td>\n      <td>[1, 2, 4]</td>\n    </tr>\n    <tr>\n      <th>0</th>\n      <td>A. c. trillmichi</td>\n      <td>Santa Fe</td>\n      <td>El Miedo</td>\n      <td>SFM1</td>\n      <td>SFM01-2-2-2_282.jpg</td>\n      <td>47969795</td>\n      <td>Y</td>\n      <td>0</td>\n      <td>2</td>\n      <td>0</td>\n      <td>...</td>\n      <td>47969795.0</td>\n      <td>2.5</td>\n      <td>2.50</td>\n      <td>2.0</td>\n      <td>3.0</td>\n      <td>[2, 3]</td>\n      <td>2.500000</td>\n      <td>2.0</td>\n      <td>5.0</td>\n      <td>[2, 3]</td>\n    </tr>\n    <tr>\n      <th>577</th>\n      <td>A. c. trillmichi</td>\n      <td>Santa Fe</td>\n      <td>El Miedo</td>\n      <td>SFM1</td>\n      <td>SFM01-2-2-1_293.jpg</td>\n      <td>47969478</td>\n      <td>N</td>\n      <td>0</td>\n      <td>0</td>\n      <td>9</td>\n      <td>...</td>\n      <td>47969478.0</td>\n      <td>7.5</td>\n      <td>7.50</td>\n      <td>6.0</td>\n      <td>9.0</td>\n      <td>[6, 9]</td>\n      <td>7.500000</td>\n      <td>2.0</td>\n      <td>15.0</td>\n      <td>[6, 9]</td>\n    </tr>\n    <tr>\n      <th>666</th>\n      <td>A. c. trillmichi</td>\n      <td>Santa Fe</td>\n      <td>El Miedo</td>\n      <td>SFM1</td>\n      <td>SFM01-2-2-2_278.jpg</td>\n      <td>47969782</td>\n      <td>Y</td>\n      <td>0</td>\n      <td>0</td>\n      <td>1</td>\n      <td>...</td>\n      <td>47969782.0</td>\n      <td>2.0</td>\n      <td>2.00</td>\n      <td>1.0</td>\n      <td>3.0</td>\n      <td>[1, 3]</td>\n      <td>2.000000</td>\n      <td>2.0</td>\n      <td>4.0</td>\n      <td>[1, 3]</td>\n    </tr>\n    <tr>\n      <th>701</th>\n      <td>A. c. trillmichi</td>\n      <td>Santa Fe</td>\n      <td>El Miedo</td>\n      <td>SFM1</td>\n      <td>SFM01-2-2-2_323.jpg</td>\n      <td>47969912</td>\n      <td>Y</td>\n      <td>1</td>\n      <td>1</td>\n      <td>4</td>\n      <td>...</td>\n      <td>47969912.0</td>\n      <td>7.5</td>\n      <td>7.50</td>\n      <td>4.0</td>\n      <td>11.0</td>\n      <td>[4, 11]</td>\n      <td>7.500000</td>\n      <td>2.0</td>\n      <td>15.0</td>\n      <td>[4, 11]</td>\n    </tr>\n    <tr>\n      <th>878</th>\n      <td>A. c. trillmichi</td>\n      <td>Santa Fe</td>\n      <td>El Miedo</td>\n      <td>SFM1</td>\n      <td>SFM01-extra_114.jpg</td>\n      <td>47970403</td>\n      <td>Y</td>\n      <td>0</td>\n      <td>1</td>\n      <td>0</td>\n      <td>...</td>\n      <td>47970403.0</td>\n      <td>1.0</td>\n      <td>1.00</td>\n      <td>1.0</td>\n      <td>1.0</td>\n      <td>[1]</td>\n      <td>1.000000</td>\n      <td>2.0</td>\n      <td>2.0</td>\n      <td>[1, 1]</td>\n    </tr>\n    <tr>\n      <th>743</th>\n      <td>A. c. trillmichi</td>\n      <td>Santa Fe</td>\n      <td>El Miedo</td>\n      <td>SFM1</td>\n      <td>SFM01-2-2-3_123.jpg</td>\n      <td>47970063</td>\n      <td>Y</td>\n      <td>0</td>\n      <td>0</td>\n      <td>1</td>\n      <td>...</td>\n      <td>47970063.0</td>\n      <td>2.0</td>\n      <td>2.00</td>\n      <td>2.0</td>\n      <td>2.0</td>\n      <td>[2]</td>\n      <td>2.000000</td>\n      <td>1.0</td>\n      <td>2.0</td>\n      <td>[2]</td>\n    </tr>\n  </tbody>\n</table>\n<p>14 rows × 25 columns</p>\n</div>"
     },
     "execution_count": 133,
     "metadata": {},
     "output_type": "execute_result"
    }
   ],
   "source": [
    "# images with an expert count of more than 0 and less than 5 different users\n",
    "df_comparison[(df_comparison.count_total > 0) & (df_comparison.users < 5)].sort_values(by=\"users\", ascending=False)\n"
   ]
  },
  {
   "cell_type": "code",
   "execution_count": 134,
   "id": "5920de4659a59e9e",
   "metadata": {
    "collapsed": false,
    "ExecuteTime": {
     "end_time": "2024-04-22T09:13:27.809180Z",
     "start_time": "2024-04-22T09:13:27.790101Z"
    }
   },
   "outputs": [
    {
     "data": {
      "text/plain": "422"
     },
     "execution_count": 134,
     "metadata": {},
     "output_type": "execute_result"
    }
   ],
   "source": [
    "df_comparison[\"count_total\"].sum()"
   ]
  },
  {
   "cell_type": "markdown",
   "id": "4bd536b6ef06de7c",
   "metadata": {
    "collapsed": false
   },
   "source": [
    "### Fill NaN values with 0 because the errors can't be calculated otherwise"
   ]
  },
  {
   "cell_type": "code",
   "execution_count": 135,
   "id": "50596f5c07d7bd7c",
   "metadata": {
    "collapsed": false,
    "ExecuteTime": {
     "end_time": "2024-04-22T09:13:27.831309Z",
     "start_time": "2024-04-22T09:13:27.809881Z"
    }
   },
   "outputs": [],
   "source": [
    "\n",
    "## Fill NaN values with 0 because the errors can't be calculated otherwise\n",
    "df_comparison.fillna(0, inplace=True)\n"
   ]
  },
  {
   "cell_type": "code",
   "execution_count": 136,
   "id": "a538f869681967c",
   "metadata": {
    "collapsed": false,
    "ExecuteTime": {
     "end_time": "2024-04-22T09:13:27.854868Z",
     "start_time": "2024-04-22T09:13:27.832195Z"
    }
   },
   "outputs": [
    {
     "data": {
      "text/plain": "median_count_rmse    0.626731\nmean_count_rmse      0.584600\ndtype: float64"
     },
     "execution_count": 136,
     "metadata": {},
     "output_type": "execute_result"
    }
   ],
   "source": [
    "\n",
    "mse_errors[\"median_count_rmse\"] = mean_squared_error(df_comparison.count_total, df_comparison.median_count,\n",
    "                                                     squared=False)\n",
    "mse_errors[\"mean_count_rmse\"] = mean_squared_error(df_comparison.count_total, df_comparison.mean_count, squared=False)\n",
    "\n",
    "pd.Series(mse_errors)"
   ]
  },
  {
   "cell_type": "code",
   "execution_count": 137,
   "id": "d0b61f01-8db0-48a6-8a4e-5ff80e6f86e4",
   "metadata": {
    "ExecuteTime": {
     "end_time": "2024-04-22T09:13:27.890614Z",
     "start_time": "2024-04-22T09:13:27.859617Z"
    }
   },
   "outputs": [
    {
     "data": {
      "text/plain": "            subspecies         island                  site_name  \\\n0     A. c. trillmichi       Santa Fe                   El Miedo   \n1     A. c. trillmichi       Santa Fe                   El Miedo   \n2     A. c. trillmichi       Santa Fe                   El Miedo   \n3     A. c. trillmichi       Santa Fe                   El Miedo   \n4     A. c. trillmichi       Santa Fe                   El Miedo   \n...                ...            ...                        ...   \n2728    A. c. godzilla  San Cristobal  Playa Blanca (Punta Pitt)   \n2729    A. c. godzilla  San Cristobal  Playa Blanca (Punta Pitt)   \n2730    A. c. godzilla  San Cristobal  Playa Blanca (Punta Pitt)   \n2731    A. c. godzilla  San Cristobal  Playa Blanca (Punta Pitt)   \n2732    A. c. godzilla  San Cristobal  Playa Blanca (Punta Pitt)   \n\n     subject_group           image_name  subject_id_x presence_absence  \\\n0             SFM1  SFM01-2-2-2_282.jpg      47969795                Y   \n1             SFM1  SFM01-2-2-1_344.jpg      47969531                Y   \n2             SFM1  SFM01-2-2-2_270.jpg      47969760                Y   \n3             SFM1  SFM01-2-2-2_289.jpg      47969815                Y   \n4             SFM1  SFM01-2-2-2_291.jpg      47969821                Y   \n...            ...                  ...           ...              ...   \n2728         SRPB1    SRPB02-2-3_95.jpg      47990261                N   \n2729         SRPB1    SRPB02-2-3_96.jpg      47990268                N   \n2730         SRPB1    SRPB02-2-3_97.jpg      47990280                N   \n2731         SRPB1    SRPB02-2-3_98.jpg      47990285                N   \n2732         SRPB1    SRPB02-2-3_99.jpg      47990290                N   \n\n      count_male-lek  count_male-no-lek  count_others  ...  subject_id_y  \\\n0                  0                  2             0  ...    47969795.0   \n1                  0                  2             2  ...    47969531.0   \n2                  0                  0             0  ...           0.0   \n3                  0                  0             0  ...           0.0   \n4                  0                  0             0  ...           0.0   \n...              ...                ...           ...  ...           ...   \n2728               0                  0             0  ...           0.0   \n2729               0                  0             0  ...           0.0   \n2730               0                  0             0  ...           0.0   \n2731               0                  0             0  ...           0.0   \n2732               0                  0             0  ...           0.0   \n\n      median_count mean_count mode_min_count mode_max_count  mode_count  \\\n0              2.5       2.50            2.0            3.0      [2, 3]   \n1              1.0       1.44            1.0            1.0         [1]   \n2              0.0       0.00            0.0            0.0           0   \n3              0.0       0.00            0.0            0.0           0   \n4              0.0       0.00            0.0            0.0           0   \n...            ...        ...            ...            ...         ...   \n2728           0.0       0.00            0.0            0.0           0   \n2729           0.0       0.00            0.0            0.0           0   \n2730           0.0       0.00            0.0            0.0           0   \n2731           0.0       0.00            0.0            0.0           0   \n2732           0.0       0.00            0.0            0.0           0   \n\n      mode_count_avg  users  sum_annotations_count  \\\n0                2.5    2.0                    5.0   \n1                1.0    9.0                   13.0   \n2                0.0    0.0                    0.0   \n3                0.0    0.0                    0.0   \n4                0.0    0.0                    0.0   \n...              ...    ...                    ...   \n2728             0.0    0.0                    0.0   \n2729             0.0    0.0                    0.0   \n2730             0.0    0.0                    0.0   \n2731             0.0    0.0                    0.0   \n2732             0.0    0.0                    0.0   \n\n                annotations_count  \n0                          [2, 3]  \n1     [1, 1, 1, 1, 1, 1, 2, 2, 3]  \n2                               0  \n3                               0  \n4                               0  \n...                           ...  \n2728                            0  \n2729                            0  \n2730                            0  \n2731                            0  \n2732                            0  \n\n[2733 rows x 25 columns]",
      "text/html": "<div>\n<style scoped>\n    .dataframe tbody tr th:only-of-type {\n        vertical-align: middle;\n    }\n\n    .dataframe tbody tr th {\n        vertical-align: top;\n    }\n\n    .dataframe thead th {\n        text-align: right;\n    }\n</style>\n<table border=\"1\" class=\"dataframe\">\n  <thead>\n    <tr style=\"text-align: right;\">\n      <th></th>\n      <th>subspecies</th>\n      <th>island</th>\n      <th>site_name</th>\n      <th>subject_group</th>\n      <th>image_name</th>\n      <th>subject_id_x</th>\n      <th>presence_absence</th>\n      <th>count_male-lek</th>\n      <th>count_male-no-lek</th>\n      <th>count_others</th>\n      <th>...</th>\n      <th>subject_id_y</th>\n      <th>median_count</th>\n      <th>mean_count</th>\n      <th>mode_min_count</th>\n      <th>mode_max_count</th>\n      <th>mode_count</th>\n      <th>mode_count_avg</th>\n      <th>users</th>\n      <th>sum_annotations_count</th>\n      <th>annotations_count</th>\n    </tr>\n  </thead>\n  <tbody>\n    <tr>\n      <th>0</th>\n      <td>A. c. trillmichi</td>\n      <td>Santa Fe</td>\n      <td>El Miedo</td>\n      <td>SFM1</td>\n      <td>SFM01-2-2-2_282.jpg</td>\n      <td>47969795</td>\n      <td>Y</td>\n      <td>0</td>\n      <td>2</td>\n      <td>0</td>\n      <td>...</td>\n      <td>47969795.0</td>\n      <td>2.5</td>\n      <td>2.50</td>\n      <td>2.0</td>\n      <td>3.0</td>\n      <td>[2, 3]</td>\n      <td>2.5</td>\n      <td>2.0</td>\n      <td>5.0</td>\n      <td>[2, 3]</td>\n    </tr>\n    <tr>\n      <th>1</th>\n      <td>A. c. trillmichi</td>\n      <td>Santa Fe</td>\n      <td>El Miedo</td>\n      <td>SFM1</td>\n      <td>SFM01-2-2-1_344.jpg</td>\n      <td>47969531</td>\n      <td>Y</td>\n      <td>0</td>\n      <td>2</td>\n      <td>2</td>\n      <td>...</td>\n      <td>47969531.0</td>\n      <td>1.0</td>\n      <td>1.44</td>\n      <td>1.0</td>\n      <td>1.0</td>\n      <td>[1]</td>\n      <td>1.0</td>\n      <td>9.0</td>\n      <td>13.0</td>\n      <td>[1, 1, 1, 1, 1, 1, 2, 2, 3]</td>\n    </tr>\n    <tr>\n      <th>2</th>\n      <td>A. c. trillmichi</td>\n      <td>Santa Fe</td>\n      <td>El Miedo</td>\n      <td>SFM1</td>\n      <td>SFM01-2-2-2_270.jpg</td>\n      <td>47969760</td>\n      <td>Y</td>\n      <td>0</td>\n      <td>0</td>\n      <td>0</td>\n      <td>...</td>\n      <td>0.0</td>\n      <td>0.0</td>\n      <td>0.00</td>\n      <td>0.0</td>\n      <td>0.0</td>\n      <td>0</td>\n      <td>0.0</td>\n      <td>0.0</td>\n      <td>0.0</td>\n      <td>0</td>\n    </tr>\n    <tr>\n      <th>3</th>\n      <td>A. c. trillmichi</td>\n      <td>Santa Fe</td>\n      <td>El Miedo</td>\n      <td>SFM1</td>\n      <td>SFM01-2-2-2_289.jpg</td>\n      <td>47969815</td>\n      <td>Y</td>\n      <td>0</td>\n      <td>0</td>\n      <td>0</td>\n      <td>...</td>\n      <td>0.0</td>\n      <td>0.0</td>\n      <td>0.00</td>\n      <td>0.0</td>\n      <td>0.0</td>\n      <td>0</td>\n      <td>0.0</td>\n      <td>0.0</td>\n      <td>0.0</td>\n      <td>0</td>\n    </tr>\n    <tr>\n      <th>4</th>\n      <td>A. c. trillmichi</td>\n      <td>Santa Fe</td>\n      <td>El Miedo</td>\n      <td>SFM1</td>\n      <td>SFM01-2-2-2_291.jpg</td>\n      <td>47969821</td>\n      <td>Y</td>\n      <td>0</td>\n      <td>0</td>\n      <td>0</td>\n      <td>...</td>\n      <td>0.0</td>\n      <td>0.0</td>\n      <td>0.00</td>\n      <td>0.0</td>\n      <td>0.0</td>\n      <td>0</td>\n      <td>0.0</td>\n      <td>0.0</td>\n      <td>0.0</td>\n      <td>0</td>\n    </tr>\n    <tr>\n      <th>...</th>\n      <td>...</td>\n      <td>...</td>\n      <td>...</td>\n      <td>...</td>\n      <td>...</td>\n      <td>...</td>\n      <td>...</td>\n      <td>...</td>\n      <td>...</td>\n      <td>...</td>\n      <td>...</td>\n      <td>...</td>\n      <td>...</td>\n      <td>...</td>\n      <td>...</td>\n      <td>...</td>\n      <td>...</td>\n      <td>...</td>\n      <td>...</td>\n      <td>...</td>\n      <td>...</td>\n    </tr>\n    <tr>\n      <th>2728</th>\n      <td>A. c. godzilla</td>\n      <td>San Cristobal</td>\n      <td>Playa Blanca (Punta Pitt)</td>\n      <td>SRPB1</td>\n      <td>SRPB02-2-3_95.jpg</td>\n      <td>47990261</td>\n      <td>N</td>\n      <td>0</td>\n      <td>0</td>\n      <td>0</td>\n      <td>...</td>\n      <td>0.0</td>\n      <td>0.0</td>\n      <td>0.00</td>\n      <td>0.0</td>\n      <td>0.0</td>\n      <td>0</td>\n      <td>0.0</td>\n      <td>0.0</td>\n      <td>0.0</td>\n      <td>0</td>\n    </tr>\n    <tr>\n      <th>2729</th>\n      <td>A. c. godzilla</td>\n      <td>San Cristobal</td>\n      <td>Playa Blanca (Punta Pitt)</td>\n      <td>SRPB1</td>\n      <td>SRPB02-2-3_96.jpg</td>\n      <td>47990268</td>\n      <td>N</td>\n      <td>0</td>\n      <td>0</td>\n      <td>0</td>\n      <td>...</td>\n      <td>0.0</td>\n      <td>0.0</td>\n      <td>0.00</td>\n      <td>0.0</td>\n      <td>0.0</td>\n      <td>0</td>\n      <td>0.0</td>\n      <td>0.0</td>\n      <td>0.0</td>\n      <td>0</td>\n    </tr>\n    <tr>\n      <th>2730</th>\n      <td>A. c. godzilla</td>\n      <td>San Cristobal</td>\n      <td>Playa Blanca (Punta Pitt)</td>\n      <td>SRPB1</td>\n      <td>SRPB02-2-3_97.jpg</td>\n      <td>47990280</td>\n      <td>N</td>\n      <td>0</td>\n      <td>0</td>\n      <td>0</td>\n      <td>...</td>\n      <td>0.0</td>\n      <td>0.0</td>\n      <td>0.00</td>\n      <td>0.0</td>\n      <td>0.0</td>\n      <td>0</td>\n      <td>0.0</td>\n      <td>0.0</td>\n      <td>0.0</td>\n      <td>0</td>\n    </tr>\n    <tr>\n      <th>2731</th>\n      <td>A. c. godzilla</td>\n      <td>San Cristobal</td>\n      <td>Playa Blanca (Punta Pitt)</td>\n      <td>SRPB1</td>\n      <td>SRPB02-2-3_98.jpg</td>\n      <td>47990285</td>\n      <td>N</td>\n      <td>0</td>\n      <td>0</td>\n      <td>0</td>\n      <td>...</td>\n      <td>0.0</td>\n      <td>0.0</td>\n      <td>0.00</td>\n      <td>0.0</td>\n      <td>0.0</td>\n      <td>0</td>\n      <td>0.0</td>\n      <td>0.0</td>\n      <td>0.0</td>\n      <td>0</td>\n    </tr>\n    <tr>\n      <th>2732</th>\n      <td>A. c. godzilla</td>\n      <td>San Cristobal</td>\n      <td>Playa Blanca (Punta Pitt)</td>\n      <td>SRPB1</td>\n      <td>SRPB02-2-3_99.jpg</td>\n      <td>47990290</td>\n      <td>N</td>\n      <td>0</td>\n      <td>0</td>\n      <td>0</td>\n      <td>...</td>\n      <td>0.0</td>\n      <td>0.0</td>\n      <td>0.00</td>\n      <td>0.0</td>\n      <td>0.0</td>\n      <td>0</td>\n      <td>0.0</td>\n      <td>0.0</td>\n      <td>0.0</td>\n      <td>0</td>\n    </tr>\n  </tbody>\n</table>\n<p>2733 rows × 25 columns</p>\n</div>"
     },
     "execution_count": 137,
     "metadata": {},
     "output_type": "execute_result"
    }
   ],
   "source": [
    "df_comparison"
   ]
  },
  {
   "cell_type": "code",
   "execution_count": 138,
   "id": "8473f1659f70c47f",
   "metadata": {
    "collapsed": false,
    "ExecuteTime": {
     "end_time": "2024-04-22T09:13:27.912540Z",
     "start_time": "2024-04-22T09:13:27.891769Z"
    }
   },
   "outputs": [
    {
     "data": {
      "text/plain": "median_count_rmse    0.626731\nmean_count_rmse      0.584600\ndtype: float64"
     },
     "execution_count": 138,
     "metadata": {},
     "output_type": "execute_result"
    }
   ],
   "source": [
    "\n",
    "pd.Series(mse_errors)"
   ]
  },
  {
   "cell_type": "code",
   "execution_count": 139,
   "id": "897c74aacd7fda9",
   "metadata": {
    "collapsed": false,
    "ExecuteTime": {
     "end_time": "2024-04-22T09:13:27.943079Z",
     "start_time": "2024-04-22T09:13:27.913309Z"
    }
   },
   "outputs": [
    {
     "data": {
      "text/plain": "            subspecies         island                  site_name  \\\n0     A. c. trillmichi       Santa Fe                   El Miedo   \n1     A. c. trillmichi       Santa Fe                   El Miedo   \n2     A. c. trillmichi       Santa Fe                   El Miedo   \n3     A. c. trillmichi       Santa Fe                   El Miedo   \n4     A. c. trillmichi       Santa Fe                   El Miedo   \n...                ...            ...                        ...   \n2728    A. c. godzilla  San Cristobal  Playa Blanca (Punta Pitt)   \n2729    A. c. godzilla  San Cristobal  Playa Blanca (Punta Pitt)   \n2730    A. c. godzilla  San Cristobal  Playa Blanca (Punta Pitt)   \n2731    A. c. godzilla  San Cristobal  Playa Blanca (Punta Pitt)   \n2732    A. c. godzilla  San Cristobal  Playa Blanca (Punta Pitt)   \n\n     subject_group           image_name  subject_id_x presence_absence  \\\n0             SFM1  SFM01-2-2-2_282.jpg      47969795                Y   \n1             SFM1  SFM01-2-2-1_344.jpg      47969531                Y   \n2             SFM1  SFM01-2-2-2_270.jpg      47969760                Y   \n3             SFM1  SFM01-2-2-2_289.jpg      47969815                Y   \n4             SFM1  SFM01-2-2-2_291.jpg      47969821                Y   \n...            ...                  ...           ...              ...   \n2728         SRPB1    SRPB02-2-3_95.jpg      47990261                N   \n2729         SRPB1    SRPB02-2-3_96.jpg      47990268                N   \n2730         SRPB1    SRPB02-2-3_97.jpg      47990280                N   \n2731         SRPB1    SRPB02-2-3_98.jpg      47990285                N   \n2732         SRPB1    SRPB02-2-3_99.jpg      47990290                N   \n\n      count_male-lek  count_male-no-lek  count_others  ...  subject_id_y  \\\n0                  0                  2             0  ...    47969795.0   \n1                  0                  2             2  ...    47969531.0   \n2                  0                  0             0  ...           0.0   \n3                  0                  0             0  ...           0.0   \n4                  0                  0             0  ...           0.0   \n...              ...                ...           ...  ...           ...   \n2728               0                  0             0  ...           0.0   \n2729               0                  0             0  ...           0.0   \n2730               0                  0             0  ...           0.0   \n2731               0                  0             0  ...           0.0   \n2732               0                  0             0  ...           0.0   \n\n      median_count mean_count mode_min_count mode_max_count  mode_count  \\\n0              2.5       2.50            2.0            3.0      [2, 3]   \n1              1.0       1.44            1.0            1.0         [1]   \n2              0.0       0.00            0.0            0.0           0   \n3              0.0       0.00            0.0            0.0           0   \n4              0.0       0.00            0.0            0.0           0   \n...            ...        ...            ...            ...         ...   \n2728           0.0       0.00            0.0            0.0           0   \n2729           0.0       0.00            0.0            0.0           0   \n2730           0.0       0.00            0.0            0.0           0   \n2731           0.0       0.00            0.0            0.0           0   \n2732           0.0       0.00            0.0            0.0           0   \n\n      mode_count_avg  users  sum_annotations_count  \\\n0                2.5    2.0                    5.0   \n1                1.0    9.0                   13.0   \n2                0.0    0.0                    0.0   \n3                0.0    0.0                    0.0   \n4                0.0    0.0                    0.0   \n...              ...    ...                    ...   \n2728             0.0    0.0                    0.0   \n2729             0.0    0.0                    0.0   \n2730             0.0    0.0                    0.0   \n2731             0.0    0.0                    0.0   \n2732             0.0    0.0                    0.0   \n\n                annotations_count  \n0                          [2, 3]  \n1     [1, 1, 1, 1, 1, 1, 2, 2, 3]  \n2                               0  \n3                               0  \n4                               0  \n...                           ...  \n2728                            0  \n2729                            0  \n2730                            0  \n2731                            0  \n2732                            0  \n\n[2733 rows x 25 columns]",
      "text/html": "<div>\n<style scoped>\n    .dataframe tbody tr th:only-of-type {\n        vertical-align: middle;\n    }\n\n    .dataframe tbody tr th {\n        vertical-align: top;\n    }\n\n    .dataframe thead th {\n        text-align: right;\n    }\n</style>\n<table border=\"1\" class=\"dataframe\">\n  <thead>\n    <tr style=\"text-align: right;\">\n      <th></th>\n      <th>subspecies</th>\n      <th>island</th>\n      <th>site_name</th>\n      <th>subject_group</th>\n      <th>image_name</th>\n      <th>subject_id_x</th>\n      <th>presence_absence</th>\n      <th>count_male-lek</th>\n      <th>count_male-no-lek</th>\n      <th>count_others</th>\n      <th>...</th>\n      <th>subject_id_y</th>\n      <th>median_count</th>\n      <th>mean_count</th>\n      <th>mode_min_count</th>\n      <th>mode_max_count</th>\n      <th>mode_count</th>\n      <th>mode_count_avg</th>\n      <th>users</th>\n      <th>sum_annotations_count</th>\n      <th>annotations_count</th>\n    </tr>\n  </thead>\n  <tbody>\n    <tr>\n      <th>0</th>\n      <td>A. c. trillmichi</td>\n      <td>Santa Fe</td>\n      <td>El Miedo</td>\n      <td>SFM1</td>\n      <td>SFM01-2-2-2_282.jpg</td>\n      <td>47969795</td>\n      <td>Y</td>\n      <td>0</td>\n      <td>2</td>\n      <td>0</td>\n      <td>...</td>\n      <td>47969795.0</td>\n      <td>2.5</td>\n      <td>2.50</td>\n      <td>2.0</td>\n      <td>3.0</td>\n      <td>[2, 3]</td>\n      <td>2.5</td>\n      <td>2.0</td>\n      <td>5.0</td>\n      <td>[2, 3]</td>\n    </tr>\n    <tr>\n      <th>1</th>\n      <td>A. c. trillmichi</td>\n      <td>Santa Fe</td>\n      <td>El Miedo</td>\n      <td>SFM1</td>\n      <td>SFM01-2-2-1_344.jpg</td>\n      <td>47969531</td>\n      <td>Y</td>\n      <td>0</td>\n      <td>2</td>\n      <td>2</td>\n      <td>...</td>\n      <td>47969531.0</td>\n      <td>1.0</td>\n      <td>1.44</td>\n      <td>1.0</td>\n      <td>1.0</td>\n      <td>[1]</td>\n      <td>1.0</td>\n      <td>9.0</td>\n      <td>13.0</td>\n      <td>[1, 1, 1, 1, 1, 1, 2, 2, 3]</td>\n    </tr>\n    <tr>\n      <th>2</th>\n      <td>A. c. trillmichi</td>\n      <td>Santa Fe</td>\n      <td>El Miedo</td>\n      <td>SFM1</td>\n      <td>SFM01-2-2-2_270.jpg</td>\n      <td>47969760</td>\n      <td>Y</td>\n      <td>0</td>\n      <td>0</td>\n      <td>0</td>\n      <td>...</td>\n      <td>0.0</td>\n      <td>0.0</td>\n      <td>0.00</td>\n      <td>0.0</td>\n      <td>0.0</td>\n      <td>0</td>\n      <td>0.0</td>\n      <td>0.0</td>\n      <td>0.0</td>\n      <td>0</td>\n    </tr>\n    <tr>\n      <th>3</th>\n      <td>A. c. trillmichi</td>\n      <td>Santa Fe</td>\n      <td>El Miedo</td>\n      <td>SFM1</td>\n      <td>SFM01-2-2-2_289.jpg</td>\n      <td>47969815</td>\n      <td>Y</td>\n      <td>0</td>\n      <td>0</td>\n      <td>0</td>\n      <td>...</td>\n      <td>0.0</td>\n      <td>0.0</td>\n      <td>0.00</td>\n      <td>0.0</td>\n      <td>0.0</td>\n      <td>0</td>\n      <td>0.0</td>\n      <td>0.0</td>\n      <td>0.0</td>\n      <td>0</td>\n    </tr>\n    <tr>\n      <th>4</th>\n      <td>A. c. trillmichi</td>\n      <td>Santa Fe</td>\n      <td>El Miedo</td>\n      <td>SFM1</td>\n      <td>SFM01-2-2-2_291.jpg</td>\n      <td>47969821</td>\n      <td>Y</td>\n      <td>0</td>\n      <td>0</td>\n      <td>0</td>\n      <td>...</td>\n      <td>0.0</td>\n      <td>0.0</td>\n      <td>0.00</td>\n      <td>0.0</td>\n      <td>0.0</td>\n      <td>0</td>\n      <td>0.0</td>\n      <td>0.0</td>\n      <td>0.0</td>\n      <td>0</td>\n    </tr>\n    <tr>\n      <th>...</th>\n      <td>...</td>\n      <td>...</td>\n      <td>...</td>\n      <td>...</td>\n      <td>...</td>\n      <td>...</td>\n      <td>...</td>\n      <td>...</td>\n      <td>...</td>\n      <td>...</td>\n      <td>...</td>\n      <td>...</td>\n      <td>...</td>\n      <td>...</td>\n      <td>...</td>\n      <td>...</td>\n      <td>...</td>\n      <td>...</td>\n      <td>...</td>\n      <td>...</td>\n      <td>...</td>\n    </tr>\n    <tr>\n      <th>2728</th>\n      <td>A. c. godzilla</td>\n      <td>San Cristobal</td>\n      <td>Playa Blanca (Punta Pitt)</td>\n      <td>SRPB1</td>\n      <td>SRPB02-2-3_95.jpg</td>\n      <td>47990261</td>\n      <td>N</td>\n      <td>0</td>\n      <td>0</td>\n      <td>0</td>\n      <td>...</td>\n      <td>0.0</td>\n      <td>0.0</td>\n      <td>0.00</td>\n      <td>0.0</td>\n      <td>0.0</td>\n      <td>0</td>\n      <td>0.0</td>\n      <td>0.0</td>\n      <td>0.0</td>\n      <td>0</td>\n    </tr>\n    <tr>\n      <th>2729</th>\n      <td>A. c. godzilla</td>\n      <td>San Cristobal</td>\n      <td>Playa Blanca (Punta Pitt)</td>\n      <td>SRPB1</td>\n      <td>SRPB02-2-3_96.jpg</td>\n      <td>47990268</td>\n      <td>N</td>\n      <td>0</td>\n      <td>0</td>\n      <td>0</td>\n      <td>...</td>\n      <td>0.0</td>\n      <td>0.0</td>\n      <td>0.00</td>\n      <td>0.0</td>\n      <td>0.0</td>\n      <td>0</td>\n      <td>0.0</td>\n      <td>0.0</td>\n      <td>0.0</td>\n      <td>0</td>\n    </tr>\n    <tr>\n      <th>2730</th>\n      <td>A. c. godzilla</td>\n      <td>San Cristobal</td>\n      <td>Playa Blanca (Punta Pitt)</td>\n      <td>SRPB1</td>\n      <td>SRPB02-2-3_97.jpg</td>\n      <td>47990280</td>\n      <td>N</td>\n      <td>0</td>\n      <td>0</td>\n      <td>0</td>\n      <td>...</td>\n      <td>0.0</td>\n      <td>0.0</td>\n      <td>0.00</td>\n      <td>0.0</td>\n      <td>0.0</td>\n      <td>0</td>\n      <td>0.0</td>\n      <td>0.0</td>\n      <td>0.0</td>\n      <td>0</td>\n    </tr>\n    <tr>\n      <th>2731</th>\n      <td>A. c. godzilla</td>\n      <td>San Cristobal</td>\n      <td>Playa Blanca (Punta Pitt)</td>\n      <td>SRPB1</td>\n      <td>SRPB02-2-3_98.jpg</td>\n      <td>47990285</td>\n      <td>N</td>\n      <td>0</td>\n      <td>0</td>\n      <td>0</td>\n      <td>...</td>\n      <td>0.0</td>\n      <td>0.0</td>\n      <td>0.00</td>\n      <td>0.0</td>\n      <td>0.0</td>\n      <td>0</td>\n      <td>0.0</td>\n      <td>0.0</td>\n      <td>0.0</td>\n      <td>0</td>\n    </tr>\n    <tr>\n      <th>2732</th>\n      <td>A. c. godzilla</td>\n      <td>San Cristobal</td>\n      <td>Playa Blanca (Punta Pitt)</td>\n      <td>SRPB1</td>\n      <td>SRPB02-2-3_99.jpg</td>\n      <td>47990290</td>\n      <td>N</td>\n      <td>0</td>\n      <td>0</td>\n      <td>0</td>\n      <td>...</td>\n      <td>0.0</td>\n      <td>0.0</td>\n      <td>0.00</td>\n      <td>0.0</td>\n      <td>0.0</td>\n      <td>0</td>\n      <td>0.0</td>\n      <td>0.0</td>\n      <td>0.0</td>\n      <td>0</td>\n    </tr>\n  </tbody>\n</table>\n<p>2733 rows × 25 columns</p>\n</div>"
     },
     "execution_count": 139,
     "metadata": {},
     "output_type": "execute_result"
    }
   ],
   "source": [
    "df_comparison"
   ]
  },
  {
   "cell_type": "code",
   "execution_count": 140,
   "id": "134bd6295fa837ce",
   "metadata": {
    "collapsed": false,
    "ExecuteTime": {
     "end_time": "2024-04-22T09:13:27.966085Z",
     "start_time": "2024-04-22T09:13:27.943803Z"
    }
   },
   "outputs": [
    {
     "data": {
      "text/plain": "median_count    236.00\nmean_count      256.87\ncount_total     422.00\ndtype: float64"
     },
     "execution_count": 140,
     "metadata": {},
     "output_type": "execute_result"
    }
   ],
   "source": [
    "df_comparison[[\"median_count\", \"mean_count\", \"count_total\"]].sum()"
   ]
  },
  {
   "cell_type": "markdown",
   "id": "5d99c27ebf9bd6b6",
   "metadata": {
    "collapsed": false
   },
   "source": [
    "### DBSCAN clustering and take the variant with the best silouette score for each image\n"
   ]
  },
  {
   "cell_type": "code",
   "execution_count": 141,
   "id": "541f9f88dc56d1f1",
   "metadata": {
    "collapsed": false,
    "ExecuteTime": {
     "end_time": "2024-04-22T09:13:48.874541Z",
     "start_time": "2024-04-22T09:13:27.966979Z"
    }
   },
   "outputs": [
    {
     "name": "stderr",
     "output_type": "stream",
     "text": [
      "/var/folders/2k/78nn7s4548986wsjh29rhj9w0000gn/T/ipykernel_97849/4033969769.py:39: FutureWarning: The behavior of DataFrame concatenation with empty or all-NA entries is deprecated. In a future version, this will no longer exclude empty or all-NA columns when determining the result dtypes. To retain the old behavior, exclude the relevant entries before the concat operation.\n",
      "  df_dbscan_localization = pd.concat([*db_scan_results.values()])\n"
     ]
    }
   ],
   "source": [
    "## fixes the problem with the silouette score sorting\n",
    "from zooniverse.analysis import compare_dbscan\n",
    "\n",
    "eps_variants = [0.01, 0.05, 0.1, 0.2, 0.3, 0.4, 0.5]\n",
    "min_samples_variants = [3, 5, 8, 10]\n",
    "if debug:\n",
    "    eps_variants = [0.3]\n",
    "    min_samples_variants = [3]\n",
    "params = [(eps, min_samples) for eps in eps_variants for min_samples in min_samples_variants]\n",
    "\n",
    "db_scan_results = {}\n",
    "db_scan_best_results = []\n",
    "db_scan_best_bic_results = []\n",
    "for image_name, df_image_name in df_merged_dataset.groupby(\"subject_id\"):\n",
    "    if df_image_name.shape[0] >= 5:\n",
    "        dbscan_localization = compare_dbscan(\n",
    "            # phase_tag=phase_tag,\n",
    "            params=params,\n",
    "            df_flat=df_image_name,\n",
    "            # output_path=output_path,\n",
    "            output_plot_path=output_plot_path,\n",
    "            plot=show_plots,\n",
    "    \n",
    "        )\n",
    "    \n",
    "        db_scan_results[image_name] = pd.DataFrame(dbscan_localization)\n",
    "    \n",
    "        # DBSCAN tends to classfy all points as noise if min_samples is too high. Often only a single user marked an iguana.\n",
    "        # Sillouette Scoring needs a minimum of 2 clusters\n",
    "        # if there are points in decent radius they will belong to a cluster\n",
    "        if pd.DataFrame(dbscan_localization).dbscan_count.max() == 1:\n",
    "            db_scan_best_results.append(pd.DataFrame(dbscan_localization).sort_values(\"dbscan_count\", ascending=False).iloc[0])\n",
    "            db_scan_best_bic_results.append(pd.DataFrame(dbscan_localization).sort_values(\"dbscan_count\", ascending=False).iloc[0])\n",
    "            # If two or more cluster seem to exists take ones with the best Silouette score\n",
    "        else:  \n",
    "            # take the best result by silouette score if there are more clusters then 1\n",
    "            db_scan_best_results.append(pd.DataFrame(dbscan_localization).sort_values([\"dbscan_silouette_score\", \"dbscan_count\"], ascending=[False, False]).iloc[0])\n",
    "\n",
    "df_dbscan_localization = pd.concat([*db_scan_results.values()])\n",
    "df_scan_best_results = pd.DataFrame(db_scan_best_results)\n",
    "\n"
   ]
  },
  {
   "cell_type": "code",
   "execution_count": 142,
   "id": "ec07d63d180d7442",
   "metadata": {
    "collapsed": false,
    "ExecuteTime": {
     "end_time": "2024-04-22T09:13:48.903972Z",
     "start_time": "2024-04-22T09:13:48.875206Z"
    }
   },
   "outputs": [
    {
     "data": {
      "text/plain": "           image_name  subject_id  dbscan_count  dbscan_noise  \\\n16  SFM01-1-1_114.jpg    47967876             1             2   \n24  SFM01-1-1_154.jpg    47967959             1             8   \n24  SFM01-1-1_155.jpg    47967961             3             4   \n24  SFM01-1-1_163.jpg    47967975             1             3   \n16  SFM01-1-1_184.jpg    47968013             1             1   \n..                ...         ...           ...           ...   \n24   SRL01-2-2_54.jpg    48026608             4             1   \n24   SRL01-2-2_55.jpg    48026629             2             7   \n20   SRL01-2-2_62.jpg    48026645             2             3   \n0      SRL02-1_33.jpg    48026817             0            12   \n12     SRL03-3_62.jpg    48027975             2             1   \n\n    dbscan_silouette_score  dbscan_BIC_score   eps  min_samples  \n16                     NaN               NaN  0.30            3  \n24                     NaN               NaN  0.50            3  \n24                0.465019               NaN  0.50            3  \n24                     NaN               NaN  0.50            3  \n16                     NaN               NaN  0.30            3  \n..                     ...               ...   ...          ...  \n24                0.790920               NaN  0.50            3  \n24                0.123768               NaN  0.50            3  \n20                0.712219               NaN  0.40            3  \n0                      NaN               NaN  0.01            3  \n12                0.849642               NaN  0.20            3  \n\n[97 rows x 8 columns]",
      "text/html": "<div>\n<style scoped>\n    .dataframe tbody tr th:only-of-type {\n        vertical-align: middle;\n    }\n\n    .dataframe tbody tr th {\n        vertical-align: top;\n    }\n\n    .dataframe thead th {\n        text-align: right;\n    }\n</style>\n<table border=\"1\" class=\"dataframe\">\n  <thead>\n    <tr style=\"text-align: right;\">\n      <th></th>\n      <th>image_name</th>\n      <th>subject_id</th>\n      <th>dbscan_count</th>\n      <th>dbscan_noise</th>\n      <th>dbscan_silouette_score</th>\n      <th>dbscan_BIC_score</th>\n      <th>eps</th>\n      <th>min_samples</th>\n    </tr>\n  </thead>\n  <tbody>\n    <tr>\n      <th>16</th>\n      <td>SFM01-1-1_114.jpg</td>\n      <td>47967876</td>\n      <td>1</td>\n      <td>2</td>\n      <td>NaN</td>\n      <td>NaN</td>\n      <td>0.30</td>\n      <td>3</td>\n    </tr>\n    <tr>\n      <th>24</th>\n      <td>SFM01-1-1_154.jpg</td>\n      <td>47967959</td>\n      <td>1</td>\n      <td>8</td>\n      <td>NaN</td>\n      <td>NaN</td>\n      <td>0.50</td>\n      <td>3</td>\n    </tr>\n    <tr>\n      <th>24</th>\n      <td>SFM01-1-1_155.jpg</td>\n      <td>47967961</td>\n      <td>3</td>\n      <td>4</td>\n      <td>0.465019</td>\n      <td>NaN</td>\n      <td>0.50</td>\n      <td>3</td>\n    </tr>\n    <tr>\n      <th>24</th>\n      <td>SFM01-1-1_163.jpg</td>\n      <td>47967975</td>\n      <td>1</td>\n      <td>3</td>\n      <td>NaN</td>\n      <td>NaN</td>\n      <td>0.50</td>\n      <td>3</td>\n    </tr>\n    <tr>\n      <th>16</th>\n      <td>SFM01-1-1_184.jpg</td>\n      <td>47968013</td>\n      <td>1</td>\n      <td>1</td>\n      <td>NaN</td>\n      <td>NaN</td>\n      <td>0.30</td>\n      <td>3</td>\n    </tr>\n    <tr>\n      <th>...</th>\n      <td>...</td>\n      <td>...</td>\n      <td>...</td>\n      <td>...</td>\n      <td>...</td>\n      <td>...</td>\n      <td>...</td>\n      <td>...</td>\n    </tr>\n    <tr>\n      <th>24</th>\n      <td>SRL01-2-2_54.jpg</td>\n      <td>48026608</td>\n      <td>4</td>\n      <td>1</td>\n      <td>0.790920</td>\n      <td>NaN</td>\n      <td>0.50</td>\n      <td>3</td>\n    </tr>\n    <tr>\n      <th>24</th>\n      <td>SRL01-2-2_55.jpg</td>\n      <td>48026629</td>\n      <td>2</td>\n      <td>7</td>\n      <td>0.123768</td>\n      <td>NaN</td>\n      <td>0.50</td>\n      <td>3</td>\n    </tr>\n    <tr>\n      <th>20</th>\n      <td>SRL01-2-2_62.jpg</td>\n      <td>48026645</td>\n      <td>2</td>\n      <td>3</td>\n      <td>0.712219</td>\n      <td>NaN</td>\n      <td>0.40</td>\n      <td>3</td>\n    </tr>\n    <tr>\n      <th>0</th>\n      <td>SRL02-1_33.jpg</td>\n      <td>48026817</td>\n      <td>0</td>\n      <td>12</td>\n      <td>NaN</td>\n      <td>NaN</td>\n      <td>0.01</td>\n      <td>3</td>\n    </tr>\n    <tr>\n      <th>12</th>\n      <td>SRL03-3_62.jpg</td>\n      <td>48027975</td>\n      <td>2</td>\n      <td>1</td>\n      <td>0.849642</td>\n      <td>NaN</td>\n      <td>0.20</td>\n      <td>3</td>\n    </tr>\n  </tbody>\n</table>\n<p>97 rows × 8 columns</p>\n</div>"
     },
     "execution_count": 142,
     "metadata": {},
     "output_type": "execute_result"
    }
   ],
   "source": [
    "df_scan_best_results"
   ]
  },
  {
   "cell_type": "markdown",
   "id": "d196ca1914a06509",
   "metadata": {
    "collapsed": false
   },
   "source": [
    "Here it can be seen why the silouette score is difficult because it is often undefined."
   ]
  },
  {
   "cell_type": "code",
   "execution_count": 143,
   "id": "c17c404cb518dbe1",
   "metadata": {
    "collapsed": false,
    "ExecuteTime": {
     "end_time": "2024-04-22T09:13:48.932554Z",
     "start_time": "2024-04-22T09:13:48.904653Z"
    }
   },
   "outputs": [
    {
     "data": {
      "text/plain": "           image_name  subject_id  dbscan_count  dbscan_noise  \\\n16  SFM01-1-1_114.jpg    47967876             1             2   \n24  SFM01-1-1_154.jpg    47967959             1             8   \n24  SFM01-1-1_155.jpg    47967961             3             4   \n24  SFM01-1-1_163.jpg    47967975             1             3   \n16  SFM01-1-1_184.jpg    47968013             1             1   \n..                ...         ...           ...           ...   \n24   SRL01-2-2_54.jpg    48026608             4             1   \n24   SRL01-2-2_55.jpg    48026629             2             7   \n20   SRL01-2-2_62.jpg    48026645             2             3   \n0      SRL02-1_33.jpg    48026817             0            12   \n12     SRL03-3_62.jpg    48027975             2             1   \n\n    dbscan_silouette_score  dbscan_BIC_score   eps  min_samples  \n16                     NaN               NaN  0.30            3  \n24                     NaN               NaN  0.50            3  \n24                0.465019               NaN  0.50            3  \n24                     NaN               NaN  0.50            3  \n16                     NaN               NaN  0.30            3  \n..                     ...               ...   ...          ...  \n24                0.790920               NaN  0.50            3  \n24                0.123768               NaN  0.50            3  \n20                0.712219               NaN  0.40            3  \n0                      NaN               NaN  0.01            3  \n12                0.849642               NaN  0.20            3  \n\n[97 rows x 8 columns]",
      "text/html": "<div>\n<style scoped>\n    .dataframe tbody tr th:only-of-type {\n        vertical-align: middle;\n    }\n\n    .dataframe tbody tr th {\n        vertical-align: top;\n    }\n\n    .dataframe thead th {\n        text-align: right;\n    }\n</style>\n<table border=\"1\" class=\"dataframe\">\n  <thead>\n    <tr style=\"text-align: right;\">\n      <th></th>\n      <th>image_name</th>\n      <th>subject_id</th>\n      <th>dbscan_count</th>\n      <th>dbscan_noise</th>\n      <th>dbscan_silouette_score</th>\n      <th>dbscan_BIC_score</th>\n      <th>eps</th>\n      <th>min_samples</th>\n    </tr>\n  </thead>\n  <tbody>\n    <tr>\n      <th>16</th>\n      <td>SFM01-1-1_114.jpg</td>\n      <td>47967876</td>\n      <td>1</td>\n      <td>2</td>\n      <td>NaN</td>\n      <td>NaN</td>\n      <td>0.30</td>\n      <td>3</td>\n    </tr>\n    <tr>\n      <th>24</th>\n      <td>SFM01-1-1_154.jpg</td>\n      <td>47967959</td>\n      <td>1</td>\n      <td>8</td>\n      <td>NaN</td>\n      <td>NaN</td>\n      <td>0.50</td>\n      <td>3</td>\n    </tr>\n    <tr>\n      <th>24</th>\n      <td>SFM01-1-1_155.jpg</td>\n      <td>47967961</td>\n      <td>3</td>\n      <td>4</td>\n      <td>0.465019</td>\n      <td>NaN</td>\n      <td>0.50</td>\n      <td>3</td>\n    </tr>\n    <tr>\n      <th>24</th>\n      <td>SFM01-1-1_163.jpg</td>\n      <td>47967975</td>\n      <td>1</td>\n      <td>3</td>\n      <td>NaN</td>\n      <td>NaN</td>\n      <td>0.50</td>\n      <td>3</td>\n    </tr>\n    <tr>\n      <th>16</th>\n      <td>SFM01-1-1_184.jpg</td>\n      <td>47968013</td>\n      <td>1</td>\n      <td>1</td>\n      <td>NaN</td>\n      <td>NaN</td>\n      <td>0.30</td>\n      <td>3</td>\n    </tr>\n    <tr>\n      <th>...</th>\n      <td>...</td>\n      <td>...</td>\n      <td>...</td>\n      <td>...</td>\n      <td>...</td>\n      <td>...</td>\n      <td>...</td>\n      <td>...</td>\n    </tr>\n    <tr>\n      <th>24</th>\n      <td>SRL01-2-2_54.jpg</td>\n      <td>48026608</td>\n      <td>4</td>\n      <td>1</td>\n      <td>0.790920</td>\n      <td>NaN</td>\n      <td>0.50</td>\n      <td>3</td>\n    </tr>\n    <tr>\n      <th>24</th>\n      <td>SRL01-2-2_55.jpg</td>\n      <td>48026629</td>\n      <td>2</td>\n      <td>7</td>\n      <td>0.123768</td>\n      <td>NaN</td>\n      <td>0.50</td>\n      <td>3</td>\n    </tr>\n    <tr>\n      <th>20</th>\n      <td>SRL01-2-2_62.jpg</td>\n      <td>48026645</td>\n      <td>2</td>\n      <td>3</td>\n      <td>0.712219</td>\n      <td>NaN</td>\n      <td>0.40</td>\n      <td>3</td>\n    </tr>\n    <tr>\n      <th>0</th>\n      <td>SRL02-1_33.jpg</td>\n      <td>48026817</td>\n      <td>0</td>\n      <td>12</td>\n      <td>NaN</td>\n      <td>NaN</td>\n      <td>0.01</td>\n      <td>3</td>\n    </tr>\n    <tr>\n      <th>12</th>\n      <td>SRL03-3_62.jpg</td>\n      <td>48027975</td>\n      <td>2</td>\n      <td>1</td>\n      <td>0.849642</td>\n      <td>NaN</td>\n      <td>0.20</td>\n      <td>3</td>\n    </tr>\n  </tbody>\n</table>\n<p>97 rows × 8 columns</p>\n</div>"
     },
     "execution_count": 143,
     "metadata": {},
     "output_type": "execute_result"
    }
   ],
   "source": [
    "## save the combinations of parameters, which maximized the silouette score.\n",
    "\n",
    "df_dbscan_localization.to_csv(config[\"dbscan_hyperparam_grid\"])\n",
    "df_scan_best_results"
   ]
  },
  {
   "cell_type": "code",
   "execution_count": 144,
   "id": "bacea598a23a1b81",
   "metadata": {
    "collapsed": false,
    "ExecuteTime": {
     "end_time": "2024-04-22T09:13:48.954494Z",
     "start_time": "2024-04-22T09:13:48.933145Z"
    }
   },
   "outputs": [],
   "source": [
    "df_scan_best_results.rename(columns={\"dbscan_count\": \"dbscan_count_sil\" }, inplace=True)\n",
    "\n",
    "df_comparison = df_comparison.merge(df_scan_best_results, on='image_name', how='left')"
   ]
  },
  {
   "cell_type": "code",
   "execution_count": 145,
   "id": "d270534c736bcf9e",
   "metadata": {
    "collapsed": false,
    "ExecuteTime": {
     "end_time": "2024-04-22T09:13:48.977493Z",
     "start_time": "2024-04-22T09:13:48.955198Z"
    }
   },
   "outputs": [
    {
     "data": {
      "text/plain": "median_count_rmse        0.626731\nmean_count_rmse          0.584600\ndbscan_count_sil_rmse    0.665385\ndtype: float64"
     },
     "execution_count": 145,
     "metadata": {},
     "output_type": "execute_result"
    }
   ],
   "source": [
    "df_comparison.fillna(0, inplace=True)\n",
    "\n",
    "mse_errors[\"dbscan_count_sil_rmse\"] = mean_squared_error(df_comparison.count_total, df_comparison.dbscan_count_sil, squared=False)\n",
    "\n",
    "pd.Series(mse_errors)"
   ]
  },
  {
   "cell_type": "code",
   "execution_count": 146,
   "id": "509dec5ebdad923",
   "metadata": {
    "collapsed": false,
    "ExecuteTime": {
     "end_time": "2024-04-22T09:13:49.006593Z",
     "start_time": "2024-04-22T09:13:48.978303Z"
    }
   },
   "outputs": [
    {
     "data": {
      "text/plain": "            subspecies         island                  site_name  \\\n0     A. c. trillmichi       Santa Fe                   El Miedo   \n1     A. c. trillmichi       Santa Fe                   El Miedo   \n2     A. c. trillmichi       Santa Fe                   El Miedo   \n3     A. c. trillmichi       Santa Fe                   El Miedo   \n4     A. c. trillmichi       Santa Fe                   El Miedo   \n...                ...            ...                        ...   \n2728    A. c. godzilla  San Cristobal  Playa Blanca (Punta Pitt)   \n2729    A. c. godzilla  San Cristobal  Playa Blanca (Punta Pitt)   \n2730    A. c. godzilla  San Cristobal  Playa Blanca (Punta Pitt)   \n2731    A. c. godzilla  San Cristobal  Playa Blanca (Punta Pitt)   \n2732    A. c. godzilla  San Cristobal  Playa Blanca (Punta Pitt)   \n\n     subject_group           image_name  subject_id_x presence_absence  \\\n0             SFM1  SFM01-2-2-2_282.jpg      47969795                Y   \n1             SFM1  SFM01-2-2-1_344.jpg      47969531                Y   \n2             SFM1  SFM01-2-2-2_270.jpg      47969760                Y   \n3             SFM1  SFM01-2-2-2_289.jpg      47969815                Y   \n4             SFM1  SFM01-2-2-2_291.jpg      47969821                Y   \n...            ...                  ...           ...              ...   \n2728         SRPB1    SRPB02-2-3_95.jpg      47990261                N   \n2729         SRPB1    SRPB02-2-3_96.jpg      47990268                N   \n2730         SRPB1    SRPB02-2-3_97.jpg      47990280                N   \n2731         SRPB1    SRPB02-2-3_98.jpg      47990285                N   \n2732         SRPB1    SRPB02-2-3_99.jpg      47990290                N   \n\n      count_male-lek  count_male-no-lek  count_others  ...  mean_count  \\\n0                  0                  2             0  ...        2.50   \n1                  0                  2             2  ...        1.44   \n2                  0                  0             0  ...        0.00   \n3                  0                  0             0  ...        0.00   \n4                  0                  0             0  ...        0.00   \n...              ...                ...           ...  ...         ...   \n2728               0                  0             0  ...        0.00   \n2729               0                  0             0  ...        0.00   \n2730               0                  0             0  ...        0.00   \n2731               0                  0             0  ...        0.00   \n2732               0                  0             0  ...        0.00   \n\n      mode_min_count mode_max_count mode_count mode_count_avg  users  \\\n0                2.0            3.0     [2, 3]            2.5    2.0   \n1                1.0            1.0        [1]            1.0    9.0   \n2                0.0            0.0          0            0.0    0.0   \n3                0.0            0.0          0            0.0    0.0   \n4                0.0            0.0          0            0.0    0.0   \n...              ...            ...        ...            ...    ...   \n2728             0.0            0.0          0            0.0    0.0   \n2729             0.0            0.0          0            0.0    0.0   \n2730             0.0            0.0          0            0.0    0.0   \n2731             0.0            0.0          0            0.0    0.0   \n2732             0.0            0.0          0            0.0    0.0   \n\n      sum_annotations_count            annotations_count  subject_id  \\\n0                       5.0                       [2, 3]  47969795.0   \n1                      13.0  [1, 1, 1, 1, 1, 1, 2, 2, 3]  47969531.0   \n2                       0.0                            0         0.0   \n3                       0.0                            0         0.0   \n4                       0.0                            0         0.0   \n...                     ...                          ...         ...   \n2728                    0.0                            0         0.0   \n2729                    0.0                            0         0.0   \n2730                    0.0                            0         0.0   \n2731                    0.0                            0         0.0   \n2732                    0.0                            0         0.0   \n\n      dbscan_count_sil  \n0                  0.0  \n1                  2.0  \n2                  0.0  \n3                  0.0  \n4                  0.0  \n...                ...  \n2728               0.0  \n2729               0.0  \n2730               0.0  \n2731               0.0  \n2732               0.0  \n\n[2733 rows x 27 columns]",
      "text/html": "<div>\n<style scoped>\n    .dataframe tbody tr th:only-of-type {\n        vertical-align: middle;\n    }\n\n    .dataframe tbody tr th {\n        vertical-align: top;\n    }\n\n    .dataframe thead th {\n        text-align: right;\n    }\n</style>\n<table border=\"1\" class=\"dataframe\">\n  <thead>\n    <tr style=\"text-align: right;\">\n      <th></th>\n      <th>subspecies</th>\n      <th>island</th>\n      <th>site_name</th>\n      <th>subject_group</th>\n      <th>image_name</th>\n      <th>subject_id_x</th>\n      <th>presence_absence</th>\n      <th>count_male-lek</th>\n      <th>count_male-no-lek</th>\n      <th>count_others</th>\n      <th>...</th>\n      <th>mean_count</th>\n      <th>mode_min_count</th>\n      <th>mode_max_count</th>\n      <th>mode_count</th>\n      <th>mode_count_avg</th>\n      <th>users</th>\n      <th>sum_annotations_count</th>\n      <th>annotations_count</th>\n      <th>subject_id</th>\n      <th>dbscan_count_sil</th>\n    </tr>\n  </thead>\n  <tbody>\n    <tr>\n      <th>0</th>\n      <td>A. c. trillmichi</td>\n      <td>Santa Fe</td>\n      <td>El Miedo</td>\n      <td>SFM1</td>\n      <td>SFM01-2-2-2_282.jpg</td>\n      <td>47969795</td>\n      <td>Y</td>\n      <td>0</td>\n      <td>2</td>\n      <td>0</td>\n      <td>...</td>\n      <td>2.50</td>\n      <td>2.0</td>\n      <td>3.0</td>\n      <td>[2, 3]</td>\n      <td>2.5</td>\n      <td>2.0</td>\n      <td>5.0</td>\n      <td>[2, 3]</td>\n      <td>47969795.0</td>\n      <td>0.0</td>\n    </tr>\n    <tr>\n      <th>1</th>\n      <td>A. c. trillmichi</td>\n      <td>Santa Fe</td>\n      <td>El Miedo</td>\n      <td>SFM1</td>\n      <td>SFM01-2-2-1_344.jpg</td>\n      <td>47969531</td>\n      <td>Y</td>\n      <td>0</td>\n      <td>2</td>\n      <td>2</td>\n      <td>...</td>\n      <td>1.44</td>\n      <td>1.0</td>\n      <td>1.0</td>\n      <td>[1]</td>\n      <td>1.0</td>\n      <td>9.0</td>\n      <td>13.0</td>\n      <td>[1, 1, 1, 1, 1, 1, 2, 2, 3]</td>\n      <td>47969531.0</td>\n      <td>2.0</td>\n    </tr>\n    <tr>\n      <th>2</th>\n      <td>A. c. trillmichi</td>\n      <td>Santa Fe</td>\n      <td>El Miedo</td>\n      <td>SFM1</td>\n      <td>SFM01-2-2-2_270.jpg</td>\n      <td>47969760</td>\n      <td>Y</td>\n      <td>0</td>\n      <td>0</td>\n      <td>0</td>\n      <td>...</td>\n      <td>0.00</td>\n      <td>0.0</td>\n      <td>0.0</td>\n      <td>0</td>\n      <td>0.0</td>\n      <td>0.0</td>\n      <td>0.0</td>\n      <td>0</td>\n      <td>0.0</td>\n      <td>0.0</td>\n    </tr>\n    <tr>\n      <th>3</th>\n      <td>A. c. trillmichi</td>\n      <td>Santa Fe</td>\n      <td>El Miedo</td>\n      <td>SFM1</td>\n      <td>SFM01-2-2-2_289.jpg</td>\n      <td>47969815</td>\n      <td>Y</td>\n      <td>0</td>\n      <td>0</td>\n      <td>0</td>\n      <td>...</td>\n      <td>0.00</td>\n      <td>0.0</td>\n      <td>0.0</td>\n      <td>0</td>\n      <td>0.0</td>\n      <td>0.0</td>\n      <td>0.0</td>\n      <td>0</td>\n      <td>0.0</td>\n      <td>0.0</td>\n    </tr>\n    <tr>\n      <th>4</th>\n      <td>A. c. trillmichi</td>\n      <td>Santa Fe</td>\n      <td>El Miedo</td>\n      <td>SFM1</td>\n      <td>SFM01-2-2-2_291.jpg</td>\n      <td>47969821</td>\n      <td>Y</td>\n      <td>0</td>\n      <td>0</td>\n      <td>0</td>\n      <td>...</td>\n      <td>0.00</td>\n      <td>0.0</td>\n      <td>0.0</td>\n      <td>0</td>\n      <td>0.0</td>\n      <td>0.0</td>\n      <td>0.0</td>\n      <td>0</td>\n      <td>0.0</td>\n      <td>0.0</td>\n    </tr>\n    <tr>\n      <th>...</th>\n      <td>...</td>\n      <td>...</td>\n      <td>...</td>\n      <td>...</td>\n      <td>...</td>\n      <td>...</td>\n      <td>...</td>\n      <td>...</td>\n      <td>...</td>\n      <td>...</td>\n      <td>...</td>\n      <td>...</td>\n      <td>...</td>\n      <td>...</td>\n      <td>...</td>\n      <td>...</td>\n      <td>...</td>\n      <td>...</td>\n      <td>...</td>\n      <td>...</td>\n      <td>...</td>\n    </tr>\n    <tr>\n      <th>2728</th>\n      <td>A. c. godzilla</td>\n      <td>San Cristobal</td>\n      <td>Playa Blanca (Punta Pitt)</td>\n      <td>SRPB1</td>\n      <td>SRPB02-2-3_95.jpg</td>\n      <td>47990261</td>\n      <td>N</td>\n      <td>0</td>\n      <td>0</td>\n      <td>0</td>\n      <td>...</td>\n      <td>0.00</td>\n      <td>0.0</td>\n      <td>0.0</td>\n      <td>0</td>\n      <td>0.0</td>\n      <td>0.0</td>\n      <td>0.0</td>\n      <td>0</td>\n      <td>0.0</td>\n      <td>0.0</td>\n    </tr>\n    <tr>\n      <th>2729</th>\n      <td>A. c. godzilla</td>\n      <td>San Cristobal</td>\n      <td>Playa Blanca (Punta Pitt)</td>\n      <td>SRPB1</td>\n      <td>SRPB02-2-3_96.jpg</td>\n      <td>47990268</td>\n      <td>N</td>\n      <td>0</td>\n      <td>0</td>\n      <td>0</td>\n      <td>...</td>\n      <td>0.00</td>\n      <td>0.0</td>\n      <td>0.0</td>\n      <td>0</td>\n      <td>0.0</td>\n      <td>0.0</td>\n      <td>0.0</td>\n      <td>0</td>\n      <td>0.0</td>\n      <td>0.0</td>\n    </tr>\n    <tr>\n      <th>2730</th>\n      <td>A. c. godzilla</td>\n      <td>San Cristobal</td>\n      <td>Playa Blanca (Punta Pitt)</td>\n      <td>SRPB1</td>\n      <td>SRPB02-2-3_97.jpg</td>\n      <td>47990280</td>\n      <td>N</td>\n      <td>0</td>\n      <td>0</td>\n      <td>0</td>\n      <td>...</td>\n      <td>0.00</td>\n      <td>0.0</td>\n      <td>0.0</td>\n      <td>0</td>\n      <td>0.0</td>\n      <td>0.0</td>\n      <td>0.0</td>\n      <td>0</td>\n      <td>0.0</td>\n      <td>0.0</td>\n    </tr>\n    <tr>\n      <th>2731</th>\n      <td>A. c. godzilla</td>\n      <td>San Cristobal</td>\n      <td>Playa Blanca (Punta Pitt)</td>\n      <td>SRPB1</td>\n      <td>SRPB02-2-3_98.jpg</td>\n      <td>47990285</td>\n      <td>N</td>\n      <td>0</td>\n      <td>0</td>\n      <td>0</td>\n      <td>...</td>\n      <td>0.00</td>\n      <td>0.0</td>\n      <td>0.0</td>\n      <td>0</td>\n      <td>0.0</td>\n      <td>0.0</td>\n      <td>0.0</td>\n      <td>0</td>\n      <td>0.0</td>\n      <td>0.0</td>\n    </tr>\n    <tr>\n      <th>2732</th>\n      <td>A. c. godzilla</td>\n      <td>San Cristobal</td>\n      <td>Playa Blanca (Punta Pitt)</td>\n      <td>SRPB1</td>\n      <td>SRPB02-2-3_99.jpg</td>\n      <td>47990290</td>\n      <td>N</td>\n      <td>0</td>\n      <td>0</td>\n      <td>0</td>\n      <td>...</td>\n      <td>0.00</td>\n      <td>0.0</td>\n      <td>0.0</td>\n      <td>0</td>\n      <td>0.0</td>\n      <td>0.0</td>\n      <td>0.0</td>\n      <td>0</td>\n      <td>0.0</td>\n      <td>0.0</td>\n    </tr>\n  </tbody>\n</table>\n<p>2733 rows × 27 columns</p>\n</div>"
     },
     "execution_count": 146,
     "metadata": {},
     "output_type": "execute_result"
    }
   ],
   "source": [
    "\n",
    "df_comparison = df_comparison.drop([\"dbscan_noise\", \"dbscan_silouette_score\", \"eps\", \"min_samples\", \"dbscan_BIC_score\", \"with_noise\", \"bic_avg\"], axis=1, errors=\"ignore\")\n",
    "df_comparison"
   ]
  },
  {
   "cell_type": "markdown",
   "id": "15adf791099ac332",
   "metadata": {
    "collapsed": false
   },
   "source": [
    "### HDBSCAN clustering for each image\n",
    "\n",
    "https://scikit-learn.org/stable/modules/generated/sklearn.cluster.HDBSCAN.html#sklearn.cluster.HDBSCAN states: \"A distance threshold. Clusters below this value will be merged.\"\n",
    "\n"
   ]
  },
  {
   "cell_type": "code",
   "execution_count": 147,
   "id": "6763aed82e7088dd",
   "metadata": {
    "collapsed": false,
    "ExecuteTime": {
     "end_time": "2024-04-22T09:13:49.160068Z",
     "start_time": "2024-04-22T09:13:49.007275Z"
    }
   },
   "outputs": [],
   "source": [
    "from zooniverse.analysis import hdbscan\n",
    "\n",
    "hdbscan_values = []\n",
    "\n",
    "eps_variants = [0.0] # 0 is the default\n",
    "min_cluster_sizes = [5] # 5 is the default\n",
    "\n",
    "\n",
    "for image_name, df_image_name in df_merged_dataset.groupby(\"subject_id\"):\n",
    "    annotations_count = get_mark_overview(df_image_name)\n",
    "    annotations_count_stats = get_annotation_count_stats(annotations_count=annotations_count,\n",
    "                                                         image_name=df_image_name.iloc[0][\"image_name\"],\n",
    "                                                        subject_id=df_image_name.iloc[0][\"subject_id\"])\n",
    "    \n",
    "    # if less than min_cluster_sizes points are available clustering makes no sense\n",
    "    if df_image_name.shape[0] >= 5: # If num_samples is 5 for the min_cluster_size is 5 there is no point in passing data with less than 5 samples\n",
    "        params = [(eps, min_cluster_size, max_cluster_size) \n",
    "                    for eps in eps_variants\n",
    "                    for min_cluster_size in min_cluster_sizes\n",
    "                    for max_cluster_size in [None]\n",
    "              ]\n",
    "\n",
    "        df_hdbscan = hdbscan(df_marks=df_image_name[[\"x\", \"y\"]],\n",
    "                                     output_path=output_plot_path,\n",
    "                                     plot=show_plots,\n",
    "                                     show=show_plots,\n",
    "                                     image_name=image_name,\n",
    "                                     subject_id=df_image_name.iloc[0][\"subject_id\"],\n",
    "                                     params=params)\n",
    "        hdbscan_values.append(df_hdbscan)\n",
    "\n",
    "\n",
    "df_hdbscan = pd.concat(hdbscan_values)\n",
    "\n"
   ]
  },
  {
   "cell_type": "code",
   "execution_count": 148,
   "id": "5de6304addaca41d",
   "metadata": {
    "collapsed": false,
    "ExecuteTime": {
     "end_time": "2024-04-22T09:13:49.185886Z",
     "start_time": "2024-04-22T09:13:49.160793Z"
    }
   },
   "outputs": [
    {
     "data": {
      "text/plain": "    image_name  subject_id  HDBSCAN_count  eps  min_cluster_size  \\\n0     47967876    47967876              1  0.0                 5   \n0     47967959    47967959              1  0.0                 5   \n0     47967961    47967961              1  0.0                 5   \n0     47967975    47967975              1  0.0                 5   \n0     47968013    47968013              1  0.0                 5   \n..         ...         ...            ...  ...               ...   \n0     48026608    48026608              4  0.0                 5   \n0     48026629    48026629              1  0.0                 5   \n0     48026645    48026645              2  0.0                 5   \n0     48026817    48026817              1  0.0                 5   \n0     48027975    48027975              2  0.0                 5   \n\n   max_cluster_size  noise_points  \n0              None             5  \n0              None             6  \n0              None            16  \n0              None             1  \n0              None             1  \n..              ...           ...  \n0              None             1  \n0              None            12  \n0              None             1  \n0              None             7  \n0              None             1  \n\n[97 rows x 7 columns]",
      "text/html": "<div>\n<style scoped>\n    .dataframe tbody tr th:only-of-type {\n        vertical-align: middle;\n    }\n\n    .dataframe tbody tr th {\n        vertical-align: top;\n    }\n\n    .dataframe thead th {\n        text-align: right;\n    }\n</style>\n<table border=\"1\" class=\"dataframe\">\n  <thead>\n    <tr style=\"text-align: right;\">\n      <th></th>\n      <th>image_name</th>\n      <th>subject_id</th>\n      <th>HDBSCAN_count</th>\n      <th>eps</th>\n      <th>min_cluster_size</th>\n      <th>max_cluster_size</th>\n      <th>noise_points</th>\n    </tr>\n  </thead>\n  <tbody>\n    <tr>\n      <th>0</th>\n      <td>47967876</td>\n      <td>47967876</td>\n      <td>1</td>\n      <td>0.0</td>\n      <td>5</td>\n      <td>None</td>\n      <td>5</td>\n    </tr>\n    <tr>\n      <th>0</th>\n      <td>47967959</td>\n      <td>47967959</td>\n      <td>1</td>\n      <td>0.0</td>\n      <td>5</td>\n      <td>None</td>\n      <td>6</td>\n    </tr>\n    <tr>\n      <th>0</th>\n      <td>47967961</td>\n      <td>47967961</td>\n      <td>1</td>\n      <td>0.0</td>\n      <td>5</td>\n      <td>None</td>\n      <td>16</td>\n    </tr>\n    <tr>\n      <th>0</th>\n      <td>47967975</td>\n      <td>47967975</td>\n      <td>1</td>\n      <td>0.0</td>\n      <td>5</td>\n      <td>None</td>\n      <td>1</td>\n    </tr>\n    <tr>\n      <th>0</th>\n      <td>47968013</td>\n      <td>47968013</td>\n      <td>1</td>\n      <td>0.0</td>\n      <td>5</td>\n      <td>None</td>\n      <td>1</td>\n    </tr>\n    <tr>\n      <th>...</th>\n      <td>...</td>\n      <td>...</td>\n      <td>...</td>\n      <td>...</td>\n      <td>...</td>\n      <td>...</td>\n      <td>...</td>\n    </tr>\n    <tr>\n      <th>0</th>\n      <td>48026608</td>\n      <td>48026608</td>\n      <td>4</td>\n      <td>0.0</td>\n      <td>5</td>\n      <td>None</td>\n      <td>1</td>\n    </tr>\n    <tr>\n      <th>0</th>\n      <td>48026629</td>\n      <td>48026629</td>\n      <td>1</td>\n      <td>0.0</td>\n      <td>5</td>\n      <td>None</td>\n      <td>12</td>\n    </tr>\n    <tr>\n      <th>0</th>\n      <td>48026645</td>\n      <td>48026645</td>\n      <td>2</td>\n      <td>0.0</td>\n      <td>5</td>\n      <td>None</td>\n      <td>1</td>\n    </tr>\n    <tr>\n      <th>0</th>\n      <td>48026817</td>\n      <td>48026817</td>\n      <td>1</td>\n      <td>0.0</td>\n      <td>5</td>\n      <td>None</td>\n      <td>7</td>\n    </tr>\n    <tr>\n      <th>0</th>\n      <td>48027975</td>\n      <td>48027975</td>\n      <td>2</td>\n      <td>0.0</td>\n      <td>5</td>\n      <td>None</td>\n      <td>1</td>\n    </tr>\n  </tbody>\n</table>\n<p>97 rows × 7 columns</p>\n</div>"
     },
     "execution_count": 148,
     "metadata": {},
     "output_type": "execute_result"
    }
   ],
   "source": [
    "df_hdbscan.drop([\"with_noise\"], axis=1, inplace=True)\n",
    "df_hdbscan"
   ]
  },
  {
   "cell_type": "code",
   "execution_count": 149,
   "id": "563e2747f9f8a77c",
   "metadata": {
    "collapsed": false,
    "ExecuteTime": {
     "end_time": "2024-04-22T09:13:49.218933Z",
     "start_time": "2024-04-22T09:13:49.186586Z"
    }
   },
   "outputs": [
    {
     "data": {
      "text/plain": "            subspecies         island                  site_name  \\\n0     A. c. trillmichi       Santa Fe                   El Miedo   \n1     A. c. trillmichi       Santa Fe                   El Miedo   \n2     A. c. trillmichi       Santa Fe                   El Miedo   \n3     A. c. trillmichi       Santa Fe                   El Miedo   \n4     A. c. trillmichi       Santa Fe                   El Miedo   \n...                ...            ...                        ...   \n2728    A. c. godzilla  San Cristobal  Playa Blanca (Punta Pitt)   \n2729    A. c. godzilla  San Cristobal  Playa Blanca (Punta Pitt)   \n2730    A. c. godzilla  San Cristobal  Playa Blanca (Punta Pitt)   \n2731    A. c. godzilla  San Cristobal  Playa Blanca (Punta Pitt)   \n2732    A. c. godzilla  San Cristobal  Playa Blanca (Punta Pitt)   \n\n     subject_group         image_name_x  subject_id_x presence_absence  \\\n0             SFM1  SFM01-2-2-2_282.jpg      47969795                Y   \n1             SFM1  SFM01-2-2-1_344.jpg      47969531                Y   \n2             SFM1  SFM01-2-2-2_270.jpg      47969760                Y   \n3             SFM1  SFM01-2-2-2_289.jpg      47969815                Y   \n4             SFM1  SFM01-2-2-2_291.jpg      47969821                Y   \n...            ...                  ...           ...              ...   \n2728         SRPB1    SRPB02-2-3_95.jpg      47990261                N   \n2729         SRPB1    SRPB02-2-3_96.jpg      47990268                N   \n2730         SRPB1    SRPB02-2-3_97.jpg      47990280                N   \n2731         SRPB1    SRPB02-2-3_98.jpg      47990285                N   \n2732         SRPB1    SRPB02-2-3_99.jpg      47990290                N   \n\n      count_male-lek  count_male-no-lek  count_others  ...  \\\n0                  0                  2             0  ...   \n1                  0                  2             2  ...   \n2                  0                  0             0  ...   \n3                  0                  0             0  ...   \n4                  0                  0             0  ...   \n...              ...                ...           ...  ...   \n2728               0                  0             0  ...   \n2729               0                  0             0  ...   \n2730               0                  0             0  ...   \n2731               0                  0             0  ...   \n2732               0                  0             0  ...   \n\n      sum_annotations_count            annotations_count  subject_id  \\\n0                       5.0                       [2, 3]  47969795.0   \n1                      13.0  [1, 1, 1, 1, 1, 1, 2, 2, 3]  47969531.0   \n2                       0.0                            0         0.0   \n3                       0.0                            0         0.0   \n4                       0.0                            0         0.0   \n...                     ...                          ...         ...   \n2728                    0.0                            0         0.0   \n2729                    0.0                            0         0.0   \n2730                    0.0                            0         0.0   \n2731                    0.0                            0         0.0   \n2732                    0.0                            0         0.0   \n\n     dbscan_count_sil image_name_y  HDBSCAN_count  eps  min_cluster_size  \\\n0                 0.0   47969795.0            1.0  0.0               5.0   \n1                 2.0   47969531.0            1.0  0.0               5.0   \n2                 0.0          0.0            0.0  0.0               0.0   \n3                 0.0          0.0            0.0  0.0               0.0   \n4                 0.0          0.0            0.0  0.0               0.0   \n...               ...          ...            ...  ...               ...   \n2728              0.0          0.0            0.0  0.0               0.0   \n2729              0.0          0.0            0.0  0.0               0.0   \n2730              0.0          0.0            0.0  0.0               0.0   \n2731              0.0          0.0            0.0  0.0               0.0   \n2732              0.0          0.0            0.0  0.0               0.0   \n\n      max_cluster_size  noise_points  \n0                    0           0.0  \n1                    0           8.0  \n2                    0           0.0  \n3                    0           0.0  \n4                    0           0.0  \n...                ...           ...  \n2728                 0           0.0  \n2729                 0           0.0  \n2730                 0           0.0  \n2731                 0           0.0  \n2732                 0           0.0  \n\n[2733 rows x 33 columns]",
      "text/html": "<div>\n<style scoped>\n    .dataframe tbody tr th:only-of-type {\n        vertical-align: middle;\n    }\n\n    .dataframe tbody tr th {\n        vertical-align: top;\n    }\n\n    .dataframe thead th {\n        text-align: right;\n    }\n</style>\n<table border=\"1\" class=\"dataframe\">\n  <thead>\n    <tr style=\"text-align: right;\">\n      <th></th>\n      <th>subspecies</th>\n      <th>island</th>\n      <th>site_name</th>\n      <th>subject_group</th>\n      <th>image_name_x</th>\n      <th>subject_id_x</th>\n      <th>presence_absence</th>\n      <th>count_male-lek</th>\n      <th>count_male-no-lek</th>\n      <th>count_others</th>\n      <th>...</th>\n      <th>sum_annotations_count</th>\n      <th>annotations_count</th>\n      <th>subject_id</th>\n      <th>dbscan_count_sil</th>\n      <th>image_name_y</th>\n      <th>HDBSCAN_count</th>\n      <th>eps</th>\n      <th>min_cluster_size</th>\n      <th>max_cluster_size</th>\n      <th>noise_points</th>\n    </tr>\n  </thead>\n  <tbody>\n    <tr>\n      <th>0</th>\n      <td>A. c. trillmichi</td>\n      <td>Santa Fe</td>\n      <td>El Miedo</td>\n      <td>SFM1</td>\n      <td>SFM01-2-2-2_282.jpg</td>\n      <td>47969795</td>\n      <td>Y</td>\n      <td>0</td>\n      <td>2</td>\n      <td>0</td>\n      <td>...</td>\n      <td>5.0</td>\n      <td>[2, 3]</td>\n      <td>47969795.0</td>\n      <td>0.0</td>\n      <td>47969795.0</td>\n      <td>1.0</td>\n      <td>0.0</td>\n      <td>5.0</td>\n      <td>0</td>\n      <td>0.0</td>\n    </tr>\n    <tr>\n      <th>1</th>\n      <td>A. c. trillmichi</td>\n      <td>Santa Fe</td>\n      <td>El Miedo</td>\n      <td>SFM1</td>\n      <td>SFM01-2-2-1_344.jpg</td>\n      <td>47969531</td>\n      <td>Y</td>\n      <td>0</td>\n      <td>2</td>\n      <td>2</td>\n      <td>...</td>\n      <td>13.0</td>\n      <td>[1, 1, 1, 1, 1, 1, 2, 2, 3]</td>\n      <td>47969531.0</td>\n      <td>2.0</td>\n      <td>47969531.0</td>\n      <td>1.0</td>\n      <td>0.0</td>\n      <td>5.0</td>\n      <td>0</td>\n      <td>8.0</td>\n    </tr>\n    <tr>\n      <th>2</th>\n      <td>A. c. trillmichi</td>\n      <td>Santa Fe</td>\n      <td>El Miedo</td>\n      <td>SFM1</td>\n      <td>SFM01-2-2-2_270.jpg</td>\n      <td>47969760</td>\n      <td>Y</td>\n      <td>0</td>\n      <td>0</td>\n      <td>0</td>\n      <td>...</td>\n      <td>0.0</td>\n      <td>0</td>\n      <td>0.0</td>\n      <td>0.0</td>\n      <td>0.0</td>\n      <td>0.0</td>\n      <td>0.0</td>\n      <td>0.0</td>\n      <td>0</td>\n      <td>0.0</td>\n    </tr>\n    <tr>\n      <th>3</th>\n      <td>A. c. trillmichi</td>\n      <td>Santa Fe</td>\n      <td>El Miedo</td>\n      <td>SFM1</td>\n      <td>SFM01-2-2-2_289.jpg</td>\n      <td>47969815</td>\n      <td>Y</td>\n      <td>0</td>\n      <td>0</td>\n      <td>0</td>\n      <td>...</td>\n      <td>0.0</td>\n      <td>0</td>\n      <td>0.0</td>\n      <td>0.0</td>\n      <td>0.0</td>\n      <td>0.0</td>\n      <td>0.0</td>\n      <td>0.0</td>\n      <td>0</td>\n      <td>0.0</td>\n    </tr>\n    <tr>\n      <th>4</th>\n      <td>A. c. trillmichi</td>\n      <td>Santa Fe</td>\n      <td>El Miedo</td>\n      <td>SFM1</td>\n      <td>SFM01-2-2-2_291.jpg</td>\n      <td>47969821</td>\n      <td>Y</td>\n      <td>0</td>\n      <td>0</td>\n      <td>0</td>\n      <td>...</td>\n      <td>0.0</td>\n      <td>0</td>\n      <td>0.0</td>\n      <td>0.0</td>\n      <td>0.0</td>\n      <td>0.0</td>\n      <td>0.0</td>\n      <td>0.0</td>\n      <td>0</td>\n      <td>0.0</td>\n    </tr>\n    <tr>\n      <th>...</th>\n      <td>...</td>\n      <td>...</td>\n      <td>...</td>\n      <td>...</td>\n      <td>...</td>\n      <td>...</td>\n      <td>...</td>\n      <td>...</td>\n      <td>...</td>\n      <td>...</td>\n      <td>...</td>\n      <td>...</td>\n      <td>...</td>\n      <td>...</td>\n      <td>...</td>\n      <td>...</td>\n      <td>...</td>\n      <td>...</td>\n      <td>...</td>\n      <td>...</td>\n      <td>...</td>\n    </tr>\n    <tr>\n      <th>2728</th>\n      <td>A. c. godzilla</td>\n      <td>San Cristobal</td>\n      <td>Playa Blanca (Punta Pitt)</td>\n      <td>SRPB1</td>\n      <td>SRPB02-2-3_95.jpg</td>\n      <td>47990261</td>\n      <td>N</td>\n      <td>0</td>\n      <td>0</td>\n      <td>0</td>\n      <td>...</td>\n      <td>0.0</td>\n      <td>0</td>\n      <td>0.0</td>\n      <td>0.0</td>\n      <td>0.0</td>\n      <td>0.0</td>\n      <td>0.0</td>\n      <td>0.0</td>\n      <td>0</td>\n      <td>0.0</td>\n    </tr>\n    <tr>\n      <th>2729</th>\n      <td>A. c. godzilla</td>\n      <td>San Cristobal</td>\n      <td>Playa Blanca (Punta Pitt)</td>\n      <td>SRPB1</td>\n      <td>SRPB02-2-3_96.jpg</td>\n      <td>47990268</td>\n      <td>N</td>\n      <td>0</td>\n      <td>0</td>\n      <td>0</td>\n      <td>...</td>\n      <td>0.0</td>\n      <td>0</td>\n      <td>0.0</td>\n      <td>0.0</td>\n      <td>0.0</td>\n      <td>0.0</td>\n      <td>0.0</td>\n      <td>0.0</td>\n      <td>0</td>\n      <td>0.0</td>\n    </tr>\n    <tr>\n      <th>2730</th>\n      <td>A. c. godzilla</td>\n      <td>San Cristobal</td>\n      <td>Playa Blanca (Punta Pitt)</td>\n      <td>SRPB1</td>\n      <td>SRPB02-2-3_97.jpg</td>\n      <td>47990280</td>\n      <td>N</td>\n      <td>0</td>\n      <td>0</td>\n      <td>0</td>\n      <td>...</td>\n      <td>0.0</td>\n      <td>0</td>\n      <td>0.0</td>\n      <td>0.0</td>\n      <td>0.0</td>\n      <td>0.0</td>\n      <td>0.0</td>\n      <td>0.0</td>\n      <td>0</td>\n      <td>0.0</td>\n    </tr>\n    <tr>\n      <th>2731</th>\n      <td>A. c. godzilla</td>\n      <td>San Cristobal</td>\n      <td>Playa Blanca (Punta Pitt)</td>\n      <td>SRPB1</td>\n      <td>SRPB02-2-3_98.jpg</td>\n      <td>47990285</td>\n      <td>N</td>\n      <td>0</td>\n      <td>0</td>\n      <td>0</td>\n      <td>...</td>\n      <td>0.0</td>\n      <td>0</td>\n      <td>0.0</td>\n      <td>0.0</td>\n      <td>0.0</td>\n      <td>0.0</td>\n      <td>0.0</td>\n      <td>0.0</td>\n      <td>0</td>\n      <td>0.0</td>\n    </tr>\n    <tr>\n      <th>2732</th>\n      <td>A. c. godzilla</td>\n      <td>San Cristobal</td>\n      <td>Playa Blanca (Punta Pitt)</td>\n      <td>SRPB1</td>\n      <td>SRPB02-2-3_99.jpg</td>\n      <td>47990290</td>\n      <td>N</td>\n      <td>0</td>\n      <td>0</td>\n      <td>0</td>\n      <td>...</td>\n      <td>0.0</td>\n      <td>0</td>\n      <td>0.0</td>\n      <td>0.0</td>\n      <td>0.0</td>\n      <td>0.0</td>\n      <td>0.0</td>\n      <td>0.0</td>\n      <td>0</td>\n      <td>0.0</td>\n    </tr>\n  </tbody>\n</table>\n<p>2733 rows × 33 columns</p>\n</div>"
     },
     "execution_count": 149,
     "metadata": {},
     "output_type": "execute_result"
    }
   ],
   "source": [
    "df_comparison = df_comparison.merge(df_hdbscan, on='subject_id', how='left')\n",
    "df_comparison.fillna(0, inplace=True)\n",
    "df_comparison"
   ]
  },
  {
   "cell_type": "code",
   "execution_count": 149,
   "id": "bd5b4be03b3480d5",
   "metadata": {
    "collapsed": false,
    "ExecuteTime": {
     "end_time": "2024-04-22T09:13:49.220881Z",
     "start_time": "2024-04-22T09:13:49.219670Z"
    }
   },
   "outputs": [],
   "source": []
  },
  {
   "cell_type": "code",
   "execution_count": 150,
   "id": "146136b8ee749f9",
   "metadata": {
    "collapsed": false,
    "ExecuteTime": {
     "end_time": "2024-04-22T09:13:49.260916Z",
     "start_time": "2024-04-22T09:13:49.221467Z"
    }
   },
   "outputs": [
    {
     "name": "stdout",
     "output_type": "stream",
     "text": [
      "saved /Users/christian/data/zooniverse/2024_04_22_expert_goldstandard_analysis/Iguanas 1st launch/Iguanas 1st launch_method_comparison.csv\n"
     ]
    }
   ],
   "source": [
    "df_comparison.count_total.fillna(0, inplace=True)\n",
    "df_comparison.HDBSCAN_count.fillna(0, inplace=True)\n",
    "\n",
    "df_comparison.to_csv(config[\"comparison_dataset\"])\n",
    "print(f\"saved {config['comparison_dataset']}\")\n",
    "\n",
    "mse_errors[\"hdbscan_count_rmse\"] = mean_squared_error(df_comparison.count_total, df_comparison.HDBSCAN_count, squared=False)\n"
   ]
  },
  {
   "cell_type": "markdown",
   "id": "1866104643b4427f",
   "metadata": {
    "collapsed": false
   },
   "source": [
    "# A look into the results\n",
    "Root Means Squared Error for the different methods"
   ]
  },
  {
   "cell_type": "code",
   "execution_count": 151,
   "id": "ae08d15b32fe83ec",
   "metadata": {
    "collapsed": false,
    "ExecuteTime": {
     "end_time": "2024-04-22T09:13:49.281350Z",
     "start_time": "2024-04-22T09:13:49.261600Z"
    }
   },
   "outputs": [],
   "source": [
    "df_rmse = pd.DataFrame(pd.Series(mse_errors).sort_values())\n",
    "df_rmse.to_csv(config[\"rmse_errors\"])\n"
   ]
  },
  {
   "cell_type": "markdown",
   "id": "683ea0eaf795e5ff",
   "metadata": {
    "collapsed": false
   },
   "source": [
    "## The sum of the clustering\n",
    "What is the sum of the methods"
   ]
  },
  {
   "cell_type": "code",
   "execution_count": 152,
   "id": "861980abc73d8332",
   "metadata": {
    "collapsed": false,
    "ExecuteTime": {
     "end_time": "2024-04-22T09:13:49.300653Z",
     "start_time": "2024-04-22T09:13:49.282048Z"
    }
   },
   "outputs": [
    {
     "data": {
      "text/plain": "98"
     },
     "execution_count": 152,
     "metadata": {},
     "output_type": "execute_result"
    }
   ],
   "source": [
    "df_comparison.subject_id.nunique()"
   ]
  },
  {
   "cell_type": "code",
   "execution_count": 153,
   "id": "2ae2f205858fd9c4",
   "metadata": {
    "collapsed": false,
    "ExecuteTime": {
     "end_time": "2024-04-22T09:13:49.324207Z",
     "start_time": "2024-04-22T09:13:49.301378Z"
    }
   },
   "outputs": [],
   "source": [
    "\n",
    "df_comparison_sum = df_comparison[[\"count_total\", \"median_count\", \"mean_count\", \"dbscan_count_sil\", \"HDBSCAN_count\"]].sum().sort_values()\n",
    "df_comparison_sum.to_csv(config[\"method_sums\"])\n"
   ]
  },
  {
   "cell_type": "code",
   "execution_count": 154,
   "id": "35c25cb6dd0c9684",
   "metadata": {
    "collapsed": false,
    "ExecuteTime": {
     "end_time": "2024-04-22T09:13:49.342882Z",
     "start_time": "2024-04-22T09:13:49.324922Z"
    }
   },
   "outputs": [
    {
     "name": "stdout",
     "output_type": "stream",
     "text": [
      "phase_tag: Iguanas 1st launch, user_threshold: None\n"
     ]
    }
   ],
   "source": [
    "print(f\"phase_tag: {phase_tag}, user_threshold: {user_threshold}\")"
   ]
  },
  {
   "cell_type": "markdown",
   "id": "88ca320d97a38518",
   "metadata": {
    "collapsed": false
   },
   "source": [
    "## Compare the numbers\n",
    "The counts are only for images which were in the dataset after filtering."
   ]
  },
  {
   "cell_type": "markdown",
   "id": "8f58c29117a907a4",
   "metadata": {
    "collapsed": false
   },
   "source": [
    "### Sum of all the Methods"
   ]
  },
  {
   "cell_type": "code",
   "execution_count": 155,
   "id": "e6a0ba0c34ca129a",
   "metadata": {
    "collapsed": false,
    "ExecuteTime": {
     "end_time": "2024-04-22T09:13:49.364081Z",
     "start_time": "2024-04-22T09:13:49.343609Z"
    }
   },
   "outputs": [
    {
     "name": "stdout",
     "output_type": "stream",
     "text": [
      "Iguanas 1st launch_method_sums.csv\n"
     ]
    },
    {
     "data": {
      "text/plain": "         Unnamed: 0       0\n0  dbscan_count_sil  218.00\n1     HDBSCAN_count  219.00\n2      median_count  236.00\n3        mean_count  256.87\n4       count_total  422.00",
      "text/html": "<div>\n<style scoped>\n    .dataframe tbody tr th:only-of-type {\n        vertical-align: middle;\n    }\n\n    .dataframe tbody tr th {\n        vertical-align: top;\n    }\n\n    .dataframe thead th {\n        text-align: right;\n    }\n</style>\n<table border=\"1\" class=\"dataframe\">\n  <thead>\n    <tr style=\"text-align: right;\">\n      <th></th>\n      <th>Unnamed: 0</th>\n      <th>0</th>\n    </tr>\n  </thead>\n  <tbody>\n    <tr>\n      <th>0</th>\n      <td>dbscan_count_sil</td>\n      <td>218.00</td>\n    </tr>\n    <tr>\n      <th>1</th>\n      <td>HDBSCAN_count</td>\n      <td>219.00</td>\n    </tr>\n    <tr>\n      <th>2</th>\n      <td>median_count</td>\n      <td>236.00</td>\n    </tr>\n    <tr>\n      <th>3</th>\n      <td>mean_count</td>\n      <td>256.87</td>\n    </tr>\n    <tr>\n      <th>4</th>\n      <td>count_total</td>\n      <td>422.00</td>\n    </tr>\n  </tbody>\n</table>\n</div>"
     },
     "execution_count": 155,
     "metadata": {},
     "output_type": "execute_result"
    }
   ],
   "source": [
    "print(f\"{config['method_sums'].name}\")\n",
    "pd.read_csv(config[\"method_sums\"])"
   ]
  },
  {
   "cell_type": "markdown",
   "id": "63ec459bb6b0ea1d",
   "metadata": {
    "collapsed": false
   },
   "source": [
    "### Root Mean Squared Error"
   ]
  },
  {
   "cell_type": "code",
   "execution_count": 156,
   "id": "d9a6e83ec7b73319",
   "metadata": {
    "collapsed": false,
    "ExecuteTime": {
     "end_time": "2024-04-22T09:13:49.382422Z",
     "start_time": "2024-04-22T09:13:49.364833Z"
    }
   },
   "outputs": [
    {
     "name": "stdout",
     "output_type": "stream",
     "text": [
      "Iguanas 1st launch_rmse_errors.csv\n"
     ]
    },
    {
     "data": {
      "text/plain": "              Unnamed: 0         0\n0        mean_count_rmse  0.584600\n1     hdbscan_count_rmse  0.600341\n2      median_count_rmse  0.626731\n3  dbscan_count_sil_rmse  0.665385",
      "text/html": "<div>\n<style scoped>\n    .dataframe tbody tr th:only-of-type {\n        vertical-align: middle;\n    }\n\n    .dataframe tbody tr th {\n        vertical-align: top;\n    }\n\n    .dataframe thead th {\n        text-align: right;\n    }\n</style>\n<table border=\"1\" class=\"dataframe\">\n  <thead>\n    <tr style=\"text-align: right;\">\n      <th></th>\n      <th>Unnamed: 0</th>\n      <th>0</th>\n    </tr>\n  </thead>\n  <tbody>\n    <tr>\n      <th>0</th>\n      <td>mean_count_rmse</td>\n      <td>0.584600</td>\n    </tr>\n    <tr>\n      <th>1</th>\n      <td>hdbscan_count_rmse</td>\n      <td>0.600341</td>\n    </tr>\n    <tr>\n      <th>2</th>\n      <td>median_count_rmse</td>\n      <td>0.626731</td>\n    </tr>\n    <tr>\n      <th>3</th>\n      <td>dbscan_count_sil_rmse</td>\n      <td>0.665385</td>\n    </tr>\n  </tbody>\n</table>\n</div>"
     },
     "execution_count": 156,
     "metadata": {},
     "output_type": "execute_result"
    }
   ],
   "source": [
    "print(f\"{config['rmse_errors'].name}\")\n",
    "pd.read_csv(config[\"rmse_errors\"])"
   ]
  },
  {
   "cell_type": "markdown",
   "id": "59e1a0f4ffc4dcd0",
   "metadata": {
    "collapsed": false
   },
   "source": [
    "### Comparison per Image Level"
   ]
  },
  {
   "cell_type": "code",
   "execution_count": 157,
   "id": "b63a639e877e8b4a",
   "metadata": {
    "collapsed": false,
    "ExecuteTime": {
     "end_time": "2024-04-22T09:13:49.414176Z",
     "start_time": "2024-04-22T09:13:49.383203Z"
    }
   },
   "outputs": [
    {
     "name": "stdout",
     "output_type": "stream",
     "text": [
      "load /Users/christian/data/zooniverse/2024_04_22_expert_goldstandard_analysis/Iguanas 1st launch/Iguanas 1st launch_method_comparison.csv\n"
     ]
    },
    {
     "data": {
      "text/plain": "      Unnamed: 0        subspecies         island                  site_name  \\\n0              0  A. c. trillmichi       Santa Fe                   El Miedo   \n1              1  A. c. trillmichi       Santa Fe                   El Miedo   \n2              2  A. c. trillmichi       Santa Fe                   El Miedo   \n3              3  A. c. trillmichi       Santa Fe                   El Miedo   \n4              4  A. c. trillmichi       Santa Fe                   El Miedo   \n...          ...               ...            ...                        ...   \n2728        2728    A. c. godzilla  San Cristobal  Playa Blanca (Punta Pitt)   \n2729        2729    A. c. godzilla  San Cristobal  Playa Blanca (Punta Pitt)   \n2730        2730    A. c. godzilla  San Cristobal  Playa Blanca (Punta Pitt)   \n2731        2731    A. c. godzilla  San Cristobal  Playa Blanca (Punta Pitt)   \n2732        2732    A. c. godzilla  San Cristobal  Playa Blanca (Punta Pitt)   \n\n     subject_group         image_name_x  subject_id_x presence_absence  \\\n0             SFM1  SFM01-2-2-2_282.jpg      47969795                Y   \n1             SFM1  SFM01-2-2-1_344.jpg      47969531                Y   \n2             SFM1  SFM01-2-2-2_270.jpg      47969760                Y   \n3             SFM1  SFM01-2-2-2_289.jpg      47969815                Y   \n4             SFM1  SFM01-2-2-2_291.jpg      47969821                Y   \n...            ...                  ...           ...              ...   \n2728         SRPB1    SRPB02-2-3_95.jpg      47990261                N   \n2729         SRPB1    SRPB02-2-3_96.jpg      47990268                N   \n2730         SRPB1    SRPB02-2-3_97.jpg      47990280                N   \n2731         SRPB1    SRPB02-2-3_98.jpg      47990285                N   \n2732         SRPB1    SRPB02-2-3_99.jpg      47990290                N   \n\n      count_male-lek  count_male-no-lek  ...  sum_annotations_count  \\\n0                  0                  2  ...                    5.0   \n1                  0                  2  ...                   13.0   \n2                  0                  0  ...                    0.0   \n3                  0                  0  ...                    0.0   \n4                  0                  0  ...                    0.0   \n...              ...                ...  ...                    ...   \n2728               0                  0  ...                    0.0   \n2729               0                  0  ...                    0.0   \n2730               0                  0  ...                    0.0   \n2731               0                  0  ...                    0.0   \n2732               0                  0  ...                    0.0   \n\n                annotations_count  subject_id dbscan_count_sil image_name_y  \\\n0                          [2, 3]  47969795.0              0.0   47969795.0   \n1     [1, 1, 1, 1, 1, 1, 2, 2, 3]  47969531.0              2.0   47969531.0   \n2                               0         0.0              0.0          0.0   \n3                               0         0.0              0.0          0.0   \n4                               0         0.0              0.0          0.0   \n...                           ...         ...              ...          ...   \n2728                            0         0.0              0.0          0.0   \n2729                            0         0.0              0.0          0.0   \n2730                            0         0.0              0.0          0.0   \n2731                            0         0.0              0.0          0.0   \n2732                            0         0.0              0.0          0.0   \n\n     HDBSCAN_count  eps  min_cluster_size  max_cluster_size  noise_points  \n0              1.0  0.0               5.0                 0           0.0  \n1              1.0  0.0               5.0                 0           8.0  \n2              0.0  0.0               0.0                 0           0.0  \n3              0.0  0.0               0.0                 0           0.0  \n4              0.0  0.0               0.0                 0           0.0  \n...            ...  ...               ...               ...           ...  \n2728           0.0  0.0               0.0                 0           0.0  \n2729           0.0  0.0               0.0                 0           0.0  \n2730           0.0  0.0               0.0                 0           0.0  \n2731           0.0  0.0               0.0                 0           0.0  \n2732           0.0  0.0               0.0                 0           0.0  \n\n[2733 rows x 34 columns]",
      "text/html": "<div>\n<style scoped>\n    .dataframe tbody tr th:only-of-type {\n        vertical-align: middle;\n    }\n\n    .dataframe tbody tr th {\n        vertical-align: top;\n    }\n\n    .dataframe thead th {\n        text-align: right;\n    }\n</style>\n<table border=\"1\" class=\"dataframe\">\n  <thead>\n    <tr style=\"text-align: right;\">\n      <th></th>\n      <th>Unnamed: 0</th>\n      <th>subspecies</th>\n      <th>island</th>\n      <th>site_name</th>\n      <th>subject_group</th>\n      <th>image_name_x</th>\n      <th>subject_id_x</th>\n      <th>presence_absence</th>\n      <th>count_male-lek</th>\n      <th>count_male-no-lek</th>\n      <th>...</th>\n      <th>sum_annotations_count</th>\n      <th>annotations_count</th>\n      <th>subject_id</th>\n      <th>dbscan_count_sil</th>\n      <th>image_name_y</th>\n      <th>HDBSCAN_count</th>\n      <th>eps</th>\n      <th>min_cluster_size</th>\n      <th>max_cluster_size</th>\n      <th>noise_points</th>\n    </tr>\n  </thead>\n  <tbody>\n    <tr>\n      <th>0</th>\n      <td>0</td>\n      <td>A. c. trillmichi</td>\n      <td>Santa Fe</td>\n      <td>El Miedo</td>\n      <td>SFM1</td>\n      <td>SFM01-2-2-2_282.jpg</td>\n      <td>47969795</td>\n      <td>Y</td>\n      <td>0</td>\n      <td>2</td>\n      <td>...</td>\n      <td>5.0</td>\n      <td>[2, 3]</td>\n      <td>47969795.0</td>\n      <td>0.0</td>\n      <td>47969795.0</td>\n      <td>1.0</td>\n      <td>0.0</td>\n      <td>5.0</td>\n      <td>0</td>\n      <td>0.0</td>\n    </tr>\n    <tr>\n      <th>1</th>\n      <td>1</td>\n      <td>A. c. trillmichi</td>\n      <td>Santa Fe</td>\n      <td>El Miedo</td>\n      <td>SFM1</td>\n      <td>SFM01-2-2-1_344.jpg</td>\n      <td>47969531</td>\n      <td>Y</td>\n      <td>0</td>\n      <td>2</td>\n      <td>...</td>\n      <td>13.0</td>\n      <td>[1, 1, 1, 1, 1, 1, 2, 2, 3]</td>\n      <td>47969531.0</td>\n      <td>2.0</td>\n      <td>47969531.0</td>\n      <td>1.0</td>\n      <td>0.0</td>\n      <td>5.0</td>\n      <td>0</td>\n      <td>8.0</td>\n    </tr>\n    <tr>\n      <th>2</th>\n      <td>2</td>\n      <td>A. c. trillmichi</td>\n      <td>Santa Fe</td>\n      <td>El Miedo</td>\n      <td>SFM1</td>\n      <td>SFM01-2-2-2_270.jpg</td>\n      <td>47969760</td>\n      <td>Y</td>\n      <td>0</td>\n      <td>0</td>\n      <td>...</td>\n      <td>0.0</td>\n      <td>0</td>\n      <td>0.0</td>\n      <td>0.0</td>\n      <td>0.0</td>\n      <td>0.0</td>\n      <td>0.0</td>\n      <td>0.0</td>\n      <td>0</td>\n      <td>0.0</td>\n    </tr>\n    <tr>\n      <th>3</th>\n      <td>3</td>\n      <td>A. c. trillmichi</td>\n      <td>Santa Fe</td>\n      <td>El Miedo</td>\n      <td>SFM1</td>\n      <td>SFM01-2-2-2_289.jpg</td>\n      <td>47969815</td>\n      <td>Y</td>\n      <td>0</td>\n      <td>0</td>\n      <td>...</td>\n      <td>0.0</td>\n      <td>0</td>\n      <td>0.0</td>\n      <td>0.0</td>\n      <td>0.0</td>\n      <td>0.0</td>\n      <td>0.0</td>\n      <td>0.0</td>\n      <td>0</td>\n      <td>0.0</td>\n    </tr>\n    <tr>\n      <th>4</th>\n      <td>4</td>\n      <td>A. c. trillmichi</td>\n      <td>Santa Fe</td>\n      <td>El Miedo</td>\n      <td>SFM1</td>\n      <td>SFM01-2-2-2_291.jpg</td>\n      <td>47969821</td>\n      <td>Y</td>\n      <td>0</td>\n      <td>0</td>\n      <td>...</td>\n      <td>0.0</td>\n      <td>0</td>\n      <td>0.0</td>\n      <td>0.0</td>\n      <td>0.0</td>\n      <td>0.0</td>\n      <td>0.0</td>\n      <td>0.0</td>\n      <td>0</td>\n      <td>0.0</td>\n    </tr>\n    <tr>\n      <th>...</th>\n      <td>...</td>\n      <td>...</td>\n      <td>...</td>\n      <td>...</td>\n      <td>...</td>\n      <td>...</td>\n      <td>...</td>\n      <td>...</td>\n      <td>...</td>\n      <td>...</td>\n      <td>...</td>\n      <td>...</td>\n      <td>...</td>\n      <td>...</td>\n      <td>...</td>\n      <td>...</td>\n      <td>...</td>\n      <td>...</td>\n      <td>...</td>\n      <td>...</td>\n      <td>...</td>\n    </tr>\n    <tr>\n      <th>2728</th>\n      <td>2728</td>\n      <td>A. c. godzilla</td>\n      <td>San Cristobal</td>\n      <td>Playa Blanca (Punta Pitt)</td>\n      <td>SRPB1</td>\n      <td>SRPB02-2-3_95.jpg</td>\n      <td>47990261</td>\n      <td>N</td>\n      <td>0</td>\n      <td>0</td>\n      <td>...</td>\n      <td>0.0</td>\n      <td>0</td>\n      <td>0.0</td>\n      <td>0.0</td>\n      <td>0.0</td>\n      <td>0.0</td>\n      <td>0.0</td>\n      <td>0.0</td>\n      <td>0</td>\n      <td>0.0</td>\n    </tr>\n    <tr>\n      <th>2729</th>\n      <td>2729</td>\n      <td>A. c. godzilla</td>\n      <td>San Cristobal</td>\n      <td>Playa Blanca (Punta Pitt)</td>\n      <td>SRPB1</td>\n      <td>SRPB02-2-3_96.jpg</td>\n      <td>47990268</td>\n      <td>N</td>\n      <td>0</td>\n      <td>0</td>\n      <td>...</td>\n      <td>0.0</td>\n      <td>0</td>\n      <td>0.0</td>\n      <td>0.0</td>\n      <td>0.0</td>\n      <td>0.0</td>\n      <td>0.0</td>\n      <td>0.0</td>\n      <td>0</td>\n      <td>0.0</td>\n    </tr>\n    <tr>\n      <th>2730</th>\n      <td>2730</td>\n      <td>A. c. godzilla</td>\n      <td>San Cristobal</td>\n      <td>Playa Blanca (Punta Pitt)</td>\n      <td>SRPB1</td>\n      <td>SRPB02-2-3_97.jpg</td>\n      <td>47990280</td>\n      <td>N</td>\n      <td>0</td>\n      <td>0</td>\n      <td>...</td>\n      <td>0.0</td>\n      <td>0</td>\n      <td>0.0</td>\n      <td>0.0</td>\n      <td>0.0</td>\n      <td>0.0</td>\n      <td>0.0</td>\n      <td>0.0</td>\n      <td>0</td>\n      <td>0.0</td>\n    </tr>\n    <tr>\n      <th>2731</th>\n      <td>2731</td>\n      <td>A. c. godzilla</td>\n      <td>San Cristobal</td>\n      <td>Playa Blanca (Punta Pitt)</td>\n      <td>SRPB1</td>\n      <td>SRPB02-2-3_98.jpg</td>\n      <td>47990285</td>\n      <td>N</td>\n      <td>0</td>\n      <td>0</td>\n      <td>...</td>\n      <td>0.0</td>\n      <td>0</td>\n      <td>0.0</td>\n      <td>0.0</td>\n      <td>0.0</td>\n      <td>0.0</td>\n      <td>0.0</td>\n      <td>0.0</td>\n      <td>0</td>\n      <td>0.0</td>\n    </tr>\n    <tr>\n      <th>2732</th>\n      <td>2732</td>\n      <td>A. c. godzilla</td>\n      <td>San Cristobal</td>\n      <td>Playa Blanca (Punta Pitt)</td>\n      <td>SRPB1</td>\n      <td>SRPB02-2-3_99.jpg</td>\n      <td>47990290</td>\n      <td>N</td>\n      <td>0</td>\n      <td>0</td>\n      <td>...</td>\n      <td>0.0</td>\n      <td>0</td>\n      <td>0.0</td>\n      <td>0.0</td>\n      <td>0.0</td>\n      <td>0.0</td>\n      <td>0.0</td>\n      <td>0.0</td>\n      <td>0</td>\n      <td>0.0</td>\n    </tr>\n  </tbody>\n</table>\n<p>2733 rows × 34 columns</p>\n</div>"
     },
     "execution_count": 157,
     "metadata": {},
     "output_type": "execute_result"
    }
   ],
   "source": [
    "print(f\"load {config['comparison_dataset']}\")\n",
    "pd.read_csv(config[\"comparison_dataset\"])"
   ]
  },
  {
   "cell_type": "markdown",
   "id": "34f5d0fc72193f65",
   "metadata": {
    "collapsed": false
   },
   "source": [
    "## Discussion:\n",
    "Clustering works, it yields better numbers than just taking mode,median or mean annotations from the volunteers, because it takes the spatial location of the marker dots into consideration.\n",
    "\n"
   ]
  },
  {
   "cell_type": "markdown",
   "id": "ec8c6b5d-475f-4f67-99b9-8bcb0283fdaa",
   "metadata": {},
   "source": [
    "Assert the numbers haven't changed"
   ]
  },
  {
   "cell_type": "code",
   "execution_count": 158,
   "id": "ece070cf65f069d9",
   "metadata": {
    "collapsed": false,
    "ExecuteTime": {
     "end_time": "2024-04-22T09:13:49.435507Z",
     "start_time": "2024-04-22T09:13:49.414832Z"
    }
   },
   "outputs": [
    {
     "data": {
      "text/plain": "dbscan_count_sil    218.00\nHDBSCAN_count       219.00\nmedian_count        236.00\nmean_count          256.87\ncount_total         422.00\ndtype: float64"
     },
     "execution_count": 158,
     "metadata": {},
     "output_type": "execute_result"
    }
   ],
   "source": [
    "df_comparison_sum"
   ]
  },
  {
   "cell_type": "code",
   "execution_count": 159,
   "id": "1827550559a71d75",
   "metadata": {
    "collapsed": false,
    "ExecuteTime": {
     "end_time": "2024-04-22T09:13:49.458019Z",
     "start_time": "2024-04-22T09:13:49.436165Z"
    }
   },
   "outputs": [
    {
     "data": {
      "text/plain": "98"
     },
     "execution_count": 159,
     "metadata": {},
     "output_type": "execute_result"
    }
   ],
   "source": [
    "df_comparison.subject_id.nunique()"
   ]
  },
  {
   "cell_type": "code",
   "execution_count": 160,
   "id": "98b7b0fe18ed314e",
   "metadata": {
    "collapsed": false,
    "ExecuteTime": {
     "end_time": "2024-04-22T09:13:49.480106Z",
     "start_time": "2024-04-22T09:13:49.458648Z"
    }
   },
   "outputs": [],
   "source": [
    "# these are the numbers before the sorting was repaired\n",
    "if phase_tag == \"Iguanas 1st launch\" and not debug:\n",
    "   \n",
    "    if user_threshold == 3:\n",
    "        assert df_comparison_sum[\"median_count\"] == 228.5\n",
    "        assert df_comparison_sum[\"HDBSCAN_count\"] == 244\n",
    "        assert df_comparison_sum[\"count_total\"] == 422\n",
    "        \n",
    "        assert df_comparison.subject_id.nunique() == 2733\n",
    "\n",
    "if phase_tag == \"Iguanas 2nd launch\" and not debug:\n",
    "\n",
    "    if user_threshold == 3:\n",
    "        assert df_comparison_sum[\"median_count\"] == 475\n",
    "        assert df_comparison_sum[\"HDBSCAN_count\"] == 541.0\n",
    "        assert df_comparison_sum[\"count_total\"] == 600\n",
    "        \n",
    "        assert df_comparison.subject_id.nunique() == 456\n",
    "\n",
    "if phase_tag == \"Iguanas 3rd launch\" and not debug:\n",
    "        \n",
    "    if user_threshold == 3:\n",
    "        assert df_comparison_sum[\"median_count\"] == 314.5\n",
    "        assert df_comparison_sum[\"HDBSCAN_count\"] == 358\n",
    "        assert df_comparison_sum[\"count_total\"] == 388\n",
    "        \n",
    "        assert df_comparison.subject_id.nunique() == 1156\n"
   ]
  },
  {
   "cell_type": "code",
   "execution_count": 160,
   "id": "0c414542-3075-4bb7-8bb5-807e474044ef",
   "metadata": {
    "ExecuteTime": {
     "end_time": "2024-04-22T09:13:49.482138Z",
     "start_time": "2024-04-22T09:13:49.480695Z"
    }
   },
   "outputs": [],
   "source": []
  }
 ],
 "metadata": {
  "kernelspec": {
   "display_name": "Python 3 (ipykernel)",
   "language": "python",
   "name": "python3"
  },
  "language_info": {
   "codemirror_mode": {
    "name": "ipython",
    "version": 3
   },
   "file_extension": ".py",
   "mimetype": "text/x-python",
   "name": "python",
   "nbconvert_exporter": "python",
   "pygments_lexer": "ipython3",
   "version": "3.9.6"
  }
 },
 "nbformat": 4,
 "nbformat_minor": 5
}
