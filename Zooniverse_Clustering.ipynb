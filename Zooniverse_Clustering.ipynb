{
 "cells": [
  {
   "cell_type": "markdown",
   "id": "708022ad72146e6d",
   "metadata": {},
   "source": [
    "# Clustering Zooniverse Marks to count Iguanas\n",
    "The goal is to find the best method to cluster the data and find the best number of clusters.\n",
    "The benchmark is a gold standard dataset obtained by experts."
   ]
  },
  {
   "cell_type": "code",
   "execution_count": 6,
   "id": "d59fc4434d71491c",
   "metadata": {
    "collapsed": false,
    "tags": [],
    "ExecuteTime": {
     "end_time": "2024-03-08T13:57:57.366237Z",
     "start_time": "2024-03-08T13:57:57.349837Z"
    }
   },
   "outputs": [
    {
     "name": "stdout",
     "output_type": "stream",
     "text": [
      "The autoreload extension is already loaded. To reload it, use:\n",
      "  %reload_ext autoreload\n"
     ]
    }
   ],
   "source": [
    "%load_ext autoreload\n",
    "%autoreload 2\n",
    "\n",
    "import sys\n",
    "\n",
    "sys.path.append(\"../\")\n",
    "sys.path.append(\"../zooniverse\")"
   ]
  },
  {
   "cell_type": "markdown",
   "id": "731716bd21e99cbe",
   "metadata": {
    "collapsed": false
   },
   "source": [
    "## Intro\n",
    "### Retrieve a Classification report from Zooniverse\n",
    "Export the classification export from your zooniverse project.\n",
    "https://www.zooniverse.org/lab/11905/data-exports\n",
    "\n",
    "This leads to a csv file which can be used for the analysis which should be renamed to `iguanas-from-above-classifications.csv` and placed in the `input_path` directory.\n",
    "The methods do not use methods from zooniverse. It is a custom implementation.\n",
    "\n",
    "An alternative would be to use the [code provided by zooniverse](https://github.com/zooniverse/Data-digging/tree/master/notebooks_ProcessExports)\n",
    "(Bird Count Example)[https://github.com/zooniverse/Data-digging/blob/master/scripts_ProjectExamples/seabirdwatch/bird_count.py]\n",
    "\n",
    "This notebooks assumes the data is flat and prepared. An alternative format would be the [cesar aggregation format](https://github.com/zooniverse/aggregation-for-caesar)\n",
    "\n",
    "Used Methods are:\n",
    "\n",
    "### DBSCAN \n",
    "It does not require the number of clusters to be specified. It is used here because, but has min_samples and eps as hyperparameters which need to be found. [Link](https://scikit-learn.org/stable/auto_examples/cluster/plot_dbscan.html)\n",
    "For finding eps and min_sample a simple **grid search** is used.\n",
    "Additionally, DBSCAN not assume a specific shape for the clusters (K-means assumes clusters are gaussian in shape) even though we should assume that points around an iguana is gaussian shaped.\n",
    "\n",
    "### HDBSCAN\n",
    "It is an extension of DBSCAN which is more robust to hyperparameter settings as it finds epsilon and min_samples automatically. [Link](https://scikit-learn.org/stable/modules/generated/sklearn.cluster.HDBSCAN.html)"
   ]
  },
  {
   "cell_type": "markdown",
   "id": "fc7e7da572712fcd",
   "metadata": {
    "collapsed": false
   },
   "source": [
    "### Processing workflow\n",
    "\n",
    "The Data is flatted and filtered\n",
    "![Image](images/dataprocessing-DataFiltering.png)\n",
    "\n",
    "In each phase we have the following number of images if they are filtered for at least 4 true marks by users\n",
    "1. phase 105\n",
    "2. phase 160\n",
    "3. phase 86\n"
   ]
  },
  {
   "cell_type": "markdown",
   "id": "e261acba86137ddd",
   "metadata": {
    "collapsed": false
   },
   "source": [
    "## Load the data"
   ]
  },
  {
   "cell_type": "code",
   "execution_count": 7,
   "id": "823d8c3234e4a1de",
   "metadata": {
    "collapsed": false,
    "tags": [],
    "ExecuteTime": {
     "end_time": "2024-03-08T13:57:57.538329Z",
     "start_time": "2024-03-08T13:57:57.520119Z"
    }
   },
   "outputs": [],
   "source": [
    "from zooniverse.utils.data_format import data_prep\n",
    "from pathlib import Path\n",
    "\n",
    "import pandas as pd\n",
    "from zooniverse.analysis import get_annotation_count_stats\n",
    "from zooniverse.utils.filters import filter_df_user_threshold\n",
    "from zooniverse.config import get_config\n",
    "\n",
    "## Input Path of all the data\n",
    "input_path =Path(\"/Users/christian/data/zooniverse\")\n",
    "\n",
    "reprocess = True # if True, the raw classification data is reprocessed. If False, the data is loaded from disk\n",
    "\n",
    "# Phase Selection\n",
    "phase_tag = \"Iguanas 1st launch\"\n",
    "# phase_tag = \"Iguanas 2nd launch\"\n",
    "# phase_tag = \"Iguanas 3rd launch\"\n",
    "\n",
    "\n",
    "debug = False # debugging with a smaller dataset\n",
    "plot_diagrams = False # plot the diagrams to disk for the clustering methods\n",
    "show_plots = False # show the plots in the notebook\n",
    "user_threshold = None # in a number, filter records which have less than these user interactions.\n",
    "\n",
    "\n",
    "### use either the subset of the subset\n",
    "use_gold_standard_subset = \"expert_goldstandard\" # Use the X-T2-GS-results-5th-0s as the basis\n",
    "# use_gold_standard_subset = \"expert\" # Use the expert-GS-Xphase as the basis\n",
    "\n",
    "# Location for the analysis Results\n",
    "output_path = Path(input_path.joinpath(f\"2024_03_07_{use_gold_standard_subset}_analysis\").joinpath(phase_tag))\n",
    "output_path.mkdir(exist_ok=True, parents=True)\n",
    "\n",
    "# Location for plots\n",
    "output_plot_path = output_path.joinpath(\"plots\")\n",
    "output_plot_path.mkdir(parents=True, exist_ok=True)\n"
   ]
  },
  {
   "cell_type": "markdown",
   "source": [
    "## Look into the config\n",
    "This Config points to all files necessary for the analysis + the result files"
   ],
   "metadata": {
    "collapsed": false
   },
   "id": "593bea9e98df4db0"
  },
  {
   "cell_type": "code",
   "outputs": [
    {
     "data": {
      "text/plain": "{'annotations_source': PosixPath('/Users/christian/data/zooniverse/IguanasFromAbove/2023-10-15/iguanas-from-above-classifications.csv'),\n 'goldstandard_data': PosixPath('/Users/christian/data/zooniverse/Images/Zooniverse_Goldstandard_images/expert-GS-1stphase.csv'),\n 'gold_standard_image_subset': PosixPath('/Users/christian/data/zooniverse/Images/Zooniverse_Goldstandard_images/1-T2-GS-results-5th-0s.csv'),\n 'image_source': PosixPath('/Users/christian/data/zooniverse/Images/Zooniverse_Goldstandard_images/1st launch'),\n 'yes_no_dataset': PosixPath('/Users/christian/data/zooniverse/2024_03_07_expert_goldstandard_analysis/Iguanas 1st launch/yes_no_dataset_Iguanas 1st launch.csv'),\n 'flat_dataset': PosixPath('/Users/christian/data/zooniverse/2024_03_07_expert_goldstandard_analysis/Iguanas 1st launch/flat_dataset_Iguanas 1st launch.csv'),\n 'merged_dataset': PosixPath('/Users/christian/data/zooniverse/2024_03_07_expert_goldstandard_analysis/Iguanas 1st launch/merged_dataset_gold_standard_expert_Iguanas 1st launch_filtered.csv'),\n 'gold_standard_and_expert_count': PosixPath('/Users/christian/data/zooniverse/2024_03_07_expert_goldstandard_analysis/Iguanas 1st launch/Iguanas 1st launch_gold_standard_and_expert_count.csv'),\n 'comparison_dataset': PosixPath('/Users/christian/data/zooniverse/2024_03_07_expert_goldstandard_analysis/Iguanas 1st launch/Iguanas 1st launch_method_comparison.csv'),\n 'method_sums': PosixPath('/Users/christian/data/zooniverse/2024_03_07_expert_goldstandard_analysis/Iguanas 1st launch/Iguanas 1st launch_method_sums.csv'),\n 'rmse_errors': PosixPath('/Users/christian/data/zooniverse/2024_03_07_expert_goldstandard_analysis/Iguanas 1st launch/Iguanas 1st launch_rmse_errors.csv'),\n 'dbscan_hyperparam_grid': PosixPath('/Users/christian/data/zooniverse/2024_03_07_expert_goldstandard_analysis/Iguanas 1st launch/Iguanas 1st launch_hyperparam_grid.csv')}"
     },
     "execution_count": 8,
     "metadata": {},
     "output_type": "execute_result"
    }
   ],
   "source": [
    "config = get_config(phase_tag=phase_tag, input_path=input_path, output_path=output_path)\n",
    "config"
   ],
   "metadata": {
    "collapsed": false,
    "ExecuteTime": {
     "end_time": "2024-03-08T13:57:57.557225Z",
     "start_time": "2024-03-08T13:57:57.540477Z"
    }
   },
   "id": "674da03e20316ae5",
   "execution_count": 8
  },
  {
   "cell_type": "code",
   "outputs": [
    {
     "name": "stderr",
     "output_type": "stream",
     "text": [
      "\u001B[32m2024-03-08 14:57:57.571\u001B[0m | \u001B[1mINFO    \u001B[0m | \u001B[36mzooniverse.utils.data_format\u001B[0m:\u001B[36mread_zooniverse_annotations_v2\u001B[0m:\u001B[36m175\u001B[0m - \u001B[1mfound a new phase tag: Iguanas 1st launch\u001B[0m\n"
     ]
    },
    {
     "name": "stdout",
     "output_type": "stream",
     "text": [
      "{'retired': None, 'link': 'https://www.flickr.com/photos/hellie55/6713782851', 'origin': 'Flickr', 'license': 'Creative Commons - share adapt attribute', 'subject_id': '3', 'attribution': 'hehaden', 'image_name_1': '6713782851_82fc8c73e5_z.jpg', '#secret_description': 'juvenile kittehs practice break-in at the catnip factory'}\n",
      "{'retired': None, 'link': 'https://www.flickr.com/photos/davebloggs007/15899553966', 'origin': 'Flickr', 'license': 'Creative Commons - share adapt attribute', 'subject_id': '16', 'attribution': 'davebloggs007', 'image_name_1': '15899553966_5debf88369_z.jpg', '#secret_description': 'makeover kitteh not sure these new contacts are sassy enough'}\n",
      "{'retired': None, 'link': 'https://www.flickr.com/photos/odoketa/8762013777', 'origin': 'Flickr', 'license': 'Creative Commons - share adapt attribute', 'subject_id': '4', 'attribution': 'David Barber', 'image_name_1': '8762013777_1fa7d91e98_z.jpg', '#secret_description': 'hunter kitteh only willing to go so far to capture the feather duster'}\n"
     ]
    },
    {
     "name": "stderr",
     "output_type": "stream",
     "text": [
      "\u001B[32m2024-03-08 14:58:05.808\u001B[0m | \u001B[1mINFO    \u001B[0m | \u001B[36mzooniverse.utils.data_format\u001B[0m:\u001B[36mread_zooniverse_annotations_v2\u001B[0m:\u001B[36m175\u001B[0m - \u001B[1mfound a new phase tag: Main Workflow\u001B[0m\n",
      "\u001B[32m2024-03-08 14:58:07.309\u001B[0m | \u001B[1mINFO    \u001B[0m | \u001B[36mzooniverse.utils.data_format\u001B[0m:\u001B[36mread_zooniverse_annotations_v2\u001B[0m:\u001B[36m175\u001B[0m - \u001B[1mfound a new phase tag: survey tool 061417\u001B[0m\n",
      "\u001B[32m2024-03-08 14:58:08.973\u001B[0m | \u001B[1mINFO    \u001B[0m | \u001B[36mzooniverse.utils.data_format\u001B[0m:\u001B[36mread_zooniverse_annotations_v2\u001B[0m:\u001B[36m175\u001B[0m - \u001B[1mfound a new phase tag: Iguanas 2nd launch\u001B[0m\n",
      "\u001B[32m2024-03-08 14:58:13.225\u001B[0m | \u001B[1mINFO    \u001B[0m | \u001B[36mzooniverse.utils.data_format\u001B[0m:\u001B[36mread_zooniverse_annotations_v2\u001B[0m:\u001B[36m175\u001B[0m - \u001B[1mfound a new phase tag: Iguanas 3rd launch\u001B[0m\n",
      "\u001B[32m2024-03-08 14:58:27.570\u001B[0m | \u001B[1mINFO    \u001B[0m | \u001B[36mzooniverse.utils.data_format\u001B[0m:\u001B[36mread_zooniverse_annotations_v2\u001B[0m:\u001B[36m175\u001B[0m - \u001B[1mfound a new phase tag: Iguanas 4th launch\u001B[0m\n",
      "\u001B[32m2024-03-08 14:58:27.571\u001B[0m | \u001B[1mINFO    \u001B[0m | \u001B[36mzooniverse.utils.data_format\u001B[0m:\u001B[36mread_zooniverse_annotations_v2\u001B[0m:\u001B[36m175\u001B[0m - \u001B[1mfound a new phase tag: Plastics GS dataset\u001B[0m\n",
      "\u001B[32m2024-03-08 14:58:27.589\u001B[0m | \u001B[1mINFO    \u001B[0m | \u001B[36mzooniverse.utils.data_format\u001B[0m:\u001B[36mread_zooniverse_annotations_v2\u001B[0m:\u001B[36m255\u001B[0m - \u001B[1mgenerating flat dataframe from the dataset\u001B[0m\n",
      "\u001B[32m2024-03-08 14:58:29.439\u001B[0m | \u001B[1mINFO    \u001B[0m | \u001B[36mzooniverse.utils.data_format\u001B[0m:\u001B[36mdata_prep\u001B[0m:\u001B[36m300\u001B[0m - \u001B[1mflat_dataset_Iguanas Iguanas 1st launch.csv: 8260 images in classification for Iguanas 1st launch\u001B[0m\n",
      "\u001B[32m2024-03-08 14:58:29.466\u001B[0m | \u001B[1mINFO    \u001B[0m | \u001B[36mzooniverse.utils.data_format\u001B[0m:\u001B[36mdata_prep\u001B[0m:\u001B[36m309\u001B[0m - \u001B[1mimages source: found 2737 images in /Users/christian/data/zooniverse/Images/Zooniverse_Goldstandard_images/1st launch\u001B[0m\n",
      "\u001B[32m2024-03-08 14:58:29.470\u001B[0m | \u001B[1mINFO    \u001B[0m | \u001B[36mzooniverse.utils.data_format\u001B[0m:\u001B[36mdata_prep\u001B[0m:\u001B[36m322\u001B[0m - \u001B[1mfound 2733 images in /Users/christian/data/zooniverse/Images/Zooniverse_Goldstandard_images/expert-GS-1stphase.csv, the expert counts\u001B[0m\n",
      "\u001B[32m2024-03-08 14:58:29.472\u001B[0m | \u001B[1mINFO    \u001B[0m | \u001B[36mzooniverse.utils.data_format\u001B[0m:\u001B[36mdata_prep\u001B[0m:\u001B[36m330\u001B[0m - \u001B[1mworking with 107 images in /Users/christian/data/zooniverse/Images/Zooniverse_Goldstandard_images/1-T2-GS-results-5th-0s.csv, the goldstandard file.\u001B[0m\n",
      "\u001B[32m2024-03-08 14:58:29.472\u001B[0m | \u001B[1mINFO    \u001B[0m | \u001B[36mzooniverse.utils.data_format\u001B[0m:\u001B[36mprocess_zooniverse_phases_flat\u001B[0m:\u001B[36m95\u001B[0m - \u001B[1mfiltering the image dataset for  2737 images\u001B[0m\n",
      "\u001B[32m2024-03-08 14:58:29.476\u001B[0m | \u001B[1mINFO    \u001B[0m | \u001B[36mzooniverse.utils.data_format\u001B[0m:\u001B[36mprocess_zooniverse_phases_flat\u001B[0m:\u001B[36m98\u001B[0m - \u001B[1mworking with 1014 images after filtering with image_names\u001B[0m\n",
      "\u001B[32m2024-03-08 14:58:29.477\u001B[0m | \u001B[1mINFO    \u001B[0m | \u001B[36mzooniverse.utils.data_format\u001B[0m:\u001B[36mprocess_zooniverse_phases_flat\u001B[0m:\u001B[36m101\u001B[0m - \u001B[1mfiltering the image dataset for  107 subject_ids\u001B[0m\n",
      "\u001B[32m2024-03-08 14:58:29.478\u001B[0m | \u001B[1mINFO    \u001B[0m | \u001B[36mzooniverse.utils.data_format\u001B[0m:\u001B[36mprocess_zooniverse_phases_flat\u001B[0m:\u001B[36m104\u001B[0m - \u001B[1mworking with 107 images after filtering with subject_ids\u001B[0m\n",
      "\u001B[32m2024-03-08 14:58:30.611\u001B[0m | \u001B[1mINFO    \u001B[0m | \u001B[36mzooniverse.analysis\u001B[0m:\u001B[36mget_all_image_paths\u001B[0m:\u001B[36m106\u001B[0m - \u001B[1mdone with processing Image Metadata.\u001B[0m\n",
      "\u001B[32m2024-03-08 14:58:30.636\u001B[0m | \u001B[33m\u001B[1mWARNING \u001B[0m | \u001B[36mzooniverse.utils.filters\u001B[0m:\u001B[36mfilter_remove_marks\u001B[0m:\u001B[36m38\u001B[0m - \u001B[33m\u001B[1mremoved 64 partial marks\u001B[0m\n",
      "\u001B[32m2024-03-08 14:58:30.637\u001B[0m | \u001B[33m\u001B[1mWARNING \u001B[0m | \u001B[36mzooniverse.utils.filters\u001B[0m:\u001B[36mfilter_remove_marks\u001B[0m:\u001B[36m39\u001B[0m - \u001B[33m\u001B[1mAfter filter_func 107 images are left\u001B[0m\n",
      "\u001B[32m2024-03-08 14:58:30.640\u001B[0m | \u001B[1mINFO    \u001B[0m | \u001B[36mzooniverse.utils.data_format\u001B[0m:\u001B[36mprocess_zooniverse_phases_flat\u001B[0m:\u001B[36m118\u001B[0m - \u001B[1mworking with 3047 records after filtering with filter_func\u001B[0m\n",
      "\u001B[32m2024-03-08 14:58:30.645\u001B[0m | \u001B[1mINFO    \u001B[0m | \u001B[36mzooniverse.utils.data_format\u001B[0m:\u001B[36mdata_prep\u001B[0m:\u001B[36m370\u001B[0m - \u001B[1mworking with 3047 records after process function 'process_zooniverse_phases'\u001B[0m\n",
      "\u001B[32m2024-03-08 14:58:30.661\u001B[0m | \u001B[1mINFO    \u001B[0m | \u001B[36mzooniverse.utils.data_format\u001B[0m:\u001B[36mdata_prep\u001B[0m:\u001B[36m372\u001B[0m - \u001B[1msaved finished dataset to /Users/christian/data/zooniverse/2024_03_07_expert_goldstandard_analysis/Iguanas 1st launch/merged_dataset_gold_standard_expert_Iguanas 1st launch_filtered.csv\u001B[0m\n"
     ]
    },
    {
     "name": "stdout",
     "output_type": "stream",
     "text": [
      "                                            filename  images\n",
      "0                flat_dataset_Iguanas 1st launch.csv    8260\n",
      "1                                         1st launch    2737\n",
      "2                             expert-GS-1stphase.csv    2733\n",
      "3                         1-T2-GS-results-5th-0s.csv     107\n",
      "4  merged_dataset_gold_standard_expert_Iguanas 1s...     107\n"
     ]
    }
   ],
   "source": [
    "if reprocess:\n",
    "    ds_stats = data_prep(phase_tag=phase_tag, \n",
    "                         output_path=output_path, \n",
    "                         input_path=input_path,\n",
    "                         filter_combination=use_gold_standard_subset, config=config)\n",
    "    print(ds_stats)"
   ],
   "metadata": {
    "collapsed": false,
    "ExecuteTime": {
     "end_time": "2024-03-08T13:58:30.770398Z",
     "start_time": "2024-03-08T13:57:57.557984Z"
    }
   },
   "id": "ee63e05f12a7f36b",
   "execution_count": 9
  },
  {
   "cell_type": "code",
   "execution_count": 9,
   "id": "78dc43b82ba30710",
   "metadata": {
    "collapsed": false,
    "ExecuteTime": {
     "end_time": "2024-03-08T13:58:30.773133Z",
     "start_time": "2024-03-08T13:58:30.771719Z"
    }
   },
   "outputs": [],
   "source": []
  },
  {
   "cell_type": "code",
   "execution_count": 9,
   "id": "2c90437596b36a54",
   "metadata": {
    "collapsed": false,
    "ExecuteTime": {
     "end_time": "2024-03-08T13:58:30.775368Z",
     "start_time": "2024-03-08T13:58:30.773710Z"
    }
   },
   "outputs": [],
   "source": []
  },
  {
   "cell_type": "markdown",
   "id": "7e3cf1edbc774b52",
   "metadata": {
    "collapsed": false
   },
   "source": [
    "### Optional Debugging"
   ]
  },
  {
   "cell_type": "code",
   "execution_count": 10,
   "id": "bc2fa0f92651d9da",
   "metadata": {
    "collapsed": false,
    "ExecuteTime": {
     "end_time": "2024-03-08T13:58:30.799709Z",
     "start_time": "2024-03-08T13:58:30.775925Z"
    }
   },
   "outputs": [],
   "source": [
    "if plot_diagrams == False:\n",
    "    output_plot_path = None\n",
    "\n",
    "# the flattened, filtered marks from zooniverse.\n",
    "df_merged_dataset = pd.read_csv(config[\"merged_dataset\"])\n",
    "\n",
    "# data for reference\n",
    "df_goldstandard_expert_count = pd.read_csv(config[\"goldstandard_data\"], sep=\";\")\n",
    "\n",
    "## Debugging helpers\n",
    "if phase_tag == \"Iguanas 1st launch\":    \n",
    "    if debug:\n",
    "\n",
    "        df_merged_dataset = df_merged_dataset[df_merged_dataset.image_name.isin([\"SFM01-2-2-2_333.jpg\", \"SFM01-2-2-2_334.jpg\", \"SFM01-2-2-3_201.jpg\"])]\n",
    "\n",
    "elif phase_tag == \"Iguanas 2nd launch\":\n",
    "    if debug:\n",
    "        df_merged_dataset = df_merged_dataset[\n",
    "           df_merged_dataset.image_name.isin([\"FMO03-1_65.jpg\", \"FMO03-1_72.jpg\", \"MBN04-2_182.jpg\", \"EGI08-2_78.jpg\"])]\n",
    "           # df_merged_dataset.image_name.isin([\"FMO03-1_72.jpg\"])]\n",
    "\n",
    "    \n",
    "elif phase_tag == \"Iguanas 3rd launch\":\n",
    "\n",
    "    # this user is a spammer\n",
    "    df_merged_dataset = df_merged_dataset[df_merged_dataset.user_id != 2581179]\n",
    "    \n",
    "    if debug:\n",
    "        df_merged_dataset = df_merged_dataset[\n",
    "           df_merged_dataset.image_name.isin([\"FMO03-2_70.jpg\", \"MBN04-2_182.jpg\", \"EGI08-2_78.jpg\"])]\n",
    "            \n",
    "    \n"
   ]
  },
  {
   "cell_type": "markdown",
   "id": "bf09c7260aa5e8ed",
   "metadata": {
    "collapsed": false
   },
   "source": [
    "## Look at the data\n"
   ]
  },
  {
   "cell_type": "code",
   "execution_count": 11,
   "id": "6e814289feb967ec",
   "metadata": {
    "collapsed": false,
    "ExecuteTime": {
     "end_time": "2024-03-08T13:58:30.821284Z",
     "start_time": "2024-03-08T13:58:30.800356Z"
    }
   },
   "outputs": [
    {
     "data": {
      "text/plain": "      Unnamed: 0 flight_site_code           image_name  subject_id  \\\n0              0             SFM1  SFM01-2-2-3_137.jpg    47970105   \n1              1             SFM1  SFM01-2-2-3_137.jpg    47970105   \n2              2             SFM1  SFM01-2-2-3_137.jpg    47970105   \n3              3             SFM1    SFM01-1-2_264.jpg    47968406   \n4              4             SFM1    SFM01-1-2_264.jpg    47968406   \n...          ...              ...                  ...         ...   \n3042        3042             SFM1  SFM01-2-2-1_120.jpg    47969236   \n3043        3043             SFM1  SFM01-2-2-1_120.jpg    47969236   \n3044        3044             SFM1    SFM01-1-2_210.jpg    47968359   \n3045        3045             SFM1    SFM01-1-2_210.jpg    47968359   \n3046        3046             SFM1    SFM01-1-2_210.jpg    47968359   \n\n               x           y  \\\n0     376.160156   84.558594   \n1     272.695312  297.894531   \n2     111.898438  410.011719   \n3     462.800781  390.786377   \n4     545.598145  423.652527   \n...          ...         ...   \n3042  406.704041  383.049408   \n3043  577.184998  270.231110   \n3044  316.314850  392.354614   \n3045  326.542725  402.156372   \n3046  318.994141  396.814789   \n\n                                             tool_label           phase_tag  \\\n0                                      Adult Male alone  Iguanas 1st launch   \n1                                      Adult Male alone  Iguanas 1st launch   \n2                                      Adult Male alone  Iguanas 1st launch   \n3                                   Adult Male in a lek  Iguanas 1st launch   \n4     Others (females, young males, juveniles and ta...  Iguanas 1st launch   \n...                                                 ...                 ...   \n3042                       Could be an iguana, not sure  Iguanas 1st launch   \n3043                       Could be an iguana, not sure  Iguanas 1st launch   \n3044  Others (females, young males, juveniles and ta...  Iguanas 1st launch   \n3045  Others (females, young males, juveniles and ta...  Iguanas 1st launch   \n3046                                   Adult Male alone  Iguanas 1st launch   \n\n        user_id mission_name  \\\n0     2068663.0         SFM1   \n1     2068663.0         SFM1   \n2     2068663.0         SFM1   \n3     1878692.0         SFM1   \n4     1878692.0         SFM1   \n...         ...          ...   \n3042        NaN         SFM1   \n3043        NaN         SFM1   \n3044  2136122.0         SFM1   \n3045  2136122.0         SFM1   \n3046  2193415.0         SFM1   \n\n                                             image_path  width  height  \n0     /Users/christian/data/zooniverse/Images/Zooniv...    589     573  \n1     /Users/christian/data/zooniverse/Images/Zooniv...    589     573  \n2     /Users/christian/data/zooniverse/Images/Zooniv...    589     573  \n3     /Users/christian/data/zooniverse/Images/Zooniv...    599     630  \n4     /Users/christian/data/zooniverse/Images/Zooniv...    599     630  \n...                                                 ...    ...     ...  \n3042  /Users/christian/data/zooniverse/Images/Zooniv...    666     648  \n3043  /Users/christian/data/zooniverse/Images/Zooniv...    666     648  \n3044  /Users/christian/data/zooniverse/Images/Zooniv...    599     630  \n3045  /Users/christian/data/zooniverse/Images/Zooniv...    599     630  \n3046  /Users/christian/data/zooniverse/Images/Zooniv...    599     630  \n\n[3047 rows x 13 columns]",
      "text/html": "<div>\n<style scoped>\n    .dataframe tbody tr th:only-of-type {\n        vertical-align: middle;\n    }\n\n    .dataframe tbody tr th {\n        vertical-align: top;\n    }\n\n    .dataframe thead th {\n        text-align: right;\n    }\n</style>\n<table border=\"1\" class=\"dataframe\">\n  <thead>\n    <tr style=\"text-align: right;\">\n      <th></th>\n      <th>Unnamed: 0</th>\n      <th>flight_site_code</th>\n      <th>image_name</th>\n      <th>subject_id</th>\n      <th>x</th>\n      <th>y</th>\n      <th>tool_label</th>\n      <th>phase_tag</th>\n      <th>user_id</th>\n      <th>mission_name</th>\n      <th>image_path</th>\n      <th>width</th>\n      <th>height</th>\n    </tr>\n  </thead>\n  <tbody>\n    <tr>\n      <th>0</th>\n      <td>0</td>\n      <td>SFM1</td>\n      <td>SFM01-2-2-3_137.jpg</td>\n      <td>47970105</td>\n      <td>376.160156</td>\n      <td>84.558594</td>\n      <td>Adult Male alone</td>\n      <td>Iguanas 1st launch</td>\n      <td>2068663.0</td>\n      <td>SFM1</td>\n      <td>/Users/christian/data/zooniverse/Images/Zooniv...</td>\n      <td>589</td>\n      <td>573</td>\n    </tr>\n    <tr>\n      <th>1</th>\n      <td>1</td>\n      <td>SFM1</td>\n      <td>SFM01-2-2-3_137.jpg</td>\n      <td>47970105</td>\n      <td>272.695312</td>\n      <td>297.894531</td>\n      <td>Adult Male alone</td>\n      <td>Iguanas 1st launch</td>\n      <td>2068663.0</td>\n      <td>SFM1</td>\n      <td>/Users/christian/data/zooniverse/Images/Zooniv...</td>\n      <td>589</td>\n      <td>573</td>\n    </tr>\n    <tr>\n      <th>2</th>\n      <td>2</td>\n      <td>SFM1</td>\n      <td>SFM01-2-2-3_137.jpg</td>\n      <td>47970105</td>\n      <td>111.898438</td>\n      <td>410.011719</td>\n      <td>Adult Male alone</td>\n      <td>Iguanas 1st launch</td>\n      <td>2068663.0</td>\n      <td>SFM1</td>\n      <td>/Users/christian/data/zooniverse/Images/Zooniv...</td>\n      <td>589</td>\n      <td>573</td>\n    </tr>\n    <tr>\n      <th>3</th>\n      <td>3</td>\n      <td>SFM1</td>\n      <td>SFM01-1-2_264.jpg</td>\n      <td>47968406</td>\n      <td>462.800781</td>\n      <td>390.786377</td>\n      <td>Adult Male in a lek</td>\n      <td>Iguanas 1st launch</td>\n      <td>1878692.0</td>\n      <td>SFM1</td>\n      <td>/Users/christian/data/zooniverse/Images/Zooniv...</td>\n      <td>599</td>\n      <td>630</td>\n    </tr>\n    <tr>\n      <th>4</th>\n      <td>4</td>\n      <td>SFM1</td>\n      <td>SFM01-1-2_264.jpg</td>\n      <td>47968406</td>\n      <td>545.598145</td>\n      <td>423.652527</td>\n      <td>Others (females, young males, juveniles and ta...</td>\n      <td>Iguanas 1st launch</td>\n      <td>1878692.0</td>\n      <td>SFM1</td>\n      <td>/Users/christian/data/zooniverse/Images/Zooniv...</td>\n      <td>599</td>\n      <td>630</td>\n    </tr>\n    <tr>\n      <th>...</th>\n      <td>...</td>\n      <td>...</td>\n      <td>...</td>\n      <td>...</td>\n      <td>...</td>\n      <td>...</td>\n      <td>...</td>\n      <td>...</td>\n      <td>...</td>\n      <td>...</td>\n      <td>...</td>\n      <td>...</td>\n      <td>...</td>\n    </tr>\n    <tr>\n      <th>3042</th>\n      <td>3042</td>\n      <td>SFM1</td>\n      <td>SFM01-2-2-1_120.jpg</td>\n      <td>47969236</td>\n      <td>406.704041</td>\n      <td>383.049408</td>\n      <td>Could be an iguana, not sure</td>\n      <td>Iguanas 1st launch</td>\n      <td>NaN</td>\n      <td>SFM1</td>\n      <td>/Users/christian/data/zooniverse/Images/Zooniv...</td>\n      <td>666</td>\n      <td>648</td>\n    </tr>\n    <tr>\n      <th>3043</th>\n      <td>3043</td>\n      <td>SFM1</td>\n      <td>SFM01-2-2-1_120.jpg</td>\n      <td>47969236</td>\n      <td>577.184998</td>\n      <td>270.231110</td>\n      <td>Could be an iguana, not sure</td>\n      <td>Iguanas 1st launch</td>\n      <td>NaN</td>\n      <td>SFM1</td>\n      <td>/Users/christian/data/zooniverse/Images/Zooniv...</td>\n      <td>666</td>\n      <td>648</td>\n    </tr>\n    <tr>\n      <th>3044</th>\n      <td>3044</td>\n      <td>SFM1</td>\n      <td>SFM01-1-2_210.jpg</td>\n      <td>47968359</td>\n      <td>316.314850</td>\n      <td>392.354614</td>\n      <td>Others (females, young males, juveniles and ta...</td>\n      <td>Iguanas 1st launch</td>\n      <td>2136122.0</td>\n      <td>SFM1</td>\n      <td>/Users/christian/data/zooniverse/Images/Zooniv...</td>\n      <td>599</td>\n      <td>630</td>\n    </tr>\n    <tr>\n      <th>3045</th>\n      <td>3045</td>\n      <td>SFM1</td>\n      <td>SFM01-1-2_210.jpg</td>\n      <td>47968359</td>\n      <td>326.542725</td>\n      <td>402.156372</td>\n      <td>Others (females, young males, juveniles and ta...</td>\n      <td>Iguanas 1st launch</td>\n      <td>2136122.0</td>\n      <td>SFM1</td>\n      <td>/Users/christian/data/zooniverse/Images/Zooniv...</td>\n      <td>599</td>\n      <td>630</td>\n    </tr>\n    <tr>\n      <th>3046</th>\n      <td>3046</td>\n      <td>SFM1</td>\n      <td>SFM01-1-2_210.jpg</td>\n      <td>47968359</td>\n      <td>318.994141</td>\n      <td>396.814789</td>\n      <td>Adult Male alone</td>\n      <td>Iguanas 1st launch</td>\n      <td>2193415.0</td>\n      <td>SFM1</td>\n      <td>/Users/christian/data/zooniverse/Images/Zooniv...</td>\n      <td>599</td>\n      <td>630</td>\n    </tr>\n  </tbody>\n</table>\n<p>3047 rows × 13 columns</p>\n</div>"
     },
     "execution_count": 11,
     "metadata": {},
     "output_type": "execute_result"
    }
   ],
   "source": [
    "## Look at the data\n",
    "df_merged_dataset.drop(\"user_name\", axis=1)\n"
   ]
  },
  {
   "cell_type": "markdown",
   "id": "da7bed90d6d10d89",
   "metadata": {
    "collapsed": false
   },
   "source": [
    "### Filter User if necessary and Marks\n"
   ]
  },
  {
   "cell_type": "code",
   "execution_count": 12,
   "id": "b84daa777a0903cf",
   "metadata": {
    "collapsed": false,
    "ExecuteTime": {
     "end_time": "2024-03-08T13:58:30.838692Z",
     "start_time": "2024-03-08T13:58:30.822056Z"
    }
   },
   "outputs": [
    {
     "name": "stderr",
     "output_type": "stream",
     "text": [
      "\u001B[32m2024-03-08 14:58:30.836\u001B[0m | \u001B[33m\u001B[1mWARNING \u001B[0m | \u001B[36mzooniverse.utils.filters\u001B[0m:\u001B[36mfilter_remove_marks\u001B[0m:\u001B[36m38\u001B[0m - \u001B[33m\u001B[1mremoved 0 partial marks\u001B[0m\n",
      "\u001B[32m2024-03-08 14:58:30.837\u001B[0m | \u001B[33m\u001B[1mWARNING \u001B[0m | \u001B[36mzooniverse.utils.filters\u001B[0m:\u001B[36mfilter_remove_marks\u001B[0m:\u001B[36m39\u001B[0m - \u001B[33m\u001B[1mAfter filter_func 107 images are left\u001B[0m\n"
     ]
    },
    {
     "name": "stdout",
     "output_type": "stream",
     "text": [
      "Before filtering: 107\n"
     ]
    }
   ],
   "source": [
    "print(f\"Before filtering: {df_merged_dataset.subject_id.nunique()}\")\n",
    "# There images in which some people said there are iguanas, but then didn't mark them. Clustering with fewer than 3 dots doesn't make sense\n",
    "if user_threshold is not None:\n",
    "    print(f\"filtering records which have less than {user_threshold} interactions.\")\n",
    "    df_merged_dataset = filter_df_user_threshold(df_merged_dataset, user_threshold=user_threshold)\n",
    "    \n",
    "    \n",
    "from zooniverse.utils.filters import filter_remove_marks\n",
    "# Check if partials are still in the data. There shouldn't be any\n",
    "df_merged_dataset = filter_remove_marks(df_merged_dataset)\n"
   ]
  },
  {
   "cell_type": "markdown",
   "id": "d479e39e24f570b0",
   "metadata": {
    "collapsed": false
   },
   "source": [
    "### Are there anonymous users in the data?\n",
    "There should be"
   ]
  },
  {
   "cell_type": "code",
   "execution_count": 13,
   "id": "9936072d8a7b7602",
   "metadata": {
    "collapsed": false,
    "ExecuteTime": {
     "end_time": "2024-03-08T13:58:30.859411Z",
     "start_time": "2024-03-08T13:58:30.839332Z"
    }
   },
   "outputs": [
    {
     "data": {
      "text/plain": "      Unnamed: 0 flight_site_code           image_name  subject_id  \\\n13            13             SFM1     SFM01-1-2_59.jpg    47968506   \n15            15             SFM1    SFM01-1-1_184.jpg    47968013   \n16            16             SFM1    SFM01-1-1_184.jpg    47968013   \n21            21             SFM1  SFM01-2-2-2_302.jpg    47969853   \n25            25             SFM1  SFM01-2-2-3_149.jpg    47970139   \n...          ...              ...                  ...         ...   \n2986        2986             SFM1    SFM01-1-2_284.jpg    47968423   \n2987        2987             SFM1    SFM01-1-2_284.jpg    47968423   \n3041        3041             SFM1  SFM01-2-2-1_120.jpg    47969236   \n3042        3042             SFM1  SFM01-2-2-1_120.jpg    47969236   \n3043        3043             SFM1  SFM01-2-2-1_120.jpg    47969236   \n\n               x           y  \\\n13    116.633331  153.966675   \n15    279.644714  199.890869   \n16    407.698547  321.648682   \n21    549.633301  540.966675   \n25     57.739017  178.533081   \n...          ...         ...   \n2986  162.702652  474.069214   \n2987   85.247139  474.450745   \n3041  231.432205  154.631561   \n3042  406.704041  383.049408   \n3043  577.184998  270.231110   \n\n                                             tool_label           phase_tag  \\\n13    Others (females, young males, juveniles and ta...  Iguanas 1st launch   \n15                                     Adult Male alone  Iguanas 1st launch   \n16                                     Adult Male alone  Iguanas 1st launch   \n21                                     Adult Male alone  Iguanas 1st launch   \n25    Others (females, young males, juveniles and ta...  Iguanas 1st launch   \n...                                                 ...                 ...   \n2986  Others (females, young males, juveniles and ta...  Iguanas 1st launch   \n2987                                Adult Male in a lek  Iguanas 1st launch   \n3041                                   Adult Male alone  Iguanas 1st launch   \n3042                       Could be an iguana, not sure  Iguanas 1st launch   \n3043                       Could be an iguana, not sure  Iguanas 1st launch   \n\n      user_id                           user_name mission_name  \\\n13        NaN  not-logged-in-33bc5b21c88460dbfea6         SFM1   \n15        NaN  not-logged-in-33bc5b21c88460dbfea6         SFM1   \n16        NaN  not-logged-in-33bc5b21c88460dbfea6         SFM1   \n21        NaN  not-logged-in-33bc5b21c88460dbfea6         SFM1   \n25        NaN  not-logged-in-33bc5b21c88460dbfea6         SFM1   \n...       ...                                 ...          ...   \n2986      NaN  not-logged-in-93e07d6b2a99b8725f21         SFM1   \n2987      NaN  not-logged-in-93e07d6b2a99b8725f21         SFM1   \n3041      NaN  not-logged-in-341c84c0e52bdc34f8f8         SFM1   \n3042      NaN  not-logged-in-341c84c0e52bdc34f8f8         SFM1   \n3043      NaN  not-logged-in-341c84c0e52bdc34f8f8         SFM1   \n\n                                             image_path  width  height  \n13    /Users/christian/data/zooniverse/Images/Zooniv...    599     630  \n15    /Users/christian/data/zooniverse/Images/Zooniv...    600     630  \n16    /Users/christian/data/zooniverse/Images/Zooniv...    600     630  \n21    /Users/christian/data/zooniverse/Images/Zooniv...    667     649  \n25    /Users/christian/data/zooniverse/Images/Zooniv...    589     573  \n...                                                 ...    ...     ...  \n2986  /Users/christian/data/zooniverse/Images/Zooniv...    599     630  \n2987  /Users/christian/data/zooniverse/Images/Zooniv...    599     630  \n3041  /Users/christian/data/zooniverse/Images/Zooniv...    666     648  \n3042  /Users/christian/data/zooniverse/Images/Zooniv...    666     648  \n3043  /Users/christian/data/zooniverse/Images/Zooniv...    666     648  \n\n[432 rows x 14 columns]",
      "text/html": "<div>\n<style scoped>\n    .dataframe tbody tr th:only-of-type {\n        vertical-align: middle;\n    }\n\n    .dataframe tbody tr th {\n        vertical-align: top;\n    }\n\n    .dataframe thead th {\n        text-align: right;\n    }\n</style>\n<table border=\"1\" class=\"dataframe\">\n  <thead>\n    <tr style=\"text-align: right;\">\n      <th></th>\n      <th>Unnamed: 0</th>\n      <th>flight_site_code</th>\n      <th>image_name</th>\n      <th>subject_id</th>\n      <th>x</th>\n      <th>y</th>\n      <th>tool_label</th>\n      <th>phase_tag</th>\n      <th>user_id</th>\n      <th>user_name</th>\n      <th>mission_name</th>\n      <th>image_path</th>\n      <th>width</th>\n      <th>height</th>\n    </tr>\n  </thead>\n  <tbody>\n    <tr>\n      <th>13</th>\n      <td>13</td>\n      <td>SFM1</td>\n      <td>SFM01-1-2_59.jpg</td>\n      <td>47968506</td>\n      <td>116.633331</td>\n      <td>153.966675</td>\n      <td>Others (females, young males, juveniles and ta...</td>\n      <td>Iguanas 1st launch</td>\n      <td>NaN</td>\n      <td>not-logged-in-33bc5b21c88460dbfea6</td>\n      <td>SFM1</td>\n      <td>/Users/christian/data/zooniverse/Images/Zooniv...</td>\n      <td>599</td>\n      <td>630</td>\n    </tr>\n    <tr>\n      <th>15</th>\n      <td>15</td>\n      <td>SFM1</td>\n      <td>SFM01-1-1_184.jpg</td>\n      <td>47968013</td>\n      <td>279.644714</td>\n      <td>199.890869</td>\n      <td>Adult Male alone</td>\n      <td>Iguanas 1st launch</td>\n      <td>NaN</td>\n      <td>not-logged-in-33bc5b21c88460dbfea6</td>\n      <td>SFM1</td>\n      <td>/Users/christian/data/zooniverse/Images/Zooniv...</td>\n      <td>600</td>\n      <td>630</td>\n    </tr>\n    <tr>\n      <th>16</th>\n      <td>16</td>\n      <td>SFM1</td>\n      <td>SFM01-1-1_184.jpg</td>\n      <td>47968013</td>\n      <td>407.698547</td>\n      <td>321.648682</td>\n      <td>Adult Male alone</td>\n      <td>Iguanas 1st launch</td>\n      <td>NaN</td>\n      <td>not-logged-in-33bc5b21c88460dbfea6</td>\n      <td>SFM1</td>\n      <td>/Users/christian/data/zooniverse/Images/Zooniv...</td>\n      <td>600</td>\n      <td>630</td>\n    </tr>\n    <tr>\n      <th>21</th>\n      <td>21</td>\n      <td>SFM1</td>\n      <td>SFM01-2-2-2_302.jpg</td>\n      <td>47969853</td>\n      <td>549.633301</td>\n      <td>540.966675</td>\n      <td>Adult Male alone</td>\n      <td>Iguanas 1st launch</td>\n      <td>NaN</td>\n      <td>not-logged-in-33bc5b21c88460dbfea6</td>\n      <td>SFM1</td>\n      <td>/Users/christian/data/zooniverse/Images/Zooniv...</td>\n      <td>667</td>\n      <td>649</td>\n    </tr>\n    <tr>\n      <th>25</th>\n      <td>25</td>\n      <td>SFM1</td>\n      <td>SFM01-2-2-3_149.jpg</td>\n      <td>47970139</td>\n      <td>57.739017</td>\n      <td>178.533081</td>\n      <td>Others (females, young males, juveniles and ta...</td>\n      <td>Iguanas 1st launch</td>\n      <td>NaN</td>\n      <td>not-logged-in-33bc5b21c88460dbfea6</td>\n      <td>SFM1</td>\n      <td>/Users/christian/data/zooniverse/Images/Zooniv...</td>\n      <td>589</td>\n      <td>573</td>\n    </tr>\n    <tr>\n      <th>...</th>\n      <td>...</td>\n      <td>...</td>\n      <td>...</td>\n      <td>...</td>\n      <td>...</td>\n      <td>...</td>\n      <td>...</td>\n      <td>...</td>\n      <td>...</td>\n      <td>...</td>\n      <td>...</td>\n      <td>...</td>\n      <td>...</td>\n      <td>...</td>\n    </tr>\n    <tr>\n      <th>2986</th>\n      <td>2986</td>\n      <td>SFM1</td>\n      <td>SFM01-1-2_284.jpg</td>\n      <td>47968423</td>\n      <td>162.702652</td>\n      <td>474.069214</td>\n      <td>Others (females, young males, juveniles and ta...</td>\n      <td>Iguanas 1st launch</td>\n      <td>NaN</td>\n      <td>not-logged-in-93e07d6b2a99b8725f21</td>\n      <td>SFM1</td>\n      <td>/Users/christian/data/zooniverse/Images/Zooniv...</td>\n      <td>599</td>\n      <td>630</td>\n    </tr>\n    <tr>\n      <th>2987</th>\n      <td>2987</td>\n      <td>SFM1</td>\n      <td>SFM01-1-2_284.jpg</td>\n      <td>47968423</td>\n      <td>85.247139</td>\n      <td>474.450745</td>\n      <td>Adult Male in a lek</td>\n      <td>Iguanas 1st launch</td>\n      <td>NaN</td>\n      <td>not-logged-in-93e07d6b2a99b8725f21</td>\n      <td>SFM1</td>\n      <td>/Users/christian/data/zooniverse/Images/Zooniv...</td>\n      <td>599</td>\n      <td>630</td>\n    </tr>\n    <tr>\n      <th>3041</th>\n      <td>3041</td>\n      <td>SFM1</td>\n      <td>SFM01-2-2-1_120.jpg</td>\n      <td>47969236</td>\n      <td>231.432205</td>\n      <td>154.631561</td>\n      <td>Adult Male alone</td>\n      <td>Iguanas 1st launch</td>\n      <td>NaN</td>\n      <td>not-logged-in-341c84c0e52bdc34f8f8</td>\n      <td>SFM1</td>\n      <td>/Users/christian/data/zooniverse/Images/Zooniv...</td>\n      <td>666</td>\n      <td>648</td>\n    </tr>\n    <tr>\n      <th>3042</th>\n      <td>3042</td>\n      <td>SFM1</td>\n      <td>SFM01-2-2-1_120.jpg</td>\n      <td>47969236</td>\n      <td>406.704041</td>\n      <td>383.049408</td>\n      <td>Could be an iguana, not sure</td>\n      <td>Iguanas 1st launch</td>\n      <td>NaN</td>\n      <td>not-logged-in-341c84c0e52bdc34f8f8</td>\n      <td>SFM1</td>\n      <td>/Users/christian/data/zooniverse/Images/Zooniv...</td>\n      <td>666</td>\n      <td>648</td>\n    </tr>\n    <tr>\n      <th>3043</th>\n      <td>3043</td>\n      <td>SFM1</td>\n      <td>SFM01-2-2-1_120.jpg</td>\n      <td>47969236</td>\n      <td>577.184998</td>\n      <td>270.231110</td>\n      <td>Could be an iguana, not sure</td>\n      <td>Iguanas 1st launch</td>\n      <td>NaN</td>\n      <td>not-logged-in-341c84c0e52bdc34f8f8</td>\n      <td>SFM1</td>\n      <td>/Users/christian/data/zooniverse/Images/Zooniv...</td>\n      <td>666</td>\n      <td>648</td>\n    </tr>\n  </tbody>\n</table>\n<p>432 rows × 14 columns</p>\n</div>"
     },
     "execution_count": 13,
     "metadata": {},
     "output_type": "execute_result"
    }
   ],
   "source": [
    "df_merged_dataset[df_merged_dataset.user_id.isnull().values]"
   ]
  },
  {
   "cell_type": "code",
   "execution_count": 14,
   "id": "9258d161c25ae7d3",
   "metadata": {
    "collapsed": false,
    "ExecuteTime": {
     "end_time": "2024-03-08T13:58:30.877868Z",
     "start_time": "2024-03-08T13:58:30.861691Z"
    }
   },
   "outputs": [
    {
     "data": {
      "text/plain": "107"
     },
     "execution_count": 14,
     "metadata": {},
     "output_type": "execute_result"
    }
   ],
   "source": [
    "df_merged_dataset[\"subject_id\"].nunique()"
   ]
  },
  {
   "cell_type": "code",
   "execution_count": 15,
   "id": "6caad5d554d586db",
   "metadata": {
    "collapsed": false,
    "ExecuteTime": {
     "end_time": "2024-03-08T13:58:30.898707Z",
     "start_time": "2024-03-08T13:58:30.878597Z"
    }
   },
   "outputs": [
    {
     "data": {
      "text/plain": "      Unnamed: 0 flight_site_code           image_name  subject_id  \\\n0              0             SFM1  SFM01-2-2-3_137.jpg    47970105   \n1              1             SFM1  SFM01-2-2-3_137.jpg    47970105   \n2              2             SFM1  SFM01-2-2-3_137.jpg    47970105   \n3              3             SFM1    SFM01-1-2_264.jpg    47968406   \n4              4             SFM1    SFM01-1-2_264.jpg    47968406   \n...          ...              ...                  ...         ...   \n3042        3042             SFM1  SFM01-2-2-1_120.jpg    47969236   \n3043        3043             SFM1  SFM01-2-2-1_120.jpg    47969236   \n3044        3044             SFM1    SFM01-1-2_210.jpg    47968359   \n3045        3045             SFM1    SFM01-1-2_210.jpg    47968359   \n3046        3046             SFM1    SFM01-1-2_210.jpg    47968359   \n\n               x           y  \\\n0     376.160156   84.558594   \n1     272.695312  297.894531   \n2     111.898438  410.011719   \n3     462.800781  390.786377   \n4     545.598145  423.652527   \n...          ...         ...   \n3042  406.704041  383.049408   \n3043  577.184998  270.231110   \n3044  316.314850  392.354614   \n3045  326.542725  402.156372   \n3046  318.994141  396.814789   \n\n                                             tool_label           phase_tag  \\\n0                                      Adult Male alone  Iguanas 1st launch   \n1                                      Adult Male alone  Iguanas 1st launch   \n2                                      Adult Male alone  Iguanas 1st launch   \n3                                   Adult Male in a lek  Iguanas 1st launch   \n4     Others (females, young males, juveniles and ta...  Iguanas 1st launch   \n...                                                 ...                 ...   \n3042                       Could be an iguana, not sure  Iguanas 1st launch   \n3043                       Could be an iguana, not sure  Iguanas 1st launch   \n3044  Others (females, young males, juveniles and ta...  Iguanas 1st launch   \n3045  Others (females, young males, juveniles and ta...  Iguanas 1st launch   \n3046                                   Adult Male alone  Iguanas 1st launch   \n\n        user_id                           user_name mission_name  \\\n0     2068663.0                               aymor         SFM1   \n1     2068663.0                               aymor         SFM1   \n2     2068663.0                               aymor         SFM1   \n3     1878692.0                           drewavery         SFM1   \n4     1878692.0                           drewavery         SFM1   \n...         ...                                 ...          ...   \n3042        NaN  not-logged-in-341c84c0e52bdc34f8f8         SFM1   \n3043        NaN  not-logged-in-341c84c0e52bdc34f8f8         SFM1   \n3044  2136122.0                             H.axson         SFM1   \n3045  2136122.0                             H.axson         SFM1   \n3046  2193415.0                         kbohensky63         SFM1   \n\n                                             image_path  width  height  \n0     /Users/christian/data/zooniverse/Images/Zooniv...    589     573  \n1     /Users/christian/data/zooniverse/Images/Zooniv...    589     573  \n2     /Users/christian/data/zooniverse/Images/Zooniv...    589     573  \n3     /Users/christian/data/zooniverse/Images/Zooniv...    599     630  \n4     /Users/christian/data/zooniverse/Images/Zooniv...    599     630  \n...                                                 ...    ...     ...  \n3042  /Users/christian/data/zooniverse/Images/Zooniv...    666     648  \n3043  /Users/christian/data/zooniverse/Images/Zooniv...    666     648  \n3044  /Users/christian/data/zooniverse/Images/Zooniv...    599     630  \n3045  /Users/christian/data/zooniverse/Images/Zooniv...    599     630  \n3046  /Users/christian/data/zooniverse/Images/Zooniv...    599     630  \n\n[3047 rows x 14 columns]",
      "text/html": "<div>\n<style scoped>\n    .dataframe tbody tr th:only-of-type {\n        vertical-align: middle;\n    }\n\n    .dataframe tbody tr th {\n        vertical-align: top;\n    }\n\n    .dataframe thead th {\n        text-align: right;\n    }\n</style>\n<table border=\"1\" class=\"dataframe\">\n  <thead>\n    <tr style=\"text-align: right;\">\n      <th></th>\n      <th>Unnamed: 0</th>\n      <th>flight_site_code</th>\n      <th>image_name</th>\n      <th>subject_id</th>\n      <th>x</th>\n      <th>y</th>\n      <th>tool_label</th>\n      <th>phase_tag</th>\n      <th>user_id</th>\n      <th>user_name</th>\n      <th>mission_name</th>\n      <th>image_path</th>\n      <th>width</th>\n      <th>height</th>\n    </tr>\n  </thead>\n  <tbody>\n    <tr>\n      <th>0</th>\n      <td>0</td>\n      <td>SFM1</td>\n      <td>SFM01-2-2-3_137.jpg</td>\n      <td>47970105</td>\n      <td>376.160156</td>\n      <td>84.558594</td>\n      <td>Adult Male alone</td>\n      <td>Iguanas 1st launch</td>\n      <td>2068663.0</td>\n      <td>aymor</td>\n      <td>SFM1</td>\n      <td>/Users/christian/data/zooniverse/Images/Zooniv...</td>\n      <td>589</td>\n      <td>573</td>\n    </tr>\n    <tr>\n      <th>1</th>\n      <td>1</td>\n      <td>SFM1</td>\n      <td>SFM01-2-2-3_137.jpg</td>\n      <td>47970105</td>\n      <td>272.695312</td>\n      <td>297.894531</td>\n      <td>Adult Male alone</td>\n      <td>Iguanas 1st launch</td>\n      <td>2068663.0</td>\n      <td>aymor</td>\n      <td>SFM1</td>\n      <td>/Users/christian/data/zooniverse/Images/Zooniv...</td>\n      <td>589</td>\n      <td>573</td>\n    </tr>\n    <tr>\n      <th>2</th>\n      <td>2</td>\n      <td>SFM1</td>\n      <td>SFM01-2-2-3_137.jpg</td>\n      <td>47970105</td>\n      <td>111.898438</td>\n      <td>410.011719</td>\n      <td>Adult Male alone</td>\n      <td>Iguanas 1st launch</td>\n      <td>2068663.0</td>\n      <td>aymor</td>\n      <td>SFM1</td>\n      <td>/Users/christian/data/zooniverse/Images/Zooniv...</td>\n      <td>589</td>\n      <td>573</td>\n    </tr>\n    <tr>\n      <th>3</th>\n      <td>3</td>\n      <td>SFM1</td>\n      <td>SFM01-1-2_264.jpg</td>\n      <td>47968406</td>\n      <td>462.800781</td>\n      <td>390.786377</td>\n      <td>Adult Male in a lek</td>\n      <td>Iguanas 1st launch</td>\n      <td>1878692.0</td>\n      <td>drewavery</td>\n      <td>SFM1</td>\n      <td>/Users/christian/data/zooniverse/Images/Zooniv...</td>\n      <td>599</td>\n      <td>630</td>\n    </tr>\n    <tr>\n      <th>4</th>\n      <td>4</td>\n      <td>SFM1</td>\n      <td>SFM01-1-2_264.jpg</td>\n      <td>47968406</td>\n      <td>545.598145</td>\n      <td>423.652527</td>\n      <td>Others (females, young males, juveniles and ta...</td>\n      <td>Iguanas 1st launch</td>\n      <td>1878692.0</td>\n      <td>drewavery</td>\n      <td>SFM1</td>\n      <td>/Users/christian/data/zooniverse/Images/Zooniv...</td>\n      <td>599</td>\n      <td>630</td>\n    </tr>\n    <tr>\n      <th>...</th>\n      <td>...</td>\n      <td>...</td>\n      <td>...</td>\n      <td>...</td>\n      <td>...</td>\n      <td>...</td>\n      <td>...</td>\n      <td>...</td>\n      <td>...</td>\n      <td>...</td>\n      <td>...</td>\n      <td>...</td>\n      <td>...</td>\n      <td>...</td>\n    </tr>\n    <tr>\n      <th>3042</th>\n      <td>3042</td>\n      <td>SFM1</td>\n      <td>SFM01-2-2-1_120.jpg</td>\n      <td>47969236</td>\n      <td>406.704041</td>\n      <td>383.049408</td>\n      <td>Could be an iguana, not sure</td>\n      <td>Iguanas 1st launch</td>\n      <td>NaN</td>\n      <td>not-logged-in-341c84c0e52bdc34f8f8</td>\n      <td>SFM1</td>\n      <td>/Users/christian/data/zooniverse/Images/Zooniv...</td>\n      <td>666</td>\n      <td>648</td>\n    </tr>\n    <tr>\n      <th>3043</th>\n      <td>3043</td>\n      <td>SFM1</td>\n      <td>SFM01-2-2-1_120.jpg</td>\n      <td>47969236</td>\n      <td>577.184998</td>\n      <td>270.231110</td>\n      <td>Could be an iguana, not sure</td>\n      <td>Iguanas 1st launch</td>\n      <td>NaN</td>\n      <td>not-logged-in-341c84c0e52bdc34f8f8</td>\n      <td>SFM1</td>\n      <td>/Users/christian/data/zooniverse/Images/Zooniv...</td>\n      <td>666</td>\n      <td>648</td>\n    </tr>\n    <tr>\n      <th>3044</th>\n      <td>3044</td>\n      <td>SFM1</td>\n      <td>SFM01-1-2_210.jpg</td>\n      <td>47968359</td>\n      <td>316.314850</td>\n      <td>392.354614</td>\n      <td>Others (females, young males, juveniles and ta...</td>\n      <td>Iguanas 1st launch</td>\n      <td>2136122.0</td>\n      <td>H.axson</td>\n      <td>SFM1</td>\n      <td>/Users/christian/data/zooniverse/Images/Zooniv...</td>\n      <td>599</td>\n      <td>630</td>\n    </tr>\n    <tr>\n      <th>3045</th>\n      <td>3045</td>\n      <td>SFM1</td>\n      <td>SFM01-1-2_210.jpg</td>\n      <td>47968359</td>\n      <td>326.542725</td>\n      <td>402.156372</td>\n      <td>Others (females, young males, juveniles and ta...</td>\n      <td>Iguanas 1st launch</td>\n      <td>2136122.0</td>\n      <td>H.axson</td>\n      <td>SFM1</td>\n      <td>/Users/christian/data/zooniverse/Images/Zooniv...</td>\n      <td>599</td>\n      <td>630</td>\n    </tr>\n    <tr>\n      <th>3046</th>\n      <td>3046</td>\n      <td>SFM1</td>\n      <td>SFM01-1-2_210.jpg</td>\n      <td>47968359</td>\n      <td>318.994141</td>\n      <td>396.814789</td>\n      <td>Adult Male alone</td>\n      <td>Iguanas 1st launch</td>\n      <td>2193415.0</td>\n      <td>kbohensky63</td>\n      <td>SFM1</td>\n      <td>/Users/christian/data/zooniverse/Images/Zooniv...</td>\n      <td>599</td>\n      <td>630</td>\n    </tr>\n  </tbody>\n</table>\n<p>3047 rows × 14 columns</p>\n</div>"
     },
     "execution_count": 15,
     "metadata": {},
     "output_type": "execute_result"
    }
   ],
   "source": [
    "## After filtering there\n",
    "df_merged_dataset"
   ]
  },
  {
   "cell_type": "code",
   "execution_count": 16,
   "id": "e1fcc8d02df55119",
   "metadata": {
    "collapsed": false,
    "ExecuteTime": {
     "end_time": "2024-03-08T13:58:30.918385Z",
     "start_time": "2024-03-08T13:58:30.899573Z"
    }
   },
   "outputs": [
    {
     "data": {
      "text/plain": "           x\nuser_id     \n1476.0     2\n2842.0    18\n109942.0   1\n114901.0   4\n120287.0   2",
      "text/html": "<div>\n<style scoped>\n    .dataframe tbody tr th:only-of-type {\n        vertical-align: middle;\n    }\n\n    .dataframe tbody tr th {\n        vertical-align: top;\n    }\n\n    .dataframe thead th {\n        text-align: right;\n    }\n</style>\n<table border=\"1\" class=\"dataframe\">\n  <thead>\n    <tr style=\"text-align: right;\">\n      <th></th>\n      <th>x</th>\n    </tr>\n    <tr>\n      <th>user_id</th>\n      <th></th>\n    </tr>\n  </thead>\n  <tbody>\n    <tr>\n      <th>1476.0</th>\n      <td>2</td>\n    </tr>\n    <tr>\n      <th>2842.0</th>\n      <td>18</td>\n    </tr>\n    <tr>\n      <th>109942.0</th>\n      <td>1</td>\n    </tr>\n    <tr>\n      <th>114901.0</th>\n      <td>4</td>\n    </tr>\n    <tr>\n      <th>120287.0</th>\n      <td>2</td>\n    </tr>\n  </tbody>\n</table>\n</div>"
     },
     "execution_count": 16,
     "metadata": {},
     "output_type": "execute_result"
    }
   ],
   "source": [
    "# how many marks per user\n",
    "df_merged_dataset[[\"user_id\", \"x\"]].groupby(\"user_id\").count().head()"
   ]
  },
  {
   "cell_type": "markdown",
   "id": "9dc998338a68bf87",
   "metadata": {
    "collapsed": false
   },
   "source": [
    "### gold standard data\n",
    "For reference"
   ]
  },
  {
   "cell_type": "code",
   "execution_count": 17,
   "id": "5a66cdb1915a11ef",
   "metadata": {
    "collapsed": false,
    "ExecuteTime": {
     "end_time": "2024-03-08T13:58:30.938451Z",
     "start_time": "2024-03-08T13:58:30.918977Z"
    }
   },
   "outputs": [
    {
     "data": {
      "text/plain": "           subspecies    island site_name subject_group           image_name  \\\n0    A. c. trillmichi  Santa Fe  El Miedo          SFM1  SFM01-2-2-2_282.jpg   \n701  A. c. trillmichi  Santa Fe  El Miedo          SFM1  SFM01-2-2-2_323.jpg   \n\n     subject_id presence_absence  count_male-lek  count_male-no-lek  \\\n0      47969795                Y               0                  2   \n701    47969912                Y               1                  1   \n\n     count_others  count_partial  count_total quality condition comment  \n0               0              2            2    Good      Hard     NaN  \n701             4              0            6    Good   Visible     NaN  ",
      "text/html": "<div>\n<style scoped>\n    .dataframe tbody tr th:only-of-type {\n        vertical-align: middle;\n    }\n\n    .dataframe tbody tr th {\n        vertical-align: top;\n    }\n\n    .dataframe thead th {\n        text-align: right;\n    }\n</style>\n<table border=\"1\" class=\"dataframe\">\n  <thead>\n    <tr style=\"text-align: right;\">\n      <th></th>\n      <th>subspecies</th>\n      <th>island</th>\n      <th>site_name</th>\n      <th>subject_group</th>\n      <th>image_name</th>\n      <th>subject_id</th>\n      <th>presence_absence</th>\n      <th>count_male-lek</th>\n      <th>count_male-no-lek</th>\n      <th>count_others</th>\n      <th>count_partial</th>\n      <th>count_total</th>\n      <th>quality</th>\n      <th>condition</th>\n      <th>comment</th>\n    </tr>\n  </thead>\n  <tbody>\n    <tr>\n      <th>0</th>\n      <td>A. c. trillmichi</td>\n      <td>Santa Fe</td>\n      <td>El Miedo</td>\n      <td>SFM1</td>\n      <td>SFM01-2-2-2_282.jpg</td>\n      <td>47969795</td>\n      <td>Y</td>\n      <td>0</td>\n      <td>2</td>\n      <td>0</td>\n      <td>2</td>\n      <td>2</td>\n      <td>Good</td>\n      <td>Hard</td>\n      <td>NaN</td>\n    </tr>\n    <tr>\n      <th>701</th>\n      <td>A. c. trillmichi</td>\n      <td>Santa Fe</td>\n      <td>El Miedo</td>\n      <td>SFM1</td>\n      <td>SFM01-2-2-2_323.jpg</td>\n      <td>47969912</td>\n      <td>Y</td>\n      <td>1</td>\n      <td>1</td>\n      <td>4</td>\n      <td>0</td>\n      <td>6</td>\n      <td>Good</td>\n      <td>Visible</td>\n      <td>NaN</td>\n    </tr>\n  </tbody>\n</table>\n</div>"
     },
     "execution_count": 17,
     "metadata": {},
     "output_type": "execute_result"
    }
   ],
   "source": [
    "df_goldstandard_expert_count[df_goldstandard_expert_count[\"image_name\"].isin([\"SFM01-2-2-2_282.jpg\", \"SFM01-2-2-2_323.jpg\"])]"
   ]
  },
  {
   "cell_type": "code",
   "execution_count": 18,
   "id": "923dec4d89d5a71c",
   "metadata": {
    "collapsed": false,
    "ExecuteTime": {
     "end_time": "2024-03-08T13:58:30.957708Z",
     "start_time": "2024-03-08T13:58:30.939997Z"
    }
   },
   "outputs": [
    {
     "data": {
      "text/plain": "422"
     },
     "execution_count": 18,
     "metadata": {},
     "output_type": "execute_result"
    }
   ],
   "source": [
    "df_goldstandard_expert_count.count_total.sum()"
   ]
  },
  {
   "cell_type": "code",
   "execution_count": 19,
   "id": "ba06d92f5be8c77",
   "metadata": {
    "collapsed": false,
    "ExecuteTime": {
     "end_time": "2024-03-08T13:58:30.975992Z",
     "start_time": "2024-03-08T13:58:30.958382Z"
    }
   },
   "outputs": [
    {
     "data": {
      "text/plain": "subspecies           2733\nisland               2733\nsite_name            2733\nsubject_group        2733\nimage_name           2733\nsubject_id           2733\npresence_absence     2733\ncount_male-lek       2733\ncount_male-no-lek    2733\ncount_others         2733\ncount_partial        2733\ncount_total          2733\nquality               150\ncondition             150\ncomment                18\ndtype: int64"
     },
     "execution_count": 19,
     "metadata": {},
     "output_type": "execute_result"
    }
   ],
   "source": [
    "# look at the\n",
    "df_goldstandard_expert_count.count()"
   ]
  },
  {
   "cell_type": "code",
   "execution_count": 20,
   "id": "37307d154c5e9fb3",
   "metadata": {
    "collapsed": false,
    "ExecuteTime": {
     "end_time": "2024-03-08T13:58:30.998134Z",
     "start_time": "2024-03-08T13:58:30.976797Z"
    }
   },
   "outputs": [
    {
     "name": "stdout",
     "output_type": "stream",
     "text": [
      "filtering the zooniverse classifications dataset for gold standard images the count_total of iguanas is: 331, but it should be 422\n"
     ]
    },
    {
     "data": {
      "text/plain": "            subspecies         island                  site_name  \\\n0     A. c. trillmichi       Santa Fe                   El Miedo   \n1     A. c. trillmichi       Santa Fe                   El Miedo   \n5     A. c. trillmichi       Santa Fe                   El Miedo   \n22    A. c. trillmichi       Santa Fe                   El Miedo   \n60    A. c. trillmichi       Santa Fe                   El Miedo   \n...                ...            ...                        ...   \n2445    A. c. godzilla  San Cristobal  Playa Blanca (Punta Pitt)   \n2506    A. c. godzilla  San Cristobal  Playa Blanca (Punta Pitt)   \n2516    A. c. godzilla  San Cristobal  Playa Blanca (Punta Pitt)   \n2524    A. c. godzilla  San Cristobal  Playa Blanca (Punta Pitt)   \n2670    A. c. godzilla  San Cristobal  Playa Blanca (Punta Pitt)   \n\n     subject_group           image_name  subject_id presence_absence  \\\n0             SFM1  SFM01-2-2-2_282.jpg    47969795                Y   \n1             SFM1  SFM01-2-2-1_344.jpg    47969531                Y   \n5             SFM1  SFM01-2-2-2_293.jpg    47969828                Y   \n22            SFM1    SFM01-1-1_114.jpg    47967876                Y   \n60            SFM1    SFM01-1-1_154.jpg    47967959                Y   \n...            ...                  ...         ...              ...   \n2445         SRPB1    SRPB02-2-1_67.jpg    47987920                Y   \n2506         SRPB1   SRPB02-2-2_143.jpg    47988474                Y   \n2516         SRPB1   SRPB02-2-2_153.jpg    47988580                Y   \n2524         SRPB1   SRPB02-2-2_161.jpg    47988636                Y   \n2670         SRPB1   SRPB02-2-3_157.jpg    47989826                Y   \n\n      count_male-lek  count_male-no-lek  count_others  count_partial  \\\n0                  0                  2             0              2   \n1                  0                  2             2              1   \n5                  1                  0             6              1   \n22                 0                  1             0              0   \n60                 0                  1             0              0   \n...              ...                ...           ...            ...   \n2445               0                  1             0              0   \n2506               1                  0             3              0   \n2516               0                  1             0              0   \n2524               0                  1             0              0   \n2670               0                  0             1              0   \n\n      count_total quality condition                                    comment  \n0               2    Good      Hard                                        NaN  \n1               4    Good      Hard  not consider number 4 marked in the image  \n5               7    Good      Hard                                        NaN  \n22              1     Bad   Visible                                        NaN  \n60              1    Good   Visible                                        NaN  \n...           ...     ...       ...                                        ...  \n2445            1    Good   Visible                                        NaN  \n2506            4     Bad   Visible                                        NaN  \n2516            1    Good   Visible                                        NaN  \n2524            1    Good   Visible                                        NaN  \n2670            1     Bad      Hard                                        NaN  \n\n[107 rows x 15 columns]",
      "text/html": "<div>\n<style scoped>\n    .dataframe tbody tr th:only-of-type {\n        vertical-align: middle;\n    }\n\n    .dataframe tbody tr th {\n        vertical-align: top;\n    }\n\n    .dataframe thead th {\n        text-align: right;\n    }\n</style>\n<table border=\"1\" class=\"dataframe\">\n  <thead>\n    <tr style=\"text-align: right;\">\n      <th></th>\n      <th>subspecies</th>\n      <th>island</th>\n      <th>site_name</th>\n      <th>subject_group</th>\n      <th>image_name</th>\n      <th>subject_id</th>\n      <th>presence_absence</th>\n      <th>count_male-lek</th>\n      <th>count_male-no-lek</th>\n      <th>count_others</th>\n      <th>count_partial</th>\n      <th>count_total</th>\n      <th>quality</th>\n      <th>condition</th>\n      <th>comment</th>\n    </tr>\n  </thead>\n  <tbody>\n    <tr>\n      <th>0</th>\n      <td>A. c. trillmichi</td>\n      <td>Santa Fe</td>\n      <td>El Miedo</td>\n      <td>SFM1</td>\n      <td>SFM01-2-2-2_282.jpg</td>\n      <td>47969795</td>\n      <td>Y</td>\n      <td>0</td>\n      <td>2</td>\n      <td>0</td>\n      <td>2</td>\n      <td>2</td>\n      <td>Good</td>\n      <td>Hard</td>\n      <td>NaN</td>\n    </tr>\n    <tr>\n      <th>1</th>\n      <td>A. c. trillmichi</td>\n      <td>Santa Fe</td>\n      <td>El Miedo</td>\n      <td>SFM1</td>\n      <td>SFM01-2-2-1_344.jpg</td>\n      <td>47969531</td>\n      <td>Y</td>\n      <td>0</td>\n      <td>2</td>\n      <td>2</td>\n      <td>1</td>\n      <td>4</td>\n      <td>Good</td>\n      <td>Hard</td>\n      <td>not consider number 4 marked in the image</td>\n    </tr>\n    <tr>\n      <th>5</th>\n      <td>A. c. trillmichi</td>\n      <td>Santa Fe</td>\n      <td>El Miedo</td>\n      <td>SFM1</td>\n      <td>SFM01-2-2-2_293.jpg</td>\n      <td>47969828</td>\n      <td>Y</td>\n      <td>1</td>\n      <td>0</td>\n      <td>6</td>\n      <td>1</td>\n      <td>7</td>\n      <td>Good</td>\n      <td>Hard</td>\n      <td>NaN</td>\n    </tr>\n    <tr>\n      <th>22</th>\n      <td>A. c. trillmichi</td>\n      <td>Santa Fe</td>\n      <td>El Miedo</td>\n      <td>SFM1</td>\n      <td>SFM01-1-1_114.jpg</td>\n      <td>47967876</td>\n      <td>Y</td>\n      <td>0</td>\n      <td>1</td>\n      <td>0</td>\n      <td>0</td>\n      <td>1</td>\n      <td>Bad</td>\n      <td>Visible</td>\n      <td>NaN</td>\n    </tr>\n    <tr>\n      <th>60</th>\n      <td>A. c. trillmichi</td>\n      <td>Santa Fe</td>\n      <td>El Miedo</td>\n      <td>SFM1</td>\n      <td>SFM01-1-1_154.jpg</td>\n      <td>47967959</td>\n      <td>Y</td>\n      <td>0</td>\n      <td>1</td>\n      <td>0</td>\n      <td>0</td>\n      <td>1</td>\n      <td>Good</td>\n      <td>Visible</td>\n      <td>NaN</td>\n    </tr>\n    <tr>\n      <th>...</th>\n      <td>...</td>\n      <td>...</td>\n      <td>...</td>\n      <td>...</td>\n      <td>...</td>\n      <td>...</td>\n      <td>...</td>\n      <td>...</td>\n      <td>...</td>\n      <td>...</td>\n      <td>...</td>\n      <td>...</td>\n      <td>...</td>\n      <td>...</td>\n      <td>...</td>\n    </tr>\n    <tr>\n      <th>2445</th>\n      <td>A. c. godzilla</td>\n      <td>San Cristobal</td>\n      <td>Playa Blanca (Punta Pitt)</td>\n      <td>SRPB1</td>\n      <td>SRPB02-2-1_67.jpg</td>\n      <td>47987920</td>\n      <td>Y</td>\n      <td>0</td>\n      <td>1</td>\n      <td>0</td>\n      <td>0</td>\n      <td>1</td>\n      <td>Good</td>\n      <td>Visible</td>\n      <td>NaN</td>\n    </tr>\n    <tr>\n      <th>2506</th>\n      <td>A. c. godzilla</td>\n      <td>San Cristobal</td>\n      <td>Playa Blanca (Punta Pitt)</td>\n      <td>SRPB1</td>\n      <td>SRPB02-2-2_143.jpg</td>\n      <td>47988474</td>\n      <td>Y</td>\n      <td>1</td>\n      <td>0</td>\n      <td>3</td>\n      <td>0</td>\n      <td>4</td>\n      <td>Bad</td>\n      <td>Visible</td>\n      <td>NaN</td>\n    </tr>\n    <tr>\n      <th>2516</th>\n      <td>A. c. godzilla</td>\n      <td>San Cristobal</td>\n      <td>Playa Blanca (Punta Pitt)</td>\n      <td>SRPB1</td>\n      <td>SRPB02-2-2_153.jpg</td>\n      <td>47988580</td>\n      <td>Y</td>\n      <td>0</td>\n      <td>1</td>\n      <td>0</td>\n      <td>0</td>\n      <td>1</td>\n      <td>Good</td>\n      <td>Visible</td>\n      <td>NaN</td>\n    </tr>\n    <tr>\n      <th>2524</th>\n      <td>A. c. godzilla</td>\n      <td>San Cristobal</td>\n      <td>Playa Blanca (Punta Pitt)</td>\n      <td>SRPB1</td>\n      <td>SRPB02-2-2_161.jpg</td>\n      <td>47988636</td>\n      <td>Y</td>\n      <td>0</td>\n      <td>1</td>\n      <td>0</td>\n      <td>0</td>\n      <td>1</td>\n      <td>Good</td>\n      <td>Visible</td>\n      <td>NaN</td>\n    </tr>\n    <tr>\n      <th>2670</th>\n      <td>A. c. godzilla</td>\n      <td>San Cristobal</td>\n      <td>Playa Blanca (Punta Pitt)</td>\n      <td>SRPB1</td>\n      <td>SRPB02-2-3_157.jpg</td>\n      <td>47989826</td>\n      <td>Y</td>\n      <td>0</td>\n      <td>0</td>\n      <td>1</td>\n      <td>0</td>\n      <td>1</td>\n      <td>Bad</td>\n      <td>Hard</td>\n      <td>NaN</td>\n    </tr>\n  </tbody>\n</table>\n<p>107 rows × 15 columns</p>\n</div>"
     },
     "execution_count": 20,
     "metadata": {},
     "output_type": "execute_result"
    }
   ],
   "source": [
    "fsum = df_goldstandard_expert_count[\n",
    "    df_goldstandard_expert_count.image_name.isin(df_merged_dataset.image_name.unique())]\n",
    "\n",
    "print(f\"filtering the zooniverse classifications dataset for gold standard images the count_total of iguanas is: {fsum.count_total.sum()}, but it should be {df_goldstandard_expert_count.count_total.sum()}\")\n",
    "fsum\n"
   ]
  },
  {
   "cell_type": "code",
   "execution_count": 21,
   "id": "15820bdd2650de9f",
   "metadata": {
    "collapsed": false,
    "ExecuteTime": {
     "end_time": "2024-03-08T13:58:31.016239Z",
     "start_time": "2024-03-08T13:58:30.998806Z"
    }
   },
   "outputs": [
    {
     "data": {
      "text/plain": "107"
     },
     "execution_count": 21,
     "metadata": {},
     "output_type": "execute_result"
    }
   ],
   "source": [
    "# How many images are left in the zooniverse dataset?\n",
    "len(list(df_merged_dataset.image_name.unique()))"
   ]
  },
  {
   "cell_type": "code",
   "execution_count": 22,
   "id": "80c69a368a3883da",
   "metadata": {
    "collapsed": false,
    "ExecuteTime": {
     "end_time": "2024-03-08T13:58:31.033069Z",
     "start_time": "2024-03-08T13:58:31.016925Z"
    }
   },
   "outputs": [
    {
     "data": {
      "text/plain": "422"
     },
     "execution_count": 22,
     "metadata": {},
     "output_type": "execute_result"
    }
   ],
   "source": [
    "#Is there an image in the goldstandard, which is not in the classifcations?\n",
    "len(set(df_goldstandard_expert_count.subject_id) - set(df_merged_dataset.subject_id.unique()))\n",
    "\n",
    "\n",
    "df_goldstandard_expert_count.count_total.sum()\n",
    "# df_merged_dataset[df_merged_dataset.image_name.isin([\"SRL01-1-2_105.jpg\"])]"
   ]
  },
  {
   "cell_type": "code",
   "execution_count": 23,
   "id": "bedda8c037074548",
   "metadata": {
    "collapsed": false,
    "ExecuteTime": {
     "end_time": "2024-03-08T13:58:31.052881Z",
     "start_time": "2024-03-08T13:58:31.033888Z"
    }
   },
   "outputs": [
    {
     "data": {
      "text/plain": "          subspecies         island site_name subject_group  \\\n1070  A. c. mertensi  San Cristobal   Loberia          SRL1   \n\n             image_name  subject_id presence_absence  count_male-lek  \\\n1070  SRL01-1-2_105.jpg    47979415                N               0   \n\n      count_male-no-lek  count_others  count_partial  count_total quality  \\\n1070                  0             0              0            0     NaN   \n\n     condition comment  \n1070       NaN     NaN  ",
      "text/html": "<div>\n<style scoped>\n    .dataframe tbody tr th:only-of-type {\n        vertical-align: middle;\n    }\n\n    .dataframe tbody tr th {\n        vertical-align: top;\n    }\n\n    .dataframe thead th {\n        text-align: right;\n    }\n</style>\n<table border=\"1\" class=\"dataframe\">\n  <thead>\n    <tr style=\"text-align: right;\">\n      <th></th>\n      <th>subspecies</th>\n      <th>island</th>\n      <th>site_name</th>\n      <th>subject_group</th>\n      <th>image_name</th>\n      <th>subject_id</th>\n      <th>presence_absence</th>\n      <th>count_male-lek</th>\n      <th>count_male-no-lek</th>\n      <th>count_others</th>\n      <th>count_partial</th>\n      <th>count_total</th>\n      <th>quality</th>\n      <th>condition</th>\n      <th>comment</th>\n    </tr>\n  </thead>\n  <tbody>\n    <tr>\n      <th>1070</th>\n      <td>A. c. mertensi</td>\n      <td>San Cristobal</td>\n      <td>Loberia</td>\n      <td>SRL1</td>\n      <td>SRL01-1-2_105.jpg</td>\n      <td>47979415</td>\n      <td>N</td>\n      <td>0</td>\n      <td>0</td>\n      <td>0</td>\n      <td>0</td>\n      <td>0</td>\n      <td>NaN</td>\n      <td>NaN</td>\n      <td>NaN</td>\n    </tr>\n  </tbody>\n</table>\n</div>"
     },
     "execution_count": 23,
     "metadata": {},
     "output_type": "execute_result"
    }
   ],
   "source": [
    "df_goldstandard_expert_count[df_goldstandard_expert_count.image_name.isin([\"SRL01-1-2_105.jpg\"])]"
   ]
  },
  {
   "cell_type": "code",
   "execution_count": 24,
   "id": "d3e71d55c33f40a1",
   "metadata": {
    "collapsed": false,
    "ExecuteTime": {
     "end_time": "2024-03-08T13:58:31.072747Z",
     "start_time": "2024-03-08T13:58:31.053516Z"
    }
   },
   "outputs": [
    {
     "data": {
      "text/plain": "     subject_id  Median0s    Mean0s  Max0s     Std0s  Median.r  Mean.r  Mode0s\n0      47967876       1.0  1.444444      3  0.726483         1       1       1\n1      47967959       1.0  1.181818      2  0.404520         1       1       1\n2      47967961       9.0  9.000000     12  2.581989         9       9      12\n3      47967975       2.0  2.000000      2  0.000000         2       2       2\n4      47968013       1.0  1.250000      2  0.500000         1       1       1\n..          ...       ...       ...    ...       ...       ...     ...     ...\n102    48026608       6.0  5.705882      7  1.263166         6       6       6\n103    48026629       1.0  1.000000      1  0.000000         1       1       1\n104    48026645       2.0  2.333333      6  1.345185         2       2       3\n105    48026817       1.0  1.222222      3  0.666667         1       1       1\n106    48027975       2.0  3.000000      6  1.414214         2       3       2\n\n[107 rows x 8 columns]",
      "text/html": "<div>\n<style scoped>\n    .dataframe tbody tr th:only-of-type {\n        vertical-align: middle;\n    }\n\n    .dataframe tbody tr th {\n        vertical-align: top;\n    }\n\n    .dataframe thead th {\n        text-align: right;\n    }\n</style>\n<table border=\"1\" class=\"dataframe\">\n  <thead>\n    <tr style=\"text-align: right;\">\n      <th></th>\n      <th>subject_id</th>\n      <th>Median0s</th>\n      <th>Mean0s</th>\n      <th>Max0s</th>\n      <th>Std0s</th>\n      <th>Median.r</th>\n      <th>Mean.r</th>\n      <th>Mode0s</th>\n    </tr>\n  </thead>\n  <tbody>\n    <tr>\n      <th>0</th>\n      <td>47967876</td>\n      <td>1.0</td>\n      <td>1.444444</td>\n      <td>3</td>\n      <td>0.726483</td>\n      <td>1</td>\n      <td>1</td>\n      <td>1</td>\n    </tr>\n    <tr>\n      <th>1</th>\n      <td>47967959</td>\n      <td>1.0</td>\n      <td>1.181818</td>\n      <td>2</td>\n      <td>0.404520</td>\n      <td>1</td>\n      <td>1</td>\n      <td>1</td>\n    </tr>\n    <tr>\n      <th>2</th>\n      <td>47967961</td>\n      <td>9.0</td>\n      <td>9.000000</td>\n      <td>12</td>\n      <td>2.581989</td>\n      <td>9</td>\n      <td>9</td>\n      <td>12</td>\n    </tr>\n    <tr>\n      <th>3</th>\n      <td>47967975</td>\n      <td>2.0</td>\n      <td>2.000000</td>\n      <td>2</td>\n      <td>0.000000</td>\n      <td>2</td>\n      <td>2</td>\n      <td>2</td>\n    </tr>\n    <tr>\n      <th>4</th>\n      <td>47968013</td>\n      <td>1.0</td>\n      <td>1.250000</td>\n      <td>2</td>\n      <td>0.500000</td>\n      <td>1</td>\n      <td>1</td>\n      <td>1</td>\n    </tr>\n    <tr>\n      <th>...</th>\n      <td>...</td>\n      <td>...</td>\n      <td>...</td>\n      <td>...</td>\n      <td>...</td>\n      <td>...</td>\n      <td>...</td>\n      <td>...</td>\n    </tr>\n    <tr>\n      <th>102</th>\n      <td>48026608</td>\n      <td>6.0</td>\n      <td>5.705882</td>\n      <td>7</td>\n      <td>1.263166</td>\n      <td>6</td>\n      <td>6</td>\n      <td>6</td>\n    </tr>\n    <tr>\n      <th>103</th>\n      <td>48026629</td>\n      <td>1.0</td>\n      <td>1.000000</td>\n      <td>1</td>\n      <td>0.000000</td>\n      <td>1</td>\n      <td>1</td>\n      <td>1</td>\n    </tr>\n    <tr>\n      <th>104</th>\n      <td>48026645</td>\n      <td>2.0</td>\n      <td>2.333333</td>\n      <td>6</td>\n      <td>1.345185</td>\n      <td>2</td>\n      <td>2</td>\n      <td>3</td>\n    </tr>\n    <tr>\n      <th>105</th>\n      <td>48026817</td>\n      <td>1.0</td>\n      <td>1.222222</td>\n      <td>3</td>\n      <td>0.666667</td>\n      <td>1</td>\n      <td>1</td>\n      <td>1</td>\n    </tr>\n    <tr>\n      <th>106</th>\n      <td>48027975</td>\n      <td>2.0</td>\n      <td>3.000000</td>\n      <td>6</td>\n      <td>1.414214</td>\n      <td>2</td>\n      <td>3</td>\n      <td>2</td>\n    </tr>\n  </tbody>\n</table>\n<p>107 rows × 8 columns</p>\n</div>"
     },
     "execution_count": 24,
     "metadata": {},
     "output_type": "execute_result"
    }
   ],
   "source": [
    "T2_GS_results_5th_0s = pd.read_csv(config[\"gold_standard_image_subset\"], sep=\";\")\n",
    "T2_GS_results_5th_0s"
   ]
  },
  {
   "cell_type": "markdown",
   "id": "9b226a6c6cb43f88",
   "metadata": {
    "collapsed": false
   },
   "source": [
    "## The gold standard vs. the expert count"
   ]
  },
  {
   "cell_type": "code",
   "execution_count": 25,
   "id": "99ee5f368383aca0",
   "metadata": {
    "collapsed": false,
    "ExecuteTime": {
     "end_time": "2024-03-08T13:58:31.089470Z",
     "start_time": "2024-03-08T13:58:31.073455Z"
    }
   },
   "outputs": [
    {
     "name": "stdout",
     "output_type": "stream",
     "text": [
      "If the expert count (/Users/christian/data/zooniverse/Images/Zooniverse_Goldstandard_images/expert-GS-1stphase.csv)  is filtered for the subject ids in /Users/christian/data/zooniverse/Images/Zooniverse_Goldstandard_images/1-T2-GS-results-5th-0s.csv the count_total is 331 iguanas\n"
     ]
    }
   ],
   "source": [
    "# Double checking for the counts\n",
    "gstd_5th = df_goldstandard_expert_count[df_goldstandard_expert_count.subject_id.isin(T2_GS_results_5th_0s.subject_id)].count_total.sum()\n",
    "print(f\"If the expert count ({config['goldstandard_data']})  is filtered for the subject ids in {config['gold_standard_image_subset']} the count_total is {gstd_5th} iguanas\")"
   ]
  },
  {
   "cell_type": "code",
   "execution_count": 26,
   "id": "770391321772ab07",
   "metadata": {
    "collapsed": false,
    "ExecuteTime": {
     "end_time": "2024-03-08T13:58:31.106745Z",
     "start_time": "2024-03-08T13:58:31.090156Z"
    }
   },
   "outputs": [
    {
     "data": {
      "text/plain": "422"
     },
     "execution_count": 26,
     "metadata": {},
     "output_type": "execute_result"
    }
   ],
   "source": [
    "len(set(T2_GS_results_5th_0s.subject_id.unique()) - set(df_goldstandard_expert_count.subject_id))\n",
    "df_goldstandard_expert_count[\"count_total\"].sum()"
   ]
  },
  {
   "cell_type": "markdown",
   "id": "727513d12334665b",
   "metadata": {
    "collapsed": false
   },
   "source": []
  },
  {
   "cell_type": "code",
   "execution_count": 27,
   "id": "a32dd3d78eb25d4a",
   "metadata": {
    "collapsed": false,
    "ExecuteTime": {
     "end_time": "2024-03-08T13:58:31.123063Z",
     "start_time": "2024-03-08T13:58:31.107664Z"
    }
   },
   "outputs": [
    {
     "data": {
      "text/plain": "107"
     },
     "execution_count": 27,
     "metadata": {},
     "output_type": "execute_result"
    }
   ],
   "source": [
    "df_merged_dataset[\"subject_id\"].nunique()"
   ]
  },
  {
   "cell_type": "code",
   "execution_count": 28,
   "id": "c03a341c4a050cc7",
   "metadata": {
    "collapsed": false,
    "ExecuteTime": {
     "end_time": "2024-03-08T13:58:31.139988Z",
     "start_time": "2024-03-08T13:58:31.123723Z"
    }
   },
   "outputs": [
    {
     "data": {
      "text/plain": "331"
     },
     "execution_count": 28,
     "metadata": {},
     "output_type": "execute_result"
    }
   ],
   "source": [
    "\n",
    "df_goldstandard_expert_count = df_goldstandard_expert_count[\n",
    "    df_goldstandard_expert_count.subject_id.isin(df_merged_dataset.subject_id.unique())]\n",
    "df_goldstandard_expert_count = df_goldstandard_expert_count[[\"image_name\", \"subject_id\", \"count_total\"]]\n",
    "\n",
    "df_goldstandard_expert_count[\"count_total\"].sum()"
   ]
  },
  {
   "cell_type": "code",
   "execution_count": 29,
   "id": "e81f8736a91d6771",
   "metadata": {
    "collapsed": false,
    "ExecuteTime": {
     "end_time": "2024-03-08T13:58:31.157582Z",
     "start_time": "2024-03-08T13:58:31.140685Z"
    }
   },
   "outputs": [],
   "source": [
    "## plot some of the marks\n",
    "from zooniverse.utils.plotting import plot_zooniverse_user_marks_v2\n",
    "# FMO03-1_65\n",
    "# EIG05-1_83.jpg # phase \n",
    "# MBN04-2_182.jpg # phase 3\n",
    "# df_merged_dataset_filtered = df_merged_dataset[df_merged_dataset.image_name.isin([\"ESCG02-1_19.jpg\"])]\n",
    "if phase_tag in[\"Iguanas 1st launch\", \"Iguanas 2nd launch\"]  and  ( plot_diagrams or show_plots ) :\n",
    "    for image_name, df_image_name in df_merged_dataset.groupby(\"image_name\"):\n",
    "        \n",
    "        ## plot the marks\n",
    "        markers_plot_path = plot_zooniverse_user_marks_v2(df_image_name,\n",
    "                                                          image_path=df_image_name.iloc[0][\"image_path\"],\n",
    "                                                          image_name=image_name,\n",
    "                                                          output_path=output_plot_path, show=show_plots, title=f\"Markers for {image_name}\", fig_size=(5,5))\n",
    "        "
   ]
  },
  {
   "cell_type": "markdown",
   "id": "42c2737f2c06741d",
   "metadata": {
    "collapsed": false
   },
   "source": [
    "## Clustering"
   ]
  },
  {
   "cell_type": "markdown",
   "id": "beefdd1511daad4",
   "metadata": {
    "collapsed": false
   },
   "source": [
    "### Basic Statics like mean, median, mode"
   ]
  },
  {
   "cell_type": "code",
   "execution_count": 30,
   "id": "998d62019f01a2ec",
   "metadata": {
    "collapsed": false,
    "ExecuteTime": {
     "end_time": "2024-03-08T13:58:31.196987Z",
     "start_time": "2024-03-08T13:58:31.158397Z"
    }
   },
   "outputs": [
    {
     "data": {
      "text/plain": "331"
     },
     "execution_count": 30,
     "metadata": {},
     "output_type": "execute_result"
    }
   ],
   "source": [
    "from sklearn.metrics import mean_squared_error\n",
    "from zooniverse.analysis import kmeans_knee, get_mark_overview\n",
    "\n",
    "basic_stats = []\n",
    "kmeans_knee_stats = []\n",
    "kmeans_silouettes = []\n",
    "mse_errors = {}\n",
    "\n",
    "\n",
    "for image_name, df_image_name in df_merged_dataset.groupby(\"image_name\"):\n",
    "    annotations_count = get_mark_overview(df_image_name)\n",
    "\n",
    "\n",
    "    annotations_count_stats = get_annotation_count_stats(annotations_count=annotations_count,\n",
    "                                                         image_name=df_image_name.iloc[0][\"image_name\"])\n",
    "\n",
    "\n",
    "    ### basic statistics like mean, median\n",
    "    basic_stats.append(annotations_count_stats)\n",
    "    \n",
    "\n",
    "df_basic_stats = pd.DataFrame(basic_stats)    \n",
    "\n",
    "df_comparison = df_goldstandard_expert_count.merge(df_basic_stats, on='image_name', how='left')\n",
    "\n",
    "df_comparison[\"count_total\"].sum()\n",
    "df_goldstandard_expert_count[\"count_total\"].sum()"
   ]
  },
  {
   "cell_type": "code",
   "execution_count": 31,
   "id": "d3dc86009d813ff0",
   "metadata": {
    "collapsed": false,
    "ExecuteTime": {
     "end_time": "2024-03-08T13:58:31.221251Z",
     "start_time": "2024-03-08T13:58:31.197866Z"
    }
   },
   "outputs": [
    {
     "data": {
      "text/plain": "Empty DataFrame\nColumns: [image_name, subject_id, count_total, median_count, mean_count, mode_count, users, sum_annotations_count, annotations_count]\nIndex: []",
      "text/html": "<div>\n<style scoped>\n    .dataframe tbody tr th:only-of-type {\n        vertical-align: middle;\n    }\n\n    .dataframe tbody tr th {\n        vertical-align: top;\n    }\n\n    .dataframe thead th {\n        text-align: right;\n    }\n</style>\n<table border=\"1\" class=\"dataframe\">\n  <thead>\n    <tr style=\"text-align: right;\">\n      <th></th>\n      <th>image_name</th>\n      <th>subject_id</th>\n      <th>count_total</th>\n      <th>median_count</th>\n      <th>mean_count</th>\n      <th>mode_count</th>\n      <th>users</th>\n      <th>sum_annotations_count</th>\n      <th>annotations_count</th>\n    </tr>\n  </thead>\n  <tbody>\n  </tbody>\n</table>\n</div>"
     },
     "execution_count": 31,
     "metadata": {},
     "output_type": "execute_result"
    }
   ],
   "source": [
    "# There might be records with too few annotations\n",
    "df_comparison[(df_comparison.count_total > 0) & (df_comparison.sum_annotations_count < 5)].sort_values(by=\"users\", ascending=False)"
   ]
  },
  {
   "cell_type": "code",
   "execution_count": 32,
   "id": "6b73fd302520f520",
   "metadata": {
    "collapsed": false,
    "ExecuteTime": {
     "end_time": "2024-03-08T13:58:31.244747Z",
     "start_time": "2024-03-08T13:58:31.225311Z"
    }
   },
   "outputs": [
    {
     "data": {
      "text/plain": "             image_name  subject_id  count_total  median_count  mean_count  \\\n29  SFM01-2-2-1_293.jpg    47969478            9           4.5        5.00   \n54  SFM01-2-2-3_123.jpg    47970063            1           1.0        2.75   \n0   SFM01-2-2-2_282.jpg    47969795            2           2.0        2.00   \n42  SFM01-2-2-2_323.jpg    47969912            6           5.0        6.33   \n\n    mode_count  users  sum_annotations_count annotations_count  \n29           2      4                     20      [2, 2, 7, 9]  \n54           1      4                     11      [1, 1, 1, 8]  \n0            1      3                      6         [1, 2, 3]  \n42           5      3                     19        [1, 5, 13]  ",
      "text/html": "<div>\n<style scoped>\n    .dataframe tbody tr th:only-of-type {\n        vertical-align: middle;\n    }\n\n    .dataframe tbody tr th {\n        vertical-align: top;\n    }\n\n    .dataframe thead th {\n        text-align: right;\n    }\n</style>\n<table border=\"1\" class=\"dataframe\">\n  <thead>\n    <tr style=\"text-align: right;\">\n      <th></th>\n      <th>image_name</th>\n      <th>subject_id</th>\n      <th>count_total</th>\n      <th>median_count</th>\n      <th>mean_count</th>\n      <th>mode_count</th>\n      <th>users</th>\n      <th>sum_annotations_count</th>\n      <th>annotations_count</th>\n    </tr>\n  </thead>\n  <tbody>\n    <tr>\n      <th>29</th>\n      <td>SFM01-2-2-1_293.jpg</td>\n      <td>47969478</td>\n      <td>9</td>\n      <td>4.5</td>\n      <td>5.00</td>\n      <td>2</td>\n      <td>4</td>\n      <td>20</td>\n      <td>[2, 2, 7, 9]</td>\n    </tr>\n    <tr>\n      <th>54</th>\n      <td>SFM01-2-2-3_123.jpg</td>\n      <td>47970063</td>\n      <td>1</td>\n      <td>1.0</td>\n      <td>2.75</td>\n      <td>1</td>\n      <td>4</td>\n      <td>11</td>\n      <td>[1, 1, 1, 8]</td>\n    </tr>\n    <tr>\n      <th>0</th>\n      <td>SFM01-2-2-2_282.jpg</td>\n      <td>47969795</td>\n      <td>2</td>\n      <td>2.0</td>\n      <td>2.00</td>\n      <td>1</td>\n      <td>3</td>\n      <td>6</td>\n      <td>[1, 2, 3]</td>\n    </tr>\n    <tr>\n      <th>42</th>\n      <td>SFM01-2-2-2_323.jpg</td>\n      <td>47969912</td>\n      <td>6</td>\n      <td>5.0</td>\n      <td>6.33</td>\n      <td>5</td>\n      <td>3</td>\n      <td>19</td>\n      <td>[1, 5, 13]</td>\n    </tr>\n  </tbody>\n</table>\n</div>"
     },
     "execution_count": 32,
     "metadata": {},
     "output_type": "execute_result"
    }
   ],
   "source": [
    "# images with an expert count of more than 0 and less than 5 different users\n",
    "df_comparison[(df_comparison.count_total > 0) & (df_comparison.users < 5)].sort_values(by=\"users\", ascending=False)\n"
   ]
  },
  {
   "cell_type": "code",
   "execution_count": 33,
   "id": "5920de4659a59e9e",
   "metadata": {
    "collapsed": false,
    "ExecuteTime": {
     "end_time": "2024-03-08T13:58:31.263345Z",
     "start_time": "2024-03-08T13:58:31.245739Z"
    }
   },
   "outputs": [
    {
     "data": {
      "text/plain": "331"
     },
     "execution_count": 33,
     "metadata": {},
     "output_type": "execute_result"
    }
   ],
   "source": [
    "df_comparison[\"count_total\"].sum()"
   ]
  },
  {
   "cell_type": "markdown",
   "id": "4bd536b6ef06de7c",
   "metadata": {
    "collapsed": false
   },
   "source": [
    "### Fill NaN values with 0 because the errors can't be calculated otherwise"
   ]
  },
  {
   "cell_type": "code",
   "execution_count": 34,
   "id": "50596f5c07d7bd7c",
   "metadata": {
    "collapsed": false,
    "ExecuteTime": {
     "end_time": "2024-03-08T13:58:31.280519Z",
     "start_time": "2024-03-08T13:58:31.264539Z"
    }
   },
   "outputs": [],
   "source": [
    "\n",
    "## Fill NaN values with 0 because the errors can't be calculated otherwise\n",
    "df_comparison.fillna(0, inplace=True)\n"
   ]
  },
  {
   "cell_type": "code",
   "execution_count": 35,
   "id": "a538f869681967c",
   "metadata": {
    "collapsed": false,
    "ExecuteTime": {
     "end_time": "2024-03-08T13:58:31.300459Z",
     "start_time": "2024-03-08T13:58:31.281497Z"
    }
   },
   "outputs": [
    {
     "data": {
      "text/plain": "median_count_rmse    2.380313\nmean_count_rmse      2.098189\nmode_count_rmse      2.916277\ndtype: float64"
     },
     "execution_count": 35,
     "metadata": {},
     "output_type": "execute_result"
    }
   ],
   "source": [
    "\n",
    "mse_errors[\"median_count_rmse\"] = mean_squared_error(df_comparison.count_total, df_comparison.median_count,\n",
    "                                                     squared=False)\n",
    "mse_errors[\"mean_count_rmse\"] = mean_squared_error(df_comparison.count_total, df_comparison.mean_count, squared=False)\n",
    "mse_errors[\"mode_count_rmse\"] = mean_squared_error(df_comparison.count_total, df_comparison.mode_count, squared=False)\n",
    "\n",
    "pd.Series(mse_errors)"
   ]
  },
  {
   "cell_type": "markdown",
   "id": "3100d741b31e60d1",
   "metadata": {
    "collapsed": false
   },
   "source": [
    "It can be seen the knee method has a very high Root mean squared error. "
   ]
  },
  {
   "cell_type": "code",
   "execution_count": 36,
   "id": "d0b61f01-8db0-48a6-8a4e-5ff80e6f86e4",
   "metadata": {
    "ExecuteTime": {
     "end_time": "2024-03-08T13:58:31.321923Z",
     "start_time": "2024-03-08T13:58:31.301104Z"
    }
   },
   "outputs": [
    {
     "data": {
      "text/plain": "              image_name  subject_id  count_total  median_count  mean_count  \\\n0    SFM01-2-2-2_282.jpg    47969795            2           2.0        2.00   \n1    SFM01-2-2-1_344.jpg    47969531            4           1.0        1.70   \n2    SFM01-2-2-2_293.jpg    47969828            7           2.0        2.57   \n3      SFM01-1-1_114.jpg    47967876            1           1.0        1.44   \n4      SFM01-1-1_154.jpg    47967959            1           1.0        1.00   \n..                   ...         ...          ...           ...         ...   \n102    SRPB02-2-1_67.jpg    47987920            1           1.0        1.07   \n103   SRPB02-2-2_143.jpg    47988474            4           4.0        3.89   \n104   SRPB02-2-2_153.jpg    47988580            1           1.0        1.00   \n105   SRPB02-2-2_161.jpg    47988636            1           1.0        1.00   \n106   SRPB02-2-3_157.jpg    47989826            1           1.5        1.83   \n\n     mode_count  users  sum_annotations_count  \\\n0             1      3                      6   \n1             1     10                     17   \n2             1     14                     36   \n3             1      9                     13   \n4             1     11                     11   \n..          ...    ...                    ...   \n102           1     14                     15   \n103           4      9                     35   \n104           1     10                     10   \n105           1     10                     10   \n106           1      6                     11   \n\n                              annotations_count  \n0                                     [1, 2, 3]  \n1                [1, 1, 1, 1, 1, 1, 1, 3, 3, 4]  \n2    [1, 1, 1, 1, 1, 1, 2, 2, 3, 3, 3, 4, 5, 8]  \n3                   [1, 1, 1, 1, 1, 1, 1, 2, 4]  \n4             [1, 1, 1, 1, 1, 1, 1, 1, 1, 1, 1]  \n..                                          ...  \n102  [1, 1, 1, 1, 1, 1, 1, 1, 1, 1, 1, 1, 1, 2]  \n103                 [2, 3, 3, 4, 4, 4, 4, 5, 6]  \n104              [1, 1, 1, 1, 1, 1, 1, 1, 1, 1]  \n105              [1, 1, 1, 1, 1, 1, 1, 1, 1, 1]  \n106                          [1, 1, 1, 2, 3, 3]  \n\n[107 rows x 9 columns]",
      "text/html": "<div>\n<style scoped>\n    .dataframe tbody tr th:only-of-type {\n        vertical-align: middle;\n    }\n\n    .dataframe tbody tr th {\n        vertical-align: top;\n    }\n\n    .dataframe thead th {\n        text-align: right;\n    }\n</style>\n<table border=\"1\" class=\"dataframe\">\n  <thead>\n    <tr style=\"text-align: right;\">\n      <th></th>\n      <th>image_name</th>\n      <th>subject_id</th>\n      <th>count_total</th>\n      <th>median_count</th>\n      <th>mean_count</th>\n      <th>mode_count</th>\n      <th>users</th>\n      <th>sum_annotations_count</th>\n      <th>annotations_count</th>\n    </tr>\n  </thead>\n  <tbody>\n    <tr>\n      <th>0</th>\n      <td>SFM01-2-2-2_282.jpg</td>\n      <td>47969795</td>\n      <td>2</td>\n      <td>2.0</td>\n      <td>2.00</td>\n      <td>1</td>\n      <td>3</td>\n      <td>6</td>\n      <td>[1, 2, 3]</td>\n    </tr>\n    <tr>\n      <th>1</th>\n      <td>SFM01-2-2-1_344.jpg</td>\n      <td>47969531</td>\n      <td>4</td>\n      <td>1.0</td>\n      <td>1.70</td>\n      <td>1</td>\n      <td>10</td>\n      <td>17</td>\n      <td>[1, 1, 1, 1, 1, 1, 1, 3, 3, 4]</td>\n    </tr>\n    <tr>\n      <th>2</th>\n      <td>SFM01-2-2-2_293.jpg</td>\n      <td>47969828</td>\n      <td>7</td>\n      <td>2.0</td>\n      <td>2.57</td>\n      <td>1</td>\n      <td>14</td>\n      <td>36</td>\n      <td>[1, 1, 1, 1, 1, 1, 2, 2, 3, 3, 3, 4, 5, 8]</td>\n    </tr>\n    <tr>\n      <th>3</th>\n      <td>SFM01-1-1_114.jpg</td>\n      <td>47967876</td>\n      <td>1</td>\n      <td>1.0</td>\n      <td>1.44</td>\n      <td>1</td>\n      <td>9</td>\n      <td>13</td>\n      <td>[1, 1, 1, 1, 1, 1, 1, 2, 4]</td>\n    </tr>\n    <tr>\n      <th>4</th>\n      <td>SFM01-1-1_154.jpg</td>\n      <td>47967959</td>\n      <td>1</td>\n      <td>1.0</td>\n      <td>1.00</td>\n      <td>1</td>\n      <td>11</td>\n      <td>11</td>\n      <td>[1, 1, 1, 1, 1, 1, 1, 1, 1, 1, 1]</td>\n    </tr>\n    <tr>\n      <th>...</th>\n      <td>...</td>\n      <td>...</td>\n      <td>...</td>\n      <td>...</td>\n      <td>...</td>\n      <td>...</td>\n      <td>...</td>\n      <td>...</td>\n      <td>...</td>\n    </tr>\n    <tr>\n      <th>102</th>\n      <td>SRPB02-2-1_67.jpg</td>\n      <td>47987920</td>\n      <td>1</td>\n      <td>1.0</td>\n      <td>1.07</td>\n      <td>1</td>\n      <td>14</td>\n      <td>15</td>\n      <td>[1, 1, 1, 1, 1, 1, 1, 1, 1, 1, 1, 1, 1, 2]</td>\n    </tr>\n    <tr>\n      <th>103</th>\n      <td>SRPB02-2-2_143.jpg</td>\n      <td>47988474</td>\n      <td>4</td>\n      <td>4.0</td>\n      <td>3.89</td>\n      <td>4</td>\n      <td>9</td>\n      <td>35</td>\n      <td>[2, 3, 3, 4, 4, 4, 4, 5, 6]</td>\n    </tr>\n    <tr>\n      <th>104</th>\n      <td>SRPB02-2-2_153.jpg</td>\n      <td>47988580</td>\n      <td>1</td>\n      <td>1.0</td>\n      <td>1.00</td>\n      <td>1</td>\n      <td>10</td>\n      <td>10</td>\n      <td>[1, 1, 1, 1, 1, 1, 1, 1, 1, 1]</td>\n    </tr>\n    <tr>\n      <th>105</th>\n      <td>SRPB02-2-2_161.jpg</td>\n      <td>47988636</td>\n      <td>1</td>\n      <td>1.0</td>\n      <td>1.00</td>\n      <td>1</td>\n      <td>10</td>\n      <td>10</td>\n      <td>[1, 1, 1, 1, 1, 1, 1, 1, 1, 1]</td>\n    </tr>\n    <tr>\n      <th>106</th>\n      <td>SRPB02-2-3_157.jpg</td>\n      <td>47989826</td>\n      <td>1</td>\n      <td>1.5</td>\n      <td>1.83</td>\n      <td>1</td>\n      <td>6</td>\n      <td>11</td>\n      <td>[1, 1, 1, 2, 3, 3]</td>\n    </tr>\n  </tbody>\n</table>\n<p>107 rows × 9 columns</p>\n</div>"
     },
     "execution_count": 36,
     "metadata": {},
     "output_type": "execute_result"
    }
   ],
   "source": [
    "df_comparison"
   ]
  },
  {
   "cell_type": "code",
   "execution_count": 37,
   "id": "8473f1659f70c47f",
   "metadata": {
    "collapsed": false,
    "ExecuteTime": {
     "end_time": "2024-03-08T13:58:31.339457Z",
     "start_time": "2024-03-08T13:58:31.322657Z"
    }
   },
   "outputs": [
    {
     "data": {
      "text/plain": "median_count_rmse    2.380313\nmean_count_rmse      2.098189\nmode_count_rmse      2.916277\ndtype: float64"
     },
     "execution_count": 37,
     "metadata": {},
     "output_type": "execute_result"
    }
   ],
   "source": [
    "\n",
    "pd.Series(mse_errors)"
   ]
  },
  {
   "cell_type": "code",
   "execution_count": 38,
   "id": "897c74aacd7fda9",
   "metadata": {
    "collapsed": false,
    "ExecuteTime": {
     "end_time": "2024-03-08T13:58:31.360459Z",
     "start_time": "2024-03-08T13:58:31.340245Z"
    }
   },
   "outputs": [
    {
     "data": {
      "text/plain": "              image_name  subject_id  count_total  median_count  mean_count  \\\n0    SFM01-2-2-2_282.jpg    47969795            2           2.0        2.00   \n1    SFM01-2-2-1_344.jpg    47969531            4           1.0        1.70   \n2    SFM01-2-2-2_293.jpg    47969828            7           2.0        2.57   \n3      SFM01-1-1_114.jpg    47967876            1           1.0        1.44   \n4      SFM01-1-1_154.jpg    47967959            1           1.0        1.00   \n..                   ...         ...          ...           ...         ...   \n102    SRPB02-2-1_67.jpg    47987920            1           1.0        1.07   \n103   SRPB02-2-2_143.jpg    47988474            4           4.0        3.89   \n104   SRPB02-2-2_153.jpg    47988580            1           1.0        1.00   \n105   SRPB02-2-2_161.jpg    47988636            1           1.0        1.00   \n106   SRPB02-2-3_157.jpg    47989826            1           1.5        1.83   \n\n     mode_count  users  sum_annotations_count  \\\n0             1      3                      6   \n1             1     10                     17   \n2             1     14                     36   \n3             1      9                     13   \n4             1     11                     11   \n..          ...    ...                    ...   \n102           1     14                     15   \n103           4      9                     35   \n104           1     10                     10   \n105           1     10                     10   \n106           1      6                     11   \n\n                              annotations_count  \n0                                     [1, 2, 3]  \n1                [1, 1, 1, 1, 1, 1, 1, 3, 3, 4]  \n2    [1, 1, 1, 1, 1, 1, 2, 2, 3, 3, 3, 4, 5, 8]  \n3                   [1, 1, 1, 1, 1, 1, 1, 2, 4]  \n4             [1, 1, 1, 1, 1, 1, 1, 1, 1, 1, 1]  \n..                                          ...  \n102  [1, 1, 1, 1, 1, 1, 1, 1, 1, 1, 1, 1, 1, 2]  \n103                 [2, 3, 3, 4, 4, 4, 4, 5, 6]  \n104              [1, 1, 1, 1, 1, 1, 1, 1, 1, 1]  \n105              [1, 1, 1, 1, 1, 1, 1, 1, 1, 1]  \n106                          [1, 1, 1, 2, 3, 3]  \n\n[107 rows x 9 columns]",
      "text/html": "<div>\n<style scoped>\n    .dataframe tbody tr th:only-of-type {\n        vertical-align: middle;\n    }\n\n    .dataframe tbody tr th {\n        vertical-align: top;\n    }\n\n    .dataframe thead th {\n        text-align: right;\n    }\n</style>\n<table border=\"1\" class=\"dataframe\">\n  <thead>\n    <tr style=\"text-align: right;\">\n      <th></th>\n      <th>image_name</th>\n      <th>subject_id</th>\n      <th>count_total</th>\n      <th>median_count</th>\n      <th>mean_count</th>\n      <th>mode_count</th>\n      <th>users</th>\n      <th>sum_annotations_count</th>\n      <th>annotations_count</th>\n    </tr>\n  </thead>\n  <tbody>\n    <tr>\n      <th>0</th>\n      <td>SFM01-2-2-2_282.jpg</td>\n      <td>47969795</td>\n      <td>2</td>\n      <td>2.0</td>\n      <td>2.00</td>\n      <td>1</td>\n      <td>3</td>\n      <td>6</td>\n      <td>[1, 2, 3]</td>\n    </tr>\n    <tr>\n      <th>1</th>\n      <td>SFM01-2-2-1_344.jpg</td>\n      <td>47969531</td>\n      <td>4</td>\n      <td>1.0</td>\n      <td>1.70</td>\n      <td>1</td>\n      <td>10</td>\n      <td>17</td>\n      <td>[1, 1, 1, 1, 1, 1, 1, 3, 3, 4]</td>\n    </tr>\n    <tr>\n      <th>2</th>\n      <td>SFM01-2-2-2_293.jpg</td>\n      <td>47969828</td>\n      <td>7</td>\n      <td>2.0</td>\n      <td>2.57</td>\n      <td>1</td>\n      <td>14</td>\n      <td>36</td>\n      <td>[1, 1, 1, 1, 1, 1, 2, 2, 3, 3, 3, 4, 5, 8]</td>\n    </tr>\n    <tr>\n      <th>3</th>\n      <td>SFM01-1-1_114.jpg</td>\n      <td>47967876</td>\n      <td>1</td>\n      <td>1.0</td>\n      <td>1.44</td>\n      <td>1</td>\n      <td>9</td>\n      <td>13</td>\n      <td>[1, 1, 1, 1, 1, 1, 1, 2, 4]</td>\n    </tr>\n    <tr>\n      <th>4</th>\n      <td>SFM01-1-1_154.jpg</td>\n      <td>47967959</td>\n      <td>1</td>\n      <td>1.0</td>\n      <td>1.00</td>\n      <td>1</td>\n      <td>11</td>\n      <td>11</td>\n      <td>[1, 1, 1, 1, 1, 1, 1, 1, 1, 1, 1]</td>\n    </tr>\n    <tr>\n      <th>...</th>\n      <td>...</td>\n      <td>...</td>\n      <td>...</td>\n      <td>...</td>\n      <td>...</td>\n      <td>...</td>\n      <td>...</td>\n      <td>...</td>\n      <td>...</td>\n    </tr>\n    <tr>\n      <th>102</th>\n      <td>SRPB02-2-1_67.jpg</td>\n      <td>47987920</td>\n      <td>1</td>\n      <td>1.0</td>\n      <td>1.07</td>\n      <td>1</td>\n      <td>14</td>\n      <td>15</td>\n      <td>[1, 1, 1, 1, 1, 1, 1, 1, 1, 1, 1, 1, 1, 2]</td>\n    </tr>\n    <tr>\n      <th>103</th>\n      <td>SRPB02-2-2_143.jpg</td>\n      <td>47988474</td>\n      <td>4</td>\n      <td>4.0</td>\n      <td>3.89</td>\n      <td>4</td>\n      <td>9</td>\n      <td>35</td>\n      <td>[2, 3, 3, 4, 4, 4, 4, 5, 6]</td>\n    </tr>\n    <tr>\n      <th>104</th>\n      <td>SRPB02-2-2_153.jpg</td>\n      <td>47988580</td>\n      <td>1</td>\n      <td>1.0</td>\n      <td>1.00</td>\n      <td>1</td>\n      <td>10</td>\n      <td>10</td>\n      <td>[1, 1, 1, 1, 1, 1, 1, 1, 1, 1]</td>\n    </tr>\n    <tr>\n      <th>105</th>\n      <td>SRPB02-2-2_161.jpg</td>\n      <td>47988636</td>\n      <td>1</td>\n      <td>1.0</td>\n      <td>1.00</td>\n      <td>1</td>\n      <td>10</td>\n      <td>10</td>\n      <td>[1, 1, 1, 1, 1, 1, 1, 1, 1, 1]</td>\n    </tr>\n    <tr>\n      <th>106</th>\n      <td>SRPB02-2-3_157.jpg</td>\n      <td>47989826</td>\n      <td>1</td>\n      <td>1.5</td>\n      <td>1.83</td>\n      <td>1</td>\n      <td>6</td>\n      <td>11</td>\n      <td>[1, 1, 1, 2, 3, 3]</td>\n    </tr>\n  </tbody>\n</table>\n<p>107 rows × 9 columns</p>\n</div>"
     },
     "execution_count": 38,
     "metadata": {},
     "output_type": "execute_result"
    }
   ],
   "source": [
    "df_comparison"
   ]
  },
  {
   "cell_type": "code",
   "execution_count": 39,
   "id": "134bd6295fa837ce",
   "metadata": {
    "collapsed": false,
    "ExecuteTime": {
     "end_time": "2024-03-08T13:58:31.378908Z",
     "start_time": "2024-03-08T13:58:31.361311Z"
    }
   },
   "outputs": [
    {
     "data": {
      "text/plain": "image_name               SFM01-2-2-2_282.jpgSFM01-2-2-1_344.jpgSFM01-2-...\nsubject_id                                                      5133430839\ncount_total                                                            331\nmedian_count                                                         235.5\nmean_count                                                          271.41\nmode_count                                                             221\nusers                                                                 1204\nsum_annotations_count                                                 3047\nannotations_count        [1, 2, 3, 1, 1, 1, 1, 1, 1, 1, 3, 3, 4, 1, 1, ...\ndtype: object"
     },
     "execution_count": 39,
     "metadata": {},
     "output_type": "execute_result"
    }
   ],
   "source": [
    "df_comparison.sum()"
   ]
  },
  {
   "cell_type": "markdown",
   "id": "5d99c27ebf9bd6b6",
   "metadata": {
    "collapsed": false
   },
   "source": [
    "### DBSCAN clustering and take the variant with the best silouette score for each image\n"
   ]
  },
  {
   "cell_type": "code",
   "execution_count": 40,
   "id": "33cf6b89951ff33e",
   "metadata": {
    "collapsed": false,
    "ExecuteTime": {
     "end_time": "2024-03-08T13:58:31.395165Z",
     "start_time": "2024-03-08T13:58:31.379821Z"
    }
   },
   "outputs": [],
   "source": [
    "### The old variant\n",
    "# from zooniverse.analysis import compare_dbscan_hyp_v2\n",
    "# \n",
    "# eps_variants = [0.01, 0.05, 0.1, 0.2, 0.3, 0.4, 0.5]\n",
    "# min_samples_variants = [3, 5, 8, 10]\n",
    "# if debug:\n",
    "#     eps_variants = [0.3]\n",
    "#     min_samples_variants = [3]\n",
    "# params = [(eps, min_samples) for eps in eps_variants for min_samples in min_samples_variants]\n",
    "# \n",
    "# db_scan_results = {}\n",
    "# db_scan_best_results = []\n",
    "# db_scan_best_bic_results = []\n",
    "# for image_name, df_image_name in df_merged_dataset.groupby(\"image_name\"):\n",
    "# \n",
    "#     dbscan_localization = compare_dbscan_hyp_v2(\n",
    "#         # phase_tag=phase_tag,\n",
    "#         params=params,\n",
    "#         df_flat=df_image_name,\n",
    "#         # output_path=output_path,\n",
    "#         output_plot_path=output_plot_path,\n",
    "#         plot=show_plots,\n",
    "#         \n",
    "#     )\n",
    "# \n",
    "#     db_scan_results[image_name] = pd.DataFrame(dbscan_localization)\n",
    "#     \n",
    "#     # TODO Here lies the main problem with DBSCAN.\n",
    "#     ## DBSCAN tends to classfy all points as noise if min_samples is too high. Often only a single user marked an iguana.\n",
    "#     ## Sillouette Scoring needs a minimum of 2 clusters\n",
    "#     ## if there are points in decent radius they will belong to a cluster\n",
    "#     # if pd.DataFrame(dbscan_localization).dbscan_count.max() == 1:\n",
    "#     #     db_scan_best_results.append(pd.DataFrame(dbscan_localization).sort_values(\"dbscan_count\", ascending=False).iloc[0])\n",
    "#     #     db_scan_best_bic_results.append(pd.DataFrame(dbscan_localization).sort_values(\"dbscan_count\", ascending=False).iloc[0])\n",
    "#     # # If two or more cluster seem to exists take ones with the best BIC or Silouette score\n",
    "#     # else:  \n",
    "#     # take the best result by silouette score if there are more clusters then 1\n",
    "#     ## TODO make the sorting deterministic\n",
    "#     db_scan_best_results.append(pd.DataFrame(dbscan_localization).sort_values(\"dbscan_silouette_score\", ascending=False).iloc[0])\n",
    "#     \n",
    "# df_dbscan_localization = pd.concat([*db_scan_results.values()])\n",
    "# df_scan_best_results = pd.DataFrame(db_scan_best_results)\n",
    "\n"
   ]
  },
  {
   "cell_type": "code",
   "execution_count": 41,
   "id": "1504707449147a99",
   "metadata": {
    "collapsed": false,
    "ExecuteTime": {
     "end_time": "2024-03-08T13:58:31.411116Z",
     "start_time": "2024-03-08T13:58:31.395848Z"
    }
   },
   "outputs": [],
   "source": [
    "# df_scan_best_results"
   ]
  },
  {
   "cell_type": "code",
   "execution_count": 42,
   "id": "541f9f88dc56d1f1",
   "metadata": {
    "collapsed": false,
    "ExecuteTime": {
     "end_time": "2024-03-08T13:58:50.682109Z",
     "start_time": "2024-03-08T13:58:31.411833Z"
    }
   },
   "outputs": [
    {
     "name": "stderr",
     "output_type": "stream",
     "text": [
      "/Users/christian/PycharmProjects/iguanas-from-above-zooniverse/zooniverse/utils/basic_clustering.py:128: RuntimeWarning: invalid value encountered in scalar divide\n",
      "  variance = np.sum((X_cluster - centroid) ** 2) / (len(X_cluster) - 1)\n",
      "/Users/christian/PycharmProjects/iguanas-from-above-zooniverse/zooniverse/utils/basic_clustering.py:128: RuntimeWarning: invalid value encountered in scalar divide\n",
      "  variance = np.sum((X_cluster - centroid) ** 2) / (len(X_cluster) - 1)\n",
      "/Users/christian/PycharmProjects/iguanas-from-above-zooniverse/zooniverse/utils/basic_clustering.py:128: RuntimeWarning: invalid value encountered in scalar divide\n",
      "  variance = np.sum((X_cluster - centroid) ** 2) / (len(X_cluster) - 1)\n",
      "/Users/christian/PycharmProjects/iguanas-from-above-zooniverse/zooniverse/utils/basic_clustering.py:128: RuntimeWarning: invalid value encountered in scalar divide\n",
      "  variance = np.sum((X_cluster - centroid) ** 2) / (len(X_cluster) - 1)\n",
      "/Users/christian/PycharmProjects/iguanas-from-above-zooniverse/zooniverse/utils/basic_clustering.py:128: RuntimeWarning: invalid value encountered in scalar divide\n",
      "  variance = np.sum((X_cluster - centroid) ** 2) / (len(X_cluster) - 1)\n",
      "/Users/christian/PycharmProjects/iguanas-from-above-zooniverse/zooniverse/utils/basic_clustering.py:128: RuntimeWarning: invalid value encountered in scalar divide\n",
      "  variance = np.sum((X_cluster - centroid) ** 2) / (len(X_cluster) - 1)\n",
      "/Users/christian/PycharmProjects/iguanas-from-above-zooniverse/zooniverse/utils/basic_clustering.py:128: RuntimeWarning: invalid value encountered in scalar divide\n",
      "  variance = np.sum((X_cluster - centroid) ** 2) / (len(X_cluster) - 1)\n",
      "/Users/christian/PycharmProjects/iguanas-from-above-zooniverse/zooniverse/utils/basic_clustering.py:128: RuntimeWarning: invalid value encountered in scalar divide\n",
      "  variance = np.sum((X_cluster - centroid) ** 2) / (len(X_cluster) - 1)\n",
      "/Users/christian/PycharmProjects/iguanas-from-above-zooniverse/zooniverse/utils/basic_clustering.py:128: RuntimeWarning: invalid value encountered in scalar divide\n",
      "  variance = np.sum((X_cluster - centroid) ** 2) / (len(X_cluster) - 1)\n",
      "/Users/christian/PycharmProjects/iguanas-from-above-zooniverse/zooniverse/utils/basic_clustering.py:128: RuntimeWarning: invalid value encountered in scalar divide\n",
      "  variance = np.sum((X_cluster - centroid) ** 2) / (len(X_cluster) - 1)\n",
      "/Users/christian/PycharmProjects/iguanas-from-above-zooniverse/zooniverse/utils/basic_clustering.py:128: RuntimeWarning: invalid value encountered in scalar divide\n",
      "  variance = np.sum((X_cluster - centroid) ** 2) / (len(X_cluster) - 1)\n",
      "/Users/christian/PycharmProjects/iguanas-from-above-zooniverse/zooniverse/utils/basic_clustering.py:128: RuntimeWarning: invalid value encountered in scalar divide\n",
      "  variance = np.sum((X_cluster - centroid) ** 2) / (len(X_cluster) - 1)\n",
      "/Users/christian/PycharmProjects/iguanas-from-above-zooniverse/zooniverse/utils/basic_clustering.py:128: RuntimeWarning: invalid value encountered in scalar divide\n",
      "  variance = np.sum((X_cluster - centroid) ** 2) / (len(X_cluster) - 1)\n",
      "/Users/christian/PycharmProjects/iguanas-from-above-zooniverse/zooniverse/utils/basic_clustering.py:128: RuntimeWarning: invalid value encountered in scalar divide\n",
      "  variance = np.sum((X_cluster - centroid) ** 2) / (len(X_cluster) - 1)\n",
      "/Users/christian/PycharmProjects/iguanas-from-above-zooniverse/zooniverse/utils/basic_clustering.py:128: RuntimeWarning: invalid value encountered in scalar divide\n",
      "  variance = np.sum((X_cluster - centroid) ** 2) / (len(X_cluster) - 1)\n",
      "/Users/christian/PycharmProjects/iguanas-from-above-zooniverse/zooniverse/utils/basic_clustering.py:128: RuntimeWarning: invalid value encountered in scalar divide\n",
      "  variance = np.sum((X_cluster - centroid) ** 2) / (len(X_cluster) - 1)\n",
      "/Users/christian/PycharmProjects/iguanas-from-above-zooniverse/zooniverse/utils/basic_clustering.py:128: RuntimeWarning: invalid value encountered in scalar divide\n",
      "  variance = np.sum((X_cluster - centroid) ** 2) / (len(X_cluster) - 1)\n",
      "/Users/christian/PycharmProjects/iguanas-from-above-zooniverse/zooniverse/utils/basic_clustering.py:128: RuntimeWarning: invalid value encountered in scalar divide\n",
      "  variance = np.sum((X_cluster - centroid) ** 2) / (len(X_cluster) - 1)\n",
      "/Users/christian/PycharmProjects/iguanas-from-above-zooniverse/zooniverse/utils/basic_clustering.py:128: RuntimeWarning: invalid value encountered in scalar divide\n",
      "  variance = np.sum((X_cluster - centroid) ** 2) / (len(X_cluster) - 1)\n",
      "/Users/christian/PycharmProjects/iguanas-from-above-zooniverse/zooniverse/utils/basic_clustering.py:128: RuntimeWarning: invalid value encountered in scalar divide\n",
      "  variance = np.sum((X_cluster - centroid) ** 2) / (len(X_cluster) - 1)\n",
      "/Users/christian/PycharmProjects/iguanas-from-above-zooniverse/zooniverse/utils/basic_clustering.py:128: RuntimeWarning: invalid value encountered in scalar divide\n",
      "  variance = np.sum((X_cluster - centroid) ** 2) / (len(X_cluster) - 1)\n",
      "/Users/christian/PycharmProjects/iguanas-from-above-zooniverse/zooniverse/utils/basic_clustering.py:128: RuntimeWarning: invalid value encountered in scalar divide\n",
      "  variance = np.sum((X_cluster - centroid) ** 2) / (len(X_cluster) - 1)\n",
      "/Users/christian/PycharmProjects/iguanas-from-above-zooniverse/zooniverse/utils/basic_clustering.py:128: RuntimeWarning: invalid value encountered in scalar divide\n",
      "  variance = np.sum((X_cluster - centroid) ** 2) / (len(X_cluster) - 1)\n",
      "/Users/christian/PycharmProjects/iguanas-from-above-zooniverse/zooniverse/utils/basic_clustering.py:128: RuntimeWarning: invalid value encountered in scalar divide\n",
      "  variance = np.sum((X_cluster - centroid) ** 2) / (len(X_cluster) - 1)\n",
      "/Users/christian/PycharmProjects/iguanas-from-above-zooniverse/zooniverse/utils/basic_clustering.py:128: RuntimeWarning: invalid value encountered in scalar divide\n",
      "  variance = np.sum((X_cluster - centroid) ** 2) / (len(X_cluster) - 1)\n",
      "/Users/christian/PycharmProjects/iguanas-from-above-zooniverse/zooniverse/utils/basic_clustering.py:128: RuntimeWarning: invalid value encountered in scalar divide\n",
      "  variance = np.sum((X_cluster - centroid) ** 2) / (len(X_cluster) - 1)\n",
      "/Users/christian/PycharmProjects/iguanas-from-above-zooniverse/zooniverse/utils/basic_clustering.py:128: RuntimeWarning: invalid value encountered in scalar divide\n",
      "  variance = np.sum((X_cluster - centroid) ** 2) / (len(X_cluster) - 1)\n",
      "/Users/christian/PycharmProjects/iguanas-from-above-zooniverse/zooniverse/utils/basic_clustering.py:128: RuntimeWarning: invalid value encountered in scalar divide\n",
      "  variance = np.sum((X_cluster - centroid) ** 2) / (len(X_cluster) - 1)\n",
      "/Users/christian/PycharmProjects/iguanas-from-above-zooniverse/zooniverse/utils/basic_clustering.py:128: RuntimeWarning: invalid value encountered in scalar divide\n",
      "  variance = np.sum((X_cluster - centroid) ** 2) / (len(X_cluster) - 1)\n",
      "/Users/christian/PycharmProjects/iguanas-from-above-zooniverse/zooniverse/utils/basic_clustering.py:128: RuntimeWarning: invalid value encountered in scalar divide\n",
      "  variance = np.sum((X_cluster - centroid) ** 2) / (len(X_cluster) - 1)\n",
      "/Users/christian/PycharmProjects/iguanas-from-above-zooniverse/zooniverse/utils/basic_clustering.py:128: RuntimeWarning: invalid value encountered in scalar divide\n",
      "  variance = np.sum((X_cluster - centroid) ** 2) / (len(X_cluster) - 1)\n",
      "/Users/christian/PycharmProjects/iguanas-from-above-zooniverse/zooniverse/utils/basic_clustering.py:128: RuntimeWarning: invalid value encountered in scalar divide\n",
      "  variance = np.sum((X_cluster - centroid) ** 2) / (len(X_cluster) - 1)\n",
      "/Users/christian/PycharmProjects/iguanas-from-above-zooniverse/zooniverse/utils/basic_clustering.py:128: RuntimeWarning: invalid value encountered in scalar divide\n",
      "  variance = np.sum((X_cluster - centroid) ** 2) / (len(X_cluster) - 1)\n",
      "/Users/christian/PycharmProjects/iguanas-from-above-zooniverse/zooniverse/utils/basic_clustering.py:128: RuntimeWarning: invalid value encountered in scalar divide\n",
      "  variance = np.sum((X_cluster - centroid) ** 2) / (len(X_cluster) - 1)\n",
      "/Users/christian/PycharmProjects/iguanas-from-above-zooniverse/zooniverse/utils/basic_clustering.py:128: RuntimeWarning: invalid value encountered in scalar divide\n",
      "  variance = np.sum((X_cluster - centroid) ** 2) / (len(X_cluster) - 1)\n",
      "/Users/christian/PycharmProjects/iguanas-from-above-zooniverse/zooniverse/utils/basic_clustering.py:128: RuntimeWarning: invalid value encountered in scalar divide\n",
      "  variance = np.sum((X_cluster - centroid) ** 2) / (len(X_cluster) - 1)\n",
      "/Users/christian/PycharmProjects/iguanas-from-above-zooniverse/zooniverse/utils/basic_clustering.py:128: RuntimeWarning: invalid value encountered in scalar divide\n",
      "  variance = np.sum((X_cluster - centroid) ** 2) / (len(X_cluster) - 1)\n",
      "/var/folders/2k/78nn7s4548986wsjh29rhj9w0000gn/T/ipykernel_68781/29723898.py:40: FutureWarning: The behavior of DataFrame concatenation with empty or all-NA entries is deprecated. In a future version, this will no longer exclude empty or all-NA columns when determining the result dtypes. To retain the old behavior, exclude the relevant entries before the concat operation.\n",
      "  df_dbscan_localization = pd.concat([*db_scan_results.values()])\n"
     ]
    }
   ],
   "source": [
    "## fixes the problem with the silouette score sorting\n",
    "from zooniverse.analysis import compare_dbscan_hyp_v2\n",
    "\n",
    "eps_variants = [0.01, 0.05, 0.1, 0.2, 0.3, 0.4, 0.5]\n",
    "min_samples_variants = [3, 5, 8, 10]\n",
    "if debug:\n",
    "    eps_variants = [0.3]\n",
    "    min_samples_variants = [3]\n",
    "params = [(eps, min_samples) for eps in eps_variants for min_samples in min_samples_variants]\n",
    "\n",
    "db_scan_results = {}\n",
    "db_scan_best_results = []\n",
    "db_scan_best_bic_results = []\n",
    "for image_name, df_image_name in df_merged_dataset.groupby(\"image_name\"):\n",
    "\n",
    "    dbscan_localization = compare_dbscan_hyp_v2(\n",
    "        # phase_tag=phase_tag,\n",
    "        params=params,\n",
    "        df_flat=df_image_name,\n",
    "        # output_path=output_path,\n",
    "        output_plot_path=output_plot_path,\n",
    "        plot=show_plots,\n",
    "        \n",
    "    )\n",
    "\n",
    "    db_scan_results[image_name] = pd.DataFrame(dbscan_localization)\n",
    "    \n",
    "    # TODO Here lies the main problem with DBSCAN.\n",
    "    # DBSCAN tends to classfy all points as noise if min_samples is too high. Often only a single user marked an iguana.\n",
    "    # Sillouette Scoring needs a minimum of 2 clusters\n",
    "    # if there are points in decent radius they will belong to a cluster\n",
    "    if pd.DataFrame(dbscan_localization).dbscan_count.max() == 1:\n",
    "        db_scan_best_results.append(pd.DataFrame(dbscan_localization).sort_values(\"dbscan_count\", ascending=False).iloc[0])\n",
    "        db_scan_best_bic_results.append(pd.DataFrame(dbscan_localization).sort_values(\"dbscan_count\", ascending=False).iloc[0])\n",
    "        # If two or more cluster seem to exists take ones with the best Silouette score\n",
    "    else:  \n",
    "        # take the best result by silouette score if there are more clusters then 1\n",
    "        db_scan_best_results.append(pd.DataFrame(dbscan_localization).sort_values([\"dbscan_silouette_score\", \"dbscan_count\"], ascending=[False, False]).iloc[0])\n",
    "    \n",
    "df_dbscan_localization = pd.concat([*db_scan_results.values()])\n",
    "df_scan_best_results = pd.DataFrame(db_scan_best_results)\n",
    "\n"
   ]
  },
  {
   "cell_type": "code",
   "execution_count": 43,
   "id": "ec07d63d180d7442",
   "metadata": {
    "collapsed": false,
    "ExecuteTime": {
     "end_time": "2024-03-08T13:58:50.702730Z",
     "start_time": "2024-03-08T13:58:50.683050Z"
    }
   },
   "outputs": [
    {
     "data": {
      "text/plain": "            image_name  dbscan_count  dbscan_noise  dbscan_silouette_score  \\\n14   SFM01-1-1_114.jpg             1             4                     NaN   \n24   SFM01-1-1_154.jpg             1             8                     NaN   \n12   SFM01-1-1_155.jpg             2             5                0.449423   \n24   SFM01-1-1_163.jpg             1             3                     NaN   \n16   SFM01-1-1_184.jpg             1             1                     NaN   \n..                 ...           ...           ...                     ...   \n12   SRPB02-2-1_67.jpg             2             9               -0.102094   \n24  SRPB02-2-2_143.jpg             4             2                0.709825   \n0   SRPB02-2-2_153.jpg             0            10                     NaN   \n0   SRPB02-2-2_161.jpg             0            10                     NaN   \n16  SRPB02-2-3_157.jpg             1             6                     NaN   \n\n    dbscan_BIC_score   eps  min_samples  \n14               NaN  0.20            8  \n24               NaN  0.50            3  \n12       -270.096525  0.20            3  \n24               NaN  0.50            3  \n16               NaN  0.30            3  \n..               ...   ...          ...  \n12       -154.532513  0.20            3  \n24       -344.263386  0.50            3  \n0                NaN  0.01            3  \n0                NaN  0.01            3  \n16               NaN  0.30            3  \n\n[107 rows x 7 columns]",
      "text/html": "<div>\n<style scoped>\n    .dataframe tbody tr th:only-of-type {\n        vertical-align: middle;\n    }\n\n    .dataframe tbody tr th {\n        vertical-align: top;\n    }\n\n    .dataframe thead th {\n        text-align: right;\n    }\n</style>\n<table border=\"1\" class=\"dataframe\">\n  <thead>\n    <tr style=\"text-align: right;\">\n      <th></th>\n      <th>image_name</th>\n      <th>dbscan_count</th>\n      <th>dbscan_noise</th>\n      <th>dbscan_silouette_score</th>\n      <th>dbscan_BIC_score</th>\n      <th>eps</th>\n      <th>min_samples</th>\n    </tr>\n  </thead>\n  <tbody>\n    <tr>\n      <th>14</th>\n      <td>SFM01-1-1_114.jpg</td>\n      <td>1</td>\n      <td>4</td>\n      <td>NaN</td>\n      <td>NaN</td>\n      <td>0.20</td>\n      <td>8</td>\n    </tr>\n    <tr>\n      <th>24</th>\n      <td>SFM01-1-1_154.jpg</td>\n      <td>1</td>\n      <td>8</td>\n      <td>NaN</td>\n      <td>NaN</td>\n      <td>0.50</td>\n      <td>3</td>\n    </tr>\n    <tr>\n      <th>12</th>\n      <td>SFM01-1-1_155.jpg</td>\n      <td>2</td>\n      <td>5</td>\n      <td>0.449423</td>\n      <td>-270.096525</td>\n      <td>0.20</td>\n      <td>3</td>\n    </tr>\n    <tr>\n      <th>24</th>\n      <td>SFM01-1-1_163.jpg</td>\n      <td>1</td>\n      <td>3</td>\n      <td>NaN</td>\n      <td>NaN</td>\n      <td>0.50</td>\n      <td>3</td>\n    </tr>\n    <tr>\n      <th>16</th>\n      <td>SFM01-1-1_184.jpg</td>\n      <td>1</td>\n      <td>1</td>\n      <td>NaN</td>\n      <td>NaN</td>\n      <td>0.30</td>\n      <td>3</td>\n    </tr>\n    <tr>\n      <th>...</th>\n      <td>...</td>\n      <td>...</td>\n      <td>...</td>\n      <td>...</td>\n      <td>...</td>\n      <td>...</td>\n      <td>...</td>\n    </tr>\n    <tr>\n      <th>12</th>\n      <td>SRPB02-2-1_67.jpg</td>\n      <td>2</td>\n      <td>9</td>\n      <td>-0.102094</td>\n      <td>-154.532513</td>\n      <td>0.20</td>\n      <td>3</td>\n    </tr>\n    <tr>\n      <th>24</th>\n      <td>SRPB02-2-2_143.jpg</td>\n      <td>4</td>\n      <td>2</td>\n      <td>0.709825</td>\n      <td>-344.263386</td>\n      <td>0.50</td>\n      <td>3</td>\n    </tr>\n    <tr>\n      <th>0</th>\n      <td>SRPB02-2-2_153.jpg</td>\n      <td>0</td>\n      <td>10</td>\n      <td>NaN</td>\n      <td>NaN</td>\n      <td>0.01</td>\n      <td>3</td>\n    </tr>\n    <tr>\n      <th>0</th>\n      <td>SRPB02-2-2_161.jpg</td>\n      <td>0</td>\n      <td>10</td>\n      <td>NaN</td>\n      <td>NaN</td>\n      <td>0.01</td>\n      <td>3</td>\n    </tr>\n    <tr>\n      <th>16</th>\n      <td>SRPB02-2-3_157.jpg</td>\n      <td>1</td>\n      <td>6</td>\n      <td>NaN</td>\n      <td>NaN</td>\n      <td>0.30</td>\n      <td>3</td>\n    </tr>\n  </tbody>\n</table>\n<p>107 rows × 7 columns</p>\n</div>"
     },
     "execution_count": 43,
     "metadata": {},
     "output_type": "execute_result"
    }
   ],
   "source": [
    "df_scan_best_results"
   ]
  },
  {
   "cell_type": "markdown",
   "id": "d196ca1914a06509",
   "metadata": {
    "collapsed": false
   },
   "source": [
    "Here it can be seen why the silouette score is difficult because it is often undefined."
   ]
  },
  {
   "cell_type": "code",
   "execution_count": 44,
   "id": "c17c404cb518dbe1",
   "metadata": {
    "collapsed": false,
    "ExecuteTime": {
     "end_time": "2024-03-08T13:58:50.729052Z",
     "start_time": "2024-03-08T13:58:50.703704Z"
    }
   },
   "outputs": [
    {
     "data": {
      "text/plain": "            image_name  dbscan_count  dbscan_noise  dbscan_silouette_score  \\\n14   SFM01-1-1_114.jpg             1             4                     NaN   \n24   SFM01-1-1_154.jpg             1             8                     NaN   \n12   SFM01-1-1_155.jpg             2             5                0.449423   \n24   SFM01-1-1_163.jpg             1             3                     NaN   \n16   SFM01-1-1_184.jpg             1             1                     NaN   \n..                 ...           ...           ...                     ...   \n12   SRPB02-2-1_67.jpg             2             9               -0.102094   \n24  SRPB02-2-2_143.jpg             4             2                0.709825   \n0   SRPB02-2-2_153.jpg             0            10                     NaN   \n0   SRPB02-2-2_161.jpg             0            10                     NaN   \n16  SRPB02-2-3_157.jpg             1             6                     NaN   \n\n    dbscan_BIC_score   eps  min_samples  \n14               NaN  0.20            8  \n24               NaN  0.50            3  \n12       -270.096525  0.20            3  \n24               NaN  0.50            3  \n16               NaN  0.30            3  \n..               ...   ...          ...  \n12       -154.532513  0.20            3  \n24       -344.263386  0.50            3  \n0                NaN  0.01            3  \n0                NaN  0.01            3  \n16               NaN  0.30            3  \n\n[107 rows x 7 columns]",
      "text/html": "<div>\n<style scoped>\n    .dataframe tbody tr th:only-of-type {\n        vertical-align: middle;\n    }\n\n    .dataframe tbody tr th {\n        vertical-align: top;\n    }\n\n    .dataframe thead th {\n        text-align: right;\n    }\n</style>\n<table border=\"1\" class=\"dataframe\">\n  <thead>\n    <tr style=\"text-align: right;\">\n      <th></th>\n      <th>image_name</th>\n      <th>dbscan_count</th>\n      <th>dbscan_noise</th>\n      <th>dbscan_silouette_score</th>\n      <th>dbscan_BIC_score</th>\n      <th>eps</th>\n      <th>min_samples</th>\n    </tr>\n  </thead>\n  <tbody>\n    <tr>\n      <th>14</th>\n      <td>SFM01-1-1_114.jpg</td>\n      <td>1</td>\n      <td>4</td>\n      <td>NaN</td>\n      <td>NaN</td>\n      <td>0.20</td>\n      <td>8</td>\n    </tr>\n    <tr>\n      <th>24</th>\n      <td>SFM01-1-1_154.jpg</td>\n      <td>1</td>\n      <td>8</td>\n      <td>NaN</td>\n      <td>NaN</td>\n      <td>0.50</td>\n      <td>3</td>\n    </tr>\n    <tr>\n      <th>12</th>\n      <td>SFM01-1-1_155.jpg</td>\n      <td>2</td>\n      <td>5</td>\n      <td>0.449423</td>\n      <td>-270.096525</td>\n      <td>0.20</td>\n      <td>3</td>\n    </tr>\n    <tr>\n      <th>24</th>\n      <td>SFM01-1-1_163.jpg</td>\n      <td>1</td>\n      <td>3</td>\n      <td>NaN</td>\n      <td>NaN</td>\n      <td>0.50</td>\n      <td>3</td>\n    </tr>\n    <tr>\n      <th>16</th>\n      <td>SFM01-1-1_184.jpg</td>\n      <td>1</td>\n      <td>1</td>\n      <td>NaN</td>\n      <td>NaN</td>\n      <td>0.30</td>\n      <td>3</td>\n    </tr>\n    <tr>\n      <th>...</th>\n      <td>...</td>\n      <td>...</td>\n      <td>...</td>\n      <td>...</td>\n      <td>...</td>\n      <td>...</td>\n      <td>...</td>\n    </tr>\n    <tr>\n      <th>12</th>\n      <td>SRPB02-2-1_67.jpg</td>\n      <td>2</td>\n      <td>9</td>\n      <td>-0.102094</td>\n      <td>-154.532513</td>\n      <td>0.20</td>\n      <td>3</td>\n    </tr>\n    <tr>\n      <th>24</th>\n      <td>SRPB02-2-2_143.jpg</td>\n      <td>4</td>\n      <td>2</td>\n      <td>0.709825</td>\n      <td>-344.263386</td>\n      <td>0.50</td>\n      <td>3</td>\n    </tr>\n    <tr>\n      <th>0</th>\n      <td>SRPB02-2-2_153.jpg</td>\n      <td>0</td>\n      <td>10</td>\n      <td>NaN</td>\n      <td>NaN</td>\n      <td>0.01</td>\n      <td>3</td>\n    </tr>\n    <tr>\n      <th>0</th>\n      <td>SRPB02-2-2_161.jpg</td>\n      <td>0</td>\n      <td>10</td>\n      <td>NaN</td>\n      <td>NaN</td>\n      <td>0.01</td>\n      <td>3</td>\n    </tr>\n    <tr>\n      <th>16</th>\n      <td>SRPB02-2-3_157.jpg</td>\n      <td>1</td>\n      <td>6</td>\n      <td>NaN</td>\n      <td>NaN</td>\n      <td>0.30</td>\n      <td>3</td>\n    </tr>\n  </tbody>\n</table>\n<p>107 rows × 7 columns</p>\n</div>"
     },
     "execution_count": 44,
     "metadata": {},
     "output_type": "execute_result"
    }
   ],
   "source": [
    "## save the combinations of parameters, which maximized the silouette score.\n",
    "\n",
    "df_dbscan_localization.to_csv(config[\"dbscan_hyperparam_grid\"])\n",
    "df_scan_best_results"
   ]
  },
  {
   "cell_type": "code",
   "execution_count": 45,
   "id": "bacea598a23a1b81",
   "metadata": {
    "collapsed": false,
    "ExecuteTime": {
     "end_time": "2024-03-08T13:58:50.748226Z",
     "start_time": "2024-03-08T13:58:50.729841Z"
    }
   },
   "outputs": [],
   "source": [
    "df_scan_best_results.rename(columns={\"dbscan_count\": \"dbscan_count_sil\" }, inplace=True)\n",
    "\n",
    "df_comparison = df_comparison.merge(df_scan_best_results, on='image_name', how='left')"
   ]
  },
  {
   "cell_type": "code",
   "execution_count": 46,
   "id": "d270534c736bcf9e",
   "metadata": {
    "collapsed": false,
    "ExecuteTime": {
     "end_time": "2024-03-08T13:58:50.769605Z",
     "start_time": "2024-03-08T13:58:50.749416Z"
    }
   },
   "outputs": [
    {
     "data": {
      "text/plain": "median_count_rmse        2.380313\nmean_count_rmse          2.098189\nmode_count_rmse          2.916277\ndbscan_count_sil_rmse    2.451397\ndtype: float64"
     },
     "execution_count": 46,
     "metadata": {},
     "output_type": "execute_result"
    }
   ],
   "source": [
    "df_comparison.fillna(0, inplace=True)\n",
    "\n",
    "mse_errors[\"dbscan_count_sil_rmse\"] = mean_squared_error(df_comparison.count_total, df_comparison.dbscan_count_sil, squared=False)\n",
    "\n",
    "pd.Series(mse_errors)"
   ]
  },
  {
   "cell_type": "code",
   "execution_count": 47,
   "id": "509dec5ebdad923",
   "metadata": {
    "collapsed": false,
    "ExecuteTime": {
     "end_time": "2024-03-08T13:58:50.793680Z",
     "start_time": "2024-03-08T13:58:50.770633Z"
    }
   },
   "outputs": [
    {
     "data": {
      "text/plain": "              image_name  subject_id  count_total  median_count  mean_count  \\\n0    SFM01-2-2-2_282.jpg    47969795            2           2.0        2.00   \n1    SFM01-2-2-1_344.jpg    47969531            4           1.0        1.70   \n2    SFM01-2-2-2_293.jpg    47969828            7           2.0        2.57   \n3      SFM01-1-1_114.jpg    47967876            1           1.0        1.44   \n4      SFM01-1-1_154.jpg    47967959            1           1.0        1.00   \n..                   ...         ...          ...           ...         ...   \n102    SRPB02-2-1_67.jpg    47987920            1           1.0        1.07   \n103   SRPB02-2-2_143.jpg    47988474            4           4.0        3.89   \n104   SRPB02-2-2_153.jpg    47988580            1           1.0        1.00   \n105   SRPB02-2-2_161.jpg    47988636            1           1.0        1.00   \n106   SRPB02-2-3_157.jpg    47989826            1           1.5        1.83   \n\n     mode_count  users  sum_annotations_count  \\\n0             1      3                      6   \n1             1     10                     17   \n2             1     14                     36   \n3             1      9                     13   \n4             1     11                     11   \n..          ...    ...                    ...   \n102           1     14                     15   \n103           4      9                     35   \n104           1     10                     10   \n105           1     10                     10   \n106           1      6                     11   \n\n                              annotations_count  dbscan_count_sil  \n0                                     [1, 2, 3]                 1  \n1                [1, 1, 1, 1, 1, 1, 1, 3, 3, 4]                 3  \n2    [1, 1, 1, 1, 1, 1, 2, 2, 3, 3, 3, 4, 5, 8]                 3  \n3                   [1, 1, 1, 1, 1, 1, 1, 2, 4]                 1  \n4             [1, 1, 1, 1, 1, 1, 1, 1, 1, 1, 1]                 1  \n..                                          ...               ...  \n102  [1, 1, 1, 1, 1, 1, 1, 1, 1, 1, 1, 1, 1, 2]                 2  \n103                 [2, 3, 3, 4, 4, 4, 4, 5, 6]                 4  \n104              [1, 1, 1, 1, 1, 1, 1, 1, 1, 1]                 0  \n105              [1, 1, 1, 1, 1, 1, 1, 1, 1, 1]                 0  \n106                          [1, 1, 1, 2, 3, 3]                 1  \n\n[107 rows x 10 columns]",
      "text/html": "<div>\n<style scoped>\n    .dataframe tbody tr th:only-of-type {\n        vertical-align: middle;\n    }\n\n    .dataframe tbody tr th {\n        vertical-align: top;\n    }\n\n    .dataframe thead th {\n        text-align: right;\n    }\n</style>\n<table border=\"1\" class=\"dataframe\">\n  <thead>\n    <tr style=\"text-align: right;\">\n      <th></th>\n      <th>image_name</th>\n      <th>subject_id</th>\n      <th>count_total</th>\n      <th>median_count</th>\n      <th>mean_count</th>\n      <th>mode_count</th>\n      <th>users</th>\n      <th>sum_annotations_count</th>\n      <th>annotations_count</th>\n      <th>dbscan_count_sil</th>\n    </tr>\n  </thead>\n  <tbody>\n    <tr>\n      <th>0</th>\n      <td>SFM01-2-2-2_282.jpg</td>\n      <td>47969795</td>\n      <td>2</td>\n      <td>2.0</td>\n      <td>2.00</td>\n      <td>1</td>\n      <td>3</td>\n      <td>6</td>\n      <td>[1, 2, 3]</td>\n      <td>1</td>\n    </tr>\n    <tr>\n      <th>1</th>\n      <td>SFM01-2-2-1_344.jpg</td>\n      <td>47969531</td>\n      <td>4</td>\n      <td>1.0</td>\n      <td>1.70</td>\n      <td>1</td>\n      <td>10</td>\n      <td>17</td>\n      <td>[1, 1, 1, 1, 1, 1, 1, 3, 3, 4]</td>\n      <td>3</td>\n    </tr>\n    <tr>\n      <th>2</th>\n      <td>SFM01-2-2-2_293.jpg</td>\n      <td>47969828</td>\n      <td>7</td>\n      <td>2.0</td>\n      <td>2.57</td>\n      <td>1</td>\n      <td>14</td>\n      <td>36</td>\n      <td>[1, 1, 1, 1, 1, 1, 2, 2, 3, 3, 3, 4, 5, 8]</td>\n      <td>3</td>\n    </tr>\n    <tr>\n      <th>3</th>\n      <td>SFM01-1-1_114.jpg</td>\n      <td>47967876</td>\n      <td>1</td>\n      <td>1.0</td>\n      <td>1.44</td>\n      <td>1</td>\n      <td>9</td>\n      <td>13</td>\n      <td>[1, 1, 1, 1, 1, 1, 1, 2, 4]</td>\n      <td>1</td>\n    </tr>\n    <tr>\n      <th>4</th>\n      <td>SFM01-1-1_154.jpg</td>\n      <td>47967959</td>\n      <td>1</td>\n      <td>1.0</td>\n      <td>1.00</td>\n      <td>1</td>\n      <td>11</td>\n      <td>11</td>\n      <td>[1, 1, 1, 1, 1, 1, 1, 1, 1, 1, 1]</td>\n      <td>1</td>\n    </tr>\n    <tr>\n      <th>...</th>\n      <td>...</td>\n      <td>...</td>\n      <td>...</td>\n      <td>...</td>\n      <td>...</td>\n      <td>...</td>\n      <td>...</td>\n      <td>...</td>\n      <td>...</td>\n      <td>...</td>\n    </tr>\n    <tr>\n      <th>102</th>\n      <td>SRPB02-2-1_67.jpg</td>\n      <td>47987920</td>\n      <td>1</td>\n      <td>1.0</td>\n      <td>1.07</td>\n      <td>1</td>\n      <td>14</td>\n      <td>15</td>\n      <td>[1, 1, 1, 1, 1, 1, 1, 1, 1, 1, 1, 1, 1, 2]</td>\n      <td>2</td>\n    </tr>\n    <tr>\n      <th>103</th>\n      <td>SRPB02-2-2_143.jpg</td>\n      <td>47988474</td>\n      <td>4</td>\n      <td>4.0</td>\n      <td>3.89</td>\n      <td>4</td>\n      <td>9</td>\n      <td>35</td>\n      <td>[2, 3, 3, 4, 4, 4, 4, 5, 6]</td>\n      <td>4</td>\n    </tr>\n    <tr>\n      <th>104</th>\n      <td>SRPB02-2-2_153.jpg</td>\n      <td>47988580</td>\n      <td>1</td>\n      <td>1.0</td>\n      <td>1.00</td>\n      <td>1</td>\n      <td>10</td>\n      <td>10</td>\n      <td>[1, 1, 1, 1, 1, 1, 1, 1, 1, 1]</td>\n      <td>0</td>\n    </tr>\n    <tr>\n      <th>105</th>\n      <td>SRPB02-2-2_161.jpg</td>\n      <td>47988636</td>\n      <td>1</td>\n      <td>1.0</td>\n      <td>1.00</td>\n      <td>1</td>\n      <td>10</td>\n      <td>10</td>\n      <td>[1, 1, 1, 1, 1, 1, 1, 1, 1, 1]</td>\n      <td>0</td>\n    </tr>\n    <tr>\n      <th>106</th>\n      <td>SRPB02-2-3_157.jpg</td>\n      <td>47989826</td>\n      <td>1</td>\n      <td>1.5</td>\n      <td>1.83</td>\n      <td>1</td>\n      <td>6</td>\n      <td>11</td>\n      <td>[1, 1, 1, 2, 3, 3]</td>\n      <td>1</td>\n    </tr>\n  </tbody>\n</table>\n<p>107 rows × 10 columns</p>\n</div>"
     },
     "execution_count": 47,
     "metadata": {},
     "output_type": "execute_result"
    }
   ],
   "source": [
    "\n",
    "df_comparison = df_comparison.drop([\"dbscan_noise\", \"dbscan_silouette_score\", \"eps\", \"min_samples\", \"dbscan_BIC_score\", \"with_noise\", \"bic_avg\"], axis=1, errors=\"ignore\")\n",
    "df_comparison"
   ]
  },
  {
   "cell_type": "markdown",
   "id": "15adf791099ac332",
   "metadata": {
    "collapsed": false
   },
   "source": [
    "### HDBSCAN clustering for each image\n",
    "\n",
    "https://scikit-learn.org/stable/modules/generated/sklearn.cluster.HDBSCAN.html#sklearn.cluster.HDBSCAN states: \"A distance threshold. Clusters below this value will be merged.\"\n",
    "\n"
   ]
  },
  {
   "cell_type": "code",
   "execution_count": 48,
   "id": "6763aed82e7088dd",
   "metadata": {
    "collapsed": false,
    "ExecuteTime": {
     "end_time": "2024-03-08T13:58:50.959649Z",
     "start_time": "2024-03-08T13:58:50.794365Z"
    }
   },
   "outputs": [
    {
     "name": "stderr",
     "output_type": "stream",
     "text": [
      "/Users/christian/PycharmProjects/iguanas-from-above-zooniverse/zooniverse/utils/basic_clustering.py:128: RuntimeWarning: invalid value encountered in scalar divide\n",
      "  variance = np.sum((X_cluster - centroid) ** 2) / (len(X_cluster) - 1)\n",
      "/Users/christian/PycharmProjects/iguanas-from-above-zooniverse/zooniverse/utils/basic_clustering.py:128: RuntimeWarning: invalid value encountered in scalar divide\n",
      "  variance = np.sum((X_cluster - centroid) ** 2) / (len(X_cluster) - 1)\n",
      "/Users/christian/PycharmProjects/iguanas-from-above-zooniverse/zooniverse/utils/basic_clustering.py:128: RuntimeWarning: invalid value encountered in scalar divide\n",
      "  variance = np.sum((X_cluster - centroid) ** 2) / (len(X_cluster) - 1)\n",
      "/Users/christian/PycharmProjects/iguanas-from-above-zooniverse/zooniverse/utils/basic_clustering.py:128: RuntimeWarning: invalid value encountered in scalar divide\n",
      "  variance = np.sum((X_cluster - centroid) ** 2) / (len(X_cluster) - 1)\n",
      "/Users/christian/PycharmProjects/iguanas-from-above-zooniverse/zooniverse/utils/basic_clustering.py:128: RuntimeWarning: invalid value encountered in scalar divide\n",
      "  variance = np.sum((X_cluster - centroid) ** 2) / (len(X_cluster) - 1)\n",
      "/Users/christian/PycharmProjects/iguanas-from-above-zooniverse/zooniverse/utils/basic_clustering.py:128: RuntimeWarning: invalid value encountered in scalar divide\n",
      "  variance = np.sum((X_cluster - centroid) ** 2) / (len(X_cluster) - 1)\n",
      "/Users/christian/PycharmProjects/iguanas-from-above-zooniverse/zooniverse/utils/basic_clustering.py:128: RuntimeWarning: invalid value encountered in scalar divide\n",
      "  variance = np.sum((X_cluster - centroid) ** 2) / (len(X_cluster) - 1)\n",
      "/Users/christian/PycharmProjects/iguanas-from-above-zooniverse/zooniverse/utils/basic_clustering.py:128: RuntimeWarning: invalid value encountered in scalar divide\n",
      "  variance = np.sum((X_cluster - centroid) ** 2) / (len(X_cluster) - 1)\n",
      "/Users/christian/PycharmProjects/iguanas-from-above-zooniverse/zooniverse/utils/basic_clustering.py:128: RuntimeWarning: invalid value encountered in scalar divide\n",
      "  variance = np.sum((X_cluster - centroid) ** 2) / (len(X_cluster) - 1)\n",
      "/Users/christian/PycharmProjects/iguanas-from-above-zooniverse/zooniverse/utils/basic_clustering.py:128: RuntimeWarning: invalid value encountered in scalar divide\n",
      "  variance = np.sum((X_cluster - centroid) ** 2) / (len(X_cluster) - 1)\n",
      "/Users/christian/PycharmProjects/iguanas-from-above-zooniverse/zooniverse/utils/basic_clustering.py:128: RuntimeWarning: invalid value encountered in scalar divide\n",
      "  variance = np.sum((X_cluster - centroid) ** 2) / (len(X_cluster) - 1)\n",
      "/Users/christian/PycharmProjects/iguanas-from-above-zooniverse/zooniverse/utils/basic_clustering.py:128: RuntimeWarning: invalid value encountered in scalar divide\n",
      "  variance = np.sum((X_cluster - centroid) ** 2) / (len(X_cluster) - 1)\n",
      "/Users/christian/PycharmProjects/iguanas-from-above-zooniverse/zooniverse/utils/basic_clustering.py:128: RuntimeWarning: invalid value encountered in scalar divide\n",
      "  variance = np.sum((X_cluster - centroid) ** 2) / (len(X_cluster) - 1)\n",
      "/Users/christian/PycharmProjects/iguanas-from-above-zooniverse/zooniverse/utils/basic_clustering.py:128: RuntimeWarning: invalid value encountered in scalar divide\n",
      "  variance = np.sum((X_cluster - centroid) ** 2) / (len(X_cluster) - 1)\n",
      "/Users/christian/PycharmProjects/iguanas-from-above-zooniverse/zooniverse/utils/basic_clustering.py:128: RuntimeWarning: invalid value encountered in scalar divide\n",
      "  variance = np.sum((X_cluster - centroid) ** 2) / (len(X_cluster) - 1)\n",
      "/Users/christian/PycharmProjects/iguanas-from-above-zooniverse/zooniverse/utils/basic_clustering.py:128: RuntimeWarning: invalid value encountered in scalar divide\n",
      "  variance = np.sum((X_cluster - centroid) ** 2) / (len(X_cluster) - 1)\n"
     ]
    }
   ],
   "source": [
    "from zooniverse.analysis import HDBSCAN_Wrapper\n",
    "\n",
    "hdbscan_values = []\n",
    "\n",
    "eps_variants = [0.0] # 0 is the default\n",
    "min_cluster_sizes = [5] # 5 is the default\n",
    "\n",
    "\n",
    "for image_name, df_image_name in df_merged_dataset.groupby(\"image_name\"):\n",
    "    annotations_count = get_mark_overview(df_image_name)\n",
    "    annotations_count_stats = get_annotation_count_stats(annotations_count=annotations_count,\n",
    "                                                         image_name=df_image_name.iloc[0][\"image_name\"])\n",
    "    \n",
    "    \n",
    "    if df_image_name.shape[0] >= 5: # if less then min_cluster_sizes points are available clustering makes no sense\n",
    "        params = [(eps, min_cluster_size, max_cluster_size) \n",
    "                    for eps in eps_variants\n",
    "                    for min_cluster_size in min_cluster_sizes\n",
    "                    for max_cluster_size in [None]\n",
    "              ]\n",
    "\n",
    "        df_hdbscan = HDBSCAN_Wrapper(df_marks=df_image_name[[\"x\", \"y\"]],\n",
    "                                     annotations_count=annotations_count,\n",
    "                                     output_path=output_plot_path,\n",
    "                                     plot=show_plots,\n",
    "                                     show=show_plots,\n",
    "                                     image_name=image_name,\n",
    "                                     params=params)\n",
    "        hdbscan_values.append(df_hdbscan)\n",
    "\n",
    "\n",
    "df_hdbscan = pd.concat(hdbscan_values)\n",
    "\n"
   ]
  },
  {
   "cell_type": "code",
   "execution_count": 49,
   "id": "5de6304addaca41d",
   "metadata": {
    "collapsed": false,
    "ExecuteTime": {
     "end_time": "2024-03-08T13:58:50.981067Z",
     "start_time": "2024-03-08T13:58:50.960375Z"
    }
   },
   "outputs": [
    {
     "data": {
      "text/plain": "            image_name  HDBSCAN_count  eps  min_cluster_size max_cluster_size  \\\n0    SFM01-1-1_114.jpg              1  0.0                 5             None   \n0    SFM01-1-1_154.jpg              1  0.0                 5             None   \n0    SFM01-1-1_155.jpg              1  0.0                 5             None   \n0    SFM01-1-1_163.jpg              1  0.0                 5             None   \n0    SFM01-1-1_184.jpg              1  0.0                 5             None   \n..                 ...            ...  ...               ...              ...   \n0    SRPB02-2-1_67.jpg              1  0.0                 5             None   \n0   SRPB02-2-2_143.jpg              4  0.0                 5             None   \n0   SRPB02-2-2_153.jpg              1  0.0                 5             None   \n0   SRPB02-2-2_161.jpg              1  0.0                 5             None   \n0   SRPB02-2-3_157.jpg              1  0.0                 5             None   \n\n    noise_points  \n0              8  \n0              6  \n0             22  \n0              1  \n0              1  \n..           ...  \n0              9  \n0              2  \n0              4  \n0              5  \n0              6  \n\n[107 rows x 6 columns]",
      "text/html": "<div>\n<style scoped>\n    .dataframe tbody tr th:only-of-type {\n        vertical-align: middle;\n    }\n\n    .dataframe tbody tr th {\n        vertical-align: top;\n    }\n\n    .dataframe thead th {\n        text-align: right;\n    }\n</style>\n<table border=\"1\" class=\"dataframe\">\n  <thead>\n    <tr style=\"text-align: right;\">\n      <th></th>\n      <th>image_name</th>\n      <th>HDBSCAN_count</th>\n      <th>eps</th>\n      <th>min_cluster_size</th>\n      <th>max_cluster_size</th>\n      <th>noise_points</th>\n    </tr>\n  </thead>\n  <tbody>\n    <tr>\n      <th>0</th>\n      <td>SFM01-1-1_114.jpg</td>\n      <td>1</td>\n      <td>0.0</td>\n      <td>5</td>\n      <td>None</td>\n      <td>8</td>\n    </tr>\n    <tr>\n      <th>0</th>\n      <td>SFM01-1-1_154.jpg</td>\n      <td>1</td>\n      <td>0.0</td>\n      <td>5</td>\n      <td>None</td>\n      <td>6</td>\n    </tr>\n    <tr>\n      <th>0</th>\n      <td>SFM01-1-1_155.jpg</td>\n      <td>1</td>\n      <td>0.0</td>\n      <td>5</td>\n      <td>None</td>\n      <td>22</td>\n    </tr>\n    <tr>\n      <th>0</th>\n      <td>SFM01-1-1_163.jpg</td>\n      <td>1</td>\n      <td>0.0</td>\n      <td>5</td>\n      <td>None</td>\n      <td>1</td>\n    </tr>\n    <tr>\n      <th>0</th>\n      <td>SFM01-1-1_184.jpg</td>\n      <td>1</td>\n      <td>0.0</td>\n      <td>5</td>\n      <td>None</td>\n      <td>1</td>\n    </tr>\n    <tr>\n      <th>...</th>\n      <td>...</td>\n      <td>...</td>\n      <td>...</td>\n      <td>...</td>\n      <td>...</td>\n      <td>...</td>\n    </tr>\n    <tr>\n      <th>0</th>\n      <td>SRPB02-2-1_67.jpg</td>\n      <td>1</td>\n      <td>0.0</td>\n      <td>5</td>\n      <td>None</td>\n      <td>9</td>\n    </tr>\n    <tr>\n      <th>0</th>\n      <td>SRPB02-2-2_143.jpg</td>\n      <td>4</td>\n      <td>0.0</td>\n      <td>5</td>\n      <td>None</td>\n      <td>2</td>\n    </tr>\n    <tr>\n      <th>0</th>\n      <td>SRPB02-2-2_153.jpg</td>\n      <td>1</td>\n      <td>0.0</td>\n      <td>5</td>\n      <td>None</td>\n      <td>4</td>\n    </tr>\n    <tr>\n      <th>0</th>\n      <td>SRPB02-2-2_161.jpg</td>\n      <td>1</td>\n      <td>0.0</td>\n      <td>5</td>\n      <td>None</td>\n      <td>5</td>\n    </tr>\n    <tr>\n      <th>0</th>\n      <td>SRPB02-2-3_157.jpg</td>\n      <td>1</td>\n      <td>0.0</td>\n      <td>5</td>\n      <td>None</td>\n      <td>6</td>\n    </tr>\n  </tbody>\n</table>\n<p>107 rows × 6 columns</p>\n</div>"
     },
     "execution_count": 49,
     "metadata": {},
     "output_type": "execute_result"
    }
   ],
   "source": [
    "df_hdbscan.drop([\"with_noise\", \"bic_avg\"], axis=1, inplace=True)\n",
    "df_hdbscan"
   ]
  },
  {
   "cell_type": "code",
   "execution_count": 50,
   "id": "563e2747f9f8a77c",
   "metadata": {
    "collapsed": false,
    "ExecuteTime": {
     "end_time": "2024-03-08T13:58:51.001139Z",
     "start_time": "2024-03-08T13:58:50.982206Z"
    }
   },
   "outputs": [
    {
     "data": {
      "text/plain": "331"
     },
     "execution_count": 50,
     "metadata": {},
     "output_type": "execute_result"
    }
   ],
   "source": [
    "df_comparison = df_comparison.merge(df_hdbscan, on='image_name', how='left')\n",
    "\n",
    "\n",
    "df_comparison[\"count_total\"].sum()"
   ]
  },
  {
   "cell_type": "code",
   "execution_count": 51,
   "id": "bd5b4be03b3480d5",
   "metadata": {
    "collapsed": false,
    "ExecuteTime": {
     "end_time": "2024-03-08T13:58:51.019044Z",
     "start_time": "2024-03-08T13:58:51.001860Z"
    }
   },
   "outputs": [
    {
     "name": "stdout",
     "output_type": "stream",
     "text": [
      "saved /Users/christian/data/zooniverse/2024_03_07_expert_goldstandard_analysis/Iguanas 1st launch/Iguanas 1st launch_method_comparison.csv\n"
     ]
    }
   ],
   "source": [
    "df_comparison.to_csv(config[\"comparison_dataset\"])\n",
    "print(f\"saved {config['comparison_dataset']}\")"
   ]
  },
  {
   "cell_type": "code",
   "execution_count": 52,
   "id": "146136b8ee749f9",
   "metadata": {
    "collapsed": false,
    "ExecuteTime": {
     "end_time": "2024-03-08T13:58:51.043052Z",
     "start_time": "2024-03-08T13:58:51.020887Z"
    }
   },
   "outputs": [],
   "source": [
    "df_comparison.count_total.fillna(0, inplace=True)\n",
    "df_comparison.HDBSCAN_count.fillna(0, inplace=True)\n",
    "\n",
    "mse_errors[\"hdbscan_count_rmse\"] = mean_squared_error(df_comparison.count_total, df_comparison.HDBSCAN_count, squared=False)\n"
   ]
  },
  {
   "cell_type": "markdown",
   "id": "1866104643b4427f",
   "metadata": {
    "collapsed": false
   },
   "source": [
    "# A look into the results\n",
    "Root Means Squared Error for the different methods"
   ]
  },
  {
   "cell_type": "code",
   "execution_count": 53,
   "id": "ae08d15b32fe83ec",
   "metadata": {
    "collapsed": false,
    "ExecuteTime": {
     "end_time": "2024-03-08T13:58:51.073714Z",
     "start_time": "2024-03-08T13:58:51.044300Z"
    }
   },
   "outputs": [
    {
     "data": {
      "text/plain": "                              0\nmean_count_rmse        2.098189\nhdbscan_count_rmse     2.100289\nmedian_count_rmse      2.380313\ndbscan_count_sil_rmse  2.451397\nmode_count_rmse        2.916277",
      "text/html": "<div>\n<style scoped>\n    .dataframe tbody tr th:only-of-type {\n        vertical-align: middle;\n    }\n\n    .dataframe tbody tr th {\n        vertical-align: top;\n    }\n\n    .dataframe thead th {\n        text-align: right;\n    }\n</style>\n<table border=\"1\" class=\"dataframe\">\n  <thead>\n    <tr style=\"text-align: right;\">\n      <th></th>\n      <th>0</th>\n    </tr>\n  </thead>\n  <tbody>\n    <tr>\n      <th>mean_count_rmse</th>\n      <td>2.098189</td>\n    </tr>\n    <tr>\n      <th>hdbscan_count_rmse</th>\n      <td>2.100289</td>\n    </tr>\n    <tr>\n      <th>median_count_rmse</th>\n      <td>2.380313</td>\n    </tr>\n    <tr>\n      <th>dbscan_count_sil_rmse</th>\n      <td>2.451397</td>\n    </tr>\n    <tr>\n      <th>mode_count_rmse</th>\n      <td>2.916277</td>\n    </tr>\n  </tbody>\n</table>\n</div>"
     },
     "execution_count": 53,
     "metadata": {},
     "output_type": "execute_result"
    }
   ],
   "source": [
    "df_rmse = pd.DataFrame(pd.Series(mse_errors).sort_values())\n",
    "\n",
    "df_rmse.to_csv(config[\"rmse_errors\"])\n",
    "df_rmse"
   ]
  },
  {
   "cell_type": "markdown",
   "id": "683ea0eaf795e5ff",
   "metadata": {
    "collapsed": false
   },
   "source": [
    "## The sum of the clustering\n",
    "What is the sum of the methods"
   ]
  },
  {
   "cell_type": "code",
   "execution_count": 54,
   "id": "2ae2f205858fd9c4",
   "metadata": {
    "collapsed": false,
    "ExecuteTime": {
     "end_time": "2024-03-08T13:58:51.095148Z",
     "start_time": "2024-03-08T13:58:51.074732Z"
    }
   },
   "outputs": [
    {
     "data": {
      "text/plain": "mode_count          221.00\nmedian_count        235.50\nHDBSCAN_count       247.00\ndbscan_count_sil    256.00\nmean_count          271.41\ncount_total         331.00\ndtype: float64"
     },
     "execution_count": 54,
     "metadata": {},
     "output_type": "execute_result"
    }
   ],
   "source": [
    "\n",
    "df_comparison_sum = df_comparison[[\"count_total\", \"median_count\", \"mean_count\", \"mode_count\", \"dbscan_count_sil\", \"HDBSCAN_count\"]].sum().sort_values()\n",
    "df_comparison_sum.to_csv(config[\"method_sums\"])\n",
    "df_comparison_sum"
   ]
  },
  {
   "cell_type": "code",
   "execution_count": 55,
   "id": "35c25cb6dd0c9684",
   "metadata": {
    "collapsed": false,
    "ExecuteTime": {
     "end_time": "2024-03-08T13:58:51.111638Z",
     "start_time": "2024-03-08T13:58:51.095947Z"
    }
   },
   "outputs": [
    {
     "name": "stdout",
     "output_type": "stream",
     "text": [
      "phase_tag: Iguanas 1st launch, user_threshold: None\n"
     ]
    }
   ],
   "source": [
    "print(f\"phase_tag: {phase_tag}, user_threshold: {user_threshold}\")"
   ]
  },
  {
   "cell_type": "markdown",
   "id": "88ca320d97a38518",
   "metadata": {
    "collapsed": false
   },
   "source": [
    "## Compare the numbers\n",
    "The counts are only for images which were in the dataset after filtering."
   ]
  },
  {
   "cell_type": "markdown",
   "id": "8f58c29117a907a4",
   "metadata": {
    "collapsed": false
   },
   "source": [
    "### Sum of all the Methods"
   ]
  },
  {
   "cell_type": "code",
   "execution_count": 56,
   "id": "e6a0ba0c34ca129a",
   "metadata": {
    "collapsed": false,
    "ExecuteTime": {
     "end_time": "2024-03-08T13:58:51.129299Z",
     "start_time": "2024-03-08T13:58:51.112372Z"
    }
   },
   "outputs": [
    {
     "name": "stdout",
     "output_type": "stream",
     "text": [
      "Iguanas 1st launch_method_sums.csv\n"
     ]
    },
    {
     "data": {
      "text/plain": "         Unnamed: 0       0\n0        mode_count  221.00\n1      median_count  235.50\n2     HDBSCAN_count  247.00\n3  dbscan_count_sil  256.00\n4        mean_count  271.41\n5       count_total  331.00",
      "text/html": "<div>\n<style scoped>\n    .dataframe tbody tr th:only-of-type {\n        vertical-align: middle;\n    }\n\n    .dataframe tbody tr th {\n        vertical-align: top;\n    }\n\n    .dataframe thead th {\n        text-align: right;\n    }\n</style>\n<table border=\"1\" class=\"dataframe\">\n  <thead>\n    <tr style=\"text-align: right;\">\n      <th></th>\n      <th>Unnamed: 0</th>\n      <th>0</th>\n    </tr>\n  </thead>\n  <tbody>\n    <tr>\n      <th>0</th>\n      <td>mode_count</td>\n      <td>221.00</td>\n    </tr>\n    <tr>\n      <th>1</th>\n      <td>median_count</td>\n      <td>235.50</td>\n    </tr>\n    <tr>\n      <th>2</th>\n      <td>HDBSCAN_count</td>\n      <td>247.00</td>\n    </tr>\n    <tr>\n      <th>3</th>\n      <td>dbscan_count_sil</td>\n      <td>256.00</td>\n    </tr>\n    <tr>\n      <th>4</th>\n      <td>mean_count</td>\n      <td>271.41</td>\n    </tr>\n    <tr>\n      <th>5</th>\n      <td>count_total</td>\n      <td>331.00</td>\n    </tr>\n  </tbody>\n</table>\n</div>"
     },
     "execution_count": 56,
     "metadata": {},
     "output_type": "execute_result"
    }
   ],
   "source": [
    "print(f\"{config['method_sums'].name}\")\n",
    "pd.read_csv(config[\"method_sums\"])"
   ]
  },
  {
   "cell_type": "markdown",
   "id": "63ec459bb6b0ea1d",
   "metadata": {
    "collapsed": false
   },
   "source": [
    "### Root Mean Squared Error"
   ]
  },
  {
   "cell_type": "code",
   "execution_count": 57,
   "id": "d9a6e83ec7b73319",
   "metadata": {
    "collapsed": false,
    "ExecuteTime": {
     "end_time": "2024-03-08T13:58:51.147462Z",
     "start_time": "2024-03-08T13:58:51.129977Z"
    }
   },
   "outputs": [
    {
     "name": "stdout",
     "output_type": "stream",
     "text": [
      "Iguanas 1st launch_rmse_errors.csv\n"
     ]
    },
    {
     "data": {
      "text/plain": "              Unnamed: 0         0\n0        mean_count_rmse  2.098189\n1     hdbscan_count_rmse  2.100289\n2      median_count_rmse  2.380313\n3  dbscan_count_sil_rmse  2.451397\n4        mode_count_rmse  2.916277",
      "text/html": "<div>\n<style scoped>\n    .dataframe tbody tr th:only-of-type {\n        vertical-align: middle;\n    }\n\n    .dataframe tbody tr th {\n        vertical-align: top;\n    }\n\n    .dataframe thead th {\n        text-align: right;\n    }\n</style>\n<table border=\"1\" class=\"dataframe\">\n  <thead>\n    <tr style=\"text-align: right;\">\n      <th></th>\n      <th>Unnamed: 0</th>\n      <th>0</th>\n    </tr>\n  </thead>\n  <tbody>\n    <tr>\n      <th>0</th>\n      <td>mean_count_rmse</td>\n      <td>2.098189</td>\n    </tr>\n    <tr>\n      <th>1</th>\n      <td>hdbscan_count_rmse</td>\n      <td>2.100289</td>\n    </tr>\n    <tr>\n      <th>2</th>\n      <td>median_count_rmse</td>\n      <td>2.380313</td>\n    </tr>\n    <tr>\n      <th>3</th>\n      <td>dbscan_count_sil_rmse</td>\n      <td>2.451397</td>\n    </tr>\n    <tr>\n      <th>4</th>\n      <td>mode_count_rmse</td>\n      <td>2.916277</td>\n    </tr>\n  </tbody>\n</table>\n</div>"
     },
     "execution_count": 57,
     "metadata": {},
     "output_type": "execute_result"
    }
   ],
   "source": [
    "print(f\"{config['rmse_errors'].name}\")\n",
    "pd.read_csv(config[\"rmse_errors\"])"
   ]
  },
  {
   "cell_type": "markdown",
   "id": "59e1a0f4ffc4dcd0",
   "metadata": {
    "collapsed": false
   },
   "source": [
    "### Comparison per Image Level"
   ]
  },
  {
   "cell_type": "code",
   "execution_count": 58,
   "id": "b63a639e877e8b4a",
   "metadata": {
    "collapsed": false,
    "ExecuteTime": {
     "end_time": "2024-03-08T13:58:51.170037Z",
     "start_time": "2024-03-08T13:58:51.148256Z"
    }
   },
   "outputs": [
    {
     "name": "stdout",
     "output_type": "stream",
     "text": [
      "load /Users/christian/data/zooniverse/2024_03_07_expert_goldstandard_analysis/Iguanas 1st launch/Iguanas 1st launch_method_comparison.csv\n"
     ]
    },
    {
     "data": {
      "text/plain": "     Unnamed: 0           image_name  subject_id  count_total  median_count  \\\n0             0  SFM01-2-2-2_282.jpg    47969795            2           2.0   \n1             1  SFM01-2-2-1_344.jpg    47969531            4           1.0   \n2             2  SFM01-2-2-2_293.jpg    47969828            7           2.0   \n3             3    SFM01-1-1_114.jpg    47967876            1           1.0   \n4             4    SFM01-1-1_154.jpg    47967959            1           1.0   \n..          ...                  ...         ...          ...           ...   \n102         102    SRPB02-2-1_67.jpg    47987920            1           1.0   \n103         103   SRPB02-2-2_143.jpg    47988474            4           4.0   \n104         104   SRPB02-2-2_153.jpg    47988580            1           1.0   \n105         105   SRPB02-2-2_161.jpg    47988636            1           1.0   \n106         106   SRPB02-2-3_157.jpg    47989826            1           1.5   \n\n     mean_count  mode_count  users  sum_annotations_count  \\\n0          2.00           1      3                      6   \n1          1.70           1     10                     17   \n2          2.57           1     14                     36   \n3          1.44           1      9                     13   \n4          1.00           1     11                     11   \n..          ...         ...    ...                    ...   \n102        1.07           1     14                     15   \n103        3.89           4      9                     35   \n104        1.00           1     10                     10   \n105        1.00           1     10                     10   \n106        1.83           1      6                     11   \n\n                              annotations_count  dbscan_count_sil  \\\n0                                     [1, 2, 3]                 1   \n1                [1, 1, 1, 1, 1, 1, 1, 3, 3, 4]                 3   \n2    [1, 1, 1, 1, 1, 1, 2, 2, 3, 3, 3, 4, 5, 8]                 3   \n3                   [1, 1, 1, 1, 1, 1, 1, 2, 4]                 1   \n4             [1, 1, 1, 1, 1, 1, 1, 1, 1, 1, 1]                 1   \n..                                          ...               ...   \n102  [1, 1, 1, 1, 1, 1, 1, 1, 1, 1, 1, 1, 1, 2]                 2   \n103                 [2, 3, 3, 4, 4, 4, 4, 5, 6]                 4   \n104              [1, 1, 1, 1, 1, 1, 1, 1, 1, 1]                 0   \n105              [1, 1, 1, 1, 1, 1, 1, 1, 1, 1]                 0   \n106                          [1, 1, 1, 2, 3, 3]                 1   \n\n     HDBSCAN_count  eps  min_cluster_size  max_cluster_size  noise_points  \n0                1  0.0                 5               NaN             1  \n1                1  0.0                 5               NaN            12  \n2                1  0.0                 5               NaN            30  \n3                1  0.0                 5               NaN             8  \n4                1  0.0                 5               NaN             6  \n..             ...  ...               ...               ...           ...  \n102              1  0.0                 5               NaN             9  \n103              4  0.0                 5               NaN             2  \n104              1  0.0                 5               NaN             4  \n105              1  0.0                 5               NaN             5  \n106              1  0.0                 5               NaN             6  \n\n[107 rows x 16 columns]",
      "text/html": "<div>\n<style scoped>\n    .dataframe tbody tr th:only-of-type {\n        vertical-align: middle;\n    }\n\n    .dataframe tbody tr th {\n        vertical-align: top;\n    }\n\n    .dataframe thead th {\n        text-align: right;\n    }\n</style>\n<table border=\"1\" class=\"dataframe\">\n  <thead>\n    <tr style=\"text-align: right;\">\n      <th></th>\n      <th>Unnamed: 0</th>\n      <th>image_name</th>\n      <th>subject_id</th>\n      <th>count_total</th>\n      <th>median_count</th>\n      <th>mean_count</th>\n      <th>mode_count</th>\n      <th>users</th>\n      <th>sum_annotations_count</th>\n      <th>annotations_count</th>\n      <th>dbscan_count_sil</th>\n      <th>HDBSCAN_count</th>\n      <th>eps</th>\n      <th>min_cluster_size</th>\n      <th>max_cluster_size</th>\n      <th>noise_points</th>\n    </tr>\n  </thead>\n  <tbody>\n    <tr>\n      <th>0</th>\n      <td>0</td>\n      <td>SFM01-2-2-2_282.jpg</td>\n      <td>47969795</td>\n      <td>2</td>\n      <td>2.0</td>\n      <td>2.00</td>\n      <td>1</td>\n      <td>3</td>\n      <td>6</td>\n      <td>[1, 2, 3]</td>\n      <td>1</td>\n      <td>1</td>\n      <td>0.0</td>\n      <td>5</td>\n      <td>NaN</td>\n      <td>1</td>\n    </tr>\n    <tr>\n      <th>1</th>\n      <td>1</td>\n      <td>SFM01-2-2-1_344.jpg</td>\n      <td>47969531</td>\n      <td>4</td>\n      <td>1.0</td>\n      <td>1.70</td>\n      <td>1</td>\n      <td>10</td>\n      <td>17</td>\n      <td>[1, 1, 1, 1, 1, 1, 1, 3, 3, 4]</td>\n      <td>3</td>\n      <td>1</td>\n      <td>0.0</td>\n      <td>5</td>\n      <td>NaN</td>\n      <td>12</td>\n    </tr>\n    <tr>\n      <th>2</th>\n      <td>2</td>\n      <td>SFM01-2-2-2_293.jpg</td>\n      <td>47969828</td>\n      <td>7</td>\n      <td>2.0</td>\n      <td>2.57</td>\n      <td>1</td>\n      <td>14</td>\n      <td>36</td>\n      <td>[1, 1, 1, 1, 1, 1, 2, 2, 3, 3, 3, 4, 5, 8]</td>\n      <td>3</td>\n      <td>1</td>\n      <td>0.0</td>\n      <td>5</td>\n      <td>NaN</td>\n      <td>30</td>\n    </tr>\n    <tr>\n      <th>3</th>\n      <td>3</td>\n      <td>SFM01-1-1_114.jpg</td>\n      <td>47967876</td>\n      <td>1</td>\n      <td>1.0</td>\n      <td>1.44</td>\n      <td>1</td>\n      <td>9</td>\n      <td>13</td>\n      <td>[1, 1, 1, 1, 1, 1, 1, 2, 4]</td>\n      <td>1</td>\n      <td>1</td>\n      <td>0.0</td>\n      <td>5</td>\n      <td>NaN</td>\n      <td>8</td>\n    </tr>\n    <tr>\n      <th>4</th>\n      <td>4</td>\n      <td>SFM01-1-1_154.jpg</td>\n      <td>47967959</td>\n      <td>1</td>\n      <td>1.0</td>\n      <td>1.00</td>\n      <td>1</td>\n      <td>11</td>\n      <td>11</td>\n      <td>[1, 1, 1, 1, 1, 1, 1, 1, 1, 1, 1]</td>\n      <td>1</td>\n      <td>1</td>\n      <td>0.0</td>\n      <td>5</td>\n      <td>NaN</td>\n      <td>6</td>\n    </tr>\n    <tr>\n      <th>...</th>\n      <td>...</td>\n      <td>...</td>\n      <td>...</td>\n      <td>...</td>\n      <td>...</td>\n      <td>...</td>\n      <td>...</td>\n      <td>...</td>\n      <td>...</td>\n      <td>...</td>\n      <td>...</td>\n      <td>...</td>\n      <td>...</td>\n      <td>...</td>\n      <td>...</td>\n      <td>...</td>\n    </tr>\n    <tr>\n      <th>102</th>\n      <td>102</td>\n      <td>SRPB02-2-1_67.jpg</td>\n      <td>47987920</td>\n      <td>1</td>\n      <td>1.0</td>\n      <td>1.07</td>\n      <td>1</td>\n      <td>14</td>\n      <td>15</td>\n      <td>[1, 1, 1, 1, 1, 1, 1, 1, 1, 1, 1, 1, 1, 2]</td>\n      <td>2</td>\n      <td>1</td>\n      <td>0.0</td>\n      <td>5</td>\n      <td>NaN</td>\n      <td>9</td>\n    </tr>\n    <tr>\n      <th>103</th>\n      <td>103</td>\n      <td>SRPB02-2-2_143.jpg</td>\n      <td>47988474</td>\n      <td>4</td>\n      <td>4.0</td>\n      <td>3.89</td>\n      <td>4</td>\n      <td>9</td>\n      <td>35</td>\n      <td>[2, 3, 3, 4, 4, 4, 4, 5, 6]</td>\n      <td>4</td>\n      <td>4</td>\n      <td>0.0</td>\n      <td>5</td>\n      <td>NaN</td>\n      <td>2</td>\n    </tr>\n    <tr>\n      <th>104</th>\n      <td>104</td>\n      <td>SRPB02-2-2_153.jpg</td>\n      <td>47988580</td>\n      <td>1</td>\n      <td>1.0</td>\n      <td>1.00</td>\n      <td>1</td>\n      <td>10</td>\n      <td>10</td>\n      <td>[1, 1, 1, 1, 1, 1, 1, 1, 1, 1]</td>\n      <td>0</td>\n      <td>1</td>\n      <td>0.0</td>\n      <td>5</td>\n      <td>NaN</td>\n      <td>4</td>\n    </tr>\n    <tr>\n      <th>105</th>\n      <td>105</td>\n      <td>SRPB02-2-2_161.jpg</td>\n      <td>47988636</td>\n      <td>1</td>\n      <td>1.0</td>\n      <td>1.00</td>\n      <td>1</td>\n      <td>10</td>\n      <td>10</td>\n      <td>[1, 1, 1, 1, 1, 1, 1, 1, 1, 1]</td>\n      <td>0</td>\n      <td>1</td>\n      <td>0.0</td>\n      <td>5</td>\n      <td>NaN</td>\n      <td>5</td>\n    </tr>\n    <tr>\n      <th>106</th>\n      <td>106</td>\n      <td>SRPB02-2-3_157.jpg</td>\n      <td>47989826</td>\n      <td>1</td>\n      <td>1.5</td>\n      <td>1.83</td>\n      <td>1</td>\n      <td>6</td>\n      <td>11</td>\n      <td>[1, 1, 1, 2, 3, 3]</td>\n      <td>1</td>\n      <td>1</td>\n      <td>0.0</td>\n      <td>5</td>\n      <td>NaN</td>\n      <td>6</td>\n    </tr>\n  </tbody>\n</table>\n<p>107 rows × 16 columns</p>\n</div>"
     },
     "execution_count": 58,
     "metadata": {},
     "output_type": "execute_result"
    }
   ],
   "source": [
    "print(f\"load {config['comparison_dataset']}\")\n",
    "pd.read_csv(config[\"comparison_dataset\"])"
   ]
  },
  {
   "cell_type": "markdown",
   "id": "34f5d0fc72193f65",
   "metadata": {
    "collapsed": false
   },
   "source": [
    "## Discussion:\n",
    "Clustering works, it yields better numbers than just taking mode,median or mean annotations from the volunteers, because it takes the spatial location of the marker dots into consideration.\n",
    "\n"
   ]
  },
  {
   "cell_type": "markdown",
   "id": "ec8c6b5d-475f-4f67-99b9-8bcb0283fdaa",
   "metadata": {},
   "source": [
    "Assert the numbers haven't changed"
   ]
  },
  {
   "cell_type": "code",
   "execution_count": 59,
   "id": "98b7b0fe18ed314e",
   "metadata": {
    "collapsed": false,
    "ExecuteTime": {
     "end_time": "2024-03-08T13:58:51.185852Z",
     "start_time": "2024-03-08T13:58:51.170700Z"
    }
   },
   "outputs": [],
   "source": [
    "## these are the numbers before the sorting was repaired\n",
    "# if phase_tag == \"Iguanas 1st launch\" and not debug:\n",
    "#     if user_threshold == 3:\n",
    "#         assert df_comparison_sum[\"mode_count\"] == 215\n",
    "#         assert df_comparison_sum[\"dbscan_count_sil\"] == 222\n",
    "#         assert df_comparison_sum[\"median_count\"] == 228.5\n",
    "#         assert df_comparison_sum[\"HDBSCAN_count\"] == 244\n",
    "#         assert df_comparison_sum[\"count_total\"] == 323\n",
    "#     if user_threshold is None:\n",
    "#         assert df_comparison_sum[\"mode_count\"] == 221\n",
    "#         assert df_comparison_sum[\"dbscan_count_sil\"] == 224\n",
    "#         assert df_comparison_sum[\"median_count\"] == 235.5\n",
    "#         assert df_comparison_sum[\"HDBSCAN_count\"] == 247\n",
    "#         assert df_comparison_sum[\"count_total\"] == 331\n",
    "#         \n",
    "# if phase_tag == \"Iguanas 2nd launch\" and not debug:\n",
    "#     if user_threshold == 3:\n",
    "#         assert df_comparison_sum[\"mode_count\"] == 502\n",
    "#         assert df_comparison_sum[\"dbscan_count_sil\"] == 484\n",
    "#         assert df_comparison_sum[\"median_count\"] == 475\n",
    "#         assert df_comparison_sum[\"HDBSCAN_count\"] == 541\n",
    "#         assert df_comparison_sum[\"count_total\"] == 586\n",
    "#     if user_threshold is None:\n",
    "#         assert df_comparison_sum[\"mode_count\"] == 511\n",
    "#         assert df_comparison_sum[\"dbscan_count_sil\"] == 484\n",
    "#         assert df_comparison_sum[\"median_count\"] == 484.5\n",
    "#         assert df_comparison_sum[\"HDBSCAN_count\"] == 541.0\n",
    "#         assert df_comparison_sum[\"count_total\"] == 589.0\n",
    "#         \n",
    "# if phase_tag == \"Iguanas 3rd launch\" and not debug:\n",
    "#     if user_threshold == 3:\n",
    "#         assert df_comparison_sum[\"mode_count\"] == 302\n",
    "#         assert df_comparison_sum[\"dbscan_count_sil\"] == 309\n",
    "#         assert df_comparison_sum[\"median_count\"] == 313\n",
    "#         assert df_comparison_sum[\"HDBSCAN_count\"] == 357\n",
    "#         assert df_comparison_sum[\"count_total\"] == 351\n",
    "#     if user_threshold is None:\n",
    "#         assert df_comparison_sum[\"mode_count\"] == 304\n",
    "#         assert df_comparison_sum[\"dbscan_count_sil\"] == 309\n",
    "#         assert df_comparison_sum[\"median_count\"] == 315\n",
    "#         assert df_comparison_sum[\"HDBSCAN_count\"] == 357\n",
    "#         assert df_comparison_sum[\"count_total\"] == 351\n"
   ]
  },
  {
   "cell_type": "code",
   "execution_count": 59,
   "id": "5670dfe85d418540",
   "metadata": {
    "collapsed": false,
    "ExecuteTime": {
     "end_time": "2024-03-08T13:58:51.187934Z",
     "start_time": "2024-03-08T13:58:51.186591Z"
    }
   },
   "outputs": [],
   "source": []
  },
  {
   "cell_type": "code",
   "execution_count": 59,
   "id": "3bf3dcbb1ea03e18",
   "metadata": {
    "collapsed": false,
    "ExecuteTime": {
     "end_time": "2024-03-08T13:58:51.189796Z",
     "start_time": "2024-03-08T13:58:51.188560Z"
    }
   },
   "outputs": [],
   "source": []
  }
 ],
 "metadata": {
  "kernelspec": {
   "display_name": "Python 3 (ipykernel)",
   "language": "python",
   "name": "python3"
  },
  "language_info": {
   "codemirror_mode": {
    "name": "ipython",
    "version": 3
   },
   "file_extension": ".py",
   "mimetype": "text/x-python",
   "name": "python",
   "nbconvert_exporter": "python",
   "pygments_lexer": "ipython3",
   "version": "3.10.13"
  }
 },
 "nbformat": 4,
 "nbformat_minor": 5
}
