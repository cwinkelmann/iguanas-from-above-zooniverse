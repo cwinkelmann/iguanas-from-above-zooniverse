{
 "cells": [
  {
   "cell_type": "markdown",
   "id": "708022ad72146e6d",
   "metadata": {},
   "source": [
    "# Clustering Zooniverse Marks to count Iguanas\n",
    "The goal is to find the best method to cluster the data and find the best number of clusters.\n",
    "The benchmark is a gold standard dataset obtained by experts."
   ]
  },
  {
   "cell_type": "code",
   "execution_count": 1,
   "id": "d59fc4434d71491c",
   "metadata": {
    "ExecuteTime": {
     "end_time": "2024-03-07T12:08:17.020372Z",
     "start_time": "2024-03-07T12:08:17.006445Z"
    },
    "collapsed": false,
    "jupyter": {
     "outputs_hidden": false
    },
    "tags": []
   },
   "outputs": [],
   "source": [
    "%load_ext autoreload\n",
    "%autoreload 2\n",
    "\n",
    "import sys\n",
    "\n",
    "sys.path.append(\"../\")\n",
    "sys.path.append(\"../zooniverse\")"
   ]
  },
  {
   "cell_type": "markdown",
   "id": "731716bd21e99cbe",
   "metadata": {
    "collapsed": false,
    "jupyter": {
     "outputs_hidden": false
    }
   },
   "source": [
    "## Intro\n",
    "### Retrieve a Classification report from Zooniverse\n",
    "Export the classification export from your zooniverse project.\n",
    "https://www.zooniverse.org/lab/11905/data-exports\n",
    "\n",
    "This leads to a csv file which can be used for the analysis which should be renamed to `iguanas-from-above-classifications.csv` and placed in the `input_path` directory.\n",
    "The methods do not use methods from zooniverse. It is a custom implementation.\n",
    "\n",
    "An alternative would be to use the [code provided by zooniverse](https://github.com/zooniverse/Data-digging/tree/master/notebooks_ProcessExports)\n",
    "(Bird Count Example)[https://github.com/zooniverse/Data-digging/blob/master/scripts_ProjectExamples/seabirdwatch/bird_count.py]\n",
    "\n",
    "This notebooks assumes the data is flat and prepared. An alternative format would be the [cesar aggregation format](https://github.com/zooniverse/aggregation-for-caesar)\n",
    "\n",
    "Used Methods are:\n",
    "\n",
    "### DBSCAN \n",
    "It does not require the number of clusters to be specified. It is used here because, but has min_samples and eps as hyperparameters which need to be found. [Link](https://scikit-learn.org/stable/auto_examples/cluster/plot_dbscan.html)\n",
    "For finding eps and min_sample a simple **grid search** is used.\n",
    "Additionally, DBSCAN not assume a specific shape for the clusters (K-means assumes clusters are gaussian in shape) even though we should assume that points around an iguana is gaussian shaped.\n",
    "\n",
    "### HDBSCAN\n",
    "It is an extension of DBSCAN which is more robust to hyperparameter settings as it finds epsilon and min_samples automatically. [Link](https://scikit-learn.org/stable/modules/generated/sklearn.cluster.HDBSCAN.html)"
   ]
  },
  {
   "cell_type": "markdown",
   "id": "1999c71e3053c3a4",
   "metadata": {},
   "source": []
  },
  {
   "cell_type": "markdown",
   "id": "fc7e7da572712fcd",
   "metadata": {
    "collapsed": false,
    "jupyter": {
     "outputs_hidden": false
    }
   },
   "source": [
    "### Processing workflow\n",
    "\n",
    "The Data is flatted and filtered\n",
    "![Image](images/dataprocessing-DataFiltering.png)\n",
    "\n",
    "In each phase we have the following number of images if they are filtered for at least 4 true marks by users\n",
    "1. phase 105\n",
    "2. phase 160\n",
    "3. phase 86\n"
   ]
  },
  {
   "cell_type": "markdown",
   "id": "e261acba86137ddd",
   "metadata": {
    "collapsed": false,
    "jupyter": {
     "outputs_hidden": false
    }
   },
   "source": [
    "## Load the data"
   ]
  },
  {
   "cell_type": "code",
   "execution_count": 2,
   "id": "823d8c3234e4a1de",
   "metadata": {
    "ExecuteTime": {
     "end_time": "2024-03-07T12:08:18.307274Z",
     "start_time": "2024-03-07T12:08:17.251874Z"
    },
    "collapsed": false,
    "jupyter": {
     "outputs_hidden": false
    },
    "tags": []
   },
   "outputs": [],
   "source": [
    "from zooniverse.utils.data_format import data_prep\n",
    "from pathlib import Path\n",
    "\n",
    "## Input Path of all the data\n",
    "input_path =Path(\"/Users/christian/data/zooniverse\")\n",
    "\n",
    "reprocess = False # if True, the raw classification data is reprocessed. If False, the data is loaded from disk\n",
    "\n",
    "# Phase Selection\n",
    "# phase_tag = \"Iguanas 1st launch\"\n",
    "# phase_tag = \"Iguanas 2nd launch\"\n",
    "phase_tag = \"Iguanas 3rd launch\"\n",
    "\n",
    "\n",
    "debug = False # debugging with a smaller dataset\n",
    "plot_diagrams = False # plot the diagrams to disk for the clustering methods\n",
    "show_plots = False # show the plots in the notebook\n",
    "user_threshold = None # in a number, filter records which have less than these user interactions.\n",
    "\n",
    "\n",
    "### use either the subset of the subset\n",
    "use_gold_standard_subset = \"expert_goldstandard\" # Use the X-T2-GS-results-5th-0s as the basis\n",
    "# use_gold_standard_subset = \"expert\" # Use the expert-GS-Xphase as the basis\n",
    "\n",
    "# Location for the analysis Results\n",
    "output_path = Path(input_path.joinpath(f\"2024_03_07_{use_gold_standard_subset}_analysis\").joinpath(phase_tag))\n",
    "output_path.mkdir(exist_ok=True, parents=True)\n",
    "\n",
    "# Location for plots\n",
    "output_plot_path = output_path.joinpath(\"plots\")\n",
    "output_plot_path.mkdir(parents=True, exist_ok=True)\n",
    "\n",
    "if reprocess:\n",
    "    ds_stats = data_prep(phase_tag=phase_tag, \n",
    "                         output_path=output_path, \n",
    "                         input_path=input_path,\n",
    "                         filter_combination=use_gold_standard_subset)\n",
    "    print(ds_stats)\n",
    "    \n"
   ]
  },
  {
   "cell_type": "markdown",
   "id": "b331b5a4f3de61e8",
   "metadata": {
    "collapsed": false,
    "jupyter": {
     "outputs_hidden": false
    }
   },
   "source": []
  },
  {
   "cell_type": "code",
   "execution_count": 3,
   "id": "78dc43b82ba30710",
   "metadata": {
    "ExecuteTime": {
     "end_time": "2024-03-07T12:08:18.323688Z",
     "start_time": "2024-03-07T12:08:18.308503Z"
    },
    "collapsed": false,
    "jupyter": {
     "outputs_hidden": false
    }
   },
   "outputs": [],
   "source": [
    "\n",
    "import pandas as pd\n",
    "from zooniverse.analysis import get_annotation_count_stats\n",
    "from zooniverse.utils.filters import filter_df_user_threshold\n",
    "from zooniverse.config import get_config"
   ]
  },
  {
   "cell_type": "markdown",
   "id": "b09c459f867af4cc",
   "metadata": {
    "collapsed": false,
    "jupyter": {
     "outputs_hidden": false
    }
   },
   "source": [
    "## Look into the config\n",
    "This Config points to all files necessary for the analysis + the result files"
   ]
  },
  {
   "cell_type": "code",
   "execution_count": 4,
   "id": "2c90437596b36a54",
   "metadata": {
    "ExecuteTime": {
     "end_time": "2024-03-07T12:08:18.341096Z",
     "start_time": "2024-03-07T12:08:18.324635Z"
    },
    "collapsed": false,
    "jupyter": {
     "outputs_hidden": false
    }
   },
   "outputs": [
    {
     "data": {
      "text/plain": [
       "{'annotations_source': PosixPath('/Users/christian/data/zooniverse/IguanasFromAbove/2023-10-15/iguanas-from-above-classifications.csv'),\n",
       " 'goldstandard_data': PosixPath('/Users/christian/data/zooniverse/Images/Zooniverse_Goldstandard_images/expert-GS-3rdphase_renamed.csv'),\n",
       " 'gold_standard_image_subset': PosixPath('/Users/christian/data/zooniverse/Images/Zooniverse_Goldstandard_images/3-T2-GS-results-5th-0s.csv'),\n",
       " 'image_source': None,\n",
       " 'yes_no_dataset': PosixPath('/Users/christian/data/zooniverse/2024_03_07_expert_goldstandard_analysis/Iguanas 3rd launch/yes_no_dataset_Iguanas 3rd launch.csv'),\n",
       " 'flat_dataset': PosixPath('/Users/christian/data/zooniverse/2024_03_07_expert_goldstandard_analysis/Iguanas 3rd launch/flat_dataset_Iguanas 3rd launch.csv'),\n",
       " 'merged_dataset': PosixPath('/Users/christian/data/zooniverse/2024_03_07_expert_goldstandard_analysis/Iguanas 3rd launch/merged_dataset_gold_standard_expert_Iguanas 3rd launch_filtered.csv'),\n",
       " 'gold_standard_and_expert_count': PosixPath('/Users/christian/data/zooniverse/2024_03_07_expert_goldstandard_analysis/Iguanas 3rd launch/Iguanas 3rd launch_gold_standard_and_expert_count.csv'),\n",
       " 'comparison_dataset': PosixPath('/Users/christian/data/zooniverse/2024_03_07_expert_goldstandard_analysis/Iguanas 3rd launch/Iguanas 3rd launch_method_comparison.csv'),\n",
       " 'method_sums': PosixPath('/Users/christian/data/zooniverse/2024_03_07_expert_goldstandard_analysis/Iguanas 3rd launch/Iguanas 3rd launch_method_sums.csv'),\n",
       " 'rmse_errors': PosixPath('/Users/christian/data/zooniverse/2024_03_07_expert_goldstandard_analysis/Iguanas 3rd launch/Iguanas 3rd launch_rmse_errors.csv'),\n",
       " 'dbscan_hyperparam_grid': PosixPath('/Users/christian/data/zooniverse/2024_03_07_expert_goldstandard_analysis/Iguanas 3rd launch/Iguanas 3rd launch_hyperparam_grid.csv')}"
      ]
     },
     "execution_count": 4,
     "metadata": {},
     "output_type": "execute_result"
    }
   ],
   "source": [
    "config = get_config(phase_tag=phase_tag, input_path=input_path, output_path=output_path)\n",
    "config"
   ]
  },
  {
   "cell_type": "markdown",
   "id": "7e3cf1edbc774b52",
   "metadata": {
    "collapsed": false,
    "jupyter": {
     "outputs_hidden": false
    }
   },
   "source": [
    "### Optional Debugging"
   ]
  },
  {
   "cell_type": "code",
   "execution_count": 5,
   "id": "bc2fa0f92651d9da",
   "metadata": {
    "ExecuteTime": {
     "end_time": "2024-03-07T12:08:18.368297Z",
     "start_time": "2024-03-07T12:08:18.343083Z"
    },
    "collapsed": false,
    "jupyter": {
     "outputs_hidden": false
    }
   },
   "outputs": [],
   "source": [
    "if plot_diagrams == False:\n",
    "    output_plot_path = None\n",
    "\n",
    "\n",
    "df_merged_dataset = pd.read_csv(config[\"merged_dataset\"])\n",
    "\n",
    "\n",
    "df_goldstandard_expert_count = pd.read_csv(config[\"goldstandard_data\"], sep=\";\")\n",
    "\n",
    "## Debugging helpers\n",
    "if phase_tag == \"Iguanas 1st launch\":    \n",
    "    if debug:\n",
    "\n",
    "        df_merged_dataset = df_merged_dataset[df_merged_dataset.image_name.isin([\"SFM01-2-2-2_333.jpg\", \"SFM01-2-2-2_334.jpg\", \"SFM01-2-2-3_201.jpg\"])]\n",
    "\n",
    "elif phase_tag == \"Iguanas 2nd launch\":\n",
    "    if debug:\n",
    "        df_merged_dataset = df_merged_dataset[\n",
    "           df_merged_dataset.image_name.isin([\"FMO03-1_65.jpg\", \"FMO03-1_72.jpg\", \"MBN04-2_182.jpg\", \"EGI08-2_78.jpg\"])]\n",
    "           # df_merged_dataset.image_name.isin([\"FMO03-1_72.jpg\"])]\n",
    "\n",
    "    \n",
    "elif phase_tag == \"Iguanas 3rd launch\":\n",
    "\n",
    "    # this user is a spammer\n",
    "    df_merged_dataset = df_merged_dataset[df_merged_dataset.user_id != 2581179]\n",
    "    \n",
    "    if debug:\n",
    "        df_merged_dataset = df_merged_dataset[\n",
    "           df_merged_dataset.image_name.isin([\"FMO03-2_70.jpg\", \"MBN04-2_182.jpg\", \"EGI08-2_78.jpg\"])]\n",
    "            \n",
    "    \n"
   ]
  },
  {
   "cell_type": "markdown",
   "id": "bf09c7260aa5e8ed",
   "metadata": {
    "collapsed": false,
    "jupyter": {
     "outputs_hidden": false
    }
   },
   "source": [
    "## Look at the data\n"
   ]
  },
  {
   "cell_type": "code",
   "execution_count": 6,
   "id": "6e814289feb967ec",
   "metadata": {
    "ExecuteTime": {
     "end_time": "2024-03-07T12:08:18.389417Z",
     "start_time": "2024-03-07T12:08:18.368922Z"
    },
    "collapsed": false,
    "jupyter": {
     "outputs_hidden": false
    }
   },
   "outputs": [
    {
     "data": {
      "text/html": [
       "<div>\n",
       "<style scoped>\n",
       "    .dataframe tbody tr th:only-of-type {\n",
       "        vertical-align: middle;\n",
       "    }\n",
       "\n",
       "    .dataframe tbody tr th {\n",
       "        vertical-align: top;\n",
       "    }\n",
       "\n",
       "    .dataframe thead th {\n",
       "        text-align: right;\n",
       "    }\n",
       "</style>\n",
       "<table border=\"1\" class=\"dataframe\">\n",
       "  <thead>\n",
       "    <tr style=\"text-align: right;\">\n",
       "      <th></th>\n",
       "      <th>Unnamed: 0</th>\n",
       "      <th>flight_site_code</th>\n",
       "      <th>image_name</th>\n",
       "      <th>subject_id</th>\n",
       "      <th>x</th>\n",
       "      <th>y</th>\n",
       "      <th>tool_label</th>\n",
       "      <th>phase_tag</th>\n",
       "      <th>user_id</th>\n",
       "    </tr>\n",
       "  </thead>\n",
       "  <tbody>\n",
       "    <tr>\n",
       "      <th>0</th>\n",
       "      <td>57</td>\n",
       "      <td>CaboIbebetsonS</td>\n",
       "      <td>PCIS01-5_67.jpg</td>\n",
       "      <td>78961972</td>\n",
       "      <td>301.422882</td>\n",
       "      <td>51.112278</td>\n",
       "      <td>Others (females, young males, juveniles)</td>\n",
       "      <td>Iguanas 3rd launch</td>\n",
       "      <td>2494963.0</td>\n",
       "    </tr>\n",
       "    <tr>\n",
       "      <th>1</th>\n",
       "      <td>58</td>\n",
       "      <td>CaboIbebetsonS</td>\n",
       "      <td>PCIS01-5_67.jpg</td>\n",
       "      <td>78961972</td>\n",
       "      <td>35.903500</td>\n",
       "      <td>468.096375</td>\n",
       "      <td>Others (females, young males, juveniles)</td>\n",
       "      <td>Iguanas 3rd launch</td>\n",
       "      <td>2494963.0</td>\n",
       "    </tr>\n",
       "    <tr>\n",
       "      <th>2</th>\n",
       "      <td>70</td>\n",
       "      <td>WestCoastB</td>\n",
       "      <td>GWB01-3_152.jpg</td>\n",
       "      <td>78925551</td>\n",
       "      <td>728.559448</td>\n",
       "      <td>181.467453</td>\n",
       "      <td>Others (females, young males, juveniles)</td>\n",
       "      <td>Iguanas 3rd launch</td>\n",
       "      <td>NaN</td>\n",
       "    </tr>\n",
       "    <tr>\n",
       "      <th>3</th>\n",
       "      <td>71</td>\n",
       "      <td>WestCoastB</td>\n",
       "      <td>GWB01-3_152.jpg</td>\n",
       "      <td>78925551</td>\n",
       "      <td>601.206055</td>\n",
       "      <td>277.385895</td>\n",
       "      <td>Others (females, young males, juveniles)</td>\n",
       "      <td>Iguanas 3rd launch</td>\n",
       "      <td>NaN</td>\n",
       "    </tr>\n",
       "    <tr>\n",
       "      <th>4</th>\n",
       "      <td>125</td>\n",
       "      <td>SouthCoastH</td>\n",
       "      <td>ESCH02-1_323.jpg</td>\n",
       "      <td>78965007</td>\n",
       "      <td>247.383331</td>\n",
       "      <td>56.599998</td>\n",
       "      <td>Adult Male not in a lek</td>\n",
       "      <td>Iguanas 3rd launch</td>\n",
       "      <td>2400702.0</td>\n",
       "    </tr>\n",
       "    <tr>\n",
       "      <th>...</th>\n",
       "      <td>...</td>\n",
       "      <td>...</td>\n",
       "      <td>...</td>\n",
       "      <td>...</td>\n",
       "      <td>...</td>\n",
       "      <td>...</td>\n",
       "      <td>...</td>\n",
       "      <td>...</td>\n",
       "      <td>...</td>\n",
       "    </tr>\n",
       "    <tr>\n",
       "      <th>7396</th>\n",
       "      <td>104634</td>\n",
       "      <td>SouthCoastH</td>\n",
       "      <td>ESCH02-1_174.jpg</td>\n",
       "      <td>78964907</td>\n",
       "      <td>688.849609</td>\n",
       "      <td>135.619003</td>\n",
       "      <td>Adult Male with a lek</td>\n",
       "      <td>Iguanas 3rd launch</td>\n",
       "      <td>2159576.0</td>\n",
       "    </tr>\n",
       "    <tr>\n",
       "      <th>7397</th>\n",
       "      <td>113862</td>\n",
       "      <td>GEB02</td>\n",
       "      <td>GEB02-3_197.jpg</td>\n",
       "      <td>78922625</td>\n",
       "      <td>496.962006</td>\n",
       "      <td>433.519104</td>\n",
       "      <td>Adult Male not in a lek</td>\n",
       "      <td>Iguanas 3rd launch</td>\n",
       "      <td>NaN</td>\n",
       "    </tr>\n",
       "    <tr>\n",
       "      <th>7398</th>\n",
       "      <td>113863</td>\n",
       "      <td>GEB02</td>\n",
       "      <td>GEB02-3_197.jpg</td>\n",
       "      <td>78922625</td>\n",
       "      <td>496.542480</td>\n",
       "      <td>416.344574</td>\n",
       "      <td>Adult Male not in a lek</td>\n",
       "      <td>Iguanas 3rd launch</td>\n",
       "      <td>NaN</td>\n",
       "    </tr>\n",
       "    <tr>\n",
       "      <th>7399</th>\n",
       "      <td>113866</td>\n",
       "      <td>GEB02</td>\n",
       "      <td>GEB02-3_197.jpg</td>\n",
       "      <td>78922625</td>\n",
       "      <td>502.057251</td>\n",
       "      <td>430.122284</td>\n",
       "      <td>Others (females, young males, juveniles)</td>\n",
       "      <td>Iguanas 3rd launch</td>\n",
       "      <td>2647442.0</td>\n",
       "    </tr>\n",
       "    <tr>\n",
       "      <th>7400</th>\n",
       "      <td>113870</td>\n",
       "      <td>GEB02</td>\n",
       "      <td>GEB02-3_197.jpg</td>\n",
       "      <td>78922625</td>\n",
       "      <td>485.176636</td>\n",
       "      <td>426.866882</td>\n",
       "      <td>Others (females, young males, juveniles)</td>\n",
       "      <td>Iguanas 3rd launch</td>\n",
       "      <td>NaN</td>\n",
       "    </tr>\n",
       "  </tbody>\n",
       "</table>\n",
       "<p>6733 rows × 9 columns</p>\n",
       "</div>"
      ],
      "text/plain": [
       "      Unnamed: 0 flight_site_code        image_name  subject_id           x  \\\n",
       "0             57   CaboIbebetsonS   PCIS01-5_67.jpg    78961972  301.422882   \n",
       "1             58   CaboIbebetsonS   PCIS01-5_67.jpg    78961972   35.903500   \n",
       "2             70       WestCoastB   GWB01-3_152.jpg    78925551  728.559448   \n",
       "3             71       WestCoastB   GWB01-3_152.jpg    78925551  601.206055   \n",
       "4            125      SouthCoastH  ESCH02-1_323.jpg    78965007  247.383331   \n",
       "...          ...              ...               ...         ...         ...   \n",
       "7396      104634      SouthCoastH  ESCH02-1_174.jpg    78964907  688.849609   \n",
       "7397      113862            GEB02   GEB02-3_197.jpg    78922625  496.962006   \n",
       "7398      113863            GEB02   GEB02-3_197.jpg    78922625  496.542480   \n",
       "7399      113866            GEB02   GEB02-3_197.jpg    78922625  502.057251   \n",
       "7400      113870            GEB02   GEB02-3_197.jpg    78922625  485.176636   \n",
       "\n",
       "               y                                tool_label  \\\n",
       "0      51.112278  Others (females, young males, juveniles)   \n",
       "1     468.096375  Others (females, young males, juveniles)   \n",
       "2     181.467453  Others (females, young males, juveniles)   \n",
       "3     277.385895  Others (females, young males, juveniles)   \n",
       "4      56.599998                   Adult Male not in a lek   \n",
       "...          ...                                       ...   \n",
       "7396  135.619003                     Adult Male with a lek   \n",
       "7397  433.519104                   Adult Male not in a lek   \n",
       "7398  416.344574                   Adult Male not in a lek   \n",
       "7399  430.122284  Others (females, young males, juveniles)   \n",
       "7400  426.866882  Others (females, young males, juveniles)   \n",
       "\n",
       "               phase_tag    user_id  \n",
       "0     Iguanas 3rd launch  2494963.0  \n",
       "1     Iguanas 3rd launch  2494963.0  \n",
       "2     Iguanas 3rd launch        NaN  \n",
       "3     Iguanas 3rd launch        NaN  \n",
       "4     Iguanas 3rd launch  2400702.0  \n",
       "...                  ...        ...  \n",
       "7396  Iguanas 3rd launch  2159576.0  \n",
       "7397  Iguanas 3rd launch        NaN  \n",
       "7398  Iguanas 3rd launch        NaN  \n",
       "7399  Iguanas 3rd launch  2647442.0  \n",
       "7400  Iguanas 3rd launch        NaN  \n",
       "\n",
       "[6733 rows x 9 columns]"
      ]
     },
     "execution_count": 6,
     "metadata": {},
     "output_type": "execute_result"
    }
   ],
   "source": [
    "## Look at the data\n",
    "df_merged_dataset.drop(\"user_name\", axis=1)\n"
   ]
  },
  {
   "cell_type": "markdown",
   "id": "da7bed90d6d10d89",
   "metadata": {
    "collapsed": false,
    "jupyter": {
     "outputs_hidden": false
    }
   },
   "source": [
    "### Filter User if necessary and Marks\n"
   ]
  },
  {
   "cell_type": "code",
   "execution_count": 7,
   "id": "b84daa777a0903cf",
   "metadata": {
    "ExecuteTime": {
     "end_time": "2024-03-07T12:08:18.410828Z",
     "start_time": "2024-03-07T12:08:18.390111Z"
    },
    "collapsed": false,
    "jupyter": {
     "outputs_hidden": false
    }
   },
   "outputs": [
    {
     "name": "stderr",
     "output_type": "stream",
     "text": [
      "\u001b[32m2024-03-07 13:14:09.060\u001b[0m | \u001b[33m\u001b[1mWARNING \u001b[0m | \u001b[36mzooniverse.utils.filters\u001b[0m:\u001b[36mfilter_remove_marks\u001b[0m:\u001b[36m38\u001b[0m - \u001b[33m\u001b[1mremoved 0 partial marks\u001b[0m\n",
      "\u001b[32m2024-03-07 13:14:09.060\u001b[0m | \u001b[33m\u001b[1mWARNING \u001b[0m | \u001b[36mzooniverse.utils.filters\u001b[0m:\u001b[36mfilter_remove_marks\u001b[0m:\u001b[36m39\u001b[0m - \u001b[33m\u001b[1mAfter filter_func 87 images are left\u001b[0m\n"
     ]
    },
    {
     "name": "stdout",
     "output_type": "stream",
     "text": [
      "Before filtering: 87\n"
     ]
    }
   ],
   "source": [
    "print(f\"Before filtering: {df_merged_dataset.subject_id.nunique()}\")\n",
    "# There images in which some people said there are iguanas, but then didn't mark them. Clustering with fewer than 3 dots doesn't make sense\n",
    "if user_threshold is not None:\n",
    "    print(f\"filtering records which have less than {user_threshold} interactions.\")\n",
    "    df_merged_dataset = filter_df_user_threshold(df_merged_dataset, user_threshold=user_threshold)\n",
    "    \n",
    "    \n",
    "from zooniverse.utils.filters import filter_remove_marks\n",
    "# Check if partials are still in the data. There shouldn't be any\n",
    "df_merged_dataset = filter_remove_marks(df_merged_dataset)\n"
   ]
  },
  {
   "cell_type": "markdown",
   "id": "d479e39e24f570b0",
   "metadata": {
    "collapsed": false,
    "jupyter": {
     "outputs_hidden": false
    }
   },
   "source": [
    "### Are there anonymous users in the data?\n",
    "There should be"
   ]
  },
  {
   "cell_type": "code",
   "execution_count": 8,
   "id": "9936072d8a7b7602",
   "metadata": {
    "ExecuteTime": {
     "end_time": "2024-03-07T12:08:18.432850Z",
     "start_time": "2024-03-07T12:08:18.411545Z"
    },
    "collapsed": false,
    "jupyter": {
     "outputs_hidden": false
    }
   },
   "outputs": [
    {
     "data": {
      "text/html": [
       "<div>\n",
       "<style scoped>\n",
       "    .dataframe tbody tr th:only-of-type {\n",
       "        vertical-align: middle;\n",
       "    }\n",
       "\n",
       "    .dataframe tbody tr th {\n",
       "        vertical-align: top;\n",
       "    }\n",
       "\n",
       "    .dataframe thead th {\n",
       "        text-align: right;\n",
       "    }\n",
       "</style>\n",
       "<table border=\"1\" class=\"dataframe\">\n",
       "  <thead>\n",
       "    <tr style=\"text-align: right;\">\n",
       "      <th></th>\n",
       "      <th>Unnamed: 0</th>\n",
       "      <th>flight_site_code</th>\n",
       "      <th>image_name</th>\n",
       "      <th>subject_id</th>\n",
       "      <th>x</th>\n",
       "      <th>y</th>\n",
       "      <th>tool_label</th>\n",
       "      <th>phase_tag</th>\n",
       "      <th>user_id</th>\n",
       "      <th>user_name</th>\n",
       "    </tr>\n",
       "  </thead>\n",
       "  <tbody>\n",
       "    <tr>\n",
       "      <th>2</th>\n",
       "      <td>70</td>\n",
       "      <td>WestCoastB</td>\n",
       "      <td>GWB01-3_152.jpg</td>\n",
       "      <td>78925551</td>\n",
       "      <td>728.559448</td>\n",
       "      <td>181.467453</td>\n",
       "      <td>Others (females, young males, juveniles)</td>\n",
       "      <td>Iguanas 3rd launch</td>\n",
       "      <td>NaN</td>\n",
       "      <td>not-logged-in-1bdc6ad4144048748e1e</td>\n",
       "    </tr>\n",
       "    <tr>\n",
       "      <th>3</th>\n",
       "      <td>71</td>\n",
       "      <td>WestCoastB</td>\n",
       "      <td>GWB01-3_152.jpg</td>\n",
       "      <td>78925551</td>\n",
       "      <td>601.206055</td>\n",
       "      <td>277.385895</td>\n",
       "      <td>Others (females, young males, juveniles)</td>\n",
       "      <td>Iguanas 3rd launch</td>\n",
       "      <td>NaN</td>\n",
       "      <td>not-logged-in-1bdc6ad4144048748e1e</td>\n",
       "    </tr>\n",
       "    <tr>\n",
       "      <th>213</th>\n",
       "      <td>2466</td>\n",
       "      <td>SouthCoastH</td>\n",
       "      <td>ESCH02-1_409.jpg</td>\n",
       "      <td>78965058</td>\n",
       "      <td>579.152344</td>\n",
       "      <td>626.292969</td>\n",
       "      <td>Adult Male with a lek</td>\n",
       "      <td>Iguanas 3rd launch</td>\n",
       "      <td>NaN</td>\n",
       "      <td>not-logged-in-17a47a9cb6c229f138be</td>\n",
       "    </tr>\n",
       "    <tr>\n",
       "      <th>214</th>\n",
       "      <td>2467</td>\n",
       "      <td>SouthCoastH</td>\n",
       "      <td>ESCH02-1_409.jpg</td>\n",
       "      <td>78965058</td>\n",
       "      <td>371.527344</td>\n",
       "      <td>414.289062</td>\n",
       "      <td>Others (females, young males, juveniles)</td>\n",
       "      <td>Iguanas 3rd launch</td>\n",
       "      <td>NaN</td>\n",
       "      <td>not-logged-in-17a47a9cb6c229f138be</td>\n",
       "    </tr>\n",
       "    <tr>\n",
       "      <th>215</th>\n",
       "      <td>2468</td>\n",
       "      <td>SouthCoastH</td>\n",
       "      <td>ESCH02-1_409.jpg</td>\n",
       "      <td>78965058</td>\n",
       "      <td>377.582031</td>\n",
       "      <td>374.734375</td>\n",
       "      <td>Others (females, young males, juveniles)</td>\n",
       "      <td>Iguanas 3rd launch</td>\n",
       "      <td>NaN</td>\n",
       "      <td>not-logged-in-17a47a9cb6c229f138be</td>\n",
       "    </tr>\n",
       "    <tr>\n",
       "      <th>...</th>\n",
       "      <td>...</td>\n",
       "      <td>...</td>\n",
       "      <td>...</td>\n",
       "      <td>...</td>\n",
       "      <td>...</td>\n",
       "      <td>...</td>\n",
       "      <td>...</td>\n",
       "      <td>...</td>\n",
       "      <td>...</td>\n",
       "      <td>...</td>\n",
       "    </tr>\n",
       "    <tr>\n",
       "      <th>7361</th>\n",
       "      <td>104052</td>\n",
       "      <td>WestCoast</td>\n",
       "      <td>PWC01-1_61.jpg</td>\n",
       "      <td>78962844</td>\n",
       "      <td>613.449280</td>\n",
       "      <td>901.053284</td>\n",
       "      <td>Others (females, young males, juveniles)</td>\n",
       "      <td>Iguanas 3rd launch</td>\n",
       "      <td>NaN</td>\n",
       "      <td>not-logged-in-f2eea36ffbe6b791be19</td>\n",
       "    </tr>\n",
       "    <tr>\n",
       "      <th>7362</th>\n",
       "      <td>104053</td>\n",
       "      <td>WestCoast</td>\n",
       "      <td>PWC01-1_61.jpg</td>\n",
       "      <td>78962844</td>\n",
       "      <td>549.657471</td>\n",
       "      <td>899.486877</td>\n",
       "      <td>Others (females, young males, juveniles)</td>\n",
       "      <td>Iguanas 3rd launch</td>\n",
       "      <td>NaN</td>\n",
       "      <td>not-logged-in-f2eea36ffbe6b791be19</td>\n",
       "    </tr>\n",
       "    <tr>\n",
       "      <th>7397</th>\n",
       "      <td>113862</td>\n",
       "      <td>GEB02</td>\n",
       "      <td>GEB02-3_197.jpg</td>\n",
       "      <td>78922625</td>\n",
       "      <td>496.962006</td>\n",
       "      <td>433.519104</td>\n",
       "      <td>Adult Male not in a lek</td>\n",
       "      <td>Iguanas 3rd launch</td>\n",
       "      <td>NaN</td>\n",
       "      <td>not-logged-in-e9f1111b45a6ee28bd33</td>\n",
       "    </tr>\n",
       "    <tr>\n",
       "      <th>7398</th>\n",
       "      <td>113863</td>\n",
       "      <td>GEB02</td>\n",
       "      <td>GEB02-3_197.jpg</td>\n",
       "      <td>78922625</td>\n",
       "      <td>496.542480</td>\n",
       "      <td>416.344574</td>\n",
       "      <td>Adult Male not in a lek</td>\n",
       "      <td>Iguanas 3rd launch</td>\n",
       "      <td>NaN</td>\n",
       "      <td>not-logged-in-0f458e24523988619154</td>\n",
       "    </tr>\n",
       "    <tr>\n",
       "      <th>7400</th>\n",
       "      <td>113870</td>\n",
       "      <td>GEB02</td>\n",
       "      <td>GEB02-3_197.jpg</td>\n",
       "      <td>78922625</td>\n",
       "      <td>485.176636</td>\n",
       "      <td>426.866882</td>\n",
       "      <td>Others (females, young males, juveniles)</td>\n",
       "      <td>Iguanas 3rd launch</td>\n",
       "      <td>NaN</td>\n",
       "      <td>not-logged-in-9fe421fff053a486b442</td>\n",
       "    </tr>\n",
       "  </tbody>\n",
       "</table>\n",
       "<p>895 rows × 10 columns</p>\n",
       "</div>"
      ],
      "text/plain": [
       "      Unnamed: 0 flight_site_code        image_name  subject_id           x  \\\n",
       "2             70       WestCoastB   GWB01-3_152.jpg    78925551  728.559448   \n",
       "3             71       WestCoastB   GWB01-3_152.jpg    78925551  601.206055   \n",
       "213         2466      SouthCoastH  ESCH02-1_409.jpg    78965058  579.152344   \n",
       "214         2467      SouthCoastH  ESCH02-1_409.jpg    78965058  371.527344   \n",
       "215         2468      SouthCoastH  ESCH02-1_409.jpg    78965058  377.582031   \n",
       "...          ...              ...               ...         ...         ...   \n",
       "7361      104052        WestCoast    PWC01-1_61.jpg    78962844  613.449280   \n",
       "7362      104053        WestCoast    PWC01-1_61.jpg    78962844  549.657471   \n",
       "7397      113862            GEB02   GEB02-3_197.jpg    78922625  496.962006   \n",
       "7398      113863            GEB02   GEB02-3_197.jpg    78922625  496.542480   \n",
       "7400      113870            GEB02   GEB02-3_197.jpg    78922625  485.176636   \n",
       "\n",
       "               y                                tool_label  \\\n",
       "2     181.467453  Others (females, young males, juveniles)   \n",
       "3     277.385895  Others (females, young males, juveniles)   \n",
       "213   626.292969                     Adult Male with a lek   \n",
       "214   414.289062  Others (females, young males, juveniles)   \n",
       "215   374.734375  Others (females, young males, juveniles)   \n",
       "...          ...                                       ...   \n",
       "7361  901.053284  Others (females, young males, juveniles)   \n",
       "7362  899.486877  Others (females, young males, juveniles)   \n",
       "7397  433.519104                   Adult Male not in a lek   \n",
       "7398  416.344574                   Adult Male not in a lek   \n",
       "7400  426.866882  Others (females, young males, juveniles)   \n",
       "\n",
       "               phase_tag  user_id                           user_name  \n",
       "2     Iguanas 3rd launch      NaN  not-logged-in-1bdc6ad4144048748e1e  \n",
       "3     Iguanas 3rd launch      NaN  not-logged-in-1bdc6ad4144048748e1e  \n",
       "213   Iguanas 3rd launch      NaN  not-logged-in-17a47a9cb6c229f138be  \n",
       "214   Iguanas 3rd launch      NaN  not-logged-in-17a47a9cb6c229f138be  \n",
       "215   Iguanas 3rd launch      NaN  not-logged-in-17a47a9cb6c229f138be  \n",
       "...                  ...      ...                                 ...  \n",
       "7361  Iguanas 3rd launch      NaN  not-logged-in-f2eea36ffbe6b791be19  \n",
       "7362  Iguanas 3rd launch      NaN  not-logged-in-f2eea36ffbe6b791be19  \n",
       "7397  Iguanas 3rd launch      NaN  not-logged-in-e9f1111b45a6ee28bd33  \n",
       "7398  Iguanas 3rd launch      NaN  not-logged-in-0f458e24523988619154  \n",
       "7400  Iguanas 3rd launch      NaN  not-logged-in-9fe421fff053a486b442  \n",
       "\n",
       "[895 rows x 10 columns]"
      ]
     },
     "execution_count": 8,
     "metadata": {},
     "output_type": "execute_result"
    }
   ],
   "source": [
    "df_merged_dataset[df_merged_dataset.user_id.isnull().values]"
   ]
  },
  {
   "cell_type": "code",
   "execution_count": 9,
   "id": "9258d161c25ae7d3",
   "metadata": {
    "ExecuteTime": {
     "end_time": "2024-03-07T12:08:18.450285Z",
     "start_time": "2024-03-07T12:08:18.433804Z"
    },
    "collapsed": false,
    "jupyter": {
     "outputs_hidden": false
    }
   },
   "outputs": [
    {
     "data": {
      "text/plain": [
       "87"
      ]
     },
     "execution_count": 9,
     "metadata": {},
     "output_type": "execute_result"
    }
   ],
   "source": [
    "df_merged_dataset[\"subject_id\"].nunique()"
   ]
  },
  {
   "cell_type": "code",
   "execution_count": 10,
   "id": "6caad5d554d586db",
   "metadata": {
    "ExecuteTime": {
     "end_time": "2024-03-07T12:08:18.472876Z",
     "start_time": "2024-03-07T12:08:18.451051Z"
    },
    "collapsed": false,
    "jupyter": {
     "outputs_hidden": false
    }
   },
   "outputs": [
    {
     "data": {
      "text/html": [
       "<div>\n",
       "<style scoped>\n",
       "    .dataframe tbody tr th:only-of-type {\n",
       "        vertical-align: middle;\n",
       "    }\n",
       "\n",
       "    .dataframe tbody tr th {\n",
       "        vertical-align: top;\n",
       "    }\n",
       "\n",
       "    .dataframe thead th {\n",
       "        text-align: right;\n",
       "    }\n",
       "</style>\n",
       "<table border=\"1\" class=\"dataframe\">\n",
       "  <thead>\n",
       "    <tr style=\"text-align: right;\">\n",
       "      <th></th>\n",
       "      <th>Unnamed: 0</th>\n",
       "      <th>flight_site_code</th>\n",
       "      <th>image_name</th>\n",
       "      <th>subject_id</th>\n",
       "      <th>x</th>\n",
       "      <th>y</th>\n",
       "      <th>tool_label</th>\n",
       "      <th>phase_tag</th>\n",
       "      <th>user_id</th>\n",
       "      <th>user_name</th>\n",
       "    </tr>\n",
       "  </thead>\n",
       "  <tbody>\n",
       "    <tr>\n",
       "      <th>0</th>\n",
       "      <td>57</td>\n",
       "      <td>CaboIbebetsonS</td>\n",
       "      <td>PCIS01-5_67.jpg</td>\n",
       "      <td>78961972</td>\n",
       "      <td>301.422882</td>\n",
       "      <td>51.112278</td>\n",
       "      <td>Others (females, young males, juveniles)</td>\n",
       "      <td>Iguanas 3rd launch</td>\n",
       "      <td>2494963.0</td>\n",
       "      <td>N.Bois</td>\n",
       "    </tr>\n",
       "    <tr>\n",
       "      <th>1</th>\n",
       "      <td>58</td>\n",
       "      <td>CaboIbebetsonS</td>\n",
       "      <td>PCIS01-5_67.jpg</td>\n",
       "      <td>78961972</td>\n",
       "      <td>35.903500</td>\n",
       "      <td>468.096375</td>\n",
       "      <td>Others (females, young males, juveniles)</td>\n",
       "      <td>Iguanas 3rd launch</td>\n",
       "      <td>2494963.0</td>\n",
       "      <td>N.Bois</td>\n",
       "    </tr>\n",
       "    <tr>\n",
       "      <th>2</th>\n",
       "      <td>70</td>\n",
       "      <td>WestCoastB</td>\n",
       "      <td>GWB01-3_152.jpg</td>\n",
       "      <td>78925551</td>\n",
       "      <td>728.559448</td>\n",
       "      <td>181.467453</td>\n",
       "      <td>Others (females, young males, juveniles)</td>\n",
       "      <td>Iguanas 3rd launch</td>\n",
       "      <td>NaN</td>\n",
       "      <td>not-logged-in-1bdc6ad4144048748e1e</td>\n",
       "    </tr>\n",
       "    <tr>\n",
       "      <th>3</th>\n",
       "      <td>71</td>\n",
       "      <td>WestCoastB</td>\n",
       "      <td>GWB01-3_152.jpg</td>\n",
       "      <td>78925551</td>\n",
       "      <td>601.206055</td>\n",
       "      <td>277.385895</td>\n",
       "      <td>Others (females, young males, juveniles)</td>\n",
       "      <td>Iguanas 3rd launch</td>\n",
       "      <td>NaN</td>\n",
       "      <td>not-logged-in-1bdc6ad4144048748e1e</td>\n",
       "    </tr>\n",
       "    <tr>\n",
       "      <th>4</th>\n",
       "      <td>125</td>\n",
       "      <td>SouthCoastH</td>\n",
       "      <td>ESCH02-1_323.jpg</td>\n",
       "      <td>78965007</td>\n",
       "      <td>247.383331</td>\n",
       "      <td>56.599998</td>\n",
       "      <td>Adult Male not in a lek</td>\n",
       "      <td>Iguanas 3rd launch</td>\n",
       "      <td>2400702.0</td>\n",
       "      <td>MoMo11</td>\n",
       "    </tr>\n",
       "    <tr>\n",
       "      <th>...</th>\n",
       "      <td>...</td>\n",
       "      <td>...</td>\n",
       "      <td>...</td>\n",
       "      <td>...</td>\n",
       "      <td>...</td>\n",
       "      <td>...</td>\n",
       "      <td>...</td>\n",
       "      <td>...</td>\n",
       "      <td>...</td>\n",
       "      <td>...</td>\n",
       "    </tr>\n",
       "    <tr>\n",
       "      <th>7396</th>\n",
       "      <td>104634</td>\n",
       "      <td>SouthCoastH</td>\n",
       "      <td>ESCH02-1_174.jpg</td>\n",
       "      <td>78964907</td>\n",
       "      <td>688.849609</td>\n",
       "      <td>135.619003</td>\n",
       "      <td>Adult Male with a lek</td>\n",
       "      <td>Iguanas 3rd launch</td>\n",
       "      <td>2159576.0</td>\n",
       "      <td>987520</td>\n",
       "    </tr>\n",
       "    <tr>\n",
       "      <th>7397</th>\n",
       "      <td>113862</td>\n",
       "      <td>GEB02</td>\n",
       "      <td>GEB02-3_197.jpg</td>\n",
       "      <td>78922625</td>\n",
       "      <td>496.962006</td>\n",
       "      <td>433.519104</td>\n",
       "      <td>Adult Male not in a lek</td>\n",
       "      <td>Iguanas 3rd launch</td>\n",
       "      <td>NaN</td>\n",
       "      <td>not-logged-in-e9f1111b45a6ee28bd33</td>\n",
       "    </tr>\n",
       "    <tr>\n",
       "      <th>7398</th>\n",
       "      <td>113863</td>\n",
       "      <td>GEB02</td>\n",
       "      <td>GEB02-3_197.jpg</td>\n",
       "      <td>78922625</td>\n",
       "      <td>496.542480</td>\n",
       "      <td>416.344574</td>\n",
       "      <td>Adult Male not in a lek</td>\n",
       "      <td>Iguanas 3rd launch</td>\n",
       "      <td>NaN</td>\n",
       "      <td>not-logged-in-0f458e24523988619154</td>\n",
       "    </tr>\n",
       "    <tr>\n",
       "      <th>7399</th>\n",
       "      <td>113866</td>\n",
       "      <td>GEB02</td>\n",
       "      <td>GEB02-3_197.jpg</td>\n",
       "      <td>78922625</td>\n",
       "      <td>502.057251</td>\n",
       "      <td>430.122284</td>\n",
       "      <td>Others (females, young males, juveniles)</td>\n",
       "      <td>Iguanas 3rd launch</td>\n",
       "      <td>2647442.0</td>\n",
       "      <td>CaylinShuford</td>\n",
       "    </tr>\n",
       "    <tr>\n",
       "      <th>7400</th>\n",
       "      <td>113870</td>\n",
       "      <td>GEB02</td>\n",
       "      <td>GEB02-3_197.jpg</td>\n",
       "      <td>78922625</td>\n",
       "      <td>485.176636</td>\n",
       "      <td>426.866882</td>\n",
       "      <td>Others (females, young males, juveniles)</td>\n",
       "      <td>Iguanas 3rd launch</td>\n",
       "      <td>NaN</td>\n",
       "      <td>not-logged-in-9fe421fff053a486b442</td>\n",
       "    </tr>\n",
       "  </tbody>\n",
       "</table>\n",
       "<p>6733 rows × 10 columns</p>\n",
       "</div>"
      ],
      "text/plain": [
       "      Unnamed: 0 flight_site_code        image_name  subject_id           x  \\\n",
       "0             57   CaboIbebetsonS   PCIS01-5_67.jpg    78961972  301.422882   \n",
       "1             58   CaboIbebetsonS   PCIS01-5_67.jpg    78961972   35.903500   \n",
       "2             70       WestCoastB   GWB01-3_152.jpg    78925551  728.559448   \n",
       "3             71       WestCoastB   GWB01-3_152.jpg    78925551  601.206055   \n",
       "4            125      SouthCoastH  ESCH02-1_323.jpg    78965007  247.383331   \n",
       "...          ...              ...               ...         ...         ...   \n",
       "7396      104634      SouthCoastH  ESCH02-1_174.jpg    78964907  688.849609   \n",
       "7397      113862            GEB02   GEB02-3_197.jpg    78922625  496.962006   \n",
       "7398      113863            GEB02   GEB02-3_197.jpg    78922625  496.542480   \n",
       "7399      113866            GEB02   GEB02-3_197.jpg    78922625  502.057251   \n",
       "7400      113870            GEB02   GEB02-3_197.jpg    78922625  485.176636   \n",
       "\n",
       "               y                                tool_label  \\\n",
       "0      51.112278  Others (females, young males, juveniles)   \n",
       "1     468.096375  Others (females, young males, juveniles)   \n",
       "2     181.467453  Others (females, young males, juveniles)   \n",
       "3     277.385895  Others (females, young males, juveniles)   \n",
       "4      56.599998                   Adult Male not in a lek   \n",
       "...          ...                                       ...   \n",
       "7396  135.619003                     Adult Male with a lek   \n",
       "7397  433.519104                   Adult Male not in a lek   \n",
       "7398  416.344574                   Adult Male not in a lek   \n",
       "7399  430.122284  Others (females, young males, juveniles)   \n",
       "7400  426.866882  Others (females, young males, juveniles)   \n",
       "\n",
       "               phase_tag    user_id                           user_name  \n",
       "0     Iguanas 3rd launch  2494963.0                              N.Bois  \n",
       "1     Iguanas 3rd launch  2494963.0                              N.Bois  \n",
       "2     Iguanas 3rd launch        NaN  not-logged-in-1bdc6ad4144048748e1e  \n",
       "3     Iguanas 3rd launch        NaN  not-logged-in-1bdc6ad4144048748e1e  \n",
       "4     Iguanas 3rd launch  2400702.0                              MoMo11  \n",
       "...                  ...        ...                                 ...  \n",
       "7396  Iguanas 3rd launch  2159576.0                              987520  \n",
       "7397  Iguanas 3rd launch        NaN  not-logged-in-e9f1111b45a6ee28bd33  \n",
       "7398  Iguanas 3rd launch        NaN  not-logged-in-0f458e24523988619154  \n",
       "7399  Iguanas 3rd launch  2647442.0                       CaylinShuford  \n",
       "7400  Iguanas 3rd launch        NaN  not-logged-in-9fe421fff053a486b442  \n",
       "\n",
       "[6733 rows x 10 columns]"
      ]
     },
     "execution_count": 10,
     "metadata": {},
     "output_type": "execute_result"
    }
   ],
   "source": [
    "## After filtering there\n",
    "df_merged_dataset"
   ]
  },
  {
   "cell_type": "code",
   "execution_count": 11,
   "id": "e1fcc8d02df55119",
   "metadata": {
    "ExecuteTime": {
     "end_time": "2024-03-07T12:08:18.497927Z",
     "start_time": "2024-03-07T12:08:18.479761Z"
    },
    "collapsed": false,
    "jupyter": {
     "outputs_hidden": false
    }
   },
   "outputs": [
    {
     "data": {
      "text/html": [
       "<div>\n",
       "<style scoped>\n",
       "    .dataframe tbody tr th:only-of-type {\n",
       "        vertical-align: middle;\n",
       "    }\n",
       "\n",
       "    .dataframe tbody tr th {\n",
       "        vertical-align: top;\n",
       "    }\n",
       "\n",
       "    .dataframe thead th {\n",
       "        text-align: right;\n",
       "    }\n",
       "</style>\n",
       "<table border=\"1\" class=\"dataframe\">\n",
       "  <thead>\n",
       "    <tr style=\"text-align: right;\">\n",
       "      <th></th>\n",
       "      <th>x</th>\n",
       "    </tr>\n",
       "    <tr>\n",
       "      <th>user_id</th>\n",
       "      <th></th>\n",
       "    </tr>\n",
       "  </thead>\n",
       "  <tbody>\n",
       "    <tr>\n",
       "      <th>3427.0</th>\n",
       "      <td>13</td>\n",
       "    </tr>\n",
       "    <tr>\n",
       "      <th>4358.0</th>\n",
       "      <td>2</td>\n",
       "    </tr>\n",
       "    <tr>\n",
       "      <th>120287.0</th>\n",
       "      <td>2</td>\n",
       "    </tr>\n",
       "    <tr>\n",
       "      <th>156713.0</th>\n",
       "      <td>3</td>\n",
       "    </tr>\n",
       "    <tr>\n",
       "      <th>251333.0</th>\n",
       "      <td>8</td>\n",
       "    </tr>\n",
       "  </tbody>\n",
       "</table>\n",
       "</div>"
      ],
      "text/plain": [
       "           x\n",
       "user_id     \n",
       "3427.0    13\n",
       "4358.0     2\n",
       "120287.0   2\n",
       "156713.0   3\n",
       "251333.0   8"
      ]
     },
     "execution_count": 11,
     "metadata": {},
     "output_type": "execute_result"
    }
   ],
   "source": [
    "# how many marks per user\n",
    "df_merged_dataset[[\"user_id\", \"x\"]].groupby(\"user_id\").count().head()"
   ]
  },
  {
   "cell_type": "markdown",
   "id": "9dc998338a68bf87",
   "metadata": {
    "collapsed": false,
    "jupyter": {
     "outputs_hidden": false
    }
   },
   "source": [
    "### gold standard data\n",
    "For reference"
   ]
  },
  {
   "cell_type": "code",
   "execution_count": 12,
   "id": "5a66cdb1915a11ef",
   "metadata": {
    "ExecuteTime": {
     "end_time": "2024-03-07T12:08:18.517513Z",
     "start_time": "2024-03-07T12:08:18.498486Z"
    },
    "collapsed": false,
    "jupyter": {
     "outputs_hidden": false
    }
   },
   "outputs": [
    {
     "data": {
      "text/html": [
       "<div>\n",
       "<style scoped>\n",
       "    .dataframe tbody tr th:only-of-type {\n",
       "        vertical-align: middle;\n",
       "    }\n",
       "\n",
       "    .dataframe tbody tr th {\n",
       "        vertical-align: top;\n",
       "    }\n",
       "\n",
       "    .dataframe thead th {\n",
       "        text-align: right;\n",
       "    }\n",
       "</style>\n",
       "<table border=\"1\" class=\"dataframe\">\n",
       "  <thead>\n",
       "    <tr style=\"text-align: right;\">\n",
       "      <th></th>\n",
       "      <th>subspecies</th>\n",
       "      <th>island</th>\n",
       "      <th>site_name</th>\n",
       "      <th>subject_group</th>\n",
       "      <th>image_name</th>\n",
       "      <th>subject_id</th>\n",
       "      <th>presence_absence</th>\n",
       "      <th>count_male-lek</th>\n",
       "      <th>count_male-no-lek</th>\n",
       "      <th>count_others</th>\n",
       "      <th>count_partial</th>\n",
       "      <th>count_total</th>\n",
       "      <th>quality</th>\n",
       "      <th>condition</th>\n",
       "      <th>comment</th>\n",
       "    </tr>\n",
       "  </thead>\n",
       "  <tbody>\n",
       "  </tbody>\n",
       "</table>\n",
       "</div>"
      ],
      "text/plain": [
       "Empty DataFrame\n",
       "Columns: [subspecies, island, site_name, subject_group, image_name, subject_id, presence_absence, count_male-lek, count_male-no-lek, count_others, count_partial, count_total, quality, condition, comment]\n",
       "Index: []"
      ]
     },
     "execution_count": 12,
     "metadata": {},
     "output_type": "execute_result"
    }
   ],
   "source": [
    "df_goldstandard_expert_count[df_goldstandard_expert_count[\"image_name\"].isin([\"SFM01-2-2-2_282.jpg\", \"SFM01-2-2-2_323.jpg\"])]"
   ]
  },
  {
   "cell_type": "code",
   "execution_count": 13,
   "id": "923dec4d89d5a71c",
   "metadata": {
    "ExecuteTime": {
     "end_time": "2024-03-07T12:08:18.534938Z",
     "start_time": "2024-03-07T12:08:18.518287Z"
    },
    "collapsed": false,
    "jupyter": {
     "outputs_hidden": false
    }
   },
   "outputs": [
    {
     "data": {
      "text/plain": [
       "388"
      ]
     },
     "execution_count": 13,
     "metadata": {},
     "output_type": "execute_result"
    }
   ],
   "source": [
    "df_goldstandard_expert_count.count_total.sum()"
   ]
  },
  {
   "cell_type": "code",
   "execution_count": 14,
   "id": "ba06d92f5be8c77",
   "metadata": {
    "ExecuteTime": {
     "end_time": "2024-03-07T12:08:18.553412Z",
     "start_time": "2024-03-07T12:08:18.535667Z"
    },
    "collapsed": false,
    "jupyter": {
     "outputs_hidden": false
    }
   },
   "outputs": [
    {
     "data": {
      "text/plain": [
       "subspecies           1156\n",
       "island               1156\n",
       "site_name            1156\n",
       "subject_group        1156\n",
       "image_name           1156\n",
       "subject_id           1156\n",
       "presence_absence     1156\n",
       "count_male-lek       1156\n",
       "count_male-no-lek    1156\n",
       "count_others         1156\n",
       "count_partial        1156\n",
       "count_total          1156\n",
       "quality               117\n",
       "condition             116\n",
       "comment                21\n",
       "dtype: int64"
      ]
     },
     "execution_count": 14,
     "metadata": {},
     "output_type": "execute_result"
    }
   ],
   "source": [
    "# look at the\n",
    "df_goldstandard_expert_count.count()"
   ]
  },
  {
   "cell_type": "code",
   "execution_count": 15,
   "id": "37307d154c5e9fb3",
   "metadata": {
    "ExecuteTime": {
     "end_time": "2024-03-07T12:08:18.574820Z",
     "start_time": "2024-03-07T12:08:18.554244Z"
    },
    "collapsed": false,
    "jupyter": {
     "outputs_hidden": false
    }
   },
   "outputs": [
    {
     "name": "stdout",
     "output_type": "stream",
     "text": [
      "filtering the zooniverse classifications dataset for gold standard images the count_total of iguanas is: 351, but it should be 388\n"
     ]
    },
    {
     "data": {
      "text/html": [
       "<div>\n",
       "<style scoped>\n",
       "    .dataframe tbody tr th:only-of-type {\n",
       "        vertical-align: middle;\n",
       "    }\n",
       "\n",
       "    .dataframe tbody tr th {\n",
       "        vertical-align: top;\n",
       "    }\n",
       "\n",
       "    .dataframe thead th {\n",
       "        text-align: right;\n",
       "    }\n",
       "</style>\n",
       "<table border=\"1\" class=\"dataframe\">\n",
       "  <thead>\n",
       "    <tr style=\"text-align: right;\">\n",
       "      <th></th>\n",
       "      <th>subspecies</th>\n",
       "      <th>island</th>\n",
       "      <th>site_name</th>\n",
       "      <th>subject_group</th>\n",
       "      <th>image_name</th>\n",
       "      <th>subject_id</th>\n",
       "      <th>presence_absence</th>\n",
       "      <th>count_male-lek</th>\n",
       "      <th>count_male-no-lek</th>\n",
       "      <th>count_others</th>\n",
       "      <th>count_partial</th>\n",
       "      <th>count_total</th>\n",
       "      <th>quality</th>\n",
       "      <th>condition</th>\n",
       "      <th>comment</th>\n",
       "    </tr>\n",
       "  </thead>\n",
       "  <tbody>\n",
       "    <tr>\n",
       "      <th>22</th>\n",
       "      <td>A. c. hayampi</td>\n",
       "      <td>Marchena</td>\n",
       "      <td>BahiaNegra</td>\n",
       "      <td>MBN1</td>\n",
       "      <td>MBN04-2_182.jpg</td>\n",
       "      <td>78926344</td>\n",
       "      <td>N</td>\n",
       "      <td>0</td>\n",
       "      <td>0</td>\n",
       "      <td>0</td>\n",
       "      <td>0</td>\n",
       "      <td>0</td>\n",
       "      <td>NaN</td>\n",
       "      <td>NaN</td>\n",
       "      <td>NaN</td>\n",
       "    </tr>\n",
       "    <tr>\n",
       "      <th>100</th>\n",
       "      <td>A. c. hayampi</td>\n",
       "      <td>Marchena</td>\n",
       "      <td>BahiaNegraD</td>\n",
       "      <td>MBBD1</td>\n",
       "      <td>MBBD02-2_248.jpg</td>\n",
       "      <td>78928708</td>\n",
       "      <td>Y</td>\n",
       "      <td>0</td>\n",
       "      <td>1</td>\n",
       "      <td>1</td>\n",
       "      <td>0</td>\n",
       "      <td>2</td>\n",
       "      <td>Good</td>\n",
       "      <td>NaN</td>\n",
       "      <td>NaN</td>\n",
       "    </tr>\n",
       "    <tr>\n",
       "      <th>208</th>\n",
       "      <td>A. c. sielmanni</td>\n",
       "      <td>Pinta</td>\n",
       "      <td>CaboIbebetson</td>\n",
       "      <td>PCI</td>\n",
       "      <td>PCI01-2_111.jpg</td>\n",
       "      <td>78938221</td>\n",
       "      <td>Y</td>\n",
       "      <td>1</td>\n",
       "      <td>0</td>\n",
       "      <td>3</td>\n",
       "      <td>0</td>\n",
       "      <td>4</td>\n",
       "      <td>Good</td>\n",
       "      <td>Visible</td>\n",
       "      <td>NaN</td>\n",
       "    </tr>\n",
       "    <tr>\n",
       "      <th>238</th>\n",
       "      <td>A. c. sielmanni</td>\n",
       "      <td>Pinta</td>\n",
       "      <td>CaboIbebetson</td>\n",
       "      <td>PCI</td>\n",
       "      <td>PCI02-1_92.jpg</td>\n",
       "      <td>78938603</td>\n",
       "      <td>Y</td>\n",
       "      <td>0</td>\n",
       "      <td>1</td>\n",
       "      <td>0</td>\n",
       "      <td>0</td>\n",
       "      <td>1</td>\n",
       "      <td>Good</td>\n",
       "      <td>Visible</td>\n",
       "      <td>NaN</td>\n",
       "    </tr>\n",
       "    <tr>\n",
       "      <th>274</th>\n",
       "      <td>A. c. sielmanni</td>\n",
       "      <td>Pinta</td>\n",
       "      <td>CaboIbebetsonC</td>\n",
       "      <td>PCIC</td>\n",
       "      <td>PCIC01-1_113.jpg</td>\n",
       "      <td>78938992</td>\n",
       "      <td>Y</td>\n",
       "      <td>0</td>\n",
       "      <td>0</td>\n",
       "      <td>2</td>\n",
       "      <td>0</td>\n",
       "      <td>2</td>\n",
       "      <td>Good</td>\n",
       "      <td>Hard</td>\n",
       "      <td>NaN</td>\n",
       "    </tr>\n",
       "    <tr>\n",
       "      <th>...</th>\n",
       "      <td>...</td>\n",
       "      <td>...</td>\n",
       "      <td>...</td>\n",
       "      <td>...</td>\n",
       "      <td>...</td>\n",
       "      <td>...</td>\n",
       "      <td>...</td>\n",
       "      <td>...</td>\n",
       "      <td>...</td>\n",
       "      <td>...</td>\n",
       "      <td>...</td>\n",
       "      <td>...</td>\n",
       "      <td>...</td>\n",
       "      <td>...</td>\n",
       "      <td>...</td>\n",
       "    </tr>\n",
       "    <tr>\n",
       "      <th>1131</th>\n",
       "      <td>A. c. nanus</td>\n",
       "      <td>Genovesa</td>\n",
       "      <td>WestCoastB</td>\n",
       "      <td>GWB</td>\n",
       "      <td>GWB01-2_300.jpg</td>\n",
       "      <td>78925388</td>\n",
       "      <td>Y</td>\n",
       "      <td>0</td>\n",
       "      <td>0</td>\n",
       "      <td>1</td>\n",
       "      <td>0</td>\n",
       "      <td>1</td>\n",
       "      <td>Good</td>\n",
       "      <td>Visible</td>\n",
       "      <td>NaN</td>\n",
       "    </tr>\n",
       "    <tr>\n",
       "      <th>1135</th>\n",
       "      <td>A. c. nanus</td>\n",
       "      <td>Genovesa</td>\n",
       "      <td>WestCoastB</td>\n",
       "      <td>GWB</td>\n",
       "      <td>GWB01-2_421.jpg</td>\n",
       "      <td>78925457</td>\n",
       "      <td>Y</td>\n",
       "      <td>0</td>\n",
       "      <td>0</td>\n",
       "      <td>1</td>\n",
       "      <td>0</td>\n",
       "      <td>1</td>\n",
       "      <td>Good</td>\n",
       "      <td>Visible</td>\n",
       "      <td>NaN</td>\n",
       "    </tr>\n",
       "    <tr>\n",
       "      <th>1136</th>\n",
       "      <td>A. c. nanus</td>\n",
       "      <td>Genovesa</td>\n",
       "      <td>WestCoastB</td>\n",
       "      <td>GWB</td>\n",
       "      <td>GWB01-2_430.jpg</td>\n",
       "      <td>78925467</td>\n",
       "      <td>Y</td>\n",
       "      <td>0</td>\n",
       "      <td>0</td>\n",
       "      <td>1</td>\n",
       "      <td>0</td>\n",
       "      <td>1</td>\n",
       "      <td>Good</td>\n",
       "      <td>Visible</td>\n",
       "      <td>NaN</td>\n",
       "    </tr>\n",
       "    <tr>\n",
       "      <th>1144</th>\n",
       "      <td>A. c. nanus</td>\n",
       "      <td>Genovesa</td>\n",
       "      <td>WestCoastB</td>\n",
       "      <td>GWB</td>\n",
       "      <td>GWB01-3_12.jpg</td>\n",
       "      <td>78925536</td>\n",
       "      <td>Y</td>\n",
       "      <td>0</td>\n",
       "      <td>0</td>\n",
       "      <td>1</td>\n",
       "      <td>0</td>\n",
       "      <td>1</td>\n",
       "      <td>Good</td>\n",
       "      <td>Visible</td>\n",
       "      <td>NaN</td>\n",
       "    </tr>\n",
       "    <tr>\n",
       "      <th>1146</th>\n",
       "      <td>A. c. nanus</td>\n",
       "      <td>Genovesa</td>\n",
       "      <td>WestCoastB</td>\n",
       "      <td>GWB</td>\n",
       "      <td>GWB01-3_152.jpg</td>\n",
       "      <td>78925551</td>\n",
       "      <td>Y</td>\n",
       "      <td>0</td>\n",
       "      <td>0</td>\n",
       "      <td>2</td>\n",
       "      <td>0</td>\n",
       "      <td>2</td>\n",
       "      <td>Good</td>\n",
       "      <td>Hard</td>\n",
       "      <td>NaN</td>\n",
       "    </tr>\n",
       "  </tbody>\n",
       "</table>\n",
       "<p>87 rows × 15 columns</p>\n",
       "</div>"
      ],
      "text/plain": [
       "           subspecies    island       site_name subject_group  \\\n",
       "22      A. c. hayampi  Marchena      BahiaNegra          MBN1   \n",
       "100     A. c. hayampi  Marchena     BahiaNegraD         MBBD1   \n",
       "208   A. c. sielmanni     Pinta   CaboIbebetson           PCI   \n",
       "238   A. c. sielmanni     Pinta   CaboIbebetson           PCI   \n",
       "274   A. c. sielmanni     Pinta  CaboIbebetsonC          PCIC   \n",
       "...               ...       ...             ...           ...   \n",
       "1131      A. c. nanus  Genovesa      WestCoastB           GWB   \n",
       "1135      A. c. nanus  Genovesa      WestCoastB           GWB   \n",
       "1136      A. c. nanus  Genovesa      WestCoastB           GWB   \n",
       "1144      A. c. nanus  Genovesa      WestCoastB           GWB   \n",
       "1146      A. c. nanus  Genovesa      WestCoastB           GWB   \n",
       "\n",
       "            image_name  subject_id presence_absence  count_male-lek  \\\n",
       "22     MBN04-2_182.jpg    78926344                N               0   \n",
       "100   MBBD02-2_248.jpg    78928708                Y               0   \n",
       "208    PCI01-2_111.jpg    78938221                Y               1   \n",
       "238     PCI02-1_92.jpg    78938603                Y               0   \n",
       "274   PCIC01-1_113.jpg    78938992                Y               0   \n",
       "...                ...         ...              ...             ...   \n",
       "1131   GWB01-2_300.jpg    78925388                Y               0   \n",
       "1135   GWB01-2_421.jpg    78925457                Y               0   \n",
       "1136   GWB01-2_430.jpg    78925467                Y               0   \n",
       "1144    GWB01-3_12.jpg    78925536                Y               0   \n",
       "1146   GWB01-3_152.jpg    78925551                Y               0   \n",
       "\n",
       "      count_male-no-lek  count_others  count_partial  count_total quality  \\\n",
       "22                    0             0              0            0     NaN   \n",
       "100                   1             1              0            2    Good   \n",
       "208                   0             3              0            4    Good   \n",
       "238                   1             0              0            1    Good   \n",
       "274                   0             2              0            2    Good   \n",
       "...                 ...           ...            ...          ...     ...   \n",
       "1131                  0             1              0            1    Good   \n",
       "1135                  0             1              0            1    Good   \n",
       "1136                  0             1              0            1    Good   \n",
       "1144                  0             1              0            1    Good   \n",
       "1146                  0             2              0            2    Good   \n",
       "\n",
       "     condition comment  \n",
       "22         NaN     NaN  \n",
       "100        NaN     NaN  \n",
       "208    Visible     NaN  \n",
       "238    Visible     NaN  \n",
       "274       Hard     NaN  \n",
       "...        ...     ...  \n",
       "1131   Visible     NaN  \n",
       "1135   Visible     NaN  \n",
       "1136   Visible     NaN  \n",
       "1144   Visible     NaN  \n",
       "1146      Hard     NaN  \n",
       "\n",
       "[87 rows x 15 columns]"
      ]
     },
     "execution_count": 15,
     "metadata": {},
     "output_type": "execute_result"
    }
   ],
   "source": [
    "fsum = df_goldstandard_expert_count[\n",
    "    df_goldstandard_expert_count.image_name.isin(df_merged_dataset.image_name.unique())]\n",
    "\n",
    "print(f\"filtering the zooniverse classifications dataset for gold standard images the count_total of iguanas is: {fsum.count_total.sum()}, but it should be {df_goldstandard_expert_count.count_total.sum()}\")\n",
    "fsum\n"
   ]
  },
  {
   "cell_type": "code",
   "execution_count": 16,
   "id": "15820bdd2650de9f",
   "metadata": {
    "ExecuteTime": {
     "end_time": "2024-03-07T12:08:18.593053Z",
     "start_time": "2024-03-07T12:08:18.575666Z"
    },
    "collapsed": false,
    "jupyter": {
     "outputs_hidden": false
    }
   },
   "outputs": [
    {
     "data": {
      "text/plain": [
       "87"
      ]
     },
     "execution_count": 16,
     "metadata": {},
     "output_type": "execute_result"
    }
   ],
   "source": [
    "# How many images are left in the zooniverse dataset?\n",
    "len(list(df_merged_dataset.image_name.unique()))"
   ]
  },
  {
   "cell_type": "code",
   "execution_count": 17,
   "id": "80c69a368a3883da",
   "metadata": {
    "ExecuteTime": {
     "end_time": "2024-03-07T12:08:18.611430Z",
     "start_time": "2024-03-07T12:08:18.594209Z"
    },
    "collapsed": false,
    "jupyter": {
     "outputs_hidden": false
    }
   },
   "outputs": [
    {
     "data": {
      "text/plain": [
       "388"
      ]
     },
     "execution_count": 17,
     "metadata": {},
     "output_type": "execute_result"
    }
   ],
   "source": [
    "#Is there an image in the goldstandard, which is not in the classifcations?\n",
    "len(set(df_goldstandard_expert_count.subject_id) - set(df_merged_dataset.subject_id.unique()))\n",
    "\n",
    "\n",
    "df_goldstandard_expert_count.count_total.sum()\n",
    "# df_merged_dataset[df_merged_dataset.image_name.isin([\"SRL01-1-2_105.jpg\"])]"
   ]
  },
  {
   "cell_type": "code",
   "execution_count": 18,
   "id": "bedda8c037074548",
   "metadata": {
    "ExecuteTime": {
     "end_time": "2024-03-07T12:08:18.630278Z",
     "start_time": "2024-03-07T12:08:18.612120Z"
    },
    "collapsed": false,
    "jupyter": {
     "outputs_hidden": false
    }
   },
   "outputs": [
    {
     "data": {
      "text/html": [
       "<div>\n",
       "<style scoped>\n",
       "    .dataframe tbody tr th:only-of-type {\n",
       "        vertical-align: middle;\n",
       "    }\n",
       "\n",
       "    .dataframe tbody tr th {\n",
       "        vertical-align: top;\n",
       "    }\n",
       "\n",
       "    .dataframe thead th {\n",
       "        text-align: right;\n",
       "    }\n",
       "</style>\n",
       "<table border=\"1\" class=\"dataframe\">\n",
       "  <thead>\n",
       "    <tr style=\"text-align: right;\">\n",
       "      <th></th>\n",
       "      <th>subspecies</th>\n",
       "      <th>island</th>\n",
       "      <th>site_name</th>\n",
       "      <th>subject_group</th>\n",
       "      <th>image_name</th>\n",
       "      <th>subject_id</th>\n",
       "      <th>presence_absence</th>\n",
       "      <th>count_male-lek</th>\n",
       "      <th>count_male-no-lek</th>\n",
       "      <th>count_others</th>\n",
       "      <th>count_partial</th>\n",
       "      <th>count_total</th>\n",
       "      <th>quality</th>\n",
       "      <th>condition</th>\n",
       "      <th>comment</th>\n",
       "    </tr>\n",
       "  </thead>\n",
       "  <tbody>\n",
       "  </tbody>\n",
       "</table>\n",
       "</div>"
      ],
      "text/plain": [
       "Empty DataFrame\n",
       "Columns: [subspecies, island, site_name, subject_group, image_name, subject_id, presence_absence, count_male-lek, count_male-no-lek, count_others, count_partial, count_total, quality, condition, comment]\n",
       "Index: []"
      ]
     },
     "execution_count": 18,
     "metadata": {},
     "output_type": "execute_result"
    }
   ],
   "source": [
    "df_goldstandard_expert_count[df_goldstandard_expert_count.image_name.isin([\"SRL01-1-2_105.jpg\"])]"
   ]
  },
  {
   "cell_type": "code",
   "execution_count": 19,
   "id": "d3e71d55c33f40a1",
   "metadata": {
    "ExecuteTime": {
     "end_time": "2024-03-07T12:08:18.651519Z",
     "start_time": "2024-03-07T12:08:18.630973Z"
    },
    "collapsed": false,
    "jupyter": {
     "outputs_hidden": false
    }
   },
   "outputs": [
    {
     "data": {
      "text/html": [
       "<div>\n",
       "<style scoped>\n",
       "    .dataframe tbody tr th:only-of-type {\n",
       "        vertical-align: middle;\n",
       "    }\n",
       "\n",
       "    .dataframe tbody tr th {\n",
       "        vertical-align: top;\n",
       "    }\n",
       "\n",
       "    .dataframe thead th {\n",
       "        text-align: right;\n",
       "    }\n",
       "</style>\n",
       "<table border=\"1\" class=\"dataframe\">\n",
       "  <thead>\n",
       "    <tr style=\"text-align: right;\">\n",
       "      <th></th>\n",
       "      <th>subject_id</th>\n",
       "      <th>Median0s</th>\n",
       "      <th>Mean0s</th>\n",
       "      <th>Max0s</th>\n",
       "      <th>Std0s</th>\n",
       "      <th>Median0s.r</th>\n",
       "      <th>Mean0s.r</th>\n",
       "      <th>Mode0s</th>\n",
       "    </tr>\n",
       "  </thead>\n",
       "  <tbody>\n",
       "    <tr>\n",
       "      <th>0</th>\n",
       "      <td>78922029</td>\n",
       "      <td>2.0</td>\n",
       "      <td>1.928571</td>\n",
       "      <td>5</td>\n",
       "      <td>0.997249</td>\n",
       "      <td>2</td>\n",
       "      <td>2</td>\n",
       "      <td>2</td>\n",
       "    </tr>\n",
       "    <tr>\n",
       "      <th>1</th>\n",
       "      <td>78922093</td>\n",
       "      <td>9.0</td>\n",
       "      <td>11.500000</td>\n",
       "      <td>32</td>\n",
       "      <td>10.406729</td>\n",
       "      <td>9</td>\n",
       "      <td>12</td>\n",
       "      <td>9</td>\n",
       "    </tr>\n",
       "    <tr>\n",
       "      <th>2</th>\n",
       "      <td>78922433</td>\n",
       "      <td>1.0</td>\n",
       "      <td>1.000000</td>\n",
       "      <td>1</td>\n",
       "      <td>0.000000</td>\n",
       "      <td>1</td>\n",
       "      <td>1</td>\n",
       "      <td>1</td>\n",
       "    </tr>\n",
       "    <tr>\n",
       "      <th>3</th>\n",
       "      <td>78922625</td>\n",
       "      <td>1.0</td>\n",
       "      <td>1.095238</td>\n",
       "      <td>3</td>\n",
       "      <td>0.436436</td>\n",
       "      <td>1</td>\n",
       "      <td>1</td>\n",
       "      <td>1</td>\n",
       "    </tr>\n",
       "    <tr>\n",
       "      <th>4</th>\n",
       "      <td>78924089</td>\n",
       "      <td>2.0</td>\n",
       "      <td>1.750000</td>\n",
       "      <td>2</td>\n",
       "      <td>0.462910</td>\n",
       "      <td>2</td>\n",
       "      <td>2</td>\n",
       "      <td>2</td>\n",
       "    </tr>\n",
       "    <tr>\n",
       "      <th>...</th>\n",
       "      <td>...</td>\n",
       "      <td>...</td>\n",
       "      <td>...</td>\n",
       "      <td>...</td>\n",
       "      <td>...</td>\n",
       "      <td>...</td>\n",
       "      <td>...</td>\n",
       "      <td>...</td>\n",
       "    </tr>\n",
       "    <tr>\n",
       "      <th>82</th>\n",
       "      <td>78965032</td>\n",
       "      <td>2.0</td>\n",
       "      <td>1.964286</td>\n",
       "      <td>4</td>\n",
       "      <td>0.881167</td>\n",
       "      <td>2</td>\n",
       "      <td>2</td>\n",
       "      <td>2</td>\n",
       "    </tr>\n",
       "    <tr>\n",
       "      <th>83</th>\n",
       "      <td>78965058</td>\n",
       "      <td>5.0</td>\n",
       "      <td>5.620690</td>\n",
       "      <td>12</td>\n",
       "      <td>1.449478</td>\n",
       "      <td>5</td>\n",
       "      <td>6</td>\n",
       "      <td>5</td>\n",
       "    </tr>\n",
       "    <tr>\n",
       "      <th>84</th>\n",
       "      <td>78965066</td>\n",
       "      <td>2.0</td>\n",
       "      <td>2.272727</td>\n",
       "      <td>4</td>\n",
       "      <td>0.631085</td>\n",
       "      <td>2</td>\n",
       "      <td>2</td>\n",
       "      <td>2</td>\n",
       "    </tr>\n",
       "    <tr>\n",
       "      <th>85</th>\n",
       "      <td>78965103</td>\n",
       "      <td>7.0</td>\n",
       "      <td>7.464286</td>\n",
       "      <td>13</td>\n",
       "      <td>2.411118</td>\n",
       "      <td>7</td>\n",
       "      <td>7</td>\n",
       "      <td>5</td>\n",
       "    </tr>\n",
       "    <tr>\n",
       "      <th>86</th>\n",
       "      <td>78965135</td>\n",
       "      <td>4.0</td>\n",
       "      <td>6.000000</td>\n",
       "      <td>20</td>\n",
       "      <td>5.522681</td>\n",
       "      <td>4</td>\n",
       "      <td>6</td>\n",
       "      <td>1</td>\n",
       "    </tr>\n",
       "  </tbody>\n",
       "</table>\n",
       "<p>87 rows × 8 columns</p>\n",
       "</div>"
      ],
      "text/plain": [
       "    subject_id  Median0s     Mean0s  Max0s      Std0s  Median0s.r  Mean0s.r  \\\n",
       "0     78922029       2.0   1.928571      5   0.997249           2         2   \n",
       "1     78922093       9.0  11.500000     32  10.406729           9        12   \n",
       "2     78922433       1.0   1.000000      1   0.000000           1         1   \n",
       "3     78922625       1.0   1.095238      3   0.436436           1         1   \n",
       "4     78924089       2.0   1.750000      2   0.462910           2         2   \n",
       "..         ...       ...        ...    ...        ...         ...       ...   \n",
       "82    78965032       2.0   1.964286      4   0.881167           2         2   \n",
       "83    78965058       5.0   5.620690     12   1.449478           5         6   \n",
       "84    78965066       2.0   2.272727      4   0.631085           2         2   \n",
       "85    78965103       7.0   7.464286     13   2.411118           7         7   \n",
       "86    78965135       4.0   6.000000     20   5.522681           4         6   \n",
       "\n",
       "    Mode0s  \n",
       "0        2  \n",
       "1        9  \n",
       "2        1  \n",
       "3        1  \n",
       "4        2  \n",
       "..     ...  \n",
       "82       2  \n",
       "83       5  \n",
       "84       2  \n",
       "85       5  \n",
       "86       1  \n",
       "\n",
       "[87 rows x 8 columns]"
      ]
     },
     "execution_count": 19,
     "metadata": {},
     "output_type": "execute_result"
    }
   ],
   "source": [
    "T2_GS_results_5th_0s = pd.read_csv(config[\"gold_standard_image_subset\"], sep=\";\")\n",
    "T2_GS_results_5th_0s"
   ]
  },
  {
   "cell_type": "markdown",
   "id": "9b226a6c6cb43f88",
   "metadata": {
    "collapsed": false,
    "jupyter": {
     "outputs_hidden": false
    }
   },
   "source": [
    "## The gold standard vs. the expert count"
   ]
  },
  {
   "cell_type": "code",
   "execution_count": 20,
   "id": "99ee5f368383aca0",
   "metadata": {
    "ExecuteTime": {
     "end_time": "2024-03-07T12:08:18.668754Z",
     "start_time": "2024-03-07T12:08:18.652351Z"
    },
    "collapsed": false,
    "jupyter": {
     "outputs_hidden": false
    }
   },
   "outputs": [
    {
     "name": "stdout",
     "output_type": "stream",
     "text": [
      "If the expert count (/Users/christian/data/zooniverse/Images/Zooniverse_Goldstandard_images/expert-GS-3rdphase_renamed.csv)  is filtered for the subject ids in /Users/christian/data/zooniverse/Images/Zooniverse_Goldstandard_images/3-T2-GS-results-5th-0s.csv the count_total is 351 iguanas\n"
     ]
    }
   ],
   "source": [
    "# Double checking for the counts\n",
    "gstd_5th = df_goldstandard_expert_count[df_goldstandard_expert_count.subject_id.isin(T2_GS_results_5th_0s.subject_id)].count_total.sum()\n",
    "print(f\"If the expert count ({config['goldstandard_data']})  is filtered for the subject ids in {config['gold_standard_image_subset']} the count_total is {gstd_5th} iguanas\")"
   ]
  },
  {
   "cell_type": "code",
   "execution_count": 21,
   "id": "770391321772ab07",
   "metadata": {
    "ExecuteTime": {
     "end_time": "2024-03-07T12:08:18.685587Z",
     "start_time": "2024-03-07T12:08:18.669509Z"
    },
    "collapsed": false,
    "jupyter": {
     "outputs_hidden": false
    }
   },
   "outputs": [
    {
     "data": {
      "text/plain": [
       "388"
      ]
     },
     "execution_count": 21,
     "metadata": {},
     "output_type": "execute_result"
    }
   ],
   "source": [
    "len(set(T2_GS_results_5th_0s.subject_id.unique()) - set(df_goldstandard_expert_count.subject_id))\n",
    "df_goldstandard_expert_count[\"count_total\"].sum()"
   ]
  },
  {
   "cell_type": "markdown",
   "id": "727513d12334665b",
   "metadata": {
    "collapsed": false,
    "jupyter": {
     "outputs_hidden": false
    }
   },
   "source": []
  },
  {
   "cell_type": "code",
   "execution_count": 22,
   "id": "a32dd3d78eb25d4a",
   "metadata": {
    "ExecuteTime": {
     "end_time": "2024-03-07T12:08:18.702921Z",
     "start_time": "2024-03-07T12:08:18.686275Z"
    },
    "collapsed": false,
    "jupyter": {
     "outputs_hidden": false
    }
   },
   "outputs": [
    {
     "data": {
      "text/plain": [
       "87"
      ]
     },
     "execution_count": 22,
     "metadata": {},
     "output_type": "execute_result"
    }
   ],
   "source": [
    "df_merged_dataset[\"subject_id\"].nunique()"
   ]
  },
  {
   "cell_type": "code",
   "execution_count": 23,
   "id": "c03a341c4a050cc7",
   "metadata": {
    "ExecuteTime": {
     "end_time": "2024-03-07T12:08:18.721712Z",
     "start_time": "2024-03-07T12:08:18.703647Z"
    },
    "collapsed": false,
    "jupyter": {
     "outputs_hidden": false
    }
   },
   "outputs": [
    {
     "data": {
      "text/plain": [
       "351"
      ]
     },
     "execution_count": 23,
     "metadata": {},
     "output_type": "execute_result"
    }
   ],
   "source": [
    "\n",
    "df_goldstandard_expert_count = df_goldstandard_expert_count[\n",
    "    df_goldstandard_expert_count.subject_id.isin(df_merged_dataset.subject_id.unique())]\n",
    "df_goldstandard_expert_count = df_goldstandard_expert_count[[\"image_name\", \"subject_id\", \"count_total\"]]\n",
    "\n",
    "df_goldstandard_expert_count[\"count_total\"].sum()"
   ]
  },
  {
   "cell_type": "code",
   "execution_count": 24,
   "id": "e81f8736a91d6771",
   "metadata": {
    "ExecuteTime": {
     "end_time": "2024-03-07T12:08:18.740559Z",
     "start_time": "2024-03-07T12:08:18.722348Z"
    },
    "collapsed": false,
    "jupyter": {
     "outputs_hidden": false
    }
   },
   "outputs": [],
   "source": [
    "## plot some of the marks\n",
    "from zooniverse.utils.plotting import plot_zooniverse_user_marks_v2\n",
    "# FMO03-1_65\n",
    "# EIG05-1_83.jpg # phase \n",
    "# MBN04-2_182.jpg # phase 3\n",
    "# df_merged_dataset_filtered = df_merged_dataset[df_merged_dataset.image_name.isin([\"ESCG02-1_19.jpg\"])]\n",
    "if phase_tag in[\"Iguanas 1st launch\", \"Iguanas 2nd launch\"]  and  ( plot_diagrams or show_plots ) :\n",
    "    for image_name, df_image_name in df_merged_dataset.groupby(\"image_name\"):\n",
    "        \n",
    "        ## plot the marks\n",
    "        markers_plot_path = plot_zooniverse_user_marks_v2(df_image_name,\n",
    "                                                          image_path=df_image_name.iloc[0][\"image_path\"],\n",
    "                                                          image_name=image_name,\n",
    "                                                          output_path=output_plot_path, show=show_plots, title=f\"Markers for {image_name}\", fig_size=(5,5))\n",
    "        "
   ]
  },
  {
   "cell_type": "markdown",
   "id": "42c2737f2c06741d",
   "metadata": {
    "collapsed": false,
    "jupyter": {
     "outputs_hidden": false
    }
   },
   "source": [
    "## Clustering"
   ]
  },
  {
   "cell_type": "markdown",
   "id": "beefdd1511daad4",
   "metadata": {
    "collapsed": false,
    "jupyter": {
     "outputs_hidden": false
    }
   },
   "source": [
    "### Basic Statics like mean, median, mode"
   ]
  },
  {
   "cell_type": "code",
   "execution_count": 25,
   "id": "998d62019f01a2ec",
   "metadata": {
    "ExecuteTime": {
     "end_time": "2024-03-07T12:08:18.780921Z",
     "start_time": "2024-03-07T12:08:18.741693Z"
    },
    "collapsed": false,
    "jupyter": {
     "outputs_hidden": false
    }
   },
   "outputs": [
    {
     "data": {
      "text/plain": [
       "351"
      ]
     },
     "execution_count": 25,
     "metadata": {},
     "output_type": "execute_result"
    }
   ],
   "source": [
    "from sklearn.metrics import mean_squared_error\n",
    "from zooniverse.analysis import kmeans_knee, get_mark_overview\n",
    "\n",
    "basic_stats = []\n",
    "kmeans_knee_stats = []\n",
    "kmeans_silouettes = []\n",
    "mse_errors = {}\n",
    "\n",
    "\n",
    "for image_name, df_image_name in df_merged_dataset.groupby(\"image_name\"):\n",
    "    annotations_count = get_mark_overview(df_image_name)\n",
    "\n",
    "\n",
    "    annotations_count_stats = get_annotation_count_stats(annotations_count=annotations_count,\n",
    "                                                         image_name=df_image_name.iloc[0][\"image_name\"])\n",
    "\n",
    "\n",
    "    ### basic statistics like mean, median\n",
    "    basic_stats.append(annotations_count_stats)\n",
    "    \n",
    "\n",
    "df_basic_stats = pd.DataFrame(basic_stats)    \n",
    "\n",
    "df_comparison = df_goldstandard_expert_count.merge(df_basic_stats, on='image_name', how='left')\n",
    "\n",
    "df_comparison[\"count_total\"].sum()\n",
    "df_goldstandard_expert_count[\"count_total\"].sum()"
   ]
  },
  {
   "cell_type": "code",
   "execution_count": 26,
   "id": "d3dc86009d813ff0",
   "metadata": {
    "ExecuteTime": {
     "end_time": "2024-03-07T12:08:18.800847Z",
     "start_time": "2024-03-07T12:08:18.781919Z"
    },
    "collapsed": false,
    "jupyter": {
     "outputs_hidden": false
    }
   },
   "outputs": [
    {
     "data": {
      "text/html": [
       "<div>\n",
       "<style scoped>\n",
       "    .dataframe tbody tr th:only-of-type {\n",
       "        vertical-align: middle;\n",
       "    }\n",
       "\n",
       "    .dataframe tbody tr th {\n",
       "        vertical-align: top;\n",
       "    }\n",
       "\n",
       "    .dataframe thead th {\n",
       "        text-align: right;\n",
       "    }\n",
       "</style>\n",
       "<table border=\"1\" class=\"dataframe\">\n",
       "  <thead>\n",
       "    <tr style=\"text-align: right;\">\n",
       "      <th></th>\n",
       "      <th>image_name</th>\n",
       "      <th>subject_id</th>\n",
       "      <th>count_total</th>\n",
       "      <th>median_count</th>\n",
       "      <th>mean_count</th>\n",
       "      <th>mode_count</th>\n",
       "      <th>users</th>\n",
       "      <th>sum_annotations_count</th>\n",
       "      <th>annotations_count</th>\n",
       "    </tr>\n",
       "  </thead>\n",
       "  <tbody>\n",
       "  </tbody>\n",
       "</table>\n",
       "</div>"
      ],
      "text/plain": [
       "Empty DataFrame\n",
       "Columns: [image_name, subject_id, count_total, median_count, mean_count, mode_count, users, sum_annotations_count, annotations_count]\n",
       "Index: []"
      ]
     },
     "execution_count": 26,
     "metadata": {},
     "output_type": "execute_result"
    }
   ],
   "source": [
    "# There might be records with too few annotations\n",
    "df_comparison[(df_comparison.count_total > 0) & (df_comparison.sum_annotations_count < 5)].sort_values(by=\"users\", ascending=False)"
   ]
  },
  {
   "cell_type": "code",
   "execution_count": 27,
   "id": "6b73fd302520f520",
   "metadata": {
    "ExecuteTime": {
     "end_time": "2024-03-07T12:08:18.820793Z",
     "start_time": "2024-03-07T12:08:18.801546Z"
    },
    "collapsed": false,
    "jupyter": {
     "outputs_hidden": false
    }
   },
   "outputs": [
    {
     "data": {
      "text/html": [
       "<div>\n",
       "<style scoped>\n",
       "    .dataframe tbody tr th:only-of-type {\n",
       "        vertical-align: middle;\n",
       "    }\n",
       "\n",
       "    .dataframe tbody tr th {\n",
       "        vertical-align: top;\n",
       "    }\n",
       "\n",
       "    .dataframe thead th {\n",
       "        text-align: right;\n",
       "    }\n",
       "</style>\n",
       "<table border=\"1\" class=\"dataframe\">\n",
       "  <thead>\n",
       "    <tr style=\"text-align: right;\">\n",
       "      <th></th>\n",
       "      <th>image_name</th>\n",
       "      <th>subject_id</th>\n",
       "      <th>count_total</th>\n",
       "      <th>median_count</th>\n",
       "      <th>mean_count</th>\n",
       "      <th>mode_count</th>\n",
       "      <th>users</th>\n",
       "      <th>sum_annotations_count</th>\n",
       "      <th>annotations_count</th>\n",
       "    </tr>\n",
       "  </thead>\n",
       "  <tbody>\n",
       "  </tbody>\n",
       "</table>\n",
       "</div>"
      ],
      "text/plain": [
       "Empty DataFrame\n",
       "Columns: [image_name, subject_id, count_total, median_count, mean_count, mode_count, users, sum_annotations_count, annotations_count]\n",
       "Index: []"
      ]
     },
     "execution_count": 27,
     "metadata": {},
     "output_type": "execute_result"
    }
   ],
   "source": [
    "# images with an expert count of more than 0 and less than 5 different users\n",
    "df_comparison[(df_comparison.count_total > 0) & (df_comparison.users < 5)].sort_values(by=\"users\", ascending=False)\n"
   ]
  },
  {
   "cell_type": "code",
   "execution_count": 28,
   "id": "5920de4659a59e9e",
   "metadata": {
    "ExecuteTime": {
     "end_time": "2024-03-07T12:08:18.840023Z",
     "start_time": "2024-03-07T12:08:18.821900Z"
    },
    "collapsed": false,
    "jupyter": {
     "outputs_hidden": false
    }
   },
   "outputs": [
    {
     "data": {
      "text/plain": [
       "351"
      ]
     },
     "execution_count": 28,
     "metadata": {},
     "output_type": "execute_result"
    }
   ],
   "source": [
    "df_comparison[\"count_total\"].sum()"
   ]
  },
  {
   "cell_type": "markdown",
   "id": "4bd536b6ef06de7c",
   "metadata": {
    "collapsed": false,
    "jupyter": {
     "outputs_hidden": false
    }
   },
   "source": [
    "### Fill NaN values with 0 because the errors can't be calculated otherwise"
   ]
  },
  {
   "cell_type": "code",
   "execution_count": 29,
   "id": "50596f5c07d7bd7c",
   "metadata": {
    "ExecuteTime": {
     "end_time": "2024-03-07T12:08:18.860501Z",
     "start_time": "2024-03-07T12:08:18.844687Z"
    },
    "collapsed": false,
    "jupyter": {
     "outputs_hidden": false
    }
   },
   "outputs": [],
   "source": [
    "\n",
    "## Fill NaN values with 0 because the errors can't be calculated otherwise\n",
    "df_comparison.fillna(0, inplace=True)\n"
   ]
  },
  {
   "cell_type": "code",
   "execution_count": 30,
   "id": "a538f869681967c",
   "metadata": {
    "ExecuteTime": {
     "end_time": "2024-03-07T12:08:18.881211Z",
     "start_time": "2024-03-07T12:08:18.862229Z"
    },
    "collapsed": false,
    "jupyter": {
     "outputs_hidden": false
    }
   },
   "outputs": [
    {
     "data": {
      "text/plain": [
       "median_count_rmse    1.555487\n",
       "mean_count_rmse      1.521801\n",
       "mode_count_rmse      2.031363\n",
       "dtype: float64"
      ]
     },
     "execution_count": 30,
     "metadata": {},
     "output_type": "execute_result"
    }
   ],
   "source": [
    "\n",
    "mse_errors[\"median_count_rmse\"] = mean_squared_error(df_comparison.count_total, df_comparison.median_count,\n",
    "                                                     squared=False)\n",
    "mse_errors[\"mean_count_rmse\"] = mean_squared_error(df_comparison.count_total, df_comparison.mean_count, squared=False)\n",
    "mse_errors[\"mode_count_rmse\"] = mean_squared_error(df_comparison.count_total, df_comparison.mode_count, squared=False)\n",
    "\n",
    "pd.Series(mse_errors)"
   ]
  },
  {
   "cell_type": "markdown",
   "id": "3100d741b31e60d1",
   "metadata": {
    "collapsed": false,
    "jupyter": {
     "outputs_hidden": false
    }
   },
   "source": [
    "It can be seen the knee method has a very high Root mean squared error. "
   ]
  },
  {
   "cell_type": "code",
   "execution_count": 31,
   "id": "d0b61f01-8db0-48a6-8a4e-5ff80e6f86e4",
   "metadata": {
    "ExecuteTime": {
     "end_time": "2024-03-07T12:08:18.902641Z",
     "start_time": "2024-03-07T12:08:18.882173Z"
    }
   },
   "outputs": [
    {
     "data": {
      "text/html": [
       "<div>\n",
       "<style scoped>\n",
       "    .dataframe tbody tr th:only-of-type {\n",
       "        vertical-align: middle;\n",
       "    }\n",
       "\n",
       "    .dataframe tbody tr th {\n",
       "        vertical-align: top;\n",
       "    }\n",
       "\n",
       "    .dataframe thead th {\n",
       "        text-align: right;\n",
       "    }\n",
       "</style>\n",
       "<table border=\"1\" class=\"dataframe\">\n",
       "  <thead>\n",
       "    <tr style=\"text-align: right;\">\n",
       "      <th></th>\n",
       "      <th>image_name</th>\n",
       "      <th>subject_id</th>\n",
       "      <th>count_total</th>\n",
       "      <th>median_count</th>\n",
       "      <th>mean_count</th>\n",
       "      <th>mode_count</th>\n",
       "      <th>users</th>\n",
       "      <th>sum_annotations_count</th>\n",
       "      <th>annotations_count</th>\n",
       "    </tr>\n",
       "  </thead>\n",
       "  <tbody>\n",
       "    <tr>\n",
       "      <th>0</th>\n",
       "      <td>MBN04-2_182.jpg</td>\n",
       "      <td>78926344</td>\n",
       "      <td>0</td>\n",
       "      <td>2.0</td>\n",
       "      <td>1.71</td>\n",
       "      <td>1</td>\n",
       "      <td>7</td>\n",
       "      <td>12</td>\n",
       "      <td>[1, 1, 1, 2, 2, 2, 3]</td>\n",
       "    </tr>\n",
       "    <tr>\n",
       "      <th>1</th>\n",
       "      <td>MBBD02-2_248.jpg</td>\n",
       "      <td>78928708</td>\n",
       "      <td>2</td>\n",
       "      <td>2.0</td>\n",
       "      <td>2.12</td>\n",
       "      <td>2</td>\n",
       "      <td>17</td>\n",
       "      <td>36</td>\n",
       "      <td>[1, 1, 2, 2, 2, 2, 2, 2, 2, 2, 2, 2, 2, 3, 3, ...</td>\n",
       "    </tr>\n",
       "    <tr>\n",
       "      <th>2</th>\n",
       "      <td>PCI01-2_111.jpg</td>\n",
       "      <td>78938221</td>\n",
       "      <td>4</td>\n",
       "      <td>3.0</td>\n",
       "      <td>3.50</td>\n",
       "      <td>3</td>\n",
       "      <td>20</td>\n",
       "      <td>70</td>\n",
       "      <td>[2, 2, 3, 3, 3, 3, 3, 3, 3, 3, 3, 4, 4, 4, 4, ...</td>\n",
       "    </tr>\n",
       "    <tr>\n",
       "      <th>3</th>\n",
       "      <td>PCI02-1_92.jpg</td>\n",
       "      <td>78938603</td>\n",
       "      <td>1</td>\n",
       "      <td>1.0</td>\n",
       "      <td>1.21</td>\n",
       "      <td>1</td>\n",
       "      <td>19</td>\n",
       "      <td>23</td>\n",
       "      <td>[1, 1, 1, 1, 1, 1, 1, 1, 1, 1, 1, 1, 1, 1, 1, ...</td>\n",
       "    </tr>\n",
       "    <tr>\n",
       "      <th>4</th>\n",
       "      <td>PCIC01-1_113.jpg</td>\n",
       "      <td>78938992</td>\n",
       "      <td>2</td>\n",
       "      <td>2.0</td>\n",
       "      <td>1.75</td>\n",
       "      <td>2</td>\n",
       "      <td>8</td>\n",
       "      <td>14</td>\n",
       "      <td>[1, 1, 1, 2, 2, 2, 2, 3]</td>\n",
       "    </tr>\n",
       "    <tr>\n",
       "      <th>...</th>\n",
       "      <td>...</td>\n",
       "      <td>...</td>\n",
       "      <td>...</td>\n",
       "      <td>...</td>\n",
       "      <td>...</td>\n",
       "      <td>...</td>\n",
       "      <td>...</td>\n",
       "      <td>...</td>\n",
       "      <td>...</td>\n",
       "    </tr>\n",
       "    <tr>\n",
       "      <th>82</th>\n",
       "      <td>GWB01-2_300.jpg</td>\n",
       "      <td>78925388</td>\n",
       "      <td>1</td>\n",
       "      <td>1.0</td>\n",
       "      <td>1.00</td>\n",
       "      <td>1</td>\n",
       "      <td>9</td>\n",
       "      <td>9</td>\n",
       "      <td>[1, 1, 1, 1, 1, 1, 1, 1, 1]</td>\n",
       "    </tr>\n",
       "    <tr>\n",
       "      <th>83</th>\n",
       "      <td>GWB01-2_421.jpg</td>\n",
       "      <td>78925457</td>\n",
       "      <td>1</td>\n",
       "      <td>1.0</td>\n",
       "      <td>1.11</td>\n",
       "      <td>1</td>\n",
       "      <td>9</td>\n",
       "      <td>10</td>\n",
       "      <td>[1, 1, 1, 1, 1, 1, 1, 1, 2]</td>\n",
       "    </tr>\n",
       "    <tr>\n",
       "      <th>84</th>\n",
       "      <td>GWB01-2_430.jpg</td>\n",
       "      <td>78925467</td>\n",
       "      <td>1</td>\n",
       "      <td>1.0</td>\n",
       "      <td>1.11</td>\n",
       "      <td>1</td>\n",
       "      <td>9</td>\n",
       "      <td>10</td>\n",
       "      <td>[1, 1, 1, 1, 1, 1, 1, 1, 2]</td>\n",
       "    </tr>\n",
       "    <tr>\n",
       "      <th>85</th>\n",
       "      <td>GWB01-3_12.jpg</td>\n",
       "      <td>78925536</td>\n",
       "      <td>1</td>\n",
       "      <td>1.0</td>\n",
       "      <td>1.04</td>\n",
       "      <td>1</td>\n",
       "      <td>26</td>\n",
       "      <td>27</td>\n",
       "      <td>[1, 1, 1, 1, 1, 1, 1, 1, 1, 1, 1, 1, 1, 1, 1, ...</td>\n",
       "    </tr>\n",
       "    <tr>\n",
       "      <th>86</th>\n",
       "      <td>GWB01-3_152.jpg</td>\n",
       "      <td>78925551</td>\n",
       "      <td>2</td>\n",
       "      <td>2.0</td>\n",
       "      <td>2.00</td>\n",
       "      <td>2</td>\n",
       "      <td>15</td>\n",
       "      <td>30</td>\n",
       "      <td>[1, 1, 1, 1, 2, 2, 2, 2, 2, 2, 2, 2, 2, 2, 6]</td>\n",
       "    </tr>\n",
       "  </tbody>\n",
       "</table>\n",
       "<p>87 rows × 9 columns</p>\n",
       "</div>"
      ],
      "text/plain": [
       "          image_name  subject_id  count_total  median_count  mean_count  \\\n",
       "0    MBN04-2_182.jpg    78926344            0           2.0        1.71   \n",
       "1   MBBD02-2_248.jpg    78928708            2           2.0        2.12   \n",
       "2    PCI01-2_111.jpg    78938221            4           3.0        3.50   \n",
       "3     PCI02-1_92.jpg    78938603            1           1.0        1.21   \n",
       "4   PCIC01-1_113.jpg    78938992            2           2.0        1.75   \n",
       "..               ...         ...          ...           ...         ...   \n",
       "82   GWB01-2_300.jpg    78925388            1           1.0        1.00   \n",
       "83   GWB01-2_421.jpg    78925457            1           1.0        1.11   \n",
       "84   GWB01-2_430.jpg    78925467            1           1.0        1.11   \n",
       "85    GWB01-3_12.jpg    78925536            1           1.0        1.04   \n",
       "86   GWB01-3_152.jpg    78925551            2           2.0        2.00   \n",
       "\n",
       "    mode_count  users  sum_annotations_count  \\\n",
       "0            1      7                     12   \n",
       "1            2     17                     36   \n",
       "2            3     20                     70   \n",
       "3            1     19                     23   \n",
       "4            2      8                     14   \n",
       "..         ...    ...                    ...   \n",
       "82           1      9                      9   \n",
       "83           1      9                     10   \n",
       "84           1      9                     10   \n",
       "85           1     26                     27   \n",
       "86           2     15                     30   \n",
       "\n",
       "                                    annotations_count  \n",
       "0                               [1, 1, 1, 2, 2, 2, 3]  \n",
       "1   [1, 1, 2, 2, 2, 2, 2, 2, 2, 2, 2, 2, 2, 3, 3, ...  \n",
       "2   [2, 2, 3, 3, 3, 3, 3, 3, 3, 3, 3, 4, 4, 4, 4, ...  \n",
       "3   [1, 1, 1, 1, 1, 1, 1, 1, 1, 1, 1, 1, 1, 1, 1, ...  \n",
       "4                            [1, 1, 1, 2, 2, 2, 2, 3]  \n",
       "..                                                ...  \n",
       "82                        [1, 1, 1, 1, 1, 1, 1, 1, 1]  \n",
       "83                        [1, 1, 1, 1, 1, 1, 1, 1, 2]  \n",
       "84                        [1, 1, 1, 1, 1, 1, 1, 1, 2]  \n",
       "85  [1, 1, 1, 1, 1, 1, 1, 1, 1, 1, 1, 1, 1, 1, 1, ...  \n",
       "86      [1, 1, 1, 1, 2, 2, 2, 2, 2, 2, 2, 2, 2, 2, 6]  \n",
       "\n",
       "[87 rows x 9 columns]"
      ]
     },
     "execution_count": 31,
     "metadata": {},
     "output_type": "execute_result"
    }
   ],
   "source": [
    "df_comparison"
   ]
  },
  {
   "cell_type": "code",
   "execution_count": 32,
   "id": "8473f1659f70c47f",
   "metadata": {
    "ExecuteTime": {
     "end_time": "2024-03-07T12:08:18.919640Z",
     "start_time": "2024-03-07T12:08:18.903295Z"
    },
    "collapsed": false,
    "jupyter": {
     "outputs_hidden": false
    }
   },
   "outputs": [
    {
     "data": {
      "text/plain": [
       "median_count_rmse    1.555487\n",
       "mean_count_rmse      1.521801\n",
       "mode_count_rmse      2.031363\n",
       "dtype: float64"
      ]
     },
     "execution_count": 32,
     "metadata": {},
     "output_type": "execute_result"
    }
   ],
   "source": [
    "\n",
    "pd.Series(mse_errors)"
   ]
  },
  {
   "cell_type": "code",
   "execution_count": 33,
   "id": "897c74aacd7fda9",
   "metadata": {
    "ExecuteTime": {
     "end_time": "2024-03-07T12:08:18.944547Z",
     "start_time": "2024-03-07T12:08:18.920326Z"
    },
    "collapsed": false,
    "jupyter": {
     "outputs_hidden": false
    }
   },
   "outputs": [
    {
     "data": {
      "text/html": [
       "<div>\n",
       "<style scoped>\n",
       "    .dataframe tbody tr th:only-of-type {\n",
       "        vertical-align: middle;\n",
       "    }\n",
       "\n",
       "    .dataframe tbody tr th {\n",
       "        vertical-align: top;\n",
       "    }\n",
       "\n",
       "    .dataframe thead th {\n",
       "        text-align: right;\n",
       "    }\n",
       "</style>\n",
       "<table border=\"1\" class=\"dataframe\">\n",
       "  <thead>\n",
       "    <tr style=\"text-align: right;\">\n",
       "      <th></th>\n",
       "      <th>image_name</th>\n",
       "      <th>subject_id</th>\n",
       "      <th>count_total</th>\n",
       "      <th>median_count</th>\n",
       "      <th>mean_count</th>\n",
       "      <th>mode_count</th>\n",
       "      <th>users</th>\n",
       "      <th>sum_annotations_count</th>\n",
       "      <th>annotations_count</th>\n",
       "    </tr>\n",
       "  </thead>\n",
       "  <tbody>\n",
       "    <tr>\n",
       "      <th>0</th>\n",
       "      <td>MBN04-2_182.jpg</td>\n",
       "      <td>78926344</td>\n",
       "      <td>0</td>\n",
       "      <td>2.0</td>\n",
       "      <td>1.71</td>\n",
       "      <td>1</td>\n",
       "      <td>7</td>\n",
       "      <td>12</td>\n",
       "      <td>[1, 1, 1, 2, 2, 2, 3]</td>\n",
       "    </tr>\n",
       "    <tr>\n",
       "      <th>1</th>\n",
       "      <td>MBBD02-2_248.jpg</td>\n",
       "      <td>78928708</td>\n",
       "      <td>2</td>\n",
       "      <td>2.0</td>\n",
       "      <td>2.12</td>\n",
       "      <td>2</td>\n",
       "      <td>17</td>\n",
       "      <td>36</td>\n",
       "      <td>[1, 1, 2, 2, 2, 2, 2, 2, 2, 2, 2, 2, 2, 3, 3, ...</td>\n",
       "    </tr>\n",
       "    <tr>\n",
       "      <th>2</th>\n",
       "      <td>PCI01-2_111.jpg</td>\n",
       "      <td>78938221</td>\n",
       "      <td>4</td>\n",
       "      <td>3.0</td>\n",
       "      <td>3.50</td>\n",
       "      <td>3</td>\n",
       "      <td>20</td>\n",
       "      <td>70</td>\n",
       "      <td>[2, 2, 3, 3, 3, 3, 3, 3, 3, 3, 3, 4, 4, 4, 4, ...</td>\n",
       "    </tr>\n",
       "    <tr>\n",
       "      <th>3</th>\n",
       "      <td>PCI02-1_92.jpg</td>\n",
       "      <td>78938603</td>\n",
       "      <td>1</td>\n",
       "      <td>1.0</td>\n",
       "      <td>1.21</td>\n",
       "      <td>1</td>\n",
       "      <td>19</td>\n",
       "      <td>23</td>\n",
       "      <td>[1, 1, 1, 1, 1, 1, 1, 1, 1, 1, 1, 1, 1, 1, 1, ...</td>\n",
       "    </tr>\n",
       "    <tr>\n",
       "      <th>4</th>\n",
       "      <td>PCIC01-1_113.jpg</td>\n",
       "      <td>78938992</td>\n",
       "      <td>2</td>\n",
       "      <td>2.0</td>\n",
       "      <td>1.75</td>\n",
       "      <td>2</td>\n",
       "      <td>8</td>\n",
       "      <td>14</td>\n",
       "      <td>[1, 1, 1, 2, 2, 2, 2, 3]</td>\n",
       "    </tr>\n",
       "    <tr>\n",
       "      <th>...</th>\n",
       "      <td>...</td>\n",
       "      <td>...</td>\n",
       "      <td>...</td>\n",
       "      <td>...</td>\n",
       "      <td>...</td>\n",
       "      <td>...</td>\n",
       "      <td>...</td>\n",
       "      <td>...</td>\n",
       "      <td>...</td>\n",
       "    </tr>\n",
       "    <tr>\n",
       "      <th>82</th>\n",
       "      <td>GWB01-2_300.jpg</td>\n",
       "      <td>78925388</td>\n",
       "      <td>1</td>\n",
       "      <td>1.0</td>\n",
       "      <td>1.00</td>\n",
       "      <td>1</td>\n",
       "      <td>9</td>\n",
       "      <td>9</td>\n",
       "      <td>[1, 1, 1, 1, 1, 1, 1, 1, 1]</td>\n",
       "    </tr>\n",
       "    <tr>\n",
       "      <th>83</th>\n",
       "      <td>GWB01-2_421.jpg</td>\n",
       "      <td>78925457</td>\n",
       "      <td>1</td>\n",
       "      <td>1.0</td>\n",
       "      <td>1.11</td>\n",
       "      <td>1</td>\n",
       "      <td>9</td>\n",
       "      <td>10</td>\n",
       "      <td>[1, 1, 1, 1, 1, 1, 1, 1, 2]</td>\n",
       "    </tr>\n",
       "    <tr>\n",
       "      <th>84</th>\n",
       "      <td>GWB01-2_430.jpg</td>\n",
       "      <td>78925467</td>\n",
       "      <td>1</td>\n",
       "      <td>1.0</td>\n",
       "      <td>1.11</td>\n",
       "      <td>1</td>\n",
       "      <td>9</td>\n",
       "      <td>10</td>\n",
       "      <td>[1, 1, 1, 1, 1, 1, 1, 1, 2]</td>\n",
       "    </tr>\n",
       "    <tr>\n",
       "      <th>85</th>\n",
       "      <td>GWB01-3_12.jpg</td>\n",
       "      <td>78925536</td>\n",
       "      <td>1</td>\n",
       "      <td>1.0</td>\n",
       "      <td>1.04</td>\n",
       "      <td>1</td>\n",
       "      <td>26</td>\n",
       "      <td>27</td>\n",
       "      <td>[1, 1, 1, 1, 1, 1, 1, 1, 1, 1, 1, 1, 1, 1, 1, ...</td>\n",
       "    </tr>\n",
       "    <tr>\n",
       "      <th>86</th>\n",
       "      <td>GWB01-3_152.jpg</td>\n",
       "      <td>78925551</td>\n",
       "      <td>2</td>\n",
       "      <td>2.0</td>\n",
       "      <td>2.00</td>\n",
       "      <td>2</td>\n",
       "      <td>15</td>\n",
       "      <td>30</td>\n",
       "      <td>[1, 1, 1, 1, 2, 2, 2, 2, 2, 2, 2, 2, 2, 2, 6]</td>\n",
       "    </tr>\n",
       "  </tbody>\n",
       "</table>\n",
       "<p>87 rows × 9 columns</p>\n",
       "</div>"
      ],
      "text/plain": [
       "          image_name  subject_id  count_total  median_count  mean_count  \\\n",
       "0    MBN04-2_182.jpg    78926344            0           2.0        1.71   \n",
       "1   MBBD02-2_248.jpg    78928708            2           2.0        2.12   \n",
       "2    PCI01-2_111.jpg    78938221            4           3.0        3.50   \n",
       "3     PCI02-1_92.jpg    78938603            1           1.0        1.21   \n",
       "4   PCIC01-1_113.jpg    78938992            2           2.0        1.75   \n",
       "..               ...         ...          ...           ...         ...   \n",
       "82   GWB01-2_300.jpg    78925388            1           1.0        1.00   \n",
       "83   GWB01-2_421.jpg    78925457            1           1.0        1.11   \n",
       "84   GWB01-2_430.jpg    78925467            1           1.0        1.11   \n",
       "85    GWB01-3_12.jpg    78925536            1           1.0        1.04   \n",
       "86   GWB01-3_152.jpg    78925551            2           2.0        2.00   \n",
       "\n",
       "    mode_count  users  sum_annotations_count  \\\n",
       "0            1      7                     12   \n",
       "1            2     17                     36   \n",
       "2            3     20                     70   \n",
       "3            1     19                     23   \n",
       "4            2      8                     14   \n",
       "..         ...    ...                    ...   \n",
       "82           1      9                      9   \n",
       "83           1      9                     10   \n",
       "84           1      9                     10   \n",
       "85           1     26                     27   \n",
       "86           2     15                     30   \n",
       "\n",
       "                                    annotations_count  \n",
       "0                               [1, 1, 1, 2, 2, 2, 3]  \n",
       "1   [1, 1, 2, 2, 2, 2, 2, 2, 2, 2, 2, 2, 2, 3, 3, ...  \n",
       "2   [2, 2, 3, 3, 3, 3, 3, 3, 3, 3, 3, 4, 4, 4, 4, ...  \n",
       "3   [1, 1, 1, 1, 1, 1, 1, 1, 1, 1, 1, 1, 1, 1, 1, ...  \n",
       "4                            [1, 1, 1, 2, 2, 2, 2, 3]  \n",
       "..                                                ...  \n",
       "82                        [1, 1, 1, 1, 1, 1, 1, 1, 1]  \n",
       "83                        [1, 1, 1, 1, 1, 1, 1, 1, 2]  \n",
       "84                        [1, 1, 1, 1, 1, 1, 1, 1, 2]  \n",
       "85  [1, 1, 1, 1, 1, 1, 1, 1, 1, 1, 1, 1, 1, 1, 1, ...  \n",
       "86      [1, 1, 1, 1, 2, 2, 2, 2, 2, 2, 2, 2, 2, 2, 6]  \n",
       "\n",
       "[87 rows x 9 columns]"
      ]
     },
     "execution_count": 33,
     "metadata": {},
     "output_type": "execute_result"
    }
   ],
   "source": [
    "df_comparison"
   ]
  },
  {
   "cell_type": "code",
   "execution_count": 34,
   "id": "134bd6295fa837ce",
   "metadata": {
    "ExecuteTime": {
     "end_time": "2024-03-07T12:08:18.964057Z",
     "start_time": "2024-03-07T12:08:18.945586Z"
    },
    "collapsed": false,
    "jupyter": {
     "outputs_hidden": false
    }
   },
   "outputs": [
    {
     "data": {
      "text/plain": [
       "image_name               MBN04-2_182.jpgMBBD02-2_248.jpgPCI01-2_111.jpg...\n",
       "subject_id                                                      6869056455\n",
       "count_total                                                            351\n",
       "median_count                                                         315.0\n",
       "mean_count                                                          318.73\n",
       "mode_count                                                             304\n",
       "users                                                                 1606\n",
       "sum_annotations_count                                                 6733\n",
       "annotations_count        [1, 1, 1, 2, 2, 2, 3, 1, 1, 2, 2, 2, 2, 2, 2, ...\n",
       "dtype: object"
      ]
     },
     "execution_count": 34,
     "metadata": {},
     "output_type": "execute_result"
    }
   ],
   "source": [
    "df_comparison.sum()"
   ]
  },
  {
   "cell_type": "markdown",
   "id": "5d99c27ebf9bd6b6",
   "metadata": {
    "collapsed": false,
    "jupyter": {
     "outputs_hidden": false
    }
   },
   "source": [
    "### DBSCAN clustering and take the variant with the best silouette score for each image\n"
   ]
  },
  {
   "cell_type": "code",
   "execution_count": 35,
   "id": "33cf6b89951ff33e",
   "metadata": {
    "ExecuteTime": {
     "end_time": "2024-03-07T12:08:18.981087Z",
     "start_time": "2024-03-07T12:08:18.965057Z"
    },
    "collapsed": false,
    "jupyter": {
     "outputs_hidden": false
    }
   },
   "outputs": [],
   "source": [
    "### The old variant\n",
    "# from zooniverse.analysis import compare_dbscan_hyp_v2\n",
    "# \n",
    "# eps_variants = [0.01, 0.05, 0.1, 0.2, 0.3, 0.4, 0.5]\n",
    "# min_samples_variants = [3, 5, 8, 10]\n",
    "# if debug:\n",
    "#     eps_variants = [0.3]\n",
    "#     min_samples_variants = [3]\n",
    "# params = [(eps, min_samples) for eps in eps_variants for min_samples in min_samples_variants]\n",
    "# \n",
    "# db_scan_results = {}\n",
    "# db_scan_best_results = []\n",
    "# db_scan_best_bic_results = []\n",
    "# for image_name, df_image_name in df_merged_dataset.groupby(\"image_name\"):\n",
    "# \n",
    "#     dbscan_localization = compare_dbscan_hyp_v2(\n",
    "#         # phase_tag=phase_tag,\n",
    "#         params=params,\n",
    "#         df_flat=df_image_name,\n",
    "#         # output_path=output_path,\n",
    "#         output_plot_path=output_plot_path,\n",
    "#         plot=show_plots,\n",
    "#         \n",
    "#     )\n",
    "# \n",
    "#     db_scan_results[image_name] = pd.DataFrame(dbscan_localization)\n",
    "#     \n",
    "#     # TODO Here lies the main problem with DBSCAN.\n",
    "#     ## DBSCAN tends to classfy all points as noise if min_samples is too high. Often only a single user marked an iguana.\n",
    "#     ## Sillouette Scoring needs a minimum of 2 clusters\n",
    "#     ## if there are points in decent radius they will belong to a cluster\n",
    "#     # if pd.DataFrame(dbscan_localization).dbscan_count.max() == 1:\n",
    "#     #     db_scan_best_results.append(pd.DataFrame(dbscan_localization).sort_values(\"dbscan_count\", ascending=False).iloc[0])\n",
    "#     #     db_scan_best_bic_results.append(pd.DataFrame(dbscan_localization).sort_values(\"dbscan_count\", ascending=False).iloc[0])\n",
    "#     # # If two or more cluster seem to exists take ones with the best BIC or Silouette score\n",
    "#     # else:  \n",
    "#     # take the best result by silouette score if there are more clusters then 1\n",
    "#     ## TODO make the sorting deterministic\n",
    "#     db_scan_best_results.append(pd.DataFrame(dbscan_localization).sort_values(\"dbscan_silouette_score\", ascending=False).iloc[0])\n",
    "#     \n",
    "# df_dbscan_localization = pd.concat([*db_scan_results.values()])\n",
    "# df_scan_best_results = pd.DataFrame(db_scan_best_results)\n",
    "\n"
   ]
  },
  {
   "cell_type": "code",
   "execution_count": 36,
   "id": "1504707449147a99",
   "metadata": {
    "ExecuteTime": {
     "end_time": "2024-03-07T12:08:18.998297Z",
     "start_time": "2024-03-07T12:08:18.981946Z"
    },
    "collapsed": false,
    "jupyter": {
     "outputs_hidden": false
    }
   },
   "outputs": [],
   "source": [
    "# df_scan_best_results"
   ]
  },
  {
   "cell_type": "code",
   "execution_count": 37,
   "id": "541f9f88dc56d1f1",
   "metadata": {
    "ExecuteTime": {
     "end_time": "2024-03-07T12:08:37.257917Z",
     "start_time": "2024-03-07T12:08:18.999124Z"
    },
    "collapsed": false,
    "jupyter": {
     "outputs_hidden": false
    }
   },
   "outputs": [
    {
     "name": "stderr",
     "output_type": "stream",
     "text": [
      "/Users/christian/PycharmProjects/iguanas-from-above-zooniverse/zooniverse/utils/basic_clustering.py:128: RuntimeWarning: invalid value encountered in scalar divide\n",
      "  variance = np.sum((X_cluster - centroid) ** 2) / (len(X_cluster) - 1)\n",
      "/Users/christian/PycharmProjects/iguanas-from-above-zooniverse/zooniverse/utils/basic_clustering.py:128: RuntimeWarning: invalid value encountered in scalar divide\n",
      "  variance = np.sum((X_cluster - centroid) ** 2) / (len(X_cluster) - 1)\n",
      "/Users/christian/PycharmProjects/iguanas-from-above-zooniverse/zooniverse/utils/basic_clustering.py:128: RuntimeWarning: invalid value encountered in scalar divide\n",
      "  variance = np.sum((X_cluster - centroid) ** 2) / (len(X_cluster) - 1)\n",
      "/Users/christian/PycharmProjects/iguanas-from-above-zooniverse/zooniverse/utils/basic_clustering.py:128: RuntimeWarning: invalid value encountered in scalar divide\n",
      "  variance = np.sum((X_cluster - centroid) ** 2) / (len(X_cluster) - 1)\n",
      "/Users/christian/PycharmProjects/iguanas-from-above-zooniverse/zooniverse/utils/basic_clustering.py:128: RuntimeWarning: invalid value encountered in scalar divide\n",
      "  variance = np.sum((X_cluster - centroid) ** 2) / (len(X_cluster) - 1)\n",
      "/Users/christian/PycharmProjects/iguanas-from-above-zooniverse/zooniverse/utils/basic_clustering.py:128: RuntimeWarning: invalid value encountered in scalar divide\n",
      "  variance = np.sum((X_cluster - centroid) ** 2) / (len(X_cluster) - 1)\n",
      "/Users/christian/PycharmProjects/iguanas-from-above-zooniverse/zooniverse/utils/basic_clustering.py:128: RuntimeWarning: invalid value encountered in scalar divide\n",
      "  variance = np.sum((X_cluster - centroid) ** 2) / (len(X_cluster) - 1)\n",
      "/Users/christian/PycharmProjects/iguanas-from-above-zooniverse/zooniverse/utils/basic_clustering.py:128: RuntimeWarning: invalid value encountered in scalar divide\n",
      "  variance = np.sum((X_cluster - centroid) ** 2) / (len(X_cluster) - 1)\n",
      "/Users/christian/PycharmProjects/iguanas-from-above-zooniverse/zooniverse/utils/basic_clustering.py:128: RuntimeWarning: invalid value encountered in scalar divide\n",
      "  variance = np.sum((X_cluster - centroid) ** 2) / (len(X_cluster) - 1)\n",
      "/Users/christian/PycharmProjects/iguanas-from-above-zooniverse/zooniverse/utils/basic_clustering.py:128: RuntimeWarning: invalid value encountered in scalar divide\n",
      "  variance = np.sum((X_cluster - centroid) ** 2) / (len(X_cluster) - 1)\n",
      "/Users/christian/PycharmProjects/iguanas-from-above-zooniverse/zooniverse/utils/basic_clustering.py:128: RuntimeWarning: invalid value encountered in scalar divide\n",
      "  variance = np.sum((X_cluster - centroid) ** 2) / (len(X_cluster) - 1)\n",
      "/Users/christian/PycharmProjects/iguanas-from-above-zooniverse/zooniverse/utils/basic_clustering.py:128: RuntimeWarning: invalid value encountered in scalar divide\n",
      "  variance = np.sum((X_cluster - centroid) ** 2) / (len(X_cluster) - 1)\n",
      "/Users/christian/PycharmProjects/iguanas-from-above-zooniverse/zooniverse/utils/basic_clustering.py:128: RuntimeWarning: invalid value encountered in scalar divide\n",
      "  variance = np.sum((X_cluster - centroid) ** 2) / (len(X_cluster) - 1)\n",
      "/Users/christian/PycharmProjects/iguanas-from-above-zooniverse/zooniverse/utils/basic_clustering.py:128: RuntimeWarning: invalid value encountered in scalar divide\n",
      "  variance = np.sum((X_cluster - centroid) ** 2) / (len(X_cluster) - 1)\n",
      "/Users/christian/PycharmProjects/iguanas-from-above-zooniverse/zooniverse/utils/basic_clustering.py:128: RuntimeWarning: invalid value encountered in scalar divide\n",
      "  variance = np.sum((X_cluster - centroid) ** 2) / (len(X_cluster) - 1)\n",
      "/Users/christian/PycharmProjects/iguanas-from-above-zooniverse/zooniverse/utils/basic_clustering.py:128: RuntimeWarning: invalid value encountered in scalar divide\n",
      "  variance = np.sum((X_cluster - centroid) ** 2) / (len(X_cluster) - 1)\n",
      "/Users/christian/PycharmProjects/iguanas-from-above-zooniverse/zooniverse/utils/basic_clustering.py:128: RuntimeWarning: invalid value encountered in scalar divide\n",
      "  variance = np.sum((X_cluster - centroid) ** 2) / (len(X_cluster) - 1)\n",
      "/Users/christian/PycharmProjects/iguanas-from-above-zooniverse/zooniverse/utils/basic_clustering.py:128: RuntimeWarning: invalid value encountered in scalar divide\n",
      "  variance = np.sum((X_cluster - centroid) ** 2) / (len(X_cluster) - 1)\n",
      "/Users/christian/PycharmProjects/iguanas-from-above-zooniverse/zooniverse/utils/basic_clustering.py:128: RuntimeWarning: invalid value encountered in scalar divide\n",
      "  variance = np.sum((X_cluster - centroid) ** 2) / (len(X_cluster) - 1)\n",
      "/Users/christian/PycharmProjects/iguanas-from-above-zooniverse/zooniverse/utils/basic_clustering.py:128: RuntimeWarning: invalid value encountered in scalar divide\n",
      "  variance = np.sum((X_cluster - centroid) ** 2) / (len(X_cluster) - 1)\n",
      "/Users/christian/PycharmProjects/iguanas-from-above-zooniverse/zooniverse/utils/basic_clustering.py:128: RuntimeWarning: invalid value encountered in scalar divide\n",
      "  variance = np.sum((X_cluster - centroid) ** 2) / (len(X_cluster) - 1)\n",
      "/Users/christian/PycharmProjects/iguanas-from-above-zooniverse/zooniverse/utils/basic_clustering.py:128: RuntimeWarning: invalid value encountered in scalar divide\n",
      "  variance = np.sum((X_cluster - centroid) ** 2) / (len(X_cluster) - 1)\n",
      "/Users/christian/PycharmProjects/iguanas-from-above-zooniverse/zooniverse/utils/basic_clustering.py:128: RuntimeWarning: invalid value encountered in scalar divide\n",
      "  variance = np.sum((X_cluster - centroid) ** 2) / (len(X_cluster) - 1)\n",
      "/Users/christian/PycharmProjects/iguanas-from-above-zooniverse/zooniverse/utils/basic_clustering.py:128: RuntimeWarning: invalid value encountered in scalar divide\n",
      "  variance = np.sum((X_cluster - centroid) ** 2) / (len(X_cluster) - 1)\n",
      "/Users/christian/PycharmProjects/iguanas-from-above-zooniverse/zooniverse/utils/basic_clustering.py:128: RuntimeWarning: invalid value encountered in scalar divide\n",
      "  variance = np.sum((X_cluster - centroid) ** 2) / (len(X_cluster) - 1)\n",
      "/Users/christian/PycharmProjects/iguanas-from-above-zooniverse/zooniverse/utils/basic_clustering.py:128: RuntimeWarning: invalid value encountered in scalar divide\n",
      "  variance = np.sum((X_cluster - centroid) ** 2) / (len(X_cluster) - 1)\n",
      "/Users/christian/PycharmProjects/iguanas-from-above-zooniverse/zooniverse/utils/basic_clustering.py:128: RuntimeWarning: invalid value encountered in scalar divide\n",
      "  variance = np.sum((X_cluster - centroid) ** 2) / (len(X_cluster) - 1)\n",
      "/Users/christian/PycharmProjects/iguanas-from-above-zooniverse/zooniverse/utils/basic_clustering.py:128: RuntimeWarning: invalid value encountered in scalar divide\n",
      "  variance = np.sum((X_cluster - centroid) ** 2) / (len(X_cluster) - 1)\n",
      "/Users/christian/PycharmProjects/iguanas-from-above-zooniverse/zooniverse/utils/basic_clustering.py:128: RuntimeWarning: invalid value encountered in scalar divide\n",
      "  variance = np.sum((X_cluster - centroid) ** 2) / (len(X_cluster) - 1)\n",
      "/Users/christian/PycharmProjects/iguanas-from-above-zooniverse/zooniverse/utils/basic_clustering.py:128: RuntimeWarning: invalid value encountered in scalar divide\n",
      "  variance = np.sum((X_cluster - centroid) ** 2) / (len(X_cluster) - 1)\n",
      "/Users/christian/PycharmProjects/iguanas-from-above-zooniverse/zooniverse/utils/basic_clustering.py:128: RuntimeWarning: invalid value encountered in scalar divide\n",
      "  variance = np.sum((X_cluster - centroid) ** 2) / (len(X_cluster) - 1)\n",
      "/Users/christian/PycharmProjects/iguanas-from-above-zooniverse/zooniverse/utils/basic_clustering.py:128: RuntimeWarning: invalid value encountered in scalar divide\n",
      "  variance = np.sum((X_cluster - centroid) ** 2) / (len(X_cluster) - 1)\n",
      "/Users/christian/PycharmProjects/iguanas-from-above-zooniverse/zooniverse/utils/basic_clustering.py:128: RuntimeWarning: invalid value encountered in scalar divide\n",
      "  variance = np.sum((X_cluster - centroid) ** 2) / (len(X_cluster) - 1)\n",
      "/Users/christian/PycharmProjects/iguanas-from-above-zooniverse/zooniverse/utils/basic_clustering.py:128: RuntimeWarning: invalid value encountered in scalar divide\n",
      "  variance = np.sum((X_cluster - centroid) ** 2) / (len(X_cluster) - 1)\n",
      "/Users/christian/PycharmProjects/iguanas-from-above-zooniverse/zooniverse/utils/basic_clustering.py:128: RuntimeWarning: invalid value encountered in scalar divide\n",
      "  variance = np.sum((X_cluster - centroid) ** 2) / (len(X_cluster) - 1)\n",
      "/Users/christian/PycharmProjects/iguanas-from-above-zooniverse/zooniverse/utils/basic_clustering.py:128: RuntimeWarning: invalid value encountered in scalar divide\n",
      "  variance = np.sum((X_cluster - centroid) ** 2) / (len(X_cluster) - 1)\n",
      "/Users/christian/PycharmProjects/iguanas-from-above-zooniverse/zooniverse/utils/basic_clustering.py:128: RuntimeWarning: invalid value encountered in scalar divide\n",
      "  variance = np.sum((X_cluster - centroid) ** 2) / (len(X_cluster) - 1)\n",
      "/Users/christian/PycharmProjects/iguanas-from-above-zooniverse/zooniverse/utils/basic_clustering.py:128: RuntimeWarning: invalid value encountered in scalar divide\n",
      "  variance = np.sum((X_cluster - centroid) ** 2) / (len(X_cluster) - 1)\n",
      "/Users/christian/PycharmProjects/iguanas-from-above-zooniverse/zooniverse/utils/basic_clustering.py:128: RuntimeWarning: invalid value encountered in scalar divide\n",
      "  variance = np.sum((X_cluster - centroid) ** 2) / (len(X_cluster) - 1)\n",
      "/Users/christian/PycharmProjects/iguanas-from-above-zooniverse/zooniverse/utils/basic_clustering.py:128: RuntimeWarning: invalid value encountered in scalar divide\n",
      "  variance = np.sum((X_cluster - centroid) ** 2) / (len(X_cluster) - 1)\n",
      "/Users/christian/PycharmProjects/iguanas-from-above-zooniverse/zooniverse/utils/basic_clustering.py:128: RuntimeWarning: invalid value encountered in scalar divide\n",
      "  variance = np.sum((X_cluster - centroid) ** 2) / (len(X_cluster) - 1)\n",
      "/Users/christian/PycharmProjects/iguanas-from-above-zooniverse/zooniverse/utils/basic_clustering.py:128: RuntimeWarning: invalid value encountered in scalar divide\n",
      "  variance = np.sum((X_cluster - centroid) ** 2) / (len(X_cluster) - 1)\n",
      "/Users/christian/PycharmProjects/iguanas-from-above-zooniverse/zooniverse/utils/basic_clustering.py:128: RuntimeWarning: invalid value encountered in scalar divide\n",
      "  variance = np.sum((X_cluster - centroid) ** 2) / (len(X_cluster) - 1)\n",
      "/Users/christian/PycharmProjects/iguanas-from-above-zooniverse/zooniverse/utils/basic_clustering.py:128: RuntimeWarning: invalid value encountered in scalar divide\n",
      "  variance = np.sum((X_cluster - centroid) ** 2) / (len(X_cluster) - 1)\n",
      "/Users/christian/PycharmProjects/iguanas-from-above-zooniverse/zooniverse/utils/basic_clustering.py:128: RuntimeWarning: invalid value encountered in scalar divide\n",
      "  variance = np.sum((X_cluster - centroid) ** 2) / (len(X_cluster) - 1)\n",
      "/Users/christian/PycharmProjects/iguanas-from-above-zooniverse/zooniverse/utils/basic_clustering.py:128: RuntimeWarning: invalid value encountered in scalar divide\n",
      "  variance = np.sum((X_cluster - centroid) ** 2) / (len(X_cluster) - 1)\n",
      "/Users/christian/PycharmProjects/iguanas-from-above-zooniverse/zooniverse/utils/basic_clustering.py:128: RuntimeWarning: invalid value encountered in scalar divide\n",
      "  variance = np.sum((X_cluster - centroid) ** 2) / (len(X_cluster) - 1)\n",
      "/Users/christian/PycharmProjects/iguanas-from-above-zooniverse/zooniverse/utils/basic_clustering.py:128: RuntimeWarning: invalid value encountered in scalar divide\n",
      "  variance = np.sum((X_cluster - centroid) ** 2) / (len(X_cluster) - 1)\n",
      "/Users/christian/PycharmProjects/iguanas-from-above-zooniverse/zooniverse/utils/basic_clustering.py:128: RuntimeWarning: invalid value encountered in scalar divide\n",
      "  variance = np.sum((X_cluster - centroid) ** 2) / (len(X_cluster) - 1)\n",
      "/Users/christian/PycharmProjects/iguanas-from-above-zooniverse/zooniverse/utils/basic_clustering.py:128: RuntimeWarning: invalid value encountered in scalar divide\n",
      "  variance = np.sum((X_cluster - centroid) ** 2) / (len(X_cluster) - 1)\n",
      "/Users/christian/PycharmProjects/iguanas-from-above-zooniverse/zooniverse/utils/basic_clustering.py:128: RuntimeWarning: invalid value encountered in scalar divide\n",
      "  variance = np.sum((X_cluster - centroid) ** 2) / (len(X_cluster) - 1)\n",
      "/Users/christian/PycharmProjects/iguanas-from-above-zooniverse/zooniverse/utils/basic_clustering.py:128: RuntimeWarning: invalid value encountered in scalar divide\n",
      "  variance = np.sum((X_cluster - centroid) ** 2) / (len(X_cluster) - 1)\n",
      "/Users/christian/PycharmProjects/iguanas-from-above-zooniverse/zooniverse/utils/basic_clustering.py:128: RuntimeWarning: invalid value encountered in scalar divide\n",
      "  variance = np.sum((X_cluster - centroid) ** 2) / (len(X_cluster) - 1)\n",
      "/Users/christian/PycharmProjects/iguanas-from-above-zooniverse/zooniverse/utils/basic_clustering.py:128: RuntimeWarning: invalid value encountered in scalar divide\n",
      "  variance = np.sum((X_cluster - centroid) ** 2) / (len(X_cluster) - 1)\n",
      "/Users/christian/PycharmProjects/iguanas-from-above-zooniverse/zooniverse/utils/basic_clustering.py:128: RuntimeWarning: invalid value encountered in scalar divide\n",
      "  variance = np.sum((X_cluster - centroid) ** 2) / (len(X_cluster) - 1)\n",
      "/Users/christian/PycharmProjects/iguanas-from-above-zooniverse/zooniverse/utils/basic_clustering.py:128: RuntimeWarning: invalid value encountered in scalar divide\n",
      "  variance = np.sum((X_cluster - centroid) ** 2) / (len(X_cluster) - 1)\n",
      "/Users/christian/PycharmProjects/iguanas-from-above-zooniverse/zooniverse/utils/basic_clustering.py:128: RuntimeWarning: invalid value encountered in scalar divide\n",
      "  variance = np.sum((X_cluster - centroid) ** 2) / (len(X_cluster) - 1)\n",
      "/Users/christian/PycharmProjects/iguanas-from-above-zooniverse/zooniverse/utils/basic_clustering.py:128: RuntimeWarning: invalid value encountered in scalar divide\n",
      "  variance = np.sum((X_cluster - centroid) ** 2) / (len(X_cluster) - 1)\n",
      "/Users/christian/PycharmProjects/iguanas-from-above-zooniverse/zooniverse/utils/basic_clustering.py:128: RuntimeWarning: invalid value encountered in scalar divide\n",
      "  variance = np.sum((X_cluster - centroid) ** 2) / (len(X_cluster) - 1)\n",
      "/Users/christian/PycharmProjects/iguanas-from-above-zooniverse/zooniverse/utils/basic_clustering.py:128: RuntimeWarning: invalid value encountered in scalar divide\n",
      "  variance = np.sum((X_cluster - centroid) ** 2) / (len(X_cluster) - 1)\n",
      "/Users/christian/PycharmProjects/iguanas-from-above-zooniverse/zooniverse/utils/basic_clustering.py:128: RuntimeWarning: invalid value encountered in scalar divide\n",
      "  variance = np.sum((X_cluster - centroid) ** 2) / (len(X_cluster) - 1)\n",
      "/Users/christian/PycharmProjects/iguanas-from-above-zooniverse/zooniverse/utils/basic_clustering.py:128: RuntimeWarning: invalid value encountered in scalar divide\n",
      "  variance = np.sum((X_cluster - centroid) ** 2) / (len(X_cluster) - 1)\n",
      "/Users/christian/PycharmProjects/iguanas-from-above-zooniverse/zooniverse/utils/basic_clustering.py:128: RuntimeWarning: invalid value encountered in scalar divide\n",
      "  variance = np.sum((X_cluster - centroid) ** 2) / (len(X_cluster) - 1)\n",
      "/Users/christian/PycharmProjects/iguanas-from-above-zooniverse/zooniverse/utils/basic_clustering.py:128: RuntimeWarning: invalid value encountered in scalar divide\n",
      "  variance = np.sum((X_cluster - centroid) ** 2) / (len(X_cluster) - 1)\n",
      "/Users/christian/PycharmProjects/iguanas-from-above-zooniverse/zooniverse/utils/basic_clustering.py:128: RuntimeWarning: invalid value encountered in scalar divide\n",
      "  variance = np.sum((X_cluster - centroid) ** 2) / (len(X_cluster) - 1)\n",
      "/Users/christian/PycharmProjects/iguanas-from-above-zooniverse/zooniverse/utils/basic_clustering.py:128: RuntimeWarning: invalid value encountered in scalar divide\n",
      "  variance = np.sum((X_cluster - centroid) ** 2) / (len(X_cluster) - 1)\n",
      "/Users/christian/PycharmProjects/iguanas-from-above-zooniverse/zooniverse/utils/basic_clustering.py:128: RuntimeWarning: invalid value encountered in scalar divide\n",
      "  variance = np.sum((X_cluster - centroid) ** 2) / (len(X_cluster) - 1)\n",
      "/Users/christian/PycharmProjects/iguanas-from-above-zooniverse/zooniverse/utils/basic_clustering.py:128: RuntimeWarning: invalid value encountered in scalar divide\n",
      "  variance = np.sum((X_cluster - centroid) ** 2) / (len(X_cluster) - 1)\n",
      "/Users/christian/PycharmProjects/iguanas-from-above-zooniverse/zooniverse/utils/basic_clustering.py:128: RuntimeWarning: invalid value encountered in scalar divide\n",
      "  variance = np.sum((X_cluster - centroid) ** 2) / (len(X_cluster) - 1)\n",
      "/Users/christian/PycharmProjects/iguanas-from-above-zooniverse/zooniverse/utils/basic_clustering.py:128: RuntimeWarning: invalid value encountered in scalar divide\n",
      "  variance = np.sum((X_cluster - centroid) ** 2) / (len(X_cluster) - 1)\n",
      "/Users/christian/PycharmProjects/iguanas-from-above-zooniverse/zooniverse/utils/basic_clustering.py:128: RuntimeWarning: invalid value encountered in scalar divide\n",
      "  variance = np.sum((X_cluster - centroid) ** 2) / (len(X_cluster) - 1)\n",
      "/Users/christian/PycharmProjects/iguanas-from-above-zooniverse/zooniverse/utils/basic_clustering.py:128: RuntimeWarning: invalid value encountered in scalar divide\n",
      "  variance = np.sum((X_cluster - centroid) ** 2) / (len(X_cluster) - 1)\n",
      "/Users/christian/PycharmProjects/iguanas-from-above-zooniverse/zooniverse/utils/basic_clustering.py:128: RuntimeWarning: invalid value encountered in scalar divide\n",
      "  variance = np.sum((X_cluster - centroid) ** 2) / (len(X_cluster) - 1)\n",
      "/Users/christian/PycharmProjects/iguanas-from-above-zooniverse/zooniverse/utils/basic_clustering.py:128: RuntimeWarning: invalid value encountered in scalar divide\n",
      "  variance = np.sum((X_cluster - centroid) ** 2) / (len(X_cluster) - 1)\n",
      "/Users/christian/PycharmProjects/iguanas-from-above-zooniverse/zooniverse/utils/basic_clustering.py:128: RuntimeWarning: invalid value encountered in scalar divide\n",
      "  variance = np.sum((X_cluster - centroid) ** 2) / (len(X_cluster) - 1)\n",
      "/Users/christian/PycharmProjects/iguanas-from-above-zooniverse/zooniverse/utils/basic_clustering.py:128: RuntimeWarning: invalid value encountered in scalar divide\n",
      "  variance = np.sum((X_cluster - centroid) ** 2) / (len(X_cluster) - 1)\n",
      "/Users/christian/PycharmProjects/iguanas-from-above-zooniverse/zooniverse/utils/basic_clustering.py:128: RuntimeWarning: invalid value encountered in scalar divide\n",
      "  variance = np.sum((X_cluster - centroid) ** 2) / (len(X_cluster) - 1)\n",
      "/Users/christian/PycharmProjects/iguanas-from-above-zooniverse/zooniverse/utils/basic_clustering.py:128: RuntimeWarning: invalid value encountered in scalar divide\n",
      "  variance = np.sum((X_cluster - centroid) ** 2) / (len(X_cluster) - 1)\n",
      "/Users/christian/PycharmProjects/iguanas-from-above-zooniverse/zooniverse/utils/basic_clustering.py:128: RuntimeWarning: invalid value encountered in scalar divide\n",
      "  variance = np.sum((X_cluster - centroid) ** 2) / (len(X_cluster) - 1)\n",
      "/Users/christian/PycharmProjects/iguanas-from-above-zooniverse/zooniverse/utils/basic_clustering.py:128: RuntimeWarning: invalid value encountered in scalar divide\n",
      "  variance = np.sum((X_cluster - centroid) ** 2) / (len(X_cluster) - 1)\n",
      "/Users/christian/PycharmProjects/iguanas-from-above-zooniverse/zooniverse/utils/basic_clustering.py:128: RuntimeWarning: invalid value encountered in scalar divide\n",
      "  variance = np.sum((X_cluster - centroid) ** 2) / (len(X_cluster) - 1)\n",
      "/Users/christian/PycharmProjects/iguanas-from-above-zooniverse/zooniverse/utils/basic_clustering.py:128: RuntimeWarning: invalid value encountered in scalar divide\n",
      "  variance = np.sum((X_cluster - centroid) ** 2) / (len(X_cluster) - 1)\n",
      "/Users/christian/PycharmProjects/iguanas-from-above-zooniverse/zooniverse/utils/basic_clustering.py:128: RuntimeWarning: invalid value encountered in scalar divide\n",
      "  variance = np.sum((X_cluster - centroid) ** 2) / (len(X_cluster) - 1)\n",
      "/Users/christian/PycharmProjects/iguanas-from-above-zooniverse/zooniverse/utils/basic_clustering.py:128: RuntimeWarning: invalid value encountered in scalar divide\n",
      "  variance = np.sum((X_cluster - centroid) ** 2) / (len(X_cluster) - 1)\n",
      "/Users/christian/PycharmProjects/iguanas-from-above-zooniverse/zooniverse/utils/basic_clustering.py:128: RuntimeWarning: invalid value encountered in scalar divide\n",
      "  variance = np.sum((X_cluster - centroid) ** 2) / (len(X_cluster) - 1)\n",
      "/Users/christian/PycharmProjects/iguanas-from-above-zooniverse/zooniverse/utils/basic_clustering.py:128: RuntimeWarning: invalid value encountered in scalar divide\n",
      "  variance = np.sum((X_cluster - centroid) ** 2) / (len(X_cluster) - 1)\n",
      "/Users/christian/PycharmProjects/iguanas-from-above-zooniverse/zooniverse/utils/basic_clustering.py:128: RuntimeWarning: invalid value encountered in scalar divide\n",
      "  variance = np.sum((X_cluster - centroid) ** 2) / (len(X_cluster) - 1)\n",
      "/Users/christian/PycharmProjects/iguanas-from-above-zooniverse/zooniverse/utils/basic_clustering.py:128: RuntimeWarning: invalid value encountered in scalar divide\n",
      "  variance = np.sum((X_cluster - centroid) ** 2) / (len(X_cluster) - 1)\n",
      "/Users/christian/PycharmProjects/iguanas-from-above-zooniverse/zooniverse/utils/basic_clustering.py:128: RuntimeWarning: invalid value encountered in scalar divide\n",
      "  variance = np.sum((X_cluster - centroid) ** 2) / (len(X_cluster) - 1)\n",
      "/Users/christian/PycharmProjects/iguanas-from-above-zooniverse/zooniverse/utils/basic_clustering.py:128: RuntimeWarning: invalid value encountered in scalar divide\n",
      "  variance = np.sum((X_cluster - centroid) ** 2) / (len(X_cluster) - 1)\n",
      "/var/folders/2k/78nn7s4548986wsjh29rhj9w0000gn/T/ipykernel_57185/3251098555.py:40: FutureWarning: The behavior of DataFrame concatenation with empty or all-NA entries is deprecated. In a future version, this will no longer exclude empty or all-NA columns when determining the result dtypes. To retain the old behavior, exclude the relevant entries before the concat operation.\n",
      "  df_dbscan_localization = pd.concat([*db_scan_results.values()])\n"
     ]
    }
   ],
   "source": [
    "## fixes the problem with the silouette score sorting\n",
    "from zooniverse.analysis import compare_dbscan_hyp_v2\n",
    "\n",
    "eps_variants = [0.01, 0.05, 0.1, 0.2, 0.3, 0.4, 0.5]\n",
    "min_samples_variants = [3, 5, 8, 10]\n",
    "if debug:\n",
    "    eps_variants = [0.3]\n",
    "    min_samples_variants = [3]\n",
    "params = [(eps, min_samples) for eps in eps_variants for min_samples in min_samples_variants]\n",
    "\n",
    "db_scan_results = {}\n",
    "db_scan_best_results = []\n",
    "db_scan_best_bic_results = []\n",
    "for image_name, df_image_name in df_merged_dataset.groupby(\"image_name\"):\n",
    "\n",
    "    dbscan_localization = compare_dbscan_hyp_v2(\n",
    "        # phase_tag=phase_tag,\n",
    "        params=params,\n",
    "        df_flat=df_image_name,\n",
    "        # output_path=output_path,\n",
    "        output_plot_path=output_plot_path,\n",
    "        plot=show_plots,\n",
    "        \n",
    "    )\n",
    "\n",
    "    db_scan_results[image_name] = pd.DataFrame(dbscan_localization)\n",
    "    \n",
    "    # TODO Here lies the main problem with DBSCAN.\n",
    "    # DBSCAN tends to classfy all points as noise if min_samples is too high. Often only a single user marked an iguana.\n",
    "    # Sillouette Scoring needs a minimum of 2 clusters\n",
    "    # if there are points in decent radius they will belong to a cluster\n",
    "    if pd.DataFrame(dbscan_localization).dbscan_count.max() == 1:\n",
    "        db_scan_best_results.append(pd.DataFrame(dbscan_localization).sort_values(\"dbscan_count\", ascending=False).iloc[0])\n",
    "        db_scan_best_bic_results.append(pd.DataFrame(dbscan_localization).sort_values(\"dbscan_count\", ascending=False).iloc[0])\n",
    "        # If two or more cluster seem to exists take ones with the best Silouette score\n",
    "    else:  \n",
    "        # take the best result by silouette score if there are more clusters then 1\n",
    "        db_scan_best_results.append(pd.DataFrame(dbscan_localization).sort_values(\"dbscan_silouette_score\", ascending=False).iloc[0])\n",
    "    \n",
    "df_dbscan_localization = pd.concat([*db_scan_results.values()])\n",
    "df_scan_best_results = pd.DataFrame(db_scan_best_results)\n",
    "\n"
   ]
  },
  {
   "cell_type": "code",
   "execution_count": 38,
   "id": "ec07d63d180d7442",
   "metadata": {
    "ExecuteTime": {
     "end_time": "2024-03-07T12:08:37.278878Z",
     "start_time": "2024-03-07T12:08:37.259063Z"
    },
    "collapsed": false,
    "jupyter": {
     "outputs_hidden": false
    }
   },
   "outputs": [
    {
     "data": {
      "text/html": [
       "<div>\n",
       "<style scoped>\n",
       "    .dataframe tbody tr th:only-of-type {\n",
       "        vertical-align: middle;\n",
       "    }\n",
       "\n",
       "    .dataframe tbody tr th {\n",
       "        vertical-align: top;\n",
       "    }\n",
       "\n",
       "    .dataframe thead th {\n",
       "        text-align: right;\n",
       "    }\n",
       "</style>\n",
       "<table border=\"1\" class=\"dataframe\">\n",
       "  <thead>\n",
       "    <tr style=\"text-align: right;\">\n",
       "      <th></th>\n",
       "      <th>dbscan_count</th>\n",
       "      <th>dbscan_noise</th>\n",
       "      <th>dbscan_silouette_score</th>\n",
       "      <th>dbscan_BIC_score</th>\n",
       "      <th>image_name</th>\n",
       "      <th>eps</th>\n",
       "      <th>min_samples</th>\n",
       "    </tr>\n",
       "  </thead>\n",
       "  <tbody>\n",
       "    <tr>\n",
       "      <th>10</th>\n",
       "      <td>18</td>\n",
       "      <td>28</td>\n",
       "      <td>0.616352</td>\n",
       "      <td>-4182.334018</td>\n",
       "      <td>ESCH01-1_13.jpg</td>\n",
       "      <td>0.10</td>\n",
       "      <td>8</td>\n",
       "    </tr>\n",
       "    <tr>\n",
       "      <th>4</th>\n",
       "      <td>9</td>\n",
       "      <td>12</td>\n",
       "      <td>0.716935</td>\n",
       "      <td>-1112.370289</td>\n",
       "      <td>ESCH01-1_19.jpg</td>\n",
       "      <td>0.05</td>\n",
       "      <td>3</td>\n",
       "    </tr>\n",
       "    <tr>\n",
       "      <th>20</th>\n",
       "      <td>8</td>\n",
       "      <td>1</td>\n",
       "      <td>0.861200</td>\n",
       "      <td>NaN</td>\n",
       "      <td>ESCH01-1_21.jpg</td>\n",
       "      <td>0.40</td>\n",
       "      <td>3</td>\n",
       "    </tr>\n",
       "    <tr>\n",
       "      <th>27</th>\n",
       "      <td>4</td>\n",
       "      <td>1</td>\n",
       "      <td>0.931680</td>\n",
       "      <td>NaN</td>\n",
       "      <td>ESCH01-1_22.jpg</td>\n",
       "      <td>0.50</td>\n",
       "      <td>10</td>\n",
       "    </tr>\n",
       "    <tr>\n",
       "      <th>16</th>\n",
       "      <td>2</td>\n",
       "      <td>1</td>\n",
       "      <td>0.874491</td>\n",
       "      <td>NaN</td>\n",
       "      <td>ESCH01-1_23.jpg</td>\n",
       "      <td>0.30</td>\n",
       "      <td>3</td>\n",
       "    </tr>\n",
       "    <tr>\n",
       "      <th>...</th>\n",
       "      <td>...</td>\n",
       "      <td>...</td>\n",
       "      <td>...</td>\n",
       "      <td>...</td>\n",
       "      <td>...</td>\n",
       "      <td>...</td>\n",
       "      <td>...</td>\n",
       "    </tr>\n",
       "    <tr>\n",
       "      <th>27</th>\n",
       "      <td>4</td>\n",
       "      <td>3</td>\n",
       "      <td>0.664809</td>\n",
       "      <td>-3621.622512</td>\n",
       "      <td>PWC01-1_61.jpg</td>\n",
       "      <td>0.50</td>\n",
       "      <td>10</td>\n",
       "    </tr>\n",
       "    <tr>\n",
       "      <th>12</th>\n",
       "      <td>7</td>\n",
       "      <td>1</td>\n",
       "      <td>0.806874</td>\n",
       "      <td>NaN</td>\n",
       "      <td>PWC01-1_62.jpg</td>\n",
       "      <td>0.20</td>\n",
       "      <td>3</td>\n",
       "    </tr>\n",
       "    <tr>\n",
       "      <th>24</th>\n",
       "      <td>4</td>\n",
       "      <td>3</td>\n",
       "      <td>0.752832</td>\n",
       "      <td>-293.623536</td>\n",
       "      <td>PWC01-4_231.jpg</td>\n",
       "      <td>0.50</td>\n",
       "      <td>3</td>\n",
       "    </tr>\n",
       "    <tr>\n",
       "      <th>4</th>\n",
       "      <td>2</td>\n",
       "      <td>8</td>\n",
       "      <td>0.158432</td>\n",
       "      <td>-182.195215</td>\n",
       "      <td>PWC01-5_34.jpg</td>\n",
       "      <td>0.05</td>\n",
       "      <td>3</td>\n",
       "    </tr>\n",
       "    <tr>\n",
       "      <th>27</th>\n",
       "      <td>3</td>\n",
       "      <td>6</td>\n",
       "      <td>0.871361</td>\n",
       "      <td>-333.691978</td>\n",
       "      <td>PWC03-2-1_42.jpg</td>\n",
       "      <td>0.50</td>\n",
       "      <td>10</td>\n",
       "    </tr>\n",
       "  </tbody>\n",
       "</table>\n",
       "<p>87 rows × 7 columns</p>\n",
       "</div>"
      ],
      "text/plain": [
       "    dbscan_count  dbscan_noise  dbscan_silouette_score  dbscan_BIC_score  \\\n",
       "10            18            28                0.616352      -4182.334018   \n",
       "4              9            12                0.716935      -1112.370289   \n",
       "20             8             1                0.861200               NaN   \n",
       "27             4             1                0.931680               NaN   \n",
       "16             2             1                0.874491               NaN   \n",
       "..           ...           ...                     ...               ...   \n",
       "27             4             3                0.664809      -3621.622512   \n",
       "12             7             1                0.806874               NaN   \n",
       "24             4             3                0.752832       -293.623536   \n",
       "4              2             8                0.158432       -182.195215   \n",
       "27             3             6                0.871361       -333.691978   \n",
       "\n",
       "          image_name   eps  min_samples  \n",
       "10   ESCH01-1_13.jpg  0.10            8  \n",
       "4    ESCH01-1_19.jpg  0.05            3  \n",
       "20   ESCH01-1_21.jpg  0.40            3  \n",
       "27   ESCH01-1_22.jpg  0.50           10  \n",
       "16   ESCH01-1_23.jpg  0.30            3  \n",
       "..               ...   ...          ...  \n",
       "27    PWC01-1_61.jpg  0.50           10  \n",
       "12    PWC01-1_62.jpg  0.20            3  \n",
       "24   PWC01-4_231.jpg  0.50            3  \n",
       "4     PWC01-5_34.jpg  0.05            3  \n",
       "27  PWC03-2-1_42.jpg  0.50           10  \n",
       "\n",
       "[87 rows x 7 columns]"
      ]
     },
     "execution_count": 38,
     "metadata": {},
     "output_type": "execute_result"
    }
   ],
   "source": [
    "df_scan_best_results"
   ]
  },
  {
   "cell_type": "markdown",
   "id": "d196ca1914a06509",
   "metadata": {
    "collapsed": false,
    "jupyter": {
     "outputs_hidden": false
    }
   },
   "source": [
    "Here it can be seen why the silouette score is difficult because it is often undefined."
   ]
  },
  {
   "cell_type": "code",
   "execution_count": 39,
   "id": "c17c404cb518dbe1",
   "metadata": {
    "ExecuteTime": {
     "end_time": "2024-03-07T12:08:37.303468Z",
     "start_time": "2024-03-07T12:08:37.279686Z"
    },
    "collapsed": false,
    "jupyter": {
     "outputs_hidden": false
    }
   },
   "outputs": [
    {
     "data": {
      "text/html": [
       "<div>\n",
       "<style scoped>\n",
       "    .dataframe tbody tr th:only-of-type {\n",
       "        vertical-align: middle;\n",
       "    }\n",
       "\n",
       "    .dataframe tbody tr th {\n",
       "        vertical-align: top;\n",
       "    }\n",
       "\n",
       "    .dataframe thead th {\n",
       "        text-align: right;\n",
       "    }\n",
       "</style>\n",
       "<table border=\"1\" class=\"dataframe\">\n",
       "  <thead>\n",
       "    <tr style=\"text-align: right;\">\n",
       "      <th></th>\n",
       "      <th>dbscan_count</th>\n",
       "      <th>dbscan_noise</th>\n",
       "      <th>dbscan_silouette_score</th>\n",
       "      <th>dbscan_BIC_score</th>\n",
       "      <th>image_name</th>\n",
       "      <th>eps</th>\n",
       "      <th>min_samples</th>\n",
       "    </tr>\n",
       "  </thead>\n",
       "  <tbody>\n",
       "    <tr>\n",
       "      <th>10</th>\n",
       "      <td>18</td>\n",
       "      <td>28</td>\n",
       "      <td>0.616352</td>\n",
       "      <td>-4182.334018</td>\n",
       "      <td>ESCH01-1_13.jpg</td>\n",
       "      <td>0.10</td>\n",
       "      <td>8</td>\n",
       "    </tr>\n",
       "    <tr>\n",
       "      <th>4</th>\n",
       "      <td>9</td>\n",
       "      <td>12</td>\n",
       "      <td>0.716935</td>\n",
       "      <td>-1112.370289</td>\n",
       "      <td>ESCH01-1_19.jpg</td>\n",
       "      <td>0.05</td>\n",
       "      <td>3</td>\n",
       "    </tr>\n",
       "    <tr>\n",
       "      <th>20</th>\n",
       "      <td>8</td>\n",
       "      <td>1</td>\n",
       "      <td>0.861200</td>\n",
       "      <td>NaN</td>\n",
       "      <td>ESCH01-1_21.jpg</td>\n",
       "      <td>0.40</td>\n",
       "      <td>3</td>\n",
       "    </tr>\n",
       "    <tr>\n",
       "      <th>27</th>\n",
       "      <td>4</td>\n",
       "      <td>1</td>\n",
       "      <td>0.931680</td>\n",
       "      <td>NaN</td>\n",
       "      <td>ESCH01-1_22.jpg</td>\n",
       "      <td>0.50</td>\n",
       "      <td>10</td>\n",
       "    </tr>\n",
       "    <tr>\n",
       "      <th>16</th>\n",
       "      <td>2</td>\n",
       "      <td>1</td>\n",
       "      <td>0.874491</td>\n",
       "      <td>NaN</td>\n",
       "      <td>ESCH01-1_23.jpg</td>\n",
       "      <td>0.30</td>\n",
       "      <td>3</td>\n",
       "    </tr>\n",
       "    <tr>\n",
       "      <th>...</th>\n",
       "      <td>...</td>\n",
       "      <td>...</td>\n",
       "      <td>...</td>\n",
       "      <td>...</td>\n",
       "      <td>...</td>\n",
       "      <td>...</td>\n",
       "      <td>...</td>\n",
       "    </tr>\n",
       "    <tr>\n",
       "      <th>27</th>\n",
       "      <td>4</td>\n",
       "      <td>3</td>\n",
       "      <td>0.664809</td>\n",
       "      <td>-3621.622512</td>\n",
       "      <td>PWC01-1_61.jpg</td>\n",
       "      <td>0.50</td>\n",
       "      <td>10</td>\n",
       "    </tr>\n",
       "    <tr>\n",
       "      <th>12</th>\n",
       "      <td>7</td>\n",
       "      <td>1</td>\n",
       "      <td>0.806874</td>\n",
       "      <td>NaN</td>\n",
       "      <td>PWC01-1_62.jpg</td>\n",
       "      <td>0.20</td>\n",
       "      <td>3</td>\n",
       "    </tr>\n",
       "    <tr>\n",
       "      <th>24</th>\n",
       "      <td>4</td>\n",
       "      <td>3</td>\n",
       "      <td>0.752832</td>\n",
       "      <td>-293.623536</td>\n",
       "      <td>PWC01-4_231.jpg</td>\n",
       "      <td>0.50</td>\n",
       "      <td>3</td>\n",
       "    </tr>\n",
       "    <tr>\n",
       "      <th>4</th>\n",
       "      <td>2</td>\n",
       "      <td>8</td>\n",
       "      <td>0.158432</td>\n",
       "      <td>-182.195215</td>\n",
       "      <td>PWC01-5_34.jpg</td>\n",
       "      <td>0.05</td>\n",
       "      <td>3</td>\n",
       "    </tr>\n",
       "    <tr>\n",
       "      <th>27</th>\n",
       "      <td>3</td>\n",
       "      <td>6</td>\n",
       "      <td>0.871361</td>\n",
       "      <td>-333.691978</td>\n",
       "      <td>PWC03-2-1_42.jpg</td>\n",
       "      <td>0.50</td>\n",
       "      <td>10</td>\n",
       "    </tr>\n",
       "  </tbody>\n",
       "</table>\n",
       "<p>87 rows × 7 columns</p>\n",
       "</div>"
      ],
      "text/plain": [
       "    dbscan_count  dbscan_noise  dbscan_silouette_score  dbscan_BIC_score  \\\n",
       "10            18            28                0.616352      -4182.334018   \n",
       "4              9            12                0.716935      -1112.370289   \n",
       "20             8             1                0.861200               NaN   \n",
       "27             4             1                0.931680               NaN   \n",
       "16             2             1                0.874491               NaN   \n",
       "..           ...           ...                     ...               ...   \n",
       "27             4             3                0.664809      -3621.622512   \n",
       "12             7             1                0.806874               NaN   \n",
       "24             4             3                0.752832       -293.623536   \n",
       "4              2             8                0.158432       -182.195215   \n",
       "27             3             6                0.871361       -333.691978   \n",
       "\n",
       "          image_name   eps  min_samples  \n",
       "10   ESCH01-1_13.jpg  0.10            8  \n",
       "4    ESCH01-1_19.jpg  0.05            3  \n",
       "20   ESCH01-1_21.jpg  0.40            3  \n",
       "27   ESCH01-1_22.jpg  0.50           10  \n",
       "16   ESCH01-1_23.jpg  0.30            3  \n",
       "..               ...   ...          ...  \n",
       "27    PWC01-1_61.jpg  0.50           10  \n",
       "12    PWC01-1_62.jpg  0.20            3  \n",
       "24   PWC01-4_231.jpg  0.50            3  \n",
       "4     PWC01-5_34.jpg  0.05            3  \n",
       "27  PWC03-2-1_42.jpg  0.50           10  \n",
       "\n",
       "[87 rows x 7 columns]"
      ]
     },
     "execution_count": 39,
     "metadata": {},
     "output_type": "execute_result"
    }
   ],
   "source": [
    "## save the combinations of parameters, which maximized the silouette score.\n",
    "\n",
    "df_dbscan_localization.to_csv(config[\"dbscan_hyperparam_grid\"])\n",
    "df_scan_best_results"
   ]
  },
  {
   "cell_type": "code",
   "execution_count": 40,
   "id": "bacea598a23a1b81",
   "metadata": {
    "ExecuteTime": {
     "end_time": "2024-03-07T12:08:37.321804Z",
     "start_time": "2024-03-07T12:08:37.304097Z"
    },
    "collapsed": false,
    "jupyter": {
     "outputs_hidden": false
    }
   },
   "outputs": [],
   "source": [
    "df_scan_best_results.rename(columns={\"dbscan_count\": \"dbscan_count_sil\" }, inplace=True)\n",
    "\n",
    "df_comparison = df_comparison.merge(df_scan_best_results, on='image_name', how='left')"
   ]
  },
  {
   "cell_type": "code",
   "execution_count": 41,
   "id": "d270534c736bcf9e",
   "metadata": {
    "ExecuteTime": {
     "end_time": "2024-03-07T12:08:37.340663Z",
     "start_time": "2024-03-07T12:08:37.322558Z"
    },
    "collapsed": false,
    "jupyter": {
     "outputs_hidden": false
    }
   },
   "outputs": [
    {
     "data": {
      "text/plain": [
       "median_count_rmse        1.555487\n",
       "mean_count_rmse          1.521801\n",
       "mode_count_rmse          2.031363\n",
       "dbscan_count_sil_rmse    2.138858\n",
       "dtype: float64"
      ]
     },
     "execution_count": 41,
     "metadata": {},
     "output_type": "execute_result"
    }
   ],
   "source": [
    "df_comparison.fillna(0, inplace=True)\n",
    "\n",
    "mse_errors[\"dbscan_count_sil_rmse\"] = mean_squared_error(df_comparison.count_total, df_comparison.dbscan_count_sil, squared=False)\n",
    "\n",
    "pd.Series(mse_errors)"
   ]
  },
  {
   "cell_type": "code",
   "execution_count": 42,
   "id": "509dec5ebdad923",
   "metadata": {
    "ExecuteTime": {
     "end_time": "2024-03-07T12:08:37.364969Z",
     "start_time": "2024-03-07T12:08:37.342175Z"
    },
    "collapsed": false,
    "jupyter": {
     "outputs_hidden": false
    }
   },
   "outputs": [
    {
     "data": {
      "text/html": [
       "<div>\n",
       "<style scoped>\n",
       "    .dataframe tbody tr th:only-of-type {\n",
       "        vertical-align: middle;\n",
       "    }\n",
       "\n",
       "    .dataframe tbody tr th {\n",
       "        vertical-align: top;\n",
       "    }\n",
       "\n",
       "    .dataframe thead th {\n",
       "        text-align: right;\n",
       "    }\n",
       "</style>\n",
       "<table border=\"1\" class=\"dataframe\">\n",
       "  <thead>\n",
       "    <tr style=\"text-align: right;\">\n",
       "      <th></th>\n",
       "      <th>image_name</th>\n",
       "      <th>subject_id</th>\n",
       "      <th>count_total</th>\n",
       "      <th>median_count</th>\n",
       "      <th>mean_count</th>\n",
       "      <th>mode_count</th>\n",
       "      <th>users</th>\n",
       "      <th>sum_annotations_count</th>\n",
       "      <th>annotations_count</th>\n",
       "      <th>dbscan_count_sil</th>\n",
       "    </tr>\n",
       "  </thead>\n",
       "  <tbody>\n",
       "    <tr>\n",
       "      <th>0</th>\n",
       "      <td>MBN04-2_182.jpg</td>\n",
       "      <td>78926344</td>\n",
       "      <td>0</td>\n",
       "      <td>2.0</td>\n",
       "      <td>1.71</td>\n",
       "      <td>1</td>\n",
       "      <td>7</td>\n",
       "      <td>12</td>\n",
       "      <td>[1, 1, 1, 2, 2, 2, 3]</td>\n",
       "      <td>2</td>\n",
       "    </tr>\n",
       "    <tr>\n",
       "      <th>1</th>\n",
       "      <td>MBBD02-2_248.jpg</td>\n",
       "      <td>78928708</td>\n",
       "      <td>2</td>\n",
       "      <td>2.0</td>\n",
       "      <td>2.12</td>\n",
       "      <td>2</td>\n",
       "      <td>17</td>\n",
       "      <td>36</td>\n",
       "      <td>[1, 1, 2, 2, 2, 2, 2, 2, 2, 2, 2, 2, 2, 3, 3, ...</td>\n",
       "      <td>2</td>\n",
       "    </tr>\n",
       "    <tr>\n",
       "      <th>2</th>\n",
       "      <td>PCI01-2_111.jpg</td>\n",
       "      <td>78938221</td>\n",
       "      <td>4</td>\n",
       "      <td>3.0</td>\n",
       "      <td>3.50</td>\n",
       "      <td>3</td>\n",
       "      <td>20</td>\n",
       "      <td>70</td>\n",
       "      <td>[2, 2, 3, 3, 3, 3, 3, 3, 3, 3, 3, 4, 4, 4, 4, ...</td>\n",
       "      <td>5</td>\n",
       "    </tr>\n",
       "    <tr>\n",
       "      <th>3</th>\n",
       "      <td>PCI02-1_92.jpg</td>\n",
       "      <td>78938603</td>\n",
       "      <td>1</td>\n",
       "      <td>1.0</td>\n",
       "      <td>1.21</td>\n",
       "      <td>1</td>\n",
       "      <td>19</td>\n",
       "      <td>23</td>\n",
       "      <td>[1, 1, 1, 1, 1, 1, 1, 1, 1, 1, 1, 1, 1, 1, 1, ...</td>\n",
       "      <td>2</td>\n",
       "    </tr>\n",
       "    <tr>\n",
       "      <th>4</th>\n",
       "      <td>PCIC01-1_113.jpg</td>\n",
       "      <td>78938992</td>\n",
       "      <td>2</td>\n",
       "      <td>2.0</td>\n",
       "      <td>1.75</td>\n",
       "      <td>2</td>\n",
       "      <td>8</td>\n",
       "      <td>14</td>\n",
       "      <td>[1, 1, 1, 2, 2, 2, 2, 3]</td>\n",
       "      <td>2</td>\n",
       "    </tr>\n",
       "    <tr>\n",
       "      <th>...</th>\n",
       "      <td>...</td>\n",
       "      <td>...</td>\n",
       "      <td>...</td>\n",
       "      <td>...</td>\n",
       "      <td>...</td>\n",
       "      <td>...</td>\n",
       "      <td>...</td>\n",
       "      <td>...</td>\n",
       "      <td>...</td>\n",
       "      <td>...</td>\n",
       "    </tr>\n",
       "    <tr>\n",
       "      <th>82</th>\n",
       "      <td>GWB01-2_300.jpg</td>\n",
       "      <td>78925388</td>\n",
       "      <td>1</td>\n",
       "      <td>1.0</td>\n",
       "      <td>1.00</td>\n",
       "      <td>1</td>\n",
       "      <td>9</td>\n",
       "      <td>9</td>\n",
       "      <td>[1, 1, 1, 1, 1, 1, 1, 1, 1]</td>\n",
       "      <td>0</td>\n",
       "    </tr>\n",
       "    <tr>\n",
       "      <th>83</th>\n",
       "      <td>GWB01-2_421.jpg</td>\n",
       "      <td>78925457</td>\n",
       "      <td>1</td>\n",
       "      <td>1.0</td>\n",
       "      <td>1.11</td>\n",
       "      <td>1</td>\n",
       "      <td>9</td>\n",
       "      <td>10</td>\n",
       "      <td>[1, 1, 1, 1, 1, 1, 1, 1, 2]</td>\n",
       "      <td>1</td>\n",
       "    </tr>\n",
       "    <tr>\n",
       "      <th>84</th>\n",
       "      <td>GWB01-2_430.jpg</td>\n",
       "      <td>78925467</td>\n",
       "      <td>1</td>\n",
       "      <td>1.0</td>\n",
       "      <td>1.11</td>\n",
       "      <td>1</td>\n",
       "      <td>9</td>\n",
       "      <td>10</td>\n",
       "      <td>[1, 1, 1, 1, 1, 1, 1, 1, 2]</td>\n",
       "      <td>1</td>\n",
       "    </tr>\n",
       "    <tr>\n",
       "      <th>85</th>\n",
       "      <td>GWB01-3_12.jpg</td>\n",
       "      <td>78925536</td>\n",
       "      <td>1</td>\n",
       "      <td>1.0</td>\n",
       "      <td>1.04</td>\n",
       "      <td>1</td>\n",
       "      <td>26</td>\n",
       "      <td>27</td>\n",
       "      <td>[1, 1, 1, 1, 1, 1, 1, 1, 1, 1, 1, 1, 1, 1, 1, ...</td>\n",
       "      <td>2</td>\n",
       "    </tr>\n",
       "    <tr>\n",
       "      <th>86</th>\n",
       "      <td>GWB01-3_152.jpg</td>\n",
       "      <td>78925551</td>\n",
       "      <td>2</td>\n",
       "      <td>2.0</td>\n",
       "      <td>2.00</td>\n",
       "      <td>2</td>\n",
       "      <td>15</td>\n",
       "      <td>30</td>\n",
       "      <td>[1, 1, 1, 1, 2, 2, 2, 2, 2, 2, 2, 2, 2, 2, 6]</td>\n",
       "      <td>2</td>\n",
       "    </tr>\n",
       "  </tbody>\n",
       "</table>\n",
       "<p>87 rows × 10 columns</p>\n",
       "</div>"
      ],
      "text/plain": [
       "          image_name  subject_id  count_total  median_count  mean_count  \\\n",
       "0    MBN04-2_182.jpg    78926344            0           2.0        1.71   \n",
       "1   MBBD02-2_248.jpg    78928708            2           2.0        2.12   \n",
       "2    PCI01-2_111.jpg    78938221            4           3.0        3.50   \n",
       "3     PCI02-1_92.jpg    78938603            1           1.0        1.21   \n",
       "4   PCIC01-1_113.jpg    78938992            2           2.0        1.75   \n",
       "..               ...         ...          ...           ...         ...   \n",
       "82   GWB01-2_300.jpg    78925388            1           1.0        1.00   \n",
       "83   GWB01-2_421.jpg    78925457            1           1.0        1.11   \n",
       "84   GWB01-2_430.jpg    78925467            1           1.0        1.11   \n",
       "85    GWB01-3_12.jpg    78925536            1           1.0        1.04   \n",
       "86   GWB01-3_152.jpg    78925551            2           2.0        2.00   \n",
       "\n",
       "    mode_count  users  sum_annotations_count  \\\n",
       "0            1      7                     12   \n",
       "1            2     17                     36   \n",
       "2            3     20                     70   \n",
       "3            1     19                     23   \n",
       "4            2      8                     14   \n",
       "..         ...    ...                    ...   \n",
       "82           1      9                      9   \n",
       "83           1      9                     10   \n",
       "84           1      9                     10   \n",
       "85           1     26                     27   \n",
       "86           2     15                     30   \n",
       "\n",
       "                                    annotations_count  dbscan_count_sil  \n",
       "0                               [1, 1, 1, 2, 2, 2, 3]                 2  \n",
       "1   [1, 1, 2, 2, 2, 2, 2, 2, 2, 2, 2, 2, 2, 3, 3, ...                 2  \n",
       "2   [2, 2, 3, 3, 3, 3, 3, 3, 3, 3, 3, 4, 4, 4, 4, ...                 5  \n",
       "3   [1, 1, 1, 1, 1, 1, 1, 1, 1, 1, 1, 1, 1, 1, 1, ...                 2  \n",
       "4                            [1, 1, 1, 2, 2, 2, 2, 3]                 2  \n",
       "..                                                ...               ...  \n",
       "82                        [1, 1, 1, 1, 1, 1, 1, 1, 1]                 0  \n",
       "83                        [1, 1, 1, 1, 1, 1, 1, 1, 2]                 1  \n",
       "84                        [1, 1, 1, 1, 1, 1, 1, 1, 2]                 1  \n",
       "85  [1, 1, 1, 1, 1, 1, 1, 1, 1, 1, 1, 1, 1, 1, 1, ...                 2  \n",
       "86      [1, 1, 1, 1, 2, 2, 2, 2, 2, 2, 2, 2, 2, 2, 6]                 2  \n",
       "\n",
       "[87 rows x 10 columns]"
      ]
     },
     "execution_count": 42,
     "metadata": {},
     "output_type": "execute_result"
    }
   ],
   "source": [
    "\n",
    "df_comparison = df_comparison.drop([\"dbscan_noise\", \"dbscan_silouette_score\", \"eps\", \"min_samples\", \"dbscan_BIC_score\", \"with_noise\", \"bic_avg\"], axis=1, errors=\"ignore\")\n",
    "df_comparison"
   ]
  },
  {
   "cell_type": "markdown",
   "id": "15adf791099ac332",
   "metadata": {
    "collapsed": false,
    "jupyter": {
     "outputs_hidden": false
    }
   },
   "source": [
    "### HDBSCAN clustering for each image\n",
    "\n",
    "https://scikit-learn.org/stable/modules/generated/sklearn.cluster.HDBSCAN.html#sklearn.cluster.HDBSCAN states: \"A distance threshold. Clusters below this value will be merged.\"\n",
    "\n"
   ]
  },
  {
   "cell_type": "code",
   "execution_count": 43,
   "id": "6763aed82e7088dd",
   "metadata": {
    "ExecuteTime": {
     "end_time": "2024-03-07T12:08:37.530802Z",
     "start_time": "2024-03-07T12:08:37.365597Z"
    },
    "collapsed": false,
    "jupyter": {
     "outputs_hidden": false
    }
   },
   "outputs": [
    {
     "name": "stderr",
     "output_type": "stream",
     "text": [
      "/Users/christian/PycharmProjects/iguanas-from-above-zooniverse/zooniverse/utils/basic_clustering.py:128: RuntimeWarning: invalid value encountered in scalar divide\n",
      "  variance = np.sum((X_cluster - centroid) ** 2) / (len(X_cluster) - 1)\n",
      "/Users/christian/PycharmProjects/iguanas-from-above-zooniverse/zooniverse/utils/basic_clustering.py:128: RuntimeWarning: invalid value encountered in scalar divide\n",
      "  variance = np.sum((X_cluster - centroid) ** 2) / (len(X_cluster) - 1)\n",
      "/Users/christian/PycharmProjects/iguanas-from-above-zooniverse/zooniverse/utils/basic_clustering.py:128: RuntimeWarning: invalid value encountered in scalar divide\n",
      "  variance = np.sum((X_cluster - centroid) ** 2) / (len(X_cluster) - 1)\n",
      "/Users/christian/PycharmProjects/iguanas-from-above-zooniverse/zooniverse/utils/basic_clustering.py:128: RuntimeWarning: invalid value encountered in scalar divide\n",
      "  variance = np.sum((X_cluster - centroid) ** 2) / (len(X_cluster) - 1)\n",
      "/Users/christian/PycharmProjects/iguanas-from-above-zooniverse/zooniverse/utils/basic_clustering.py:128: RuntimeWarning: invalid value encountered in scalar divide\n",
      "  variance = np.sum((X_cluster - centroid) ** 2) / (len(X_cluster) - 1)\n",
      "/Users/christian/PycharmProjects/iguanas-from-above-zooniverse/zooniverse/utils/basic_clustering.py:128: RuntimeWarning: invalid value encountered in scalar divide\n",
      "  variance = np.sum((X_cluster - centroid) ** 2) / (len(X_cluster) - 1)\n"
     ]
    }
   ],
   "source": [
    "from zooniverse.analysis import HDBSCAN_Wrapper\n",
    "\n",
    "hdbscan_values = []\n",
    "\n",
    "eps_variants = [0.0] # 0 is the default\n",
    "min_cluster_sizes = [5] # 5 is the default\n",
    "\n",
    "\n",
    "for image_name, df_image_name in df_merged_dataset.groupby(\"image_name\"):\n",
    "    annotations_count = get_mark_overview(df_image_name)\n",
    "    annotations_count_stats = get_annotation_count_stats(annotations_count=annotations_count,\n",
    "                                                         image_name=df_image_name.iloc[0][\"image_name\"])\n",
    "    \n",
    "    \n",
    "    if df_image_name.shape[0] >= 5: # if less then min_cluster_sizes points are available clustering makes no sense\n",
    "        params = [(eps, min_cluster_size, max_cluster_size) \n",
    "                    for eps in eps_variants\n",
    "                    for min_cluster_size in min_cluster_sizes\n",
    "                    for max_cluster_size in [None]\n",
    "              ]\n",
    "\n",
    "        df_hdbscan = HDBSCAN_Wrapper(df_marks=df_image_name[[\"x\", \"y\"]],\n",
    "                                     annotations_count=annotations_count,\n",
    "                                     output_path=output_plot_path,\n",
    "                                     plot=show_plots,\n",
    "                                     show=show_plots,\n",
    "                                     image_name=image_name,\n",
    "                                     params=params)\n",
    "        hdbscan_values.append(df_hdbscan)\n",
    "\n",
    "\n",
    "df_hdbscan = pd.concat(hdbscan_values)\n",
    "\n"
   ]
  },
  {
   "cell_type": "code",
   "execution_count": 44,
   "id": "5de6304addaca41d",
   "metadata": {
    "ExecuteTime": {
     "end_time": "2024-03-07T12:08:37.552283Z",
     "start_time": "2024-03-07T12:08:37.531679Z"
    },
    "collapsed": false,
    "jupyter": {
     "outputs_hidden": false
    }
   },
   "outputs": [
    {
     "data": {
      "text/html": [
       "<div>\n",
       "<style scoped>\n",
       "    .dataframe tbody tr th:only-of-type {\n",
       "        vertical-align: middle;\n",
       "    }\n",
       "\n",
       "    .dataframe tbody tr th {\n",
       "        vertical-align: top;\n",
       "    }\n",
       "\n",
       "    .dataframe thead th {\n",
       "        text-align: right;\n",
       "    }\n",
       "</style>\n",
       "<table border=\"1\" class=\"dataframe\">\n",
       "  <thead>\n",
       "    <tr style=\"text-align: right;\">\n",
       "      <th></th>\n",
       "      <th>image_name</th>\n",
       "      <th>HDBSCAN_count</th>\n",
       "      <th>eps</th>\n",
       "      <th>min_cluster_size</th>\n",
       "      <th>max_cluster_size</th>\n",
       "      <th>noise_points</th>\n",
       "    </tr>\n",
       "  </thead>\n",
       "  <tbody>\n",
       "    <tr>\n",
       "      <th>0</th>\n",
       "      <td>ESCH01-1_13.jpg</td>\n",
       "      <td>19</td>\n",
       "      <td>0.0</td>\n",
       "      <td>5</td>\n",
       "      <td>None</td>\n",
       "      <td>26</td>\n",
       "    </tr>\n",
       "    <tr>\n",
       "      <th>0</th>\n",
       "      <td>ESCH01-1_19.jpg</td>\n",
       "      <td>9</td>\n",
       "      <td>0.0</td>\n",
       "      <td>5</td>\n",
       "      <td>None</td>\n",
       "      <td>8</td>\n",
       "    </tr>\n",
       "    <tr>\n",
       "      <th>0</th>\n",
       "      <td>ESCH01-1_21.jpg</td>\n",
       "      <td>10</td>\n",
       "      <td>0.0</td>\n",
       "      <td>5</td>\n",
       "      <td>None</td>\n",
       "      <td>5</td>\n",
       "    </tr>\n",
       "    <tr>\n",
       "      <th>0</th>\n",
       "      <td>ESCH01-1_22.jpg</td>\n",
       "      <td>5</td>\n",
       "      <td>0.0</td>\n",
       "      <td>5</td>\n",
       "      <td>None</td>\n",
       "      <td>6</td>\n",
       "    </tr>\n",
       "    <tr>\n",
       "      <th>0</th>\n",
       "      <td>ESCH01-1_23.jpg</td>\n",
       "      <td>2</td>\n",
       "      <td>0.0</td>\n",
       "      <td>5</td>\n",
       "      <td>None</td>\n",
       "      <td>0</td>\n",
       "    </tr>\n",
       "    <tr>\n",
       "      <th>...</th>\n",
       "      <td>...</td>\n",
       "      <td>...</td>\n",
       "      <td>...</td>\n",
       "      <td>...</td>\n",
       "      <td>...</td>\n",
       "      <td>...</td>\n",
       "    </tr>\n",
       "    <tr>\n",
       "      <th>0</th>\n",
       "      <td>PWC01-1_61.jpg</td>\n",
       "      <td>14</td>\n",
       "      <td>0.0</td>\n",
       "      <td>5</td>\n",
       "      <td>None</td>\n",
       "      <td>36</td>\n",
       "    </tr>\n",
       "    <tr>\n",
       "      <th>0</th>\n",
       "      <td>PWC01-1_62.jpg</td>\n",
       "      <td>11</td>\n",
       "      <td>0.0</td>\n",
       "      <td>5</td>\n",
       "      <td>None</td>\n",
       "      <td>5</td>\n",
       "    </tr>\n",
       "    <tr>\n",
       "      <th>0</th>\n",
       "      <td>PWC01-4_231.jpg</td>\n",
       "      <td>3</td>\n",
       "      <td>0.0</td>\n",
       "      <td>5</td>\n",
       "      <td>None</td>\n",
       "      <td>0</td>\n",
       "    </tr>\n",
       "    <tr>\n",
       "      <th>0</th>\n",
       "      <td>PWC01-5_34.jpg</td>\n",
       "      <td>1</td>\n",
       "      <td>0.0</td>\n",
       "      <td>5</td>\n",
       "      <td>None</td>\n",
       "      <td>12</td>\n",
       "    </tr>\n",
       "    <tr>\n",
       "      <th>0</th>\n",
       "      <td>PWC03-2-1_42.jpg</td>\n",
       "      <td>4</td>\n",
       "      <td>0.0</td>\n",
       "      <td>5</td>\n",
       "      <td>None</td>\n",
       "      <td>0</td>\n",
       "    </tr>\n",
       "  </tbody>\n",
       "</table>\n",
       "<p>85 rows × 6 columns</p>\n",
       "</div>"
      ],
      "text/plain": [
       "          image_name  HDBSCAN_count  eps  min_cluster_size max_cluster_size  \\\n",
       "0    ESCH01-1_13.jpg             19  0.0                 5             None   \n",
       "0    ESCH01-1_19.jpg              9  0.0                 5             None   \n",
       "0    ESCH01-1_21.jpg             10  0.0                 5             None   \n",
       "0    ESCH01-1_22.jpg              5  0.0                 5             None   \n",
       "0    ESCH01-1_23.jpg              2  0.0                 5             None   \n",
       "..               ...            ...  ...               ...              ...   \n",
       "0     PWC01-1_61.jpg             14  0.0                 5             None   \n",
       "0     PWC01-1_62.jpg             11  0.0                 5             None   \n",
       "0    PWC01-4_231.jpg              3  0.0                 5             None   \n",
       "0     PWC01-5_34.jpg              1  0.0                 5             None   \n",
       "0   PWC03-2-1_42.jpg              4  0.0                 5             None   \n",
       "\n",
       "    noise_points  \n",
       "0             26  \n",
       "0              8  \n",
       "0              5  \n",
       "0              6  \n",
       "0              0  \n",
       "..           ...  \n",
       "0             36  \n",
       "0              5  \n",
       "0              0  \n",
       "0             12  \n",
       "0              0  \n",
       "\n",
       "[85 rows x 6 columns]"
      ]
     },
     "execution_count": 44,
     "metadata": {},
     "output_type": "execute_result"
    }
   ],
   "source": [
    "df_hdbscan.drop([\"with_noise\", \"bic_avg\"], axis=1, inplace=True)\n",
    "df_hdbscan"
   ]
  },
  {
   "cell_type": "code",
   "execution_count": 45,
   "id": "563e2747f9f8a77c",
   "metadata": {
    "ExecuteTime": {
     "end_time": "2024-03-07T12:08:37.571814Z",
     "start_time": "2024-03-07T12:08:37.553017Z"
    },
    "collapsed": false,
    "jupyter": {
     "outputs_hidden": false
    }
   },
   "outputs": [
    {
     "data": {
      "text/plain": [
       "351"
      ]
     },
     "execution_count": 45,
     "metadata": {},
     "output_type": "execute_result"
    }
   ],
   "source": [
    "df_comparison = df_comparison.merge(df_hdbscan, on='image_name', how='left')\n",
    "\n",
    "\n",
    "df_comparison[\"count_total\"].sum()"
   ]
  },
  {
   "cell_type": "code",
   "execution_count": 46,
   "id": "bd5b4be03b3480d5",
   "metadata": {
    "ExecuteTime": {
     "end_time": "2024-03-07T12:08:37.591093Z",
     "start_time": "2024-03-07T12:08:37.572759Z"
    },
    "collapsed": false,
    "jupyter": {
     "outputs_hidden": false
    }
   },
   "outputs": [
    {
     "name": "stdout",
     "output_type": "stream",
     "text": [
      "saved /Users/christian/data/zooniverse/2024_03_07_expert_goldstandard_analysis/Iguanas 3rd launch/Iguanas 3rd launch_method_comparison.csv\n"
     ]
    }
   ],
   "source": [
    "df_comparison.to_csv(config[\"comparison_dataset\"])\n",
    "print(f\"saved {config['comparison_dataset']}\")"
   ]
  },
  {
   "cell_type": "code",
   "execution_count": 47,
   "id": "146136b8ee749f9",
   "metadata": {
    "ExecuteTime": {
     "end_time": "2024-03-07T12:08:37.611999Z",
     "start_time": "2024-03-07T12:08:37.592379Z"
    },
    "collapsed": false,
    "jupyter": {
     "outputs_hidden": false
    }
   },
   "outputs": [],
   "source": [
    "df_comparison.count_total.fillna(0, inplace=True)\n",
    "df_comparison.HDBSCAN_count.fillna(0, inplace=True)\n",
    "\n",
    "mse_errors[\"hdbscan_count_rmse\"] = mean_squared_error(df_comparison.count_total, df_comparison.HDBSCAN_count, squared=False)\n"
   ]
  },
  {
   "cell_type": "markdown",
   "id": "1866104643b4427f",
   "metadata": {
    "collapsed": false,
    "jupyter": {
     "outputs_hidden": false
    }
   },
   "source": [
    "# A look into the results\n",
    "Root Means Squared Error for the different methods"
   ]
  },
  {
   "cell_type": "code",
   "execution_count": 48,
   "id": "ae08d15b32fe83ec",
   "metadata": {
    "ExecuteTime": {
     "end_time": "2024-03-07T12:08:37.632286Z",
     "start_time": "2024-03-07T12:08:37.612828Z"
    },
    "collapsed": false,
    "jupyter": {
     "outputs_hidden": false
    }
   },
   "outputs": [
    {
     "data": {
      "text/html": [
       "<div>\n",
       "<style scoped>\n",
       "    .dataframe tbody tr th:only-of-type {\n",
       "        vertical-align: middle;\n",
       "    }\n",
       "\n",
       "    .dataframe tbody tr th {\n",
       "        vertical-align: top;\n",
       "    }\n",
       "\n",
       "    .dataframe thead th {\n",
       "        text-align: right;\n",
       "    }\n",
       "</style>\n",
       "<table border=\"1\" class=\"dataframe\">\n",
       "  <thead>\n",
       "    <tr style=\"text-align: right;\">\n",
       "      <th></th>\n",
       "      <th>0</th>\n",
       "    </tr>\n",
       "  </thead>\n",
       "  <tbody>\n",
       "    <tr>\n",
       "      <th>hdbscan_count_rmse</th>\n",
       "      <td>1.174440</td>\n",
       "    </tr>\n",
       "    <tr>\n",
       "      <th>mean_count_rmse</th>\n",
       "      <td>1.521801</td>\n",
       "    </tr>\n",
       "    <tr>\n",
       "      <th>median_count_rmse</th>\n",
       "      <td>1.555487</td>\n",
       "    </tr>\n",
       "    <tr>\n",
       "      <th>mode_count_rmse</th>\n",
       "      <td>2.031363</td>\n",
       "    </tr>\n",
       "    <tr>\n",
       "      <th>dbscan_count_sil_rmse</th>\n",
       "      <td>2.138858</td>\n",
       "    </tr>\n",
       "  </tbody>\n",
       "</table>\n",
       "</div>"
      ],
      "text/plain": [
       "                              0\n",
       "hdbscan_count_rmse     1.174440\n",
       "mean_count_rmse        1.521801\n",
       "median_count_rmse      1.555487\n",
       "mode_count_rmse        2.031363\n",
       "dbscan_count_sil_rmse  2.138858"
      ]
     },
     "execution_count": 48,
     "metadata": {},
     "output_type": "execute_result"
    }
   ],
   "source": [
    "df_rmse = pd.DataFrame(pd.Series(mse_errors).sort_values())\n",
    "\n",
    "df_rmse.to_csv(config[\"rmse_errors\"])\n",
    "df_rmse"
   ]
  },
  {
   "cell_type": "markdown",
   "id": "683ea0eaf795e5ff",
   "metadata": {
    "collapsed": false,
    "jupyter": {
     "outputs_hidden": false
    }
   },
   "source": [
    "## The sum of the clustering\n",
    "What is the sum of the methods"
   ]
  },
  {
   "cell_type": "code",
   "execution_count": 49,
   "id": "2ae2f205858fd9c4",
   "metadata": {
    "ExecuteTime": {
     "end_time": "2024-03-07T12:08:37.654624Z",
     "start_time": "2024-03-07T12:08:37.633157Z"
    },
    "collapsed": false,
    "jupyter": {
     "outputs_hidden": false
    }
   },
   "outputs": [
    {
     "data": {
      "text/plain": [
       "mode_count          304.00\n",
       "median_count        315.00\n",
       "mean_count          318.73\n",
       "dbscan_count_sil    321.00\n",
       "count_total         351.00\n",
       "HDBSCAN_count       357.00\n",
       "dtype: float64"
      ]
     },
     "execution_count": 49,
     "metadata": {},
     "output_type": "execute_result"
    }
   ],
   "source": [
    "\n",
    "df_comparison_sum = df_comparison[[\"count_total\", \"median_count\", \"mean_count\", \"mode_count\", \"dbscan_count_sil\", \"HDBSCAN_count\"]].sum().sort_values()\n",
    "df_comparison_sum.to_csv(config[\"method_sums\"])\n",
    "df_comparison_sum"
   ]
  },
  {
   "cell_type": "code",
   "execution_count": 50,
   "id": "35c25cb6dd0c9684",
   "metadata": {
    "ExecuteTime": {
     "end_time": "2024-03-07T12:08:37.675217Z",
     "start_time": "2024-03-07T12:08:37.655710Z"
    },
    "collapsed": false,
    "jupyter": {
     "outputs_hidden": false
    }
   },
   "outputs": [
    {
     "name": "stdout",
     "output_type": "stream",
     "text": [
      "phase_tag: Iguanas 3rd launch, user_threshold: None\n"
     ]
    }
   ],
   "source": [
    "print(f\"phase_tag: {phase_tag}, user_threshold: {user_threshold}\")"
   ]
  },
  {
   "cell_type": "markdown",
   "id": "88ca320d97a38518",
   "metadata": {
    "collapsed": false,
    "jupyter": {
     "outputs_hidden": false
    }
   },
   "source": [
    "## Compare the numbers\n",
    "The counts are only for images which were in the dataset after filtering."
   ]
  },
  {
   "cell_type": "code",
   "execution_count": 51,
   "id": "98b7b0fe18ed314e",
   "metadata": {
    "ExecuteTime": {
     "end_time": "2024-03-07T12:08:37.896530Z",
     "start_time": "2024-03-07T12:08:37.677229Z"
    },
    "collapsed": false,
    "jupyter": {
     "outputs_hidden": false
    }
   },
   "outputs": [],
   "source": [
    "# if phase_tag == \"Iguanas 1st launch\" and not debug:\n",
    "#     if user_threshold == 3:\n",
    "#         assert df_comparison_sum[\"mode_count\"] == 215\n",
    "#         assert df_comparison_sum[\"dbscan_count_sil\"] == 222\n",
    "#         assert df_comparison_sum[\"median_count\"] == 228.5\n",
    "#         assert df_comparison_sum[\"HDBSCAN_count\"] == 244\n",
    "#         assert df_comparison_sum[\"count_total\"] == 323\n",
    "#     if user_threshold is None:\n",
    "#         assert df_comparison_sum[\"mode_count\"] == 221\n",
    "#         assert df_comparison_sum[\"dbscan_count_sil\"] == 224\n",
    "#         assert df_comparison_sum[\"median_count\"] == 235.5\n",
    "#         assert df_comparison_sum[\"HDBSCAN_count\"] == 247\n",
    "#         assert df_comparison_sum[\"count_total\"] == 331\n",
    "#         \n",
    "# if phase_tag == \"Iguanas 2nd launch\" and not debug:\n",
    "#     if user_threshold == 3:\n",
    "#         assert df_comparison_sum[\"mode_count\"] == 502\n",
    "#         assert df_comparison_sum[\"dbscan_count_sil\"] == 484\n",
    "#         assert df_comparison_sum[\"median_count\"] == 475\n",
    "#         assert df_comparison_sum[\"HDBSCAN_count\"] == 541\n",
    "#         assert df_comparison_sum[\"count_total\"] == 586\n",
    "#     if user_threshold is None:\n",
    "#         assert df_comparison_sum[\"mode_count\"] == 511\n",
    "#         assert df_comparison_sum[\"dbscan_count_sil\"] == 484\n",
    "#         assert df_comparison_sum[\"median_count\"] == 484.5\n",
    "#         assert df_comparison_sum[\"HDBSCAN_count\"] == 541.0\n",
    "#         assert df_comparison_sum[\"count_total\"] == 589.0\n",
    "#         \n",
    "# if phase_tag == \"Iguanas 3rd launch\" and not debug:\n",
    "#     if user_threshold == 3:\n",
    "#         assert df_comparison_sum[\"mode_count\"] == 302\n",
    "#         assert df_comparison_sum[\"dbscan_count_sil\"] == 309\n",
    "#         assert df_comparison_sum[\"median_count\"] == 313\n",
    "#         assert df_comparison_sum[\"HDBSCAN_count\"] == 357\n",
    "#         assert df_comparison_sum[\"count_total\"] == 351\n",
    "#     if user_threshold is None:\n",
    "#         assert df_comparison_sum[\"mode_count\"] == 304\n",
    "#         assert df_comparison_sum[\"dbscan_count_sil\"] == 309\n",
    "#         assert df_comparison_sum[\"median_count\"] == 315\n",
    "#         assert df_comparison_sum[\"HDBSCAN_count\"] == 357\n",
    "#         assert df_comparison_sum[\"count_total\"] == 351\n"
   ]
  },
  {
   "cell_type": "markdown",
   "id": "f194764375dc6178",
   "metadata": {
    "collapsed": false,
    "jupyter": {
     "outputs_hidden": false
    }
   },
   "source": []
  },
  {
   "cell_type": "markdown",
   "id": "8f58c29117a907a4",
   "metadata": {
    "collapsed": false,
    "jupyter": {
     "outputs_hidden": false
    }
   },
   "source": [
    "### Sum of all the Methods"
   ]
  },
  {
   "cell_type": "code",
   "execution_count": 52,
   "id": "e6a0ba0c34ca129a",
   "metadata": {
    "ExecuteTime": {
     "end_time": "2024-03-07T12:08:58.278038Z",
     "start_time": "2024-03-07T12:08:58.257524Z"
    },
    "collapsed": false,
    "jupyter": {
     "outputs_hidden": false
    }
   },
   "outputs": [
    {
     "name": "stdout",
     "output_type": "stream",
     "text": [
      "Iguanas 3rd launch_method_sums.csv\n"
     ]
    },
    {
     "data": {
      "text/html": [
       "<div>\n",
       "<style scoped>\n",
       "    .dataframe tbody tr th:only-of-type {\n",
       "        vertical-align: middle;\n",
       "    }\n",
       "\n",
       "    .dataframe tbody tr th {\n",
       "        vertical-align: top;\n",
       "    }\n",
       "\n",
       "    .dataframe thead th {\n",
       "        text-align: right;\n",
       "    }\n",
       "</style>\n",
       "<table border=\"1\" class=\"dataframe\">\n",
       "  <thead>\n",
       "    <tr style=\"text-align: right;\">\n",
       "      <th></th>\n",
       "      <th>Unnamed: 0</th>\n",
       "      <th>0</th>\n",
       "    </tr>\n",
       "  </thead>\n",
       "  <tbody>\n",
       "    <tr>\n",
       "      <th>0</th>\n",
       "      <td>mode_count</td>\n",
       "      <td>304.00</td>\n",
       "    </tr>\n",
       "    <tr>\n",
       "      <th>1</th>\n",
       "      <td>median_count</td>\n",
       "      <td>315.00</td>\n",
       "    </tr>\n",
       "    <tr>\n",
       "      <th>2</th>\n",
       "      <td>mean_count</td>\n",
       "      <td>318.73</td>\n",
       "    </tr>\n",
       "    <tr>\n",
       "      <th>3</th>\n",
       "      <td>dbscan_count_sil</td>\n",
       "      <td>321.00</td>\n",
       "    </tr>\n",
       "    <tr>\n",
       "      <th>4</th>\n",
       "      <td>count_total</td>\n",
       "      <td>351.00</td>\n",
       "    </tr>\n",
       "    <tr>\n",
       "      <th>5</th>\n",
       "      <td>HDBSCAN_count</td>\n",
       "      <td>357.00</td>\n",
       "    </tr>\n",
       "  </tbody>\n",
       "</table>\n",
       "</div>"
      ],
      "text/plain": [
       "         Unnamed: 0       0\n",
       "0        mode_count  304.00\n",
       "1      median_count  315.00\n",
       "2        mean_count  318.73\n",
       "3  dbscan_count_sil  321.00\n",
       "4       count_total  351.00\n",
       "5     HDBSCAN_count  357.00"
      ]
     },
     "execution_count": 52,
     "metadata": {},
     "output_type": "execute_result"
    }
   ],
   "source": [
    "print(f\"{config['method_sums'].name}\")\n",
    "pd.read_csv(config[\"method_sums\"])"
   ]
  },
  {
   "cell_type": "markdown",
   "id": "63ec459bb6b0ea1d",
   "metadata": {
    "collapsed": false,
    "jupyter": {
     "outputs_hidden": false
    }
   },
   "source": [
    "### Root Mean Squared Error"
   ]
  },
  {
   "cell_type": "code",
   "execution_count": 53,
   "id": "d9a6e83ec7b73319",
   "metadata": {
    "ExecuteTime": {
     "end_time": "2024-03-07T12:08:58.579746Z",
     "start_time": "2024-03-07T12:08:58.560835Z"
    },
    "collapsed": false,
    "jupyter": {
     "outputs_hidden": false
    }
   },
   "outputs": [
    {
     "name": "stdout",
     "output_type": "stream",
     "text": [
      "Iguanas 3rd launch_rmse_errors.csv\n"
     ]
    },
    {
     "data": {
      "text/html": [
       "<div>\n",
       "<style scoped>\n",
       "    .dataframe tbody tr th:only-of-type {\n",
       "        vertical-align: middle;\n",
       "    }\n",
       "\n",
       "    .dataframe tbody tr th {\n",
       "        vertical-align: top;\n",
       "    }\n",
       "\n",
       "    .dataframe thead th {\n",
       "        text-align: right;\n",
       "    }\n",
       "</style>\n",
       "<table border=\"1\" class=\"dataframe\">\n",
       "  <thead>\n",
       "    <tr style=\"text-align: right;\">\n",
       "      <th></th>\n",
       "      <th>Unnamed: 0</th>\n",
       "      <th>0</th>\n",
       "    </tr>\n",
       "  </thead>\n",
       "  <tbody>\n",
       "    <tr>\n",
       "      <th>0</th>\n",
       "      <td>hdbscan_count_rmse</td>\n",
       "      <td>1.174440</td>\n",
       "    </tr>\n",
       "    <tr>\n",
       "      <th>1</th>\n",
       "      <td>mean_count_rmse</td>\n",
       "      <td>1.521801</td>\n",
       "    </tr>\n",
       "    <tr>\n",
       "      <th>2</th>\n",
       "      <td>median_count_rmse</td>\n",
       "      <td>1.555487</td>\n",
       "    </tr>\n",
       "    <tr>\n",
       "      <th>3</th>\n",
       "      <td>mode_count_rmse</td>\n",
       "      <td>2.031363</td>\n",
       "    </tr>\n",
       "    <tr>\n",
       "      <th>4</th>\n",
       "      <td>dbscan_count_sil_rmse</td>\n",
       "      <td>2.138858</td>\n",
       "    </tr>\n",
       "  </tbody>\n",
       "</table>\n",
       "</div>"
      ],
      "text/plain": [
       "              Unnamed: 0         0\n",
       "0     hdbscan_count_rmse  1.174440\n",
       "1        mean_count_rmse  1.521801\n",
       "2      median_count_rmse  1.555487\n",
       "3        mode_count_rmse  2.031363\n",
       "4  dbscan_count_sil_rmse  2.138858"
      ]
     },
     "execution_count": 53,
     "metadata": {},
     "output_type": "execute_result"
    }
   ],
   "source": [
    "print(f\"{config['rmse_errors'].name}\")\n",
    "pd.read_csv(config[\"rmse_errors\"])"
   ]
  },
  {
   "cell_type": "markdown",
   "id": "59e1a0f4ffc4dcd0",
   "metadata": {
    "collapsed": false,
    "jupyter": {
     "outputs_hidden": false
    }
   },
   "source": [
    "### Comparison per Image Level"
   ]
  },
  {
   "cell_type": "code",
   "execution_count": 54,
   "id": "b63a639e877e8b4a",
   "metadata": {
    "ExecuteTime": {
     "end_time": "2024-03-07T12:08:58.834194Z",
     "start_time": "2024-03-07T12:08:58.808886Z"
    },
    "collapsed": false,
    "jupyter": {
     "outputs_hidden": false
    }
   },
   "outputs": [
    {
     "name": "stdout",
     "output_type": "stream",
     "text": [
      "load /Users/christian/data/zooniverse/2024_03_07_expert_goldstandard_analysis/Iguanas 3rd launch/Iguanas 3rd launch_method_comparison.csv\n"
     ]
    },
    {
     "data": {
      "text/html": [
       "<div>\n",
       "<style scoped>\n",
       "    .dataframe tbody tr th:only-of-type {\n",
       "        vertical-align: middle;\n",
       "    }\n",
       "\n",
       "    .dataframe tbody tr th {\n",
       "        vertical-align: top;\n",
       "    }\n",
       "\n",
       "    .dataframe thead th {\n",
       "        text-align: right;\n",
       "    }\n",
       "</style>\n",
       "<table border=\"1\" class=\"dataframe\">\n",
       "  <thead>\n",
       "    <tr style=\"text-align: right;\">\n",
       "      <th></th>\n",
       "      <th>Unnamed: 0</th>\n",
       "      <th>image_name</th>\n",
       "      <th>subject_id</th>\n",
       "      <th>count_total</th>\n",
       "      <th>median_count</th>\n",
       "      <th>mean_count</th>\n",
       "      <th>mode_count</th>\n",
       "      <th>users</th>\n",
       "      <th>sum_annotations_count</th>\n",
       "      <th>annotations_count</th>\n",
       "      <th>dbscan_count_sil</th>\n",
       "      <th>HDBSCAN_count</th>\n",
       "      <th>eps</th>\n",
       "      <th>min_cluster_size</th>\n",
       "      <th>max_cluster_size</th>\n",
       "      <th>noise_points</th>\n",
       "    </tr>\n",
       "  </thead>\n",
       "  <tbody>\n",
       "    <tr>\n",
       "      <th>0</th>\n",
       "      <td>0</td>\n",
       "      <td>MBN04-2_182.jpg</td>\n",
       "      <td>78926344</td>\n",
       "      <td>0</td>\n",
       "      <td>2.0</td>\n",
       "      <td>1.71</td>\n",
       "      <td>1</td>\n",
       "      <td>7</td>\n",
       "      <td>12</td>\n",
       "      <td>[1, 1, 1, 2, 2, 2, 3]</td>\n",
       "      <td>2</td>\n",
       "      <td>2.0</td>\n",
       "      <td>0.0</td>\n",
       "      <td>5.0</td>\n",
       "      <td>NaN</td>\n",
       "      <td>0.0</td>\n",
       "    </tr>\n",
       "    <tr>\n",
       "      <th>1</th>\n",
       "      <td>1</td>\n",
       "      <td>MBBD02-2_248.jpg</td>\n",
       "      <td>78928708</td>\n",
       "      <td>2</td>\n",
       "      <td>2.0</td>\n",
       "      <td>2.12</td>\n",
       "      <td>2</td>\n",
       "      <td>17</td>\n",
       "      <td>36</td>\n",
       "      <td>[1, 1, 2, 2, 2, 2, 2, 2, 2, 2, 2, 2, 2, 3, 3, ...</td>\n",
       "      <td>2</td>\n",
       "      <td>2.0</td>\n",
       "      <td>0.0</td>\n",
       "      <td>5.0</td>\n",
       "      <td>NaN</td>\n",
       "      <td>0.0</td>\n",
       "    </tr>\n",
       "    <tr>\n",
       "      <th>2</th>\n",
       "      <td>2</td>\n",
       "      <td>PCI01-2_111.jpg</td>\n",
       "      <td>78938221</td>\n",
       "      <td>4</td>\n",
       "      <td>3.0</td>\n",
       "      <td>3.50</td>\n",
       "      <td>3</td>\n",
       "      <td>20</td>\n",
       "      <td>70</td>\n",
       "      <td>[2, 2, 3, 3, 3, 3, 3, 3, 3, 3, 3, 4, 4, 4, 4, ...</td>\n",
       "      <td>5</td>\n",
       "      <td>4.0</td>\n",
       "      <td>0.0</td>\n",
       "      <td>5.0</td>\n",
       "      <td>NaN</td>\n",
       "      <td>6.0</td>\n",
       "    </tr>\n",
       "    <tr>\n",
       "      <th>3</th>\n",
       "      <td>3</td>\n",
       "      <td>PCI02-1_92.jpg</td>\n",
       "      <td>78938603</td>\n",
       "      <td>1</td>\n",
       "      <td>1.0</td>\n",
       "      <td>1.21</td>\n",
       "      <td>1</td>\n",
       "      <td>19</td>\n",
       "      <td>23</td>\n",
       "      <td>[1, 1, 1, 1, 1, 1, 1, 1, 1, 1, 1, 1, 1, 1, 1, ...</td>\n",
       "      <td>2</td>\n",
       "      <td>1.0</td>\n",
       "      <td>0.0</td>\n",
       "      <td>5.0</td>\n",
       "      <td>NaN</td>\n",
       "      <td>12.0</td>\n",
       "    </tr>\n",
       "    <tr>\n",
       "      <th>4</th>\n",
       "      <td>4</td>\n",
       "      <td>PCIC01-1_113.jpg</td>\n",
       "      <td>78938992</td>\n",
       "      <td>2</td>\n",
       "      <td>2.0</td>\n",
       "      <td>1.75</td>\n",
       "      <td>2</td>\n",
       "      <td>8</td>\n",
       "      <td>14</td>\n",
       "      <td>[1, 1, 1, 2, 2, 2, 2, 3]</td>\n",
       "      <td>2</td>\n",
       "      <td>2.0</td>\n",
       "      <td>0.0</td>\n",
       "      <td>5.0</td>\n",
       "      <td>NaN</td>\n",
       "      <td>0.0</td>\n",
       "    </tr>\n",
       "    <tr>\n",
       "      <th>...</th>\n",
       "      <td>...</td>\n",
       "      <td>...</td>\n",
       "      <td>...</td>\n",
       "      <td>...</td>\n",
       "      <td>...</td>\n",
       "      <td>...</td>\n",
       "      <td>...</td>\n",
       "      <td>...</td>\n",
       "      <td>...</td>\n",
       "      <td>...</td>\n",
       "      <td>...</td>\n",
       "      <td>...</td>\n",
       "      <td>...</td>\n",
       "      <td>...</td>\n",
       "      <td>...</td>\n",
       "      <td>...</td>\n",
       "    </tr>\n",
       "    <tr>\n",
       "      <th>82</th>\n",
       "      <td>82</td>\n",
       "      <td>GWB01-2_300.jpg</td>\n",
       "      <td>78925388</td>\n",
       "      <td>1</td>\n",
       "      <td>1.0</td>\n",
       "      <td>1.00</td>\n",
       "      <td>1</td>\n",
       "      <td>9</td>\n",
       "      <td>9</td>\n",
       "      <td>[1, 1, 1, 1, 1, 1, 1, 1, 1]</td>\n",
       "      <td>0</td>\n",
       "      <td>1.0</td>\n",
       "      <td>0.0</td>\n",
       "      <td>5.0</td>\n",
       "      <td>NaN</td>\n",
       "      <td>3.0</td>\n",
       "    </tr>\n",
       "    <tr>\n",
       "      <th>83</th>\n",
       "      <td>83</td>\n",
       "      <td>GWB01-2_421.jpg</td>\n",
       "      <td>78925457</td>\n",
       "      <td>1</td>\n",
       "      <td>1.0</td>\n",
       "      <td>1.11</td>\n",
       "      <td>1</td>\n",
       "      <td>9</td>\n",
       "      <td>10</td>\n",
       "      <td>[1, 1, 1, 1, 1, 1, 1, 1, 2]</td>\n",
       "      <td>1</td>\n",
       "      <td>1.0</td>\n",
       "      <td>0.0</td>\n",
       "      <td>5.0</td>\n",
       "      <td>NaN</td>\n",
       "      <td>5.0</td>\n",
       "    </tr>\n",
       "    <tr>\n",
       "      <th>84</th>\n",
       "      <td>84</td>\n",
       "      <td>GWB01-2_430.jpg</td>\n",
       "      <td>78925467</td>\n",
       "      <td>1</td>\n",
       "      <td>1.0</td>\n",
       "      <td>1.11</td>\n",
       "      <td>1</td>\n",
       "      <td>9</td>\n",
       "      <td>10</td>\n",
       "      <td>[1, 1, 1, 1, 1, 1, 1, 1, 2]</td>\n",
       "      <td>1</td>\n",
       "      <td>1.0</td>\n",
       "      <td>0.0</td>\n",
       "      <td>5.0</td>\n",
       "      <td>NaN</td>\n",
       "      <td>5.0</td>\n",
       "    </tr>\n",
       "    <tr>\n",
       "      <th>85</th>\n",
       "      <td>85</td>\n",
       "      <td>GWB01-3_12.jpg</td>\n",
       "      <td>78925536</td>\n",
       "      <td>1</td>\n",
       "      <td>1.0</td>\n",
       "      <td>1.04</td>\n",
       "      <td>1</td>\n",
       "      <td>26</td>\n",
       "      <td>27</td>\n",
       "      <td>[1, 1, 1, 1, 1, 1, 1, 1, 1, 1, 1, 1, 1, 1, 1, ...</td>\n",
       "      <td>2</td>\n",
       "      <td>1.0</td>\n",
       "      <td>0.0</td>\n",
       "      <td>5.0</td>\n",
       "      <td>NaN</td>\n",
       "      <td>14.0</td>\n",
       "    </tr>\n",
       "    <tr>\n",
       "      <th>86</th>\n",
       "      <td>86</td>\n",
       "      <td>GWB01-3_152.jpg</td>\n",
       "      <td>78925551</td>\n",
       "      <td>2</td>\n",
       "      <td>2.0</td>\n",
       "      <td>2.00</td>\n",
       "      <td>2</td>\n",
       "      <td>15</td>\n",
       "      <td>30</td>\n",
       "      <td>[1, 1, 1, 1, 2, 2, 2, 2, 2, 2, 2, 2, 2, 2, 6]</td>\n",
       "      <td>2</td>\n",
       "      <td>2.0</td>\n",
       "      <td>0.0</td>\n",
       "      <td>5.0</td>\n",
       "      <td>NaN</td>\n",
       "      <td>7.0</td>\n",
       "    </tr>\n",
       "  </tbody>\n",
       "</table>\n",
       "<p>87 rows × 16 columns</p>\n",
       "</div>"
      ],
      "text/plain": [
       "    Unnamed: 0        image_name  subject_id  count_total  median_count  \\\n",
       "0            0   MBN04-2_182.jpg    78926344            0           2.0   \n",
       "1            1  MBBD02-2_248.jpg    78928708            2           2.0   \n",
       "2            2   PCI01-2_111.jpg    78938221            4           3.0   \n",
       "3            3    PCI02-1_92.jpg    78938603            1           1.0   \n",
       "4            4  PCIC01-1_113.jpg    78938992            2           2.0   \n",
       "..         ...               ...         ...          ...           ...   \n",
       "82          82   GWB01-2_300.jpg    78925388            1           1.0   \n",
       "83          83   GWB01-2_421.jpg    78925457            1           1.0   \n",
       "84          84   GWB01-2_430.jpg    78925467            1           1.0   \n",
       "85          85    GWB01-3_12.jpg    78925536            1           1.0   \n",
       "86          86   GWB01-3_152.jpg    78925551            2           2.0   \n",
       "\n",
       "    mean_count  mode_count  users  sum_annotations_count  \\\n",
       "0         1.71           1      7                     12   \n",
       "1         2.12           2     17                     36   \n",
       "2         3.50           3     20                     70   \n",
       "3         1.21           1     19                     23   \n",
       "4         1.75           2      8                     14   \n",
       "..         ...         ...    ...                    ...   \n",
       "82        1.00           1      9                      9   \n",
       "83        1.11           1      9                     10   \n",
       "84        1.11           1      9                     10   \n",
       "85        1.04           1     26                     27   \n",
       "86        2.00           2     15                     30   \n",
       "\n",
       "                                    annotations_count  dbscan_count_sil  \\\n",
       "0                               [1, 1, 1, 2, 2, 2, 3]                 2   \n",
       "1   [1, 1, 2, 2, 2, 2, 2, 2, 2, 2, 2, 2, 2, 3, 3, ...                 2   \n",
       "2   [2, 2, 3, 3, 3, 3, 3, 3, 3, 3, 3, 4, 4, 4, 4, ...                 5   \n",
       "3   [1, 1, 1, 1, 1, 1, 1, 1, 1, 1, 1, 1, 1, 1, 1, ...                 2   \n",
       "4                            [1, 1, 1, 2, 2, 2, 2, 3]                 2   \n",
       "..                                                ...               ...   \n",
       "82                        [1, 1, 1, 1, 1, 1, 1, 1, 1]                 0   \n",
       "83                        [1, 1, 1, 1, 1, 1, 1, 1, 2]                 1   \n",
       "84                        [1, 1, 1, 1, 1, 1, 1, 1, 2]                 1   \n",
       "85  [1, 1, 1, 1, 1, 1, 1, 1, 1, 1, 1, 1, 1, 1, 1, ...                 2   \n",
       "86      [1, 1, 1, 1, 2, 2, 2, 2, 2, 2, 2, 2, 2, 2, 6]                 2   \n",
       "\n",
       "    HDBSCAN_count  eps  min_cluster_size  max_cluster_size  noise_points  \n",
       "0             2.0  0.0               5.0               NaN           0.0  \n",
       "1             2.0  0.0               5.0               NaN           0.0  \n",
       "2             4.0  0.0               5.0               NaN           6.0  \n",
       "3             1.0  0.0               5.0               NaN          12.0  \n",
       "4             2.0  0.0               5.0               NaN           0.0  \n",
       "..            ...  ...               ...               ...           ...  \n",
       "82            1.0  0.0               5.0               NaN           3.0  \n",
       "83            1.0  0.0               5.0               NaN           5.0  \n",
       "84            1.0  0.0               5.0               NaN           5.0  \n",
       "85            1.0  0.0               5.0               NaN          14.0  \n",
       "86            2.0  0.0               5.0               NaN           7.0  \n",
       "\n",
       "[87 rows x 16 columns]"
      ]
     },
     "execution_count": 54,
     "metadata": {},
     "output_type": "execute_result"
    }
   ],
   "source": [
    "print(f\"load {config['comparison_dataset']}\")\n",
    "pd.read_csv(config[\"comparison_dataset\"])"
   ]
  },
  {
   "cell_type": "markdown",
   "id": "34f5d0fc72193f65",
   "metadata": {
    "collapsed": false,
    "jupyter": {
     "outputs_hidden": false
    }
   },
   "source": [
    "## Discussion:\n",
    "Clustering works, it yields better numbers than just taking mode,median or mean annotations from the volunteers, because it takes the spatial location of the marker dots into consideration.\n",
    "\n"
   ]
  },
  {
   "cell_type": "code",
   "execution_count": null,
   "id": "5670dfe85d418540",
   "metadata": {
    "collapsed": false,
    "jupyter": {
     "outputs_hidden": false
    }
   },
   "outputs": [],
   "source": []
  },
  {
   "cell_type": "code",
   "execution_count": null,
   "id": "3bf3dcbb1ea03e18",
   "metadata": {
    "collapsed": false,
    "jupyter": {
     "outputs_hidden": false
    }
   },
   "outputs": [],
   "source": []
  }
 ],
 "metadata": {
  "kernelspec": {
   "display_name": "Python 3 (ipykernel)",
   "language": "python",
   "name": "python3"
  },
  "language_info": {
   "codemirror_mode": {
    "name": "ipython",
    "version": 3
   },
   "file_extension": ".py",
   "mimetype": "text/x-python",
   "name": "python",
   "nbconvert_exporter": "python",
   "pygments_lexer": "ipython3",
   "version": "3.10.13"
  }
 },
 "nbformat": 4,
 "nbformat_minor": 5
}
