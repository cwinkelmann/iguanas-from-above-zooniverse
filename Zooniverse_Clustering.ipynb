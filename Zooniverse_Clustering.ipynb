{
 "cells": [
  {
   "cell_type": "markdown",
   "id": "708022ad72146e6d",
   "metadata": {},
   "source": [
    "# Clustering Zooniverse Marks to count Iguanas\n",
    "The goal is to find the best method to cluster the data and find the best number of clusters.\n",
    "The benchmark is a gold standard dataset obtained by experts."
   ]
  },
  {
   "cell_type": "code",
   "execution_count": null,
   "id": "d59fc4434d71491c",
   "metadata": {
    "collapsed": false,
    "tags": [],
    "is_executing": true
   },
   "outputs": [],
   "source": [
    "%load_ext autoreload\n",
    "%autoreload 2\n",
    "\n",
    "import sys\n",
    "\n",
    "sys.path.append(\"../\")\n",
    "sys.path.append(\"../zooniverse\")"
   ]
  },
  {
   "cell_type": "markdown",
   "source": [
    "## Intro\n",
    "### Retrieve a Classification report from Zooniverse\n",
    "Export the classification export from your zooniverse project.\n",
    "https://www.zooniverse.org/lab/11905/data-exports\n",
    "\n",
    "This leads to a csv file which can be used for the analysis which should be renamed to `iguanas-from-above-classifications.csv` and placed in the `input_path` directory.\n",
    "The methods do not use methods from zooniverse. It is a custom implementation.\n",
    "\n",
    "An alternative would be to use the [code provided by zooniverse](https://github.com/zooniverse/Data-digging/tree/master/notebooks_ProcessExports)\n",
    "(Bird Count Example)[https://github.com/zooniverse/Data-digging/blob/master/scripts_ProjectExamples/seabirdwatch/bird_count.py]\n",
    "\n",
    "This notebooks assumes the data is flat and prepared. An alternative format would be the [cesar aggregation format](https://github.com/zooniverse/aggregation-for-caesar)\n",
    "\n",
    "Used Methods are:\n",
    "\n",
    "### DBSCAN \n",
    "It does not require the number of clusters to be specified. It is used here because, but has min_samples and eps as hyperparameters which need to be found. [Link](https://scikit-learn.org/stable/auto_examples/cluster/plot_dbscan.html)\n",
    "For finding eps and min_sample a simple **grid search** is used.\n",
    "Additionally, DBSCAN not assume a specific shape for the clusters (K-means assumes clusters are gaussian in shape) even though we should assume that points around an iguana is gaussian shaped.\n",
    "\n",
    "### HDBSCAN\n",
    "It is an extension of DBSCAN which is more robust to hyperparameter settings as it finds epsilon and min_samples automatically. [Link](https://scikit-learn.org/stable/modules/generated/sklearn.cluster.HDBSCAN.html)"
   ],
   "metadata": {
    "collapsed": false
   },
   "id": "731716bd21e99cbe"
  },
  {
   "cell_type": "markdown",
   "id": "1999c71e3053c3a4",
   "metadata": {},
   "source": []
  },
  {
   "cell_type": "markdown",
   "source": [
    "### Processing workflow\n",
    "\n",
    "The Data is flatted and filtered\n",
    "![Image](images/dataprocessing-DataFiltering.png)\n",
    "\n",
    "In each phase we have the following number of images if they are filtered for at least 4 true marks by users\n",
    "1. phase 105\n",
    "2. phase 160\n",
    "3. phase 86\n"
   ],
   "metadata": {
    "collapsed": false
   },
   "id": "fc7e7da572712fcd"
  },
  {
   "cell_type": "markdown",
   "source": [
    "## Load the data"
   ],
   "metadata": {
    "collapsed": false
   },
   "id": "e261acba86137ddd"
  },
  {
   "cell_type": "code",
   "outputs": [],
   "source": [
    "from zooniverse.utils.data_format import data_prep\n",
    "from pathlib import Path\n",
    "\n",
    "## Input Path of all the data\n",
    "input_path =Path(\"/Users/christian/data/zooniverse\")\n",
    "\n",
    "reprocess = False # if True, the raw classification data is reprocessed. If False, the data is loaded from disk\n",
    "\n",
    "# Phase Selection\n",
    "# phase_tag = \"Iguanas 1st launch\"\n",
    "# phase_tag = \"Iguanas 2nd launch\"\n",
    "phase_tag = \"Iguanas 3rd launch\"\n",
    "\n",
    "\n",
    "debug = False # debugging with a smaller dataset\n",
    "plot_diagrams = False # plot the diagrams to disk for the clustering methods\n",
    "show_plots = False # show the plots in the notebook\n",
    "user_threshold = None # in a number, filter records which have less than these user interactions.\n",
    "\n",
    "\n",
    "### use either the subset of the subset\n",
    "use_gold_standard_subset = \"expert_goldstandard\" # Use the X-T2-GS-results-5th-0s as the basis\n",
    "# use_gold_standard_subset = \"expert\" # Use the expert-GS-Xphase as the basis\n",
    "\n",
    "# Location for the analysis Results\n",
    "output_path = Path(input_path.joinpath(f\"2024_03_07_{use_gold_standard_subset}_analysis\").joinpath(phase_tag))\n",
    "output_path.mkdir(exist_ok=True, parents=True)\n",
    "\n",
    "# Location for plots\n",
    "output_plot_path = output_path.joinpath(\"plots\")\n",
    "output_plot_path.mkdir(parents=True, exist_ok=True)\n",
    "\n",
    "if reprocess:\n",
    "    ds_stats = data_prep(phase_tag=phase_tag, \n",
    "                         output_path=output_path, \n",
    "                         input_path=input_path,\n",
    "                         filter_combination=use_gold_standard_subset)\n",
    "    print(ds_stats)\n",
    "    \n"
   ],
   "metadata": {
    "collapsed": false,
    "tags": [],
    "ExecuteTime": {
     "end_time": "2024-03-07T12:02:25.961069Z",
     "start_time": "2024-03-07T12:02:24.971657Z"
    }
   },
   "id": "823d8c3234e4a1de",
   "execution_count": 1
  },
  {
   "cell_type": "markdown",
   "source": [],
   "metadata": {
    "collapsed": false
   },
   "id": "b331b5a4f3de61e8"
  },
  {
   "cell_type": "code",
   "execution_count": 2,
   "id": "78dc43b82ba30710",
   "metadata": {
    "collapsed": false,
    "ExecuteTime": {
     "end_time": "2024-03-07T12:02:25.965069Z",
     "start_time": "2024-03-07T12:02:25.962428Z"
    }
   },
   "outputs": [],
   "source": [
    "\n",
    "import pandas as pd\n",
    "from zooniverse.analysis import get_annotation_count_stats\n",
    "from zooniverse.utils.filters import filter_df_user_threshold\n",
    "from zooniverse.config import get_config"
   ]
  },
  {
   "cell_type": "markdown",
   "source": [
    "## Look into the config\n",
    "This Config points to all files necessary for the analysis + the result files"
   ],
   "metadata": {
    "collapsed": false
   },
   "id": "b09c459f867af4cc"
  },
  {
   "cell_type": "code",
   "outputs": [
    {
     "data": {
      "text/plain": "{'annotations_source': PosixPath('/Users/christian/data/zooniverse/IguanasFromAbove/2023-10-15/iguanas-from-above-classifications.csv'),\n 'goldstandard_data': PosixPath('/Users/christian/data/zooniverse/Images/Zooniverse_Goldstandard_images/expert-GS-3rdphase_renamed.csv'),\n 'gold_standard_image_subset': PosixPath('/Users/christian/data/zooniverse/Images/Zooniverse_Goldstandard_images/3-T2-GS-results-5th-0s.csv'),\n 'image_source': None,\n 'yes_no_dataset': PosixPath('/Users/christian/data/zooniverse/2024_03_07_expert_goldstandard_analysis/Iguanas 3rd launch/yes_no_dataset_Iguanas 3rd launch.csv'),\n 'flat_dataset': PosixPath('/Users/christian/data/zooniverse/2024_03_07_expert_goldstandard_analysis/Iguanas 3rd launch/flat_dataset_Iguanas 3rd launch.csv'),\n 'merged_dataset': PosixPath('/Users/christian/data/zooniverse/2024_03_07_expert_goldstandard_analysis/Iguanas 3rd launch/merged_dataset_gold_standard_expert_Iguanas 3rd launch_filtered.csv'),\n 'gold_standard_and_expert_count': PosixPath('/Users/christian/data/zooniverse/2024_03_07_expert_goldstandard_analysis/Iguanas 3rd launch/Iguanas 3rd launch_gold_standard_and_expert_count.csv'),\n 'comparison_dataset': PosixPath('/Users/christian/data/zooniverse/2024_03_07_expert_goldstandard_analysis/Iguanas 3rd launch/Iguanas 3rd launch_method_comparison.csv'),\n 'method_sums': PosixPath('/Users/christian/data/zooniverse/2024_03_07_expert_goldstandard_analysis/Iguanas 3rd launch/Iguanas 3rd launch_method_sums.csv'),\n 'rmse_errors': PosixPath('/Users/christian/data/zooniverse/2024_03_07_expert_goldstandard_analysis/Iguanas 3rd launch/Iguanas 3rd launch_rmse_errors.csv'),\n 'dbscan_hyperparam_grid': PosixPath('/Users/christian/data/zooniverse/2024_03_07_expert_goldstandard_analysis/Iguanas 3rd launch/Iguanas 3rd launch_hyperparam_grid.csv')}"
     },
     "execution_count": 3,
     "metadata": {},
     "output_type": "execute_result"
    }
   ],
   "source": [
    "config = get_config(phase_tag=phase_tag, input_path=input_path, output_path=output_path)\n",
    "config"
   ],
   "metadata": {
    "collapsed": false,
    "ExecuteTime": {
     "end_time": "2024-03-07T12:02:25.969327Z",
     "start_time": "2024-03-07T12:02:25.965602Z"
    }
   },
   "id": "2c90437596b36a54",
   "execution_count": 3
  },
  {
   "cell_type": "markdown",
   "id": "7e3cf1edbc774b52",
   "metadata": {
    "collapsed": false
   },
   "source": [
    "### Optional Debugging"
   ]
  },
  {
   "cell_type": "code",
   "execution_count": 4,
   "id": "bc2fa0f92651d9da",
   "metadata": {
    "collapsed": false,
    "ExecuteTime": {
     "end_time": "2024-03-07T12:02:25.982971Z",
     "start_time": "2024-03-07T12:02:25.970258Z"
    }
   },
   "outputs": [],
   "source": [
    "if plot_diagrams == False:\n",
    "    output_plot_path = None\n",
    "\n",
    "\n",
    "df_merged_dataset = pd.read_csv(config[\"merged_dataset\"])\n",
    "\n",
    "\n",
    "df_goldstandard_expert_count = pd.read_csv(config[\"goldstandard_data\"], sep=\";\")\n",
    "\n",
    "## Debugging helpers\n",
    "if phase_tag == \"Iguanas 1st launch\":    \n",
    "    if debug:\n",
    "\n",
    "        df_merged_dataset = df_merged_dataset[df_merged_dataset.image_name.isin([\"SFM01-2-2-2_333.jpg\", \"SFM01-2-2-2_334.jpg\", \"SFM01-2-2-3_201.jpg\"])]\n",
    "\n",
    "elif phase_tag == \"Iguanas 2nd launch\":\n",
    "    if debug:\n",
    "        df_merged_dataset = df_merged_dataset[\n",
    "           df_merged_dataset.image_name.isin([\"FMO03-1_65.jpg\", \"FMO03-1_72.jpg\", \"MBN04-2_182.jpg\", \"EGI08-2_78.jpg\"])]\n",
    "           # df_merged_dataset.image_name.isin([\"FMO03-1_72.jpg\"])]\n",
    "\n",
    "    \n",
    "elif phase_tag == \"Iguanas 3rd launch\":\n",
    "\n",
    "    # this user is a spammer\n",
    "    df_merged_dataset = df_merged_dataset[df_merged_dataset.user_id != 2581179]\n",
    "    \n",
    "    if debug:\n",
    "        df_merged_dataset = df_merged_dataset[\n",
    "           df_merged_dataset.image_name.isin([\"FMO03-2_70.jpg\", \"MBN04-2_182.jpg\", \"EGI08-2_78.jpg\"])]\n",
    "            \n",
    "    \n"
   ]
  },
  {
   "cell_type": "markdown",
   "source": [
    "## Look at the data\n"
   ],
   "metadata": {
    "collapsed": false
   },
   "id": "bf09c7260aa5e8ed"
  },
  {
   "cell_type": "code",
   "outputs": [
    {
     "data": {
      "text/plain": "      Unnamed: 0 flight_site_code        image_name  subject_id           x  \\\n0             57   CaboIbebetsonS   PCIS01-5_67.jpg    78961972  301.422882   \n1             58   CaboIbebetsonS   PCIS01-5_67.jpg    78961972   35.903500   \n2             70       WestCoastB   GWB01-3_152.jpg    78925551  728.559448   \n3             71       WestCoastB   GWB01-3_152.jpg    78925551  601.206055   \n4            125      SouthCoastH  ESCH02-1_323.jpg    78965007  247.383331   \n...          ...              ...               ...         ...         ...   \n7396      104634      SouthCoastH  ESCH02-1_174.jpg    78964907  688.849609   \n7397      113862            GEB02   GEB02-3_197.jpg    78922625  496.962006   \n7398      113863            GEB02   GEB02-3_197.jpg    78922625  496.542480   \n7399      113866            GEB02   GEB02-3_197.jpg    78922625  502.057251   \n7400      113870            GEB02   GEB02-3_197.jpg    78922625  485.176636   \n\n               y                                tool_label  \\\n0      51.112278  Others (females, young males, juveniles)   \n1     468.096375  Others (females, young males, juveniles)   \n2     181.467453  Others (females, young males, juveniles)   \n3     277.385895  Others (females, young males, juveniles)   \n4      56.599998                   Adult Male not in a lek   \n...          ...                                       ...   \n7396  135.619003                     Adult Male with a lek   \n7397  433.519104                   Adult Male not in a lek   \n7398  416.344574                   Adult Male not in a lek   \n7399  430.122284  Others (females, young males, juveniles)   \n7400  426.866882  Others (females, young males, juveniles)   \n\n               phase_tag    user_id  \n0     Iguanas 3rd launch  2494963.0  \n1     Iguanas 3rd launch  2494963.0  \n2     Iguanas 3rd launch        NaN  \n3     Iguanas 3rd launch        NaN  \n4     Iguanas 3rd launch  2400702.0  \n...                  ...        ...  \n7396  Iguanas 3rd launch  2159576.0  \n7397  Iguanas 3rd launch        NaN  \n7398  Iguanas 3rd launch        NaN  \n7399  Iguanas 3rd launch  2647442.0  \n7400  Iguanas 3rd launch        NaN  \n\n[6733 rows x 9 columns]",
      "text/html": "<div>\n<style scoped>\n    .dataframe tbody tr th:only-of-type {\n        vertical-align: middle;\n    }\n\n    .dataframe tbody tr th {\n        vertical-align: top;\n    }\n\n    .dataframe thead th {\n        text-align: right;\n    }\n</style>\n<table border=\"1\" class=\"dataframe\">\n  <thead>\n    <tr style=\"text-align: right;\">\n      <th></th>\n      <th>Unnamed: 0</th>\n      <th>flight_site_code</th>\n      <th>image_name</th>\n      <th>subject_id</th>\n      <th>x</th>\n      <th>y</th>\n      <th>tool_label</th>\n      <th>phase_tag</th>\n      <th>user_id</th>\n    </tr>\n  </thead>\n  <tbody>\n    <tr>\n      <th>0</th>\n      <td>57</td>\n      <td>CaboIbebetsonS</td>\n      <td>PCIS01-5_67.jpg</td>\n      <td>78961972</td>\n      <td>301.422882</td>\n      <td>51.112278</td>\n      <td>Others (females, young males, juveniles)</td>\n      <td>Iguanas 3rd launch</td>\n      <td>2494963.0</td>\n    </tr>\n    <tr>\n      <th>1</th>\n      <td>58</td>\n      <td>CaboIbebetsonS</td>\n      <td>PCIS01-5_67.jpg</td>\n      <td>78961972</td>\n      <td>35.903500</td>\n      <td>468.096375</td>\n      <td>Others (females, young males, juveniles)</td>\n      <td>Iguanas 3rd launch</td>\n      <td>2494963.0</td>\n    </tr>\n    <tr>\n      <th>2</th>\n      <td>70</td>\n      <td>WestCoastB</td>\n      <td>GWB01-3_152.jpg</td>\n      <td>78925551</td>\n      <td>728.559448</td>\n      <td>181.467453</td>\n      <td>Others (females, young males, juveniles)</td>\n      <td>Iguanas 3rd launch</td>\n      <td>NaN</td>\n    </tr>\n    <tr>\n      <th>3</th>\n      <td>71</td>\n      <td>WestCoastB</td>\n      <td>GWB01-3_152.jpg</td>\n      <td>78925551</td>\n      <td>601.206055</td>\n      <td>277.385895</td>\n      <td>Others (females, young males, juveniles)</td>\n      <td>Iguanas 3rd launch</td>\n      <td>NaN</td>\n    </tr>\n    <tr>\n      <th>4</th>\n      <td>125</td>\n      <td>SouthCoastH</td>\n      <td>ESCH02-1_323.jpg</td>\n      <td>78965007</td>\n      <td>247.383331</td>\n      <td>56.599998</td>\n      <td>Adult Male not in a lek</td>\n      <td>Iguanas 3rd launch</td>\n      <td>2400702.0</td>\n    </tr>\n    <tr>\n      <th>...</th>\n      <td>...</td>\n      <td>...</td>\n      <td>...</td>\n      <td>...</td>\n      <td>...</td>\n      <td>...</td>\n      <td>...</td>\n      <td>...</td>\n      <td>...</td>\n    </tr>\n    <tr>\n      <th>7396</th>\n      <td>104634</td>\n      <td>SouthCoastH</td>\n      <td>ESCH02-1_174.jpg</td>\n      <td>78964907</td>\n      <td>688.849609</td>\n      <td>135.619003</td>\n      <td>Adult Male with a lek</td>\n      <td>Iguanas 3rd launch</td>\n      <td>2159576.0</td>\n    </tr>\n    <tr>\n      <th>7397</th>\n      <td>113862</td>\n      <td>GEB02</td>\n      <td>GEB02-3_197.jpg</td>\n      <td>78922625</td>\n      <td>496.962006</td>\n      <td>433.519104</td>\n      <td>Adult Male not in a lek</td>\n      <td>Iguanas 3rd launch</td>\n      <td>NaN</td>\n    </tr>\n    <tr>\n      <th>7398</th>\n      <td>113863</td>\n      <td>GEB02</td>\n      <td>GEB02-3_197.jpg</td>\n      <td>78922625</td>\n      <td>496.542480</td>\n      <td>416.344574</td>\n      <td>Adult Male not in a lek</td>\n      <td>Iguanas 3rd launch</td>\n      <td>NaN</td>\n    </tr>\n    <tr>\n      <th>7399</th>\n      <td>113866</td>\n      <td>GEB02</td>\n      <td>GEB02-3_197.jpg</td>\n      <td>78922625</td>\n      <td>502.057251</td>\n      <td>430.122284</td>\n      <td>Others (females, young males, juveniles)</td>\n      <td>Iguanas 3rd launch</td>\n      <td>2647442.0</td>\n    </tr>\n    <tr>\n      <th>7400</th>\n      <td>113870</td>\n      <td>GEB02</td>\n      <td>GEB02-3_197.jpg</td>\n      <td>78922625</td>\n      <td>485.176636</td>\n      <td>426.866882</td>\n      <td>Others (females, young males, juveniles)</td>\n      <td>Iguanas 3rd launch</td>\n      <td>NaN</td>\n    </tr>\n  </tbody>\n</table>\n<p>6733 rows × 9 columns</p>\n</div>"
     },
     "execution_count": 5,
     "metadata": {},
     "output_type": "execute_result"
    }
   ],
   "source": [
    "## Look at the data\n",
    "df_merged_dataset.drop(\"user_name\", axis=1)\n"
   ],
   "metadata": {
    "collapsed": false,
    "ExecuteTime": {
     "end_time": "2024-03-07T12:02:25.991595Z",
     "start_time": "2024-03-07T12:02:25.984515Z"
    }
   },
   "id": "6e814289feb967ec",
   "execution_count": 5
  },
  {
   "cell_type": "markdown",
   "source": [
    "### Filter User if necessary and Marks\n"
   ],
   "metadata": {
    "collapsed": false
   },
   "id": "da7bed90d6d10d89"
  },
  {
   "cell_type": "code",
   "outputs": [
    {
     "name": "stderr",
     "output_type": "stream",
     "text": [
      "\u001B[32m2024-03-07 13:02:25.994\u001B[0m | \u001B[33m\u001B[1mWARNING \u001B[0m | \u001B[36mzooniverse.utils.filters\u001B[0m:\u001B[36mfilter_remove_marks\u001B[0m:\u001B[36m38\u001B[0m - \u001B[33m\u001B[1mremoved 0 partial marks\u001B[0m\n",
      "\u001B[32m2024-03-07 13:02:25.994\u001B[0m | \u001B[33m\u001B[1mWARNING \u001B[0m | \u001B[36mzooniverse.utils.filters\u001B[0m:\u001B[36mfilter_remove_marks\u001B[0m:\u001B[36m39\u001B[0m - \u001B[33m\u001B[1mAfter filter_func 87 images are left\u001B[0m\n"
     ]
    },
    {
     "name": "stdout",
     "output_type": "stream",
     "text": [
      "Before filtering: 87\n"
     ]
    }
   ],
   "source": [
    "print(f\"Before filtering: {df_merged_dataset.subject_id.nunique()}\")\n",
    "# There images in which some people said there are iguanas, but then didn't mark them. Clustering with fewer than 3 dots doesn't make sense\n",
    "if user_threshold is not None:\n",
    "    print(f\"filtering records which have less than {user_threshold} interactions.\")\n",
    "    df_merged_dataset = filter_df_user_threshold(df_merged_dataset, user_threshold=user_threshold)\n",
    "    \n",
    "    \n",
    "from zooniverse.utils.filters import filter_remove_marks\n",
    "# Check if partials are still in the data. There shouldn't be any\n",
    "df_merged_dataset = filter_remove_marks(df_merged_dataset)\n"
   ],
   "metadata": {
    "collapsed": false,
    "ExecuteTime": {
     "end_time": "2024-03-07T12:02:25.995994Z",
     "start_time": "2024-03-07T12:02:25.992189Z"
    }
   },
   "id": "b84daa777a0903cf",
   "execution_count": 6
  },
  {
   "cell_type": "markdown",
   "source": [
    "### Are there anonymous users in the data?\n",
    "There should be"
   ],
   "metadata": {
    "collapsed": false
   },
   "id": "d479e39e24f570b0"
  },
  {
   "cell_type": "code",
   "outputs": [
    {
     "data": {
      "text/plain": "      Unnamed: 0 flight_site_code        image_name  subject_id           x  \\\n2             70       WestCoastB   GWB01-3_152.jpg    78925551  728.559448   \n3             71       WestCoastB   GWB01-3_152.jpg    78925551  601.206055   \n213         2466      SouthCoastH  ESCH02-1_409.jpg    78965058  579.152344   \n214         2467      SouthCoastH  ESCH02-1_409.jpg    78965058  371.527344   \n215         2468      SouthCoastH  ESCH02-1_409.jpg    78965058  377.582031   \n...          ...              ...               ...         ...         ...   \n7361      104052        WestCoast    PWC01-1_61.jpg    78962844  613.449280   \n7362      104053        WestCoast    PWC01-1_61.jpg    78962844  549.657471   \n7397      113862            GEB02   GEB02-3_197.jpg    78922625  496.962006   \n7398      113863            GEB02   GEB02-3_197.jpg    78922625  496.542480   \n7400      113870            GEB02   GEB02-3_197.jpg    78922625  485.176636   \n\n               y                                tool_label  \\\n2     181.467453  Others (females, young males, juveniles)   \n3     277.385895  Others (females, young males, juveniles)   \n213   626.292969                     Adult Male with a lek   \n214   414.289062  Others (females, young males, juveniles)   \n215   374.734375  Others (females, young males, juveniles)   \n...          ...                                       ...   \n7361  901.053284  Others (females, young males, juveniles)   \n7362  899.486877  Others (females, young males, juveniles)   \n7397  433.519104                   Adult Male not in a lek   \n7398  416.344574                   Adult Male not in a lek   \n7400  426.866882  Others (females, young males, juveniles)   \n\n               phase_tag  user_id                           user_name  \n2     Iguanas 3rd launch      NaN  not-logged-in-1bdc6ad4144048748e1e  \n3     Iguanas 3rd launch      NaN  not-logged-in-1bdc6ad4144048748e1e  \n213   Iguanas 3rd launch      NaN  not-logged-in-17a47a9cb6c229f138be  \n214   Iguanas 3rd launch      NaN  not-logged-in-17a47a9cb6c229f138be  \n215   Iguanas 3rd launch      NaN  not-logged-in-17a47a9cb6c229f138be  \n...                  ...      ...                                 ...  \n7361  Iguanas 3rd launch      NaN  not-logged-in-f2eea36ffbe6b791be19  \n7362  Iguanas 3rd launch      NaN  not-logged-in-f2eea36ffbe6b791be19  \n7397  Iguanas 3rd launch      NaN  not-logged-in-e9f1111b45a6ee28bd33  \n7398  Iguanas 3rd launch      NaN  not-logged-in-0f458e24523988619154  \n7400  Iguanas 3rd launch      NaN  not-logged-in-9fe421fff053a486b442  \n\n[895 rows x 10 columns]",
      "text/html": "<div>\n<style scoped>\n    .dataframe tbody tr th:only-of-type {\n        vertical-align: middle;\n    }\n\n    .dataframe tbody tr th {\n        vertical-align: top;\n    }\n\n    .dataframe thead th {\n        text-align: right;\n    }\n</style>\n<table border=\"1\" class=\"dataframe\">\n  <thead>\n    <tr style=\"text-align: right;\">\n      <th></th>\n      <th>Unnamed: 0</th>\n      <th>flight_site_code</th>\n      <th>image_name</th>\n      <th>subject_id</th>\n      <th>x</th>\n      <th>y</th>\n      <th>tool_label</th>\n      <th>phase_tag</th>\n      <th>user_id</th>\n      <th>user_name</th>\n    </tr>\n  </thead>\n  <tbody>\n    <tr>\n      <th>2</th>\n      <td>70</td>\n      <td>WestCoastB</td>\n      <td>GWB01-3_152.jpg</td>\n      <td>78925551</td>\n      <td>728.559448</td>\n      <td>181.467453</td>\n      <td>Others (females, young males, juveniles)</td>\n      <td>Iguanas 3rd launch</td>\n      <td>NaN</td>\n      <td>not-logged-in-1bdc6ad4144048748e1e</td>\n    </tr>\n    <tr>\n      <th>3</th>\n      <td>71</td>\n      <td>WestCoastB</td>\n      <td>GWB01-3_152.jpg</td>\n      <td>78925551</td>\n      <td>601.206055</td>\n      <td>277.385895</td>\n      <td>Others (females, young males, juveniles)</td>\n      <td>Iguanas 3rd launch</td>\n      <td>NaN</td>\n      <td>not-logged-in-1bdc6ad4144048748e1e</td>\n    </tr>\n    <tr>\n      <th>213</th>\n      <td>2466</td>\n      <td>SouthCoastH</td>\n      <td>ESCH02-1_409.jpg</td>\n      <td>78965058</td>\n      <td>579.152344</td>\n      <td>626.292969</td>\n      <td>Adult Male with a lek</td>\n      <td>Iguanas 3rd launch</td>\n      <td>NaN</td>\n      <td>not-logged-in-17a47a9cb6c229f138be</td>\n    </tr>\n    <tr>\n      <th>214</th>\n      <td>2467</td>\n      <td>SouthCoastH</td>\n      <td>ESCH02-1_409.jpg</td>\n      <td>78965058</td>\n      <td>371.527344</td>\n      <td>414.289062</td>\n      <td>Others (females, young males, juveniles)</td>\n      <td>Iguanas 3rd launch</td>\n      <td>NaN</td>\n      <td>not-logged-in-17a47a9cb6c229f138be</td>\n    </tr>\n    <tr>\n      <th>215</th>\n      <td>2468</td>\n      <td>SouthCoastH</td>\n      <td>ESCH02-1_409.jpg</td>\n      <td>78965058</td>\n      <td>377.582031</td>\n      <td>374.734375</td>\n      <td>Others (females, young males, juveniles)</td>\n      <td>Iguanas 3rd launch</td>\n      <td>NaN</td>\n      <td>not-logged-in-17a47a9cb6c229f138be</td>\n    </tr>\n    <tr>\n      <th>...</th>\n      <td>...</td>\n      <td>...</td>\n      <td>...</td>\n      <td>...</td>\n      <td>...</td>\n      <td>...</td>\n      <td>...</td>\n      <td>...</td>\n      <td>...</td>\n      <td>...</td>\n    </tr>\n    <tr>\n      <th>7361</th>\n      <td>104052</td>\n      <td>WestCoast</td>\n      <td>PWC01-1_61.jpg</td>\n      <td>78962844</td>\n      <td>613.449280</td>\n      <td>901.053284</td>\n      <td>Others (females, young males, juveniles)</td>\n      <td>Iguanas 3rd launch</td>\n      <td>NaN</td>\n      <td>not-logged-in-f2eea36ffbe6b791be19</td>\n    </tr>\n    <tr>\n      <th>7362</th>\n      <td>104053</td>\n      <td>WestCoast</td>\n      <td>PWC01-1_61.jpg</td>\n      <td>78962844</td>\n      <td>549.657471</td>\n      <td>899.486877</td>\n      <td>Others (females, young males, juveniles)</td>\n      <td>Iguanas 3rd launch</td>\n      <td>NaN</td>\n      <td>not-logged-in-f2eea36ffbe6b791be19</td>\n    </tr>\n    <tr>\n      <th>7397</th>\n      <td>113862</td>\n      <td>GEB02</td>\n      <td>GEB02-3_197.jpg</td>\n      <td>78922625</td>\n      <td>496.962006</td>\n      <td>433.519104</td>\n      <td>Adult Male not in a lek</td>\n      <td>Iguanas 3rd launch</td>\n      <td>NaN</td>\n      <td>not-logged-in-e9f1111b45a6ee28bd33</td>\n    </tr>\n    <tr>\n      <th>7398</th>\n      <td>113863</td>\n      <td>GEB02</td>\n      <td>GEB02-3_197.jpg</td>\n      <td>78922625</td>\n      <td>496.542480</td>\n      <td>416.344574</td>\n      <td>Adult Male not in a lek</td>\n      <td>Iguanas 3rd launch</td>\n      <td>NaN</td>\n      <td>not-logged-in-0f458e24523988619154</td>\n    </tr>\n    <tr>\n      <th>7400</th>\n      <td>113870</td>\n      <td>GEB02</td>\n      <td>GEB02-3_197.jpg</td>\n      <td>78922625</td>\n      <td>485.176636</td>\n      <td>426.866882</td>\n      <td>Others (females, young males, juveniles)</td>\n      <td>Iguanas 3rd launch</td>\n      <td>NaN</td>\n      <td>not-logged-in-9fe421fff053a486b442</td>\n    </tr>\n  </tbody>\n</table>\n<p>895 rows × 10 columns</p>\n</div>"
     },
     "execution_count": 7,
     "metadata": {},
     "output_type": "execute_result"
    }
   ],
   "source": [
    "df_merged_dataset[df_merged_dataset.user_id.isnull().values]"
   ],
   "metadata": {
    "collapsed": false,
    "ExecuteTime": {
     "end_time": "2024-03-07T12:02:26.002208Z",
     "start_time": "2024-03-07T12:02:25.996654Z"
    }
   },
   "id": "9936072d8a7b7602",
   "execution_count": 7
  },
  {
   "cell_type": "code",
   "outputs": [
    {
     "data": {
      "text/plain": "87"
     },
     "execution_count": 8,
     "metadata": {},
     "output_type": "execute_result"
    }
   ],
   "source": [
    "df_merged_dataset[\"subject_id\"].nunique()"
   ],
   "metadata": {
    "collapsed": false,
    "ExecuteTime": {
     "end_time": "2024-03-07T12:02:26.004969Z",
     "start_time": "2024-03-07T12:02:26.002889Z"
    }
   },
   "id": "9258d161c25ae7d3",
   "execution_count": 8
  },
  {
   "cell_type": "code",
   "execution_count": 9,
   "id": "6caad5d554d586db",
   "metadata": {
    "collapsed": false,
    "ExecuteTime": {
     "end_time": "2024-03-07T12:02:26.010930Z",
     "start_time": "2024-03-07T12:02:26.005499Z"
    }
   },
   "outputs": [
    {
     "data": {
      "text/plain": "      Unnamed: 0 flight_site_code        image_name  subject_id           x  \\\n0             57   CaboIbebetsonS   PCIS01-5_67.jpg    78961972  301.422882   \n1             58   CaboIbebetsonS   PCIS01-5_67.jpg    78961972   35.903500   \n2             70       WestCoastB   GWB01-3_152.jpg    78925551  728.559448   \n3             71       WestCoastB   GWB01-3_152.jpg    78925551  601.206055   \n4            125      SouthCoastH  ESCH02-1_323.jpg    78965007  247.383331   \n...          ...              ...               ...         ...         ...   \n7396      104634      SouthCoastH  ESCH02-1_174.jpg    78964907  688.849609   \n7397      113862            GEB02   GEB02-3_197.jpg    78922625  496.962006   \n7398      113863            GEB02   GEB02-3_197.jpg    78922625  496.542480   \n7399      113866            GEB02   GEB02-3_197.jpg    78922625  502.057251   \n7400      113870            GEB02   GEB02-3_197.jpg    78922625  485.176636   \n\n               y                                tool_label  \\\n0      51.112278  Others (females, young males, juveniles)   \n1     468.096375  Others (females, young males, juveniles)   \n2     181.467453  Others (females, young males, juveniles)   \n3     277.385895  Others (females, young males, juveniles)   \n4      56.599998                   Adult Male not in a lek   \n...          ...                                       ...   \n7396  135.619003                     Adult Male with a lek   \n7397  433.519104                   Adult Male not in a lek   \n7398  416.344574                   Adult Male not in a lek   \n7399  430.122284  Others (females, young males, juveniles)   \n7400  426.866882  Others (females, young males, juveniles)   \n\n               phase_tag    user_id                           user_name  \n0     Iguanas 3rd launch  2494963.0                              N.Bois  \n1     Iguanas 3rd launch  2494963.0                              N.Bois  \n2     Iguanas 3rd launch        NaN  not-logged-in-1bdc6ad4144048748e1e  \n3     Iguanas 3rd launch        NaN  not-logged-in-1bdc6ad4144048748e1e  \n4     Iguanas 3rd launch  2400702.0                              MoMo11  \n...                  ...        ...                                 ...  \n7396  Iguanas 3rd launch  2159576.0                              987520  \n7397  Iguanas 3rd launch        NaN  not-logged-in-e9f1111b45a6ee28bd33  \n7398  Iguanas 3rd launch        NaN  not-logged-in-0f458e24523988619154  \n7399  Iguanas 3rd launch  2647442.0                       CaylinShuford  \n7400  Iguanas 3rd launch        NaN  not-logged-in-9fe421fff053a486b442  \n\n[6733 rows x 10 columns]",
      "text/html": "<div>\n<style scoped>\n    .dataframe tbody tr th:only-of-type {\n        vertical-align: middle;\n    }\n\n    .dataframe tbody tr th {\n        vertical-align: top;\n    }\n\n    .dataframe thead th {\n        text-align: right;\n    }\n</style>\n<table border=\"1\" class=\"dataframe\">\n  <thead>\n    <tr style=\"text-align: right;\">\n      <th></th>\n      <th>Unnamed: 0</th>\n      <th>flight_site_code</th>\n      <th>image_name</th>\n      <th>subject_id</th>\n      <th>x</th>\n      <th>y</th>\n      <th>tool_label</th>\n      <th>phase_tag</th>\n      <th>user_id</th>\n      <th>user_name</th>\n    </tr>\n  </thead>\n  <tbody>\n    <tr>\n      <th>0</th>\n      <td>57</td>\n      <td>CaboIbebetsonS</td>\n      <td>PCIS01-5_67.jpg</td>\n      <td>78961972</td>\n      <td>301.422882</td>\n      <td>51.112278</td>\n      <td>Others (females, young males, juveniles)</td>\n      <td>Iguanas 3rd launch</td>\n      <td>2494963.0</td>\n      <td>N.Bois</td>\n    </tr>\n    <tr>\n      <th>1</th>\n      <td>58</td>\n      <td>CaboIbebetsonS</td>\n      <td>PCIS01-5_67.jpg</td>\n      <td>78961972</td>\n      <td>35.903500</td>\n      <td>468.096375</td>\n      <td>Others (females, young males, juveniles)</td>\n      <td>Iguanas 3rd launch</td>\n      <td>2494963.0</td>\n      <td>N.Bois</td>\n    </tr>\n    <tr>\n      <th>2</th>\n      <td>70</td>\n      <td>WestCoastB</td>\n      <td>GWB01-3_152.jpg</td>\n      <td>78925551</td>\n      <td>728.559448</td>\n      <td>181.467453</td>\n      <td>Others (females, young males, juveniles)</td>\n      <td>Iguanas 3rd launch</td>\n      <td>NaN</td>\n      <td>not-logged-in-1bdc6ad4144048748e1e</td>\n    </tr>\n    <tr>\n      <th>3</th>\n      <td>71</td>\n      <td>WestCoastB</td>\n      <td>GWB01-3_152.jpg</td>\n      <td>78925551</td>\n      <td>601.206055</td>\n      <td>277.385895</td>\n      <td>Others (females, young males, juveniles)</td>\n      <td>Iguanas 3rd launch</td>\n      <td>NaN</td>\n      <td>not-logged-in-1bdc6ad4144048748e1e</td>\n    </tr>\n    <tr>\n      <th>4</th>\n      <td>125</td>\n      <td>SouthCoastH</td>\n      <td>ESCH02-1_323.jpg</td>\n      <td>78965007</td>\n      <td>247.383331</td>\n      <td>56.599998</td>\n      <td>Adult Male not in a lek</td>\n      <td>Iguanas 3rd launch</td>\n      <td>2400702.0</td>\n      <td>MoMo11</td>\n    </tr>\n    <tr>\n      <th>...</th>\n      <td>...</td>\n      <td>...</td>\n      <td>...</td>\n      <td>...</td>\n      <td>...</td>\n      <td>...</td>\n      <td>...</td>\n      <td>...</td>\n      <td>...</td>\n      <td>...</td>\n    </tr>\n    <tr>\n      <th>7396</th>\n      <td>104634</td>\n      <td>SouthCoastH</td>\n      <td>ESCH02-1_174.jpg</td>\n      <td>78964907</td>\n      <td>688.849609</td>\n      <td>135.619003</td>\n      <td>Adult Male with a lek</td>\n      <td>Iguanas 3rd launch</td>\n      <td>2159576.0</td>\n      <td>987520</td>\n    </tr>\n    <tr>\n      <th>7397</th>\n      <td>113862</td>\n      <td>GEB02</td>\n      <td>GEB02-3_197.jpg</td>\n      <td>78922625</td>\n      <td>496.962006</td>\n      <td>433.519104</td>\n      <td>Adult Male not in a lek</td>\n      <td>Iguanas 3rd launch</td>\n      <td>NaN</td>\n      <td>not-logged-in-e9f1111b45a6ee28bd33</td>\n    </tr>\n    <tr>\n      <th>7398</th>\n      <td>113863</td>\n      <td>GEB02</td>\n      <td>GEB02-3_197.jpg</td>\n      <td>78922625</td>\n      <td>496.542480</td>\n      <td>416.344574</td>\n      <td>Adult Male not in a lek</td>\n      <td>Iguanas 3rd launch</td>\n      <td>NaN</td>\n      <td>not-logged-in-0f458e24523988619154</td>\n    </tr>\n    <tr>\n      <th>7399</th>\n      <td>113866</td>\n      <td>GEB02</td>\n      <td>GEB02-3_197.jpg</td>\n      <td>78922625</td>\n      <td>502.057251</td>\n      <td>430.122284</td>\n      <td>Others (females, young males, juveniles)</td>\n      <td>Iguanas 3rd launch</td>\n      <td>2647442.0</td>\n      <td>CaylinShuford</td>\n    </tr>\n    <tr>\n      <th>7400</th>\n      <td>113870</td>\n      <td>GEB02</td>\n      <td>GEB02-3_197.jpg</td>\n      <td>78922625</td>\n      <td>485.176636</td>\n      <td>426.866882</td>\n      <td>Others (females, young males, juveniles)</td>\n      <td>Iguanas 3rd launch</td>\n      <td>NaN</td>\n      <td>not-logged-in-9fe421fff053a486b442</td>\n    </tr>\n  </tbody>\n</table>\n<p>6733 rows × 10 columns</p>\n</div>"
     },
     "execution_count": 9,
     "metadata": {},
     "output_type": "execute_result"
    }
   ],
   "source": [
    "## After filtering there\n",
    "df_merged_dataset"
   ]
  },
  {
   "cell_type": "code",
   "outputs": [
    {
     "data": {
      "text/plain": "           x\nuser_id     \n3427.0    13\n4358.0     2\n120287.0   2\n156713.0   3\n251333.0   8",
      "text/html": "<div>\n<style scoped>\n    .dataframe tbody tr th:only-of-type {\n        vertical-align: middle;\n    }\n\n    .dataframe tbody tr th {\n        vertical-align: top;\n    }\n\n    .dataframe thead th {\n        text-align: right;\n    }\n</style>\n<table border=\"1\" class=\"dataframe\">\n  <thead>\n    <tr style=\"text-align: right;\">\n      <th></th>\n      <th>x</th>\n    </tr>\n    <tr>\n      <th>user_id</th>\n      <th></th>\n    </tr>\n  </thead>\n  <tbody>\n    <tr>\n      <th>3427.0</th>\n      <td>13</td>\n    </tr>\n    <tr>\n      <th>4358.0</th>\n      <td>2</td>\n    </tr>\n    <tr>\n      <th>120287.0</th>\n      <td>2</td>\n    </tr>\n    <tr>\n      <th>156713.0</th>\n      <td>3</td>\n    </tr>\n    <tr>\n      <th>251333.0</th>\n      <td>8</td>\n    </tr>\n  </tbody>\n</table>\n</div>"
     },
     "execution_count": 10,
     "metadata": {},
     "output_type": "execute_result"
    }
   ],
   "source": [
    "# how many marks per user\n",
    "df_merged_dataset[[\"user_id\", \"x\"]].groupby(\"user_id\").count().head()"
   ],
   "metadata": {
    "collapsed": false,
    "ExecuteTime": {
     "end_time": "2024-03-07T12:02:26.016782Z",
     "start_time": "2024-03-07T12:02:26.011699Z"
    }
   },
   "id": "e1fcc8d02df55119",
   "execution_count": 10
  },
  {
   "cell_type": "markdown",
   "source": [
    "### gold standard data\n",
    "For reference"
   ],
   "metadata": {
    "collapsed": false
   },
   "id": "9dc998338a68bf87"
  },
  {
   "cell_type": "code",
   "outputs": [
    {
     "data": {
      "text/plain": "Empty DataFrame\nColumns: [subspecies, island, site_name, subject_group, image_name, subject_id, presence_absence, count_male-lek, count_male-no-lek, count_others, count_partial, count_total, quality, condition, comment]\nIndex: []",
      "text/html": "<div>\n<style scoped>\n    .dataframe tbody tr th:only-of-type {\n        vertical-align: middle;\n    }\n\n    .dataframe tbody tr th {\n        vertical-align: top;\n    }\n\n    .dataframe thead th {\n        text-align: right;\n    }\n</style>\n<table border=\"1\" class=\"dataframe\">\n  <thead>\n    <tr style=\"text-align: right;\">\n      <th></th>\n      <th>subspecies</th>\n      <th>island</th>\n      <th>site_name</th>\n      <th>subject_group</th>\n      <th>image_name</th>\n      <th>subject_id</th>\n      <th>presence_absence</th>\n      <th>count_male-lek</th>\n      <th>count_male-no-lek</th>\n      <th>count_others</th>\n      <th>count_partial</th>\n      <th>count_total</th>\n      <th>quality</th>\n      <th>condition</th>\n      <th>comment</th>\n    </tr>\n  </thead>\n  <tbody>\n  </tbody>\n</table>\n</div>"
     },
     "execution_count": 11,
     "metadata": {},
     "output_type": "execute_result"
    }
   ],
   "source": [
    "df_goldstandard_expert_count[df_goldstandard_expert_count[\"image_name\"].isin([\"SFM01-2-2-2_282.jpg\", \"SFM01-2-2-2_323.jpg\"])]"
   ],
   "metadata": {
    "collapsed": false,
    "ExecuteTime": {
     "end_time": "2024-03-07T12:02:26.021823Z",
     "start_time": "2024-03-07T12:02:26.017703Z"
    }
   },
   "id": "5a66cdb1915a11ef",
   "execution_count": 11
  },
  {
   "cell_type": "code",
   "outputs": [
    {
     "data": {
      "text/plain": "388"
     },
     "execution_count": 12,
     "metadata": {},
     "output_type": "execute_result"
    }
   ],
   "source": [
    "df_goldstandard_expert_count.count_total.sum()"
   ],
   "metadata": {
    "collapsed": false,
    "ExecuteTime": {
     "end_time": "2024-03-07T12:02:26.025153Z",
     "start_time": "2024-03-07T12:02:26.022370Z"
    }
   },
   "id": "923dec4d89d5a71c",
   "execution_count": 12
  },
  {
   "cell_type": "code",
   "outputs": [
    {
     "data": {
      "text/plain": "subspecies           1156\nisland               1156\nsite_name            1156\nsubject_group        1156\nimage_name           1156\nsubject_id           1156\npresence_absence     1156\ncount_male-lek       1156\ncount_male-no-lek    1156\ncount_others         1156\ncount_partial        1156\ncount_total          1156\nquality               117\ncondition             116\ncomment                21\ndtype: int64"
     },
     "execution_count": 13,
     "metadata": {},
     "output_type": "execute_result"
    }
   ],
   "source": [
    "# look at the\n",
    "df_goldstandard_expert_count.count()"
   ],
   "metadata": {
    "collapsed": false,
    "ExecuteTime": {
     "end_time": "2024-03-07T12:02:26.028854Z",
     "start_time": "2024-03-07T12:02:26.025659Z"
    }
   },
   "id": "ba06d92f5be8c77",
   "execution_count": 13
  },
  {
   "cell_type": "code",
   "outputs": [
    {
     "name": "stdout",
     "output_type": "stream",
     "text": [
      "filtering the zooniverse classifications dataset for gold standard images the count_total of iguanas is: 351, but it should be 388\n"
     ]
    },
    {
     "data": {
      "text/plain": "           subspecies    island       site_name subject_group  \\\n22      A. c. hayampi  Marchena      BahiaNegra          MBN1   \n100     A. c. hayampi  Marchena     BahiaNegraD         MBBD1   \n208   A. c. sielmanni     Pinta   CaboIbebetson           PCI   \n238   A. c. sielmanni     Pinta   CaboIbebetson           PCI   \n274   A. c. sielmanni     Pinta  CaboIbebetsonC          PCIC   \n...               ...       ...             ...           ...   \n1131      A. c. nanus  Genovesa      WestCoastB           GWB   \n1135      A. c. nanus  Genovesa      WestCoastB           GWB   \n1136      A. c. nanus  Genovesa      WestCoastB           GWB   \n1144      A. c. nanus  Genovesa      WestCoastB           GWB   \n1146      A. c. nanus  Genovesa      WestCoastB           GWB   \n\n            image_name  subject_id presence_absence  count_male-lek  \\\n22     MBN04-2_182.jpg    78926344                N               0   \n100   MBBD02-2_248.jpg    78928708                Y               0   \n208    PCI01-2_111.jpg    78938221                Y               1   \n238     PCI02-1_92.jpg    78938603                Y               0   \n274   PCIC01-1_113.jpg    78938992                Y               0   \n...                ...         ...              ...             ...   \n1131   GWB01-2_300.jpg    78925388                Y               0   \n1135   GWB01-2_421.jpg    78925457                Y               0   \n1136   GWB01-2_430.jpg    78925467                Y               0   \n1144    GWB01-3_12.jpg    78925536                Y               0   \n1146   GWB01-3_152.jpg    78925551                Y               0   \n\n      count_male-no-lek  count_others  count_partial  count_total quality  \\\n22                    0             0              0            0     NaN   \n100                   1             1              0            2    Good   \n208                   0             3              0            4    Good   \n238                   1             0              0            1    Good   \n274                   0             2              0            2    Good   \n...                 ...           ...            ...          ...     ...   \n1131                  0             1              0            1    Good   \n1135                  0             1              0            1    Good   \n1136                  0             1              0            1    Good   \n1144                  0             1              0            1    Good   \n1146                  0             2              0            2    Good   \n\n     condition comment  \n22         NaN     NaN  \n100        NaN     NaN  \n208    Visible     NaN  \n238    Visible     NaN  \n274       Hard     NaN  \n...        ...     ...  \n1131   Visible     NaN  \n1135   Visible     NaN  \n1136   Visible     NaN  \n1144   Visible     NaN  \n1146      Hard     NaN  \n\n[87 rows x 15 columns]",
      "text/html": "<div>\n<style scoped>\n    .dataframe tbody tr th:only-of-type {\n        vertical-align: middle;\n    }\n\n    .dataframe tbody tr th {\n        vertical-align: top;\n    }\n\n    .dataframe thead th {\n        text-align: right;\n    }\n</style>\n<table border=\"1\" class=\"dataframe\">\n  <thead>\n    <tr style=\"text-align: right;\">\n      <th></th>\n      <th>subspecies</th>\n      <th>island</th>\n      <th>site_name</th>\n      <th>subject_group</th>\n      <th>image_name</th>\n      <th>subject_id</th>\n      <th>presence_absence</th>\n      <th>count_male-lek</th>\n      <th>count_male-no-lek</th>\n      <th>count_others</th>\n      <th>count_partial</th>\n      <th>count_total</th>\n      <th>quality</th>\n      <th>condition</th>\n      <th>comment</th>\n    </tr>\n  </thead>\n  <tbody>\n    <tr>\n      <th>22</th>\n      <td>A. c. hayampi</td>\n      <td>Marchena</td>\n      <td>BahiaNegra</td>\n      <td>MBN1</td>\n      <td>MBN04-2_182.jpg</td>\n      <td>78926344</td>\n      <td>N</td>\n      <td>0</td>\n      <td>0</td>\n      <td>0</td>\n      <td>0</td>\n      <td>0</td>\n      <td>NaN</td>\n      <td>NaN</td>\n      <td>NaN</td>\n    </tr>\n    <tr>\n      <th>100</th>\n      <td>A. c. hayampi</td>\n      <td>Marchena</td>\n      <td>BahiaNegraD</td>\n      <td>MBBD1</td>\n      <td>MBBD02-2_248.jpg</td>\n      <td>78928708</td>\n      <td>Y</td>\n      <td>0</td>\n      <td>1</td>\n      <td>1</td>\n      <td>0</td>\n      <td>2</td>\n      <td>Good</td>\n      <td>NaN</td>\n      <td>NaN</td>\n    </tr>\n    <tr>\n      <th>208</th>\n      <td>A. c. sielmanni</td>\n      <td>Pinta</td>\n      <td>CaboIbebetson</td>\n      <td>PCI</td>\n      <td>PCI01-2_111.jpg</td>\n      <td>78938221</td>\n      <td>Y</td>\n      <td>1</td>\n      <td>0</td>\n      <td>3</td>\n      <td>0</td>\n      <td>4</td>\n      <td>Good</td>\n      <td>Visible</td>\n      <td>NaN</td>\n    </tr>\n    <tr>\n      <th>238</th>\n      <td>A. c. sielmanni</td>\n      <td>Pinta</td>\n      <td>CaboIbebetson</td>\n      <td>PCI</td>\n      <td>PCI02-1_92.jpg</td>\n      <td>78938603</td>\n      <td>Y</td>\n      <td>0</td>\n      <td>1</td>\n      <td>0</td>\n      <td>0</td>\n      <td>1</td>\n      <td>Good</td>\n      <td>Visible</td>\n      <td>NaN</td>\n    </tr>\n    <tr>\n      <th>274</th>\n      <td>A. c. sielmanni</td>\n      <td>Pinta</td>\n      <td>CaboIbebetsonC</td>\n      <td>PCIC</td>\n      <td>PCIC01-1_113.jpg</td>\n      <td>78938992</td>\n      <td>Y</td>\n      <td>0</td>\n      <td>0</td>\n      <td>2</td>\n      <td>0</td>\n      <td>2</td>\n      <td>Good</td>\n      <td>Hard</td>\n      <td>NaN</td>\n    </tr>\n    <tr>\n      <th>...</th>\n      <td>...</td>\n      <td>...</td>\n      <td>...</td>\n      <td>...</td>\n      <td>...</td>\n      <td>...</td>\n      <td>...</td>\n      <td>...</td>\n      <td>...</td>\n      <td>...</td>\n      <td>...</td>\n      <td>...</td>\n      <td>...</td>\n      <td>...</td>\n      <td>...</td>\n    </tr>\n    <tr>\n      <th>1131</th>\n      <td>A. c. nanus</td>\n      <td>Genovesa</td>\n      <td>WestCoastB</td>\n      <td>GWB</td>\n      <td>GWB01-2_300.jpg</td>\n      <td>78925388</td>\n      <td>Y</td>\n      <td>0</td>\n      <td>0</td>\n      <td>1</td>\n      <td>0</td>\n      <td>1</td>\n      <td>Good</td>\n      <td>Visible</td>\n      <td>NaN</td>\n    </tr>\n    <tr>\n      <th>1135</th>\n      <td>A. c. nanus</td>\n      <td>Genovesa</td>\n      <td>WestCoastB</td>\n      <td>GWB</td>\n      <td>GWB01-2_421.jpg</td>\n      <td>78925457</td>\n      <td>Y</td>\n      <td>0</td>\n      <td>0</td>\n      <td>1</td>\n      <td>0</td>\n      <td>1</td>\n      <td>Good</td>\n      <td>Visible</td>\n      <td>NaN</td>\n    </tr>\n    <tr>\n      <th>1136</th>\n      <td>A. c. nanus</td>\n      <td>Genovesa</td>\n      <td>WestCoastB</td>\n      <td>GWB</td>\n      <td>GWB01-2_430.jpg</td>\n      <td>78925467</td>\n      <td>Y</td>\n      <td>0</td>\n      <td>0</td>\n      <td>1</td>\n      <td>0</td>\n      <td>1</td>\n      <td>Good</td>\n      <td>Visible</td>\n      <td>NaN</td>\n    </tr>\n    <tr>\n      <th>1144</th>\n      <td>A. c. nanus</td>\n      <td>Genovesa</td>\n      <td>WestCoastB</td>\n      <td>GWB</td>\n      <td>GWB01-3_12.jpg</td>\n      <td>78925536</td>\n      <td>Y</td>\n      <td>0</td>\n      <td>0</td>\n      <td>1</td>\n      <td>0</td>\n      <td>1</td>\n      <td>Good</td>\n      <td>Visible</td>\n      <td>NaN</td>\n    </tr>\n    <tr>\n      <th>1146</th>\n      <td>A. c. nanus</td>\n      <td>Genovesa</td>\n      <td>WestCoastB</td>\n      <td>GWB</td>\n      <td>GWB01-3_152.jpg</td>\n      <td>78925551</td>\n      <td>Y</td>\n      <td>0</td>\n      <td>0</td>\n      <td>2</td>\n      <td>0</td>\n      <td>2</td>\n      <td>Good</td>\n      <td>Hard</td>\n      <td>NaN</td>\n    </tr>\n  </tbody>\n</table>\n<p>87 rows × 15 columns</p>\n</div>"
     },
     "execution_count": 14,
     "metadata": {},
     "output_type": "execute_result"
    }
   ],
   "source": [
    "fsum = df_goldstandard_expert_count[\n",
    "    df_goldstandard_expert_count.image_name.isin(df_merged_dataset.image_name.unique())]\n",
    "\n",
    "print(f\"filtering the zooniverse classifications dataset for gold standard images the count_total of iguanas is: {fsum.count_total.sum()}, but it should be {df_goldstandard_expert_count.count_total.sum()}\")\n",
    "fsum\n"
   ],
   "metadata": {
    "collapsed": false,
    "ExecuteTime": {
     "end_time": "2024-03-07T12:02:26.039039Z",
     "start_time": "2024-03-07T12:02:26.031594Z"
    }
   },
   "id": "37307d154c5e9fb3",
   "execution_count": 14
  },
  {
   "cell_type": "code",
   "outputs": [
    {
     "data": {
      "text/plain": "87"
     },
     "execution_count": 15,
     "metadata": {},
     "output_type": "execute_result"
    }
   ],
   "source": [
    "# How many images are left in the zooniverse dataset?\n",
    "len(list(df_merged_dataset.image_name.unique()))"
   ],
   "metadata": {
    "collapsed": false,
    "ExecuteTime": {
     "end_time": "2024-03-07T12:02:26.042244Z",
     "start_time": "2024-03-07T12:02:26.039653Z"
    }
   },
   "id": "15820bdd2650de9f",
   "execution_count": 15
  },
  {
   "cell_type": "code",
   "outputs": [
    {
     "data": {
      "text/plain": "388"
     },
     "execution_count": 16,
     "metadata": {},
     "output_type": "execute_result"
    }
   ],
   "source": [
    "#Is there an image in the goldstandard, which is not in the classifcations?\n",
    "len(set(df_goldstandard_expert_count.subject_id) - set(df_merged_dataset.subject_id.unique()))\n",
    "\n",
    "\n",
    "df_goldstandard_expert_count.count_total.sum()\n",
    "# df_merged_dataset[df_merged_dataset.image_name.isin([\"SRL01-1-2_105.jpg\"])]"
   ],
   "metadata": {
    "collapsed": false,
    "ExecuteTime": {
     "end_time": "2024-03-07T12:02:26.047082Z",
     "start_time": "2024-03-07T12:02:26.043006Z"
    }
   },
   "id": "80c69a368a3883da",
   "execution_count": 16
  },
  {
   "cell_type": "code",
   "outputs": [
    {
     "data": {
      "text/plain": "Empty DataFrame\nColumns: [subspecies, island, site_name, subject_group, image_name, subject_id, presence_absence, count_male-lek, count_male-no-lek, count_others, count_partial, count_total, quality, condition, comment]\nIndex: []",
      "text/html": "<div>\n<style scoped>\n    .dataframe tbody tr th:only-of-type {\n        vertical-align: middle;\n    }\n\n    .dataframe tbody tr th {\n        vertical-align: top;\n    }\n\n    .dataframe thead th {\n        text-align: right;\n    }\n</style>\n<table border=\"1\" class=\"dataframe\">\n  <thead>\n    <tr style=\"text-align: right;\">\n      <th></th>\n      <th>subspecies</th>\n      <th>island</th>\n      <th>site_name</th>\n      <th>subject_group</th>\n      <th>image_name</th>\n      <th>subject_id</th>\n      <th>presence_absence</th>\n      <th>count_male-lek</th>\n      <th>count_male-no-lek</th>\n      <th>count_others</th>\n      <th>count_partial</th>\n      <th>count_total</th>\n      <th>quality</th>\n      <th>condition</th>\n      <th>comment</th>\n    </tr>\n  </thead>\n  <tbody>\n  </tbody>\n</table>\n</div>"
     },
     "execution_count": 17,
     "metadata": {},
     "output_type": "execute_result"
    }
   ],
   "source": [
    "df_goldstandard_expert_count[df_goldstandard_expert_count.image_name.isin([\"SRL01-1-2_105.jpg\"])]"
   ],
   "metadata": {
    "collapsed": false,
    "ExecuteTime": {
     "end_time": "2024-03-07T12:02:26.051356Z",
     "start_time": "2024-03-07T12:02:26.047742Z"
    }
   },
   "id": "bedda8c037074548",
   "execution_count": 17
  },
  {
   "cell_type": "code",
   "outputs": [
    {
     "data": {
      "text/plain": "    subject_id  Median0s     Mean0s  Max0s      Std0s  Median0s.r  Mean0s.r  \\\n0     78922029       2.0   1.928571      5   0.997249           2         2   \n1     78922093       9.0  11.500000     32  10.406729           9        12   \n2     78922433       1.0   1.000000      1   0.000000           1         1   \n3     78922625       1.0   1.095238      3   0.436436           1         1   \n4     78924089       2.0   1.750000      2   0.462910           2         2   \n..         ...       ...        ...    ...        ...         ...       ...   \n82    78965032       2.0   1.964286      4   0.881167           2         2   \n83    78965058       5.0   5.620690     12   1.449478           5         6   \n84    78965066       2.0   2.272727      4   0.631085           2         2   \n85    78965103       7.0   7.464286     13   2.411118           7         7   \n86    78965135       4.0   6.000000     20   5.522681           4         6   \n\n    Mode0s  \n0        2  \n1        9  \n2        1  \n3        1  \n4        2  \n..     ...  \n82       2  \n83       5  \n84       2  \n85       5  \n86       1  \n\n[87 rows x 8 columns]",
      "text/html": "<div>\n<style scoped>\n    .dataframe tbody tr th:only-of-type {\n        vertical-align: middle;\n    }\n\n    .dataframe tbody tr th {\n        vertical-align: top;\n    }\n\n    .dataframe thead th {\n        text-align: right;\n    }\n</style>\n<table border=\"1\" class=\"dataframe\">\n  <thead>\n    <tr style=\"text-align: right;\">\n      <th></th>\n      <th>subject_id</th>\n      <th>Median0s</th>\n      <th>Mean0s</th>\n      <th>Max0s</th>\n      <th>Std0s</th>\n      <th>Median0s.r</th>\n      <th>Mean0s.r</th>\n      <th>Mode0s</th>\n    </tr>\n  </thead>\n  <tbody>\n    <tr>\n      <th>0</th>\n      <td>78922029</td>\n      <td>2.0</td>\n      <td>1.928571</td>\n      <td>5</td>\n      <td>0.997249</td>\n      <td>2</td>\n      <td>2</td>\n      <td>2</td>\n    </tr>\n    <tr>\n      <th>1</th>\n      <td>78922093</td>\n      <td>9.0</td>\n      <td>11.500000</td>\n      <td>32</td>\n      <td>10.406729</td>\n      <td>9</td>\n      <td>12</td>\n      <td>9</td>\n    </tr>\n    <tr>\n      <th>2</th>\n      <td>78922433</td>\n      <td>1.0</td>\n      <td>1.000000</td>\n      <td>1</td>\n      <td>0.000000</td>\n      <td>1</td>\n      <td>1</td>\n      <td>1</td>\n    </tr>\n    <tr>\n      <th>3</th>\n      <td>78922625</td>\n      <td>1.0</td>\n      <td>1.095238</td>\n      <td>3</td>\n      <td>0.436436</td>\n      <td>1</td>\n      <td>1</td>\n      <td>1</td>\n    </tr>\n    <tr>\n      <th>4</th>\n      <td>78924089</td>\n      <td>2.0</td>\n      <td>1.750000</td>\n      <td>2</td>\n      <td>0.462910</td>\n      <td>2</td>\n      <td>2</td>\n      <td>2</td>\n    </tr>\n    <tr>\n      <th>...</th>\n      <td>...</td>\n      <td>...</td>\n      <td>...</td>\n      <td>...</td>\n      <td>...</td>\n      <td>...</td>\n      <td>...</td>\n      <td>...</td>\n    </tr>\n    <tr>\n      <th>82</th>\n      <td>78965032</td>\n      <td>2.0</td>\n      <td>1.964286</td>\n      <td>4</td>\n      <td>0.881167</td>\n      <td>2</td>\n      <td>2</td>\n      <td>2</td>\n    </tr>\n    <tr>\n      <th>83</th>\n      <td>78965058</td>\n      <td>5.0</td>\n      <td>5.620690</td>\n      <td>12</td>\n      <td>1.449478</td>\n      <td>5</td>\n      <td>6</td>\n      <td>5</td>\n    </tr>\n    <tr>\n      <th>84</th>\n      <td>78965066</td>\n      <td>2.0</td>\n      <td>2.272727</td>\n      <td>4</td>\n      <td>0.631085</td>\n      <td>2</td>\n      <td>2</td>\n      <td>2</td>\n    </tr>\n    <tr>\n      <th>85</th>\n      <td>78965103</td>\n      <td>7.0</td>\n      <td>7.464286</td>\n      <td>13</td>\n      <td>2.411118</td>\n      <td>7</td>\n      <td>7</td>\n      <td>5</td>\n    </tr>\n    <tr>\n      <th>86</th>\n      <td>78965135</td>\n      <td>4.0</td>\n      <td>6.000000</td>\n      <td>20</td>\n      <td>5.522681</td>\n      <td>4</td>\n      <td>6</td>\n      <td>1</td>\n    </tr>\n  </tbody>\n</table>\n<p>87 rows × 8 columns</p>\n</div>"
     },
     "execution_count": 18,
     "metadata": {},
     "output_type": "execute_result"
    }
   ],
   "source": [
    "T2_GS_results_5th_0s = pd.read_csv(config[\"gold_standard_image_subset\"], sep=\";\")\n",
    "T2_GS_results_5th_0s"
   ],
   "metadata": {
    "collapsed": false,
    "ExecuteTime": {
     "end_time": "2024-03-07T12:02:26.058184Z",
     "start_time": "2024-03-07T12:02:26.051844Z"
    }
   },
   "id": "d3e71d55c33f40a1",
   "execution_count": 18
  },
  {
   "cell_type": "markdown",
   "source": [
    "## The gold standard vs. the expert count"
   ],
   "metadata": {
    "collapsed": false
   },
   "id": "9b226a6c6cb43f88"
  },
  {
   "cell_type": "code",
   "outputs": [
    {
     "name": "stdout",
     "output_type": "stream",
     "text": [
      "If the expert count (/Users/christian/data/zooniverse/Images/Zooniverse_Goldstandard_images/expert-GS-3rdphase_renamed.csv)  is filtered for the subject ids in /Users/christian/data/zooniverse/Images/Zooniverse_Goldstandard_images/3-T2-GS-results-5th-0s.csv the count_total is 351 iguanas\n"
     ]
    }
   ],
   "source": [
    "# Double checking for the counts\n",
    "gstd_5th = df_goldstandard_expert_count[df_goldstandard_expert_count.subject_id.isin(T2_GS_results_5th_0s.subject_id)].count_total.sum()\n",
    "print(f\"If the expert count ({config['goldstandard_data']})  is filtered for the subject ids in {config['gold_standard_image_subset']} the count_total is {gstd_5th} iguanas\")"
   ],
   "metadata": {
    "collapsed": false,
    "ExecuteTime": {
     "end_time": "2024-03-07T12:02:26.061059Z",
     "start_time": "2024-03-07T12:02:26.058803Z"
    }
   },
   "id": "99ee5f368383aca0",
   "execution_count": 19
  },
  {
   "cell_type": "code",
   "outputs": [
    {
     "data": {
      "text/plain": "388"
     },
     "execution_count": 20,
     "metadata": {},
     "output_type": "execute_result"
    }
   ],
   "source": [
    "len(set(T2_GS_results_5th_0s.subject_id.unique()) - set(df_goldstandard_expert_count.subject_id))\n",
    "df_goldstandard_expert_count[\"count_total\"].sum()"
   ],
   "metadata": {
    "collapsed": false,
    "ExecuteTime": {
     "end_time": "2024-03-07T12:02:26.064317Z",
     "start_time": "2024-03-07T12:02:26.061818Z"
    }
   },
   "id": "770391321772ab07",
   "execution_count": 20
  },
  {
   "cell_type": "markdown",
   "source": [],
   "metadata": {
    "collapsed": false
   },
   "id": "727513d12334665b"
  },
  {
   "cell_type": "code",
   "outputs": [
    {
     "data": {
      "text/plain": "87"
     },
     "execution_count": 21,
     "metadata": {},
     "output_type": "execute_result"
    }
   ],
   "source": [
    "df_merged_dataset[\"subject_id\"].nunique()"
   ],
   "metadata": {
    "collapsed": false,
    "ExecuteTime": {
     "end_time": "2024-03-07T12:02:26.066882Z",
     "start_time": "2024-03-07T12:02:26.064932Z"
    }
   },
   "id": "a32dd3d78eb25d4a",
   "execution_count": 21
  },
  {
   "cell_type": "code",
   "execution_count": 22,
   "id": "c03a341c4a050cc7",
   "metadata": {
    "collapsed": false,
    "ExecuteTime": {
     "end_time": "2024-03-07T12:02:26.070567Z",
     "start_time": "2024-03-07T12:02:26.067388Z"
    }
   },
   "outputs": [
    {
     "data": {
      "text/plain": "351"
     },
     "execution_count": 22,
     "metadata": {},
     "output_type": "execute_result"
    }
   ],
   "source": [
    "\n",
    "df_goldstandard_expert_count = df_goldstandard_expert_count[\n",
    "    df_goldstandard_expert_count.subject_id.isin(df_merged_dataset.subject_id.unique())]\n",
    "df_goldstandard_expert_count = df_goldstandard_expert_count[[\"image_name\", \"subject_id\", \"count_total\"]]\n",
    "\n",
    "df_goldstandard_expert_count[\"count_total\"].sum()"
   ]
  },
  {
   "cell_type": "code",
   "execution_count": 23,
   "id": "e81f8736a91d6771",
   "metadata": {
    "collapsed": false,
    "ExecuteTime": {
     "end_time": "2024-03-07T12:02:26.073184Z",
     "start_time": "2024-03-07T12:02:26.071087Z"
    }
   },
   "outputs": [],
   "source": [
    "## plot some of the marks\n",
    "from zooniverse.utils.plotting import plot_zooniverse_user_marks_v2\n",
    "# FMO03-1_65\n",
    "# EIG05-1_83.jpg # phase \n",
    "# MBN04-2_182.jpg # phase 3\n",
    "# df_merged_dataset_filtered = df_merged_dataset[df_merged_dataset.image_name.isin([\"ESCG02-1_19.jpg\"])]\n",
    "if phase_tag in[\"Iguanas 1st launch\", \"Iguanas 2nd launch\"]  and  ( plot_diagrams or show_plots ) :\n",
    "    for image_name, df_image_name in df_merged_dataset.groupby(\"image_name\"):\n",
    "        \n",
    "        ## plot the marks\n",
    "        markers_plot_path = plot_zooniverse_user_marks_v2(df_image_name,\n",
    "                                                          image_path=df_image_name.iloc[0][\"image_path\"],\n",
    "                                                          image_name=image_name,\n",
    "                                                          output_path=output_plot_path, show=show_plots, title=f\"Markers for {image_name}\", fig_size=(5,5))\n",
    "        "
   ]
  },
  {
   "cell_type": "markdown",
   "id": "42c2737f2c06741d",
   "metadata": {
    "collapsed": false
   },
   "source": [
    "## Clustering"
   ]
  },
  {
   "cell_type": "markdown",
   "id": "beefdd1511daad4",
   "metadata": {
    "collapsed": false
   },
   "source": [
    "### Basic Statics like mean, median, mode"
   ]
  },
  {
   "cell_type": "code",
   "execution_count": 24,
   "id": "998d62019f01a2ec",
   "metadata": {
    "collapsed": false,
    "ExecuteTime": {
     "end_time": "2024-03-07T12:02:26.094113Z",
     "start_time": "2024-03-07T12:02:26.073770Z"
    }
   },
   "outputs": [
    {
     "data": {
      "text/plain": "351"
     },
     "execution_count": 24,
     "metadata": {},
     "output_type": "execute_result"
    }
   ],
   "source": [
    "from sklearn.metrics import mean_squared_error\n",
    "from zooniverse.analysis import kmeans_knee, get_mark_overview\n",
    "\n",
    "basic_stats = []\n",
    "kmeans_knee_stats = []\n",
    "kmeans_silouettes = []\n",
    "mse_errors = {}\n",
    "\n",
    "\n",
    "for image_name, df_image_name in df_merged_dataset.groupby(\"image_name\"):\n",
    "    annotations_count = get_mark_overview(df_image_name)\n",
    "\n",
    "\n",
    "    annotations_count_stats = get_annotation_count_stats(annotations_count=annotations_count,\n",
    "                                                         image_name=df_image_name.iloc[0][\"image_name\"])\n",
    "\n",
    "\n",
    "    ### basic statistics like mean, median\n",
    "    basic_stats.append(annotations_count_stats)\n",
    "    \n",
    "\n",
    "df_basic_stats = pd.DataFrame(basic_stats)    \n",
    "\n",
    "df_comparison = df_goldstandard_expert_count.merge(df_basic_stats, on='image_name', how='left')\n",
    "\n",
    "df_comparison[\"count_total\"].sum()\n",
    "df_goldstandard_expert_count[\"count_total\"].sum()"
   ]
  },
  {
   "cell_type": "code",
   "outputs": [
    {
     "data": {
      "text/plain": "Empty DataFrame\nColumns: [image_name, subject_id, count_total, median_count, mean_count, mode_count, users, sum_annotations_count, annotations_count]\nIndex: []",
      "text/html": "<div>\n<style scoped>\n    .dataframe tbody tr th:only-of-type {\n        vertical-align: middle;\n    }\n\n    .dataframe tbody tr th {\n        vertical-align: top;\n    }\n\n    .dataframe thead th {\n        text-align: right;\n    }\n</style>\n<table border=\"1\" class=\"dataframe\">\n  <thead>\n    <tr style=\"text-align: right;\">\n      <th></th>\n      <th>image_name</th>\n      <th>subject_id</th>\n      <th>count_total</th>\n      <th>median_count</th>\n      <th>mean_count</th>\n      <th>mode_count</th>\n      <th>users</th>\n      <th>sum_annotations_count</th>\n      <th>annotations_count</th>\n    </tr>\n  </thead>\n  <tbody>\n  </tbody>\n</table>\n</div>"
     },
     "execution_count": 25,
     "metadata": {},
     "output_type": "execute_result"
    }
   ],
   "source": [
    "# There might be records with too few annotations\n",
    "df_comparison[(df_comparison.count_total > 0) & (df_comparison.sum_annotations_count < 5)].sort_values(by=\"users\", ascending=False)"
   ],
   "metadata": {
    "collapsed": false,
    "ExecuteTime": {
     "end_time": "2024-03-07T12:02:26.099454Z",
     "start_time": "2024-03-07T12:02:26.095002Z"
    }
   },
   "id": "d3dc86009d813ff0",
   "execution_count": 25
  },
  {
   "cell_type": "code",
   "outputs": [
    {
     "data": {
      "text/plain": "Empty DataFrame\nColumns: [image_name, subject_id, count_total, median_count, mean_count, mode_count, users, sum_annotations_count, annotations_count]\nIndex: []",
      "text/html": "<div>\n<style scoped>\n    .dataframe tbody tr th:only-of-type {\n        vertical-align: middle;\n    }\n\n    .dataframe tbody tr th {\n        vertical-align: top;\n    }\n\n    .dataframe thead th {\n        text-align: right;\n    }\n</style>\n<table border=\"1\" class=\"dataframe\">\n  <thead>\n    <tr style=\"text-align: right;\">\n      <th></th>\n      <th>image_name</th>\n      <th>subject_id</th>\n      <th>count_total</th>\n      <th>median_count</th>\n      <th>mean_count</th>\n      <th>mode_count</th>\n      <th>users</th>\n      <th>sum_annotations_count</th>\n      <th>annotations_count</th>\n    </tr>\n  </thead>\n  <tbody>\n  </tbody>\n</table>\n</div>"
     },
     "execution_count": 26,
     "metadata": {},
     "output_type": "execute_result"
    }
   ],
   "source": [
    "# images with an expert count of more than 0 and less than 5 different users\n",
    "df_comparison[(df_comparison.count_total > 0) & (df_comparison.users < 5)].sort_values(by=\"users\", ascending=False)\n"
   ],
   "metadata": {
    "collapsed": false,
    "ExecuteTime": {
     "end_time": "2024-03-07T12:02:26.103947Z",
     "start_time": "2024-03-07T12:02:26.100417Z"
    }
   },
   "id": "6b73fd302520f520",
   "execution_count": 26
  },
  {
   "cell_type": "code",
   "outputs": [
    {
     "data": {
      "text/plain": "351"
     },
     "execution_count": 27,
     "metadata": {},
     "output_type": "execute_result"
    }
   ],
   "source": [
    "df_comparison[\"count_total\"].sum()"
   ],
   "metadata": {
    "collapsed": false,
    "ExecuteTime": {
     "end_time": "2024-03-07T12:02:26.106454Z",
     "start_time": "2024-03-07T12:02:26.104449Z"
    }
   },
   "id": "5920de4659a59e9e",
   "execution_count": 27
  },
  {
   "cell_type": "markdown",
   "source": [
    "### Fill NaN values with 0 because the errors can't be calculated otherwise"
   ],
   "metadata": {
    "collapsed": false
   },
   "id": "4bd536b6ef06de7c"
  },
  {
   "cell_type": "code",
   "execution_count": 28,
   "outputs": [],
   "source": [
    "\n",
    "## Fill NaN values with 0 because the errors can't be calculated otherwise\n",
    "df_comparison.fillna(0, inplace=True)\n"
   ],
   "metadata": {
    "collapsed": false,
    "ExecuteTime": {
     "end_time": "2024-03-07T12:02:26.109046Z",
     "start_time": "2024-03-07T12:02:26.107171Z"
    }
   },
   "id": "50596f5c07d7bd7c"
  },
  {
   "cell_type": "code",
   "execution_count": 29,
   "id": "a538f869681967c",
   "metadata": {
    "collapsed": false,
    "ExecuteTime": {
     "end_time": "2024-03-07T12:02:26.113632Z",
     "start_time": "2024-03-07T12:02:26.109544Z"
    }
   },
   "outputs": [
    {
     "data": {
      "text/plain": "median_count_rmse    1.555487\nmean_count_rmse      1.521801\nmode_count_rmse      2.031363\ndtype: float64"
     },
     "execution_count": 29,
     "metadata": {},
     "output_type": "execute_result"
    }
   ],
   "source": [
    "\n",
    "mse_errors[\"median_count_rmse\"] = mean_squared_error(df_comparison.count_total, df_comparison.median_count,\n",
    "                                                     squared=False)\n",
    "mse_errors[\"mean_count_rmse\"] = mean_squared_error(df_comparison.count_total, df_comparison.mean_count, squared=False)\n",
    "mse_errors[\"mode_count_rmse\"] = mean_squared_error(df_comparison.count_total, df_comparison.mode_count, squared=False)\n",
    "\n",
    "pd.Series(mse_errors)"
   ]
  },
  {
   "cell_type": "markdown",
   "id": "3100d741b31e60d1",
   "metadata": {
    "collapsed": false
   },
   "source": [
    "It can be seen the knee method has a very high Root mean squared error. "
   ]
  },
  {
   "cell_type": "code",
   "execution_count": 30,
   "id": "d0b61f01-8db0-48a6-8a4e-5ff80e6f86e4",
   "metadata": {
    "ExecuteTime": {
     "end_time": "2024-03-07T12:02:26.121769Z",
     "start_time": "2024-03-07T12:02:26.114292Z"
    }
   },
   "outputs": [
    {
     "data": {
      "text/plain": "          image_name  subject_id  count_total  median_count  mean_count  \\\n0    MBN04-2_182.jpg    78926344            0           2.0        1.71   \n1   MBBD02-2_248.jpg    78928708            2           2.0        2.12   \n2    PCI01-2_111.jpg    78938221            4           3.0        3.50   \n3     PCI02-1_92.jpg    78938603            1           1.0        1.21   \n4   PCIC01-1_113.jpg    78938992            2           2.0        1.75   \n..               ...         ...          ...           ...         ...   \n82   GWB01-2_300.jpg    78925388            1           1.0        1.00   \n83   GWB01-2_421.jpg    78925457            1           1.0        1.11   \n84   GWB01-2_430.jpg    78925467            1           1.0        1.11   \n85    GWB01-3_12.jpg    78925536            1           1.0        1.04   \n86   GWB01-3_152.jpg    78925551            2           2.0        2.00   \n\n    mode_count  users  sum_annotations_count  \\\n0            1      7                     12   \n1            2     17                     36   \n2            3     20                     70   \n3            1     19                     23   \n4            2      8                     14   \n..         ...    ...                    ...   \n82           1      9                      9   \n83           1      9                     10   \n84           1      9                     10   \n85           1     26                     27   \n86           2     15                     30   \n\n                                    annotations_count  \n0                               [1, 1, 1, 2, 2, 2, 3]  \n1   [1, 1, 2, 2, 2, 2, 2, 2, 2, 2, 2, 2, 2, 3, 3, ...  \n2   [2, 2, 3, 3, 3, 3, 3, 3, 3, 3, 3, 4, 4, 4, 4, ...  \n3   [1, 1, 1, 1, 1, 1, 1, 1, 1, 1, 1, 1, 1, 1, 1, ...  \n4                            [1, 1, 1, 2, 2, 2, 2, 3]  \n..                                                ...  \n82                        [1, 1, 1, 1, 1, 1, 1, 1, 1]  \n83                        [1, 1, 1, 1, 1, 1, 1, 1, 2]  \n84                        [1, 1, 1, 1, 1, 1, 1, 1, 2]  \n85  [1, 1, 1, 1, 1, 1, 1, 1, 1, 1, 1, 1, 1, 1, 1, ...  \n86      [1, 1, 1, 1, 2, 2, 2, 2, 2, 2, 2, 2, 2, 2, 6]  \n\n[87 rows x 9 columns]",
      "text/html": "<div>\n<style scoped>\n    .dataframe tbody tr th:only-of-type {\n        vertical-align: middle;\n    }\n\n    .dataframe tbody tr th {\n        vertical-align: top;\n    }\n\n    .dataframe thead th {\n        text-align: right;\n    }\n</style>\n<table border=\"1\" class=\"dataframe\">\n  <thead>\n    <tr style=\"text-align: right;\">\n      <th></th>\n      <th>image_name</th>\n      <th>subject_id</th>\n      <th>count_total</th>\n      <th>median_count</th>\n      <th>mean_count</th>\n      <th>mode_count</th>\n      <th>users</th>\n      <th>sum_annotations_count</th>\n      <th>annotations_count</th>\n    </tr>\n  </thead>\n  <tbody>\n    <tr>\n      <th>0</th>\n      <td>MBN04-2_182.jpg</td>\n      <td>78926344</td>\n      <td>0</td>\n      <td>2.0</td>\n      <td>1.71</td>\n      <td>1</td>\n      <td>7</td>\n      <td>12</td>\n      <td>[1, 1, 1, 2, 2, 2, 3]</td>\n    </tr>\n    <tr>\n      <th>1</th>\n      <td>MBBD02-2_248.jpg</td>\n      <td>78928708</td>\n      <td>2</td>\n      <td>2.0</td>\n      <td>2.12</td>\n      <td>2</td>\n      <td>17</td>\n      <td>36</td>\n      <td>[1, 1, 2, 2, 2, 2, 2, 2, 2, 2, 2, 2, 2, 3, 3, ...</td>\n    </tr>\n    <tr>\n      <th>2</th>\n      <td>PCI01-2_111.jpg</td>\n      <td>78938221</td>\n      <td>4</td>\n      <td>3.0</td>\n      <td>3.50</td>\n      <td>3</td>\n      <td>20</td>\n      <td>70</td>\n      <td>[2, 2, 3, 3, 3, 3, 3, 3, 3, 3, 3, 4, 4, 4, 4, ...</td>\n    </tr>\n    <tr>\n      <th>3</th>\n      <td>PCI02-1_92.jpg</td>\n      <td>78938603</td>\n      <td>1</td>\n      <td>1.0</td>\n      <td>1.21</td>\n      <td>1</td>\n      <td>19</td>\n      <td>23</td>\n      <td>[1, 1, 1, 1, 1, 1, 1, 1, 1, 1, 1, 1, 1, 1, 1, ...</td>\n    </tr>\n    <tr>\n      <th>4</th>\n      <td>PCIC01-1_113.jpg</td>\n      <td>78938992</td>\n      <td>2</td>\n      <td>2.0</td>\n      <td>1.75</td>\n      <td>2</td>\n      <td>8</td>\n      <td>14</td>\n      <td>[1, 1, 1, 2, 2, 2, 2, 3]</td>\n    </tr>\n    <tr>\n      <th>...</th>\n      <td>...</td>\n      <td>...</td>\n      <td>...</td>\n      <td>...</td>\n      <td>...</td>\n      <td>...</td>\n      <td>...</td>\n      <td>...</td>\n      <td>...</td>\n    </tr>\n    <tr>\n      <th>82</th>\n      <td>GWB01-2_300.jpg</td>\n      <td>78925388</td>\n      <td>1</td>\n      <td>1.0</td>\n      <td>1.00</td>\n      <td>1</td>\n      <td>9</td>\n      <td>9</td>\n      <td>[1, 1, 1, 1, 1, 1, 1, 1, 1]</td>\n    </tr>\n    <tr>\n      <th>83</th>\n      <td>GWB01-2_421.jpg</td>\n      <td>78925457</td>\n      <td>1</td>\n      <td>1.0</td>\n      <td>1.11</td>\n      <td>1</td>\n      <td>9</td>\n      <td>10</td>\n      <td>[1, 1, 1, 1, 1, 1, 1, 1, 2]</td>\n    </tr>\n    <tr>\n      <th>84</th>\n      <td>GWB01-2_430.jpg</td>\n      <td>78925467</td>\n      <td>1</td>\n      <td>1.0</td>\n      <td>1.11</td>\n      <td>1</td>\n      <td>9</td>\n      <td>10</td>\n      <td>[1, 1, 1, 1, 1, 1, 1, 1, 2]</td>\n    </tr>\n    <tr>\n      <th>85</th>\n      <td>GWB01-3_12.jpg</td>\n      <td>78925536</td>\n      <td>1</td>\n      <td>1.0</td>\n      <td>1.04</td>\n      <td>1</td>\n      <td>26</td>\n      <td>27</td>\n      <td>[1, 1, 1, 1, 1, 1, 1, 1, 1, 1, 1, 1, 1, 1, 1, ...</td>\n    </tr>\n    <tr>\n      <th>86</th>\n      <td>GWB01-3_152.jpg</td>\n      <td>78925551</td>\n      <td>2</td>\n      <td>2.0</td>\n      <td>2.00</td>\n      <td>2</td>\n      <td>15</td>\n      <td>30</td>\n      <td>[1, 1, 1, 1, 2, 2, 2, 2, 2, 2, 2, 2, 2, 2, 6]</td>\n    </tr>\n  </tbody>\n</table>\n<p>87 rows × 9 columns</p>\n</div>"
     },
     "execution_count": 30,
     "metadata": {},
     "output_type": "execute_result"
    }
   ],
   "source": [
    "df_comparison"
   ]
  },
  {
   "cell_type": "code",
   "execution_count": 31,
   "id": "8473f1659f70c47f",
   "metadata": {
    "collapsed": false,
    "ExecuteTime": {
     "end_time": "2024-03-07T12:02:26.124941Z",
     "start_time": "2024-03-07T12:02:26.122491Z"
    }
   },
   "outputs": [
    {
     "data": {
      "text/plain": "median_count_rmse    1.555487\nmean_count_rmse      1.521801\nmode_count_rmse      2.031363\ndtype: float64"
     },
     "execution_count": 31,
     "metadata": {},
     "output_type": "execute_result"
    }
   ],
   "source": [
    "\n",
    "pd.Series(mse_errors)"
   ]
  },
  {
   "cell_type": "code",
   "execution_count": 32,
   "outputs": [
    {
     "data": {
      "text/plain": "          image_name  subject_id  count_total  median_count  mean_count  \\\n0    MBN04-2_182.jpg    78926344            0           2.0        1.71   \n1   MBBD02-2_248.jpg    78928708            2           2.0        2.12   \n2    PCI01-2_111.jpg    78938221            4           3.0        3.50   \n3     PCI02-1_92.jpg    78938603            1           1.0        1.21   \n4   PCIC01-1_113.jpg    78938992            2           2.0        1.75   \n..               ...         ...          ...           ...         ...   \n82   GWB01-2_300.jpg    78925388            1           1.0        1.00   \n83   GWB01-2_421.jpg    78925457            1           1.0        1.11   \n84   GWB01-2_430.jpg    78925467            1           1.0        1.11   \n85    GWB01-3_12.jpg    78925536            1           1.0        1.04   \n86   GWB01-3_152.jpg    78925551            2           2.0        2.00   \n\n    mode_count  users  sum_annotations_count  \\\n0            1      7                     12   \n1            2     17                     36   \n2            3     20                     70   \n3            1     19                     23   \n4            2      8                     14   \n..         ...    ...                    ...   \n82           1      9                      9   \n83           1      9                     10   \n84           1      9                     10   \n85           1     26                     27   \n86           2     15                     30   \n\n                                    annotations_count  \n0                               [1, 1, 1, 2, 2, 2, 3]  \n1   [1, 1, 2, 2, 2, 2, 2, 2, 2, 2, 2, 2, 2, 3, 3, ...  \n2   [2, 2, 3, 3, 3, 3, 3, 3, 3, 3, 3, 4, 4, 4, 4, ...  \n3   [1, 1, 1, 1, 1, 1, 1, 1, 1, 1, 1, 1, 1, 1, 1, ...  \n4                            [1, 1, 1, 2, 2, 2, 2, 3]  \n..                                                ...  \n82                        [1, 1, 1, 1, 1, 1, 1, 1, 1]  \n83                        [1, 1, 1, 1, 1, 1, 1, 1, 2]  \n84                        [1, 1, 1, 1, 1, 1, 1, 1, 2]  \n85  [1, 1, 1, 1, 1, 1, 1, 1, 1, 1, 1, 1, 1, 1, 1, ...  \n86      [1, 1, 1, 1, 2, 2, 2, 2, 2, 2, 2, 2, 2, 2, 6]  \n\n[87 rows x 9 columns]",
      "text/html": "<div>\n<style scoped>\n    .dataframe tbody tr th:only-of-type {\n        vertical-align: middle;\n    }\n\n    .dataframe tbody tr th {\n        vertical-align: top;\n    }\n\n    .dataframe thead th {\n        text-align: right;\n    }\n</style>\n<table border=\"1\" class=\"dataframe\">\n  <thead>\n    <tr style=\"text-align: right;\">\n      <th></th>\n      <th>image_name</th>\n      <th>subject_id</th>\n      <th>count_total</th>\n      <th>median_count</th>\n      <th>mean_count</th>\n      <th>mode_count</th>\n      <th>users</th>\n      <th>sum_annotations_count</th>\n      <th>annotations_count</th>\n    </tr>\n  </thead>\n  <tbody>\n    <tr>\n      <th>0</th>\n      <td>MBN04-2_182.jpg</td>\n      <td>78926344</td>\n      <td>0</td>\n      <td>2.0</td>\n      <td>1.71</td>\n      <td>1</td>\n      <td>7</td>\n      <td>12</td>\n      <td>[1, 1, 1, 2, 2, 2, 3]</td>\n    </tr>\n    <tr>\n      <th>1</th>\n      <td>MBBD02-2_248.jpg</td>\n      <td>78928708</td>\n      <td>2</td>\n      <td>2.0</td>\n      <td>2.12</td>\n      <td>2</td>\n      <td>17</td>\n      <td>36</td>\n      <td>[1, 1, 2, 2, 2, 2, 2, 2, 2, 2, 2, 2, 2, 3, 3, ...</td>\n    </tr>\n    <tr>\n      <th>2</th>\n      <td>PCI01-2_111.jpg</td>\n      <td>78938221</td>\n      <td>4</td>\n      <td>3.0</td>\n      <td>3.50</td>\n      <td>3</td>\n      <td>20</td>\n      <td>70</td>\n      <td>[2, 2, 3, 3, 3, 3, 3, 3, 3, 3, 3, 4, 4, 4, 4, ...</td>\n    </tr>\n    <tr>\n      <th>3</th>\n      <td>PCI02-1_92.jpg</td>\n      <td>78938603</td>\n      <td>1</td>\n      <td>1.0</td>\n      <td>1.21</td>\n      <td>1</td>\n      <td>19</td>\n      <td>23</td>\n      <td>[1, 1, 1, 1, 1, 1, 1, 1, 1, 1, 1, 1, 1, 1, 1, ...</td>\n    </tr>\n    <tr>\n      <th>4</th>\n      <td>PCIC01-1_113.jpg</td>\n      <td>78938992</td>\n      <td>2</td>\n      <td>2.0</td>\n      <td>1.75</td>\n      <td>2</td>\n      <td>8</td>\n      <td>14</td>\n      <td>[1, 1, 1, 2, 2, 2, 2, 3]</td>\n    </tr>\n    <tr>\n      <th>...</th>\n      <td>...</td>\n      <td>...</td>\n      <td>...</td>\n      <td>...</td>\n      <td>...</td>\n      <td>...</td>\n      <td>...</td>\n      <td>...</td>\n      <td>...</td>\n    </tr>\n    <tr>\n      <th>82</th>\n      <td>GWB01-2_300.jpg</td>\n      <td>78925388</td>\n      <td>1</td>\n      <td>1.0</td>\n      <td>1.00</td>\n      <td>1</td>\n      <td>9</td>\n      <td>9</td>\n      <td>[1, 1, 1, 1, 1, 1, 1, 1, 1]</td>\n    </tr>\n    <tr>\n      <th>83</th>\n      <td>GWB01-2_421.jpg</td>\n      <td>78925457</td>\n      <td>1</td>\n      <td>1.0</td>\n      <td>1.11</td>\n      <td>1</td>\n      <td>9</td>\n      <td>10</td>\n      <td>[1, 1, 1, 1, 1, 1, 1, 1, 2]</td>\n    </tr>\n    <tr>\n      <th>84</th>\n      <td>GWB01-2_430.jpg</td>\n      <td>78925467</td>\n      <td>1</td>\n      <td>1.0</td>\n      <td>1.11</td>\n      <td>1</td>\n      <td>9</td>\n      <td>10</td>\n      <td>[1, 1, 1, 1, 1, 1, 1, 1, 2]</td>\n    </tr>\n    <tr>\n      <th>85</th>\n      <td>GWB01-3_12.jpg</td>\n      <td>78925536</td>\n      <td>1</td>\n      <td>1.0</td>\n      <td>1.04</td>\n      <td>1</td>\n      <td>26</td>\n      <td>27</td>\n      <td>[1, 1, 1, 1, 1, 1, 1, 1, 1, 1, 1, 1, 1, 1, 1, ...</td>\n    </tr>\n    <tr>\n      <th>86</th>\n      <td>GWB01-3_152.jpg</td>\n      <td>78925551</td>\n      <td>2</td>\n      <td>2.0</td>\n      <td>2.00</td>\n      <td>2</td>\n      <td>15</td>\n      <td>30</td>\n      <td>[1, 1, 1, 1, 2, 2, 2, 2, 2, 2, 2, 2, 2, 2, 6]</td>\n    </tr>\n  </tbody>\n</table>\n<p>87 rows × 9 columns</p>\n</div>"
     },
     "execution_count": 32,
     "metadata": {},
     "output_type": "execute_result"
    }
   ],
   "source": [
    "df_comparison"
   ],
   "metadata": {
    "collapsed": false,
    "ExecuteTime": {
     "end_time": "2024-03-07T12:02:26.131585Z",
     "start_time": "2024-03-07T12:02:26.125444Z"
    }
   },
   "id": "897c74aacd7fda9"
  },
  {
   "cell_type": "code",
   "execution_count": 33,
   "id": "134bd6295fa837ce",
   "metadata": {
    "collapsed": false,
    "ExecuteTime": {
     "end_time": "2024-03-07T12:02:26.135167Z",
     "start_time": "2024-03-07T12:02:26.132257Z"
    }
   },
   "outputs": [
    {
     "data": {
      "text/plain": "image_name               MBN04-2_182.jpgMBBD02-2_248.jpgPCI01-2_111.jpg...\nsubject_id                                                      6869056455\ncount_total                                                            351\nmedian_count                                                         315.0\nmean_count                                                          318.73\nmode_count                                                             304\nusers                                                                 1606\nsum_annotations_count                                                 6733\nannotations_count        [1, 1, 1, 2, 2, 2, 3, 1, 1, 2, 2, 2, 2, 2, 2, ...\ndtype: object"
     },
     "execution_count": 33,
     "metadata": {},
     "output_type": "execute_result"
    }
   ],
   "source": [
    "df_comparison.sum()"
   ]
  },
  {
   "cell_type": "markdown",
   "id": "5d99c27ebf9bd6b6",
   "metadata": {
    "collapsed": false
   },
   "source": [
    "### DBSCAN clustering and take the variant with the best silouette score for each image\n"
   ]
  },
  {
   "cell_type": "code",
   "execution_count": 34,
   "id": "33cf6b89951ff33e",
   "metadata": {
    "collapsed": false,
    "ExecuteTime": {
     "end_time": "2024-03-07T12:02:26.137887Z",
     "start_time": "2024-03-07T12:02:26.135785Z"
    }
   },
   "outputs": [],
   "source": [
    "### The old variant\n",
    "# from zooniverse.analysis import compare_dbscan_hyp_v2\n",
    "# \n",
    "# eps_variants = [0.01, 0.05, 0.1, 0.2, 0.3, 0.4, 0.5]\n",
    "# min_samples_variants = [3, 5, 8, 10]\n",
    "# if debug:\n",
    "#     eps_variants = [0.3]\n",
    "#     min_samples_variants = [3]\n",
    "# params = [(eps, min_samples) for eps in eps_variants for min_samples in min_samples_variants]\n",
    "# \n",
    "# db_scan_results = {}\n",
    "# db_scan_best_results = []\n",
    "# db_scan_best_bic_results = []\n",
    "# for image_name, df_image_name in df_merged_dataset.groupby(\"image_name\"):\n",
    "# \n",
    "#     dbscan_localization = compare_dbscan_hyp_v2(\n",
    "#         # phase_tag=phase_tag,\n",
    "#         params=params,\n",
    "#         df_flat=df_image_name,\n",
    "#         # output_path=output_path,\n",
    "#         output_plot_path=output_plot_path,\n",
    "#         plot=show_plots,\n",
    "#         \n",
    "#     )\n",
    "# \n",
    "#     db_scan_results[image_name] = pd.DataFrame(dbscan_localization)\n",
    "#     \n",
    "#     # TODO Here lies the main problem with DBSCAN.\n",
    "#     ## DBSCAN tends to classfy all points as noise if min_samples is too high. Often only a single user marked an iguana.\n",
    "#     ## Sillouette Scoring needs a minimum of 2 clusters\n",
    "#     ## if there are points in decent radius they will belong to a cluster\n",
    "#     # if pd.DataFrame(dbscan_localization).dbscan_count.max() == 1:\n",
    "#     #     db_scan_best_results.append(pd.DataFrame(dbscan_localization).sort_values(\"dbscan_count\", ascending=False).iloc[0])\n",
    "#     #     db_scan_best_bic_results.append(pd.DataFrame(dbscan_localization).sort_values(\"dbscan_count\", ascending=False).iloc[0])\n",
    "#     # # If two or more cluster seem to exists take ones with the best BIC or Silouette score\n",
    "#     # else:  \n",
    "#     # take the best result by silouette score if there are more clusters then 1\n",
    "#     ## TODO make the sorting deterministic\n",
    "#     db_scan_best_results.append(pd.DataFrame(dbscan_localization).sort_values(\"dbscan_silouette_score\", ascending=False).iloc[0])\n",
    "#     \n",
    "# df_dbscan_localization = pd.concat([*db_scan_results.values()])\n",
    "# df_scan_best_results = pd.DataFrame(db_scan_best_results)\n",
    "\n"
   ]
  },
  {
   "cell_type": "code",
   "outputs": [],
   "source": [
    "# df_scan_best_results"
   ],
   "metadata": {
    "collapsed": false,
    "ExecuteTime": {
     "end_time": "2024-03-07T12:02:26.139720Z",
     "start_time": "2024-03-07T12:02:26.138447Z"
    }
   },
   "id": "1504707449147a99",
   "execution_count": 35
  },
  {
   "cell_type": "code",
   "outputs": [
    {
     "name": "stderr",
     "output_type": "stream",
     "text": [
      "\u001B[32m2024-03-07 13:02:27.118\u001B[0m | \u001B[33m\u001B[1mWARNING \u001B[0m | \u001B[36mzooniverse.utils.basic_clustering\u001B[0m:\u001B[36mbic_score\u001B[0m:\u001B[36m126\u001B[0m - \u001B[33m\u001B[1monly one point in the cluster\u001B[0m\n",
      "/Users/christian/PycharmProjects/iguanas-from-above-zooniverse/zooniverse/utils/basic_clustering.py:127: RuntimeWarning: invalid value encountered in scalar divide\n",
      "  variance = np.sum((X_cluster - centroid) ** 2) / (len(X_cluster) - 1)\n",
      "\u001B[32m2024-03-07 13:02:27.156\u001B[0m | \u001B[33m\u001B[1mWARNING \u001B[0m | \u001B[36mzooniverse.utils.basic_clustering\u001B[0m:\u001B[36mbic_score\u001B[0m:\u001B[36m126\u001B[0m - \u001B[33m\u001B[1monly one point in the cluster\u001B[0m\n",
      "/Users/christian/PycharmProjects/iguanas-from-above-zooniverse/zooniverse/utils/basic_clustering.py:127: RuntimeWarning: invalid value encountered in scalar divide\n",
      "  variance = np.sum((X_cluster - centroid) ** 2) / (len(X_cluster) - 1)\n",
      "\u001B[32m2024-03-07 13:02:27.284\u001B[0m | \u001B[33m\u001B[1mWARNING \u001B[0m | \u001B[36mzooniverse.utils.basic_clustering\u001B[0m:\u001B[36mbic_score\u001B[0m:\u001B[36m126\u001B[0m - \u001B[33m\u001B[1monly one point in the cluster\u001B[0m\n",
      "/Users/christian/PycharmProjects/iguanas-from-above-zooniverse/zooniverse/utils/basic_clustering.py:127: RuntimeWarning: invalid value encountered in scalar divide\n",
      "  variance = np.sum((X_cluster - centroid) ** 2) / (len(X_cluster) - 1)\n",
      "\u001B[32m2024-03-07 13:02:27.319\u001B[0m | \u001B[33m\u001B[1mWARNING \u001B[0m | \u001B[36mzooniverse.utils.basic_clustering\u001B[0m:\u001B[36mbic_score\u001B[0m:\u001B[36m126\u001B[0m - \u001B[33m\u001B[1monly one point in the cluster\u001B[0m\n",
      "/Users/christian/PycharmProjects/iguanas-from-above-zooniverse/zooniverse/utils/basic_clustering.py:127: RuntimeWarning: invalid value encountered in scalar divide\n",
      "  variance = np.sum((X_cluster - centroid) ** 2) / (len(X_cluster) - 1)\n",
      "\u001B[32m2024-03-07 13:02:27.356\u001B[0m | \u001B[33m\u001B[1mWARNING \u001B[0m | \u001B[36mzooniverse.utils.basic_clustering\u001B[0m:\u001B[36mbic_score\u001B[0m:\u001B[36m126\u001B[0m - \u001B[33m\u001B[1monly one point in the cluster\u001B[0m\n",
      "/Users/christian/PycharmProjects/iguanas-from-above-zooniverse/zooniverse/utils/basic_clustering.py:127: RuntimeWarning: invalid value encountered in scalar divide\n",
      "  variance = np.sum((X_cluster - centroid) ** 2) / (len(X_cluster) - 1)\n",
      "\u001B[32m2024-03-07 13:02:27.367\u001B[0m | \u001B[33m\u001B[1mWARNING \u001B[0m | \u001B[36mzooniverse.utils.basic_clustering\u001B[0m:\u001B[36mbic_score\u001B[0m:\u001B[36m126\u001B[0m - \u001B[33m\u001B[1monly one point in the cluster\u001B[0m\n",
      "/Users/christian/PycharmProjects/iguanas-from-above-zooniverse/zooniverse/utils/basic_clustering.py:127: RuntimeWarning: invalid value encountered in scalar divide\n",
      "  variance = np.sum((X_cluster - centroid) ** 2) / (len(X_cluster) - 1)\n",
      "\u001B[32m2024-03-07 13:02:27.387\u001B[0m | \u001B[33m\u001B[1mWARNING \u001B[0m | \u001B[36mzooniverse.utils.basic_clustering\u001B[0m:\u001B[36mbic_score\u001B[0m:\u001B[36m126\u001B[0m - \u001B[33m\u001B[1monly one point in the cluster\u001B[0m\n",
      "/Users/christian/PycharmProjects/iguanas-from-above-zooniverse/zooniverse/utils/basic_clustering.py:127: RuntimeWarning: invalid value encountered in scalar divide\n",
      "  variance = np.sum((X_cluster - centroid) ** 2) / (len(X_cluster) - 1)\n",
      "\u001B[32m2024-03-07 13:02:27.414\u001B[0m | \u001B[33m\u001B[1mWARNING \u001B[0m | \u001B[36mzooniverse.utils.basic_clustering\u001B[0m:\u001B[36mbic_score\u001B[0m:\u001B[36m126\u001B[0m - \u001B[33m\u001B[1monly one point in the cluster\u001B[0m\n",
      "/Users/christian/PycharmProjects/iguanas-from-above-zooniverse/zooniverse/utils/basic_clustering.py:127: RuntimeWarning: invalid value encountered in scalar divide\n",
      "  variance = np.sum((X_cluster - centroid) ** 2) / (len(X_cluster) - 1)\n",
      "\u001B[32m2024-03-07 13:02:27.436\u001B[0m | \u001B[33m\u001B[1mWARNING \u001B[0m | \u001B[36mzooniverse.utils.basic_clustering\u001B[0m:\u001B[36mbic_score\u001B[0m:\u001B[36m126\u001B[0m - \u001B[33m\u001B[1monly one point in the cluster\u001B[0m\n",
      "/Users/christian/PycharmProjects/iguanas-from-above-zooniverse/zooniverse/utils/basic_clustering.py:127: RuntimeWarning: invalid value encountered in scalar divide\n",
      "  variance = np.sum((X_cluster - centroid) ** 2) / (len(X_cluster) - 1)\n",
      "\u001B[32m2024-03-07 13:02:27.448\u001B[0m | \u001B[33m\u001B[1mWARNING \u001B[0m | \u001B[36mzooniverse.utils.basic_clustering\u001B[0m:\u001B[36mbic_score\u001B[0m:\u001B[36m126\u001B[0m - \u001B[33m\u001B[1monly one point in the cluster\u001B[0m\n",
      "/Users/christian/PycharmProjects/iguanas-from-above-zooniverse/zooniverse/utils/basic_clustering.py:127: RuntimeWarning: invalid value encountered in scalar divide\n",
      "  variance = np.sum((X_cluster - centroid) ** 2) / (len(X_cluster) - 1)\n",
      "\u001B[32m2024-03-07 13:02:27.458\u001B[0m | \u001B[33m\u001B[1mWARNING \u001B[0m | \u001B[36mzooniverse.utils.basic_clustering\u001B[0m:\u001B[36mbic_score\u001B[0m:\u001B[36m126\u001B[0m - \u001B[33m\u001B[1monly one point in the cluster\u001B[0m\n",
      "/Users/christian/PycharmProjects/iguanas-from-above-zooniverse/zooniverse/utils/basic_clustering.py:127: RuntimeWarning: invalid value encountered in scalar divide\n",
      "  variance = np.sum((X_cluster - centroid) ** 2) / (len(X_cluster) - 1)\n",
      "\u001B[32m2024-03-07 13:02:27.467\u001B[0m | \u001B[33m\u001B[1mWARNING \u001B[0m | \u001B[36mzooniverse.utils.basic_clustering\u001B[0m:\u001B[36mbic_score\u001B[0m:\u001B[36m126\u001B[0m - \u001B[33m\u001B[1monly one point in the cluster\u001B[0m\n",
      "/Users/christian/PycharmProjects/iguanas-from-above-zooniverse/zooniverse/utils/basic_clustering.py:127: RuntimeWarning: invalid value encountered in scalar divide\n",
      "  variance = np.sum((X_cluster - centroid) ** 2) / (len(X_cluster) - 1)\n",
      "\u001B[32m2024-03-07 13:02:27.635\u001B[0m | \u001B[33m\u001B[1mWARNING \u001B[0m | \u001B[36mzooniverse.utils.basic_clustering\u001B[0m:\u001B[36mbic_score\u001B[0m:\u001B[36m126\u001B[0m - \u001B[33m\u001B[1monly one point in the cluster\u001B[0m\n",
      "/Users/christian/PycharmProjects/iguanas-from-above-zooniverse/zooniverse/utils/basic_clustering.py:127: RuntimeWarning: invalid value encountered in scalar divide\n",
      "  variance = np.sum((X_cluster - centroid) ** 2) / (len(X_cluster) - 1)\n",
      "\u001B[32m2024-03-07 13:02:27.643\u001B[0m | \u001B[33m\u001B[1mWARNING \u001B[0m | \u001B[36mzooniverse.utils.basic_clustering\u001B[0m:\u001B[36mbic_score\u001B[0m:\u001B[36m126\u001B[0m - \u001B[33m\u001B[1monly one point in the cluster\u001B[0m\n",
      "/Users/christian/PycharmProjects/iguanas-from-above-zooniverse/zooniverse/utils/basic_clustering.py:127: RuntimeWarning: invalid value encountered in scalar divide\n",
      "  variance = np.sum((X_cluster - centroid) ** 2) / (len(X_cluster) - 1)\n",
      "\u001B[32m2024-03-07 13:02:27.652\u001B[0m | \u001B[33m\u001B[1mWARNING \u001B[0m | \u001B[36mzooniverse.utils.basic_clustering\u001B[0m:\u001B[36mbic_score\u001B[0m:\u001B[36m126\u001B[0m - \u001B[33m\u001B[1monly one point in the cluster\u001B[0m\n",
      "/Users/christian/PycharmProjects/iguanas-from-above-zooniverse/zooniverse/utils/basic_clustering.py:127: RuntimeWarning: invalid value encountered in scalar divide\n",
      "  variance = np.sum((X_cluster - centroid) ** 2) / (len(X_cluster) - 1)\n",
      "\u001B[32m2024-03-07 13:02:27.659\u001B[0m | \u001B[33m\u001B[1mWARNING \u001B[0m | \u001B[36mzooniverse.utils.basic_clustering\u001B[0m:\u001B[36mbic_score\u001B[0m:\u001B[36m126\u001B[0m - \u001B[33m\u001B[1monly one point in the cluster\u001B[0m\n",
      "/Users/christian/PycharmProjects/iguanas-from-above-zooniverse/zooniverse/utils/basic_clustering.py:127: RuntimeWarning: invalid value encountered in scalar divide\n",
      "  variance = np.sum((X_cluster - centroid) ** 2) / (len(X_cluster) - 1)\n",
      "\u001B[32m2024-03-07 13:02:27.667\u001B[0m | \u001B[33m\u001B[1mWARNING \u001B[0m | \u001B[36mzooniverse.utils.basic_clustering\u001B[0m:\u001B[36mbic_score\u001B[0m:\u001B[36m126\u001B[0m - \u001B[33m\u001B[1monly one point in the cluster\u001B[0m\n",
      "/Users/christian/PycharmProjects/iguanas-from-above-zooniverse/zooniverse/utils/basic_clustering.py:127: RuntimeWarning: invalid value encountered in scalar divide\n",
      "  variance = np.sum((X_cluster - centroid) ** 2) / (len(X_cluster) - 1)\n",
      "\u001B[32m2024-03-07 13:02:27.676\u001B[0m | \u001B[33m\u001B[1mWARNING \u001B[0m | \u001B[36mzooniverse.utils.basic_clustering\u001B[0m:\u001B[36mbic_score\u001B[0m:\u001B[36m126\u001B[0m - \u001B[33m\u001B[1monly one point in the cluster\u001B[0m\n",
      "/Users/christian/PycharmProjects/iguanas-from-above-zooniverse/zooniverse/utils/basic_clustering.py:127: RuntimeWarning: invalid value encountered in scalar divide\n",
      "  variance = np.sum((X_cluster - centroid) ** 2) / (len(X_cluster) - 1)\n",
      "\u001B[32m2024-03-07 13:02:27.684\u001B[0m | \u001B[33m\u001B[1mWARNING \u001B[0m | \u001B[36mzooniverse.utils.basic_clustering\u001B[0m:\u001B[36mbic_score\u001B[0m:\u001B[36m126\u001B[0m - \u001B[33m\u001B[1monly one point in the cluster\u001B[0m\n",
      "/Users/christian/PycharmProjects/iguanas-from-above-zooniverse/zooniverse/utils/basic_clustering.py:127: RuntimeWarning: invalid value encountered in scalar divide\n",
      "  variance = np.sum((X_cluster - centroid) ** 2) / (len(X_cluster) - 1)\n",
      "\u001B[32m2024-03-07 13:02:27.691\u001B[0m | \u001B[33m\u001B[1mWARNING \u001B[0m | \u001B[36mzooniverse.utils.basic_clustering\u001B[0m:\u001B[36mbic_score\u001B[0m:\u001B[36m126\u001B[0m - \u001B[33m\u001B[1monly one point in the cluster\u001B[0m\n",
      "/Users/christian/PycharmProjects/iguanas-from-above-zooniverse/zooniverse/utils/basic_clustering.py:127: RuntimeWarning: invalid value encountered in scalar divide\n",
      "  variance = np.sum((X_cluster - centroid) ** 2) / (len(X_cluster) - 1)\n",
      "\u001B[32m2024-03-07 13:02:27.700\u001B[0m | \u001B[33m\u001B[1mWARNING \u001B[0m | \u001B[36mzooniverse.utils.basic_clustering\u001B[0m:\u001B[36mbic_score\u001B[0m:\u001B[36m126\u001B[0m - \u001B[33m\u001B[1monly one point in the cluster\u001B[0m\n",
      "/Users/christian/PycharmProjects/iguanas-from-above-zooniverse/zooniverse/utils/basic_clustering.py:127: RuntimeWarning: invalid value encountered in scalar divide\n",
      "  variance = np.sum((X_cluster - centroid) ** 2) / (len(X_cluster) - 1)\n",
      "\u001B[32m2024-03-07 13:02:27.707\u001B[0m | \u001B[33m\u001B[1mWARNING \u001B[0m | \u001B[36mzooniverse.utils.basic_clustering\u001B[0m:\u001B[36mbic_score\u001B[0m:\u001B[36m126\u001B[0m - \u001B[33m\u001B[1monly one point in the cluster\u001B[0m\n",
      "/Users/christian/PycharmProjects/iguanas-from-above-zooniverse/zooniverse/utils/basic_clustering.py:127: RuntimeWarning: invalid value encountered in scalar divide\n",
      "  variance = np.sum((X_cluster - centroid) ** 2) / (len(X_cluster) - 1)\n",
      "\u001B[32m2024-03-07 13:02:27.715\u001B[0m | \u001B[33m\u001B[1mWARNING \u001B[0m | \u001B[36mzooniverse.utils.basic_clustering\u001B[0m:\u001B[36mbic_score\u001B[0m:\u001B[36m126\u001B[0m - \u001B[33m\u001B[1monly one point in the cluster\u001B[0m\n",
      "/Users/christian/PycharmProjects/iguanas-from-above-zooniverse/zooniverse/utils/basic_clustering.py:127: RuntimeWarning: invalid value encountered in scalar divide\n",
      "  variance = np.sum((X_cluster - centroid) ** 2) / (len(X_cluster) - 1)\n",
      "\u001B[32m2024-03-07 13:02:27.723\u001B[0m | \u001B[33m\u001B[1mWARNING \u001B[0m | \u001B[36mzooniverse.utils.basic_clustering\u001B[0m:\u001B[36mbic_score\u001B[0m:\u001B[36m126\u001B[0m - \u001B[33m\u001B[1monly one point in the cluster\u001B[0m\n",
      "/Users/christian/PycharmProjects/iguanas-from-above-zooniverse/zooniverse/utils/basic_clustering.py:127: RuntimeWarning: invalid value encountered in scalar divide\n",
      "  variance = np.sum((X_cluster - centroid) ** 2) / (len(X_cluster) - 1)\n",
      "\u001B[32m2024-03-07 13:02:27.731\u001B[0m | \u001B[33m\u001B[1mWARNING \u001B[0m | \u001B[36mzooniverse.utils.basic_clustering\u001B[0m:\u001B[36mbic_score\u001B[0m:\u001B[36m126\u001B[0m - \u001B[33m\u001B[1monly one point in the cluster\u001B[0m\n",
      "/Users/christian/PycharmProjects/iguanas-from-above-zooniverse/zooniverse/utils/basic_clustering.py:127: RuntimeWarning: invalid value encountered in scalar divide\n",
      "  variance = np.sum((X_cluster - centroid) ** 2) / (len(X_cluster) - 1)\n",
      "\u001B[32m2024-03-07 13:02:27.738\u001B[0m | \u001B[33m\u001B[1mWARNING \u001B[0m | \u001B[36mzooniverse.utils.basic_clustering\u001B[0m:\u001B[36mbic_score\u001B[0m:\u001B[36m126\u001B[0m - \u001B[33m\u001B[1monly one point in the cluster\u001B[0m\n",
      "/Users/christian/PycharmProjects/iguanas-from-above-zooniverse/zooniverse/utils/basic_clustering.py:127: RuntimeWarning: invalid value encountered in scalar divide\n",
      "  variance = np.sum((X_cluster - centroid) ** 2) / (len(X_cluster) - 1)\n",
      "\u001B[32m2024-03-07 13:02:27.747\u001B[0m | \u001B[33m\u001B[1mWARNING \u001B[0m | \u001B[36mzooniverse.utils.basic_clustering\u001B[0m:\u001B[36mbic_score\u001B[0m:\u001B[36m126\u001B[0m - \u001B[33m\u001B[1monly one point in the cluster\u001B[0m\n",
      "/Users/christian/PycharmProjects/iguanas-from-above-zooniverse/zooniverse/utils/basic_clustering.py:127: RuntimeWarning: invalid value encountered in scalar divide\n",
      "  variance = np.sum((X_cluster - centroid) ** 2) / (len(X_cluster) - 1)\n",
      "\u001B[32m2024-03-07 13:02:27.754\u001B[0m | \u001B[33m\u001B[1mWARNING \u001B[0m | \u001B[36mzooniverse.utils.basic_clustering\u001B[0m:\u001B[36mbic_score\u001B[0m:\u001B[36m126\u001B[0m - \u001B[33m\u001B[1monly one point in the cluster\u001B[0m\n",
      "/Users/christian/PycharmProjects/iguanas-from-above-zooniverse/zooniverse/utils/basic_clustering.py:127: RuntimeWarning: invalid value encountered in scalar divide\n",
      "  variance = np.sum((X_cluster - centroid) ** 2) / (len(X_cluster) - 1)\n",
      "\u001B[32m2024-03-07 13:02:30.086\u001B[0m | \u001B[33m\u001B[1mWARNING \u001B[0m | \u001B[36mzooniverse.utils.basic_clustering\u001B[0m:\u001B[36mbic_score\u001B[0m:\u001B[36m126\u001B[0m - \u001B[33m\u001B[1monly one point in the cluster\u001B[0m\n",
      "/Users/christian/PycharmProjects/iguanas-from-above-zooniverse/zooniverse/utils/basic_clustering.py:127: RuntimeWarning: invalid value encountered in scalar divide\n",
      "  variance = np.sum((X_cluster - centroid) ** 2) / (len(X_cluster) - 1)\n",
      "\u001B[32m2024-03-07 13:02:30.093\u001B[0m | \u001B[33m\u001B[1mWARNING \u001B[0m | \u001B[36mzooniverse.utils.basic_clustering\u001B[0m:\u001B[36mbic_score\u001B[0m:\u001B[36m126\u001B[0m - \u001B[33m\u001B[1monly one point in the cluster\u001B[0m\n",
      "/Users/christian/PycharmProjects/iguanas-from-above-zooniverse/zooniverse/utils/basic_clustering.py:127: RuntimeWarning: invalid value encountered in scalar divide\n",
      "  variance = np.sum((X_cluster - centroid) ** 2) / (len(X_cluster) - 1)\n",
      "\u001B[32m2024-03-07 13:02:30.101\u001B[0m | \u001B[33m\u001B[1mWARNING \u001B[0m | \u001B[36mzooniverse.utils.basic_clustering\u001B[0m:\u001B[36mbic_score\u001B[0m:\u001B[36m126\u001B[0m - \u001B[33m\u001B[1monly one point in the cluster\u001B[0m\n",
      "/Users/christian/PycharmProjects/iguanas-from-above-zooniverse/zooniverse/utils/basic_clustering.py:127: RuntimeWarning: invalid value encountered in scalar divide\n",
      "  variance = np.sum((X_cluster - centroid) ** 2) / (len(X_cluster) - 1)\n",
      "\u001B[32m2024-03-07 13:02:30.109\u001B[0m | \u001B[33m\u001B[1mWARNING \u001B[0m | \u001B[36mzooniverse.utils.basic_clustering\u001B[0m:\u001B[36mbic_score\u001B[0m:\u001B[36m126\u001B[0m - \u001B[33m\u001B[1monly one point in the cluster\u001B[0m\n",
      "/Users/christian/PycharmProjects/iguanas-from-above-zooniverse/zooniverse/utils/basic_clustering.py:127: RuntimeWarning: invalid value encountered in scalar divide\n",
      "  variance = np.sum((X_cluster - centroid) ** 2) / (len(X_cluster) - 1)\n",
      "\u001B[32m2024-03-07 13:02:30.116\u001B[0m | \u001B[33m\u001B[1mWARNING \u001B[0m | \u001B[36mzooniverse.utils.basic_clustering\u001B[0m:\u001B[36mbic_score\u001B[0m:\u001B[36m126\u001B[0m - \u001B[33m\u001B[1monly one point in the cluster\u001B[0m\n",
      "/Users/christian/PycharmProjects/iguanas-from-above-zooniverse/zooniverse/utils/basic_clustering.py:127: RuntimeWarning: invalid value encountered in scalar divide\n",
      "  variance = np.sum((X_cluster - centroid) ** 2) / (len(X_cluster) - 1)\n",
      "\u001B[32m2024-03-07 13:02:30.124\u001B[0m | \u001B[33m\u001B[1mWARNING \u001B[0m | \u001B[36mzooniverse.utils.basic_clustering\u001B[0m:\u001B[36mbic_score\u001B[0m:\u001B[36m126\u001B[0m - \u001B[33m\u001B[1monly one point in the cluster\u001B[0m\n",
      "/Users/christian/PycharmProjects/iguanas-from-above-zooniverse/zooniverse/utils/basic_clustering.py:127: RuntimeWarning: invalid value encountered in scalar divide\n",
      "  variance = np.sum((X_cluster - centroid) ** 2) / (len(X_cluster) - 1)\n",
      "\u001B[32m2024-03-07 13:02:30.132\u001B[0m | \u001B[33m\u001B[1mWARNING \u001B[0m | \u001B[36mzooniverse.utils.basic_clustering\u001B[0m:\u001B[36mbic_score\u001B[0m:\u001B[36m126\u001B[0m - \u001B[33m\u001B[1monly one point in the cluster\u001B[0m\n",
      "/Users/christian/PycharmProjects/iguanas-from-above-zooniverse/zooniverse/utils/basic_clustering.py:127: RuntimeWarning: invalid value encountered in scalar divide\n",
      "  variance = np.sum((X_cluster - centroid) ** 2) / (len(X_cluster) - 1)\n",
      "\u001B[32m2024-03-07 13:02:30.140\u001B[0m | \u001B[33m\u001B[1mWARNING \u001B[0m | \u001B[36mzooniverse.utils.basic_clustering\u001B[0m:\u001B[36mbic_score\u001B[0m:\u001B[36m126\u001B[0m - \u001B[33m\u001B[1monly one point in the cluster\u001B[0m\n",
      "/Users/christian/PycharmProjects/iguanas-from-above-zooniverse/zooniverse/utils/basic_clustering.py:127: RuntimeWarning: invalid value encountered in scalar divide\n",
      "  variance = np.sum((X_cluster - centroid) ** 2) / (len(X_cluster) - 1)\n",
      "\u001B[32m2024-03-07 13:02:30.147\u001B[0m | \u001B[33m\u001B[1mWARNING \u001B[0m | \u001B[36mzooniverse.utils.basic_clustering\u001B[0m:\u001B[36mbic_score\u001B[0m:\u001B[36m126\u001B[0m - \u001B[33m\u001B[1monly one point in the cluster\u001B[0m\n",
      "/Users/christian/PycharmProjects/iguanas-from-above-zooniverse/zooniverse/utils/basic_clustering.py:127: RuntimeWarning: invalid value encountered in scalar divide\n",
      "  variance = np.sum((X_cluster - centroid) ** 2) / (len(X_cluster) - 1)\n",
      "\u001B[32m2024-03-07 13:02:30.156\u001B[0m | \u001B[33m\u001B[1mWARNING \u001B[0m | \u001B[36mzooniverse.utils.basic_clustering\u001B[0m:\u001B[36mbic_score\u001B[0m:\u001B[36m126\u001B[0m - \u001B[33m\u001B[1monly one point in the cluster\u001B[0m\n",
      "/Users/christian/PycharmProjects/iguanas-from-above-zooniverse/zooniverse/utils/basic_clustering.py:127: RuntimeWarning: invalid value encountered in scalar divide\n",
      "  variance = np.sum((X_cluster - centroid) ** 2) / (len(X_cluster) - 1)\n",
      "\u001B[32m2024-03-07 13:02:30.163\u001B[0m | \u001B[33m\u001B[1mWARNING \u001B[0m | \u001B[36mzooniverse.utils.basic_clustering\u001B[0m:\u001B[36mbic_score\u001B[0m:\u001B[36m126\u001B[0m - \u001B[33m\u001B[1monly one point in the cluster\u001B[0m\n",
      "/Users/christian/PycharmProjects/iguanas-from-above-zooniverse/zooniverse/utils/basic_clustering.py:127: RuntimeWarning: invalid value encountered in scalar divide\n",
      "  variance = np.sum((X_cluster - centroid) ** 2) / (len(X_cluster) - 1)\n",
      "\u001B[32m2024-03-07 13:02:30.171\u001B[0m | \u001B[33m\u001B[1mWARNING \u001B[0m | \u001B[36mzooniverse.utils.basic_clustering\u001B[0m:\u001B[36mbic_score\u001B[0m:\u001B[36m126\u001B[0m - \u001B[33m\u001B[1monly one point in the cluster\u001B[0m\n",
      "/Users/christian/PycharmProjects/iguanas-from-above-zooniverse/zooniverse/utils/basic_clustering.py:127: RuntimeWarning: invalid value encountered in scalar divide\n",
      "  variance = np.sum((X_cluster - centroid) ** 2) / (len(X_cluster) - 1)\n",
      "\u001B[32m2024-03-07 13:02:30.179\u001B[0m | \u001B[33m\u001B[1mWARNING \u001B[0m | \u001B[36mzooniverse.utils.basic_clustering\u001B[0m:\u001B[36mbic_score\u001B[0m:\u001B[36m126\u001B[0m - \u001B[33m\u001B[1monly one point in the cluster\u001B[0m\n",
      "/Users/christian/PycharmProjects/iguanas-from-above-zooniverse/zooniverse/utils/basic_clustering.py:127: RuntimeWarning: invalid value encountered in scalar divide\n",
      "  variance = np.sum((X_cluster - centroid) ** 2) / (len(X_cluster) - 1)\n",
      "\u001B[32m2024-03-07 13:02:30.187\u001B[0m | \u001B[33m\u001B[1mWARNING \u001B[0m | \u001B[36mzooniverse.utils.basic_clustering\u001B[0m:\u001B[36mbic_score\u001B[0m:\u001B[36m126\u001B[0m - \u001B[33m\u001B[1monly one point in the cluster\u001B[0m\n",
      "/Users/christian/PycharmProjects/iguanas-from-above-zooniverse/zooniverse/utils/basic_clustering.py:127: RuntimeWarning: invalid value encountered in scalar divide\n",
      "  variance = np.sum((X_cluster - centroid) ** 2) / (len(X_cluster) - 1)\n",
      "\u001B[32m2024-03-07 13:02:30.194\u001B[0m | \u001B[33m\u001B[1mWARNING \u001B[0m | \u001B[36mzooniverse.utils.basic_clustering\u001B[0m:\u001B[36mbic_score\u001B[0m:\u001B[36m126\u001B[0m - \u001B[33m\u001B[1monly one point in the cluster\u001B[0m\n",
      "/Users/christian/PycharmProjects/iguanas-from-above-zooniverse/zooniverse/utils/basic_clustering.py:127: RuntimeWarning: invalid value encountered in scalar divide\n",
      "  variance = np.sum((X_cluster - centroid) ** 2) / (len(X_cluster) - 1)\n",
      "\u001B[32m2024-03-07 13:02:30.202\u001B[0m | \u001B[33m\u001B[1mWARNING \u001B[0m | \u001B[36mzooniverse.utils.basic_clustering\u001B[0m:\u001B[36mbic_score\u001B[0m:\u001B[36m126\u001B[0m - \u001B[33m\u001B[1monly one point in the cluster\u001B[0m\n",
      "/Users/christian/PycharmProjects/iguanas-from-above-zooniverse/zooniverse/utils/basic_clustering.py:127: RuntimeWarning: invalid value encountered in scalar divide\n",
      "  variance = np.sum((X_cluster - centroid) ** 2) / (len(X_cluster) - 1)\n",
      "\u001B[32m2024-03-07 13:02:31.748\u001B[0m | \u001B[33m\u001B[1mWARNING \u001B[0m | \u001B[36mzooniverse.utils.basic_clustering\u001B[0m:\u001B[36mbic_score\u001B[0m:\u001B[36m126\u001B[0m - \u001B[33m\u001B[1monly one point in the cluster\u001B[0m\n",
      "/Users/christian/PycharmProjects/iguanas-from-above-zooniverse/zooniverse/utils/basic_clustering.py:127: RuntimeWarning: invalid value encountered in scalar divide\n",
      "  variance = np.sum((X_cluster - centroid) ** 2) / (len(X_cluster) - 1)\n",
      "\u001B[32m2024-03-07 13:02:31.756\u001B[0m | \u001B[33m\u001B[1mWARNING \u001B[0m | \u001B[36mzooniverse.utils.basic_clustering\u001B[0m:\u001B[36mbic_score\u001B[0m:\u001B[36m126\u001B[0m - \u001B[33m\u001B[1monly one point in the cluster\u001B[0m\n",
      "/Users/christian/PycharmProjects/iguanas-from-above-zooniverse/zooniverse/utils/basic_clustering.py:127: RuntimeWarning: invalid value encountered in scalar divide\n",
      "  variance = np.sum((X_cluster - centroid) ** 2) / (len(X_cluster) - 1)\n",
      "\u001B[32m2024-03-07 13:02:31.910\u001B[0m | \u001B[33m\u001B[1mWARNING \u001B[0m | \u001B[36mzooniverse.utils.basic_clustering\u001B[0m:\u001B[36mbic_score\u001B[0m:\u001B[36m126\u001B[0m - \u001B[33m\u001B[1monly one point in the cluster\u001B[0m\n",
      "/Users/christian/PycharmProjects/iguanas-from-above-zooniverse/zooniverse/utils/basic_clustering.py:127: RuntimeWarning: invalid value encountered in scalar divide\n",
      "  variance = np.sum((X_cluster - centroid) ** 2) / (len(X_cluster) - 1)\n",
      "\u001B[32m2024-03-07 13:02:31.938\u001B[0m | \u001B[33m\u001B[1mWARNING \u001B[0m | \u001B[36mzooniverse.utils.basic_clustering\u001B[0m:\u001B[36mbic_score\u001B[0m:\u001B[36m126\u001B[0m - \u001B[33m\u001B[1monly one point in the cluster\u001B[0m\n",
      "/Users/christian/PycharmProjects/iguanas-from-above-zooniverse/zooniverse/utils/basic_clustering.py:127: RuntimeWarning: invalid value encountered in scalar divide\n",
      "  variance = np.sum((X_cluster - centroid) ** 2) / (len(X_cluster) - 1)\n",
      "\u001B[32m2024-03-07 13:02:31.946\u001B[0m | \u001B[33m\u001B[1mWARNING \u001B[0m | \u001B[36mzooniverse.utils.basic_clustering\u001B[0m:\u001B[36mbic_score\u001B[0m:\u001B[36m126\u001B[0m - \u001B[33m\u001B[1monly one point in the cluster\u001B[0m\n",
      "/Users/christian/PycharmProjects/iguanas-from-above-zooniverse/zooniverse/utils/basic_clustering.py:127: RuntimeWarning: invalid value encountered in scalar divide\n",
      "  variance = np.sum((X_cluster - centroid) ** 2) / (len(X_cluster) - 1)\n",
      "\u001B[32m2024-03-07 13:02:34.794\u001B[0m | \u001B[33m\u001B[1mWARNING \u001B[0m | \u001B[36mzooniverse.utils.basic_clustering\u001B[0m:\u001B[36mbic_score\u001B[0m:\u001B[36m126\u001B[0m - \u001B[33m\u001B[1monly one point in the cluster\u001B[0m\n",
      "/Users/christian/PycharmProjects/iguanas-from-above-zooniverse/zooniverse/utils/basic_clustering.py:127: RuntimeWarning: invalid value encountered in scalar divide\n",
      "  variance = np.sum((X_cluster - centroid) ** 2) / (len(X_cluster) - 1)\n",
      "\u001B[32m2024-03-07 13:02:34.818\u001B[0m | \u001B[33m\u001B[1mWARNING \u001B[0m | \u001B[36mzooniverse.utils.basic_clustering\u001B[0m:\u001B[36mbic_score\u001B[0m:\u001B[36m126\u001B[0m - \u001B[33m\u001B[1monly one point in the cluster\u001B[0m\n",
      "/Users/christian/PycharmProjects/iguanas-from-above-zooniverse/zooniverse/utils/basic_clustering.py:127: RuntimeWarning: invalid value encountered in scalar divide\n",
      "  variance = np.sum((X_cluster - centroid) ** 2) / (len(X_cluster) - 1)\n",
      "\u001B[32m2024-03-07 13:02:34.843\u001B[0m | \u001B[33m\u001B[1mWARNING \u001B[0m | \u001B[36mzooniverse.utils.basic_clustering\u001B[0m:\u001B[36mbic_score\u001B[0m:\u001B[36m126\u001B[0m - \u001B[33m\u001B[1monly one point in the cluster\u001B[0m\n",
      "/Users/christian/PycharmProjects/iguanas-from-above-zooniverse/zooniverse/utils/basic_clustering.py:127: RuntimeWarning: invalid value encountered in scalar divide\n",
      "  variance = np.sum((X_cluster - centroid) ** 2) / (len(X_cluster) - 1)\n",
      "\u001B[32m2024-03-07 13:02:34.869\u001B[0m | \u001B[33m\u001B[1mWARNING \u001B[0m | \u001B[36mzooniverse.utils.basic_clustering\u001B[0m:\u001B[36mbic_score\u001B[0m:\u001B[36m126\u001B[0m - \u001B[33m\u001B[1monly one point in the cluster\u001B[0m\n",
      "/Users/christian/PycharmProjects/iguanas-from-above-zooniverse/zooniverse/utils/basic_clustering.py:127: RuntimeWarning: invalid value encountered in scalar divide\n",
      "  variance = np.sum((X_cluster - centroid) ** 2) / (len(X_cluster) - 1)\n",
      "\u001B[32m2024-03-07 13:02:34.894\u001B[0m | \u001B[33m\u001B[1mWARNING \u001B[0m | \u001B[36mzooniverse.utils.basic_clustering\u001B[0m:\u001B[36mbic_score\u001B[0m:\u001B[36m126\u001B[0m - \u001B[33m\u001B[1monly one point in the cluster\u001B[0m\n",
      "/Users/christian/PycharmProjects/iguanas-from-above-zooniverse/zooniverse/utils/basic_clustering.py:127: RuntimeWarning: invalid value encountered in scalar divide\n",
      "  variance = np.sum((X_cluster - centroid) ** 2) / (len(X_cluster) - 1)\n",
      "\u001B[32m2024-03-07 13:02:36.045\u001B[0m | \u001B[33m\u001B[1mWARNING \u001B[0m | \u001B[36mzooniverse.utils.basic_clustering\u001B[0m:\u001B[36mbic_score\u001B[0m:\u001B[36m126\u001B[0m - \u001B[33m\u001B[1monly one point in the cluster\u001B[0m\n",
      "/Users/christian/PycharmProjects/iguanas-from-above-zooniverse/zooniverse/utils/basic_clustering.py:127: RuntimeWarning: invalid value encountered in scalar divide\n",
      "  variance = np.sum((X_cluster - centroid) ** 2) / (len(X_cluster) - 1)\n",
      "\u001B[32m2024-03-07 13:02:36.078\u001B[0m | \u001B[33m\u001B[1mWARNING \u001B[0m | \u001B[36mzooniverse.utils.basic_clustering\u001B[0m:\u001B[36mbic_score\u001B[0m:\u001B[36m126\u001B[0m - \u001B[33m\u001B[1monly one point in the cluster\u001B[0m\n",
      "/Users/christian/PycharmProjects/iguanas-from-above-zooniverse/zooniverse/utils/basic_clustering.py:127: RuntimeWarning: invalid value encountered in scalar divide\n",
      "  variance = np.sum((X_cluster - centroid) ** 2) / (len(X_cluster) - 1)\n",
      "\u001B[32m2024-03-07 13:02:37.224\u001B[0m | \u001B[33m\u001B[1mWARNING \u001B[0m | \u001B[36mzooniverse.utils.basic_clustering\u001B[0m:\u001B[36mbic_score\u001B[0m:\u001B[36m126\u001B[0m - \u001B[33m\u001B[1monly one point in the cluster\u001B[0m\n",
      "/Users/christian/PycharmProjects/iguanas-from-above-zooniverse/zooniverse/utils/basic_clustering.py:127: RuntimeWarning: invalid value encountered in scalar divide\n",
      "  variance = np.sum((X_cluster - centroid) ** 2) / (len(X_cluster) - 1)\n",
      "\u001B[32m2024-03-07 13:02:37.232\u001B[0m | \u001B[33m\u001B[1mWARNING \u001B[0m | \u001B[36mzooniverse.utils.basic_clustering\u001B[0m:\u001B[36mbic_score\u001B[0m:\u001B[36m126\u001B[0m - \u001B[33m\u001B[1monly one point in the cluster\u001B[0m\n",
      "/Users/christian/PycharmProjects/iguanas-from-above-zooniverse/zooniverse/utils/basic_clustering.py:127: RuntimeWarning: invalid value encountered in scalar divide\n",
      "  variance = np.sum((X_cluster - centroid) ** 2) / (len(X_cluster) - 1)\n",
      "\u001B[32m2024-03-07 13:02:37.242\u001B[0m | \u001B[33m\u001B[1mWARNING \u001B[0m | \u001B[36mzooniverse.utils.basic_clustering\u001B[0m:\u001B[36mbic_score\u001B[0m:\u001B[36m126\u001B[0m - \u001B[33m\u001B[1monly one point in the cluster\u001B[0m\n",
      "/Users/christian/PycharmProjects/iguanas-from-above-zooniverse/zooniverse/utils/basic_clustering.py:127: RuntimeWarning: invalid value encountered in scalar divide\n",
      "  variance = np.sum((X_cluster - centroid) ** 2) / (len(X_cluster) - 1)\n",
      "\u001B[32m2024-03-07 13:02:38.628\u001B[0m | \u001B[33m\u001B[1mWARNING \u001B[0m | \u001B[36mzooniverse.utils.basic_clustering\u001B[0m:\u001B[36mbic_score\u001B[0m:\u001B[36m126\u001B[0m - \u001B[33m\u001B[1monly one point in the cluster\u001B[0m\n",
      "/Users/christian/PycharmProjects/iguanas-from-above-zooniverse/zooniverse/utils/basic_clustering.py:127: RuntimeWarning: invalid value encountered in scalar divide\n",
      "  variance = np.sum((X_cluster - centroid) ** 2) / (len(X_cluster) - 1)\n",
      "\u001B[32m2024-03-07 13:02:38.636\u001B[0m | \u001B[33m\u001B[1mWARNING \u001B[0m | \u001B[36mzooniverse.utils.basic_clustering\u001B[0m:\u001B[36mbic_score\u001B[0m:\u001B[36m126\u001B[0m - \u001B[33m\u001B[1monly one point in the cluster\u001B[0m\n",
      "/Users/christian/PycharmProjects/iguanas-from-above-zooniverse/zooniverse/utils/basic_clustering.py:127: RuntimeWarning: invalid value encountered in scalar divide\n",
      "  variance = np.sum((X_cluster - centroid) ** 2) / (len(X_cluster) - 1)\n",
      "\u001B[32m2024-03-07 13:02:38.655\u001B[0m | \u001B[33m\u001B[1mWARNING \u001B[0m | \u001B[36mzooniverse.utils.basic_clustering\u001B[0m:\u001B[36mbic_score\u001B[0m:\u001B[36m126\u001B[0m - \u001B[33m\u001B[1monly one point in the cluster\u001B[0m\n",
      "/Users/christian/PycharmProjects/iguanas-from-above-zooniverse/zooniverse/utils/basic_clustering.py:127: RuntimeWarning: invalid value encountered in scalar divide\n",
      "  variance = np.sum((X_cluster - centroid) ** 2) / (len(X_cluster) - 1)\n",
      "\u001B[32m2024-03-07 13:02:38.663\u001B[0m | \u001B[33m\u001B[1mWARNING \u001B[0m | \u001B[36mzooniverse.utils.basic_clustering\u001B[0m:\u001B[36mbic_score\u001B[0m:\u001B[36m126\u001B[0m - \u001B[33m\u001B[1monly one point in the cluster\u001B[0m\n",
      "/Users/christian/PycharmProjects/iguanas-from-above-zooniverse/zooniverse/utils/basic_clustering.py:127: RuntimeWarning: invalid value encountered in scalar divide\n",
      "  variance = np.sum((X_cluster - centroid) ** 2) / (len(X_cluster) - 1)\n",
      "\u001B[32m2024-03-07 13:02:38.682\u001B[0m | \u001B[33m\u001B[1mWARNING \u001B[0m | \u001B[36mzooniverse.utils.basic_clustering\u001B[0m:\u001B[36mbic_score\u001B[0m:\u001B[36m126\u001B[0m - \u001B[33m\u001B[1monly one point in the cluster\u001B[0m\n",
      "/Users/christian/PycharmProjects/iguanas-from-above-zooniverse/zooniverse/utils/basic_clustering.py:127: RuntimeWarning: invalid value encountered in scalar divide\n",
      "  variance = np.sum((X_cluster - centroid) ** 2) / (len(X_cluster) - 1)\n",
      "\u001B[32m2024-03-07 13:02:38.690\u001B[0m | \u001B[33m\u001B[1mWARNING \u001B[0m | \u001B[36mzooniverse.utils.basic_clustering\u001B[0m:\u001B[36mbic_score\u001B[0m:\u001B[36m126\u001B[0m - \u001B[33m\u001B[1monly one point in the cluster\u001B[0m\n",
      "/Users/christian/PycharmProjects/iguanas-from-above-zooniverse/zooniverse/utils/basic_clustering.py:127: RuntimeWarning: invalid value encountered in scalar divide\n",
      "  variance = np.sum((X_cluster - centroid) ** 2) / (len(X_cluster) - 1)\n",
      "\u001B[32m2024-03-07 13:02:38.711\u001B[0m | \u001B[33m\u001B[1mWARNING \u001B[0m | \u001B[36mzooniverse.utils.basic_clustering\u001B[0m:\u001B[36mbic_score\u001B[0m:\u001B[36m126\u001B[0m - \u001B[33m\u001B[1monly one point in the cluster\u001B[0m\n",
      "/Users/christian/PycharmProjects/iguanas-from-above-zooniverse/zooniverse/utils/basic_clustering.py:127: RuntimeWarning: invalid value encountered in scalar divide\n",
      "  variance = np.sum((X_cluster - centroid) ** 2) / (len(X_cluster) - 1)\n",
      "\u001B[32m2024-03-07 13:02:38.719\u001B[0m | \u001B[33m\u001B[1mWARNING \u001B[0m | \u001B[36mzooniverse.utils.basic_clustering\u001B[0m:\u001B[36mbic_score\u001B[0m:\u001B[36m126\u001B[0m - \u001B[33m\u001B[1monly one point in the cluster\u001B[0m\n",
      "/Users/christian/PycharmProjects/iguanas-from-above-zooniverse/zooniverse/utils/basic_clustering.py:127: RuntimeWarning: invalid value encountered in scalar divide\n",
      "  variance = np.sum((X_cluster - centroid) ** 2) / (len(X_cluster) - 1)\n",
      "\u001B[32m2024-03-07 13:02:41.683\u001B[0m | \u001B[33m\u001B[1mWARNING \u001B[0m | \u001B[36mzooniverse.utils.basic_clustering\u001B[0m:\u001B[36mbic_score\u001B[0m:\u001B[36m126\u001B[0m - \u001B[33m\u001B[1monly one point in the cluster\u001B[0m\n",
      "/Users/christian/PycharmProjects/iguanas-from-above-zooniverse/zooniverse/utils/basic_clustering.py:127: RuntimeWarning: invalid value encountered in scalar divide\n",
      "  variance = np.sum((X_cluster - centroid) ** 2) / (len(X_cluster) - 1)\n",
      "\u001B[32m2024-03-07 13:02:41.707\u001B[0m | \u001B[33m\u001B[1mWARNING \u001B[0m | \u001B[36mzooniverse.utils.basic_clustering\u001B[0m:\u001B[36mbic_score\u001B[0m:\u001B[36m126\u001B[0m - \u001B[33m\u001B[1monly one point in the cluster\u001B[0m\n",
      "/Users/christian/PycharmProjects/iguanas-from-above-zooniverse/zooniverse/utils/basic_clustering.py:127: RuntimeWarning: invalid value encountered in scalar divide\n",
      "  variance = np.sum((X_cluster - centroid) ** 2) / (len(X_cluster) - 1)\n",
      "\u001B[32m2024-03-07 13:02:41.732\u001B[0m | \u001B[33m\u001B[1mWARNING \u001B[0m | \u001B[36mzooniverse.utils.basic_clustering\u001B[0m:\u001B[36mbic_score\u001B[0m:\u001B[36m126\u001B[0m - \u001B[33m\u001B[1monly one point in the cluster\u001B[0m\n",
      "/Users/christian/PycharmProjects/iguanas-from-above-zooniverse/zooniverse/utils/basic_clustering.py:127: RuntimeWarning: invalid value encountered in scalar divide\n",
      "  variance = np.sum((X_cluster - centroid) ** 2) / (len(X_cluster) - 1)\n",
      "\u001B[32m2024-03-07 13:02:41.989\u001B[0m | \u001B[33m\u001B[1mWARNING \u001B[0m | \u001B[36mzooniverse.utils.basic_clustering\u001B[0m:\u001B[36mbic_score\u001B[0m:\u001B[36m126\u001B[0m - \u001B[33m\u001B[1monly one point in the cluster\u001B[0m\n",
      "/Users/christian/PycharmProjects/iguanas-from-above-zooniverse/zooniverse/utils/basic_clustering.py:127: RuntimeWarning: invalid value encountered in scalar divide\n",
      "  variance = np.sum((X_cluster - centroid) ** 2) / (len(X_cluster) - 1)\n",
      "\u001B[32m2024-03-07 13:02:42.013\u001B[0m | \u001B[33m\u001B[1mWARNING \u001B[0m | \u001B[36mzooniverse.utils.basic_clustering\u001B[0m:\u001B[36mbic_score\u001B[0m:\u001B[36m126\u001B[0m - \u001B[33m\u001B[1monly one point in the cluster\u001B[0m\n",
      "/Users/christian/PycharmProjects/iguanas-from-above-zooniverse/zooniverse/utils/basic_clustering.py:127: RuntimeWarning: invalid value encountered in scalar divide\n",
      "  variance = np.sum((X_cluster - centroid) ** 2) / (len(X_cluster) - 1)\n",
      "\u001B[32m2024-03-07 13:02:42.038\u001B[0m | \u001B[33m\u001B[1mWARNING \u001B[0m | \u001B[36mzooniverse.utils.basic_clustering\u001B[0m:\u001B[36mbic_score\u001B[0m:\u001B[36m126\u001B[0m - \u001B[33m\u001B[1monly one point in the cluster\u001B[0m\n",
      "/Users/christian/PycharmProjects/iguanas-from-above-zooniverse/zooniverse/utils/basic_clustering.py:127: RuntimeWarning: invalid value encountered in scalar divide\n",
      "  variance = np.sum((X_cluster - centroid) ** 2) / (len(X_cluster) - 1)\n",
      "\u001B[32m2024-03-07 13:02:42.063\u001B[0m | \u001B[33m\u001B[1mWARNING \u001B[0m | \u001B[36mzooniverse.utils.basic_clustering\u001B[0m:\u001B[36mbic_score\u001B[0m:\u001B[36m126\u001B[0m - \u001B[33m\u001B[1monly one point in the cluster\u001B[0m\n",
      "/Users/christian/PycharmProjects/iguanas-from-above-zooniverse/zooniverse/utils/basic_clustering.py:127: RuntimeWarning: invalid value encountered in scalar divide\n",
      "  variance = np.sum((X_cluster - centroid) ** 2) / (len(X_cluster) - 1)\n",
      "\u001B[32m2024-03-07 13:02:43.607\u001B[0m | \u001B[33m\u001B[1mWARNING \u001B[0m | \u001B[36mzooniverse.utils.basic_clustering\u001B[0m:\u001B[36mbic_score\u001B[0m:\u001B[36m126\u001B[0m - \u001B[33m\u001B[1monly one point in the cluster\u001B[0m\n",
      "/Users/christian/PycharmProjects/iguanas-from-above-zooniverse/zooniverse/utils/basic_clustering.py:127: RuntimeWarning: invalid value encountered in scalar divide\n",
      "  variance = np.sum((X_cluster - centroid) ** 2) / (len(X_cluster) - 1)\n",
      "\u001B[32m2024-03-07 13:02:43.617\u001B[0m | \u001B[33m\u001B[1mWARNING \u001B[0m | \u001B[36mzooniverse.utils.basic_clustering\u001B[0m:\u001B[36mbic_score\u001B[0m:\u001B[36m126\u001B[0m - \u001B[33m\u001B[1monly one point in the cluster\u001B[0m\n",
      "/Users/christian/PycharmProjects/iguanas-from-above-zooniverse/zooniverse/utils/basic_clustering.py:127: RuntimeWarning: invalid value encountered in scalar divide\n",
      "  variance = np.sum((X_cluster - centroid) ** 2) / (len(X_cluster) - 1)\n",
      "\u001B[32m2024-03-07 13:02:43.644\u001B[0m | \u001B[33m\u001B[1mWARNING \u001B[0m | \u001B[36mzooniverse.utils.basic_clustering\u001B[0m:\u001B[36mbic_score\u001B[0m:\u001B[36m126\u001B[0m - \u001B[33m\u001B[1monly one point in the cluster\u001B[0m\n",
      "/Users/christian/PycharmProjects/iguanas-from-above-zooniverse/zooniverse/utils/basic_clustering.py:127: RuntimeWarning: invalid value encountered in scalar divide\n",
      "  variance = np.sum((X_cluster - centroid) ** 2) / (len(X_cluster) - 1)\n",
      "\u001B[32m2024-03-07 13:02:43.655\u001B[0m | \u001B[33m\u001B[1mWARNING \u001B[0m | \u001B[36mzooniverse.utils.basic_clustering\u001B[0m:\u001B[36mbic_score\u001B[0m:\u001B[36m126\u001B[0m - \u001B[33m\u001B[1monly one point in the cluster\u001B[0m\n",
      "/Users/christian/PycharmProjects/iguanas-from-above-zooniverse/zooniverse/utils/basic_clustering.py:127: RuntimeWarning: invalid value encountered in scalar divide\n",
      "  variance = np.sum((X_cluster - centroid) ** 2) / (len(X_cluster) - 1)\n",
      "\u001B[32m2024-03-07 13:02:43.663\u001B[0m | \u001B[33m\u001B[1mWARNING \u001B[0m | \u001B[36mzooniverse.utils.basic_clustering\u001B[0m:\u001B[36mbic_score\u001B[0m:\u001B[36m126\u001B[0m - \u001B[33m\u001B[1monly one point in the cluster\u001B[0m\n",
      "/Users/christian/PycharmProjects/iguanas-from-above-zooniverse/zooniverse/utils/basic_clustering.py:127: RuntimeWarning: invalid value encountered in scalar divide\n",
      "  variance = np.sum((X_cluster - centroid) ** 2) / (len(X_cluster) - 1)\n",
      "\u001B[32m2024-03-07 13:02:43.673\u001B[0m | \u001B[33m\u001B[1mWARNING \u001B[0m | \u001B[36mzooniverse.utils.basic_clustering\u001B[0m:\u001B[36mbic_score\u001B[0m:\u001B[36m126\u001B[0m - \u001B[33m\u001B[1monly one point in the cluster\u001B[0m\n",
      "/Users/christian/PycharmProjects/iguanas-from-above-zooniverse/zooniverse/utils/basic_clustering.py:127: RuntimeWarning: invalid value encountered in scalar divide\n",
      "  variance = np.sum((X_cluster - centroid) ** 2) / (len(X_cluster) - 1)\n",
      "\u001B[32m2024-03-07 13:02:43.682\u001B[0m | \u001B[33m\u001B[1mWARNING \u001B[0m | \u001B[36mzooniverse.utils.basic_clustering\u001B[0m:\u001B[36mbic_score\u001B[0m:\u001B[36m126\u001B[0m - \u001B[33m\u001B[1monly one point in the cluster\u001B[0m\n",
      "/Users/christian/PycharmProjects/iguanas-from-above-zooniverse/zooniverse/utils/basic_clustering.py:127: RuntimeWarning: invalid value encountered in scalar divide\n",
      "  variance = np.sum((X_cluster - centroid) ** 2) / (len(X_cluster) - 1)\n",
      "\u001B[32m2024-03-07 13:02:43.690\u001B[0m | \u001B[33m\u001B[1mWARNING \u001B[0m | \u001B[36mzooniverse.utils.basic_clustering\u001B[0m:\u001B[36mbic_score\u001B[0m:\u001B[36m126\u001B[0m - \u001B[33m\u001B[1monly one point in the cluster\u001B[0m\n",
      "/Users/christian/PycharmProjects/iguanas-from-above-zooniverse/zooniverse/utils/basic_clustering.py:127: RuntimeWarning: invalid value encountered in scalar divide\n",
      "  variance = np.sum((X_cluster - centroid) ** 2) / (len(X_cluster) - 1)\n",
      "\u001B[32m2024-03-07 13:02:43.700\u001B[0m | \u001B[33m\u001B[1mWARNING \u001B[0m | \u001B[36mzooniverse.utils.basic_clustering\u001B[0m:\u001B[36mbic_score\u001B[0m:\u001B[36m126\u001B[0m - \u001B[33m\u001B[1monly one point in the cluster\u001B[0m\n",
      "/Users/christian/PycharmProjects/iguanas-from-above-zooniverse/zooniverse/utils/basic_clustering.py:127: RuntimeWarning: invalid value encountered in scalar divide\n",
      "  variance = np.sum((X_cluster - centroid) ** 2) / (len(X_cluster) - 1)\n",
      "\u001B[32m2024-03-07 13:02:43.708\u001B[0m | \u001B[33m\u001B[1mWARNING \u001B[0m | \u001B[36mzooniverse.utils.basic_clustering\u001B[0m:\u001B[36mbic_score\u001B[0m:\u001B[36m126\u001B[0m - \u001B[33m\u001B[1monly one point in the cluster\u001B[0m\n",
      "/Users/christian/PycharmProjects/iguanas-from-above-zooniverse/zooniverse/utils/basic_clustering.py:127: RuntimeWarning: invalid value encountered in scalar divide\n",
      "  variance = np.sum((X_cluster - centroid) ** 2) / (len(X_cluster) - 1)\n",
      "\u001B[32m2024-03-07 13:02:43.718\u001B[0m | \u001B[33m\u001B[1mWARNING \u001B[0m | \u001B[36mzooniverse.utils.basic_clustering\u001B[0m:\u001B[36mbic_score\u001B[0m:\u001B[36m126\u001B[0m - \u001B[33m\u001B[1monly one point in the cluster\u001B[0m\n",
      "/Users/christian/PycharmProjects/iguanas-from-above-zooniverse/zooniverse/utils/basic_clustering.py:127: RuntimeWarning: invalid value encountered in scalar divide\n",
      "  variance = np.sum((X_cluster - centroid) ** 2) / (len(X_cluster) - 1)\n",
      "\u001B[32m2024-03-07 13:02:43.727\u001B[0m | \u001B[33m\u001B[1mWARNING \u001B[0m | \u001B[36mzooniverse.utils.basic_clustering\u001B[0m:\u001B[36mbic_score\u001B[0m:\u001B[36m126\u001B[0m - \u001B[33m\u001B[1monly one point in the cluster\u001B[0m\n",
      "/Users/christian/PycharmProjects/iguanas-from-above-zooniverse/zooniverse/utils/basic_clustering.py:127: RuntimeWarning: invalid value encountered in scalar divide\n",
      "  variance = np.sum((X_cluster - centroid) ** 2) / (len(X_cluster) - 1)\n",
      "\u001B[32m2024-03-07 13:02:43.736\u001B[0m | \u001B[33m\u001B[1mWARNING \u001B[0m | \u001B[36mzooniverse.utils.basic_clustering\u001B[0m:\u001B[36mbic_score\u001B[0m:\u001B[36m126\u001B[0m - \u001B[33m\u001B[1monly one point in the cluster\u001B[0m\n",
      "/Users/christian/PycharmProjects/iguanas-from-above-zooniverse/zooniverse/utils/basic_clustering.py:127: RuntimeWarning: invalid value encountered in scalar divide\n",
      "  variance = np.sum((X_cluster - centroid) ** 2) / (len(X_cluster) - 1)\n",
      "\u001B[32m2024-03-07 13:02:43.746\u001B[0m | \u001B[33m\u001B[1mWARNING \u001B[0m | \u001B[36mzooniverse.utils.basic_clustering\u001B[0m:\u001B[36mbic_score\u001B[0m:\u001B[36m126\u001B[0m - \u001B[33m\u001B[1monly one point in the cluster\u001B[0m\n",
      "/Users/christian/PycharmProjects/iguanas-from-above-zooniverse/zooniverse/utils/basic_clustering.py:127: RuntimeWarning: invalid value encountered in scalar divide\n",
      "  variance = np.sum((X_cluster - centroid) ** 2) / (len(X_cluster) - 1)\n",
      "\u001B[32m2024-03-07 13:02:44.159\u001B[0m | \u001B[33m\u001B[1mWARNING \u001B[0m | \u001B[36mzooniverse.utils.basic_clustering\u001B[0m:\u001B[36mbic_score\u001B[0m:\u001B[36m126\u001B[0m - \u001B[33m\u001B[1monly one point in the cluster\u001B[0m\n",
      "/Users/christian/PycharmProjects/iguanas-from-above-zooniverse/zooniverse/utils/basic_clustering.py:127: RuntimeWarning: invalid value encountered in scalar divide\n",
      "  variance = np.sum((X_cluster - centroid) ** 2) / (len(X_cluster) - 1)\n",
      "\u001B[32m2024-03-07 13:02:44.168\u001B[0m | \u001B[33m\u001B[1mWARNING \u001B[0m | \u001B[36mzooniverse.utils.basic_clustering\u001B[0m:\u001B[36mbic_score\u001B[0m:\u001B[36m126\u001B[0m - \u001B[33m\u001B[1monly one point in the cluster\u001B[0m\n",
      "/Users/christian/PycharmProjects/iguanas-from-above-zooniverse/zooniverse/utils/basic_clustering.py:127: RuntimeWarning: invalid value encountered in scalar divide\n",
      "  variance = np.sum((X_cluster - centroid) ** 2) / (len(X_cluster) - 1)\n",
      "/var/folders/2k/78nn7s4548986wsjh29rhj9w0000gn/T/ipykernel_56614/194663903.py:40: FutureWarning: The behavior of DataFrame concatenation with empty or all-NA entries is deprecated. In a future version, this will no longer exclude empty or all-NA columns when determining the result dtypes. To retain the old behavior, exclude the relevant entries before the concat operation.\n",
      "  df_dbscan_localization = pd.concat([*db_scan_results.values()])\n"
     ]
    }
   ],
   "source": [
    "## fixes the problem with the silouette score sorting\n",
    "from zooniverse.analysis import compare_dbscan_hyp_v2\n",
    "\n",
    "eps_variants = [0.01, 0.05, 0.1, 0.2, 0.3, 0.4, 0.5]\n",
    "min_samples_variants = [3, 5, 8, 10]\n",
    "if debug:\n",
    "    eps_variants = [0.3]\n",
    "    min_samples_variants = [3]\n",
    "params = [(eps, min_samples) for eps in eps_variants for min_samples in min_samples_variants]\n",
    "\n",
    "db_scan_results = {}\n",
    "db_scan_best_results = []\n",
    "db_scan_best_bic_results = []\n",
    "for image_name, df_image_name in df_merged_dataset.groupby(\"image_name\"):\n",
    "\n",
    "    dbscan_localization = compare_dbscan_hyp_v2(\n",
    "        # phase_tag=phase_tag,\n",
    "        params=params,\n",
    "        df_flat=df_image_name,\n",
    "        # output_path=output_path,\n",
    "        output_plot_path=output_plot_path,\n",
    "        plot=show_plots,\n",
    "        \n",
    "    )\n",
    "\n",
    "    db_scan_results[image_name] = pd.DataFrame(dbscan_localization)\n",
    "    \n",
    "    # TODO Here lies the main problem with DBSCAN.\n",
    "    # DBSCAN tends to classfy all points as noise if min_samples is too high. Often only a single user marked an iguana.\n",
    "    # Sillouette Scoring needs a minimum of 2 clusters\n",
    "    # if there are points in decent radius they will belong to a cluster\n",
    "    if pd.DataFrame(dbscan_localization).dbscan_count.max() == 1:\n",
    "        db_scan_best_results.append(pd.DataFrame(dbscan_localization).sort_values(\"dbscan_count\", ascending=False).iloc[0])\n",
    "        db_scan_best_bic_results.append(pd.DataFrame(dbscan_localization).sort_values(\"dbscan_count\", ascending=False).iloc[0])\n",
    "        # If two or more cluster seem to exists take ones with the best Silouette score\n",
    "    else:  \n",
    "        # take the best result by silouette score if there are more clusters then 1\n",
    "        db_scan_best_results.append(pd.DataFrame(dbscan_localization).sort_values(\"dbscan_silouette_score\", ascending=False).iloc[0])\n",
    "    \n",
    "df_dbscan_localization = pd.concat([*db_scan_results.values()])\n",
    "df_scan_best_results = pd.DataFrame(db_scan_best_results)\n",
    "\n"
   ],
   "metadata": {
    "collapsed": false,
    "ExecuteTime": {
     "end_time": "2024-03-07T12:02:44.244708Z",
     "start_time": "2024-03-07T12:02:26.140277Z"
    }
   },
   "id": "541f9f88dc56d1f1",
   "execution_count": 36
  },
  {
   "cell_type": "code",
   "outputs": [
    {
     "data": {
      "text/plain": "    dbscan_count  dbscan_noise  dbscan_silouette_score  dbscan_BIC_score  \\\n10            18            28                0.616352      -4182.334018   \n4              9            12                0.716935      -1112.370289   \n20             8             1                0.861200               NaN   \n27             4             1                0.931680               NaN   \n16             2             1                0.874491               NaN   \n..           ...           ...                     ...               ...   \n27             4             3                0.664809      -3621.622512   \n12             7             1                0.806874               NaN   \n24             4             3                0.752832       -293.623536   \n4              2             8                0.158432       -182.195215   \n27             3             6                0.871361       -333.691978   \n\n          image_name   eps  min_samples  \n10   ESCH01-1_13.jpg  0.10            8  \n4    ESCH01-1_19.jpg  0.05            3  \n20   ESCH01-1_21.jpg  0.40            3  \n27   ESCH01-1_22.jpg  0.50           10  \n16   ESCH01-1_23.jpg  0.30            3  \n..               ...   ...          ...  \n27    PWC01-1_61.jpg  0.50           10  \n12    PWC01-1_62.jpg  0.20            3  \n24   PWC01-4_231.jpg  0.50            3  \n4     PWC01-5_34.jpg  0.05            3  \n27  PWC03-2-1_42.jpg  0.50           10  \n\n[87 rows x 7 columns]",
      "text/html": "<div>\n<style scoped>\n    .dataframe tbody tr th:only-of-type {\n        vertical-align: middle;\n    }\n\n    .dataframe tbody tr th {\n        vertical-align: top;\n    }\n\n    .dataframe thead th {\n        text-align: right;\n    }\n</style>\n<table border=\"1\" class=\"dataframe\">\n  <thead>\n    <tr style=\"text-align: right;\">\n      <th></th>\n      <th>dbscan_count</th>\n      <th>dbscan_noise</th>\n      <th>dbscan_silouette_score</th>\n      <th>dbscan_BIC_score</th>\n      <th>image_name</th>\n      <th>eps</th>\n      <th>min_samples</th>\n    </tr>\n  </thead>\n  <tbody>\n    <tr>\n      <th>10</th>\n      <td>18</td>\n      <td>28</td>\n      <td>0.616352</td>\n      <td>-4182.334018</td>\n      <td>ESCH01-1_13.jpg</td>\n      <td>0.10</td>\n      <td>8</td>\n    </tr>\n    <tr>\n      <th>4</th>\n      <td>9</td>\n      <td>12</td>\n      <td>0.716935</td>\n      <td>-1112.370289</td>\n      <td>ESCH01-1_19.jpg</td>\n      <td>0.05</td>\n      <td>3</td>\n    </tr>\n    <tr>\n      <th>20</th>\n      <td>8</td>\n      <td>1</td>\n      <td>0.861200</td>\n      <td>NaN</td>\n      <td>ESCH01-1_21.jpg</td>\n      <td>0.40</td>\n      <td>3</td>\n    </tr>\n    <tr>\n      <th>27</th>\n      <td>4</td>\n      <td>1</td>\n      <td>0.931680</td>\n      <td>NaN</td>\n      <td>ESCH01-1_22.jpg</td>\n      <td>0.50</td>\n      <td>10</td>\n    </tr>\n    <tr>\n      <th>16</th>\n      <td>2</td>\n      <td>1</td>\n      <td>0.874491</td>\n      <td>NaN</td>\n      <td>ESCH01-1_23.jpg</td>\n      <td>0.30</td>\n      <td>3</td>\n    </tr>\n    <tr>\n      <th>...</th>\n      <td>...</td>\n      <td>...</td>\n      <td>...</td>\n      <td>...</td>\n      <td>...</td>\n      <td>...</td>\n      <td>...</td>\n    </tr>\n    <tr>\n      <th>27</th>\n      <td>4</td>\n      <td>3</td>\n      <td>0.664809</td>\n      <td>-3621.622512</td>\n      <td>PWC01-1_61.jpg</td>\n      <td>0.50</td>\n      <td>10</td>\n    </tr>\n    <tr>\n      <th>12</th>\n      <td>7</td>\n      <td>1</td>\n      <td>0.806874</td>\n      <td>NaN</td>\n      <td>PWC01-1_62.jpg</td>\n      <td>0.20</td>\n      <td>3</td>\n    </tr>\n    <tr>\n      <th>24</th>\n      <td>4</td>\n      <td>3</td>\n      <td>0.752832</td>\n      <td>-293.623536</td>\n      <td>PWC01-4_231.jpg</td>\n      <td>0.50</td>\n      <td>3</td>\n    </tr>\n    <tr>\n      <th>4</th>\n      <td>2</td>\n      <td>8</td>\n      <td>0.158432</td>\n      <td>-182.195215</td>\n      <td>PWC01-5_34.jpg</td>\n      <td>0.05</td>\n      <td>3</td>\n    </tr>\n    <tr>\n      <th>27</th>\n      <td>3</td>\n      <td>6</td>\n      <td>0.871361</td>\n      <td>-333.691978</td>\n      <td>PWC03-2-1_42.jpg</td>\n      <td>0.50</td>\n      <td>10</td>\n    </tr>\n  </tbody>\n</table>\n<p>87 rows × 7 columns</p>\n</div>"
     },
     "execution_count": 37,
     "metadata": {},
     "output_type": "execute_result"
    }
   ],
   "source": [
    "df_scan_best_results"
   ],
   "metadata": {
    "collapsed": false,
    "ExecuteTime": {
     "end_time": "2024-03-07T12:02:44.251349Z",
     "start_time": "2024-03-07T12:02:44.245828Z"
    }
   },
   "id": "ec07d63d180d7442",
   "execution_count": 37
  },
  {
   "cell_type": "markdown",
   "source": [
    "Here it can be seen why the silouette score is difficult because it is often undefined."
   ],
   "metadata": {
    "collapsed": false
   },
   "id": "d196ca1914a06509"
  },
  {
   "cell_type": "code",
   "outputs": [
    {
     "data": {
      "text/plain": "    dbscan_count  dbscan_noise  dbscan_silouette_score  dbscan_BIC_score  \\\n10            18            28                0.616352      -4182.334018   \n4              9            12                0.716935      -1112.370289   \n20             8             1                0.861200               NaN   \n27             4             1                0.931680               NaN   \n16             2             1                0.874491               NaN   \n..           ...           ...                     ...               ...   \n27             4             3                0.664809      -3621.622512   \n12             7             1                0.806874               NaN   \n24             4             3                0.752832       -293.623536   \n4              2             8                0.158432       -182.195215   \n27             3             6                0.871361       -333.691978   \n\n          image_name   eps  min_samples  \n10   ESCH01-1_13.jpg  0.10            8  \n4    ESCH01-1_19.jpg  0.05            3  \n20   ESCH01-1_21.jpg  0.40            3  \n27   ESCH01-1_22.jpg  0.50           10  \n16   ESCH01-1_23.jpg  0.30            3  \n..               ...   ...          ...  \n27    PWC01-1_61.jpg  0.50           10  \n12    PWC01-1_62.jpg  0.20            3  \n24   PWC01-4_231.jpg  0.50            3  \n4     PWC01-5_34.jpg  0.05            3  \n27  PWC03-2-1_42.jpg  0.50           10  \n\n[87 rows x 7 columns]",
      "text/html": "<div>\n<style scoped>\n    .dataframe tbody tr th:only-of-type {\n        vertical-align: middle;\n    }\n\n    .dataframe tbody tr th {\n        vertical-align: top;\n    }\n\n    .dataframe thead th {\n        text-align: right;\n    }\n</style>\n<table border=\"1\" class=\"dataframe\">\n  <thead>\n    <tr style=\"text-align: right;\">\n      <th></th>\n      <th>dbscan_count</th>\n      <th>dbscan_noise</th>\n      <th>dbscan_silouette_score</th>\n      <th>dbscan_BIC_score</th>\n      <th>image_name</th>\n      <th>eps</th>\n      <th>min_samples</th>\n    </tr>\n  </thead>\n  <tbody>\n    <tr>\n      <th>10</th>\n      <td>18</td>\n      <td>28</td>\n      <td>0.616352</td>\n      <td>-4182.334018</td>\n      <td>ESCH01-1_13.jpg</td>\n      <td>0.10</td>\n      <td>8</td>\n    </tr>\n    <tr>\n      <th>4</th>\n      <td>9</td>\n      <td>12</td>\n      <td>0.716935</td>\n      <td>-1112.370289</td>\n      <td>ESCH01-1_19.jpg</td>\n      <td>0.05</td>\n      <td>3</td>\n    </tr>\n    <tr>\n      <th>20</th>\n      <td>8</td>\n      <td>1</td>\n      <td>0.861200</td>\n      <td>NaN</td>\n      <td>ESCH01-1_21.jpg</td>\n      <td>0.40</td>\n      <td>3</td>\n    </tr>\n    <tr>\n      <th>27</th>\n      <td>4</td>\n      <td>1</td>\n      <td>0.931680</td>\n      <td>NaN</td>\n      <td>ESCH01-1_22.jpg</td>\n      <td>0.50</td>\n      <td>10</td>\n    </tr>\n    <tr>\n      <th>16</th>\n      <td>2</td>\n      <td>1</td>\n      <td>0.874491</td>\n      <td>NaN</td>\n      <td>ESCH01-1_23.jpg</td>\n      <td>0.30</td>\n      <td>3</td>\n    </tr>\n    <tr>\n      <th>...</th>\n      <td>...</td>\n      <td>...</td>\n      <td>...</td>\n      <td>...</td>\n      <td>...</td>\n      <td>...</td>\n      <td>...</td>\n    </tr>\n    <tr>\n      <th>27</th>\n      <td>4</td>\n      <td>3</td>\n      <td>0.664809</td>\n      <td>-3621.622512</td>\n      <td>PWC01-1_61.jpg</td>\n      <td>0.50</td>\n      <td>10</td>\n    </tr>\n    <tr>\n      <th>12</th>\n      <td>7</td>\n      <td>1</td>\n      <td>0.806874</td>\n      <td>NaN</td>\n      <td>PWC01-1_62.jpg</td>\n      <td>0.20</td>\n      <td>3</td>\n    </tr>\n    <tr>\n      <th>24</th>\n      <td>4</td>\n      <td>3</td>\n      <td>0.752832</td>\n      <td>-293.623536</td>\n      <td>PWC01-4_231.jpg</td>\n      <td>0.50</td>\n      <td>3</td>\n    </tr>\n    <tr>\n      <th>4</th>\n      <td>2</td>\n      <td>8</td>\n      <td>0.158432</td>\n      <td>-182.195215</td>\n      <td>PWC01-5_34.jpg</td>\n      <td>0.05</td>\n      <td>3</td>\n    </tr>\n    <tr>\n      <th>27</th>\n      <td>3</td>\n      <td>6</td>\n      <td>0.871361</td>\n      <td>-333.691978</td>\n      <td>PWC03-2-1_42.jpg</td>\n      <td>0.50</td>\n      <td>10</td>\n    </tr>\n  </tbody>\n</table>\n<p>87 rows × 7 columns</p>\n</div>"
     },
     "execution_count": 38,
     "metadata": {},
     "output_type": "execute_result"
    }
   ],
   "source": [
    "## save the combinations of parameters, which maximized the silouette score.\n",
    "\n",
    "df_dbscan_localization.to_csv(config[\"dbscan_hyperparam_grid\"])\n",
    "df_scan_best_results"
   ],
   "metadata": {
    "collapsed": false,
    "ExecuteTime": {
     "end_time": "2024-03-07T12:02:44.262363Z",
     "start_time": "2024-03-07T12:02:44.252057Z"
    }
   },
   "id": "c17c404cb518dbe1",
   "execution_count": 38
  },
  {
   "cell_type": "code",
   "outputs": [],
   "source": [
    "df_scan_best_results.rename(columns={\"dbscan_count\": \"dbscan_count_sil\" }, inplace=True)\n",
    "\n",
    "df_comparison = df_comparison.merge(df_scan_best_results, on='image_name', how='left')"
   ],
   "metadata": {
    "collapsed": false,
    "ExecuteTime": {
     "end_time": "2024-03-07T12:02:44.265892Z",
     "start_time": "2024-03-07T12:02:44.263133Z"
    }
   },
   "id": "bacea598a23a1b81",
   "execution_count": 39
  },
  {
   "cell_type": "code",
   "execution_count": 40,
   "id": "d270534c736bcf9e",
   "metadata": {
    "collapsed": false,
    "ExecuteTime": {
     "end_time": "2024-03-07T12:02:44.269814Z",
     "start_time": "2024-03-07T12:02:44.266481Z"
    }
   },
   "outputs": [
    {
     "data": {
      "text/plain": "median_count_rmse        1.555487\nmean_count_rmse          1.521801\nmode_count_rmse          2.031363\ndbscan_count_sil_rmse    2.138858\ndtype: float64"
     },
     "execution_count": 40,
     "metadata": {},
     "output_type": "execute_result"
    }
   ],
   "source": [
    "df_comparison.fillna(0, inplace=True)\n",
    "\n",
    "mse_errors[\"dbscan_count_sil_rmse\"] = mean_squared_error(df_comparison.count_total, df_comparison.dbscan_count_sil, squared=False)\n",
    "\n",
    "pd.Series(mse_errors)"
   ]
  },
  {
   "cell_type": "code",
   "execution_count": 41,
   "id": "509dec5ebdad923",
   "metadata": {
    "collapsed": false,
    "ExecuteTime": {
     "end_time": "2024-03-07T12:02:44.281377Z",
     "start_time": "2024-03-07T12:02:44.274534Z"
    }
   },
   "outputs": [
    {
     "data": {
      "text/plain": "          image_name  subject_id  count_total  median_count  mean_count  \\\n0    MBN04-2_182.jpg    78926344            0           2.0        1.71   \n1   MBBD02-2_248.jpg    78928708            2           2.0        2.12   \n2    PCI01-2_111.jpg    78938221            4           3.0        3.50   \n3     PCI02-1_92.jpg    78938603            1           1.0        1.21   \n4   PCIC01-1_113.jpg    78938992            2           2.0        1.75   \n..               ...         ...          ...           ...         ...   \n82   GWB01-2_300.jpg    78925388            1           1.0        1.00   \n83   GWB01-2_421.jpg    78925457            1           1.0        1.11   \n84   GWB01-2_430.jpg    78925467            1           1.0        1.11   \n85    GWB01-3_12.jpg    78925536            1           1.0        1.04   \n86   GWB01-3_152.jpg    78925551            2           2.0        2.00   \n\n    mode_count  users  sum_annotations_count  \\\n0            1      7                     12   \n1            2     17                     36   \n2            3     20                     70   \n3            1     19                     23   \n4            2      8                     14   \n..         ...    ...                    ...   \n82           1      9                      9   \n83           1      9                     10   \n84           1      9                     10   \n85           1     26                     27   \n86           2     15                     30   \n\n                                    annotations_count  dbscan_count_sil  \n0                               [1, 1, 1, 2, 2, 2, 3]                 2  \n1   [1, 1, 2, 2, 2, 2, 2, 2, 2, 2, 2, 2, 2, 3, 3, ...                 2  \n2   [2, 2, 3, 3, 3, 3, 3, 3, 3, 3, 3, 4, 4, 4, 4, ...                 5  \n3   [1, 1, 1, 1, 1, 1, 1, 1, 1, 1, 1, 1, 1, 1, 1, ...                 2  \n4                            [1, 1, 1, 2, 2, 2, 2, 3]                 2  \n..                                                ...               ...  \n82                        [1, 1, 1, 1, 1, 1, 1, 1, 1]                 0  \n83                        [1, 1, 1, 1, 1, 1, 1, 1, 2]                 1  \n84                        [1, 1, 1, 1, 1, 1, 1, 1, 2]                 1  \n85  [1, 1, 1, 1, 1, 1, 1, 1, 1, 1, 1, 1, 1, 1, 1, ...                 2  \n86      [1, 1, 1, 1, 2, 2, 2, 2, 2, 2, 2, 2, 2, 2, 6]                 2  \n\n[87 rows x 10 columns]",
      "text/html": "<div>\n<style scoped>\n    .dataframe tbody tr th:only-of-type {\n        vertical-align: middle;\n    }\n\n    .dataframe tbody tr th {\n        vertical-align: top;\n    }\n\n    .dataframe thead th {\n        text-align: right;\n    }\n</style>\n<table border=\"1\" class=\"dataframe\">\n  <thead>\n    <tr style=\"text-align: right;\">\n      <th></th>\n      <th>image_name</th>\n      <th>subject_id</th>\n      <th>count_total</th>\n      <th>median_count</th>\n      <th>mean_count</th>\n      <th>mode_count</th>\n      <th>users</th>\n      <th>sum_annotations_count</th>\n      <th>annotations_count</th>\n      <th>dbscan_count_sil</th>\n    </tr>\n  </thead>\n  <tbody>\n    <tr>\n      <th>0</th>\n      <td>MBN04-2_182.jpg</td>\n      <td>78926344</td>\n      <td>0</td>\n      <td>2.0</td>\n      <td>1.71</td>\n      <td>1</td>\n      <td>7</td>\n      <td>12</td>\n      <td>[1, 1, 1, 2, 2, 2, 3]</td>\n      <td>2</td>\n    </tr>\n    <tr>\n      <th>1</th>\n      <td>MBBD02-2_248.jpg</td>\n      <td>78928708</td>\n      <td>2</td>\n      <td>2.0</td>\n      <td>2.12</td>\n      <td>2</td>\n      <td>17</td>\n      <td>36</td>\n      <td>[1, 1, 2, 2, 2, 2, 2, 2, 2, 2, 2, 2, 2, 3, 3, ...</td>\n      <td>2</td>\n    </tr>\n    <tr>\n      <th>2</th>\n      <td>PCI01-2_111.jpg</td>\n      <td>78938221</td>\n      <td>4</td>\n      <td>3.0</td>\n      <td>3.50</td>\n      <td>3</td>\n      <td>20</td>\n      <td>70</td>\n      <td>[2, 2, 3, 3, 3, 3, 3, 3, 3, 3, 3, 4, 4, 4, 4, ...</td>\n      <td>5</td>\n    </tr>\n    <tr>\n      <th>3</th>\n      <td>PCI02-1_92.jpg</td>\n      <td>78938603</td>\n      <td>1</td>\n      <td>1.0</td>\n      <td>1.21</td>\n      <td>1</td>\n      <td>19</td>\n      <td>23</td>\n      <td>[1, 1, 1, 1, 1, 1, 1, 1, 1, 1, 1, 1, 1, 1, 1, ...</td>\n      <td>2</td>\n    </tr>\n    <tr>\n      <th>4</th>\n      <td>PCIC01-1_113.jpg</td>\n      <td>78938992</td>\n      <td>2</td>\n      <td>2.0</td>\n      <td>1.75</td>\n      <td>2</td>\n      <td>8</td>\n      <td>14</td>\n      <td>[1, 1, 1, 2, 2, 2, 2, 3]</td>\n      <td>2</td>\n    </tr>\n    <tr>\n      <th>...</th>\n      <td>...</td>\n      <td>...</td>\n      <td>...</td>\n      <td>...</td>\n      <td>...</td>\n      <td>...</td>\n      <td>...</td>\n      <td>...</td>\n      <td>...</td>\n      <td>...</td>\n    </tr>\n    <tr>\n      <th>82</th>\n      <td>GWB01-2_300.jpg</td>\n      <td>78925388</td>\n      <td>1</td>\n      <td>1.0</td>\n      <td>1.00</td>\n      <td>1</td>\n      <td>9</td>\n      <td>9</td>\n      <td>[1, 1, 1, 1, 1, 1, 1, 1, 1]</td>\n      <td>0</td>\n    </tr>\n    <tr>\n      <th>83</th>\n      <td>GWB01-2_421.jpg</td>\n      <td>78925457</td>\n      <td>1</td>\n      <td>1.0</td>\n      <td>1.11</td>\n      <td>1</td>\n      <td>9</td>\n      <td>10</td>\n      <td>[1, 1, 1, 1, 1, 1, 1, 1, 2]</td>\n      <td>1</td>\n    </tr>\n    <tr>\n      <th>84</th>\n      <td>GWB01-2_430.jpg</td>\n      <td>78925467</td>\n      <td>1</td>\n      <td>1.0</td>\n      <td>1.11</td>\n      <td>1</td>\n      <td>9</td>\n      <td>10</td>\n      <td>[1, 1, 1, 1, 1, 1, 1, 1, 2]</td>\n      <td>1</td>\n    </tr>\n    <tr>\n      <th>85</th>\n      <td>GWB01-3_12.jpg</td>\n      <td>78925536</td>\n      <td>1</td>\n      <td>1.0</td>\n      <td>1.04</td>\n      <td>1</td>\n      <td>26</td>\n      <td>27</td>\n      <td>[1, 1, 1, 1, 1, 1, 1, 1, 1, 1, 1, 1, 1, 1, 1, ...</td>\n      <td>2</td>\n    </tr>\n    <tr>\n      <th>86</th>\n      <td>GWB01-3_152.jpg</td>\n      <td>78925551</td>\n      <td>2</td>\n      <td>2.0</td>\n      <td>2.00</td>\n      <td>2</td>\n      <td>15</td>\n      <td>30</td>\n      <td>[1, 1, 1, 1, 2, 2, 2, 2, 2, 2, 2, 2, 2, 2, 6]</td>\n      <td>2</td>\n    </tr>\n  </tbody>\n</table>\n<p>87 rows × 10 columns</p>\n</div>"
     },
     "execution_count": 41,
     "metadata": {},
     "output_type": "execute_result"
    }
   ],
   "source": [
    "\n",
    "df_comparison = df_comparison.drop([\"dbscan_noise\", \"dbscan_silouette_score\", \"eps\", \"min_samples\", \"dbscan_BIC_score\", \"with_noise\", \"bic_avg\"], axis=1, errors=\"ignore\")\n",
    "df_comparison"
   ]
  },
  {
   "cell_type": "markdown",
   "id": "15adf791099ac332",
   "metadata": {
    "collapsed": false
   },
   "source": [
    "### HDBSCAN clustering for each image\n",
    "\n",
    "https://scikit-learn.org/stable/modules/generated/sklearn.cluster.HDBSCAN.html#sklearn.cluster.HDBSCAN states: \"A distance threshold. Clusters below this value will be merged.\"\n",
    "\n"
   ]
  },
  {
   "cell_type": "code",
   "execution_count": 42,
   "id": "6763aed82e7088dd",
   "metadata": {
    "collapsed": false,
    "ExecuteTime": {
     "end_time": "2024-03-07T12:02:44.429379Z",
     "start_time": "2024-03-07T12:02:44.281889Z"
    }
   },
   "outputs": [
    {
     "name": "stderr",
     "output_type": "stream",
     "text": [
      "\u001B[32m2024-03-07 13:02:44.297\u001B[0m | \u001B[33m\u001B[1mWARNING \u001B[0m | \u001B[36mzooniverse.utils.basic_clustering\u001B[0m:\u001B[36mbic_score\u001B[0m:\u001B[36m126\u001B[0m - \u001B[33m\u001B[1monly one point in the cluster\u001B[0m\n",
      "/Users/christian/PycharmProjects/iguanas-from-above-zooniverse/zooniverse/utils/basic_clustering.py:127: RuntimeWarning: invalid value encountered in scalar divide\n",
      "  variance = np.sum((X_cluster - centroid) ** 2) / (len(X_cluster) - 1)\n",
      "\u001B[32m2024-03-07 13:02:44.346\u001B[0m | \u001B[33m\u001B[1mWARNING \u001B[0m | \u001B[36mzooniverse.utils.basic_clustering\u001B[0m:\u001B[36mbic_score\u001B[0m:\u001B[36m126\u001B[0m - \u001B[33m\u001B[1monly one point in the cluster\u001B[0m\n",
      "/Users/christian/PycharmProjects/iguanas-from-above-zooniverse/zooniverse/utils/basic_clustering.py:127: RuntimeWarning: invalid value encountered in scalar divide\n",
      "  variance = np.sum((X_cluster - centroid) ** 2) / (len(X_cluster) - 1)\n",
      "\u001B[32m2024-03-07 13:02:44.358\u001B[0m | \u001B[33m\u001B[1mWARNING \u001B[0m | \u001B[36mzooniverse.utils.basic_clustering\u001B[0m:\u001B[36mbic_score\u001B[0m:\u001B[36m126\u001B[0m - \u001B[33m\u001B[1monly one point in the cluster\u001B[0m\n",
      "/Users/christian/PycharmProjects/iguanas-from-above-zooniverse/zooniverse/utils/basic_clustering.py:127: RuntimeWarning: invalid value encountered in scalar divide\n",
      "  variance = np.sum((X_cluster - centroid) ** 2) / (len(X_cluster) - 1)\n",
      "\u001B[32m2024-03-07 13:02:44.376\u001B[0m | \u001B[33m\u001B[1mWARNING \u001B[0m | \u001B[36mzooniverse.utils.basic_clustering\u001B[0m:\u001B[36mbic_score\u001B[0m:\u001B[36m126\u001B[0m - \u001B[33m\u001B[1monly one point in the cluster\u001B[0m\n",
      "/Users/christian/PycharmProjects/iguanas-from-above-zooniverse/zooniverse/utils/basic_clustering.py:127: RuntimeWarning: invalid value encountered in scalar divide\n",
      "  variance = np.sum((X_cluster - centroid) ** 2) / (len(X_cluster) - 1)\n",
      "\u001B[32m2024-03-07 13:02:44.386\u001B[0m | \u001B[33m\u001B[1mWARNING \u001B[0m | \u001B[36mzooniverse.utils.basic_clustering\u001B[0m:\u001B[36mbic_score\u001B[0m:\u001B[36m126\u001B[0m - \u001B[33m\u001B[1monly one point in the cluster\u001B[0m\n",
      "/Users/christian/PycharmProjects/iguanas-from-above-zooniverse/zooniverse/utils/basic_clustering.py:127: RuntimeWarning: invalid value encountered in scalar divide\n",
      "  variance = np.sum((X_cluster - centroid) ** 2) / (len(X_cluster) - 1)\n",
      "\u001B[32m2024-03-07 13:02:44.387\u001B[0m | \u001B[33m\u001B[1mWARNING \u001B[0m | \u001B[36mzooniverse.utils.basic_clustering\u001B[0m:\u001B[36mbic_score\u001B[0m:\u001B[36m126\u001B[0m - \u001B[33m\u001B[1monly one point in the cluster\u001B[0m\n",
      "/Users/christian/PycharmProjects/iguanas-from-above-zooniverse/zooniverse/utils/basic_clustering.py:127: RuntimeWarning: invalid value encountered in scalar divide\n",
      "  variance = np.sum((X_cluster - centroid) ** 2) / (len(X_cluster) - 1)\n"
     ]
    }
   ],
   "source": [
    "from zooniverse.analysis import HDBSCAN_Wrapper\n",
    "\n",
    "hdbscan_values = []\n",
    "\n",
    "eps_variants = [0.0] # 0 is the default\n",
    "min_cluster_sizes = [5] # 5 is the default\n",
    "\n",
    "\n",
    "for image_name, df_image_name in df_merged_dataset.groupby(\"image_name\"):\n",
    "    annotations_count = get_mark_overview(df_image_name)\n",
    "    annotations_count_stats = get_annotation_count_stats(annotations_count=annotations_count,\n",
    "                                                         image_name=df_image_name.iloc[0][\"image_name\"])\n",
    "    \n",
    "    \n",
    "    if df_image_name.shape[0] >= 5: # if less then min_cluster_sizes points are available clustering makes no sense\n",
    "        params = [(eps, min_cluster_size, max_cluster_size) \n",
    "                    for eps in eps_variants\n",
    "                    for min_cluster_size in min_cluster_sizes\n",
    "                    for max_cluster_size in [None]\n",
    "              ]\n",
    "\n",
    "        df_hdbscan = HDBSCAN_Wrapper(df_marks=df_image_name[[\"x\", \"y\"]],\n",
    "                                     annotations_count=annotations_count,\n",
    "                                     output_path=output_plot_path,\n",
    "                                     plot=show_plots,\n",
    "                                     show=show_plots,\n",
    "                                     image_name=image_name,\n",
    "                                     params=params)\n",
    "        hdbscan_values.append(df_hdbscan)\n",
    "\n",
    "\n",
    "df_hdbscan = pd.concat(hdbscan_values)\n",
    "\n"
   ]
  },
  {
   "cell_type": "code",
   "outputs": [
    {
     "data": {
      "text/plain": "          image_name  HDBSCAN_count  eps  min_cluster_size max_cluster_size  \\\n0    ESCH01-1_13.jpg             19  0.0                 5             None   \n0    ESCH01-1_19.jpg              9  0.0                 5             None   \n0    ESCH01-1_21.jpg             10  0.0                 5             None   \n0    ESCH01-1_22.jpg              5  0.0                 5             None   \n0    ESCH01-1_23.jpg              2  0.0                 5             None   \n..               ...            ...  ...               ...              ...   \n0     PWC01-1_61.jpg             14  0.0                 5             None   \n0     PWC01-1_62.jpg             11  0.0                 5             None   \n0    PWC01-4_231.jpg              3  0.0                 5             None   \n0     PWC01-5_34.jpg              1  0.0                 5             None   \n0   PWC03-2-1_42.jpg              4  0.0                 5             None   \n\n    noise_points  \n0             26  \n0              8  \n0              5  \n0              6  \n0              0  \n..           ...  \n0             36  \n0              5  \n0              0  \n0             12  \n0              0  \n\n[85 rows x 6 columns]",
      "text/html": "<div>\n<style scoped>\n    .dataframe tbody tr th:only-of-type {\n        vertical-align: middle;\n    }\n\n    .dataframe tbody tr th {\n        vertical-align: top;\n    }\n\n    .dataframe thead th {\n        text-align: right;\n    }\n</style>\n<table border=\"1\" class=\"dataframe\">\n  <thead>\n    <tr style=\"text-align: right;\">\n      <th></th>\n      <th>image_name</th>\n      <th>HDBSCAN_count</th>\n      <th>eps</th>\n      <th>min_cluster_size</th>\n      <th>max_cluster_size</th>\n      <th>noise_points</th>\n    </tr>\n  </thead>\n  <tbody>\n    <tr>\n      <th>0</th>\n      <td>ESCH01-1_13.jpg</td>\n      <td>19</td>\n      <td>0.0</td>\n      <td>5</td>\n      <td>None</td>\n      <td>26</td>\n    </tr>\n    <tr>\n      <th>0</th>\n      <td>ESCH01-1_19.jpg</td>\n      <td>9</td>\n      <td>0.0</td>\n      <td>5</td>\n      <td>None</td>\n      <td>8</td>\n    </tr>\n    <tr>\n      <th>0</th>\n      <td>ESCH01-1_21.jpg</td>\n      <td>10</td>\n      <td>0.0</td>\n      <td>5</td>\n      <td>None</td>\n      <td>5</td>\n    </tr>\n    <tr>\n      <th>0</th>\n      <td>ESCH01-1_22.jpg</td>\n      <td>5</td>\n      <td>0.0</td>\n      <td>5</td>\n      <td>None</td>\n      <td>6</td>\n    </tr>\n    <tr>\n      <th>0</th>\n      <td>ESCH01-1_23.jpg</td>\n      <td>2</td>\n      <td>0.0</td>\n      <td>5</td>\n      <td>None</td>\n      <td>0</td>\n    </tr>\n    <tr>\n      <th>...</th>\n      <td>...</td>\n      <td>...</td>\n      <td>...</td>\n      <td>...</td>\n      <td>...</td>\n      <td>...</td>\n    </tr>\n    <tr>\n      <th>0</th>\n      <td>PWC01-1_61.jpg</td>\n      <td>14</td>\n      <td>0.0</td>\n      <td>5</td>\n      <td>None</td>\n      <td>36</td>\n    </tr>\n    <tr>\n      <th>0</th>\n      <td>PWC01-1_62.jpg</td>\n      <td>11</td>\n      <td>0.0</td>\n      <td>5</td>\n      <td>None</td>\n      <td>5</td>\n    </tr>\n    <tr>\n      <th>0</th>\n      <td>PWC01-4_231.jpg</td>\n      <td>3</td>\n      <td>0.0</td>\n      <td>5</td>\n      <td>None</td>\n      <td>0</td>\n    </tr>\n    <tr>\n      <th>0</th>\n      <td>PWC01-5_34.jpg</td>\n      <td>1</td>\n      <td>0.0</td>\n      <td>5</td>\n      <td>None</td>\n      <td>12</td>\n    </tr>\n    <tr>\n      <th>0</th>\n      <td>PWC03-2-1_42.jpg</td>\n      <td>4</td>\n      <td>0.0</td>\n      <td>5</td>\n      <td>None</td>\n      <td>0</td>\n    </tr>\n  </tbody>\n</table>\n<p>85 rows × 6 columns</p>\n</div>"
     },
     "execution_count": 43,
     "metadata": {},
     "output_type": "execute_result"
    }
   ],
   "source": [
    "df_hdbscan.drop([\"with_noise\", \"bic_avg\"], axis=1, inplace=True)\n",
    "df_hdbscan"
   ],
   "metadata": {
    "collapsed": false,
    "ExecuteTime": {
     "end_time": "2024-03-07T12:02:44.437121Z",
     "start_time": "2024-03-07T12:02:44.430768Z"
    }
   },
   "id": "5de6304addaca41d",
   "execution_count": 43
  },
  {
   "cell_type": "code",
   "execution_count": 44,
   "outputs": [
    {
     "data": {
      "text/plain": "351"
     },
     "execution_count": 44,
     "metadata": {},
     "output_type": "execute_result"
    }
   ],
   "source": [
    "df_comparison = df_comparison.merge(df_hdbscan, on='image_name', how='left')\n",
    "\n",
    "\n",
    "df_comparison[\"count_total\"].sum()"
   ],
   "metadata": {
    "collapsed": false,
    "ExecuteTime": {
     "end_time": "2024-03-07T12:02:44.441285Z",
     "start_time": "2024-03-07T12:02:44.437819Z"
    }
   },
   "id": "563e2747f9f8a77c"
  },
  {
   "cell_type": "code",
   "execution_count": 45,
   "id": "bd5b4be03b3480d5",
   "metadata": {
    "collapsed": false,
    "ExecuteTime": {
     "end_time": "2024-03-07T12:02:44.444626Z",
     "start_time": "2024-03-07T12:02:44.441838Z"
    }
   },
   "outputs": [
    {
     "name": "stdout",
     "output_type": "stream",
     "text": [
      "saved /Users/christian/data/zooniverse/2024_03_07_expert_goldstandard_analysis/Iguanas 3rd launch/Iguanas 3rd launch_method_comparison.csv\n"
     ]
    }
   ],
   "source": [
    "df_comparison.to_csv(config[\"comparison_dataset\"])\n",
    "print(f\"saved {config['comparison_dataset']}\")"
   ]
  },
  {
   "cell_type": "code",
   "execution_count": 46,
   "id": "146136b8ee749f9",
   "metadata": {
    "collapsed": false,
    "ExecuteTime": {
     "end_time": "2024-03-07T12:02:44.447559Z",
     "start_time": "2024-03-07T12:02:44.445306Z"
    }
   },
   "outputs": [],
   "source": [
    "df_comparison.count_total.fillna(0, inplace=True)\n",
    "df_comparison.HDBSCAN_count.fillna(0, inplace=True)\n",
    "\n",
    "mse_errors[\"hdbscan_count_rmse\"] = mean_squared_error(df_comparison.count_total, df_comparison.HDBSCAN_count, squared=False)\n"
   ]
  },
  {
   "cell_type": "markdown",
   "id": "1866104643b4427f",
   "metadata": {
    "collapsed": false
   },
   "source": [
    "# A look into the results\n",
    "Root Means Squared Error for the different methods"
   ]
  },
  {
   "cell_type": "code",
   "execution_count": 47,
   "id": "ae08d15b32fe83ec",
   "metadata": {
    "collapsed": false,
    "ExecuteTime": {
     "end_time": "2024-03-07T12:02:44.451578Z",
     "start_time": "2024-03-07T12:02:44.448178Z"
    }
   },
   "outputs": [
    {
     "data": {
      "text/plain": "                              0\nhdbscan_count_rmse     1.174440\nmean_count_rmse        1.521801\nmedian_count_rmse      1.555487\nmode_count_rmse        2.031363\ndbscan_count_sil_rmse  2.138858",
      "text/html": "<div>\n<style scoped>\n    .dataframe tbody tr th:only-of-type {\n        vertical-align: middle;\n    }\n\n    .dataframe tbody tr th {\n        vertical-align: top;\n    }\n\n    .dataframe thead th {\n        text-align: right;\n    }\n</style>\n<table border=\"1\" class=\"dataframe\">\n  <thead>\n    <tr style=\"text-align: right;\">\n      <th></th>\n      <th>0</th>\n    </tr>\n  </thead>\n  <tbody>\n    <tr>\n      <th>hdbscan_count_rmse</th>\n      <td>1.174440</td>\n    </tr>\n    <tr>\n      <th>mean_count_rmse</th>\n      <td>1.521801</td>\n    </tr>\n    <tr>\n      <th>median_count_rmse</th>\n      <td>1.555487</td>\n    </tr>\n    <tr>\n      <th>mode_count_rmse</th>\n      <td>2.031363</td>\n    </tr>\n    <tr>\n      <th>dbscan_count_sil_rmse</th>\n      <td>2.138858</td>\n    </tr>\n  </tbody>\n</table>\n</div>"
     },
     "execution_count": 47,
     "metadata": {},
     "output_type": "execute_result"
    }
   ],
   "source": [
    "df_rmse = pd.DataFrame(pd.Series(mse_errors).sort_values())\n",
    "\n",
    "df_rmse.to_csv(config[\"rmse_errors\"])\n",
    "df_rmse"
   ]
  },
  {
   "cell_type": "markdown",
   "id": "683ea0eaf795e5ff",
   "metadata": {
    "collapsed": false
   },
   "source": [
    "## The sum of the clustering\n",
    "What is the sum of the methods"
   ]
  },
  {
   "cell_type": "code",
   "execution_count": 48,
   "id": "2ae2f205858fd9c4",
   "metadata": {
    "collapsed": false,
    "ExecuteTime": {
     "end_time": "2024-03-07T12:02:44.455587Z",
     "start_time": "2024-03-07T12:02:44.452158Z"
    }
   },
   "outputs": [
    {
     "data": {
      "text/plain": "mode_count          304.00\nmedian_count        315.00\nmean_count          318.73\ndbscan_count_sil    321.00\ncount_total         351.00\nHDBSCAN_count       357.00\ndtype: float64"
     },
     "execution_count": 48,
     "metadata": {},
     "output_type": "execute_result"
    }
   ],
   "source": [
    "\n",
    "df_comparison_sum = df_comparison[[\"count_total\", \"median_count\", \"mean_count\", \"mode_count\", \"dbscan_count_sil\", \"HDBSCAN_count\"]].sum().sort_values()\n",
    "df_comparison_sum.to_csv(config[\"method_sums\"])\n",
    "df_comparison_sum"
   ]
  },
  {
   "cell_type": "code",
   "outputs": [
    {
     "name": "stdout",
     "output_type": "stream",
     "text": [
      "phase_tag: Iguanas 3rd launch, user_threshold: None\n"
     ]
    }
   ],
   "source": [
    "print(f\"phase_tag: {phase_tag}, user_threshold: {user_threshold}\")"
   ],
   "metadata": {
    "collapsed": false,
    "ExecuteTime": {
     "end_time": "2024-03-07T12:02:44.458002Z",
     "start_time": "2024-03-07T12:02:44.456285Z"
    }
   },
   "id": "35c25cb6dd0c9684",
   "execution_count": 49
  },
  {
   "cell_type": "markdown",
   "source": [
    "## Compare the numbers\n",
    "The counts are only for images which were in the dataset after filtering."
   ],
   "metadata": {
    "collapsed": false
   },
   "id": "88ca320d97a38518"
  },
  {
   "cell_type": "code",
   "outputs": [
    {
     "ename": "AssertionError",
     "evalue": "",
     "output_type": "error",
     "traceback": [
      "\u001B[0;31m---------------------------------------------------------------------------\u001B[0m",
      "\u001B[0;31mAssertionError\u001B[0m                            Traceback (most recent call last)",
      "Cell \u001B[0;32mIn[50], line 38\u001B[0m\n\u001B[1;32m     36\u001B[0m \u001B[38;5;28;01mif\u001B[39;00m user_threshold \u001B[38;5;129;01mis\u001B[39;00m \u001B[38;5;28;01mNone\u001B[39;00m:\n\u001B[1;32m     37\u001B[0m     \u001B[38;5;28;01massert\u001B[39;00m df_comparison_sum[\u001B[38;5;124m\"\u001B[39m\u001B[38;5;124mmode_count\u001B[39m\u001B[38;5;124m\"\u001B[39m] \u001B[38;5;241m==\u001B[39m \u001B[38;5;241m304\u001B[39m\n\u001B[0;32m---> 38\u001B[0m     \u001B[38;5;28;01massert\u001B[39;00m df_comparison_sum[\u001B[38;5;124m\"\u001B[39m\u001B[38;5;124mdbscan_count_sil\u001B[39m\u001B[38;5;124m\"\u001B[39m] \u001B[38;5;241m==\u001B[39m \u001B[38;5;241m309\u001B[39m\n\u001B[1;32m     39\u001B[0m     \u001B[38;5;28;01massert\u001B[39;00m df_comparison_sum[\u001B[38;5;124m\"\u001B[39m\u001B[38;5;124mmedian_count\u001B[39m\u001B[38;5;124m\"\u001B[39m] \u001B[38;5;241m==\u001B[39m \u001B[38;5;241m315\u001B[39m\n\u001B[1;32m     40\u001B[0m     \u001B[38;5;28;01massert\u001B[39;00m df_comparison_sum[\u001B[38;5;124m\"\u001B[39m\u001B[38;5;124mHDBSCAN_count\u001B[39m\u001B[38;5;124m\"\u001B[39m] \u001B[38;5;241m==\u001B[39m \u001B[38;5;241m357\u001B[39m\n",
      "\u001B[0;31mAssertionError\u001B[0m: "
     ]
    }
   ],
   "source": [
    "if phase_tag == \"Iguanas 1st launch\" and not debug:\n",
    "    if user_threshold == 3:\n",
    "        assert df_comparison_sum[\"mode_count\"] == 215\n",
    "        assert df_comparison_sum[\"dbscan_count_sil\"] == 222\n",
    "        assert df_comparison_sum[\"median_count\"] == 228.5\n",
    "        assert df_comparison_sum[\"HDBSCAN_count\"] == 244\n",
    "        assert df_comparison_sum[\"count_total\"] == 323\n",
    "    if user_threshold is None:\n",
    "        assert df_comparison_sum[\"mode_count\"] == 221\n",
    "        assert df_comparison_sum[\"dbscan_count_sil\"] == 224\n",
    "        assert df_comparison_sum[\"median_count\"] == 235.5\n",
    "        assert df_comparison_sum[\"HDBSCAN_count\"] == 247\n",
    "        assert df_comparison_sum[\"count_total\"] == 331\n",
    "        \n",
    "if phase_tag == \"Iguanas 2nd launch\" and not debug:\n",
    "    if user_threshold == 3:\n",
    "        assert df_comparison_sum[\"mode_count\"] == 502\n",
    "        assert df_comparison_sum[\"dbscan_count_sil\"] == 484\n",
    "        assert df_comparison_sum[\"median_count\"] == 475\n",
    "        assert df_comparison_sum[\"HDBSCAN_count\"] == 541\n",
    "        assert df_comparison_sum[\"count_total\"] == 586\n",
    "    if user_threshold is None:\n",
    "        assert df_comparison_sum[\"mode_count\"] == 511\n",
    "        assert df_comparison_sum[\"dbscan_count_sil\"] == 484\n",
    "        assert df_comparison_sum[\"median_count\"] == 484.5\n",
    "        assert df_comparison_sum[\"HDBSCAN_count\"] == 541.0\n",
    "        assert df_comparison_sum[\"count_total\"] == 589.0\n",
    "        \n",
    "if phase_tag == \"Iguanas 3rd launch\" and not debug:\n",
    "    if user_threshold == 3:\n",
    "        assert df_comparison_sum[\"mode_count\"] == 302\n",
    "        assert df_comparison_sum[\"dbscan_count_sil\"] == 309\n",
    "        assert df_comparison_sum[\"median_count\"] == 313\n",
    "        assert df_comparison_sum[\"HDBSCAN_count\"] == 357\n",
    "        assert df_comparison_sum[\"count_total\"] == 351\n",
    "    if user_threshold is None:\n",
    "        assert df_comparison_sum[\"mode_count\"] == 304\n",
    "        assert df_comparison_sum[\"dbscan_count_sil\"] == 309\n",
    "        assert df_comparison_sum[\"median_count\"] == 315\n",
    "        assert df_comparison_sum[\"HDBSCAN_count\"] == 357\n",
    "        assert df_comparison_sum[\"count_total\"] == 351\n"
   ],
   "metadata": {
    "collapsed": false,
    "ExecuteTime": {
     "end_time": "2024-03-07T12:02:44.670449Z",
     "start_time": "2024-03-07T12:02:44.458744Z"
    }
   },
   "id": "98b7b0fe18ed314e",
   "execution_count": 50
  },
  {
   "cell_type": "markdown",
   "id": "f194764375dc6178",
   "metadata": {
    "collapsed": false
   },
   "source": []
  },
  {
   "cell_type": "markdown",
   "source": [
    "### Sum of all the Methods"
   ],
   "metadata": {
    "collapsed": false
   },
   "id": "8f58c29117a907a4"
  },
  {
   "cell_type": "code",
   "outputs": [
    {
     "name": "stdout",
     "output_type": "stream",
     "text": [
      "Iguanas 3rd launch_method_sums.csv\n"
     ]
    },
    {
     "data": {
      "text/plain": "         Unnamed: 0       0\n0        mode_count  304.00\n1      median_count  315.00\n2        mean_count  318.73\n3  dbscan_count_sil  321.00\n4       count_total  351.00\n5     HDBSCAN_count  357.00",
      "text/html": "<div>\n<style scoped>\n    .dataframe tbody tr th:only-of-type {\n        vertical-align: middle;\n    }\n\n    .dataframe tbody tr th {\n        vertical-align: top;\n    }\n\n    .dataframe thead th {\n        text-align: right;\n    }\n</style>\n<table border=\"1\" class=\"dataframe\">\n  <thead>\n    <tr style=\"text-align: right;\">\n      <th></th>\n      <th>Unnamed: 0</th>\n      <th>0</th>\n    </tr>\n  </thead>\n  <tbody>\n    <tr>\n      <th>0</th>\n      <td>mode_count</td>\n      <td>304.00</td>\n    </tr>\n    <tr>\n      <th>1</th>\n      <td>median_count</td>\n      <td>315.00</td>\n    </tr>\n    <tr>\n      <th>2</th>\n      <td>mean_count</td>\n      <td>318.73</td>\n    </tr>\n    <tr>\n      <th>3</th>\n      <td>dbscan_count_sil</td>\n      <td>321.00</td>\n    </tr>\n    <tr>\n      <th>4</th>\n      <td>count_total</td>\n      <td>351.00</td>\n    </tr>\n    <tr>\n      <th>5</th>\n      <td>HDBSCAN_count</td>\n      <td>357.00</td>\n    </tr>\n  </tbody>\n</table>\n</div>"
     },
     "execution_count": 51,
     "metadata": {},
     "output_type": "execute_result"
    }
   ],
   "source": [
    "print(f\"{config['method_sums'].name}\")\n",
    "pd.read_csv(config[\"method_sums\"])"
   ],
   "metadata": {
    "collapsed": false,
    "ExecuteTime": {
     "end_time": "2024-03-07T12:03:05.555487Z",
     "start_time": "2024-03-07T12:03:05.549703Z"
    }
   },
   "id": "e6a0ba0c34ca129a",
   "execution_count": 51
  },
  {
   "cell_type": "markdown",
   "source": [
    "### Root Mean Squared Error"
   ],
   "metadata": {
    "collapsed": false
   },
   "id": "63ec459bb6b0ea1d"
  },
  {
   "cell_type": "code",
   "outputs": [
    {
     "name": "stdout",
     "output_type": "stream",
     "text": [
      "Iguanas 3rd launch_rmse_errors.csv\n"
     ]
    },
    {
     "data": {
      "text/plain": "              Unnamed: 0         0\n0     hdbscan_count_rmse  1.174440\n1        mean_count_rmse  1.521801\n2      median_count_rmse  1.555487\n3        mode_count_rmse  2.031363\n4  dbscan_count_sil_rmse  2.138858",
      "text/html": "<div>\n<style scoped>\n    .dataframe tbody tr th:only-of-type {\n        vertical-align: middle;\n    }\n\n    .dataframe tbody tr th {\n        vertical-align: top;\n    }\n\n    .dataframe thead th {\n        text-align: right;\n    }\n</style>\n<table border=\"1\" class=\"dataframe\">\n  <thead>\n    <tr style=\"text-align: right;\">\n      <th></th>\n      <th>Unnamed: 0</th>\n      <th>0</th>\n    </tr>\n  </thead>\n  <tbody>\n    <tr>\n      <th>0</th>\n      <td>hdbscan_count_rmse</td>\n      <td>1.174440</td>\n    </tr>\n    <tr>\n      <th>1</th>\n      <td>mean_count_rmse</td>\n      <td>1.521801</td>\n    </tr>\n    <tr>\n      <th>2</th>\n      <td>median_count_rmse</td>\n      <td>1.555487</td>\n    </tr>\n    <tr>\n      <th>3</th>\n      <td>mode_count_rmse</td>\n      <td>2.031363</td>\n    </tr>\n    <tr>\n      <th>4</th>\n      <td>dbscan_count_sil_rmse</td>\n      <td>2.138858</td>\n    </tr>\n  </tbody>\n</table>\n</div>"
     },
     "execution_count": 52,
     "metadata": {},
     "output_type": "execute_result"
    }
   ],
   "source": [
    "print(f\"{config['rmse_errors'].name}\")\n",
    "pd.read_csv(config[\"rmse_errors\"])"
   ],
   "metadata": {
    "collapsed": false,
    "ExecuteTime": {
     "end_time": "2024-03-07T12:03:06.130538Z",
     "start_time": "2024-03-07T12:03:06.122604Z"
    }
   },
   "id": "d9a6e83ec7b73319",
   "execution_count": 52
  },
  {
   "cell_type": "markdown",
   "source": [
    "### Comparison per Image Level"
   ],
   "metadata": {
    "collapsed": false
   },
   "id": "59e1a0f4ffc4dcd0"
  },
  {
   "cell_type": "code",
   "outputs": [
    {
     "name": "stdout",
     "output_type": "stream",
     "text": [
      "load /Users/christian/data/zooniverse/2024_03_07_expert_goldstandard_analysis/Iguanas 3rd launch/Iguanas 3rd launch_method_comparison.csv\n"
     ]
    },
    {
     "data": {
      "text/plain": "    Unnamed: 0        image_name  subject_id  count_total  median_count  \\\n0            0   MBN04-2_182.jpg    78926344            0           2.0   \n1            1  MBBD02-2_248.jpg    78928708            2           2.0   \n2            2   PCI01-2_111.jpg    78938221            4           3.0   \n3            3    PCI02-1_92.jpg    78938603            1           1.0   \n4            4  PCIC01-1_113.jpg    78938992            2           2.0   \n..         ...               ...         ...          ...           ...   \n82          82   GWB01-2_300.jpg    78925388            1           1.0   \n83          83   GWB01-2_421.jpg    78925457            1           1.0   \n84          84   GWB01-2_430.jpg    78925467            1           1.0   \n85          85    GWB01-3_12.jpg    78925536            1           1.0   \n86          86   GWB01-3_152.jpg    78925551            2           2.0   \n\n    mean_count  mode_count  users  sum_annotations_count  \\\n0         1.71           1      7                     12   \n1         2.12           2     17                     36   \n2         3.50           3     20                     70   \n3         1.21           1     19                     23   \n4         1.75           2      8                     14   \n..         ...         ...    ...                    ...   \n82        1.00           1      9                      9   \n83        1.11           1      9                     10   \n84        1.11           1      9                     10   \n85        1.04           1     26                     27   \n86        2.00           2     15                     30   \n\n                                    annotations_count  dbscan_count_sil  \\\n0                               [1, 1, 1, 2, 2, 2, 3]                 2   \n1   [1, 1, 2, 2, 2, 2, 2, 2, 2, 2, 2, 2, 2, 3, 3, ...                 2   \n2   [2, 2, 3, 3, 3, 3, 3, 3, 3, 3, 3, 4, 4, 4, 4, ...                 5   \n3   [1, 1, 1, 1, 1, 1, 1, 1, 1, 1, 1, 1, 1, 1, 1, ...                 2   \n4                            [1, 1, 1, 2, 2, 2, 2, 3]                 2   \n..                                                ...               ...   \n82                        [1, 1, 1, 1, 1, 1, 1, 1, 1]                 0   \n83                        [1, 1, 1, 1, 1, 1, 1, 1, 2]                 1   \n84                        [1, 1, 1, 1, 1, 1, 1, 1, 2]                 1   \n85  [1, 1, 1, 1, 1, 1, 1, 1, 1, 1, 1, 1, 1, 1, 1, ...                 2   \n86      [1, 1, 1, 1, 2, 2, 2, 2, 2, 2, 2, 2, 2, 2, 6]                 2   \n\n    HDBSCAN_count  eps  min_cluster_size  max_cluster_size  noise_points  \n0             2.0  0.0               5.0               NaN           0.0  \n1             2.0  0.0               5.0               NaN           0.0  \n2             4.0  0.0               5.0               NaN           6.0  \n3             1.0  0.0               5.0               NaN          12.0  \n4             2.0  0.0               5.0               NaN           0.0  \n..            ...  ...               ...               ...           ...  \n82            1.0  0.0               5.0               NaN           3.0  \n83            1.0  0.0               5.0               NaN           5.0  \n84            1.0  0.0               5.0               NaN           5.0  \n85            1.0  0.0               5.0               NaN          14.0  \n86            2.0  0.0               5.0               NaN           7.0  \n\n[87 rows x 16 columns]",
      "text/html": "<div>\n<style scoped>\n    .dataframe tbody tr th:only-of-type {\n        vertical-align: middle;\n    }\n\n    .dataframe tbody tr th {\n        vertical-align: top;\n    }\n\n    .dataframe thead th {\n        text-align: right;\n    }\n</style>\n<table border=\"1\" class=\"dataframe\">\n  <thead>\n    <tr style=\"text-align: right;\">\n      <th></th>\n      <th>Unnamed: 0</th>\n      <th>image_name</th>\n      <th>subject_id</th>\n      <th>count_total</th>\n      <th>median_count</th>\n      <th>mean_count</th>\n      <th>mode_count</th>\n      <th>users</th>\n      <th>sum_annotations_count</th>\n      <th>annotations_count</th>\n      <th>dbscan_count_sil</th>\n      <th>HDBSCAN_count</th>\n      <th>eps</th>\n      <th>min_cluster_size</th>\n      <th>max_cluster_size</th>\n      <th>noise_points</th>\n    </tr>\n  </thead>\n  <tbody>\n    <tr>\n      <th>0</th>\n      <td>0</td>\n      <td>MBN04-2_182.jpg</td>\n      <td>78926344</td>\n      <td>0</td>\n      <td>2.0</td>\n      <td>1.71</td>\n      <td>1</td>\n      <td>7</td>\n      <td>12</td>\n      <td>[1, 1, 1, 2, 2, 2, 3]</td>\n      <td>2</td>\n      <td>2.0</td>\n      <td>0.0</td>\n      <td>5.0</td>\n      <td>NaN</td>\n      <td>0.0</td>\n    </tr>\n    <tr>\n      <th>1</th>\n      <td>1</td>\n      <td>MBBD02-2_248.jpg</td>\n      <td>78928708</td>\n      <td>2</td>\n      <td>2.0</td>\n      <td>2.12</td>\n      <td>2</td>\n      <td>17</td>\n      <td>36</td>\n      <td>[1, 1, 2, 2, 2, 2, 2, 2, 2, 2, 2, 2, 2, 3, 3, ...</td>\n      <td>2</td>\n      <td>2.0</td>\n      <td>0.0</td>\n      <td>5.0</td>\n      <td>NaN</td>\n      <td>0.0</td>\n    </tr>\n    <tr>\n      <th>2</th>\n      <td>2</td>\n      <td>PCI01-2_111.jpg</td>\n      <td>78938221</td>\n      <td>4</td>\n      <td>3.0</td>\n      <td>3.50</td>\n      <td>3</td>\n      <td>20</td>\n      <td>70</td>\n      <td>[2, 2, 3, 3, 3, 3, 3, 3, 3, 3, 3, 4, 4, 4, 4, ...</td>\n      <td>5</td>\n      <td>4.0</td>\n      <td>0.0</td>\n      <td>5.0</td>\n      <td>NaN</td>\n      <td>6.0</td>\n    </tr>\n    <tr>\n      <th>3</th>\n      <td>3</td>\n      <td>PCI02-1_92.jpg</td>\n      <td>78938603</td>\n      <td>1</td>\n      <td>1.0</td>\n      <td>1.21</td>\n      <td>1</td>\n      <td>19</td>\n      <td>23</td>\n      <td>[1, 1, 1, 1, 1, 1, 1, 1, 1, 1, 1, 1, 1, 1, 1, ...</td>\n      <td>2</td>\n      <td>1.0</td>\n      <td>0.0</td>\n      <td>5.0</td>\n      <td>NaN</td>\n      <td>12.0</td>\n    </tr>\n    <tr>\n      <th>4</th>\n      <td>4</td>\n      <td>PCIC01-1_113.jpg</td>\n      <td>78938992</td>\n      <td>2</td>\n      <td>2.0</td>\n      <td>1.75</td>\n      <td>2</td>\n      <td>8</td>\n      <td>14</td>\n      <td>[1, 1, 1, 2, 2, 2, 2, 3]</td>\n      <td>2</td>\n      <td>2.0</td>\n      <td>0.0</td>\n      <td>5.0</td>\n      <td>NaN</td>\n      <td>0.0</td>\n    </tr>\n    <tr>\n      <th>...</th>\n      <td>...</td>\n      <td>...</td>\n      <td>...</td>\n      <td>...</td>\n      <td>...</td>\n      <td>...</td>\n      <td>...</td>\n      <td>...</td>\n      <td>...</td>\n      <td>...</td>\n      <td>...</td>\n      <td>...</td>\n      <td>...</td>\n      <td>...</td>\n      <td>...</td>\n      <td>...</td>\n    </tr>\n    <tr>\n      <th>82</th>\n      <td>82</td>\n      <td>GWB01-2_300.jpg</td>\n      <td>78925388</td>\n      <td>1</td>\n      <td>1.0</td>\n      <td>1.00</td>\n      <td>1</td>\n      <td>9</td>\n      <td>9</td>\n      <td>[1, 1, 1, 1, 1, 1, 1, 1, 1]</td>\n      <td>0</td>\n      <td>1.0</td>\n      <td>0.0</td>\n      <td>5.0</td>\n      <td>NaN</td>\n      <td>3.0</td>\n    </tr>\n    <tr>\n      <th>83</th>\n      <td>83</td>\n      <td>GWB01-2_421.jpg</td>\n      <td>78925457</td>\n      <td>1</td>\n      <td>1.0</td>\n      <td>1.11</td>\n      <td>1</td>\n      <td>9</td>\n      <td>10</td>\n      <td>[1, 1, 1, 1, 1, 1, 1, 1, 2]</td>\n      <td>1</td>\n      <td>1.0</td>\n      <td>0.0</td>\n      <td>5.0</td>\n      <td>NaN</td>\n      <td>5.0</td>\n    </tr>\n    <tr>\n      <th>84</th>\n      <td>84</td>\n      <td>GWB01-2_430.jpg</td>\n      <td>78925467</td>\n      <td>1</td>\n      <td>1.0</td>\n      <td>1.11</td>\n      <td>1</td>\n      <td>9</td>\n      <td>10</td>\n      <td>[1, 1, 1, 1, 1, 1, 1, 1, 2]</td>\n      <td>1</td>\n      <td>1.0</td>\n      <td>0.0</td>\n      <td>5.0</td>\n      <td>NaN</td>\n      <td>5.0</td>\n    </tr>\n    <tr>\n      <th>85</th>\n      <td>85</td>\n      <td>GWB01-3_12.jpg</td>\n      <td>78925536</td>\n      <td>1</td>\n      <td>1.0</td>\n      <td>1.04</td>\n      <td>1</td>\n      <td>26</td>\n      <td>27</td>\n      <td>[1, 1, 1, 1, 1, 1, 1, 1, 1, 1, 1, 1, 1, 1, 1, ...</td>\n      <td>2</td>\n      <td>1.0</td>\n      <td>0.0</td>\n      <td>5.0</td>\n      <td>NaN</td>\n      <td>14.0</td>\n    </tr>\n    <tr>\n      <th>86</th>\n      <td>86</td>\n      <td>GWB01-3_152.jpg</td>\n      <td>78925551</td>\n      <td>2</td>\n      <td>2.0</td>\n      <td>2.00</td>\n      <td>2</td>\n      <td>15</td>\n      <td>30</td>\n      <td>[1, 1, 1, 1, 2, 2, 2, 2, 2, 2, 2, 2, 2, 2, 6]</td>\n      <td>2</td>\n      <td>2.0</td>\n      <td>0.0</td>\n      <td>5.0</td>\n      <td>NaN</td>\n      <td>7.0</td>\n    </tr>\n  </tbody>\n</table>\n<p>87 rows × 16 columns</p>\n</div>"
     },
     "execution_count": 53,
     "metadata": {},
     "output_type": "execute_result"
    }
   ],
   "source": [
    "print(f\"load {config['comparison_dataset']}\")\n",
    "pd.read_csv(config[\"comparison_dataset\"])"
   ],
   "metadata": {
    "collapsed": false,
    "ExecuteTime": {
     "end_time": "2024-03-07T12:03:07.301429Z",
     "start_time": "2024-03-07T12:03:07.290723Z"
    }
   },
   "id": "b63a639e877e8b4a",
   "execution_count": 53
  },
  {
   "cell_type": "markdown",
   "id": "34f5d0fc72193f65",
   "metadata": {
    "collapsed": false
   },
   "source": [
    "## Discussion:\n",
    "Clustering works, it yields better numbers than just taking mode,median or mean annotations from the volunteers, because it takes the spatial location of the marker dots into consideration.\n",
    "\n"
   ]
  },
  {
   "cell_type": "code",
   "outputs": [],
   "source": [],
   "metadata": {
    "collapsed": false
   },
   "id": "5670dfe85d418540",
   "execution_count": null
  },
  {
   "cell_type": "code",
   "outputs": [],
   "source": [],
   "metadata": {
    "collapsed": false
   },
   "id": "3bf3dcbb1ea03e18"
  }
 ],
 "metadata": {
  "kernelspec": {
   "display_name": "Python 3 (ipykernel)",
   "language": "python",
   "name": "python3"
  },
  "language_info": {
   "codemirror_mode": {
    "name": "ipython",
    "version": 3
   },
   "file_extension": ".py",
   "mimetype": "text/x-python",
   "name": "python",
   "nbconvert_exporter": "python",
   "pygments_lexer": "ipython3",
   "version": "3.10.13"
  }
 },
 "nbformat": 4,
 "nbformat_minor": 5
}
